{
 "cells": [
  {
   "attachments": {},
   "cell_type": "markdown",
   "metadata": {},
   "source": [
    "# Process Carraro et al."
   ]
  },
  {
   "attachments": {},
   "cell_type": "markdown",
   "metadata": {},
   "source": [
    "Note: This one has brutal batch effect (by lab)"
   ]
  },
  {
   "attachments": {},
   "cell_type": "markdown",
   "metadata": {},
   "source": [
    "## Set up Env"
   ]
  },
  {
   "cell_type": "code",
   "execution_count": 1,
   "metadata": {},
   "outputs": [],
   "source": [
    "import os\n",
    "import pandas as pd\n",
    "import numpy as np\n",
    "import scanpy as sc\n",
    "from scipy.sparse import csr_matrix"
   ]
  },
  {
   "cell_type": "code",
   "execution_count": 2,
   "metadata": {},
   "outputs": [],
   "source": [
    "import liana as li"
   ]
  },
  {
   "cell_type": "code",
   "execution_count": 3,
   "metadata": {},
   "outputs": [],
   "source": [
    "from prep_utils import filter_samples, filter_celltypes"
   ]
  },
  {
   "cell_type": "code",
   "execution_count": 4,
   "metadata": {},
   "outputs": [],
   "source": [
    "dataset = 'carraro'\n",
    "groupby = 'major'\n",
    "sample_key = 'orig.ident'\n",
    "condition_key = 'type'\n",
    "batch_key = 'lab'\n",
    "\n",
    "min_cells_per_sample = 700\n",
    "sample_zcounts_max = 3\n",
    "sample_zcounts_min = -2\n",
    "\n",
    "# set filtering parameters\n",
    "min_cells = 10 # min number of cells per cell type\n",
    "min_samples = 5 # min number of samples that pass the threshold per cell type"
   ]
  },
  {
   "cell_type": "code",
   "execution_count": null,
   "metadata": {},
   "outputs": [],
   "source": []
  },
  {
   "attachments": {},
   "cell_type": "markdown",
   "metadata": {},
   "source": [
    "## Preprocess"
   ]
  },
  {
   "attachments": {},
   "cell_type": "markdown",
   "metadata": {},
   "source": [
    "### Load data"
   ]
  },
  {
   "cell_type": "code",
   "execution_count": null,
   "metadata": {},
   "outputs": [],
   "source": [
    "adata = sc.read_h5ad(os.path.join('data', f\"{dataset}.h5ad\"))\n",
    "adata"
   ]
  },
  {
   "cell_type": "code",
   "execution_count": null,
   "metadata": {},
   "outputs": [],
   "source": [
    "adata.obs[[sample_key, condition_key]].drop_duplicates().nunique()"
   ]
  },
  {
   "cell_type": "code",
   "execution_count": null,
   "metadata": {},
   "outputs": [],
   "source": []
  },
  {
   "attachments": {},
   "cell_type": "markdown",
   "metadata": {},
   "source": [
    "Filter samples, cell types, and genes"
   ]
  },
  {
   "cell_type": "code",
   "execution_count": null,
   "metadata": {},
   "outputs": [],
   "source": [
    "adata = filter_samples(adata, sample_key, condition_key, min_cells_per_sample, sample_zcounts_max, sample_zcounts_min)"
   ]
  },
  {
   "cell_type": "code",
   "execution_count": null,
   "metadata": {},
   "outputs": [],
   "source": [
    "adata = filter_celltypes(adata=adata, groupby=groupby, sample_key=sample_key, min_cells=min_cells, min_samples=min_samples)"
   ]
  },
  {
   "cell_type": "code",
   "execution_count": null,
   "metadata": {},
   "outputs": [],
   "source": [
    "# Remove genes expressed in few cells, normalize\n",
    "sc.pp.filter_genes(adata, min_cells=30)\n",
    "adata"
   ]
  },
  {
   "cell_type": "code",
   "execution_count": null,
   "metadata": {},
   "outputs": [],
   "source": []
  },
  {
   "cell_type": "code",
   "execution_count": null,
   "metadata": {},
   "outputs": [],
   "source": [
    "# adata.X = sc.pp.combat(adata, key=batch_key)"
   ]
  },
  {
   "cell_type": "code",
   "execution_count": null,
   "metadata": {},
   "outputs": [],
   "source": []
  },
  {
   "attachments": {},
   "cell_type": "markdown",
   "metadata": {},
   "source": [
    "### Normalize"
   ]
  },
  {
   "cell_type": "code",
   "execution_count": null,
   "metadata": {},
   "outputs": [],
   "source": [
    "sc.pp.normalize_total(adata, target_sum=1e4)\n",
    "sc.pp.log1p(adata)"
   ]
  },
  {
   "cell_type": "code",
   "execution_count": null,
   "metadata": {},
   "outputs": [],
   "source": []
  },
  {
   "attachments": {},
   "cell_type": "markdown",
   "metadata": {},
   "source": [
    "## Run LIANA"
   ]
  },
  {
   "cell_type": "code",
   "execution_count": null,
   "metadata": {},
   "outputs": [],
   "source": [
    "li.mt.rank_aggregate.by_sample(adata, groupby=groupby, use_raw=False, sample_key=sample_key, verbose=True, n_perms=None)"
   ]
  },
  {
   "cell_type": "code",
   "execution_count": null,
   "metadata": {},
   "outputs": [],
   "source": []
  },
  {
   "attachments": {},
   "cell_type": "markdown",
   "metadata": {},
   "source": [
    "### Add Metadata & Write"
   ]
  },
  {
   "cell_type": "code",
   "execution_count": null,
   "metadata": {},
   "outputs": [],
   "source": [
    "adata.uns['sample_key'] = sample_key\n",
    "adata.uns['batch_key'] = batch_key\n",
    "adata.uns['condition_key'] = condition_key"
   ]
  },
  {
   "cell_type": "code",
   "execution_count": null,
   "metadata": {},
   "outputs": [],
   "source": [
    "assert np.isin(['sample_key', 'batch_key', 'condition_key'], adata.uns_keys()).all()"
   ]
  },
  {
   "cell_type": "code",
   "execution_count": null,
   "metadata": {},
   "outputs": [],
   "source": [
    "adata.write_h5ad(os.path.join('data', 'interim', f\"{dataset}_processed.h5ad\"))"
   ]
  },
  {
   "cell_type": "code",
   "execution_count": null,
   "metadata": {},
   "outputs": [],
   "source": []
  },
  {
   "attachments": {},
   "cell_type": "markdown",
   "metadata": {},
   "source": [
    "## Classify"
   ]
  },
  {
   "cell_type": "code",
   "execution_count": 5,
   "metadata": {},
   "outputs": [
    {
     "name": "stderr",
     "output_type": "stream",
     "text": [
      "/home/dbdimitrov/anaconda3/envs/spiana/lib/python3.10/site-packages/tqdm/auto.py:21: TqdmWarning: IProgress not found. Please update jupyter and ipywidgets. See https://ipywidgets.readthedocs.io/en/stable/user_install.html\n"
     ]
    }
   ],
   "source": [
    "import scanpy as sc\n",
    "from classify_utils import dim_reduction_pipe"
   ]
  },
  {
   "cell_type": "code",
   "execution_count": 6,
   "metadata": {},
   "outputs": [],
   "source": [
    "adata = sc.read_h5ad(os.path.join('data', 'interim', f\"{dataset}_processed.h5ad\"), backed='r')"
   ]
  },
  {
   "cell_type": "code",
   "execution_count": 7,
   "metadata": {},
   "outputs": [
    {
     "name": "stdout",
     "output_type": "stream",
     "text": [
      "Creating views with: lr_means\n"
     ]
    },
    {
     "name": "stderr",
     "output_type": "stream",
     "text": [
      "100%|██████████| 16/16 [00:00<00:00, 237.82it/s]\n"
     ]
    },
    {
     "name": "stdout",
     "output_type": "stream",
     "text": [
      "\n",
      "        #########################################################\n",
      "        ###           __  __  ____  ______                    ### \n",
      "        ###          |  \\/  |/ __ \\|  ____/\\    _             ### \n",
      "        ###          | \\  / | |  | | |__ /  \\ _| |_           ### \n",
      "        ###          | |\\/| | |  | |  __/ /\\ \\_   _|          ###\n",
      "        ###          | |  | | |__| | | / ____ \\|_|            ###\n",
      "        ###          |_|  |_|\\____/|_|/_/    \\_\\              ###\n",
      "        ###                                                   ### \n",
      "        ######################################################### \n",
      "       \n",
      " \n",
      "        \n",
      "Loaded view='Secretory&Ciliated' group='group1' with N=22 samples and D=129 features...\n",
      "Loaded view='Secretory&Secretory' group='group1' with N=22 samples and D=158 features...\n",
      "Loaded view='Secretory&Basal' group='group1' with N=22 samples and D=177 features...\n",
      "Loaded view='Basal&Basal' group='group1' with N=22 samples and D=258 features...\n",
      "Loaded view='Basal&Secretory' group='group1' with N=22 samples and D=198 features...\n",
      "Loaded view='Ciliated&Ciliated' group='group1' with N=22 samples and D=104 features...\n",
      "Loaded view='Ciliated&Secretory' group='group1' with N=22 samples and D=121 features...\n",
      "Loaded view='Basal&Ciliated' group='group1' with N=22 samples and D=161 features...\n",
      "Loaded view='Ciliated&Basal' group='group1' with N=22 samples and D=137 features...\n",
      "Loaded view='FOXN4+&FOXN4+' group='group1' with N=22 samples and D=29 features...\n",
      "Loaded view='Ciliated&FOXN4+' group='group1' with N=22 samples and D=15 features...\n",
      "Loaded view='Secretory&FOXN4+' group='group1' with N=22 samples and D=28 features...\n",
      "Loaded view='FOXN4+&Basal' group='group1' with N=22 samples and D=16 features...\n",
      "Loaded view='FOXN4+&Secretory' group='group1' with N=22 samples and D=18 features...\n",
      "\n",
      "\n",
      "Model options:\n",
      "- Automatic Relevance Determination prior on the factors: True\n",
      "- Automatic Relevance Determination prior on the weights: True\n",
      "- Spike-and-slab prior on the factors: False\n",
      "- Spike-and-slab prior on the weights: True\n",
      "Likelihoods:\n",
      "- View 0 (Secretory&Ciliated): gaussian\n",
      "- View 1 (Secretory&Secretory): gaussian\n",
      "- View 2 (Secretory&Basal): gaussian\n",
      "- View 3 (Basal&Basal): gaussian\n",
      "- View 4 (Basal&Secretory): gaussian\n",
      "- View 5 (Ciliated&Ciliated): gaussian\n",
      "- View 6 (Ciliated&Secretory): gaussian\n",
      "- View 7 (Basal&Ciliated): gaussian\n",
      "- View 8 (Ciliated&Basal): gaussian\n",
      "- View 9 (FOXN4+&FOXN4+): gaussian\n",
      "- View 10 (Ciliated&FOXN4+): gaussian\n",
      "- View 11 (Secretory&FOXN4+): gaussian\n",
      "- View 12 (FOXN4+&Basal): gaussian\n",
      "- View 13 (FOXN4+&Secretory): gaussian\n",
      "\n",
      "\n",
      "\n",
      "\n",
      "######################################\n",
      "## Training the model with seed 1337 ##\n",
      "######################################\n",
      "\n",
      "\n",
      "\n",
      "Converged!\n",
      "\n",
      "\n",
      "\n",
      "#######################\n",
      "## Training finished ##\n",
      "#######################\n",
      "\n",
      "\n",
      "Saving model in /tmp/mofa_20230425-114747.hdf5...\n",
      "Saved MOFA embeddings in .obsm['X_mofa'] slot and their loadings in .varm['LFs'].\n"
     ]
    },
    {
     "name": "stderr",
     "output_type": "stream",
     "text": [
      "100%|██████████| 22/22 [00:15<00:00,  1.47it/s]\n"
     ]
    },
    {
     "name": "stdout",
     "output_type": "stream",
     "text": [
      "Device is either not available or the backend used with tensorly does not support this device.                   Try changing it with tensorly.set_backend(\"<backend_name>\") before.\n",
      "Running Tensor Factorization\n",
      "Creating views with: expr_prod\n"
     ]
    },
    {
     "name": "stderr",
     "output_type": "stream",
     "text": [
      "100%|██████████| 16/16 [00:00<00:00, 253.30it/s]"
     ]
    },
    {
     "name": "stdout",
     "output_type": "stream",
     "text": [
      "\n",
      "        #########################################################\n",
      "        ###           __  __  ____  ______                    ### \n",
      "        ###          |  \\/  |/ __ \\|  ____/\\    _             ### \n",
      "        ###          | \\  / | |  | | |__ /  \\ _| |_           ### \n",
      "        ###          | |\\/| | |  | |  __/ /\\ \\_   _|          ###\n",
      "        ###          | |  | | |__| | | / ____ \\|_|            ###\n",
      "        ###          |_|  |_|\\____/|_|/_/    \\_\\              ###\n",
      "        ###                                                   ### \n",
      "        ######################################################### \n",
      "       \n",
      " \n",
      "        \n"
     ]
    },
    {
     "name": "stderr",
     "output_type": "stream",
     "text": [
      "\n"
     ]
    },
    {
     "name": "stdout",
     "output_type": "stream",
     "text": [
      "Loaded view='Secretory&Ciliated' group='group1' with N=22 samples and D=129 features...\n",
      "Loaded view='Secretory&Secretory' group='group1' with N=22 samples and D=158 features...\n",
      "Loaded view='Secretory&Basal' group='group1' with N=22 samples and D=177 features...\n",
      "Loaded view='Basal&Basal' group='group1' with N=22 samples and D=258 features...\n",
      "Loaded view='Basal&Secretory' group='group1' with N=22 samples and D=198 features...\n",
      "Loaded view='Ciliated&Ciliated' group='group1' with N=22 samples and D=104 features...\n",
      "Loaded view='Ciliated&Secretory' group='group1' with N=22 samples and D=121 features...\n",
      "Loaded view='Basal&Ciliated' group='group1' with N=22 samples and D=161 features...\n",
      "Loaded view='Ciliated&Basal' group='group1' with N=22 samples and D=137 features...\n",
      "Loaded view='FOXN4+&FOXN4+' group='group1' with N=22 samples and D=29 features...\n",
      "Loaded view='Ciliated&FOXN4+' group='group1' with N=22 samples and D=15 features...\n",
      "Loaded view='Secretory&FOXN4+' group='group1' with N=22 samples and D=28 features...\n",
      "Loaded view='FOXN4+&Basal' group='group1' with N=22 samples and D=16 features...\n",
      "Loaded view='FOXN4+&Secretory' group='group1' with N=22 samples and D=18 features...\n",
      "\n",
      "\n",
      "Model options:\n",
      "- Automatic Relevance Determination prior on the factors: True\n",
      "- Automatic Relevance Determination prior on the weights: True\n",
      "- Spike-and-slab prior on the factors: False\n",
      "- Spike-and-slab prior on the weights: True\n",
      "Likelihoods:\n",
      "- View 0 (Secretory&Ciliated): gaussian\n",
      "- View 1 (Secretory&Secretory): gaussian\n",
      "- View 2 (Secretory&Basal): gaussian\n",
      "- View 3 (Basal&Basal): gaussian\n",
      "- View 4 (Basal&Secretory): gaussian\n",
      "- View 5 (Ciliated&Ciliated): gaussian\n",
      "- View 6 (Ciliated&Secretory): gaussian\n",
      "- View 7 (Basal&Ciliated): gaussian\n",
      "- View 8 (Ciliated&Basal): gaussian\n",
      "- View 9 (FOXN4+&FOXN4+): gaussian\n",
      "- View 10 (Ciliated&FOXN4+): gaussian\n",
      "- View 11 (Secretory&FOXN4+): gaussian\n",
      "- View 12 (FOXN4+&Basal): gaussian\n",
      "- View 13 (FOXN4+&Secretory): gaussian\n",
      "\n",
      "\n",
      "\n",
      "\n",
      "######################################\n",
      "## Training the model with seed 1337 ##\n",
      "######################################\n",
      "\n",
      "\n",
      "\n",
      "Converged!\n",
      "\n",
      "\n",
      "\n",
      "#######################\n",
      "## Training finished ##\n",
      "#######################\n",
      "\n",
      "\n",
      "Saving model in /tmp/mofa_20230425-114809.hdf5...\n",
      "Saved MOFA embeddings in .obsm['X_mofa'] slot and their loadings in .varm['LFs'].\n"
     ]
    },
    {
     "name": "stderr",
     "output_type": "stream",
     "text": [
      "100%|██████████| 22/22 [00:14<00:00,  1.50it/s]\n"
     ]
    },
    {
     "name": "stdout",
     "output_type": "stream",
     "text": [
      "Device is either not available or the backend used with tensorly does not support this device.                   Try changing it with tensorly.set_backend(\"<backend_name>\") before.\n",
      "Running Tensor Factorization\n",
      "Creating views with: lr_logfc\n"
     ]
    },
    {
     "name": "stderr",
     "output_type": "stream",
     "text": [
      "100%|██████████| 16/16 [00:00<00:00, 231.27it/s]\n"
     ]
    },
    {
     "name": "stdout",
     "output_type": "stream",
     "text": [
      "\n",
      "        #########################################################\n",
      "        ###           __  __  ____  ______                    ### \n",
      "        ###          |  \\/  |/ __ \\|  ____/\\    _             ### \n",
      "        ###          | \\  / | |  | | |__ /  \\ _| |_           ### \n",
      "        ###          | |\\/| | |  | |  __/ /\\ \\_   _|          ###\n",
      "        ###          | |  | | |__| | | / ____ \\|_|            ###\n",
      "        ###          |_|  |_|\\____/|_|/_/    \\_\\              ###\n",
      "        ###                                                   ### \n",
      "        ######################################################### \n",
      "       \n",
      " \n",
      "        \n",
      "Loaded view='Secretory&Ciliated' group='group1' with N=22 samples and D=129 features...\n",
      "Loaded view='Secretory&Secretory' group='group1' with N=22 samples and D=158 features...\n",
      "Loaded view='Secretory&Basal' group='group1' with N=22 samples and D=177 features...\n",
      "Loaded view='Basal&Basal' group='group1' with N=22 samples and D=258 features...\n",
      "Loaded view='Basal&Secretory' group='group1' with N=22 samples and D=198 features...\n",
      "Loaded view='Ciliated&Ciliated' group='group1' with N=22 samples and D=104 features...\n",
      "Loaded view='Ciliated&Secretory' group='group1' with N=22 samples and D=121 features...\n",
      "Loaded view='Basal&Ciliated' group='group1' with N=22 samples and D=161 features...\n",
      "Loaded view='Ciliated&Basal' group='group1' with N=22 samples and D=137 features...\n",
      "Loaded view='FOXN4+&FOXN4+' group='group1' with N=22 samples and D=29 features...\n",
      "Loaded view='Ciliated&FOXN4+' group='group1' with N=22 samples and D=15 features...\n",
      "Loaded view='Secretory&FOXN4+' group='group1' with N=22 samples and D=28 features...\n",
      "Loaded view='FOXN4+&Basal' group='group1' with N=22 samples and D=16 features...\n",
      "Loaded view='FOXN4+&Secretory' group='group1' with N=22 samples and D=18 features...\n",
      "\n",
      "\n",
      "Model options:\n",
      "- Automatic Relevance Determination prior on the factors: True\n",
      "- Automatic Relevance Determination prior on the weights: True\n",
      "- Spike-and-slab prior on the factors: False\n",
      "- Spike-and-slab prior on the weights: True\n",
      "Likelihoods:\n",
      "- View 0 (Secretory&Ciliated): gaussian\n",
      "- View 1 (Secretory&Secretory): gaussian\n",
      "- View 2 (Secretory&Basal): gaussian\n",
      "- View 3 (Basal&Basal): gaussian\n",
      "- View 4 (Basal&Secretory): gaussian\n",
      "- View 5 (Ciliated&Ciliated): gaussian\n",
      "- View 6 (Ciliated&Secretory): gaussian\n",
      "- View 7 (Basal&Ciliated): gaussian\n",
      "- View 8 (Ciliated&Basal): gaussian\n",
      "- View 9 (FOXN4+&FOXN4+): gaussian\n",
      "- View 10 (Ciliated&FOXN4+): gaussian\n",
      "- View 11 (Secretory&FOXN4+): gaussian\n",
      "- View 12 (FOXN4+&Basal): gaussian\n",
      "- View 13 (FOXN4+&Secretory): gaussian\n",
      "\n",
      "\n",
      "\n",
      "\n",
      "######################################\n",
      "## Training the model with seed 1337 ##\n",
      "######################################\n",
      "\n",
      "\n",
      "\n",
      "Converged!\n",
      "\n",
      "\n",
      "\n",
      "#######################\n",
      "## Training finished ##\n",
      "#######################\n",
      "\n",
      "\n",
      "Saving model in /tmp/mofa_20230425-114831.hdf5...\n",
      "Saved MOFA embeddings in .obsm['X_mofa'] slot and their loadings in .varm['LFs'].\n"
     ]
    },
    {
     "name": "stderr",
     "output_type": "stream",
     "text": [
      "100%|██████████| 22/22 [00:14<00:00,  1.49it/s]\n"
     ]
    },
    {
     "name": "stdout",
     "output_type": "stream",
     "text": [
      "Device is either not available or the backend used with tensorly does not support this device.                   Try changing it with tensorly.set_backend(\"<backend_name>\") before.\n",
      "Running Tensor Factorization\n",
      "Creating views with: expr_prod\n"
     ]
    },
    {
     "name": "stderr",
     "output_type": "stream",
     "text": [
      "100%|██████████| 16/16 [00:00<00:00, 248.44it/s]\n"
     ]
    },
    {
     "name": "stdout",
     "output_type": "stream",
     "text": [
      "\n",
      "        #########################################################\n",
      "        ###           __  __  ____  ______                    ### \n",
      "        ###          |  \\/  |/ __ \\|  ____/\\    _             ### \n",
      "        ###          | \\  / | |  | | |__ /  \\ _| |_           ### \n",
      "        ###          | |\\/| | |  | |  __/ /\\ \\_   _|          ###\n",
      "        ###          | |  | | |__| | | / ____ \\|_|            ###\n",
      "        ###          |_|  |_|\\____/|_|/_/    \\_\\              ###\n",
      "        ###                                                   ### \n",
      "        ######################################################### \n",
      "       \n",
      " \n",
      "        \n",
      "Loaded view='Secretory&Ciliated' group='group1' with N=22 samples and D=129 features...\n",
      "Loaded view='Secretory&Secretory' group='group1' with N=22 samples and D=158 features...\n",
      "Loaded view='Secretory&Basal' group='group1' with N=22 samples and D=177 features...\n",
      "Loaded view='Basal&Basal' group='group1' with N=22 samples and D=258 features...\n",
      "Loaded view='Basal&Secretory' group='group1' with N=22 samples and D=198 features...\n",
      "Loaded view='Ciliated&Ciliated' group='group1' with N=22 samples and D=104 features...\n",
      "Loaded view='Ciliated&Secretory' group='group1' with N=22 samples and D=121 features...\n",
      "Loaded view='Basal&Ciliated' group='group1' with N=22 samples and D=161 features...\n",
      "Loaded view='Ciliated&Basal' group='group1' with N=22 samples and D=137 features...\n",
      "Loaded view='FOXN4+&FOXN4+' group='group1' with N=22 samples and D=29 features...\n",
      "Loaded view='Ciliated&FOXN4+' group='group1' with N=22 samples and D=15 features...\n",
      "Loaded view='Secretory&FOXN4+' group='group1' with N=22 samples and D=28 features...\n",
      "Loaded view='FOXN4+&Basal' group='group1' with N=22 samples and D=16 features...\n",
      "Loaded view='FOXN4+&Secretory' group='group1' with N=22 samples and D=18 features...\n",
      "\n",
      "\n",
      "Model options:\n",
      "- Automatic Relevance Determination prior on the factors: True\n",
      "- Automatic Relevance Determination prior on the weights: True\n",
      "- Spike-and-slab prior on the factors: False\n",
      "- Spike-and-slab prior on the weights: True\n",
      "Likelihoods:\n",
      "- View 0 (Secretory&Ciliated): gaussian\n",
      "- View 1 (Secretory&Secretory): gaussian\n",
      "- View 2 (Secretory&Basal): gaussian\n",
      "- View 3 (Basal&Basal): gaussian\n",
      "- View 4 (Basal&Secretory): gaussian\n",
      "- View 5 (Ciliated&Ciliated): gaussian\n",
      "- View 6 (Ciliated&Secretory): gaussian\n",
      "- View 7 (Basal&Ciliated): gaussian\n",
      "- View 8 (Ciliated&Basal): gaussian\n",
      "- View 9 (FOXN4+&FOXN4+): gaussian\n",
      "- View 10 (Ciliated&FOXN4+): gaussian\n",
      "- View 11 (Secretory&FOXN4+): gaussian\n",
      "- View 12 (FOXN4+&Basal): gaussian\n",
      "- View 13 (FOXN4+&Secretory): gaussian\n",
      "\n",
      "\n",
      "\n",
      "\n",
      "######################################\n",
      "## Training the model with seed 1337 ##\n",
      "######################################\n",
      "\n",
      "\n",
      "\n",
      "Converged!\n",
      "\n",
      "\n",
      "\n",
      "#######################\n",
      "## Training finished ##\n",
      "#######################\n",
      "\n",
      "\n",
      "Saving model in /tmp/mofa_20230425-114855.hdf5...\n",
      "Saved MOFA embeddings in .obsm['X_mofa'] slot and their loadings in .varm['LFs'].\n"
     ]
    },
    {
     "name": "stderr",
     "output_type": "stream",
     "text": [
      "100%|██████████| 22/22 [00:14<00:00,  1.49it/s]\n"
     ]
    },
    {
     "name": "stdout",
     "output_type": "stream",
     "text": [
      "Device is either not available or the backend used with tensorly does not support this device.                   Try changing it with tensorly.set_backend(\"<backend_name>\") before.\n",
      "Running Tensor Factorization\n",
      "Creating views with: lrscore\n"
     ]
    },
    {
     "name": "stderr",
     "output_type": "stream",
     "text": [
      "100%|██████████| 16/16 [00:00<00:00, 229.77it/s]\n"
     ]
    },
    {
     "name": "stdout",
     "output_type": "stream",
     "text": [
      "\n",
      "        #########################################################\n",
      "        ###           __  __  ____  ______                    ### \n",
      "        ###          |  \\/  |/ __ \\|  ____/\\    _             ### \n",
      "        ###          | \\  / | |  | | |__ /  \\ _| |_           ### \n",
      "        ###          | |\\/| | |  | |  __/ /\\ \\_   _|          ###\n",
      "        ###          | |  | | |__| | | / ____ \\|_|            ###\n",
      "        ###          |_|  |_|\\____/|_|/_/    \\_\\              ###\n",
      "        ###                                                   ### \n",
      "        ######################################################### \n",
      "       \n",
      " \n",
      "        \n",
      "Loaded view='Secretory&Ciliated' group='group1' with N=22 samples and D=129 features...\n",
      "Loaded view='Secretory&Secretory' group='group1' with N=22 samples and D=158 features...\n",
      "Loaded view='Secretory&Basal' group='group1' with N=22 samples and D=177 features...\n",
      "Loaded view='Basal&Basal' group='group1' with N=22 samples and D=258 features...\n",
      "Loaded view='Basal&Secretory' group='group1' with N=22 samples and D=198 features...\n",
      "Loaded view='Ciliated&Ciliated' group='group1' with N=22 samples and D=104 features...\n",
      "Loaded view='Ciliated&Secretory' group='group1' with N=22 samples and D=121 features...\n",
      "Loaded view='Basal&Ciliated' group='group1' with N=22 samples and D=161 features...\n",
      "Loaded view='Ciliated&Basal' group='group1' with N=22 samples and D=137 features...\n",
      "Loaded view='FOXN4+&FOXN4+' group='group1' with N=22 samples and D=29 features...\n",
      "Loaded view='Ciliated&FOXN4+' group='group1' with N=22 samples and D=15 features...\n",
      "Loaded view='Secretory&FOXN4+' group='group1' with N=22 samples and D=28 features...\n",
      "Loaded view='FOXN4+&Basal' group='group1' with N=22 samples and D=16 features...\n",
      "Loaded view='FOXN4+&Secretory' group='group1' with N=22 samples and D=18 features...\n",
      "\n",
      "\n",
      "Model options:\n",
      "- Automatic Relevance Determination prior on the factors: True\n",
      "- Automatic Relevance Determination prior on the weights: True\n",
      "- Spike-and-slab prior on the factors: False\n",
      "- Spike-and-slab prior on the weights: True\n",
      "Likelihoods:\n",
      "- View 0 (Secretory&Ciliated): gaussian\n",
      "- View 1 (Secretory&Secretory): gaussian\n",
      "- View 2 (Secretory&Basal): gaussian\n",
      "- View 3 (Basal&Basal): gaussian\n",
      "- View 4 (Basal&Secretory): gaussian\n",
      "- View 5 (Ciliated&Ciliated): gaussian\n",
      "- View 6 (Ciliated&Secretory): gaussian\n",
      "- View 7 (Basal&Ciliated): gaussian\n",
      "- View 8 (Ciliated&Basal): gaussian\n",
      "- View 9 (FOXN4+&FOXN4+): gaussian\n",
      "- View 10 (Ciliated&FOXN4+): gaussian\n",
      "- View 11 (Secretory&FOXN4+): gaussian\n",
      "- View 12 (FOXN4+&Basal): gaussian\n",
      "- View 13 (FOXN4+&Secretory): gaussian\n",
      "\n",
      "\n",
      "\n",
      "\n",
      "######################################\n",
      "## Training the model with seed 1337 ##\n",
      "######################################\n",
      "\n",
      "\n",
      "\n",
      "Converged!\n",
      "\n",
      "\n",
      "\n",
      "#######################\n",
      "## Training finished ##\n",
      "#######################\n",
      "\n",
      "\n",
      "Saving model in /tmp/mofa_20230425-114918.hdf5...\n",
      "Saved MOFA embeddings in .obsm['X_mofa'] slot and their loadings in .varm['LFs'].\n"
     ]
    },
    {
     "name": "stderr",
     "output_type": "stream",
     "text": [
      "100%|██████████| 22/22 [00:14<00:00,  1.51it/s]\n"
     ]
    },
    {
     "name": "stdout",
     "output_type": "stream",
     "text": [
      "Device is either not available or the backend used with tensorly does not support this device.                   Try changing it with tensorly.set_backend(\"<backend_name>\") before.\n",
      "Running Tensor Factorization\n",
      "Creating views with: lr_probs\n"
     ]
    },
    {
     "name": "stderr",
     "output_type": "stream",
     "text": [
      "100%|██████████| 16/16 [00:00<00:00, 185.28it/s]\n"
     ]
    },
    {
     "name": "stdout",
     "output_type": "stream",
     "text": [
      "\n",
      "        #########################################################\n",
      "        ###           __  __  ____  ______                    ### \n",
      "        ###          |  \\/  |/ __ \\|  ____/\\    _             ### \n",
      "        ###          | \\  / | |  | | |__ /  \\ _| |_           ### \n",
      "        ###          | |\\/| | |  | |  __/ /\\ \\_   _|          ###\n",
      "        ###          | |  | | |__| | | / ____ \\|_|            ###\n",
      "        ###          |_|  |_|\\____/|_|/_/    \\_\\              ###\n",
      "        ###                                                   ### \n",
      "        ######################################################### \n",
      "       \n",
      " \n",
      "        \n",
      "Loaded view='Secretory&Ciliated' group='group1' with N=22 samples and D=115 features...\n",
      "Loaded view='Secretory&Secretory' group='group1' with N=22 samples and D=128 features...\n",
      "Loaded view='Secretory&Basal' group='group1' with N=22 samples and D=165 features...\n",
      "Loaded view='Basal&Basal' group='group1' with N=22 samples and D=243 features...\n",
      "Loaded view='Basal&Secretory' group='group1' with N=22 samples and D=160 features...\n",
      "Loaded view='Ciliated&Ciliated' group='group1' with N=22 samples and D=90 features...\n",
      "Loaded view='Ciliated&Secretory' group='group1' with N=22 samples and D=101 features...\n",
      "Loaded view='Basal&Ciliated' group='group1' with N=22 samples and D=137 features...\n",
      "Loaded view='Ciliated&Basal' group='group1' with N=22 samples and D=125 features...\n",
      "Loaded view='FOXN4+&FOXN4+' group='group1' with N=22 samples and D=29 features...\n",
      "Loaded view='Ciliated&FOXN4+' group='group1' with N=22 samples and D=15 features...\n",
      "Loaded view='Secretory&FOXN4+' group='group1' with N=22 samples and D=28 features...\n",
      "Loaded view='FOXN4+&Basal' group='group1' with N=22 samples and D=16 features...\n",
      "Loaded view='FOXN4+&Secretory' group='group1' with N=22 samples and D=18 features...\n",
      "\n",
      "\n",
      "Model options:\n",
      "- Automatic Relevance Determination prior on the factors: True\n",
      "- Automatic Relevance Determination prior on the weights: True\n",
      "- Spike-and-slab prior on the factors: False\n",
      "- Spike-and-slab prior on the weights: True\n",
      "Likelihoods:\n",
      "- View 0 (Secretory&Ciliated): gaussian\n",
      "- View 1 (Secretory&Secretory): gaussian\n",
      "- View 2 (Secretory&Basal): gaussian\n",
      "- View 3 (Basal&Basal): gaussian\n",
      "- View 4 (Basal&Secretory): gaussian\n",
      "- View 5 (Ciliated&Ciliated): gaussian\n",
      "- View 6 (Ciliated&Secretory): gaussian\n",
      "- View 7 (Basal&Ciliated): gaussian\n",
      "- View 8 (Ciliated&Basal): gaussian\n",
      "- View 9 (FOXN4+&FOXN4+): gaussian\n",
      "- View 10 (Ciliated&FOXN4+): gaussian\n",
      "- View 11 (Secretory&FOXN4+): gaussian\n",
      "- View 12 (FOXN4+&Basal): gaussian\n",
      "- View 13 (FOXN4+&Secretory): gaussian\n",
      "\n",
      "\n",
      "\n",
      "\n",
      "######################################\n",
      "## Training the model with seed 1337 ##\n",
      "######################################\n",
      "\n",
      "\n",
      "\n",
      "Converged!\n",
      "\n",
      "\n",
      "\n",
      "#######################\n",
      "## Training finished ##\n",
      "#######################\n",
      "\n",
      "\n",
      "Saving model in /tmp/mofa_20230425-114939.hdf5...\n",
      "Saved MOFA embeddings in .obsm['X_mofa'] slot and their loadings in .varm['LFs'].\n"
     ]
    },
    {
     "name": "stderr",
     "output_type": "stream",
     "text": [
      "100%|██████████| 22/22 [00:14<00:00,  1.48it/s]\n"
     ]
    },
    {
     "name": "stdout",
     "output_type": "stream",
     "text": [
      "Device is either not available or the backend used with tensorly does not support this device.                   Try changing it with tensorly.set_backend(\"<backend_name>\") before.\n",
      "Running Tensor Factorization\n",
      "Creating views with: magnitude_rank\n"
     ]
    },
    {
     "name": "stderr",
     "output_type": "stream",
     "text": [
      "100%|██████████| 16/16 [00:00<00:00, 248.49it/s]"
     ]
    },
    {
     "name": "stdout",
     "output_type": "stream",
     "text": [
      "\n",
      "        #########################################################\n",
      "        ###           __  __  ____  ______                    ### \n",
      "        ###          |  \\/  |/ __ \\|  ____/\\    _             ### \n",
      "        ###          | \\  / | |  | | |__ /  \\ _| |_           ### \n",
      "        ###          | |\\/| | |  | |  __/ /\\ \\_   _|          ###\n",
      "        ###          | |  | | |__| | | / ____ \\|_|            ###\n",
      "        ###          |_|  |_|\\____/|_|/_/    \\_\\              ###\n",
      "        ###                                                   ### \n",
      "        ######################################################### \n",
      "       \n",
      " \n",
      "        \n"
     ]
    },
    {
     "name": "stderr",
     "output_type": "stream",
     "text": [
      "\n"
     ]
    },
    {
     "name": "stdout",
     "output_type": "stream",
     "text": [
      "Loaded view='Secretory&Ciliated' group='group1' with N=22 samples and D=120 features...\n",
      "Loaded view='Secretory&Secretory' group='group1' with N=22 samples and D=147 features...\n",
      "Loaded view='Secretory&Basal' group='group1' with N=22 samples and D=173 features...\n",
      "Loaded view='Basal&Basal' group='group1' with N=22 samples and D=249 features...\n",
      "Loaded view='Basal&Secretory' group='group1' with N=22 samples and D=179 features...\n",
      "Loaded view='Ciliated&Ciliated' group='group1' with N=22 samples and D=98 features...\n",
      "Loaded view='Ciliated&Secretory' group='group1' with N=22 samples and D=107 features...\n",
      "Loaded view='Basal&Ciliated' group='group1' with N=22 samples and D=150 features...\n",
      "Loaded view='Ciliated&Basal' group='group1' with N=22 samples and D=134 features...\n",
      "Loaded view='FOXN4+&FOXN4+' group='group1' with N=22 samples and D=29 features...\n",
      "Loaded view='Ciliated&FOXN4+' group='group1' with N=22 samples and D=15 features...\n",
      "Loaded view='Secretory&FOXN4+' group='group1' with N=22 samples and D=28 features...\n",
      "Loaded view='FOXN4+&Basal' group='group1' with N=22 samples and D=16 features...\n",
      "Loaded view='FOXN4+&Secretory' group='group1' with N=22 samples and D=18 features...\n",
      "\n",
      "\n",
      "Model options:\n",
      "- Automatic Relevance Determination prior on the factors: True\n",
      "- Automatic Relevance Determination prior on the weights: True\n",
      "- Spike-and-slab prior on the factors: False\n",
      "- Spike-and-slab prior on the weights: True\n",
      "Likelihoods:\n",
      "- View 0 (Secretory&Ciliated): gaussian\n",
      "- View 1 (Secretory&Secretory): gaussian\n",
      "- View 2 (Secretory&Basal): gaussian\n",
      "- View 3 (Basal&Basal): gaussian\n",
      "- View 4 (Basal&Secretory): gaussian\n",
      "- View 5 (Ciliated&Ciliated): gaussian\n",
      "- View 6 (Ciliated&Secretory): gaussian\n",
      "- View 7 (Basal&Ciliated): gaussian\n",
      "- View 8 (Ciliated&Basal): gaussian\n",
      "- View 9 (FOXN4+&FOXN4+): gaussian\n",
      "- View 10 (Ciliated&FOXN4+): gaussian\n",
      "- View 11 (Secretory&FOXN4+): gaussian\n",
      "- View 12 (FOXN4+&Basal): gaussian\n",
      "- View 13 (FOXN4+&Secretory): gaussian\n",
      "\n",
      "\n",
      "\n",
      "\n",
      "######################################\n",
      "## Training the model with seed 1337 ##\n",
      "######################################\n",
      "\n",
      "\n",
      "\n",
      "Converged!\n",
      "\n",
      "\n",
      "\n",
      "#######################\n",
      "## Training finished ##\n",
      "#######################\n",
      "\n",
      "\n",
      "Saving model in /tmp/mofa_20230425-114958.hdf5...\n",
      "Saved MOFA embeddings in .obsm['X_mofa'] slot and their loadings in .varm['LFs'].\n"
     ]
    },
    {
     "name": "stderr",
     "output_type": "stream",
     "text": [
      "100%|██████████| 22/22 [00:14<00:00,  1.52it/s]\n"
     ]
    },
    {
     "name": "stdout",
     "output_type": "stream",
     "text": [
      "Device is either not available or the backend used with tensorly does not support this device.                   Try changing it with tensorly.set_backend(\"<backend_name>\") before.\n",
      "Running Tensor Factorization\n"
     ]
    }
   ],
   "source": [
    "dim_reduction_pipe(adata, dataset)"
   ]
  },
  {
   "cell_type": "code",
   "execution_count": null,
   "metadata": {},
   "outputs": [],
   "source": []
  },
  {
   "attachments": {},
   "cell_type": "markdown",
   "metadata": {},
   "source": [
    "## Run Classifier"
   ]
  },
  {
   "cell_type": "code",
   "execution_count": null,
   "metadata": {},
   "outputs": [],
   "source": []
  },
  {
   "cell_type": "code",
   "execution_count": null,
   "metadata": {},
   "outputs": [],
   "source": [
    "adata.uns['auc'].sort_values(['score_key', 'fold', 'reduction_name', 'f1_score'])"
   ]
  },
  {
   "cell_type": "code",
   "execution_count": null,
   "metadata": {},
   "outputs": [],
   "source": []
  },
  {
   "cell_type": "code",
   "execution_count": null,
   "metadata": {},
   "outputs": [],
   "source": []
  }
 ],
 "metadata": {
  "kernelspec": {
   "display_name": "spiana",
   "language": "python",
   "name": "python3"
  },
  "language_info": {
   "codemirror_mode": {
    "name": "ipython",
    "version": 3
   },
   "file_extension": ".py",
   "mimetype": "text/x-python",
   "name": "python",
   "nbconvert_exporter": "python",
   "pygments_lexer": "ipython3",
   "version": "3.10.10"
  },
  "orig_nbformat": 4,
  "vscode": {
   "interpreter": {
    "hash": "b688e7f183144fde965166e58483e32fc6dbc6fc380ccc51d49ef608da0385a8"
   }
  }
 },
 "nbformat": 4,
 "nbformat_minor": 2
}
