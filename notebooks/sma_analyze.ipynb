{
 "cells": [
  {
   "cell_type": "code",
   "execution_count": 1,
   "metadata": {},
   "outputs": [
    {
     "name": "stderr",
     "output_type": "stream",
     "text": [
      "/home/dbdimitrov/anaconda3/envs/spiana/lib/python3.10/site-packages/tqdm/auto.py:21: TqdmWarning: IProgress not found. Please update jupyter and ipywidgets. See https://ipywidgets.readthedocs.io/en/stable/user_install.html\n",
      "  from .autonotebook import tqdm as notebook_tqdm\n"
     ]
    }
   ],
   "source": [
    "import os\n",
    "import numpy as np\n",
    "import pandas as pd\n",
    "import scanpy as sc\n",
    "import squidpy as sq\n",
    "\n",
    "import muon as mu\n",
    "\n",
    "import warnings\n",
    "warnings.filterwarnings('ignore')"
   ]
  },
  {
   "cell_type": "code",
   "execution_count": 2,
   "metadata": {},
   "outputs": [],
   "source": [
    "import matplotlib.pyplot as plt\n",
    "import liana as li\n",
    "import plotnine as p9"
   ]
  },
  {
   "cell_type": "code",
   "execution_count": 3,
   "metadata": {},
   "outputs": [
    {
     "name": "stderr",
     "output_type": "stream",
     "text": [
      "Downloading data from `https://omnipathdb.org/queries/enzsub?format=json`\n",
      "Downloading data from `https://omnipathdb.org/queries/interactions?format=json`\n",
      "Downloading data from `https://omnipathdb.org/queries/complexes?format=json`\n",
      "Downloading data from `https://omnipathdb.org/queries/annotations?format=json`\n",
      "Downloading data from `https://omnipathdb.org/queries/intercell?format=json`\n",
      "Downloading data from `https://omnipathdb.org/about?format=text`\n"
     ]
    }
   ],
   "source": [
    "import omnipath as op\n",
    "import decoupler as dc"
   ]
  },
  {
   "cell_type": "code",
   "execution_count": 4,
   "metadata": {},
   "outputs": [],
   "source": [
    "## load slide\n",
    "slide = \"C1\"\n",
    "exp = \"V11L12-109\" # V11T17-102 V11L12-109 V11T16-085"
   ]
  },
  {
   "cell_type": "code",
   "execution_count": 5,
   "metadata": {},
   "outputs": [
    {
     "name": "stderr",
     "output_type": "stream",
     "text": [
      "Downloading annotations for all proteins from the following resources: `['KEGG-PC']`\n"
     ]
    }
   ],
   "source": [
    "kegg = op.requests.Annotations.get(resources=[\"KEGG-PC\"], entity_types=['protein'])"
   ]
  },
  {
   "cell_type": "code",
   "execution_count": 6,
   "metadata": {},
   "outputs": [],
   "source": [
    "kegg = kegg[[\"value\", \"genesymbol\"]].rename({\"value\": \"source\", \"genesymbol\": \"target\"}, axis=1)\n",
    "kegg = kegg[[\"source\", \"target\"]].drop_duplicates()\n",
    "kegg['target'] = kegg['target'].str.title()"
   ]
  },
  {
   "cell_type": "code",
   "execution_count": 7,
   "metadata": {},
   "outputs": [],
   "source": [
    "tf_net = dc.get_collectri(organism=\"mouse\")"
   ]
  },
  {
   "cell_type": "code",
   "execution_count": null,
   "metadata": {},
   "outputs": [],
   "source": []
  },
  {
   "cell_type": "code",
   "execution_count": 8,
   "metadata": {},
   "outputs": [
    {
     "data": {
      "text/html": [
       "<div>\n",
       "<style scoped>\n",
       "    .dataframe tbody tr th:only-of-type {\n",
       "        vertical-align: middle;\n",
       "    }\n",
       "\n",
       "    .dataframe tbody tr th {\n",
       "        vertical-align: top;\n",
       "    }\n",
       "\n",
       "    .dataframe thead th {\n",
       "        text-align: right;\n",
       "    }\n",
       "</style>\n",
       "<table border=\"1\" class=\"dataframe\">\n",
       "  <thead>\n",
       "    <tr style=\"text-align: right;\">\n",
       "      <th></th>\n",
       "      <th>Unnamed: 0</th>\n",
       "      <th>ligand</th>\n",
       "      <th>receptor</th>\n",
       "    </tr>\n",
       "  </thead>\n",
       "  <tbody>\n",
       "    <tr>\n",
       "      <th>0</th>\n",
       "      <td>1</td>\n",
       "      <td>HMDB0000112</td>\n",
       "      <td>Gabrb2</td>\n",
       "    </tr>\n",
       "    <tr>\n",
       "      <th>1</th>\n",
       "      <td>3</td>\n",
       "      <td>HMDB0000216</td>\n",
       "      <td>Adra2B</td>\n",
       "    </tr>\n",
       "    <tr>\n",
       "      <th>2</th>\n",
       "      <td>4</td>\n",
       "      <td>HMDB0000068</td>\n",
       "      <td>Adra2B</td>\n",
       "    </tr>\n",
       "    <tr>\n",
       "      <th>3</th>\n",
       "      <td>20</td>\n",
       "      <td>HMDB0000148</td>\n",
       "      <td>Grm8</td>\n",
       "    </tr>\n",
       "    <tr>\n",
       "      <th>4</th>\n",
       "      <td>49</td>\n",
       "      <td>HMDB0000112</td>\n",
       "      <td>Gabra5</td>\n",
       "    </tr>\n",
       "  </tbody>\n",
       "</table>\n",
       "</div>"
      ],
      "text/plain": [
       "   Unnamed: 0       ligand receptor\n",
       "0           1  HMDB0000112   Gabrb2\n",
       "1           3  HMDB0000216   Adra2B\n",
       "2           4  HMDB0000068   Adra2B\n",
       "3          20  HMDB0000148     Grm8\n",
       "4          49  HMDB0000112   Gabra5"
      ]
     },
     "execution_count": 8,
     "metadata": {},
     "output_type": "execute_result"
    }
   ],
   "source": [
    "# Load metabolite receptor interactions\n",
    "resource =  pd.read_csv('applications/data/MR_brain_20230808.csv')\n",
    "# resource = dc.translate_net(resource, columns=['receptor'])\n",
    "resource['receptor'] = resource['receptor'].str.title()\n",
    "resource.head()"
   ]
  },
  {
   "cell_type": "code",
   "execution_count": 9,
   "metadata": {},
   "outputs": [
    {
     "data": {
      "text/html": [
       "<div>\n",
       "<style scoped>\n",
       "    .dataframe tbody tr th:only-of-type {\n",
       "        vertical-align: middle;\n",
       "    }\n",
       "\n",
       "    .dataframe tbody tr th {\n",
       "        vertical-align: top;\n",
       "    }\n",
       "\n",
       "    .dataframe thead th {\n",
       "        text-align: right;\n",
       "    }\n",
       "</style>\n",
       "<table border=\"1\" class=\"dataframe\">\n",
       "  <thead>\n",
       "    <tr style=\"text-align: right;\">\n",
       "      <th></th>\n",
       "      <th>Unnamed: 0</th>\n",
       "      <th>HMDB</th>\n",
       "      <th>Symbol</th>\n",
       "      <th>Direction</th>\n",
       "      <th>MetName</th>\n",
       "      <th>Transport</th>\n",
       "      <th>T_direction</th>\n",
       "      <th>Reversibility</th>\n",
       "      <th>DB</th>\n",
       "      <th>Type</th>\n",
       "    </tr>\n",
       "  </thead>\n",
       "  <tbody>\n",
       "    <tr>\n",
       "      <th>0</th>\n",
       "      <td>18524</td>\n",
       "      <td>HMDB0059655</td>\n",
       "      <td>Phgdh</td>\n",
       "      <td>1</td>\n",
       "      <td>2-Hydroxyglutarate</td>\n",
       "      <td>unknown</td>\n",
       "      <td>unknown</td>\n",
       "      <td>irreversible</td>\n",
       "      <td>ReconProductionDegradation</td>\n",
       "      <td>met_est</td>\n",
       "    </tr>\n",
       "    <tr>\n",
       "      <th>1</th>\n",
       "      <td>21107</td>\n",
       "      <td>HMDB0006242</td>\n",
       "      <td>Aldh3A1</td>\n",
       "      <td>-1</td>\n",
       "      <td>3,4-Dihydroxymandelaldehyde</td>\n",
       "      <td>unknown</td>\n",
       "      <td>unknown</td>\n",
       "      <td>irreversible</td>\n",
       "      <td>ReconProductionDegradation</td>\n",
       "      <td>met_est</td>\n",
       "    </tr>\n",
       "    <tr>\n",
       "      <th>2</th>\n",
       "      <td>21117</td>\n",
       "      <td>HMDB0000042</td>\n",
       "      <td>Aldh3A1</td>\n",
       "      <td>1</td>\n",
       "      <td>Acetic acid</td>\n",
       "      <td>unknown</td>\n",
       "      <td>unknown</td>\n",
       "      <td>irreversible</td>\n",
       "      <td>ReconProductionDegradation</td>\n",
       "      <td>met_est</td>\n",
       "    </tr>\n",
       "    <tr>\n",
       "      <th>3</th>\n",
       "      <td>21116</td>\n",
       "      <td>HMDB0001487</td>\n",
       "      <td>Aldh3A1</td>\n",
       "      <td>1</td>\n",
       "      <td>NADH</td>\n",
       "      <td>unknown</td>\n",
       "      <td>unknown</td>\n",
       "      <td>irreversible</td>\n",
       "      <td>ReconProductionDegradation</td>\n",
       "      <td>met_est</td>\n",
       "    </tr>\n",
       "    <tr>\n",
       "      <th>4</th>\n",
       "      <td>21115</td>\n",
       "      <td>HMDB0000663</td>\n",
       "      <td>Aldh3A1</td>\n",
       "      <td>1</td>\n",
       "      <td>Glucaric acid</td>\n",
       "      <td>unknown</td>\n",
       "      <td>unknown</td>\n",
       "      <td>irreversible</td>\n",
       "      <td>ReconProductionDegradation</td>\n",
       "      <td>met_est</td>\n",
       "    </tr>\n",
       "  </tbody>\n",
       "</table>\n",
       "</div>"
      ],
      "text/plain": [
       "   Unnamed: 0         HMDB   Symbol  Direction                      MetName  \\\n",
       "0       18524  HMDB0059655    Phgdh          1           2-Hydroxyglutarate   \n",
       "1       21107  HMDB0006242  Aldh3A1         -1  3,4-Dihydroxymandelaldehyde   \n",
       "2       21117  HMDB0000042  Aldh3A1          1                  Acetic acid   \n",
       "3       21116  HMDB0001487  Aldh3A1          1                         NADH   \n",
       "4       21115  HMDB0000663  Aldh3A1          1                Glucaric acid   \n",
       "\n",
       "  Transport T_direction Reversibility                          DB     Type  \n",
       "0   unknown     unknown  irreversible  ReconProductionDegradation  met_est  \n",
       "1   unknown     unknown  irreversible  ReconProductionDegradation  met_est  \n",
       "2   unknown     unknown  irreversible  ReconProductionDegradation  met_est  \n",
       "3   unknown     unknown  irreversible  ReconProductionDegradation  met_est  \n",
       "4   unknown     unknown  irreversible  ReconProductionDegradation  met_est  "
      ]
     },
     "execution_count": 9,
     "metadata": {},
     "output_type": "execute_result"
    }
   ],
   "source": [
    "met_net = pd.read_csv(\"applications/data/PD_processed.csv\")\n",
    "# met_net = dc.translate_net(met_net, columns=['Symbol'])\n",
    "met_net['Symbol'] = met_net['Symbol'].str.title()\n",
    "met_net.head()"
   ]
  },
  {
   "cell_type": "code",
   "execution_count": 10,
   "metadata": {},
   "outputs": [],
   "source": [
    "resource['metabolite'] = resource['ligand'].map(dict(met_net[['HMDB', 'MetName']].values))"
   ]
  },
  {
   "cell_type": "code",
   "execution_count": null,
   "metadata": {},
   "outputs": [],
   "source": []
  },
  {
   "cell_type": "code",
   "execution_count": 11,
   "metadata": {},
   "outputs": [],
   "source": [
    "# mdata = mu.read_h5mu(os.path.join(slide_path, \"sma.h5mu\"))\n",
    "# rna = mdata.mod[\"rna\"]\n",
    "# msi = mdata.mod[\"msi\"]"
   ]
  },
  {
   "cell_type": "code",
   "execution_count": 12,
   "metadata": {},
   "outputs": [],
   "source": [
    "slides = [\"A1\", \"B1\", \"C1\"]"
   ]
  },
  {
   "cell_type": "code",
   "execution_count": 13,
   "metadata": {},
   "outputs": [],
   "source": [
    "hvg = []\n",
    "mdatas = {}\n",
    "\n",
    "for slide in slides:    \n",
    "    slide_path = f\"../data/sma/{exp}/{exp}_{slide}/output_data\"\n",
    "    mdatas[slide] = mu.read_h5mu(os.path.join(slide_path, \"sma.h5mu\"))\n",
    "    msi = mdatas[slide].mod[\"msi\"]\n",
    "    sc.pp.highly_variable_genes(msi, flavor='cell_ranger', n_top_genes=50)\n",
    "    \n",
    "     # annotated which do not contain peak,\n",
    "    annotated = msi.var['annotated'].astype(str).unique()\n",
    "    annotated = [a for a in annotated if \"peak\" not in a]\n",
    "    \n",
    "    msk = (msi.var['highly_variable'].values) + (msi.var.index.isin(annotated))\n",
    "    hvg.append(list(msi.var[msk].index))"
   ]
  },
  {
   "cell_type": "code",
   "execution_count": 14,
   "metadata": {},
   "outputs": [],
   "source": [
    "from functools import reduce"
   ]
  },
  {
   "cell_type": "code",
   "execution_count": 15,
   "metadata": {},
   "outputs": [],
   "source": [
    "hvg = reduce(np.union1d, hvg)"
   ]
  },
  {
   "cell_type": "code",
   "execution_count": null,
   "metadata": {},
   "outputs": [],
   "source": []
  },
  {
   "cell_type": "code",
   "execution_count": 16,
   "metadata": {},
   "outputs": [
    {
     "name": "stderr",
     "output_type": "stream",
     "text": [
      "view intra is not a csr_matrix. Converting to csr_matrix\n",
      "view path is not a csr_matrix. Converting to csr_matrix\n",
      "view tf is not a csr_matrix. Converting to csr_matrix\n",
      "Now learning: Tocopherol: 100%|██████████| 110/110 [06:01<00:00,  3.29s/it]             \n",
      "view intra is not a csr_matrix. Converting to csr_matrix\n",
      "view path is not a csr_matrix. Converting to csr_matrix\n",
      "view tf is not a csr_matrix. Converting to csr_matrix\n",
      "Now learning: Tocopherol: 100%|██████████| 110/110 [09:03<00:00,  4.94s/it]             \n",
      "view intra is not a csr_matrix. Converting to csr_matrix\n",
      "view path is not a csr_matrix. Converting to csr_matrix\n",
      "view tf is not a csr_matrix. Converting to csr_matrix\n",
      "Now learning: Tocopherol: 100%|██████████| 110/110 [07:51<00:00,  4.29s/it]             \n"
     ]
    }
   ],
   "source": [
    "interactions = {}\n",
    "target_metrics = {}\n",
    "\n",
    "for slide in slides:\n",
    "    mdata = mdatas[slide]    \n",
    "    rna = mdata.mod[\"rna\"]\n",
    "    msi = mdata.mod[\"msi\"]\n",
    "    \n",
    "    msi = msi[:, hvg].copy()\n",
    "    \n",
    "    # get reference coordinates\n",
    "    reference = mdata.mod[\"rna\"].obsm[\"spatial\"]\n",
    "    plot, _ = li.ut.query_bandwidth(coordinates=rna.obsm['spatial'], start=0, end=1500, interval_n=20, reference=reference)\n",
    "    li.ut.spatial_neighbors(msi, bandwidth=1000, cutoff=0.1, spatial_key=\"spatial\", reference=reference, set_diag=False, standardize=False)\n",
    "    \n",
    "    # distances of metabolties to RNA\n",
    "    reference = mdata.mod[\"msi\"].obsm[\"spatial\"]\n",
    "    li.ut.spatial_neighbors(rna, bandwidth=500, cutoff=0.1, spatial_key=\"spatial\", reference=reference, set_diag=False, standardize=False)\n",
    "    \n",
    "    dc.run_ulm(rna, net = kegg, use_raw=False, weight=None)\n",
    "    path = li.ut.obsm_to_adata(rna, \"ulm_estimate\")\n",
    "    \n",
    "    dc.run_ulm(rna, net = tf_net, use_raw=False)\n",
    "    tfs = li.ut.obsm_to_adata(rna, \"ulm_estimate\")\n",
    "    \n",
    "    receptors = resource[resource['ligand']=='HMDB0000073']['receptor'].values\n",
    "    receptors = receptors[np.isin(receptors, rna.var.index)]\n",
    "    receptors = rna[: , receptors].copy()\n",
    "\n",
    "    # misty\n",
    "    mdata.update_obs()\n",
    "    misty = li.mt.MistyData({\"intra\": msi, \"path\":path, \"tf\":tfs, 'receptors':receptors}, enforce_obs=False, obs=mdata.obs)\n",
    "    misty(model=\"linear\", verbose=True, bypass_intra=True)\n",
    "    \n",
    "    interactions[slide] = misty.uns['interactions'].copy()\n",
    "    target_metrics[slide] = misty.uns['target_metrics'].copy()"
   ]
  },
  {
   "cell_type": "code",
   "execution_count": 17,
   "metadata": {},
   "outputs": [],
   "source": [
    "interactions = pd.concat(interactions).reset_index()\n",
    "target_metrics = pd.concat(target_metrics).reset_index()"
   ]
  },
  {
   "cell_type": "code",
   "execution_count": 18,
   "metadata": {},
   "outputs": [],
   "source": [
    "target_metrics.fillna(0, inplace=True)"
   ]
  },
  {
   "cell_type": "code",
   "execution_count": null,
   "metadata": {},
   "outputs": [],
   "source": []
  },
  {
   "cell_type": "code",
   "execution_count": 23,
   "metadata": {},
   "outputs": [
    {
     "data": {
      "image/png": "[encoded data removed]",
      "text/plain": [
       "<Figure size 500x500 with 1 Axes>"
      ]
     },
     "metadata": {
      "image/png": {
       "height": 500,
       "width": 500
      }
     },
     "output_type": "display_data"
    },
    {
     "data": {
      "text/plain": [
       "<Figure Size: (500 x 500)>"
      ]
     },
     "execution_count": 23,
     "metadata": {},
     "output_type": "execute_result"
    }
   ],
   "source": [
    "(\n",
    "    li.pl.target_metrics(target_metrics=target_metrics, stat='multi_R2', aggregate_fun='mean', top_n=25) +\n",
    "    # limits\n",
    "    p9.ylim(0, 1)\n",
    ")"
   ]
  },
  {
   "cell_type": "code",
   "execution_count": 24,
   "metadata": {},
   "outputs": [
    {
     "data": {
      "text/html": [
       "<div>\n",
       "<style scoped>\n",
       "    .dataframe tbody tr th:only-of-type {\n",
       "        vertical-align: middle;\n",
       "    }\n",
       "\n",
       "    .dataframe tbody tr th {\n",
       "        vertical-align: top;\n",
       "    }\n",
       "\n",
       "    .dataframe thead th {\n",
       "        text-align: right;\n",
       "    }\n",
       "</style>\n",
       "<table border=\"1\" class=\"dataframe\">\n",
       "  <thead>\n",
       "    <tr style=\"text-align: right;\">\n",
       "      <th></th>\n",
       "      <th>level_0</th>\n",
       "      <th>level_1</th>\n",
       "      <th>target</th>\n",
       "      <th>intra_R2</th>\n",
       "      <th>multi_R2</th>\n",
       "      <th>gain_R2</th>\n",
       "      <th>path</th>\n",
       "      <th>tf</th>\n",
       "      <th>receptors</th>\n",
       "    </tr>\n",
       "  </thead>\n",
       "  <tbody>\n",
       "    <tr>\n",
       "      <th>17</th>\n",
       "      <td>A1</td>\n",
       "      <td>17</td>\n",
       "      <td>3-MT</td>\n",
       "      <td>0</td>\n",
       "      <td>0.000000</td>\n",
       "      <td>0.000000</td>\n",
       "      <td>0.181196</td>\n",
       "      <td>0.593706</td>\n",
       "      <td>0.225097</td>\n",
       "    </tr>\n",
       "    <tr>\n",
       "      <th>127</th>\n",
       "      <td>B1</td>\n",
       "      <td>17</td>\n",
       "      <td>3-MT</td>\n",
       "      <td>0</td>\n",
       "      <td>0.001316</td>\n",
       "      <td>0.001316</td>\n",
       "      <td>0.218198</td>\n",
       "      <td>0.540120</td>\n",
       "      <td>0.241682</td>\n",
       "    </tr>\n",
       "    <tr>\n",
       "      <th>237</th>\n",
       "      <td>C1</td>\n",
       "      <td>17</td>\n",
       "      <td>3-MT</td>\n",
       "      <td>0</td>\n",
       "      <td>0.001650</td>\n",
       "      <td>0.001650</td>\n",
       "      <td>0.233310</td>\n",
       "      <td>0.510851</td>\n",
       "      <td>0.255838</td>\n",
       "    </tr>\n",
       "  </tbody>\n",
       "</table>\n",
       "</div>"
      ],
      "text/plain": [
       "    level_0  level_1 target  intra_R2  multi_R2   gain_R2      path        tf  \\\n",
       "17       A1       17   3-MT         0  0.000000  0.000000  0.181196  0.593706   \n",
       "127      B1       17   3-MT         0  0.001316  0.001316  0.218198  0.540120   \n",
       "237      C1       17   3-MT         0  0.001650  0.001650  0.233310  0.510851   \n",
       "\n",
       "     receptors  \n",
       "17    0.225097  \n",
       "127   0.241682  \n",
       "237   0.255838  "
      ]
     },
     "execution_count": 24,
     "metadata": {},
     "output_type": "execute_result"
    }
   ],
   "source": [
    "# check gaba target\n",
    "target_metrics[target_metrics['target']=='3-MT']"
   ]
  },
  {
   "cell_type": "code",
   "execution_count": null,
   "metadata": {},
   "outputs": [],
   "source": []
  },
  {
   "cell_type": "code",
   "execution_count": null,
   "metadata": {},
   "outputs": [],
   "source": [
    "view_names = misty.view_names\n",
    "view_names.remove('intra')"
   ]
  },
  {
   "cell_type": "code",
   "execution_count": null,
   "metadata": {},
   "outputs": [],
   "source": [
    "view_names"
   ]
  },
  {
   "cell_type": "code",
   "execution_count": null,
   "metadata": {},
   "outputs": [],
   "source": [
    "li.pl.contributions(target_metrics=target_metrics, view_names=view_names, aggregate_fun='median')"
   ]
  },
  {
   "cell_type": "code",
   "execution_count": null,
   "metadata": {},
   "outputs": [],
   "source": []
  },
  {
   "cell_type": "code",
   "execution_count": null,
   "metadata": {},
   "outputs": [],
   "source": []
  },
  {
   "cell_type": "code",
   "execution_count": null,
   "metadata": {},
   "outputs": [],
   "source": []
  },
  {
   "cell_type": "code",
   "execution_count": null,
   "metadata": {},
   "outputs": [],
   "source": []
  },
  {
   "attachments": {},
   "cell_type": "markdown",
   "metadata": {},
   "source": [
    "One by One"
   ]
  },
  {
   "cell_type": "code",
   "execution_count": null,
   "metadata": {},
   "outputs": [],
   "source": [
    "slide_path = f\"../data/sma/{exp}/{exp}_{slide}/output_data\""
   ]
  },
  {
   "attachments": {},
   "cell_type": "markdown",
   "metadata": {},
   "source": [
    "HVG"
   ]
  },
  {
   "cell_type": "code",
   "execution_count": null,
   "metadata": {},
   "outputs": [],
   "source": [
    "# sc.pp.highly_variable_genes(rna, flavor='cell_ranger', n_top_genes=500)\n",
    "# rna = rna[:, rna.var['highly_variable']]"
   ]
  },
  {
   "cell_type": "code",
   "execution_count": null,
   "metadata": {},
   "outputs": [],
   "source": [
    "sc.pp.highly_variable_genes(msi, flavor='cell_ranger', n_top_genes=50)"
   ]
  },
  {
   "cell_type": "code",
   "execution_count": null,
   "metadata": {},
   "outputs": [],
   "source": [
    "# annotated which do not contain peak,\n",
    "annotated = msi.var['annotated'].astype(str).unique()\n",
    "annotated = [a for a in annotated if \"peak\" not in a]"
   ]
  },
  {
   "cell_type": "code",
   "execution_count": null,
   "metadata": {},
   "outputs": [],
   "source": []
  },
  {
   "cell_type": "code",
   "execution_count": null,
   "metadata": {},
   "outputs": [],
   "source": [
    "# highly variable or annotated\n",
    "msk = (msi.var['highly_variable'].values) + (msi.var.index.isin(annotated))\n",
    "msi = msi[:, msk].copy()"
   ]
  },
  {
   "cell_type": "code",
   "execution_count": null,
   "metadata": {},
   "outputs": [],
   "source": []
  },
  {
   "attachments": {},
   "cell_type": "markdown",
   "metadata": {},
   "source": [
    "Test"
   ]
  },
  {
   "cell_type": "code",
   "execution_count": null,
   "metadata": {},
   "outputs": [],
   "source": [
    "# get reference coordinates\n",
    "reference = mdata.mod[\"rna\"].obsm[\"spatial\"]\n"
   ]
  },
  {
   "cell_type": "code",
   "execution_count": null,
   "metadata": {},
   "outputs": [],
   "source": [
    "plot, _ = li.ut.query_bandwidth(coordinates=rna.obsm['spatial'], start=0, end=1500, interval_n=20, reference=reference)\n",
    "plot"
   ]
  },
  {
   "cell_type": "code",
   "execution_count": null,
   "metadata": {},
   "outputs": [],
   "source": [
    "# distances of metabolties to RNA\n",
    "li.ut.spatial_neighbors(msi, bandwidth=1000, cutoff=0.1, spatial_key=\"spatial\", reference=reference, set_diag=False, standardize=False)"
   ]
  },
  {
   "cell_type": "code",
   "execution_count": null,
   "metadata": {},
   "outputs": [],
   "source": [
    "# get reference coordinates\n",
    "reference = mdata.mod[\"msi\"].obsm[\"spatial\"]\n",
    "\n",
    "# distances of metabolties to RNA\n",
    "li.ut.spatial_neighbors(rna, bandwidth=500, cutoff=0.1, spatial_key=\"spatial\", reference=reference, set_diag=False, standardize=False)"
   ]
  },
  {
   "cell_type": "code",
   "execution_count": null,
   "metadata": {},
   "outputs": [],
   "source": []
  },
  {
   "attachments": {},
   "cell_type": "markdown",
   "metadata": {},
   "source": [
    "Funcomics"
   ]
  },
  {
   "cell_type": "code",
   "execution_count": null,
   "metadata": {},
   "outputs": [],
   "source": [
    "dc.run_ulm(rna, net = net, use_raw=False, weight=None)\n",
    "kegg = li.ut.obsm_to_adata(rna, \"ulm_estimate\")"
   ]
  },
  {
   "cell_type": "code",
   "execution_count": null,
   "metadata": {},
   "outputs": [],
   "source": []
  },
  {
   "cell_type": "code",
   "execution_count": null,
   "metadata": {},
   "outputs": [],
   "source": [
    "net = dc.get_collectri(organism=\"mouse\")\n",
    "dc.run_ulm(rna, net = net, use_raw=False)\n",
    "tfs = li.ut.obsm_to_adata(rna, \"ulm_estimate\")\n"
   ]
  },
  {
   "cell_type": "code",
   "execution_count": null,
   "metadata": {},
   "outputs": [],
   "source": []
  },
  {
   "attachments": {},
   "cell_type": "markdown",
   "metadata": {},
   "source": [
    "Mitsy"
   ]
  },
  {
   "cell_type": "code",
   "execution_count": null,
   "metadata": {},
   "outputs": [],
   "source": [
    "mdata.update_obs()\n",
    "misty = li.mt.MistyData({\"intra\": msi, \"kegg\":kegg, \"tf\":tfs}, enforce_obs=False, obs=mdata.obs)\n"
   ]
  },
  {
   "cell_type": "code",
   "execution_count": null,
   "metadata": {},
   "outputs": [],
   "source": [
    "misty(model=\"linear\", verbose=True, bypass_intra=True, maskby='lesion')"
   ]
  },
  {
   "cell_type": "code",
   "execution_count": null,
   "metadata": {},
   "outputs": [],
   "source": []
  },
  {
   "cell_type": "code",
   "execution_count": null,
   "metadata": {},
   "outputs": [],
   "source": [
    "misty.uns['target_metrics'].sort_values(\"gain_R2\", ascending=False).head(10)"
   ]
  },
  {
   "cell_type": "code",
   "execution_count": null,
   "metadata": {},
   "outputs": [],
   "source": [
    "# split df by intra group\n",
    "misty.uns['target_metrics'].groupby(\"intra_group\").apply(lambda x: x.sort_values(\"gain_R2\", ascending=False).head(10))"
   ]
  },
  {
   "cell_type": "code",
   "execution_count": null,
   "metadata": {},
   "outputs": [],
   "source": []
  },
  {
   "cell_type": "code",
   "execution_count": null,
   "metadata": {},
   "outputs": [],
   "source": [
    "# li.pl.target_metrics(misty, stat='gain_R2', top_n=25, return_fig=True)"
   ]
  },
  {
   "cell_type": "code",
   "execution_count": null,
   "metadata": {},
   "outputs": [],
   "source": [
    "most_explained = misty.uns['target_metrics'].sort_values(\"gain_R2\", ascending=False).head(10)['target'].values"
   ]
  },
  {
   "cell_type": "code",
   "execution_count": null,
   "metadata": {},
   "outputs": [],
   "source": []
  },
  {
   "cell_type": "code",
   "execution_count": null,
   "metadata": {},
   "outputs": [],
   "source": [
    "(\n",
    "li.pl.interactions(misty, view='tf', top_n=50, figure_size=(8,5), filterby=\"intra_group\", filter_lambda=lambda x: x==\"lesioned\") +\n",
    "p9.scale_fill_gradient2(low=\"blue\", mid=\"white\", high=\"red\", midpoint=0)\n",
    ")"
   ]
  },
  {
   "cell_type": "code",
   "execution_count": null,
   "metadata": {},
   "outputs": [],
   "source": []
  },
  {
   "cell_type": "code",
   "execution_count": null,
   "metadata": {},
   "outputs": [],
   "source": [
    "sq.pl.spatial_scatter(msi, color=['Dopamine (double)', '3-MT', '431.08294'])"
   ]
  },
  {
   "cell_type": "code",
   "execution_count": null,
   "metadata": {},
   "outputs": [],
   "source": [
    "plt.show()"
   ]
  },
  {
   "cell_type": "code",
   "execution_count": null,
   "metadata": {},
   "outputs": [],
   "source": [
    "sq.pl.spatial_scatter(tfs, color=['Irx1', 'Pou5f1', 'Tfap4', 'Znf335'], cmap='coolwarm', size=1.3)"
   ]
  },
  {
   "cell_type": "code",
   "execution_count": null,
   "metadata": {},
   "outputs": [],
   "source": [
    "plt.show()"
   ]
  },
  {
   "cell_type": "code",
   "execution_count": null,
   "metadata": {},
   "outputs": [],
   "source": []
  },
  {
   "cell_type": "code",
   "execution_count": null,
   "metadata": {},
   "outputs": [],
   "source": [
    "metab = '3-MT' # '551.23688'\n",
    "misty.uns['interactions'][misty.uns['interactions']['target'] == metab].sort_values(\"importances\", key=abs, ascending=False).head(30)"
   ]
  },
  {
   "cell_type": "code",
   "execution_count": null,
   "metadata": {},
   "outputs": [],
   "source": []
  },
  {
   "cell_type": "code",
   "execution_count": null,
   "metadata": {},
   "outputs": [],
   "source": []
  },
  {
   "cell_type": "code",
   "execution_count": null,
   "metadata": {},
   "outputs": [],
   "source": []
  },
  {
   "cell_type": "code",
   "execution_count": null,
   "metadata": {},
   "outputs": [],
   "source": []
  },
  {
   "cell_type": "code",
   "execution_count": null,
   "metadata": {},
   "outputs": [],
   "source": []
  },
  {
   "cell_type": "code",
   "execution_count": null,
   "metadata": {},
   "outputs": [],
   "source": []
  },
  {
   "cell_type": "code",
   "execution_count": null,
   "metadata": {},
   "outputs": [],
   "source": []
  },
  {
   "cell_type": "code",
   "execution_count": null,
   "metadata": {},
   "outputs": [],
   "source": []
  },
  {
   "cell_type": "code",
   "execution_count": null,
   "metadata": {},
   "outputs": [],
   "source": []
  },
  {
   "cell_type": "code",
   "execution_count": null,
   "metadata": {},
   "outputs": [],
   "source": []
  },
  {
   "cell_type": "code",
   "execution_count": null,
   "metadata": {},
   "outputs": [],
   "source": []
  },
  {
   "cell_type": "code",
   "execution_count": null,
   "metadata": {},
   "outputs": [],
   "source": []
  },
  {
   "cell_type": "code",
   "execution_count": null,
   "metadata": {},
   "outputs": [],
   "source": []
  },
  {
   "cell_type": "code",
   "execution_count": null,
   "metadata": {},
   "outputs": [],
   "source": []
  },
  {
   "cell_type": "code",
   "execution_count": null,
   "metadata": {},
   "outputs": [],
   "source": []
  },
  {
   "cell_type": "code",
   "execution_count": null,
   "metadata": {},
   "outputs": [],
   "source": [
    "# Apply Spatial Smoothing with RNA as reference\n",
    "w2 = li.ut.spatial_neighbors(rna, bandwidth=500, cutoff=0.1, spatial_key=\"spatial\", inplace=False, set_diag=False, standardize=False)\n",
    "rna.layers['smooth'] = w2 @ rna.X"
   ]
  },
  {
   "cell_type": "code",
   "execution_count": null,
   "metadata": {},
   "outputs": [],
   "source": [
    "rna_smooth = rna[:, 'Pdyn'].layers['smooth'].copy()"
   ]
  },
  {
   "cell_type": "code",
   "execution_count": null,
   "metadata": {},
   "outputs": [],
   "source": [
    "sc.AnnData(msi_smooth[:,'Dopamine (double)'].X * rna_smooth.A.flatten())"
   ]
  },
  {
   "cell_type": "code",
   "execution_count": null,
   "metadata": {},
   "outputs": [],
   "source": [
    "import muon as mu"
   ]
  },
  {
   "cell_type": "code",
   "execution_count": null,
   "metadata": {},
   "outputs": [],
   "source": [
    "mdata = mu.MuData({'rna':rna, 'msi':msi_smooth}, obs=rna.obs, uns=rna.uns)"
   ]
  },
  {
   "cell_type": "code",
   "execution_count": null,
   "metadata": {},
   "outputs": [],
   "source": [
    "mdata"
   ]
  },
  {
   "cell_type": "code",
   "execution_count": null,
   "metadata": {},
   "outputs": [],
   "source": [
    "from scipy.sparse import csr_matrix\n",
    "w3 = np.zeros((mdata.shape[0], mdata.shape[0]))\n",
    "w3 = csr_matrix(w3)\n",
    "w3.setdiag(1)\n",
    "mdata.obsp['spatial_connectivities'] = w3"
   ]
  },
  {
   "cell_type": "code",
   "execution_count": null,
   "metadata": {},
   "outputs": [],
   "source": [
    "mdata"
   ]
  },
  {
   "cell_type": "code",
   "execution_count": null,
   "metadata": {},
   "outputs": [],
   "source": [
    "li.mt.bivar(mdata, function_name='product', x_mod='rna', y_mod='msi', x_layer='smooth', x_use_raw=False, y_use_raw=False, verbose=True, interactions = [('Pdyn', 'Dopamine (double)')])"
   ]
  },
  {
   "cell_type": "code",
   "execution_count": null,
   "metadata": {},
   "outputs": [],
   "source": []
  },
  {
   "cell_type": "code",
   "execution_count": null,
   "metadata": {},
   "outputs": [],
   "source": [
    "mdata.mod['local_scores'].obsm = rna.obsm"
   ]
  },
  {
   "cell_type": "code",
   "execution_count": null,
   "metadata": {},
   "outputs": [],
   "source": [
    "sq.pl.spatial_scatter(mdata.mod['local_scores'], color=['Pdyn^Dopamine (double)', 'lesion'])"
   ]
  },
  {
   "cell_type": "code",
   "execution_count": null,
   "metadata": {},
   "outputs": [],
   "source": [
    "plt.show()"
   ]
  },
  {
   "cell_type": "code",
   "execution_count": null,
   "metadata": {},
   "outputs": [],
   "source": []
  },
  {
   "cell_type": "code",
   "execution_count": null,
   "metadata": {},
   "outputs": [],
   "source": [
    "mdata.mod['local_scores'].obs"
   ]
  },
  {
   "cell_type": "code",
   "execution_count": null,
   "metadata": {},
   "outputs": [],
   "source": []
  },
  {
   "cell_type": "code",
   "execution_count": null,
   "metadata": {},
   "outputs": [],
   "source": []
  },
  {
   "cell_type": "code",
   "execution_count": null,
   "metadata": {},
   "outputs": [],
   "source": []
  },
  {
   "attachments": {},
   "cell_type": "markdown",
   "metadata": {},
   "source": [
    "Metalinks"
   ]
  },
  {
   "cell_type": "code",
   "execution_count": null,
   "metadata": {},
   "outputs": [],
   "source": [
    "from applications._estimate_metalinks import estimate_metalinks"
   ]
  },
  {
   "cell_type": "code",
   "execution_count": null,
   "metadata": {},
   "outputs": [],
   "source": [
    "# estimate metabolites\n",
    "metalinks = estimate_metalinks(rna, resource=resource, met_net=met_net, consider_transport=True, min_n=3)"
   ]
  },
  {
   "cell_type": "code",
   "execution_count": null,
   "metadata": {},
   "outputs": [],
   "source": [
    "metalinks.mod['metabolite'].var"
   ]
  },
  {
   "cell_type": "code",
   "execution_count": null,
   "metadata": {},
   "outputs": [],
   "source": []
  },
  {
   "cell_type": "code",
   "execution_count": null,
   "metadata": {},
   "outputs": [],
   "source": [
    "act = pd.DataFrame([metalinks.mod['metabolite'].X.mean(axis=0)], columns= metalinks.mod['metabolite'].var.index)"
   ]
  },
  {
   "cell_type": "code",
   "execution_count": null,
   "metadata": {},
   "outputs": [],
   "source": [
    "obs = pd.DataFrame([rna.X.mean(axis=0).A.flatten()], columns=rna.var.index)"
   ]
  },
  {
   "cell_type": "code",
   "execution_count": null,
   "metadata": {},
   "outputs": [],
   "source": [
    "met_net.rename({\"Symbol\": \"target\", \"HMDB\":\"source\"}, axis=1, inplace=True)"
   ]
  },
  {
   "cell_type": "code",
   "execution_count": null,
   "metadata": {},
   "outputs": [],
   "source": [
    "met_net = met_net[met_net['source']==\"HMDB0000073\"]\n",
    "met_net = met_net[met_net['target'].isin(rna.var.index)]"
   ]
  },
  {
   "cell_type": "code",
   "execution_count": null,
   "metadata": {},
   "outputs": [],
   "source": [
    "met_net"
   ]
  },
  {
   "cell_type": "code",
   "execution_count": null,
   "metadata": {},
   "outputs": [],
   "source": []
  },
  {
   "cell_type": "code",
   "execution_count": null,
   "metadata": {},
   "outputs": [],
   "source": []
  },
  {
   "cell_type": "code",
   "execution_count": null,
   "metadata": {},
   "outputs": [],
   "source": []
  }
 ],
 "metadata": {
  "kernelspec": {
   "display_name": "spiana",
   "language": "python",
   "name": "python3"
  },
  "language_info": {
   "codemirror_mode": {
    "name": "ipython",
    "version": 3
   },
   "file_extension": ".py",
   "mimetype": "text/x-python",
   "name": "python",
   "nbconvert_exporter": "python",
   "pygments_lexer": "ipython3",
   "version": "3.10.10"
  },
  "orig_nbformat": 4
 },
 "nbformat": 4,
 "nbformat_minor": 2
}
