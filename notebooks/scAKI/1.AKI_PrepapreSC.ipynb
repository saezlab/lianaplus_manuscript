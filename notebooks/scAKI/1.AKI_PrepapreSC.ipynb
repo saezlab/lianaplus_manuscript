{
 "cells": [
  {
   "attachments": {},
   "cell_type": "markdown",
   "metadata": {},
   "source": [
    "# Prepare Dissociated AnnData object"
   ]
  },
  {
   "attachments": {},
   "cell_type": "markdown",
   "metadata": {},
   "source": [
    "## Load environment"
   ]
  },
  {
   "cell_type": "code",
   "execution_count": 1,
   "metadata": {},
   "outputs": [],
   "source": [
    "import os\n",
    "import numpy as np\n",
    "import pandas as pd\n",
    "\n",
    "import scanpy as sc"
   ]
  },
  {
   "cell_type": "code",
   "execution_count": 2,
   "metadata": {},
   "outputs": [
    {
     "name": "stderr",
     "output_type": "stream",
     "text": [
      "/home/dbdimitrov/anaconda3/envs/spiana/lib/python3.10/site-packages/tqdm/auto.py:21: TqdmWarning: IProgress not found. Please update jupyter and ipywidgets. See https://ipywidgets.readthedocs.io/en/stable/user_install.html\n",
      "  from .autonotebook import tqdm as notebook_tqdm\n"
     ]
    }
   ],
   "source": [
    "import mofax as mofa\n",
    "import muon as mu\n",
    "import decoupler as dc"
   ]
  },
  {
   "cell_type": "code",
   "execution_count": 3,
   "metadata": {},
   "outputs": [],
   "source": [
    "import liana as li\n",
    "import plotnine as p9"
   ]
  },
  {
   "cell_type": "code",
   "execution_count": 4,
   "metadata": {},
   "outputs": [
    {
     "data": {
      "text/plain": [
       "'1.0.0a0'"
      ]
     },
     "execution_count": 4,
     "metadata": {},
     "output_type": "execute_result"
    }
   ],
   "source": [
    "li.__version__"
   ]
  },
  {
   "cell_type": "code",
   "execution_count": 5,
   "metadata": {},
   "outputs": [],
   "source": [
    "data_dir = os.path.join('..', '..', 'data', 'kidney_injury')"
   ]
  },
  {
   "cell_type": "code",
   "execution_count": null,
   "metadata": {},
   "outputs": [],
   "source": []
  },
  {
   "cell_type": "code",
   "execution_count": 6,
   "metadata": {},
   "outputs": [],
   "source": [
    "# columns of interest\n",
    "sample_key = \"ident\"\n",
    "groupby = \"cell_type\"\n",
    "condition_key = \"Group\""
   ]
  },
  {
   "cell_type": "code",
   "execution_count": null,
   "metadata": {},
   "outputs": [],
   "source": []
  },
  {
   "attachments": {},
   "cell_type": "markdown",
   "metadata": {},
   "source": [
    "### Load Data & Process annotations"
   ]
  },
  {
   "cell_type": "code",
   "execution_count": 7,
   "metadata": {},
   "outputs": [
    {
     "data": {
      "text/plain": [
       "AnnData object with n_obs × n_vars = 126578 × 27133\n",
       "    obs: 'orig.ident', 'nCount_RNA', 'nFeature_RNA', 'Group', 'Replicates', 'cell_state', 'ident'\n",
       "    uns: 'X_name'"
      ]
     },
     "execution_count": 7,
     "metadata": {},
     "output_type": "execute_result"
    }
   ],
   "source": [
    "adata = sc.read_h5ad(os.path.join(data_dir, \"GSE139107_MouseIRI.h5ad\"))\n",
    "adata.obs.rename(columns={'celltype': 'cell_state'}, inplace=True)\n",
    "adata"
   ]
  },
  {
   "cell_type": "code",
   "execution_count": 8,
   "metadata": {},
   "outputs": [],
   "source": [
    "annot = pd.read_csv(os.path.join(data_dir, \"cell_annotations.csv\"), index_col=None)"
   ]
  },
  {
   "cell_type": "code",
   "execution_count": 9,
   "metadata": {},
   "outputs": [],
   "source": [
    "adata.obs = adata.obs.reset_index(names='cell_id').merge(annot, on='cell_state', how='left').set_index('cell_id')\n",
    "adata.obs.index.name = None"
   ]
  },
  {
   "cell_type": "code",
   "execution_count": 10,
   "metadata": {},
   "outputs": [
    {
     "data": {
      "text/html": [
       "<div>\n",
       "<style scoped>\n",
       "    .dataframe tbody tr th:only-of-type {\n",
       "        vertical-align: middle;\n",
       "    }\n",
       "\n",
       "    .dataframe tbody tr th {\n",
       "        vertical-align: top;\n",
       "    }\n",
       "\n",
       "    .dataframe thead th {\n",
       "        text-align: right;\n",
       "    }\n",
       "</style>\n",
       "<table border=\"1\" class=\"dataframe\">\n",
       "  <thead>\n",
       "    <tr style=\"text-align: right;\">\n",
       "      <th></th>\n",
       "      <th>orig.ident</th>\n",
       "      <th>nCount_RNA</th>\n",
       "      <th>nFeature_RNA</th>\n",
       "      <th>Group</th>\n",
       "      <th>Replicates</th>\n",
       "      <th>cell_state</th>\n",
       "      <th>ident</th>\n",
       "      <th>cell_type</th>\n",
       "      <th>full_name</th>\n",
       "    </tr>\n",
       "  </thead>\n",
       "  <tbody>\n",
       "    <tr>\n",
       "      <th>IRI4h1_AAACCTGAGATCTGCT</th>\n",
       "      <td>IRI4h1</td>\n",
       "      <td>1458.0</td>\n",
       "      <td>533</td>\n",
       "      <td>4hours</td>\n",
       "      <td>1</td>\n",
       "      <td>CTAL2</td>\n",
       "      <td>IRI4h1</td>\n",
       "      <td>CTAL</td>\n",
       "      <td>Thick ascending limb of loop of Henle</td>\n",
       "    </tr>\n",
       "    <tr>\n",
       "      <th>IRI4h1_AAACCTGAGATTACCC</th>\n",
       "      <td>IRI4h1</td>\n",
       "      <td>2490.0</td>\n",
       "      <td>564</td>\n",
       "      <td>4hours</td>\n",
       "      <td>1</td>\n",
       "      <td>NewPT1</td>\n",
       "      <td>IRI4h1</td>\n",
       "      <td>PT</td>\n",
       "      <td>Proximal tubule</td>\n",
       "    </tr>\n",
       "    <tr>\n",
       "      <th>IRI4h1_AAACCTGAGTGTTAGA</th>\n",
       "      <td>IRI4h1</td>\n",
       "      <td>514.0</td>\n",
       "      <td>320</td>\n",
       "      <td>4hours</td>\n",
       "      <td>1</td>\n",
       "      <td>EC1</td>\n",
       "      <td>IRI4h1</td>\n",
       "      <td>EC</td>\n",
       "      <td>Epithelial cells</td>\n",
       "    </tr>\n",
       "    <tr>\n",
       "      <th>IRI4h1_AAACCTGCACCAACCG</th>\n",
       "      <td>IRI4h1</td>\n",
       "      <td>1171.0</td>\n",
       "      <td>392</td>\n",
       "      <td>4hours</td>\n",
       "      <td>1</td>\n",
       "      <td>DCT</td>\n",
       "      <td>IRI4h1</td>\n",
       "      <td>DCT</td>\n",
       "      <td>Distal convoluted tubule</td>\n",
       "    </tr>\n",
       "    <tr>\n",
       "      <th>IRI4h1_AAACCTGCAGCCTGTG</th>\n",
       "      <td>IRI4h1</td>\n",
       "      <td>1712.0</td>\n",
       "      <td>530</td>\n",
       "      <td>4hours</td>\n",
       "      <td>1</td>\n",
       "      <td>MTAL</td>\n",
       "      <td>IRI4h1</td>\n",
       "      <td>MTAL</td>\n",
       "      <td>medullary thick ascending limb</td>\n",
       "    </tr>\n",
       "    <tr>\n",
       "      <th>...</th>\n",
       "      <td>...</td>\n",
       "      <td>...</td>\n",
       "      <td>...</td>\n",
       "      <td>...</td>\n",
       "      <td>...</td>\n",
       "      <td>...</td>\n",
       "      <td>...</td>\n",
       "      <td>...</td>\n",
       "      <td>...</td>\n",
       "    </tr>\n",
       "    <tr>\n",
       "      <th>IRIsham3_TTTGTCATCAGGTTCA</th>\n",
       "      <td>IRIsham3</td>\n",
       "      <td>506.0</td>\n",
       "      <td>388</td>\n",
       "      <td>Control</td>\n",
       "      <td>3</td>\n",
       "      <td>EC1</td>\n",
       "      <td>IRIsham3</td>\n",
       "      <td>EC</td>\n",
       "      <td>Epithelial cells</td>\n",
       "    </tr>\n",
       "    <tr>\n",
       "      <th>IRIsham3_TTTGTCATCATAACCG</th>\n",
       "      <td>IRIsham3</td>\n",
       "      <td>923.0</td>\n",
       "      <td>536</td>\n",
       "      <td>Control</td>\n",
       "      <td>3</td>\n",
       "      <td>PC2</td>\n",
       "      <td>IRIsham3</td>\n",
       "      <td>PC</td>\n",
       "      <td>Principal cells</td>\n",
       "    </tr>\n",
       "    <tr>\n",
       "      <th>IRIsham3_TTTGTCATCCGTCATC</th>\n",
       "      <td>IRIsham3</td>\n",
       "      <td>1865.0</td>\n",
       "      <td>692</td>\n",
       "      <td>Control</td>\n",
       "      <td>3</td>\n",
       "      <td>PTS3</td>\n",
       "      <td>IRIsham3</td>\n",
       "      <td>PT</td>\n",
       "      <td>Proximal tubule</td>\n",
       "    </tr>\n",
       "    <tr>\n",
       "      <th>IRIsham3_TTTGTCATCCTTCAAT</th>\n",
       "      <td>IRIsham3</td>\n",
       "      <td>1982.0</td>\n",
       "      <td>660</td>\n",
       "      <td>Control</td>\n",
       "      <td>3</td>\n",
       "      <td>PTS2</td>\n",
       "      <td>IRIsham3</td>\n",
       "      <td>PT</td>\n",
       "      <td>Proximal tubule</td>\n",
       "    </tr>\n",
       "    <tr>\n",
       "      <th>IRIsham3_TTTGTCATCGTCCGTT</th>\n",
       "      <td>IRIsham3</td>\n",
       "      <td>811.0</td>\n",
       "      <td>475</td>\n",
       "      <td>Control</td>\n",
       "      <td>3</td>\n",
       "      <td>PTS1</td>\n",
       "      <td>IRIsham3</td>\n",
       "      <td>PT</td>\n",
       "      <td>Proximal tubule</td>\n",
       "    </tr>\n",
       "  </tbody>\n",
       "</table>\n",
       "<p>126578 rows × 9 columns</p>\n",
       "</div>"
      ],
      "text/plain": [
       "                          orig.ident  nCount_RNA  nFeature_RNA    Group  \\\n",
       "IRI4h1_AAACCTGAGATCTGCT       IRI4h1      1458.0           533   4hours   \n",
       "IRI4h1_AAACCTGAGATTACCC       IRI4h1      2490.0           564   4hours   \n",
       "IRI4h1_AAACCTGAGTGTTAGA       IRI4h1       514.0           320   4hours   \n",
       "IRI4h1_AAACCTGCACCAACCG       IRI4h1      1171.0           392   4hours   \n",
       "IRI4h1_AAACCTGCAGCCTGTG       IRI4h1      1712.0           530   4hours   \n",
       "...                              ...         ...           ...      ...   \n",
       "IRIsham3_TTTGTCATCAGGTTCA   IRIsham3       506.0           388  Control   \n",
       "IRIsham3_TTTGTCATCATAACCG   IRIsham3       923.0           536  Control   \n",
       "IRIsham3_TTTGTCATCCGTCATC   IRIsham3      1865.0           692  Control   \n",
       "IRIsham3_TTTGTCATCCTTCAAT   IRIsham3      1982.0           660  Control   \n",
       "IRIsham3_TTTGTCATCGTCCGTT   IRIsham3       811.0           475  Control   \n",
       "\n",
       "                          Replicates cell_state     ident cell_type  \\\n",
       "IRI4h1_AAACCTGAGATCTGCT            1      CTAL2    IRI4h1      CTAL   \n",
       "IRI4h1_AAACCTGAGATTACCC            1     NewPT1    IRI4h1        PT   \n",
       "IRI4h1_AAACCTGAGTGTTAGA            1        EC1    IRI4h1        EC   \n",
       "IRI4h1_AAACCTGCACCAACCG            1        DCT    IRI4h1       DCT   \n",
       "IRI4h1_AAACCTGCAGCCTGTG            1       MTAL    IRI4h1      MTAL   \n",
       "...                              ...        ...       ...       ...   \n",
       "IRIsham3_TTTGTCATCAGGTTCA          3        EC1  IRIsham3        EC   \n",
       "IRIsham3_TTTGTCATCATAACCG          3        PC2  IRIsham3        PC   \n",
       "IRIsham3_TTTGTCATCCGTCATC          3       PTS3  IRIsham3        PT   \n",
       "IRIsham3_TTTGTCATCCTTCAAT          3       PTS2  IRIsham3        PT   \n",
       "IRIsham3_TTTGTCATCGTCCGTT          3       PTS1  IRIsham3        PT   \n",
       "\n",
       "                                                       full_name  \n",
       "IRI4h1_AAACCTGAGATCTGCT    Thick ascending limb of loop of Henle  \n",
       "IRI4h1_AAACCTGAGATTACCC                          Proximal tubule  \n",
       "IRI4h1_AAACCTGAGTGTTAGA                         Epithelial cells  \n",
       "IRI4h1_AAACCTGCACCAACCG                 Distal convoluted tubule  \n",
       "IRI4h1_AAACCTGCAGCCTGTG           medullary thick ascending limb  \n",
       "...                                                          ...  \n",
       "IRIsham3_TTTGTCATCAGGTTCA                       Epithelial cells  \n",
       "IRIsham3_TTTGTCATCATAACCG                        Principal cells  \n",
       "IRIsham3_TTTGTCATCCGTCATC                        Proximal tubule  \n",
       "IRIsham3_TTTGTCATCCTTCAAT                        Proximal tubule  \n",
       "IRIsham3_TTTGTCATCGTCCGTT                        Proximal tubule  \n",
       "\n",
       "[126578 rows x 9 columns]"
      ]
     },
     "execution_count": 10,
     "metadata": {},
     "output_type": "execute_result"
    }
   ],
   "source": [
    "adata.obs"
   ]
  },
  {
   "attachments": {},
   "cell_type": "markdown",
   "metadata": {},
   "source": [
    "## QC"
   ]
  },
  {
   "attachments": {},
   "cell_type": "markdown",
   "metadata": {},
   "source": [
    "Filter low quality cells & features"
   ]
  },
  {
   "cell_type": "code",
   "execution_count": 11,
   "metadata": {},
   "outputs": [
    {
     "data": {
      "text/plain": [
       "AnnData object with n_obs × n_vars = 126578 × 27133\n",
       "    obs: 'orig.ident', 'nCount_RNA', 'nFeature_RNA', 'Group', 'Replicates', 'cell_state', 'ident', 'cell_type', 'full_name'\n",
       "    uns: 'X_name'"
      ]
     },
     "execution_count": 11,
     "metadata": {},
     "output_type": "execute_result"
    }
   ],
   "source": [
    "adata"
   ]
  },
  {
   "cell_type": "code",
   "execution_count": 12,
   "metadata": {},
   "outputs": [],
   "source": [
    "# filter cells and genes\n",
    "sc.pp.filter_cells(adata, min_genes=200)\n",
    "sc.pp.filter_genes(adata, min_cells=5)"
   ]
  },
  {
   "cell_type": "code",
   "execution_count": null,
   "metadata": {},
   "outputs": [],
   "source": []
  },
  {
   "attachments": {},
   "cell_type": "markdown",
   "metadata": {},
   "source": [
    "Filter Non-expressed cell types"
   ]
  },
  {
   "cell_type": "code",
   "execution_count": 13,
   "metadata": {},
   "outputs": [],
   "source": [
    "# set filtering parameters\n",
    "min_cells = 15 # min number of cells per cell type\n",
    "min_samples = 10 # min number of samples that pass the threshold per cell type\n",
    "\n",
    "# get cell num per sample per cluster\n",
    "celltype_qc = adata.obs.groupby([sample_key, groupby]).size().reset_index(name='counts')\n",
    "# check which rows (sample-cell type combo) pass threshold\n",
    "celltype_qc['keep_min'] = celltype_qc['counts'] >= min_cells\n",
    "# how many samples passed the threshold\n",
    "celltype_qc['keep_sum'] = celltype_qc.groupby(groupby)['keep_min'].transform('sum')\n",
    "# identify which cell types don't pass sample threshold\n",
    "celltype_qc['keep_celltype'] = celltype_qc['keep_sum'] >= min_samples\n",
    "celltype_qc = celltype_qc[[sample_key, groupby, \"keep_sum\", 'keep_min', 'keep_celltype']]\n",
    "# drop duplicates\n",
    "celltype_qc = celltype_qc.drop_duplicates()"
   ]
  },
  {
   "cell_type": "code",
   "execution_count": 14,
   "metadata": {},
   "outputs": [
    {
     "data": {
      "text/html": [
       "<div>\n",
       "<style scoped>\n",
       "    .dataframe tbody tr th:only-of-type {\n",
       "        vertical-align: middle;\n",
       "    }\n",
       "\n",
       "    .dataframe tbody tr th {\n",
       "        vertical-align: top;\n",
       "    }\n",
       "\n",
       "    .dataframe thead th {\n",
       "        text-align: right;\n",
       "    }\n",
       "</style>\n",
       "<table border=\"1\" class=\"dataframe\">\n",
       "  <thead>\n",
       "    <tr style=\"text-align: right;\">\n",
       "      <th></th>\n",
       "      <th>ident</th>\n",
       "      <th>cell_type</th>\n",
       "      <th>keep_sum</th>\n",
       "      <th>keep_min</th>\n",
       "      <th>keep_celltype</th>\n",
       "    </tr>\n",
       "  </thead>\n",
       "  <tbody>\n",
       "    <tr>\n",
       "      <th>0</th>\n",
       "      <td>IRI12h1b1</td>\n",
       "      <td>CNT</td>\n",
       "      <td>24</td>\n",
       "      <td>True</td>\n",
       "      <td>True</td>\n",
       "    </tr>\n",
       "    <tr>\n",
       "      <th>1</th>\n",
       "      <td>IRI12h1b1</td>\n",
       "      <td>CTAL</td>\n",
       "      <td>24</td>\n",
       "      <td>True</td>\n",
       "      <td>True</td>\n",
       "    </tr>\n",
       "    <tr>\n",
       "      <th>2</th>\n",
       "      <td>IRI12h1b1</td>\n",
       "      <td>DCT</td>\n",
       "      <td>24</td>\n",
       "      <td>True</td>\n",
       "      <td>True</td>\n",
       "    </tr>\n",
       "    <tr>\n",
       "      <th>3</th>\n",
       "      <td>IRI12h1b1</td>\n",
       "      <td>DCT-CNT</td>\n",
       "      <td>22</td>\n",
       "      <td>True</td>\n",
       "      <td>True</td>\n",
       "    </tr>\n",
       "    <tr>\n",
       "      <th>4</th>\n",
       "      <td>IRI12h1b1</td>\n",
       "      <td>DTL-ATL</td>\n",
       "      <td>24</td>\n",
       "      <td>True</td>\n",
       "      <td>True</td>\n",
       "    </tr>\n",
       "    <tr>\n",
       "      <th>5</th>\n",
       "      <td>IRI12h1b1</td>\n",
       "      <td>EC</td>\n",
       "      <td>24</td>\n",
       "      <td>True</td>\n",
       "      <td>True</td>\n",
       "    </tr>\n",
       "    <tr>\n",
       "      <th>6</th>\n",
       "      <td>IRI12h1b1</td>\n",
       "      <td>Fib</td>\n",
       "      <td>24</td>\n",
       "      <td>True</td>\n",
       "      <td>True</td>\n",
       "    </tr>\n",
       "    <tr>\n",
       "      <th>7</th>\n",
       "      <td>IRI12h1b1</td>\n",
       "      <td>ICA</td>\n",
       "      <td>24</td>\n",
       "      <td>True</td>\n",
       "      <td>True</td>\n",
       "    </tr>\n",
       "    <tr>\n",
       "      <th>8</th>\n",
       "      <td>IRI12h1b1</td>\n",
       "      <td>ICB</td>\n",
       "      <td>24</td>\n",
       "      <td>True</td>\n",
       "      <td>True</td>\n",
       "    </tr>\n",
       "    <tr>\n",
       "      <th>9</th>\n",
       "      <td>IRI12h1b1</td>\n",
       "      <td>MD</td>\n",
       "      <td>2</td>\n",
       "      <td>False</td>\n",
       "      <td>False</td>\n",
       "    </tr>\n",
       "    <tr>\n",
       "      <th>10</th>\n",
       "      <td>IRI12h1b1</td>\n",
       "      <td>MO</td>\n",
       "      <td>23</td>\n",
       "      <td>True</td>\n",
       "      <td>True</td>\n",
       "    </tr>\n",
       "    <tr>\n",
       "      <th>11</th>\n",
       "      <td>IRI12h1b1</td>\n",
       "      <td>MTAL</td>\n",
       "      <td>24</td>\n",
       "      <td>True</td>\n",
       "      <td>True</td>\n",
       "    </tr>\n",
       "    <tr>\n",
       "      <th>12</th>\n",
       "      <td>IRI12h1b1</td>\n",
       "      <td>PC</td>\n",
       "      <td>24</td>\n",
       "      <td>True</td>\n",
       "      <td>True</td>\n",
       "    </tr>\n",
       "    <tr>\n",
       "      <th>13</th>\n",
       "      <td>IRI12h1b1</td>\n",
       "      <td>PEC</td>\n",
       "      <td>18</td>\n",
       "      <td>True</td>\n",
       "      <td>True</td>\n",
       "    </tr>\n",
       "    <tr>\n",
       "      <th>14</th>\n",
       "      <td>IRI12h1b1</td>\n",
       "      <td>PT</td>\n",
       "      <td>24</td>\n",
       "      <td>True</td>\n",
       "      <td>True</td>\n",
       "    </tr>\n",
       "    <tr>\n",
       "      <th>15</th>\n",
       "      <td>IRI12h1b1</td>\n",
       "      <td>Per</td>\n",
       "      <td>14</td>\n",
       "      <td>False</td>\n",
       "      <td>True</td>\n",
       "    </tr>\n",
       "    <tr>\n",
       "      <th>16</th>\n",
       "      <td>IRI12h1b1</td>\n",
       "      <td>Pod</td>\n",
       "      <td>22</td>\n",
       "      <td>True</td>\n",
       "      <td>True</td>\n",
       "    </tr>\n",
       "    <tr>\n",
       "      <th>17</th>\n",
       "      <td>IRI12h1b1</td>\n",
       "      <td>Tcell</td>\n",
       "      <td>17</td>\n",
       "      <td>True</td>\n",
       "      <td>True</td>\n",
       "    </tr>\n",
       "    <tr>\n",
       "      <th>18</th>\n",
       "      <td>IRI12h1b1</td>\n",
       "      <td>Uro</td>\n",
       "      <td>23</td>\n",
       "      <td>True</td>\n",
       "      <td>True</td>\n",
       "    </tr>\n",
       "  </tbody>\n",
       "</table>\n",
       "</div>"
      ],
      "text/plain": [
       "        ident cell_type  keep_sum  keep_min  keep_celltype\n",
       "0   IRI12h1b1       CNT        24      True           True\n",
       "1   IRI12h1b1      CTAL        24      True           True\n",
       "2   IRI12h1b1       DCT        24      True           True\n",
       "3   IRI12h1b1   DCT-CNT        22      True           True\n",
       "4   IRI12h1b1   DTL-ATL        24      True           True\n",
       "5   IRI12h1b1        EC        24      True           True\n",
       "6   IRI12h1b1       Fib        24      True           True\n",
       "7   IRI12h1b1       ICA        24      True           True\n",
       "8   IRI12h1b1       ICB        24      True           True\n",
       "9   IRI12h1b1        MD         2     False          False\n",
       "10  IRI12h1b1        MO        23      True           True\n",
       "11  IRI12h1b1      MTAL        24      True           True\n",
       "12  IRI12h1b1        PC        24      True           True\n",
       "13  IRI12h1b1       PEC        18      True           True\n",
       "14  IRI12h1b1        PT        24      True           True\n",
       "15  IRI12h1b1       Per        14     False           True\n",
       "16  IRI12h1b1       Pod        22      True           True\n",
       "17  IRI12h1b1     Tcell        17      True           True\n",
       "18  IRI12h1b1       Uro        23      True           True"
      ]
     },
     "execution_count": 14,
     "metadata": {},
     "output_type": "execute_result"
    }
   ],
   "source": [
    "celltype_qc.drop_duplicates([groupby, \"keep_celltype\"])"
   ]
  },
  {
   "cell_type": "code",
   "execution_count": 15,
   "metadata": {},
   "outputs": [],
   "source": [
    "adata.obs = adata.obs.reset_index().merge(celltype_qc, how='left').set_index('index')\n",
    "adata.obs.index.name = None"
   ]
  },
  {
   "cell_type": "code",
   "execution_count": 16,
   "metadata": {},
   "outputs": [],
   "source": [
    "adata = adata[(adata.obs['keep_celltype']), :]"
   ]
  },
  {
   "cell_type": "code",
   "execution_count": null,
   "metadata": {},
   "outputs": [],
   "source": []
  },
  {
   "attachments": {},
   "cell_type": "markdown",
   "metadata": {},
   "source": [
    "### Normalize"
   ]
  },
  {
   "cell_type": "code",
   "execution_count": 18,
   "metadata": {},
   "outputs": [
    {
     "name": "stderr",
     "output_type": "stream",
     "text": [
      "/tmp/ipykernel_465949/1155977868.py:1: FutureWarning: X.dtype being converted to np.float32 from float64. In the next version of anndata (0.9) conversion will not be automatic. Pass dtype explicitly to avoid this warning. Pass `AnnData(X, dtype=X.dtype, ...)` to get the future behavour.\n"
     ]
    }
   ],
   "source": [
    "adata.layers['counts'] = adata.X.copy()"
   ]
  },
  {
   "cell_type": "code",
   "execution_count": 19,
   "metadata": {},
   "outputs": [],
   "source": [
    "sc.pp.normalize_total(adata, target_sum=1e4)\n",
    "sc.pp.log1p(adata)"
   ]
  },
  {
   "cell_type": "code",
   "execution_count": null,
   "metadata": {},
   "outputs": [],
   "source": []
  },
  {
   "attachments": {},
   "cell_type": "markdown",
   "metadata": {},
   "source": [
    "Save the AnnData object"
   ]
  },
  {
   "cell_type": "code",
   "execution_count": 20,
   "metadata": {},
   "outputs": [],
   "source": [
    "adata.write_h5ad(data_dir + \"aki_processed.h5ad\")"
   ]
  },
  {
   "cell_type": "code",
   "execution_count": 21,
   "metadata": {},
   "outputs": [
    {
     "data": {
      "text/plain": [
       "AnnData object with n_obs × n_vars = 126313 × 24635\n",
       "    obs: 'orig.ident', 'nCount_RNA', 'nFeature_RNA', 'Group', 'Replicates', 'cell_state', 'ident', 'cell_type', 'full_name', 'n_genes', 'keep_sum', 'keep_min', 'keep_celltype'\n",
       "    var: 'n_cells'\n",
       "    uns: 'X_name', 'log1p'\n",
       "    layers: 'counts'"
      ]
     },
     "execution_count": 21,
     "metadata": {},
     "output_type": "execute_result"
    }
   ],
   "source": [
    "adata"
   ]
  },
  {
   "cell_type": "code",
   "execution_count": null,
   "metadata": {},
   "outputs": [],
   "source": []
  }
 ],
 "metadata": {
  "kernelspec": {
   "display_name": "spiana",
   "language": "python",
   "name": "python3"
  },
  "language_info": {
   "codemirror_mode": {
    "name": "ipython",
    "version": 3
   },
   "file_extension": ".py",
   "mimetype": "text/x-python",
   "name": "python",
   "nbconvert_exporter": "python",
   "pygments_lexer": "ipython3",
   "version": "3.10.10"
  },
  "orig_nbformat": 4
 },
 "nbformat": 4,
 "nbformat_minor": 2
}
