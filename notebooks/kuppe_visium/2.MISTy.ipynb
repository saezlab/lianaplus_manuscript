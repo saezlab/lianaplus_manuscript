{
 "cells": [
  {
   "cell_type": "code",
   "execution_count": null,
   "metadata": {},
   "outputs": [],
   "source": [
    "import os\n",
    "import numpy as np\n",
    "import pandas as pd\n",
    "\n",
    "import scanpy as sc\n",
    "import decoupler as dc\n",
    "import liana as li\n",
    "import squidpy as sq\n",
    "\n",
    "import muon as mu"
   ]
  },
  {
   "cell_type": "code",
   "execution_count": null,
   "metadata": {},
   "outputs": [],
   "source": [
    "from scipy.sparse import csr_matrix"
   ]
  },
  {
   "cell_type": "code",
   "execution_count": null,
   "metadata": {},
   "outputs": [],
   "source": [
    "data_dir = os.path.join('..', '..', 'data', 'heart_visium')"
   ]
  },
  {
   "cell_type": "code",
   "execution_count": null,
   "metadata": {},
   "outputs": [],
   "source": [
    "dataset_names = [f for f in os.listdir(data_dir) if f.endswith('.h5ad')]"
   ]
  },
  {
   "cell_type": "code",
   "execution_count": null,
   "metadata": {},
   "outputs": [],
   "source": [
    "metadata = pd.read_csv(os.path.join(\"..\", \"spot_calling\", \"visium_meta.csv\"))"
   ]
  },
  {
   "cell_type": "code",
   "execution_count": null,
   "metadata": {},
   "outputs": [],
   "source": [
    "# get IZ samples\n",
    "metadata = metadata[metadata['major_labl']=='IZ']"
   ]
  },
  {
   "cell_type": "code",
   "execution_count": null,
   "metadata": {},
   "outputs": [],
   "source": [
    "# load collecTRI regulons\n",
    "net = dc.get_dorothea(organism='human')"
   ]
  },
  {
   "cell_type": "code",
   "execution_count": null,
   "metadata": {},
   "outputs": [],
   "source": [
    "sc.set_figure_params(fontsize=16, figsize=(7, 7))"
   ]
  },
  {
   "cell_type": "code",
   "execution_count": null,
   "metadata": {},
   "outputs": [],
   "source": []
  },
  {
   "attachments": {},
   "cell_type": "markdown",
   "metadata": {},
   "source": [
    "Read in H loadings from NMF"
   ]
  },
  {
   "cell_type": "code",
   "execution_count": null,
   "metadata": {},
   "outputs": [],
   "source": [
    "selected_factor = 'Factor4'"
   ]
  },
  {
   "cell_type": "code",
   "execution_count": null,
   "metadata": {},
   "outputs": [],
   "source": [
    "lr_loadings = pd.read_csv(os.path.join(\"results\", \"lr_loadings.csv\"), index_col=0)"
   ]
  },
  {
   "cell_type": "code",
   "execution_count": null,
   "metadata": {},
   "outputs": [],
   "source": [
    "lr_loadings.sort_values(selected_factor, ascending=False).head(10)"
   ]
  },
  {
   "cell_type": "code",
   "execution_count": null,
   "metadata": {},
   "outputs": [],
   "source": [
    "# histogram\n",
    "lr_loadings[selected_factor].hist(bins=50, figsize=(10, 10))"
   ]
  },
  {
   "cell_type": "code",
   "execution_count": null,
   "metadata": {},
   "outputs": [],
   "source": [
    "# top_features = lr_loadings[lr_loadings['Factor1'] >= 0.6].index\n",
    "top_features = lr_loadings.sort_values(selected_factor, ascending=False).head(20).index"
   ]
  },
  {
   "cell_type": "code",
   "execution_count": null,
   "metadata": {},
   "outputs": [],
   "source": [
    "top_features"
   ]
  },
  {
   "cell_type": "code",
   "execution_count": null,
   "metadata": {},
   "outputs": [],
   "source": []
  },
  {
   "attachments": {},
   "cell_type": "markdown",
   "metadata": {},
   "source": [
    "Load files, join to MuData"
   ]
  },
  {
   "cell_type": "code",
   "execution_count": null,
   "metadata": {},
   "outputs": [],
   "source": [
    "mdatas = {}\n",
    "target_metrics = {}\n",
    "interactions = {}\n",
    "\n",
    "for sample in metadata['slide_name']:\n",
    "    print(f\"Now running: {sample}\")\n",
    "    \n",
    "    # nmf = sc.read_h5ad(os.path.join('results', 'nmf', sample + '.h5ad'))\n",
    "    lr = sc.read_h5ad(os.path.join('results', 'lr', sample + '.h5ad'))\n",
    "    \n",
    "    adata = sc.read_h5ad(os.path.join('results', 'processed', sample + '.h5ad'))\n",
    "    li.mt.spatial_neighbors(adata, bandwidth=100, set_diag=False, cutoff=0.01)\n",
    "    \n",
    "    # run TF enrichment\n",
    "    dc.run_ulm(adata,\n",
    "               net,\n",
    "               source=\"source\", target=\"target\",\n",
    "               use_raw=False, min_n=5)\n",
    "    \n",
    "    comp = li.fun.obsm_to_adata(adata, 'compositions')\n",
    "    tf = li.fun.obsm_to_adata(adata, 'ulm_estimate')\n",
    "    \n",
    "    mdata = mu.MuData({\"lr\":lr, \"comp\":comp, \"tf\":tf})\n",
    "    mu.pp.intersect_obs(mdata)\n",
    "    \n",
    "    # should I mask to only positive interactions?\n",
    "    # local_cats = li.fun.obsm_to_adata(mdata.mod['lr'], 'local_cats')\n",
    "    # msk = local_cats.X <= 0\n",
    "    # mdata.mod['lr'].X[msk] = 0\n",
    "    \n",
    "    # TODO: Misty accepts MuData also, not just dicts\n",
    "    msk = mdata.mod['lr'].var.index[mdata.mod['lr'].var_names.isin(top_features)]\n",
    "    \n",
    "    # TODO, for some reason this causes an error, if not done...\n",
    "    mdata.mod['comp'].X = csr_matrix(mdata.mod['comp'].X)\n",
    "    \n",
    "    mdata.mod['lr'].X = csr_matrix(mdata.mod['lr'].X)\n",
    "    \n",
    "    \n",
    "    mdata.mod['tf'].X = csr_matrix(mdata.mod['tf'].X)\n",
    "\n",
    "    \n",
    "    misty = li.mt.MistyData({\"intra\": mdata.mod['lr'][:, msk], \"tf\": mdata.mod['tf'], \"comp\": mdata.mod['comp']})\n",
    "    misty(model='linear', verbose=True, bypass_intra=True)\n",
    "    \n",
    "    target_metrics[sample] = misty.uns['target_metrics']\n",
    "    interactions[sample] = misty.uns['interactions']\n",
    "    \n",
    "    mdatas[sample] = mdata"
   ]
  },
  {
   "cell_type": "code",
   "execution_count": null,
   "metadata": {},
   "outputs": [],
   "source": []
  },
  {
   "cell_type": "code",
   "execution_count": null,
   "metadata": {},
   "outputs": [],
   "source": [
    "targets = pd.concat(target_metrics).reset_index().rename(columns={'level_0':'sample'}).drop(columns='level_1').copy()\n",
    "targets.to_csv(os.path.join(\"results\", \"misty_targets.csv\"))"
   ]
  },
  {
   "cell_type": "code",
   "execution_count": null,
   "metadata": {},
   "outputs": [],
   "source": [
    "ints = pd.concat(interactions).reset_index().rename(columns={'level_0':'sample'}).drop(columns='level_1').copy()\n",
    "ints.to_csv(os.path.join(\"results\", \"misty_interactions.csv\"))"
   ]
  },
  {
   "cell_type": "code",
   "execution_count": null,
   "metadata": {},
   "outputs": [],
   "source": []
  },
  {
   "cell_type": "code",
   "execution_count": null,
   "metadata": {},
   "outputs": [],
   "source": [
    "li.pl.target_metrics(misty, stat='gain_R2', return_fig=True, figure_size=(10, 5))"
   ]
  },
  {
   "cell_type": "code",
   "execution_count": null,
   "metadata": {},
   "outputs": [],
   "source": [
    "li.pl.contributions(misty, return_fig=True, figure_size=(5, 5))"
   ]
  },
  {
   "cell_type": "code",
   "execution_count": null,
   "metadata": {},
   "outputs": [],
   "source": []
  },
  {
   "cell_type": "code",
   "execution_count": null,
   "metadata": {},
   "outputs": [],
   "source": [
    "interactions = misty.uns['interactions'].copy()"
   ]
  },
  {
   "cell_type": "code",
   "execution_count": null,
   "metadata": {},
   "outputs": [],
   "source": [
    "interactions[interactions['view']=='tf'].sort_values(\"importances\", ascending=False, key=lambda x: abs(x)).head(15)"
   ]
  },
  {
   "cell_type": "code",
   "execution_count": null,
   "metadata": {},
   "outputs": [],
   "source": []
  },
  {
   "attachments": {},
   "cell_type": "markdown",
   "metadata": {},
   "source": [
    "Plot sample averages"
   ]
  },
  {
   "cell_type": "code",
   "execution_count": null,
   "metadata": {},
   "outputs": [],
   "source": [
    "import plotnine as p9"
   ]
  },
  {
   "cell_type": "code",
   "execution_count": null,
   "metadata": {},
   "outputs": [],
   "source": [
    "ints = pd.read_csv(os.path.join(\"results\", \"misty_interactions.csv\"), index_col=0)\n",
    "targets = pd.read_csv(os.path.join(\"results\", \"misty_targets.csv\"), index_col=0)"
   ]
  },
  {
   "cell_type": "code",
   "execution_count": null,
   "metadata": {},
   "outputs": [],
   "source": []
  },
  {
   "attachments": {},
   "cell_type": "markdown",
   "metadata": {},
   "source": [
    "Contributions"
   ]
  },
  {
   "cell_type": "code",
   "execution_count": null,
   "metadata": {},
   "outputs": [],
   "source": [
    "contributions = targets[['target', 'tf', 'comp', 'sample']].melt(id_vars=['target', 'sample'], var_name='view', value_name='contribution').copy()"
   ]
  },
  {
   "cell_type": "code",
   "execution_count": null,
   "metadata": {},
   "outputs": [],
   "source": [
    "### boxplot, ~target, x=view, y=contribution\n",
    "\n",
    "(\n",
    "    p9.ggplot(contributions, p9.aes(x='view', y='contribution', fill='view')) +\n",
    "    p9.geom_boxplot() +\n",
    "    p9.facet_wrap('~ target', nrow=1) +\n",
    "    p9.theme_bw() +\n",
    "    p9.theme(axis_text_x=p9.element_text(rotation=90),\n",
    "             figure_size=(10, 5),\n",
    "             strip_background=p9.element_rect(fill=\"white\"),\n",
    "             strip_text=p9.element_text(size=8, colour=\"black\", rotation=90),\n",
    "             axis_text_y=p9.element_text(size=8, colour=\"black\"),\n",
    "             )\n",
    "    # flip coord\n",
    ")\n"
   ]
  },
  {
   "cell_type": "code",
   "execution_count": null,
   "metadata": {},
   "outputs": [],
   "source": []
  },
  {
   "attachments": {},
   "cell_type": "markdown",
   "metadata": {},
   "source": [
    "#### R2 multi"
   ]
  },
  {
   "cell_type": "code",
   "execution_count": null,
   "metadata": {},
   "outputs": [],
   "source": [
    "targets"
   ]
  },
  {
   "cell_type": "code",
   "execution_count": null,
   "metadata": {},
   "outputs": [],
   "source": [
    "# boxplot of y=multi_R2, x=target\n",
    "(\n",
    "    p9.ggplot(targets, p9.aes(x='target', y='multi_R2')) +\n",
    "    p9.geom_boxplot() +\n",
    "    p9.theme_bw() +\n",
    "    p9.theme(axis_text_x=p9.element_text(rotation=90)) +\n",
    "    # limits of y\n",
    "    p9.ylim(0, 1)\n",
    "    \n",
    ") "
   ]
  },
  {
   "cell_type": "code",
   "execution_count": null,
   "metadata": {},
   "outputs": [],
   "source": []
  },
  {
   "cell_type": "code",
   "execution_count": null,
   "metadata": {},
   "outputs": [],
   "source": []
  },
  {
   "attachments": {},
   "cell_type": "markdown",
   "metadata": {},
   "source": [
    "### NOTE: there is an issue with NaN values being assigned from one extra to another...\n",
    "Remove intra_group and extra_group, if they are None."
   ]
  },
  {
   "cell_type": "code",
   "execution_count": null,
   "metadata": {},
   "outputs": [],
   "source": [
    "### boxplot of tf view\n",
    "sum_ints = ints.dropna().copy()"
   ]
  },
  {
   "cell_type": "code",
   "execution_count": null,
   "metadata": {},
   "outputs": [],
   "source": [
    "# mean and std\n",
    "sum_ints = sum_ints.groupby(['target', 'view', 'predictor']).agg({'importances':['mean', 'std', 'median']}).reset_index()\n",
    "# reset names\n",
    "sum_ints.columns = ['target', 'view', 'predictor', 'mean', 'std', 'median']"
   ]
  },
  {
   "cell_type": "code",
   "execution_count": null,
   "metadata": {},
   "outputs": [],
   "source": []
  },
  {
   "cell_type": "code",
   "execution_count": null,
   "metadata": {},
   "outputs": [],
   "source": [
    "# heatmap\n",
    "(\n",
    "    p9.ggplot(sum_ints[(sum_ints['view']=='comp')], p9.aes(x='predictor', y='target', fill='median')) + \n",
    "    p9.geom_tile() +\n",
    "    p9.theme_bw(base_size=16) +\n",
    "    p9.theme(axis_text_x=p9.element_text(angle=90)) +\n",
    "    p9.scale_fill_cmap('coolwarm') +\n",
    "    p9.theme(figure_size=(5, 5))\n",
    ")"
   ]
  },
  {
   "cell_type": "code",
   "execution_count": null,
   "metadata": {},
   "outputs": [],
   "source": []
  },
  {
   "attachments": {},
   "cell_type": "markdown",
   "metadata": {},
   "source": [
    "Top TFs"
   ]
  },
  {
   "cell_type": "code",
   "execution_count": null,
   "metadata": {},
   "outputs": [],
   "source": [
    "top_predictors = np.unique(sum_ints[sum_ints['view']=='tf'].sort_values('median', ascending=False).head(100)['predictor'])"
   ]
  },
  {
   "cell_type": "code",
   "execution_count": null,
   "metadata": {},
   "outputs": [],
   "source": [
    "# heatmap\n",
    "(\n",
    "    p9.ggplot(sum_ints[sum_ints['predictor'].isin(top_predictors)],\n",
    "              p9.aes(x='predictor', y='target', fill='median')) + \n",
    "    p9.geom_tile() +\n",
    "    p9.theme_bw(base_size=16) +\n",
    "    p9.theme(axis_text_x=p9.element_text(angle=90)) +\n",
    "    p9.scale_fill_cmap('coolwarm') +\n",
    "    p9.theme(figure_size=(8, 5))\n",
    "    \n",
    ")"
   ]
  },
  {
   "cell_type": "code",
   "execution_count": null,
   "metadata": {},
   "outputs": [],
   "source": []
  },
  {
   "attachments": {},
   "cell_type": "markdown",
   "metadata": {},
   "source": [
    "Boxplot of top predictors for interaction x"
   ]
  },
  {
   "cell_type": "code",
   "execution_count": null,
   "metadata": {},
   "outputs": [],
   "source": [
    "interaction = 'FN1&ITGA5_ITGB1'"
   ]
  },
  {
   "cell_type": "code",
   "execution_count": null,
   "metadata": {},
   "outputs": [],
   "source": [
    "top_ints = sum_ints[sum_ints['target']==interaction].sort_values(\"median\", key=lambda x: abs(x), ascending=False).head(15)"
   ]
  },
  {
   "cell_type": "code",
   "execution_count": null,
   "metadata": {},
   "outputs": [],
   "source": [
    "top_predictors = top_ints['predictor'].values"
   ]
  },
  {
   "cell_type": "code",
   "execution_count": null,
   "metadata": {},
   "outputs": [],
   "source": [
    "top_ints = ints[(ints['target']==interaction) & (ints['predictor'].isin(top_predictors))].copy()"
   ]
  },
  {
   "cell_type": "code",
   "execution_count": null,
   "metadata": {},
   "outputs": [],
   "source": [
    "top_ints['predictor'] = pd.Categorical(top_ints['predictor'], categories=top_predictors, ordered=True)"
   ]
  },
  {
   "cell_type": "code",
   "execution_count": null,
   "metadata": {},
   "outputs": [],
   "source": [
    "top_ints['view'].replace({'tf': 'Regulator', 'comp': 'Composition'}, inplace=True)"
   ]
  },
  {
   "cell_type": "code",
   "execution_count": null,
   "metadata": {},
   "outputs": [],
   "source": [
    "### boxplot\n",
    "(\n",
    "    p9.ggplot(top_ints, p9.aes(x='predictor', y='importances', color='view')) +\n",
    "    p9.geom_boxplot() +\n",
    "    p9.theme_minimal(base_size = 14) +\n",
    "    p9.theme(axis_text_x=p9.element_text(rotation=90), figure_size=(5, 4)) +\n",
    "    # labels\n",
    "    p9.labs(x='Predictor', y='Median t-value', color='View')\n",
    ")"
   ]
  },
  {
   "cell_type": "code",
   "execution_count": null,
   "metadata": {},
   "outputs": [],
   "source": []
  },
  {
   "attachments": {},
   "cell_type": "markdown",
   "metadata": {},
   "source": [
    "Example Slide"
   ]
  },
  {
   "cell_type": "code",
   "execution_count": null,
   "metadata": {},
   "outputs": [],
   "source": [
    "mdatas.keys()"
   ]
  },
  {
   "cell_type": "code",
   "execution_count": null,
   "metadata": {},
   "outputs": [],
   "source": [
    "slide = 'AKK003_157775'\n",
    "comp = 'Fib'\n",
    "tf = 'PAX6'"
   ]
  },
  {
   "cell_type": "code",
   "execution_count": null,
   "metadata": {},
   "outputs": [],
   "source": [
    "import re"
   ]
  },
  {
   "cell_type": "code",
   "execution_count": null,
   "metadata": {},
   "outputs": [],
   "source": [
    "mdata = mdatas['AKK003_157775'].copy()"
   ]
  },
  {
   "cell_type": "code",
   "execution_count": null,
   "metadata": {},
   "outputs": [],
   "source": [
    "sq.pl.spatial_scatter(mdata.mod['tf'], color=tf, cmap=\"coolwarm\", img_alpha=0.05, size=1.5)"
   ]
  },
  {
   "cell_type": "code",
   "execution_count": null,
   "metadata": {},
   "outputs": [],
   "source": [
    "sq.pl.spatial_scatter(mdata.mod['lr'], color=interaction, cmap=\"cividis\", img_alpha=0.05, alpha=1, shape='hex', size=1.5)"
   ]
  },
  {
   "cell_type": "code",
   "execution_count": null,
   "metadata": {},
   "outputs": [],
   "source": [
    "local_cats = li.fun.obsm_to_adata(mdata.mod['lr'], 'local_cats')"
   ]
  },
  {
   "cell_type": "code",
   "execution_count": null,
   "metadata": {},
   "outputs": [],
   "source": [
    "genes = re.split('[&_]', interaction)\n",
    "sq.pl.spatial_scatter(adata, color=genes, cmap=\"cividis\", img_alpha=0.05, alpha=1, shape='hex', size=1.5)"
   ]
  },
  {
   "cell_type": "code",
   "execution_count": null,
   "metadata": {},
   "outputs": [],
   "source": [
    "sq.pl.spatial_scatter(mdata.mod['comp'], color='Fib', cmap=\"cividis\", img_alpha=0.05, size=1.5)"
   ]
  },
  {
   "cell_type": "code",
   "execution_count": null,
   "metadata": {},
   "outputs": [],
   "source": []
  },
  {
   "attachments": {},
   "cell_type": "markdown",
   "metadata": {},
   "source": [
    "BASIS"
   ]
  },
  {
   "cell_type": "code",
   "execution_count": null,
   "metadata": {},
   "outputs": [],
   "source": [
    "lrdata = mdata.mod['lr']"
   ]
  },
  {
   "cell_type": "code",
   "execution_count": null,
   "metadata": {},
   "outputs": [],
   "source": [
    "mdata.obsp = lrdata.obsp.copy()\n",
    "mdata.obsm = lrdata.obsm.copy()\n",
    "mdata.uns = lrdata.uns.copy()"
   ]
  },
  {
   "cell_type": "code",
   "execution_count": null,
   "metadata": {},
   "outputs": [],
   "source": [
    "\n",
    "# mdata.mod['lr'].X = mdata.mod['lr'].layers['X'].copy()\n",
    "# mdata.mod['comp'].X = mdata.mod['comp'].layers['X'].copy()\n",
    "\n",
    "mdata.mod['lr'].layers['X'] = mdata.mod['lr'].X.copy()\n",
    "mdata.mod['comp'].layers['X'] = mdata.mod['comp'].X.copy()\n",
    "sc.pp.scale(mdata.mod['lr'])\n",
    "sc.pp.scale(mdata.mod['comp'])\n"
   ]
  },
  {
   "cell_type": "code",
   "execution_count": null,
   "metadata": {},
   "outputs": [],
   "source": [
    "mdata.mod['tf'].layers['X'] = mdata.mod['tf'].X.copy()\n",
    "sc.pp.scale(mdata.mod['tf'])"
   ]
  },
  {
   "cell_type": "code",
   "execution_count": null,
   "metadata": {},
   "outputs": [],
   "source": []
  },
  {
   "cell_type": "code",
   "execution_count": null,
   "metadata": {},
   "outputs": [],
   "source": [
    "li.mt.bivar(mdata, function_name='cosine', x_mod='tf', y_mod='lr',\n",
    "            interactions=[(tf, interaction)], positive_only=True, add_categories=True,\n",
    "            pvalue_method='permutation'\n",
    "            )"
   ]
  },
  {
   "cell_type": "code",
   "execution_count": null,
   "metadata": {},
   "outputs": [],
   "source": [
    "sq.pl.spatial_scatter(mdata.mod['local_scores'], color=f'{tf}^{interaction}', cmap=\"magma\", img_alpha=0.05, size=1.5)"
   ]
  },
  {
   "cell_type": "code",
   "execution_count": null,
   "metadata": {},
   "outputs": [],
   "source": [
    "local_cats = li.fun.obsm_to_adata(mdata.mod['local_scores'], 'local_cats')"
   ]
  },
  {
   "cell_type": "code",
   "execution_count": null,
   "metadata": {},
   "outputs": [],
   "source": [
    "sq.pl.spatial_scatter(local_cats, color=f'{tf}^{interaction}', cmap=\"coolwarm\", img_alpha=0.05, size=1.5)"
   ]
  },
  {
   "cell_type": "code",
   "execution_count": null,
   "metadata": {},
   "outputs": [],
   "source": []
  },
  {
   "cell_type": "code",
   "execution_count": null,
   "metadata": {},
   "outputs": [],
   "source": [
    "local_pvals = li.fun.obsm_to_adata(mdata, 'local_pvals')"
   ]
  },
  {
   "cell_type": "code",
   "execution_count": null,
   "metadata": {},
   "outputs": [],
   "source": [
    "sq.pl.spatial_scatter(local_pvals, color=f'{tf}^{interaction}', cmap=\"Blues\", img_alpha=0.05, size=1.5)"
   ]
  },
  {
   "cell_type": "code",
   "execution_count": null,
   "metadata": {},
   "outputs": [],
   "source": []
  },
  {
   "cell_type": "code",
   "execution_count": null,
   "metadata": {},
   "outputs": [],
   "source": [
    "nmfdata = sc.read_h5ad(os.path.join('results', 'nmf', slide+'.h5ad'))"
   ]
  },
  {
   "cell_type": "code",
   "execution_count": null,
   "metadata": {},
   "outputs": [],
   "source": [
    "# neon cmap\n",
    "sq.pl.spatial_scatter(nmfdata, color='Factor4', cmap=\"viridis\", img_alpha=0.05, size=1.5)"
   ]
  },
  {
   "cell_type": "code",
   "execution_count": null,
   "metadata": {},
   "outputs": [],
   "source": []
  }
 ],
 "metadata": {
  "kernelspec": {
   "display_name": "spiana",
   "language": "python",
   "name": "python3"
  },
  "language_info": {
   "codemirror_mode": {
    "name": "ipython",
    "version": 3
   },
   "file_extension": ".py",
   "mimetype": "text/x-python",
   "name": "python",
   "nbconvert_exporter": "python",
   "pygments_lexer": "ipython3",
   "version": "3.10.10"
  },
  "orig_nbformat": 4
 },
 "nbformat": 4,
 "nbformat_minor": 2
}
