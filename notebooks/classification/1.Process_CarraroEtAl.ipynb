{
 "cells": [
  {
   "attachments": {},
   "cell_type": "markdown",
   "metadata": {},
   "source": [
    "# Process Carraro et al."
   ]
  },
  {
   "attachments": {},
   "cell_type": "markdown",
   "metadata": {},
   "source": [
    "Note: This one has brutal batch effect (by lab)"
   ]
  },
  {
   "attachments": {},
   "cell_type": "markdown",
   "metadata": {},
   "source": [
    "## Set up Env"
   ]
  },
  {
   "cell_type": "code",
   "execution_count": 1,
   "metadata": {},
   "outputs": [],
   "source": [
    "import os\n",
    "import pandas as pd\n",
    "import numpy as np\n",
    "import scanpy as sc\n",
    "from scipy.sparse import csr_matrix"
   ]
  },
  {
   "cell_type": "code",
   "execution_count": 2,
   "metadata": {},
   "outputs": [],
   "source": [
    "import liana as li"
   ]
  },
  {
   "cell_type": "code",
   "execution_count": 3,
   "metadata": {},
   "outputs": [],
   "source": [
    "from prep_utils import filter_samples, filter_celltypes"
   ]
  },
  {
   "cell_type": "code",
   "execution_count": 4,
   "metadata": {},
   "outputs": [],
   "source": [
    "dataset = 'carraro'\n",
    "groupby = 'major'\n",
    "sample_key = 'orig.ident'\n",
    "condition_key = 'type'\n",
    "batch_key = 'lab'\n",
    "\n",
    "min_cells_per_sample = 700\n",
    "sample_zcounts_max = 3\n",
    "sample_zcounts_min = -2\n",
    "\n",
    "# set filtering parameters\n",
    "min_cells = 10 # min number of cells per cell type\n",
    "min_samples = 5 # min number of samples that pass the threshold per cell type"
   ]
  },
  {
   "cell_type": "code",
   "execution_count": null,
   "metadata": {},
   "outputs": [],
   "source": []
  },
  {
   "attachments": {},
   "cell_type": "markdown",
   "metadata": {},
   "source": [
    "## Preprocess"
   ]
  },
  {
   "attachments": {},
   "cell_type": "markdown",
   "metadata": {},
   "source": [
    "### Load data"
   ]
  },
  {
   "cell_type": "code",
   "execution_count": 5,
   "metadata": {},
   "outputs": [
    {
     "data": {
      "text/plain": [
       "AnnData object with n_obs × n_vars = 40709 × 31229\n",
       "    obs: 'orig.ident', 'nCount_RNA', 'nFeature_RNA', 'lab', 'type', 'mutation', 'percent.mt', 'percent.rp', 'major', 'minor', 'ident'\n",
       "    uns: 'X_name'"
      ]
     },
     "execution_count": 5,
     "metadata": {},
     "output_type": "execute_result"
    }
   ],
   "source": [
    "adata = sc.read_h5ad(os.path.join('data', f\"{dataset}.h5ad\"))\n",
    "adata"
   ]
  },
  {
   "attachments": {},
   "cell_type": "markdown",
   "metadata": {},
   "source": [
    "Filter samples, cell types, and genes"
   ]
  },
  {
   "cell_type": "code",
   "execution_count": 6,
   "metadata": {},
   "outputs": [
    {
     "name": "stdout",
     "output_type": "stream",
     "text": [
      "      orig.ident\n",
      "type            \n",
      "CF             8\n",
      "CO            14\n"
     ]
    }
   ],
   "source": [
    "adata = filter_samples(adata, sample_key, condition_key, min_cells_per_sample, sample_zcounts_max, sample_zcounts_min)"
   ]
  },
  {
   "cell_type": "code",
   "execution_count": 7,
   "metadata": {},
   "outputs": [],
   "source": [
    "adata = filter_celltypes(adata=adata, groupby=groupby, sample_key=sample_key, min_cells=min_cells, min_samples=min_samples)"
   ]
  },
  {
   "cell_type": "code",
   "execution_count": 8,
   "metadata": {},
   "outputs": [
    {
     "name": "stderr",
     "output_type": "stream",
     "text": [
      "/home/dbdimitrov/anaconda3/envs/spiana/lib/python3.10/site-packages/scanpy/preprocessing/_simple.py:251: ImplicitModificationWarning: Trying to modify attribute `.var` of view, initializing view as actual.\n",
      "/home/dbdimitrov/anaconda3/envs/spiana/lib/python3.10/contextlib.py:142: FutureWarning: X.dtype being converted to np.float32 from float64. In the next version of anndata (0.9) conversion will not be automatic. Pass dtype explicitly to avoid this warning. Pass `AnnData(X, dtype=X.dtype, ...)` to get the future behavour.\n"
     ]
    },
    {
     "data": {
      "text/plain": [
       "AnnData object with n_obs × n_vars = 34274 × 20531\n",
       "    obs: 'orig.ident', 'nCount_RNA', 'nFeature_RNA', 'lab', 'type', 'mutation', 'percent.mt', 'percent.rp', 'major', 'minor', 'ident'\n",
       "    var: 'n_cells'\n",
       "    uns: 'X_name'"
      ]
     },
     "execution_count": 8,
     "metadata": {},
     "output_type": "execute_result"
    }
   ],
   "source": [
    "# Remove genes expressed in few cells, normalize\n",
    "sc.pp.filter_genes(adata, min_cells=30)\n",
    "adata"
   ]
  },
  {
   "cell_type": "code",
   "execution_count": null,
   "metadata": {},
   "outputs": [],
   "source": []
  },
  {
   "cell_type": "code",
   "execution_count": 9,
   "metadata": {},
   "outputs": [],
   "source": [
    "# adata.X = sc.pp.combat(adata, key=batch_key)"
   ]
  },
  {
   "cell_type": "code",
   "execution_count": null,
   "metadata": {},
   "outputs": [],
   "source": []
  },
  {
   "attachments": {},
   "cell_type": "markdown",
   "metadata": {},
   "source": [
    "### Normalize"
   ]
  },
  {
   "cell_type": "code",
   "execution_count": 10,
   "metadata": {},
   "outputs": [],
   "source": [
    "sc.pp.normalize_total(adata, target_sum=1e4)\n",
    "sc.pp.log1p(adata)"
   ]
  },
  {
   "cell_type": "code",
   "execution_count": null,
   "metadata": {},
   "outputs": [],
   "source": []
  },
  {
   "attachments": {},
   "cell_type": "markdown",
   "metadata": {},
   "source": [
    "## Run LIANA"
   ]
  },
  {
   "cell_type": "code",
   "execution_count": 11,
   "metadata": {},
   "outputs": [
    {
     "name": "stderr",
     "output_type": "stream",
     "text": [
      "Now running: BG9_12:   0%|          | 0/22 [00:00<?, ?it/s]/home/dbdimitrov/anaconda3/envs/spiana/lib/python3.10/site-packages/pandas/core/indexing.py:1728: ImplicitModificationWarning: Trying to modify attribute `.obs` of view, initializing view as actual.\n",
      "Now running: BG9_19:   5%|▍         | 1/22 [00:03<01:15,  3.61s/it]/home/dbdimitrov/anaconda3/envs/spiana/lib/python3.10/site-packages/pandas/core/indexing.py:1728: ImplicitModificationWarning: Trying to modify attribute `.obs` of view, initializing view as actual.\n",
      "Now running: BG9_20:   9%|▉         | 2/22 [00:07<01:20,  4.03s/it]/home/dbdimitrov/anaconda3/envs/spiana/lib/python3.10/site-packages/pandas/core/indexing.py:1728: ImplicitModificationWarning: Trying to modify attribute `.obs` of view, initializing view as actual.\n",
      "Now running: BG9_21:  14%|█▎        | 3/22 [00:12<01:18,  4.14s/it]/home/dbdimitrov/anaconda3/envs/spiana/lib/python3.10/site-packages/pandas/core/indexing.py:1728: ImplicitModificationWarning: Trying to modify attribute `.obs` of view, initializing view as actual.\n",
      "Now running: BG9_22:  18%|█▊        | 4/22 [00:16<01:12,  4.01s/it]/home/dbdimitrov/anaconda3/envs/spiana/lib/python3.10/site-packages/pandas/core/indexing.py:1728: ImplicitModificationWarning: Trying to modify attribute `.obs` of view, initializing view as actual.\n",
      "Now running: BG9_23:  23%|██▎       | 5/22 [00:19<01:05,  3.87s/it]/home/dbdimitrov/anaconda3/envs/spiana/lib/python3.10/site-packages/pandas/core/indexing.py:1728: ImplicitModificationWarning: Trying to modify attribute `.obs` of view, initializing view as actual.\n",
      "Now running: BG9_31:  27%|██▋       | 6/22 [00:23<01:00,  3.75s/it]/home/dbdimitrov/anaconda3/envs/spiana/lib/python3.10/site-packages/pandas/core/indexing.py:1728: ImplicitModificationWarning: Trying to modify attribute `.obs` of view, initializing view as actual.\n",
      "Now running: BG9_33:  32%|███▏      | 7/22 [00:26<00:55,  3.72s/it]/home/dbdimitrov/anaconda3/envs/spiana/lib/python3.10/site-packages/pandas/core/indexing.py:1728: ImplicitModificationWarning: Trying to modify attribute `.obs` of view, initializing view as actual.\n",
      "Now running: BG9_34:  36%|███▋      | 8/22 [00:30<00:51,  3.68s/it]/home/dbdimitrov/anaconda3/envs/spiana/lib/python3.10/site-packages/pandas/core/indexing.py:1728: ImplicitModificationWarning: Trying to modify attribute `.obs` of view, initializing view as actual.\n",
      "Now running: BG9_37:  41%|████      | 9/22 [00:34<00:47,  3.66s/it]/home/dbdimitrov/anaconda3/envs/spiana/lib/python3.10/site-packages/pandas/core/indexing.py:1728: ImplicitModificationWarning: Trying to modify attribute `.obs` of view, initializing view as actual.\n",
      "Now running: cc01p:  45%|████▌     | 10/22 [00:37<00:42,  3.53s/it] /home/dbdimitrov/anaconda3/envs/spiana/lib/python3.10/site-packages/pandas/core/indexing.py:1728: ImplicitModificationWarning: Trying to modify attribute `.obs` of view, initializing view as actual.\n",
      "Now running: cc04p:  50%|█████     | 11/22 [00:41<00:40,  3.66s/it]/home/dbdimitrov/anaconda3/envs/spiana/lib/python3.10/site-packages/pandas/core/indexing.py:1728: ImplicitModificationWarning: Trying to modify attribute `.obs` of view, initializing view as actual.\n",
      "Now running: cc05p:  55%|█████▍    | 12/22 [00:45<00:39,  3.91s/it]/home/dbdimitrov/anaconda3/envs/spiana/lib/python3.10/site-packages/pandas/core/indexing.py:1728: ImplicitModificationWarning: Trying to modify attribute `.obs` of view, initializing view as actual.\n",
      "Now running: cf019:  59%|█████▉    | 13/22 [00:49<00:35,  3.92s/it]/home/dbdimitrov/anaconda3/envs/spiana/lib/python3.10/site-packages/pandas/core/indexing.py:1728: ImplicitModificationWarning: Trying to modify attribute `.obs` of view, initializing view as actual.\n",
      "Now running: CF301018:  64%|██████▎   | 14/22 [00:53<00:30,  3.85s/it]/home/dbdimitrov/anaconda3/envs/spiana/lib/python3.10/site-packages/pandas/core/indexing.py:1728: ImplicitModificationWarning: Trying to modify attribute `.obs` of view, initializing view as actual.\n",
      "Now running: dd09p:  68%|██████▊   | 15/22 [00:57<00:27,  3.86s/it]   /home/dbdimitrov/anaconda3/envs/spiana/lib/python3.10/site-packages/pandas/core/indexing.py:1728: ImplicitModificationWarning: Trying to modify attribute `.obs` of view, initializing view as actual.\n",
      "Now running: dd10p:  73%|███████▎  | 16/22 [01:01<00:23,  3.93s/it]/home/dbdimitrov/anaconda3/envs/spiana/lib/python3.10/site-packages/pandas/core/indexing.py:1728: ImplicitModificationWarning: Trying to modify attribute `.obs` of view, initializing view as actual.\n",
      "Now running: dd39p:  77%|███████▋  | 17/22 [01:06<00:20,  4.15s/it]/home/dbdimitrov/anaconda3/envs/spiana/lib/python3.10/site-packages/pandas/core/indexing.py:1728: ImplicitModificationWarning: Trying to modify attribute `.obs` of view, initializing view as actual.\n",
      "Now running: dd49p:  82%|████████▏ | 18/22 [01:10<00:16,  4.20s/it]/home/dbdimitrov/anaconda3/envs/spiana/lib/python3.10/site-packages/pandas/core/indexing.py:1728: ImplicitModificationWarning: Trying to modify attribute `.obs` of view, initializing view as actual.\n",
      "Now running: KKD019N:  86%|████████▋ | 19/22 [01:14<00:12,  4.30s/it]/home/dbdimitrov/anaconda3/envs/spiana/lib/python3.10/site-packages/pandas/core/indexing.py:1728: ImplicitModificationWarning: Trying to modify attribute `.obs` of view, initializing view as actual.\n",
      "Now running: ND15656:  91%|█████████ | 20/22 [01:19<00:08,  4.45s/it]/home/dbdimitrov/anaconda3/envs/spiana/lib/python3.10/site-packages/pandas/core/indexing.py:1728: ImplicitModificationWarning: Trying to modify attribute `.obs` of view, initializing view as actual.\n",
      "Now running: ND15989:  95%|█████████▌| 21/22 [01:25<00:04,  4.82s/it]/home/dbdimitrov/anaconda3/envs/spiana/lib/python3.10/site-packages/pandas/core/indexing.py:1728: ImplicitModificationWarning: Trying to modify attribute `.obs` of view, initializing view as actual.\n",
      "Now running: ND15989: 100%|██████████| 22/22 [01:30<00:00,  4.12s/it]\n"
     ]
    }
   ],
   "source": [
    "li.mt.rank_aggregate.by_sample(adata, groupby=groupby, use_raw=False, sample_key=sample_key, verbose=True, n_perms=None)"
   ]
  },
  {
   "cell_type": "code",
   "execution_count": null,
   "metadata": {},
   "outputs": [],
   "source": []
  },
  {
   "attachments": {},
   "cell_type": "markdown",
   "metadata": {},
   "source": [
    "### Add Metadata & Write"
   ]
  },
  {
   "cell_type": "code",
   "execution_count": 12,
   "metadata": {},
   "outputs": [],
   "source": [
    "adata.uns['sample_key'] = sample_key\n",
    "adata.uns['batch_key'] = batch_key\n",
    "adata.uns['condition_key'] = condition_key"
   ]
  },
  {
   "cell_type": "code",
   "execution_count": 13,
   "metadata": {},
   "outputs": [],
   "source": [
    "assert np.isin(['sample_key', 'batch_key', 'condition_key'], adata.uns_keys()).all()"
   ]
  },
  {
   "cell_type": "code",
   "execution_count": 14,
   "metadata": {},
   "outputs": [],
   "source": [
    "adata.write_h5ad(os.path.join('data', f\"{dataset}_processed.h5ad\"))"
   ]
  },
  {
   "cell_type": "code",
   "execution_count": null,
   "metadata": {},
   "outputs": [],
   "source": []
  },
  {
   "attachments": {},
   "cell_type": "markdown",
   "metadata": {},
   "source": [
    "## Classify"
   ]
  },
  {
   "cell_type": "code",
   "execution_count": 15,
   "metadata": {},
   "outputs": [
    {
     "name": "stderr",
     "output_type": "stream",
     "text": [
      "/home/dbdimitrov/anaconda3/envs/spiana/lib/python3.10/site-packages/tqdm/auto.py:21: TqdmWarning: IProgress not found. Please update jupyter and ipywidgets. See https://ipywidgets.readthedocs.io/en/stable/user_install.html\n"
     ]
    }
   ],
   "source": [
    "from classify_utils import classifier_pipe"
   ]
  },
  {
   "cell_type": "code",
   "execution_count": 16,
   "metadata": {},
   "outputs": [],
   "source": [
    "adata = sc.read_h5ad(os.path.join('data', f\"{dataset}_processed.h5ad\"), backed='r')"
   ]
  },
  {
   "cell_type": "code",
   "execution_count": 17,
   "metadata": {},
   "outputs": [
    {
     "name": "stdout",
     "output_type": "stream",
     "text": [
      "Creating views with: lr_means\n"
     ]
    },
    {
     "name": "stderr",
     "output_type": "stream",
     "text": [
      "100%|██████████| 16/16 [00:00<00:00, 216.19it/s]\n"
     ]
    },
    {
     "name": "stdout",
     "output_type": "stream",
     "text": [
      "\n",
      "        #########################################################\n",
      "        ###           __  __  ____  ______                    ### \n",
      "        ###          |  \\/  |/ __ \\|  ____/\\    _             ### \n",
      "        ###          | \\  / | |  | | |__ /  \\ _| |_           ### \n",
      "        ###          | |\\/| | |  | |  __/ /\\ \\_   _|          ###\n",
      "        ###          | |  | | |__| | | / ____ \\|_|            ###\n",
      "        ###          |_|  |_|\\____/|_|/_/    \\_\\              ###\n",
      "        ###                                                   ### \n",
      "        ######################################################### \n",
      "       \n",
      " \n",
      "        \n",
      "Loaded view='Secretory&Ciliated' group='group1' with N=22 samples and D=199 features...\n",
      "Loaded view='Secretory&Secretory' group='group1' with N=22 samples and D=253 features...\n",
      "Loaded view='Secretory&Basal' group='group1' with N=22 samples and D=290 features...\n",
      "Loaded view='Basal&Basal' group='group1' with N=22 samples and D=387 features...\n",
      "Loaded view='Basal&Secretory' group='group1' with N=22 samples and D=332 features...\n",
      "Loaded view='Ciliated&Ciliated' group='group1' with N=22 samples and D=157 features...\n",
      "Loaded view='Ciliated&Secretory' group='group1' with N=22 samples and D=190 features...\n",
      "Loaded view='Basal&Ciliated' group='group1' with N=22 samples and D=240 features...\n",
      "Loaded view='Ciliated&Basal' group='group1' with N=22 samples and D=221 features...\n",
      "Loaded view='FOXN4+&FOXN4+' group='group1' with N=22 samples and D=151 features...\n",
      "Loaded view='Ciliated&FOXN4+' group='group1' with N=22 samples and D=138 features...\n",
      "Loaded view='Secretory&FOXN4+' group='group1' with N=22 samples and D=163 features...\n",
      "Loaded view='FOXN4+&Basal' group='group1' with N=22 samples and D=185 features...\n",
      "Loaded view='FOXN4+&Ciliated' group='group1' with N=22 samples and D=131 features...\n",
      "Loaded view='FOXN4+&Secretory' group='group1' with N=22 samples and D=151 features...\n",
      "Loaded view='Basal&FOXN4+' group='group1' with N=22 samples and D=213 features...\n",
      "\n",
      "\n",
      "Model options:\n",
      "- Automatic Relevance Determination prior on the factors: True\n",
      "- Automatic Relevance Determination prior on the weights: True\n",
      "- Spike-and-slab prior on the factors: False\n",
      "- Spike-and-slab prior on the weights: True\n",
      "Likelihoods:\n",
      "- View 0 (Secretory&Ciliated): gaussian\n",
      "- View 1 (Secretory&Secretory): gaussian\n",
      "- View 2 (Secretory&Basal): gaussian\n",
      "- View 3 (Basal&Basal): gaussian\n",
      "- View 4 (Basal&Secretory): gaussian\n",
      "- View 5 (Ciliated&Ciliated): gaussian\n",
      "- View 6 (Ciliated&Secretory): gaussian\n",
      "- View 7 (Basal&Ciliated): gaussian\n",
      "- View 8 (Ciliated&Basal): gaussian\n",
      "- View 9 (FOXN4+&FOXN4+): gaussian\n",
      "- View 10 (Ciliated&FOXN4+): gaussian\n",
      "- View 11 (Secretory&FOXN4+): gaussian\n",
      "- View 12 (FOXN4+&Basal): gaussian\n",
      "- View 13 (FOXN4+&Ciliated): gaussian\n",
      "- View 14 (FOXN4+&Secretory): gaussian\n",
      "- View 15 (Basal&FOXN4+): gaussian\n",
      "\n",
      "\n",
      "\n",
      "\n",
      "######################################\n",
      "## Training the model with seed 1337 ##\n",
      "######################################\n",
      "\n",
      "\n",
      "\n",
      "Converged!\n",
      "\n",
      "\n",
      "\n",
      "#######################\n",
      "## Training finished ##\n",
      "#######################\n",
      "\n",
      "\n",
      "Saving model in /tmp/mofa_20230421-110206.hdf5...\n",
      "Saved MOFA embeddings in .obsm['X_mofa'] slot and their loadings in .varm['LFs'].\n"
     ]
    },
    {
     "name": "stderr",
     "output_type": "stream",
     "text": [
      "100%|██████████| 22/22 [00:19<00:00,  1.11it/s]\n"
     ]
    },
    {
     "name": "stdout",
     "output_type": "stream",
     "text": [
      "Running Tensor Factorization\n",
      "Creating views with: expr_prod\n"
     ]
    },
    {
     "name": "stderr",
     "output_type": "stream",
     "text": [
      "100%|██████████| 16/16 [00:00<00:00, 164.44it/s]\n"
     ]
    },
    {
     "name": "stdout",
     "output_type": "stream",
     "text": [
      "\n",
      "        #########################################################\n",
      "        ###           __  __  ____  ______                    ### \n",
      "        ###          |  \\/  |/ __ \\|  ____/\\    _             ### \n",
      "        ###          | \\  / | |  | | |__ /  \\ _| |_           ### \n",
      "        ###          | |\\/| | |  | |  __/ /\\ \\_   _|          ###\n",
      "        ###          | |  | | |__| | | / ____ \\|_|            ###\n",
      "        ###          |_|  |_|\\____/|_|/_/    \\_\\              ###\n",
      "        ###                                                   ### \n",
      "        ######################################################### \n",
      "       \n",
      " \n",
      "        \n",
      "Loaded view='Secretory&Ciliated' group='group1' with N=22 samples and D=199 features...\n",
      "Loaded view='Secretory&Secretory' group='group1' with N=22 samples and D=253 features...\n",
      "Loaded view='Secretory&Basal' group='group1' with N=22 samples and D=290 features...\n",
      "Loaded view='Basal&Basal' group='group1' with N=22 samples and D=387 features...\n",
      "Loaded view='Basal&Secretory' group='group1' with N=22 samples and D=332 features...\n",
      "Loaded view='Ciliated&Ciliated' group='group1' with N=22 samples and D=157 features...\n",
      "Loaded view='Ciliated&Secretory' group='group1' with N=22 samples and D=190 features...\n",
      "Loaded view='Basal&Ciliated' group='group1' with N=22 samples and D=240 features...\n",
      "Loaded view='Ciliated&Basal' group='group1' with N=22 samples and D=221 features...\n",
      "Loaded view='FOXN4+&FOXN4+' group='group1' with N=22 samples and D=151 features...\n",
      "Loaded view='Ciliated&FOXN4+' group='group1' with N=22 samples and D=138 features...\n",
      "Loaded view='Secretory&FOXN4+' group='group1' with N=22 samples and D=163 features...\n",
      "Loaded view='FOXN4+&Basal' group='group1' with N=22 samples and D=185 features...\n",
      "Loaded view='FOXN4+&Ciliated' group='group1' with N=22 samples and D=131 features...\n",
      "Loaded view='FOXN4+&Secretory' group='group1' with N=22 samples and D=151 features...\n",
      "Loaded view='Basal&FOXN4+' group='group1' with N=22 samples and D=213 features...\n",
      "\n",
      "\n",
      "Model options:\n",
      "- Automatic Relevance Determination prior on the factors: True\n",
      "- Automatic Relevance Determination prior on the weights: True\n",
      "- Spike-and-slab prior on the factors: False\n",
      "- Spike-and-slab prior on the weights: True\n",
      "Likelihoods:\n",
      "- View 0 (Secretory&Ciliated): gaussian\n",
      "- View 1 (Secretory&Secretory): gaussian\n",
      "- View 2 (Secretory&Basal): gaussian\n",
      "- View 3 (Basal&Basal): gaussian\n",
      "- View 4 (Basal&Secretory): gaussian\n",
      "- View 5 (Ciliated&Ciliated): gaussian\n",
      "- View 6 (Ciliated&Secretory): gaussian\n",
      "- View 7 (Basal&Ciliated): gaussian\n",
      "- View 8 (Ciliated&Basal): gaussian\n",
      "- View 9 (FOXN4+&FOXN4+): gaussian\n",
      "- View 10 (Ciliated&FOXN4+): gaussian\n",
      "- View 11 (Secretory&FOXN4+): gaussian\n",
      "- View 12 (FOXN4+&Basal): gaussian\n",
      "- View 13 (FOXN4+&Ciliated): gaussian\n",
      "- View 14 (FOXN4+&Secretory): gaussian\n",
      "- View 15 (Basal&FOXN4+): gaussian\n",
      "\n",
      "\n",
      "\n",
      "\n",
      "######################################\n",
      "## Training the model with seed 1337 ##\n",
      "######################################\n",
      "\n",
      "\n",
      "\n",
      "Converged!\n",
      "\n",
      "\n",
      "\n",
      "#######################\n",
      "## Training finished ##\n",
      "#######################\n",
      "\n",
      "\n",
      "Saving model in /tmp/mofa_20230421-110317.hdf5...\n",
      "Saved MOFA embeddings in .obsm['X_mofa'] slot and their loadings in .varm['LFs'].\n"
     ]
    },
    {
     "name": "stderr",
     "output_type": "stream",
     "text": [
      "100%|██████████| 22/22 [00:19<00:00,  1.15it/s]\n"
     ]
    },
    {
     "name": "stdout",
     "output_type": "stream",
     "text": [
      "Running Tensor Factorization\n",
      "Creating views with: lr_logfc\n"
     ]
    },
    {
     "name": "stderr",
     "output_type": "stream",
     "text": [
      "100%|██████████| 16/16 [00:00<00:00, 213.91it/s]\n"
     ]
    },
    {
     "name": "stdout",
     "output_type": "stream",
     "text": [
      "\n",
      "        #########################################################\n",
      "        ###           __  __  ____  ______                    ### \n",
      "        ###          |  \\/  |/ __ \\|  ____/\\    _             ### \n",
      "        ###          | \\  / | |  | | |__ /  \\ _| |_           ### \n",
      "        ###          | |\\/| | |  | |  __/ /\\ \\_   _|          ###\n",
      "        ###          | |  | | |__| | | / ____ \\|_|            ###\n",
      "        ###          |_|  |_|\\____/|_|/_/    \\_\\              ###\n",
      "        ###                                                   ### \n",
      "        ######################################################### \n",
      "       \n",
      " \n",
      "        \n",
      "Loaded view='Secretory&Ciliated' group='group1' with N=22 samples and D=199 features...\n",
      "Loaded view='Secretory&Secretory' group='group1' with N=22 samples and D=253 features...\n",
      "Loaded view='Secretory&Basal' group='group1' with N=22 samples and D=290 features...\n",
      "Loaded view='Basal&Basal' group='group1' with N=22 samples and D=387 features...\n",
      "Loaded view='Basal&Secretory' group='group1' with N=22 samples and D=332 features...\n",
      "Loaded view='Ciliated&Ciliated' group='group1' with N=22 samples and D=157 features...\n",
      "Loaded view='Ciliated&Secretory' group='group1' with N=22 samples and D=190 features...\n",
      "Loaded view='Basal&Ciliated' group='group1' with N=22 samples and D=240 features...\n",
      "Loaded view='Ciliated&Basal' group='group1' with N=22 samples and D=221 features...\n",
      "Loaded view='FOXN4+&FOXN4+' group='group1' with N=22 samples and D=151 features...\n",
      "Loaded view='Ciliated&FOXN4+' group='group1' with N=22 samples and D=138 features...\n",
      "Loaded view='Secretory&FOXN4+' group='group1' with N=22 samples and D=163 features...\n",
      "Loaded view='FOXN4+&Basal' group='group1' with N=22 samples and D=185 features...\n",
      "Loaded view='FOXN4+&Ciliated' group='group1' with N=22 samples and D=131 features...\n",
      "Loaded view='FOXN4+&Secretory' group='group1' with N=22 samples and D=151 features...\n",
      "Loaded view='Basal&FOXN4+' group='group1' with N=22 samples and D=213 features...\n",
      "\n",
      "\n",
      "Model options:\n",
      "- Automatic Relevance Determination prior on the factors: True\n",
      "- Automatic Relevance Determination prior on the weights: True\n",
      "- Spike-and-slab prior on the factors: False\n",
      "- Spike-and-slab prior on the weights: True\n",
      "Likelihoods:\n",
      "- View 0 (Secretory&Ciliated): gaussian\n",
      "- View 1 (Secretory&Secretory): gaussian\n",
      "- View 2 (Secretory&Basal): gaussian\n",
      "- View 3 (Basal&Basal): gaussian\n",
      "- View 4 (Basal&Secretory): gaussian\n",
      "- View 5 (Ciliated&Ciliated): gaussian\n",
      "- View 6 (Ciliated&Secretory): gaussian\n",
      "- View 7 (Basal&Ciliated): gaussian\n",
      "- View 8 (Ciliated&Basal): gaussian\n",
      "- View 9 (FOXN4+&FOXN4+): gaussian\n",
      "- View 10 (Ciliated&FOXN4+): gaussian\n",
      "- View 11 (Secretory&FOXN4+): gaussian\n",
      "- View 12 (FOXN4+&Basal): gaussian\n",
      "- View 13 (FOXN4+&Ciliated): gaussian\n",
      "- View 14 (FOXN4+&Secretory): gaussian\n",
      "- View 15 (Basal&FOXN4+): gaussian\n",
      "\n",
      "\n",
      "\n",
      "\n",
      "######################################\n",
      "## Training the model with seed 1337 ##\n",
      "######################################\n",
      "\n",
      "\n",
      "\n",
      "Converged!\n",
      "\n",
      "\n",
      "\n",
      "#######################\n",
      "## Training finished ##\n",
      "#######################\n",
      "\n",
      "\n",
      "Saving model in /tmp/mofa_20230421-110432.hdf5...\n",
      "Saved MOFA embeddings in .obsm['X_mofa'] slot and their loadings in .varm['LFs'].\n"
     ]
    },
    {
     "name": "stderr",
     "output_type": "stream",
     "text": [
      "100%|██████████| 22/22 [00:20<00:00,  1.06it/s]\n"
     ]
    },
    {
     "name": "stdout",
     "output_type": "stream",
     "text": [
      "Running Tensor Factorization\n",
      "Creating views with: expr_prod\n"
     ]
    },
    {
     "name": "stderr",
     "output_type": "stream",
     "text": [
      "100%|██████████| 16/16 [00:00<00:00, 225.58it/s]\n"
     ]
    },
    {
     "name": "stdout",
     "output_type": "stream",
     "text": [
      "\n",
      "        #########################################################\n",
      "        ###           __  __  ____  ______                    ### \n",
      "        ###          |  \\/  |/ __ \\|  ____/\\    _             ### \n",
      "        ###          | \\  / | |  | | |__ /  \\ _| |_           ### \n",
      "        ###          | |\\/| | |  | |  __/ /\\ \\_   _|          ###\n",
      "        ###          | |  | | |__| | | / ____ \\|_|            ###\n",
      "        ###          |_|  |_|\\____/|_|/_/    \\_\\              ###\n",
      "        ###                                                   ### \n",
      "        ######################################################### \n",
      "       \n",
      " \n",
      "        \n",
      "Loaded view='Secretory&Ciliated' group='group1' with N=22 samples and D=199 features...\n",
      "Loaded view='Secretory&Secretory' group='group1' with N=22 samples and D=253 features...\n",
      "Loaded view='Secretory&Basal' group='group1' with N=22 samples and D=290 features...\n",
      "Loaded view='Basal&Basal' group='group1' with N=22 samples and D=387 features...\n",
      "Loaded view='Basal&Secretory' group='group1' with N=22 samples and D=332 features...\n",
      "Loaded view='Ciliated&Ciliated' group='group1' with N=22 samples and D=157 features...\n",
      "Loaded view='Ciliated&Secretory' group='group1' with N=22 samples and D=190 features...\n",
      "Loaded view='Basal&Ciliated' group='group1' with N=22 samples and D=240 features...\n",
      "Loaded view='Ciliated&Basal' group='group1' with N=22 samples and D=221 features...\n",
      "Loaded view='FOXN4+&FOXN4+' group='group1' with N=22 samples and D=151 features...\n",
      "Loaded view='Ciliated&FOXN4+' group='group1' with N=22 samples and D=138 features...\n",
      "Loaded view='Secretory&FOXN4+' group='group1' with N=22 samples and D=163 features...\n",
      "Loaded view='FOXN4+&Basal' group='group1' with N=22 samples and D=185 features...\n",
      "Loaded view='FOXN4+&Ciliated' group='group1' with N=22 samples and D=131 features...\n",
      "Loaded view='FOXN4+&Secretory' group='group1' with N=22 samples and D=151 features...\n",
      "Loaded view='Basal&FOXN4+' group='group1' with N=22 samples and D=213 features...\n",
      "\n",
      "\n",
      "Model options:\n",
      "- Automatic Relevance Determination prior on the factors: True\n",
      "- Automatic Relevance Determination prior on the weights: True\n",
      "- Spike-and-slab prior on the factors: False\n",
      "- Spike-and-slab prior on the weights: True\n",
      "Likelihoods:\n",
      "- View 0 (Secretory&Ciliated): gaussian\n",
      "- View 1 (Secretory&Secretory): gaussian\n",
      "- View 2 (Secretory&Basal): gaussian\n",
      "- View 3 (Basal&Basal): gaussian\n",
      "- View 4 (Basal&Secretory): gaussian\n",
      "- View 5 (Ciliated&Ciliated): gaussian\n",
      "- View 6 (Ciliated&Secretory): gaussian\n",
      "- View 7 (Basal&Ciliated): gaussian\n",
      "- View 8 (Ciliated&Basal): gaussian\n",
      "- View 9 (FOXN4+&FOXN4+): gaussian\n",
      "- View 10 (Ciliated&FOXN4+): gaussian\n",
      "- View 11 (Secretory&FOXN4+): gaussian\n",
      "- View 12 (FOXN4+&Basal): gaussian\n",
      "- View 13 (FOXN4+&Ciliated): gaussian\n",
      "- View 14 (FOXN4+&Secretory): gaussian\n",
      "- View 15 (Basal&FOXN4+): gaussian\n",
      "\n",
      "\n",
      "\n",
      "\n",
      "######################################\n",
      "## Training the model with seed 1337 ##\n",
      "######################################\n",
      "\n",
      "\n",
      "\n",
      "Converged!\n",
      "\n",
      "\n",
      "\n",
      "#######################\n",
      "## Training finished ##\n",
      "#######################\n",
      "\n",
      "\n",
      "Saving model in /tmp/mofa_20230421-110548.hdf5...\n",
      "Saved MOFA embeddings in .obsm['X_mofa'] slot and their loadings in .varm['LFs'].\n"
     ]
    },
    {
     "name": "stderr",
     "output_type": "stream",
     "text": [
      "100%|██████████| 22/22 [00:23<00:00,  1.06s/it]\n"
     ]
    },
    {
     "name": "stdout",
     "output_type": "stream",
     "text": [
      "Running Tensor Factorization\n",
      "Creating views with: lrscore\n"
     ]
    },
    {
     "name": "stderr",
     "output_type": "stream",
     "text": [
      "100%|██████████| 16/16 [00:00<00:00, 200.32it/s]\n"
     ]
    },
    {
     "name": "stdout",
     "output_type": "stream",
     "text": [
      "\n",
      "        #########################################################\n",
      "        ###           __  __  ____  ______                    ### \n",
      "        ###          |  \\/  |/ __ \\|  ____/\\    _             ### \n",
      "        ###          | \\  / | |  | | |__ /  \\ _| |_           ### \n",
      "        ###          | |\\/| | |  | |  __/ /\\ \\_   _|          ###\n",
      "        ###          | |  | | |__| | | / ____ \\|_|            ###\n",
      "        ###          |_|  |_|\\____/|_|/_/    \\_\\              ###\n",
      "        ###                                                   ### \n",
      "        ######################################################### \n",
      "       \n",
      " \n",
      "        \n",
      "Loaded view='Secretory&Ciliated' group='group1' with N=22 samples and D=199 features...\n",
      "Loaded view='Secretory&Secretory' group='group1' with N=22 samples and D=253 features...\n",
      "Loaded view='Secretory&Basal' group='group1' with N=22 samples and D=290 features...\n",
      "Loaded view='Basal&Basal' group='group1' with N=22 samples and D=387 features...\n",
      "Loaded view='Basal&Secretory' group='group1' with N=22 samples and D=332 features...\n",
      "Loaded view='Ciliated&Ciliated' group='group1' with N=22 samples and D=157 features...\n",
      "Loaded view='Ciliated&Secretory' group='group1' with N=22 samples and D=190 features...\n",
      "Loaded view='Basal&Ciliated' group='group1' with N=22 samples and D=240 features...\n",
      "Loaded view='Ciliated&Basal' group='group1' with N=22 samples and D=221 features...\n",
      "Loaded view='FOXN4+&FOXN4+' group='group1' with N=22 samples and D=151 features...\n",
      "Loaded view='Ciliated&FOXN4+' group='group1' with N=22 samples and D=138 features...\n",
      "Loaded view='Secretory&FOXN4+' group='group1' with N=22 samples and D=163 features...\n",
      "Loaded view='FOXN4+&Basal' group='group1' with N=22 samples and D=185 features...\n",
      "Loaded view='FOXN4+&Ciliated' group='group1' with N=22 samples and D=131 features...\n",
      "Loaded view='FOXN4+&Secretory' group='group1' with N=22 samples and D=151 features...\n",
      "Loaded view='Basal&FOXN4+' group='group1' with N=22 samples and D=213 features...\n",
      "\n",
      "\n",
      "Model options:\n",
      "- Automatic Relevance Determination prior on the factors: True\n",
      "- Automatic Relevance Determination prior on the weights: True\n",
      "- Spike-and-slab prior on the factors: False\n",
      "- Spike-and-slab prior on the weights: True\n",
      "Likelihoods:\n",
      "- View 0 (Secretory&Ciliated): gaussian\n",
      "- View 1 (Secretory&Secretory): gaussian\n",
      "- View 2 (Secretory&Basal): gaussian\n",
      "- View 3 (Basal&Basal): gaussian\n",
      "- View 4 (Basal&Secretory): gaussian\n",
      "- View 5 (Ciliated&Ciliated): gaussian\n",
      "- View 6 (Ciliated&Secretory): gaussian\n",
      "- View 7 (Basal&Ciliated): gaussian\n",
      "- View 8 (Ciliated&Basal): gaussian\n",
      "- View 9 (FOXN4+&FOXN4+): gaussian\n",
      "- View 10 (Ciliated&FOXN4+): gaussian\n",
      "- View 11 (Secretory&FOXN4+): gaussian\n",
      "- View 12 (FOXN4+&Basal): gaussian\n",
      "- View 13 (FOXN4+&Ciliated): gaussian\n",
      "- View 14 (FOXN4+&Secretory): gaussian\n",
      "- View 15 (Basal&FOXN4+): gaussian\n",
      "\n",
      "\n",
      "\n",
      "\n",
      "######################################\n",
      "## Training the model with seed 1337 ##\n",
      "######################################\n",
      "\n",
      "\n",
      "\n",
      "Converged!\n",
      "\n",
      "\n",
      "\n",
      "#######################\n",
      "## Training finished ##\n",
      "#######################\n",
      "\n",
      "\n",
      "Saving model in /tmp/mofa_20230421-110706.hdf5...\n",
      "Saved MOFA embeddings in .obsm['X_mofa'] slot and their loadings in .varm['LFs'].\n"
     ]
    },
    {
     "name": "stderr",
     "output_type": "stream",
     "text": [
      "100%|██████████| 22/22 [00:22<00:00,  1.01s/it]\n"
     ]
    },
    {
     "name": "stdout",
     "output_type": "stream",
     "text": [
      "Running Tensor Factorization\n",
      "Creating views with: lr_probs\n"
     ]
    },
    {
     "name": "stderr",
     "output_type": "stream",
     "text": [
      "100%|██████████| 16/16 [00:00<00:00, 217.54it/s]\n"
     ]
    },
    {
     "name": "stdout",
     "output_type": "stream",
     "text": [
      "\n",
      "        #########################################################\n",
      "        ###           __  __  ____  ______                    ### \n",
      "        ###          |  \\/  |/ __ \\|  ____/\\    _             ### \n",
      "        ###          | \\  / | |  | | |__ /  \\ _| |_           ### \n",
      "        ###          | |\\/| | |  | |  __/ /\\ \\_   _|          ###\n",
      "        ###          | |  | | |__| | | / ____ \\|_|            ###\n",
      "        ###          |_|  |_|\\____/|_|/_/    \\_\\              ###\n",
      "        ###                                                   ### \n",
      "        ######################################################### \n",
      "       \n",
      " \n",
      "        \n",
      "Loaded view='Secretory&Ciliated' group='group1' with N=22 samples and D=144 features...\n",
      "Loaded view='Secretory&Secretory' group='group1' with N=22 samples and D=156 features...\n",
      "Loaded view='Secretory&Basal' group='group1' with N=22 samples and D=216 features...\n",
      "Loaded view='Basal&Basal' group='group1' with N=22 samples and D=334 features...\n",
      "Loaded view='Basal&Secretory' group='group1' with N=22 samples and D=203 features...\n",
      "Loaded view='Ciliated&Ciliated' group='group1' with N=22 samples and D=113 features...\n",
      "Loaded view='Ciliated&Secretory' group='group1' with N=22 samples and D=117 features...\n",
      "Loaded view='Basal&Ciliated' group='group1' with N=22 samples and D=163 features...\n",
      "Loaded view='Ciliated&Basal' group='group1' with N=22 samples and D=156 features...\n",
      "Loaded view='FOXN4+&FOXN4+' group='group1' with N=22 samples and D=138 features...\n",
      "Loaded view='Ciliated&FOXN4+' group='group1' with N=22 samples and D=108 features...\n",
      "Loaded view='Secretory&FOXN4+' group='group1' with N=22 samples and D=137 features...\n",
      "Loaded view='FOXN4+&Basal' group='group1' with N=22 samples and D=147 features...\n",
      "Loaded view='FOXN4+&Ciliated' group='group1' with N=22 samples and D=113 features...\n",
      "Loaded view='FOXN4+&Secretory' group='group1' with N=22 samples and D=122 features...\n",
      "Loaded view='Basal&FOXN4+' group='group1' with N=22 samples and D=164 features...\n",
      "\n",
      "\n",
      "Model options:\n",
      "- Automatic Relevance Determination prior on the factors: True\n",
      "- Automatic Relevance Determination prior on the weights: True\n",
      "- Spike-and-slab prior on the factors: False\n",
      "- Spike-and-slab prior on the weights: True\n",
      "Likelihoods:\n",
      "- View 0 (Secretory&Ciliated): gaussian\n",
      "- View 1 (Secretory&Secretory): gaussian\n",
      "- View 2 (Secretory&Basal): gaussian\n",
      "- View 3 (Basal&Basal): gaussian\n",
      "- View 4 (Basal&Secretory): gaussian\n",
      "- View 5 (Ciliated&Ciliated): gaussian\n",
      "- View 6 (Ciliated&Secretory): gaussian\n",
      "- View 7 (Basal&Ciliated): gaussian\n",
      "- View 8 (Ciliated&Basal): gaussian\n",
      "- View 9 (FOXN4+&FOXN4+): gaussian\n",
      "- View 10 (Ciliated&FOXN4+): gaussian\n",
      "- View 11 (Secretory&FOXN4+): gaussian\n",
      "- View 12 (FOXN4+&Basal): gaussian\n",
      "- View 13 (FOXN4+&Ciliated): gaussian\n",
      "- View 14 (FOXN4+&Secretory): gaussian\n",
      "- View 15 (Basal&FOXN4+): gaussian\n",
      "\n",
      "\n",
      "\n",
      "\n",
      "######################################\n",
      "## Training the model with seed 1337 ##\n",
      "######################################\n",
      "\n",
      "\n",
      "\n",
      "Converged!\n",
      "\n",
      "\n",
      "\n",
      "#######################\n",
      "## Training finished ##\n",
      "#######################\n",
      "\n",
      "\n",
      "Saving model in /tmp/mofa_20230421-110824.hdf5...\n",
      "Saved MOFA embeddings in .obsm['X_mofa'] slot and their loadings in .varm['LFs'].\n"
     ]
    },
    {
     "name": "stderr",
     "output_type": "stream",
     "text": [
      "100%|██████████| 22/22 [00:21<00:00,  1.02it/s]\n"
     ]
    },
    {
     "name": "stdout",
     "output_type": "stream",
     "text": [
      "Running Tensor Factorization\n",
      "Creating views with: magnitude_rank\n"
     ]
    },
    {
     "name": "stderr",
     "output_type": "stream",
     "text": [
      "100%|██████████| 16/16 [00:00<00:00, 223.72it/s]\n"
     ]
    },
    {
     "name": "stdout",
     "output_type": "stream",
     "text": [
      "\n",
      "        #########################################################\n",
      "        ###           __  __  ____  ______                    ### \n",
      "        ###          |  \\/  |/ __ \\|  ____/\\    _             ### \n",
      "        ###          | \\  / | |  | | |__ /  \\ _| |_           ### \n",
      "        ###          | |\\/| | |  | |  __/ /\\ \\_   _|          ###\n",
      "        ###          | |  | | |__| | | / ____ \\|_|            ###\n",
      "        ###          |_|  |_|\\____/|_|/_/    \\_\\              ###\n",
      "        ###                                                   ### \n",
      "        ######################################################### \n",
      "       \n",
      " \n",
      "        \n",
      "Loaded view='Secretory&Ciliated' group='group1' with N=22 samples and D=163 features...\n",
      "Loaded view='Secretory&Secretory' group='group1' with N=22 samples and D=215 features...\n",
      "Loaded view='Secretory&Basal' group='group1' with N=22 samples and D=248 features...\n",
      "Loaded view='Basal&Basal' group='group1' with N=22 samples and D=352 features...\n",
      "Loaded view='Basal&Secretory' group='group1' with N=22 samples and D=277 features...\n",
      "Loaded view='Ciliated&Ciliated' group='group1' with N=22 samples and D=125 features...\n",
      "Loaded view='Ciliated&Secretory' group='group1' with N=22 samples and D=142 features...\n",
      "Loaded view='Basal&Ciliated' group='group1' with N=22 samples and D=189 features...\n",
      "Loaded view='Ciliated&Basal' group='group1' with N=22 samples and D=183 features...\n",
      "Loaded view='FOXN4+&FOXN4+' group='group1' with N=22 samples and D=144 features...\n",
      "Loaded view='Ciliated&FOXN4+' group='group1' with N=22 samples and D=121 features...\n",
      "Loaded view='Secretory&FOXN4+' group='group1' with N=22 samples and D=146 features...\n",
      "Loaded view='FOXN4+&Basal' group='group1' with N=22 samples and D=171 features...\n",
      "Loaded view='FOXN4+&Ciliated' group='group1' with N=22 samples and D=119 features...\n",
      "Loaded view='FOXN4+&Secretory' group='group1' with N=22 samples and D=137 features...\n",
      "Loaded view='Basal&FOXN4+' group='group1' with N=22 samples and D=188 features...\n",
      "\n",
      "\n",
      "Model options:\n",
      "- Automatic Relevance Determination prior on the factors: True\n",
      "- Automatic Relevance Determination prior on the weights: True\n",
      "- Spike-and-slab prior on the factors: False\n",
      "- Spike-and-slab prior on the weights: True\n",
      "Likelihoods:\n",
      "- View 0 (Secretory&Ciliated): gaussian\n",
      "- View 1 (Secretory&Secretory): gaussian\n",
      "- View 2 (Secretory&Basal): gaussian\n",
      "- View 3 (Basal&Basal): gaussian\n",
      "- View 4 (Basal&Secretory): gaussian\n",
      "- View 5 (Ciliated&Ciliated): gaussian\n",
      "- View 6 (Ciliated&Secretory): gaussian\n",
      "- View 7 (Basal&Ciliated): gaussian\n",
      "- View 8 (Ciliated&Basal): gaussian\n",
      "- View 9 (FOXN4+&FOXN4+): gaussian\n",
      "- View 10 (Ciliated&FOXN4+): gaussian\n",
      "- View 11 (Secretory&FOXN4+): gaussian\n",
      "- View 12 (FOXN4+&Basal): gaussian\n",
      "- View 13 (FOXN4+&Ciliated): gaussian\n",
      "- View 14 (FOXN4+&Secretory): gaussian\n",
      "- View 15 (Basal&FOXN4+): gaussian\n",
      "\n",
      "\n",
      "\n",
      "\n",
      "######################################\n",
      "## Training the model with seed 1337 ##\n",
      "######################################\n",
      "\n",
      "\n",
      "\n",
      "Converged!\n",
      "\n",
      "\n",
      "\n",
      "#######################\n",
      "## Training finished ##\n",
      "#######################\n",
      "\n",
      "\n",
      "Saving model in /tmp/mofa_20230421-110931.hdf5...\n",
      "Saved MOFA embeddings in .obsm['X_mofa'] slot and their loadings in .varm['LFs'].\n"
     ]
    },
    {
     "name": "stderr",
     "output_type": "stream",
     "text": [
      "100%|██████████| 22/22 [00:20<00:00,  1.07it/s]\n"
     ]
    },
    {
     "name": "stdout",
     "output_type": "stream",
     "text": [
      "Running Tensor Factorization\n"
     ]
    }
   ],
   "source": [
    "classifier_pipe(adata, dataset)"
   ]
  },
  {
   "cell_type": "code",
   "execution_count": 18,
   "metadata": {},
   "outputs": [
    {
     "data": {
      "text/html": [
       "<div>\n",
       "<style scoped>\n",
       "    .dataframe tbody tr th:only-of-type {\n",
       "        vertical-align: middle;\n",
       "    }\n",
       "\n",
       "    .dataframe tbody tr th {\n",
       "        vertical-align: top;\n",
       "    }\n",
       "\n",
       "    .dataframe thead th {\n",
       "        text-align: right;\n",
       "    }\n",
       "</style>\n",
       "<table border=\"1\" class=\"dataframe\">\n",
       "  <thead>\n",
       "    <tr style=\"text-align: right;\">\n",
       "      <th></th>\n",
       "      <th>reduction_name</th>\n",
       "      <th>score_key</th>\n",
       "      <th>fold</th>\n",
       "      <th>auc</th>\n",
       "      <th>tpr</th>\n",
       "      <th>fpr</th>\n",
       "      <th>train_split</th>\n",
       "      <th>test_split</th>\n",
       "      <th>dataset</th>\n",
       "    </tr>\n",
       "  </thead>\n",
       "  <tbody>\n",
       "    <tr>\n",
       "      <th>0</th>\n",
       "      <td>mofa</td>\n",
       "      <td>lr_means</td>\n",
       "      <td>0</td>\n",
       "      <td>0.666667</td>\n",
       "      <td>[0.0, 0.3333333333333333, 0.6666666666666666, ...</td>\n",
       "      <td>[0.0, 0.0, 0.0, 1.0, 1.0]</td>\n",
       "      <td>[0, 1, 2, 3, 4, 6, 8, 9, 10, 12, 14, 15, 16, 1...</td>\n",
       "      <td>[5, 7, 11, 13, 19]</td>\n",
       "      <td>carraro</td>\n",
       "    </tr>\n",
       "    <tr>\n",
       "      <th>1</th>\n",
       "      <td>tensor</td>\n",
       "      <td>lr_means</td>\n",
       "      <td>0</td>\n",
       "      <td>0.666667</td>\n",
       "      <td>[0.0, 0.3333333333333333, 0.6666666666666666, ...</td>\n",
       "      <td>[0.0, 0.0, 0.0, 1.0, 1.0]</td>\n",
       "      <td>[0, 1, 2, 3, 4, 6, 8, 9, 10, 12, 14, 15, 16, 1...</td>\n",
       "      <td>[5, 7, 11, 13, 19]</td>\n",
       "      <td>carraro</td>\n",
       "    </tr>\n",
       "    <tr>\n",
       "      <th>2</th>\n",
       "      <td>mofa</td>\n",
       "      <td>lr_means</td>\n",
       "      <td>1</td>\n",
       "      <td>1.000000</td>\n",
       "      <td>[0.0, 0.3333333333333333, 1.0, 1.0]</td>\n",
       "      <td>[0.0, 0.0, 0.0, 1.0]</td>\n",
       "      <td>[0, 1, 3, 5, 6, 7, 8, 9, 11, 12, 13, 14, 15, 1...</td>\n",
       "      <td>[2, 4, 10, 18, 20]</td>\n",
       "      <td>carraro</td>\n",
       "    </tr>\n",
       "    <tr>\n",
       "      <th>3</th>\n",
       "      <td>tensor</td>\n",
       "      <td>lr_means</td>\n",
       "      <td>1</td>\n",
       "      <td>1.000000</td>\n",
       "      <td>[0.0, 0.3333333333333333, 1.0, 1.0]</td>\n",
       "      <td>[0.0, 0.0, 0.0, 1.0]</td>\n",
       "      <td>[0, 1, 3, 5, 6, 7, 8, 9, 11, 12, 13, 14, 15, 1...</td>\n",
       "      <td>[2, 4, 10, 18, 20]</td>\n",
       "      <td>carraro</td>\n",
       "    </tr>\n",
       "    <tr>\n",
       "      <th>4</th>\n",
       "      <td>mofa</td>\n",
       "      <td>lr_means</td>\n",
       "      <td>2</td>\n",
       "      <td>1.000000</td>\n",
       "      <td>[0.0, 0.5, 1.0, 1.0]</td>\n",
       "      <td>[0.0, 0.0, 0.0, 1.0]</td>\n",
       "      <td>[0, 1, 2, 3, 4, 5, 6, 7, 8, 9, 10, 11, 12, 13,...</td>\n",
       "      <td>[15, 16, 17, 21]</td>\n",
       "      <td>carraro</td>\n",
       "    </tr>\n",
       "    <tr>\n",
       "      <th>...</th>\n",
       "      <td>...</td>\n",
       "      <td>...</td>\n",
       "      <td>...</td>\n",
       "      <td>...</td>\n",
       "      <td>...</td>\n",
       "      <td>...</td>\n",
       "      <td>...</td>\n",
       "      <td>...</td>\n",
       "      <td>...</td>\n",
       "    </tr>\n",
       "    <tr>\n",
       "      <th>65</th>\n",
       "      <td>tensor</td>\n",
       "      <td>magnitude_rank</td>\n",
       "      <td>2</td>\n",
       "      <td>0.750000</td>\n",
       "      <td>[0.0, 0.5, 0.5, 1.0, 1.0]</td>\n",
       "      <td>[0.0, 0.0, 0.5, 0.5, 1.0]</td>\n",
       "      <td>[0, 1, 2, 3, 4, 5, 6, 7, 8, 9, 10, 11, 12, 13,...</td>\n",
       "      <td>[15, 16, 17, 21]</td>\n",
       "      <td>carraro</td>\n",
       "    </tr>\n",
       "    <tr>\n",
       "      <th>66</th>\n",
       "      <td>mofa</td>\n",
       "      <td>magnitude_rank</td>\n",
       "      <td>3</td>\n",
       "      <td>0.000000</td>\n",
       "      <td>[0.0, 0.0, 1.0]</td>\n",
       "      <td>[0.0, 1.0, 1.0]</td>\n",
       "      <td>[2, 4, 5, 6, 7, 8, 9, 10, 11, 12, 13, 15, 16, ...</td>\n",
       "      <td>[0, 1, 3, 14]</td>\n",
       "      <td>carraro</td>\n",
       "    </tr>\n",
       "    <tr>\n",
       "      <th>67</th>\n",
       "      <td>tensor</td>\n",
       "      <td>magnitude_rank</td>\n",
       "      <td>3</td>\n",
       "      <td>0.000000</td>\n",
       "      <td>[0.0, 0.0, 1.0]</td>\n",
       "      <td>[0.0, 1.0, 1.0]</td>\n",
       "      <td>[2, 4, 5, 6, 7, 8, 9, 10, 11, 12, 13, 15, 16, ...</td>\n",
       "      <td>[0, 1, 3, 14]</td>\n",
       "      <td>carraro</td>\n",
       "    </tr>\n",
       "    <tr>\n",
       "      <th>68</th>\n",
       "      <td>mofa</td>\n",
       "      <td>magnitude_rank</td>\n",
       "      <td>4</td>\n",
       "      <td>0.000000</td>\n",
       "      <td>[0.0, 0.0, 1.0]</td>\n",
       "      <td>[0.0, 1.0, 1.0]</td>\n",
       "      <td>[0, 1, 2, 3, 4, 5, 7, 10, 11, 13, 14, 15, 16, ...</td>\n",
       "      <td>[6, 8, 9, 12]</td>\n",
       "      <td>carraro</td>\n",
       "    </tr>\n",
       "    <tr>\n",
       "      <th>69</th>\n",
       "      <td>tensor</td>\n",
       "      <td>magnitude_rank</td>\n",
       "      <td>4</td>\n",
       "      <td>0.000000</td>\n",
       "      <td>[0.0, 0.0, 1.0]</td>\n",
       "      <td>[0.0, 1.0, 1.0]</td>\n",
       "      <td>[0, 1, 2, 3, 4, 5, 7, 10, 11, 13, 14, 15, 16, ...</td>\n",
       "      <td>[6, 8, 9, 12]</td>\n",
       "      <td>carraro</td>\n",
       "    </tr>\n",
       "  </tbody>\n",
       "</table>\n",
       "<p>70 rows × 9 columns</p>\n",
       "</div>"
      ],
      "text/plain": [
       "   reduction_name       score_key  fold       auc  \\\n",
       "0            mofa        lr_means     0  0.666667   \n",
       "1          tensor        lr_means     0  0.666667   \n",
       "2            mofa        lr_means     1  1.000000   \n",
       "3          tensor        lr_means     1  1.000000   \n",
       "4            mofa        lr_means     2  1.000000   \n",
       "..            ...             ...   ...       ...   \n",
       "65         tensor  magnitude_rank     2  0.750000   \n",
       "66           mofa  magnitude_rank     3  0.000000   \n",
       "67         tensor  magnitude_rank     3  0.000000   \n",
       "68           mofa  magnitude_rank     4  0.000000   \n",
       "69         tensor  magnitude_rank     4  0.000000   \n",
       "\n",
       "                                                  tpr  \\\n",
       "0   [0.0, 0.3333333333333333, 0.6666666666666666, ...   \n",
       "1   [0.0, 0.3333333333333333, 0.6666666666666666, ...   \n",
       "2                 [0.0, 0.3333333333333333, 1.0, 1.0]   \n",
       "3                 [0.0, 0.3333333333333333, 1.0, 1.0]   \n",
       "4                                [0.0, 0.5, 1.0, 1.0]   \n",
       "..                                                ...   \n",
       "65                          [0.0, 0.5, 0.5, 1.0, 1.0]   \n",
       "66                                    [0.0, 0.0, 1.0]   \n",
       "67                                    [0.0, 0.0, 1.0]   \n",
       "68                                    [0.0, 0.0, 1.0]   \n",
       "69                                    [0.0, 0.0, 1.0]   \n",
       "\n",
       "                          fpr  \\\n",
       "0   [0.0, 0.0, 0.0, 1.0, 1.0]   \n",
       "1   [0.0, 0.0, 0.0, 1.0, 1.0]   \n",
       "2        [0.0, 0.0, 0.0, 1.0]   \n",
       "3        [0.0, 0.0, 0.0, 1.0]   \n",
       "4        [0.0, 0.0, 0.0, 1.0]   \n",
       "..                        ...   \n",
       "65  [0.0, 0.0, 0.5, 0.5, 1.0]   \n",
       "66            [0.0, 1.0, 1.0]   \n",
       "67            [0.0, 1.0, 1.0]   \n",
       "68            [0.0, 1.0, 1.0]   \n",
       "69            [0.0, 1.0, 1.0]   \n",
       "\n",
       "                                          train_split          test_split  \\\n",
       "0   [0, 1, 2, 3, 4, 6, 8, 9, 10, 12, 14, 15, 16, 1...  [5, 7, 11, 13, 19]   \n",
       "1   [0, 1, 2, 3, 4, 6, 8, 9, 10, 12, 14, 15, 16, 1...  [5, 7, 11, 13, 19]   \n",
       "2   [0, 1, 3, 5, 6, 7, 8, 9, 11, 12, 13, 14, 15, 1...  [2, 4, 10, 18, 20]   \n",
       "3   [0, 1, 3, 5, 6, 7, 8, 9, 11, 12, 13, 14, 15, 1...  [2, 4, 10, 18, 20]   \n",
       "4   [0, 1, 2, 3, 4, 5, 6, 7, 8, 9, 10, 11, 12, 13,...    [15, 16, 17, 21]   \n",
       "..                                                ...                 ...   \n",
       "65  [0, 1, 2, 3, 4, 5, 6, 7, 8, 9, 10, 11, 12, 13,...    [15, 16, 17, 21]   \n",
       "66  [2, 4, 5, 6, 7, 8, 9, 10, 11, 12, 13, 15, 16, ...       [0, 1, 3, 14]   \n",
       "67  [2, 4, 5, 6, 7, 8, 9, 10, 11, 12, 13, 15, 16, ...       [0, 1, 3, 14]   \n",
       "68  [0, 1, 2, 3, 4, 5, 7, 10, 11, 13, 14, 15, 16, ...       [6, 8, 9, 12]   \n",
       "69  [0, 1, 2, 3, 4, 5, 7, 10, 11, 13, 14, 15, 16, ...       [6, 8, 9, 12]   \n",
       "\n",
       "    dataset  \n",
       "0   carraro  \n",
       "1   carraro  \n",
       "2   carraro  \n",
       "3   carraro  \n",
       "4   carraro  \n",
       "..      ...  \n",
       "65  carraro  \n",
       "66  carraro  \n",
       "67  carraro  \n",
       "68  carraro  \n",
       "69  carraro  \n",
       "\n",
       "[70 rows x 9 columns]"
      ]
     },
     "execution_count": 18,
     "metadata": {},
     "output_type": "execute_result"
    }
   ],
   "source": [
    "adata.uns['auc']"
   ]
  },
  {
   "cell_type": "code",
   "execution_count": null,
   "metadata": {},
   "outputs": [],
   "source": []
  },
  {
   "cell_type": "markdown",
   "metadata": {},
   "source": []
  }
 ],
 "metadata": {
  "kernelspec": {
   "display_name": "spiana",
   "language": "python",
   "name": "python3"
  },
  "language_info": {
   "codemirror_mode": {
    "name": "ipython",
    "version": 3
   },
   "file_extension": ".py",
   "mimetype": "text/x-python",
   "name": "python",
   "nbconvert_exporter": "python",
   "pygments_lexer": "ipython3",
   "version": "3.10.10"
  },
  "orig_nbformat": 4,
  "vscode": {
   "interpreter": {
    "hash": "b688e7f183144fde965166e58483e32fc6dbc6fc380ccc51d49ef608da0385a8"
   }
  }
 },
 "nbformat": 4,
 "nbformat_minor": 2
}
