{
 "cells": [
  {
   "attachments": {},
   "cell_type": "markdown",
   "metadata": {},
   "source": [
    "# Efficiency LIANA+"
   ]
  },
  {
   "cell_type": "code",
   "execution_count": 1,
   "metadata": {},
   "outputs": [],
   "source": [
    "import numpy as np\n",
    "import pandas as pd\n",
    "import anndata as ad\n",
    "from scipy.sparse import csr_matrix\n",
    "\n",
    "import scanpy as sc\n",
    "import liana as li\n",
    "\n",
    "from itertools import product\n",
    "\n",
    "import psutil\n",
    "from timeit import default_timer as timer"
   ]
  },
  {
   "cell_type": "code",
   "execution_count": 2,
   "metadata": {},
   "outputs": [],
   "source": [
    "from benchmark import _benchmark, _sample_anndata, _sample_resource"
   ]
  },
  {
   "cell_type": "code",
   "execution_count": null,
   "metadata": {},
   "outputs": [],
   "source": []
  },
  {
   "attachments": {},
   "cell_type": "markdown",
   "metadata": {},
   "source": [
    "## Single-cell"
   ]
  },
  {
   "cell_type": "code",
   "execution_count": 3,
   "metadata": {},
   "outputs": [],
   "source": [
    "# Define Methods\n",
    "def cpdb_no_perms(**kwargs):\n",
    "    li.mt.cellphonedb(**kwargs, n_perms=None)\n",
    "def cellchat_no_perms(**kwargs):\n",
    "    li.mt.cellchat(**kwargs, n_perms=None)\n",
    "def magnitude_only(**kwargs):\n",
    "    li.mt.rank_aggregate(**kwargs, n_perms=None)\n",
    "def rank_aggregate(**kwargs):\n",
    "    aggregate = li.mt.AggregateClass(li.mt.aggregate_meta, methods=[li.mt.logfc,\n",
    "                                                                         li.mt.cellphonedb,\n",
    "                                                                         # TODO: get rid of CellChat all together??\n",
    "                                                                         li.mt.cellchat,\n",
    "                                                                         li.mt.natmi,\n",
    "                                                                         li.mt.connectome,\n",
    "                                                                         li.mt.singlecellsignalr\n",
    "                                                                         ]\n",
    "                                          )\n",
    "    aggregate(**kwargs)\n",
    "\n",
    "methods = {\n",
    "    \"CellPhoneDB\": li.mt.cellphonedb,\n",
    "    \"CellChat\": li.mt.cellchat,\n",
    "    \"CellPhoneDB_NP\": cpdb_no_perms,\n",
    "    \"CellChat_NP\": cellchat_no_perms,\n",
    "    \"Consensus\": rank_aggregate,\n",
    "    \"Magnitude\": magnitude_only,\n",
    "    \"NATMI\": li.mt.natmi,\n",
    "    \"Connectome\": li.mt.connectome,\n",
    "    \"log2FC\": li.mt.logfc,\n",
    "    }"
   ]
  },
  {
   "cell_type": "code",
   "execution_count": 4,
   "metadata": {},
   "outputs": [
    {
     "name": "stdout",
     "output_type": "stream",
     "text": [
      "1000\n",
      " NNZ fraction: 0.0998465\n",
      "CellPhoneDB\n"
     ]
    },
    {
     "ename": "KeyboardInterrupt",
     "evalue": "",
     "output_type": "error",
     "traceback": [
      "\u001b[0;31m---------------------------------------------------------------------------\u001b[0m",
      "\u001b[0;31mKeyboardInterrupt\u001b[0m                         Traceback (most recent call last)",
      "Cell \u001b[0;32mIn[4], line 13\u001b[0m\n\u001b[1;32m     11\u001b[0m     \u001b[39mfor\u001b[39;00m _ \u001b[39min\u001b[39;00m \u001b[39mrange\u001b[39m(\u001b[39m5\u001b[39m):\n\u001b[1;32m     12\u001b[0m         \u001b[39mprint\u001b[39m(method)\n\u001b[0;32m---> 13\u001b[0m         time, memory \u001b[39m=\u001b[39m _benchmark(function\u001b[39m=\u001b[39;49mmethods[method],\n\u001b[1;32m     14\u001b[0m                                   adata\u001b[39m=\u001b[39;49madata,\n\u001b[1;32m     15\u001b[0m                                   resource\u001b[39m=\u001b[39;49mresource,\n\u001b[1;32m     16\u001b[0m                                   groupby\u001b[39m=\u001b[39;49m\u001b[39m'\u001b[39;49m\u001b[39mcell_type\u001b[39;49m\u001b[39m'\u001b[39;49m,\n\u001b[1;32m     17\u001b[0m                                   n_perms\u001b[39m=\u001b[39;49m\u001b[39m1000\u001b[39;49m,\n\u001b[1;32m     18\u001b[0m                                   use_raw\u001b[39m=\u001b[39;49m\u001b[39mFalse\u001b[39;49;00m,\n\u001b[1;32m     19\u001b[0m                                   verbose\u001b[39m=\u001b[39;49m\u001b[39mFalse\u001b[39;49;00m\n\u001b[1;32m     20\u001b[0m                                   )\n\u001b[1;32m     21\u001b[0m         benchmark_stats\u001b[39m.\u001b[39mloc[\u001b[39mlen\u001b[39m(benchmark_stats)] \u001b[39m=\u001b[39m [method, n_obs, time, memory]\n\u001b[1;32m     22\u001b[0m benchmark_stats\u001b[39m.\u001b[39mto_csv(\u001b[39m\"\u001b[39m\u001b[39msc_stats.csv\u001b[39m\u001b[39m\"\u001b[39m, index\u001b[39m=\u001b[39m\u001b[39mFalse\u001b[39;00m)\n",
      "File \u001b[0;32m/media/dbdimitrov/SSDDimitrov/Repos/liana2_manuscript/notebooks/benchmark/benchmark.py:53\u001b[0m, in \u001b[0;36m_benchmark\u001b[0;34m(function, **kwargs)\u001b[0m\n\u001b[1;32m     50\u001b[0m \u001b[39mdef\u001b[39;00m \u001b[39m_benchmark\u001b[39m(function, \u001b[39m*\u001b[39m\u001b[39m*\u001b[39mkwargs):\n\u001b[1;32m     51\u001b[0m     \u001b[39m# run function\u001b[39;00m\n\u001b[1;32m     52\u001b[0m     start \u001b[39m=\u001b[39m timer()\n\u001b[0;32m---> 53\u001b[0m     process \u001b[39m=\u001b[39m psutil\u001b[39m.\u001b[39mProcess(function(\u001b[39m*\u001b[39;49m\u001b[39m*\u001b[39;49mkwargs))\n\u001b[1;32m     54\u001b[0m     end \u001b[39m=\u001b[39m timer()\n\u001b[1;32m     55\u001b[0m     time \u001b[39m=\u001b[39m end \u001b[39m-\u001b[39m start\n",
      "File \u001b[0;32m~/anaconda3/envs/spiana/lib/python3.10/site-packages/liana/method/_Method.py:246\u001b[0m, in \u001b[0;36mMethod.__call__\u001b[0;34m(self, adata, groupby, resource_name, expr_prop, min_cells, base, supp_columns, return_all_lrs, key_added, use_raw, layer, de_method, verbose, n_perms, seed, resource, inplace)\u001b[0m\n\u001b[1;32m    243\u001b[0m \u001b[39mif\u001b[39;00m supp_columns \u001b[39mis\u001b[39;00m \u001b[39mNone\u001b[39;00m:\n\u001b[1;32m    244\u001b[0m     supp_columns \u001b[39m=\u001b[39m []\n\u001b[0;32m--> 246\u001b[0m liana_res \u001b[39m=\u001b[39m liana_pipe(adata\u001b[39m=\u001b[39;49madata,\n\u001b[1;32m    247\u001b[0m                        groupby\u001b[39m=\u001b[39;49mgroupby,\n\u001b[1;32m    248\u001b[0m                        resource_name\u001b[39m=\u001b[39;49mresource_name,\n\u001b[1;32m    249\u001b[0m                        resource\u001b[39m=\u001b[39;49mresource,\n\u001b[1;32m    250\u001b[0m                        expr_prop\u001b[39m=\u001b[39;49mexpr_prop,\n\u001b[1;32m    251\u001b[0m                        min_cells\u001b[39m=\u001b[39;49mmin_cells,\n\u001b[1;32m    252\u001b[0m                        supp_columns\u001b[39m=\u001b[39;49msupp_columns,\n\u001b[1;32m    253\u001b[0m                        return_all_lrs\u001b[39m=\u001b[39;49mreturn_all_lrs,\n\u001b[1;32m    254\u001b[0m                        base\u001b[39m=\u001b[39;49mbase,\n\u001b[1;32m    255\u001b[0m                        de_method\u001b[39m=\u001b[39;49mde_method,\n\u001b[1;32m    256\u001b[0m                        verbose\u001b[39m=\u001b[39;49mverbose,\n\u001b[1;32m    257\u001b[0m                        _score\u001b[39m=\u001b[39;49m\u001b[39mself\u001b[39;49m\u001b[39m.\u001b[39;49m_method,\n\u001b[1;32m    258\u001b[0m                        n_perms\u001b[39m=\u001b[39;49mn_perms,\n\u001b[1;32m    259\u001b[0m                        seed\u001b[39m=\u001b[39;49mseed,\n\u001b[1;32m    260\u001b[0m                        use_raw\u001b[39m=\u001b[39;49muse_raw,\n\u001b[1;32m    261\u001b[0m                        layer\u001b[39m=\u001b[39;49mlayer,\n\u001b[1;32m    262\u001b[0m                        )\n\u001b[1;32m    263\u001b[0m \u001b[39mif\u001b[39;00m inplace:\n\u001b[1;32m    264\u001b[0m     adata\u001b[39m.\u001b[39muns[key_added] \u001b[39m=\u001b[39m liana_res\n",
      "File \u001b[0;32m~/anaconda3/envs/spiana/lib/python3.10/site-packages/liana/method/_liana_pipe.py:218\u001b[0m, in \u001b[0;36mliana_pipe\u001b[0;34m(adata, groupby, resource_name, resource, expr_prop, min_cells, base, de_method, n_perms, seed, verbose, use_raw, layer, supp_columns, return_all_lrs, _key_cols, _score, _methods, _consensus_opts, _aggregate_method)\u001b[0m\n\u001b[1;32m    216\u001b[0m             \u001b[39mreturn\u001b[39;00m lrs\n\u001b[1;32m    217\u001b[0m     \u001b[39melse\u001b[39;00m:  \u001b[39m# Run the specific method in mind\u001b[39;00m\n\u001b[0;32m--> 218\u001b[0m         lr_res \u001b[39m=\u001b[39m _run_method(lr_res\u001b[39m=\u001b[39;49mlr_res,\n\u001b[1;32m    219\u001b[0m                              adata\u001b[39m=\u001b[39;49madata,\n\u001b[1;32m    220\u001b[0m                              expr_prop\u001b[39m=\u001b[39;49mexpr_prop,\n\u001b[1;32m    221\u001b[0m                              _score\u001b[39m=\u001b[39;49m_score, _key_cols\u001b[39m=\u001b[39;49m_key_cols,\n\u001b[1;32m    222\u001b[0m                              _complex_cols\u001b[39m=\u001b[39;49m_complex_cols,\n\u001b[1;32m    223\u001b[0m                              _add_cols\u001b[39m=\u001b[39;49m_add_cols,\n\u001b[1;32m    224\u001b[0m                              n_perms\u001b[39m=\u001b[39;49mn_perms,\n\u001b[1;32m    225\u001b[0m                              return_all_lrs\u001b[39m=\u001b[39;49mreturn_all_lrs,\n\u001b[1;32m    226\u001b[0m                              verbose\u001b[39m=\u001b[39;49mverbose,\n\u001b[1;32m    227\u001b[0m                              seed\u001b[39m=\u001b[39;49mseed)\n\u001b[1;32m    228\u001b[0m \u001b[39melse\u001b[39;00m:  \u001b[39m# Just return lr_res\u001b[39;00m\n\u001b[1;32m    229\u001b[0m     lr_res \u001b[39m=\u001b[39m filter_reassemble_complexes(lr_res\u001b[39m=\u001b[39mlr_res,\n\u001b[1;32m    230\u001b[0m                                          _key_cols\u001b[39m=\u001b[39m_key_cols,\n\u001b[1;32m    231\u001b[0m                                          expr_prop\u001b[39m=\u001b[39mexpr_prop,\n\u001b[1;32m    232\u001b[0m                                          complex_cols\u001b[39m=\u001b[39m_complex_cols,\n\u001b[1;32m    233\u001b[0m                                          return_all_lrs\u001b[39m=\u001b[39mreturn_all_lrs)\n",
      "File \u001b[0;32m~/anaconda3/envs/spiana/lib/python3.10/site-packages/liana/method/_liana_pipe.py:488\u001b[0m, in \u001b[0;36m_run_method\u001b[0;34m(lr_res, adata, expr_prop, _score, _key_cols, _complex_cols, _add_cols, n_perms, seed, return_all_lrs, verbose, _aggregate_flag)\u001b[0m\n\u001b[1;32m    485\u001b[0m \u001b[39mif\u001b[39;00m _score\u001b[39m.\u001b[39mpermute:\n\u001b[1;32m    486\u001b[0m     \u001b[39m# get permutations\u001b[39;00m\n\u001b[1;32m    487\u001b[0m     \u001b[39mif\u001b[39;00m n_perms \u001b[39mis\u001b[39;00m \u001b[39mnot\u001b[39;00m \u001b[39mNone\u001b[39;00m:\n\u001b[0;32m--> 488\u001b[0m         perms \u001b[39m=\u001b[39m _get_means_perms(adata\u001b[39m=\u001b[39;49madata,\n\u001b[1;32m    489\u001b[0m                                  n_perms\u001b[39m=\u001b[39;49mn_perms,\n\u001b[1;32m    490\u001b[0m                                  seed\u001b[39m=\u001b[39;49mseed,\n\u001b[1;32m    491\u001b[0m                                  agg_fun\u001b[39m=\u001b[39;49magg_fun,\n\u001b[1;32m    492\u001b[0m                                  norm_factor\u001b[39m=\u001b[39;49mnorm_factor,\n\u001b[1;32m    493\u001b[0m                                  verbose\u001b[39m=\u001b[39;49mverbose)\n\u001b[1;32m    494\u001b[0m         \u001b[39m# get tensor indexes for ligand, receptor, source, target\u001b[39;00m\n\u001b[1;32m    495\u001b[0m         ligand_idx, receptor_idx, source_idx, target_idx \u001b[39m=\u001b[39m _get_mat_idx(adata, lr_res)\n",
      "File \u001b[0;32m~/anaconda3/envs/spiana/lib/python3.10/site-packages/liana/method/_pipe_utils/_get_mean_perms.py:53\u001b[0m, in \u001b[0;36m_get_means_perms\u001b[0;34m(adata, n_perms, seed, agg_fun, norm_factor, verbose)\u001b[0m\n\u001b[1;32m     50\u001b[0m     labels_mask[:, ct_idx] \u001b[39m=\u001b[39m adata\u001b[39m.\u001b[39mobs\u001b[39m.\u001b[39mlabel \u001b[39m==\u001b[39m label\n\u001b[1;32m     52\u001b[0m \u001b[39m# Perm should be a cube /w dims: n_perms x idents x n_genes\u001b[39;00m\n\u001b[0;32m---> 53\u001b[0m perms \u001b[39m=\u001b[39m _generate_perms_cube(adata\u001b[39m.\u001b[39;49mX, n_perms, labels_mask, seed, agg_fun, verbose)\n\u001b[1;32m     55\u001b[0m \u001b[39mreturn\u001b[39;00m perms\n",
      "File \u001b[0;32m~/anaconda3/envs/spiana/lib/python3.10/site-packages/liana/method/_pipe_utils/_get_mean_perms.py:76\u001b[0m, in \u001b[0;36m_generate_perms_cube\u001b[0;34m(X, n_perms, labels_mask, seed, agg_fun, verbose)\u001b[0m\n\u001b[1;32m     74\u001b[0m     \u001b[39mfor\u001b[39;00m ct_idx \u001b[39min\u001b[39;00m \u001b[39mrange\u001b[39m(labels_mask\u001b[39m.\u001b[39mshape[\u001b[39m1\u001b[39m]):\n\u001b[1;32m     75\u001b[0m         ct_mask \u001b[39m=\u001b[39m labels_mask[:, ct_idx]\n\u001b[0;32m---> 76\u001b[0m         perms[perm, ct_idx] \u001b[39m=\u001b[39m agg_fun(perm_mat[ct_mask], axis\u001b[39m=\u001b[39;49m\u001b[39m0\u001b[39;49m)\n\u001b[1;32m     78\u001b[0m \u001b[39mreturn\u001b[39;00m perms\n",
      "File \u001b[0;32m<__array_function__ internals>:180\u001b[0m, in \u001b[0;36mmean\u001b[0;34m(*args, **kwargs)\u001b[0m\n",
      "File \u001b[0;32m~/anaconda3/envs/spiana/lib/python3.10/site-packages/numpy/core/fromnumeric.py:3472\u001b[0m, in \u001b[0;36mmean\u001b[0;34m(a, axis, dtype, out, keepdims, where)\u001b[0m\n\u001b[1;32m   3470\u001b[0m         \u001b[39mpass\u001b[39;00m\n\u001b[1;32m   3471\u001b[0m     \u001b[39melse\u001b[39;00m:\n\u001b[0;32m-> 3472\u001b[0m         \u001b[39mreturn\u001b[39;00m mean(axis\u001b[39m=\u001b[39;49maxis, dtype\u001b[39m=\u001b[39;49mdtype, out\u001b[39m=\u001b[39;49mout, \u001b[39m*\u001b[39;49m\u001b[39m*\u001b[39;49mkwargs)\n\u001b[1;32m   3474\u001b[0m \u001b[39mreturn\u001b[39;00m _methods\u001b[39m.\u001b[39m_mean(a, axis\u001b[39m=\u001b[39maxis, dtype\u001b[39m=\u001b[39mdtype,\n\u001b[1;32m   3475\u001b[0m                       out\u001b[39m=\u001b[39mout, \u001b[39m*\u001b[39m\u001b[39m*\u001b[39mkwargs)\n",
      "File \u001b[0;32m~/anaconda3/envs/spiana/lib/python3.10/site-packages/scipy/sparse/_base.py:1191\u001b[0m, in \u001b[0;36mspmatrix.mean\u001b[0;34m(self, axis, dtype, out)\u001b[0m\n\u001b[1;32m   1189\u001b[0m \u001b[39m# axis = 0 or 1 now\u001b[39;00m\n\u001b[1;32m   1190\u001b[0m \u001b[39mif\u001b[39;00m axis \u001b[39m==\u001b[39m \u001b[39m0\u001b[39m:\n\u001b[0;32m-> 1191\u001b[0m     \u001b[39mreturn\u001b[39;00m (inter_self \u001b[39m*\u001b[39;49m (\u001b[39m1.0\u001b[39;49m \u001b[39m/\u001b[39;49m \u001b[39mself\u001b[39;49m\u001b[39m.\u001b[39;49mshape[\u001b[39m0\u001b[39;49m]))\u001b[39m.\u001b[39;49msum(\n\u001b[1;32m   1192\u001b[0m         axis\u001b[39m=\u001b[39;49m\u001b[39m0\u001b[39;49m, dtype\u001b[39m=\u001b[39;49mres_dtype, out\u001b[39m=\u001b[39;49mout)\n\u001b[1;32m   1193\u001b[0m \u001b[39melse\u001b[39;00m:\n\u001b[1;32m   1194\u001b[0m     \u001b[39mreturn\u001b[39;00m (inter_self \u001b[39m*\u001b[39m (\u001b[39m1.0\u001b[39m \u001b[39m/\u001b[39m \u001b[39mself\u001b[39m\u001b[39m.\u001b[39mshape[\u001b[39m1\u001b[39m]))\u001b[39m.\u001b[39msum(\n\u001b[1;32m   1195\u001b[0m         axis\u001b[39m=\u001b[39m\u001b[39m1\u001b[39m, dtype\u001b[39m=\u001b[39mres_dtype, out\u001b[39m=\u001b[39mout)\n",
      "File \u001b[0;32m~/anaconda3/envs/spiana/lib/python3.10/site-packages/scipy/sparse/_compressed.py:624\u001b[0m, in \u001b[0;36m_cs_matrix.sum\u001b[0;34m(self, axis, dtype, out)\u001b[0m\n\u001b[1;32m    620\u001b[0m     \u001b[39mreturn\u001b[39;00m ret\u001b[39m.\u001b[39msum(axis\u001b[39m=\u001b[39m(), dtype\u001b[39m=\u001b[39mdtype, out\u001b[39m=\u001b[39mout)\n\u001b[1;32m    621\u001b[0m \u001b[39m# spmatrix will handle the remaining situations when axis\u001b[39;00m\n\u001b[1;32m    622\u001b[0m \u001b[39m# is in {None, -1, 0, 1}\u001b[39;00m\n\u001b[1;32m    623\u001b[0m \u001b[39melse\u001b[39;00m:\n\u001b[0;32m--> 624\u001b[0m     \u001b[39mreturn\u001b[39;00m spmatrix\u001b[39m.\u001b[39;49msum(\u001b[39mself\u001b[39;49m, axis\u001b[39m=\u001b[39;49maxis, dtype\u001b[39m=\u001b[39;49mdtype, out\u001b[39m=\u001b[39;49mout)\n",
      "File \u001b[0;32m~/anaconda3/envs/spiana/lib/python3.10/site-packages/scipy/sparse/_base.py:1110\u001b[0m, in \u001b[0;36mspmatrix.sum\u001b[0;34m(self, axis, dtype, out)\u001b[0m\n\u001b[1;32m   1107\u001b[0m \u001b[39m# axis = 0 or 1 now\u001b[39;00m\n\u001b[1;32m   1108\u001b[0m \u001b[39mif\u001b[39;00m axis \u001b[39m==\u001b[39m \u001b[39m0\u001b[39m:\n\u001b[1;32m   1109\u001b[0m     \u001b[39m# sum over columns\u001b[39;00m\n\u001b[0;32m-> 1110\u001b[0m     ret \u001b[39m=\u001b[39m \u001b[39mself\u001b[39;49m\u001b[39m.\u001b[39;49m_ascontainer(\n\u001b[1;32m   1111\u001b[0m         np\u001b[39m.\u001b[39;49mones((\u001b[39m1\u001b[39;49m, m), dtype\u001b[39m=\u001b[39;49mres_dtype)\n\u001b[1;32m   1112\u001b[0m     ) \u001b[39m@\u001b[39;49m \u001b[39mself\u001b[39;49m\n\u001b[1;32m   1113\u001b[0m \u001b[39melse\u001b[39;00m:\n\u001b[1;32m   1114\u001b[0m     \u001b[39m# sum over rows\u001b[39;00m\n\u001b[1;32m   1115\u001b[0m     ret \u001b[39m=\u001b[39m \u001b[39mself\u001b[39m \u001b[39m@\u001b[39m \u001b[39mself\u001b[39m\u001b[39m.\u001b[39m_ascontainer(\n\u001b[1;32m   1116\u001b[0m         np\u001b[39m.\u001b[39mones((n, \u001b[39m1\u001b[39m), dtype\u001b[39m=\u001b[39mres_dtype)\n\u001b[1;32m   1117\u001b[0m     )\n",
      "File \u001b[0;32m~/anaconda3/envs/spiana/lib/python3.10/site-packages/scipy/sparse/_base.py:636\u001b[0m, in \u001b[0;36mspmatrix.__rmatmul__\u001b[0;34m(self, other)\u001b[0m\n\u001b[1;32m    633\u001b[0m \u001b[39mif\u001b[39;00m isscalarlike(other):\n\u001b[1;32m    634\u001b[0m     \u001b[39mraise\u001b[39;00m \u001b[39mValueError\u001b[39;00m(\u001b[39m\"\u001b[39m\u001b[39mScalar operands are not allowed, \u001b[39m\u001b[39m\"\u001b[39m\n\u001b[1;32m    635\u001b[0m                      \u001b[39m\"\u001b[39m\u001b[39muse \u001b[39m\u001b[39m'\u001b[39m\u001b[39m*\u001b[39m\u001b[39m'\u001b[39m\u001b[39m instead\u001b[39m\u001b[39m\"\u001b[39m)\n\u001b[0;32m--> 636\u001b[0m \u001b[39mreturn\u001b[39;00m \u001b[39mself\u001b[39;49m\u001b[39m.\u001b[39;49m_rmul_dispatch(other)\n",
      "File \u001b[0;32m~/anaconda3/envs/spiana/lib/python3.10/site-packages/scipy/sparse/_base.py:614\u001b[0m, in \u001b[0;36mspmatrix._rmul_dispatch\u001b[0;34m(self, other)\u001b[0m\n\u001b[1;32m    612\u001b[0m \u001b[39mexcept\u001b[39;00m \u001b[39mAttributeError\u001b[39;00m:\n\u001b[1;32m    613\u001b[0m     tr \u001b[39m=\u001b[39m np\u001b[39m.\u001b[39masarray(other)\u001b[39m.\u001b[39mtranspose()\n\u001b[0;32m--> 614\u001b[0m ret \u001b[39m=\u001b[39m \u001b[39mself\u001b[39;49m\u001b[39m.\u001b[39;49mtranspose()\u001b[39m.\u001b[39m_mul_dispatch(tr)\n\u001b[1;32m    615\u001b[0m \u001b[39mif\u001b[39;00m ret \u001b[39mis\u001b[39;00m \u001b[39mNotImplemented\u001b[39m:\n\u001b[1;32m    616\u001b[0m     \u001b[39mreturn\u001b[39;00m \u001b[39mNotImplemented\u001b[39m\n",
      "File \u001b[0;32m~/anaconda3/envs/spiana/lib/python3.10/site-packages/scipy/sparse/_csr.py:142\u001b[0m, in \u001b[0;36mcsr_matrix.transpose\u001b[0;34m(self, axes, copy)\u001b[0m\n\u001b[1;32m    137\u001b[0m     \u001b[39mraise\u001b[39;00m \u001b[39mValueError\u001b[39;00m((\u001b[39m\"\u001b[39m\u001b[39mSparse matrices do not support \u001b[39m\u001b[39m\"\u001b[39m\n\u001b[1;32m    138\u001b[0m                       \u001b[39m\"\u001b[39m\u001b[39man \u001b[39m\u001b[39m'\u001b[39m\u001b[39maxes\u001b[39m\u001b[39m'\u001b[39m\u001b[39m parameter because swapping \u001b[39m\u001b[39m\"\u001b[39m\n\u001b[1;32m    139\u001b[0m                       \u001b[39m\"\u001b[39m\u001b[39mdimensions is the only logical permutation.\u001b[39m\u001b[39m\"\u001b[39m))\n\u001b[1;32m    141\u001b[0m M, N \u001b[39m=\u001b[39m \u001b[39mself\u001b[39m\u001b[39m.\u001b[39mshape\n\u001b[0;32m--> 142\u001b[0m \u001b[39mreturn\u001b[39;00m \u001b[39mself\u001b[39;49m\u001b[39m.\u001b[39;49m_csc_container((\u001b[39mself\u001b[39;49m\u001b[39m.\u001b[39;49mdata, \u001b[39mself\u001b[39;49m\u001b[39m.\u001b[39;49mindices,\n\u001b[1;32m    143\u001b[0m                             \u001b[39mself\u001b[39;49m\u001b[39m.\u001b[39;49mindptr), shape\u001b[39m=\u001b[39;49m(N, M), copy\u001b[39m=\u001b[39;49mcopy)\n",
      "File \u001b[0;32m~/anaconda3/envs/spiana/lib/python3.10/site-packages/scipy/sparse/_compressed.py:65\u001b[0m, in \u001b[0;36m_cs_matrix.__init__\u001b[0;34m(self, arg1, shape, dtype, copy)\u001b[0m\n\u001b[1;32m     63\u001b[0m \u001b[39mif\u001b[39;00m shape \u001b[39mis\u001b[39;00m \u001b[39mnot\u001b[39;00m \u001b[39mNone\u001b[39;00m:\n\u001b[1;32m     64\u001b[0m     maxval \u001b[39m=\u001b[39m \u001b[39mmax\u001b[39m(shape)\n\u001b[0;32m---> 65\u001b[0m idx_dtype \u001b[39m=\u001b[39m get_index_dtype((indices, indptr),\n\u001b[1;32m     66\u001b[0m                             maxval\u001b[39m=\u001b[39;49mmaxval,\n\u001b[1;32m     67\u001b[0m                             check_contents\u001b[39m=\u001b[39;49m\u001b[39mTrue\u001b[39;49;00m)\n\u001b[1;32m     69\u001b[0m \u001b[39mself\u001b[39m\u001b[39m.\u001b[39mindices \u001b[39m=\u001b[39m np\u001b[39m.\u001b[39marray(indices, copy\u001b[39m=\u001b[39mcopy,\n\u001b[1;32m     70\u001b[0m                         dtype\u001b[39m=\u001b[39midx_dtype)\n\u001b[1;32m     71\u001b[0m \u001b[39mself\u001b[39m\u001b[39m.\u001b[39mindptr \u001b[39m=\u001b[39m np\u001b[39m.\u001b[39marray(indptr, copy\u001b[39m=\u001b[39mcopy, dtype\u001b[39m=\u001b[39midx_dtype)\n",
      "File \u001b[0;32m~/anaconda3/envs/spiana/lib/python3.10/site-packages/scipy/sparse/_sputils.py:169\u001b[0m, in \u001b[0;36mget_index_dtype\u001b[0;34m(arrays, maxval, check_contents)\u001b[0m\n\u001b[1;32m    147\u001b[0m \u001b[39mdef\u001b[39;00m \u001b[39mget_index_dtype\u001b[39m(arrays\u001b[39m=\u001b[39m(), maxval\u001b[39m=\u001b[39m\u001b[39mNone\u001b[39;00m, check_contents\u001b[39m=\u001b[39m\u001b[39mFalse\u001b[39;00m):\n\u001b[1;32m    148\u001b[0m \u001b[39m    \u001b[39m\u001b[39m\"\"\"\u001b[39;00m\n\u001b[1;32m    149\u001b[0m \u001b[39m    Based on input (integer) arrays `a`, determine a suitable index data\u001b[39;00m\n\u001b[1;32m    150\u001b[0m \u001b[39m    type that can hold the data in the arrays.\u001b[39;00m\n\u001b[0;32m   (...)\u001b[0m\n\u001b[1;32m    166\u001b[0m \n\u001b[1;32m    167\u001b[0m \u001b[39m    \"\"\"\u001b[39;00m\n\u001b[0;32m--> 169\u001b[0m     int32min \u001b[39m=\u001b[39m np\u001b[39m.\u001b[39;49mint32(np\u001b[39m.\u001b[39;49miinfo(np\u001b[39m.\u001b[39;49mint32)\u001b[39m.\u001b[39;49mmin)\n\u001b[1;32m    170\u001b[0m     int32max \u001b[39m=\u001b[39m np\u001b[39m.\u001b[39mint32(np\u001b[39m.\u001b[39miinfo(np\u001b[39m.\u001b[39mint32)\u001b[39m.\u001b[39mmax)\n\u001b[1;32m    172\u001b[0m     \u001b[39m# not using intc directly due to misinteractions with pythran\u001b[39;00m\n",
      "\u001b[0;31mKeyboardInterrupt\u001b[0m: "
     ]
    }
   ],
   "source": [
    "benchmark_stats = pd.DataFrame(columns=[\"method\", \"n_obs\", \"time\", \"memory\"])\n",
    "\n",
    "obs_range = [1000, 5000, 10000, 50000, 100000]\n",
    "\n",
    "for n_obs in obs_range:\n",
    "    print(n_obs)\n",
    "    adata = _sample_anndata(n_obs=n_obs)\n",
    "    resource = _sample_resource(adata, n_lrs=3000)\n",
    "        \n",
    "    for method in methods.keys():\n",
    "        for _ in range(5):\n",
    "            print(method)\n",
    "            time, memory = _benchmark(function=methods[method],\n",
    "                                      adata=adata,\n",
    "                                      resource=resource,\n",
    "                                      groupby='cell_type',\n",
    "                                      n_perms=1000,\n",
    "                                      use_raw=False,\n",
    "                                      verbose=False\n",
    "                                      )\n",
    "            benchmark_stats.loc[len(benchmark_stats)] = [method, n_obs, time, memory]\n",
    "    benchmark_stats.to_csv(\"sc_stats.csv\", index=False)"
   ]
  },
  {
   "cell_type": "code",
   "execution_count": null,
   "metadata": {},
   "outputs": [],
   "source": []
  },
  {
   "cell_type": "code",
   "execution_count": null,
   "metadata": {},
   "outputs": [],
   "source": []
  },
  {
   "attachments": {},
   "cell_type": "markdown",
   "metadata": {},
   "source": [
    "## Local Spatial Scores"
   ]
  },
  {
   "cell_type": "code",
   "execution_count": 1,
   "metadata": {},
   "outputs": [],
   "source": [
    "import squidpy as sq"
   ]
  },
  {
   "cell_type": "code",
   "execution_count": null,
   "metadata": {},
   "outputs": [],
   "source": [
    "sq.dataset"
   ]
  },
  {
   "cell_type": "code",
   "execution_count": null,
   "metadata": {},
   "outputs": [],
   "source": []
  },
  {
   "cell_type": "code",
   "execution_count": 13,
   "metadata": {},
   "outputs": [],
   "source": [
    "# NOTE: I'm not benchmarking masked_pearson here cuz it's much less efficient than any other score\n",
    "methods = [\"cosine\", \"jaccard\", \"spearman\", \"pearson\", \"morans\"] # , \"masked_spearman\""
   ]
  },
  {
   "cell_type": "code",
   "execution_count": 16,
   "metadata": {},
   "outputs": [
    {
     "name": "stdout",
     "output_type": "stream",
     "text": [
      " NNZ fraction: 0.099998885\n"
     ]
    }
   ],
   "source": [
    "adata = _sample_anndata(n_obs=50000)\n",
    "resource = _sample_resource(adata, n_lrs=3000)"
   ]
  },
  {
   "cell_type": "code",
   "execution_count": 17,
   "metadata": {},
   "outputs": [
    {
     "name": "stdout",
     "output_type": "stream",
     "text": [
      "Using `.X`!\n"
     ]
    }
   ],
   "source": [
    "li.mt.lr_bivar(adata, function_name=\"spearman\", n_perms=None, use_raw=False, positive_only=False, verbose=True, resource=resource)"
   ]
  },
  {
   "cell_type": "code",
   "execution_count": null,
   "metadata": {},
   "outputs": [],
   "source": [
    "adata.uns['global_res']"
   ]
  },
  {
   "cell_type": "code",
   "execution_count": null,
   "metadata": {},
   "outputs": [],
   "source": []
  }
 ],
 "metadata": {
  "kernelspec": {
   "display_name": "spiana",
   "language": "python",
   "name": "python3"
  },
  "language_info": {
   "codemirror_mode": {
    "name": "ipython",
    "version": 3
   },
   "file_extension": ".py",
   "mimetype": "text/x-python",
   "name": "python",
   "nbconvert_exporter": "python",
   "pygments_lexer": "ipython3",
   "version": "3.10.10"
  },
  "orig_nbformat": 4
 },
 "nbformat": 4,
 "nbformat_minor": 2
}
