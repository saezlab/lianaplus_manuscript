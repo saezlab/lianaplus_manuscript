{
 "cells": [
  {
   "attachments": {},
   "cell_type": "markdown",
   "metadata": {},
   "source": [
    "# Process Kuppe et al. data"
   ]
  },
  {
   "attachments": {},
   "cell_type": "markdown",
   "metadata": {},
   "source": [
    "## Set up Env"
   ]
  },
  {
   "cell_type": "code",
   "execution_count": 1,
   "metadata": {},
   "outputs": [],
   "source": [
    "import os\n",
    "import numpy as np\n",
    "import scanpy as sc\n",
    "from scipy.sparse import csr_matrix"
   ]
  },
  {
   "cell_type": "code",
   "execution_count": 2,
   "metadata": {},
   "outputs": [],
   "source": [
    "import liana as li"
   ]
  },
  {
   "cell_type": "code",
   "execution_count": 3,
   "metadata": {},
   "outputs": [
    {
     "name": "stderr",
     "output_type": "stream",
     "text": [
      "/home/dbdimitrov/anaconda3/envs/spiana/lib/python3.10/site-packages/tqdm/auto.py:21: TqdmWarning: IProgress not found. Please update jupyter and ipywidgets. See https://ipywidgets.readthedocs.io/en/stable/user_install.html\n"
     ]
    }
   ],
   "source": [
    "# load muon and mofax\n",
    "import muon as mu\n",
    "import mofax as mofa"
   ]
  },
  {
   "cell_type": "code",
   "execution_count": 4,
   "metadata": {},
   "outputs": [],
   "source": [
    "from prep_utils import filter_samples, filter_celltypes"
   ]
  },
  {
   "cell_type": "code",
   "execution_count": null,
   "metadata": {},
   "outputs": [],
   "source": []
  },
  {
   "attachments": {},
   "cell_type": "markdown",
   "metadata": {},
   "source": [
    "### Load data"
   ]
  },
  {
   "cell_type": "code",
   "execution_count": 5,
   "metadata": {},
   "outputs": [],
   "source": [
    "adata = sc.read_h5ad(os.path.join('data', \"kuppe.h5ad\"), backed='r')"
   ]
  },
  {
   "cell_type": "code",
   "execution_count": 6,
   "metadata": {},
   "outputs": [],
   "source": [
    "msk = np.array([patient in ['ischemic', 'myogenic'] for patient in adata.obs['patient_group']])\n",
    "adata = adata[msk]"
   ]
  },
  {
   "cell_type": "code",
   "execution_count": null,
   "metadata": {},
   "outputs": [],
   "source": []
  },
  {
   "attachments": {},
   "cell_type": "markdown",
   "metadata": {},
   "source": [
    "Params"
   ]
  },
  {
   "cell_type": "code",
   "execution_count": 7,
   "metadata": {},
   "outputs": [],
   "source": [
    "groupby = 'cell_type'\n",
    "sample_key = 'sample'\n",
    "condition_key = 'patient_group'\n",
    "batch_key = 'sex'\n",
    "\n",
    "min_cells_per_sample = 700\n",
    "sample_zcounts_max = 3\n",
    "sample_zcounts_min = -2\n",
    "\n",
    "# set filtering parameters\n",
    "min_cells = 10 # min number of cells per cell type\n",
    "min_samples = 5 # min number of samples that pass the threshold per cell type"
   ]
  },
  {
   "cell_type": "code",
   "execution_count": null,
   "metadata": {},
   "outputs": [],
   "source": []
  },
  {
   "cell_type": "code",
   "execution_count": 8,
   "metadata": {},
   "outputs": [],
   "source": [
    "# NOTE: I use .raw\n",
    "adata = adata.raw.to_adata()\n",
    "adata.X = csr_matrix(adata.X)"
   ]
  },
  {
   "cell_type": "code",
   "execution_count": 9,
   "metadata": {},
   "outputs": [],
   "source": [
    "# change to gene symbols\n",
    "adata.var.index = adata.var['feature_name']"
   ]
  },
  {
   "attachments": {},
   "cell_type": "markdown",
   "metadata": {},
   "source": [
    "Filter samples, cell types, and genes"
   ]
  },
  {
   "cell_type": "code",
   "execution_count": 10,
   "metadata": {},
   "outputs": [
    {
     "name": "stdout",
     "output_type": "stream",
     "text": [
      "               sample\n",
      "patient_group        \n",
      "ischemic           10\n",
      "myogenic           13\n"
     ]
    }
   ],
   "source": [
    "adata = filter_samples(adata, sample_key, condition_key, min_cells_per_sample, sample_zcounts_max, sample_zcounts_min)"
   ]
  },
  {
   "cell_type": "code",
   "execution_count": 11,
   "metadata": {},
   "outputs": [],
   "source": [
    "adata = filter_celltypes(adata=adata, groupby=groupby, sample_key=sample_key, min_cells=min_cells, min_samples=min_samples)"
   ]
  },
  {
   "cell_type": "code",
   "execution_count": 12,
   "metadata": {},
   "outputs": [
    {
     "name": "stderr",
     "output_type": "stream",
     "text": [
      "/home/dbdimitrov/anaconda3/envs/spiana/lib/python3.10/site-packages/scanpy/preprocessing/_simple.py:251: ImplicitModificationWarning: Trying to modify attribute `.var` of view, initializing view as actual.\n",
      "/home/dbdimitrov/anaconda3/envs/spiana/lib/python3.10/site-packages/anndata/_core/anndata.py:121: ImplicitModificationWarning: Transforming to str index.\n"
     ]
    },
    {
     "data": {
      "text/plain": [
       "AnnData object with n_obs × n_vars = 165129 × 26305\n",
       "    obs: 'sample', 'n_counts', 'n_genes', 'percent_mito', 'doublet_score', 'dissociation_score', 'cell_type_original', 'patient_region_id', 'donor_id', 'patient_group', 'major_labl', 'final_cluster', 'assay_ontology_term_id', 'development_stage_ontology_term_id', 'disease_ontology_term_id', 'self_reported_ethnicity_ontology_term_id', 'is_primary_data', 'organism_ontology_term_id', 'sex_ontology_term_id', 'tissue_ontology_term_id', 'cell_type_ontology_term_id', 'suspension_type', 'cell_type', 'assay', 'disease', 'organism', 'sex', 'tissue', 'self_reported_ethnicity', 'development_stage'\n",
       "    var: 'feature_name', 'feature_reference', 'feature_biotype', 'n_cells'\n",
       "    uns: 'X_approximate_distribution', 'batch_condition', 'cell_type_colors', 'cell_type_original_colors', 'default_embedding', 'schema_version', 'title'\n",
       "    obsm: 'X_harmony', 'X_pca', 'X_umap'"
      ]
     },
     "execution_count": 12,
     "metadata": {},
     "output_type": "execute_result"
    }
   ],
   "source": [
    "# Remove genes expressed in few cells, normalize\n",
    "sc.pp.filter_genes(adata, min_cells=30)\n",
    "adata"
   ]
  },
  {
   "cell_type": "code",
   "execution_count": null,
   "metadata": {},
   "outputs": [],
   "source": []
  },
  {
   "cell_type": "code",
   "execution_count": 13,
   "metadata": {},
   "outputs": [
    {
     "data": {
      "text/plain": [
       "2789"
      ]
     },
     "execution_count": 13,
     "metadata": {},
     "output_type": "execute_result"
    }
   ],
   "source": [
    "import gc\n",
    "gc.collect()"
   ]
  },
  {
   "cell_type": "code",
   "execution_count": null,
   "metadata": {},
   "outputs": [],
   "source": []
  },
  {
   "attachments": {},
   "cell_type": "markdown",
   "metadata": {},
   "source": [
    "##### Abbrevaite Cell types"
   ]
  },
  {
   "cell_type": "code",
   "execution_count": 14,
   "metadata": {},
   "outputs": [],
   "source": [
    "cell_type_abbreviations = {'neuronal receptor cell': 'NRC',\n",
    "    'mast cell': 'MC',\n",
    "    'cardiac muscle myoblast': 'CMM',\n",
    "    'smooth muscle myoblast': 'SMM',\n",
    "    'pericyte': 'PC',\n",
    "    'lymphoid lineage restricted progenitor cell': 'LLRPC',\n",
    "    'immature innate lymphoid cell': 'IILC',\n",
    "    'fibroblast of cardiac tissue': 'FCT',\n",
    "    'cardiac endothelial cell': 'CEC',\n",
    "    'adipocyte of epicardial fat of left ventricle': 'AEFLV',\n",
    "    'native cell': 'NC'\n",
    "}"
   ]
  },
  {
   "cell_type": "code",
   "execution_count": 15,
   "metadata": {},
   "outputs": [],
   "source": [
    "# use the replace() method to recode the cell_type column\n",
    "adata.obs['cell_abbr'] = adata.obs['cell_type'].replace(cell_type_abbreviations)"
   ]
  },
  {
   "cell_type": "code",
   "execution_count": 16,
   "metadata": {},
   "outputs": [],
   "source": [
    "# change groupby to abbreviation\n",
    "groupby = 'cell_abbr'"
   ]
  },
  {
   "cell_type": "code",
   "execution_count": null,
   "metadata": {},
   "outputs": [],
   "source": []
  },
  {
   "attachments": {},
   "cell_type": "markdown",
   "metadata": {},
   "source": [
    "### Normalize"
   ]
  },
  {
   "cell_type": "code",
   "execution_count": 17,
   "metadata": {},
   "outputs": [],
   "source": [
    "sc.pp.normalize_total(adata, target_sum=1e4)\n",
    "sc.pp.log1p(adata)"
   ]
  },
  {
   "cell_type": "code",
   "execution_count": null,
   "metadata": {},
   "outputs": [],
   "source": []
  },
  {
   "attachments": {},
   "cell_type": "markdown",
   "metadata": {},
   "source": [
    "### Run LIANA"
   ]
  },
  {
   "cell_type": "code",
   "execution_count": 18,
   "metadata": {},
   "outputs": [
    {
     "name": "stderr",
     "output_type": "stream",
     "text": [
      "Now running: CK158:   0%|          | 0/23 [00:00<?, ?it/s]/home/dbdimitrov/anaconda3/envs/spiana/lib/python3.10/site-packages/pandas/core/indexing.py:1728: ImplicitModificationWarning: Trying to modify attribute `.obs` of view, initializing view as actual.\n",
      "Now running: CK159:   4%|▍         | 1/23 [00:09<03:23,  9.25s/it]/home/dbdimitrov/anaconda3/envs/spiana/lib/python3.10/site-packages/pandas/core/indexing.py:1728: ImplicitModificationWarning: Trying to modify attribute `.obs` of view, initializing view as actual.\n",
      "Now running: CK160:   9%|▊         | 2/23 [00:18<03:09,  9.01s/it]/home/dbdimitrov/anaconda3/envs/spiana/lib/python3.10/site-packages/pandas/core/indexing.py:1728: ImplicitModificationWarning: Trying to modify attribute `.obs` of view, initializing view as actual.\n",
      "Now running: CK163:  13%|█▎        | 3/23 [00:26<02:50,  8.54s/it]/home/dbdimitrov/anaconda3/envs/spiana/lib/python3.10/site-packages/pandas/core/indexing.py:1728: ImplicitModificationWarning: Trying to modify attribute `.obs` of view, initializing view as actual.\n",
      "Now running: CK164:  17%|█▋        | 4/23 [00:34<02:41,  8.50s/it]/home/dbdimitrov/anaconda3/envs/spiana/lib/python3.10/site-packages/pandas/core/indexing.py:1728: ImplicitModificationWarning: Trying to modify attribute `.obs` of view, initializing view as actual.\n",
      "Now running: CK165:  22%|██▏       | 5/23 [00:42<02:30,  8.38s/it]/home/dbdimitrov/anaconda3/envs/spiana/lib/python3.10/site-packages/pandas/core/indexing.py:1728: ImplicitModificationWarning: Trying to modify attribute `.obs` of view, initializing view as actual.\n",
      "Now running: CK356:  26%|██▌       | 6/23 [00:47<02:00,  7.08s/it]/home/dbdimitrov/anaconda3/envs/spiana/lib/python3.10/site-packages/pandas/core/indexing.py:1728: ImplicitModificationWarning: Trying to modify attribute `.obs` of view, initializing view as actual.\n",
      "Now running: CK357:  30%|███       | 7/23 [00:56<02:02,  7.68s/it]/home/dbdimitrov/anaconda3/envs/spiana/lib/python3.10/site-packages/pandas/core/indexing.py:1728: ImplicitModificationWarning: Trying to modify attribute `.obs` of view, initializing view as actual.\n",
      "Now running: CK358:  35%|███▍      | 8/23 [01:05<02:02,  8.16s/it]/home/dbdimitrov/anaconda3/envs/spiana/lib/python3.10/site-packages/pandas/core/indexing.py:1728: ImplicitModificationWarning: Trying to modify attribute `.obs` of view, initializing view as actual.\n",
      "Now running: CK359:  39%|███▉      | 9/23 [01:14<01:58,  8.49s/it]/home/dbdimitrov/anaconda3/envs/spiana/lib/python3.10/site-packages/pandas/core/indexing.py:1728: ImplicitModificationWarning: Trying to modify attribute `.obs` of view, initializing view as actual.\n",
      "Now running: CK360:  43%|████▎     | 10/23 [01:23<01:51,  8.56s/it]/home/dbdimitrov/anaconda3/envs/spiana/lib/python3.10/site-packages/pandas/core/indexing.py:1728: ImplicitModificationWarning: Trying to modify attribute `.obs` of view, initializing view as actual.\n",
      "Now running: CK361:  48%|████▊     | 11/23 [01:32<01:44,  8.74s/it]/home/dbdimitrov/anaconda3/envs/spiana/lib/python3.10/site-packages/pandas/core/indexing.py:1728: ImplicitModificationWarning: Trying to modify attribute `.obs` of view, initializing view as actual.\n",
      "Now running: CK362:  52%|█████▏    | 12/23 [01:37<01:24,  7.65s/it]/home/dbdimitrov/anaconda3/envs/spiana/lib/python3.10/site-packages/pandas/core/indexing.py:1728: ImplicitModificationWarning: Trying to modify attribute `.obs` of view, initializing view as actual.\n",
      "Now running: CK363:  57%|█████▋    | 13/23 [01:46<01:19,  7.97s/it]/home/dbdimitrov/anaconda3/envs/spiana/lib/python3.10/site-packages/pandas/core/indexing.py:1728: ImplicitModificationWarning: Trying to modify attribute `.obs` of view, initializing view as actual.\n",
      "Now running: CK364:  61%|██████    | 14/23 [01:51<01:04,  7.20s/it]/home/dbdimitrov/anaconda3/envs/spiana/lib/python3.10/site-packages/pandas/core/indexing.py:1728: ImplicitModificationWarning: Trying to modify attribute `.obs` of view, initializing view as actual.\n",
      "Now running: CK365:  65%|██████▌   | 15/23 [01:58<00:56,  7.01s/it]/home/dbdimitrov/anaconda3/envs/spiana/lib/python3.10/site-packages/pandas/core/indexing.py:1728: ImplicitModificationWarning: Trying to modify attribute `.obs` of view, initializing view as actual.\n",
      "Now running: CK369:  70%|██████▉   | 16/23 [02:03<00:44,  6.42s/it]/home/dbdimitrov/anaconda3/envs/spiana/lib/python3.10/site-packages/pandas/core/indexing.py:1728: ImplicitModificationWarning: Trying to modify attribute `.obs` of view, initializing view as actual.\n",
      "Now running: CK371:  74%|███████▍  | 17/23 [02:08<00:36,  6.11s/it]/home/dbdimitrov/anaconda3/envs/spiana/lib/python3.10/site-packages/pandas/core/indexing.py:1728: ImplicitModificationWarning: Trying to modify attribute `.obs` of view, initializing view as actual.\n",
      "Now running: CK372:  78%|███████▊  | 18/23 [02:14<00:29,  5.92s/it]/home/dbdimitrov/anaconda3/envs/spiana/lib/python3.10/site-packages/pandas/core/indexing.py:1728: ImplicitModificationWarning: Trying to modify attribute `.obs` of view, initializing view as actual.\n",
      "Now running: CK373:  83%|████████▎ | 19/23 [02:18<00:21,  5.35s/it]/home/dbdimitrov/anaconda3/envs/spiana/lib/python3.10/site-packages/pandas/core/indexing.py:1728: ImplicitModificationWarning: Trying to modify attribute `.obs` of view, initializing view as actual.\n",
      "Now running: CK374:  87%|████████▋ | 20/23 [02:23<00:15,  5.20s/it]/home/dbdimitrov/anaconda3/envs/spiana/lib/python3.10/site-packages/pandas/core/indexing.py:1728: ImplicitModificationWarning: Trying to modify attribute `.obs` of view, initializing view as actual.\n",
      "Now running: CK375:  91%|█████████▏| 21/23 [02:33<00:13,  6.80s/it]/home/dbdimitrov/anaconda3/envs/spiana/lib/python3.10/site-packages/pandas/core/indexing.py:1728: ImplicitModificationWarning: Trying to modify attribute `.obs` of view, initializing view as actual.\n",
      "Now running: CK376:  96%|█████████▌| 22/23 [02:37<00:06,  6.04s/it]/home/dbdimitrov/anaconda3/envs/spiana/lib/python3.10/site-packages/pandas/core/indexing.py:1728: ImplicitModificationWarning: Trying to modify attribute `.obs` of view, initializing view as actual.\n",
      "Now running: CK376: 100%|██████████| 23/23 [02:42<00:00,  7.05s/it]\n"
     ]
    }
   ],
   "source": [
    "li.mt.singlecellsignalr.by_sample(adata, groupby=groupby, use_raw=False, sample_key=sample_key, verbose=True, n_perms=None)"
   ]
  },
  {
   "cell_type": "code",
   "execution_count": null,
   "metadata": {},
   "outputs": [],
   "source": []
  },
  {
   "cell_type": "code",
   "execution_count": 19,
   "metadata": {},
   "outputs": [
    {
     "name": "stderr",
     "output_type": "stream",
     "text": [
      "100%|██████████| 121/121 [00:02<00:00, 42.03it/s]\n"
     ]
    }
   ],
   "source": [
    "mdata = li.multi.lrs_to_views(adata,\n",
    "                              sample_key=sample_key,\n",
    "                              score_key='lrscore',\n",
    "                              obs_keys=[condition_key], # add those to mdata.obs\n",
    "                              lr_prop = 0.2, # minimum required proportion of samples to keep an LR\n",
    "                              lrs_per_sample = 10, # minimum number of interactions to keep a sample in a specific view\n",
    "                              lrs_per_view = 10, # minimum number of interactions to keep a view\n",
    "                              samples_per_view = 8, # minimum number of samples to keep a view\n",
    "                              min_variance = 0, # minimum variance to keep an interaction\n",
    "                              lr_fill = 0, # fill missing LR values across samples with this\n",
    "                              verbose=True\n",
    "                              )"
   ]
  },
  {
   "cell_type": "code",
   "execution_count": 20,
   "metadata": {},
   "outputs": [
    {
     "data": {
      "text/html": [
       "<pre>MuData object with n_obs × n_vars = 23 × 38984\n",
       "  obs:\t&#x27;patient_group&#x27;\n",
       "  119 modalities\n",
       "    NRC&amp;NRC:\t23 x 371\n",
       "    MC&amp;NRC:\t19 x 272\n",
       "    CMM&amp;NRC:\t23 x 428\n",
       "    SMM&amp;NRC:\t23 x 455\n",
       "    PC&amp;NRC:\t23 x 390\n",
       "    LLRPC&amp;NRC:\t23 x 281\n",
       "    IILC&amp;NRC:\t23 x 306\n",
       "    FCT&amp;NRC:\t23 x 454\n",
       "    CEC&amp;NRC:\t23 x 329\n",
       "    NC&amp;NRC:\t23 x 393\n",
       "    NRC&amp;MC:\t19 x 305\n",
       "    MC&amp;MC:\t19 x 280\n",
       "    CMM&amp;MC:\t19 x 360\n",
       "    SMM&amp;MC:\t19 x 363\n",
       "    PC&amp;MC:\t19 x 301\n",
       "    LLRPC&amp;MC:\t19 x 229\n",
       "    IILC&amp;MC:\t19 x 278\n",
       "    FCT&amp;MC:\t19 x 387\n",
       "    CEC&amp;MC:\t19 x 289\n",
       "    NC&amp;MC:\t19 x 340\n",
       "    NRC&amp;CMM:\t23 x 419\n",
       "    MC&amp;CMM:\t19 x 349\n",
       "    CMM&amp;CMM:\t23 x 497\n",
       "    SMM&amp;CMM:\t23 x 480\n",
       "    PC&amp;CMM:\t23 x 425\n",
       "    LLRPC&amp;CMM:\t23 x 327\n",
       "    IILC&amp;CMM:\t23 x 358\n",
       "    FCT&amp;CMM:\t23 x 487\n",
       "    CEC&amp;CMM:\t23 x 395\n",
       "    NC&amp;CMM:\t23 x 477\n",
       "    NRC&amp;SMM:\t23 x 407\n",
       "    MC&amp;SMM:\t19 x 324\n",
       "    CMM&amp;SMM:\t23 x 447\n",
       "    SMM&amp;SMM:\t23 x 461\n",
       "    PC&amp;SMM:\t23 x 412\n",
       "    LLRPC&amp;SMM:\t23 x 308\n",
       "    IILC&amp;SMM:\t23 x 343\n",
       "    FCT&amp;SMM:\t23 x 470\n",
       "    CEC&amp;SMM:\t23 x 379\n",
       "    NC&amp;SMM:\t23 x 439\n",
       "    NRC&amp;PC:\t23 x 303\n",
       "    MC&amp;PC:\t19 x 240\n",
       "    CMM&amp;PC:\t23 x 352\n",
       "    SMM&amp;PC:\t23 x 360\n",
       "    PC&amp;PC:\t23 x 320\n",
       "    LLRPC&amp;PC:\t23 x 234\n",
       "    IILC&amp;PC:\t23 x 255\n",
       "    FCT&amp;PC:\t23 x 358\n",
       "    CEC&amp;PC:\t23 x 299\n",
       "    NC&amp;PC:\t23 x 335\n",
       "    NRC&amp;LLRPC:\t22 x 253\n",
       "    MC&amp;LLRPC:\t18 x 194\n",
       "    CMM&amp;LLRPC:\t23 x 295\n",
       "    SMM&amp;LLRPC:\t23 x 302\n",
       "    PC&amp;LLRPC:\t22 x 274\n",
       "    LLRPC&amp;LLRPC:\t21 x 217\n",
       "    IILC&amp;LLRPC:\t22 x 233\n",
       "    FCT&amp;LLRPC:\t23 x 312\n",
       "    CEC&amp;LLRPC:\t21 x 259\n",
       "    NC&amp;LLRPC:\t22 x 284\n",
       "    NRC&amp;IILC:\t23 x 291\n",
       "    MC&amp;IILC:\t19 x 275\n",
       "    CMM&amp;IILC:\t23 x 355\n",
       "    SMM&amp;IILC:\t23 x 349\n",
       "    PC&amp;IILC:\t23 x 298\n",
       "    LLRPC&amp;IILC:\t23 x 237\n",
       "    IILC&amp;IILC:\t23 x 287\n",
       "    FCT&amp;IILC:\t23 x 359\n",
       "    CEC&amp;IILC:\t23 x 292\n",
       "    NC&amp;IILC:\t23 x 352\n",
       "    NRC&amp;FCT:\t23 x 358\n",
       "    MC&amp;FCT:\t19 x 301\n",
       "    CMM&amp;FCT:\t23 x 407\n",
       "    SMM&amp;FCT:\t23 x 419\n",
       "    PC&amp;FCT:\t23 x 369\n",
       "    LLRPC&amp;FCT:\t23 x 279\n",
       "    IILC&amp;FCT:\t23 x 299\n",
       "    FCT&amp;FCT:\t23 x 417\n",
       "    CEC&amp;FCT:\t23 x 335\n",
       "    NC&amp;FCT:\t23 x 401\n",
       "    NRC&amp;CEC:\t23 x 344\n",
       "    MC&amp;CEC:\t19 x 252\n",
       "    CMM&amp;CEC:\t23 x 404\n",
       "    SMM&amp;CEC:\t23 x 389\n",
       "    PC&amp;CEC:\t23 x 341\n",
       "    LLRPC&amp;CEC:\t23 x 262\n",
       "    IILC&amp;CEC:\t23 x 292\n",
       "    FCT&amp;CEC:\t23 x 402\n",
       "    CEC&amp;CEC:\t23 x 332\n",
       "    NC&amp;CEC:\t23 x 386\n",
       "    NRC&amp;NC:\t23 x 417\n",
       "    MC&amp;NC:\t19 x 346\n",
       "    CMM&amp;NC:\t23 x 489\n",
       "    SMM&amp;NC:\t23 x 474\n",
       "    PC&amp;NC:\t23 x 421\n",
       "    LLRPC&amp;NC:\t23 x 328\n",
       "    IILC&amp;NC:\t23 x 369\n",
       "    FCT&amp;NC:\t23 x 500\n",
       "    CEC&amp;NC:\t23 x 400\n",
       "    NC&amp;NC:\t23 x 486\n",
       "    AEFLV&amp;NRC:\t9 x 201\n",
       "    AEFLV&amp;CMM:\t9 x 261\n",
       "    AEFLV&amp;SMM:\t9 x 242\n",
       "    AEFLV&amp;PC:\t9 x 175\n",
       "    AEFLV&amp;LLRPC:\t9 x 130\n",
       "    AEFLV&amp;IILC:\t9 x 183\n",
       "    AEFLV&amp;FCT:\t9 x 230\n",
       "    AEFLV&amp;CEC:\t9 x 204\n",
       "    NRC&amp;AEFLV:\t9 x 205\n",
       "    CMM&amp;AEFLV:\t9 x 256\n",
       "    SMM&amp;AEFLV:\t9 x 244\n",
       "    PC&amp;AEFLV:\t9 x 223\n",
       "    LLRPC&amp;AEFLV:\t9 x 138\n",
       "    IILC&amp;AEFLV:\t9 x 166\n",
       "    FCT&amp;AEFLV:\t9 x 267\n",
       "    CEC&amp;AEFLV:\t9 x 216\n",
       "    AEFLV&amp;AEFLV:\t9 x 213\n",
       "    NC&amp;AEFLV:\t9 x 203\n",
       "    AEFLV&amp;NC:\t9 x 219</pre>"
      ],
      "text/plain": [
       "MuData object with n_obs × n_vars = 23 × 38984\n",
       "  obs:\t'patient_group'\n",
       "  119 modalities\n",
       "    NRC&NRC:\t23 x 371\n",
       "    MC&NRC:\t19 x 272\n",
       "    CMM&NRC:\t23 x 428\n",
       "    SMM&NRC:\t23 x 455\n",
       "    PC&NRC:\t23 x 390\n",
       "    LLRPC&NRC:\t23 x 281\n",
       "    IILC&NRC:\t23 x 306\n",
       "    FCT&NRC:\t23 x 454\n",
       "    CEC&NRC:\t23 x 329\n",
       "    NC&NRC:\t23 x 393\n",
       "    NRC&MC:\t19 x 305\n",
       "    MC&MC:\t19 x 280\n",
       "    CMM&MC:\t19 x 360\n",
       "    SMM&MC:\t19 x 363\n",
       "    PC&MC:\t19 x 301\n",
       "    LLRPC&MC:\t19 x 229\n",
       "    IILC&MC:\t19 x 278\n",
       "    FCT&MC:\t19 x 387\n",
       "    CEC&MC:\t19 x 289\n",
       "    NC&MC:\t19 x 340\n",
       "    NRC&CMM:\t23 x 419\n",
       "    MC&CMM:\t19 x 349\n",
       "    CMM&CMM:\t23 x 497\n",
       "    SMM&CMM:\t23 x 480\n",
       "    PC&CMM:\t23 x 425\n",
       "    LLRPC&CMM:\t23 x 327\n",
       "    IILC&CMM:\t23 x 358\n",
       "    FCT&CMM:\t23 x 487\n",
       "    CEC&CMM:\t23 x 395\n",
       "    NC&CMM:\t23 x 477\n",
       "    NRC&SMM:\t23 x 407\n",
       "    MC&SMM:\t19 x 324\n",
       "    CMM&SMM:\t23 x 447\n",
       "    SMM&SMM:\t23 x 461\n",
       "    PC&SMM:\t23 x 412\n",
       "    LLRPC&SMM:\t23 x 308\n",
       "    IILC&SMM:\t23 x 343\n",
       "    FCT&SMM:\t23 x 470\n",
       "    CEC&SMM:\t23 x 379\n",
       "    NC&SMM:\t23 x 439\n",
       "    NRC&PC:\t23 x 303\n",
       "    MC&PC:\t19 x 240\n",
       "    CMM&PC:\t23 x 352\n",
       "    SMM&PC:\t23 x 360\n",
       "    PC&PC:\t23 x 320\n",
       "    LLRPC&PC:\t23 x 234\n",
       "    IILC&PC:\t23 x 255\n",
       "    FCT&PC:\t23 x 358\n",
       "    CEC&PC:\t23 x 299\n",
       "    NC&PC:\t23 x 335\n",
       "    NRC&LLRPC:\t22 x 253\n",
       "    MC&LLRPC:\t18 x 194\n",
       "    CMM&LLRPC:\t23 x 295\n",
       "    SMM&LLRPC:\t23 x 302\n",
       "    PC&LLRPC:\t22 x 274\n",
       "    LLRPC&LLRPC:\t21 x 217\n",
       "    IILC&LLRPC:\t22 x 233\n",
       "    FCT&LLRPC:\t23 x 312\n",
       "    CEC&LLRPC:\t21 x 259\n",
       "    NC&LLRPC:\t22 x 284\n",
       "    NRC&IILC:\t23 x 291\n",
       "    MC&IILC:\t19 x 275\n",
       "    CMM&IILC:\t23 x 355\n",
       "    SMM&IILC:\t23 x 349\n",
       "    PC&IILC:\t23 x 298\n",
       "    LLRPC&IILC:\t23 x 237\n",
       "    IILC&IILC:\t23 x 287\n",
       "    FCT&IILC:\t23 x 359\n",
       "    CEC&IILC:\t23 x 292\n",
       "    NC&IILC:\t23 x 352\n",
       "    NRC&FCT:\t23 x 358\n",
       "    MC&FCT:\t19 x 301\n",
       "    CMM&FCT:\t23 x 407\n",
       "    SMM&FCT:\t23 x 419\n",
       "    PC&FCT:\t23 x 369\n",
       "    LLRPC&FCT:\t23 x 279\n",
       "    IILC&FCT:\t23 x 299\n",
       "    FCT&FCT:\t23 x 417\n",
       "    CEC&FCT:\t23 x 335\n",
       "    NC&FCT:\t23 x 401\n",
       "    NRC&CEC:\t23 x 344\n",
       "    MC&CEC:\t19 x 252\n",
       "    CMM&CEC:\t23 x 404\n",
       "    SMM&CEC:\t23 x 389\n",
       "    PC&CEC:\t23 x 341\n",
       "    LLRPC&CEC:\t23 x 262\n",
       "    IILC&CEC:\t23 x 292\n",
       "    FCT&CEC:\t23 x 402\n",
       "    CEC&CEC:\t23 x 332\n",
       "    NC&CEC:\t23 x 386\n",
       "    NRC&NC:\t23 x 417\n",
       "    MC&NC:\t19 x 346\n",
       "    CMM&NC:\t23 x 489\n",
       "    SMM&NC:\t23 x 474\n",
       "    PC&NC:\t23 x 421\n",
       "    LLRPC&NC:\t23 x 328\n",
       "    IILC&NC:\t23 x 369\n",
       "    FCT&NC:\t23 x 500\n",
       "    CEC&NC:\t23 x 400\n",
       "    NC&NC:\t23 x 486\n",
       "    AEFLV&NRC:\t9 x 201\n",
       "    AEFLV&CMM:\t9 x 261\n",
       "    AEFLV&SMM:\t9 x 242\n",
       "    AEFLV&PC:\t9 x 175\n",
       "    AEFLV&LLRPC:\t9 x 130\n",
       "    AEFLV&IILC:\t9 x 183\n",
       "    AEFLV&FCT:\t9 x 230\n",
       "    AEFLV&CEC:\t9 x 204\n",
       "    NRC&AEFLV:\t9 x 205\n",
       "    CMM&AEFLV:\t9 x 256\n",
       "    SMM&AEFLV:\t9 x 244\n",
       "    PC&AEFLV:\t9 x 223\n",
       "    LLRPC&AEFLV:\t9 x 138\n",
       "    IILC&AEFLV:\t9 x 166\n",
       "    FCT&AEFLV:\t9 x 267\n",
       "    CEC&AEFLV:\t9 x 216\n",
       "    AEFLV&AEFLV:\t9 x 213\n",
       "    NC&AEFLV:\t9 x 203\n",
       "    AEFLV&NC:\t9 x 219"
      ]
     },
     "execution_count": 20,
     "metadata": {},
     "output_type": "execute_result"
    }
   ],
   "source": [
    "mdata"
   ]
  },
  {
   "cell_type": "code",
   "execution_count": 21,
   "metadata": {},
   "outputs": [
    {
     "name": "stdout",
     "output_type": "stream",
     "text": [
      "\n",
      "        #########################################################\n",
      "        ###           __  __  ____  ______                    ### \n",
      "        ###          |  \\/  |/ __ \\|  ____/\\    _             ### \n",
      "        ###          | \\  / | |  | | |__ /  \\ _| |_           ### \n",
      "        ###          | |\\/| | |  | |  __/ /\\ \\_   _|          ###\n",
      "        ###          | |  | | |__| | | / ____ \\|_|            ###\n",
      "        ###          |_|  |_|\\____/|_|/_/    \\_\\              ###\n",
      "        ###                                                   ### \n",
      "        ######################################################### \n",
      "       \n",
      " \n",
      "        \n",
      "Loaded view='NRC&NRC' group='group1' with N=23 samples and D=371 features...\n",
      "Loaded view='MC&NRC' group='group1' with N=23 samples and D=272 features...\n",
      "Loaded view='CMM&NRC' group='group1' with N=23 samples and D=428 features...\n",
      "Loaded view='SMM&NRC' group='group1' with N=23 samples and D=455 features...\n",
      "Loaded view='PC&NRC' group='group1' with N=23 samples and D=390 features...\n",
      "Loaded view='LLRPC&NRC' group='group1' with N=23 samples and D=281 features...\n",
      "Loaded view='IILC&NRC' group='group1' with N=23 samples and D=306 features...\n",
      "Loaded view='FCT&NRC' group='group1' with N=23 samples and D=454 features...\n",
      "Loaded view='CEC&NRC' group='group1' with N=23 samples and D=329 features...\n",
      "Loaded view='NC&NRC' group='group1' with N=23 samples and D=393 features...\n",
      "Loaded view='NRC&MC' group='group1' with N=23 samples and D=305 features...\n",
      "Loaded view='MC&MC' group='group1' with N=23 samples and D=280 features...\n",
      "Loaded view='CMM&MC' group='group1' with N=23 samples and D=360 features...\n",
      "Loaded view='SMM&MC' group='group1' with N=23 samples and D=363 features...\n",
      "Loaded view='PC&MC' group='group1' with N=23 samples and D=301 features...\n",
      "Loaded view='LLRPC&MC' group='group1' with N=23 samples and D=229 features...\n",
      "Loaded view='IILC&MC' group='group1' with N=23 samples and D=278 features...\n",
      "Loaded view='FCT&MC' group='group1' with N=23 samples and D=387 features...\n",
      "Loaded view='CEC&MC' group='group1' with N=23 samples and D=289 features...\n",
      "Loaded view='NC&MC' group='group1' with N=23 samples and D=340 features...\n",
      "Loaded view='NRC&CMM' group='group1' with N=23 samples and D=419 features...\n",
      "Loaded view='MC&CMM' group='group1' with N=23 samples and D=349 features...\n",
      "Loaded view='CMM&CMM' group='group1' with N=23 samples and D=497 features...\n",
      "Loaded view='SMM&CMM' group='group1' with N=23 samples and D=480 features...\n",
      "Loaded view='PC&CMM' group='group1' with N=23 samples and D=425 features...\n",
      "Loaded view='LLRPC&CMM' group='group1' with N=23 samples and D=327 features...\n",
      "Loaded view='IILC&CMM' group='group1' with N=23 samples and D=358 features...\n",
      "Loaded view='FCT&CMM' group='group1' with N=23 samples and D=487 features...\n",
      "Loaded view='CEC&CMM' group='group1' with N=23 samples and D=395 features...\n",
      "Loaded view='NC&CMM' group='group1' with N=23 samples and D=477 features...\n",
      "Loaded view='NRC&SMM' group='group1' with N=23 samples and D=407 features...\n",
      "Loaded view='MC&SMM' group='group1' with N=23 samples and D=324 features...\n",
      "Loaded view='CMM&SMM' group='group1' with N=23 samples and D=447 features...\n",
      "Loaded view='SMM&SMM' group='group1' with N=23 samples and D=461 features...\n",
      "Loaded view='PC&SMM' group='group1' with N=23 samples and D=412 features...\n",
      "Loaded view='LLRPC&SMM' group='group1' with N=23 samples and D=308 features...\n",
      "Loaded view='IILC&SMM' group='group1' with N=23 samples and D=343 features...\n",
      "Loaded view='FCT&SMM' group='group1' with N=23 samples and D=470 features...\n",
      "Loaded view='CEC&SMM' group='group1' with N=23 samples and D=379 features...\n",
      "Loaded view='NC&SMM' group='group1' with N=23 samples and D=439 features...\n",
      "Loaded view='NRC&PC' group='group1' with N=23 samples and D=303 features...\n",
      "Loaded view='MC&PC' group='group1' with N=23 samples and D=240 features...\n",
      "Loaded view='CMM&PC' group='group1' with N=23 samples and D=352 features...\n",
      "Loaded view='SMM&PC' group='group1' with N=23 samples and D=360 features...\n",
      "Loaded view='PC&PC' group='group1' with N=23 samples and D=320 features...\n",
      "Loaded view='LLRPC&PC' group='group1' with N=23 samples and D=234 features...\n",
      "Loaded view='IILC&PC' group='group1' with N=23 samples and D=255 features...\n",
      "Loaded view='FCT&PC' group='group1' with N=23 samples and D=358 features...\n",
      "Loaded view='CEC&PC' group='group1' with N=23 samples and D=299 features...\n",
      "Loaded view='NC&PC' group='group1' with N=23 samples and D=335 features...\n",
      "Loaded view='NRC&LLRPC' group='group1' with N=23 samples and D=253 features...\n",
      "Loaded view='MC&LLRPC' group='group1' with N=23 samples and D=194 features...\n",
      "Loaded view='CMM&LLRPC' group='group1' with N=23 samples and D=295 features...\n",
      "Loaded view='SMM&LLRPC' group='group1' with N=23 samples and D=302 features...\n",
      "Loaded view='PC&LLRPC' group='group1' with N=23 samples and D=274 features...\n",
      "Loaded view='LLRPC&LLRPC' group='group1' with N=23 samples and D=217 features...\n",
      "Loaded view='IILC&LLRPC' group='group1' with N=23 samples and D=233 features...\n",
      "Loaded view='FCT&LLRPC' group='group1' with N=23 samples and D=312 features...\n",
      "Loaded view='CEC&LLRPC' group='group1' with N=23 samples and D=259 features...\n",
      "Loaded view='NC&LLRPC' group='group1' with N=23 samples and D=284 features...\n",
      "Loaded view='NRC&IILC' group='group1' with N=23 samples and D=291 features...\n",
      "Loaded view='MC&IILC' group='group1' with N=23 samples and D=275 features...\n",
      "Loaded view='CMM&IILC' group='group1' with N=23 samples and D=355 features...\n",
      "Loaded view='SMM&IILC' group='group1' with N=23 samples and D=349 features...\n",
      "Loaded view='PC&IILC' group='group1' with N=23 samples and D=298 features...\n",
      "Loaded view='LLRPC&IILC' group='group1' with N=23 samples and D=237 features...\n",
      "Loaded view='IILC&IILC' group='group1' with N=23 samples and D=287 features...\n",
      "Loaded view='FCT&IILC' group='group1' with N=23 samples and D=359 features...\n",
      "Loaded view='CEC&IILC' group='group1' with N=23 samples and D=292 features...\n",
      "Loaded view='NC&IILC' group='group1' with N=23 samples and D=352 features...\n",
      "Loaded view='NRC&FCT' group='group1' with N=23 samples and D=358 features...\n",
      "Loaded view='MC&FCT' group='group1' with N=23 samples and D=301 features...\n",
      "Loaded view='CMM&FCT' group='group1' with N=23 samples and D=407 features...\n",
      "Loaded view='SMM&FCT' group='group1' with N=23 samples and D=419 features...\n",
      "Loaded view='PC&FCT' group='group1' with N=23 samples and D=369 features...\n",
      "Loaded view='LLRPC&FCT' group='group1' with N=23 samples and D=279 features...\n",
      "Loaded view='IILC&FCT' group='group1' with N=23 samples and D=299 features...\n",
      "Loaded view='FCT&FCT' group='group1' with N=23 samples and D=417 features...\n",
      "Loaded view='CEC&FCT' group='group1' with N=23 samples and D=335 features...\n",
      "Loaded view='NC&FCT' group='group1' with N=23 samples and D=401 features...\n",
      "Loaded view='NRC&CEC' group='group1' with N=23 samples and D=344 features...\n",
      "Loaded view='MC&CEC' group='group1' with N=23 samples and D=252 features...\n",
      "Loaded view='CMM&CEC' group='group1' with N=23 samples and D=404 features...\n",
      "Loaded view='SMM&CEC' group='group1' with N=23 samples and D=389 features...\n",
      "Loaded view='PC&CEC' group='group1' with N=23 samples and D=341 features...\n",
      "Loaded view='LLRPC&CEC' group='group1' with N=23 samples and D=262 features...\n",
      "Loaded view='IILC&CEC' group='group1' with N=23 samples and D=292 features...\n",
      "Loaded view='FCT&CEC' group='group1' with N=23 samples and D=402 features...\n",
      "Loaded view='CEC&CEC' group='group1' with N=23 samples and D=332 features...\n",
      "Loaded view='NC&CEC' group='group1' with N=23 samples and D=386 features...\n",
      "Loaded view='NRC&NC' group='group1' with N=23 samples and D=417 features...\n",
      "Loaded view='MC&NC' group='group1' with N=23 samples and D=346 features...\n",
      "Loaded view='CMM&NC' group='group1' with N=23 samples and D=489 features...\n",
      "Loaded view='SMM&NC' group='group1' with N=23 samples and D=474 features...\n",
      "Loaded view='PC&NC' group='group1' with N=23 samples and D=421 features...\n",
      "Loaded view='LLRPC&NC' group='group1' with N=23 samples and D=328 features...\n",
      "Loaded view='IILC&NC' group='group1' with N=23 samples and D=369 features...\n",
      "Loaded view='FCT&NC' group='group1' with N=23 samples and D=500 features...\n",
      "Loaded view='CEC&NC' group='group1' with N=23 samples and D=400 features...\n",
      "Loaded view='NC&NC' group='group1' with N=23 samples and D=486 features...\n",
      "Loaded view='AEFLV&NRC' group='group1' with N=23 samples and D=201 features...\n",
      "Loaded view='AEFLV&CMM' group='group1' with N=23 samples and D=261 features...\n",
      "Loaded view='AEFLV&SMM' group='group1' with N=23 samples and D=242 features...\n",
      "Loaded view='AEFLV&PC' group='group1' with N=23 samples and D=175 features...\n",
      "Loaded view='AEFLV&LLRPC' group='group1' with N=23 samples and D=130 features...\n",
      "Loaded view='AEFLV&IILC' group='group1' with N=23 samples and D=183 features...\n",
      "Loaded view='AEFLV&FCT' group='group1' with N=23 samples and D=230 features...\n",
      "Loaded view='AEFLV&CEC' group='group1' with N=23 samples and D=204 features...\n",
      "Loaded view='NRC&AEFLV' group='group1' with N=23 samples and D=205 features...\n",
      "Loaded view='CMM&AEFLV' group='group1' with N=23 samples and D=256 features...\n",
      "Loaded view='SMM&AEFLV' group='group1' with N=23 samples and D=244 features...\n",
      "Loaded view='PC&AEFLV' group='group1' with N=23 samples and D=223 features...\n",
      "Loaded view='LLRPC&AEFLV' group='group1' with N=23 samples and D=138 features...\n",
      "Loaded view='IILC&AEFLV' group='group1' with N=23 samples and D=166 features...\n",
      "Loaded view='FCT&AEFLV' group='group1' with N=23 samples and D=267 features...\n",
      "Loaded view='CEC&AEFLV' group='group1' with N=23 samples and D=216 features...\n",
      "Loaded view='AEFLV&AEFLV' group='group1' with N=23 samples and D=213 features...\n",
      "Loaded view='NC&AEFLV' group='group1' with N=23 samples and D=203 features...\n",
      "Loaded view='AEFLV&NC' group='group1' with N=23 samples and D=219 features...\n",
      "\n",
      "\n",
      "Model options:\n",
      "- Automatic Relevance Determination prior on the factors: True\n",
      "- Automatic Relevance Determination prior on the weights: True\n",
      "- Spike-and-slab prior on the factors: False\n",
      "- Spike-and-slab prior on the weights: True\n",
      "Likelihoods:\n",
      "- View 0 (NRC&NRC): gaussian\n",
      "- View 1 (MC&NRC): gaussian\n",
      "- View 2 (CMM&NRC): gaussian\n",
      "- View 3 (SMM&NRC): gaussian\n",
      "- View 4 (PC&NRC): gaussian\n",
      "- View 5 (LLRPC&NRC): gaussian\n",
      "- View 6 (IILC&NRC): gaussian\n",
      "- View 7 (FCT&NRC): gaussian\n",
      "- View 8 (CEC&NRC): gaussian\n",
      "- View 9 (NC&NRC): gaussian\n",
      "- View 10 (NRC&MC): gaussian\n",
      "- View 11 (MC&MC): gaussian\n",
      "- View 12 (CMM&MC): gaussian\n",
      "- View 13 (SMM&MC): gaussian\n",
      "- View 14 (PC&MC): gaussian\n",
      "- View 15 (LLRPC&MC): gaussian\n",
      "- View 16 (IILC&MC): gaussian\n",
      "- View 17 (FCT&MC): gaussian\n",
      "- View 18 (CEC&MC): gaussian\n",
      "- View 19 (NC&MC): gaussian\n",
      "- View 20 (NRC&CMM): gaussian\n",
      "- View 21 (MC&CMM): gaussian\n",
      "- View 22 (CMM&CMM): gaussian\n",
      "- View 23 (SMM&CMM): gaussian\n",
      "- View 24 (PC&CMM): gaussian\n",
      "- View 25 (LLRPC&CMM): gaussian\n",
      "- View 26 (IILC&CMM): gaussian\n",
      "- View 27 (FCT&CMM): gaussian\n",
      "- View 28 (CEC&CMM): gaussian\n",
      "- View 29 (NC&CMM): gaussian\n",
      "- View 30 (NRC&SMM): gaussian\n",
      "- View 31 (MC&SMM): gaussian\n",
      "- View 32 (CMM&SMM): gaussian\n",
      "- View 33 (SMM&SMM): gaussian\n",
      "- View 34 (PC&SMM): gaussian\n",
      "- View 35 (LLRPC&SMM): gaussian\n",
      "- View 36 (IILC&SMM): gaussian\n",
      "- View 37 (FCT&SMM): gaussian\n",
      "- View 38 (CEC&SMM): gaussian\n",
      "- View 39 (NC&SMM): gaussian\n",
      "- View 40 (NRC&PC): gaussian\n",
      "- View 41 (MC&PC): gaussian\n",
      "- View 42 (CMM&PC): gaussian\n",
      "- View 43 (SMM&PC): gaussian\n",
      "- View 44 (PC&PC): gaussian\n",
      "- View 45 (LLRPC&PC): gaussian\n",
      "- View 46 (IILC&PC): gaussian\n",
      "- View 47 (FCT&PC): gaussian\n",
      "- View 48 (CEC&PC): gaussian\n",
      "- View 49 (NC&PC): gaussian\n",
      "- View 50 (NRC&LLRPC): gaussian\n",
      "- View 51 (MC&LLRPC): gaussian\n",
      "- View 52 (CMM&LLRPC): gaussian\n",
      "- View 53 (SMM&LLRPC): gaussian\n",
      "- View 54 (PC&LLRPC): gaussian\n",
      "- View 55 (LLRPC&LLRPC): gaussian\n",
      "- View 56 (IILC&LLRPC): gaussian\n",
      "- View 57 (FCT&LLRPC): gaussian\n",
      "- View 58 (CEC&LLRPC): gaussian\n",
      "- View 59 (NC&LLRPC): gaussian\n",
      "- View 60 (NRC&IILC): gaussian\n",
      "- View 61 (MC&IILC): gaussian\n",
      "- View 62 (CMM&IILC): gaussian\n",
      "- View 63 (SMM&IILC): gaussian\n",
      "- View 64 (PC&IILC): gaussian\n",
      "- View 65 (LLRPC&IILC): gaussian\n",
      "- View 66 (IILC&IILC): gaussian\n",
      "- View 67 (FCT&IILC): gaussian\n",
      "- View 68 (CEC&IILC): gaussian\n",
      "- View 69 (NC&IILC): gaussian\n",
      "- View 70 (NRC&FCT): gaussian\n",
      "- View 71 (MC&FCT): gaussian\n",
      "- View 72 (CMM&FCT): gaussian\n",
      "- View 73 (SMM&FCT): gaussian\n",
      "- View 74 (PC&FCT): gaussian\n",
      "- View 75 (LLRPC&FCT): gaussian\n",
      "- View 76 (IILC&FCT): gaussian\n",
      "- View 77 (FCT&FCT): gaussian\n",
      "- View 78 (CEC&FCT): gaussian\n",
      "- View 79 (NC&FCT): gaussian\n",
      "- View 80 (NRC&CEC): gaussian\n",
      "- View 81 (MC&CEC): gaussian\n",
      "- View 82 (CMM&CEC): gaussian\n",
      "- View 83 (SMM&CEC): gaussian\n",
      "- View 84 (PC&CEC): gaussian\n",
      "- View 85 (LLRPC&CEC): gaussian\n",
      "- View 86 (IILC&CEC): gaussian\n",
      "- View 87 (FCT&CEC): gaussian\n",
      "- View 88 (CEC&CEC): gaussian\n",
      "- View 89 (NC&CEC): gaussian\n",
      "- View 90 (NRC&NC): gaussian\n",
      "- View 91 (MC&NC): gaussian\n",
      "- View 92 (CMM&NC): gaussian\n",
      "- View 93 (SMM&NC): gaussian\n",
      "- View 94 (PC&NC): gaussian\n",
      "- View 95 (LLRPC&NC): gaussian\n",
      "- View 96 (IILC&NC): gaussian\n",
      "- View 97 (FCT&NC): gaussian\n",
      "- View 98 (CEC&NC): gaussian\n",
      "- View 99 (NC&NC): gaussian\n",
      "- View 100 (AEFLV&NRC): gaussian\n",
      "- View 101 (AEFLV&CMM): gaussian\n",
      "- View 102 (AEFLV&SMM): gaussian\n",
      "- View 103 (AEFLV&PC): gaussian\n",
      "- View 104 (AEFLV&LLRPC): gaussian\n",
      "- View 105 (AEFLV&IILC): gaussian\n",
      "- View 106 (AEFLV&FCT): gaussian\n",
      "- View 107 (AEFLV&CEC): gaussian\n",
      "- View 108 (NRC&AEFLV): gaussian\n",
      "- View 109 (CMM&AEFLV): gaussian\n",
      "- View 110 (SMM&AEFLV): gaussian\n",
      "- View 111 (PC&AEFLV): gaussian\n",
      "- View 112 (LLRPC&AEFLV): gaussian\n",
      "- View 113 (IILC&AEFLV): gaussian\n",
      "- View 114 (FCT&AEFLV): gaussian\n",
      "- View 115 (CEC&AEFLV): gaussian\n",
      "- View 116 (AEFLV&AEFLV): gaussian\n",
      "- View 117 (NC&AEFLV): gaussian\n",
      "- View 118 (AEFLV&NC): gaussian\n",
      "\n",
      "\n",
      "\n",
      "\n",
      "######################################\n",
      "## Training the model with seed 1 ##\n",
      "######################################\n",
      "\n",
      "\n",
      "\n",
      "Converged!\n",
      "\n",
      "\n",
      "\n",
      "#######################\n",
      "## Training finished ##\n",
      "#######################\n",
      "\n",
      "\n",
      "Warning: Output file models/mofatalk.h5ad already exists, it will be replaced\n",
      "Saving model in models/mofatalk.h5ad...\n",
      "Saved MOFA embeddings in .obsm['X_mofa'] slot and their loadings in .varm['LFs'].\n"
     ]
    }
   ],
   "source": [
    "mu.tl.mofa(mdata,\n",
    "           use_obs='union',\n",
    "           convergence_mode='medium',\n",
    "           outfile='models/mofatalk.h5ad',\n",
    "           n_factors=5,\n",
    "           )\n"
   ]
  },
  {
   "cell_type": "code",
   "execution_count": null,
   "metadata": {},
   "outputs": [],
   "source": []
  },
  {
   "cell_type": "code",
   "execution_count": 22,
   "metadata": {},
   "outputs": [
    {
     "data": {
      "text/html": [
       "<div>\n",
       "<style scoped>\n",
       "    .dataframe tbody tr th:only-of-type {\n",
       "        vertical-align: middle;\n",
       "    }\n",
       "\n",
       "    .dataframe tbody tr th {\n",
       "        vertical-align: top;\n",
       "    }\n",
       "\n",
       "    .dataframe thead th {\n",
       "        text-align: right;\n",
       "    }\n",
       "</style>\n",
       "<table border=\"1\" class=\"dataframe\">\n",
       "  <thead>\n",
       "    <tr style=\"text-align: right;\">\n",
       "      <th></th>\n",
       "      <th>sample</th>\n",
       "      <th>Factor_1</th>\n",
       "      <th>Factor_2</th>\n",
       "      <th>Factor_3</th>\n",
       "      <th>Factor_4</th>\n",
       "      <th>Factor_5</th>\n",
       "      <th>patient_group</th>\n",
       "    </tr>\n",
       "  </thead>\n",
       "  <tbody>\n",
       "    <tr>\n",
       "      <th>0</th>\n",
       "      <td>CK158</td>\n",
       "      <td>-0.320582</td>\n",
       "      <td>-0.125324</td>\n",
       "      <td>-0.053954</td>\n",
       "      <td>-0.025256</td>\n",
       "      <td>0.007541</td>\n",
       "      <td>myogenic</td>\n",
       "    </tr>\n",
       "    <tr>\n",
       "      <th>1</th>\n",
       "      <td>CK159</td>\n",
       "      <td>0.145553</td>\n",
       "      <td>-0.255193</td>\n",
       "      <td>0.179529</td>\n",
       "      <td>-0.105322</td>\n",
       "      <td>0.232393</td>\n",
       "      <td>myogenic</td>\n",
       "    </tr>\n",
       "    <tr>\n",
       "      <th>2</th>\n",
       "      <td>CK160</td>\n",
       "      <td>-0.245525</td>\n",
       "      <td>0.196747</td>\n",
       "      <td>-0.043813</td>\n",
       "      <td>0.174845</td>\n",
       "      <td>0.054652</td>\n",
       "      <td>myogenic</td>\n",
       "    </tr>\n",
       "    <tr>\n",
       "      <th>3</th>\n",
       "      <td>CK163</td>\n",
       "      <td>-0.136489</td>\n",
       "      <td>-0.193852</td>\n",
       "      <td>0.035947</td>\n",
       "      <td>0.135617</td>\n",
       "      <td>-0.055540</td>\n",
       "      <td>myogenic</td>\n",
       "    </tr>\n",
       "    <tr>\n",
       "      <th>4</th>\n",
       "      <td>CK164</td>\n",
       "      <td>-0.276102</td>\n",
       "      <td>0.198459</td>\n",
       "      <td>-0.051535</td>\n",
       "      <td>0.180911</td>\n",
       "      <td>0.062962</td>\n",
       "      <td>myogenic</td>\n",
       "    </tr>\n",
       "  </tbody>\n",
       "</table>\n",
       "</div>"
      ],
      "text/plain": [
       "  sample  Factor_1  Factor_2  Factor_3  Factor_4  Factor_5 patient_group\n",
       "0  CK158 -0.320582 -0.125324 -0.053954 -0.025256  0.007541      myogenic\n",
       "1  CK159  0.145553 -0.255193  0.179529 -0.105322  0.232393      myogenic\n",
       "2  CK160 -0.245525  0.196747 -0.043813  0.174845  0.054652      myogenic\n",
       "3  CK163 -0.136489 -0.193852  0.035947  0.135617 -0.055540      myogenic\n",
       "4  CK164 -0.276102  0.198459 -0.051535  0.180911  0.062962      myogenic"
      ]
     },
     "execution_count": 22,
     "metadata": {},
     "output_type": "execute_result"
    }
   ],
   "source": [
    "# obtain factor scores\n",
    "factor_scores = li.multi.get_factor_scores(mdata, obsm_key='X_mofa')\n",
    "factor_scores.head()"
   ]
  },
  {
   "cell_type": "code",
   "execution_count": 23,
   "metadata": {},
   "outputs": [
    {
     "data": {
      "text/html": [
       "<div>\n",
       "<style scoped>\n",
       "    .dataframe tbody tr th:only-of-type {\n",
       "        vertical-align: middle;\n",
       "    }\n",
       "\n",
       "    .dataframe tbody tr th {\n",
       "        vertical-align: top;\n",
       "    }\n",
       "\n",
       "    .dataframe thead th {\n",
       "        text-align: right;\n",
       "    }\n",
       "</style>\n",
       "<table border=\"1\" class=\"dataframe\">\n",
       "  <thead>\n",
       "    <tr style=\"text-align: right;\">\n",
       "      <th></th>\n",
       "      <th>sample</th>\n",
       "      <th>Factor_1</th>\n",
       "      <th>Factor_2</th>\n",
       "      <th>Factor_3</th>\n",
       "      <th>Factor_4</th>\n",
       "      <th>Factor_5</th>\n",
       "      <th>patient_group</th>\n",
       "    </tr>\n",
       "  </thead>\n",
       "  <tbody>\n",
       "    <tr>\n",
       "      <th>16</th>\n",
       "      <td>CK369</td>\n",
       "      <td>0.682201</td>\n",
       "      <td>-0.140125</td>\n",
       "      <td>-0.093518</td>\n",
       "      <td>-0.010629</td>\n",
       "      <td>0.006942</td>\n",
       "      <td>ischemic</td>\n",
       "    </tr>\n",
       "    <tr>\n",
       "      <th>18</th>\n",
       "      <td>CK372</td>\n",
       "      <td>0.675736</td>\n",
       "      <td>-0.137046</td>\n",
       "      <td>-0.087467</td>\n",
       "      <td>-0.012686</td>\n",
       "      <td>0.005957</td>\n",
       "      <td>ischemic</td>\n",
       "    </tr>\n",
       "    <tr>\n",
       "      <th>21</th>\n",
       "      <td>CK375</td>\n",
       "      <td>0.669223</td>\n",
       "      <td>-0.138316</td>\n",
       "      <td>-0.091973</td>\n",
       "      <td>-0.011666</td>\n",
       "      <td>0.008383</td>\n",
       "      <td>ischemic</td>\n",
       "    </tr>\n",
       "    <tr>\n",
       "      <th>22</th>\n",
       "      <td>CK376</td>\n",
       "      <td>0.668535</td>\n",
       "      <td>-0.132088</td>\n",
       "      <td>-0.094047</td>\n",
       "      <td>-0.011358</td>\n",
       "      <td>0.006543</td>\n",
       "      <td>ischemic</td>\n",
       "    </tr>\n",
       "    <tr>\n",
       "      <th>5</th>\n",
       "      <td>CK165</td>\n",
       "      <td>0.306884</td>\n",
       "      <td>-0.032227</td>\n",
       "      <td>0.233723</td>\n",
       "      <td>0.090411</td>\n",
       "      <td>-0.206681</td>\n",
       "      <td>ischemic</td>\n",
       "    </tr>\n",
       "    <tr>\n",
       "      <th>1</th>\n",
       "      <td>CK159</td>\n",
       "      <td>0.145553</td>\n",
       "      <td>-0.255193</td>\n",
       "      <td>0.179529</td>\n",
       "      <td>-0.105322</td>\n",
       "      <td>0.232393</td>\n",
       "      <td>myogenic</td>\n",
       "    </tr>\n",
       "    <tr>\n",
       "      <th>11</th>\n",
       "      <td>CK361</td>\n",
       "      <td>0.145447</td>\n",
       "      <td>0.035800</td>\n",
       "      <td>0.158121</td>\n",
       "      <td>-0.097388</td>\n",
       "      <td>-0.131993</td>\n",
       "      <td>ischemic</td>\n",
       "    </tr>\n",
       "    <tr>\n",
       "      <th>15</th>\n",
       "      <td>CK365</td>\n",
       "      <td>0.003966</td>\n",
       "      <td>0.458302</td>\n",
       "      <td>0.053072</td>\n",
       "      <td>-0.061513</td>\n",
       "      <td>-0.001248</td>\n",
       "      <td>ischemic</td>\n",
       "    </tr>\n",
       "    <tr>\n",
       "      <th>19</th>\n",
       "      <td>CK373</td>\n",
       "      <td>-0.011487</td>\n",
       "      <td>0.460824</td>\n",
       "      <td>0.049559</td>\n",
       "      <td>-0.060906</td>\n",
       "      <td>0.001470</td>\n",
       "      <td>ischemic</td>\n",
       "    </tr>\n",
       "    <tr>\n",
       "      <th>13</th>\n",
       "      <td>CK363</td>\n",
       "      <td>-0.012627</td>\n",
       "      <td>0.406693</td>\n",
       "      <td>0.042479</td>\n",
       "      <td>-0.059761</td>\n",
       "      <td>0.011337</td>\n",
       "      <td>ischemic</td>\n",
       "    </tr>\n",
       "    <tr>\n",
       "      <th>17</th>\n",
       "      <td>CK371</td>\n",
       "      <td>-0.027926</td>\n",
       "      <td>0.468377</td>\n",
       "      <td>0.049609</td>\n",
       "      <td>-0.061449</td>\n",
       "      <td>0.002125</td>\n",
       "      <td>ischemic</td>\n",
       "    </tr>\n",
       "    <tr>\n",
       "      <th>3</th>\n",
       "      <td>CK163</td>\n",
       "      <td>-0.136489</td>\n",
       "      <td>-0.193852</td>\n",
       "      <td>0.035947</td>\n",
       "      <td>0.135617</td>\n",
       "      <td>-0.055540</td>\n",
       "      <td>myogenic</td>\n",
       "    </tr>\n",
       "    <tr>\n",
       "      <th>9</th>\n",
       "      <td>CK359</td>\n",
       "      <td>-0.177008</td>\n",
       "      <td>-0.192904</td>\n",
       "      <td>0.023346</td>\n",
       "      <td>0.135052</td>\n",
       "      <td>-0.052614</td>\n",
       "      <td>myogenic</td>\n",
       "    </tr>\n",
       "    <tr>\n",
       "      <th>12</th>\n",
       "      <td>CK362</td>\n",
       "      <td>-0.242151</td>\n",
       "      <td>-0.129590</td>\n",
       "      <td>-0.037886</td>\n",
       "      <td>-0.029355</td>\n",
       "      <td>0.005413</td>\n",
       "      <td>myogenic</td>\n",
       "    </tr>\n",
       "    <tr>\n",
       "      <th>2</th>\n",
       "      <td>CK160</td>\n",
       "      <td>-0.245525</td>\n",
       "      <td>0.196747</td>\n",
       "      <td>-0.043813</td>\n",
       "      <td>0.174845</td>\n",
       "      <td>0.054652</td>\n",
       "      <td>myogenic</td>\n",
       "    </tr>\n",
       "    <tr>\n",
       "      <th>14</th>\n",
       "      <td>CK364</td>\n",
       "      <td>-0.264802</td>\n",
       "      <td>-0.125600</td>\n",
       "      <td>-0.031980</td>\n",
       "      <td>-0.032116</td>\n",
       "      <td>0.007251</td>\n",
       "      <td>myogenic</td>\n",
       "    </tr>\n",
       "    <tr>\n",
       "      <th>7</th>\n",
       "      <td>CK357</td>\n",
       "      <td>-0.265865</td>\n",
       "      <td>-0.119566</td>\n",
       "      <td>-0.031497</td>\n",
       "      <td>-0.032414</td>\n",
       "      <td>-0.001610</td>\n",
       "      <td>myogenic</td>\n",
       "    </tr>\n",
       "    <tr>\n",
       "      <th>10</th>\n",
       "      <td>CK360</td>\n",
       "      <td>-0.267978</td>\n",
       "      <td>-0.125658</td>\n",
       "      <td>-0.039631</td>\n",
       "      <td>-0.029547</td>\n",
       "      <td>0.003635</td>\n",
       "      <td>myogenic</td>\n",
       "    </tr>\n",
       "    <tr>\n",
       "      <th>4</th>\n",
       "      <td>CK164</td>\n",
       "      <td>-0.276102</td>\n",
       "      <td>0.198459</td>\n",
       "      <td>-0.051535</td>\n",
       "      <td>0.180911</td>\n",
       "      <td>0.062962</td>\n",
       "      <td>myogenic</td>\n",
       "    </tr>\n",
       "    <tr>\n",
       "      <th>8</th>\n",
       "      <td>CK358</td>\n",
       "      <td>-0.310298</td>\n",
       "      <td>-0.118022</td>\n",
       "      <td>-0.053628</td>\n",
       "      <td>-0.025808</td>\n",
       "      <td>0.001366</td>\n",
       "      <td>myogenic</td>\n",
       "    </tr>\n",
       "    <tr>\n",
       "      <th>20</th>\n",
       "      <td>CK374</td>\n",
       "      <td>-0.314456</td>\n",
       "      <td>-0.131275</td>\n",
       "      <td>-0.053726</td>\n",
       "      <td>-0.025103</td>\n",
       "      <td>0.010463</td>\n",
       "      <td>myogenic</td>\n",
       "    </tr>\n",
       "    <tr>\n",
       "      <th>0</th>\n",
       "      <td>CK158</td>\n",
       "      <td>-0.320582</td>\n",
       "      <td>-0.125324</td>\n",
       "      <td>-0.053954</td>\n",
       "      <td>-0.025256</td>\n",
       "      <td>0.007541</td>\n",
       "      <td>myogenic</td>\n",
       "    </tr>\n",
       "    <tr>\n",
       "      <th>6</th>\n",
       "      <td>CK356</td>\n",
       "      <td>-0.323046</td>\n",
       "      <td>-0.125343</td>\n",
       "      <td>-0.051261</td>\n",
       "      <td>-0.025458</td>\n",
       "      <td>0.003652</td>\n",
       "      <td>myogenic</td>\n",
       "    </tr>\n",
       "  </tbody>\n",
       "</table>\n",
       "</div>"
      ],
      "text/plain": [
       "   sample  Factor_1  Factor_2  Factor_3  Factor_4  Factor_5 patient_group\n",
       "16  CK369  0.682201 -0.140125 -0.093518 -0.010629  0.006942      ischemic\n",
       "18  CK372  0.675736 -0.137046 -0.087467 -0.012686  0.005957      ischemic\n",
       "21  CK375  0.669223 -0.138316 -0.091973 -0.011666  0.008383      ischemic\n",
       "22  CK376  0.668535 -0.132088 -0.094047 -0.011358  0.006543      ischemic\n",
       "5   CK165  0.306884 -0.032227  0.233723  0.090411 -0.206681      ischemic\n",
       "1   CK159  0.145553 -0.255193  0.179529 -0.105322  0.232393      myogenic\n",
       "11  CK361  0.145447  0.035800  0.158121 -0.097388 -0.131993      ischemic\n",
       "15  CK365  0.003966  0.458302  0.053072 -0.061513 -0.001248      ischemic\n",
       "19  CK373 -0.011487  0.460824  0.049559 -0.060906  0.001470      ischemic\n",
       "13  CK363 -0.012627  0.406693  0.042479 -0.059761  0.011337      ischemic\n",
       "17  CK371 -0.027926  0.468377  0.049609 -0.061449  0.002125      ischemic\n",
       "3   CK163 -0.136489 -0.193852  0.035947  0.135617 -0.055540      myogenic\n",
       "9   CK359 -0.177008 -0.192904  0.023346  0.135052 -0.052614      myogenic\n",
       "12  CK362 -0.242151 -0.129590 -0.037886 -0.029355  0.005413      myogenic\n",
       "2   CK160 -0.245525  0.196747 -0.043813  0.174845  0.054652      myogenic\n",
       "14  CK364 -0.264802 -0.125600 -0.031980 -0.032116  0.007251      myogenic\n",
       "7   CK357 -0.265865 -0.119566 -0.031497 -0.032414 -0.001610      myogenic\n",
       "10  CK360 -0.267978 -0.125658 -0.039631 -0.029547  0.003635      myogenic\n",
       "4   CK164 -0.276102  0.198459 -0.051535  0.180911  0.062962      myogenic\n",
       "8   CK358 -0.310298 -0.118022 -0.053628 -0.025808  0.001366      myogenic\n",
       "20  CK374 -0.314456 -0.131275 -0.053726 -0.025103  0.010463      myogenic\n",
       "0   CK158 -0.320582 -0.125324 -0.053954 -0.025256  0.007541      myogenic\n",
       "6   CK356 -0.323046 -0.125343 -0.051261 -0.025458  0.003652      myogenic"
      ]
     },
     "execution_count": 23,
     "metadata": {},
     "output_type": "execute_result"
    }
   ],
   "source": [
    "factor_scores.sort_values('Factor_1', ascending=False)"
   ]
  },
  {
   "cell_type": "code",
   "execution_count": null,
   "metadata": {},
   "outputs": [],
   "source": []
  },
  {
   "attachments": {},
   "cell_type": "markdown",
   "metadata": {},
   "source": [
    "write adata with LIANA results"
   ]
  },
  {
   "cell_type": "code",
   "execution_count": 24,
   "metadata": {},
   "outputs": [],
   "source": [
    "adata.write_h5ad(os.path.join('data', \"kuppe_processed.h5ad\"))"
   ]
  },
  {
   "cell_type": "code",
   "execution_count": null,
   "metadata": {},
   "outputs": [],
   "source": []
  },
  {
   "cell_type": "code",
   "execution_count": null,
   "metadata": {},
   "outputs": [],
   "source": []
  },
  {
   "attachments": {},
   "cell_type": "markdown",
   "metadata": {},
   "source": [
    "## Classify"
   ]
  },
  {
   "cell_type": "code",
   "execution_count": 78,
   "metadata": {},
   "outputs": [],
   "source": [
    "import plotnine as p9\n",
    "from sklearn.ensemble import RandomForestClassifier\n",
    "import pandas as pd"
   ]
  },
  {
   "cell_type": "code",
   "execution_count": 79,
   "metadata": {},
   "outputs": [],
   "source": [
    "clf = RandomForestClassifier(\n",
    "            warm_start=True,\n",
    "            max_features=None,\n",
    "            oob_score=True,\n",
    "            random_state=0,\n",
    "        )"
   ]
  },
  {
   "cell_type": "code",
   "execution_count": 80,
   "metadata": {},
   "outputs": [],
   "source": [
    "X = mdata.obsm['X_mofa']\n",
    "y = mdata.obs[condition_key]"
   ]
  },
  {
   "cell_type": "code",
   "execution_count": 81,
   "metadata": {},
   "outputs": [],
   "source": [
    "# Range of `n_estimators` values to explore.\n",
    "min_estimators = 2\n",
    "max_estimators = 500\n",
    "error_rate = []"
   ]
  },
  {
   "cell_type": "code",
   "execution_count": null,
   "metadata": {},
   "outputs": [],
   "source": []
  },
  {
   "cell_type": "code",
   "execution_count": 82,
   "metadata": {},
   "outputs": [],
   "source": [
    "for i in range(min_estimators, max_estimators + 1, 5):\n",
    "        clf.set_params(n_estimators=i)\n",
    "        clf.fit(X, y)\n",
    "        # Record the OOB error for each `n_estimators=i` setting.\n",
    "        oob_error = 1 - clf.oob_score_\n",
    "        error_rate.append((i, oob_error))"
   ]
  },
  {
   "cell_type": "code",
   "execution_count": 83,
   "metadata": {},
   "outputs": [
    {
     "data": {
      "text/html": [
       "<style>#sk-container-id-3 {color: black;background-color: white;}#sk-container-id-3 pre{padding: 0;}#sk-container-id-3 div.sk-toggleable {background-color: white;}#sk-container-id-3 label.sk-toggleable__label {cursor: pointer;display: block;width: 100%;margin-bottom: 0;padding: 0.3em;box-sizing: border-box;text-align: center;}#sk-container-id-3 label.sk-toggleable__label-arrow:before {content: \"▸\";float: left;margin-right: 0.25em;color: #696969;}#sk-container-id-3 label.sk-toggleable__label-arrow:hover:before {color: black;}#sk-container-id-3 div.sk-estimator:hover label.sk-toggleable__label-arrow:before {color: black;}#sk-container-id-3 div.sk-toggleable__content {max-height: 0;max-width: 0;overflow: hidden;text-align: left;background-color: #f0f8ff;}#sk-container-id-3 div.sk-toggleable__content pre {margin: 0.2em;color: black;border-radius: 0.25em;background-color: #f0f8ff;}#sk-container-id-3 input.sk-toggleable__control:checked~div.sk-toggleable__content {max-height: 200px;max-width: 100%;overflow: auto;}#sk-container-id-3 input.sk-toggleable__control:checked~label.sk-toggleable__label-arrow:before {content: \"▾\";}#sk-container-id-3 div.sk-estimator input.sk-toggleable__control:checked~label.sk-toggleable__label {background-color: #d4ebff;}#sk-container-id-3 div.sk-label input.sk-toggleable__control:checked~label.sk-toggleable__label {background-color: #d4ebff;}#sk-container-id-3 input.sk-hidden--visually {border: 0;clip: rect(1px 1px 1px 1px);clip: rect(1px, 1px, 1px, 1px);height: 1px;margin: -1px;overflow: hidden;padding: 0;position: absolute;width: 1px;}#sk-container-id-3 div.sk-estimator {font-family: monospace;background-color: #f0f8ff;border: 1px dotted black;border-radius: 0.25em;box-sizing: border-box;margin-bottom: 0.5em;}#sk-container-id-3 div.sk-estimator:hover {background-color: #d4ebff;}#sk-container-id-3 div.sk-parallel-item::after {content: \"\";width: 100%;border-bottom: 1px solid gray;flex-grow: 1;}#sk-container-id-3 div.sk-label:hover label.sk-toggleable__label {background-color: #d4ebff;}#sk-container-id-3 div.sk-serial::before {content: \"\";position: absolute;border-left: 1px solid gray;box-sizing: border-box;top: 0;bottom: 0;left: 50%;z-index: 0;}#sk-container-id-3 div.sk-serial {display: flex;flex-direction: column;align-items: center;background-color: white;padding-right: 0.2em;padding-left: 0.2em;position: relative;}#sk-container-id-3 div.sk-item {position: relative;z-index: 1;}#sk-container-id-3 div.sk-parallel {display: flex;align-items: stretch;justify-content: center;background-color: white;position: relative;}#sk-container-id-3 div.sk-item::before, #sk-container-id-3 div.sk-parallel-item::before {content: \"\";position: absolute;border-left: 1px solid gray;box-sizing: border-box;top: 0;bottom: 0;left: 50%;z-index: -1;}#sk-container-id-3 div.sk-parallel-item {display: flex;flex-direction: column;z-index: 1;position: relative;background-color: white;}#sk-container-id-3 div.sk-parallel-item:first-child::after {align-self: flex-end;width: 50%;}#sk-container-id-3 div.sk-parallel-item:last-child::after {align-self: flex-start;width: 50%;}#sk-container-id-3 div.sk-parallel-item:only-child::after {width: 0;}#sk-container-id-3 div.sk-dashed-wrapped {border: 1px dashed gray;margin: 0 0.4em 0.5em 0.4em;box-sizing: border-box;padding-bottom: 0.4em;background-color: white;}#sk-container-id-3 div.sk-label label {font-family: monospace;font-weight: bold;display: inline-block;line-height: 1.2em;}#sk-container-id-3 div.sk-label-container {text-align: center;}#sk-container-id-3 div.sk-container {/* jupyter's `normalize.less` sets `[hidden] { display: none; }` but bootstrap.min.css set `[hidden] { display: none !important; }` so we also need the `!important` here to be able to override the default hidden behavior on the sphinx rendered scikit-learn.org. See: https://github.com/scikit-learn/scikit-learn/issues/21755 */display: inline-block !important;position: relative;}#sk-container-id-3 div.sk-text-repr-fallback {display: none;}</style><div id=\"sk-container-id-3\" class=\"sk-top-container\"><div class=\"sk-text-repr-fallback\"><pre>RandomForestClassifier(max_features=None, n_estimators=497, oob_score=True,\n",
       "                       random_state=0, warm_start=True)</pre><b>In a Jupyter environment, please rerun this cell to show the HTML representation or trust the notebook. <br />On GitHub, the HTML representation is unable to render, please try loading this page with nbviewer.org.</b></div><div class=\"sk-container\" hidden><div class=\"sk-item\"><div class=\"sk-estimator sk-toggleable\"><input class=\"sk-toggleable__control sk-hidden--visually\" id=\"sk-estimator-id-3\" type=\"checkbox\" checked><label for=\"sk-estimator-id-3\" class=\"sk-toggleable__label sk-toggleable__label-arrow\">RandomForestClassifier</label><div class=\"sk-toggleable__content\"><pre>RandomForestClassifier(max_features=None, n_estimators=497, oob_score=True,\n",
       "                       random_state=0, warm_start=True)</pre></div></div></div></div></div>"
      ],
      "text/plain": [
       "RandomForestClassifier(max_features=None, n_estimators=497, oob_score=True,\n",
       "                       random_state=0, warm_start=True)"
      ]
     },
     "execution_count": 83,
     "metadata": {},
     "output_type": "execute_result"
    }
   ],
   "source": [
    "clf"
   ]
  },
  {
   "cell_type": "code",
   "execution_count": 84,
   "metadata": {},
   "outputs": [
    {
     "data": {
      "image/png": "[encoded data removed]",
      "text/plain": [
       "<Figure size 640x480 with 1 Axes>"
      ]
     },
     "metadata": {},
     "output_type": "display_data"
    },
    {
     "data": {
      "text/plain": [
       "<ggplot: (8732567383644)>"
      ]
     },
     "execution_count": 84,
     "metadata": {},
     "output_type": "execute_result"
    }
   ],
   "source": [
    "# plotnine line plot\n",
    "(p9.ggplot(pd.DataFrame(error_rate, columns=['n_estimators', 'oob_error'])) + p9.aes(x='n_estimators', y='oob_error') + p9.geom_line())"
   ]
  },
  {
   "cell_type": "code",
   "execution_count": null,
   "metadata": {},
   "outputs": [],
   "source": []
  },
  {
   "cell_type": "code",
   "execution_count": 85,
   "metadata": {},
   "outputs": [],
   "source": [
    "from sklearn.model_selection import cross_validate"
   ]
  },
  {
   "cell_type": "code",
   "execution_count": 86,
   "metadata": {},
   "outputs": [],
   "source": [
    "scores = cross_validate(clf, X, y, cv=5, scoring=['roc_auc'])['test_roc_auc']"
   ]
  },
  {
   "cell_type": "code",
   "execution_count": 87,
   "metadata": {},
   "outputs": [
    {
     "data": {
      "text/plain": [
       "array([0.75, 1.  , 1.  , 1.  , 1.  ])"
      ]
     },
     "execution_count": 87,
     "metadata": {},
     "output_type": "execute_result"
    }
   ],
   "source": [
    "scores"
   ]
  },
  {
   "cell_type": "code",
   "execution_count": 88,
   "metadata": {},
   "outputs": [
    {
     "name": "stdout",
     "output_type": "stream",
     "text": [
      "0.95 mean roc_auc with a standard deviation of 0.10\n"
     ]
    }
   ],
   "source": [
    "print(\"%0.2f mean roc_auc with a standard deviation of %0.2f\" % (scores.mean(), scores.std()))"
   ]
  },
  {
   "cell_type": "code",
   "execution_count": null,
   "metadata": {},
   "outputs": [],
   "source": []
  },
  {
   "cell_type": "code",
   "execution_count": null,
   "metadata": {},
   "outputs": [],
   "source": []
  },
  {
   "attachments": {},
   "cell_type": "markdown",
   "metadata": {},
   "source": [
    "Classify"
   ]
  },
  {
   "cell_type": "code",
   "execution_count": 180,
   "metadata": {},
   "outputs": [],
   "source": [
    "from sklearn.ensemble import RandomForestClassifier\n",
    "from sklearn.model_selection import StratifiedKFold\n",
    "from sklearn.metrics import roc_curve, auc\n",
    "import numpy as np\n",
    "\n",
    "import matplotlib.pyplot as plt"
   ]
  },
  {
   "cell_type": "code",
   "execution_count": null,
   "metadata": {},
   "outputs": [],
   "source": []
  },
  {
   "cell_type": "code",
   "execution_count": 212,
   "metadata": {},
   "outputs": [],
   "source": [
    "X = mdata.obsm['X_mofa']\n",
    "y = mdata.obs[condition_key]"
   ]
  },
  {
   "cell_type": "code",
   "execution_count": 213,
   "metadata": {},
   "outputs": [],
   "source": [
    "from sklearn.preprocessing import LabelEncoder"
   ]
  },
  {
   "cell_type": "code",
   "execution_count": 214,
   "metadata": {},
   "outputs": [],
   "source": [
    "# create a LabelEncoder object & and transform the labels\n",
    "le = LabelEncoder()\n",
    "le.fit(y)\n",
    "y = le.transform(y)"
   ]
  },
  {
   "cell_type": "code",
   "execution_count": 215,
   "metadata": {},
   "outputs": [],
   "source": [
    "n_estimators = 500\n",
    "n_splits = 5"
   ]
  },
  {
   "cell_type": "code",
   "execution_count": 216,
   "metadata": {},
   "outputs": [],
   "source": [
    "clf = RandomForestClassifier(\n",
    "            warm_start=True,\n",
    "            max_features=None,\n",
    "            oob_score=True,\n",
    "            random_state=0,\n",
    "            n_estimators=200\n",
    "        )\n",
    "cv = StratifiedKFold(n_splits=n_splits)\n",
    "y_prob = np.zeros_like(y, dtype=float)"
   ]
  },
  {
   "cell_type": "code",
   "execution_count": 218,
   "metadata": {},
   "outputs": [],
   "source": [
    "# initialize DataFrame to store results\n",
    "results_df = pd.DataFrame(columns=['fold', 'auc', 'tpr', 'fpr'])"
   ]
  },
  {
   "cell_type": "code",
   "execution_count": 220,
   "metadata": {},
   "outputs": [],
   "source": [
    "for fold, (train, test) in enumerate(cv.split(X, y)):\n",
    "    clf_tmp = clf.fit(X[train], y[train])\n",
    "    y_prob[test] = clf_tmp.predict_proba(X[test])[:, 1]\n",
    "    fpr, tpr, thresholds = roc_curve(y[test], y_prob[test])\n",
    "    \n",
    "    roc_auc = auc(fpr, tpr)\n",
    "    results_df = results_df.append({'fold': fold+1, 'auc': roc_auc, 'tpr': tpr, 'fpr': fpr}, ignore_index=True)\n"
   ]
  },
  {
   "cell_type": "code",
   "execution_count": 223,
   "metadata": {},
   "outputs": [
    {
     "name": "stdout",
     "output_type": "stream",
     "text": [
      "Mean AUC: 0.95\n",
      "Standard deviation of AUC: 0.11180339887498947\n"
     ]
    }
   ],
   "source": [
    "# calculate mean and standard deviation of AUC across folds\n",
    "mean_auc = results_df['auc'].mean()\n",
    "std_auc = results_df['auc'].std()\n",
    "\n",
    "# print mean and standard deviation of AUC\n",
    "print(\"Mean AUC:\", mean_auc)\n",
    "print(\"Standard deviation of AUC:\", std_auc)"
   ]
  }
 ],
 "metadata": {
  "kernelspec": {
   "display_name": "spiana",
   "language": "python",
   "name": "python3"
  },
  "language_info": {
   "codemirror_mode": {
    "name": "ipython",
    "version": 3
   },
   "file_extension": ".py",
   "mimetype": "text/x-python",
   "name": "python",
   "nbconvert_exporter": "python",
   "pygments_lexer": "ipython3",
   "version": "3.10.10"
  },
  "orig_nbformat": 4,
  "vscode": {
   "interpreter": {
    "hash": "b688e7f183144fde965166e58483e32fc6dbc6fc380ccc51d49ef608da0385a8"
   }
  }
 },
 "nbformat": 4,
 "nbformat_minor": 2
}
