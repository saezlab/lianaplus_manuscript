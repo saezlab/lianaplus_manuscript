{
 "cells": [
  {
   "cell_type": "code",
   "execution_count": 1,
   "metadata": {},
   "outputs": [],
   "source": [
    "import os\n",
    "import pandas as pd\n",
    "import numpy as np\n",
    "import plotnine as p9"
   ]
  },
  {
   "attachments": {},
   "cell_type": "markdown",
   "metadata": {},
   "source": []
  },
  {
   "cell_type": "code",
   "execution_count": 2,
   "metadata": {},
   "outputs": [],
   "source": [
    "# list output files\n",
    "file_paths = os.listdir(os.path.join('data', 'results'))\n",
    "# keep only .csv files\n",
    "results = [pd.read_csv(os.path.join('data', 'results', p)) for p in file_paths if p.endswith('.csv')]"
   ]
  },
  {
   "cell_type": "code",
   "execution_count": 3,
   "metadata": {},
   "outputs": [],
   "source": [
    "results = pd.concat(results)"
   ]
  },
  {
   "cell_type": "code",
   "execution_count": 4,
   "metadata": {},
   "outputs": [],
   "source": [
    "results['mean_auc'] = results.groupby(['reduction_name', 'dataset', 'score_key'])['auroc'].transform('mean')\n",
    "results['mean_f1'] = results.groupby(['reduction_name', 'dataset', 'score_key'])['f1_score'].transform('mean')"
   ]
  },
  {
   "cell_type": "code",
   "execution_count": 5,
   "metadata": {},
   "outputs": [
    {
     "data": {
      "text/html": [
       "<div>\n",
       "<style scoped>\n",
       "    .dataframe tbody tr th:only-of-type {\n",
       "        vertical-align: middle;\n",
       "    }\n",
       "\n",
       "    .dataframe tbody tr th {\n",
       "        vertical-align: top;\n",
       "    }\n",
       "\n",
       "    .dataframe thead th {\n",
       "        text-align: right;\n",
       "    }\n",
       "</style>\n",
       "<table border=\"1\" class=\"dataframe\">\n",
       "  <thead>\n",
       "    <tr style=\"text-align: right;\">\n",
       "      <th></th>\n",
       "      <th>reduction_name</th>\n",
       "      <th>score_key</th>\n",
       "      <th>state</th>\n",
       "      <th>fold</th>\n",
       "      <th>auroc</th>\n",
       "      <th>tpr</th>\n",
       "      <th>fpr</th>\n",
       "      <th>f1_score</th>\n",
       "      <th>oob_score</th>\n",
       "      <th>train_split</th>\n",
       "      <th>test_split</th>\n",
       "      <th>test_classes</th>\n",
       "      <th>dataset</th>\n",
       "      <th>mean_auc</th>\n",
       "      <th>mean_f1</th>\n",
       "    </tr>\n",
       "  </thead>\n",
       "  <tbody>\n",
       "    <tr>\n",
       "      <th>0</th>\n",
       "      <td>mofa</td>\n",
       "      <td>lr_means</td>\n",
       "      <td>0</td>\n",
       "      <td>0</td>\n",
       "      <td>0.944444</td>\n",
       "      <td>[0.         0.33333333 0.66666667 1.         1...</td>\n",
       "      <td>[0.         0.         0.         0.33333333 1...</td>\n",
       "      <td>0.828571</td>\n",
       "      <td>0.300000</td>\n",
       "      <td>[ 1  2  3  4  7  8  9 10 11 15]</td>\n",
       "      <td>[ 0  5  6 12 13 14]</td>\n",
       "      <td>[0 0 0 1 1 1]</td>\n",
       "      <td>carraro</td>\n",
       "      <td>0.672870</td>\n",
       "      <td>0.620291</td>\n",
       "    </tr>\n",
       "    <tr>\n",
       "      <th>1</th>\n",
       "      <td>tensor</td>\n",
       "      <td>lr_means</td>\n",
       "      <td>0</td>\n",
       "      <td>0</td>\n",
       "      <td>1.000000</td>\n",
       "      <td>[0.         0.33333333 1.         1.        ]</td>\n",
       "      <td>[0. 0. 0. 1.]</td>\n",
       "      <td>0.828571</td>\n",
       "      <td>0.600000</td>\n",
       "      <td>[ 1  2  3  4  7  8  9 10 11 15]</td>\n",
       "      <td>[ 0  5  6 12 13 14]</td>\n",
       "      <td>[0 0 0 1 1 1]</td>\n",
       "      <td>carraro</td>\n",
       "      <td>0.904630</td>\n",
       "      <td>0.642540</td>\n",
       "    </tr>\n",
       "    <tr>\n",
       "      <th>2</th>\n",
       "      <td>mofa</td>\n",
       "      <td>expr_prod</td>\n",
       "      <td>0</td>\n",
       "      <td>0</td>\n",
       "      <td>0.888889</td>\n",
       "      <td>[0.         0.66666667 0.66666667 1.         1...</td>\n",
       "      <td>[0.         0.         0.33333333 0.33333333 1...</td>\n",
       "      <td>0.828571</td>\n",
       "      <td>0.400000</td>\n",
       "      <td>[ 1  2  3  4  7  8  9 10 11 15]</td>\n",
       "      <td>[ 0  5  6 12 13 14]</td>\n",
       "      <td>[0 0 0 1 1 1]</td>\n",
       "      <td>carraro</td>\n",
       "      <td>0.703426</td>\n",
       "      <td>0.596984</td>\n",
       "    </tr>\n",
       "    <tr>\n",
       "      <th>3</th>\n",
       "      <td>tensor</td>\n",
       "      <td>expr_prod</td>\n",
       "      <td>0</td>\n",
       "      <td>0</td>\n",
       "      <td>0.666667</td>\n",
       "      <td>[0. 0. 1. 1.]</td>\n",
       "      <td>[0.         0.33333333 0.33333333 1.        ]</td>\n",
       "      <td>0.828571</td>\n",
       "      <td>0.300000</td>\n",
       "      <td>[ 1  2  3  4  7  8  9 10 11 15]</td>\n",
       "      <td>[ 0  5  6 12 13 14]</td>\n",
       "      <td>[0 0 0 1 1 1]</td>\n",
       "      <td>carraro</td>\n",
       "      <td>0.629167</td>\n",
       "      <td>0.550265</td>\n",
       "    </tr>\n",
       "    <tr>\n",
       "      <th>4</th>\n",
       "      <td>mofa</td>\n",
       "      <td>lr_logfc</td>\n",
       "      <td>0</td>\n",
       "      <td>0</td>\n",
       "      <td>0.777778</td>\n",
       "      <td>[0.         0.33333333 0.66666667 0.66666667 1...</td>\n",
       "      <td>[0.         0.         0.         0.66666667 0...</td>\n",
       "      <td>0.828571</td>\n",
       "      <td>0.600000</td>\n",
       "      <td>[ 1  2  3  4  7  8  9 10 11 15]</td>\n",
       "      <td>[ 0  5  6 12 13 14]</td>\n",
       "      <td>[0 0 0 1 1 1]</td>\n",
       "      <td>carraro</td>\n",
       "      <td>0.752407</td>\n",
       "      <td>0.543492</td>\n",
       "    </tr>\n",
       "    <tr>\n",
       "      <th>...</th>\n",
       "      <td>...</td>\n",
       "      <td>...</td>\n",
       "      <td>...</td>\n",
       "      <td>...</td>\n",
       "      <td>...</td>\n",
       "      <td>...</td>\n",
       "      <td>...</td>\n",
       "      <td>...</td>\n",
       "      <td>...</td>\n",
       "      <td>...</td>\n",
       "      <td>...</td>\n",
       "      <td>...</td>\n",
       "      <td>...</td>\n",
       "      <td>...</td>\n",
       "      <td>...</td>\n",
       "    </tr>\n",
       "    <tr>\n",
       "      <th>175</th>\n",
       "      <td>tensor</td>\n",
       "      <td>lrscore</td>\n",
       "      <td>4</td>\n",
       "      <td>2</td>\n",
       "      <td>0.350694</td>\n",
       "      <td>[0.         0.         0.         0.04166667 0...</td>\n",
       "      <td>[0.         0.05555556 0.16666667 0.16666667 0...</td>\n",
       "      <td>0.402399</td>\n",
       "      <td>0.535714</td>\n",
       "      <td>[  0   1   2   3   4   5   7   8   9  10  11  ...</td>\n",
       "      <td>[  6  13  17  22  24  30  32  34  40  43  45  ...</td>\n",
       "      <td>[0 0 0 0 0 0 0 0 0 0 0 0 1 1 1 1 0 0 0 1 0 0 0...</td>\n",
       "      <td>reichart</td>\n",
       "      <td>0.571878</td>\n",
       "      <td>0.521114</td>\n",
       "    </tr>\n",
       "    <tr>\n",
       "      <th>176</th>\n",
       "      <td>mofa</td>\n",
       "      <td>lr_probs</td>\n",
       "      <td>4</td>\n",
       "      <td>2</td>\n",
       "      <td>1.000000</td>\n",
       "      <td>[0.         0.04166667 0.125      0.25       0...</td>\n",
       "      <td>[0.         0.         0.         0.         0...</td>\n",
       "      <td>1.000000</td>\n",
       "      <td>0.892857</td>\n",
       "      <td>[  0   1   2   3   4   5   7   8   9  10  11  ...</td>\n",
       "      <td>[  6  13  17  22  24  30  32  34  40  43  45  ...</td>\n",
       "      <td>[0 0 0 0 0 0 0 0 0 0 0 0 1 1 1 1 0 0 0 1 0 0 0...</td>\n",
       "      <td>reichart</td>\n",
       "      <td>0.981823</td>\n",
       "      <td>0.925682</td>\n",
       "    </tr>\n",
       "    <tr>\n",
       "      <th>177</th>\n",
       "      <td>tensor</td>\n",
       "      <td>lr_probs</td>\n",
       "      <td>4</td>\n",
       "      <td>2</td>\n",
       "      <td>0.870370</td>\n",
       "      <td>[0.         0.04166667 0.125      0.20833333 0...</td>\n",
       "      <td>[0.         0.         0.         0.         0...</td>\n",
       "      <td>0.810396</td>\n",
       "      <td>0.797619</td>\n",
       "      <td>[  0   1   2   3   4   5   7   8   9  10  11  ...</td>\n",
       "      <td>[  6  13  17  22  24  30  32  34  40  43  45  ...</td>\n",
       "      <td>[0 0 0 0 0 0 0 0 0 0 0 0 1 1 1 1 0 0 0 1 0 0 0...</td>\n",
       "      <td>reichart</td>\n",
       "      <td>0.846928</td>\n",
       "      <td>0.775045</td>\n",
       "    </tr>\n",
       "    <tr>\n",
       "      <th>178</th>\n",
       "      <td>mofa</td>\n",
       "      <td>magnitude_rank</td>\n",
       "      <td>4</td>\n",
       "      <td>2</td>\n",
       "      <td>1.000000</td>\n",
       "      <td>[0.         0.04166667 0.08333333 0.16666667 0...</td>\n",
       "      <td>[0.         0.         0.         0.         0...</td>\n",
       "      <td>0.976259</td>\n",
       "      <td>0.892857</td>\n",
       "      <td>[  0   1   2   3   4   5   7   8   9  10  11  ...</td>\n",
       "      <td>[  6  13  17  22  24  30  32  34  40  43  45  ...</td>\n",
       "      <td>[0 0 0 0 0 0 0 0 0 0 0 0 1 1 1 1 0 0 0 1 0 0 0...</td>\n",
       "      <td>reichart</td>\n",
       "      <td>0.976965</td>\n",
       "      <td>0.913113</td>\n",
       "    </tr>\n",
       "    <tr>\n",
       "      <th>179</th>\n",
       "      <td>tensor</td>\n",
       "      <td>magnitude_rank</td>\n",
       "      <td>4</td>\n",
       "      <td>2</td>\n",
       "      <td>0.966435</td>\n",
       "      <td>[0.         0.29166667 0.375      0.625      0...</td>\n",
       "      <td>[0.         0.         0.         0.         0...</td>\n",
       "      <td>0.902473</td>\n",
       "      <td>0.857143</td>\n",
       "      <td>[  0   1   2   3   4   5   7   8   9  10  11  ...</td>\n",
       "      <td>[  6  13  17  22  24  30  32  34  40  43  45  ...</td>\n",
       "      <td>[0 0 0 0 0 0 0 0 0 0 0 0 1 1 1 1 0 0 0 1 0 0 0...</td>\n",
       "      <td>reichart</td>\n",
       "      <td>0.934017</td>\n",
       "      <td>0.854856</td>\n",
       "    </tr>\n",
       "  </tbody>\n",
       "</table>\n",
       "<p>720 rows × 15 columns</p>\n",
       "</div>"
      ],
      "text/plain": [
       "    reduction_name       score_key  state  fold     auroc  \\\n",
       "0             mofa        lr_means      0     0  0.944444   \n",
       "1           tensor        lr_means      0     0  1.000000   \n",
       "2             mofa       expr_prod      0     0  0.888889   \n",
       "3           tensor       expr_prod      0     0  0.666667   \n",
       "4             mofa        lr_logfc      0     0  0.777778   \n",
       "..             ...             ...    ...   ...       ...   \n",
       "175         tensor         lrscore      4     2  0.350694   \n",
       "176           mofa        lr_probs      4     2  1.000000   \n",
       "177         tensor        lr_probs      4     2  0.870370   \n",
       "178           mofa  magnitude_rank      4     2  1.000000   \n",
       "179         tensor  magnitude_rank      4     2  0.966435   \n",
       "\n",
       "                                                   tpr  \\\n",
       "0    [0.         0.33333333 0.66666667 1.         1...   \n",
       "1        [0.         0.33333333 1.         1.        ]   \n",
       "2    [0.         0.66666667 0.66666667 1.         1...   \n",
       "3                                        [0. 0. 1. 1.]   \n",
       "4    [0.         0.33333333 0.66666667 0.66666667 1...   \n",
       "..                                                 ...   \n",
       "175  [0.         0.         0.         0.04166667 0...   \n",
       "176  [0.         0.04166667 0.125      0.25       0...   \n",
       "177  [0.         0.04166667 0.125      0.20833333 0...   \n",
       "178  [0.         0.04166667 0.08333333 0.16666667 0...   \n",
       "179  [0.         0.29166667 0.375      0.625      0...   \n",
       "\n",
       "                                                   fpr  f1_score  oob_score  \\\n",
       "0    [0.         0.         0.         0.33333333 1...  0.828571   0.300000   \n",
       "1                                        [0. 0. 0. 1.]  0.828571   0.600000   \n",
       "2    [0.         0.         0.33333333 0.33333333 1...  0.828571   0.400000   \n",
       "3        [0.         0.33333333 0.33333333 1.        ]  0.828571   0.300000   \n",
       "4    [0.         0.         0.         0.66666667 0...  0.828571   0.600000   \n",
       "..                                                 ...       ...        ...   \n",
       "175  [0.         0.05555556 0.16666667 0.16666667 0...  0.402399   0.535714   \n",
       "176  [0.         0.         0.         0.         0...  1.000000   0.892857   \n",
       "177  [0.         0.         0.         0.         0...  0.810396   0.797619   \n",
       "178  [0.         0.         0.         0.         0...  0.976259   0.892857   \n",
       "179  [0.         0.         0.         0.         0...  0.902473   0.857143   \n",
       "\n",
       "                                           train_split  \\\n",
       "0                      [ 1  2  3  4  7  8  9 10 11 15]   \n",
       "1                      [ 1  2  3  4  7  8  9 10 11 15]   \n",
       "2                      [ 1  2  3  4  7  8  9 10 11 15]   \n",
       "3                      [ 1  2  3  4  7  8  9 10 11 15]   \n",
       "4                      [ 1  2  3  4  7  8  9 10 11 15]   \n",
       "..                                                 ...   \n",
       "175  [  0   1   2   3   4   5   7   8   9  10  11  ...   \n",
       "176  [  0   1   2   3   4   5   7   8   9  10  11  ...   \n",
       "177  [  0   1   2   3   4   5   7   8   9  10  11  ...   \n",
       "178  [  0   1   2   3   4   5   7   8   9  10  11  ...   \n",
       "179  [  0   1   2   3   4   5   7   8   9  10  11  ...   \n",
       "\n",
       "                                            test_split  \\\n",
       "0                                  [ 0  5  6 12 13 14]   \n",
       "1                                  [ 0  5  6 12 13 14]   \n",
       "2                                  [ 0  5  6 12 13 14]   \n",
       "3                                  [ 0  5  6 12 13 14]   \n",
       "4                                  [ 0  5  6 12 13 14]   \n",
       "..                                                 ...   \n",
       "175  [  6  13  17  22  24  30  32  34  40  43  45  ...   \n",
       "176  [  6  13  17  22  24  30  32  34  40  43  45  ...   \n",
       "177  [  6  13  17  22  24  30  32  34  40  43  45  ...   \n",
       "178  [  6  13  17  22  24  30  32  34  40  43  45  ...   \n",
       "179  [  6  13  17  22  24  30  32  34  40  43  45  ...   \n",
       "\n",
       "                                          test_classes   dataset  mean_auc  \\\n",
       "0                                        [0 0 0 1 1 1]   carraro  0.672870   \n",
       "1                                        [0 0 0 1 1 1]   carraro  0.904630   \n",
       "2                                        [0 0 0 1 1 1]   carraro  0.703426   \n",
       "3                                        [0 0 0 1 1 1]   carraro  0.629167   \n",
       "4                                        [0 0 0 1 1 1]   carraro  0.752407   \n",
       "..                                                 ...       ...       ...   \n",
       "175  [0 0 0 0 0 0 0 0 0 0 0 0 1 1 1 1 0 0 0 1 0 0 0...  reichart  0.571878   \n",
       "176  [0 0 0 0 0 0 0 0 0 0 0 0 1 1 1 1 0 0 0 1 0 0 0...  reichart  0.981823   \n",
       "177  [0 0 0 0 0 0 0 0 0 0 0 0 1 1 1 1 0 0 0 1 0 0 0...  reichart  0.846928   \n",
       "178  [0 0 0 0 0 0 0 0 0 0 0 0 1 1 1 1 0 0 0 1 0 0 0...  reichart  0.976965   \n",
       "179  [0 0 0 0 0 0 0 0 0 0 0 0 1 1 1 1 0 0 0 1 0 0 0...  reichart  0.934017   \n",
       "\n",
       "      mean_f1  \n",
       "0    0.620291  \n",
       "1    0.642540  \n",
       "2    0.596984  \n",
       "3    0.550265  \n",
       "4    0.543492  \n",
       "..        ...  \n",
       "175  0.521114  \n",
       "176  0.925682  \n",
       "177  0.775045  \n",
       "178  0.913113  \n",
       "179  0.854856  \n",
       "\n",
       "[720 rows x 15 columns]"
      ]
     },
     "execution_count": 5,
     "metadata": {},
     "output_type": "execute_result"
    }
   ],
   "source": [
    "results"
   ]
  },
  {
   "cell_type": "code",
   "execution_count": null,
   "metadata": {},
   "outputs": [],
   "source": []
  },
  {
   "cell_type": "code",
   "execution_count": 6,
   "metadata": {},
   "outputs": [],
   "source": [
    "results['score_key'].unique()\n",
    "\n",
    "remap_dict = {'lr_means':'CellPhoneDB',\n",
    "              'expr_prod':'Product',\n",
    "              'lr_logfc': 'logFC',\n",
    "              'lrscore': 'SingleCellSignalR',\n",
    "              'lr_probs': 'CellChat',\n",
    "              'magnitude_rank':'Consensus'}\n",
    "results['score_key'] = results['score_key'].map(remap_dict)"
   ]
  },
  {
   "cell_type": "code",
   "execution_count": null,
   "metadata": {},
   "outputs": [],
   "source": []
  },
  {
   "cell_type": "code",
   "execution_count": 7,
   "metadata": {},
   "outputs": [
    {
     "data": {
      "image/png": "[encoded data removed]",
      "text/plain": [
       "<Figure size 640x480 with 4 Axes>"
      ]
     },
     "metadata": {},
     "output_type": "display_data"
    },
    {
     "data": {
      "text/plain": [
       "<ggplot: (8781267156860)>"
      ]
     },
     "execution_count": 7,
     "metadata": {},
     "output_type": "execute_result"
    }
   ],
   "source": [
    "## plot results as boxplots by reduction_name & score_key\n",
    "p9.ggplot(results, p9.aes(x='reduction_name', y='auroc', color='score_key')) + \\\n",
    "    p9.geom_boxplot() + \\\n",
    "    p9.theme_bw() + p9.facet_grid(' ~ dataset')"
   ]
  },
  {
   "cell_type": "code",
   "execution_count": null,
   "metadata": {},
   "outputs": [],
   "source": []
  },
  {
   "cell_type": "code",
   "execution_count": 8,
   "metadata": {},
   "outputs": [],
   "source": [
    "metric = 'mean_auc'"
   ]
  },
  {
   "cell_type": "code",
   "execution_count": 9,
   "metadata": {},
   "outputs": [],
   "source": [
    "results = results[['reduction_name', 'score_key', 'mean_auc', 'mean_f1', 'dataset']].drop_duplicates()"
   ]
  },
  {
   "cell_type": "code",
   "execution_count": 10,
   "metadata": {},
   "outputs": [],
   "source": [
    "results['rank'] = results.groupby(['dataset', 'reduction_name'])[metric].rank(ascending=False, method='average').astype('int')"
   ]
  },
  {
   "cell_type": "code",
   "execution_count": 11,
   "metadata": {},
   "outputs": [
    {
     "data": {
      "text/html": [
       "<div>\n",
       "<style scoped>\n",
       "    .dataframe tbody tr th:only-of-type {\n",
       "        vertical-align: middle;\n",
       "    }\n",
       "\n",
       "    .dataframe tbody tr th {\n",
       "        vertical-align: top;\n",
       "    }\n",
       "\n",
       "    .dataframe thead th {\n",
       "        text-align: right;\n",
       "    }\n",
       "</style>\n",
       "<table border=\"1\" class=\"dataframe\">\n",
       "  <thead>\n",
       "    <tr style=\"text-align: right;\">\n",
       "      <th></th>\n",
       "      <th>reduction_name</th>\n",
       "      <th>score_key</th>\n",
       "      <th>mean_auc</th>\n",
       "      <th>mean_f1</th>\n",
       "      <th>dataset</th>\n",
       "      <th>rank</th>\n",
       "    </tr>\n",
       "  </thead>\n",
       "  <tbody>\n",
       "    <tr>\n",
       "      <th>0</th>\n",
       "      <td>mofa</td>\n",
       "      <td>CellPhoneDB</td>\n",
       "      <td>0.672870</td>\n",
       "      <td>0.620291</td>\n",
       "      <td>carraro</td>\n",
       "      <td>4</td>\n",
       "    </tr>\n",
       "    <tr>\n",
       "      <th>1</th>\n",
       "      <td>tensor</td>\n",
       "      <td>CellPhoneDB</td>\n",
       "      <td>0.904630</td>\n",
       "      <td>0.642540</td>\n",
       "      <td>carraro</td>\n",
       "      <td>1</td>\n",
       "    </tr>\n",
       "    <tr>\n",
       "      <th>2</th>\n",
       "      <td>mofa</td>\n",
       "      <td>Product</td>\n",
       "      <td>0.703426</td>\n",
       "      <td>0.596984</td>\n",
       "      <td>carraro</td>\n",
       "      <td>2</td>\n",
       "    </tr>\n",
       "    <tr>\n",
       "      <th>3</th>\n",
       "      <td>tensor</td>\n",
       "      <td>Product</td>\n",
       "      <td>0.629167</td>\n",
       "      <td>0.550265</td>\n",
       "      <td>carraro</td>\n",
       "      <td>5</td>\n",
       "    </tr>\n",
       "    <tr>\n",
       "      <th>4</th>\n",
       "      <td>mofa</td>\n",
       "      <td>logFC</td>\n",
       "      <td>0.752407</td>\n",
       "      <td>0.543492</td>\n",
       "      <td>carraro</td>\n",
       "      <td>1</td>\n",
       "    </tr>\n",
       "  </tbody>\n",
       "</table>\n",
       "</div>"
      ],
      "text/plain": [
       "  reduction_name    score_key  mean_auc   mean_f1  dataset  rank\n",
       "0           mofa  CellPhoneDB  0.672870  0.620291  carraro     4\n",
       "1         tensor  CellPhoneDB  0.904630  0.642540  carraro     1\n",
       "2           mofa      Product  0.703426  0.596984  carraro     2\n",
       "3         tensor      Product  0.629167  0.550265  carraro     5\n",
       "4           mofa        logFC  0.752407  0.543492  carraro     1"
      ]
     },
     "execution_count": 11,
     "metadata": {},
     "output_type": "execute_result"
    }
   ],
   "source": [
    "results.head()"
   ]
  },
  {
   "cell_type": "code",
   "execution_count": 12,
   "metadata": {},
   "outputs": [
    {
     "data": {
      "image/png": "[encoded data removed]",
      "text/plain": [
       "<Figure size 640x480 with 4 Axes>"
      ]
     },
     "metadata": {},
     "output_type": "display_data"
    },
    {
     "data": {
      "text/plain": [
       "<ggplot: (8781264668171)>"
      ]
     },
     "execution_count": 12,
     "metadata": {},
     "output_type": "execute_result"
    }
   ],
   "source": [
    "## mosaic plot\n",
    "p9.ggplot(results, p9.aes(x='reduction_name', y='score_key', fill='mean_auc')) + \\\n",
    "    p9.geom_tile() + \\\n",
    "    p9.theme_bw() + p9.facet_grid(' ~ dataset') + \\\n",
    "    p9.scale_fill_cmap(limits=(0.5, 1), cmap_name='cividis') + \\\n",
    "    p9.geom_text(p9.aes(label='rank'), size=12, color='white', fontweight='bold')"
   ]
  },
  {
   "cell_type": "code",
   "execution_count": null,
   "metadata": {},
   "outputs": [],
   "source": []
  },
  {
   "cell_type": "code",
   "execution_count": null,
   "metadata": {},
   "outputs": [],
   "source": [
    "dimred_results = results.groupby(['reduction_name', 'score_key']).mean().reset_index()"
   ]
  },
  {
   "cell_type": "code",
   "execution_count": null,
   "metadata": {},
   "outputs": [],
   "source": [
    "## scatter plot by reduction_name\n",
    "p9.ggplot(dimred_results, p9.aes(x='mean_auc', y='mean_f1', color='score_key', shape='reduction_name')) + \\\n",
    "    p9.geom_point(size=5) + \\\n",
    "        p9.theme_bw()"
   ]
  },
  {
   "cell_type": "code",
   "execution_count": null,
   "metadata": {},
   "outputs": [],
   "source": []
  },
  {
   "cell_type": "code",
   "execution_count": null,
   "metadata": {},
   "outputs": [],
   "source": []
  },
  {
   "cell_type": "code",
   "execution_count": null,
   "metadata": {},
   "outputs": [],
   "source": [
    "import scanpy as sc"
   ]
  },
  {
   "cell_type": "code",
   "execution_count": null,
   "metadata": {},
   "outputs": [],
   "source": [
    "adata = sc.read_h5ad(\"data/results/carraro_dimred.h5ad\")"
   ]
  },
  {
   "cell_type": "code",
   "execution_count": null,
   "metadata": {},
   "outputs": [],
   "source": [
    "adata"
   ]
  },
  {
   "cell_type": "code",
   "execution_count": null,
   "metadata": {},
   "outputs": [],
   "source": []
  }
 ],
 "metadata": {
  "kernelspec": {
   "display_name": "spiana",
   "language": "python",
   "name": "python3"
  },
  "language_info": {
   "codemirror_mode": {
    "name": "ipython",
    "version": 3
   },
   "file_extension": ".py",
   "mimetype": "text/x-python",
   "name": "python",
   "nbconvert_exporter": "python",
   "pygments_lexer": "ipython3",
   "version": "3.10.10"
  },
  "orig_nbformat": 4,
  "vscode": {
   "interpreter": {
    "hash": "b688e7f183144fde965166e58483e32fc6dbc6fc380ccc51d49ef608da0385a8"
   }
  }
 },
 "nbformat": 4,
 "nbformat_minor": 2
}
