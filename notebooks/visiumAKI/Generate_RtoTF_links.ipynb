{
 "cells": [
  {
   "cell_type": "markdown",
   "metadata": {},
   "source": [
    "Need to Generate PK from:\n",
    "CellCall; SignaLink; "
   ]
  },
  {
   "attachments": {},
   "cell_type": "markdown",
   "metadata": {},
   "source": [
    "Read in links from:\n",
    "\n",
    "CellCall: https://github.com/ShellyCoder/cellcall/blob/master/inst/extdata/new_ligand_receptor_TFs.txt\n",
    "\n",
    "stMLnet: https://github.com/SunXQlab/stMLnet/blob/main/data/ex_databases.rda\n",
    "\n",
    "scseqcomm: https://gitlab.com/sysbiobig/scseqcomm/-/tree/master/data"
   ]
  },
  {
   "cell_type": "markdown",
   "metadata": {},
   "source": []
  },
  {
   "attachments": {},
   "cell_type": "markdown",
   "metadata": {},
   "source": [
    "Check rough sizes for these, and make a new database from OmniPath where:\n",
    "\n",
    "source (receptor), target (TF), pathway, database, shortest_path_length (as from OmniPath)"
   ]
  },
  {
   "cell_type": "code",
   "execution_count": 1,
   "metadata": {},
   "outputs": [
    {
     "name": "stderr",
     "output_type": "stream",
     "text": [
      "── \u001b[1mAttaching packages\u001b[22m ─────────────────────────────────────── tidyverse 1.3.2 ──\n",
      "\u001b[32m✔\u001b[39m \u001b[34mggplot2\u001b[39m 3.3.6     \u001b[32m✔\u001b[39m \u001b[34mpurrr  \u001b[39m 0.3.4\n",
      "\u001b[32m✔\u001b[39m \u001b[34mtibble \u001b[39m 3.1.8     \u001b[32m✔\u001b[39m \u001b[34mdplyr  \u001b[39m 1.0.9\n",
      "\u001b[32m✔\u001b[39m \u001b[34mtidyr  \u001b[39m 1.2.0     \u001b[32m✔\u001b[39m \u001b[34mstringr\u001b[39m 1.4.0\n",
      "\u001b[32m✔\u001b[39m \u001b[34mreadr  \u001b[39m 2.1.2     \u001b[32m✔\u001b[39m \u001b[34mforcats\u001b[39m 0.5.1\n",
      "── \u001b[1mConflicts\u001b[22m ────────────────────────────────────────── tidyverse_conflicts() ──\n",
      "\u001b[31m✖\u001b[39m \u001b[34mdplyr\u001b[39m::\u001b[32mfilter()\u001b[39m masks \u001b[34mstats\u001b[39m::filter()\n",
      "\u001b[31m✖\u001b[39m \u001b[34mdplyr\u001b[39m::\u001b[32mlag()\u001b[39m    masks \u001b[34mstats\u001b[39m::lag()\n"
     ]
    }
   ],
   "source": [
    "library(tidyverse)"
   ]
  },
  {
   "cell_type": "code",
   "execution_count": null,
   "metadata": {},
   "outputs": [],
   "source": []
  },
  {
   "attachments": {},
   "cell_type": "markdown",
   "metadata": {},
   "source": [
    "### stmlnet"
   ]
  },
  {
   "cell_type": "code",
   "execution_count": 7,
   "metadata": {},
   "outputs": [],
   "source": [
    "load(\"~/Downloads/ex_databases.rda\")\n",
    "stmlnet <- ex_databases$RecTF.DB"
   ]
  },
  {
   "cell_type": "code",
   "execution_count": 12,
   "metadata": {},
   "outputs": [],
   "source": [
    "stmlnet <- stmlnet %>% select(source, target) %>%\n",
    "    mutate(database='STMLNet')"
   ]
  },
  {
   "cell_type": "code",
   "execution_count": 8,
   "metadata": {},
   "outputs": [
    {
     "data": {
      "text/plain": [
       "    source             target              score          \n",
       " Length:872490      Length:872490      Min.   :0.0000000  \n",
       " Class :character   Class :character   1st Qu.:0.0000009  \n",
       " Mode  :character   Mode  :character   Median :0.0000031  \n",
       "                                       Mean   :0.0000380  \n",
       "                                       3rd Qu.:0.0000140  \n",
       "                                       Max.   :0.3967780  "
      ]
     },
     "metadata": {},
     "output_type": "display_data"
    }
   ],
   "source": [
    "summary(stmlnet)"
   ]
  },
  {
   "cell_type": "code",
   "execution_count": null,
   "metadata": {},
   "outputs": [],
   "source": []
  },
  {
   "attachments": {},
   "cell_type": "markdown",
   "metadata": {},
   "source": [
    "### CellCall"
   ]
  },
  {
   "cell_type": "code",
   "execution_count": 4,
   "metadata": {},
   "outputs": [
    {
     "data": {
      "text/html": [
       "<table class=\"dataframe\">\n",
       "<caption>A data.frame: 6 × 4</caption>\n",
       "<thead>\n",
       "\t<tr><th></th><th scope=col>source</th><th scope=col>target</th><th scope=col>pathway</th><th scope=col>database</th></tr>\n",
       "\t<tr><th></th><th scope=col>&lt;chr&gt;</th><th scope=col>&lt;chr&gt;</th><th scope=col>&lt;chr&gt;</th><th scope=col>&lt;chr&gt;</th></tr>\n",
       "</thead>\n",
       "<tbody>\n",
       "\t<tr><th scope=row>1</th><td>OCLN</td><td>GATA4 </td><td>hsa04530_3,hsa04530_5</td><td>cellcall</td></tr>\n",
       "\t<tr><th scope=row>2</th><td>OCLN</td><td>YBX3  </td><td>hsa04530_2           </td><td>cellcall</td></tr>\n",
       "\t<tr><th scope=row>3</th><td>CCR1</td><td>FOXO3 </td><td>hsa04062_5           </td><td>cellcall</td></tr>\n",
       "\t<tr><th scope=row>4</th><td>CCR1</td><td>IKBKB </td><td>hsa04062_5           </td><td>cellcall</td></tr>\n",
       "\t<tr><th scope=row>5</th><td>CCR1</td><td>NFKB1 </td><td>hsa04062_7           </td><td>cellcall</td></tr>\n",
       "\t<tr><th scope=row>6</th><td>CCR1</td><td>NFKBIA</td><td>hsa04062_6           </td><td>cellcall</td></tr>\n",
       "</tbody>\n",
       "</table>\n"
      ],
      "text/latex": [
       "A data.frame: 6 × 4\n",
       "\\begin{tabular}{r|llll}\n",
       "  & source & target & pathway & database\\\\\n",
       "  & <chr> & <chr> & <chr> & <chr>\\\\\n",
       "\\hline\n",
       "\t1 & OCLN & GATA4  & hsa04530\\_3,hsa04530\\_5 & cellcall\\\\\n",
       "\t2 & OCLN & YBX3   & hsa04530\\_2            & cellcall\\\\\n",
       "\t3 & CCR1 & FOXO3  & hsa04062\\_5            & cellcall\\\\\n",
       "\t4 & CCR1 & IKBKB  & hsa04062\\_5            & cellcall\\\\\n",
       "\t5 & CCR1 & NFKB1  & hsa04062\\_7            & cellcall\\\\\n",
       "\t6 & CCR1 & NFKBIA & hsa04062\\_6            & cellcall\\\\\n",
       "\\end{tabular}\n"
      ],
      "text/markdown": [
       "\n",
       "A data.frame: 6 × 4\n",
       "\n",
       "| <!--/--> | source &lt;chr&gt; | target &lt;chr&gt; | pathway &lt;chr&gt; | database &lt;chr&gt; |\n",
       "|---|---|---|---|---|\n",
       "| 1 | OCLN | GATA4  | hsa04530_3,hsa04530_5 | cellcall |\n",
       "| 2 | OCLN | YBX3   | hsa04530_2            | cellcall |\n",
       "| 3 | CCR1 | FOXO3  | hsa04062_5            | cellcall |\n",
       "| 4 | CCR1 | IKBKB  | hsa04062_5            | cellcall |\n",
       "| 5 | CCR1 | NFKB1  | hsa04062_7            | cellcall |\n",
       "| 6 | CCR1 | NFKBIA | hsa04062_6            | cellcall |\n",
       "\n"
      ],
      "text/plain": [
       "  source target pathway               database\n",
       "1 OCLN   GATA4  hsa04530_3,hsa04530_5 cellcall\n",
       "2 OCLN   YBX3   hsa04530_2            cellcall\n",
       "3 CCR1   FOXO3  hsa04062_5            cellcall\n",
       "4 CCR1   IKBKB  hsa04062_5            cellcall\n",
       "5 CCR1   NFKB1  hsa04062_7            cellcall\n",
       "6 CCR1   NFKBIA hsa04062_6            cellcall"
      ]
     },
     "metadata": {},
     "output_type": "display_data"
    }
   ],
   "source": [
    "cellcall <- read.table(url('https://raw.githubusercontent.com/ShellyCoder/cellcall/master/inst/extdata/new_ligand_receptor_TFs.txt'), header = TRUE,  sep = '\t',  stringsAsFactors = FALSE)  %>%\n",
    "    select(source=Receptor_Symbol, target=TF_Symbol, pathway=Pathway) %>% \n",
    "    distinct() %>% \n",
    "    mutate(source = stringr::str_replace_all(source, ',', '_')) %>%\n",
    "    mutate(database='cellcall')\n",
    "head(cellcall)"
   ]
  },
  {
   "cell_type": "code",
   "execution_count": 94,
   "metadata": {},
   "outputs": [
    {
     "data": {
      "text/plain": [
       "    source             target            pathway         \n",
       " Length:3878        Length:3878        Length:3878       \n",
       " Class :character   Class :character   Class :character  \n",
       " Mode  :character   Mode  :character   Mode  :character  "
      ]
     },
     "metadata": {},
     "output_type": "display_data"
    }
   ],
   "source": [
    "summary(cellcall)"
   ]
  },
  {
   "cell_type": "code",
   "execution_count": null,
   "metadata": {},
   "outputs": [],
   "source": []
  },
  {
   "attachments": {},
   "cell_type": "markdown",
   "metadata": {},
   "source": [
    "### scseqcomm"
   ]
  },
  {
   "attachments": {},
   "cell_type": "markdown",
   "metadata": {},
   "source": [
    "#### KEGG"
   ]
  },
  {
   "cell_type": "code",
   "execution_count": 5,
   "metadata": {},
   "outputs": [
    {
     "data": {
      "text/html": [
       "<table class=\"dataframe\">\n",
       "<caption>A data.frame: 6 × 4</caption>\n",
       "<thead>\n",
       "\t<tr><th></th><th scope=col>source</th><th scope=col>target</th><th scope=col>pathway</th><th scope=col>database</th></tr>\n",
       "\t<tr><th></th><th scope=col>&lt;chr&gt;</th><th scope=col>&lt;chr&gt;</th><th scope=col>&lt;chr&gt;</th><th scope=col>&lt;chr&gt;</th></tr>\n",
       "</thead>\n",
       "<tbody>\n",
       "\t<tr><th scope=row>1</th><td>PKM   </td><td>ENO1</td><td>Glycolysis / Gluconeogenesis</td><td>scseqcomm_KEGG</td></tr>\n",
       "\t<tr><th scope=row>2</th><td>ALDOA </td><td>ENO1</td><td>Glycolysis / Gluconeogenesis</td><td>scseqcomm_KEGG</td></tr>\n",
       "\t<tr><th scope=row>3</th><td>GPI   </td><td>ENO1</td><td>Glycolysis / Gluconeogenesis</td><td>scseqcomm_KEGG</td></tr>\n",
       "\t<tr><th scope=row>4</th><td>MINPP1</td><td>ENO1</td><td>Glycolysis / Gluconeogenesis</td><td>scseqcomm_KEGG</td></tr>\n",
       "\t<tr><th scope=row>5</th><td>NPR2  </td><td>NME2</td><td>Purine metabolism           </td><td>scseqcomm_KEGG</td></tr>\n",
       "\t<tr><th scope=row>6</th><td>PKM   </td><td>NME2</td><td>Purine metabolism           </td><td>scseqcomm_KEGG</td></tr>\n",
       "</tbody>\n",
       "</table>\n"
      ],
      "text/latex": [
       "A data.frame: 6 × 4\n",
       "\\begin{tabular}{r|llll}\n",
       "  & source & target & pathway & database\\\\\n",
       "  & <chr> & <chr> & <chr> & <chr>\\\\\n",
       "\\hline\n",
       "\t1 & PKM    & ENO1 & Glycolysis / Gluconeogenesis & scseqcomm\\_KEGG\\\\\n",
       "\t2 & ALDOA  & ENO1 & Glycolysis / Gluconeogenesis & scseqcomm\\_KEGG\\\\\n",
       "\t3 & GPI    & ENO1 & Glycolysis / Gluconeogenesis & scseqcomm\\_KEGG\\\\\n",
       "\t4 & MINPP1 & ENO1 & Glycolysis / Gluconeogenesis & scseqcomm\\_KEGG\\\\\n",
       "\t5 & NPR2   & NME2 & Purine metabolism            & scseqcomm\\_KEGG\\\\\n",
       "\t6 & PKM    & NME2 & Purine metabolism            & scseqcomm\\_KEGG\\\\\n",
       "\\end{tabular}\n"
      ],
      "text/markdown": [
       "\n",
       "A data.frame: 6 × 4\n",
       "\n",
       "| <!--/--> | source &lt;chr&gt; | target &lt;chr&gt; | pathway &lt;chr&gt; | database &lt;chr&gt; |\n",
       "|---|---|---|---|---|\n",
       "| 1 | PKM    | ENO1 | Glycolysis / Gluconeogenesis | scseqcomm_KEGG |\n",
       "| 2 | ALDOA  | ENO1 | Glycolysis / Gluconeogenesis | scseqcomm_KEGG |\n",
       "| 3 | GPI    | ENO1 | Glycolysis / Gluconeogenesis | scseqcomm_KEGG |\n",
       "| 4 | MINPP1 | ENO1 | Glycolysis / Gluconeogenesis | scseqcomm_KEGG |\n",
       "| 5 | NPR2   | NME2 | Purine metabolism            | scseqcomm_KEGG |\n",
       "| 6 | PKM    | NME2 | Purine metabolism            | scseqcomm_KEGG |\n",
       "\n"
      ],
      "text/plain": [
       "  source target pathway                      database      \n",
       "1 PKM    ENO1   Glycolysis / Gluconeogenesis scseqcomm_KEGG\n",
       "2 ALDOA  ENO1   Glycolysis / Gluconeogenesis scseqcomm_KEGG\n",
       "3 GPI    ENO1   Glycolysis / Gluconeogenesis scseqcomm_KEGG\n",
       "4 MINPP1 ENO1   Glycolysis / Gluconeogenesis scseqcomm_KEGG\n",
       "5 NPR2   NME2   Purine metabolism            scseqcomm_KEGG\n",
       "6 PKM    NME2   Purine metabolism            scseqcomm_KEGG"
      ]
     },
     "metadata": {},
     "output_type": "display_data"
    }
   ],
   "source": [
    "load(\"~/Downloads/TF_PPR_KEGG_human.rda\")\n",
    "\n",
    "csc_kegg <- TF_PPR_KEGG_human  %>% \n",
    "    select(source=receptor, target=tf, pathway) %>%\n",
    "    mutate(source = stringr::str_replace_all(source, ',', '_')) %>% \n",
    "    distinct() %>%\n",
    "    mutate(database='scseqcomm_KEGG')\n",
    "head(csc_kegg)"
   ]
  },
  {
   "cell_type": "code",
   "execution_count": 98,
   "metadata": {},
   "outputs": [
    {
     "data": {
      "text/plain": [
       "    source             target            pathway         \n",
       " Length:69300       Length:69300       Length:69300      \n",
       " Class :character   Class :character   Class :character  \n",
       " Mode  :character   Mode  :character   Mode  :character  "
      ]
     },
     "metadata": {},
     "output_type": "display_data"
    }
   ],
   "source": [
    "summary(csc_kegg)"
   ]
  },
  {
   "cell_type": "code",
   "execution_count": null,
   "metadata": {},
   "outputs": [],
   "source": []
  },
  {
   "attachments": {},
   "cell_type": "markdown",
   "metadata": {},
   "source": [
    "#### Reactome"
   ]
  },
  {
   "cell_type": "code",
   "execution_count": 6,
   "metadata": {},
   "outputs": [
    {
     "data": {
      "text/html": [
       "<table class=\"dataframe\">\n",
       "<caption>A data.frame: 6 × 4</caption>\n",
       "<thead>\n",
       "\t<tr><th></th><th scope=col>source</th><th scope=col>target</th><th scope=col>pathway</th><th scope=col>database</th></tr>\n",
       "\t<tr><th></th><th scope=col>&lt;chr&gt;</th><th scope=col>&lt;chr&gt;</th><th scope=col>&lt;chr&gt;</th><th scope=col>&lt;chr&gt;</th></tr>\n",
       "</thead>\n",
       "<tbody>\n",
       "\t<tr><th scope=row>1</th><td>PKM   </td><td>ENO1</td><td>Glycolysis / Gluconeogenesis</td><td>scseqcomm_KEGG</td></tr>\n",
       "\t<tr><th scope=row>2</th><td>ALDOA </td><td>ENO1</td><td>Glycolysis / Gluconeogenesis</td><td>scseqcomm_KEGG</td></tr>\n",
       "\t<tr><th scope=row>3</th><td>GPI   </td><td>ENO1</td><td>Glycolysis / Gluconeogenesis</td><td>scseqcomm_KEGG</td></tr>\n",
       "\t<tr><th scope=row>4</th><td>MINPP1</td><td>ENO1</td><td>Glycolysis / Gluconeogenesis</td><td>scseqcomm_KEGG</td></tr>\n",
       "\t<tr><th scope=row>5</th><td>NPR2  </td><td>NME2</td><td>Purine metabolism           </td><td>scseqcomm_KEGG</td></tr>\n",
       "\t<tr><th scope=row>6</th><td>PKM   </td><td>NME2</td><td>Purine metabolism           </td><td>scseqcomm_KEGG</td></tr>\n",
       "</tbody>\n",
       "</table>\n"
      ],
      "text/latex": [
       "A data.frame: 6 × 4\n",
       "\\begin{tabular}{r|llll}\n",
       "  & source & target & pathway & database\\\\\n",
       "  & <chr> & <chr> & <chr> & <chr>\\\\\n",
       "\\hline\n",
       "\t1 & PKM    & ENO1 & Glycolysis / Gluconeogenesis & scseqcomm\\_KEGG\\\\\n",
       "\t2 & ALDOA  & ENO1 & Glycolysis / Gluconeogenesis & scseqcomm\\_KEGG\\\\\n",
       "\t3 & GPI    & ENO1 & Glycolysis / Gluconeogenesis & scseqcomm\\_KEGG\\\\\n",
       "\t4 & MINPP1 & ENO1 & Glycolysis / Gluconeogenesis & scseqcomm\\_KEGG\\\\\n",
       "\t5 & NPR2   & NME2 & Purine metabolism            & scseqcomm\\_KEGG\\\\\n",
       "\t6 & PKM    & NME2 & Purine metabolism            & scseqcomm\\_KEGG\\\\\n",
       "\\end{tabular}\n"
      ],
      "text/markdown": [
       "\n",
       "A data.frame: 6 × 4\n",
       "\n",
       "| <!--/--> | source &lt;chr&gt; | target &lt;chr&gt; | pathway &lt;chr&gt; | database &lt;chr&gt; |\n",
       "|---|---|---|---|---|\n",
       "| 1 | PKM    | ENO1 | Glycolysis / Gluconeogenesis | scseqcomm_KEGG |\n",
       "| 2 | ALDOA  | ENO1 | Glycolysis / Gluconeogenesis | scseqcomm_KEGG |\n",
       "| 3 | GPI    | ENO1 | Glycolysis / Gluconeogenesis | scseqcomm_KEGG |\n",
       "| 4 | MINPP1 | ENO1 | Glycolysis / Gluconeogenesis | scseqcomm_KEGG |\n",
       "| 5 | NPR2   | NME2 | Purine metabolism            | scseqcomm_KEGG |\n",
       "| 6 | PKM    | NME2 | Purine metabolism            | scseqcomm_KEGG |\n",
       "\n"
      ],
      "text/plain": [
       "  source target pathway                      database      \n",
       "1 PKM    ENO1   Glycolysis / Gluconeogenesis scseqcomm_KEGG\n",
       "2 ALDOA  ENO1   Glycolysis / Gluconeogenesis scseqcomm_KEGG\n",
       "3 GPI    ENO1   Glycolysis / Gluconeogenesis scseqcomm_KEGG\n",
       "4 MINPP1 ENO1   Glycolysis / Gluconeogenesis scseqcomm_KEGG\n",
       "5 NPR2   NME2   Purine metabolism            scseqcomm_KEGG\n",
       "6 PKM    NME2   Purine metabolism            scseqcomm_KEGG"
      ]
     },
     "metadata": {},
     "output_type": "display_data"
    }
   ],
   "source": [
    "load(\"~/Downloads/TF_PPR_REACTOME_human.rda\")\n",
    "scs_reactome <- TF_PPR_REACTOME_human %>% \n",
    "    select(source=receptor, target=tf, pathway) %>%\n",
    "    mutate(source = stringr::str_replace_all(source, ',', '_')) %>% \n",
    "    distinct() %>%\n",
    "    mutate(database='scseqcomm_REACTOME')\n",
    "head(csc_kegg)"
   ]
  },
  {
   "cell_type": "code",
   "execution_count": 102,
   "metadata": {},
   "outputs": [
    {
     "data": {
      "text/plain": [
       "    source             target            pathway         \n",
       " Length:24306       Length:24306       Length:24306      \n",
       " Class :character   Class :character   Class :character  \n",
       " Mode  :character   Mode  :character   Mode  :character  "
      ]
     },
     "metadata": {},
     "output_type": "display_data"
    }
   ],
   "source": [
    "summary(scs_reactome)"
   ]
  },
  {
   "cell_type": "code",
   "execution_count": null,
   "metadata": {},
   "outputs": [],
   "source": []
  },
  {
   "attachments": {},
   "cell_type": "markdown",
   "metadata": {},
   "source": [
    "## Generate Ours"
   ]
  },
  {
   "cell_type": "code",
   "execution_count": 1,
   "metadata": {},
   "outputs": [
    {
     "name": "stderr",
     "output_type": "stream",
     "text": [
      "/home/dbdimitrov/anaconda3/envs/spiana/lib/python3.10/site-packages/tqdm/auto.py:21: TqdmWarning: IProgress not found. Please update jupyter and ipywidgets. See https://ipywidgets.readthedocs.io/en/stable/user_install.html\n",
      "  from .autonotebook import tqdm as notebook_tqdm\n"
     ]
    }
   ],
   "source": [
    "import omnipath\n",
    "import liana as li\n",
    "import decoupler as dc\n",
    "import pandas as pd"
   ]
  },
  {
   "cell_type": "code",
   "execution_count": 2,
   "metadata": {},
   "outputs": [],
   "source": [
    "pathways = omnipath.requests.Annotations.get(resources=['SignaLink_pathway', 'KEGG-PC', 'SIGNOR', 'NetPath'])"
   ]
  },
  {
   "cell_type": "code",
   "execution_count": 3,
   "metadata": {},
   "outputs": [],
   "source": [
    "pathways = dict()\n",
    "for res in ['SignaLink_pathway', 'KEGG-PC', 'SIGNOR', 'NetPath']:\n",
    "    resource = dc.get_resource(res)\n",
    "    # translate to mouse\n",
    "    resource = dc.translate_net(resource,\n",
    "                                target_organism = 'mouse',\n",
    "                                unique_by = ('geneset', 'genesymbol'))\n",
    "    \n",
    "    pathways[res] = resource\n"
   ]
  },
  {
   "cell_type": "code",
   "execution_count": 4,
   "metadata": {},
   "outputs": [],
   "source": [
    "pathways = pd.concat(pathways)\n",
    "pathways = pathways.reset_index().drop(columns='level_1').rename(columns={'level_0': 'database'})"
   ]
  },
  {
   "cell_type": "code",
   "execution_count": 5,
   "metadata": {},
   "outputs": [],
   "source": [
    "pathways.rename(columns={'genesymbol': 'target'}, inplace=True)"
   ]
  },
  {
   "cell_type": "code",
   "execution_count": 6,
   "metadata": {},
   "outputs": [
    {
     "data": {
      "text/html": [
       "<div>\n",
       "<style scoped>\n",
       "    .dataframe tbody tr th:only-of-type {\n",
       "        vertical-align: middle;\n",
       "    }\n",
       "\n",
       "    .dataframe tbody tr th {\n",
       "        vertical-align: top;\n",
       "    }\n",
       "\n",
       "    .dataframe thead th {\n",
       "        text-align: right;\n",
       "    }\n",
       "</style>\n",
       "<table border=\"1\" class=\"dataframe\">\n",
       "  <thead>\n",
       "    <tr style=\"text-align: right;\">\n",
       "      <th></th>\n",
       "      <th>database</th>\n",
       "      <th>target</th>\n",
       "      <th>pathway</th>\n",
       "    </tr>\n",
       "  </thead>\n",
       "  <tbody>\n",
       "    <tr>\n",
       "      <th>0</th>\n",
       "      <td>SignaLink_pathway</td>\n",
       "      <td>Cd247</td>\n",
       "      <td>T-cell receptor</td>\n",
       "    </tr>\n",
       "    <tr>\n",
       "      <th>1</th>\n",
       "      <td>SignaLink_pathway</td>\n",
       "      <td>Zap70</td>\n",
       "      <td>Receptor tyrosine kinase</td>\n",
       "    </tr>\n",
       "    <tr>\n",
       "      <th>2</th>\n",
       "      <td>SignaLink_pathway</td>\n",
       "      <td>Zap70</td>\n",
       "      <td>T-cell receptor</td>\n",
       "    </tr>\n",
       "    <tr>\n",
       "      <th>3</th>\n",
       "      <td>SignaLink_pathway</td>\n",
       "      <td>Tab2</td>\n",
       "      <td>Toll-like receptor</td>\n",
       "    </tr>\n",
       "    <tr>\n",
       "      <th>4</th>\n",
       "      <td>SignaLink_pathway</td>\n",
       "      <td>Tab2</td>\n",
       "      <td>Innate immune pathways</td>\n",
       "    </tr>\n",
       "  </tbody>\n",
       "</table>\n",
       "</div>"
      ],
      "text/plain": [
       "            database target                   pathway\n",
       "0  SignaLink_pathway  Cd247           T-cell receptor\n",
       "1  SignaLink_pathway  Zap70  Receptor tyrosine kinase\n",
       "2  SignaLink_pathway  Zap70           T-cell receptor\n",
       "3  SignaLink_pathway   Tab2        Toll-like receptor\n",
       "4  SignaLink_pathway   Tab2    Innate immune pathways"
      ]
     },
     "execution_count": 6,
     "metadata": {},
     "output_type": "execute_result"
    }
   ],
   "source": [
    "pathways.head()"
   ]
  },
  {
   "cell_type": "code",
   "execution_count": null,
   "metadata": {},
   "outputs": [],
   "source": []
  },
  {
   "attachments": {},
   "cell_type": "markdown",
   "metadata": {},
   "source": [
    "#### generate an lr geneset"
   ]
  },
  {
   "cell_type": "code",
   "execution_count": 7,
   "metadata": {},
   "outputs": [],
   "source": [
    "resource = li.resource.select_resource('mouseconsensus')"
   ]
  },
  {
   "cell_type": "code",
   "execution_count": 8,
   "metadata": {},
   "outputs": [
    {
     "data": {
      "text/html": [
       "<div>\n",
       "<style scoped>\n",
       "    .dataframe tbody tr th:only-of-type {\n",
       "        vertical-align: middle;\n",
       "    }\n",
       "\n",
       "    .dataframe tbody tr th {\n",
       "        vertical-align: top;\n",
       "    }\n",
       "\n",
       "    .dataframe thead th {\n",
       "        text-align: right;\n",
       "    }\n",
       "</style>\n",
       "<table border=\"1\" class=\"dataframe\">\n",
       "  <thead>\n",
       "    <tr style=\"text-align: right;\">\n",
       "      <th></th>\n",
       "      <th>pathway</th>\n",
       "      <th>interaction</th>\n",
       "      <th>weight</th>\n",
       "    </tr>\n",
       "  </thead>\n",
       "  <tbody>\n",
       "    <tr>\n",
       "      <th>1</th>\n",
       "      <td>NOTCH Signaling</td>\n",
       "      <td>Dll1^Notch1</td>\n",
       "      <td>1.0</td>\n",
       "    </tr>\n",
       "    <tr>\n",
       "      <th>61</th>\n",
       "      <td>NOTCH Signaling</td>\n",
       "      <td>Jag1^Notch1</td>\n",
       "      <td>1.0</td>\n",
       "    </tr>\n",
       "    <tr>\n",
       "      <th>73</th>\n",
       "      <td>NOTCH Signaling</td>\n",
       "      <td>Adam17^Notch1</td>\n",
       "      <td>1.0</td>\n",
       "    </tr>\n",
       "    <tr>\n",
       "      <th>81</th>\n",
       "      <td>NOTCH Signaling</td>\n",
       "      <td>Dlk1^Notch1</td>\n",
       "      <td>1.0</td>\n",
       "    </tr>\n",
       "    <tr>\n",
       "      <th>97</th>\n",
       "      <td>NOTCH Signaling</td>\n",
       "      <td>Dll4^Notch1</td>\n",
       "      <td>1.0</td>\n",
       "    </tr>\n",
       "    <tr>\n",
       "      <th>...</th>\n",
       "      <td>...</td>\n",
       "      <td>...</td>\n",
       "      <td>...</td>\n",
       "    </tr>\n",
       "    <tr>\n",
       "      <th>8068</th>\n",
       "      <td>Metabolic pathways</td>\n",
       "      <td>Ptgs2^Alox5</td>\n",
       "      <td>1.0</td>\n",
       "    </tr>\n",
       "    <tr>\n",
       "      <th>8069</th>\n",
       "      <td>Thyroid-stimulating hormone (TSH)</td>\n",
       "      <td>Bsg^Slc16a1</td>\n",
       "      <td>1.0</td>\n",
       "    </tr>\n",
       "    <tr>\n",
       "      <th>8079</th>\n",
       "      <td>JAK/STAT</td>\n",
       "      <td>Il22^Il10ra</td>\n",
       "      <td>1.0</td>\n",
       "    </tr>\n",
       "    <tr>\n",
       "      <th>8083</th>\n",
       "      <td>JAK/STAT</td>\n",
       "      <td>Il22^Il20ra</td>\n",
       "      <td>1.0</td>\n",
       "    </tr>\n",
       "    <tr>\n",
       "      <th>8084</th>\n",
       "      <td>JAK/STAT</td>\n",
       "      <td>Il22^Il22ra2</td>\n",
       "      <td>1.0</td>\n",
       "    </tr>\n",
       "  </tbody>\n",
       "</table>\n",
       "<p>980 rows × 3 columns</p>\n",
       "</div>"
      ],
      "text/plain": [
       "                                pathway    interaction  weight\n",
       "1                       NOTCH Signaling    Dll1^Notch1     1.0\n",
       "61                      NOTCH Signaling    Jag1^Notch1     1.0\n",
       "73                      NOTCH Signaling  Adam17^Notch1     1.0\n",
       "81                      NOTCH Signaling    Dlk1^Notch1     1.0\n",
       "97                      NOTCH Signaling    Dll4^Notch1     1.0\n",
       "...                                 ...            ...     ...\n",
       "8068                 Metabolic pathways    Ptgs2^Alox5     1.0\n",
       "8069  Thyroid-stimulating hormone (TSH)    Bsg^Slc16a1     1.0\n",
       "8079                           JAK/STAT    Il22^Il10ra     1.0\n",
       "8083                           JAK/STAT    Il22^Il20ra     1.0\n",
       "8084                           JAK/STAT   Il22^Il22ra2     1.0\n",
       "\n",
       "[980 rows x 3 columns]"
      ]
     },
     "execution_count": 8,
     "metadata": {},
     "output_type": "execute_result"
    }
   ],
   "source": [
    "lr_net = li.fun.generate_lr_geneset(resource, net=pathways, source='pathway', weight=None)\n",
    "lr_net"
   ]
  },
  {
   "cell_type": "code",
   "execution_count": null,
   "metadata": {},
   "outputs": [],
   "source": []
  },
  {
   "cell_type": "code",
   "execution_count": 9,
   "metadata": {},
   "outputs": [],
   "source": [
    "# import dorothea\n",
    "dorothea = dc.get_dorothea(organism='mouse')"
   ]
  },
  {
   "cell_type": "code",
   "execution_count": 10,
   "metadata": {},
   "outputs": [
    {
     "data": {
      "text/html": [
       "<div>\n",
       "<style scoped>\n",
       "    .dataframe tbody tr th:only-of-type {\n",
       "        vertical-align: middle;\n",
       "    }\n",
       "\n",
       "    .dataframe tbody tr th {\n",
       "        vertical-align: top;\n",
       "    }\n",
       "\n",
       "    .dataframe thead th {\n",
       "        text-align: right;\n",
       "    }\n",
       "</style>\n",
       "<table border=\"1\" class=\"dataframe\">\n",
       "  <thead>\n",
       "    <tr style=\"text-align: right;\">\n",
       "      <th></th>\n",
       "      <th>source</th>\n",
       "      <th>confidence</th>\n",
       "      <th>target</th>\n",
       "      <th>weight</th>\n",
       "    </tr>\n",
       "  </thead>\n",
       "  <tbody>\n",
       "    <tr>\n",
       "      <th>0</th>\n",
       "      <td>Myc</td>\n",
       "      <td>A</td>\n",
       "      <td>Tert</td>\n",
       "      <td>1.000000</td>\n",
       "    </tr>\n",
       "    <tr>\n",
       "      <th>1</th>\n",
       "      <td>E2f1</td>\n",
       "      <td>A</td>\n",
       "      <td>Casp7</td>\n",
       "      <td>1.000000</td>\n",
       "    </tr>\n",
       "    <tr>\n",
       "      <th>2</th>\n",
       "      <td>E2f1</td>\n",
       "      <td>A</td>\n",
       "      <td>Aurka</td>\n",
       "      <td>1.000000</td>\n",
       "    </tr>\n",
       "    <tr>\n",
       "      <th>3</th>\n",
       "      <td>Dnmt1</td>\n",
       "      <td>A</td>\n",
       "      <td>Timp3</td>\n",
       "      <td>-1.000000</td>\n",
       "    </tr>\n",
       "    <tr>\n",
       "      <th>4</th>\n",
       "      <td>Dnmt1</td>\n",
       "      <td>A</td>\n",
       "      <td>Sfrp5</td>\n",
       "      <td>1.000000</td>\n",
       "    </tr>\n",
       "    <tr>\n",
       "      <th>...</th>\n",
       "      <td>...</td>\n",
       "      <td>...</td>\n",
       "      <td>...</td>\n",
       "      <td>...</td>\n",
       "    </tr>\n",
       "    <tr>\n",
       "      <th>28414</th>\n",
       "      <td>Gata3</td>\n",
       "      <td>C</td>\n",
       "      <td>Prom1</td>\n",
       "      <td>0.333333</td>\n",
       "    </tr>\n",
       "    <tr>\n",
       "      <th>28415</th>\n",
       "      <td>Gata3</td>\n",
       "      <td>C</td>\n",
       "      <td>Ppt1</td>\n",
       "      <td>0.333333</td>\n",
       "    </tr>\n",
       "    <tr>\n",
       "      <th>28416</th>\n",
       "      <td>Gata3</td>\n",
       "      <td>C</td>\n",
       "      <td>Ppp6r3</td>\n",
       "      <td>0.333333</td>\n",
       "    </tr>\n",
       "    <tr>\n",
       "      <th>28417</th>\n",
       "      <td>Gata3</td>\n",
       "      <td>C</td>\n",
       "      <td>Ptprf</td>\n",
       "      <td>0.333333</td>\n",
       "    </tr>\n",
       "    <tr>\n",
       "      <th>28418</th>\n",
       "      <td>Zfp644</td>\n",
       "      <td>C</td>\n",
       "      <td>Znf280d</td>\n",
       "      <td>0.333333</td>\n",
       "    </tr>\n",
       "  </tbody>\n",
       "</table>\n",
       "<p>28419 rows × 4 columns</p>\n",
       "</div>"
      ],
      "text/plain": [
       "       source confidence   target    weight\n",
       "0         Myc          A     Tert  1.000000\n",
       "1        E2f1          A    Casp7  1.000000\n",
       "2        E2f1          A    Aurka  1.000000\n",
       "3       Dnmt1          A    Timp3 -1.000000\n",
       "4       Dnmt1          A    Sfrp5  1.000000\n",
       "...       ...        ...      ...       ...\n",
       "28414   Gata3          C    Prom1  0.333333\n",
       "28415   Gata3          C     Ppt1  0.333333\n",
       "28416   Gata3          C   Ppp6r3  0.333333\n",
       "28417   Gata3          C    Ptprf  0.333333\n",
       "28418  Zfp644          C  Znf280d  0.333333\n",
       "\n",
       "[28419 rows x 4 columns]"
      ]
     },
     "execution_count": 10,
     "metadata": {},
     "output_type": "execute_result"
    }
   ],
   "source": [
    "dorothea"
   ]
  },
  {
   "cell_type": "code",
   "execution_count": null,
   "metadata": {},
   "outputs": [],
   "source": []
  },
  {
   "cell_type": "code",
   "execution_count": 11,
   "metadata": {},
   "outputs": [],
   "source": [
    "# check for TF links within each pathway for which we have a ligand-receptor interaction"
   ]
  },
  {
   "cell_type": "code",
   "execution_count": 12,
   "metadata": {},
   "outputs": [],
   "source": [
    "pathway_msk = pathways['pathway'].isin(lr_net['pathway'])\n",
    "tf_msk = pathways['target'].isin(dorothea['source'])\n"
   ]
  },
  {
   "cell_type": "code",
   "execution_count": 14,
   "metadata": {},
   "outputs": [],
   "source": [
    "pathways = pathways[pathway_msk & tf_msk]"
   ]
  },
  {
   "cell_type": "code",
   "execution_count": 17,
   "metadata": {},
   "outputs": [
    {
     "data": {
      "text/html": [
       "<div>\n",
       "<style scoped>\n",
       "    .dataframe tbody tr th:only-of-type {\n",
       "        vertical-align: middle;\n",
       "    }\n",
       "\n",
       "    .dataframe tbody tr th {\n",
       "        vertical-align: top;\n",
       "    }\n",
       "\n",
       "    .dataframe thead th {\n",
       "        text-align: right;\n",
       "    }\n",
       "</style>\n",
       "<table border=\"1\" class=\"dataframe\">\n",
       "  <thead>\n",
       "    <tr style=\"text-align: right;\">\n",
       "      <th></th>\n",
       "      <th>interaction</th>\n",
       "      <th>target</th>\n",
       "      <th>pathway</th>\n",
       "      <th>database</th>\n",
       "    </tr>\n",
       "  </thead>\n",
       "  <tbody>\n",
       "    <tr>\n",
       "      <th>0</th>\n",
       "      <td>Dll1^Notch1</td>\n",
       "      <td>Hes1</td>\n",
       "      <td>NOTCH Signaling</td>\n",
       "      <td>SIGNOR</td>\n",
       "    </tr>\n",
       "    <tr>\n",
       "      <th>1</th>\n",
       "      <td>Dll1^Notch1</td>\n",
       "      <td>Nfkb1</td>\n",
       "      <td>NOTCH Signaling</td>\n",
       "      <td>SIGNOR</td>\n",
       "    </tr>\n",
       "    <tr>\n",
       "      <th>2</th>\n",
       "      <td>Dll1^Notch1</td>\n",
       "      <td>Yy1</td>\n",
       "      <td>NOTCH Signaling</td>\n",
       "      <td>SIGNOR</td>\n",
       "    </tr>\n",
       "    <tr>\n",
       "      <th>3</th>\n",
       "      <td>Dll1^Notch1</td>\n",
       "      <td>Hif1a</td>\n",
       "      <td>NOTCH Signaling</td>\n",
       "      <td>SIGNOR</td>\n",
       "    </tr>\n",
       "    <tr>\n",
       "      <th>4</th>\n",
       "      <td>Dll1^Notch1</td>\n",
       "      <td>Myod1</td>\n",
       "      <td>NOTCH Signaling</td>\n",
       "      <td>SIGNOR</td>\n",
       "    </tr>\n",
       "    <tr>\n",
       "      <th>...</th>\n",
       "      <td>...</td>\n",
       "      <td>...</td>\n",
       "      <td>...</td>\n",
       "      <td>...</td>\n",
       "    </tr>\n",
       "    <tr>\n",
       "      <th>12714</th>\n",
       "      <td>Ghrl^Ghsr</td>\n",
       "      <td>Stat3</td>\n",
       "      <td>Ghrelin</td>\n",
       "      <td>NetPath</td>\n",
       "    </tr>\n",
       "    <tr>\n",
       "      <th>12715</th>\n",
       "      <td>Ghrl^Ghsr</td>\n",
       "      <td>Creb1</td>\n",
       "      <td>Ghrelin</td>\n",
       "      <td>NetPath</td>\n",
       "    </tr>\n",
       "    <tr>\n",
       "      <th>12716</th>\n",
       "      <td>Ghrl^Ghsr</td>\n",
       "      <td>Tp53</td>\n",
       "      <td>Ghrelin</td>\n",
       "      <td>NetPath</td>\n",
       "    </tr>\n",
       "    <tr>\n",
       "      <th>12717</th>\n",
       "      <td>Ghrl^Ghsr</td>\n",
       "      <td>Elk1</td>\n",
       "      <td>Ghrelin</td>\n",
       "      <td>NetPath</td>\n",
       "    </tr>\n",
       "    <tr>\n",
       "      <th>12718</th>\n",
       "      <td>Ghrl^Ghsr</td>\n",
       "      <td>Pparg</td>\n",
       "      <td>Ghrelin</td>\n",
       "      <td>NetPath</td>\n",
       "    </tr>\n",
       "  </tbody>\n",
       "</table>\n",
       "<p>12719 rows × 4 columns</p>\n",
       "</div>"
      ],
      "text/plain": [
       "       interaction target          pathway database\n",
       "0      Dll1^Notch1   Hes1  NOTCH Signaling   SIGNOR\n",
       "1      Dll1^Notch1  Nfkb1  NOTCH Signaling   SIGNOR\n",
       "2      Dll1^Notch1    Yy1  NOTCH Signaling   SIGNOR\n",
       "3      Dll1^Notch1  Hif1a  NOTCH Signaling   SIGNOR\n",
       "4      Dll1^Notch1  Myod1  NOTCH Signaling   SIGNOR\n",
       "...            ...    ...              ...      ...\n",
       "12714    Ghrl^Ghsr  Stat3          Ghrelin  NetPath\n",
       "12715    Ghrl^Ghsr  Creb1          Ghrelin  NetPath\n",
       "12716    Ghrl^Ghsr   Tp53          Ghrelin  NetPath\n",
       "12717    Ghrl^Ghsr   Elk1          Ghrelin  NetPath\n",
       "12718    Ghrl^Ghsr  Pparg          Ghrelin  NetPath\n",
       "\n",
       "[12719 rows x 4 columns]"
      ]
     },
     "execution_count": 17,
     "metadata": {},
     "output_type": "execute_result"
    }
   ],
   "source": [
    "receptor_tf = lr_net.merge(pathways, on=['pathway'], how='inner')\n",
    "receptor_tf = receptor_tf[['interaction', 'target', 'pathway', 'database']]\n",
    "receptor_tf"
   ]
  },
  {
   "cell_type": "code",
   "execution_count": 19,
   "metadata": {},
   "outputs": [],
   "source": [
    "receptor_tf.to_csv('../../data/receptor_tf.csv', index=False)"
   ]
  },
  {
   "cell_type": "code",
   "execution_count": null,
   "metadata": {},
   "outputs": [],
   "source": []
  }
 ],
 "metadata": {
  "kernelspec": {
   "display_name": "spiana",
   "language": "python",
   "name": "python3"
  },
  "language_info": {
   "codemirror_mode": {
    "name": "ipython",
    "version": 3
   },
   "file_extension": ".py",
   "mimetype": "text/x-python",
   "name": "python",
   "nbconvert_exporter": "python",
   "pygments_lexer": "ipython3",
   "version": "3.10.10 | packaged by conda-forge | (main, Mar 24 2023, 20:08:06) [GCC 11.3.0]"
  },
  "orig_nbformat": 4,
  "vscode": {
   "interpreter": {
    "hash": "b688e7f183144fde965166e58483e32fc6dbc6fc380ccc51d49ef608da0385a8"
   }
  }
 },
 "nbformat": 4,
 "nbformat_minor": 2
}
