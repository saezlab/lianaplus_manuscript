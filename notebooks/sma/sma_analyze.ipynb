{
 "cells": [
  {
   "cell_type": "code",
   "execution_count": 1,
   "metadata": {},
   "outputs": [
    {
     "name": "stderr",
     "output_type": "stream",
     "text": [
      "/home/dbdimitrov/miniconda3/envs/spiana/lib/python3.10/site-packages/tqdm/auto.py:21: TqdmWarning: IProgress not found. Please update jupyter and ipywidgets. See https://ipywidgets.readthedocs.io/en/stable/user_install.html\n",
      "  from .autonotebook import tqdm as notebook_tqdm\n"
     ]
    }
   ],
   "source": [
    "import os\n",
    "import numpy as np\n",
    "import pandas as pd\n",
    "import scanpy as sc\n",
    "\n",
    "import muon as mu\n",
    "\n",
    "import warnings\n",
    "warnings.filterwarnings('ignore')"
   ]
  },
  {
   "cell_type": "code",
   "execution_count": 2,
   "metadata": {},
   "outputs": [],
   "source": [
    "import liana as li"
   ]
  },
  {
   "cell_type": "code",
   "execution_count": 3,
   "metadata": {},
   "outputs": [],
   "source": [
    "from functools import reduce"
   ]
  },
  {
   "cell_type": "code",
   "execution_count": 4,
   "metadata": {},
   "outputs": [],
   "source": [
    "path = os.path.join('..','..', 'data', 'sma')"
   ]
  },
  {
   "attachments": {},
   "cell_type": "markdown",
   "metadata": {},
   "source": [
    "## Load Prior Knowledge"
   ]
  },
  {
   "cell_type": "markdown",
   "metadata": {},
   "source": [
    "### Protein-metabolite interactions"
   ]
  },
  {
   "cell_type": "code",
   "execution_count": 5,
   "metadata": {},
   "outputs": [
    {
     "data": {
      "text/html": [
       "<div>\n",
       "<style scoped>\n",
       "    .dataframe tbody tr th:only-of-type {\n",
       "        vertical-align: middle;\n",
       "    }\n",
       "\n",
       "    .dataframe tbody tr th {\n",
       "        vertical-align: top;\n",
       "    }\n",
       "\n",
       "    .dataframe thead th {\n",
       "        text-align: right;\n",
       "    }\n",
       "</style>\n",
       "<table border=\"1\" class=\"dataframe\">\n",
       "  <thead>\n",
       "    <tr style=\"text-align: right;\">\n",
       "      <th></th>\n",
       "      <th>ligand</th>\n",
       "      <th>receptor</th>\n",
       "    </tr>\n",
       "  </thead>\n",
       "  <tbody>\n",
       "    <tr>\n",
       "      <th>1</th>\n",
       "      <td>HMDB0000112</td>\n",
       "      <td>GABRB2</td>\n",
       "    </tr>\n",
       "    <tr>\n",
       "      <th>3</th>\n",
       "      <td>HMDB0000216</td>\n",
       "      <td>ADRA2B</td>\n",
       "    </tr>\n",
       "    <tr>\n",
       "      <th>4</th>\n",
       "      <td>HMDB0000068</td>\n",
       "      <td>ADRA2B</td>\n",
       "    </tr>\n",
       "    <tr>\n",
       "      <th>20</th>\n",
       "      <td>HMDB0000148</td>\n",
       "      <td>GRM8</td>\n",
       "    </tr>\n",
       "    <tr>\n",
       "      <th>49</th>\n",
       "      <td>HMDB0000112</td>\n",
       "      <td>GABRA5</td>\n",
       "    </tr>\n",
       "  </tbody>\n",
       "</table>\n",
       "</div>"
      ],
      "text/plain": [
       "         ligand receptor\n",
       "1   HMDB0000112   GABRB2\n",
       "3   HMDB0000216   ADRA2B\n",
       "4   HMDB0000068   ADRA2B\n",
       "20  HMDB0000148     GRM8\n",
       "49  HMDB0000112   GABRA5"
      ]
     },
     "execution_count": 5,
     "metadata": {},
     "output_type": "execute_result"
    }
   ],
   "source": [
    "# Load metabolite receptor interactions\n",
    "metalinksdb = pd.read_csv(\"resources/metalinksdb_w_references.csv\")\n",
    "metalinksdb['ligand'] = metalinksdb['hmdb'].replace(to_replace='\"', value='', regex=True)\n",
    "metalinksdb['receptor'] = metalinksdb['gene_symbol'].replace(to_replace='\"', value='', regex=True)\n",
    "metalinksdb = metalinksdb[['ligand', 'receptor', 'source', 'reference']]\n",
    "resource = pd.read_csv(os.path.join(\"resources\", 'MR_brain_20230808.csv'), index_col=0)\n",
    "resource.head()"
   ]
  },
  {
   "cell_type": "markdown",
   "metadata": {},
   "source": [
    "### Export PK"
   ]
  },
  {
   "cell_type": "code",
   "execution_count": 6,
   "metadata": {},
   "outputs": [],
   "source": [
    "resource_out = resource.merge(metalinksdb, how='left')\n",
    "resource_out.to_csv(os.path.join(\"..\", \"..\", \"figures\", \"source\", \"MetaboliteReceptorPK.csv\"))"
   ]
  },
  {
   "attachments": {},
   "cell_type": "markdown",
   "metadata": {},
   "source": [
    "## Load Slides"
   ]
  },
  {
   "cell_type": "code",
   "execution_count": 7,
   "metadata": {},
   "outputs": [],
   "source": [
    "slides = pd.read_csv(os.path.join(path, \"sma_meta.csv\"), index_col=0).index\n",
    "exp = \"V11L12-109\" # V11T17-102 V11L12-109 V11T16-085"
   ]
  },
  {
   "cell_type": "code",
   "execution_count": 8,
   "metadata": {},
   "outputs": [
    {
     "name": "stdout",
     "output_type": "stream",
     "text": [
      "A1\n",
      "MuData object with n_obs × n_vars = 5015 × 17556\n",
      "  3 modalities\n",
      "    rna:\t2577 x 16260\n",
      "      obs:\t'in_tissue', 'array_row', 'array_col', 'x', 'y', 'lesion', 'region', 'n_genes_by_counts', 'log1p_n_genes_by_counts', 'total_counts', 'log1p_total_counts', 'pct_counts_in_top_50_genes', 'pct_counts_in_top_100_genes', 'pct_counts_in_top_200_genes', 'pct_counts_in_top_500_genes', 'total_counts_mt', 'log1p_total_counts_mt', 'pct_counts_mt', 'n_genes', 'n_counts'\n",
      "      var:\t'gene_ids', 'feature_types', 'genome', 'mt', 'n_cells_by_counts', 'mean_counts', 'log1p_mean_counts', 'pct_dropout_by_counts', 'total_counts', 'log1p_total_counts', 'n_cells'\n",
      "      uns:\t'lesion_colors', 'log1p', 'region_colors', 'spatial'\n",
      "      obsm:\t'spatial'\n",
      "      layers:\t'counts'\n",
      "    msi:\t2438 x 1248\n",
      "      obs:\t'x', 'y', 'array_row', 'array_col', 'leiden', 'n_counts', 'index_right', 'region', 'lesion'\n",
      "      var:\t'mean', 'std', 'mz', 'max_intensity', 'mz_raw', 'annotated'\n",
      "      uns:\t'leiden', 'leiden_colors', 'log1p', 'neighbors', 'pca', 'spatial'\n",
      "      obsm:\t'X_pca', 'spatial'\n",
      "      varm:\t'PCs'\n",
      "      layers:\t'raw'\n",
      "      obsp:\t'connectivities', 'distances'\n",
      "    deconv:\t2577 x 48\n",
      "      obs:\t'in_tissue', 'array_row', 'array_col', 'x', 'y', 'lesion', 'region', 'n_genes_by_counts', 'log1p_n_genes_by_counts', 'total_counts', 'log1p_total_counts', 'pct_counts_in_top_50_genes', 'pct_counts_in_top_100_genes', 'pct_counts_in_top_200_genes', 'pct_counts_in_top_500_genes', 'total_counts_mt', 'log1p_total_counts_mt', 'pct_counts_mt', 'n_genes', 'n_counts', 'uniform_density', 'rna_count_based_density'\n",
      "      uns:\t'lesion_colors', 'log1p', 'overlap_genes', 'region_colors', 'spatial', 'training_genes'\n",
      "      obsm:\t'spatial', 'tangram_ct_pred'\n",
      "B1\n",
      "MuData object with n_obs × n_vars = 6041 × 17782\n",
      "  3 modalities\n",
      "    rna:\t3036 x 16486\n",
      "      obs:\t'in_tissue', 'array_row', 'array_col', 'x', 'y', 'lesion', 'region', 'n_genes_by_counts', 'log1p_n_genes_by_counts', 'total_counts', 'log1p_total_counts', 'pct_counts_in_top_50_genes', 'pct_counts_in_top_100_genes', 'pct_counts_in_top_200_genes', 'pct_counts_in_top_500_genes', 'total_counts_mt', 'log1p_total_counts_mt', 'pct_counts_mt', 'n_genes', 'n_counts'\n",
      "      var:\t'gene_ids', 'feature_types', 'genome', 'mt', 'n_cells_by_counts', 'mean_counts', 'log1p_mean_counts', 'pct_dropout_by_counts', 'total_counts', 'log1p_total_counts', 'n_cells'\n",
      "      uns:\t'lesion_colors', 'log1p', 'region_colors', 'spatial'\n",
      "      obsm:\t'spatial'\n",
      "      layers:\t'counts'\n",
      "    msi:\t3005 x 1248\n",
      "      obs:\t'x', 'y', 'array_row', 'array_col', 'leiden', 'n_counts', 'index_right', 'region', 'lesion'\n",
      "      var:\t'mean', 'std', 'mz', 'max_intensity', 'mz_raw', 'annotated'\n",
      "      uns:\t'leiden', 'leiden_colors', 'log1p', 'neighbors', 'pca', 'spatial'\n",
      "      obsm:\t'X_pca', 'spatial'\n",
      "      varm:\t'PCs'\n",
      "      layers:\t'raw'\n",
      "      obsp:\t'connectivities', 'distances'\n",
      "    deconv:\t3036 x 48\n",
      "      obs:\t'in_tissue', 'array_row', 'array_col', 'x', 'y', 'lesion', 'region', 'n_genes_by_counts', 'log1p_n_genes_by_counts', 'total_counts', 'log1p_total_counts', 'pct_counts_in_top_50_genes', 'pct_counts_in_top_100_genes', 'pct_counts_in_top_200_genes', 'pct_counts_in_top_500_genes', 'total_counts_mt', 'log1p_total_counts_mt', 'pct_counts_mt', 'n_genes', 'n_counts', 'uniform_density', 'rna_count_based_density'\n",
      "      uns:\t'lesion_colors', 'log1p', 'overlap_genes', 'region_colors', 'spatial', 'training_genes'\n",
      "      obsm:\t'spatial', 'tangram_ct_pred'\n",
      "C1\n",
      "MuData object with n_obs × n_vars = 5895 × 18019\n",
      "  3 modalities\n",
      "    rna:\t2855 x 16723\n",
      "      obs:\t'in_tissue', 'array_row', 'array_col', 'x', 'y', 'lesion', 'region', 'n_genes_by_counts', 'log1p_n_genes_by_counts', 'total_counts', 'log1p_total_counts', 'pct_counts_in_top_50_genes', 'pct_counts_in_top_100_genes', 'pct_counts_in_top_200_genes', 'pct_counts_in_top_500_genes', 'total_counts_mt', 'log1p_total_counts_mt', 'pct_counts_mt', 'n_genes', 'n_counts'\n",
      "      var:\t'gene_ids', 'feature_types', 'genome', 'mt', 'n_cells_by_counts', 'mean_counts', 'log1p_mean_counts', 'pct_dropout_by_counts', 'total_counts', 'log1p_total_counts', 'n_cells'\n",
      "      uns:\t'lesion_colors', 'log1p', 'region_colors', 'spatial'\n",
      "      obsm:\t'spatial'\n",
      "      layers:\t'counts'\n",
      "    msi:\t3040 x 1248\n",
      "      obs:\t'x', 'y', 'array_row', 'array_col', 'leiden', 'n_counts', 'index_right', 'region', 'lesion'\n",
      "      var:\t'mean', 'std', 'mz', 'max_intensity', 'mz_raw', 'annotated'\n",
      "      uns:\t'leiden', 'leiden_colors', 'log1p', 'neighbors', 'pca', 'spatial'\n",
      "      obsm:\t'X_pca', 'spatial'\n",
      "      varm:\t'PCs'\n",
      "      layers:\t'raw'\n",
      "      obsp:\t'connectivities', 'distances'\n",
      "    deconv:\t2855 x 48\n",
      "      obs:\t'in_tissue', 'array_row', 'array_col', 'x', 'y', 'lesion', 'region', 'n_genes_by_counts', 'log1p_n_genes_by_counts', 'total_counts', 'log1p_total_counts', 'pct_counts_in_top_50_genes', 'pct_counts_in_top_100_genes', 'pct_counts_in_top_200_genes', 'pct_counts_in_top_500_genes', 'total_counts_mt', 'log1p_total_counts_mt', 'pct_counts_mt', 'n_genes', 'n_counts', 'uniform_density', 'rna_count_based_density'\n",
      "      uns:\t'lesion_colors', 'log1p', 'overlap_genes', 'region_colors', 'spatial', 'training_genes'\n",
      "      obsm:\t'spatial', 'tangram_ct_pred'\n"
     ]
    }
   ],
   "source": [
    "hvg = []\n",
    "hvm = []\n",
    "hvc = []\n",
    "mdatas = {}\n",
    "\n",
    "for slide in slides:    \n",
    "    slide_path = os.path.join(path, exp, f\"{exp}_{slide}\", \"output_data\")\n",
    "    mdatas[slide] = mu.read_h5mu(os.path.join(slide_path, \"sma.h5mu\"))\n",
    "    \n",
    "    print(slide)\n",
    "    print(mdatas[slide])\n",
    "    \n",
    "    msi = mdatas[slide].mod[\"msi\"]\n",
    "    rna = mdatas[slide].mod[\"rna\"]\n",
    "    ct = mdatas[slide].mod[\"deconv\"]\n",
    "    \n",
    "    # Keep most variable metabolites\n",
    "    sc.pp.highly_variable_genes(msi, flavor='cell_ranger', n_top_genes=250)\n",
    "    \n",
    "    # Remove predictors with no variation \n",
    "    sc.pp.highly_variable_genes(rna, flavor='cell_ranger', n_top_genes=12500)\n",
    "    ct.var['cv'] = ct.X.var(axis=0) / ct.X.mean(axis=0)\n",
    "    ct.var['highly_variable'] = ct.var['cv'] > np.percentile(ct.var['cv'], 20)\n",
    "    \n",
    "    msk = (msi.var['highly_variable'].values)\n",
    "    hvm.append(list(msi.var[msk].index))\n",
    "    hvg.append(list(rna.var[rna.var['highly_variable']].index))\n",
    "    hvc.append(list(ct.var[ct.var['highly_variable']].index))"
   ]
  },
  {
   "cell_type": "code",
   "execution_count": 9,
   "metadata": {},
   "outputs": [],
   "source": [
    "# Common highly-variable metabolite peaks\n",
    "hvm = reduce(np.intersect1d, hvm)\n",
    "hvg = reduce(np.intersect1d, hvg)\n",
    "hvc = reduce(np.intersect1d, hvc)"
   ]
  },
  {
   "cell_type": "code",
   "execution_count": 10,
   "metadata": {},
   "outputs": [],
   "source": [
    "# only keep hvg receptors\n",
    "resource['receptor'] = resource['receptor'].str.title()\n",
    "receptors = resource['receptor'].unique()\n",
    "receptors = receptors[np.isin(receptors, hvg)]"
   ]
  },
  {
   "cell_type": "code",
   "execution_count": 11,
   "metadata": {},
   "outputs": [
    {
     "name": "stdout",
     "output_type": "stream",
     "text": [
      "83 45 37\n"
     ]
    }
   ],
   "source": [
    "# check if predictor n are somewhat comparable\n",
    "print(len(hvm), len(receptors), len(hvc))"
   ]
  },
  {
   "attachments": {},
   "cell_type": "markdown",
   "metadata": {},
   "source": [
    "## Run MISTy"
   ]
  },
  {
   "cell_type": "code",
   "execution_count": 12,
   "metadata": {},
   "outputs": [
    {
     "name": "stderr",
     "output_type": "stream",
     "text": [
      "view intra is not a csr_matrix. Converting to csr_matrix\n",
      "view ct is not a csr_matrix. Converting to csr_matrix\n",
      "Now learning: Dopamine masked by lesioned: 100%|██████████| 83/83 [00:18<00:00,  4.39it/s]\n",
      "view intra is not a csr_matrix. Converting to csr_matrix\n",
      "view ct is not a csr_matrix. Converting to csr_matrix\n",
      "Now learning: Dopamine masked by lesioned: 100%|██████████| 83/83 [00:13<00:00,  6.25it/s]\n",
      "view intra is not a csr_matrix. Converting to csr_matrix\n",
      "view ct is not a csr_matrix. Converting to csr_matrix\n",
      "Now learning: Dopamine masked by lesioned: 100%|██████████| 83/83 [00:13<00:00,  6.30it/s]\n"
     ]
    }
   ],
   "source": [
    "interaction_list = {}\n",
    "target_list = {}\n",
    "bandwidth=1000\n",
    "cutoff=0.1\n",
    "\n",
    "for slide in slides:\n",
    "    mdata = mdatas[slide]\n",
    "    \n",
    "    msi = mdata.mod[\"msi\"]\n",
    "    msi = msi[:, hvm].copy()\n",
    "    sc.pp.scale(msi, max_value=5)\n",
    "    msi.X[msi.X < 0] = 0\n",
    "    \n",
    "    # distances of metabolties to RNA\n",
    "    reference = mdata.mod[\"msi\"].obsm[\"spatial\"]\n",
    "    \n",
    "    deconv = mdata.mod[\"deconv\"][:, hvc]\n",
    "    li.ut.spatial_neighbors(deconv, bandwidth=bandwidth, cutoff=cutoff, spatial_key=\"spatial\", reference=reference, set_diag=False, standardize=False)\n",
    "    \n",
    "    rna = mdata.mod[\"rna\"]\n",
    "    li.ut.spatial_neighbors(rna, bandwidth=bandwidth, cutoff=cutoff, spatial_key=\"spatial\", reference=reference, set_diag=False, standardize=False)\n",
    "    \n",
    "    # Subset RNA to metabolite receptors only\n",
    "    rec = rna[:, receptors].copy()\n",
    "\n",
    "    # MISTy\n",
    "    mdata.update_obs()\n",
    "    \n",
    "    misty = li.mt.MistyData({\"intra\": msi, \"receptor\": rec, \"ct\": deconv}, enforce_obs=False, obs=mdata.obs)\n",
    "    misty(model=\"linear\", verbose=True, bypass_intra=True, maskby='lesion')\n",
    "    \n",
    "    interaction_list[slide] = misty.uns['interactions'].copy()\n",
    "    target_list[slide] = misty.uns['target_metrics'].copy()\n",
    "\n",
    "    mdata.write_h5mu(os.path.join('results', f\"{slide}_misty.h5mu\"))\n"
   ]
  },
  {
   "cell_type": "code",
   "execution_count": 13,
   "metadata": {},
   "outputs": [],
   "source": [
    "interactions = pd.concat(interaction_list).reset_index(names=['slide', 'ind']).drop(columns=['ind'])\n",
    "target_metrics = pd.concat(target_list).reset_index(names=['slide', 'ind']).drop(columns=['ind'])"
   ]
  },
  {
   "cell_type": "code",
   "execution_count": 14,
   "metadata": {},
   "outputs": [],
   "source": [
    "interactions.to_csv(os.path.join('results', \"interactions.csv\"), index=False)\n",
    "target_metrics.fillna(0, inplace=True)\n",
    "target_metrics.to_csv(os.path.join(\"results\", \"target_metrics.csv\"), index=False)"
   ]
  },
  {
   "cell_type": "markdown",
   "metadata": {},
   "source": [
    "## Run Local Scores"
   ]
  },
  {
   "cell_type": "code",
   "execution_count": 15,
   "metadata": {},
   "outputs": [
    {
     "name": "stderr",
     "output_type": "stream",
     "text": [
      "Using provided `interactions`.\n",
      "Using `.X`!\n",
      "Using `.X`!\n",
      "Converting to sparse csr matrix!\n",
      "Using `.X`!\n",
      "Converting to sparse csr matrix!\n"
     ]
    },
    {
     "name": "stdout",
     "output_type": "stream",
     "text": [
      "Transforming msi using scale\n",
      "Transforming deconv using scale\n"
     ]
    },
    {
     "name": "stderr",
     "output_type": "stream",
     "text": [
      "100%|██████████| 1000/1000 [00:00<00:00, 1380.99it/s]\n",
      "Using provided `interactions`.\n",
      "Using `.X`!\n",
      "Using `.X`!\n"
     ]
    },
    {
     "name": "stdout",
     "output_type": "stream",
     "text": [
      "Transforming msi using scale\n",
      "Transforming rna using scale\n"
     ]
    },
    {
     "name": "stderr",
     "output_type": "stream",
     "text": [
      "Using `.X`!\n",
      "Converting to sparse csr matrix!\n",
      "100%|██████████| 1000/1000 [00:00<00:00, 8349.13it/s]\n",
      "... storing 'x' as categorical\n",
      "Using provided `interactions`.\n",
      "Using `.X`!\n",
      "Using `.X`!\n",
      "Converting to sparse csr matrix!\n",
      "Using `.X`!\n",
      "Converting to sparse csr matrix!\n"
     ]
    },
    {
     "name": "stdout",
     "output_type": "stream",
     "text": [
      "Transforming msi using scale\n",
      "Transforming deconv using scale\n"
     ]
    },
    {
     "name": "stderr",
     "output_type": "stream",
     "text": [
      "100%|██████████| 1000/1000 [00:00<00:00, 1090.35it/s]\n",
      "Using provided `interactions`.\n",
      "Using `.X`!\n",
      "Using `.X`!\n"
     ]
    },
    {
     "name": "stdout",
     "output_type": "stream",
     "text": [
      "Transforming msi using scale\n",
      "Transforming rna using scale\n"
     ]
    },
    {
     "name": "stderr",
     "output_type": "stream",
     "text": [
      "Using `.X`!\n",
      "Converting to sparse csr matrix!\n",
      "1 features of mat are empty, they will be removed.\n",
      "100%|██████████| 1000/1000 [00:00<00:00, 5829.37it/s]\n",
      "... storing 'x' as categorical\n",
      "Using provided `interactions`.\n",
      "Using `.X`!\n",
      "Using `.X`!\n",
      "Converting to sparse csr matrix!\n",
      "Using `.X`!\n",
      "Converting to sparse csr matrix!\n"
     ]
    },
    {
     "name": "stdout",
     "output_type": "stream",
     "text": [
      "Transforming msi using scale\n",
      "Transforming deconv using scale\n"
     ]
    },
    {
     "name": "stderr",
     "output_type": "stream",
     "text": [
      "100%|██████████| 1000/1000 [00:00<00:00, 1252.91it/s]\n",
      "Using provided `interactions`.\n",
      "Using `.X`!\n",
      "Using `.X`!\n"
     ]
    },
    {
     "name": "stdout",
     "output_type": "stream",
     "text": [
      "Transforming msi using scale\n",
      "Transforming rna using scale\n"
     ]
    },
    {
     "name": "stderr",
     "output_type": "stream",
     "text": [
      "Using `.X`!\n",
      "Converting to sparse csr matrix!\n",
      "100%|██████████| 1000/1000 [00:00<00:00, 7474.89it/s]\n",
      "... storing 'x' as categorical\n"
     ]
    }
   ],
   "source": [
    "for slide in slides:\n",
    "    mdata = mdatas[slide]\n",
    "    rna = mdata.mod[\"rna\"]\n",
    "    msi = mdata.mod[\"msi\"]\n",
    "    deconv = mdata.mod[\"deconv\"]\n",
    "    \n",
    "    # interpolate\n",
    "    ad = li.ut.interpolate_adata(target=msi, reference=rna, use_raw=False, spatial_key='spatial')\n",
    "    \n",
    "    mdata = mu.MuData({'msi': ad, 'rna':rna, 'deconv':deconv}, obsm=rna.obsm, obs=rna.obs, uns=rna.uns)\n",
    "    li.ut.spatial_neighbors(mdata, bandwidth=bandwidth, cutoff=cutoff, set_diag=True)\n",
    "\n",
    "    li.mt.bivar(mdata, \n",
    "                function_name='cosine',\n",
    "                x_mod='msi', \n",
    "                y_mod='deconv',\n",
    "                x_use_raw=False, \n",
    "                y_use_raw=False,\n",
    "                verbose=True, \n",
    "                mask_negatives=True, \n",
    "                add_categories=True,\n",
    "                n_perms=1000,\n",
    "                interactions = [('Dopamine', 'MSN1'),\n",
    "                                ('Dopamine', 'MSN2')],\n",
    "                x_transform=sc.pp.scale,\n",
    "                y_transform=sc.pp.scale,\n",
    "                mod_added='msi_ct'\n",
    "                )\n",
    "\n",
    "\n",
    "    li.mt.bivar(mdata, \n",
    "                function_name='cosine',\n",
    "                x_mod='msi', \n",
    "                y_mod='rna',\n",
    "                x_use_raw=False, \n",
    "                y_use_raw=False,\n",
    "                verbose=True, \n",
    "                mask_negatives=True, \n",
    "                add_categories=True,\n",
    "                n_perms=1000,\n",
    "                interactions = [('Dopamine', 'Drd2')],\n",
    "                x_transform=sc.pp.scale,\n",
    "                y_transform=sc.pp.scale,\n",
    "                mod_added='lr'\n",
    "                )\n",
    "    \n",
    "    mdata.update_obs()\n",
    "    mdata.update_var()\n",
    "    mdata.write_h5mu(os.path.join('results', f\"{slide}_local.h5mu\"))"
   ]
  },
  {
   "cell_type": "code",
   "execution_count": null,
   "metadata": {},
   "outputs": [],
   "source": []
  }
 ],
 "metadata": {
  "kernelspec": {
   "display_name": "spiana",
   "language": "python",
   "name": "python3"
  },
  "language_info": {
   "codemirror_mode": {
    "name": "ipython",
    "version": 3
   },
   "file_extension": ".py",
   "mimetype": "text/x-python",
   "name": "python",
   "nbconvert_exporter": "python",
   "pygments_lexer": "ipython3",
   "version": "3.10.13"
  },
  "orig_nbformat": 4
 },
 "nbformat": 4,
 "nbformat_minor": 2
}
