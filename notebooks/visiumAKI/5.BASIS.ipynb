{
 "cells": [
  {
   "attachments": {},
   "cell_type": "markdown",
   "metadata": {},
   "source": [
    "# Run BASIS"
   ]
  },
  {
   "attachments": {},
   "cell_type": "markdown",
   "metadata": {},
   "source": [
    "## Setup Env"
   ]
  },
  {
   "cell_type": "code",
   "execution_count": 1,
   "metadata": {},
   "outputs": [],
   "source": [
    "import os, fnmatch\n",
    "\n",
    "import numpy as np\n",
    "import pandas as pd\n",
    "\n",
    "import scanpy as sc\n",
    "import squidpy as sq\n",
    "import mudata as mu"
   ]
  },
  {
   "cell_type": "code",
   "execution_count": 2,
   "metadata": {},
   "outputs": [],
   "source": [
    "import liana as li\n",
    "from liana.method.sp import basis"
   ]
  },
  {
   "cell_type": "code",
   "execution_count": 3,
   "metadata": {},
   "outputs": [],
   "source": [
    "import decoupler as dc\n",
    "import seaborn as sns"
   ]
  },
  {
   "cell_type": "code",
   "execution_count": 6,
   "metadata": {},
   "outputs": [],
   "source": [
    "data_dir = \"../../data/kidney_injury/visium\""
   ]
  },
  {
   "cell_type": "code",
   "execution_count": null,
   "metadata": {},
   "outputs": [],
   "source": []
  },
  {
   "cell_type": "code",
   "execution_count": 7,
   "metadata": {},
   "outputs": [],
   "source": [
    "# consider making this compatible to squidpy params (e.g. bypass_diagonal -> set_diag)\n",
    "# li.mt.get_spatial_proximity(adata=mdata, parameter=200, bypass_diagonal=False, cutoff=0.2)"
   ]
  },
  {
   "attachments": {},
   "cell_type": "markdown",
   "metadata": {},
   "source": [
    "## Load Processed Objects"
   ]
  },
  {
   "attachments": {},
   "cell_type": "markdown",
   "metadata": {},
   "source": [
    "### Load Visium"
   ]
  },
  {
   "cell_type": "code",
   "execution_count": 8,
   "metadata": {},
   "outputs": [],
   "source": [
    "slides = fnmatch.filter(os.listdir(os.path.join(data_dir, 'mdatas')), '*.h5ad')"
   ]
  },
  {
   "cell_type": "code",
   "execution_count": 9,
   "metadata": {},
   "outputs": [
    {
     "name": "stdout",
     "output_type": "stream",
     "text": [
      "f12hr\n"
     ]
    },
    {
     "name": "stderr",
     "output_type": "stream",
     "text": [
      "/home/dbdimitrov/anaconda3/envs/spiana/lib/python3.10/site-packages/mudata/_core/mudata.py:458: UserWarning: Cannot join columns with the same name because var_names are intersecting.\n"
     ]
    },
    {
     "name": "stdout",
     "output_type": "stream",
     "text": [
      "f2dps\n"
     ]
    },
    {
     "name": "stderr",
     "output_type": "stream",
     "text": [
      "/home/dbdimitrov/anaconda3/envs/spiana/lib/python3.10/site-packages/mudata/_core/mudata.py:458: UserWarning: Cannot join columns with the same name because var_names are intersecting.\n"
     ]
    },
    {
     "name": "stdout",
     "output_type": "stream",
     "text": [
      "f4hr\n"
     ]
    },
    {
     "name": "stderr",
     "output_type": "stream",
     "text": [
      "/home/dbdimitrov/anaconda3/envs/spiana/lib/python3.10/site-packages/mudata/_core/mudata.py:458: UserWarning: Cannot join columns with the same name because var_names are intersecting.\n"
     ]
    },
    {
     "name": "stdout",
     "output_type": "stream",
     "text": [
      "f6wks\n"
     ]
    },
    {
     "name": "stderr",
     "output_type": "stream",
     "text": [
      "/home/dbdimitrov/anaconda3/envs/spiana/lib/python3.10/site-packages/mudata/_core/mudata.py:458: UserWarning: Cannot join columns with the same name because var_names are intersecting.\n"
     ]
    },
    {
     "name": "stdout",
     "output_type": "stream",
     "text": [
      "fsham\n"
     ]
    },
    {
     "name": "stderr",
     "output_type": "stream",
     "text": [
      "/home/dbdimitrov/anaconda3/envs/spiana/lib/python3.10/site-packages/mudata/_core/mudata.py:458: UserWarning: Cannot join columns with the same name because var_names are intersecting.\n"
     ]
    }
   ],
   "source": [
    "mdatas = dict()\n",
    "for slide in slides:\n",
    "    sample = slide[:-5].split('_')[0]\n",
    "    print(sample)\n",
    "    \n",
    "    mdata = mu.read_h5mu(os.path.join(data_dir, 'mdatas', sample + '.h5ad'))\n",
    "    mdata.obsm['spatial'] = mdata.mod['rna'].obsm['spatial']\n",
    "    mdata.uns['spatial'] = mdata.mod['rna'].uns['spatial']\n",
    "    \n",
    "    sq.gr.spatial_neighbors(mdata, n_rings=1, coord_type=\"grid\", n_neighs=6, set_diag=True)\n",
    "    \n",
    "    mdatas[sample] = mdata\n",
    "    "
   ]
  },
  {
   "cell_type": "code",
   "execution_count": null,
   "metadata": {},
   "outputs": [],
   "source": []
  },
  {
   "attachments": {},
   "cell_type": "markdown",
   "metadata": {},
   "source": [
    "## Basis"
   ]
  },
  {
   "attachments": {},
   "cell_type": "markdown",
   "metadata": {},
   "source": [
    "Ligand to Cytokine Signatures"
   ]
  },
  {
   "cell_type": "code",
   "execution_count": null,
   "metadata": {},
   "outputs": [],
   "source": [
    "# load map of genes to cytosig signatures\n",
    "cytosig_map = pd.read_csv('../cytosig_map.csv')\n",
    "# Translate targets\n",
    "cytosig_map = dc.translate_net(cytosig_map, target_organism = 'mouse', columns=['gene'])\n",
    "cytosig_map.head()"
   ]
  },
  {
   "cell_type": "code",
   "execution_count": null,
   "metadata": {},
   "outputs": [],
   "source": [
    "# Cytokine expr to Cytosig Siagntures interactions\n",
    "interactions = list(zip(cytosig_map['gene'], cytosig_map['signature']))"
   ]
  },
  {
   "attachments": {},
   "cell_type": "markdown",
   "metadata": {},
   "source": [
    "Receptor to TF"
   ]
  },
  {
   "cell_type": "code",
   "execution_count": null,
   "metadata": {},
   "outputs": [],
   "source": [
    "# interaction to Dorothea TFs links\n",
    "receptor_tf = pd.read_csv(\"../../data/receptor_tf.csv\")\n",
    "receptor_tf = receptor_tf[['interaction', 'target']].drop_duplicates()\n",
    "\n",
    "## TODO change basis lr_sep to `^`\n",
    "receptor_tf['interaction'] = receptor_tf['interaction'].str.replace('^', '&', regex=False)\n",
    "\n",
    "\n",
    "receptor_tf_links = list(zip(receptor_tf['interaction'], receptor_tf['target']))"
   ]
  },
  {
   "cell_type": "code",
   "execution_count": null,
   "metadata": {},
   "outputs": [],
   "source": []
  },
  {
   "attachments": {},
   "cell_type": "markdown",
   "metadata": {},
   "source": [
    "## Run Basis on every sample"
   ]
  },
  {
   "cell_type": "code",
   "execution_count": null,
   "metadata": {},
   "outputs": [],
   "source": [
    "for sample in mdatas.keys():\n",
    "      \n",
    "      mdata = mdatas[sample]\n",
    "      \n",
    "      # ligand -> Cytokine\n",
    "      basis(mdata, function_name='pearson', \n",
    "            x_mod='rna',\n",
    "            y_mod='cytosig',\n",
    "            interactions=interactions,\n",
    "            proximity_key='spatial_connectivities',\n",
    "            mod_added = 'lig_cytosig'\n",
    "            )\n",
    "      \n",
    "      # LR -> TF\n",
    "      basis(mdata,\n",
    "            function_name='cosine', # morans sucks\n",
    "            x_mod='lrs',\n",
    "            y_mod='dorothea',\n",
    "            interactions=receptor_tf_links,\n",
    "            proximity_key='spatial_connectivities',\n",
    "            mod_added = 'lrs_tf',\n",
    "            key_added = 'lr_tf_global'\n",
    "            )\n",
    "      \n",
    "      # PROGENy -> NMF      \n",
    "      basis(mdata, function_name='cosine', \n",
    "            x_mod='progeny',\n",
    "            y_mod='nmf',\n",
    "            proximity_key='spatial_connectivities',\n",
    "            mod_added = 'progeny_nmf'\n",
    "            )\n",
    "      \n",
    "      # Tangram -> NMF      \n",
    "      basis(mdata, function_name='spearman', \n",
    "            x_mod='tangram',\n",
    "            y_mod='nmf',\n",
    "            proximity_key='spatial_connectivities',\n",
    "            mod_added = 'tangram_nmf'\n",
    "            )\n",
    "      "
   ]
  },
  {
   "cell_type": "code",
   "execution_count": null,
   "metadata": {},
   "outputs": [],
   "source": []
  },
  {
   "attachments": {},
   "cell_type": "markdown",
   "metadata": {},
   "source": [
    "## Ligand to Signature"
   ]
  },
  {
   "cell_type": "code",
   "execution_count": null,
   "metadata": {},
   "outputs": [],
   "source": [
    "for sample in mdatas.keys():\n",
    "    cyto = mdatas[sample].mod['lig_cytosig']\n",
    "    \n",
    "    # names = cyto.var_names[cyto.var_names.str.contains('TGFB1')]\n",
    "    names = cyto.var_names\n",
    "    \n",
    "    print(sample)\n",
    "    sc.pl.spatial(cyto, color=names, cmap='coolwarm', vmax=1, vmin=-1) #, title=sample)"
   ]
  },
  {
   "cell_type": "code",
   "execution_count": null,
   "metadata": {},
   "outputs": [],
   "source": []
  },
  {
   "attachments": {},
   "cell_type": "markdown",
   "metadata": {},
   "source": [
    "## Interaction to TF"
   ]
  },
  {
   "attachments": {},
   "cell_type": "markdown",
   "metadata": {},
   "source": [
    "##### get top 10 most correlated LR->TFs for each sample"
   ]
  },
  {
   "cell_type": "code",
   "execution_count": null,
   "metadata": {},
   "outputs": [],
   "source": [
    "top_interactions = list()\n",
    "\n",
    "nmf_vars = dict()\n",
    "factor_names = mdatas['f12hr'].mod['nmf'].var.index\n",
    "\n",
    "for sample in mdatas.keys():\n",
    "    global_res = mdatas[sample].mod['lig_cytosig'].uns['lr_tf_global']\n",
    "    global_res = global_res.sort_values('global_sd', ascending=False).head(5)\n",
    "    top_interactions.append(global_res[['interaction']])\n",
    "    \n",
    "    "
   ]
  },
  {
   "cell_type": "code",
   "execution_count": null,
   "metadata": {},
   "outputs": [],
   "source": [
    "top_interactions = np.unique(top_interactions)\n",
    "top_interactions"
   ]
  },
  {
   "cell_type": "code",
   "execution_count": null,
   "metadata": {},
   "outputs": [],
   "source": [
    "# plot top interactions\n",
    "for sample in mdatas.keys():\n",
    "    lrs_tf = mdatas[sample].mod['lrs_tf']\n",
    "    \n",
    "    top = top_interactions[np.isin(top_interactions, lrs_tf.var_names)]\n",
    "    \n",
    "    print(sample)\n",
    "    sc.pl.spatial(lrs_tf, color=top, cmap='coolwarm') #, vmin=-1, title=sample)"
   ]
  },
  {
   "cell_type": "markdown",
   "metadata": {},
   "source": [
    "##### alternatively focus only on interactions in the factor specific to the recovery"
   ]
  },
  {
   "cell_type": "code",
   "execution_count": null,
   "metadata": {},
   "outputs": [],
   "source": [
    "lrdata = sc.read_h5ad(os.path.join(\"../../data/kidney_injury/lrs_all_factors.h5ad\"))"
   ]
  },
  {
   "cell_type": "code",
   "execution_count": null,
   "metadata": {},
   "outputs": [],
   "source": [
    "factor_names = mdatas['f12hr'].mod['nmf'].var.index"
   ]
  },
  {
   "cell_type": "code",
   "execution_count": null,
   "metadata": {},
   "outputs": [],
   "source": [
    "lr_loadings = pd.DataFrame(lrdata.varm['NMF_H'], index=lrdata.var.index, columns=factor_names)"
   ]
  },
  {
   "cell_type": "code",
   "execution_count": null,
   "metadata": {},
   "outputs": [],
   "source": [
    "lr_loadings.to_csv(os.path.join(\"../../data/kidney_injury/lr_loadings.csv\"))"
   ]
  },
  {
   "cell_type": "code",
   "execution_count": null,
   "metadata": {},
   "outputs": [],
   "source": []
  },
  {
   "cell_type": "code",
   "execution_count": null,
   "metadata": {},
   "outputs": [],
   "source": [
    "top_loadings = lr_loadings.sort_values('Factor3', ascending=False).head(20).index"
   ]
  },
  {
   "cell_type": "code",
   "execution_count": null,
   "metadata": {},
   "outputs": [],
   "source": []
  },
  {
   "cell_type": "code",
   "execution_count": null,
   "metadata": {},
   "outputs": [],
   "source": [
    "# plot top interactions\n",
    "from functools import reduce\n",
    "for sample in mdatas.keys():\n",
    "    lrs_tf = mdatas[sample].mod['lrs_tf']\n",
    "    \n",
    "    top = reduce(np.union1d, [lrs_tf.var_names[lrs_tf.var_names.str.contains(lr)] for lr in top_loadings])\n",
    "    \n",
    "    print(sample)\n",
    "    sc.pl.spatial(lrs_tf, color=top, cmap='coolwarm') #, vmin=-1, title=sample)"
   ]
  },
  {
   "cell_type": "code",
   "execution_count": null,
   "metadata": {},
   "outputs": [],
   "source": []
  },
  {
   "attachments": {},
   "cell_type": "markdown",
   "metadata": {},
   "source": [
    "## NMF to PROGENy"
   ]
  },
  {
   "cell_type": "code",
   "execution_count": null,
   "metadata": {},
   "outputs": [],
   "source": [
    "for sample in mdatas.keys():\n",
    "    pronmf = mdatas[sample].mod['progeny_nmf']\n",
    "    \n",
    "    names = pronmf.var_names[pronmf.var_names.str.contains('Factor8')]\n",
    "    \n",
    "    print(sample)\n",
    "    sc.pl.spatial(pronmf, color=names, cmap='coolwarm') #, title=sample)"
   ]
  },
  {
   "cell_type": "code",
   "execution_count": null,
   "metadata": {},
   "outputs": [],
   "source": []
  },
  {
   "attachments": {},
   "cell_type": "markdown",
   "metadata": {},
   "source": [
    "## Deconv props x NFM"
   ]
  },
  {
   "cell_type": "code",
   "execution_count": null,
   "metadata": {},
   "outputs": [],
   "source": [
    "for sample in mdatas.keys():\n",
    "    view = mdatas[sample].mod['tangram_nmf']\n",
    "    \n",
    "    names = view.var_names[view.var_names.str.contains('Factor3')]\n",
    "    \n",
    "    print(sample)\n",
    "    sc.pl.spatial(view, color=names, cmap='cividis') #, title=sample)"
   ]
  },
  {
   "cell_type": "code",
   "execution_count": null,
   "metadata": {},
   "outputs": [],
   "source": []
  },
  {
   "cell_type": "code",
   "execution_count": null,
   "metadata": {},
   "outputs": [],
   "source": []
  }
 ],
 "metadata": {
  "kernelspec": {
   "display_name": "spiana",
   "language": "python",
   "name": "python3"
  },
  "language_info": {
   "codemirror_mode": {
    "name": "ipython",
    "version": 3
   },
   "file_extension": ".py",
   "mimetype": "text/x-python",
   "name": "python",
   "nbconvert_exporter": "python",
   "pygments_lexer": "ipython3",
   "version": "3.10.10 | packaged by conda-forge | (main, Mar 24 2023, 20:08:06) [GCC 11.3.0]"
  },
  "orig_nbformat": 4,
  "vscode": {
   "interpreter": {
    "hash": "b688e7f183144fde965166e58483e32fc6dbc6fc380ccc51d49ef608da0385a8"
   }
  }
 },
 "nbformat": 4,
 "nbformat_minor": 2
}
