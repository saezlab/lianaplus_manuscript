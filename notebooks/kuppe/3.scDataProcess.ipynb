{
 "cells": [
  {
   "cell_type": "markdown",
   "metadata": {},
   "source": [
    "# Process Full Dataset"
   ]
  },
  {
   "cell_type": "code",
   "execution_count": 1,
   "metadata": {},
   "outputs": [],
   "source": [
    "import os\n",
    "import sys\n",
    "import numpy as np\n",
    "import pandas as pd\n",
    "\n",
    "import scanpy as sc\n",
    "import liana as li\n",
    "from utils import filter_samples\n"
   ]
  },
  {
   "cell_type": "code",
   "execution_count": 2,
   "metadata": {},
   "outputs": [],
   "source": [
    "groupby = 'cell_type_original' # NOTE: the same cell types but readable\n",
    "sample_key = 'sample'\n",
    "condition_key = 'patient_group'\n",
    "min_cells_per_sample = 1000\n",
    "sample_zcounts_max = 3\n",
    "sample_zcounts_min = -2\n",
    "min_cells = 20\n",
    "min_samples = 5\n",
    "change_var_to = 'feature_name'"
   ]
  },
  {
   "cell_type": "code",
   "execution_count": null,
   "metadata": {},
   "outputs": [],
   "source": []
  },
  {
   "cell_type": "code",
   "execution_count": 3,
   "metadata": {},
   "outputs": [],
   "source": [
    "resource = pd.read_csv(os.path.join('results', 'lr_pairs.csv'))\n",
    "cell_pairs = pd.read_csv(os.path.join('results', 'cell_pairs.csv'))"
   ]
  },
  {
   "cell_type": "code",
   "execution_count": 4,
   "metadata": {},
   "outputs": [],
   "source": [
    "exact_abbreviations = {\n",
    "    'Adipocyte': 'AD',\n",
    "    'Cardiomyocyte': 'CM',\n",
    "    'Endothelial': 'EN',\n",
    "    'Fibroblast': 'FB',\n",
    "    'Pericyte': 'PC',\n",
    "    'Proliferating': 'PR',\n",
    "    'Vascular_SMCs': 'VM',\n",
    "    'Neuronal': 'NE',\n",
    "    'Myeloid': 'MY',\n",
    "    'Mast': 'MA',\n",
    "    'Lymphoid': 'LY',\n",
    "    'Cycling cells': 'CC'\n",
    "}"
   ]
  },
  {
   "cell_type": "code",
   "execution_count": null,
   "metadata": {},
   "outputs": [],
   "source": []
  },
  {
   "cell_type": "markdown",
   "metadata": {},
   "source": [
    "Filter"
   ]
  },
  {
   "cell_type": "code",
   "execution_count": 5,
   "metadata": {},
   "outputs": [
    {
     "name": "stdout",
     "output_type": "stream",
     "text": [
      "               sample\n",
      "patient_group        \n",
      "fibrotic            5\n",
      "ischemic           10\n",
      "myogenic           13\n"
     ]
    }
   ],
   "source": [
    "adata = sc.read_h5ad(os.path.join('..' ,'classification', 'data', 'kuppe.h5ad'), backed='r')\n",
    "adata.obs[[condition_key, sample_key]].drop_duplicates().groupby(condition_key).count()\n",
    "# remap\n",
    "remap = {'vSMCs':'Vascular_SMCs'}\n",
    "adata.obs[groupby].replace(remap, inplace=True)\n",
    "adata.obs[groupby]\n",
    "adata = adata.to_memory().raw.to_adata()\n",
    "adata = filter_samples(adata,\n",
    "                        sample_key = sample_key,\n",
    "                        condition_key = condition_key,\n",
    "                        min_cells_per_sample= min_cells_per_sample,\n",
    "                        sample_zcounts_max = sample_zcounts_max,\n",
    "                        sample_zcounts_min = sample_zcounts_min)\n"
   ]
  },
  {
   "cell_type": "code",
   "execution_count": 6,
   "metadata": {},
   "outputs": [
    {
     "name": "stderr",
     "output_type": "stream",
     "text": [
      "/home/dbdimitrov/miniconda3/envs/spiana/lib/python3.10/site-packages/scanpy/preprocessing/_simple.py:275: ImplicitModificationWarning: Trying to modify attribute `.var` of view, initializing view as actual.\n"
     ]
    }
   ],
   "source": [
    "sc.pp.filter_genes(adata, min_cells=min_cells)\n",
    "adata.var.index = adata.var[change_var_to]\n",
    "adata.layers['counts'] = adata.X.copy()\n",
    "# Normalize\n",
    "sc.pp.normalize_total(adata, target_sum=1e4)\n",
    "sc.pp.log1p(adata)"
   ]
  },
  {
   "cell_type": "code",
   "execution_count": 7,
   "metadata": {},
   "outputs": [],
   "source": [
    "# abbrevaite\n",
    "adata.obs[groupby] = adata.obs[groupby].replace(exact_abbreviations)"
   ]
  },
  {
   "cell_type": "code",
   "execution_count": 8,
   "metadata": {},
   "outputs": [],
   "source": [
    "adata.obs[groupby] = adata.obs[groupby].astype('str')"
   ]
  },
  {
   "cell_type": "markdown",
   "metadata": {},
   "source": [
    "LIANA"
   ]
  },
  {
   "cell_type": "code",
   "execution_count": 9,
   "metadata": {},
   "outputs": [
    {
     "name": "stderr",
     "output_type": "stream",
     "text": [
      "Now running: CK158:   0%|          | 0/28 [00:00<?, ?it/s]/home/dbdimitrov/miniconda3/envs/spiana/lib/python3.10/site-packages/anndata/_core/aligned_df.py:67: ImplicitModificationWarning: Transforming to str index.\n",
      "/home/dbdimitrov/miniconda3/envs/spiana/lib/python3.10/site-packages/anndata/_core/anndata.py:430: FutureWarning: The dtype argument is deprecated and will be removed in late 2024.\n",
      "/home/dbdimitrov/miniconda3/envs/spiana/lib/python3.10/site-packages/liana/method/_pipe_utils/_pre.py:273: ImplicitModificationWarning: Trying to modify attribute `.obs` of view, initializing view as actual.\n",
      "/home/dbdimitrov/miniconda3/envs/spiana/lib/python3.10/site-packages/liana/method/_pipe_utils/_pre.py:148: ImplicitModificationWarning: Trying to modify attribute `.obs` of view, initializing view as actual.\n",
      "/home/dbdimitrov/miniconda3/envs/spiana/lib/python3.10/site-packages/liana/method/sc/_liana_pipe.py:256: ImplicitModificationWarning: Setting element `.layers['scaled']` of view, initializing view as actual.\n",
      "Now running: CK159:   4%|▎         | 1/28 [00:12<05:25, 12.05s/it]/home/dbdimitrov/miniconda3/envs/spiana/lib/python3.10/site-packages/anndata/_core/aligned_df.py:67: ImplicitModificationWarning: Transforming to str index.\n",
      "/home/dbdimitrov/miniconda3/envs/spiana/lib/python3.10/site-packages/anndata/_core/anndata.py:430: FutureWarning: The dtype argument is deprecated and will be removed in late 2024.\n",
      "/home/dbdimitrov/miniconda3/envs/spiana/lib/python3.10/site-packages/liana/method/_pipe_utils/_pre.py:273: ImplicitModificationWarning: Trying to modify attribute `.obs` of view, initializing view as actual.\n",
      "/home/dbdimitrov/miniconda3/envs/spiana/lib/python3.10/site-packages/liana/method/_pipe_utils/_pre.py:148: ImplicitModificationWarning: Trying to modify attribute `.obs` of view, initializing view as actual.\n",
      "/home/dbdimitrov/miniconda3/envs/spiana/lib/python3.10/site-packages/liana/method/sc/_liana_pipe.py:256: ImplicitModificationWarning: Setting element `.layers['scaled']` of view, initializing view as actual.\n",
      "Now running: CK160:   7%|▋         | 2/28 [00:20<04:21, 10.05s/it]/home/dbdimitrov/miniconda3/envs/spiana/lib/python3.10/site-packages/anndata/_core/aligned_df.py:67: ImplicitModificationWarning: Transforming to str index.\n",
      "/home/dbdimitrov/miniconda3/envs/spiana/lib/python3.10/site-packages/anndata/_core/anndata.py:430: FutureWarning: The dtype argument is deprecated and will be removed in late 2024.\n",
      "/home/dbdimitrov/miniconda3/envs/spiana/lib/python3.10/site-packages/liana/method/_pipe_utils/_pre.py:273: ImplicitModificationWarning: Trying to modify attribute `.obs` of view, initializing view as actual.\n",
      "/home/dbdimitrov/miniconda3/envs/spiana/lib/python3.10/site-packages/liana/method/_pipe_utils/_pre.py:148: ImplicitModificationWarning: Trying to modify attribute `.obs` of view, initializing view as actual.\n",
      "/home/dbdimitrov/miniconda3/envs/spiana/lib/python3.10/site-packages/liana/method/sc/_liana_pipe.py:256: ImplicitModificationWarning: Setting element `.layers['scaled']` of view, initializing view as actual.\n",
      "Now running: CK162:  11%|█         | 3/28 [00:32<04:28, 10.72s/it]/home/dbdimitrov/miniconda3/envs/spiana/lib/python3.10/site-packages/anndata/_core/aligned_df.py:67: ImplicitModificationWarning: Transforming to str index.\n",
      "/home/dbdimitrov/miniconda3/envs/spiana/lib/python3.10/site-packages/anndata/_core/anndata.py:430: FutureWarning: The dtype argument is deprecated and will be removed in late 2024.\n",
      "/home/dbdimitrov/miniconda3/envs/spiana/lib/python3.10/site-packages/liana/method/_pipe_utils/_pre.py:273: ImplicitModificationWarning: Trying to modify attribute `.obs` of view, initializing view as actual.\n",
      "/home/dbdimitrov/miniconda3/envs/spiana/lib/python3.10/site-packages/liana/method/_pipe_utils/_pre.py:148: ImplicitModificationWarning: Trying to modify attribute `.obs` of view, initializing view as actual.\n",
      "/home/dbdimitrov/miniconda3/envs/spiana/lib/python3.10/site-packages/liana/method/sc/_liana_pipe.py:256: ImplicitModificationWarning: Setting element `.layers['scaled']` of view, initializing view as actual.\n",
      "Now running: CK163:  14%|█▍        | 4/28 [00:40<03:51,  9.67s/it]/home/dbdimitrov/miniconda3/envs/spiana/lib/python3.10/site-packages/anndata/_core/aligned_df.py:67: ImplicitModificationWarning: Transforming to str index.\n",
      "/home/dbdimitrov/miniconda3/envs/spiana/lib/python3.10/site-packages/anndata/_core/anndata.py:430: FutureWarning: The dtype argument is deprecated and will be removed in late 2024.\n",
      "/home/dbdimitrov/miniconda3/envs/spiana/lib/python3.10/site-packages/liana/method/_pipe_utils/_pre.py:273: ImplicitModificationWarning: Trying to modify attribute `.obs` of view, initializing view as actual.\n",
      "/home/dbdimitrov/miniconda3/envs/spiana/lib/python3.10/site-packages/liana/method/_pipe_utils/_pre.py:148: ImplicitModificationWarning: Trying to modify attribute `.obs` of view, initializing view as actual.\n",
      "/home/dbdimitrov/miniconda3/envs/spiana/lib/python3.10/site-packages/liana/method/sc/_liana_pipe.py:256: ImplicitModificationWarning: Setting element `.layers['scaled']` of view, initializing view as actual.\n",
      "Now running: CK164:  18%|█▊        | 5/28 [00:49<03:41,  9.62s/it]/home/dbdimitrov/miniconda3/envs/spiana/lib/python3.10/site-packages/anndata/_core/aligned_df.py:67: ImplicitModificationWarning: Transforming to str index.\n",
      "/home/dbdimitrov/miniconda3/envs/spiana/lib/python3.10/site-packages/anndata/_core/anndata.py:430: FutureWarning: The dtype argument is deprecated and will be removed in late 2024.\n",
      "/home/dbdimitrov/miniconda3/envs/spiana/lib/python3.10/site-packages/liana/method/_pipe_utils/_pre.py:273: ImplicitModificationWarning: Trying to modify attribute `.obs` of view, initializing view as actual.\n",
      "/home/dbdimitrov/miniconda3/envs/spiana/lib/python3.10/site-packages/liana/method/_pipe_utils/_pre.py:148: ImplicitModificationWarning: Trying to modify attribute `.obs` of view, initializing view as actual.\n",
      "/home/dbdimitrov/miniconda3/envs/spiana/lib/python3.10/site-packages/liana/method/sc/_liana_pipe.py:256: ImplicitModificationWarning: Setting element `.layers['scaled']` of view, initializing view as actual.\n",
      "Now running: CK165:  21%|██▏       | 6/28 [01:02<03:52, 10.56s/it]/home/dbdimitrov/miniconda3/envs/spiana/lib/python3.10/site-packages/anndata/_core/aligned_df.py:67: ImplicitModificationWarning: Transforming to str index.\n",
      "/home/dbdimitrov/miniconda3/envs/spiana/lib/python3.10/site-packages/anndata/_core/anndata.py:430: FutureWarning: The dtype argument is deprecated and will be removed in late 2024.\n",
      "/home/dbdimitrov/miniconda3/envs/spiana/lib/python3.10/site-packages/liana/method/_pipe_utils/_pre.py:273: ImplicitModificationWarning: Trying to modify attribute `.obs` of view, initializing view as actual.\n",
      "/home/dbdimitrov/miniconda3/envs/spiana/lib/python3.10/site-packages/liana/method/_pipe_utils/_pre.py:148: ImplicitModificationWarning: Trying to modify attribute `.obs` of view, initializing view as actual.\n",
      "/home/dbdimitrov/miniconda3/envs/spiana/lib/python3.10/site-packages/liana/method/sc/_liana_pipe.py:256: ImplicitModificationWarning: Setting element `.layers['scaled']` of view, initializing view as actual.\n",
      "Now running: CK356:  25%|██▌       | 7/28 [01:11<03:30, 10.00s/it]/home/dbdimitrov/miniconda3/envs/spiana/lib/python3.10/site-packages/anndata/_core/aligned_df.py:67: ImplicitModificationWarning: Transforming to str index.\n",
      "/home/dbdimitrov/miniconda3/envs/spiana/lib/python3.10/site-packages/anndata/_core/anndata.py:430: FutureWarning: The dtype argument is deprecated and will be removed in late 2024.\n",
      "/home/dbdimitrov/miniconda3/envs/spiana/lib/python3.10/site-packages/liana/method/_pipe_utils/_pre.py:273: ImplicitModificationWarning: Trying to modify attribute `.obs` of view, initializing view as actual.\n",
      "/home/dbdimitrov/miniconda3/envs/spiana/lib/python3.10/site-packages/liana/method/_pipe_utils/_pre.py:148: ImplicitModificationWarning: Trying to modify attribute `.obs` of view, initializing view as actual.\n",
      "/home/dbdimitrov/miniconda3/envs/spiana/lib/python3.10/site-packages/liana/method/sc/_liana_pipe.py:256: ImplicitModificationWarning: Setting element `.layers['scaled']` of view, initializing view as actual.\n",
      "Now running: CK357:  29%|██▊       | 8/28 [01:21<03:24, 10.21s/it]/home/dbdimitrov/miniconda3/envs/spiana/lib/python3.10/site-packages/anndata/_core/aligned_df.py:67: ImplicitModificationWarning: Transforming to str index.\n",
      "/home/dbdimitrov/miniconda3/envs/spiana/lib/python3.10/site-packages/anndata/_core/anndata.py:430: FutureWarning: The dtype argument is deprecated and will be removed in late 2024.\n",
      "/home/dbdimitrov/miniconda3/envs/spiana/lib/python3.10/site-packages/liana/method/_pipe_utils/_pre.py:273: ImplicitModificationWarning: Trying to modify attribute `.obs` of view, initializing view as actual.\n",
      "/home/dbdimitrov/miniconda3/envs/spiana/lib/python3.10/site-packages/liana/method/_pipe_utils/_pre.py:148: ImplicitModificationWarning: Trying to modify attribute `.obs` of view, initializing view as actual.\n",
      "/home/dbdimitrov/miniconda3/envs/spiana/lib/python3.10/site-packages/liana/method/sc/_liana_pipe.py:256: ImplicitModificationWarning: Setting element `.layers['scaled']` of view, initializing view as actual.\n",
      "Now running: CK358:  32%|███▏      | 9/28 [01:31<03:12, 10.15s/it]/home/dbdimitrov/miniconda3/envs/spiana/lib/python3.10/site-packages/anndata/_core/aligned_df.py:67: ImplicitModificationWarning: Transforming to str index.\n",
      "/home/dbdimitrov/miniconda3/envs/spiana/lib/python3.10/site-packages/anndata/_core/anndata.py:430: FutureWarning: The dtype argument is deprecated and will be removed in late 2024.\n",
      "/home/dbdimitrov/miniconda3/envs/spiana/lib/python3.10/site-packages/liana/method/_pipe_utils/_pre.py:273: ImplicitModificationWarning: Trying to modify attribute `.obs` of view, initializing view as actual.\n",
      "/home/dbdimitrov/miniconda3/envs/spiana/lib/python3.10/site-packages/liana/method/_pipe_utils/_pre.py:148: ImplicitModificationWarning: Trying to modify attribute `.obs` of view, initializing view as actual.\n",
      "/home/dbdimitrov/miniconda3/envs/spiana/lib/python3.10/site-packages/liana/method/sc/_liana_pipe.py:256: ImplicitModificationWarning: Setting element `.layers['scaled']` of view, initializing view as actual.\n",
      "Now running: CK359:  36%|███▌      | 10/28 [01:43<03:13, 10.77s/it]/home/dbdimitrov/miniconda3/envs/spiana/lib/python3.10/site-packages/anndata/_core/aligned_df.py:67: ImplicitModificationWarning: Transforming to str index.\n",
      "/home/dbdimitrov/miniconda3/envs/spiana/lib/python3.10/site-packages/anndata/_core/anndata.py:430: FutureWarning: The dtype argument is deprecated and will be removed in late 2024.\n",
      "/home/dbdimitrov/miniconda3/envs/spiana/lib/python3.10/site-packages/liana/method/_pipe_utils/_pre.py:273: ImplicitModificationWarning: Trying to modify attribute `.obs` of view, initializing view as actual.\n",
      "/home/dbdimitrov/miniconda3/envs/spiana/lib/python3.10/site-packages/liana/method/_pipe_utils/_pre.py:148: ImplicitModificationWarning: Trying to modify attribute `.obs` of view, initializing view as actual.\n",
      "/home/dbdimitrov/miniconda3/envs/spiana/lib/python3.10/site-packages/liana/method/sc/_liana_pipe.py:256: ImplicitModificationWarning: Setting element `.layers['scaled']` of view, initializing view as actual.\n",
      "Now running: CK360:  39%|███▉      | 11/28 [01:53<02:58, 10.52s/it]/home/dbdimitrov/miniconda3/envs/spiana/lib/python3.10/site-packages/anndata/_core/aligned_df.py:67: ImplicitModificationWarning: Transforming to str index.\n",
      "/home/dbdimitrov/miniconda3/envs/spiana/lib/python3.10/site-packages/anndata/_core/anndata.py:430: FutureWarning: The dtype argument is deprecated and will be removed in late 2024.\n",
      "/home/dbdimitrov/miniconda3/envs/spiana/lib/python3.10/site-packages/liana/method/_pipe_utils/_pre.py:273: ImplicitModificationWarning: Trying to modify attribute `.obs` of view, initializing view as actual.\n",
      "/home/dbdimitrov/miniconda3/envs/spiana/lib/python3.10/site-packages/liana/method/_pipe_utils/_pre.py:148: ImplicitModificationWarning: Trying to modify attribute `.obs` of view, initializing view as actual.\n",
      "/home/dbdimitrov/miniconda3/envs/spiana/lib/python3.10/site-packages/liana/method/sc/_liana_pipe.py:256: ImplicitModificationWarning: Setting element `.layers['scaled']` of view, initializing view as actual.\n",
      "Now running: CK361:  43%|████▎     | 12/28 [02:04<02:47, 10.50s/it]/home/dbdimitrov/miniconda3/envs/spiana/lib/python3.10/site-packages/anndata/_core/aligned_df.py:67: ImplicitModificationWarning: Transforming to str index.\n",
      "/home/dbdimitrov/miniconda3/envs/spiana/lib/python3.10/site-packages/anndata/_core/anndata.py:430: FutureWarning: The dtype argument is deprecated and will be removed in late 2024.\n",
      "/home/dbdimitrov/miniconda3/envs/spiana/lib/python3.10/site-packages/liana/method/_pipe_utils/_pre.py:273: ImplicitModificationWarning: Trying to modify attribute `.obs` of view, initializing view as actual.\n",
      "/home/dbdimitrov/miniconda3/envs/spiana/lib/python3.10/site-packages/liana/method/_pipe_utils/_pre.py:148: ImplicitModificationWarning: Trying to modify attribute `.obs` of view, initializing view as actual.\n",
      "/home/dbdimitrov/miniconda3/envs/spiana/lib/python3.10/site-packages/liana/method/sc/_liana_pipe.py:256: ImplicitModificationWarning: Setting element `.layers['scaled']` of view, initializing view as actual.\n",
      "Now running: CK362:  46%|████▋     | 13/28 [02:13<02:30, 10.01s/it]/home/dbdimitrov/miniconda3/envs/spiana/lib/python3.10/site-packages/anndata/_core/aligned_df.py:67: ImplicitModificationWarning: Transforming to str index.\n",
      "/home/dbdimitrov/miniconda3/envs/spiana/lib/python3.10/site-packages/anndata/_core/anndata.py:430: FutureWarning: The dtype argument is deprecated and will be removed in late 2024.\n",
      "/home/dbdimitrov/miniconda3/envs/spiana/lib/python3.10/site-packages/liana/method/_pipe_utils/_pre.py:273: ImplicitModificationWarning: Trying to modify attribute `.obs` of view, initializing view as actual.\n",
      "/home/dbdimitrov/miniconda3/envs/spiana/lib/python3.10/site-packages/liana/method/_pipe_utils/_pre.py:148: ImplicitModificationWarning: Trying to modify attribute `.obs` of view, initializing view as actual.\n",
      "/home/dbdimitrov/miniconda3/envs/spiana/lib/python3.10/site-packages/liana/method/sc/_liana_pipe.py:256: ImplicitModificationWarning: Setting element `.layers['scaled']` of view, initializing view as actual.\n",
      "Now running: CK363:  50%|█████     | 14/28 [02:22<02:16,  9.73s/it]/home/dbdimitrov/miniconda3/envs/spiana/lib/python3.10/site-packages/anndata/_core/aligned_df.py:67: ImplicitModificationWarning: Transforming to str index.\n",
      "/home/dbdimitrov/miniconda3/envs/spiana/lib/python3.10/site-packages/anndata/_core/anndata.py:430: FutureWarning: The dtype argument is deprecated and will be removed in late 2024.\n",
      "/home/dbdimitrov/miniconda3/envs/spiana/lib/python3.10/site-packages/liana/method/_pipe_utils/_pre.py:273: ImplicitModificationWarning: Trying to modify attribute `.obs` of view, initializing view as actual.\n",
      "/home/dbdimitrov/miniconda3/envs/spiana/lib/python3.10/site-packages/liana/method/_pipe_utils/_pre.py:148: ImplicitModificationWarning: Trying to modify attribute `.obs` of view, initializing view as actual.\n",
      "/home/dbdimitrov/miniconda3/envs/spiana/lib/python3.10/site-packages/liana/method/sc/_liana_pipe.py:256: ImplicitModificationWarning: Setting element `.layers['scaled']` of view, initializing view as actual.\n",
      "Now running: CK364:  54%|█████▎    | 15/28 [02:35<02:19, 10.74s/it]/home/dbdimitrov/miniconda3/envs/spiana/lib/python3.10/site-packages/anndata/_core/aligned_df.py:67: ImplicitModificationWarning: Transforming to str index.\n",
      "/home/dbdimitrov/miniconda3/envs/spiana/lib/python3.10/site-packages/anndata/_core/anndata.py:430: FutureWarning: The dtype argument is deprecated and will be removed in late 2024.\n",
      "/home/dbdimitrov/miniconda3/envs/spiana/lib/python3.10/site-packages/liana/method/_pipe_utils/_pre.py:273: ImplicitModificationWarning: Trying to modify attribute `.obs` of view, initializing view as actual.\n",
      "/home/dbdimitrov/miniconda3/envs/spiana/lib/python3.10/site-packages/liana/method/_pipe_utils/_pre.py:148: ImplicitModificationWarning: Trying to modify attribute `.obs` of view, initializing view as actual.\n",
      "/home/dbdimitrov/miniconda3/envs/spiana/lib/python3.10/site-packages/liana/method/sc/_liana_pipe.py:256: ImplicitModificationWarning: Setting element `.layers['scaled']` of view, initializing view as actual.\n",
      "Now running: CK365:  57%|█████▋    | 16/28 [02:44<02:02, 10.24s/it]/home/dbdimitrov/miniconda3/envs/spiana/lib/python3.10/site-packages/anndata/_core/aligned_df.py:67: ImplicitModificationWarning: Transforming to str index.\n",
      "/home/dbdimitrov/miniconda3/envs/spiana/lib/python3.10/site-packages/anndata/_core/anndata.py:430: FutureWarning: The dtype argument is deprecated and will be removed in late 2024.\n",
      "/home/dbdimitrov/miniconda3/envs/spiana/lib/python3.10/site-packages/liana/method/_pipe_utils/_pre.py:273: ImplicitModificationWarning: Trying to modify attribute `.obs` of view, initializing view as actual.\n",
      "/home/dbdimitrov/miniconda3/envs/spiana/lib/python3.10/site-packages/liana/method/_pipe_utils/_pre.py:148: ImplicitModificationWarning: Trying to modify attribute `.obs` of view, initializing view as actual.\n",
      "/home/dbdimitrov/miniconda3/envs/spiana/lib/python3.10/site-packages/liana/method/sc/_liana_pipe.py:256: ImplicitModificationWarning: Setting element `.layers['scaled']` of view, initializing view as actual.\n",
      "Now running: CK366:  61%|██████    | 17/28 [02:53<01:50, 10.02s/it]/home/dbdimitrov/miniconda3/envs/spiana/lib/python3.10/site-packages/anndata/_core/aligned_df.py:67: ImplicitModificationWarning: Transforming to str index.\n",
      "/home/dbdimitrov/miniconda3/envs/spiana/lib/python3.10/site-packages/anndata/_core/anndata.py:430: FutureWarning: The dtype argument is deprecated and will be removed in late 2024.\n",
      "/home/dbdimitrov/miniconda3/envs/spiana/lib/python3.10/site-packages/liana/method/_pipe_utils/_pre.py:273: ImplicitModificationWarning: Trying to modify attribute `.obs` of view, initializing view as actual.\n",
      "/home/dbdimitrov/miniconda3/envs/spiana/lib/python3.10/site-packages/liana/method/_pipe_utils/_pre.py:148: ImplicitModificationWarning: Trying to modify attribute `.obs` of view, initializing view as actual.\n",
      "/home/dbdimitrov/miniconda3/envs/spiana/lib/python3.10/site-packages/liana/method/sc/_liana_pipe.py:256: ImplicitModificationWarning: Setting element `.layers['scaled']` of view, initializing view as actual.\n",
      "Now running: CK367:  64%|██████▍   | 18/28 [03:03<01:40, 10.02s/it]/home/dbdimitrov/miniconda3/envs/spiana/lib/python3.10/site-packages/anndata/_core/aligned_df.py:67: ImplicitModificationWarning: Transforming to str index.\n",
      "/home/dbdimitrov/miniconda3/envs/spiana/lib/python3.10/site-packages/anndata/_core/anndata.py:430: FutureWarning: The dtype argument is deprecated and will be removed in late 2024.\n",
      "/home/dbdimitrov/miniconda3/envs/spiana/lib/python3.10/site-packages/liana/method/_pipe_utils/_pre.py:273: ImplicitModificationWarning: Trying to modify attribute `.obs` of view, initializing view as actual.\n",
      "/home/dbdimitrov/miniconda3/envs/spiana/lib/python3.10/site-packages/liana/method/_pipe_utils/_pre.py:148: ImplicitModificationWarning: Trying to modify attribute `.obs` of view, initializing view as actual.\n",
      "/home/dbdimitrov/miniconda3/envs/spiana/lib/python3.10/site-packages/liana/method/sc/_liana_pipe.py:256: ImplicitModificationWarning: Setting element `.layers['scaled']` of view, initializing view as actual.\n",
      "Now running: CK368:  68%|██████▊   | 19/28 [03:15<01:34, 10.55s/it]/home/dbdimitrov/miniconda3/envs/spiana/lib/python3.10/site-packages/anndata/_core/aligned_df.py:67: ImplicitModificationWarning: Transforming to str index.\n",
      "/home/dbdimitrov/miniconda3/envs/spiana/lib/python3.10/site-packages/anndata/_core/anndata.py:430: FutureWarning: The dtype argument is deprecated and will be removed in late 2024.\n",
      "/home/dbdimitrov/miniconda3/envs/spiana/lib/python3.10/site-packages/liana/method/_pipe_utils/_pre.py:273: ImplicitModificationWarning: Trying to modify attribute `.obs` of view, initializing view as actual.\n",
      "/home/dbdimitrov/miniconda3/envs/spiana/lib/python3.10/site-packages/liana/method/_pipe_utils/_pre.py:148: ImplicitModificationWarning: Trying to modify attribute `.obs` of view, initializing view as actual.\n",
      "/home/dbdimitrov/miniconda3/envs/spiana/lib/python3.10/site-packages/liana/method/sc/_liana_pipe.py:256: ImplicitModificationWarning: Setting element `.layers['scaled']` of view, initializing view as actual.\n",
      "Now running: CK369:  71%|███████▏  | 20/28 [03:27<01:26, 10.78s/it]/home/dbdimitrov/miniconda3/envs/spiana/lib/python3.10/site-packages/anndata/_core/aligned_df.py:67: ImplicitModificationWarning: Transforming to str index.\n",
      "/home/dbdimitrov/miniconda3/envs/spiana/lib/python3.10/site-packages/anndata/_core/anndata.py:430: FutureWarning: The dtype argument is deprecated and will be removed in late 2024.\n",
      "/home/dbdimitrov/miniconda3/envs/spiana/lib/python3.10/site-packages/liana/method/_pipe_utils/_pre.py:273: ImplicitModificationWarning: Trying to modify attribute `.obs` of view, initializing view as actual.\n",
      "/home/dbdimitrov/miniconda3/envs/spiana/lib/python3.10/site-packages/liana/method/_pipe_utils/_pre.py:148: ImplicitModificationWarning: Trying to modify attribute `.obs` of view, initializing view as actual.\n",
      "/home/dbdimitrov/miniconda3/envs/spiana/lib/python3.10/site-packages/liana/method/sc/_liana_pipe.py:256: ImplicitModificationWarning: Setting element `.layers['scaled']` of view, initializing view as actual.\n",
      "Now running: CK370:  75%|███████▌  | 21/28 [03:31<01:02,  8.94s/it]/home/dbdimitrov/miniconda3/envs/spiana/lib/python3.10/site-packages/anndata/_core/aligned_df.py:67: ImplicitModificationWarning: Transforming to str index.\n",
      "/home/dbdimitrov/miniconda3/envs/spiana/lib/python3.10/site-packages/anndata/_core/anndata.py:430: FutureWarning: The dtype argument is deprecated and will be removed in late 2024.\n",
      "/home/dbdimitrov/miniconda3/envs/spiana/lib/python3.10/site-packages/liana/method/_pipe_utils/_pre.py:273: ImplicitModificationWarning: Trying to modify attribute `.obs` of view, initializing view as actual.\n",
      "/home/dbdimitrov/miniconda3/envs/spiana/lib/python3.10/site-packages/liana/method/_pipe_utils/_pre.py:148: ImplicitModificationWarning: Trying to modify attribute `.obs` of view, initializing view as actual.\n",
      "/home/dbdimitrov/miniconda3/envs/spiana/lib/python3.10/site-packages/liana/method/sc/_liana_pipe.py:256: ImplicitModificationWarning: Setting element `.layers['scaled']` of view, initializing view as actual.\n",
      "Now running: CK371:  79%|███████▊  | 22/28 [03:43<00:58,  9.77s/it]/home/dbdimitrov/miniconda3/envs/spiana/lib/python3.10/site-packages/anndata/_core/aligned_df.py:67: ImplicitModificationWarning: Transforming to str index.\n",
      "/home/dbdimitrov/miniconda3/envs/spiana/lib/python3.10/site-packages/anndata/_core/anndata.py:430: FutureWarning: The dtype argument is deprecated and will be removed in late 2024.\n",
      "/home/dbdimitrov/miniconda3/envs/spiana/lib/python3.10/site-packages/liana/method/_pipe_utils/_pre.py:273: ImplicitModificationWarning: Trying to modify attribute `.obs` of view, initializing view as actual.\n",
      "/home/dbdimitrov/miniconda3/envs/spiana/lib/python3.10/site-packages/liana/method/_pipe_utils/_pre.py:148: ImplicitModificationWarning: Trying to modify attribute `.obs` of view, initializing view as actual.\n",
      "/home/dbdimitrov/miniconda3/envs/spiana/lib/python3.10/site-packages/liana/method/sc/_liana_pipe.py:256: ImplicitModificationWarning: Setting element `.layers['scaled']` of view, initializing view as actual.\n",
      "Now running: CK372:  82%|████████▏ | 23/28 [03:54<00:50, 10.14s/it]/home/dbdimitrov/miniconda3/envs/spiana/lib/python3.10/site-packages/anndata/_core/aligned_df.py:67: ImplicitModificationWarning: Transforming to str index.\n",
      "/home/dbdimitrov/miniconda3/envs/spiana/lib/python3.10/site-packages/anndata/_core/anndata.py:430: FutureWarning: The dtype argument is deprecated and will be removed in late 2024.\n",
      "/home/dbdimitrov/miniconda3/envs/spiana/lib/python3.10/site-packages/liana/method/_pipe_utils/_pre.py:273: ImplicitModificationWarning: Trying to modify attribute `.obs` of view, initializing view as actual.\n",
      "/home/dbdimitrov/miniconda3/envs/spiana/lib/python3.10/site-packages/liana/method/_pipe_utils/_pre.py:148: ImplicitModificationWarning: Trying to modify attribute `.obs` of view, initializing view as actual.\n",
      "/home/dbdimitrov/miniconda3/envs/spiana/lib/python3.10/site-packages/liana/method/sc/_liana_pipe.py:256: ImplicitModificationWarning: Setting element `.layers['scaled']` of view, initializing view as actual.\n",
      "Now running: CK373:  86%|████████▌ | 24/28 [03:59<00:34,  8.59s/it]/home/dbdimitrov/miniconda3/envs/spiana/lib/python3.10/site-packages/anndata/_core/aligned_df.py:67: ImplicitModificationWarning: Transforming to str index.\n",
      "/home/dbdimitrov/miniconda3/envs/spiana/lib/python3.10/site-packages/anndata/_core/anndata.py:430: FutureWarning: The dtype argument is deprecated and will be removed in late 2024.\n",
      "/home/dbdimitrov/miniconda3/envs/spiana/lib/python3.10/site-packages/liana/method/_pipe_utils/_pre.py:273: ImplicitModificationWarning: Trying to modify attribute `.obs` of view, initializing view as actual.\n",
      "/home/dbdimitrov/miniconda3/envs/spiana/lib/python3.10/site-packages/liana/method/_pipe_utils/_pre.py:148: ImplicitModificationWarning: Trying to modify attribute `.obs` of view, initializing view as actual.\n",
      "/home/dbdimitrov/miniconda3/envs/spiana/lib/python3.10/site-packages/liana/method/sc/_liana_pipe.py:256: ImplicitModificationWarning: Setting element `.layers['scaled']` of view, initializing view as actual.\n",
      "Now running: CK374:  89%|████████▉ | 25/28 [04:10<00:27,  9.22s/it]/home/dbdimitrov/miniconda3/envs/spiana/lib/python3.10/site-packages/anndata/_core/aligned_df.py:67: ImplicitModificationWarning: Transforming to str index.\n",
      "/home/dbdimitrov/miniconda3/envs/spiana/lib/python3.10/site-packages/anndata/_core/anndata.py:430: FutureWarning: The dtype argument is deprecated and will be removed in late 2024.\n",
      "/home/dbdimitrov/miniconda3/envs/spiana/lib/python3.10/site-packages/liana/method/_pipe_utils/_pre.py:273: ImplicitModificationWarning: Trying to modify attribute `.obs` of view, initializing view as actual.\n",
      "/home/dbdimitrov/miniconda3/envs/spiana/lib/python3.10/site-packages/liana/method/_pipe_utils/_pre.py:148: ImplicitModificationWarning: Trying to modify attribute `.obs` of view, initializing view as actual.\n",
      "/home/dbdimitrov/miniconda3/envs/spiana/lib/python3.10/site-packages/liana/method/sc/_liana_pipe.py:256: ImplicitModificationWarning: Setting element `.layers['scaled']` of view, initializing view as actual.\n",
      "Now running: CK375:  93%|█████████▎| 26/28 [04:21<00:19,  9.96s/it]/home/dbdimitrov/miniconda3/envs/spiana/lib/python3.10/site-packages/anndata/_core/aligned_df.py:67: ImplicitModificationWarning: Transforming to str index.\n",
      "/home/dbdimitrov/miniconda3/envs/spiana/lib/python3.10/site-packages/anndata/_core/anndata.py:430: FutureWarning: The dtype argument is deprecated and will be removed in late 2024.\n",
      "/home/dbdimitrov/miniconda3/envs/spiana/lib/python3.10/site-packages/liana/method/_pipe_utils/_pre.py:273: ImplicitModificationWarning: Trying to modify attribute `.obs` of view, initializing view as actual.\n",
      "/home/dbdimitrov/miniconda3/envs/spiana/lib/python3.10/site-packages/liana/method/_pipe_utils/_pre.py:148: ImplicitModificationWarning: Trying to modify attribute `.obs` of view, initializing view as actual.\n",
      "/home/dbdimitrov/miniconda3/envs/spiana/lib/python3.10/site-packages/liana/method/sc/_liana_pipe.py:256: ImplicitModificationWarning: Setting element `.layers['scaled']` of view, initializing view as actual.\n",
      "Now running: CK376:  96%|█████████▋| 27/28 [04:26<00:08,  8.46s/it]/home/dbdimitrov/miniconda3/envs/spiana/lib/python3.10/site-packages/anndata/_core/aligned_df.py:67: ImplicitModificationWarning: Transforming to str index.\n",
      "/home/dbdimitrov/miniconda3/envs/spiana/lib/python3.10/site-packages/anndata/_core/anndata.py:430: FutureWarning: The dtype argument is deprecated and will be removed in late 2024.\n",
      "/home/dbdimitrov/miniconda3/envs/spiana/lib/python3.10/site-packages/liana/method/_pipe_utils/_pre.py:273: ImplicitModificationWarning: Trying to modify attribute `.obs` of view, initializing view as actual.\n",
      "/home/dbdimitrov/miniconda3/envs/spiana/lib/python3.10/site-packages/liana/method/_pipe_utils/_pre.py:148: ImplicitModificationWarning: Trying to modify attribute `.obs` of view, initializing view as actual.\n",
      "/home/dbdimitrov/miniconda3/envs/spiana/lib/python3.10/site-packages/liana/method/sc/_liana_pipe.py:256: ImplicitModificationWarning: Setting element `.layers['scaled']` of view, initializing view as actual.\n",
      "Now running: CK376: 100%|██████████| 28/28 [04:31<00:00,  9.71s/it]\n"
     ]
    }
   ],
   "source": [
    "# write to file\n",
    "li.mt.rank_aggregate.by_sample(adata, \n",
    "                               groupby=groupby,\n",
    "                               use_raw=False,\n",
    "                               sample_key=sample_key,\n",
    "                               expr_prop=0.05,\n",
    "                               verbose=True,\n",
    "                               n_perms=None,\n",
    "                               resource=resource[['ligand', 'receptor']], # TODO: would only work with this -> make sure it simply selects ligand-receptor columns\n",
    "                               groupby_pairs=cell_pairs,\n",
    "                               )"
   ]
  },
  {
   "cell_type": "code",
   "execution_count": 10,
   "metadata": {},
   "outputs": [
    {
     "name": "stderr",
     "output_type": "stream",
     "text": [
      "... storing 'cell_type_original' as categorical\n"
     ]
    }
   ],
   "source": [
    "adata.write_h5ad(os.path.join('results', 'kuppe_processed.h5ad'))"
   ]
  },
  {
   "cell_type": "code",
   "execution_count": 11,
   "metadata": {},
   "outputs": [],
   "source": [
    "adata.uns['liana_res'].to_csv(os.path.join('..', '..', 'figures', 'source', 'SuppDataFig3_LRs.csv'))"
   ]
  },
  {
   "cell_type": "code",
   "execution_count": null,
   "metadata": {},
   "outputs": [],
   "source": []
  }
 ],
 "metadata": {
  "kernelspec": {
   "display_name": "spiana",
   "language": "python",
   "name": "python3"
  },
  "language_info": {
   "codemirror_mode": {
    "name": "ipython",
    "version": 3
   },
   "file_extension": ".py",
   "mimetype": "text/x-python",
   "name": "python",
   "nbconvert_exporter": "python",
   "pygments_lexer": "ipython3",
   "version": "3.10.13"
  }
 },
 "nbformat": 4,
 "nbformat_minor": 2
}
