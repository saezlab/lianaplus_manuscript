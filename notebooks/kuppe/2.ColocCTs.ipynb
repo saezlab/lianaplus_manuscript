{
 "cells": [
  {
   "cell_type": "code",
   "execution_count": 1,
   "metadata": {},
   "outputs": [],
   "source": [
    "import os\n",
    "import sys\n",
    "import numpy as np\n",
    "import pandas as pd\n",
    "sys.path.append(os.path.join('..', 'spot_calling'))\n",
    "from utils import load_prep_slide\n",
    "\n",
    "import liana as li\n",
    "\n",
    "data_dir = os.path.join('..' ,'..', 'data', 'heart_visium')"
   ]
  },
  {
   "cell_type": "code",
   "execution_count": 2,
   "metadata": {},
   "outputs": [],
   "source": [
    "# Rename to more informative names\n",
    "full_names = {'Adipo': 'Adipocyte',\n",
    "              'CM': 'Cardiomyocyte',\n",
    "              'Endo': 'Endothelial',\n",
    "              'Fib': 'Fibroblast',\n",
    "              'PC': 'Pericyte',\n",
    "              'prolif': 'Proliferating',\n",
    "              'vSMCs': 'Vascular_SMCs',\n",
    "              }"
   ]
  },
  {
   "cell_type": "code",
   "execution_count": 3,
   "metadata": {},
   "outputs": [],
   "source": [
    "metadata = pd.read_csv(os.path.join(\"..\", \"spot_calling\", \"visium_meta.csv\"))"
   ]
  },
  {
   "cell_type": "code",
   "execution_count": 4,
   "metadata": {},
   "outputs": [],
   "source": [
    "target_metrics = {}\n",
    "interactions = {}"
   ]
  },
  {
   "cell_type": "code",
   "execution_count": 5,
   "metadata": {},
   "outputs": [],
   "source": [
    "# scan names of all datasets\n",
    "dataset_names = [f for f in metadata.slide_name]\n"
   ]
  },
  {
   "cell_type": "code",
   "execution_count": null,
   "metadata": {},
   "outputs": [],
   "source": []
  },
  {
   "cell_type": "code",
   "execution_count": 6,
   "metadata": {},
   "outputs": [
    {
     "name": "stdout",
     "output_type": "stream",
     "text": [
      "Processing AKK001_157785\n"
     ]
    },
    {
     "name": "stderr",
     "output_type": "stream",
     "text": [
      "/home/dbdimitrov/.local/lib/python3.10/site-packages/mudata/_core/mudata.py:491: UserWarning: Cannot join columns with the same name because var_names are intersecting.\n",
      "view intra is not a csr_matrix. Converting to csr_matrix\n",
      "Now learning: Vascular_SMCs: 100%|██████████| 10/10 [00:05<00:00,  1.93it/s]\n"
     ]
    },
    {
     "name": "stdout",
     "output_type": "stream",
     "text": [
      "Processing AKK002_157779\n"
     ]
    },
    {
     "name": "stderr",
     "output_type": "stream",
     "text": [
      "/home/dbdimitrov/.local/lib/python3.10/site-packages/mudata/_core/mudata.py:491: UserWarning: Cannot join columns with the same name because var_names are intersecting.\n",
      "view intra is not a csr_matrix. Converting to csr_matrix\n",
      "Now learning: Vascular_SMCs: 100%|██████████| 10/10 [00:01<00:00,  6.69it/s]\n"
     ]
    },
    {
     "name": "stdout",
     "output_type": "stream",
     "text": [
      "Processing AKK002_157781\n"
     ]
    },
    {
     "name": "stderr",
     "output_type": "stream",
     "text": [
      "/home/dbdimitrov/.local/lib/python3.10/site-packages/mudata/_core/mudata.py:491: UserWarning: Cannot join columns with the same name because var_names are intersecting.\n",
      "view intra is not a csr_matrix. Converting to csr_matrix\n",
      "Now learning: Vascular_SMCs: 100%|██████████| 10/10 [00:00<00:00, 16.07it/s]\n"
     ]
    },
    {
     "name": "stdout",
     "output_type": "stream",
     "text": [
      "Processing AKK002_157782\n"
     ]
    },
    {
     "name": "stderr",
     "output_type": "stream",
     "text": [
      "/home/dbdimitrov/.local/lib/python3.10/site-packages/mudata/_core/mudata.py:491: UserWarning: Cannot join columns with the same name because var_names are intersecting.\n",
      "view intra is not a csr_matrix. Converting to csr_matrix\n",
      "Now learning: Vascular_SMCs: 100%|██████████| 10/10 [00:00<00:00, 24.29it/s]\n"
     ]
    },
    {
     "name": "stdout",
     "output_type": "stream",
     "text": [
      "Processing AKK003_157775\n"
     ]
    },
    {
     "name": "stderr",
     "output_type": "stream",
     "text": [
      "/home/dbdimitrov/.local/lib/python3.10/site-packages/mudata/_core/mudata.py:491: UserWarning: Cannot join columns with the same name because var_names are intersecting.\n",
      "view intra is not a csr_matrix. Converting to csr_matrix\n",
      "Now learning: Vascular_SMCs: 100%|██████████| 10/10 [00:00<00:00, 15.83it/s]\n"
     ]
    },
    {
     "name": "stdout",
     "output_type": "stream",
     "text": [
      "Processing AKK003_157777\n"
     ]
    },
    {
     "name": "stderr",
     "output_type": "stream",
     "text": [
      "/home/dbdimitrov/.local/lib/python3.10/site-packages/mudata/_core/mudata.py:491: UserWarning: Cannot join columns with the same name because var_names are intersecting.\n",
      "view intra is not a csr_matrix. Converting to csr_matrix\n",
      "Now learning: Vascular_SMCs: 100%|██████████| 10/10 [00:00<00:00, 18.90it/s]\n"
     ]
    },
    {
     "name": "stdout",
     "output_type": "stream",
     "text": [
      "Processing AKK004_157772\n"
     ]
    },
    {
     "name": "stderr",
     "output_type": "stream",
     "text": [
      "/home/dbdimitrov/.local/lib/python3.10/site-packages/mudata/_core/mudata.py:491: UserWarning: Cannot join columns with the same name because var_names are intersecting.\n",
      "view intra is not a csr_matrix. Converting to csr_matrix\n",
      "Now learning: Vascular_SMCs: 100%|██████████| 10/10 [00:00<00:00, 15.22it/s]\n"
     ]
    },
    {
     "name": "stdout",
     "output_type": "stream",
     "text": [
      "Processing AKK006_157771\n"
     ]
    },
    {
     "name": "stderr",
     "output_type": "stream",
     "text": [
      "/home/dbdimitrov/.local/lib/python3.10/site-packages/mudata/_core/mudata.py:491: UserWarning: Cannot join columns with the same name because var_names are intersecting.\n",
      "view intra is not a csr_matrix. Converting to csr_matrix\n",
      "Now learning: Vascular_SMCs: 100%|██████████| 10/10 [00:00<00:00, 16.31it/s]\n"
     ]
    },
    {
     "name": "stdout",
     "output_type": "stream",
     "text": [
      "Processing Visium_1_CK279\n"
     ]
    },
    {
     "name": "stderr",
     "output_type": "stream",
     "text": [
      "/home/dbdimitrov/.local/lib/python3.10/site-packages/mudata/_core/mudata.py:491: UserWarning: Cannot join columns with the same name because var_names are intersecting.\n",
      "view intra is not a csr_matrix. Converting to csr_matrix\n",
      "Now learning: Lymphoid:  40%|████      | 4/10 [00:00<00:00, 31.74it/s]  /home/dbdimitrov/miniconda3/envs/spiana/lib/python3.10/site-packages/liana/method/sp/_Misty.py:342: RuntimeWarning: invalid value encountered in divide\n",
      "Now learning: Neuronal:  40%|████      | 4/10 [00:00<00:00, 31.74it/s]/home/dbdimitrov/miniconda3/envs/spiana/lib/python3.10/site-packages/liana/method/sp/_Misty.py:342: RuntimeWarning: invalid value encountered in divide\n",
      "Now learning: Vascular_SMCs: 100%|██████████| 10/10 [00:00<00:00, 31.64it/s]\n"
     ]
    },
    {
     "name": "stdout",
     "output_type": "stream",
     "text": [
      "Processing Visium_10_CK288\n"
     ]
    },
    {
     "name": "stderr",
     "output_type": "stream",
     "text": [
      "/home/dbdimitrov/.local/lib/python3.10/site-packages/mudata/_core/mudata.py:491: UserWarning: Cannot join columns with the same name because var_names are intersecting.\n",
      "view intra is not a csr_matrix. Converting to csr_matrix\n",
      "Now learning: Vascular_SMCs: 100%|██████████| 10/10 [00:00<00:00, 22.15it/s]\n"
     ]
    },
    {
     "name": "stdout",
     "output_type": "stream",
     "text": [
      "Processing Visium_11_CK289\n"
     ]
    },
    {
     "name": "stderr",
     "output_type": "stream",
     "text": [
      "/home/dbdimitrov/.local/lib/python3.10/site-packages/mudata/_core/mudata.py:491: UserWarning: Cannot join columns with the same name because var_names are intersecting.\n",
      "view intra is not a csr_matrix. Converting to csr_matrix\n",
      "Now learning: Vascular_SMCs: 100%|██████████| 10/10 [00:00<00:00, 31.92it/s]\n"
     ]
    },
    {
     "name": "stdout",
     "output_type": "stream",
     "text": [
      "Processing Visium_12_CK290\n"
     ]
    },
    {
     "name": "stderr",
     "output_type": "stream",
     "text": [
      "/home/dbdimitrov/.local/lib/python3.10/site-packages/mudata/_core/mudata.py:491: UserWarning: Cannot join columns with the same name because var_names are intersecting.\n",
      "view intra is not a csr_matrix. Converting to csr_matrix\n",
      "Now learning: Vascular_SMCs: 100%|██████████| 10/10 [00:00<00:00, 23.25it/s]\n"
     ]
    },
    {
     "name": "stdout",
     "output_type": "stream",
     "text": [
      "Processing Visium_13_CK291\n"
     ]
    },
    {
     "name": "stderr",
     "output_type": "stream",
     "text": [
      "/home/dbdimitrov/.local/lib/python3.10/site-packages/mudata/_core/mudata.py:491: UserWarning: Cannot join columns with the same name because var_names are intersecting.\n",
      "view intra is not a csr_matrix. Converting to csr_matrix\n",
      "Now learning: Vascular_SMCs: 100%|██████████| 10/10 [00:00<00:00, 27.24it/s]\n"
     ]
    },
    {
     "name": "stdout",
     "output_type": "stream",
     "text": [
      "Processing Visium_14_CK292\n"
     ]
    },
    {
     "name": "stderr",
     "output_type": "stream",
     "text": [
      "/home/dbdimitrov/.local/lib/python3.10/site-packages/mudata/_core/mudata.py:491: UserWarning: Cannot join columns with the same name because var_names are intersecting.\n",
      "view intra is not a csr_matrix. Converting to csr_matrix\n",
      "Now learning: Vascular_SMCs: 100%|██████████| 10/10 [00:00<00:00, 23.64it/s]\n"
     ]
    },
    {
     "name": "stdout",
     "output_type": "stream",
     "text": [
      "Processing Visium_15_CK293\n"
     ]
    },
    {
     "name": "stderr",
     "output_type": "stream",
     "text": [
      "/home/dbdimitrov/.local/lib/python3.10/site-packages/mudata/_core/mudata.py:491: UserWarning: Cannot join columns with the same name because var_names are intersecting.\n",
      "view intra is not a csr_matrix. Converting to csr_matrix\n",
      "Now learning: Vascular_SMCs: 100%|██████████| 10/10 [00:00<00:00, 26.99it/s]\n"
     ]
    },
    {
     "name": "stdout",
     "output_type": "stream",
     "text": [
      "Processing Visium_16_CK294\n"
     ]
    },
    {
     "name": "stderr",
     "output_type": "stream",
     "text": [
      "/home/dbdimitrov/.local/lib/python3.10/site-packages/mudata/_core/mudata.py:491: UserWarning: Cannot join columns with the same name because var_names are intersecting.\n",
      "view intra is not a csr_matrix. Converting to csr_matrix\n",
      "Now learning: Vascular_SMCs: 100%|██████████| 10/10 [00:00<00:00, 28.57it/s]\n"
     ]
    },
    {
     "name": "stdout",
     "output_type": "stream",
     "text": [
      "Processing Visium_17_CK295\n"
     ]
    },
    {
     "name": "stderr",
     "output_type": "stream",
     "text": [
      "/home/dbdimitrov/.local/lib/python3.10/site-packages/mudata/_core/mudata.py:491: UserWarning: Cannot join columns with the same name because var_names are intersecting.\n",
      "view intra is not a csr_matrix. Converting to csr_matrix\n",
      "Now learning: Neuronal:  60%|██████    | 6/10 [00:00<00:00, 21.22it/s]   /home/dbdimitrov/miniconda3/envs/spiana/lib/python3.10/site-packages/liana/method/sp/_Misty.py:342: RuntimeWarning: invalid value encountered in divide\n",
      "Now learning: Vascular_SMCs: 100%|██████████| 10/10 [00:00<00:00, 21.19it/s]\n"
     ]
    },
    {
     "name": "stdout",
     "output_type": "stream",
     "text": [
      "Processing Visium_18_CK296\n"
     ]
    },
    {
     "name": "stderr",
     "output_type": "stream",
     "text": [
      "/home/dbdimitrov/.local/lib/python3.10/site-packages/mudata/_core/mudata.py:491: UserWarning: Cannot join columns with the same name because var_names are intersecting.\n",
      "view intra is not a csr_matrix. Converting to csr_matrix\n",
      "Now learning: Vascular_SMCs: 100%|██████████| 10/10 [00:00<00:00, 20.82it/s]\n"
     ]
    },
    {
     "name": "stdout",
     "output_type": "stream",
     "text": [
      "Processing Visium_19_CK297\n"
     ]
    },
    {
     "name": "stderr",
     "output_type": "stream",
     "text": [
      "/home/dbdimitrov/.local/lib/python3.10/site-packages/mudata/_core/mudata.py:491: UserWarning: Cannot join columns with the same name because var_names are intersecting.\n",
      "view intra is not a csr_matrix. Converting to csr_matrix\n",
      "Now learning: Vascular_SMCs: 100%|██████████| 10/10 [00:00<00:00, 17.75it/s]\n"
     ]
    },
    {
     "name": "stdout",
     "output_type": "stream",
     "text": [
      "Processing Visium_2_CK280\n"
     ]
    },
    {
     "name": "stderr",
     "output_type": "stream",
     "text": [
      "/home/dbdimitrov/.local/lib/python3.10/site-packages/mudata/_core/mudata.py:491: UserWarning: Cannot join columns with the same name because var_names are intersecting.\n",
      "view intra is not a csr_matrix. Converting to csr_matrix\n",
      "Now learning: Vascular_SMCs: 100%|██████████| 10/10 [00:00<00:00, 26.04it/s]\n"
     ]
    },
    {
     "name": "stdout",
     "output_type": "stream",
     "text": [
      "Processing Visium_20_CK298\n"
     ]
    },
    {
     "name": "stderr",
     "output_type": "stream",
     "text": [
      "/home/dbdimitrov/.local/lib/python3.10/site-packages/mudata/_core/mudata.py:491: UserWarning: Cannot join columns with the same name because var_names are intersecting.\n",
      "view intra is not a csr_matrix. Converting to csr_matrix\n",
      "Now learning: Vascular_SMCs: 100%|██████████| 10/10 [00:00<00:00, 24.22it/s]\n"
     ]
    },
    {
     "name": "stdout",
     "output_type": "stream",
     "text": [
      "Processing Visium_3_CK281\n"
     ]
    },
    {
     "name": "stderr",
     "output_type": "stream",
     "text": [
      "/home/dbdimitrov/.local/lib/python3.10/site-packages/mudata/_core/mudata.py:491: UserWarning: Cannot join columns with the same name because var_names are intersecting.\n",
      "view intra is not a csr_matrix. Converting to csr_matrix\n",
      "Now learning: Vascular_SMCs: 100%|██████████| 10/10 [00:00<00:00, 24.79it/s]\n"
     ]
    },
    {
     "name": "stdout",
     "output_type": "stream",
     "text": [
      "Processing Visium_4_CK282\n"
     ]
    },
    {
     "name": "stderr",
     "output_type": "stream",
     "text": [
      "/home/dbdimitrov/.local/lib/python3.10/site-packages/mudata/_core/mudata.py:491: UserWarning: Cannot join columns with the same name because var_names are intersecting.\n",
      "view intra is not a csr_matrix. Converting to csr_matrix\n",
      "Now learning: Vascular_SMCs: 100%|██████████| 10/10 [00:00<00:00, 28.47it/s]\n"
     ]
    },
    {
     "name": "stdout",
     "output_type": "stream",
     "text": [
      "Processing Visium_5_CK283\n"
     ]
    },
    {
     "name": "stderr",
     "output_type": "stream",
     "text": [
      "/home/dbdimitrov/.local/lib/python3.10/site-packages/mudata/_core/mudata.py:491: UserWarning: Cannot join columns with the same name because var_names are intersecting.\n",
      "view intra is not a csr_matrix. Converting to csr_matrix\n",
      "Now learning: Vascular_SMCs: 100%|██████████| 10/10 [00:00<00:00, 21.40it/s]\n"
     ]
    },
    {
     "name": "stdout",
     "output_type": "stream",
     "text": [
      "Processing Visium_6_CK284\n"
     ]
    },
    {
     "name": "stderr",
     "output_type": "stream",
     "text": [
      "/home/dbdimitrov/.local/lib/python3.10/site-packages/mudata/_core/mudata.py:491: UserWarning: Cannot join columns with the same name because var_names are intersecting.\n",
      "view intra is not a csr_matrix. Converting to csr_matrix\n",
      "Now learning: Vascular_SMCs: 100%|██████████| 10/10 [00:00<00:00, 20.86it/s]\n"
     ]
    },
    {
     "name": "stdout",
     "output_type": "stream",
     "text": [
      "Processing Visium_7_CK285\n"
     ]
    },
    {
     "name": "stderr",
     "output_type": "stream",
     "text": [
      "/home/dbdimitrov/.local/lib/python3.10/site-packages/mudata/_core/mudata.py:491: UserWarning: Cannot join columns with the same name because var_names are intersecting.\n",
      "view intra is not a csr_matrix. Converting to csr_matrix\n",
      "Now learning: Vascular_SMCs: 100%|██████████| 10/10 [00:00<00:00, 20.76it/s]\n"
     ]
    },
    {
     "name": "stdout",
     "output_type": "stream",
     "text": [
      "Processing Visium_8_CK286\n"
     ]
    },
    {
     "name": "stderr",
     "output_type": "stream",
     "text": [
      "/home/dbdimitrov/.local/lib/python3.10/site-packages/mudata/_core/mudata.py:491: UserWarning: Cannot join columns with the same name because var_names are intersecting.\n",
      "view intra is not a csr_matrix. Converting to csr_matrix\n",
      "Now learning: Lymphoid:  40%|████      | 4/10 [00:00<00:00, 31.89it/s]  /home/dbdimitrov/miniconda3/envs/spiana/lib/python3.10/site-packages/liana/method/sp/_Misty.py:342: RuntimeWarning: invalid value encountered in divide\n",
      "Now learning: Neuronal:  40%|████      | 4/10 [00:00<00:00, 31.89it/s]/home/dbdimitrov/miniconda3/envs/spiana/lib/python3.10/site-packages/liana/method/sp/_Misty.py:342: RuntimeWarning: invalid value encountered in divide\n",
      "Now learning: Vascular_SMCs: 100%|██████████| 10/10 [00:00<00:00, 31.74it/s]\n"
     ]
    },
    {
     "name": "stdout",
     "output_type": "stream",
     "text": [
      "Processing Visium_9_CK287\n"
     ]
    },
    {
     "name": "stderr",
     "output_type": "stream",
     "text": [
      "/home/dbdimitrov/.local/lib/python3.10/site-packages/mudata/_core/mudata.py:491: UserWarning: Cannot join columns with the same name because var_names are intersecting.\n",
      "view intra is not a csr_matrix. Converting to csr_matrix\n",
      "Now learning: Vascular_SMCs: 100%|██████████| 10/10 [00:00<00:00, 17.12it/s]\n"
     ]
    }
   ],
   "source": [
    "for dataset in dataset_names:\n",
    "    print(f\"Processing {dataset}\")\n",
    "    \n",
    "    adata = load_prep_slide(path=data_dir, slide=dataset + '.h5ad', bandwidth=150, set_diag=False, cutoff=0.1)\n",
    "    # but only for the ones that are in the data\n",
    "    adata.obsm['compositions'].columns = [full_names.get(c, c) for c in adata.obsm['compositions'].columns]\n",
    "    \n",
    "    comps = li.ut.obsm_to_adata(adata, 'compositions')\n",
    "    comps = comps[:, comps.var.index!='Proliferating'].copy() # exclude proliferating\n",
    "\n",
    "    misty = li.mt.MistyData({\"intra\": comps, \"inter\": comps})\n",
    "    misty(model='linear', verbose=True, bypass_intra=True)\n",
    "    \n",
    "    interactions[dataset] = misty.uns['interactions'].copy()\n",
    "    interactions[dataset]['sample'] = dataset\n",
    "    target_metrics[dataset] = misty.uns['target_metrics'].copy()\n",
    "    target_metrics[dataset]['sample'] = dataset"
   ]
  },
  {
   "cell_type": "code",
   "execution_count": null,
   "metadata": {},
   "outputs": [],
   "source": []
  },
  {
   "cell_type": "code",
   "execution_count": 7,
   "metadata": {},
   "outputs": [],
   "source": [
    "interactions = pd.concat(interactions, ignore_index=True)\n",
    "interactions = interactions.merge(metadata, left_on='sample', right_on='slide_name')"
   ]
  },
  {
   "cell_type": "code",
   "execution_count": 8,
   "metadata": {},
   "outputs": [],
   "source": [
    "target_metrics = pd.concat(target_metrics, ignore_index=True)\n",
    "target_metrics = target_metrics.merge(metadata, left_on='sample', right_on='slide_name')"
   ]
  },
  {
   "cell_type": "code",
   "execution_count": 9,
   "metadata": {},
   "outputs": [],
   "source": [
    "tm_ctrl = target_metrics[target_metrics['major_labl']=='CTRL'].copy()\n",
    "tm_iz = target_metrics[target_metrics['major_labl']=='IZ'].copy()\n",
    "tm_rz = target_metrics[~target_metrics['major_labl'].isin(['CTRL', 'IZ'])].copy()\n"
   ]
  },
  {
   "cell_type": "code",
   "execution_count": null,
   "metadata": {},
   "outputs": [],
   "source": []
  },
  {
   "cell_type": "markdown",
   "metadata": {},
   "source": [
    "### keep targets with median gain_R2 > 0.05"
   ]
  },
  {
   "cell_type": "code",
   "execution_count": 10,
   "metadata": {},
   "outputs": [],
   "source": [
    "targets = target_metrics.groupby(['target']).agg({'gain_R2': 'median'}).reset_index()\n",
    "targets = targets[targets['gain_R2'] > 0.05]['target'].values"
   ]
  },
  {
   "cell_type": "code",
   "execution_count": 11,
   "metadata": {},
   "outputs": [],
   "source": [
    "# keep only interactions with median importance > 1.645\n",
    "ints = interactions.groupby(['target', 'predictor']).agg({'importances': 'median'}).reset_index()\n",
    "ints = ints[ints['importances'] > 1.645 ] # NOTE: 1.645 is the 95% quantile of a standard normal distribution\n",
    "# keep only targets of interest\n",
    "ints = ints[ints['target'].isin(targets)]"
   ]
  },
  {
   "cell_type": "code",
   "execution_count": 12,
   "metadata": {},
   "outputs": [],
   "source": [
    "ints.to_csv(os.path.join('results', 'ct_interactions.csv'))"
   ]
  },
  {
   "cell_type": "code",
   "execution_count": null,
   "metadata": {},
   "outputs": [],
   "source": []
  },
  {
   "cell_type": "code",
   "execution_count": 13,
   "metadata": {},
   "outputs": [],
   "source": [
    "cell_pairs = pd.read_csv(os.path.join('results', 'ct_interactions.csv'))[['target', 'predictor']]\n",
    "\n",
    "# join the same but with predictor and target swapped\n",
    "cell_pairs2 = cell_pairs.copy().rename(columns={'target': 'predictor', 'predictor': 'target'})\n",
    "interactions = pd.concat([cell_pairs, cell_pairs2], axis=0)\n",
    "\n",
    "# same to same\n",
    "autocrine = list(np.union1d(interactions['target'].unique(), interactions['predictor'].unique()))\n",
    "autocrine = pd.DataFrame(zip(autocrine, autocrine), columns=['target', 'predictor'])\n",
    "\n",
    "cell_pairs = pd.concat([interactions, autocrine], axis=0)\n",
    "cell_pairs = cell_pairs.rename(columns={'predictor': 'source'})[['source', 'target']]\n",
    "\n",
    "cell_pairs.to_csv(os.path.join('results', 'cell_pairs.csv'), index=False)"
   ]
  },
  {
   "cell_type": "code",
   "execution_count": null,
   "metadata": {},
   "outputs": [],
   "source": []
  },
  {
   "cell_type": "code",
   "execution_count": null,
   "metadata": {},
   "outputs": [],
   "source": []
  },
  {
   "cell_type": "code",
   "execution_count": 14,
   "metadata": {},
   "outputs": [],
   "source": [
    "import networkx as nx\n",
    "import matplotlib.pyplot as plt\n",
    "\n",
    "def plot_network(cell_pairs,\n",
    "                 score_key,\n",
    "                 top_n=20, \n",
    "                 figsize=(7, 7),\n",
    "                 network_layout='kamada_kawai', \n",
    "                 edge_alpha=0.5, \n",
    "                 edge_arrow_size=10,\n",
    "                 edge_width_factor=1,\n",
    "                 edge_color='Blues',\n",
    "                 node_color='skyblue', \n",
    "                 node_size=350, \n",
    "                 node_alpha=0.9, \n",
    "                 node_label_alpha=0.8,\n",
    "                 node_label_size=9, \n",
    "                 node_label_offset=[0.0, 0.15], \n",
    "                 title_size=14, \n",
    "                 centralize_nodes=None, \n",
    "                 source_key='source',\n",
    "                 target_key='target',\n",
    "                 filename=None,\n",
    "                 show_colorbar=False,\n",
    "                 scale_weights=True,\n",
    "                 **kwargs,\n",
    "                 ):\n",
    "    \n",
    "    fig, ax = plt.subplots(figsize=figsize)\n",
    "    \n",
    "    cp = cell_pairs.copy()\n",
    "    if scale_weights:\n",
    "        cp[score_key] = (cp[score_key] - cp[score_key].min()) / (cp[score_key].max() - cp[score_key].min()) + 1\n",
    "    cp = cp.sort_values(score_key, ascending=False).head(top_n)\n",
    "    \n",
    "    cp[source_key] = cp[source_key].astype('category')\n",
    "    cp[target_key] = cp[target_key].astype('category')\n",
    "\n",
    "    G = nx.from_pandas_edgelist(cp, source=source_key, target=target_key, edge_attr=score_key, create_using=nx.DiGraph())\n",
    "\n",
    "    # Determine layout\n",
    "    if network_layout == 'spring':\n",
    "        pos = nx.spring_layout(G, **kwargs)\n",
    "    elif network_layout == 'circular':\n",
    "        pos = nx.circular_layout(G, **kwargs)\n",
    "    elif network_layout == 'spectral':\n",
    "        pos = nx.spectral_layout(G, **kwargs)\n",
    "    elif network_layout == 'kamada_kawai':\n",
    "        pos = nx.kamada_kawai_layout(G, **kwargs)\n",
    "    else:\n",
    "        raise ValueError(\"network_layout should be either 'spring' or 'circular'\")\n",
    "    \n",
    "    # Adjust positions if centralization is needed\n",
    "    if centralize_nodes in ['source', 'target']:\n",
    "        selected_nodes = cp[centralize_nodes].unique()\n",
    "        for node in selected_nodes:\n",
    "            pos[node] = np.mean([pos[n] for n in selected_nodes], axis=0) + np.random.rand(2) * 0.5\n",
    "\n",
    "    # Scale the edge weights\n",
    "    edge_weights = np.array([G[u][v][score_key] for u, v in G.edges()]) * edge_width_factor\n",
    "\n",
    "    # Create a colormap\n",
    "    cmap = plt.cm.get_cmap(edge_color)\n",
    "    \n",
    "    # Draw network with directed edges\n",
    "    nx.draw_networkx_edges(G, pos, alpha=edge_alpha, arrows=True, arrowsize=edge_arrow_size, width=edge_weights,\n",
    "                           edge_color=edge_weights, edge_cmap=cmap, ax=ax, #connectionstyle=\"arc3,rad=-0.25\",\n",
    "                           edge_vmax=cp[score_key].max(), edge_vmin=cp[score_key].min())\n",
    "    nx.draw_networkx_nodes(G, pos, node_color=node_color, node_size=node_size, alpha=node_alpha, ax=ax)\n",
    "\n",
    "    label_options = {\"ec\": \"k\", \"fc\": \"white\", \"alpha\": node_label_alpha}\n",
    "    nx.draw_networkx_labels(G, {k: v + np.array(node_label_offset) for k, v in pos.items()},\n",
    "                            font_size=node_label_size, bbox=label_options, ax=ax)\n",
    "\n",
    "    # Adjust axis limits\n",
    "    ax.set_frame_on(False)\n",
    "    xlim = ax.get_xlim()\n",
    "    ylim = ax.get_ylim()\n",
    "    coeff = 1.4 # NOTE\n",
    "    ax.set_xlim((xlim[0] * coeff, xlim[1] * coeff))\n",
    "    ax.set_ylim((ylim[0] * coeff, ylim[1] * coeff))\n",
    "    ax.set_title(score_key, fontsize=title_size, fontweight='bold')\n",
    "\n",
    "    if show_colorbar:\n",
    "        sm = plt.cm.ScalarMappable(cmap=cmap, norm=plt.Normalize(vmin=edge_weights.min(), vmax=edge_weights.max()))\n",
    "        plt.colorbar(sm, ax=ax, label='Edge Weight', shrink=0.8)\n",
    "\n",
    "    plt.tight_layout()\n",
    "    plt.title(\"\")    \n",
    "    \n",
    "    if filename is not None:\n",
    "        plt.savefig(filename, dpi=200, bbox_inches='tight')\n",
    "    else:\n",
    "        plt.show()\n",
    "    \n",
    "    return fig, ax"
   ]
  },
  {
   "cell_type": "code",
   "execution_count": 15,
   "metadata": {},
   "outputs": [
    {
     "name": "stderr",
     "output_type": "stream",
     "text": [
      "/tmp/ipykernel_3538826/2870416136.py:63: MatplotlibDeprecationWarning: The get_cmap function was deprecated in Matplotlib 3.7 and will be removed two minor releases later. Use ``matplotlib.colormaps[name]`` or ``matplotlib.colormaps.get_cmap(obj)`` instead.\n"
     ]
    },
    {
     "data": {
      "image/png": "[encoded data removed]",
      "text/plain": [
       "<Figure size 500x500 with 1 Axes>"
      ]
     },
     "metadata": {},
     "output_type": "display_data"
    },
    {
     "data": {
      "text/plain": [
       "(<Figure size 500x500 with 1 Axes>, <Axes: >)"
      ]
     },
     "execution_count": 15,
     "metadata": {},
     "output_type": "execute_result"
    }
   ],
   "source": [
    "plot_network(ints, source_key='predictor', \n",
    "             score_key='importances', \n",
    "             node_size=750, \n",
    "             figsize=(5, 5),\n",
    "             node_label_offset=[0,0],\n",
    "             edge_width_factor=1.5,\n",
    "             network_layout='circular')"
   ]
  },
  {
   "cell_type": "code",
   "execution_count": null,
   "metadata": {},
   "outputs": [],
   "source": []
  },
  {
   "cell_type": "code",
   "execution_count": null,
   "metadata": {},
   "outputs": [],
   "source": []
  },
  {
   "cell_type": "code",
   "execution_count": null,
   "metadata": {},
   "outputs": [],
   "source": []
  }
 ],
 "metadata": {
  "kernelspec": {
   "display_name": "spiana",
   "language": "python",
   "name": "python3"
  },
  "language_info": {
   "codemirror_mode": {
    "name": "ipython",
    "version": 3
   },
   "file_extension": ".py",
   "mimetype": "text/x-python",
   "name": "python",
   "nbconvert_exporter": "python",
   "pygments_lexer": "ipython3",
   "version": "3.10.13"
  },
  "orig_nbformat": 4
 },
 "nbformat": 4,
 "nbformat_minor": 2
}
