{
 "cells": [
  {
   "cell_type": "code",
   "execution_count": null,
   "metadata": {},
   "outputs": [],
   "source": []
  },
  {
   "cell_type": "code",
   "execution_count": null,
   "metadata": {},
   "outputs": [],
   "source": []
  },
  {
   "cell_type": "code",
   "execution_count": null,
   "metadata": {},
   "outputs": [],
   "source": []
  },
  {
   "attachments": {},
   "cell_type": "markdown",
   "metadata": {},
   "source": [
    "## Basis"
   ]
  },
  {
   "cell_type": "code",
   "execution_count": null,
   "metadata": {},
   "outputs": [],
   "source": [
    "# load map of genes to cytosig signatures\n",
    "cytosig_map = pd.read_csv('../cytosig_map.csv', index_col=0)\n",
    "cytosig_map = cytosig_map.reset_index(names='source')\n",
    "# Translate targets\n",
    "cytosig_map = dc.translate_net(cytosig_map, target_organism = 'mouse', columns=['target'])\n",
    "cytosig_map.head()"
   ]
  },
  {
   "cell_type": "code",
   "execution_count": null,
   "metadata": {},
   "outputs": [],
   "source": []
  },
  {
   "cell_type": "code",
   "execution_count": null,
   "metadata": {},
   "outputs": [],
   "source": []
  },
  {
   "cell_type": "code",
   "execution_count": null,
   "metadata": {},
   "outputs": [],
   "source": []
  },
  {
   "attachments": {},
   "cell_type": "markdown",
   "metadata": {},
   "source": [
    "## Run MOFAcell"
   ]
  },
  {
   "cell_type": "code",
   "execution_count": null,
   "metadata": {},
   "outputs": [],
   "source": [
    "from mudata import MuData\n",
    "import muon as mu\n",
    "import mofax as mofa"
   ]
  },
  {
   "cell_type": "code",
   "execution_count": null,
   "metadata": {},
   "outputs": [],
   "source": [
    "adata = sc.concat(adatas=adatas)\n",
    "adata.obs['leiden'] = adata.obs['leiden'].replace({'5':'2'})"
   ]
  },
  {
   "cell_type": "code",
   "execution_count": null,
   "metadata": {},
   "outputs": [
    {
     "name": "stderr",
     "output_type": "stream",
     "text": [
      "100%|██████████| 5/5 [00:01<00:00,  4.82it/s]\n"
     ]
    }
   ],
   "source": [
    "mdata = li.multi.adata_to_views(adata,\n",
    "                                groupby='leiden',\n",
    "                                sample_key='sample',\n",
    "                                obs_keys=None,\n",
    "                                min_prop=0.05, # min nnz values (filter features]\n",
    "                                min_smpls=3, # min samples per view (filter features]\n",
    "                                min_cells=25, # min cells per view (filter samples]\n",
    "                                min_counts=100, # min counts per view (filter samples]\n",
    "                                mode='sum', # mode of aggregation\n",
    "                                verbose=True,\n",
    "                                skip_checks=True,\n",
    "                                layer='counts'\n",
    "                                )"
   ]
  },
  {
   "cell_type": "code",
   "execution_count": null,
   "metadata": {},
   "outputs": [],
   "source": []
  },
  {
   "cell_type": "code",
   "execution_count": null,
   "metadata": {},
   "outputs": [],
   "source": [
    "for mod in mdata.mod.keys():\n",
    "    sc.pp.normalize_total(mdata.mod[mod], target_sum=1e4)\n",
    "    sc.pp.log1p(mdata.mod[mod])\n",
    "    \n",
    "    sc.pp.highly_variable_genes(mdata.mod[mod], min_mean=0.0125, max_mean=3, min_disp=0.5)"
   ]
  },
  {
   "cell_type": "code",
   "execution_count": null,
   "metadata": {},
   "outputs": [
    {
     "name": "stdout",
     "output_type": "stream",
     "text": [
      "\n",
      "        #########################################################\n",
      "        ###           __  __  ____  ______                    ### \n",
      "        ###          |  \\/  |/ __ \\|  ____/\\    _             ### \n",
      "        ###          | \\  / | |  | | |__ /  \\ _| |_           ### \n",
      "        ###          | |\\/| | |  | |  __/ /\\ \\_   _|          ###\n",
      "        ###          | |  | | |__| | | / ____ \\|_|            ###\n",
      "        ###          |_|  |_|\\____/|_|/_/    \\_\\              ###\n",
      "        ###                                                   ### \n",
      "        ######################################################### \n",
      "       \n",
      " \n",
      "        \n",
      "Loaded view='4' group='group1' with N=5 samples and D=7741 features...\n",
      "Loaded view='1' group='group1' with N=5 samples and D=9674 features...\n",
      "Loaded view='3' group='group1' with N=5 samples and D=10690 features...\n",
      "Loaded view='2' group='group1' with N=5 samples and D=10097 features...\n",
      "Loaded view='0' group='group1' with N=5 samples and D=8821 features...\n",
      "\n",
      "\n",
      "Model options:\n",
      "- Automatic Relevance Determination prior on the factors: True\n",
      "- Automatic Relevance Determination prior on the weights: True\n",
      "- Spike-and-slab prior on the factors: False\n",
      "- Spike-and-slab prior on the weights: True\n",
      "Likelihoods:\n",
      "- View 0 (4): gaussian\n",
      "- View 1 (1): gaussian\n",
      "- View 2 (3): gaussian\n",
      "- View 3 (2): gaussian\n",
      "- View 4 (0): gaussian\n",
      "\n",
      "\n",
      "\n",
      "Warning: some group(s) have less than 15 samples, MOFA won't be able to learn meaningful factors for these group(s)...\n",
      "\n",
      "\n",
      "\n",
      "######################################\n",
      "## Training the model with seed 1 ##\n",
      "######################################\n",
      "\n",
      "\n",
      "\n",
      "Converged!\n",
      "\n",
      "\n",
      "\n",
      "#######################\n",
      "## Training finished ##\n",
      "#######################\n",
      "\n",
      "\n",
      "Warning: Output file models/mofacell.hdf5 already exists, it will be replaced\n",
      "Saving model in models/mofacell.hdf5...\n",
      "Saved MOFA embeddings in .obsm['X_mofa'] slot and their loadings in .varm['LFs'].\n"
     ]
    }
   ],
   "source": [
    "model = mu.tl.mofa(mdata, \n",
    "                   use_obs='union',\n",
    "                   convergence_mode='medium',\n",
    "                   outfile=\"models/mofacell.hdf5\",\n",
    "                   n_factors=4,\n",
    "                   use_var='highly_variable'\n",
    "                   )"
   ]
  },
  {
   "cell_type": "code",
   "execution_count": null,
   "metadata": {},
   "outputs": [
    {
     "ename": "SyntaxError",
     "evalue": "closing parenthesis ']' does not match opening parenthesis '(' (3900559239.py, line 3)",
     "output_type": "error",
     "traceback": [
      "\u001b[0;36m  Cell \u001b[0;32mIn[38], line 3\u001b[0;36m\u001b[0m\n",
      "\u001b[0;31m    factor_scores.head(]\u001b[0m\n",
      "\u001b[0m                       ^\u001b[0m\n",
      "\u001b[0;31mSyntaxError\u001b[0m\u001b[0;31m:\u001b[0m closing parenthesis ']' does not match opening parenthesis '('\n"
     ]
    }
   ],
   "source": [
    "# obtain factor scores\n",
    "factor_scores = li.multi.get_factor_scores(mdata, obsm_key='X_mofa')\n",
    "factor_scores.head(]"
   ]
  },
  {
   "cell_type": "code",
   "execution_count": null,
   "metadata": {},
   "outputs": [],
   "source": [
    "model = mofa.mofa_model(\"models/mofacell.hdf5\")\n",
    "model"
   ]
  },
  {
   "cell_type": "code",
   "execution_count": null,
   "metadata": {},
   "outputs": [],
   "source": [
    "mofa.plot_r2(model, x='View')"
   ]
  },
  {
   "cell_type": "code",
   "execution_count": null,
   "metadata": {},
   "outputs": [],
   "source": [
    "model.close()"
   ]
  },
  {
   "cell_type": "code",
   "execution_count": null,
   "metadata": {},
   "outputs": [],
   "source": []
  },
  {
   "attachments": {},
   "cell_type": "markdown",
   "metadata": {},
   "source": [
    "## Run MOFAtalk"
   ]
  },
  {
   "cell_type": "code",
   "execution_count": null,
   "metadata": {},
   "outputs": [],
   "source": [
    "lrdata.obs['group'] = lrdata.obs['sample'].str.split('_').str[0]"
   ]
  },
  {
   "cell_type": "code",
   "execution_count": null,
   "metadata": {},
   "outputs": [
    {
     "name": "stderr",
     "output_type": "stream",
     "text": [
      "100%|██████████| 6/6 [00:00<00:00, 43.29it/s]\n"
     ]
    }
   ],
   "source": [
    "mdata = li.multi.adata_to_views(lrdata,\n",
    "                                groupby='leiden',\n",
    "                                sample_key='sample',\n",
    "                                obs_keys=['group'],\n",
    "                                min_prop=0.05, # min nnz values (filter features]\n",
    "                                min_smpls=3, # min samples per view (filter features]\n",
    "                                min_cells=25, # min cells per view (filter samples]\n",
    "                                min_counts=0, # min counts per view (filter samples]\n",
    "                                mode='mean', # mode of aggregation\n",
    "                                verbose=True,\n",
    "                                skip_checks=True\n",
    "                                )"
   ]
  },
  {
   "cell_type": "code",
   "execution_count": null,
   "metadata": {},
   "outputs": [
    {
     "data": {
      "text/html": [
       "<pre>MuData object with n_obs × n_vars = 1 × 4917\n",
       "  obs:\t&#x27;group&#x27;\n",
       "  6 modalities\n",
       "    4:\t1 x 799\n",
       "      layers:\t&#x27;psbulk_props&#x27;\n",
       "    1:\t1 x 817\n",
       "      layers:\t&#x27;psbulk_props&#x27;\n",
       "    3:\t1 x 840\n",
       "      layers:\t&#x27;psbulk_props&#x27;\n",
       "    2:\t1 x 835\n",
       "      layers:\t&#x27;psbulk_props&#x27;\n",
       "    0:\t1 x 807\n",
       "      layers:\t&#x27;psbulk_props&#x27;\n",
       "    5:\t1 x 819\n",
       "      layers:\t&#x27;psbulk_props&#x27;</pre>"
      ],
      "text/plain": [
       "MuData object with n_obs × n_vars = 1 × 4917\n",
       "  obs:\t'group'\n",
       "  6 modalities\n",
       "    4:\t1 x 799\n",
       "      layers:\t'psbulk_props'\n",
       "    1:\t1 x 817\n",
       "      layers:\t'psbulk_props'\n",
       "    3:\t1 x 840\n",
       "      layers:\t'psbulk_props'\n",
       "    2:\t1 x 835\n",
       "      layers:\t'psbulk_props'\n",
       "    0:\t1 x 807\n",
       "      layers:\t'psbulk_props'\n",
       "    5:\t1 x 819\n",
       "      layers:\t'psbulk_props'"
      ]
     },
     "metadata": {},
     "output_type": "display_data"
    }
   ],
   "source": [
    "mdata"
   ]
  },
  {
   "cell_type": "code",
   "execution_count": null,
   "metadata": {},
   "outputs": [
    {
     "name": "stdout",
     "output_type": "stream",
     "text": [
      "\n",
      "        #########################################################\n",
      "        ###           __  __  ____  ______                    ### \n",
      "        ###          |  \\/  |/ __ \\|  ____/\\    _             ### \n",
      "        ###          | \\  / | |  | | |__ /  \\ _| |_           ### \n",
      "        ###          | |\\/| | |  | |  __/ /\\ \\_   _|          ###\n",
      "        ###          | |  | | |__| | | / ____ \\|_|            ###\n",
      "        ###          |_|  |_|\\____/|_|/_/    \\_\\              ###\n",
      "        ###                                                   ### \n",
      "        ######################################################### \n",
      "       \n",
      " \n",
      "        \n",
      "Loaded view='4' group='group1' with N=1 samples and D=799 features...\n",
      "Loaded view='1' group='group1' with N=1 samples and D=817 features...\n",
      "Loaded view='3' group='group1' with N=1 samples and D=840 features...\n",
      "Loaded view='2' group='group1' with N=1 samples and D=835 features...\n",
      "Loaded view='0' group='group1' with N=1 samples and D=807 features...\n",
      "Loaded view='5' group='group1' with N=1 samples and D=819 features...\n",
      "\n",
      "\n",
      "Warning: 799 features(s) in view 0 have zero variance, consider removing them before training the model...\n",
      "\n",
      "Warning: 817 features(s) in view 1 have zero variance, consider removing them before training the model...\n",
      "\n",
      "Warning: 840 features(s) in view 2 have zero variance, consider removing them before training the model...\n",
      "\n",
      "Warning: 835 features(s) in view 3 have zero variance, consider removing them before training the model...\n",
      "\n",
      "Warning: 807 features(s) in view 4 have zero variance, consider removing them before training the model...\n",
      "\n",
      "Warning: 819 features(s) in view 5 have zero variance, consider removing them before training the model...\n",
      "\n",
      "Model options:\n",
      "- Automatic Relevance Determination prior on the factors: True\n",
      "- Automatic Relevance Determination prior on the weights: True\n",
      "- Spike-and-slab prior on the factors: False\n",
      "- Spike-and-slab prior on the weights: True\n",
      "Likelihoods:\n",
      "- View 0 (4): gaussian\n",
      "- View 1 (1): gaussian\n",
      "- View 2 (3): gaussian\n",
      "- View 3 (2): gaussian\n",
      "- View 4 (0): gaussian\n",
      "- View 5 (5): gaussian\n",
      "\n",
      "\n",
      "\n",
      "Warning: some group(s) have less than 15 samples, MOFA won't be able to learn meaningful factors for these group(s)...\n",
      "\n"
     ]
    },
    {
     "ename": "ValueError",
     "evalue": "n_components=4 must be between 0 and min(n_samples, n_features)=1 with svd_solver='full'",
     "output_type": "error",
     "traceback": [
      "\u001b[0;31m---------------------------------------------------------------------------\u001b[0m\n",
      "\u001b[0;31mValueError\u001b[0m                                Traceback (most recent call last)\n",
      "Cell \u001b[0;32mIn[47], line 1\u001b[0m\n",
      "\u001b[0;32m----> 1\u001b[0m model \u001b[39m=\u001b[39m mu\u001b[39m.\u001b[39;49mtl\u001b[39m.\u001b[39;49mmofa(mdata, \n",
      "\u001b[1;32m      2\u001b[0m                    use_obs\u001b[39m=\u001b[39;49m\u001b[39m'\u001b[39;49m\u001b[39munion\u001b[39;49m\u001b[39m'\u001b[39;49m,\n",
      "\u001b[1;32m      3\u001b[0m                    convergence_mode\u001b[39m=\u001b[39;49m\u001b[39m'\u001b[39;49m\u001b[39mmedium\u001b[39;49m\u001b[39m'\u001b[39;49m,\n",
      "\u001b[1;32m      4\u001b[0m                    outfile\u001b[39m=\u001b[39;49m\u001b[39m\"\u001b[39;49m\u001b[39mmodels/lrs.h5ad\u001b[39;49m\u001b[39m\"\u001b[39;49m,\n",
      "\u001b[1;32m      5\u001b[0m                    n_factors\u001b[39m=\u001b[39;49m\u001b[39m4\u001b[39;49m\n",
      "\u001b[1;32m      6\u001b[0m                    )\n",
      "\n",
      "File \u001b[0;32m~/anaconda3/envs/spiana/lib/python3.10/site-packages/muon/_core/tools.py:584\u001b[0m, in \u001b[0;36mmofa\u001b[0;34m(data, groups_label, use_raw, use_layer, use_var, use_obs, likelihoods, n_factors, scale_views, scale_groups, center_groups, ard_weights, ard_factors, spikeslab_weights, spikeslab_factors, n_iterations, convergence_mode, use_float32, gpu_mode, gpu_device, svi_mode, svi_batch_size, svi_learning_rate, svi_forgetting_rate, svi_start_stochastic, smooth_covariate, smooth_warping, smooth_kwargs, save_parameters, save_data, save_metadata, seed, outfile, expectations, save_interrupted, verbose, quiet, copy)\u001b[0m\n",
      "\u001b[1;32m    568\u001b[0m     ent\u001b[39m.\u001b[39mset_smooth_options(\n",
      "\u001b[1;32m    569\u001b[0m         scale_cov\u001b[39m=\u001b[39msmooth_kwargs[\u001b[39m\"\u001b[39m\u001b[39mscale_cov\u001b[39m\u001b[39m\"\u001b[39m],\n",
      "\u001b[1;32m    570\u001b[0m         start_opt\u001b[39m=\u001b[39msmooth_kwargs[\u001b[39m\"\u001b[39m\u001b[39mstart_opt\u001b[39m\u001b[39m\"\u001b[39m],\n",
      "\u001b[0;32m   (...)\u001b[0m\n",
      "\u001b[1;32m    580\u001b[0m         frac_inducing\u001b[39m=\u001b[39msmooth_kwargs[\u001b[39m\"\u001b[39m\u001b[39mfrac_inducing\u001b[39m\u001b[39m\"\u001b[39m],\n",
      "\u001b[1;32m    581\u001b[0m     )\n",
      "\u001b[1;32m    583\u001b[0m logging\u001b[39m.\u001b[39minfo(\u001b[39mf\u001b[39m\u001b[39m\"\u001b[39m\u001b[39m[\u001b[39m\u001b[39m{\u001b[39;00mdatetime\u001b[39m.\u001b[39mnow()\u001b[39m.\u001b[39mstrftime(\u001b[39m'\u001b[39m\u001b[39m%\u001b[39m\u001b[39mY-\u001b[39m\u001b[39m%\u001b[39m\u001b[39mm-\u001b[39m\u001b[39m%d\u001b[39;00m\u001b[39m \u001b[39m\u001b[39m%\u001b[39m\u001b[39mH:\u001b[39m\u001b[39m%\u001b[39m\u001b[39mM:\u001b[39m\u001b[39m%\u001b[39m\u001b[39mS\u001b[39m\u001b[39m'\u001b[39m)\u001b[39m}\u001b[39;00m\u001b[39m] Building the model...\u001b[39m\u001b[39m\"\u001b[39m)\n",
      "\u001b[0;32m--> 584\u001b[0m ent\u001b[39m.\u001b[39;49mbuild()\n",
      "\u001b[1;32m    585\u001b[0m logging\u001b[39m.\u001b[39minfo(\u001b[39mf\u001b[39m\u001b[39m\"\u001b[39m\u001b[39m[\u001b[39m\u001b[39m{\u001b[39;00mdatetime\u001b[39m.\u001b[39mnow()\u001b[39m.\u001b[39mstrftime(\u001b[39m'\u001b[39m\u001b[39m%\u001b[39m\u001b[39mY-\u001b[39m\u001b[39m%\u001b[39m\u001b[39mm-\u001b[39m\u001b[39m%d\u001b[39;00m\u001b[39m \u001b[39m\u001b[39m%\u001b[39m\u001b[39mH:\u001b[39m\u001b[39m%\u001b[39m\u001b[39mM:\u001b[39m\u001b[39m%\u001b[39m\u001b[39mS\u001b[39m\u001b[39m'\u001b[39m)\u001b[39m}\u001b[39;00m\u001b[39m] Running the model...\u001b[39m\u001b[39m\"\u001b[39m)\n",
      "\u001b[1;32m    586\u001b[0m ent\u001b[39m.\u001b[39mrun()\n",
      "\n",
      "File \u001b[0;32m~/anaconda3/envs/spiana/lib/python3.10/site-packages/mofapy2/run/entry_point.py:1405\u001b[0m, in \u001b[0;36mentry_point.build\u001b[0;34m(self)\u001b[0m\n",
      "\u001b[1;32m   1397\u001b[0m \u001b[39melse\u001b[39;00m:\n",
      "\u001b[1;32m   1398\u001b[0m     tmp \u001b[39m=\u001b[39m buildBiofam(\n",
      "\u001b[1;32m   1399\u001b[0m         \u001b[39mself\u001b[39m\u001b[39m.\u001b[39mdata,\n",
      "\u001b[1;32m   1400\u001b[0m         \u001b[39mself\u001b[39m\u001b[39m.\u001b[39mdimensionalities,\n",
      "\u001b[0;32m   (...)\u001b[0m\n",
      "\u001b[1;32m   1403\u001b[0m         \u001b[39mself\u001b[39m\u001b[39m.\u001b[39mtrain_opts,\n",
      "\u001b[1;32m   1404\u001b[0m     )\n",
      "\u001b[0;32m-> 1405\u001b[0m tmp\u001b[39m.\u001b[39;49mmain()\n",
      "\u001b[1;32m   1407\u001b[0m \u001b[39m# Create BayesNet class\u001b[39;00m\n",
      "\u001b[1;32m   1408\u001b[0m \u001b[39mif\u001b[39;00m \u001b[39mself\u001b[39m\u001b[39m.\u001b[39mtrain_opts[\u001b[39m\"\u001b[39m\u001b[39mstochastic\u001b[39m\u001b[39m\"\u001b[39m]:\n",
      "\n",
      "File \u001b[0;32m~/anaconda3/envs/spiana/lib/python3.10/site-packages/mofapy2/build_model/build_model.py:56\u001b[0m, in \u001b[0;36mbuildBiofam.main\u001b[0;34m(self)\u001b[0m\n",
      "\u001b[1;32m     47\u001b[0m \u001b[39mself\u001b[39m\u001b[39m.\u001b[39minit_model \u001b[39m=\u001b[39m initModel(\n",
      "\u001b[1;32m     48\u001b[0m     dim\u001b[39m=\u001b[39m\u001b[39mself\u001b[39m\u001b[39m.\u001b[39mdim,\n",
      "\u001b[1;32m     49\u001b[0m     data\u001b[39m=\u001b[39m\u001b[39mself\u001b[39m\u001b[39m.\u001b[39mdata,\n",
      "\u001b[0;32m   (...)\u001b[0m\n",
      "\u001b[1;32m     52\u001b[0m     seed\u001b[39m=\u001b[39m\u001b[39mself\u001b[39m\u001b[39m.\u001b[39mtrain_opts[\u001b[39m\"\u001b[39m\u001b[39mseed\u001b[39m\u001b[39m\"\u001b[39m],\n",
      "\u001b[1;32m     53\u001b[0m )\n",
      "\u001b[1;32m     55\u001b[0m \u001b[39m# Build all nodes\u001b[39;00m\n",
      "\u001b[0;32m---> 56\u001b[0m \u001b[39mself\u001b[39;49m\u001b[39m.\u001b[39;49mbuild_nodes()\n",
      "\u001b[1;32m     58\u001b[0m \u001b[39m# Define markov blankets\u001b[39;00m\n",
      "\u001b[1;32m     59\u001b[0m \u001b[39mself\u001b[39m\u001b[39m.\u001b[39mcreateMarkovBlankets()\n",
      "\n",
      "File \u001b[0;32m~/anaconda3/envs/spiana/lib/python3.10/site-packages/mofapy2/build_model/build_model.py:65\u001b[0m, in \u001b[0;36mbuildBiofam.build_nodes\u001b[0;34m(self)\u001b[0m\n",
      "\u001b[1;32m     62\u001b[0m \u001b[39m\u001b[39m\u001b[39m\"\"\"Method to build all nodes\"\"\"\u001b[39;00m\n",
      "\u001b[1;32m     64\u001b[0m \u001b[39m# Build general nodes\u001b[39;00m\n",
      "\u001b[0;32m---> 65\u001b[0m \u001b[39mself\u001b[39;49m\u001b[39m.\u001b[39;49mbuild_Z()\n",
      "\u001b[1;32m     66\u001b[0m \u001b[39mself\u001b[39m\u001b[39m.\u001b[39mbuild_W()\n",
      "\u001b[1;32m     67\u001b[0m \u001b[39mself\u001b[39m\u001b[39m.\u001b[39mbuild_Tau()\n",
      "\n",
      "File \u001b[0;32m~/anaconda3/envs/spiana/lib/python3.10/site-packages/mofapy2/build_model/build_model.py:104\u001b[0m, in \u001b[0;36mbuildBiofam.build_Z\u001b[0;34m(self)\u001b[0m\n",
      "\u001b[1;32m     95\u001b[0m     \u001b[39mself\u001b[39m\u001b[39m.\u001b[39minit_model\u001b[39m.\u001b[39minitSZ(\n",
      "\u001b[1;32m     96\u001b[0m         qmean_T1\u001b[39m=\u001b[39m\u001b[39m\"\u001b[39m\u001b[39mpca\u001b[39m\u001b[39m\"\u001b[39m,\n",
      "\u001b[1;32m     97\u001b[0m         Y\u001b[39m=\u001b[39m\u001b[39mself\u001b[39m\u001b[39m.\u001b[39mdata,\n",
      "\u001b[1;32m     98\u001b[0m         impute\u001b[39m=\u001b[39m\u001b[39mTrue\u001b[39;00m,\n",
      "\u001b[1;32m     99\u001b[0m         weight_views\u001b[39m=\u001b[39m\u001b[39mself\u001b[39m\u001b[39m.\u001b[39mtrain_opts[\u001b[39m\"\u001b[39m\u001b[39mweight_views\u001b[39m\u001b[39m\"\u001b[39m],\n",
      "\u001b[1;32m    100\u001b[0m     )\n",
      "\u001b[1;32m    101\u001b[0m \u001b[39melse\u001b[39;00m:\n",
      "\u001b[1;32m    102\u001b[0m     \u001b[39m# self.init_model.initZ(qmean=0)\u001b[39;00m\n",
      "\u001b[1;32m    103\u001b[0m     \u001b[39m# self.init_model.initZ(qmean=\"random\")\u001b[39;00m\n",
      "\u001b[0;32m--> 104\u001b[0m     \u001b[39mself\u001b[39;49m\u001b[39m.\u001b[39;49minit_model\u001b[39m.\u001b[39;49minitZ(\n",
      "\u001b[1;32m    105\u001b[0m         qmean\u001b[39m=\u001b[39;49m\u001b[39m\"\u001b[39;49m\u001b[39mpca\u001b[39;49m\u001b[39m\"\u001b[39;49m,\n",
      "\u001b[1;32m    106\u001b[0m         Y\u001b[39m=\u001b[39;49m\u001b[39mself\u001b[39;49m\u001b[39m.\u001b[39;49mdata,\n",
      "\u001b[1;32m    107\u001b[0m         impute\u001b[39m=\u001b[39;49m\u001b[39mTrue\u001b[39;49;00m,\n",
      "\u001b[1;32m    108\u001b[0m         weight_views\u001b[39m=\u001b[39;49m\u001b[39mself\u001b[39;49m\u001b[39m.\u001b[39;49mtrain_opts[\u001b[39m\"\u001b[39;49m\u001b[39mweight_views\u001b[39;49m\u001b[39m\"\u001b[39;49m],\n",
      "\u001b[1;32m    109\u001b[0m     )\n",
      "\n",
      "File \u001b[0;32m~/anaconda3/envs/spiana/lib/python3.10/site-packages/mofapy2/build_model/init_model.py:123\u001b[0m, in \u001b[0;36minitModel.initZ\u001b[0;34m(self, pmean, pvar, qmean, qvar, qE, qE2, Y, impute, weight_views)\u001b[0m\n",
      "\u001b[1;32m    120\u001b[0m             imp\u001b[39m.\u001b[39mfit(Ytmp)\n",
      "\u001b[1;32m    121\u001b[0m             Ytmp \u001b[39m=\u001b[39m imp\u001b[39m.\u001b[39mtransform(Ytmp)\n",
      "\u001b[0;32m--> 123\u001b[0m     pca\u001b[39m.\u001b[39;49mfit(Ytmp)\n",
      "\u001b[1;32m    124\u001b[0m     qmean \u001b[39m=\u001b[39m pca\u001b[39m.\u001b[39mtransform(Ytmp)\n",
      "\u001b[1;32m    126\u001b[0m \u001b[39m# scale factor values from -1 to 1 (per factor)\u001b[39;00m\n",
      "\n",
      "File \u001b[0;32m~/anaconda3/envs/spiana/lib/python3.10/site-packages/sklearn/decomposition/_pca.py:435\u001b[0m, in \u001b[0;36mPCA.fit\u001b[0;34m(self, X, y)\u001b[0m\n",
      "\u001b[1;32m    417\u001b[0m \u001b[39m\u001b[39m\u001b[39m\"\"\"Fit the model with X.\u001b[39;00m\n",
      "\u001b[1;32m    418\u001b[0m \n",
      "\u001b[1;32m    419\u001b[0m \u001b[39mParameters\u001b[39;00m\n",
      "\u001b[0;32m   (...)\u001b[0m\n",
      "\u001b[1;32m    431\u001b[0m \u001b[39m    Returns the instance itself.\u001b[39;00m\n",
      "\u001b[1;32m    432\u001b[0m \u001b[39m\"\"\"\u001b[39;00m\n",
      "\u001b[1;32m    433\u001b[0m \u001b[39mself\u001b[39m\u001b[39m.\u001b[39m_validate_params()\n",
      "\u001b[0;32m--> 435\u001b[0m \u001b[39mself\u001b[39;49m\u001b[39m.\u001b[39;49m_fit(X)\n",
      "\u001b[1;32m    436\u001b[0m \u001b[39mreturn\u001b[39;00m \u001b[39mself\u001b[39m\n",
      "\n",
      "File \u001b[0;32m~/anaconda3/envs/spiana/lib/python3.10/site-packages/sklearn/decomposition/_pca.py:512\u001b[0m, in \u001b[0;36mPCA._fit\u001b[0;34m(self, X)\u001b[0m\n",
      "\u001b[1;32m    510\u001b[0m \u001b[39m# Call different fits for either full or truncated SVD\u001b[39;00m\n",
      "\u001b[1;32m    511\u001b[0m \u001b[39mif\u001b[39;00m \u001b[39mself\u001b[39m\u001b[39m.\u001b[39m_fit_svd_solver \u001b[39m==\u001b[39m \u001b[39m\"\u001b[39m\u001b[39mfull\u001b[39m\u001b[39m\"\u001b[39m:\n",
      "\u001b[0;32m--> 512\u001b[0m     \u001b[39mreturn\u001b[39;00m \u001b[39mself\u001b[39;49m\u001b[39m.\u001b[39;49m_fit_full(X, n_components)\n",
      "\u001b[1;32m    513\u001b[0m \u001b[39melif\u001b[39;00m \u001b[39mself\u001b[39m\u001b[39m.\u001b[39m_fit_svd_solver \u001b[39min\u001b[39;00m [\u001b[39m\"\u001b[39m\u001b[39marpack\u001b[39m\u001b[39m\"\u001b[39m, \u001b[39m\"\u001b[39m\u001b[39mrandomized\u001b[39m\u001b[39m\"\u001b[39m]:\n",
      "\u001b[1;32m    514\u001b[0m     \u001b[39mreturn\u001b[39;00m \u001b[39mself\u001b[39m\u001b[39m.\u001b[39m_fit_truncated(X, n_components, \u001b[39mself\u001b[39m\u001b[39m.\u001b[39m_fit_svd_solver)\n",
      "\n",
      "File \u001b[0;32m~/anaconda3/envs/spiana/lib/python3.10/site-packages/sklearn/decomposition/_pca.py:526\u001b[0m, in \u001b[0;36mPCA._fit_full\u001b[0;34m(self, X, n_components)\u001b[0m\n",
      "\u001b[1;32m    522\u001b[0m         \u001b[39mraise\u001b[39;00m \u001b[39mValueError\u001b[39;00m(\n",
      "\u001b[1;32m    523\u001b[0m             \u001b[39m\"\u001b[39m\u001b[39mn_components=\u001b[39m\u001b[39m'\u001b[39m\u001b[39mmle\u001b[39m\u001b[39m'\u001b[39m\u001b[39m is only supported if n_samples >= n_features\u001b[39m\u001b[39m\"\u001b[39m\n",
      "\u001b[1;32m    524\u001b[0m         )\n",
      "\u001b[1;32m    525\u001b[0m \u001b[39melif\u001b[39;00m \u001b[39mnot\u001b[39;00m \u001b[39m0\u001b[39m \u001b[39m<\u001b[39m\u001b[39m=\u001b[39m n_components \u001b[39m<\u001b[39m\u001b[39m=\u001b[39m \u001b[39mmin\u001b[39m(n_samples, n_features):\n",
      "\u001b[0;32m--> 526\u001b[0m     \u001b[39mraise\u001b[39;00m \u001b[39mValueError\u001b[39;00m(\n",
      "\u001b[1;32m    527\u001b[0m         \u001b[39m\"\u001b[39m\u001b[39mn_components=\u001b[39m\u001b[39m%r\u001b[39;00m\u001b[39m must be between 0 and \u001b[39m\u001b[39m\"\u001b[39m\n",
      "\u001b[1;32m    528\u001b[0m         \u001b[39m\"\u001b[39m\u001b[39mmin(n_samples, n_features)=\u001b[39m\u001b[39m%r\u001b[39;00m\u001b[39m with \u001b[39m\u001b[39m\"\u001b[39m\n",
      "\u001b[1;32m    529\u001b[0m         \u001b[39m\"\u001b[39m\u001b[39msvd_solver=\u001b[39m\u001b[39m'\u001b[39m\u001b[39mfull\u001b[39m\u001b[39m'\u001b[39m\u001b[39m\"\u001b[39m \u001b[39m%\u001b[39m (n_components, \u001b[39mmin\u001b[39m(n_samples, n_features))\n",
      "\u001b[1;32m    530\u001b[0m     )\n",
      "\u001b[1;32m    532\u001b[0m \u001b[39m# Center data\u001b[39;00m\n",
      "\u001b[1;32m    533\u001b[0m \u001b[39mself\u001b[39m\u001b[39m.\u001b[39mmean_ \u001b[39m=\u001b[39m np\u001b[39m.\u001b[39mmean(X, axis\u001b[39m=\u001b[39m\u001b[39m0\u001b[39m)\n",
      "\n",
      "\u001b[0;31mValueError\u001b[0m: n_components=4 must be between 0 and min(n_samples, n_features)=1 with svd_solver='full'"
     ]
    }
   ],
   "source": [
    "model = mu.tl.mofa(mdata, \n",
    "                   use_obs='union',\n",
    "                   convergence_mode='medium',\n",
    "                   outfile=\"models/lrs.h5ad\",\n",
    "                   n_factors=4\n",
    "                   )"
   ]
  },
  {
   "cell_type": "code",
   "execution_count": null,
   "metadata": {},
   "outputs": [
    {
     "ename": "ValueError",
     "evalue": "X_mofa not found in mdata.obsm",
     "output_type": "error",
     "traceback": [
      "\u001b[0;31m---------------------------------------------------------------------------\u001b[0m\n",
      "\u001b[0;31mValueError\u001b[0m                                Traceback (most recent call last)\n",
      "Cell \u001b[0;32mIn[48], line 2\u001b[0m\n",
      "\u001b[1;32m      1\u001b[0m \u001b[39m# obtain factor scores\u001b[39;00m\n",
      "\u001b[0;32m----> 2\u001b[0m factor_scores \u001b[39m=\u001b[39m li\u001b[39m.\u001b[39;49mmulti\u001b[39m.\u001b[39;49mget_factor_scores(mdata, obsm_key\u001b[39m=\u001b[39;49m\u001b[39m'\u001b[39;49m\u001b[39mX_mofa\u001b[39;49m\u001b[39m'\u001b[39;49m)\n",
      "\u001b[1;32m      3\u001b[0m factor_scores\u001b[39m.\u001b[39mhead()\n",
      "\n",
      "File \u001b[0;32m~/anaconda3/envs/spiana/lib/python3.10/site-packages/liana/multi/to_mudata.py:371\u001b[0m, in \u001b[0;36mget_factor_scores\u001b[0;34m(mdata, obsm_key)\u001b[0m\n",
      "\u001b[1;32m    354\u001b[0m \u001b[39m\u001b[39m\u001b[39m\"\"\"\u001b[39;00m\n",
      "\u001b[1;32m    355\u001b[0m \u001b[39mA helper function to extract factor scores from a MuData object.\u001b[39;00m\n",
      "\u001b[1;32m    356\u001b[0m \u001b[39m\u001b[39;00m\n",
      "\u001b[0;32m   (...)\u001b[0m\n",
      "\u001b[1;32m    367\u001b[0m \u001b[39m\u001b[39;00m\n",
      "\u001b[1;32m    368\u001b[0m \u001b[39m\"\"\"\u001b[39;00m\n",
      "\u001b[1;32m    370\u001b[0m \u001b[39mif\u001b[39;00m obsm_key \u001b[39mnot\u001b[39;00m \u001b[39min\u001b[39;00m mdata\u001b[39m.\u001b[39mobsm\u001b[39m.\u001b[39mkeys():\n",
      "\u001b[0;32m--> 371\u001b[0m     \u001b[39mraise\u001b[39;00m \u001b[39mValueError\u001b[39;00m(\u001b[39mf\u001b[39m\u001b[39m'\u001b[39m\u001b[39m{\u001b[39;00mobsm_key\u001b[39m}\u001b[39;00m\u001b[39m not found in mdata.obsm\u001b[39m\u001b[39m'\u001b[39m)\n",
      "\u001b[1;32m    373\u001b[0m df \u001b[39m=\u001b[39m pd\u001b[39m.\u001b[39mDataFrame(mdata\u001b[39m.\u001b[39mobsm[\u001b[39m'\u001b[39m\u001b[39mX_mofa\u001b[39m\u001b[39m'\u001b[39m], index\u001b[39m=\u001b[39mmdata\u001b[39m.\u001b[39mobs\u001b[39m.\u001b[39mindex)\n",
      "\u001b[1;32m    375\u001b[0m df\u001b[39m.\u001b[39mcolumns \u001b[39m=\u001b[39m [\u001b[39m'\u001b[39m\u001b[39mFactor_\u001b[39m\u001b[39m{0}\u001b[39;00m\u001b[39m'\u001b[39m\u001b[39m.\u001b[39mformat(x \u001b[39m+\u001b[39m \u001b[39m1\u001b[39m) \u001b[39mfor\u001b[39;00m x \u001b[39min\u001b[39;00m \u001b[39mrange\u001b[39m(df\u001b[39m.\u001b[39mshape[\u001b[39m1\u001b[39m])]\n",
      "\n",
      "\u001b[0;31mValueError\u001b[0m: X_mofa not found in mdata.obsm"
     ]
    }
   ],
   "source": [
    "# obtain factor scores\n",
    "factor_scores = li.multi.get_factor_scores(mdata, obsm_key='X_mofa')\n",
    "factor_scores.head()\n"
   ]
  },
  {
   "cell_type": "code",
   "execution_count": null,
   "metadata": {},
   "outputs": [
    {
     "data": {
      "text/plain": [
       "MOFA+ model: lrs.h5ad\n",
       "Samples (cells): 5\n",
       "Features: 3071\n",
       "Groups: group1 (5)\n",
       "Views: 0 (542), 1 (540), 2 (553), 3 (550), 4 (425), 5 (461)\n",
       "Factors: 5\n",
       "Expectations: W, Z"
      ]
     },
     "metadata": {},
     "output_type": "display_data"
    }
   ],
   "source": [
    "model = mofa.mofa_model(\"models/lrs.h5ad\")\n",
    "model"
   ]
  },
  {
   "cell_type": "code",
   "execution_count": null,
   "metadata": {},
   "outputs": [
    {
     "data": {
      "image/png": "[encoded data removed]",
      "text/plain": [
       "<Figure size 640x480 with 2 Axes>"
      ]
     },
     "metadata": {},
     "output_type": "display_data"
    }
   ],
   "source": [
    "mofa.plot_r2(model, x='View')"
   ]
  },
  {
   "cell_type": "code",
   "execution_count": null,
   "metadata": {},
   "outputs": [
    {
     "ename": "KeyError",
     "evalue": "'LFs'",
     "output_type": "error",
     "traceback": [
      "\u001b[0;31m---------------------------------------------------------------------------\u001b[0m\n",
      "\u001b[0;31mKeyError\u001b[0m                                  Traceback (most recent call last)\n",
      "Cell \u001b[0;32mIn[51], line 1\u001b[0m\n",
      "\u001b[0;32m----> 1\u001b[0m factor1_loadings \u001b[39m=\u001b[39m  li\u001b[39m.\u001b[39;49mmulti\u001b[39m.\u001b[39;49mget_variable_loadings(mdata, \u001b[39m0\u001b[39;49m, view_separator\u001b[39m=\u001b[39;49m\u001b[39m'\u001b[39;49m\u001b[39m:\u001b[39;49m\u001b[39m'\u001b[39;49m) \u001b[39m# get loadings for factor 1\u001b[39;00m\n",
      "\u001b[1;32m      2\u001b[0m \u001b[39m## NOTE this should work, not only with 0...\u001b[39;00m\n",
      "\n",
      "File \u001b[0;32m~/anaconda3/envs/spiana/lib/python3.10/site-packages/liana/multi/to_mudata.py:322\u001b[0m, in \u001b[0;36mget_variable_loadings\u001b[0;34m(mdata, idx, varm_key, view_separator, variable_separator, pair_separator, var_names, pair_names, drop_columns)\u001b[0m\n",
      "\u001b[1;32m    285\u001b[0m \u001b[39mdef\u001b[39;00m \u001b[39mget_variable_loadings\u001b[39m(mdata,\n",
      "\u001b[1;32m    286\u001b[0m                           idx,\n",
      "\u001b[1;32m    287\u001b[0m                           varm_key \u001b[39m=\u001b[39m \u001b[39m'\u001b[39m\u001b[39mLFs\u001b[39m\u001b[39m'\u001b[39m,\n",
      "\u001b[0;32m   (...)\u001b[0m\n",
      "\u001b[1;32m    293\u001b[0m                           drop_columns \u001b[39m=\u001b[39m \u001b[39mTrue\u001b[39;00m\n",
      "\u001b[1;32m    294\u001b[0m                           ):\n",
      "\u001b[1;32m    295\u001b[0m \u001b[39m    \u001b[39m\u001b[39m\"\"\"\u001b[39;00m\n",
      "\u001b[1;32m    296\u001b[0m \u001b[39m    A helper function to extract variable loadings from a MuData object.\u001b[39;00m\n",
      "\u001b[1;32m    297\u001b[0m \u001b[39m    \u001b[39;00m\n",
      "\u001b[0;32m   (...)\u001b[0m\n",
      "\u001b[1;32m    319\u001b[0m \u001b[39m    \u001b[39;00m\n",
      "\u001b[1;32m    320\u001b[0m \u001b[39m    \"\"\"\u001b[39;00m\n",
      "\u001b[0;32m--> 322\u001b[0m     df \u001b[39m=\u001b[39m sc\u001b[39m.\u001b[39;49mget\u001b[39m.\u001b[39;49mvar_df(mdata, varm_keys\u001b[39m=\u001b[39;49m[(varm_key, idx)])\n",
      "\u001b[1;32m    323\u001b[0m     df\u001b[39m.\u001b[39mindex\u001b[39m.\u001b[39mname \u001b[39m=\u001b[39m \u001b[39mNone\u001b[39;00m\n",
      "\u001b[1;32m    324\u001b[0m     df \u001b[39m=\u001b[39m df\u001b[39m.\u001b[39mreset_index()\u001b[39m.\u001b[39mrename(columns\u001b[39m=\u001b[39m{\u001b[39m'\u001b[39m\u001b[39mindex\u001b[39m\u001b[39m'\u001b[39m:\u001b[39m'\u001b[39m\u001b[39mview:variable\u001b[39m\u001b[39m'\u001b[39m})\n",
      "\n",
      "File \u001b[0;32m~/anaconda3/envs/spiana/lib/python3.10/site-packages/scanpy/get/get.py:374\u001b[0m, in \u001b[0;36mvar_df\u001b[0;34m(adata, keys, varm_keys, layer)\u001b[0m\n",
      "\u001b[1;32m    372\u001b[0m \u001b[39mfor\u001b[39;00m k, idx \u001b[39min\u001b[39;00m varm_keys:\n",
      "\u001b[1;32m    373\u001b[0m     added_k \u001b[39m=\u001b[39m \u001b[39mf\u001b[39m\u001b[39m\"\u001b[39m\u001b[39m{\u001b[39;00mk\u001b[39m}\u001b[39;00m\u001b[39m-\u001b[39m\u001b[39m{\u001b[39;00midx\u001b[39m}\u001b[39;00m\u001b[39m\"\u001b[39m\n",
      "\u001b[0;32m--> 374\u001b[0m     val \u001b[39m=\u001b[39m adata\u001b[39m.\u001b[39;49mvarm[k]\n",
      "\u001b[1;32m    375\u001b[0m     \u001b[39mif\u001b[39;00m \u001b[39misinstance\u001b[39m(val, np\u001b[39m.\u001b[39mndarray):\n",
      "\u001b[1;32m    376\u001b[0m         df[added_k] \u001b[39m=\u001b[39m np\u001b[39m.\u001b[39mravel(val[:, idx])\n",
      "\n",
      "File \u001b[0;32m~/anaconda3/envs/spiana/lib/python3.10/site-packages/anndata/_core/aligned_mapping.py:148\u001b[0m, in \u001b[0;36mAlignedActualMixin.__getitem__\u001b[0;34m(self, key)\u001b[0m\n",
      "\u001b[1;32m    147\u001b[0m \u001b[39mdef\u001b[39;00m \u001b[39m__getitem__\u001b[39m(\u001b[39mself\u001b[39m, key: \u001b[39mstr\u001b[39m) \u001b[39m-\u001b[39m\u001b[39m>\u001b[39m V:\n",
      "\u001b[0;32m--> 148\u001b[0m     \u001b[39mreturn\u001b[39;00m \u001b[39mself\u001b[39;49m\u001b[39m.\u001b[39;49m_data[key]\n",
      "\n",
      "\u001b[0;31mKeyError\u001b[0m: 'LFs'"
     ]
    }
   ],
   "source": [
    "factor1_loadings =  li.multi.get_variable_loadings(mdata, 0, view_separator=':') # get loadings for factor 1\n",
    "## NOTE this should work, not only with 0..."
   ]
  },
  {
   "cell_type": "code",
   "execution_count": null,
   "metadata": {},
   "outputs": [
    {
     "ename": "NameError",
     "evalue": "name 'factor1_loadings' is not defined",
     "output_type": "error",
     "traceback": [
      "\u001b[0;31m---------------------------------------------------------------------------\u001b[0m\n",
      "\u001b[0;31mNameError\u001b[0m                                 Traceback (most recent call last)\n",
      "Cell \u001b[0;32mIn[52], line 1\u001b[0m\n",
      "\u001b[0;32m----> 1\u001b[0m factor1_loadings\u001b[39m.\u001b[39mhead(\u001b[39m10\u001b[39m)\n",
      "\n",
      "\u001b[0;31mNameError\u001b[0m: name 'factor1_loadings' is not defined"
     ]
    }
   ],
   "source": [
    "factor1_loadings.head(10)"
   ]
  },
  {
   "cell_type": "code",
   "execution_count": null,
   "metadata": {},
   "outputs": [],
   "source": []
  }
 ],
 "metadata": {
  "kernelspec": {
   "display_name": "Python 3",
   "language": "python",
   "name": "python3"
  },
  "language_info": {
   "name": "python",
   "version": "3.9.16 (main, Dec  7 2022, 01:11:51) \n[GCC 9.4.0]"
  },
  "orig_nbformat": 4,
  "vscode": {
   "interpreter": {
    "hash": "f9f85f796d01129d0dd105a088854619f454435301f6ffec2fea96ecbd9be4ac"
   }
  }
 },
 "nbformat": 4,
 "nbformat_minor": 2
}
