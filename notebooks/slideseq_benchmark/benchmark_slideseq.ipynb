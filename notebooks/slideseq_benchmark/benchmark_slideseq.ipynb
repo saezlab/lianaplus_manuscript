{
 "cells": [
  {
   "cell_type": "markdown",
   "metadata": {},
   "source": [
    "Setup"
   ]
  },
  {
   "cell_type": "code",
   "execution_count": 1,
   "metadata": {},
   "outputs": [],
   "source": [
    "import numpy as np\n",
    "import pandas as pd\n",
    "import os\n",
    "from itertools import product\n",
    "import scanpy as sc\n",
    "import liana as li\n",
    "\n",
    "import seaborn as sns\n",
    "import matplotlib.patches as mpatches\n",
    "import matplotlib.pyplot as plt\n",
    "# tight layout by default\n",
    "plt.rcParams.update({'figure.autolayout': True})\n",
    "\n",
    "from utils import *"
   ]
  },
  {
   "cell_type": "code",
   "execution_count": 2,
   "metadata": {},
   "outputs": [
    {
     "data": {
      "text/plain": [
       "'1.0.5'"
      ]
     },
     "execution_count": 2,
     "metadata": {},
     "output_type": "execute_result"
    }
   ],
   "source": [
    "li.__version__"
   ]
  },
  {
   "cell_type": "code",
   "execution_count": 3,
   "metadata": {},
   "outputs": [],
   "source": [
    "path = os.path.join('..', '..', 'data', 'slidetags')"
   ]
  },
  {
   "cell_type": "code",
   "execution_count": 4,
   "metadata": {},
   "outputs": [
    {
     "data": {
      "text/plain": [
       "['CellPhoneDB', 'Connectome', 'log2FC', 'NATMI', 'SingleCellSignalR']"
      ]
     },
     "execution_count": 4,
     "metadata": {},
     "output_type": "execute_result"
    }
   ],
   "source": [
    "[method.method_name for method in li.mt.rank_aggregate.methods]"
   ]
  },
  {
   "cell_type": "code",
   "execution_count": 5,
   "metadata": {},
   "outputs": [],
   "source": [
    "from liana.method import cellphonedb, connectome, cellchat, scseqcomm, singlecellsignalr, natmi, logfc, rank_aggregate, geometric_mean\n",
    "methods = [cellphonedb, connectome, cellchat, scseqcomm, singlecellsignalr, natmi, logfc, rank_aggregate, geometric_mean]"
   ]
  },
  {
   "cell_type": "code",
   "execution_count": 6,
   "metadata": {},
   "outputs": [],
   "source": [
    "groupby = 'cell_type'"
   ]
  },
  {
   "cell_type": "code",
   "execution_count": 7,
   "metadata": {},
   "outputs": [],
   "source": [
    "d = {\n",
    "     # 'SCP2162': 'mousehippocampus', # NOTE barcodes between metadata and matrix do not match; also very few spatially-matched\n",
    "     'SCP2167': 'humancortex',\n",
    "     'SCP2169': 'HumanTonsil',\n",
    "     'SCP2170': 'mouseembryo',\n",
    "     'SCP2171': 'HumanMelanomaRNA',\n",
    "     'SCP2176': 'HumanMelanomaMultiome'\n",
    "     }"
   ]
  },
  {
   "cell_type": "markdown",
   "metadata": {},
   "source": [
    "Prep Data & Run LIANA"
   ]
  },
  {
   "cell_type": "code",
   "execution_count": 8,
   "metadata": {},
   "outputs": [
    {
     "data": {
      "text/plain": [
       "'../../data/slidetags'"
      ]
     },
     "execution_count": 8,
     "metadata": {},
     "output_type": "execute_result"
    }
   ],
   "source": [
    "path"
   ]
  },
  {
   "cell_type": "code",
   "execution_count": 9,
   "metadata": {},
   "outputs": [
    {
     "name": "stdout",
     "output_type": "stream",
     "text": [
      "SCP2167 humancortex (14165, 36601)\n"
     ]
    },
    {
     "name": "stderr",
     "output_type": "stream",
     "text": [
      "... storing 'X' as categorical\n",
      "... storing 'Y' as categorical\n",
      "... storing 'X' as categorical\n",
      "... storing 'Y' as categorical\n",
      "... storing 'X' as categorical\n",
      "... storing 'Y' as categorical\n",
      "... storing 'X' as categorical\n",
      "... storing 'Y' as categorical\n",
      "... storing 'X' as categorical\n",
      "... storing 'Y' as categorical\n",
      "... storing 'X' as categorical\n",
      "... storing 'Y' as categorical\n",
      "... storing 'X' as categorical\n",
      "... storing 'Y' as categorical\n",
      "... storing 'X' as categorical\n",
      "... storing 'Y' as categorical\n",
      "... storing 'X' as categorical\n",
      "... storing 'Y' as categorical\n",
      "... storing 'cell_type' as categorical\n",
      "... storing 'feature_types' as categorical\n"
     ]
    },
    {
     "name": "stdout",
     "output_type": "stream",
     "text": [
      "SCP2169 HumanTonsil (9360, 36601)\n"
     ]
    },
    {
     "name": "stderr",
     "output_type": "stream",
     "text": [
      "... storing 'X' as categorical\n",
      "... storing 'Y' as categorical\n",
      "... storing 'X' as categorical\n",
      "... storing 'Y' as categorical\n",
      "... storing 'X' as categorical\n",
      "... storing 'Y' as categorical\n",
      "... storing 'X' as categorical\n",
      "... storing 'Y' as categorical\n",
      "... storing 'X' as categorical\n",
      "... storing 'Y' as categorical\n",
      "... storing 'X' as categorical\n",
      "... storing 'Y' as categorical\n",
      "... storing 'X' as categorical\n",
      "... storing 'Y' as categorical\n",
      "... storing 'X' as categorical\n",
      "... storing 'Y' as categorical\n",
      "... storing 'X' as categorical\n",
      "... storing 'Y' as categorical\n",
      "... storing 'cell_type' as categorical\n",
      "... storing 'feature_types' as categorical\n"
     ]
    },
    {
     "name": "stdout",
     "output_type": "stream",
     "text": [
      "SCP2170 mouseembryo (9037, 32285)\n"
     ]
    },
    {
     "name": "stderr",
     "output_type": "stream",
     "text": [
      "/home/dbdimitrov/.local/lib/python3.10/site-packages/scanpy/tools/_rank_genes_groups.py:396: PerformanceWarning: DataFrame is highly fragmented.  This is usually the result of calling `frame.insert` many times, which has poor performance.  Consider joining all columns at once using pd.concat(axis=1) instead. To get a de-fragmented frame, use `newframe = frame.copy()`\n",
      "/home/dbdimitrov/.local/lib/python3.10/site-packages/scanpy/tools/_rank_genes_groups.py:398: PerformanceWarning: DataFrame is highly fragmented.  This is usually the result of calling `frame.insert` many times, which has poor performance.  Consider joining all columns at once using pd.concat(axis=1) instead. To get a de-fragmented frame, use `newframe = frame.copy()`\n",
      "/home/dbdimitrov/.local/lib/python3.10/site-packages/scanpy/tools/_rank_genes_groups.py:401: PerformanceWarning: DataFrame is highly fragmented.  This is usually the result of calling `frame.insert` many times, which has poor performance.  Consider joining all columns at once using pd.concat(axis=1) instead. To get a de-fragmented frame, use `newframe = frame.copy()`\n",
      "/home/dbdimitrov/.local/lib/python3.10/site-packages/scanpy/tools/_rank_genes_groups.py:411: PerformanceWarning: DataFrame is highly fragmented.  This is usually the result of calling `frame.insert` many times, which has poor performance.  Consider joining all columns at once using pd.concat(axis=1) instead. To get a de-fragmented frame, use `newframe = frame.copy()`\n",
      "/home/dbdimitrov/.local/lib/python3.10/site-packages/scanpy/tools/_rank_genes_groups.py:422: PerformanceWarning: DataFrame is highly fragmented.  This is usually the result of calling `frame.insert` many times, which has poor performance.  Consider joining all columns at once using pd.concat(axis=1) instead. To get a de-fragmented frame, use `newframe = frame.copy()`\n",
      "/home/dbdimitrov/.local/lib/python3.10/site-packages/scanpy/tools/_rank_genes_groups.py:396: PerformanceWarning: DataFrame is highly fragmented.  This is usually the result of calling `frame.insert` many times, which has poor performance.  Consider joining all columns at once using pd.concat(axis=1) instead. To get a de-fragmented frame, use `newframe = frame.copy()`\n",
      "/home/dbdimitrov/.local/lib/python3.10/site-packages/scanpy/tools/_rank_genes_groups.py:398: PerformanceWarning: DataFrame is highly fragmented.  This is usually the result of calling `frame.insert` many times, which has poor performance.  Consider joining all columns at once using pd.concat(axis=1) instead. To get a de-fragmented frame, use `newframe = frame.copy()`\n",
      "/home/dbdimitrov/.local/lib/python3.10/site-packages/scanpy/tools/_rank_genes_groups.py:401: PerformanceWarning: DataFrame is highly fragmented.  This is usually the result of calling `frame.insert` many times, which has poor performance.  Consider joining all columns at once using pd.concat(axis=1) instead. To get a de-fragmented frame, use `newframe = frame.copy()`\n",
      "/home/dbdimitrov/.local/lib/python3.10/site-packages/scanpy/tools/_rank_genes_groups.py:411: PerformanceWarning: DataFrame is highly fragmented.  This is usually the result of calling `frame.insert` many times, which has poor performance.  Consider joining all columns at once using pd.concat(axis=1) instead. To get a de-fragmented frame, use `newframe = frame.copy()`\n",
      "/home/dbdimitrov/.local/lib/python3.10/site-packages/scanpy/tools/_rank_genes_groups.py:422: PerformanceWarning: DataFrame is highly fragmented.  This is usually the result of calling `frame.insert` many times, which has poor performance.  Consider joining all columns at once using pd.concat(axis=1) instead. To get a de-fragmented frame, use `newframe = frame.copy()`\n",
      "/home/dbdimitrov/.local/lib/python3.10/site-packages/scanpy/tools/_rank_genes_groups.py:396: PerformanceWarning: DataFrame is highly fragmented.  This is usually the result of calling `frame.insert` many times, which has poor performance.  Consider joining all columns at once using pd.concat(axis=1) instead. To get a de-fragmented frame, use `newframe = frame.copy()`\n",
      "/home/dbdimitrov/.local/lib/python3.10/site-packages/scanpy/tools/_rank_genes_groups.py:398: PerformanceWarning: DataFrame is highly fragmented.  This is usually the result of calling `frame.insert` many times, which has poor performance.  Consider joining all columns at once using pd.concat(axis=1) instead. To get a de-fragmented frame, use `newframe = frame.copy()`\n",
      "/home/dbdimitrov/.local/lib/python3.10/site-packages/scanpy/tools/_rank_genes_groups.py:401: PerformanceWarning: DataFrame is highly fragmented.  This is usually the result of calling `frame.insert` many times, which has poor performance.  Consider joining all columns at once using pd.concat(axis=1) instead. To get a de-fragmented frame, use `newframe = frame.copy()`\n",
      "/home/dbdimitrov/.local/lib/python3.10/site-packages/scanpy/tools/_rank_genes_groups.py:411: PerformanceWarning: DataFrame is highly fragmented.  This is usually the result of calling `frame.insert` many times, which has poor performance.  Consider joining all columns at once using pd.concat(axis=1) instead. To get a de-fragmented frame, use `newframe = frame.copy()`\n",
      "/home/dbdimitrov/.local/lib/python3.10/site-packages/scanpy/tools/_rank_genes_groups.py:422: PerformanceWarning: DataFrame is highly fragmented.  This is usually the result of calling `frame.insert` many times, which has poor performance.  Consider joining all columns at once using pd.concat(axis=1) instead. To get a de-fragmented frame, use `newframe = frame.copy()`\n",
      "/home/dbdimitrov/.local/lib/python3.10/site-packages/scanpy/tools/_rank_genes_groups.py:396: PerformanceWarning: DataFrame is highly fragmented.  This is usually the result of calling `frame.insert` many times, which has poor performance.  Consider joining all columns at once using pd.concat(axis=1) instead. To get a de-fragmented frame, use `newframe = frame.copy()`\n",
      "/home/dbdimitrov/.local/lib/python3.10/site-packages/scanpy/tools/_rank_genes_groups.py:398: PerformanceWarning: DataFrame is highly fragmented.  This is usually the result of calling `frame.insert` many times, which has poor performance.  Consider joining all columns at once using pd.concat(axis=1) instead. To get a de-fragmented frame, use `newframe = frame.copy()`\n",
      "/home/dbdimitrov/.local/lib/python3.10/site-packages/scanpy/tools/_rank_genes_groups.py:401: PerformanceWarning: DataFrame is highly fragmented.  This is usually the result of calling `frame.insert` many times, which has poor performance.  Consider joining all columns at once using pd.concat(axis=1) instead. To get a de-fragmented frame, use `newframe = frame.copy()`\n",
      "/home/dbdimitrov/.local/lib/python3.10/site-packages/scanpy/tools/_rank_genes_groups.py:411: PerformanceWarning: DataFrame is highly fragmented.  This is usually the result of calling `frame.insert` many times, which has poor performance.  Consider joining all columns at once using pd.concat(axis=1) instead. To get a de-fragmented frame, use `newframe = frame.copy()`\n",
      "/home/dbdimitrov/.local/lib/python3.10/site-packages/scanpy/tools/_rank_genes_groups.py:422: PerformanceWarning: DataFrame is highly fragmented.  This is usually the result of calling `frame.insert` many times, which has poor performance.  Consider joining all columns at once using pd.concat(axis=1) instead. To get a de-fragmented frame, use `newframe = frame.copy()`\n",
      "/home/dbdimitrov/.local/lib/python3.10/site-packages/scanpy/tools/_rank_genes_groups.py:396: PerformanceWarning: DataFrame is highly fragmented.  This is usually the result of calling `frame.insert` many times, which has poor performance.  Consider joining all columns at once using pd.concat(axis=1) instead. To get a de-fragmented frame, use `newframe = frame.copy()`\n",
      "/home/dbdimitrov/.local/lib/python3.10/site-packages/scanpy/tools/_rank_genes_groups.py:398: PerformanceWarning: DataFrame is highly fragmented.  This is usually the result of calling `frame.insert` many times, which has poor performance.  Consider joining all columns at once using pd.concat(axis=1) instead. To get a de-fragmented frame, use `newframe = frame.copy()`\n",
      "/home/dbdimitrov/.local/lib/python3.10/site-packages/scanpy/tools/_rank_genes_groups.py:401: PerformanceWarning: DataFrame is highly fragmented.  This is usually the result of calling `frame.insert` many times, which has poor performance.  Consider joining all columns at once using pd.concat(axis=1) instead. To get a de-fragmented frame, use `newframe = frame.copy()`\n",
      "/home/dbdimitrov/.local/lib/python3.10/site-packages/scanpy/tools/_rank_genes_groups.py:411: PerformanceWarning: DataFrame is highly fragmented.  This is usually the result of calling `frame.insert` many times, which has poor performance.  Consider joining all columns at once using pd.concat(axis=1) instead. To get a de-fragmented frame, use `newframe = frame.copy()`\n",
      "/home/dbdimitrov/.local/lib/python3.10/site-packages/scanpy/tools/_rank_genes_groups.py:422: PerformanceWarning: DataFrame is highly fragmented.  This is usually the result of calling `frame.insert` many times, which has poor performance.  Consider joining all columns at once using pd.concat(axis=1) instead. To get a de-fragmented frame, use `newframe = frame.copy()`\n",
      "/home/dbdimitrov/.local/lib/python3.10/site-packages/scanpy/tools/_rank_genes_groups.py:396: PerformanceWarning: DataFrame is highly fragmented.  This is usually the result of calling `frame.insert` many times, which has poor performance.  Consider joining all columns at once using pd.concat(axis=1) instead. To get a de-fragmented frame, use `newframe = frame.copy()`\n",
      "/home/dbdimitrov/.local/lib/python3.10/site-packages/scanpy/tools/_rank_genes_groups.py:398: PerformanceWarning: DataFrame is highly fragmented.  This is usually the result of calling `frame.insert` many times, which has poor performance.  Consider joining all columns at once using pd.concat(axis=1) instead. To get a de-fragmented frame, use `newframe = frame.copy()`\n",
      "/home/dbdimitrov/.local/lib/python3.10/site-packages/scanpy/tools/_rank_genes_groups.py:401: PerformanceWarning: DataFrame is highly fragmented.  This is usually the result of calling `frame.insert` many times, which has poor performance.  Consider joining all columns at once using pd.concat(axis=1) instead. To get a de-fragmented frame, use `newframe = frame.copy()`\n",
      "/home/dbdimitrov/.local/lib/python3.10/site-packages/scanpy/tools/_rank_genes_groups.py:411: PerformanceWarning: DataFrame is highly fragmented.  This is usually the result of calling `frame.insert` many times, which has poor performance.  Consider joining all columns at once using pd.concat(axis=1) instead. To get a de-fragmented frame, use `newframe = frame.copy()`\n",
      "/home/dbdimitrov/.local/lib/python3.10/site-packages/scanpy/tools/_rank_genes_groups.py:422: PerformanceWarning: DataFrame is highly fragmented.  This is usually the result of calling `frame.insert` many times, which has poor performance.  Consider joining all columns at once using pd.concat(axis=1) instead. To get a de-fragmented frame, use `newframe = frame.copy()`\n",
      "/home/dbdimitrov/.local/lib/python3.10/site-packages/scanpy/tools/_rank_genes_groups.py:396: PerformanceWarning: DataFrame is highly fragmented.  This is usually the result of calling `frame.insert` many times, which has poor performance.  Consider joining all columns at once using pd.concat(axis=1) instead. To get a de-fragmented frame, use `newframe = frame.copy()`\n",
      "/home/dbdimitrov/.local/lib/python3.10/site-packages/scanpy/tools/_rank_genes_groups.py:398: PerformanceWarning: DataFrame is highly fragmented.  This is usually the result of calling `frame.insert` many times, which has poor performance.  Consider joining all columns at once using pd.concat(axis=1) instead. To get a de-fragmented frame, use `newframe = frame.copy()`\n",
      "/home/dbdimitrov/.local/lib/python3.10/site-packages/scanpy/tools/_rank_genes_groups.py:401: PerformanceWarning: DataFrame is highly fragmented.  This is usually the result of calling `frame.insert` many times, which has poor performance.  Consider joining all columns at once using pd.concat(axis=1) instead. To get a de-fragmented frame, use `newframe = frame.copy()`\n",
      "/home/dbdimitrov/.local/lib/python3.10/site-packages/scanpy/tools/_rank_genes_groups.py:411: PerformanceWarning: DataFrame is highly fragmented.  This is usually the result of calling `frame.insert` many times, which has poor performance.  Consider joining all columns at once using pd.concat(axis=1) instead. To get a de-fragmented frame, use `newframe = frame.copy()`\n",
      "/home/dbdimitrov/.local/lib/python3.10/site-packages/scanpy/tools/_rank_genes_groups.py:422: PerformanceWarning: DataFrame is highly fragmented.  This is usually the result of calling `frame.insert` many times, which has poor performance.  Consider joining all columns at once using pd.concat(axis=1) instead. To get a de-fragmented frame, use `newframe = frame.copy()`\n",
      "/home/dbdimitrov/.local/lib/python3.10/site-packages/scanpy/tools/_rank_genes_groups.py:396: PerformanceWarning: DataFrame is highly fragmented.  This is usually the result of calling `frame.insert` many times, which has poor performance.  Consider joining all columns at once using pd.concat(axis=1) instead. To get a de-fragmented frame, use `newframe = frame.copy()`\n",
      "/home/dbdimitrov/.local/lib/python3.10/site-packages/scanpy/tools/_rank_genes_groups.py:398: PerformanceWarning: DataFrame is highly fragmented.  This is usually the result of calling `frame.insert` many times, which has poor performance.  Consider joining all columns at once using pd.concat(axis=1) instead. To get a de-fragmented frame, use `newframe = frame.copy()`\n",
      "/home/dbdimitrov/.local/lib/python3.10/site-packages/scanpy/tools/_rank_genes_groups.py:401: PerformanceWarning: DataFrame is highly fragmented.  This is usually the result of calling `frame.insert` many times, which has poor performance.  Consider joining all columns at once using pd.concat(axis=1) instead. To get a de-fragmented frame, use `newframe = frame.copy()`\n",
      "/home/dbdimitrov/.local/lib/python3.10/site-packages/scanpy/tools/_rank_genes_groups.py:411: PerformanceWarning: DataFrame is highly fragmented.  This is usually the result of calling `frame.insert` many times, which has poor performance.  Consider joining all columns at once using pd.concat(axis=1) instead. To get a de-fragmented frame, use `newframe = frame.copy()`\n",
      "/home/dbdimitrov/.local/lib/python3.10/site-packages/scanpy/tools/_rank_genes_groups.py:422: PerformanceWarning: DataFrame is highly fragmented.  This is usually the result of calling `frame.insert` many times, which has poor performance.  Consider joining all columns at once using pd.concat(axis=1) instead. To get a de-fragmented frame, use `newframe = frame.copy()`\n",
      "... storing 'cell_type' as categorical\n",
      "... storing 'feature_types' as categorical\n"
     ]
    },
    {
     "name": "stdout",
     "output_type": "stream",
     "text": [
      "SCP2171 HumanMelanomaRNA (6466, 36601)\n"
     ]
    },
    {
     "name": "stderr",
     "output_type": "stream",
     "text": [
      "... storing 'X' as categorical\n",
      "... storing 'Y' as categorical\n",
      "... storing 'X' as categorical\n",
      "... storing 'Y' as categorical\n",
      "... storing 'X' as categorical\n",
      "... storing 'Y' as categorical\n",
      "... storing 'X' as categorical\n",
      "... storing 'Y' as categorical\n",
      "... storing 'X' as categorical\n",
      "... storing 'Y' as categorical\n",
      "... storing 'X' as categorical\n",
      "... storing 'Y' as categorical\n",
      "... storing 'X' as categorical\n",
      "... storing 'Y' as categorical\n",
      "... storing 'X' as categorical\n",
      "... storing 'Y' as categorical\n",
      "... storing 'X' as categorical\n",
      "... storing 'Y' as categorical\n",
      "... storing 'cell_type' as categorical\n",
      "... storing 'feature_types' as categorical\n"
     ]
    },
    {
     "name": "stdout",
     "output_type": "stream",
     "text": [
      "SCP2176 HumanMelanomaMultiome (5704, 36601)\n"
     ]
    },
    {
     "name": "stderr",
     "output_type": "stream",
     "text": [
      "... storing 'X' as categorical\n",
      "... storing 'Y' as categorical\n",
      "... storing 'X' as categorical\n",
      "... storing 'Y' as categorical\n",
      "... storing 'X' as categorical\n",
      "... storing 'Y' as categorical\n",
      "... storing 'X' as categorical\n",
      "... storing 'Y' as categorical\n",
      "... storing 'X' as categorical\n",
      "... storing 'Y' as categorical\n",
      "... storing 'X' as categorical\n",
      "... storing 'Y' as categorical\n",
      "... storing 'X' as categorical\n",
      "... storing 'Y' as categorical\n",
      "... storing 'X' as categorical\n",
      "... storing 'Y' as categorical\n",
      "... storing 'X' as categorical\n",
      "... storing 'Y' as categorical\n",
      "... storing 'cell_type' as categorical\n",
      "... storing 'feature_types' as categorical\n"
     ]
    }
   ],
   "source": [
    "for k, v in d.items():\n",
    "    adata = sc.read_10x_mtx(os.path.join(path, f'{k}/expression/counts/'))\n",
    "    spatial = pd.read_csv(os.path.join(path, f\"{k}/cluster/{v}_spatial.csv\")).iloc[1:].set_index(\"NAME\")\n",
    "    \n",
    "    print(k, v, adata.shape)\n",
    "    \n",
    "    # NOTE: keep only cells that are in the spatial data\n",
    "    adata = adata[adata.obs.index.isin(spatial.index)]\n",
    "    adata.obs = adata.obs.merge(spatial, left_index=True, right_index=True)\n",
    "    # remove _ from cell types\n",
    "    adata.obs['cell_type'] = adata.obs['cell_type'].str.replace('_', '-')\n",
    "    \n",
    "    adata.obsm = {}\n",
    "    adata.obsm['spatial'] = adata.obs[['X', 'Y']].values.astype(np.float32)\n",
    "    \n",
    "    # Filter and normalize\n",
    "    sc.pp.filter_cells(adata, min_genes=200)\n",
    "    sc.pp.filter_genes(adata, min_cells=3)\n",
    "    \n",
    "    adata.layers['raw'] = adata.X.copy()\n",
    "    sc.pp.normalize_total(adata, target_sum=1e4)\n",
    "    sc.pp.log1p(adata)\n",
    "    \n",
    "    if v.__contains__(\"mouse\"):\n",
    "        resource_name = 'mouseconsensus'\n",
    "    else:\n",
    "        resource_name = 'consensus'\n",
    "    \n",
    "    # Run Methods\n",
    "    for method in methods:\n",
    "        if method.method_name != 'Rank_Aggregate':\n",
    "            kw = {'supp_columns': ['ligand_pvals', 'receptor_pvals']}\n",
    "        else:\n",
    "            kw = {}\n",
    "        \n",
    "        adata.uns[method.method_name] = method(adata,\n",
    "                                               groupby=groupby,\n",
    "                                               use_raw=False,\n",
    "                                               verbose=False,\n",
    "                                               n_perms=1000,\n",
    "                                               n_jobs=10,\n",
    "                                               inplace=False,\n",
    "                                               resource_name = resource_name,\n",
    "                                               **kw\n",
    "                                               )\n",
    "    \n",
    "    adata.write_h5ad(os.path.join(path, k, \"adata.h5ad\"))"
   ]
  },
  {
   "cell_type": "markdown",
   "metadata": {},
   "source": [
    "Generate Truth"
   ]
  },
  {
   "cell_type": "code",
   "execution_count": 10,
   "metadata": {},
   "outputs": [
    {
     "name": "stderr",
     "output_type": "stream",
     "text": [
      "Using resource `consensus`.\n",
      "Using `.X`!\n",
      "... storing 'ligand' as categorical\n",
      "... storing 'receptor' as categorical\n",
      "/home/dbdimitrov/miniconda3/envs/spiana/lib/python3.10/site-packages/anndata/_core/anndata.py:121: ImplicitModificationWarning: Transforming to str index.\n",
      "Using provided `interactions`.\n",
      "Using `.X`!\n",
      "Make sure that normalized counts are passed!\n",
      "Removing 7 self-interactions\n",
      "... storing 'ligand' as categorical\n",
      "... storing 'receptor' as categorical\n",
      "Using resource `consensus`.\n",
      "Using `.X`!\n",
      "... storing 'ligand' as categorical\n",
      "... storing 'receptor' as categorical\n",
      "/home/dbdimitrov/miniconda3/envs/spiana/lib/python3.10/site-packages/anndata/_core/anndata.py:121: ImplicitModificationWarning: Transforming to str index.\n",
      "Using provided `interactions`.\n",
      "Using `.X`!\n",
      "Make sure that normalized counts are passed!\n",
      "Removing 13 self-interactions\n",
      "... storing 'ligand' as categorical\n",
      "... storing 'receptor' as categorical\n",
      "Using resource `mouseconsensus`.\n",
      "Using `.X`!\n",
      "... storing 'ligand' as categorical\n",
      "... storing 'receptor' as categorical\n",
      "/home/dbdimitrov/miniconda3/envs/spiana/lib/python3.10/site-packages/anndata/_core/anndata.py:121: ImplicitModificationWarning: Transforming to str index.\n",
      "Using provided `interactions`.\n",
      "Using `.X`!\n",
      "Make sure that normalized counts are passed!\n",
      "Removing 21 self-interactions\n",
      "... storing 'ligand' as categorical\n",
      "... storing 'receptor' as categorical\n",
      "Using resource `consensus`.\n",
      "Using `.X`!\n",
      "... storing 'ligand' as categorical\n",
      "... storing 'receptor' as categorical\n",
      "/home/dbdimitrov/miniconda3/envs/spiana/lib/python3.10/site-packages/anndata/_core/anndata.py:121: ImplicitModificationWarning: Transforming to str index.\n",
      "Using provided `interactions`.\n",
      "Using `.X`!\n",
      "Make sure that normalized counts are passed!\n",
      "Removing 12 self-interactions\n",
      "... storing 'ligand' as categorical\n",
      "... storing 'receptor' as categorical\n",
      "Using resource `consensus`.\n",
      "Using `.X`!\n",
      "... storing 'ligand' as categorical\n",
      "... storing 'receptor' as categorical\n",
      "/home/dbdimitrov/miniconda3/envs/spiana/lib/python3.10/site-packages/anndata/_core/anndata.py:121: ImplicitModificationWarning: Transforming to str index.\n",
      "Using provided `interactions`.\n",
      "Using `.X`!\n",
      "Make sure that normalized counts are passed!\n",
      "Removing 10 self-interactions\n",
      "... storing 'ligand' as categorical\n",
      "... storing 'receptor' as categorical\n"
     ]
    }
   ],
   "source": [
    "for k, v in d.items():\n",
    "    adata = sc.read_h5ad(os.path.join(path, k, \"adata.h5ad\"))\n",
    "    \n",
    "    if v.__contains__(\"mouse\"):\n",
    "        resource_name = 'mouseconsensus'\n",
    "    else:\n",
    "        resource_name = 'consensus'\n",
    "    \n",
    "    # Run LR\n",
    "    li.ut.spatial_neighbors(adata, bandwidth=150, cutoff=0.1, set_diag=True)\n",
    "    li.mt.lr_bivar(adata, \n",
    "               function_name=\"morans\",\n",
    "               inplace=True,\n",
    "               use_raw=False, \n",
    "               n_perms=0,\n",
    "               expr_prop=0.05,\n",
    "               verbose=True,\n",
    "               mask_negatives=True,\n",
    "               resource_name=resource_name\n",
    "               )\n",
    "    lrdata = adata.obsm['local_scores']\n",
    "    lrdata.write_h5ad(os.path.join(path, k, \"lrdata.h5ad\"))\n",
    "    \n",
    "    # Run CP; NOTE: I'm currently discarding autocrine, and only evaluating para/ortho\n",
    "    ctdata = onehot_groupby(adata, groupby='cell_type')\n",
    "    interactions = list(product(ctdata.var.index, ctdata.var.index))\n",
    "    \n",
    "    li.mt.lr_bivar(ctdata, \n",
    "               function_name=\"morans\",\n",
    "               inplace=True,\n",
    "               use_raw=False,\n",
    "               expr_prop=0,\n",
    "               n_perms=0,\n",
    "               verbose=True,\n",
    "               mask_negatives=True,\n",
    "               interactions=interactions,\n",
    "               )\n",
    "    cpdata = ctdata.obsm['local_scores']\n",
    "    cpdata.write_h5ad(os.path.join(path, k, \"cpdata.h5ad\"))"
   ]
  },
  {
   "cell_type": "markdown",
   "metadata": {},
   "source": [
    "Evaluate"
   ]
  },
  {
   "cell_type": "code",
   "execution_count": null,
   "metadata": {},
   "outputs": [],
   "source": []
  },
  {
   "cell_type": "code",
   "execution_count": 11,
   "metadata": {},
   "outputs": [],
   "source": [
    "from sklearn.metrics import accuracy_score, precision_score, recall_score\n",
    "\n",
    "def calculate_metrics(gt, score_key, threshold=0.5):\n",
    "    y_true, y_scores = gt['truth'], gt[score_key]\n",
    "\n",
    "    # Convert probabilities to binary predictions using the specified threshold\n",
    "    y_pred = (y_scores >= threshold).astype(int)\n",
    "\n",
    "    # Calculate accuracy, precision, and recall\n",
    "    accuracy = accuracy_score(y_true, y_pred)\n",
    "    precision = precision_score(y_true, y_pred)\n",
    "    recall = recall_score(y_true, y_pred) # sensitivity\n",
    "\n",
    "    return accuracy, precision, recall\n"
   ]
  },
  {
   "cell_type": "code",
   "execution_count": 91,
   "metadata": {},
   "outputs": [],
   "source": [
    "# define custom filter functions\n",
    "lambdas = {}\n",
    "lambdas['CellPhoneDB'] = lambda x: x['cellphone_pvals'] < 0.05\n",
    "lambdas['Connectome'] = lambda x: ((x['ligand_pvals'] < 0.05) & (x['receptor_pvals'] < 0.05) & (x['scaled_weight'] > 0))\n",
    "lambdas['log2FC'] = lambda x: ((x['ligand_pvals'] < 0.05) & (x['receptor_pvals'] < 0.05) & (x['lr_logfc'] > 0))\n",
    "# top 5% of ligand-receptor pairs\n",
    "lambdas['NATMI'] = lambda x: ((x['spec_weight'] > np.quantile(gt['spec_weight'], 0.95))) # NOTE gt\n",
    "lambdas['SingleCellSignalR'] = lambda x: (x['lrscore'] > 0.6)\n",
    "lambdas['Rank_Aggregate'] = lambda x: (x['magnitude_rank'] < 0.05) # NOTE: try also Magnitude_rank\n",
    "lambdas['Geometric Mean'] = lambda x: (x['gmean_pvals'] < 0.05)\n",
    "lambdas['scSeqComm'] = lambda x: ((x['inter_score'] > 0.99))\n",
    "lambdas['CellChat'] = lambda x: ((x['cellchat_pvals'] < 0.05) & (x['ligand_pvals'] < 0.05) & (x['receptor_pvals'] < 0.05))"
   ]
  },
  {
   "cell_type": "code",
   "execution_count": 92,
   "metadata": {},
   "outputs": [],
   "source": [
    "def calc_weighted_f1(gt, score_key):\n",
    "    y_true, y_scores = gt['truth'], gt[score_key]\n",
    "\n",
    "    weighted_f1 = f1_score(y_true, y_scores, average='weighted')\n",
    "    \n",
    "    return weighted_f1"
   ]
  },
  {
   "cell_type": "code",
   "execution_count": 93,
   "metadata": {},
   "outputs": [],
   "source": [
    "from sklearn.metrics import accuracy_score"
   ]
  },
  {
   "cell_type": "code",
   "execution_count": 94,
   "metadata": {},
   "outputs": [],
   "source": [
    "def calc_accuracy(gt, score_key):\n",
    "    y_true, y_scores = gt['truth'], gt[score_key]\n",
    "\n",
    "    accuracy = accuracy_score(y_true, y_scores)\n",
    "    \n",
    "    return accuracy"
   ]
  },
  {
   "cell_type": "code",
   "execution_count": 110,
   "metadata": {},
   "outputs": [
    {
     "name": "stdout",
     "output_type": "stream",
     "text": [
      "ratio: 0.12637190341799936, shape:(9567, 19)\n",
      "__CellPhoneDB; call_ratio:0.56; f1_thr:0.56\n",
      "ratio: 0.12637190341799936, shape:(9567, 21)\n",
      "__Connectome; call_ratio:0.46; f1_thr:0.62\n",
      "ratio: 0.12637190341799936, shape:(9567, 20)\n",
      "__CellChat; call_ratio:0.19; f1_thr:0.77\n",
      "ratio: 0.12637190341799936, shape:(9567, 20)\n",
      "__scSeqComm; call_ratio:0.72; f1_thr:0.4\n",
      "ratio: 0.12637190341799936, shape:(9567, 19)\n",
      "__SingleCellSignalR; call_ratio:0.93; f1_thr:0.14\n",
      "ratio: 0.12637190341799936, shape:(9567, 21)\n",
      "__NATMI; call_ratio:0.05; f1_thr:0.82\n",
      "ratio: 0.12637190341799936, shape:(9567, 20)\n",
      "__log2FC; call_ratio:0.4; f1_thr:0.66\n",
      "ratio: 0.12637190341799936, shape:(9567, 18)\n",
      "__Rank_Aggregate; call_ratio:0.06; f1_thr:0.81\n",
      "ratio: 0.12637190341799936, shape:(9567, 19)\n",
      "__Geometric Mean; call_ratio:0.58; f1_thr:0.54\n",
      "ratio: 0.208644783880403, shape:(21539, 19)\n",
      "__CellPhoneDB; call_ratio:0.48; f1_thr:0.56\n",
      "ratio: 0.208644783880403, shape:(21539, 21)\n",
      "__Connectome; call_ratio:0.32; f1_thr:0.61\n",
      "ratio: 0.208644783880403, shape:(21539, 20)\n",
      "__CellChat; call_ratio:0.16; f1_thr:0.67\n",
      "ratio: 0.208644783880403, shape:(21539, 20)\n",
      "__scSeqComm; call_ratio:0.58; f1_thr:0.5\n",
      "ratio: 0.208644783880403, shape:(21539, 19)\n",
      "__SingleCellSignalR; call_ratio:0.88; f1_thr:0.24\n",
      "ratio: 0.208644783880403, shape:(21539, 21)\n",
      "__NATMI; call_ratio:0.05; f1_thr:0.7\n",
      "ratio: 0.208644783880403, shape:(21539, 20)\n",
      "__log2FC; call_ratio:0.28; f1_thr:0.63\n",
      "ratio: 0.208644783880403, shape:(21539, 18)\n",
      "__Rank_Aggregate; call_ratio:0.07; f1_thr:0.7\n",
      "ratio: 0.208644783880403, shape:(21539, 19)\n",
      "__Geometric Mean; call_ratio:0.47; f1_thr:0.55\n",
      "ratio: 0.12054334747641061, shape:(94746, 19)\n",
      "__CellPhoneDB; call_ratio:0.38; f1_thr:0.67\n",
      "ratio: 0.12054334747641061, shape:(94746, 21)\n",
      "__Connectome; call_ratio:0.19; f1_thr:0.77\n",
      "ratio: 0.12054334747641061, shape:(94746, 20)\n",
      "__CellChat; call_ratio:0.1; f1_thr:0.8\n",
      "ratio: 0.12054334747641061, shape:(94746, 20)\n",
      "__scSeqComm; call_ratio:0.58; f1_thr:0.53\n",
      "ratio: 0.12054334747641061, shape:(94746, 19)\n",
      "__SingleCellSignalR; call_ratio:0.9; f1_thr:0.19\n",
      "ratio: 0.12054334747641061, shape:(94746, 21)\n",
      "__NATMI; call_ratio:0.05; f1_thr:0.82\n",
      "ratio: 0.12054334747641061, shape:(94746, 20)\n",
      "__log2FC; call_ratio:0.15; f1_thr:0.78\n",
      "ratio: 0.12054334747641061, shape:(94746, 18)\n",
      "__Rank_Aggregate; call_ratio:0.07; f1_thr:0.81\n",
      "ratio: 0.12054334747641061, shape:(94746, 19)\n",
      "__Geometric Mean; call_ratio:0.35; f1_thr:0.69\n",
      "ratio: 0.1318060101160369, shape:(16805, 19)\n",
      "__CellPhoneDB; call_ratio:0.53; f1_thr:0.56\n",
      "ratio: 0.1318060101160369, shape:(16805, 21)\n",
      "__Connectome; call_ratio:0.32; f1_thr:0.69\n",
      "ratio: 0.1318060101160369, shape:(16805, 20)\n",
      "__CellChat; call_ratio:0.18; f1_thr:0.76\n",
      "ratio: 0.1318060101160369, shape:(16805, 20)\n",
      "__scSeqComm; call_ratio:0.63; f1_thr:0.49\n",
      "ratio: 0.1318060101160369, shape:(16805, 19)\n",
      "__SingleCellSignalR; call_ratio:0.98; f1_thr:0.07\n",
      "ratio: 0.1318060101160369, shape:(16805, 21)\n",
      "__NATMI; call_ratio:0.05; f1_thr:0.79\n",
      "ratio: 0.1318060101160369, shape:(16805, 20)\n",
      "__log2FC; call_ratio:0.27; f1_thr:0.72\n",
      "ratio: 0.1318060101160369, shape:(16805, 18)\n",
      "__Rank_Aggregate; call_ratio:0.06; f1_thr:0.8\n",
      "ratio: 0.1318060101160369, shape:(16805, 19)\n",
      "__Geometric Mean; call_ratio:0.55; f1_thr:0.55\n",
      "ratio: 0.04151592693902762, shape:(22666, 19)\n",
      "__CellPhoneDB; call_ratio:0.42; f1_thr:0.69\n",
      "ratio: 0.04151592693902762, shape:(22666, 21)\n",
      "__Connectome; call_ratio:0.3; f1_thr:0.78\n",
      "ratio: 0.04151592693902762, shape:(22666, 20)\n",
      "__CellChat; call_ratio:0.18; f1_thr:0.85\n",
      "ratio: 0.04151592693902762, shape:(22666, 20)\n",
      "__scSeqComm; call_ratio:0.47; f1_thr:0.65\n",
      "ratio: 0.04151592693902762, shape:(22666, 19)\n",
      "__SingleCellSignalR; call_ratio:0.85; f1_thr:0.25\n",
      "ratio: 0.04151592693902762, shape:(22666, 21)\n",
      "__NATMI; call_ratio:0.05; f1_thr:0.92\n",
      "ratio: 0.04151592693902762, shape:(22666, 20)\n",
      "__log2FC; call_ratio:0.23; f1_thr:0.83\n",
      "ratio: 0.04151592693902762, shape:(22666, 18)\n",
      "__Rank_Aggregate; call_ratio:0.06; f1_thr:0.91\n",
      "ratio: 0.04151592693902762, shape:(22666, 19)\n",
      "__Geometric Mean; call_ratio:0.44; f1_thr:0.68\n"
     ]
    }
   ],
   "source": [
    "prop_range = [0.01, 0.05, 0.1, 0.2, 0.5]\n",
    "eval_results = pd.DataFrame(columns=['Dataset', 'Method', 'Score', 'AUROC', 'Odds', 'AUPRC', \"Accuracy\", \"F1\", \"F1*\", \"Positive Calls\"])\n",
    "scores = li.mt.show_methods()\n",
    "\n",
    "# Run Methods & Evaluate\n",
    "for k, v in d.items():\n",
    "    adata = sc.read_h5ad(os.path.join(path, f\"{k}/adata.h5ad\"))\n",
    "    lrdata = sc.read_h5ad(os.path.join(path, f\"{k}/lrdata.h5ad\"))\n",
    "    cpdata = sc.read_h5ad(os.path.join(path, f\"{k}/cpdata.h5ad\"))\n",
    "    \n",
    "    for method in methods:\n",
    "        method_name = method.method_name        \n",
    "        score_keys = scores[scores['Method Name'] == method.method_name]\n",
    "        lr_res = adata.uns[method_name].copy()\n",
    "\n",
    "        score_keys = score_keys[['Magnitude Score', 'Specificity Score']].values[0]\n",
    "        # if None in score_keys, remove it\n",
    "        score_keys = [s for s in score_keys if s is not None]\n",
    "        \n",
    "        gt = join_pred_truth(lr_res, lrdata, cpdata)\n",
    "        gt['binary'] = gt.apply(lambdas[method_name], axis=1).astype(int)\n",
    "        f1 = calc_weighted_f1(gt, score_key='binary')\n",
    "        acc = calc_accuracy(gt, score_key='binary')\n",
    "        # n times positive calls / total calls\n",
    "        call_ratio = gt['binary'].sum() / gt.shape[0]\n",
    "        print(f\"__{method_name}; call_ratio:{round(call_ratio, 2)}; f1_thr:{round(f1, 2)}\")\n",
    "\n",
    "        for score_key in score_keys:\n",
    "            gt = li.method.process_scores(gt, score_key=score_key)\n",
    "            odds = [odds_ratio(gt, score_key=score_key, top_prop=prop) for prop in prop_range]\n",
    "            auroc = calc_auroc(gt, score_key=score_key, show_plot=False)\n",
    "            auprc = calc_auprc(gt, score_key=score_key, show_plot=False)\n",
    "            \n",
    "            # capped F1 - i.e. all scores are evaluated at the same threshold\n",
    "            gt['cap'] = gt[score_key] >= np.quantile(gt[score_key], 0.95)\n",
    "            f1_cap = calc_weighted_f1(gt, score_key='cap')\n",
    "            # print(f\"{score_key} f1:{round(f1_cap,2)} auroc:{round(auroc, 2)}; acc: {round(acc, 3)}\")\n",
    "            \n",
    "            # NOTE: f1 and acc are calculated above - i.e. once per method\n",
    "            eval_results.loc[len(eval_results)] = [v, method_name, score_key, auroc, odds, auprc, acc, f1, f1_cap, call_ratio]"
   ]
  },
  {
   "cell_type": "code",
   "execution_count": 96,
   "metadata": {},
   "outputs": [],
   "source": [
    "eval_results.to_csv(\"evals_results.csv\")"
   ]
  },
  {
   "cell_type": "markdown",
   "metadata": {},
   "source": [
    "Visualize"
   ]
  },
  {
   "cell_type": "code",
   "execution_count": 97,
   "metadata": {},
   "outputs": [
    {
     "data": {
      "text/html": [
       "<div>\n",
       "<style scoped>\n",
       "    .dataframe tbody tr th:only-of-type {\n",
       "        vertical-align: middle;\n",
       "    }\n",
       "\n",
       "    .dataframe tbody tr th {\n",
       "        vertical-align: top;\n",
       "    }\n",
       "\n",
       "    .dataframe thead th {\n",
       "        text-align: right;\n",
       "    }\n",
       "</style>\n",
       "<table border=\"1\" class=\"dataframe\">\n",
       "  <thead>\n",
       "    <tr style=\"text-align: right;\">\n",
       "      <th></th>\n",
       "      <th>Unnamed: 0</th>\n",
       "      <th>Dataset</th>\n",
       "      <th>Method</th>\n",
       "      <th>Score</th>\n",
       "      <th>AUROC</th>\n",
       "      <th>Odds</th>\n",
       "      <th>AUPRC</th>\n",
       "      <th>Accuracy</th>\n",
       "      <th>F1</th>\n",
       "      <th>F1*</th>\n",
       "      <th>Positive Calls</th>\n",
       "    </tr>\n",
       "  </thead>\n",
       "  <tbody>\n",
       "    <tr>\n",
       "      <th>0</th>\n",
       "      <td>0</td>\n",
       "      <td>humancortex</td>\n",
       "      <td>CellPhoneDB</td>\n",
       "      <td>lr_means</td>\n",
       "      <td>0.535669</td>\n",
       "      <td>[1.513939081053175, 1.603842722843615, 1.51192...</td>\n",
       "      <td>0.147440</td>\n",
       "      <td>0.842166</td>\n",
       "      <td>0.558837</td>\n",
       "      <td>0.811339</td>\n",
       "      <td>0.562350</td>\n",
       "    </tr>\n",
       "    <tr>\n",
       "      <th>1</th>\n",
       "      <td>1</td>\n",
       "      <td>humancortex</td>\n",
       "      <td>CellPhoneDB</td>\n",
       "      <td>cellphone_pvals</td>\n",
       "      <td>0.566376</td>\n",
       "      <td>[0.0, 0.027437984307227447, 0.6230347675832845...</td>\n",
       "      <td>0.403488</td>\n",
       "      <td>0.537159</td>\n",
       "      <td>0.558837</td>\n",
       "      <td>0.612931</td>\n",
       "      <td>0.562350</td>\n",
       "    </tr>\n",
       "    <tr>\n",
       "      <th>2</th>\n",
       "      <td>2</td>\n",
       "      <td>humancortex</td>\n",
       "      <td>Connectome</td>\n",
       "      <td>expr_prod</td>\n",
       "      <td>0.525790</td>\n",
       "      <td>[1.8576955424726662, 1.8263397156290715, 1.576...</td>\n",
       "      <td>0.145059</td>\n",
       "      <td>0.843838</td>\n",
       "      <td>0.620465</td>\n",
       "      <td>0.813338</td>\n",
       "      <td>0.463259</td>\n",
       "    </tr>\n",
       "    <tr>\n",
       "      <th>3</th>\n",
       "      <td>3</td>\n",
       "      <td>humancortex</td>\n",
       "      <td>Connectome</td>\n",
       "      <td>scaled_weight</td>\n",
       "      <td>0.561014</td>\n",
       "      <td>[0.9994866684784249, 1.1975158808035944, 1.233...</td>\n",
       "      <td>0.146268</td>\n",
       "      <td>0.838194</td>\n",
       "      <td>0.620465</td>\n",
       "      <td>0.806591</td>\n",
       "      <td>0.463259</td>\n",
       "    </tr>\n",
       "    <tr>\n",
       "      <th>4</th>\n",
       "      <td>4</td>\n",
       "      <td>humancortex</td>\n",
       "      <td>CellChat</td>\n",
       "      <td>lr_probs</td>\n",
       "      <td>0.541922</td>\n",
       "      <td>[1.8576955424726662, 1.8519209815718414, 1.563...</td>\n",
       "      <td>0.153096</td>\n",
       "      <td>0.844047</td>\n",
       "      <td>0.768604</td>\n",
       "      <td>0.813588</td>\n",
       "      <td>0.190551</td>\n",
       "    </tr>\n",
       "  </tbody>\n",
       "</table>\n",
       "</div>"
      ],
      "text/plain": [
       "   Unnamed: 0      Dataset       Method            Score     AUROC  \\\n",
       "0           0  humancortex  CellPhoneDB         lr_means  0.535669   \n",
       "1           1  humancortex  CellPhoneDB  cellphone_pvals  0.566376   \n",
       "2           2  humancortex   Connectome        expr_prod  0.525790   \n",
       "3           3  humancortex   Connectome    scaled_weight  0.561014   \n",
       "4           4  humancortex     CellChat         lr_probs  0.541922   \n",
       "\n",
       "                                                Odds     AUPRC  Accuracy  \\\n",
       "0  [1.513939081053175, 1.603842722843615, 1.51192...  0.147440  0.842166   \n",
       "1  [0.0, 0.027437984307227447, 0.6230347675832845...  0.403488  0.537159   \n",
       "2  [1.8576955424726662, 1.8263397156290715, 1.576...  0.145059  0.843838   \n",
       "3  [0.9994866684784249, 1.1975158808035944, 1.233...  0.146268  0.838194   \n",
       "4  [1.8576955424726662, 1.8519209815718414, 1.563...  0.153096  0.844047   \n",
       "\n",
       "         F1       F1*  Positive Calls  \n",
       "0  0.558837  0.811339        0.562350  \n",
       "1  0.558837  0.612931        0.562350  \n",
       "2  0.620465  0.813338        0.463259  \n",
       "3  0.620465  0.806591        0.463259  \n",
       "4  0.768604  0.813588        0.190551  "
      ]
     },
     "execution_count": 97,
     "metadata": {},
     "output_type": "execute_result"
    }
   ],
   "source": [
    "res = pd.read_csv(\"evals_results.csv\")\n",
    "res.head()"
   ]
  },
  {
   "cell_type": "code",
   "execution_count": 139,
   "metadata": {},
   "outputs": [],
   "source": [
    "# replace expr_prod with Product* when Method is Connectome\n",
    "res.loc[(res['Score'] == 'expr_prod') & (res['Method'] == 'Connectome'), 'Score'] = 'Product*'\n",
    "res.loc[(res['Score'] == 'expr_prod') & (res['Method'] == 'NATMI'), 'Score'] = 'Product✳'\n",
    "\n",
    "# # filter Connectome when using Product*\n",
    "# res = res[~((res['Score'] == 'Product*') & (res['Method'] == 'Connectome'))]"
   ]
  },
  {
   "cell_type": "code",
   "execution_count": 140,
   "metadata": {},
   "outputs": [],
   "source": [
    "# Assuming 'res' is already loaded as a pandas DataFrame\n",
    "# Replace underscores with spaces and title case 'Score'\n",
    "res['Score'] = res['Score'].str.replace('_', ' ').str.title()\n",
    "\n",
    "# Convert 'Score' to a categorical type with ordered categories\n",
    "score_order = res.sort_values(\"Method\")['Score'].unique()\n",
    "res['Score'] = pd.Categorical(res['Score'], categories=score_order, ordered=True)"
   ]
  },
  {
   "cell_type": "code",
   "execution_count": 185,
   "metadata": {},
   "outputs": [],
   "source": [
    "import matplotlib.pyplot as plt\n",
    "import seaborn as sns\n",
    "import matplotlib.patches as mpatches\n",
    "\n",
    "def plot_method_comparison(res, metric, baseline=None, limits=(0,1), x=\"Score\", show_legend=False, figsize=(5, 5), ax=None):\n",
    "    # If no axis is provided, create a new figure and axis\n",
    "    if ax is None:\n",
    "        fig, ax = plt.subplots(figsize=figsize)\n",
    "    \n",
    "    # Create a color palette\n",
    "    palette = sns.color_palette(\"Set1\", n_colors=res['Method'].nunique())\n",
    "\n",
    "    # Plot each 'Method' group with a different color on the provided axis\n",
    "    method_order = res['Method'].unique()\n",
    "    sns.boxplot(x=x, y=metric, data=res, hue='Method', hue_order=method_order, palette=palette, dodge=False, width=0.8, ax=ax)\n",
    "\n",
    "    # To remove the hue legend from the axis\n",
    "    if show_legend:\n",
    "        # This assumes 'palette' and 'method_order' are defined as before in the function\n",
    "        legend_patches = [mpatches.Patch(color=palette[i], label=method) for i, method in enumerate(method_order)]\n",
    "        # Position the legend outside the plot to the right\n",
    "        ax.legend(handles=legend_patches, title='Method', loc='upper left', bbox_to_anchor=(1.05, 1), borderaxespad=0.)\n",
    "    else:\n",
    "        ax.legend([], [], frameon=False)\n",
    "\n",
    "    # Set limits for the y-axis on the provided axis\n",
    "    ax.set_ylim(limits)\n",
    "\n",
    "    # Set the y-axis labels to two decimals on the provided axis\n",
    "    ax.set_yticklabels(['{:.2f}'.format(y) for y in ax.get_yticks()])\n",
    "\n",
    "    # Draw a horizontal line at the baseline if provided, on the provided axis\n",
    "    if baseline is not None:\n",
    "        ax.axhline(y=baseline, color='red', linestyle='dashed', linewidth=1.5)\n",
    "\n",
    "    # Set the axis label\n",
    "    ax.set_ylabel(metric, fontsize=15)\n",
    "    \n",
    "    # Rotate the x-axis labels on the provided axis\n",
    "    ax.set_xticklabels(ax.get_xticklabels(), rotation=90)\n",
    "\n",
    "    # If a separate figure was created (i.e., ax was None), show the plot\n",
    "    if ax is None:\n",
    "        plt.tight_layout()\n",
    "        plt.show()"
   ]
  },
  {
   "cell_type": "code",
   "execution_count": 209,
   "metadata": {},
   "outputs": [
    {
     "name": "stderr",
     "output_type": "stream",
     "text": [
      "/tmp/ipykernel_55327/3521544890.py:30: UserWarning: set_ticklabels() should only be used with a fixed number of ticks, i.e. after set_ticks() or using a FixedLocator.\n",
      "/tmp/ipykernel_55327/3521544890.py:30: UserWarning: set_ticklabels() should only be used with a fixed number of ticks, i.e. after set_ticks() or using a FixedLocator.\n",
      "/tmp/ipykernel_55327/3521544890.py:30: UserWarning: set_ticklabels() should only be used with a fixed number of ticks, i.e. after set_ticks() or using a FixedLocator.\n"
     ]
    },
    {
     "data": {
      "image/png": "[encoded data removed]",
      "text/plain": [
       "<Figure size 1075x800 with 3 Axes>"
      ]
     },
     "metadata": {},
     "output_type": "display_data"
    }
   ],
   "source": [
    "import matplotlib.pyplot as plt\n",
    "import matplotlib.gridspec as gridspec\n",
    "\n",
    "# Create a figure\n",
    "fig = plt.figure(figsize=(10.75, 8))\n",
    "\n",
    "# Define a 2x2 grid\n",
    "gs = gridspec.GridSpec(2, 2)\n",
    "\n",
    "# Top row with one plot aligned to the right\n",
    "ax1 = fig.add_subplot(gs[0, 1])\n",
    "\n",
    "# Bottom row with two plots\n",
    "ax2 = fig.add_subplot(gs[1, 0])\n",
    "ax3 = fig.add_subplot(gs[1, 1])\n",
    "\n",
    "# Use the plot_method_comparison function with these axes\n",
    "# Example usage (you will replace 'res', 'metric', etc. with your actual data and parameters)\n",
    "plot_method_comparison(res, metric='AUROC', x=\"Score\", baseline=0.5, limits=(0.4, 0.6), show_legend=True, figsize=(7, 5), ax=ax1)\n",
    "plot_method_comparison(res, metric='F1', x=\"Method\", show_legend=False, figsize=(5, 5), ax=ax2)\n",
    "plot_method_comparison(res, metric='Accuracy', x=\"Method\", figsize=(5, 5), ax=ax3)\n",
    "\n",
    "# Add labels B), C), and D) to the subplots\n",
    "labs = ['B)', 'C)', 'D)']\n",
    "for i, ax in enumerate([ax1, ax2, ax3]):\n",
    "    ax.text(-0.25, 1.00, labs[i], transform=ax.transAxes, fontsize=16, va='top', ha='right', fontweight='bold')\n",
    "\n",
    "# Show the plot\n",
    "plt.tight_layout(rect=[0, 0, 0.85, 1])\n",
    "plt.show()"
   ]
  },
  {
   "cell_type": "code",
   "execution_count": 208,
   "metadata": {},
   "outputs": [
    {
     "name": "stdout",
     "output_type": "stream",
     "text": [
      "AUROC: 0.071; 0.544\n",
      "Odds: -0.095; 0.417\n",
      "AUPRC: 0.28; 0.015\n",
      "Accuracy: -0.3; 0.009\n",
      "F1: -0.891; 0.0\n",
      "F1*: -0.258; 0.025\n"
     ]
    }
   ],
   "source": [
    "from scipy.stats import spearmanr\n",
    "metrics = ['AUROC', 'Odds', 'AUPRC', 'Accuracy', 'F1', 'F1*']\n",
    "for metric in metrics:\n",
    "    # correlate with positive calls\n",
    "    corr, pval = spearmanr(res['Positive Calls'], res[metric])\n",
    "    print(f\"{metric}: {round(corr, 3)}; {round(pval, 3)}\")"
   ]
  },
  {
   "cell_type": "code",
   "execution_count": null,
   "metadata": {},
   "outputs": [],
   "source": []
  }
 ],
 "metadata": {
  "kernelspec": {
   "display_name": "spiana",
   "language": "python",
   "name": "python3"
  },
  "language_info": {
   "codemirror_mode": {
    "name": "ipython",
    "version": 3
   },
   "file_extension": ".py",
   "mimetype": "text/x-python",
   "name": "python",
   "nbconvert_exporter": "python",
   "pygments_lexer": "ipython3",
   "version": "3.10.13"
  }
 },
 "nbformat": 4,
 "nbformat_minor": 2
}
