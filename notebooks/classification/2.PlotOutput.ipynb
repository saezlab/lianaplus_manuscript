{
 "cells": [
  {
   "cell_type": "code",
   "execution_count": 1,
   "metadata": {},
   "outputs": [],
   "source": [
    "import os\n",
    "import pandas as pd\n",
    "import numpy as np\n",
    "import plotnine as p9"
   ]
  },
  {
   "attachments": {},
   "cell_type": "markdown",
   "metadata": {},
   "source": []
  },
  {
   "cell_type": "code",
   "execution_count": 2,
   "metadata": {},
   "outputs": [],
   "source": [
    "# list output files\n",
    "file_paths = os.listdir(os.path.join('data', 'results'))\n",
    "# keep only .csv files\n",
    "results = [pd.read_csv(os.path.join('data', 'results', p)) for p in file_paths if p.endswith('.csv')]"
   ]
  },
  {
   "cell_type": "code",
   "execution_count": 3,
   "metadata": {},
   "outputs": [],
   "source": [
    "results = pd.concat(results)"
   ]
  },
  {
   "cell_type": "code",
   "execution_count": 4,
   "metadata": {},
   "outputs": [],
   "source": [
    "results['mean_auc'] = results.groupby(['reduction_name', 'dataset', 'score_key'])['auroc'].transform('mean')\n",
    "results['mean_f1'] = results.groupby(['reduction_name', 'dataset', 'score_key'])['f1_score'].transform('mean')"
   ]
  },
  {
   "cell_type": "code",
   "execution_count": 5,
   "metadata": {},
   "outputs": [
    {
     "data": {
      "text/html": [
       "<div>\n",
       "<style scoped>\n",
       "    .dataframe tbody tr th:only-of-type {\n",
       "        vertical-align: middle;\n",
       "    }\n",
       "\n",
       "    .dataframe tbody tr th {\n",
       "        vertical-align: top;\n",
       "    }\n",
       "\n",
       "    .dataframe thead th {\n",
       "        text-align: right;\n",
       "    }\n",
       "</style>\n",
       "<table border=\"1\" class=\"dataframe\">\n",
       "  <thead>\n",
       "    <tr style=\"text-align: right;\">\n",
       "      <th></th>\n",
       "      <th>reduction_name</th>\n",
       "      <th>score_key</th>\n",
       "      <th>state</th>\n",
       "      <th>fold</th>\n",
       "      <th>auroc</th>\n",
       "      <th>tpr</th>\n",
       "      <th>fpr</th>\n",
       "      <th>f1_score</th>\n",
       "      <th>oob_score</th>\n",
       "      <th>train_split</th>\n",
       "      <th>test_split</th>\n",
       "      <th>test_classes</th>\n",
       "      <th>dataset</th>\n",
       "      <th>mean_auc</th>\n",
       "      <th>mean_f1</th>\n",
       "    </tr>\n",
       "  </thead>\n",
       "  <tbody>\n",
       "    <tr>\n",
       "      <th>0</th>\n",
       "      <td>mofa</td>\n",
       "      <td>lr_means</td>\n",
       "      <td>0</td>\n",
       "      <td>0</td>\n",
       "      <td>0.944444</td>\n",
       "      <td>[0.         0.33333333 0.66666667 1.         1...</td>\n",
       "      <td>[0.         0.         0.         0.33333333 1...</td>\n",
       "      <td>0.828571</td>\n",
       "      <td>0.300</td>\n",
       "      <td>[ 1  2  3  4  7  8  9 10 11 15]</td>\n",
       "      <td>[ 0  5  6 12 13 14]</td>\n",
       "      <td>[0 0 0 1 1 1]</td>\n",
       "      <td>carraro</td>\n",
       "      <td>0.672870</td>\n",
       "      <td>0.620291</td>\n",
       "    </tr>\n",
       "    <tr>\n",
       "      <th>1</th>\n",
       "      <td>tensor</td>\n",
       "      <td>lr_means</td>\n",
       "      <td>0</td>\n",
       "      <td>0</td>\n",
       "      <td>1.000000</td>\n",
       "      <td>[0.         0.33333333 1.         1.        ]</td>\n",
       "      <td>[0. 0. 0. 1.]</td>\n",
       "      <td>0.828571</td>\n",
       "      <td>0.600</td>\n",
       "      <td>[ 1  2  3  4  7  8  9 10 11 15]</td>\n",
       "      <td>[ 0  5  6 12 13 14]</td>\n",
       "      <td>[0 0 0 1 1 1]</td>\n",
       "      <td>carraro</td>\n",
       "      <td>0.904630</td>\n",
       "      <td>0.642540</td>\n",
       "    </tr>\n",
       "    <tr>\n",
       "      <th>2</th>\n",
       "      <td>mofa</td>\n",
       "      <td>expr_prod</td>\n",
       "      <td>0</td>\n",
       "      <td>0</td>\n",
       "      <td>0.888889</td>\n",
       "      <td>[0.         0.66666667 0.66666667 1.         1...</td>\n",
       "      <td>[0.         0.         0.33333333 0.33333333 1...</td>\n",
       "      <td>0.828571</td>\n",
       "      <td>0.400</td>\n",
       "      <td>[ 1  2  3  4  7  8  9 10 11 15]</td>\n",
       "      <td>[ 0  5  6 12 13 14]</td>\n",
       "      <td>[0 0 0 1 1 1]</td>\n",
       "      <td>carraro</td>\n",
       "      <td>0.703426</td>\n",
       "      <td>0.596984</td>\n",
       "    </tr>\n",
       "    <tr>\n",
       "      <th>3</th>\n",
       "      <td>tensor</td>\n",
       "      <td>expr_prod</td>\n",
       "      <td>0</td>\n",
       "      <td>0</td>\n",
       "      <td>0.666667</td>\n",
       "      <td>[0. 0. 1. 1.]</td>\n",
       "      <td>[0.         0.33333333 0.33333333 1.        ]</td>\n",
       "      <td>0.828571</td>\n",
       "      <td>0.300</td>\n",
       "      <td>[ 1  2  3  4  7  8  9 10 11 15]</td>\n",
       "      <td>[ 0  5  6 12 13 14]</td>\n",
       "      <td>[0 0 0 1 1 1]</td>\n",
       "      <td>carraro</td>\n",
       "      <td>0.629167</td>\n",
       "      <td>0.550265</td>\n",
       "    </tr>\n",
       "    <tr>\n",
       "      <th>4</th>\n",
       "      <td>mofa</td>\n",
       "      <td>lr_logfc</td>\n",
       "      <td>0</td>\n",
       "      <td>0</td>\n",
       "      <td>0.777778</td>\n",
       "      <td>[0.         0.33333333 0.66666667 0.66666667 1...</td>\n",
       "      <td>[0.         0.         0.         0.66666667 0...</td>\n",
       "      <td>0.828571</td>\n",
       "      <td>0.600</td>\n",
       "      <td>[ 1  2  3  4  7  8  9 10 11 15]</td>\n",
       "      <td>[ 0  5  6 12 13 14]</td>\n",
       "      <td>[0 0 0 1 1 1]</td>\n",
       "      <td>carraro</td>\n",
       "      <td>0.752407</td>\n",
       "      <td>0.543492</td>\n",
       "    </tr>\n",
       "    <tr>\n",
       "      <th>...</th>\n",
       "      <td>...</td>\n",
       "      <td>...</td>\n",
       "      <td>...</td>\n",
       "      <td>...</td>\n",
       "      <td>...</td>\n",
       "      <td>...</td>\n",
       "      <td>...</td>\n",
       "      <td>...</td>\n",
       "      <td>...</td>\n",
       "      <td>...</td>\n",
       "      <td>...</td>\n",
       "      <td>...</td>\n",
       "      <td>...</td>\n",
       "      <td>...</td>\n",
       "      <td>...</td>\n",
       "    </tr>\n",
       "    <tr>\n",
       "      <th>175</th>\n",
       "      <td>tensor</td>\n",
       "      <td>lr_probs</td>\n",
       "      <td>4</td>\n",
       "      <td>2</td>\n",
       "      <td>0.833333</td>\n",
       "      <td>[0.   0.25 0.75 0.75 1.   1.  ]</td>\n",
       "      <td>[0.         0.         0.         0.66666667 0...</td>\n",
       "      <td>0.714286</td>\n",
       "      <td>0.625</td>\n",
       "      <td>[ 2  3  4  5  6  7  8  9 12 15 16 17 19 20 21 22]</td>\n",
       "      <td>[ 0  1 10 11 13 14 18]</td>\n",
       "      <td>[1 1 1 0 0 1 0]</td>\n",
       "      <td>kuppe</td>\n",
       "      <td>0.832917</td>\n",
       "      <td>0.762080</td>\n",
       "    </tr>\n",
       "    <tr>\n",
       "      <th>176</th>\n",
       "      <td>mofa</td>\n",
       "      <td>lrscore</td>\n",
       "      <td>4</td>\n",
       "      <td>2</td>\n",
       "      <td>0.916667</td>\n",
       "      <td>[0.   0.5  0.75 0.75 1.   1.  ]</td>\n",
       "      <td>[0.         0.         0.         0.33333333 0...</td>\n",
       "      <td>0.714286</td>\n",
       "      <td>1.000</td>\n",
       "      <td>[ 2  3  4  5  6  7  8  9 12 15 16 17 19 20 21 22]</td>\n",
       "      <td>[ 0  1 10 11 13 14 18]</td>\n",
       "      <td>[1 1 1 0 0 1 0]</td>\n",
       "      <td>kuppe</td>\n",
       "      <td>0.952222</td>\n",
       "      <td>0.828259</td>\n",
       "    </tr>\n",
       "    <tr>\n",
       "      <th>177</th>\n",
       "      <td>tensor</td>\n",
       "      <td>lrscore</td>\n",
       "      <td>4</td>\n",
       "      <td>2</td>\n",
       "      <td>0.375000</td>\n",
       "      <td>[0.   0.25 0.25 0.5  0.75 1.  ]</td>\n",
       "      <td>[0.         0.         0.66666667 0.66666667 1...</td>\n",
       "      <td>0.404762</td>\n",
       "      <td>0.500</td>\n",
       "      <td>[ 2  3  4  5  6  7  8  9 12 15 16 17 19 20 21 22]</td>\n",
       "      <td>[ 0  1 10 11 13 14 18]</td>\n",
       "      <td>[1 1 1 0 0 1 0]</td>\n",
       "      <td>kuppe</td>\n",
       "      <td>0.665139</td>\n",
       "      <td>0.620772</td>\n",
       "    </tr>\n",
       "    <tr>\n",
       "      <th>178</th>\n",
       "      <td>mofa</td>\n",
       "      <td>magnitude_rank</td>\n",
       "      <td>4</td>\n",
       "      <td>2</td>\n",
       "      <td>1.000000</td>\n",
       "      <td>[0.   0.25 1.   1.  ]</td>\n",
       "      <td>[0. 0. 0. 1.]</td>\n",
       "      <td>0.857143</td>\n",
       "      <td>1.000</td>\n",
       "      <td>[ 2  3  4  5  6  7  8  9 12 15 16 17 19 20 21 22]</td>\n",
       "      <td>[ 0  1 10 11 13 14 18]</td>\n",
       "      <td>[1 1 1 0 0 1 0]</td>\n",
       "      <td>kuppe</td>\n",
       "      <td>0.991111</td>\n",
       "      <td>0.873025</td>\n",
       "    </tr>\n",
       "    <tr>\n",
       "      <th>179</th>\n",
       "      <td>tensor</td>\n",
       "      <td>magnitude_rank</td>\n",
       "      <td>4</td>\n",
       "      <td>2</td>\n",
       "      <td>1.000000</td>\n",
       "      <td>[0.  0.5 1.  1. ]</td>\n",
       "      <td>[0. 0. 0. 1.]</td>\n",
       "      <td>1.000000</td>\n",
       "      <td>1.000</td>\n",
       "      <td>[ 2  3  4  5  6  7  8  9 12 15 16 17 19 20 21 22]</td>\n",
       "      <td>[ 0  1 10 11 13 14 18]</td>\n",
       "      <td>[1 1 1 0 0 1 0]</td>\n",
       "      <td>kuppe</td>\n",
       "      <td>1.000000</td>\n",
       "      <td>1.000000</td>\n",
       "    </tr>\n",
       "  </tbody>\n",
       "</table>\n",
       "<p>360 rows × 15 columns</p>\n",
       "</div>"
      ],
      "text/plain": [
       "    reduction_name       score_key  state  fold     auroc  \\\n",
       "0             mofa        lr_means      0     0  0.944444   \n",
       "1           tensor        lr_means      0     0  1.000000   \n",
       "2             mofa       expr_prod      0     0  0.888889   \n",
       "3           tensor       expr_prod      0     0  0.666667   \n",
       "4             mofa        lr_logfc      0     0  0.777778   \n",
       "..             ...             ...    ...   ...       ...   \n",
       "175         tensor        lr_probs      4     2  0.833333   \n",
       "176           mofa         lrscore      4     2  0.916667   \n",
       "177         tensor         lrscore      4     2  0.375000   \n",
       "178           mofa  magnitude_rank      4     2  1.000000   \n",
       "179         tensor  magnitude_rank      4     2  1.000000   \n",
       "\n",
       "                                                   tpr  \\\n",
       "0    [0.         0.33333333 0.66666667 1.         1...   \n",
       "1        [0.         0.33333333 1.         1.        ]   \n",
       "2    [0.         0.66666667 0.66666667 1.         1...   \n",
       "3                                        [0. 0. 1. 1.]   \n",
       "4    [0.         0.33333333 0.66666667 0.66666667 1...   \n",
       "..                                                 ...   \n",
       "175                    [0.   0.25 0.75 0.75 1.   1.  ]   \n",
       "176                    [0.   0.5  0.75 0.75 1.   1.  ]   \n",
       "177                    [0.   0.25 0.25 0.5  0.75 1.  ]   \n",
       "178                              [0.   0.25 1.   1.  ]   \n",
       "179                                  [0.  0.5 1.  1. ]   \n",
       "\n",
       "                                                   fpr  f1_score  oob_score  \\\n",
       "0    [0.         0.         0.         0.33333333 1...  0.828571      0.300   \n",
       "1                                        [0. 0. 0. 1.]  0.828571      0.600   \n",
       "2    [0.         0.         0.33333333 0.33333333 1...  0.828571      0.400   \n",
       "3        [0.         0.33333333 0.33333333 1.        ]  0.828571      0.300   \n",
       "4    [0.         0.         0.         0.66666667 0...  0.828571      0.600   \n",
       "..                                                 ...       ...        ...   \n",
       "175  [0.         0.         0.         0.66666667 0...  0.714286      0.625   \n",
       "176  [0.         0.         0.         0.33333333 0...  0.714286      1.000   \n",
       "177  [0.         0.         0.66666667 0.66666667 1...  0.404762      0.500   \n",
       "178                                      [0. 0. 0. 1.]  0.857143      1.000   \n",
       "179                                      [0. 0. 0. 1.]  1.000000      1.000   \n",
       "\n",
       "                                           train_split  \\\n",
       "0                      [ 1  2  3  4  7  8  9 10 11 15]   \n",
       "1                      [ 1  2  3  4  7  8  9 10 11 15]   \n",
       "2                      [ 1  2  3  4  7  8  9 10 11 15]   \n",
       "3                      [ 1  2  3  4  7  8  9 10 11 15]   \n",
       "4                      [ 1  2  3  4  7  8  9 10 11 15]   \n",
       "..                                                 ...   \n",
       "175  [ 2  3  4  5  6  7  8  9 12 15 16 17 19 20 21 22]   \n",
       "176  [ 2  3  4  5  6  7  8  9 12 15 16 17 19 20 21 22]   \n",
       "177  [ 2  3  4  5  6  7  8  9 12 15 16 17 19 20 21 22]   \n",
       "178  [ 2  3  4  5  6  7  8  9 12 15 16 17 19 20 21 22]   \n",
       "179  [ 2  3  4  5  6  7  8  9 12 15 16 17 19 20 21 22]   \n",
       "\n",
       "                 test_split     test_classes  dataset  mean_auc   mean_f1  \n",
       "0       [ 0  5  6 12 13 14]    [0 0 0 1 1 1]  carraro  0.672870  0.620291  \n",
       "1       [ 0  5  6 12 13 14]    [0 0 0 1 1 1]  carraro  0.904630  0.642540  \n",
       "2       [ 0  5  6 12 13 14]    [0 0 0 1 1 1]  carraro  0.703426  0.596984  \n",
       "3       [ 0  5  6 12 13 14]    [0 0 0 1 1 1]  carraro  0.629167  0.550265  \n",
       "4       [ 0  5  6 12 13 14]    [0 0 0 1 1 1]  carraro  0.752407  0.543492  \n",
       "..                      ...              ...      ...       ...       ...  \n",
       "175  [ 0  1 10 11 13 14 18]  [1 1 1 0 0 1 0]    kuppe  0.832917  0.762080  \n",
       "176  [ 0  1 10 11 13 14 18]  [1 1 1 0 0 1 0]    kuppe  0.952222  0.828259  \n",
       "177  [ 0  1 10 11 13 14 18]  [1 1 1 0 0 1 0]    kuppe  0.665139  0.620772  \n",
       "178  [ 0  1 10 11 13 14 18]  [1 1 1 0 0 1 0]    kuppe  0.991111  0.873025  \n",
       "179  [ 0  1 10 11 13 14 18]  [1 1 1 0 0 1 0]    kuppe  1.000000  1.000000  \n",
       "\n",
       "[360 rows x 15 columns]"
      ]
     },
     "execution_count": 5,
     "metadata": {},
     "output_type": "execute_result"
    }
   ],
   "source": [
    "results"
   ]
  },
  {
   "cell_type": "code",
   "execution_count": null,
   "metadata": {},
   "outputs": [],
   "source": []
  },
  {
   "cell_type": "code",
   "execution_count": 6,
   "metadata": {},
   "outputs": [],
   "source": [
    "results['score_key'].unique()\n",
    "\n",
    "remap_dict = {'lr_means':'CellPhoneDB',\n",
    "              'expr_prod':'Product',\n",
    "              'lr_logfc': 'logFC',\n",
    "              'lrscore': 'SingleCellSignalR',\n",
    "              'lr_probs': 'CellChat',\n",
    "              'magnitude_rank':'Consensus'}\n",
    "results['score_key'] = results['score_key'].map(remap_dict)"
   ]
  },
  {
   "cell_type": "code",
   "execution_count": null,
   "metadata": {},
   "outputs": [],
   "source": []
  },
  {
   "cell_type": "code",
   "execution_count": 7,
   "metadata": {},
   "outputs": [
    {
     "data": {
      "image/png": "[encoded data removed]",
      "text/plain": [
       "<Figure size 640x480 with 2 Axes>"
      ]
     },
     "metadata": {},
     "output_type": "display_data"
    },
    {
     "data": {
      "text/plain": [
       "<ggplot: (8740289100275)>"
      ]
     },
     "execution_count": 7,
     "metadata": {},
     "output_type": "execute_result"
    }
   ],
   "source": [
    "## plot results as boxplots by reduction_name & score_key\n",
    "p9.ggplot(results, p9.aes(x='reduction_name', y='auroc', color='score_key')) + \\\n",
    "    p9.geom_boxplot() + \\\n",
    "    p9.theme_bw() + p9.facet_grid(' ~ dataset')"
   ]
  },
  {
   "cell_type": "code",
   "execution_count": null,
   "metadata": {},
   "outputs": [],
   "source": []
  },
  {
   "cell_type": "code",
   "execution_count": 8,
   "metadata": {},
   "outputs": [],
   "source": [
    "metric = 'mean_auc'"
   ]
  },
  {
   "cell_type": "code",
   "execution_count": 9,
   "metadata": {},
   "outputs": [],
   "source": [
    "results = results[['reduction_name', 'score_key', 'mean_auc', 'mean_f1', 'dataset']].drop_duplicates()"
   ]
  },
  {
   "cell_type": "code",
   "execution_count": 10,
   "metadata": {},
   "outputs": [],
   "source": [
    "results['rank'] = results.groupby(['dataset', 'reduction_name'])[metric].rank(ascending=False, method='average').astype('int')"
   ]
  },
  {
   "cell_type": "code",
   "execution_count": 11,
   "metadata": {},
   "outputs": [
    {
     "data": {
      "text/html": [
       "<div>\n",
       "<style scoped>\n",
       "    .dataframe tbody tr th:only-of-type {\n",
       "        vertical-align: middle;\n",
       "    }\n",
       "\n",
       "    .dataframe tbody tr th {\n",
       "        vertical-align: top;\n",
       "    }\n",
       "\n",
       "    .dataframe thead th {\n",
       "        text-align: right;\n",
       "    }\n",
       "</style>\n",
       "<table border=\"1\" class=\"dataframe\">\n",
       "  <thead>\n",
       "    <tr style=\"text-align: right;\">\n",
       "      <th></th>\n",
       "      <th>reduction_name</th>\n",
       "      <th>score_key</th>\n",
       "      <th>mean_auc</th>\n",
       "      <th>mean_f1</th>\n",
       "      <th>dataset</th>\n",
       "      <th>rank</th>\n",
       "    </tr>\n",
       "  </thead>\n",
       "  <tbody>\n",
       "    <tr>\n",
       "      <th>0</th>\n",
       "      <td>mofa</td>\n",
       "      <td>CellPhoneDB</td>\n",
       "      <td>0.672870</td>\n",
       "      <td>0.620291</td>\n",
       "      <td>carraro</td>\n",
       "      <td>4</td>\n",
       "    </tr>\n",
       "    <tr>\n",
       "      <th>1</th>\n",
       "      <td>tensor</td>\n",
       "      <td>CellPhoneDB</td>\n",
       "      <td>0.904630</td>\n",
       "      <td>0.642540</td>\n",
       "      <td>carraro</td>\n",
       "      <td>1</td>\n",
       "    </tr>\n",
       "    <tr>\n",
       "      <th>2</th>\n",
       "      <td>mofa</td>\n",
       "      <td>Product</td>\n",
       "      <td>0.703426</td>\n",
       "      <td>0.596984</td>\n",
       "      <td>carraro</td>\n",
       "      <td>2</td>\n",
       "    </tr>\n",
       "    <tr>\n",
       "      <th>3</th>\n",
       "      <td>tensor</td>\n",
       "      <td>Product</td>\n",
       "      <td>0.629167</td>\n",
       "      <td>0.550265</td>\n",
       "      <td>carraro</td>\n",
       "      <td>5</td>\n",
       "    </tr>\n",
       "    <tr>\n",
       "      <th>4</th>\n",
       "      <td>mofa</td>\n",
       "      <td>logFC</td>\n",
       "      <td>0.752407</td>\n",
       "      <td>0.543492</td>\n",
       "      <td>carraro</td>\n",
       "      <td>1</td>\n",
       "    </tr>\n",
       "  </tbody>\n",
       "</table>\n",
       "</div>"
      ],
      "text/plain": [
       "  reduction_name    score_key  mean_auc   mean_f1  dataset  rank\n",
       "0           mofa  CellPhoneDB  0.672870  0.620291  carraro     4\n",
       "1         tensor  CellPhoneDB  0.904630  0.642540  carraro     1\n",
       "2           mofa      Product  0.703426  0.596984  carraro     2\n",
       "3         tensor      Product  0.629167  0.550265  carraro     5\n",
       "4           mofa        logFC  0.752407  0.543492  carraro     1"
      ]
     },
     "execution_count": 11,
     "metadata": {},
     "output_type": "execute_result"
    }
   ],
   "source": [
    "results.head()"
   ]
  },
  {
   "cell_type": "code",
   "execution_count": 12,
   "metadata": {},
   "outputs": [
    {
     "data": {
      "image/png": "[encoded data removed]",
      "text/plain": [
       "<Figure size 640x480 with 2 Axes>"
      ]
     },
     "metadata": {},
     "output_type": "display_data"
    },
    {
     "data": {
      "text/plain": [
       "<ggplot: (8740174628348)>"
      ]
     },
     "execution_count": 12,
     "metadata": {},
     "output_type": "execute_result"
    }
   ],
   "source": [
    "## mosaic plot\n",
    "p9.ggplot(results, p9.aes(x='reduction_name', y='score_key', fill='mean_auc')) + \\\n",
    "    p9.geom_tile() + \\\n",
    "        p9.theme_bw() + p9.facet_grid(' ~ dataset') + \\\n",
    "            p9.scale_fill_cmap(limits=(0.5, 1), cmap_name='cividis') + \\\n",
    "            p9.geom_text(p9.aes(label='rank'), size=12, color='white', fontweight='bold')"
   ]
  },
  {
   "cell_type": "code",
   "execution_count": null,
   "metadata": {},
   "outputs": [],
   "source": []
  },
  {
   "cell_type": "code",
   "execution_count": null,
   "metadata": {},
   "outputs": [],
   "source": [
    "dimred_results = results.groupby(['reduction_name', 'score_key']).mean().reset_index()"
   ]
  },
  {
   "cell_type": "code",
   "execution_count": null,
   "metadata": {},
   "outputs": [],
   "source": [
    "## scatter plot by reduction_name\n",
    "p9.ggplot(dimred_results, p9.aes(x='mean_auc', y='mean_f1', color='score_key', shape='reduction_name')) + \\\n",
    "    p9.geom_point(size=5) + \\\n",
    "        p9.theme_bw()"
   ]
  },
  {
   "cell_type": "code",
   "execution_count": null,
   "metadata": {},
   "outputs": [],
   "source": []
  },
  {
   "cell_type": "code",
   "execution_count": null,
   "metadata": {},
   "outputs": [],
   "source": []
  },
  {
   "cell_type": "code",
   "execution_count": null,
   "metadata": {},
   "outputs": [],
   "source": [
    "import scanpy as sc"
   ]
  },
  {
   "cell_type": "code",
   "execution_count": null,
   "metadata": {},
   "outputs": [],
   "source": [
    "adata = sc.read_h5ad(\"data/results/carraro_dimred.h5ad\")"
   ]
  },
  {
   "cell_type": "code",
   "execution_count": null,
   "metadata": {},
   "outputs": [],
   "source": [
    "adata"
   ]
  },
  {
   "cell_type": "code",
   "execution_count": null,
   "metadata": {},
   "outputs": [],
   "source": []
  }
 ],
 "metadata": {
  "kernelspec": {
   "display_name": "spiana",
   "language": "python",
   "name": "python3"
  },
  "language_info": {
   "codemirror_mode": {
    "name": "ipython",
    "version": 3
   },
   "file_extension": ".py",
   "mimetype": "text/x-python",
   "name": "python",
   "nbconvert_exporter": "python",
   "pygments_lexer": "ipython3",
   "version": "3.10.10"
  },
  "orig_nbformat": 4,
  "vscode": {
   "interpreter": {
    "hash": "b688e7f183144fde965166e58483e32fc6dbc6fc380ccc51d49ef608da0385a8"
   }
  }
 },
 "nbformat": 4,
 "nbformat_minor": 2
}
