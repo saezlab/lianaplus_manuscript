{
  "cells": [
    {
      "cell_type": "code",
      "execution_count": 1,
      "metadata": {
        "colab": {
          "base_uri": "https://localhost:8080/"
        },
        "id": "yDRAu5l2YGtT",
        "outputId": "0bc91026-e7fb-4bf9-efc7-c5116570202e"
      },
      "outputs": [
        {
          "name": "stdout",
          "output_type": "stream",
          "text": [
            "Collecting git+https://github.com/saezlab/corneto.git@0.9.1-alpha.0\n",
            "  Cloning https://github.com/saezlab/corneto.git (to revision 0.9.1-alpha.0) to /tmp/pip-req-build-ywvnybpz\n",
            "  Running command git clone --filter=blob:none --quiet https://github.com/saezlab/corneto.git /tmp/pip-req-build-ywvnybpz\n",
            "  Running command git checkout -q 6baeec3a41c11bd6821f0d84a365a56b26712f53\n",
            "  Resolved https://github.com/saezlab/corneto.git to commit 6baeec3a41c11bd6821f0d84a365a56b26712f53\n",
            "  Installing build dependencies ... \u001b[?25ldone\n",
            "\u001b[?25h  Getting requirements to build wheel ... \u001b[?25ldone\n",
            "\u001b[?25h  Preparing metadata (pyproject.toml) ... \u001b[?25ldone\n",
            "\u001b[?25hRequirement already satisfied: cylp==0.91.5 in /home/dbdimitrov/anaconda3/envs/spiana/lib/python3.10/site-packages (0.91.5)\n",
            "Requirement already satisfied: numpy>=1.5.0 in /home/dbdimitrov/anaconda3/envs/spiana/lib/python3.10/site-packages (from cylp==0.91.5) (1.22.4)\n",
            "Requirement already satisfied: scipy>=0.10.0 in /home/dbdimitrov/anaconda3/envs/spiana/lib/python3.10/site-packages (from cylp==0.91.5) (1.10.1)\n"
          ]
        }
      ],
      "source": [
        "!pip install cylp==0.91.5 git+https://github.com/saezlab/corneto.git@0.9.1-alpha.0"
      ]
    },
    {
      "cell_type": "code",
      "execution_count": 2,
      "metadata": {
        "colab": {
          "base_uri": "https://localhost:8080/"
        },
        "id": "gDdtwm1tX--6",
        "outputId": "90475b62-571c-49ea-d562-93e81dc2ec29"
      },
      "outputs": [
        {
          "name": "stdout",
          "output_type": "stream",
          "text": [
            "CORNETO v0.9.1-alpha.0 (latest: v0.9.1-alpha.1)\n",
            "Available backends:  CVXPY v1.3.1\n",
            "Default backend (corneto.K): CVXPY\n",
            "Available solvers for CVXPY: CBC, ECOS, ECOS_BB, OSQP, SCIPY, SCS\n",
            "Graphviz available: v0.20.1.\n",
            "https://github.com/saezlab/corneto\n"
          ]
        }
      ],
      "source": [
        "import pandas as pd\n",
        "import corneto as cn\n",
        "\n",
        "cn.info()"
      ]
    },
    {
      "cell_type": "code",
      "execution_count": 3,
      "metadata": {
        "colab": {
          "base_uri": "https://localhost:8080/",
          "height": 206
        },
        "id": "gE7CycoVYCbJ",
        "outputId": "670fc60e-d602-463e-c531-b42ca64cda79"
      },
      "outputs": [
        {
          "data": {
            "text/html": [
              "<div>\n",
              "<style scoped>\n",
              "    .dataframe tbody tr th:only-of-type {\n",
              "        vertical-align: middle;\n",
              "    }\n",
              "\n",
              "    .dataframe tbody tr th {\n",
              "        vertical-align: top;\n",
              "    }\n",
              "\n",
              "    .dataframe thead th {\n",
              "        text-align: right;\n",
              "    }\n",
              "</style>\n",
              "<table border=\"1\" class=\"dataframe\">\n",
              "  <thead>\n",
              "    <tr style=\"text-align: right;\">\n",
              "      <th></th>\n",
              "      <th>0</th>\n",
              "      <th>1</th>\n",
              "      <th>2</th>\n",
              "    </tr>\n",
              "  </thead>\n",
              "  <tbody>\n",
              "    <tr>\n",
              "      <th>0</th>\n",
              "      <td>prak</td>\n",
              "      <td>1</td>\n",
              "      <td>hsp27</td>\n",
              "    </tr>\n",
              "    <tr>\n",
              "      <th>1</th>\n",
              "      <td>map3k7</td>\n",
              "      <td>1</td>\n",
              "      <td>mkk7</td>\n",
              "    </tr>\n",
              "    <tr>\n",
              "      <th>2</th>\n",
              "      <td>map3k7</td>\n",
              "      <td>1</td>\n",
              "      <td>nik</td>\n",
              "    </tr>\n",
              "    <tr>\n",
              "      <th>3</th>\n",
              "      <td>map3k7</td>\n",
              "      <td>1</td>\n",
              "      <td>mkk3</td>\n",
              "    </tr>\n",
              "    <tr>\n",
              "      <th>4</th>\n",
              "      <td>map3k7</td>\n",
              "      <td>1</td>\n",
              "      <td>mkk6</td>\n",
              "    </tr>\n",
              "  </tbody>\n",
              "</table>\n",
              "</div>"
            ],
            "text/plain": [
              "        0  1      2\n",
              "0    prak  1  hsp27\n",
              "1  map3k7  1   mkk7\n",
              "2  map3k7  1    nik\n",
              "3  map3k7  1   mkk3\n",
              "4  map3k7  1   mkk6"
            ]
          },
          "execution_count": 3,
          "metadata": {},
          "output_type": "execute_result"
        }
      ],
      "source": [
        "# Load model\n",
        "df_pkn = pd.read_csv('https://raw.githubusercontent.com/saezlab/CellNOptR/gh-pages/public/PKN-LiverDREAM.sif.txt', sep='\\t', header=None)\n",
        "df_pkn.head()"
      ]
    },
    {
      "cell_type": "code",
      "execution_count": null,
      "metadata": {},
      "outputs": [],
      "source": []
    },
    {
      "cell_type": "code",
      "execution_count": 4,
      "metadata": {
        "colab": {
          "base_uri": "https://localhost:8080/",
          "height": 1000
        },
        "id": "FaB9PqbzYC-7",
        "outputId": "6656c33b-20a2-46d5-cf34-3f4df5179b72"
      },
      "outputs": [
        {
          "name": "stderr",
          "output_type": "stream",
          "text": [
            "Warning: node 'hsp27', graph '%3' size too small for label\n",
            "Warning: node 'map3k7', graph '%3' size too small for label\n",
            "Warning: node 'mkk7', graph '%3' size too small for label\n",
            "Warning: node 'mkk3', graph '%3' size too small for label\n",
            "Warning: node 'mkk6', graph '%3' size too small for label\n",
            "Warning: node 'mkk4', graph '%3' size too small for label\n",
            "Warning: node 'map3k1', graph '%3' size too small for label\n",
            "Warning: node 'mek12', graph '%3' size too small for label\n",
            "Warning: node 'erk12', graph '%3' size too small for label\n",
            "Warning: node 'jnk12', graph '%3' size too small for label\n",
            "Warning: node 'sitpec', graph '%3' size too small for label\n"
          ]
        },
        {
          "data": {
            "image/svg+xml": "<?xml version=\"1.0\" encoding=\"UTF-8\" standalone=\"no\"?>\n<!DOCTYPE svg PUBLIC \"-//W3C//DTD SVG 1.1//EN\"\n \"http://www.w3.org/Graphics/SVG/1.1/DTD/svg11.dtd\">\n<!-- Generated by graphviz version 2.43.0 (0)\n -->\n<!-- Title: %3 Pages: 1 -->\n<svg width=\"472pt\" height=\"1124pt\"\n viewBox=\"0.00 0.00 472.00 1124.00\" xmlns=\"http://www.w3.org/2000/svg\" xmlns:xlink=\"http://www.w3.org/1999/xlink\">\n<g id=\"graph0\" class=\"graph\" transform=\"scale(1 1) rotate(0) translate(4 1120)\">\n<title>%3</title>\n<polygon fill=\"white\" stroke=\"transparent\" points=\"-4,4 -4,-1120 468,-1120 468,4 -4,4\"/>\n<!-- prak -->\n<g id=\"node1\" class=\"node\">\n<title>prak</title>\n<ellipse fill=\"none\" stroke=\"black\" cx=\"72\" cy=\"-90\" rx=\"18\" ry=\"18\"/>\n<text text-anchor=\"middle\" x=\"72\" y=\"-86.3\" font-family=\"Times,serif\" font-size=\"14.00\">prak</text>\n</g>\n<!-- hsp27 -->\n<g id=\"node2\" class=\"node\">\n<title>hsp27</title>\n<ellipse fill=\"none\" stroke=\"black\" cx=\"72\" cy=\"-18\" rx=\"18\" ry=\"18\"/>\n<text text-anchor=\"middle\" x=\"72\" y=\"-14.3\" font-family=\"Times,serif\" font-size=\"14.00\">hsp27</text>\n</g>\n<!-- prak&#45;&gt;hsp27 -->\n<g id=\"edge1\" class=\"edge\">\n<title>prak&#45;&gt;hsp27</title>\n<path fill=\"none\" stroke=\"black\" d=\"M72,-71.7C72,-63.98 72,-54.71 72,-46.11\"/>\n<polygon fill=\"black\" stroke=\"black\" points=\"75.5,-46.1 72,-36.1 68.5,-46.1 75.5,-46.1\"/>\n</g>\n<!-- map3k7 -->\n<g id=\"node3\" class=\"node\">\n<title>map3k7</title>\n<ellipse fill=\"none\" stroke=\"black\" cx=\"166\" cy=\"-450\" rx=\"18\" ry=\"18\"/>\n<text text-anchor=\"middle\" x=\"166\" y=\"-446.3\" font-family=\"Times,serif\" font-size=\"14.00\">map3k7</text>\n</g>\n<!-- mkk7 -->\n<g id=\"node4\" class=\"node\">\n<title>mkk7</title>\n<ellipse fill=\"none\" stroke=\"black\" cx=\"234\" cy=\"-378\" rx=\"18\" ry=\"18\"/>\n<text text-anchor=\"middle\" x=\"234\" y=\"-374.3\" font-family=\"Times,serif\" font-size=\"14.00\">mkk7</text>\n</g>\n<!-- map3k7&#45;&gt;mkk7 -->\n<g id=\"edge2\" class=\"edge\">\n<title>map3k7&#45;&gt;mkk7</title>\n<path fill=\"none\" stroke=\"black\" d=\"M178.16,-436.49C188.31,-426.03 202.97,-410.94 214.72,-398.84\"/>\n<polygon fill=\"black\" stroke=\"black\" points=\"217.49,-401.02 221.95,-391.41 212.47,-396.14 217.49,-401.02\"/>\n</g>\n<!-- nik -->\n<g id=\"node5\" class=\"node\">\n<title>nik</title>\n<ellipse fill=\"none\" stroke=\"black\" cx=\"126\" cy=\"-378\" rx=\"18\" ry=\"18\"/>\n<text text-anchor=\"middle\" x=\"126\" y=\"-374.3\" font-family=\"Times,serif\" font-size=\"14.00\">nik</text>\n</g>\n<!-- map3k7&#45;&gt;nik -->\n<g id=\"edge3\" class=\"edge\">\n<title>map3k7&#45;&gt;nik</title>\n<path fill=\"none\" stroke=\"black\" d=\"M157.32,-433.81C152.18,-424.82 145.56,-413.23 139.73,-403.03\"/>\n<polygon fill=\"black\" stroke=\"black\" points=\"142.66,-401.11 134.66,-394.16 136.59,-404.58 142.66,-401.11\"/>\n</g>\n<!-- mkk3 -->\n<g id=\"node6\" class=\"node\">\n<title>mkk3</title>\n<ellipse fill=\"none\" stroke=\"black\" cx=\"18\" cy=\"-378\" rx=\"18\" ry=\"18\"/>\n<text text-anchor=\"middle\" x=\"18\" y=\"-374.3\" font-family=\"Times,serif\" font-size=\"14.00\">mkk3</text>\n</g>\n<!-- map3k7&#45;&gt;mkk3 -->\n<g id=\"edge4\" class=\"edge\">\n<title>map3k7&#45;&gt;mkk3</title>\n<path fill=\"none\" stroke=\"black\" d=\"M149.19,-442.56C125.48,-433.27 81.07,-415.12 45,-396 43.84,-395.39 42.67,-394.74 41.49,-394.08\"/>\n<polygon fill=\"black\" stroke=\"black\" points=\"43,-390.9 32.62,-388.76 39.4,-396.9 43,-390.9\"/>\n</g>\n<!-- mkk6 -->\n<g id=\"node7\" class=\"node\">\n<title>mkk6</title>\n<ellipse fill=\"none\" stroke=\"black\" cx=\"72\" cy=\"-378\" rx=\"18\" ry=\"18\"/>\n<text text-anchor=\"middle\" x=\"72\" y=\"-374.3\" font-family=\"Times,serif\" font-size=\"14.00\">mkk6</text>\n</g>\n<!-- map3k7&#45;&gt;mkk6 -->\n<g id=\"edge5\" class=\"edge\">\n<title>map3k7&#45;&gt;mkk6</title>\n<path fill=\"none\" stroke=\"black\" d=\"M151.72,-438.37C136.45,-427 112.03,-408.81 94.24,-395.56\"/>\n<polygon fill=\"black\" stroke=\"black\" points=\"96.21,-392.67 86.1,-389.5 92.03,-398.28 96.21,-392.67\"/>\n</g>\n<!-- mkk4 -->\n<g id=\"node8\" class=\"node\">\n<title>mkk4</title>\n<ellipse fill=\"none\" stroke=\"black\" cx=\"180\" cy=\"-378\" rx=\"18\" ry=\"18\"/>\n<text text-anchor=\"middle\" x=\"180\" y=\"-374.3\" font-family=\"Times,serif\" font-size=\"14.00\">mkk4</text>\n</g>\n<!-- map3k7&#45;&gt;mkk4 -->\n<g id=\"edge6\" class=\"edge\">\n<title>map3k7&#45;&gt;mkk4</title>\n<path fill=\"none\" stroke=\"black\" d=\"M169.39,-432.05C170.97,-424.14 172.89,-414.54 174.66,-405.69\"/>\n<polygon fill=\"black\" stroke=\"black\" points=\"178.11,-406.28 176.64,-395.79 171.25,-404.91 178.11,-406.28\"/>\n</g>\n<!-- jnk12 -->\n<g id=\"node23\" class=\"node\">\n<title>jnk12</title>\n<ellipse fill=\"none\" stroke=\"black\" cx=\"203\" cy=\"-306\" rx=\"18\" ry=\"18\"/>\n<text text-anchor=\"middle\" x=\"203\" y=\"-302.3\" font-family=\"Times,serif\" font-size=\"14.00\">jnk12</text>\n</g>\n<!-- mkk7&#45;&gt;jnk12 -->\n<g id=\"edge22\" class=\"edge\">\n<title>mkk7&#45;&gt;jnk12</title>\n<path fill=\"none\" stroke=\"black\" d=\"M226.97,-361.12C223.16,-352.52 218.37,-341.72 214.08,-332.02\"/>\n<polygon fill=\"black\" stroke=\"black\" points=\"217.26,-330.55 210.01,-322.82 210.86,-333.38 217.26,-330.55\"/>\n</g>\n<!-- ikk -->\n<g id=\"node19\" class=\"node\">\n<title>ikk</title>\n<ellipse fill=\"none\" stroke=\"black\" cx=\"280\" cy=\"-306\" rx=\"18\" ry=\"18\"/>\n<text text-anchor=\"middle\" x=\"280\" y=\"-302.3\" font-family=\"Times,serif\" font-size=\"14.00\">ikk</text>\n</g>\n<!-- nik&#45;&gt;ikk -->\n<g id=\"edge14\" class=\"edge\">\n<title>nik&#45;&gt;ikk</title>\n<path fill=\"none\" stroke=\"black\" d=\"M140.59,-367.19C144.54,-364.71 148.87,-362.14 153,-360 186.7,-342.51 227.5,-326.32 253.59,-316.54\"/>\n<polygon fill=\"black\" stroke=\"black\" points=\"255,-319.76 263.16,-313 252.57,-313.19 255,-319.76\"/>\n</g>\n<!-- mkk3&#45;&gt;prak -->\n<g id=\"edge53\" class=\"edge\">\n<title>mkk3&#45;&gt;prak</title>\n<path fill=\"none\" stroke=\"black\" d=\"M21.22,-359.97C30.26,-312.08 55.95,-175.98 66.93,-117.85\"/>\n<polygon fill=\"black\" stroke=\"black\" points=\"70.38,-118.42 68.8,-107.94 63.51,-117.12 70.38,-118.42\"/>\n</g>\n<!-- p38 -->\n<g id=\"node22\" class=\"node\">\n<title>p38</title>\n<ellipse fill=\"none\" stroke=\"black\" cx=\"72\" cy=\"-306\" rx=\"18\" ry=\"18\"/>\n<text text-anchor=\"middle\" x=\"72\" y=\"-302.3\" font-family=\"Times,serif\" font-size=\"14.00\">p38</text>\n</g>\n<!-- mkk3&#45;&gt;p38 -->\n<g id=\"edge52\" class=\"edge\">\n<title>mkk3&#45;&gt;p38</title>\n<path fill=\"none\" stroke=\"black\" d=\"M28.67,-363.17C36.21,-353.39 46.48,-340.08 55.13,-328.87\"/>\n<polygon fill=\"black\" stroke=\"black\" points=\"58.02,-330.86 61.35,-320.8 52.47,-326.58 58.02,-330.86\"/>\n</g>\n<!-- mkk6&#45;&gt;p38 -->\n<g id=\"edge35\" class=\"edge\">\n<title>mkk6&#45;&gt;p38</title>\n<path fill=\"none\" stroke=\"black\" d=\"M72,-359.7C72,-351.98 72,-342.71 72,-334.11\"/>\n<polygon fill=\"black\" stroke=\"black\" points=\"75.5,-334.1 72,-324.1 68.5,-334.1 75.5,-334.1\"/>\n</g>\n<!-- mkk4&#45;&gt;p38 -->\n<g id=\"edge19\" class=\"edge\">\n<title>mkk4&#45;&gt;p38</title>\n<path fill=\"none\" stroke=\"black\" d=\"M164.98,-367.27C146.93,-355.56 116.43,-335.79 95.3,-322.1\"/>\n<polygon fill=\"black\" stroke=\"black\" points=\"97.18,-319.15 86.89,-316.65 93.38,-325.03 97.18,-319.15\"/>\n</g>\n<!-- mkk4&#45;&gt;jnk12 -->\n<g id=\"edge20\" class=\"edge\">\n<title>mkk4&#45;&gt;jnk12</title>\n<path fill=\"none\" stroke=\"black\" d=\"M185.33,-360.76C188.02,-352.58 191.35,-342.45 194.39,-333.2\"/>\n<polygon fill=\"black\" stroke=\"black\" points=\"197.74,-334.23 197.53,-323.63 191.09,-332.04 197.74,-334.23\"/>\n</g>\n<!-- pip3 -->\n<g id=\"node9\" class=\"node\">\n<title>pip3</title>\n<ellipse fill=\"none\" stroke=\"black\" cx=\"378\" cy=\"-594\" rx=\"18\" ry=\"18\"/>\n<text text-anchor=\"middle\" x=\"378\" y=\"-590.3\" font-family=\"Times,serif\" font-size=\"14.00\">pip3</text>\n</g>\n<!-- pdk1 -->\n<g id=\"node10\" class=\"node\">\n<title>pdk1</title>\n<ellipse fill=\"none\" stroke=\"black\" cx=\"380\" cy=\"-522\" rx=\"18\" ry=\"18\"/>\n<text text-anchor=\"middle\" x=\"380\" y=\"-518.3\" font-family=\"Times,serif\" font-size=\"14.00\">pdk1</text>\n</g>\n<!-- pip3&#45;&gt;pdk1 -->\n<g id=\"edge7\" class=\"edge\">\n<title>pip3&#45;&gt;pdk1</title>\n<path fill=\"none\" stroke=\"black\" d=\"M378.49,-575.7C378.71,-567.98 378.98,-558.71 379.23,-550.11\"/>\n<polygon fill=\"black\" stroke=\"black\" points=\"382.72,-550.2 379.51,-540.1 375.73,-550 382.72,-550.2\"/>\n</g>\n<!-- akt -->\n<g id=\"node29\" class=\"node\">\n<title>akt</title>\n<ellipse fill=\"none\" stroke=\"black\" cx=\"380\" cy=\"-450\" rx=\"18\" ry=\"18\"/>\n<text text-anchor=\"middle\" x=\"380\" y=\"-446.3\" font-family=\"Times,serif\" font-size=\"14.00\">akt</text>\n</g>\n<!-- pdk1&#45;&gt;akt -->\n<g id=\"edge55\" class=\"edge\">\n<title>pdk1&#45;&gt;akt</title>\n<path fill=\"none\" stroke=\"black\" d=\"M380,-503.7C380,-495.98 380,-486.71 380,-478.11\"/>\n<polygon fill=\"black\" stroke=\"black\" points=\"383.5,-478.1 380,-468.1 376.5,-478.1 383.5,-478.1\"/>\n</g>\n<!-- pak -->\n<g id=\"node11\" class=\"node\">\n<title>pak</title>\n<ellipse fill=\"none\" stroke=\"black\" cx=\"326\" cy=\"-378\" rx=\"18\" ry=\"18\"/>\n<text text-anchor=\"middle\" x=\"326\" y=\"-374.3\" font-family=\"Times,serif\" font-size=\"14.00\">pak</text>\n</g>\n<!-- raf1 -->\n<g id=\"node12\" class=\"node\">\n<title>raf1</title>\n<ellipse fill=\"none\" stroke=\"black\" cx=\"403\" cy=\"-306\" rx=\"18\" ry=\"18\"/>\n<text text-anchor=\"middle\" x=\"403\" y=\"-302.3\" font-family=\"Times,serif\" font-size=\"14.00\">raf1</text>\n</g>\n<!-- pak&#45;&gt;raf1 -->\n<g id=\"edge8\" class=\"edge\">\n<title>pak&#45;&gt;raf1</title>\n<path fill=\"none\" stroke=\"black\" d=\"M339.06,-365.13C350.97,-354.3 368.75,-338.13 382.55,-325.59\"/>\n<polygon fill=\"black\" stroke=\"black\" points=\"385.09,-328.02 390.13,-318.7 380.38,-322.84 385.09,-328.02\"/>\n</g>\n<!-- mek12 -->\n<g id=\"node15\" class=\"node\">\n<title>mek12</title>\n<ellipse fill=\"none\" stroke=\"black\" cx=\"357\" cy=\"-234\" rx=\"18\" ry=\"18\"/>\n<text text-anchor=\"middle\" x=\"357\" y=\"-230.3\" font-family=\"Times,serif\" font-size=\"14.00\">mek12</text>\n</g>\n<!-- raf1&#45;&gt;mek12 -->\n<g id=\"edge11\" class=\"edge\">\n<title>raf1&#45;&gt;mek12</title>\n<path fill=\"none\" stroke=\"black\" d=\"M393.47,-290.5C387.3,-281.11 379.14,-268.69 372.1,-257.98\"/>\n<polygon fill=\"black\" stroke=\"black\" points=\"374.94,-255.92 366.52,-249.49 369.09,-259.76 374.94,-255.92\"/>\n</g>\n<!-- rac -->\n<g id=\"node13\" class=\"node\">\n<title>rac</title>\n<ellipse fill=\"none\" stroke=\"black\" cx=\"326\" cy=\"-522\" rx=\"18\" ry=\"18\"/>\n<text text-anchor=\"middle\" x=\"326\" y=\"-518.3\" font-family=\"Times,serif\" font-size=\"14.00\">rac</text>\n</g>\n<!-- rac&#45;&gt;pak -->\n<g id=\"edge10\" class=\"edge\">\n<title>rac&#45;&gt;pak</title>\n<path fill=\"none\" stroke=\"black\" d=\"M326,-503.87C326,-479.67 326,-435.21 326,-406.39\"/>\n<polygon fill=\"black\" stroke=\"black\" points=\"329.5,-406.19 326,-396.19 322.5,-406.19 329.5,-406.19\"/>\n</g>\n<!-- map3k1 -->\n<g id=\"node14\" class=\"node\">\n<title>map3k1</title>\n<ellipse fill=\"none\" stroke=\"black\" cx=\"276\" cy=\"-450\" rx=\"18\" ry=\"18\"/>\n<text text-anchor=\"middle\" x=\"276\" y=\"-446.3\" font-family=\"Times,serif\" font-size=\"14.00\">map3k1</text>\n</g>\n<!-- rac&#45;&gt;map3k1 -->\n<g id=\"edge9\" class=\"edge\">\n<title>rac&#45;&gt;map3k1</title>\n<path fill=\"none\" stroke=\"black\" d=\"M315.88,-506.83C309.04,-497.25 299.85,-484.39 292.02,-473.43\"/>\n<polygon fill=\"black\" stroke=\"black\" points=\"294.76,-471.25 286.1,-465.14 289.07,-475.32 294.76,-471.25\"/>\n</g>\n<!-- map3k1&#45;&gt;mkk7 -->\n<g id=\"edge15\" class=\"edge\">\n<title>map3k1&#45;&gt;mkk7</title>\n<path fill=\"none\" stroke=\"black\" d=\"M267.09,-434.15C261.58,-424.97 254.38,-412.97 248.11,-402.51\"/>\n<polygon fill=\"black\" stroke=\"black\" points=\"251.04,-400.6 242.89,-393.82 245.04,-404.2 251.04,-400.6\"/>\n</g>\n<!-- map3k1&#45;&gt;mkk4 -->\n<g id=\"edge17\" class=\"edge\">\n<title>map3k1&#45;&gt;mkk4</title>\n<path fill=\"none\" stroke=\"black\" d=\"M261.83,-438.67C246.24,-427.3 220.94,-408.85 202.6,-395.48\"/>\n<polygon fill=\"black\" stroke=\"black\" points=\"204.37,-392.43 194.22,-389.37 200.24,-398.09 204.37,-392.43\"/>\n</g>\n<!-- map3k1&#45;&gt;ikk -->\n<g id=\"edge16\" class=\"edge\">\n<title>map3k1&#45;&gt;ikk</title>\n<path fill=\"none\" stroke=\"black\" d=\"M276.48,-431.87C277.16,-407.67 278.42,-363.21 279.23,-334.39\"/>\n<polygon fill=\"black\" stroke=\"black\" points=\"282.73,-334.28 279.52,-324.19 275.74,-334.09 282.73,-334.28\"/>\n</g>\n<!-- erk12 -->\n<g id=\"node16\" class=\"node\">\n<title>erk12</title>\n<ellipse fill=\"none\" stroke=\"black\" cx=\"237\" cy=\"-162\" rx=\"18\" ry=\"18\"/>\n<text text-anchor=\"middle\" x=\"237\" y=\"-158.3\" font-family=\"Times,serif\" font-size=\"14.00\">erk12</text>\n</g>\n<!-- mek12&#45;&gt;erk12 -->\n<g id=\"edge12\" class=\"edge\">\n<title>mek12&#45;&gt;erk12</title>\n<path fill=\"none\" stroke=\"black\" d=\"M341.8,-224.13C321.54,-212.31 285.43,-191.25 261.34,-177.2\"/>\n<polygon fill=\"black\" stroke=\"black\" points=\"262.86,-174.03 252.45,-172.01 259.33,-180.08 262.86,-174.03\"/>\n</g>\n<!-- erk12&#45;&gt;prak -->\n<g id=\"edge54\" class=\"edge\">\n<title>erk12&#45;&gt;prak</title>\n<path fill=\"none\" stroke=\"black\" d=\"M220.58,-154.03C191.79,-141.82 132.03,-116.47 97.72,-101.91\"/>\n<polygon fill=\"black\" stroke=\"black\" points=\"98.93,-98.62 88.36,-97.94 96.2,-105.07 98.93,-98.62\"/>\n</g>\n<!-- irs1 -->\n<g id=\"node17\" class=\"node\">\n<title>irs1</title>\n<ellipse fill=\"none\" stroke=\"black\" cx=\"265\" cy=\"-882\" rx=\"18\" ry=\"18\"/>\n<text text-anchor=\"middle\" x=\"265\" y=\"-878.3\" font-family=\"Times,serif\" font-size=\"14.00\">irs1</text>\n</g>\n<!-- pi3k -->\n<g id=\"node18\" class=\"node\">\n<title>pi3k</title>\n<ellipse fill=\"none\" stroke=\"black\" cx=\"376\" cy=\"-666\" rx=\"18\" ry=\"18\"/>\n<text text-anchor=\"middle\" x=\"376\" y=\"-662.3\" font-family=\"Times,serif\" font-size=\"14.00\">pi3k</text>\n</g>\n<!-- irs1&#45;&gt;pi3k -->\n<g id=\"edge13\" class=\"edge\">\n<title>irs1&#45;&gt;pi3k</title>\n<path fill=\"none\" stroke=\"black\" d=\"M272.14,-865.1C280.26,-847.18 294.09,-817.25 307,-792 325.31,-756.19 348.13,-715.55 362.39,-690.6\"/>\n<polygon fill=\"black\" stroke=\"black\" points=\"365.47,-692.26 367.41,-681.84 359.4,-688.78 365.47,-692.26\"/>\n</g>\n<!-- pi3k&#45;&gt;pip3 -->\n<g id=\"edge41\" class=\"edge\">\n<title>pi3k&#45;&gt;pip3</title>\n<path fill=\"none\" stroke=\"black\" d=\"M376.49,-647.7C376.71,-639.98 376.98,-630.71 377.23,-622.11\"/>\n<polygon fill=\"black\" stroke=\"black\" points=\"380.72,-622.2 377.51,-612.1 373.73,-622 380.72,-622.2\"/>\n</g>\n<!-- pi3k&#45;&gt;rac -->\n<g id=\"edge40\" class=\"edge\">\n<title>pi3k&#45;&gt;rac</title>\n<path fill=\"none\" stroke=\"black\" d=\"M367.86,-649.53C362.59,-639.11 355.84,-624.96 351,-612 343.3,-591.39 336.68,-567.33 332.19,-549.42\"/>\n<polygon fill=\"black\" stroke=\"black\" points=\"335.58,-548.55 329.8,-539.67 328.78,-550.21 335.58,-548.55\"/>\n</g>\n<!-- ikb -->\n<g id=\"node28\" class=\"node\">\n<title>ikb</title>\n<ellipse fill=\"none\" stroke=\"black\" cx=\"280\" cy=\"-234\" rx=\"18\" ry=\"18\"/>\n<text text-anchor=\"middle\" x=\"280\" y=\"-230.3\" font-family=\"Times,serif\" font-size=\"14.00\">ikb</text>\n</g>\n<!-- ikk&#45;&gt;ikb -->\n<g id=\"edge26\" class=\"edge\">\n<title>ikk&#45;&gt;ikb</title>\n<path fill=\"none\" stroke=\"black\" d=\"M280,-287.7C280,-279.98 280,-270.71 280,-262.11\"/>\n<polygon fill=\"black\" stroke=\"black\" points=\"283.5,-262.1 280,-252.1 276.5,-262.1 283.5,-262.1\"/>\n</g>\n<!-- grb2 -->\n<g id=\"node20\" class=\"node\">\n<title>grb2</title>\n<ellipse fill=\"none\" stroke=\"black\" cx=\"334\" cy=\"-882\" rx=\"18\" ry=\"18\"/>\n<text text-anchor=\"middle\" x=\"334\" y=\"-878.3\" font-family=\"Times,serif\" font-size=\"14.00\">grb2</text>\n</g>\n<!-- sos -->\n<g id=\"node21\" class=\"node\">\n<title>sos</title>\n<ellipse fill=\"none\" stroke=\"black\" cx=\"334\" cy=\"-810\" rx=\"18\" ry=\"18\"/>\n<text text-anchor=\"middle\" x=\"334\" y=\"-806.3\" font-family=\"Times,serif\" font-size=\"14.00\">sos</text>\n</g>\n<!-- grb2&#45;&gt;sos -->\n<g id=\"edge18\" class=\"edge\">\n<title>grb2&#45;&gt;sos</title>\n<path fill=\"none\" stroke=\"black\" d=\"M334,-863.7C334,-855.98 334,-846.71 334,-838.11\"/>\n<polygon fill=\"black\" stroke=\"black\" points=\"337.5,-838.1 334,-828.1 330.5,-838.1 337.5,-838.1\"/>\n</g>\n<!-- ras -->\n<g id=\"node27\" class=\"node\">\n<title>ras</title>\n<ellipse fill=\"none\" stroke=\"black\" cx=\"426\" cy=\"-738\" rx=\"18\" ry=\"18\"/>\n<text text-anchor=\"middle\" x=\"426\" y=\"-734.3\" font-family=\"Times,serif\" font-size=\"14.00\">ras</text>\n</g>\n<!-- sos&#45;&gt;ras -->\n<g id=\"edge25\" class=\"edge\">\n<title>sos&#45;&gt;ras</title>\n<path fill=\"none\" stroke=\"black\" d=\"M347.97,-798.37C362.83,-787.06 386.55,-769.02 403.93,-755.79\"/>\n<polygon fill=\"black\" stroke=\"black\" points=\"406.06,-758.57 411.9,-749.73 401.82,-753 406.06,-758.57\"/>\n</g>\n<!-- p38&#45;&gt;prak -->\n<g id=\"edge33\" class=\"edge\">\n<title>p38&#45;&gt;prak</title>\n<path fill=\"none\" stroke=\"black\" d=\"M72,-287.85C72,-250.83 72,-163.18 72,-118.39\"/>\n<polygon fill=\"black\" stroke=\"black\" points=\"75.5,-118.23 72,-108.23 68.5,-118.23 75.5,-118.23\"/>\n</g>\n<!-- igf1 -->\n<g id=\"node24\" class=\"node\">\n<title>igf1</title>\n<ellipse fill=\"none\" stroke=\"black\" cx=\"269\" cy=\"-1098\" rx=\"18\" ry=\"18\"/>\n<text text-anchor=\"middle\" x=\"269\" y=\"-1094.3\" font-family=\"Times,serif\" font-size=\"14.00\">igf1</text>\n</g>\n<!-- igfr -->\n<g id=\"node25\" class=\"node\">\n<title>igfr</title>\n<ellipse fill=\"none\" stroke=\"black\" cx=\"269\" cy=\"-1026\" rx=\"18\" ry=\"18\"/>\n<text text-anchor=\"middle\" x=\"269\" y=\"-1022.3\" font-family=\"Times,serif\" font-size=\"14.00\">igfr</text>\n</g>\n<!-- igf1&#45;&gt;igfr -->\n<g id=\"edge21\" class=\"edge\">\n<title>igf1&#45;&gt;igfr</title>\n<path fill=\"none\" stroke=\"black\" d=\"M269,-1079.7C269,-1071.98 269,-1062.71 269,-1054.11\"/>\n<polygon fill=\"black\" stroke=\"black\" points=\"272.5,-1054.1 269,-1044.1 265.5,-1054.1 272.5,-1054.1\"/>\n</g>\n<!-- igfr&#45;&gt;irs1 -->\n<g id=\"edge23\" class=\"edge\">\n<title>igfr&#45;&gt;irs1</title>\n<path fill=\"none\" stroke=\"black\" d=\"M268.52,-1007.87C267.84,-983.67 266.58,-939.21 265.77,-910.39\"/>\n<polygon fill=\"black\" stroke=\"black\" points=\"269.26,-910.09 265.48,-900.19 262.27,-910.28 269.26,-910.09\"/>\n</g>\n<!-- shc -->\n<g id=\"node26\" class=\"node\">\n<title>shc</title>\n<ellipse fill=\"none\" stroke=\"black\" cx=\"296\" cy=\"-954\" rx=\"18\" ry=\"18\"/>\n<text text-anchor=\"middle\" x=\"296\" y=\"-950.3\" font-family=\"Times,serif\" font-size=\"14.00\">shc</text>\n</g>\n<!-- igfr&#45;&gt;shc -->\n<g id=\"edge24\" class=\"edge\">\n<title>igfr&#45;&gt;shc</title>\n<path fill=\"none\" stroke=\"black\" d=\"M275.26,-1008.76C278.5,-1000.37 282.53,-989.93 286.17,-980.5\"/>\n<polygon fill=\"black\" stroke=\"black\" points=\"289.44,-981.74 289.77,-971.15 282.91,-979.22 289.44,-981.74\"/>\n</g>\n<!-- shc&#45;&gt;grb2 -->\n<g id=\"edge34\" class=\"edge\">\n<title>shc&#45;&gt;grb2</title>\n<path fill=\"none\" stroke=\"black\" d=\"M304.25,-937.81C309.13,-928.82 315.42,-917.23 320.96,-907.03\"/>\n<polygon fill=\"black\" stroke=\"black\" points=\"324.08,-908.62 325.77,-898.16 317.92,-905.28 324.08,-908.62\"/>\n</g>\n<!-- ras&#45;&gt;raf1 -->\n<g id=\"edge43\" class=\"edge\">\n<title>ras&#45;&gt;raf1</title>\n<path fill=\"none\" stroke=\"black\" d=\"M434.28,-721.66C439.54,-711.3 446.06,-697.16 450,-684 461.47,-645.64 464,-635.04 464,-595 464,-595 464,-595 464,-449 464,-403.68 437.45,-356.35 419.38,-329.39\"/>\n<polygon fill=\"black\" stroke=\"black\" points=\"422.19,-327.3 413.63,-321.06 416.43,-331.27 422.19,-327.3\"/>\n</g>\n<!-- ras&#45;&gt;map3k1 -->\n<g id=\"edge44\" class=\"edge\">\n<title>ras&#45;&gt;map3k1</title>\n<path fill=\"none\" stroke=\"black\" d=\"M430.04,-720.32C438.99,-679.06 456.04,-570.71 407,-504 394.29,-486.71 337.8,-468.31 303.28,-458.38\"/>\n<polygon fill=\"black\" stroke=\"black\" points=\"303.92,-454.93 293.35,-455.58 302.03,-461.66 303.92,-454.93\"/>\n</g>\n<!-- ras&#45;&gt;pi3k -->\n<g id=\"edge42\" class=\"edge\">\n<title>ras&#45;&gt;pi3k</title>\n<path fill=\"none\" stroke=\"black\" d=\"M415.88,-722.83C409.04,-713.25 399.85,-700.39 392.02,-689.43\"/>\n<polygon fill=\"black\" stroke=\"black\" points=\"394.76,-687.25 386.1,-681.14 389.07,-691.32 394.76,-687.25\"/>\n</g>\n<!-- akt&#45;&gt;pak -->\n<g id=\"edge29\" class=\"edge\">\n<title>akt&#45;&gt;pak</title>\n<path fill=\"none\" stroke=\"black\" d=\"M369.33,-435.17C360.9,-424.24 349.06,-408.9 339.89,-397.01\"/>\n<polygon fill=\"black\" stroke=\"black\" points=\"333.3,-396.65 341.22,-390.54 342.44,-392.12 334.52,-398.23 333.3,-396.65\"/>\n<polyline fill=\"none\" stroke=\"black\" points=\"336.65,-392.8 339.7,-396.76 \"/>\n</g>\n<!-- akt&#45;&gt;raf1 -->\n<g id=\"edge27\" class=\"edge\">\n<title>akt&#45;&gt;raf1</title>\n<path fill=\"none\" stroke=\"black\" d=\"M389.8,-434.43C396.09,-424.18 403.67,-409.86 407,-396 412.37,-373.65 410.15,-347.25 407.35,-329.04\"/>\n<polygon fill=\"black\" stroke=\"black\" points=\"401.7,-325.46 411.57,-323.84 411.89,-325.82 402.02,-327.43 401.7,-325.46\"/>\n<polyline fill=\"none\" stroke=\"black\" points=\"406.47,-323.66 407.28,-328.6 \"/>\n</g>\n<!-- cot -->\n<g id=\"node30\" class=\"node\">\n<title>cot</title>\n<ellipse fill=\"none\" stroke=\"black\" cx=\"380\" cy=\"-378\" rx=\"18\" ry=\"18\"/>\n<text text-anchor=\"middle\" x=\"380\" y=\"-374.3\" font-family=\"Times,serif\" font-size=\"14.00\">cot</text>\n</g>\n<!-- akt&#45;&gt;cot -->\n<g id=\"edge28\" class=\"edge\">\n<title>akt&#45;&gt;cot</title>\n<path fill=\"none\" stroke=\"black\" d=\"M380,-431.7C380,-423.98 380,-414.71 380,-406.11\"/>\n<polygon fill=\"black\" stroke=\"black\" points=\"383.5,-406.1 380,-396.1 376.5,-406.1 383.5,-406.1\"/>\n</g>\n<!-- cot&#45;&gt;ikk -->\n<g id=\"edge51\" class=\"edge\">\n<title>cot&#45;&gt;ikk</title>\n<path fill=\"none\" stroke=\"black\" d=\"M365.67,-366.97C349.19,-355.43 321.91,-336.33 302.56,-322.79\"/>\n<polygon fill=\"black\" stroke=\"black\" points=\"304.5,-319.88 294.3,-317.01 300.49,-325.61 304.5,-319.88\"/>\n</g>\n<!-- traf6 -->\n<g id=\"node31\" class=\"node\">\n<title>traf6</title>\n<ellipse fill=\"none\" stroke=\"black\" cx=\"168\" cy=\"-594\" rx=\"18\" ry=\"18\"/>\n<text text-anchor=\"middle\" x=\"168\" y=\"-590.3\" font-family=\"Times,serif\" font-size=\"14.00\">traf6</text>\n</g>\n<!-- traf6&#45;&gt;map3k7 -->\n<g id=\"edge31\" class=\"edge\">\n<title>traf6&#45;&gt;map3k7</title>\n<path fill=\"none\" stroke=\"black\" d=\"M167.76,-575.87C167.42,-551.67 166.79,-507.21 166.39,-478.39\"/>\n<polygon fill=\"black\" stroke=\"black\" points=\"169.88,-478.14 166.24,-468.19 162.88,-478.24 169.88,-478.14\"/>\n</g>\n<!-- sitpec -->\n<g id=\"node32\" class=\"node\">\n<title>sitpec</title>\n<ellipse fill=\"none\" stroke=\"black\" cx=\"272\" cy=\"-522\" rx=\"18\" ry=\"18\"/>\n<text text-anchor=\"middle\" x=\"272\" y=\"-518.3\" font-family=\"Times,serif\" font-size=\"14.00\">sitpec</text>\n</g>\n<!-- traf6&#45;&gt;sitpec -->\n<g id=\"edge30\" class=\"edge\">\n<title>traf6&#45;&gt;sitpec</title>\n<path fill=\"none\" stroke=\"black\" d=\"M182.46,-583.27C199.67,-571.68 228.63,-552.19 248.94,-538.52\"/>\n<polygon fill=\"black\" stroke=\"black\" points=\"250.99,-541.36 257.33,-532.88 247.08,-535.56 250.99,-541.36\"/>\n</g>\n<!-- sitpec&#45;&gt;map3k1 -->\n<g id=\"edge39\" class=\"edge\">\n<title>sitpec&#45;&gt;map3k1</title>\n<path fill=\"none\" stroke=\"black\" d=\"M272.99,-503.7C273.43,-495.98 273.96,-486.71 274.45,-478.11\"/>\n<polygon fill=\"black\" stroke=\"black\" points=\"277.95,-478.29 275.02,-468.1 270.96,-477.89 277.95,-478.29\"/>\n</g>\n<!-- il1r -->\n<g id=\"node33\" class=\"node\">\n<title>il1r</title>\n<ellipse fill=\"none\" stroke=\"black\" cx=\"168\" cy=\"-666\" rx=\"18\" ry=\"18\"/>\n<text text-anchor=\"middle\" x=\"168\" y=\"-662.3\" font-family=\"Times,serif\" font-size=\"14.00\">il1r</text>\n</g>\n<!-- il1r&#45;&gt;traf6 -->\n<g id=\"edge32\" class=\"edge\">\n<title>il1r&#45;&gt;traf6</title>\n<path fill=\"none\" stroke=\"black\" d=\"M168,-647.7C168,-639.98 168,-630.71 168,-622.11\"/>\n<polygon fill=\"black\" stroke=\"black\" points=\"171.5,-622.1 168,-612.1 164.5,-622.1 171.5,-622.1\"/>\n</g>\n<!-- tgfa -->\n<g id=\"node34\" class=\"node\">\n<title>tgfa</title>\n<ellipse fill=\"none\" stroke=\"black\" cx=\"342\" cy=\"-1098\" rx=\"18\" ry=\"18\"/>\n<text text-anchor=\"middle\" x=\"342\" y=\"-1094.3\" font-family=\"Times,serif\" font-size=\"14.00\">tgfa</text>\n</g>\n<!-- egfr -->\n<g id=\"node35\" class=\"node\">\n<title>egfr</title>\n<ellipse fill=\"none\" stroke=\"black\" cx=\"342\" cy=\"-1026\" rx=\"18\" ry=\"18\"/>\n<text text-anchor=\"middle\" x=\"342\" y=\"-1022.3\" font-family=\"Times,serif\" font-size=\"14.00\">egfr</text>\n</g>\n<!-- tgfa&#45;&gt;egfr -->\n<g id=\"edge36\" class=\"edge\">\n<title>tgfa&#45;&gt;egfr</title>\n<path fill=\"none\" stroke=\"black\" d=\"M342,-1079.7C342,-1071.98 342,-1062.71 342,-1054.11\"/>\n<polygon fill=\"black\" stroke=\"black\" points=\"345.5,-1054.1 342,-1044.1 338.5,-1054.1 345.5,-1054.1\"/>\n</g>\n<!-- egfr&#45;&gt;pi3k -->\n<g id=\"edge47\" class=\"edge\">\n<title>egfr&#45;&gt;pi3k</title>\n<path fill=\"none\" stroke=\"black\" d=\"M349.15,-1009.19C360.16,-983.35 380,-930.21 380,-883 380,-883 380,-883 380,-809 380,-768.98 378.39,-722.64 377.22,-694.07\"/>\n<polygon fill=\"black\" stroke=\"black\" points=\"380.71,-693.89 376.79,-684.04 373.72,-694.18 380.71,-693.89\"/>\n</g>\n<!-- egfr&#45;&gt;grb2 -->\n<g id=\"edge46\" class=\"edge\">\n<title>egfr&#45;&gt;grb2</title>\n<path fill=\"none\" stroke=\"black\" d=\"M341.04,-1007.87C339.67,-983.67 337.17,-939.21 335.54,-910.39\"/>\n<polygon fill=\"black\" stroke=\"black\" points=\"339.03,-909.98 334.97,-900.19 332.04,-910.37 339.03,-909.98\"/>\n</g>\n<!-- egfr&#45;&gt;shc -->\n<g id=\"edge45\" class=\"edge\">\n<title>egfr&#45;&gt;shc</title>\n<path fill=\"none\" stroke=\"black\" d=\"M332.47,-1010.5C326.3,-1001.11 318.14,-988.69 311.1,-977.98\"/>\n<polygon fill=\"black\" stroke=\"black\" points=\"313.94,-975.92 305.52,-969.49 308.09,-979.76 313.94,-975.92\"/>\n</g>\n<!-- traf2 -->\n<g id=\"node36\" class=\"node\">\n<title>traf2</title>\n<ellipse fill=\"none\" stroke=\"black\" cx=\"218\" cy=\"-522\" rx=\"18\" ry=\"18\"/>\n<text text-anchor=\"middle\" x=\"218\" y=\"-518.3\" font-family=\"Times,serif\" font-size=\"14.00\">traf2</text>\n</g>\n<!-- traf2&#45;&gt;map3k7 -->\n<g id=\"edge38\" class=\"edge\">\n<title>traf2&#45;&gt;map3k7</title>\n<path fill=\"none\" stroke=\"black\" d=\"M207.73,-507.17C200.46,-497.39 190.57,-484.08 182.25,-472.87\"/>\n<polygon fill=\"black\" stroke=\"black\" points=\"185.03,-470.74 176.25,-464.8 179.41,-474.92 185.03,-470.74\"/>\n</g>\n<!-- ask1 -->\n<g id=\"node37\" class=\"node\">\n<title>ask1</title>\n<ellipse fill=\"none\" stroke=\"black\" cx=\"220\" cy=\"-450\" rx=\"18\" ry=\"18\"/>\n<text text-anchor=\"middle\" x=\"220\" y=\"-446.3\" font-family=\"Times,serif\" font-size=\"14.00\">ask1</text>\n</g>\n<!-- traf2&#45;&gt;ask1 -->\n<g id=\"edge37\" class=\"edge\">\n<title>traf2&#45;&gt;ask1</title>\n<path fill=\"none\" stroke=\"black\" d=\"M218.49,-503.7C218.71,-495.98 218.98,-486.71 219.23,-478.11\"/>\n<polygon fill=\"black\" stroke=\"black\" points=\"222.72,-478.2 219.51,-468.1 215.73,-478 222.72,-478.2\"/>\n</g>\n<!-- ask1&#45;&gt;mkk7 -->\n<g id=\"edge58\" class=\"edge\">\n<title>ask1&#45;&gt;mkk7</title>\n<path fill=\"none\" stroke=\"black\" d=\"M223.39,-432.05C224.97,-424.14 226.89,-414.54 228.66,-405.69\"/>\n<polygon fill=\"black\" stroke=\"black\" points=\"232.11,-406.28 230.64,-395.79 225.25,-404.91 232.11,-406.28\"/>\n</g>\n<!-- ask1&#45;&gt;mkk4 -->\n<g id=\"edge57\" class=\"edge\">\n<title>ask1&#45;&gt;mkk4</title>\n<path fill=\"none\" stroke=\"black\" d=\"M211.32,-433.81C206.18,-424.82 199.56,-413.23 193.73,-403.03\"/>\n<polygon fill=\"black\" stroke=\"black\" points=\"196.66,-401.11 188.66,-394.16 190.59,-404.58 196.66,-401.11\"/>\n</g>\n<!-- tnfr -->\n<g id=\"node38\" class=\"node\">\n<title>tnfr</title>\n<ellipse fill=\"none\" stroke=\"black\" cx=\"230\" cy=\"-738\" rx=\"18\" ry=\"18\"/>\n<text text-anchor=\"middle\" x=\"230\" y=\"-734.3\" font-family=\"Times,serif\" font-size=\"14.00\">tnfr</text>\n</g>\n<!-- tnfr&#45;&gt;pi3k -->\n<g id=\"edge49\" class=\"edge\">\n<title>tnfr&#45;&gt;pi3k</title>\n<path fill=\"none\" stroke=\"black\" d=\"M245.9,-729.38C271.24,-717.23 320.99,-693.37 351.09,-678.94\"/>\n<polygon fill=\"black\" stroke=\"black\" points=\"352.61,-682.09 360.12,-674.62 349.59,-675.78 352.61,-682.09\"/>\n</g>\n<!-- tnfr&#45;&gt;traf2 -->\n<g id=\"edge48\" class=\"edge\">\n<title>tnfr&#45;&gt;traf2</title>\n<path fill=\"none\" stroke=\"black\" d=\"M229.04,-719.85C226.96,-682.83 222.05,-595.18 219.54,-550.39\"/>\n<polygon fill=\"black\" stroke=\"black\" points=\"223.02,-550.02 218.97,-540.23 216.03,-550.41 223.02,-550.02\"/>\n</g>\n<!-- il1a -->\n<g id=\"node39\" class=\"node\">\n<title>il1a</title>\n<ellipse fill=\"none\" stroke=\"black\" cx=\"168\" cy=\"-738\" rx=\"18\" ry=\"18\"/>\n<text text-anchor=\"middle\" x=\"168\" y=\"-734.3\" font-family=\"Times,serif\" font-size=\"14.00\">il1a</text>\n</g>\n<!-- il1a&#45;&gt;il1r -->\n<g id=\"edge50\" class=\"edge\">\n<title>il1a&#45;&gt;il1r</title>\n<path fill=\"none\" stroke=\"black\" d=\"M168,-719.7C168,-711.98 168,-702.71 168,-694.11\"/>\n<polygon fill=\"black\" stroke=\"black\" points=\"171.5,-694.1 168,-684.1 164.5,-694.1 171.5,-694.1\"/>\n</g>\n<!-- tnfa -->\n<g id=\"node40\" class=\"node\">\n<title>tnfa</title>\n<ellipse fill=\"none\" stroke=\"black\" cx=\"230\" cy=\"-810\" rx=\"18\" ry=\"18\"/>\n<text text-anchor=\"middle\" x=\"230\" y=\"-806.3\" font-family=\"Times,serif\" font-size=\"14.00\">tnfa</text>\n</g>\n<!-- tnfa&#45;&gt;tnfr -->\n<g id=\"edge56\" class=\"edge\">\n<title>tnfa&#45;&gt;tnfr</title>\n<path fill=\"none\" stroke=\"black\" d=\"M230,-791.7C230,-783.98 230,-774.71 230,-766.11\"/>\n<polygon fill=\"black\" stroke=\"black\" points=\"233.5,-766.1 230,-756.1 226.5,-766.1 233.5,-766.1\"/>\n</g>\n</g>\n</svg>\n",
            "text/plain": [
              "<graphviz.graphs.Digraph at 0x7fabcd4358a0>"
            ]
          },
          "execution_count": 4,
          "metadata": {},
          "output_type": "execute_result"
        }
      ],
      "source": [
        "G = cn.Graph.from_sif_tuples([(r[1][0], r[1][1], r[1][2]) for r in df_pkn.iterrows()])\n",
        "G.plot()"
      ]
    },
    {
      "cell_type": "markdown",
      "metadata": {
        "id": "HjR-mf_PaESz"
      },
      "source": [
        "If betaWeight > 0, then the solution will match the shortest signed consistent path. However, betaWeight has to be chosen carefully to avoid having a sub-optimal solution which is shorter at the expenses of non fitting the measurement"
      ]
    },
    {
      "cell_type": "code",
      "execution_count": 5,
      "metadata": {
        "colab": {
          "base_uri": "https://localhost:8080/"
        },
        "id": "yJkEVzdfYXIO",
        "outputId": "69573e38-e8d5-42ac-a270-d9f1184ad7ff"
      },
      "outputs": [
        {
          "data": {
            "text/plain": [
              "array([0.])"
            ]
          },
          "execution_count": 5,
          "metadata": {},
          "output_type": "execute_result"
        }
      ],
      "source": [
        "P, Gc = cn.methods.carnival.runVanillaCarnival({'igf1': 1}, {'hsp27': 1}, G, betaWeight=1e-3)\n",
        "P.solve();\n",
        "P.objectives[0].value"
      ]
    },
    {
      "cell_type": "code",
      "execution_count": 6,
      "metadata": {
        "colab": {
          "base_uri": "https://localhost:8080/",
          "height": 1000
        },
        "id": "-_Wj2zaBYloo",
        "outputId": "c35f0fb8-ee9c-40c0-fa12-9b1e3387f3ee"
      },
      "outputs": [
        {
          "name": "stderr",
          "output_type": "stream",
          "text": [
            "Warning: node 'hsp27', graph '%3' size too small for label\n",
            "Warning: node 'map3k7', graph '%3' size too small for label\n",
            "Warning: node 'mkk7', graph '%3' size too small for label\n",
            "Warning: node 'mkk3', graph '%3' size too small for label\n",
            "Warning: node 'mkk6', graph '%3' size too small for label\n",
            "Warning: node 'mkk4', graph '%3' size too small for label\n",
            "Warning: node 'map3k1', graph '%3' size too small for label\n",
            "Warning: node 'mek12', graph '%3' size too small for label\n",
            "Warning: node 'erk12', graph '%3' size too small for label\n",
            "Warning: node 'jnk12', graph '%3' size too small for label\n",
            "Warning: node 'sitpec', graph '%3' size too small for label\n"
          ]
        },
        {
          "data": {
            "image/svg+xml": "<?xml version=\"1.0\" encoding=\"UTF-8\" standalone=\"no\"?>\n<!DOCTYPE svg PUBLIC \"-//W3C//DTD SVG 1.1//EN\"\n \"http://www.w3.org/Graphics/SVG/1.1/DTD/svg11.dtd\">\n<!-- Generated by graphviz version 2.43.0 (0)\n -->\n<!-- Title: %3 Pages: 1 -->\n<svg width=\"472pt\" height=\"1124pt\"\n viewBox=\"0.00 0.00 472.00 1124.00\" xmlns=\"http://www.w3.org/2000/svg\" xmlns:xlink=\"http://www.w3.org/1999/xlink\">\n<g id=\"graph0\" class=\"graph\" transform=\"scale(1 1) rotate(0) translate(4 1120)\">\n<title>%3</title>\n<polygon fill=\"white\" stroke=\"transparent\" points=\"-4,4 -4,-1120 468,-1120 468,4 -4,4\"/>\n<!-- prak -->\n<g id=\"node1\" class=\"node\">\n<title>prak</title>\n<ellipse fill=\"lightcoral\" stroke=\"red\" stroke-width=\"2\" cx=\"72\" cy=\"-90\" rx=\"18\" ry=\"18\"/>\n<text text-anchor=\"middle\" x=\"72\" y=\"-86.3\" font-family=\"Times,serif\" font-size=\"14.00\">prak</text>\n</g>\n<!-- hsp27 -->\n<g id=\"node2\" class=\"node\">\n<title>hsp27</title>\n<ellipse fill=\"lightcoral\" stroke=\"red\" stroke-width=\"2\" cx=\"72\" cy=\"-18\" rx=\"18\" ry=\"18\"/>\n<text text-anchor=\"middle\" x=\"72\" y=\"-14.3\" font-family=\"Times,serif\" font-size=\"14.00\">hsp27</text>\n</g>\n<!-- prak&#45;&gt;hsp27 -->\n<g id=\"edge1\" class=\"edge\">\n<title>prak&#45;&gt;hsp27</title>\n<path fill=\"none\" stroke=\"red\" stroke-width=\"2\" d=\"M72,-71.7C72,-63.98 72,-54.71 72,-46.11\"/>\n<polygon fill=\"red\" stroke=\"red\" stroke-width=\"2\" points=\"75.5,-46.1 72,-36.1 68.5,-46.1 75.5,-46.1\"/>\n</g>\n<!-- map3k7 -->\n<g id=\"node3\" class=\"node\">\n<title>map3k7</title>\n<ellipse fill=\"none\" stroke=\"black\" cx=\"166\" cy=\"-450\" rx=\"18\" ry=\"18\"/>\n<text text-anchor=\"middle\" x=\"166\" y=\"-446.3\" font-family=\"Times,serif\" font-size=\"14.00\">map3k7</text>\n</g>\n<!-- mkk7 -->\n<g id=\"node4\" class=\"node\">\n<title>mkk7</title>\n<ellipse fill=\"none\" stroke=\"black\" cx=\"234\" cy=\"-378\" rx=\"18\" ry=\"18\"/>\n<text text-anchor=\"middle\" x=\"234\" y=\"-374.3\" font-family=\"Times,serif\" font-size=\"14.00\">mkk7</text>\n</g>\n<!-- map3k7&#45;&gt;mkk7 -->\n<g id=\"edge2\" class=\"edge\">\n<title>map3k7&#45;&gt;mkk7</title>\n<path fill=\"none\" stroke=\"black\" d=\"M178.16,-436.49C188.31,-426.03 202.97,-410.94 214.72,-398.84\"/>\n<polygon fill=\"black\" stroke=\"black\" points=\"217.49,-401.02 221.95,-391.41 212.47,-396.14 217.49,-401.02\"/>\n</g>\n<!-- nik -->\n<g id=\"node5\" class=\"node\">\n<title>nik</title>\n<ellipse fill=\"none\" stroke=\"black\" cx=\"126\" cy=\"-378\" rx=\"18\" ry=\"18\"/>\n<text text-anchor=\"middle\" x=\"126\" y=\"-374.3\" font-family=\"Times,serif\" font-size=\"14.00\">nik</text>\n</g>\n<!-- map3k7&#45;&gt;nik -->\n<g id=\"edge3\" class=\"edge\">\n<title>map3k7&#45;&gt;nik</title>\n<path fill=\"none\" stroke=\"black\" d=\"M157.32,-433.81C152.18,-424.82 145.56,-413.23 139.73,-403.03\"/>\n<polygon fill=\"black\" stroke=\"black\" points=\"142.66,-401.11 134.66,-394.16 136.59,-404.58 142.66,-401.11\"/>\n</g>\n<!-- mkk3 -->\n<g id=\"node6\" class=\"node\">\n<title>mkk3</title>\n<ellipse fill=\"none\" stroke=\"black\" cx=\"18\" cy=\"-378\" rx=\"18\" ry=\"18\"/>\n<text text-anchor=\"middle\" x=\"18\" y=\"-374.3\" font-family=\"Times,serif\" font-size=\"14.00\">mkk3</text>\n</g>\n<!-- map3k7&#45;&gt;mkk3 -->\n<g id=\"edge4\" class=\"edge\">\n<title>map3k7&#45;&gt;mkk3</title>\n<path fill=\"none\" stroke=\"black\" d=\"M149.19,-442.56C125.48,-433.27 81.07,-415.12 45,-396 43.84,-395.39 42.67,-394.74 41.49,-394.08\"/>\n<polygon fill=\"black\" stroke=\"black\" points=\"43,-390.9 32.62,-388.76 39.4,-396.9 43,-390.9\"/>\n</g>\n<!-- mkk6 -->\n<g id=\"node7\" class=\"node\">\n<title>mkk6</title>\n<ellipse fill=\"none\" stroke=\"black\" cx=\"72\" cy=\"-378\" rx=\"18\" ry=\"18\"/>\n<text text-anchor=\"middle\" x=\"72\" y=\"-374.3\" font-family=\"Times,serif\" font-size=\"14.00\">mkk6</text>\n</g>\n<!-- map3k7&#45;&gt;mkk6 -->\n<g id=\"edge5\" class=\"edge\">\n<title>map3k7&#45;&gt;mkk6</title>\n<path fill=\"none\" stroke=\"black\" d=\"M151.72,-438.37C136.45,-427 112.03,-408.81 94.24,-395.56\"/>\n<polygon fill=\"black\" stroke=\"black\" points=\"96.21,-392.67 86.1,-389.5 92.03,-398.28 96.21,-392.67\"/>\n</g>\n<!-- mkk4 -->\n<g id=\"node8\" class=\"node\">\n<title>mkk4</title>\n<ellipse fill=\"lightcoral\" stroke=\"red\" stroke-width=\"2\" cx=\"180\" cy=\"-378\" rx=\"18\" ry=\"18\"/>\n<text text-anchor=\"middle\" x=\"180\" y=\"-374.3\" font-family=\"Times,serif\" font-size=\"14.00\">mkk4</text>\n</g>\n<!-- map3k7&#45;&gt;mkk4 -->\n<g id=\"edge6\" class=\"edge\">\n<title>map3k7&#45;&gt;mkk4</title>\n<path fill=\"none\" stroke=\"black\" d=\"M169.39,-432.05C170.97,-424.14 172.89,-414.54 174.66,-405.69\"/>\n<polygon fill=\"black\" stroke=\"black\" points=\"178.11,-406.28 176.64,-395.79 171.25,-404.91 178.11,-406.28\"/>\n</g>\n<!-- jnk12 -->\n<g id=\"node23\" class=\"node\">\n<title>jnk12</title>\n<ellipse fill=\"none\" stroke=\"black\" cx=\"203\" cy=\"-306\" rx=\"18\" ry=\"18\"/>\n<text text-anchor=\"middle\" x=\"203\" y=\"-302.3\" font-family=\"Times,serif\" font-size=\"14.00\">jnk12</text>\n</g>\n<!-- mkk7&#45;&gt;jnk12 -->\n<g id=\"edge22\" class=\"edge\">\n<title>mkk7&#45;&gt;jnk12</title>\n<path fill=\"none\" stroke=\"black\" d=\"M226.97,-361.12C223.16,-352.52 218.37,-341.72 214.08,-332.02\"/>\n<polygon fill=\"black\" stroke=\"black\" points=\"217.26,-330.55 210.01,-322.82 210.86,-333.38 217.26,-330.55\"/>\n</g>\n<!-- ikk -->\n<g id=\"node19\" class=\"node\">\n<title>ikk</title>\n<ellipse fill=\"none\" stroke=\"black\" cx=\"280\" cy=\"-306\" rx=\"18\" ry=\"18\"/>\n<text text-anchor=\"middle\" x=\"280\" y=\"-302.3\" font-family=\"Times,serif\" font-size=\"14.00\">ikk</text>\n</g>\n<!-- nik&#45;&gt;ikk -->\n<g id=\"edge14\" class=\"edge\">\n<title>nik&#45;&gt;ikk</title>\n<path fill=\"none\" stroke=\"black\" d=\"M140.59,-367.19C144.54,-364.71 148.87,-362.14 153,-360 186.7,-342.51 227.5,-326.32 253.59,-316.54\"/>\n<polygon fill=\"black\" stroke=\"black\" points=\"255,-319.76 263.16,-313 252.57,-313.19 255,-319.76\"/>\n</g>\n<!-- mkk3&#45;&gt;prak -->\n<g id=\"edge53\" class=\"edge\">\n<title>mkk3&#45;&gt;prak</title>\n<path fill=\"none\" stroke=\"black\" d=\"M21.22,-359.97C30.26,-312.08 55.95,-175.98 66.93,-117.85\"/>\n<polygon fill=\"black\" stroke=\"black\" points=\"70.38,-118.42 68.8,-107.94 63.51,-117.12 70.38,-118.42\"/>\n</g>\n<!-- p38 -->\n<g id=\"node22\" class=\"node\">\n<title>p38</title>\n<ellipse fill=\"lightcoral\" stroke=\"red\" stroke-width=\"2\" cx=\"72\" cy=\"-306\" rx=\"18\" ry=\"18\"/>\n<text text-anchor=\"middle\" x=\"72\" y=\"-302.3\" font-family=\"Times,serif\" font-size=\"14.00\">p38</text>\n</g>\n<!-- mkk3&#45;&gt;p38 -->\n<g id=\"edge52\" class=\"edge\">\n<title>mkk3&#45;&gt;p38</title>\n<path fill=\"none\" stroke=\"black\" d=\"M28.67,-363.17C36.21,-353.39 46.48,-340.08 55.13,-328.87\"/>\n<polygon fill=\"black\" stroke=\"black\" points=\"58.02,-330.86 61.35,-320.8 52.47,-326.58 58.02,-330.86\"/>\n</g>\n<!-- mkk6&#45;&gt;p38 -->\n<g id=\"edge35\" class=\"edge\">\n<title>mkk6&#45;&gt;p38</title>\n<path fill=\"none\" stroke=\"black\" d=\"M72,-359.7C72,-351.98 72,-342.71 72,-334.11\"/>\n<polygon fill=\"black\" stroke=\"black\" points=\"75.5,-334.1 72,-324.1 68.5,-334.1 75.5,-334.1\"/>\n</g>\n<!-- mkk4&#45;&gt;p38 -->\n<g id=\"edge19\" class=\"edge\">\n<title>mkk4&#45;&gt;p38</title>\n<path fill=\"none\" stroke=\"red\" stroke-width=\"2\" d=\"M164.98,-367.27C146.93,-355.56 116.43,-335.79 95.3,-322.1\"/>\n<polygon fill=\"red\" stroke=\"red\" stroke-width=\"2\" points=\"97.18,-319.15 86.89,-316.65 93.38,-325.03 97.18,-319.15\"/>\n</g>\n<!-- mkk4&#45;&gt;jnk12 -->\n<g id=\"edge20\" class=\"edge\">\n<title>mkk4&#45;&gt;jnk12</title>\n<path fill=\"none\" stroke=\"black\" d=\"M185.33,-360.76C188.02,-352.58 191.35,-342.45 194.39,-333.2\"/>\n<polygon fill=\"black\" stroke=\"black\" points=\"197.74,-334.23 197.53,-323.63 191.09,-332.04 197.74,-334.23\"/>\n</g>\n<!-- pip3 -->\n<g id=\"node9\" class=\"node\">\n<title>pip3</title>\n<ellipse fill=\"none\" stroke=\"black\" cx=\"378\" cy=\"-594\" rx=\"18\" ry=\"18\"/>\n<text text-anchor=\"middle\" x=\"378\" y=\"-590.3\" font-family=\"Times,serif\" font-size=\"14.00\">pip3</text>\n</g>\n<!-- pdk1 -->\n<g id=\"node10\" class=\"node\">\n<title>pdk1</title>\n<ellipse fill=\"none\" stroke=\"black\" cx=\"380\" cy=\"-522\" rx=\"18\" ry=\"18\"/>\n<text text-anchor=\"middle\" x=\"380\" y=\"-518.3\" font-family=\"Times,serif\" font-size=\"14.00\">pdk1</text>\n</g>\n<!-- pip3&#45;&gt;pdk1 -->\n<g id=\"edge7\" class=\"edge\">\n<title>pip3&#45;&gt;pdk1</title>\n<path fill=\"none\" stroke=\"black\" d=\"M378.49,-575.7C378.71,-567.98 378.98,-558.71 379.23,-550.11\"/>\n<polygon fill=\"black\" stroke=\"black\" points=\"382.72,-550.2 379.51,-540.1 375.73,-550 382.72,-550.2\"/>\n</g>\n<!-- akt -->\n<g id=\"node29\" class=\"node\">\n<title>akt</title>\n<ellipse fill=\"none\" stroke=\"black\" cx=\"380\" cy=\"-450\" rx=\"18\" ry=\"18\"/>\n<text text-anchor=\"middle\" x=\"380\" y=\"-446.3\" font-family=\"Times,serif\" font-size=\"14.00\">akt</text>\n</g>\n<!-- pdk1&#45;&gt;akt -->\n<g id=\"edge55\" class=\"edge\">\n<title>pdk1&#45;&gt;akt</title>\n<path fill=\"none\" stroke=\"black\" d=\"M380,-503.7C380,-495.98 380,-486.71 380,-478.11\"/>\n<polygon fill=\"black\" stroke=\"black\" points=\"383.5,-478.1 380,-468.1 376.5,-478.1 383.5,-478.1\"/>\n</g>\n<!-- pak -->\n<g id=\"node11\" class=\"node\">\n<title>pak</title>\n<ellipse fill=\"none\" stroke=\"black\" cx=\"326\" cy=\"-378\" rx=\"18\" ry=\"18\"/>\n<text text-anchor=\"middle\" x=\"326\" y=\"-374.3\" font-family=\"Times,serif\" font-size=\"14.00\">pak</text>\n</g>\n<!-- raf1 -->\n<g id=\"node12\" class=\"node\">\n<title>raf1</title>\n<ellipse fill=\"none\" stroke=\"black\" cx=\"403\" cy=\"-306\" rx=\"18\" ry=\"18\"/>\n<text text-anchor=\"middle\" x=\"403\" y=\"-302.3\" font-family=\"Times,serif\" font-size=\"14.00\">raf1</text>\n</g>\n<!-- pak&#45;&gt;raf1 -->\n<g id=\"edge8\" class=\"edge\">\n<title>pak&#45;&gt;raf1</title>\n<path fill=\"none\" stroke=\"black\" d=\"M339.06,-365.13C350.97,-354.3 368.75,-338.13 382.55,-325.59\"/>\n<polygon fill=\"black\" stroke=\"black\" points=\"385.09,-328.02 390.13,-318.7 380.38,-322.84 385.09,-328.02\"/>\n</g>\n<!-- mek12 -->\n<g id=\"node15\" class=\"node\">\n<title>mek12</title>\n<ellipse fill=\"none\" stroke=\"black\" cx=\"357\" cy=\"-234\" rx=\"18\" ry=\"18\"/>\n<text text-anchor=\"middle\" x=\"357\" y=\"-230.3\" font-family=\"Times,serif\" font-size=\"14.00\">mek12</text>\n</g>\n<!-- raf1&#45;&gt;mek12 -->\n<g id=\"edge11\" class=\"edge\">\n<title>raf1&#45;&gt;mek12</title>\n<path fill=\"none\" stroke=\"black\" d=\"M393.47,-290.5C387.3,-281.11 379.14,-268.69 372.1,-257.98\"/>\n<polygon fill=\"black\" stroke=\"black\" points=\"374.94,-255.92 366.52,-249.49 369.09,-259.76 374.94,-255.92\"/>\n</g>\n<!-- rac -->\n<g id=\"node13\" class=\"node\">\n<title>rac</title>\n<ellipse fill=\"lightcoral\" stroke=\"red\" stroke-width=\"2\" cx=\"326\" cy=\"-522\" rx=\"18\" ry=\"18\"/>\n<text text-anchor=\"middle\" x=\"326\" y=\"-518.3\" font-family=\"Times,serif\" font-size=\"14.00\">rac</text>\n</g>\n<!-- rac&#45;&gt;pak -->\n<g id=\"edge10\" class=\"edge\">\n<title>rac&#45;&gt;pak</title>\n<path fill=\"none\" stroke=\"red\" stroke-width=\"2\" d=\"M326,-503.87C326,-479.67 326,-435.21 326,-406.39\"/>\n<polygon fill=\"red\" stroke=\"red\" stroke-width=\"2\" points=\"329.5,-406.19 326,-396.19 322.5,-406.19 329.5,-406.19\"/>\n</g>\n<!-- map3k1 -->\n<g id=\"node14\" class=\"node\">\n<title>map3k1</title>\n<ellipse fill=\"lightcoral\" stroke=\"red\" stroke-width=\"2\" cx=\"276\" cy=\"-450\" rx=\"18\" ry=\"18\"/>\n<text text-anchor=\"middle\" x=\"276\" y=\"-446.3\" font-family=\"Times,serif\" font-size=\"14.00\">map3k1</text>\n</g>\n<!-- rac&#45;&gt;map3k1 -->\n<g id=\"edge9\" class=\"edge\">\n<title>rac&#45;&gt;map3k1</title>\n<path fill=\"none\" stroke=\"red\" stroke-width=\"2\" d=\"M315.88,-506.83C309.04,-497.25 299.85,-484.39 292.02,-473.43\"/>\n<polygon fill=\"red\" stroke=\"red\" stroke-width=\"2\" points=\"294.76,-471.25 286.1,-465.14 289.07,-475.32 294.76,-471.25\"/>\n</g>\n<!-- map3k1&#45;&gt;mkk7 -->\n<g id=\"edge15\" class=\"edge\">\n<title>map3k1&#45;&gt;mkk7</title>\n<path fill=\"none\" stroke=\"black\" d=\"M267.09,-434.15C261.58,-424.97 254.38,-412.97 248.11,-402.51\"/>\n<polygon fill=\"black\" stroke=\"black\" points=\"251.04,-400.6 242.89,-393.82 245.04,-404.2 251.04,-400.6\"/>\n</g>\n<!-- map3k1&#45;&gt;mkk4 -->\n<g id=\"edge17\" class=\"edge\">\n<title>map3k1&#45;&gt;mkk4</title>\n<path fill=\"none\" stroke=\"red\" stroke-width=\"2\" d=\"M261.83,-438.67C246.24,-427.3 220.94,-408.85 202.6,-395.48\"/>\n<polygon fill=\"red\" stroke=\"red\" stroke-width=\"2\" points=\"204.37,-392.43 194.22,-389.37 200.24,-398.09 204.37,-392.43\"/>\n</g>\n<!-- map3k1&#45;&gt;ikk -->\n<g id=\"edge16\" class=\"edge\">\n<title>map3k1&#45;&gt;ikk</title>\n<path fill=\"none\" stroke=\"black\" d=\"M276.48,-431.87C277.16,-407.67 278.42,-363.21 279.23,-334.39\"/>\n<polygon fill=\"black\" stroke=\"black\" points=\"282.73,-334.28 279.52,-324.19 275.74,-334.09 282.73,-334.28\"/>\n</g>\n<!-- erk12 -->\n<g id=\"node16\" class=\"node\">\n<title>erk12</title>\n<ellipse fill=\"none\" stroke=\"black\" cx=\"237\" cy=\"-162\" rx=\"18\" ry=\"18\"/>\n<text text-anchor=\"middle\" x=\"237\" y=\"-158.3\" font-family=\"Times,serif\" font-size=\"14.00\">erk12</text>\n</g>\n<!-- mek12&#45;&gt;erk12 -->\n<g id=\"edge12\" class=\"edge\">\n<title>mek12&#45;&gt;erk12</title>\n<path fill=\"none\" stroke=\"black\" d=\"M341.8,-224.13C321.54,-212.31 285.43,-191.25 261.34,-177.2\"/>\n<polygon fill=\"black\" stroke=\"black\" points=\"262.86,-174.03 252.45,-172.01 259.33,-180.08 262.86,-174.03\"/>\n</g>\n<!-- erk12&#45;&gt;prak -->\n<g id=\"edge54\" class=\"edge\">\n<title>erk12&#45;&gt;prak</title>\n<path fill=\"none\" stroke=\"black\" d=\"M220.58,-154.03C191.79,-141.82 132.03,-116.47 97.72,-101.91\"/>\n<polygon fill=\"black\" stroke=\"black\" points=\"98.93,-98.62 88.36,-97.94 96.2,-105.07 98.93,-98.62\"/>\n</g>\n<!-- irs1 -->\n<g id=\"node17\" class=\"node\">\n<title>irs1</title>\n<ellipse fill=\"lightcoral\" stroke=\"red\" stroke-width=\"2\" cx=\"265\" cy=\"-882\" rx=\"18\" ry=\"18\"/>\n<text text-anchor=\"middle\" x=\"265\" y=\"-878.3\" font-family=\"Times,serif\" font-size=\"14.00\">irs1</text>\n</g>\n<!-- pi3k -->\n<g id=\"node18\" class=\"node\">\n<title>pi3k</title>\n<ellipse fill=\"lightcoral\" stroke=\"red\" stroke-width=\"2\" cx=\"376\" cy=\"-666\" rx=\"18\" ry=\"18\"/>\n<text text-anchor=\"middle\" x=\"376\" y=\"-662.3\" font-family=\"Times,serif\" font-size=\"14.00\">pi3k</text>\n</g>\n<!-- irs1&#45;&gt;pi3k -->\n<g id=\"edge13\" class=\"edge\">\n<title>irs1&#45;&gt;pi3k</title>\n<path fill=\"none\" stroke=\"red\" stroke-width=\"2\" d=\"M272.14,-865.1C280.26,-847.18 294.09,-817.25 307,-792 325.31,-756.19 348.13,-715.55 362.39,-690.6\"/>\n<polygon fill=\"red\" stroke=\"red\" stroke-width=\"2\" points=\"365.47,-692.26 367.41,-681.84 359.4,-688.78 365.47,-692.26\"/>\n</g>\n<!-- pi3k&#45;&gt;pip3 -->\n<g id=\"edge41\" class=\"edge\">\n<title>pi3k&#45;&gt;pip3</title>\n<path fill=\"none\" stroke=\"black\" d=\"M376.49,-647.7C376.71,-639.98 376.98,-630.71 377.23,-622.11\"/>\n<polygon fill=\"black\" stroke=\"black\" points=\"380.72,-622.2 377.51,-612.1 373.73,-622 380.72,-622.2\"/>\n</g>\n<!-- pi3k&#45;&gt;rac -->\n<g id=\"edge40\" class=\"edge\">\n<title>pi3k&#45;&gt;rac</title>\n<path fill=\"none\" stroke=\"red\" stroke-width=\"2\" d=\"M367.86,-649.53C362.59,-639.11 355.84,-624.96 351,-612 343.3,-591.39 336.68,-567.33 332.19,-549.42\"/>\n<polygon fill=\"red\" stroke=\"red\" stroke-width=\"2\" points=\"335.58,-548.55 329.8,-539.67 328.78,-550.21 335.58,-548.55\"/>\n</g>\n<!-- ikb -->\n<g id=\"node28\" class=\"node\">\n<title>ikb</title>\n<ellipse fill=\"none\" stroke=\"black\" cx=\"280\" cy=\"-234\" rx=\"18\" ry=\"18\"/>\n<text text-anchor=\"middle\" x=\"280\" y=\"-230.3\" font-family=\"Times,serif\" font-size=\"14.00\">ikb</text>\n</g>\n<!-- ikk&#45;&gt;ikb -->\n<g id=\"edge26\" class=\"edge\">\n<title>ikk&#45;&gt;ikb</title>\n<path fill=\"none\" stroke=\"black\" d=\"M280,-287.7C280,-279.98 280,-270.71 280,-262.11\"/>\n<polygon fill=\"black\" stroke=\"black\" points=\"283.5,-262.1 280,-252.1 276.5,-262.1 283.5,-262.1\"/>\n</g>\n<!-- grb2 -->\n<g id=\"node20\" class=\"node\">\n<title>grb2</title>\n<ellipse fill=\"none\" stroke=\"black\" cx=\"334\" cy=\"-882\" rx=\"18\" ry=\"18\"/>\n<text text-anchor=\"middle\" x=\"334\" y=\"-878.3\" font-family=\"Times,serif\" font-size=\"14.00\">grb2</text>\n</g>\n<!-- sos -->\n<g id=\"node21\" class=\"node\">\n<title>sos</title>\n<ellipse fill=\"none\" stroke=\"black\" cx=\"334\" cy=\"-810\" rx=\"18\" ry=\"18\"/>\n<text text-anchor=\"middle\" x=\"334\" y=\"-806.3\" font-family=\"Times,serif\" font-size=\"14.00\">sos</text>\n</g>\n<!-- grb2&#45;&gt;sos -->\n<g id=\"edge18\" class=\"edge\">\n<title>grb2&#45;&gt;sos</title>\n<path fill=\"none\" stroke=\"black\" d=\"M334,-863.7C334,-855.98 334,-846.71 334,-838.11\"/>\n<polygon fill=\"black\" stroke=\"black\" points=\"337.5,-838.1 334,-828.1 330.5,-838.1 337.5,-838.1\"/>\n</g>\n<!-- ras -->\n<g id=\"node27\" class=\"node\">\n<title>ras</title>\n<ellipse fill=\"none\" stroke=\"black\" cx=\"426\" cy=\"-738\" rx=\"18\" ry=\"18\"/>\n<text text-anchor=\"middle\" x=\"426\" y=\"-734.3\" font-family=\"Times,serif\" font-size=\"14.00\">ras</text>\n</g>\n<!-- sos&#45;&gt;ras -->\n<g id=\"edge25\" class=\"edge\">\n<title>sos&#45;&gt;ras</title>\n<path fill=\"none\" stroke=\"black\" d=\"M347.97,-798.37C362.83,-787.06 386.55,-769.02 403.93,-755.79\"/>\n<polygon fill=\"black\" stroke=\"black\" points=\"406.06,-758.57 411.9,-749.73 401.82,-753 406.06,-758.57\"/>\n</g>\n<!-- p38&#45;&gt;prak -->\n<g id=\"edge33\" class=\"edge\">\n<title>p38&#45;&gt;prak</title>\n<path fill=\"none\" stroke=\"red\" stroke-width=\"2\" d=\"M72,-287.85C72,-250.83 72,-163.18 72,-118.39\"/>\n<polygon fill=\"red\" stroke=\"red\" stroke-width=\"2\" points=\"75.5,-118.23 72,-108.23 68.5,-118.23 75.5,-118.23\"/>\n</g>\n<!-- igf1 -->\n<g id=\"node24\" class=\"node\">\n<title>igf1</title>\n<ellipse fill=\"lightcoral\" stroke=\"red\" stroke-width=\"2\" cx=\"269\" cy=\"-1098\" rx=\"18\" ry=\"18\"/>\n<text text-anchor=\"middle\" x=\"269\" y=\"-1094.3\" font-family=\"Times,serif\" font-size=\"14.00\">igf1</text>\n</g>\n<!-- igfr -->\n<g id=\"node25\" class=\"node\">\n<title>igfr</title>\n<ellipse fill=\"lightcoral\" stroke=\"red\" stroke-width=\"2\" cx=\"269\" cy=\"-1026\" rx=\"18\" ry=\"18\"/>\n<text text-anchor=\"middle\" x=\"269\" y=\"-1022.3\" font-family=\"Times,serif\" font-size=\"14.00\">igfr</text>\n</g>\n<!-- igf1&#45;&gt;igfr -->\n<g id=\"edge21\" class=\"edge\">\n<title>igf1&#45;&gt;igfr</title>\n<path fill=\"none\" stroke=\"red\" stroke-width=\"2\" d=\"M269,-1079.7C269,-1071.98 269,-1062.71 269,-1054.11\"/>\n<polygon fill=\"red\" stroke=\"red\" stroke-width=\"2\" points=\"272.5,-1054.1 269,-1044.1 265.5,-1054.1 272.5,-1054.1\"/>\n</g>\n<!-- igfr&#45;&gt;irs1 -->\n<g id=\"edge23\" class=\"edge\">\n<title>igfr&#45;&gt;irs1</title>\n<path fill=\"none\" stroke=\"red\" stroke-width=\"2\" d=\"M268.52,-1007.87C267.84,-983.67 266.58,-939.21 265.77,-910.39\"/>\n<polygon fill=\"red\" stroke=\"red\" stroke-width=\"2\" points=\"269.26,-910.09 265.48,-900.19 262.27,-910.28 269.26,-910.09\"/>\n</g>\n<!-- shc -->\n<g id=\"node26\" class=\"node\">\n<title>shc</title>\n<ellipse fill=\"none\" stroke=\"black\" cx=\"296\" cy=\"-954\" rx=\"18\" ry=\"18\"/>\n<text text-anchor=\"middle\" x=\"296\" y=\"-950.3\" font-family=\"Times,serif\" font-size=\"14.00\">shc</text>\n</g>\n<!-- igfr&#45;&gt;shc -->\n<g id=\"edge24\" class=\"edge\">\n<title>igfr&#45;&gt;shc</title>\n<path fill=\"none\" stroke=\"red\" stroke-width=\"2\" d=\"M275.26,-1008.76C278.5,-1000.37 282.53,-989.93 286.17,-980.5\"/>\n<polygon fill=\"red\" stroke=\"red\" stroke-width=\"2\" points=\"289.44,-981.74 289.77,-971.15 282.91,-979.22 289.44,-981.74\"/>\n</g>\n<!-- shc&#45;&gt;grb2 -->\n<g id=\"edge34\" class=\"edge\">\n<title>shc&#45;&gt;grb2</title>\n<path fill=\"none\" stroke=\"black\" d=\"M304.25,-937.81C309.13,-928.82 315.42,-917.23 320.96,-907.03\"/>\n<polygon fill=\"black\" stroke=\"black\" points=\"324.08,-908.62 325.77,-898.16 317.92,-905.28 324.08,-908.62\"/>\n</g>\n<!-- ras&#45;&gt;raf1 -->\n<g id=\"edge43\" class=\"edge\">\n<title>ras&#45;&gt;raf1</title>\n<path fill=\"none\" stroke=\"black\" d=\"M434.28,-721.66C439.54,-711.3 446.06,-697.16 450,-684 461.47,-645.64 464,-635.04 464,-595 464,-595 464,-595 464,-449 464,-403.68 437.45,-356.35 419.38,-329.39\"/>\n<polygon fill=\"black\" stroke=\"black\" points=\"422.19,-327.3 413.63,-321.06 416.43,-331.27 422.19,-327.3\"/>\n</g>\n<!-- ras&#45;&gt;map3k1 -->\n<g id=\"edge44\" class=\"edge\">\n<title>ras&#45;&gt;map3k1</title>\n<path fill=\"none\" stroke=\"black\" d=\"M430.04,-720.32C438.99,-679.06 456.04,-570.71 407,-504 394.29,-486.71 337.8,-468.31 303.28,-458.38\"/>\n<polygon fill=\"black\" stroke=\"black\" points=\"303.92,-454.93 293.35,-455.58 302.03,-461.66 303.92,-454.93\"/>\n</g>\n<!-- ras&#45;&gt;pi3k -->\n<g id=\"edge42\" class=\"edge\">\n<title>ras&#45;&gt;pi3k</title>\n<path fill=\"none\" stroke=\"black\" d=\"M415.88,-722.83C409.04,-713.25 399.85,-700.39 392.02,-689.43\"/>\n<polygon fill=\"black\" stroke=\"black\" points=\"394.76,-687.25 386.1,-681.14 389.07,-691.32 394.76,-687.25\"/>\n</g>\n<!-- akt&#45;&gt;pak -->\n<g id=\"edge29\" class=\"edge\">\n<title>akt&#45;&gt;pak</title>\n<path fill=\"none\" stroke=\"black\" d=\"M369.33,-435.17C360.9,-424.24 349.06,-408.9 339.89,-397.01\"/>\n<polygon fill=\"black\" stroke=\"black\" points=\"333.3,-396.65 341.22,-390.54 342.44,-392.12 334.52,-398.23 333.3,-396.65\"/>\n<polyline fill=\"none\" stroke=\"black\" points=\"336.65,-392.8 339.7,-396.76 \"/>\n</g>\n<!-- akt&#45;&gt;raf1 -->\n<g id=\"edge27\" class=\"edge\">\n<title>akt&#45;&gt;raf1</title>\n<path fill=\"none\" stroke=\"black\" d=\"M389.8,-434.43C396.09,-424.18 403.67,-409.86 407,-396 412.37,-373.65 410.15,-347.25 407.35,-329.04\"/>\n<polygon fill=\"black\" stroke=\"black\" points=\"401.7,-325.46 411.57,-323.84 411.89,-325.82 402.02,-327.43 401.7,-325.46\"/>\n<polyline fill=\"none\" stroke=\"black\" points=\"406.47,-323.66 407.28,-328.6 \"/>\n</g>\n<!-- cot -->\n<g id=\"node30\" class=\"node\">\n<title>cot</title>\n<ellipse fill=\"none\" stroke=\"black\" cx=\"380\" cy=\"-378\" rx=\"18\" ry=\"18\"/>\n<text text-anchor=\"middle\" x=\"380\" y=\"-374.3\" font-family=\"Times,serif\" font-size=\"14.00\">cot</text>\n</g>\n<!-- akt&#45;&gt;cot -->\n<g id=\"edge28\" class=\"edge\">\n<title>akt&#45;&gt;cot</title>\n<path fill=\"none\" stroke=\"black\" d=\"M380,-431.7C380,-423.98 380,-414.71 380,-406.11\"/>\n<polygon fill=\"black\" stroke=\"black\" points=\"383.5,-406.1 380,-396.1 376.5,-406.1 383.5,-406.1\"/>\n</g>\n<!-- cot&#45;&gt;ikk -->\n<g id=\"edge51\" class=\"edge\">\n<title>cot&#45;&gt;ikk</title>\n<path fill=\"none\" stroke=\"black\" d=\"M365.67,-366.97C349.19,-355.43 321.91,-336.33 302.56,-322.79\"/>\n<polygon fill=\"black\" stroke=\"black\" points=\"304.5,-319.88 294.3,-317.01 300.49,-325.61 304.5,-319.88\"/>\n</g>\n<!-- traf6 -->\n<g id=\"node31\" class=\"node\">\n<title>traf6</title>\n<ellipse fill=\"none\" stroke=\"black\" cx=\"168\" cy=\"-594\" rx=\"18\" ry=\"18\"/>\n<text text-anchor=\"middle\" x=\"168\" y=\"-590.3\" font-family=\"Times,serif\" font-size=\"14.00\">traf6</text>\n</g>\n<!-- traf6&#45;&gt;map3k7 -->\n<g id=\"edge31\" class=\"edge\">\n<title>traf6&#45;&gt;map3k7</title>\n<path fill=\"none\" stroke=\"black\" d=\"M167.76,-575.87C167.42,-551.67 166.79,-507.21 166.39,-478.39\"/>\n<polygon fill=\"black\" stroke=\"black\" points=\"169.88,-478.14 166.24,-468.19 162.88,-478.24 169.88,-478.14\"/>\n</g>\n<!-- sitpec -->\n<g id=\"node32\" class=\"node\">\n<title>sitpec</title>\n<ellipse fill=\"none\" stroke=\"black\" cx=\"272\" cy=\"-522\" rx=\"18\" ry=\"18\"/>\n<text text-anchor=\"middle\" x=\"272\" y=\"-518.3\" font-family=\"Times,serif\" font-size=\"14.00\">sitpec</text>\n</g>\n<!-- traf6&#45;&gt;sitpec -->\n<g id=\"edge30\" class=\"edge\">\n<title>traf6&#45;&gt;sitpec</title>\n<path fill=\"none\" stroke=\"black\" d=\"M182.46,-583.27C199.67,-571.68 228.63,-552.19 248.94,-538.52\"/>\n<polygon fill=\"black\" stroke=\"black\" points=\"250.99,-541.36 257.33,-532.88 247.08,-535.56 250.99,-541.36\"/>\n</g>\n<!-- sitpec&#45;&gt;map3k1 -->\n<g id=\"edge39\" class=\"edge\">\n<title>sitpec&#45;&gt;map3k1</title>\n<path fill=\"none\" stroke=\"black\" d=\"M272.99,-503.7C273.43,-495.98 273.96,-486.71 274.45,-478.11\"/>\n<polygon fill=\"black\" stroke=\"black\" points=\"277.95,-478.29 275.02,-468.1 270.96,-477.89 277.95,-478.29\"/>\n</g>\n<!-- il1r -->\n<g id=\"node33\" class=\"node\">\n<title>il1r</title>\n<ellipse fill=\"none\" stroke=\"black\" cx=\"168\" cy=\"-666\" rx=\"18\" ry=\"18\"/>\n<text text-anchor=\"middle\" x=\"168\" y=\"-662.3\" font-family=\"Times,serif\" font-size=\"14.00\">il1r</text>\n</g>\n<!-- il1r&#45;&gt;traf6 -->\n<g id=\"edge32\" class=\"edge\">\n<title>il1r&#45;&gt;traf6</title>\n<path fill=\"none\" stroke=\"black\" d=\"M168,-647.7C168,-639.98 168,-630.71 168,-622.11\"/>\n<polygon fill=\"black\" stroke=\"black\" points=\"171.5,-622.1 168,-612.1 164.5,-622.1 171.5,-622.1\"/>\n</g>\n<!-- tgfa -->\n<g id=\"node34\" class=\"node\">\n<title>tgfa</title>\n<ellipse fill=\"none\" stroke=\"black\" cx=\"342\" cy=\"-1098\" rx=\"18\" ry=\"18\"/>\n<text text-anchor=\"middle\" x=\"342\" y=\"-1094.3\" font-family=\"Times,serif\" font-size=\"14.00\">tgfa</text>\n</g>\n<!-- egfr -->\n<g id=\"node35\" class=\"node\">\n<title>egfr</title>\n<ellipse fill=\"none\" stroke=\"black\" cx=\"342\" cy=\"-1026\" rx=\"18\" ry=\"18\"/>\n<text text-anchor=\"middle\" x=\"342\" y=\"-1022.3\" font-family=\"Times,serif\" font-size=\"14.00\">egfr</text>\n</g>\n<!-- tgfa&#45;&gt;egfr -->\n<g id=\"edge36\" class=\"edge\">\n<title>tgfa&#45;&gt;egfr</title>\n<path fill=\"none\" stroke=\"black\" d=\"M342,-1079.7C342,-1071.98 342,-1062.71 342,-1054.11\"/>\n<polygon fill=\"black\" stroke=\"black\" points=\"345.5,-1054.1 342,-1044.1 338.5,-1054.1 345.5,-1054.1\"/>\n</g>\n<!-- egfr&#45;&gt;pi3k -->\n<g id=\"edge47\" class=\"edge\">\n<title>egfr&#45;&gt;pi3k</title>\n<path fill=\"none\" stroke=\"black\" d=\"M349.15,-1009.19C360.16,-983.35 380,-930.21 380,-883 380,-883 380,-883 380,-809 380,-768.98 378.39,-722.64 377.22,-694.07\"/>\n<polygon fill=\"black\" stroke=\"black\" points=\"380.71,-693.89 376.79,-684.04 373.72,-694.18 380.71,-693.89\"/>\n</g>\n<!-- egfr&#45;&gt;grb2 -->\n<g id=\"edge46\" class=\"edge\">\n<title>egfr&#45;&gt;grb2</title>\n<path fill=\"none\" stroke=\"black\" d=\"M341.04,-1007.87C339.67,-983.67 337.17,-939.21 335.54,-910.39\"/>\n<polygon fill=\"black\" stroke=\"black\" points=\"339.03,-909.98 334.97,-900.19 332.04,-910.37 339.03,-909.98\"/>\n</g>\n<!-- egfr&#45;&gt;shc -->\n<g id=\"edge45\" class=\"edge\">\n<title>egfr&#45;&gt;shc</title>\n<path fill=\"none\" stroke=\"black\" d=\"M332.47,-1010.5C326.3,-1001.11 318.14,-988.69 311.1,-977.98\"/>\n<polygon fill=\"black\" stroke=\"black\" points=\"313.94,-975.92 305.52,-969.49 308.09,-979.76 313.94,-975.92\"/>\n</g>\n<!-- traf2 -->\n<g id=\"node36\" class=\"node\">\n<title>traf2</title>\n<ellipse fill=\"none\" stroke=\"black\" cx=\"218\" cy=\"-522\" rx=\"18\" ry=\"18\"/>\n<text text-anchor=\"middle\" x=\"218\" y=\"-518.3\" font-family=\"Times,serif\" font-size=\"14.00\">traf2</text>\n</g>\n<!-- traf2&#45;&gt;map3k7 -->\n<g id=\"edge38\" class=\"edge\">\n<title>traf2&#45;&gt;map3k7</title>\n<path fill=\"none\" stroke=\"black\" d=\"M207.73,-507.17C200.46,-497.39 190.57,-484.08 182.25,-472.87\"/>\n<polygon fill=\"black\" stroke=\"black\" points=\"185.03,-470.74 176.25,-464.8 179.41,-474.92 185.03,-470.74\"/>\n</g>\n<!-- ask1 -->\n<g id=\"node37\" class=\"node\">\n<title>ask1</title>\n<ellipse fill=\"none\" stroke=\"black\" cx=\"220\" cy=\"-450\" rx=\"18\" ry=\"18\"/>\n<text text-anchor=\"middle\" x=\"220\" y=\"-446.3\" font-family=\"Times,serif\" font-size=\"14.00\">ask1</text>\n</g>\n<!-- traf2&#45;&gt;ask1 -->\n<g id=\"edge37\" class=\"edge\">\n<title>traf2&#45;&gt;ask1</title>\n<path fill=\"none\" stroke=\"black\" d=\"M218.49,-503.7C218.71,-495.98 218.98,-486.71 219.23,-478.11\"/>\n<polygon fill=\"black\" stroke=\"black\" points=\"222.72,-478.2 219.51,-468.1 215.73,-478 222.72,-478.2\"/>\n</g>\n<!-- ask1&#45;&gt;mkk7 -->\n<g id=\"edge58\" class=\"edge\">\n<title>ask1&#45;&gt;mkk7</title>\n<path fill=\"none\" stroke=\"black\" d=\"M223.39,-432.05C224.97,-424.14 226.89,-414.54 228.66,-405.69\"/>\n<polygon fill=\"black\" stroke=\"black\" points=\"232.11,-406.28 230.64,-395.79 225.25,-404.91 232.11,-406.28\"/>\n</g>\n<!-- ask1&#45;&gt;mkk4 -->\n<g id=\"edge57\" class=\"edge\">\n<title>ask1&#45;&gt;mkk4</title>\n<path fill=\"none\" stroke=\"black\" d=\"M211.32,-433.81C206.18,-424.82 199.56,-413.23 193.73,-403.03\"/>\n<polygon fill=\"black\" stroke=\"black\" points=\"196.66,-401.11 188.66,-394.16 190.59,-404.58 196.66,-401.11\"/>\n</g>\n<!-- tnfr -->\n<g id=\"node38\" class=\"node\">\n<title>tnfr</title>\n<ellipse fill=\"none\" stroke=\"black\" cx=\"230\" cy=\"-738\" rx=\"18\" ry=\"18\"/>\n<text text-anchor=\"middle\" x=\"230\" y=\"-734.3\" font-family=\"Times,serif\" font-size=\"14.00\">tnfr</text>\n</g>\n<!-- tnfr&#45;&gt;pi3k -->\n<g id=\"edge49\" class=\"edge\">\n<title>tnfr&#45;&gt;pi3k</title>\n<path fill=\"none\" stroke=\"black\" d=\"M245.9,-729.38C271.24,-717.23 320.99,-693.37 351.09,-678.94\"/>\n<polygon fill=\"black\" stroke=\"black\" points=\"352.61,-682.09 360.12,-674.62 349.59,-675.78 352.61,-682.09\"/>\n</g>\n<!-- tnfr&#45;&gt;traf2 -->\n<g id=\"edge48\" class=\"edge\">\n<title>tnfr&#45;&gt;traf2</title>\n<path fill=\"none\" stroke=\"black\" d=\"M229.04,-719.85C226.96,-682.83 222.05,-595.18 219.54,-550.39\"/>\n<polygon fill=\"black\" stroke=\"black\" points=\"223.02,-550.02 218.97,-540.23 216.03,-550.41 223.02,-550.02\"/>\n</g>\n<!-- il1a -->\n<g id=\"node39\" class=\"node\">\n<title>il1a</title>\n<ellipse fill=\"none\" stroke=\"black\" cx=\"168\" cy=\"-738\" rx=\"18\" ry=\"18\"/>\n<text text-anchor=\"middle\" x=\"168\" y=\"-734.3\" font-family=\"Times,serif\" font-size=\"14.00\">il1a</text>\n</g>\n<!-- il1a&#45;&gt;il1r -->\n<g id=\"edge50\" class=\"edge\">\n<title>il1a&#45;&gt;il1r</title>\n<path fill=\"none\" stroke=\"black\" d=\"M168,-719.7C168,-711.98 168,-702.71 168,-694.11\"/>\n<polygon fill=\"black\" stroke=\"black\" points=\"171.5,-694.1 168,-684.1 164.5,-694.1 171.5,-694.1\"/>\n</g>\n<!-- tnfa -->\n<g id=\"node40\" class=\"node\">\n<title>tnfa</title>\n<ellipse fill=\"none\" stroke=\"black\" cx=\"230\" cy=\"-810\" rx=\"18\" ry=\"18\"/>\n<text text-anchor=\"middle\" x=\"230\" y=\"-806.3\" font-family=\"Times,serif\" font-size=\"14.00\">tnfa</text>\n</g>\n<!-- tnfa&#45;&gt;tnfr -->\n<g id=\"edge56\" class=\"edge\">\n<title>tnfa&#45;&gt;tnfr</title>\n<path fill=\"none\" stroke=\"black\" d=\"M230,-791.7C230,-783.98 230,-774.71 230,-766.11\"/>\n<polygon fill=\"black\" stroke=\"black\" points=\"233.5,-766.1 230,-756.1 226.5,-766.1 233.5,-766.1\"/>\n</g>\n</g>\n</svg>\n",
            "text/plain": [
              "<graphviz.graphs.Digraph at 0x7fabcd33b160>"
            ]
          },
          "execution_count": 6,
          "metadata": {},
          "output_type": "execute_result"
        }
      ],
      "source": [
        "G.to_graphviz(problem=P)"
      ]
    },
    {
      "cell_type": "markdown",
      "metadata": {
        "id": "n-JxcWKpaa5K"
      },
      "source": [
        "The exact problem can be solved in two steps, but this might not be required. First we run carnival to know the best fitting we can achieve, then we obtain the shortest path only minimizing the length of the path"
      ]
    },
    {
      "cell_type": "code",
      "execution_count": 7,
      "metadata": {
        "colab": {
          "base_uri": "https://localhost:8080/"
        },
        "id": "vd3K32-qa2aL",
        "outputId": "8933165b-470a-492a-8fed-b26824274ff6"
      },
      "outputs": [
        {
          "name": "stdout",
          "output_type": "stream",
          "text": [
            "Loss (error): [0.]\n"
          ]
        }
      ],
      "source": [
        "P, Gc = cn.methods.carnival.runVanillaCarnival({'igf1': 1}, {'hsp27': 1}, G, betaWeight=0)\n",
        "P.solve()\n",
        "loss = P.objectives[0].value\n",
        "print(\"Loss (error):\", loss)"
      ]
    },
    {
      "cell_type": "code",
      "execution_count": 8,
      "metadata": {
        "colab": {
          "base_uri": "https://localhost:8080/"
        },
        "id": "HzF_IxMFbGdM",
        "outputId": "d4f553f8-8c7b-4e42-991e-6a387a64f60c"
      },
      "outputs": [
        {
          "data": {
            "text/plain": [
              "14.999999999999998"
            ]
          },
          "execution_count": 8,
          "metadata": {},
          "output_type": "execute_result"
        }
      ],
      "source": [
        "# Selected edges\n",
        "sum(P.symbols['reaction_sends_activation_c0'].value + P.symbols['reaction_sends_inhibition_c0'].value)"
      ]
    },
    {
      "cell_type": "code",
      "execution_count": 9,
      "metadata": {
        "colab": {
          "base_uri": "https://localhost:8080/"
        },
        "id": "5QWOV6mrZn9U",
        "outputId": "193038d5-d5f2-4641-bafd-4cae9a42a8e2"
      },
      "outputs": [
        {
          "data": {
            "text/plain": [
              "14.999999999999998"
            ]
          },
          "execution_count": 9,
          "metadata": {},
          "output_type": "execute_result"
        }
      ],
      "source": [
        "P, Gc = cn.methods.carnival.runVanillaCarnival({'igf1': 1}, {'hsp27': 1}, G, betaWeight=1) # any weight might work\n",
        "P += P.objectives[0] <= loss\n",
        "P.solve();\n",
        "sum(P.symbols['reaction_sends_activation_c0'].value + P.symbols['reaction_sends_inhibition_c0'].value)"
      ]
    },
    {
      "cell_type": "code",
      "execution_count": null,
      "metadata": {
        "id": "8d0oOlRZb3Mz"
      },
      "outputs": [],
      "source": []
    },
    {
      "cell_type": "code",
      "execution_count": 13,
      "metadata": {},
      "outputs": [
        {
          "name": "stdout",
          "output_type": "stream",
          "text": [
            "\u001b[0;31mSignature:\u001b[0m\n",
            "\u001b[0mcn\u001b[0m\u001b[0;34m.\u001b[0m\u001b[0mmethods\u001b[0m\u001b[0;34m.\u001b[0m\u001b[0mcarnival\u001b[0m\u001b[0;34m.\u001b[0m\u001b[0mrunVanillaCarnival\u001b[0m\u001b[0;34m(\u001b[0m\u001b[0;34m\u001b[0m\n",
            "\u001b[0;34m\u001b[0m    \u001b[0mperturbations\u001b[0m\u001b[0;34m:\u001b[0m \u001b[0mDict\u001b[0m\u001b[0;34m,\u001b[0m\u001b[0;34m\u001b[0m\n",
            "\u001b[0;34m\u001b[0m    \u001b[0mmeasurements\u001b[0m\u001b[0;34m:\u001b[0m \u001b[0mDict\u001b[0m\u001b[0;34m,\u001b[0m\u001b[0;34m\u001b[0m\n",
            "\u001b[0;34m\u001b[0m    \u001b[0mpriorKnowledgeNetwork\u001b[0m\u001b[0;34m:\u001b[0m \u001b[0mUnion\u001b[0m\u001b[0;34m[\u001b[0m\u001b[0mList\u001b[0m\u001b[0;34m[\u001b[0m\u001b[0mTuple\u001b[0m\u001b[0;34m]\u001b[0m\u001b[0;34m,\u001b[0m \u001b[0mcorneto\u001b[0m\u001b[0;34m.\u001b[0m\u001b[0m_core\u001b[0m\u001b[0;34m.\u001b[0m\u001b[0mGraph\u001b[0m\u001b[0;34m]\u001b[0m\u001b[0;34m,\u001b[0m\u001b[0;34m\u001b[0m\n",
            "\u001b[0;34m\u001b[0m    \u001b[0mbetaWeight\u001b[0m\u001b[0;34m:\u001b[0m \u001b[0mfloat\u001b[0m \u001b[0;34m=\u001b[0m \u001b[0;36m0.2\u001b[0m\u001b[0;34m,\u001b[0m\u001b[0;34m\u001b[0m\n",
            "\u001b[0;34m\u001b[0m    \u001b[0msolver\u001b[0m\u001b[0;34m=\u001b[0m\u001b[0;32mNone\u001b[0m\u001b[0;34m,\u001b[0m\u001b[0;34m\u001b[0m\n",
            "\u001b[0;34m\u001b[0m    \u001b[0;34m**\u001b[0m\u001b[0mkwargs\u001b[0m\u001b[0;34m,\u001b[0m\u001b[0;34m\u001b[0m\n",
            "\u001b[0;34m\u001b[0m\u001b[0;34m)\u001b[0m\u001b[0;34m\u001b[0m\u001b[0;34m\u001b[0m\u001b[0m\n",
            "\u001b[0;31mDocstring:\u001b[0m <no docstring>\n",
            "\u001b[0;31mFile:\u001b[0m      ~/anaconda3/envs/spiana/lib/python3.10/site-packages/corneto/methods/carnival.py\n",
            "\u001b[0;31mType:\u001b[0m      function"
          ]
        }
      ],
      "source": [
        "?cn.methods.carnival.runVanillaCarnival"
      ]
    },
    {
      "cell_type": "code",
      "execution_count": null,
      "metadata": {},
      "outputs": [],
      "source": []
    }
  ],
  "metadata": {
    "colab": {
      "provenance": []
    },
    "kernelspec": {
      "display_name": "spiana",
      "language": "python",
      "name": "python3"
    },
    "language_info": {
      "codemirror_mode": {
        "name": "ipython",
        "version": 3
      },
      "file_extension": ".py",
      "mimetype": "text/x-python",
      "name": "python",
      "nbconvert_exporter": "python",
      "pygments_lexer": "ipython3",
      "version": "3.10.10 | packaged by conda-forge | (main, Mar 24 2023, 20:08:06) [GCC 11.3.0]"
    },
    "vscode": {
      "interpreter": {
        "hash": "b688e7f183144fde965166e58483e32fc6dbc6fc380ccc51d49ef608da0385a8"
      }
    }
  },
  "nbformat": 4,
  "nbformat_minor": 0
}
