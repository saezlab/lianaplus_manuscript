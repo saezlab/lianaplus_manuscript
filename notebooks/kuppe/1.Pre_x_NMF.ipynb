{
 "cells": [
  {
   "attachments": {},
   "cell_type": "markdown",
   "metadata": {},
   "source": [
    "# Extract Mechanisms from Space"
   ]
  },
  {
   "attachments": {},
   "cell_type": "markdown",
   "metadata": {},
   "source": [
    "## Setup Environment"
   ]
  },
  {
   "cell_type": "code",
   "execution_count": 1,
   "metadata": {},
   "outputs": [],
   "source": [
    "import os\n",
    "import numpy as np\n",
    "import pandas as pd\n",
    "\n",
    "import scanpy as sc\n",
    "import squidpy as sq\n",
    "import liana as li\n",
    "import matplotlib.pyplot as plt"
   ]
  },
  {
   "cell_type": "code",
   "execution_count": 2,
   "metadata": {},
   "outputs": [],
   "source": [
    "import decoupler as dc"
   ]
  },
  {
   "cell_type": "code",
   "execution_count": 3,
   "metadata": {},
   "outputs": [],
   "source": [
    "import plotnine as p9\n",
    "from decoupler import p_adjust_fdr"
   ]
  },
  {
   "cell_type": "code",
   "execution_count": 4,
   "metadata": {},
   "outputs": [],
   "source": [
    "import seaborn as sns"
   ]
  },
  {
   "cell_type": "code",
   "execution_count": 5,
   "metadata": {},
   "outputs": [],
   "source": [
    "import sys\n",
    "sys.path.append(os.path.join('..', 'spot_calling'))\n",
    "from utils import load_prep_slide"
   ]
  },
  {
   "cell_type": "code",
   "execution_count": 6,
   "metadata": {},
   "outputs": [],
   "source": [
    "data_dir = os.path.join('..', '..', 'data', 'heart_visium')\n",
    "dataset_names = [f for f in os.listdir(data_dir) if f.endswith('.h5ad')]"
   ]
  },
  {
   "cell_type": "code",
   "execution_count": 7,
   "metadata": {},
   "outputs": [],
   "source": [
    "metadata = pd.read_csv(os.path.join(\"..\", \"spot_calling\", \"visium_meta.csv\")).set_index('slide_name')\n",
    "group_dict = {'group_1': 'Myogenic', 'group_2':'Ischemic', 'group_3': 'Fibrotic'}\n",
    "rename_dict = {'Myogenic': 'Myogenic \\n (n=14)', 'Ischemic':'Ischemic \\n (n=9)', 'Fibrotic': 'Fibrotic \\n (n=5)'}\n",
    "condition_key = 'patient_group'"
   ]
  },
  {
   "cell_type": "code",
   "execution_count": 8,
   "metadata": {},
   "outputs": [],
   "source": [
    "metadata['patient_group'] = metadata['patient_group'].map(group_dict)"
   ]
  },
  {
   "attachments": {},
   "cell_type": "markdown",
   "metadata": {},
   "source": [
    "## Process Datasets"
   ]
  },
  {
   "cell_type": "markdown",
   "metadata": {},
   "source": [
    "TODO: \n",
    "- Plot LR interactions for ischemia for main fig?\n",
    "- Plot LR interactions for healthy in supps?\n",
    "- Plot the interasting interactions locally\n",
    "- Plot MISTy interactions as network\n",
    "+ MOFAcellular plots (maybe in supps for LRs)\n",
    "+ PyDeSeq for LR on single-cell\n",
    "+ Do a network plot for up and down-regulated TFs/LRs"
   ]
  },
  {
   "cell_type": "code",
   "execution_count": 17,
   "metadata": {},
   "outputs": [
    {
     "name": "stdout",
     "output_type": "stream",
     "text": [
      "dataset_name: AKK001_157785.h5ad; 10X0027\n"
     ]
    },
    {
     "ename": "KeyboardInterrupt",
     "evalue": "",
     "output_type": "error",
     "traceback": [
      "\u001b[0;31m---------------------------------------------------------------------------\u001b[0m",
      "\u001b[0;31mKeyboardInterrupt\u001b[0m                         Traceback (most recent call last)",
      "\u001b[0;32m/tmp/ipykernel_36389/1089816095.py\u001b[0m in \u001b[0;36m<cell line: 3>\u001b[0;34m()\u001b[0m\n\u001b[1;32m      5\u001b[0m \u001b[0;34m\u001b[0m\u001b[0m\n\u001b[1;32m      6\u001b[0m    \u001b[0mprint\u001b[0m\u001b[0;34m(\u001b[0m\u001b[0;34mf\"dataset_name: {dataset_name}; {sample_id}\"\u001b[0m\u001b[0;34m)\u001b[0m\u001b[0;34m\u001b[0m\u001b[0;34m\u001b[0m\u001b[0m\n\u001b[0;32m----> 7\u001b[0;31m    \u001b[0madata\u001b[0m \u001b[0;34m=\u001b[0m \u001b[0mload_prep_slide\u001b[0m\u001b[0;34m(\u001b[0m\u001b[0mdata_dir\u001b[0m\u001b[0;34m,\u001b[0m \u001b[0mdataset_name\u001b[0m\u001b[0;34m,\u001b[0m \u001b[0madd_sample_name\u001b[0m\u001b[0;34m=\u001b[0m\u001b[0;32mTrue\u001b[0m\u001b[0;34m)\u001b[0m\u001b[0;34m\u001b[0m\u001b[0;34m\u001b[0m\u001b[0m\n\u001b[0m\u001b[1;32m      8\u001b[0m \u001b[0;34m\u001b[0m\u001b[0m\n\u001b[1;32m      9\u001b[0m    \u001b[0mli\u001b[0m\u001b[0;34m.\u001b[0m\u001b[0mut\u001b[0m\u001b[0;34m.\u001b[0m\u001b[0mspatial_neighbors\u001b[0m\u001b[0;34m(\u001b[0m\u001b[0madata\u001b[0m\u001b[0;34m,\u001b[0m \u001b[0mbandwidth\u001b[0m\u001b[0;34m=\u001b[0m\u001b[0;36m150\u001b[0m\u001b[0;34m,\u001b[0m \u001b[0mset_diag\u001b[0m\u001b[0;34m=\u001b[0m\u001b[0;32mTrue\u001b[0m\u001b[0;34m,\u001b[0m \u001b[0mcutoff\u001b[0m\u001b[0;34m=\u001b[0m\u001b[0;36m0.1\u001b[0m\u001b[0;34m)\u001b[0m\u001b[0;34m\u001b[0m\u001b[0;34m\u001b[0m\u001b[0m\n",
      "\u001b[0;32m/media/dbdimitrov/SSDDimitrov2/Repos/lianaplus_manuscript/notebooks/kuppe/../spot_calling/utils.py\u001b[0m in \u001b[0;36mload_prep_slide\u001b[0;34m(path, slide, add_sample_name, min_genes, bandwidth, cutoff, set_diag, **kwargs)\u001b[0m\n\u001b[1;32m     89\u001b[0m     \u001b[0msc\u001b[0m\u001b[0;34m.\u001b[0m\u001b[0mpp\u001b[0m\u001b[0;34m.\u001b[0m\u001b[0mlog1p\u001b[0m\u001b[0;34m(\u001b[0m\u001b[0madata\u001b[0m\u001b[0;34m)\u001b[0m\u001b[0;34m\u001b[0m\u001b[0;34m\u001b[0m\u001b[0m\n\u001b[1;32m     90\u001b[0m \u001b[0;34m\u001b[0m\u001b[0m\n\u001b[0;32m---> 91\u001b[0;31m     \u001b[0mli\u001b[0m\u001b[0;34m.\u001b[0m\u001b[0mut\u001b[0m\u001b[0;34m.\u001b[0m\u001b[0mspatial_neighbors\u001b[0m\u001b[0;34m(\u001b[0m\u001b[0madata\u001b[0m\u001b[0;34m,\u001b[0m \u001b[0mbandwidth\u001b[0m\u001b[0;34m=\u001b[0m\u001b[0mbandwidth\u001b[0m\u001b[0;34m,\u001b[0m \u001b[0mcutoff\u001b[0m\u001b[0;34m=\u001b[0m\u001b[0mcutoff\u001b[0m\u001b[0;34m,\u001b[0m \u001b[0mset_diag\u001b[0m\u001b[0;34m=\u001b[0m\u001b[0mset_diag\u001b[0m\u001b[0;34m,\u001b[0m \u001b[0;34m**\u001b[0m\u001b[0mkwargs\u001b[0m\u001b[0;34m)\u001b[0m\u001b[0;34m\u001b[0m\u001b[0;34m\u001b[0m\u001b[0m\n\u001b[0m\u001b[1;32m     92\u001b[0m \u001b[0;34m\u001b[0m\u001b[0m\n\u001b[1;32m     93\u001b[0m     \u001b[0;32mreturn\u001b[0m \u001b[0madata\u001b[0m\u001b[0;34m\u001b[0m\u001b[0;34m\u001b[0m\u001b[0m\n",
      "\u001b[0;32m~/anaconda3/envs/spiana/lib/python3.10/site-packages/liana/utils/spatial_neighbors.py\u001b[0m in \u001b[0;36mspatial_neighbors\u001b[0;34m(adata, bandwidth, cutoff, max_neighbours, kernel, set_diag, zoi, standardize, reference, spatial_key, key_added, inplace)\u001b[0m\n\u001b[1;32m    107\u001b[0m                         \u001b[0malgorithm\u001b[0m\u001b[0;34m=\u001b[0m\u001b[0;34m'ball_tree'\u001b[0m\u001b[0;34m,\u001b[0m\u001b[0;34m\u001b[0m\u001b[0;34m\u001b[0m\u001b[0m\n\u001b[1;32m    108\u001b[0m                         metric='euclidean').fit(_reference)\n\u001b[0;32m--> 109\u001b[0;31m     \u001b[0mdist\u001b[0m \u001b[0;34m=\u001b[0m \u001b[0mtree\u001b[0m\u001b[0;34m.\u001b[0m\u001b[0mkneighbors_graph\u001b[0m\u001b[0;34m(\u001b[0m\u001b[0mcoordinates\u001b[0m\u001b[0;34m,\u001b[0m \u001b[0mmode\u001b[0m\u001b[0;34m=\u001b[0m\u001b[0;34m'distance'\u001b[0m\u001b[0;34m)\u001b[0m\u001b[0;34m\u001b[0m\u001b[0;34m\u001b[0m\u001b[0m\n\u001b[0m\u001b[1;32m    110\u001b[0m \u001b[0;34m\u001b[0m\u001b[0m\n\u001b[1;32m    111\u001b[0m     \u001b[0;31m# prevent float overflow\u001b[0m\u001b[0;34m\u001b[0m\u001b[0;34m\u001b[0m\u001b[0m\n",
      "\u001b[0;32m~/anaconda3/envs/spiana/lib/python3.10/site-packages/sklearn/neighbors/_base.py\u001b[0m in \u001b[0;36mkneighbors_graph\u001b[0;34m(self, X, n_neighbors, mode)\u001b[0m\n\u001b[1;32m    984\u001b[0m \u001b[0;34m\u001b[0m\u001b[0m\n\u001b[1;32m    985\u001b[0m         \u001b[0;32melif\u001b[0m \u001b[0mmode\u001b[0m \u001b[0;34m==\u001b[0m \u001b[0;34m\"distance\"\u001b[0m\u001b[0;34m:\u001b[0m\u001b[0;34m\u001b[0m\u001b[0;34m\u001b[0m\u001b[0m\n\u001b[0;32m--> 986\u001b[0;31m             \u001b[0mA_data\u001b[0m\u001b[0;34m,\u001b[0m \u001b[0mA_ind\u001b[0m \u001b[0;34m=\u001b[0m \u001b[0mself\u001b[0m\u001b[0;34m.\u001b[0m\u001b[0mkneighbors\u001b[0m\u001b[0;34m(\u001b[0m\u001b[0mX\u001b[0m\u001b[0;34m,\u001b[0m \u001b[0mn_neighbors\u001b[0m\u001b[0;34m,\u001b[0m \u001b[0mreturn_distance\u001b[0m\u001b[0;34m=\u001b[0m\u001b[0;32mTrue\u001b[0m\u001b[0;34m)\u001b[0m\u001b[0;34m\u001b[0m\u001b[0;34m\u001b[0m\u001b[0m\n\u001b[0m\u001b[1;32m    987\u001b[0m             \u001b[0mA_data\u001b[0m \u001b[0;34m=\u001b[0m \u001b[0mnp\u001b[0m\u001b[0;34m.\u001b[0m\u001b[0mravel\u001b[0m\u001b[0;34m(\u001b[0m\u001b[0mA_data\u001b[0m\u001b[0;34m)\u001b[0m\u001b[0;34m\u001b[0m\u001b[0;34m\u001b[0m\u001b[0m\n\u001b[1;32m    988\u001b[0m \u001b[0;34m\u001b[0m\u001b[0m\n",
      "\u001b[0;32m~/anaconda3/envs/spiana/lib/python3.10/site-packages/sklearn/neighbors/_base.py\u001b[0m in \u001b[0;36mkneighbors\u001b[0;34m(self, X, n_neighbors, return_distance)\u001b[0m\n\u001b[1;32m    875\u001b[0m                     \u001b[0;34m%\u001b[0m \u001b[0mself\u001b[0m\u001b[0;34m.\u001b[0m\u001b[0m_fit_method\u001b[0m\u001b[0;34m\u001b[0m\u001b[0;34m\u001b[0m\u001b[0m\n\u001b[1;32m    876\u001b[0m                 )\n\u001b[0;32m--> 877\u001b[0;31m             chunked_results = Parallel(n_jobs, prefer=\"threads\")(\n\u001b[0m\u001b[1;32m    878\u001b[0m                 delayed(_tree_query_parallel_helper)(\n\u001b[1;32m    879\u001b[0m                     \u001b[0mself\u001b[0m\u001b[0;34m.\u001b[0m\u001b[0m_tree\u001b[0m\u001b[0;34m,\u001b[0m \u001b[0mX\u001b[0m\u001b[0;34m[\u001b[0m\u001b[0ms\u001b[0m\u001b[0;34m]\u001b[0m\u001b[0;34m,\u001b[0m \u001b[0mn_neighbors\u001b[0m\u001b[0;34m,\u001b[0m \u001b[0mreturn_distance\u001b[0m\u001b[0;34m\u001b[0m\u001b[0;34m\u001b[0m\u001b[0m\n",
      "\u001b[0;32m~/anaconda3/envs/spiana/lib/python3.10/site-packages/sklearn/utils/parallel.py\u001b[0m in \u001b[0;36m__call__\u001b[0;34m(self, iterable)\u001b[0m\n\u001b[1;32m     63\u001b[0m             \u001b[0;32mfor\u001b[0m \u001b[0mdelayed_func\u001b[0m\u001b[0;34m,\u001b[0m \u001b[0margs\u001b[0m\u001b[0;34m,\u001b[0m \u001b[0mkwargs\u001b[0m \u001b[0;32min\u001b[0m \u001b[0miterable\u001b[0m\u001b[0;34m\u001b[0m\u001b[0;34m\u001b[0m\u001b[0m\n\u001b[1;32m     64\u001b[0m         )\n\u001b[0;32m---> 65\u001b[0;31m         \u001b[0;32mreturn\u001b[0m \u001b[0msuper\u001b[0m\u001b[0;34m(\u001b[0m\u001b[0;34m)\u001b[0m\u001b[0;34m.\u001b[0m\u001b[0m__call__\u001b[0m\u001b[0;34m(\u001b[0m\u001b[0miterable_with_config\u001b[0m\u001b[0;34m)\u001b[0m\u001b[0;34m\u001b[0m\u001b[0;34m\u001b[0m\u001b[0m\n\u001b[0m\u001b[1;32m     66\u001b[0m \u001b[0;34m\u001b[0m\u001b[0m\n\u001b[1;32m     67\u001b[0m \u001b[0;34m\u001b[0m\u001b[0m\n",
      "\u001b[0;32m~/anaconda3/envs/spiana/lib/python3.10/site-packages/joblib/parallel.py\u001b[0m in \u001b[0;36m__call__\u001b[0;34m(self, iterable)\u001b[0m\n\u001b[1;32m   1861\u001b[0m             \u001b[0moutput\u001b[0m \u001b[0;34m=\u001b[0m \u001b[0mself\u001b[0m\u001b[0;34m.\u001b[0m\u001b[0m_get_sequential_output\u001b[0m\u001b[0;34m(\u001b[0m\u001b[0miterable\u001b[0m\u001b[0;34m)\u001b[0m\u001b[0;34m\u001b[0m\u001b[0;34m\u001b[0m\u001b[0m\n\u001b[1;32m   1862\u001b[0m             \u001b[0mnext\u001b[0m\u001b[0;34m(\u001b[0m\u001b[0moutput\u001b[0m\u001b[0;34m)\u001b[0m\u001b[0;34m\u001b[0m\u001b[0;34m\u001b[0m\u001b[0m\n\u001b[0;32m-> 1863\u001b[0;31m             \u001b[0;32mreturn\u001b[0m \u001b[0moutput\u001b[0m \u001b[0;32mif\u001b[0m \u001b[0mself\u001b[0m\u001b[0;34m.\u001b[0m\u001b[0mreturn_generator\u001b[0m \u001b[0;32melse\u001b[0m \u001b[0mlist\u001b[0m\u001b[0;34m(\u001b[0m\u001b[0moutput\u001b[0m\u001b[0;34m)\u001b[0m\u001b[0;34m\u001b[0m\u001b[0;34m\u001b[0m\u001b[0m\n\u001b[0m\u001b[1;32m   1864\u001b[0m \u001b[0;34m\u001b[0m\u001b[0m\n\u001b[1;32m   1865\u001b[0m         \u001b[0;31m# Let's create an ID that uniquely identifies the current call. If the\u001b[0m\u001b[0;34m\u001b[0m\u001b[0;34m\u001b[0m\u001b[0m\n",
      "\u001b[0;32m~/anaconda3/envs/spiana/lib/python3.10/site-packages/joblib/parallel.py\u001b[0m in \u001b[0;36m_get_sequential_output\u001b[0;34m(self, iterable)\u001b[0m\n\u001b[1;32m   1790\u001b[0m                 \u001b[0mself\u001b[0m\u001b[0;34m.\u001b[0m\u001b[0mn_dispatched_batches\u001b[0m \u001b[0;34m+=\u001b[0m \u001b[0;36m1\u001b[0m\u001b[0;34m\u001b[0m\u001b[0;34m\u001b[0m\u001b[0m\n\u001b[1;32m   1791\u001b[0m                 \u001b[0mself\u001b[0m\u001b[0;34m.\u001b[0m\u001b[0mn_dispatched_tasks\u001b[0m \u001b[0;34m+=\u001b[0m \u001b[0;36m1\u001b[0m\u001b[0;34m\u001b[0m\u001b[0;34m\u001b[0m\u001b[0m\n\u001b[0;32m-> 1792\u001b[0;31m                 \u001b[0mres\u001b[0m \u001b[0;34m=\u001b[0m \u001b[0mfunc\u001b[0m\u001b[0;34m(\u001b[0m\u001b[0;34m*\u001b[0m\u001b[0margs\u001b[0m\u001b[0;34m,\u001b[0m \u001b[0;34m**\u001b[0m\u001b[0mkwargs\u001b[0m\u001b[0;34m)\u001b[0m\u001b[0;34m\u001b[0m\u001b[0;34m\u001b[0m\u001b[0m\n\u001b[0m\u001b[1;32m   1793\u001b[0m                 \u001b[0mself\u001b[0m\u001b[0;34m.\u001b[0m\u001b[0mn_completed_tasks\u001b[0m \u001b[0;34m+=\u001b[0m \u001b[0;36m1\u001b[0m\u001b[0;34m\u001b[0m\u001b[0;34m\u001b[0m\u001b[0m\n\u001b[1;32m   1794\u001b[0m                 \u001b[0mself\u001b[0m\u001b[0;34m.\u001b[0m\u001b[0mprint_progress\u001b[0m\u001b[0;34m(\u001b[0m\u001b[0;34m)\u001b[0m\u001b[0;34m\u001b[0m\u001b[0;34m\u001b[0m\u001b[0m\n",
      "\u001b[0;32m~/anaconda3/envs/spiana/lib/python3.10/site-packages/sklearn/utils/parallel.py\u001b[0m in \u001b[0;36m__call__\u001b[0;34m(self, *args, **kwargs)\u001b[0m\n\u001b[1;32m    125\u001b[0m             \u001b[0mconfig\u001b[0m \u001b[0;34m=\u001b[0m \u001b[0;34m{\u001b[0m\u001b[0;34m}\u001b[0m\u001b[0;34m\u001b[0m\u001b[0;34m\u001b[0m\u001b[0m\n\u001b[1;32m    126\u001b[0m         \u001b[0;32mwith\u001b[0m \u001b[0mconfig_context\u001b[0m\u001b[0;34m(\u001b[0m\u001b[0;34m**\u001b[0m\u001b[0mconfig\u001b[0m\u001b[0;34m)\u001b[0m\u001b[0;34m:\u001b[0m\u001b[0;34m\u001b[0m\u001b[0;34m\u001b[0m\u001b[0m\n\u001b[0;32m--> 127\u001b[0;31m             \u001b[0;32mreturn\u001b[0m \u001b[0mself\u001b[0m\u001b[0;34m.\u001b[0m\u001b[0mfunction\u001b[0m\u001b[0;34m(\u001b[0m\u001b[0;34m*\u001b[0m\u001b[0margs\u001b[0m\u001b[0;34m,\u001b[0m \u001b[0;34m**\u001b[0m\u001b[0mkwargs\u001b[0m\u001b[0;34m)\u001b[0m\u001b[0;34m\u001b[0m\u001b[0;34m\u001b[0m\u001b[0m\n\u001b[0m",
      "\u001b[0;32m~/anaconda3/envs/spiana/lib/python3.10/site-packages/sklearn/neighbors/_base.py\u001b[0m in \u001b[0;36m_tree_query_parallel_helper\u001b[0;34m(tree, *args, **kwargs)\u001b[0m\n\u001b[1;32m    681\u001b[0m     \u001b[0munder\u001b[0m \u001b[0mPyPy\u001b[0m\u001b[0;34m.\u001b[0m\u001b[0;34m\u001b[0m\u001b[0;34m\u001b[0m\u001b[0m\n\u001b[1;32m    682\u001b[0m     \"\"\"\n\u001b[0;32m--> 683\u001b[0;31m     \u001b[0;32mreturn\u001b[0m \u001b[0mtree\u001b[0m\u001b[0;34m.\u001b[0m\u001b[0mquery\u001b[0m\u001b[0;34m(\u001b[0m\u001b[0;34m*\u001b[0m\u001b[0margs\u001b[0m\u001b[0;34m,\u001b[0m \u001b[0;34m**\u001b[0m\u001b[0mkwargs\u001b[0m\u001b[0;34m)\u001b[0m\u001b[0;34m\u001b[0m\u001b[0;34m\u001b[0m\u001b[0m\n\u001b[0m\u001b[1;32m    684\u001b[0m \u001b[0;34m\u001b[0m\u001b[0m\n\u001b[1;32m    685\u001b[0m \u001b[0;34m\u001b[0m\u001b[0m\n",
      "\u001b[0;31mKeyboardInterrupt\u001b[0m: "
     ]
    }
   ],
   "source": [
    "lrdatas = {}\n",
    "\n",
    "for dataset_name in dataset_names:\n",
    "   sample_id = metadata.loc[dataset_name.replace('.h5ad', ''), 'hca_sample_id']\n",
    "   \n",
    "   print(f\"dataset_name: {dataset_name}; {sample_id}\")\n",
    "   adata = load_prep_slide(data_dir, dataset_name, add_sample_name=True)\n",
    "\n",
    "   li.ut.spatial_neighbors(adata, bandwidth=150, set_diag=True, cutoff=0.1)\n",
    "\n",
    "   adata.write_h5ad(os.path.join('results', 'processed', sample_id + '.h5ad'))\n",
    "\n",
    "   li.mt.lr_bivar(adata,\n",
    "                  function_name='cosine',\n",
    "                  expr_prop=0.1,\n",
    "                  n_perms=None, # NOTE, some bug here\n",
    "                  use_raw=False,\n",
    "                  add_categories=False,\n",
    "                  # mask_negatives=True,\n",
    "                  )\n",
    "   lrdata = adata.obsm['local_scores']\n",
    "   \n",
    "   # save to folder\n",
    "   lrdata.write_h5ad(os.path.join('results', 'lr', sample_id + '.h5ad'))\n",
    "\n",
    "   lrdatas[sample_id] = lrdata"
   ]
  },
  {
   "cell_type": "code",
   "execution_count": null,
   "metadata": {},
   "outputs": [],
   "source": []
  },
  {
   "attachments": {},
   "cell_type": "markdown",
   "metadata": {},
   "source": [
    "## Run NMF on the whole Dataset"
   ]
  },
  {
   "cell_type": "code",
   "execution_count": 18,
   "metadata": {},
   "outputs": [
    {
     "ename": "ValueError",
     "evalue": "No objects to concatenate",
     "output_type": "error",
     "traceback": [
      "\u001b[0;31m---------------------------------------------------------------------------\u001b[0m",
      "\u001b[0;31mValueError\u001b[0m                                Traceback (most recent call last)",
      "\u001b[0;32m/tmp/ipykernel_36389/1889880578.py\u001b[0m in \u001b[0;36m<cell line: 1>\u001b[0;34m()\u001b[0m\n\u001b[0;32m----> 1\u001b[0;31m \u001b[0mfeatures\u001b[0m \u001b[0;34m=\u001b[0m \u001b[0mpd\u001b[0m\u001b[0;34m.\u001b[0m\u001b[0mconcat\u001b[0m\u001b[0;34m(\u001b[0m\u001b[0;34m[\u001b[0m\u001b[0mlrdatas\u001b[0m\u001b[0;34m[\u001b[0m\u001b[0mdataset_name\u001b[0m\u001b[0;34m]\u001b[0m\u001b[0;34m.\u001b[0m\u001b[0mvar\u001b[0m \u001b[0;32mfor\u001b[0m \u001b[0mdataset_name\u001b[0m \u001b[0;32min\u001b[0m \u001b[0mlrdatas\u001b[0m\u001b[0;34m]\u001b[0m\u001b[0;34m)\u001b[0m\u001b[0;34m\u001b[0m\u001b[0;34m\u001b[0m\u001b[0m\n\u001b[0m\u001b[1;32m      2\u001b[0m \u001b[0mfeatures\u001b[0m\u001b[0;34m[\u001b[0m\u001b[0;34m'count'\u001b[0m\u001b[0;34m]\u001b[0m \u001b[0;34m=\u001b[0m \u001b[0;36m1\u001b[0m\u001b[0;34m\u001b[0m\u001b[0;34m\u001b[0m\u001b[0m\n\u001b[1;32m      3\u001b[0m \u001b[0mfeatures\u001b[0m \u001b[0;34m=\u001b[0m \u001b[0mfeatures\u001b[0m\u001b[0;34m.\u001b[0m\u001b[0mreset_index\u001b[0m\u001b[0;34m(\u001b[0m\u001b[0;34m)\u001b[0m\u001b[0;34m.\u001b[0m\u001b[0mgroupby\u001b[0m\u001b[0;34m(\u001b[0m\u001b[0;34m'interaction'\u001b[0m\u001b[0;34m)\u001b[0m\u001b[0;34m.\u001b[0m\u001b[0msum\u001b[0m\u001b[0;34m(\u001b[0m\u001b[0;34m)\u001b[0m\u001b[0;34m.\u001b[0m\u001b[0msort_values\u001b[0m\u001b[0;34m(\u001b[0m\u001b[0;34m'count'\u001b[0m\u001b[0;34m)\u001b[0m\u001b[0;34m\u001b[0m\u001b[0;34m\u001b[0m\u001b[0m\n",
      "\u001b[0;32m~/anaconda3/envs/spiana/lib/python3.10/site-packages/pandas/core/reshape/concat.py\u001b[0m in \u001b[0;36mconcat\u001b[0;34m(objs, axis, join, ignore_index, keys, levels, names, verify_integrity, sort, copy)\u001b[0m\n\u001b[1;32m    370\u001b[0m         \u001b[0mcopy\u001b[0m \u001b[0;34m=\u001b[0m \u001b[0;32mFalse\u001b[0m\u001b[0;34m\u001b[0m\u001b[0;34m\u001b[0m\u001b[0m\n\u001b[1;32m    371\u001b[0m \u001b[0;34m\u001b[0m\u001b[0m\n\u001b[0;32m--> 372\u001b[0;31m     op = _Concatenator(\n\u001b[0m\u001b[1;32m    373\u001b[0m         \u001b[0mobjs\u001b[0m\u001b[0;34m,\u001b[0m\u001b[0;34m\u001b[0m\u001b[0;34m\u001b[0m\u001b[0m\n\u001b[1;32m    374\u001b[0m         \u001b[0maxis\u001b[0m\u001b[0;34m=\u001b[0m\u001b[0maxis\u001b[0m\u001b[0;34m,\u001b[0m\u001b[0;34m\u001b[0m\u001b[0;34m\u001b[0m\u001b[0m\n",
      "\u001b[0;32m~/anaconda3/envs/spiana/lib/python3.10/site-packages/pandas/core/reshape/concat.py\u001b[0m in \u001b[0;36m__init__\u001b[0;34m(self, objs, axis, join, keys, levels, names, ignore_index, verify_integrity, copy, sort)\u001b[0m\n\u001b[1;32m    427\u001b[0m \u001b[0;34m\u001b[0m\u001b[0m\n\u001b[1;32m    428\u001b[0m         \u001b[0;32mif\u001b[0m \u001b[0mlen\u001b[0m\u001b[0;34m(\u001b[0m\u001b[0mobjs\u001b[0m\u001b[0;34m)\u001b[0m \u001b[0;34m==\u001b[0m \u001b[0;36m0\u001b[0m\u001b[0;34m:\u001b[0m\u001b[0;34m\u001b[0m\u001b[0;34m\u001b[0m\u001b[0m\n\u001b[0;32m--> 429\u001b[0;31m             \u001b[0;32mraise\u001b[0m \u001b[0mValueError\u001b[0m\u001b[0;34m(\u001b[0m\u001b[0;34m\"No objects to concatenate\"\u001b[0m\u001b[0;34m)\u001b[0m\u001b[0;34m\u001b[0m\u001b[0;34m\u001b[0m\u001b[0m\n\u001b[0m\u001b[1;32m    430\u001b[0m \u001b[0;34m\u001b[0m\u001b[0m\n\u001b[1;32m    431\u001b[0m         \u001b[0;32mif\u001b[0m \u001b[0mkeys\u001b[0m \u001b[0;32mis\u001b[0m \u001b[0;32mNone\u001b[0m\u001b[0;34m:\u001b[0m\u001b[0;34m\u001b[0m\u001b[0;34m\u001b[0m\u001b[0m\n",
      "\u001b[0;31mValueError\u001b[0m: No objects to concatenate"
     ]
    }
   ],
   "source": [
    "features = pd.concat([lrdatas[dataset_name].var for dataset_name in lrdatas])\n",
    "features['count'] = 1 \n",
    "features = features.reset_index().groupby('interaction').sum().sort_values('count')"
   ]
  },
  {
   "cell_type": "code",
   "execution_count": 19,
   "metadata": {},
   "outputs": [
    {
     "ename": "NameError",
     "evalue": "name 'features' is not defined",
     "output_type": "error",
     "traceback": [
      "\u001b[0;31m---------------------------------------------------------------------------\u001b[0m",
      "\u001b[0;31mNameError\u001b[0m                                 Traceback (most recent call last)",
      "\u001b[0;32m/tmp/ipykernel_36389/3856850244.py\u001b[0m in \u001b[0;36m<cell line: 1>\u001b[0;34m()\u001b[0m\n\u001b[0;32m----> 1\u001b[0;31m \u001b[0mfeatures\u001b[0m\u001b[0;34m[\u001b[0m\u001b[0;34m'count'\u001b[0m\u001b[0;34m]\u001b[0m\u001b[0;34m.\u001b[0m\u001b[0mhist\u001b[0m\u001b[0;34m(\u001b[0m\u001b[0mbins\u001b[0m\u001b[0;34m=\u001b[0m\u001b[0;36m30\u001b[0m\u001b[0;34m)\u001b[0m\u001b[0;34m\u001b[0m\u001b[0;34m\u001b[0m\u001b[0m\n\u001b[0m",
      "\u001b[0;31mNameError\u001b[0m: name 'features' is not defined"
     ]
    }
   ],
   "source": [
    "features['count'].hist(bins=30)"
   ]
  },
  {
   "attachments": {},
   "cell_type": "markdown",
   "metadata": {},
   "source": [
    "Keep features in at least X samples"
   ]
  },
  {
   "cell_type": "code",
   "execution_count": 13,
   "metadata": {},
   "outputs": [],
   "source": [
    "features = features[features['count'] >= 10]"
   ]
  },
  {
   "cell_type": "code",
   "execution_count": 14,
   "metadata": {},
   "outputs": [
    {
     "data": {
      "text/plain": [
       "AnnData object with n_obs × n_vars = 91205 × 1270\n",
       "    obs: 'in_tissue', 'array_row', 'array_col', 'sample', 'n_genes_by_counts', 'log1p_n_genes_by_counts', 'total_counts', 'log1p_total_counts', 'pct_counts_in_top_50_genes', 'pct_counts_in_top_100_genes', 'pct_counts_in_top_200_genes', 'pct_counts_in_top_500_genes', 'mt_frac', 'celltype_niche', 'molecular_niche', 'n_genes'\n",
       "    obsm: 'compositions', 'mt', 'spatial'"
      ]
     },
     "execution_count": 14,
     "metadata": {},
     "output_type": "execute_result"
    }
   ],
   "source": [
    "lrdata_all = sc.concat(lrdatas, join='outer', fill_value=0)\n",
    "lrdata_all"
   ]
  },
  {
   "cell_type": "code",
   "execution_count": 15,
   "metadata": {},
   "outputs": [
    {
     "data": {
      "text/plain": [
       "View of AnnData object with n_obs × n_vars = 91205 × 613\n",
       "    obs: 'in_tissue', 'array_row', 'array_col', 'sample', 'n_genes_by_counts', 'log1p_n_genes_by_counts', 'total_counts', 'log1p_total_counts', 'pct_counts_in_top_50_genes', 'pct_counts_in_top_100_genes', 'pct_counts_in_top_200_genes', 'pct_counts_in_top_500_genes', 'mt_frac', 'celltype_niche', 'molecular_niche', 'n_genes'\n",
       "    obsm: 'compositions', 'mt', 'spatial'"
      ]
     },
     "execution_count": 15,
     "metadata": {},
     "output_type": "execute_result"
    }
   ],
   "source": [
    "# subset to de features\n",
    "lrdata_all = lrdata_all[:, features.index]\n",
    "lrdata_all"
   ]
  },
  {
   "attachments": {},
   "cell_type": "markdown",
   "metadata": {},
   "source": [
    "## Run NMF"
   ]
  },
  {
   "cell_type": "code",
   "execution_count": 17,
   "metadata": {},
   "outputs": [
    {
     "name": "stderr",
     "output_type": "stream",
     "text": [
      "/home/dbdimitrov/anaconda3/envs/spiana/lib/python3.10/site-packages/sklearn/decomposition/_nmf.py:1710: ConvergenceWarning: Maximum number of iterations 400 reached. Increase it to improve convergence.\n"
     ]
    }
   ],
   "source": [
    "li.multi.nmf(lrdata_all, n_components=5, inplace=True, random_state=1337, max_iter=400, verbose=True, k_range=range(1, 21))"
   ]
  },
  {
   "cell_type": "code",
   "execution_count": 18,
   "metadata": {},
   "outputs": [],
   "source": [
    "lrdata_all.write_h5ad(os.path.join('results', 'lr', 'lrdata_all.h5ad'))"
   ]
  },
  {
   "cell_type": "code",
   "execution_count": 21,
   "metadata": {},
   "outputs": [],
   "source": [
    "lr_loadings = li.ut.get_variable_loadings(lrdata_all, varm_key='NMF_H').set_index('index')"
   ]
  },
  {
   "cell_type": "code",
   "execution_count": 23,
   "metadata": {},
   "outputs": [],
   "source": [
    "metadata = metadata.reset_index().set_index('hca_sample_id')"
   ]
  },
  {
   "cell_type": "code",
   "execution_count": 24,
   "metadata": {},
   "outputs": [],
   "source": [
    "# save the NMF factors to the individual samples\n",
    "for sample in lrdatas:\n",
    "    labl = metadata.loc[sample, 'major_labl']\n",
    "    lrdata = lrdatas[sample]\n",
    "    # Get the NMF factors for the current sample from the full dataset\n",
    "    temp = lrdata_all[lrdata_all.obs.index.isin(lrdata.obs.index), :]\n",
    "    temp = temp[:, temp.var.index.isin(lrdata.var.index)]\n",
    "    \n",
    "    # extract NMF from obsm\n",
    "    ad_nmf = sc.AnnData(X=temp.obsm['NMF_W'],\n",
    "                        obs=temp.obs,\n",
    "                        var=pd.DataFrame(index=lr_loadings.columns),\n",
    "                        uns=lrdata.uns,\n",
    "                        obsm={'spatial':temp.obsm['spatial']}\n",
    "                        )\n",
    "    ad_nmf.write_h5ad(os.path.join('results', 'nmf', sample))\n",
    "    \n",
    "    # plot\n",
    "    # sq.pl.spatial_scatter(ad_nmf, color=[None, *lr_loadings.columns], cmap='viridis', title=f\"{sample}:{labl}\", vmin=0, size=1.4, img=True) #\n",
    "    # plt.show() "
   ]
  },
  {
   "cell_type": "code",
   "execution_count": null,
   "metadata": {},
   "outputs": [],
   "source": []
  },
  {
   "cell_type": "code",
   "execution_count": null,
   "metadata": {},
   "outputs": [],
   "source": []
  },
  {
   "attachments": {},
   "cell_type": "markdown",
   "metadata": {},
   "source": [
    "Check loadings"
   ]
  },
  {
   "cell_type": "code",
   "execution_count": 10,
   "metadata": {},
   "outputs": [],
   "source": [
    "lrdata_all = sc.read_h5ad(os.path.join('results', 'lr', 'lrdata_all.h5ad'))"
   ]
  },
  {
   "cell_type": "code",
   "execution_count": 11,
   "metadata": {},
   "outputs": [],
   "source": [
    "lr_loadings = li.ut.get_variable_loadings(lrdata_all, varm_key='NMF_H').set_index('index')"
   ]
  },
  {
   "cell_type": "code",
   "execution_count": 12,
   "metadata": {},
   "outputs": [],
   "source": [
    "metadata = metadata.reset_index().set_index('hca_sample_id')"
   ]
  },
  {
   "attachments": {},
   "cell_type": "markdown",
   "metadata": {},
   "source": [
    "### Analyse Loadings"
   ]
  },
  {
   "cell_type": "code",
   "execution_count": 13,
   "metadata": {},
   "outputs": [],
   "source": [
    "nmfdata = sc.AnnData(X=lrdata_all.obsm['NMF_W'].copy(),\n",
    "                     obs=lrdata_all.obs,\n",
    "                     var=pd.DataFrame(index=lr_loadings.columns),\n",
    "                     uns=lrdata_all.uns,\n",
    "                     obsm={'spatial':lrdata_all.obsm['spatial']}\n",
    "                     )"
   ]
  },
  {
   "cell_type": "code",
   "execution_count": 14,
   "metadata": {},
   "outputs": [],
   "source": [
    "indices = lrdata_all.obs.index\n",
    "nmfdata.obs = nmfdata.obs.merge(metadata.reset_index(), left_on='sample', right_on='slide_name')\n",
    "nmfdata.obs.index = indices"
   ]
  },
  {
   "cell_type": "code",
   "execution_count": 15,
   "metadata": {},
   "outputs": [],
   "source": [
    "df = pd.DataFrame(lrdata_all.obsm['NMF_W'], columns=lr_loadings.columns, index=lrdata_all.obs.index)\n",
    "df['sample'] = lrdata_all.obs['sample']\n",
    "df = df.merge(metadata.reset_index(), left_on='sample', right_on='slide_name')"
   ]
  },
  {
   "cell_type": "code",
   "execution_count": 16,
   "metadata": {},
   "outputs": [
    {
     "data": {
      "text/html": [
       "<div>\n",
       "<style scoped>\n",
       "    .dataframe tbody tr th:only-of-type {\n",
       "        vertical-align: middle;\n",
       "    }\n",
       "\n",
       "    .dataframe tbody tr th {\n",
       "        vertical-align: top;\n",
       "    }\n",
       "\n",
       "    .dataframe thead th {\n",
       "        text-align: right;\n",
       "    }\n",
       "</style>\n",
       "<table border=\"1\" class=\"dataframe\">\n",
       "  <thead>\n",
       "    <tr style=\"text-align: right;\">\n",
       "      <th></th>\n",
       "      <th>Factor1</th>\n",
       "      <th>Factor2</th>\n",
       "      <th>Factor3</th>\n",
       "      <th>Factor4</th>\n",
       "      <th>Factor5</th>\n",
       "      <th>sample</th>\n",
       "      <th>hca_sample_id</th>\n",
       "      <th>slide_name</th>\n",
       "      <th>patient</th>\n",
       "      <th>patient_region_id</th>\n",
       "      <th>patient_group</th>\n",
       "      <th>major_labl</th>\n",
       "      <th>batch</th>\n",
       "    </tr>\n",
       "  </thead>\n",
       "  <tbody>\n",
       "    <tr>\n",
       "      <th>0</th>\n",
       "      <td>0.000000</td>\n",
       "      <td>0.061676</td>\n",
       "      <td>0.134935</td>\n",
       "      <td>0.156563</td>\n",
       "      <td>0.0</td>\n",
       "      <td>AKK001_157785</td>\n",
       "      <td>10X0027</td>\n",
       "      <td>AKK001_157785</td>\n",
       "      <td>P5</td>\n",
       "      <td>RZ/FZ_P5</td>\n",
       "      <td>Myogenic</td>\n",
       "      <td>FZ</td>\n",
       "      <td>10X</td>\n",
       "    </tr>\n",
       "    <tr>\n",
       "      <th>1</th>\n",
       "      <td>0.000798</td>\n",
       "      <td>0.091704</td>\n",
       "      <td>0.074106</td>\n",
       "      <td>0.352288</td>\n",
       "      <td>0.0</td>\n",
       "      <td>AKK001_157785</td>\n",
       "      <td>10X0027</td>\n",
       "      <td>AKK001_157785</td>\n",
       "      <td>P5</td>\n",
       "      <td>RZ/FZ_P5</td>\n",
       "      <td>Myogenic</td>\n",
       "      <td>FZ</td>\n",
       "      <td>10X</td>\n",
       "    </tr>\n",
       "    <tr>\n",
       "      <th>2</th>\n",
       "      <td>0.000000</td>\n",
       "      <td>0.097535</td>\n",
       "      <td>0.108173</td>\n",
       "      <td>0.281094</td>\n",
       "      <td>0.0</td>\n",
       "      <td>AKK001_157785</td>\n",
       "      <td>10X0027</td>\n",
       "      <td>AKK001_157785</td>\n",
       "      <td>P5</td>\n",
       "      <td>RZ/FZ_P5</td>\n",
       "      <td>Myogenic</td>\n",
       "      <td>FZ</td>\n",
       "      <td>10X</td>\n",
       "    </tr>\n",
       "    <tr>\n",
       "      <th>3</th>\n",
       "      <td>0.000000</td>\n",
       "      <td>0.099700</td>\n",
       "      <td>0.135927</td>\n",
       "      <td>0.271132</td>\n",
       "      <td>0.0</td>\n",
       "      <td>AKK001_157785</td>\n",
       "      <td>10X0027</td>\n",
       "      <td>AKK001_157785</td>\n",
       "      <td>P5</td>\n",
       "      <td>RZ/FZ_P5</td>\n",
       "      <td>Myogenic</td>\n",
       "      <td>FZ</td>\n",
       "      <td>10X</td>\n",
       "    </tr>\n",
       "    <tr>\n",
       "      <th>4</th>\n",
       "      <td>0.000000</td>\n",
       "      <td>0.064189</td>\n",
       "      <td>0.147847</td>\n",
       "      <td>0.190315</td>\n",
       "      <td>0.0</td>\n",
       "      <td>AKK001_157785</td>\n",
       "      <td>10X0027</td>\n",
       "      <td>AKK001_157785</td>\n",
       "      <td>P5</td>\n",
       "      <td>RZ/FZ_P5</td>\n",
       "      <td>Myogenic</td>\n",
       "      <td>FZ</td>\n",
       "      <td>10X</td>\n",
       "    </tr>\n",
       "  </tbody>\n",
       "</table>\n",
       "</div>"
      ],
      "text/plain": [
       "    Factor1   Factor2   Factor3   Factor4  Factor5         sample  \\\n",
       "0  0.000000  0.061676  0.134935  0.156563      0.0  AKK001_157785   \n",
       "1  0.000798  0.091704  0.074106  0.352288      0.0  AKK001_157785   \n",
       "2  0.000000  0.097535  0.108173  0.281094      0.0  AKK001_157785   \n",
       "3  0.000000  0.099700  0.135927  0.271132      0.0  AKK001_157785   \n",
       "4  0.000000  0.064189  0.147847  0.190315      0.0  AKK001_157785   \n",
       "\n",
       "  hca_sample_id     slide_name patient patient_region_id patient_group  \\\n",
       "0       10X0027  AKK001_157785      P5          RZ/FZ_P5      Myogenic   \n",
       "1       10X0027  AKK001_157785      P5          RZ/FZ_P5      Myogenic   \n",
       "2       10X0027  AKK001_157785      P5          RZ/FZ_P5      Myogenic   \n",
       "3       10X0027  AKK001_157785      P5          RZ/FZ_P5      Myogenic   \n",
       "4       10X0027  AKK001_157785      P5          RZ/FZ_P5      Myogenic   \n",
       "\n",
       "  major_labl batch  \n",
       "0         FZ   10X  \n",
       "1         FZ   10X  \n",
       "2         FZ   10X  \n",
       "3         FZ   10X  \n",
       "4         FZ   10X  "
      ]
     },
     "execution_count": 16,
     "metadata": {},
     "output_type": "execute_result"
    }
   ],
   "source": [
    "df.head()"
   ]
  },
  {
   "cell_type": "code",
   "execution_count": null,
   "metadata": {},
   "outputs": [],
   "source": []
  },
  {
   "cell_type": "code",
   "execution_count": 17,
   "metadata": {},
   "outputs": [
    {
     "ename": "KeyError",
     "evalue": "'nmf_errors'",
     "output_type": "error",
     "traceback": [
      "\u001b[0;31m---------------------------------------------------------------------------\u001b[0m",
      "\u001b[0;31mKeyError\u001b[0m                                  Traceback (most recent call last)",
      "\u001b[0;32m/tmp/ipykernel_39254/283264493.py\u001b[0m in \u001b[0;36m<cell line: 1>\u001b[0;34m()\u001b[0m\n\u001b[0;32m----> 1\u001b[0;31m \u001b[0merrors\u001b[0m \u001b[0;34m=\u001b[0m \u001b[0mlrdata_all\u001b[0m\u001b[0;34m.\u001b[0m\u001b[0muns\u001b[0m\u001b[0;34m[\u001b[0m\u001b[0;34m'nmf_errors'\u001b[0m\u001b[0;34m]\u001b[0m\u001b[0;34m\u001b[0m\u001b[0;34m\u001b[0m\u001b[0m\n\u001b[0m\u001b[1;32m      2\u001b[0m \u001b[0mrank\u001b[0m \u001b[0;34m=\u001b[0m \u001b[0mlrdata_all\u001b[0m\u001b[0;34m.\u001b[0m\u001b[0muns\u001b[0m\u001b[0;34m[\u001b[0m\u001b[0;34m'nmf_rank'\u001b[0m\u001b[0;34m]\u001b[0m\u001b[0;34m\u001b[0m\u001b[0;34m\u001b[0m\u001b[0m\n",
      "\u001b[0;31mKeyError\u001b[0m: 'nmf_errors'"
     ]
    }
   ],
   "source": [
    "errors = lrdata_all.uns['nmf_errors']\n",
    "rank = lrdata_all.uns['nmf_rank']"
   ]
  },
  {
   "cell_type": "code",
   "execution_count": 18,
   "metadata": {},
   "outputs": [
    {
     "ename": "NameError",
     "evalue": "name 'errors' is not defined",
     "output_type": "error",
     "traceback": [
      "\u001b[0;31m---------------------------------------------------------------------------\u001b[0m",
      "\u001b[0;31mNameError\u001b[0m                                 Traceback (most recent call last)",
      "\u001b[0;32m/tmp/ipykernel_39254/3826503074.py\u001b[0m in \u001b[0;36m<cell line: 1>\u001b[0;34m()\u001b[0m\n\u001b[0;32m----> 1\u001b[0;31m \u001b[0merrors\u001b[0m\u001b[0;34m\u001b[0m\u001b[0;34m\u001b[0m\u001b[0m\n\u001b[0m",
      "\u001b[0;31mNameError\u001b[0m: name 'errors' is not defined"
     ]
    }
   ],
   "source": [
    "errors"
   ]
  },
  {
   "cell_type": "code",
   "execution_count": null,
   "metadata": {},
   "outputs": [],
   "source": []
  },
  {
   "cell_type": "code",
   "execution_count": 19,
   "metadata": {},
   "outputs": [
    {
     "ename": "NameError",
     "evalue": "name 'errors' is not defined",
     "output_type": "error",
     "traceback": [
      "\u001b[0;31m---------------------------------------------------------------------------\u001b[0m",
      "\u001b[0;31mNameError\u001b[0m                                 Traceback (most recent call last)",
      "\u001b[0;32m/tmp/ipykernel_39254/3653769052.py\u001b[0m in \u001b[0;36m<cell line: 7>\u001b[0;34m()\u001b[0m\n\u001b[1;32m      5\u001b[0m \u001b[0;34m\u001b[0m\u001b[0m\n\u001b[1;32m      6\u001b[0m \u001b[0;31m# Plot the line and points\u001b[0m\u001b[0;34m\u001b[0m\u001b[0;34m\u001b[0m\u001b[0m\n\u001b[0;32m----> 7\u001b[0;31m \u001b[0max\u001b[0m\u001b[0;34m.\u001b[0m\u001b[0mplot\u001b[0m\u001b[0;34m(\u001b[0m\u001b[0merrors\u001b[0m\u001b[0;34m[\u001b[0m\u001b[0;34m'k'\u001b[0m\u001b[0;34m]\u001b[0m\u001b[0;34m,\u001b[0m \u001b[0merrors\u001b[0m\u001b[0;34m[\u001b[0m\u001b[0;34m'error'\u001b[0m\u001b[0;34m]\u001b[0m\u001b[0;34m,\u001b[0m \u001b[0mmarker\u001b[0m\u001b[0;34m=\u001b[0m\u001b[0;34m'o'\u001b[0m\u001b[0;34m)\u001b[0m\u001b[0;34m\u001b[0m\u001b[0;34m\u001b[0m\u001b[0m\n\u001b[0m\u001b[1;32m      8\u001b[0m \u001b[0;34m\u001b[0m\u001b[0m\n\u001b[1;32m      9\u001b[0m \u001b[0;31m# Add the vertical line\u001b[0m\u001b[0;34m\u001b[0m\u001b[0;34m\u001b[0m\u001b[0m\n",
      "\u001b[0;31mNameError\u001b[0m: name 'errors' is not defined"
     ]
    },
    {
     "data": {
      "image/png": "[encoded data removed]",
      "text/plain": [
       "<Figure size 640x480 with 1 Axes>"
      ]
     },
     "metadata": {},
     "output_type": "display_data"
    }
   ],
   "source": [
    "import matplotlib.pyplot as plt\n",
    "\n",
    "# Create a new figure and axis\n",
    "fig, ax = plt.subplots()\n",
    "\n",
    "# Plot the line and points\n",
    "ax.plot(errors['k'], errors['error'], marker='o')\n",
    "\n",
    "# Add the vertical line\n",
    "ax.axvline(x=rank, linestyle='--', color='red')\n",
    "\n",
    "# Set the x-ticks only if they are divisible by 5\n",
    "ax.set_xticks([x for x in errors['k'].values if x % 5 == 0])\n",
    "\n",
    "# Set the labels\n",
    "ax.set_xlabel('Component number (k)')\n",
    "ax.set_ylabel('Reconstruction error')\n",
    "\n",
    "# Show the plot\n",
    "plt.show()"
   ]
  },
  {
   "cell_type": "code",
   "execution_count": null,
   "metadata": {},
   "outputs": [],
   "source": []
  },
  {
   "cell_type": "code",
   "execution_count": 20,
   "metadata": {},
   "outputs": [],
   "source": [
    "import pandas as pd\n",
    "from scipy.stats import fisher_exact, chi2_contingency\n",
    "\n",
    "# Assuming df is your pandas DataFrame\n",
    "factors = lr_loadings.columns\n",
    "labels = df['patient_group'].unique()\n",
    "\n",
    "# Initialize a DataFrame to store the results\n",
    "odds = pd.DataFrame(columns=['factor', 'patient_group', 'odds_ratio', 'p_value'])\n",
    "\n",
    "# Iterate over each factor and each label\n",
    "for factor in factors:\n",
    "    # Determine the top threshold\n",
    "    threshold = df[factor].quantile(0.80)\n",
    "    \n",
    "    for label in labels:\n",
    "        # Create a 2x2 contingency table\n",
    "        top_and_label = sum((df[factor] >= threshold) & (df['patient_group'] == label))\n",
    "        top_and_not_label = sum((df[factor] >= threshold) & (df['patient_group'] != label))\n",
    "        not_top_and_label = sum((df[factor] < threshold) & (df['patient_group'] == label))\n",
    "        not_top_not_label = sum((df[factor] < threshold) & (df['patient_group'] != label))\n",
    "        \n",
    "        contingency_table = [[top_and_label, top_and_not_label],\n",
    "                             [not_top_and_label, not_top_not_label]]\n",
    "        \n",
    "        # Perform Fisher's exact test\n",
    "        odds_ratio, p_value = fisher_exact(contingency_table)\n",
    "        \n",
    "        # Store results\n",
    "        odds.loc[len(odds)] = [factor, label, odds_ratio, p_value]\n"
   ]
  },
  {
   "cell_type": "code",
   "execution_count": null,
   "metadata": {},
   "outputs": [],
   "source": []
  },
  {
   "cell_type": "code",
   "execution_count": 21,
   "metadata": {},
   "outputs": [],
   "source": [
    "# when odds = 0, p-value is 1\n",
    "# odds['p_value'] = odds.apply(lambda x: 1 if x['odds_ratio'] == 0 else x['p_value'], axis=1)\n",
    "# when odds is inf, set it to max"
   ]
  },
  {
   "cell_type": "code",
   "execution_count": 22,
   "metadata": {},
   "outputs": [
    {
     "name": "stderr",
     "output_type": "stream",
     "text": [
      "/home/dbdimitrov/anaconda3/envs/spiana/lib/python3.10/site-packages/pandas/core/arraylike.py:396: RuntimeWarning: divide by zero encountered in log2\n"
     ]
    }
   ],
   "source": [
    "odds['log2_odds'] = np.log2(odds['odds_ratio'])\n",
    "\n",
    "# if -inf, set to min (except -inf)\n",
    "odds['log2_odds'] = odds.apply(lambda x: np.log2(1/1000) if x['log2_odds'] == -np.inf else x['log2_odds'], axis=1)\n",
    "# if inf, set to max\n",
    "odds['log2_odds'] = odds.apply(lambda x: np.log2(1000) if x['log2_odds'] == np.inf else x['log2_odds'], axis=1)"
   ]
  },
  {
   "cell_type": "code",
   "execution_count": 23,
   "metadata": {},
   "outputs": [],
   "source": [
    "odds['adj_pval'] = p_adjust_fdr(odds['p_value'])"
   ]
  },
  {
   "cell_type": "code",
   "execution_count": 24,
   "metadata": {},
   "outputs": [
    {
     "data": {
      "text/html": [
       "<div>\n",
       "<style scoped>\n",
       "    .dataframe tbody tr th:only-of-type {\n",
       "        vertical-align: middle;\n",
       "    }\n",
       "\n",
       "    .dataframe tbody tr th {\n",
       "        vertical-align: top;\n",
       "    }\n",
       "\n",
       "    .dataframe thead th {\n",
       "        text-align: right;\n",
       "    }\n",
       "</style>\n",
       "<table border=\"1\" class=\"dataframe\">\n",
       "  <thead>\n",
       "    <tr style=\"text-align: right;\">\n",
       "      <th></th>\n",
       "      <th>factor</th>\n",
       "      <th>patient_group</th>\n",
       "      <th>odds_ratio</th>\n",
       "      <th>p_value</th>\n",
       "      <th>log2_odds</th>\n",
       "      <th>adj_pval</th>\n",
       "    </tr>\n",
       "  </thead>\n",
       "  <tbody>\n",
       "    <tr>\n",
       "      <th>0</th>\n",
       "      <td>Factor1</td>\n",
       "      <td>Myogenic</td>\n",
       "      <td>0.054980</td>\n",
       "      <td>0.000000e+00</td>\n",
       "      <td>-4.184950</td>\n",
       "      <td>0.000000e+00</td>\n",
       "    </tr>\n",
       "    <tr>\n",
       "      <th>1</th>\n",
       "      <td>Factor1</td>\n",
       "      <td>Ischemic</td>\n",
       "      <td>37.783072</td>\n",
       "      <td>0.000000e+00</td>\n",
       "      <td>5.239668</td>\n",
       "      <td>0.000000e+00</td>\n",
       "    </tr>\n",
       "    <tr>\n",
       "      <th>2</th>\n",
       "      <td>Factor1</td>\n",
       "      <td>Fibrotic</td>\n",
       "      <td>0.080284</td>\n",
       "      <td>0.000000e+00</td>\n",
       "      <td>-3.638749</td>\n",
       "      <td>0.000000e+00</td>\n",
       "    </tr>\n",
       "    <tr>\n",
       "      <th>3</th>\n",
       "      <td>Factor2</td>\n",
       "      <td>Myogenic</td>\n",
       "      <td>0.014686</td>\n",
       "      <td>0.000000e+00</td>\n",
       "      <td>-6.089457</td>\n",
       "      <td>0.000000e+00</td>\n",
       "    </tr>\n",
       "    <tr>\n",
       "      <th>4</th>\n",
       "      <td>Factor2</td>\n",
       "      <td>Ischemic</td>\n",
       "      <td>43.102343</td>\n",
       "      <td>0.000000e+00</td>\n",
       "      <td>5.429694</td>\n",
       "      <td>0.000000e+00</td>\n",
       "    </tr>\n",
       "    <tr>\n",
       "      <th>5</th>\n",
       "      <td>Factor2</td>\n",
       "      <td>Fibrotic</td>\n",
       "      <td>0.279495</td>\n",
       "      <td>0.000000e+00</td>\n",
       "      <td>-1.839107</td>\n",
       "      <td>0.000000e+00</td>\n",
       "    </tr>\n",
       "    <tr>\n",
       "      <th>6</th>\n",
       "      <td>Factor3</td>\n",
       "      <td>Myogenic</td>\n",
       "      <td>176.823782</td>\n",
       "      <td>0.000000e+00</td>\n",
       "      <td>7.466169</td>\n",
       "      <td>0.000000e+00</td>\n",
       "    </tr>\n",
       "    <tr>\n",
       "      <th>7</th>\n",
       "      <td>Factor3</td>\n",
       "      <td>Ischemic</td>\n",
       "      <td>0.013267</td>\n",
       "      <td>0.000000e+00</td>\n",
       "      <td>-6.236059</td>\n",
       "      <td>0.000000e+00</td>\n",
       "    </tr>\n",
       "    <tr>\n",
       "      <th>8</th>\n",
       "      <td>Factor3</td>\n",
       "      <td>Fibrotic</td>\n",
       "      <td>0.000000</td>\n",
       "      <td>0.000000e+00</td>\n",
       "      <td>-9.965784</td>\n",
       "      <td>0.000000e+00</td>\n",
       "    </tr>\n",
       "    <tr>\n",
       "      <th>9</th>\n",
       "      <td>Factor4</td>\n",
       "      <td>Myogenic</td>\n",
       "      <td>0.203704</td>\n",
       "      <td>0.000000e+00</td>\n",
       "      <td>-2.295455</td>\n",
       "      <td>0.000000e+00</td>\n",
       "    </tr>\n",
       "    <tr>\n",
       "      <th>10</th>\n",
       "      <td>Factor4</td>\n",
       "      <td>Ischemic</td>\n",
       "      <td>0.279778</td>\n",
       "      <td>0.000000e+00</td>\n",
       "      <td>-1.837644</td>\n",
       "      <td>0.000000e+00</td>\n",
       "    </tr>\n",
       "    <tr>\n",
       "      <th>11</th>\n",
       "      <td>Factor4</td>\n",
       "      <td>Fibrotic</td>\n",
       "      <td>34.936165</td>\n",
       "      <td>0.000000e+00</td>\n",
       "      <td>5.126649</td>\n",
       "      <td>0.000000e+00</td>\n",
       "    </tr>\n",
       "    <tr>\n",
       "      <th>12</th>\n",
       "      <td>Factor5</td>\n",
       "      <td>Myogenic</td>\n",
       "      <td>0.677989</td>\n",
       "      <td>3.343303e-120</td>\n",
       "      <td>-0.560666</td>\n",
       "      <td>3.343303e-120</td>\n",
       "    </tr>\n",
       "    <tr>\n",
       "      <th>13</th>\n",
       "      <td>Factor5</td>\n",
       "      <td>Ischemic</td>\n",
       "      <td>3.625409</td>\n",
       "      <td>0.000000e+00</td>\n",
       "      <td>1.858144</td>\n",
       "      <td>0.000000e+00</td>\n",
       "    </tr>\n",
       "    <tr>\n",
       "      <th>14</th>\n",
       "      <td>Factor5</td>\n",
       "      <td>Fibrotic</td>\n",
       "      <td>0.000000</td>\n",
       "      <td>0.000000e+00</td>\n",
       "      <td>-9.965784</td>\n",
       "      <td>0.000000e+00</td>\n",
       "    </tr>\n",
       "  </tbody>\n",
       "</table>\n",
       "</div>"
      ],
      "text/plain": [
       "     factor patient_group  odds_ratio        p_value  log2_odds       adj_pval\n",
       "0   Factor1      Myogenic    0.054980   0.000000e+00  -4.184950   0.000000e+00\n",
       "1   Factor1      Ischemic   37.783072   0.000000e+00   5.239668   0.000000e+00\n",
       "2   Factor1      Fibrotic    0.080284   0.000000e+00  -3.638749   0.000000e+00\n",
       "3   Factor2      Myogenic    0.014686   0.000000e+00  -6.089457   0.000000e+00\n",
       "4   Factor2      Ischemic   43.102343   0.000000e+00   5.429694   0.000000e+00\n",
       "5   Factor2      Fibrotic    0.279495   0.000000e+00  -1.839107   0.000000e+00\n",
       "6   Factor3      Myogenic  176.823782   0.000000e+00   7.466169   0.000000e+00\n",
       "7   Factor3      Ischemic    0.013267   0.000000e+00  -6.236059   0.000000e+00\n",
       "8   Factor3      Fibrotic    0.000000   0.000000e+00  -9.965784   0.000000e+00\n",
       "9   Factor4      Myogenic    0.203704   0.000000e+00  -2.295455   0.000000e+00\n",
       "10  Factor4      Ischemic    0.279778   0.000000e+00  -1.837644   0.000000e+00\n",
       "11  Factor4      Fibrotic   34.936165   0.000000e+00   5.126649   0.000000e+00\n",
       "12  Factor5      Myogenic    0.677989  3.343303e-120  -0.560666  3.343303e-120\n",
       "13  Factor5      Ischemic    3.625409   0.000000e+00   1.858144   0.000000e+00\n",
       "14  Factor5      Fibrotic    0.000000   0.000000e+00  -9.965784   0.000000e+00"
      ]
     },
     "execution_count": 24,
     "metadata": {},
     "output_type": "execute_result"
    }
   ],
   "source": [
    "odds"
   ]
  },
  {
   "cell_type": "code",
   "execution_count": null,
   "metadata": {},
   "outputs": [],
   "source": []
  },
  {
   "attachments": {},
   "cell_type": "markdown",
   "metadata": {},
   "source": [
    "Averages per slide"
   ]
  },
  {
   "cell_type": "code",
   "execution_count": 25,
   "metadata": {},
   "outputs": [
    {
     "name": "stderr",
     "output_type": "stream",
     "text": [
      "... storing 'sample' as categorical\n",
      "... storing 'hca_sample_id' as categorical\n",
      "... storing 'slide_name' as categorical\n",
      "... storing 'patient' as categorical\n",
      "... storing 'patient_region_id' as categorical\n",
      "... storing 'patient_group' as categorical\n",
      "... storing 'major_labl' as categorical\n",
      "... storing 'batch' as categorical\n"
     ]
    }
   ],
   "source": [
    "nmfdata.write_h5ad(os.path.join('results', 'nmf', 'nmfdata.h5ad'))"
   ]
  },
  {
   "cell_type": "code",
   "execution_count": 26,
   "metadata": {},
   "outputs": [],
   "source": [
    "nmfbulk = dc.get_pseudobulk(nmfdata,\n",
    "                            sample_col='hca_sample_id',\n",
    "                            groups_col=None,\n",
    "                            mode='mean',\n",
    "                            skip_checks=True,\n",
    "                            min_cells=0,\n",
    "                            min_counts=0,\n",
    "                            min_prop=None,\n",
    "                            min_smpls=None\n",
    "                            )"
   ]
  },
  {
   "cell_type": "code",
   "execution_count": 27,
   "metadata": {},
   "outputs": [],
   "source": [
    "nmfbulk.obs['patient_group'] = nmfbulk.obs['patient_group'].map(rename_dict)"
   ]
  },
  {
   "cell_type": "code",
   "execution_count": 28,
   "metadata": {},
   "outputs": [
    {
     "data": {
      "image/png": "[encoded data removed]",
      "text/plain": [
       "<Figure size 1000x250 with 5 Axes>"
      ]
     },
     "metadata": {},
     "output_type": "display_data"
    }
   ],
   "source": [
    "\n",
    "group_annotations = nmfbulk.obs['patient_group'].values\n",
    "group_labels = set(group_annotations)\n",
    "# import colour map Dark2 from seaborn\n",
    "cmap = sns.color_palette('Dark2', n_colors=len(group_labels))\n",
    "# get cmap values for each group annotation as hex\n",
    "group_cmap = dict(zip(group_labels, cmap))\n",
    "group_cols = [group_cmap[key] for key in group_labels]\n",
    "\n",
    "chart = sns.clustermap(nmfbulk.X.T,\n",
    "                       cmap='Blues',\n",
    "                       cbar_kws={'orientation':'vertical'},\n",
    "                       row_cluster=False,\n",
    "                       col_cluster=True,\n",
    "                       col_colors=[group_cmap[x] for x in group_annotations],\n",
    "                       figsize=(10, 2.5),\n",
    "                       xticklabels=nmfbulk.obs.index,\n",
    "                       yticklabels=nmfbulk.var.index,\n",
    "                       cbar_pos=None\n",
    "                       )\n",
    "# # rotate labels\n",
    "chart.ax_heatmap.set_yticklabels(chart.ax_heatmap.get_ymajorticklabels(), rotation=0, fontdict={'fontsize':11})\n",
    "chart.ax_heatmap.set_xticklabels(chart.ax_heatmap.get_xmajorticklabels(), fontsize=8)\n",
    "\n",
    "# create separate axes for colorbar\n",
    "cbar_ax = chart.fig.add_axes([.9, .2, .03, .6])  # x, y, width, height\n",
    "cbar = plt.colorbar(chart.ax_heatmap.get_children()[0], cax=cbar_ax)\n",
    "cbar.set_label('Average Factor Loadings', size=11, loc='center')  # Add title to the colorbar\n",
    "\n",
    "# Create custom legend\n",
    "legend_handles = []\n",
    "for label, color in zip(group_labels, group_cols):\n",
    "    legend_handles.append(plt.Line2D([0], [0], color=color, marker='o', linestyle='', label=label))\n",
    "\n",
    "# Add legend\n",
    "legend = plt.legend(handles=legend_handles, title='Group\\nAnnotations', loc='upper right', frameon=False)\n",
    "\n",
    "# Move the legend\n",
    "chart_size = chart.ax_heatmap.get_position()\n",
    "plt.setp(legend.get_title(), fontsize='medium')\n",
    "legend.set_bbox_to_anchor((chart_size.x1-26.5, chart_size.y0+1))\n",
    "plt.subplots_adjust(right=.82)\n",
    "plt.show()"
   ]
  },
  {
   "attachments": {},
   "cell_type": "markdown",
   "metadata": {},
   "source": [
    "### Pathway Enrichment"
   ]
  },
  {
   "cell_type": "code",
   "execution_count": 29,
   "metadata": {},
   "outputs": [],
   "source": [
    "lr_nmf = pd.DataFrame(lrdata_all.varm['NMF_H'], index=lrdata_all.var.index, columns=lr_loadings.columns)"
   ]
  },
  {
   "cell_type": "code",
   "execution_count": 30,
   "metadata": {},
   "outputs": [],
   "source": [
    "lr_nmf.to_csv(os.path.join('results', 'lr_loadings.csv'))"
   ]
  },
  {
   "cell_type": "code",
   "execution_count": 31,
   "metadata": {},
   "outputs": [
    {
     "data": {
      "text/html": [
       "<div>\n",
       "<style scoped>\n",
       "    .dataframe tbody tr th:only-of-type {\n",
       "        vertical-align: middle;\n",
       "    }\n",
       "\n",
       "    .dataframe tbody tr th {\n",
       "        vertical-align: top;\n",
       "    }\n",
       "\n",
       "    .dataframe thead th {\n",
       "        text-align: right;\n",
       "    }\n",
       "</style>\n",
       "<table border=\"1\" class=\"dataframe\">\n",
       "  <thead>\n",
       "    <tr style=\"text-align: right;\">\n",
       "      <th></th>\n",
       "      <th>Factor1</th>\n",
       "      <th>Factor2</th>\n",
       "      <th>Factor3</th>\n",
       "      <th>Factor4</th>\n",
       "      <th>Factor5</th>\n",
       "    </tr>\n",
       "  </thead>\n",
       "  <tbody>\n",
       "    <tr>\n",
       "      <th>S100A1^RYR2</th>\n",
       "      <td>0.000000</td>\n",
       "      <td>0.370084</td>\n",
       "      <td>4.325870</td>\n",
       "      <td>0.792014</td>\n",
       "      <td>0.752963</td>\n",
       "    </tr>\n",
       "    <tr>\n",
       "      <th>CALM1^RYR2</th>\n",
       "      <td>0.000000</td>\n",
       "      <td>0.474021</td>\n",
       "      <td>4.214680</td>\n",
       "      <td>0.852833</td>\n",
       "      <td>0.850760</td>\n",
       "    </tr>\n",
       "    <tr>\n",
       "      <th>CALM1^AQP1</th>\n",
       "      <td>3.047075</td>\n",
       "      <td>0.537919</td>\n",
       "      <td>3.516525</td>\n",
       "      <td>1.051037</td>\n",
       "      <td>0.784059</td>\n",
       "    </tr>\n",
       "    <tr>\n",
       "      <th>CALM3^RYR2</th>\n",
       "      <td>0.000000</td>\n",
       "      <td>0.647635</td>\n",
       "      <td>3.491405</td>\n",
       "      <td>0.653073</td>\n",
       "      <td>0.807243</td>\n",
       "    </tr>\n",
       "    <tr>\n",
       "      <th>VWF^ITGB1</th>\n",
       "      <td>4.983937</td>\n",
       "      <td>0.272209</td>\n",
       "      <td>3.485434</td>\n",
       "      <td>1.339155</td>\n",
       "      <td>0.995755</td>\n",
       "    </tr>\n",
       "    <tr>\n",
       "      <th>COL1A2^CD36</th>\n",
       "      <td>6.111463</td>\n",
       "      <td>0.131271</td>\n",
       "      <td>3.468524</td>\n",
       "      <td>1.580244</td>\n",
       "      <td>0.758838</td>\n",
       "    </tr>\n",
       "    <tr>\n",
       "      <th>LGALS1^ITGB1</th>\n",
       "      <td>5.798666</td>\n",
       "      <td>0.000000</td>\n",
       "      <td>3.427722</td>\n",
       "      <td>1.592952</td>\n",
       "      <td>1.275147</td>\n",
       "    </tr>\n",
       "    <tr>\n",
       "      <th>CD99^CD81</th>\n",
       "      <td>5.497098</td>\n",
       "      <td>0.145983</td>\n",
       "      <td>3.359840</td>\n",
       "      <td>1.571309</td>\n",
       "      <td>1.060976</td>\n",
       "    </tr>\n",
       "    <tr>\n",
       "      <th>C3^CD81</th>\n",
       "      <td>5.839156</td>\n",
       "      <td>0.000000</td>\n",
       "      <td>3.352849</td>\n",
       "      <td>1.007260</td>\n",
       "      <td>0.506887</td>\n",
       "    </tr>\n",
       "    <tr>\n",
       "      <th>TGM2^ITGB1</th>\n",
       "      <td>3.808039</td>\n",
       "      <td>0.336398</td>\n",
       "      <td>3.290815</td>\n",
       "      <td>1.310538</td>\n",
       "      <td>1.314167</td>\n",
       "    </tr>\n",
       "  </tbody>\n",
       "</table>\n",
       "</div>"
      ],
      "text/plain": [
       "               Factor1   Factor2   Factor3   Factor4   Factor5\n",
       "S100A1^RYR2   0.000000  0.370084  4.325870  0.792014  0.752963\n",
       "CALM1^RYR2    0.000000  0.474021  4.214680  0.852833  0.850760\n",
       "CALM1^AQP1    3.047075  0.537919  3.516525  1.051037  0.784059\n",
       "CALM3^RYR2    0.000000  0.647635  3.491405  0.653073  0.807243\n",
       "VWF^ITGB1     4.983937  0.272209  3.485434  1.339155  0.995755\n",
       "COL1A2^CD36   6.111463  0.131271  3.468524  1.580244  0.758838\n",
       "LGALS1^ITGB1  5.798666  0.000000  3.427722  1.592952  1.275147\n",
       "CD99^CD81     5.497098  0.145983  3.359840  1.571309  1.060976\n",
       "C3^CD81       5.839156  0.000000  3.352849  1.007260  0.506887\n",
       "TGM2^ITGB1    3.808039  0.336398  3.290815  1.310538  1.314167"
      ]
     },
     "execution_count": 31,
     "metadata": {},
     "output_type": "execute_result"
    }
   ],
   "source": [
    "lr_nmf.sort_values(\"Factor3\", ascending=False).head(10)"
   ]
  },
  {
   "attachments": {},
   "cell_type": "markdown",
   "metadata": {},
   "source": [
    "Read NMF results"
   ]
  },
  {
   "cell_type": "code",
   "execution_count": 32,
   "metadata": {},
   "outputs": [],
   "source": [
    "lr_nmf = pd.read_csv(os.path.join('results', 'lr_loadings.csv'), index_col=0)"
   ]
  },
  {
   "cell_type": "code",
   "execution_count": 33,
   "metadata": {},
   "outputs": [
    {
     "name": "stderr",
     "output_type": "stream",
     "text": [
      "/home/dbdimitrov/anaconda3/envs/spiana/lib/python3.10/site-packages/tqdm/auto.py:21: TqdmWarning: IProgress not found. Please update jupyter and ipywidgets. See https://ipywidgets.readthedocs.io/en/stable/user_install.html\n",
      "Downloading data from `https://omnipathdb.org/queries/enzsub?format=json`\n",
      "Downloading data from `https://omnipathdb.org/queries/interactions?format=json`\n",
      "Downloading data from `https://omnipathdb.org/queries/complexes?format=json`\n",
      "Downloading data from `https://omnipathdb.org/queries/annotations?format=json`\n",
      "Downloading data from `https://omnipathdb.org/queries/intercell?format=json`\n",
      "Downloading data from `https://omnipathdb.org/about?format=text`\n",
      "Downloading annotations for all proteins from the following resources: `['PROGENy']`\n"
     ]
    }
   ],
   "source": [
    "# load PROGENy pathways\n",
    "net = dc.get_progeny(organism='human', top=5000)\n",
    "# load full list of ligand-receptor pairs\n",
    "lr_pairs = li.resource.select_resource('consensus')"
   ]
  },
  {
   "cell_type": "code",
   "execution_count": 34,
   "metadata": {},
   "outputs": [
    {
     "data": {
      "text/html": [
       "<div>\n",
       "<style scoped>\n",
       "    .dataframe tbody tr th:only-of-type {\n",
       "        vertical-align: middle;\n",
       "    }\n",
       "\n",
       "    .dataframe tbody tr th {\n",
       "        vertical-align: top;\n",
       "    }\n",
       "\n",
       "    .dataframe thead th {\n",
       "        text-align: right;\n",
       "    }\n",
       "</style>\n",
       "<table border=\"1\" class=\"dataframe\">\n",
       "  <thead>\n",
       "    <tr style=\"text-align: right;\">\n",
       "      <th></th>\n",
       "      <th>source</th>\n",
       "      <th>interaction</th>\n",
       "      <th>weight</th>\n",
       "    </tr>\n",
       "  </thead>\n",
       "  <tbody>\n",
       "    <tr>\n",
       "      <th>60</th>\n",
       "      <td>JAK-STAT</td>\n",
       "      <td>LGALS9^PTPRC</td>\n",
       "      <td>1.307807</td>\n",
       "    </tr>\n",
       "    <tr>\n",
       "      <th>1568</th>\n",
       "      <td>Androgen</td>\n",
       "      <td>SEMA4D^MET</td>\n",
       "      <td>-0.831693</td>\n",
       "    </tr>\n",
       "    <tr>\n",
       "      <th>1960</th>\n",
       "      <td>Androgen</td>\n",
       "      <td>HGF^MET</td>\n",
       "      <td>-1.288956</td>\n",
       "    </tr>\n",
       "    <tr>\n",
       "      <th>2352</th>\n",
       "      <td>Androgen</td>\n",
       "      <td>TIMP3^MET</td>\n",
       "      <td>-1.122612</td>\n",
       "    </tr>\n",
       "    <tr>\n",
       "      <th>3030</th>\n",
       "      <td>NFkB</td>\n",
       "      <td>SELE^CD44</td>\n",
       "      <td>3.332552</td>\n",
       "    </tr>\n",
       "  </tbody>\n",
       "</table>\n",
       "</div>"
      ],
      "text/plain": [
       "        source   interaction    weight\n",
       "60    JAK-STAT  LGALS9^PTPRC  1.307807\n",
       "1568  Androgen    SEMA4D^MET -0.831693\n",
       "1960  Androgen       HGF^MET -1.288956\n",
       "2352  Androgen     TIMP3^MET -1.122612\n",
       "3030      NFkB     SELE^CD44  3.332552"
      ]
     },
     "execution_count": 34,
     "metadata": {},
     "output_type": "execute_result"
    }
   ],
   "source": [
    "# generate ligand-receptor geneset\n",
    "lr_progeny = li.rs.generate_lr_geneset(lr_pairs, net, lr_sep=\"^\")\n",
    "lr_progeny.head()"
   ]
  },
  {
   "cell_type": "code",
   "execution_count": 35,
   "metadata": {},
   "outputs": [],
   "source": [
    "# run pathway enrichment analysis\n",
    "estimate, pvals =  dc.run_ulm(lr_nmf.transpose(),\n",
    "                              lr_progeny,\n",
    "                              source=\"source\",\n",
    "                              target=\"interaction\",\n",
    "                              use_raw=False,\n",
    "                              min_n=5)"
   ]
  },
  {
   "cell_type": "code",
   "execution_count": 36,
   "metadata": {},
   "outputs": [],
   "source": [
    "\n",
    "# Pivot and merge data\n",
    "estimate_long = estimate.melt(ignore_index=False, value_name='estimate', var_name='pathway').reset_index().rename(columns={'index':'factor'})\n",
    "pvals_long = pvals.melt(ignore_index=False, value_name='pval', var_name='pathway').reset_index().rename(columns={'index':'factor'})\n",
    "dc_res = estimate_long.merge(pvals_long, on=['factor', 'pathway'])"
   ]
  },
  {
   "cell_type": "code",
   "execution_count": 37,
   "metadata": {},
   "outputs": [],
   "source": [
    "dc_res['adj_pval'] = p_adjust_fdr(dc_res['pval'])"
   ]
  },
  {
   "cell_type": "code",
   "execution_count": 38,
   "metadata": {},
   "outputs": [],
   "source": [
    "import numpy as np\n",
    "import matplotlib.pyplot as plt\n",
    "from matplotlib.colors import TwoSlopeNorm\n",
    "\n",
    "def create_heatmap(res, \n",
    "                   fill = 'estimate', \n",
    "                   index_key=\"factor\",\n",
    "                   column_key='pathway',\n",
    "                   label='pval',\n",
    "                   xlabel = None,\n",
    "                   cbar_label=None,\n",
    "                   max_value=None, significance_level=0.05,\n",
    "                   figsize=(4, 3),\n",
    "                   cmap='RdBu_r'):\n",
    "    res = res.copy()\n",
    "    if max_value is not None:\n",
    "        res.loc[res[fill] > max_value, fill] = max_value\n",
    "        res.loc[res[fill] < -max_value, fill] = -max_value\n",
    "    \n",
    "    res['significant'] = res[label].apply(lambda x: '*' if x < significance_level else '')\n",
    "    sig_paths = res[res[label] <= significance_level][column_key].unique()\n",
    "\n",
    "    # Filter for significant pathways\n",
    "    filtered_data = res[res[column_key].isin(sig_paths)]\n",
    "    # Create pivot table for heatmap\n",
    "    heatmap_data = filtered_data.pivot(index=index_key, columns=column_key, values=fill)\n",
    "    heatmap_data.sort_index(inplace=True, ascending=False)\n",
    "    \n",
    "    if max_value is None:\n",
    "        norm = TwoSlopeNorm(vmin=-max_value, vcenter=0, vmax=max_value)\n",
    "    else:\n",
    "        norm = None\n",
    "    \n",
    "    # Plotting\n",
    "    plt.figure(figsize=figsize)\n",
    "    \n",
    "    heatmap = plt.pcolormesh(heatmap_data, cmap=cmap, norm=norm)\n",
    "\n",
    "    # Adding Text Annotations\n",
    "    for y, row in enumerate(heatmap_data.index):\n",
    "        for x, column in enumerate(heatmap_data.columns):\n",
    "            plt.text(x + 0.5, y + 0.5,\n",
    "                     filtered_data.loc[(filtered_data[index_key] == row) &\n",
    "                                       (filtered_data[column_key] == column), 'significant'].values[0],\n",
    "                     horizontalalignment='center', \n",
    "                     verticalalignment='center',\n",
    "                     color='white',\n",
    "                     fontstyle='oblique',\n",
    "                     fontsize=20\n",
    "                     )\n",
    "\n",
    "    # Styling\n",
    "    cbar = plt.colorbar(heatmap)\n",
    "    plt.xticks(np.arange(0.5, len(heatmap_data.columns), 1), heatmap_data.columns, rotation=90, fontsize=14)\n",
    "    plt.yticks(np.arange(0.5, len(heatmap_data.index), 1), heatmap_data.index, fontsize=14)\n",
    "    cbar.ax.tick_params(labelsize=14)\n",
    "    \n",
    "    if xlabel is not None:\n",
    "        plt.xlabel(xlabel, fontsize=15)\n",
    "    if cbar_label is not None:\n",
    "        cbar.set_label(cbar_label, size=15)\n",
    "    \n",
    "    plt.ylabel('')\n",
    "    plt.tight_layout()\n",
    "    plt.show()"
   ]
  },
  {
   "cell_type": "code",
   "execution_count": null,
   "metadata": {},
   "outputs": [],
   "source": []
  },
  {
   "cell_type": "code",
   "execution_count": 39,
   "metadata": {},
   "outputs": [
    {
     "data": {
      "image/png": "[encoded data removed]",
      "text/plain": [
       "<Figure size 500x400 with 2 Axes>"
      ]
     },
     "metadata": {},
     "output_type": "display_data"
    }
   ],
   "source": [
    "create_heatmap(dc_res, index_key=\"factor\", column_key='pathway', label='adj_pval', xlabel=\"Pathway\", cbar_label='Enrichment Score', significance_level=0.05, max_value=5, figsize=(5, 4))"
   ]
  },
  {
   "cell_type": "code",
   "execution_count": 40,
   "metadata": {},
   "outputs": [],
   "source": [
    "# as category and alphabetical\n",
    "odds['patient_group'] = odds['patient_group'].astype('category')\n",
    "odds['patient_group'] = odds['patient_group'].cat.reorder_categories(sorted(odds['patient_group'].unique()))"
   ]
  },
  {
   "cell_type": "code",
   "execution_count": 41,
   "metadata": {},
   "outputs": [
    {
     "data": {
      "image/png": "[encoded data removed]",
      "text/plain": [
       "<Figure size 400x400 with 2 Axes>"
      ]
     },
     "metadata": {},
     "output_type": "display_data"
    }
   ],
   "source": [
    "create_heatmap(odds, label='adj_pval', fill='log2_odds', index_key=\"factor\", column_key='patient_group', cbar_label=\"Odds Ratios\", significance_level=0.05, max_value=5, figsize=(4, 4), cmap='coolwarm')"
   ]
  },
  {
   "cell_type": "code",
   "execution_count": null,
   "metadata": {},
   "outputs": [],
   "source": []
  },
  {
   "cell_type": "code",
   "execution_count": 42,
   "metadata": {},
   "outputs": [],
   "source": [
    "from adjustText import adjust_text\n",
    "def plot_lr_pairs(H,\n",
    "                  fct,\n",
    "                  label_fun, \n",
    "                  figsize=(6, 6),\n",
    "                  method='average',\n",
    "                  filename=None, \n",
    "                  adjust_text_kwargs={'arrowprops': dict(arrowstyle='->', color='darkred')}):\n",
    "    lr_pairs = H[fct].reset_index()\n",
    "    lr_pairs['rank'] = lr_pairs[fct].rank(ascending=False, method=method)\n",
    "    lr_pairs['name'] = lr_pairs.apply(label_fun, axis=1)\n",
    "\n",
    "    fig, ax = plt.subplots(figsize=figsize)\n",
    "    ax.scatter(lr_pairs['rank'], lr_pairs[fct], s=30, c='black')\n",
    "\n",
    "    y_max = lr_pairs[fct].max()\n",
    "    ax.set_ylim(lr_pairs[fct].min(), y_max + y_max * 0.1)\n",
    "\n",
    "    ax.set_xlabel('Rank', fontsize=12)\n",
    "    ax.set_ylabel(f'{fct} loadings', fontsize=12)\n",
    "    plt.xticks(fontsize=12, rotation=90)\n",
    "    plt.yticks(fontsize=12)\n",
    "    plt.tight_layout()\n",
    "    texts = []\n",
    "    for i, row in lr_pairs.iterrows():\n",
    "        if row['name']:\n",
    "            texts.append(ax.text(row['rank'], row[fct], row['name'], fontsize=11)) \n",
    "\n",
    "    adjust_text(texts, **adjust_text_kwargs)\n",
    "    \n",
    "    if filename:\n",
    "        plt.savefig(filename, bbox_inches='tight')\n",
    "\n",
    "    plt.show()"
   ]
  },
  {
   "cell_type": "code",
   "execution_count": null,
   "metadata": {},
   "outputs": [],
   "source": []
  },
  {
   "cell_type": "code",
   "execution_count": 1,
   "metadata": {},
   "outputs": [
    {
     "ename": "NameError",
     "evalue": "name 'plot_lr_pairs' is not defined",
     "output_type": "error",
     "traceback": [
      "\u001b[0;31m---------------------------------------------------------------------------\u001b[0m",
      "\u001b[0;31mNameError\u001b[0m                                 Traceback (most recent call last)",
      "\u001b[0;32m/tmp/ipykernel_39953/558050443.py\u001b[0m in \u001b[0;36m<cell line: 1>\u001b[0;34m()\u001b[0m\n\u001b[0;32m----> 1\u001b[0;31m plot_lr_pairs(lr_loadings, \n\u001b[0m\u001b[1;32m      2\u001b[0m               \u001b[0mfct\u001b[0m\u001b[0;34m=\u001b[0m\u001b[0;34m'Factor4'\u001b[0m\u001b[0;34m,\u001b[0m\u001b[0;34m\u001b[0m\u001b[0;34m\u001b[0m\u001b[0m\n\u001b[1;32m      3\u001b[0m               \u001b[0mlabel_fun\u001b[0m\u001b[0;34m=\u001b[0m\u001b[0;32mlambda\u001b[0m \u001b[0mx\u001b[0m\u001b[0;34m:\u001b[0m \u001b[0mx\u001b[0m\u001b[0;34m[\u001b[0m\u001b[0;34m'index'\u001b[0m\u001b[0;34m]\u001b[0m \u001b[0;32mif\u001b[0m \u001b[0mx\u001b[0m\u001b[0;34m[\u001b[0m\u001b[0;34m'rank'\u001b[0m\u001b[0;34m]\u001b[0m \u001b[0;34m<=\u001b[0m \u001b[0;36m5\u001b[0m \u001b[0;32melse\u001b[0m \u001b[0;32mNone\u001b[0m\u001b[0;34m,\u001b[0m\u001b[0;34m\u001b[0m\u001b[0;34m\u001b[0m\u001b[0m\n\u001b[1;32m      4\u001b[0m               \u001b[0mfigsize\u001b[0m\u001b[0;34m=\u001b[0m\u001b[0;34m(\u001b[0m\u001b[0;36m3.5\u001b[0m\u001b[0;34m,\u001b[0m \u001b[0;36m3.5\u001b[0m\u001b[0;34m)\u001b[0m\u001b[0;34m,\u001b[0m\u001b[0;34m\u001b[0m\u001b[0;34m\u001b[0m\u001b[0m\n\u001b[1;32m      5\u001b[0m               adjust_text_kwargs={'arrowprops': dict(arrowstyle='-', color='darkred', lw=1.5), \n",
      "\u001b[0;31mNameError\u001b[0m: name 'plot_lr_pairs' is not defined"
     ]
    }
   ],
   "source": [
    "plot_lr_pairs(lr_loadings, \n",
    "              fct='Factor4',\n",
    "              label_fun=lambda x: x['index'] if x['rank'] <= 5 else None,\n",
    "              figsize=(3.5, 3.5),\n",
    "              adjust_text_kwargs={'arrowprops': dict(arrowstyle='-', color='darkred', lw=1.5), \n",
    "                                  'force_explode':(0.4, 0.4),\n",
    "                                  'force_text':(0.5, 0.5),\n",
    "                                #   'expand': (2, 1),\n",
    "                                  }\n",
    "              )"
   ]
  },
  {
   "cell_type": "code",
   "execution_count": null,
   "metadata": {},
   "outputs": [],
   "source": []
  },
  {
   "cell_type": "code",
   "execution_count": 44,
   "metadata": {},
   "outputs": [],
   "source": [
    "from scipy.stats import spearmanr"
   ]
  },
  {
   "cell_type": "code",
   "execution_count": 45,
   "metadata": {},
   "outputs": [
    {
     "name": "stdout",
     "output_type": "stream",
     "text": [
      "Factor1 vs Factor2: SignificanceResult(statistic=0.4242636449936755, pvalue=0.0)\n",
      "Factor1 vs Factor3: SignificanceResult(statistic=-0.3509930039250391, pvalue=0.0)\n",
      "Factor1 vs Factor4: SignificanceResult(statistic=-0.24839097605168134, pvalue=0.0)\n",
      "Factor1 vs Factor5: SignificanceResult(statistic=0.3062032890502803, pvalue=0.0)\n",
      "Factor2 vs Factor3: SignificanceResult(statistic=-0.22648397055554154, pvalue=0.0)\n",
      "Factor2 vs Factor4: SignificanceResult(statistic=0.14371269293667116, pvalue=0.0)\n",
      "Factor2 vs Factor5: SignificanceResult(statistic=0.4745340312926439, pvalue=0.0)\n",
      "Factor3 vs Factor4: SignificanceResult(statistic=-0.45337648818186993, pvalue=0.0)\n",
      "Factor3 vs Factor5: SignificanceResult(statistic=-0.12382324460404322, pvalue=2.1419580162412656e-308)\n",
      "Factor4 vs Factor5: SignificanceResult(statistic=-0.3059756091175661, pvalue=0.0)\n"
     ]
    }
   ],
   "source": [
    "# pairwise correlations between factors\n",
    "for i in range(0, nmfdata.shape[1]):\n",
    "    for j in range(i+1, nmfdata.shape[1]):\n",
    "        print(f\"Factor{i+1} vs Factor{j+1}: {spearmanr(nmfdata.X[:, i], nmfdata.X[:,j])}\")"
   ]
  },
  {
   "cell_type": "code",
   "execution_count": null,
   "metadata": {},
   "outputs": [],
   "source": []
  },
  {
   "cell_type": "markdown",
   "metadata": {},
   "source": [
    "Select Spatially-interesting LRs"
   ]
  },
  {
   "cell_type": "code",
   "execution_count": 46,
   "metadata": {},
   "outputs": [],
   "source": [
    "lr_nmf = pd.read_csv(os.path.join('results', 'lr_loadings.csv'), index_col=0)\n",
    "# pivot longer\n",
    "lr_nmf = lr_nmf.reset_index().melt(id_vars='index', var_name='factor', value_name='loading')\n",
    "\n",
    "# groupby each factor and filter to the Xth quantile\n",
    "lr_nmf = lr_nmf.groupby('factor').apply(lambda x: x[x['loading'] >= x['loading'].quantile(0.95)])\n",
    "lr_nmf.reset_index(drop=True, inplace=True)\n",
    "\n",
    "# separete by ^ into ligand and receptor\n",
    "lr_nmf['ligand'] = lr_nmf['index'].str.split('^').str[0]\n",
    "lr_nmf['receptor'] = lr_nmf['index'].str.split('^').str[1]\n",
    "resource = lr_nmf[['ligand', 'receptor']].drop_duplicates()"
   ]
  },
  {
   "cell_type": "code",
   "execution_count": 47,
   "metadata": {},
   "outputs": [],
   "source": [
    "resource.to_csv(os.path.join(\"results\", 'lr_pairs.csv'), index=False)"
   ]
  },
  {
   "cell_type": "code",
   "execution_count": null,
   "metadata": {},
   "outputs": [],
   "source": []
  }
 ],
 "metadata": {
  "kernelspec": {
   "display_name": "spiana",
   "language": "python",
   "name": "python3"
  },
  "language_info": {
   "codemirror_mode": {
    "name": "ipython",
    "version": 3
   },
   "file_extension": ".py",
   "mimetype": "text/x-python",
   "name": "python",
   "nbconvert_exporter": "python",
   "pygments_lexer": "ipython3",
   "version": "3.10.10"
  },
  "orig_nbformat": 4
 },
 "nbformat": 4,
 "nbformat_minor": 2
}
