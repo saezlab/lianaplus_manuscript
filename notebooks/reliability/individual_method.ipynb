{
 "cells": [
  {
   "cell_type": "code",
   "execution_count": 1,
   "metadata": {},
   "outputs": [],
   "source": [
    "import numpy as np\n",
    "import pandas as pd\n",
    "import scanpy as sc\n",
    "import liana as li"
   ]
  },
  {
   "cell_type": "code",
   "execution_count": 2,
   "metadata": {},
   "outputs": [
    {
     "name": "stderr",
     "output_type": "stream",
     "text": [
      "/home/dbdimitrov/miniconda3/envs/spiana/lib/python3.10/site-packages/anndata/_core/anndata.py:121: ImplicitModificationWarning: Transforming to str index.\n"
     ]
    }
   ],
   "source": [
    "adata = sc.read_h5ad(\"../kuppe/results/kuppe_processed.h5ad\")"
   ]
  },
  {
   "cell_type": "code",
   "execution_count": 3,
   "metadata": {},
   "outputs": [
    {
     "name": "stderr",
     "output_type": "stream",
     "text": [
      "Now running: CK158:   0%|          | 0/28 [00:00<?, ?it/s]/home/dbdimitrov/miniconda3/envs/spiana/lib/python3.10/site-packages/liana/method/_pipe_utils/_pre.py:148: ImplicitModificationWarning: Trying to modify attribute `.obs` of view, initializing view as actual.\n",
      "Now running: CK159:   4%|▎         | 1/28 [00:18<08:26, 18.77s/it]/home/dbdimitrov/miniconda3/envs/spiana/lib/python3.10/site-packages/liana/method/_pipe_utils/_pre.py:148: ImplicitModificationWarning: Trying to modify attribute `.obs` of view, initializing view as actual.\n",
      "Now running: CK160:   7%|▋         | 2/28 [00:32<06:57, 16.05s/it]/home/dbdimitrov/miniconda3/envs/spiana/lib/python3.10/site-packages/liana/method/_pipe_utils/_pre.py:148: ImplicitModificationWarning: Trying to modify attribute `.obs` of view, initializing view as actual.\n",
      "Now running: CK162:  11%|█         | 3/28 [00:51<07:05, 17.03s/it]/home/dbdimitrov/miniconda3/envs/spiana/lib/python3.10/site-packages/liana/method/_pipe_utils/_pre.py:148: ImplicitModificationWarning: Trying to modify attribute `.obs` of view, initializing view as actual.\n",
      "Now running: CK163:  14%|█▍        | 4/28 [00:59<05:30, 13.76s/it]/home/dbdimitrov/miniconda3/envs/spiana/lib/python3.10/site-packages/liana/method/_pipe_utils/_pre.py:148: ImplicitModificationWarning: Trying to modify attribute `.obs` of view, initializing view as actual.\n",
      "Now running: CK164:  18%|█▊        | 5/28 [01:15<05:32, 14.45s/it]/home/dbdimitrov/miniconda3/envs/spiana/lib/python3.10/site-packages/liana/method/_pipe_utils/_pre.py:148: ImplicitModificationWarning: Trying to modify attribute `.obs` of view, initializing view as actual.\n",
      "Now running: CK165:  21%|██▏       | 6/28 [01:35<06:02, 16.49s/it]/home/dbdimitrov/miniconda3/envs/spiana/lib/python3.10/site-packages/liana/method/_pipe_utils/_pre.py:148: ImplicitModificationWarning: Trying to modify attribute `.obs` of view, initializing view as actual.\n",
      "Now running: CK356:  25%|██▌       | 7/28 [01:44<04:49, 13.79s/it]/home/dbdimitrov/miniconda3/envs/spiana/lib/python3.10/site-packages/liana/method/_pipe_utils/_pre.py:148: ImplicitModificationWarning: Trying to modify attribute `.obs` of view, initializing view as actual.\n",
      "Now running: CK357:  29%|██▊       | 8/28 [02:02<05:02, 15.11s/it]/home/dbdimitrov/miniconda3/envs/spiana/lib/python3.10/site-packages/liana/method/_pipe_utils/_pre.py:148: ImplicitModificationWarning: Trying to modify attribute `.obs` of view, initializing view as actual.\n",
      "Now running: CK358:  32%|███▏      | 9/28 [02:18<04:52, 15.38s/it]/home/dbdimitrov/miniconda3/envs/spiana/lib/python3.10/site-packages/liana/method/_pipe_utils/_pre.py:148: ImplicitModificationWarning: Trying to modify attribute `.obs` of view, initializing view as actual.\n",
      "Now running: CK359:  36%|███▌      | 10/28 [02:38<05:07, 17.08s/it]/home/dbdimitrov/miniconda3/envs/spiana/lib/python3.10/site-packages/liana/method/_pipe_utils/_pre.py:148: ImplicitModificationWarning: Trying to modify attribute `.obs` of view, initializing view as actual.\n",
      "Now running: CK360:  39%|███▉      | 11/28 [02:56<04:53, 17.24s/it]/home/dbdimitrov/miniconda3/envs/spiana/lib/python3.10/site-packages/liana/method/_pipe_utils/_pre.py:148: ImplicitModificationWarning: Trying to modify attribute `.obs` of view, initializing view as actual.\n",
      "Now running: CK361:  43%|████▎     | 12/28 [03:17<04:51, 18.21s/it]/home/dbdimitrov/miniconda3/envs/spiana/lib/python3.10/site-packages/liana/method/_pipe_utils/_pre.py:148: ImplicitModificationWarning: Trying to modify attribute `.obs` of view, initializing view as actual.\n",
      "Now running: CK362:  46%|████▋     | 13/28 [03:27<03:57, 15.86s/it]/home/dbdimitrov/miniconda3/envs/spiana/lib/python3.10/site-packages/liana/method/_pipe_utils/_pre.py:148: ImplicitModificationWarning: Trying to modify attribute `.obs` of view, initializing view as actual.\n",
      "Now running: CK363:  50%|█████     | 14/28 [03:40<03:29, 14.99s/it]/home/dbdimitrov/miniconda3/envs/spiana/lib/python3.10/site-packages/liana/method/_pipe_utils/_pre.py:148: ImplicitModificationWarning: Trying to modify attribute `.obs` of view, initializing view as actual.\n",
      "Now running: CK364:  54%|█████▎    | 15/28 [03:55<03:14, 14.97s/it]/home/dbdimitrov/miniconda3/envs/spiana/lib/python3.10/site-packages/liana/method/_pipe_utils/_pre.py:148: ImplicitModificationWarning: Trying to modify attribute `.obs` of view, initializing view as actual.\n",
      "Now running: CK365:  57%|█████▋    | 16/28 [04:08<02:53, 14.48s/it]/home/dbdimitrov/miniconda3/envs/spiana/lib/python3.10/site-packages/liana/method/_pipe_utils/_pre.py:148: ImplicitModificationWarning: Trying to modify attribute `.obs` of view, initializing view as actual.\n",
      "Now running: CK366:  61%|██████    | 17/28 [04:19<02:26, 13.29s/it]/home/dbdimitrov/miniconda3/envs/spiana/lib/python3.10/site-packages/liana/method/_pipe_utils/_pre.py:148: ImplicitModificationWarning: Trying to modify attribute `.obs` of view, initializing view as actual.\n",
      "Now running: CK367:  64%|██████▍   | 18/28 [04:35<02:20, 14.06s/it]/home/dbdimitrov/miniconda3/envs/spiana/lib/python3.10/site-packages/liana/method/_pipe_utils/_pre.py:148: ImplicitModificationWarning: Trying to modify attribute `.obs` of view, initializing view as actual.\n",
      "Now running: CK368:  68%|██████▊   | 19/28 [04:52<02:16, 15.18s/it]/home/dbdimitrov/miniconda3/envs/spiana/lib/python3.10/site-packages/liana/method/_pipe_utils/_pre.py:148: ImplicitModificationWarning: Trying to modify attribute `.obs` of view, initializing view as actual.\n",
      "Now running: CK369:  71%|███████▏  | 20/28 [05:06<01:58, 14.84s/it]/home/dbdimitrov/miniconda3/envs/spiana/lib/python3.10/site-packages/liana/method/_pipe_utils/_pre.py:148: ImplicitModificationWarning: Trying to modify attribute `.obs` of view, initializing view as actual.\n",
      "Now running: CK370:  75%|███████▌  | 21/28 [05:15<01:30, 12.99s/it]/home/dbdimitrov/miniconda3/envs/spiana/lib/python3.10/site-packages/liana/method/_pipe_utils/_pre.py:148: ImplicitModificationWarning: Trying to modify attribute `.obs` of view, initializing view as actual.\n",
      "Now running: CK371:  79%|███████▊  | 22/28 [05:31<01:23, 13.88s/it]/home/dbdimitrov/miniconda3/envs/spiana/lib/python3.10/site-packages/liana/method/_pipe_utils/_pre.py:148: ImplicitModificationWarning: Trying to modify attribute `.obs` of view, initializing view as actual.\n",
      "Now running: CK372:  82%|████████▏ | 23/28 [05:45<01:09, 13.84s/it]/home/dbdimitrov/miniconda3/envs/spiana/lib/python3.10/site-packages/liana/method/_pipe_utils/_pre.py:148: ImplicitModificationWarning: Trying to modify attribute `.obs` of view, initializing view as actual.\n",
      "Now running: CK373:  86%|████████▌ | 24/28 [05:52<00:47, 11.86s/it]/home/dbdimitrov/miniconda3/envs/spiana/lib/python3.10/site-packages/liana/method/_pipe_utils/_pre.py:148: ImplicitModificationWarning: Trying to modify attribute `.obs` of view, initializing view as actual.\n",
      "Now running: CK374:  89%|████████▉ | 25/28 [06:04<00:35, 11.85s/it]/home/dbdimitrov/miniconda3/envs/spiana/lib/python3.10/site-packages/liana/method/_pipe_utils/_pre.py:148: ImplicitModificationWarning: Trying to modify attribute `.obs` of view, initializing view as actual.\n",
      "Now running: CK375:  93%|█████████▎| 26/28 [06:20<00:26, 13.24s/it]/home/dbdimitrov/miniconda3/envs/spiana/lib/python3.10/site-packages/liana/method/_pipe_utils/_pre.py:148: ImplicitModificationWarning: Trying to modify attribute `.obs` of view, initializing view as actual.\n",
      "Now running: CK376:  96%|█████████▋| 27/28 [06:27<00:11, 11.35s/it]/home/dbdimitrov/miniconda3/envs/spiana/lib/python3.10/site-packages/liana/method/_pipe_utils/_pre.py:148: ImplicitModificationWarning: Trying to modify attribute `.obs` of view, initializing view as actual.\n",
      "Now running: CK376: 100%|██████████| 28/28 [06:34<00:00, 14.09s/it]\n"
     ]
    }
   ],
   "source": [
    "lrs = li.mt.cellphonedb.by_sample(adata,\n",
    "                                  groupby='cell_type_original',\n",
    "                                  use_raw=False,\n",
    "                                  sample_key='sample',\n",
    "                                  expr_prop=0.05,\n",
    "                                  return_all_lrs=True,\n",
    "                                  verbose=True,\n",
    "                                  n_perms=1000,\n",
    "                                  resource_name='consensus',\n",
    "                                  inplace=False\n",
    "                                  )"
   ]
  },
  {
   "cell_type": "code",
   "execution_count": 4,
   "metadata": {},
   "outputs": [],
   "source": [
    "lrs_sub = lrs[(lrs['target']=='MY') & (lrs['cellphone_pvals'] < 0.05)]"
   ]
  },
  {
   "cell_type": "code",
   "execution_count": 5,
   "metadata": {},
   "outputs": [],
   "source": [
    "lrs_agg = lrs_sub.groupby(['ligand_complex', 'receptor_complex', 'source', 'target'])"
   ]
  },
  {
   "cell_type": "code",
   "execution_count": 6,
   "metadata": {},
   "outputs": [],
   "source": [
    "# # apply z-score\n",
    "# lrs_agg = lrs_agg.apply(lambda x: (x['lr_means'] - x['lr_means'].mean()) / x['lr_means'].std())\n",
    "# lrs_agg = lrs_agg.reset_index()"
   ]
  },
  {
   "cell_type": "code",
   "execution_count": 7,
   "metadata": {},
   "outputs": [
    {
     "name": "stderr",
     "output_type": "stream",
     "text": [
      "/tmp/ipykernel_3589833/3638309208.py:1: FutureWarning: The default value of numeric_only in DataFrameGroupBy.mean is deprecated. In a future version, numeric_only will default to False. Either specify numeric_only or select only columns which should be valid for the function.\n"
     ]
    }
   ],
   "source": [
    "lrs_agg = lrs_agg.mean().reset_index()"
   ]
  },
  {
   "cell_type": "code",
   "execution_count": 8,
   "metadata": {},
   "outputs": [],
   "source": [
    "part = lrs_agg.sort_values(\"lr_means\", ascending=False).sort_values(\"lr_means\").head(15)"
   ]
  },
  {
   "cell_type": "code",
   "execution_count": 9,
   "metadata": {},
   "outputs": [
    {
     "data": {
      "text/html": [
       "<div>\n",
       "<style scoped>\n",
       "    .dataframe tbody tr th:only-of-type {\n",
       "        vertical-align: middle;\n",
       "    }\n",
       "\n",
       "    .dataframe tbody tr th {\n",
       "        vertical-align: top;\n",
       "    }\n",
       "\n",
       "    .dataframe thead th {\n",
       "        text-align: right;\n",
       "    }\n",
       "</style>\n",
       "<table border=\"1\" class=\"dataframe\">\n",
       "  <thead>\n",
       "    <tr style=\"text-align: right;\">\n",
       "      <th></th>\n",
       "      <th>ligand_complex</th>\n",
       "      <th>receptor_complex</th>\n",
       "      <th>source</th>\n",
       "      <th>target</th>\n",
       "      <th>ligand_means</th>\n",
       "      <th>ligand_props</th>\n",
       "      <th>receptor_means</th>\n",
       "      <th>receptor_props</th>\n",
       "      <th>lrs_to_keep</th>\n",
       "      <th>lr_means</th>\n",
       "      <th>cellphone_pvals</th>\n",
       "    </tr>\n",
       "  </thead>\n",
       "  <tbody>\n",
       "    <tr>\n",
       "      <th>3965</th>\n",
       "      <td>LEFTY1</td>\n",
       "      <td>ACVR2B</td>\n",
       "      <td>MA</td>\n",
       "      <td>MY</td>\n",
       "      <td>0.058889</td>\n",
       "      <td>0.068966</td>\n",
       "      <td>0.074525</td>\n",
       "      <td>0.050074</td>\n",
       "      <td>1.0</td>\n",
       "      <td>0.066707</td>\n",
       "      <td>0.015</td>\n",
       "    </tr>\n",
       "    <tr>\n",
       "      <th>1360</th>\n",
       "      <td>CD14</td>\n",
       "      <td>TLR6</td>\n",
       "      <td>CM</td>\n",
       "      <td>MY</td>\n",
       "      <td>0.037528</td>\n",
       "      <td>0.054763</td>\n",
       "      <td>0.101485</td>\n",
       "      <td>0.069592</td>\n",
       "      <td>1.0</td>\n",
       "      <td>0.069507</td>\n",
       "      <td>0.032</td>\n",
       "    </tr>\n",
       "    <tr>\n",
       "      <th>4480</th>\n",
       "      <td>NODAL</td>\n",
       "      <td>ACVR1B_ACVR2B</td>\n",
       "      <td>CM</td>\n",
       "      <td>MY</td>\n",
       "      <td>0.034484</td>\n",
       "      <td>0.051276</td>\n",
       "      <td>0.104720</td>\n",
       "      <td>0.069219</td>\n",
       "      <td>1.0</td>\n",
       "      <td>0.069602</td>\n",
       "      <td>0.001</td>\n",
       "    </tr>\n",
       "    <tr>\n",
       "      <th>4478</th>\n",
       "      <td>NODAL</td>\n",
       "      <td>ACVR1B_ACVR2A</td>\n",
       "      <td>CM</td>\n",
       "      <td>MY</td>\n",
       "      <td>0.034484</td>\n",
       "      <td>0.051276</td>\n",
       "      <td>0.104720</td>\n",
       "      <td>0.069219</td>\n",
       "      <td>1.0</td>\n",
       "      <td>0.069602</td>\n",
       "      <td>0.001</td>\n",
       "    </tr>\n",
       "    <tr>\n",
       "      <th>6228</th>\n",
       "      <td>TNF</td>\n",
       "      <td>TRAF2</td>\n",
       "      <td>MA</td>\n",
       "      <td>MY</td>\n",
       "      <td>0.064632</td>\n",
       "      <td>0.053571</td>\n",
       "      <td>0.074993</td>\n",
       "      <td>0.058036</td>\n",
       "      <td>1.0</td>\n",
       "      <td>0.069812</td>\n",
       "      <td>0.014</td>\n",
       "    </tr>\n",
       "    <tr>\n",
       "      <th>2764</th>\n",
       "      <td>GDF11</td>\n",
       "      <td>ACVR1B_ACVR2B</td>\n",
       "      <td>CM</td>\n",
       "      <td>MY</td>\n",
       "      <td>0.036973</td>\n",
       "      <td>0.055509</td>\n",
       "      <td>0.104720</td>\n",
       "      <td>0.069219</td>\n",
       "      <td>1.0</td>\n",
       "      <td>0.070846</td>\n",
       "      <td>0.009</td>\n",
       "    </tr>\n",
       "    <tr>\n",
       "      <th>1116</th>\n",
       "      <td>CALM3</td>\n",
       "      <td>PDE1B</td>\n",
       "      <td>CM</td>\n",
       "      <td>MY</td>\n",
       "      <td>0.057694</td>\n",
       "      <td>0.062773</td>\n",
       "      <td>0.084252</td>\n",
       "      <td>0.055325</td>\n",
       "      <td>1.0</td>\n",
       "      <td>0.070973</td>\n",
       "      <td>0.000</td>\n",
       "    </tr>\n",
       "    <tr>\n",
       "      <th>4584</th>\n",
       "      <td>OMG</td>\n",
       "      <td>RTN4RL1</td>\n",
       "      <td>CM</td>\n",
       "      <td>MY</td>\n",
       "      <td>0.046230</td>\n",
       "      <td>0.081756</td>\n",
       "      <td>0.096655</td>\n",
       "      <td>0.059805</td>\n",
       "      <td>1.0</td>\n",
       "      <td>0.071443</td>\n",
       "      <td>0.000</td>\n",
       "    </tr>\n",
       "    <tr>\n",
       "      <th>6227</th>\n",
       "      <td>TNF</td>\n",
       "      <td>TRAF2</td>\n",
       "      <td>CC</td>\n",
       "      <td>MY</td>\n",
       "      <td>0.068497</td>\n",
       "      <td>0.074074</td>\n",
       "      <td>0.074993</td>\n",
       "      <td>0.058036</td>\n",
       "      <td>1.0</td>\n",
       "      <td>0.071745</td>\n",
       "      <td>0.037</td>\n",
       "    </tr>\n",
       "    <tr>\n",
       "      <th>5908</th>\n",
       "      <td>TGFB2</td>\n",
       "      <td>ACVR1B_TGFBR2</td>\n",
       "      <td>CM</td>\n",
       "      <td>MY</td>\n",
       "      <td>0.041605</td>\n",
       "      <td>0.057927</td>\n",
       "      <td>0.104720</td>\n",
       "      <td>0.069219</td>\n",
       "      <td>1.0</td>\n",
       "      <td>0.073162</td>\n",
       "      <td>0.045</td>\n",
       "    </tr>\n",
       "    <tr>\n",
       "      <th>983</th>\n",
       "      <td>CALCB</td>\n",
       "      <td>TSHR</td>\n",
       "      <td>CM</td>\n",
       "      <td>MY</td>\n",
       "      <td>0.049928</td>\n",
       "      <td>0.084681</td>\n",
       "      <td>0.096771</td>\n",
       "      <td>0.071429</td>\n",
       "      <td>1.0</td>\n",
       "      <td>0.073349</td>\n",
       "      <td>0.000</td>\n",
       "    </tr>\n",
       "    <tr>\n",
       "      <th>979</th>\n",
       "      <td>CALCB</td>\n",
       "      <td>GPR84</td>\n",
       "      <td>CM</td>\n",
       "      <td>MY</td>\n",
       "      <td>0.049928</td>\n",
       "      <td>0.084681</td>\n",
       "      <td>0.100200</td>\n",
       "      <td>0.074405</td>\n",
       "      <td>1.0</td>\n",
       "      <td>0.075064</td>\n",
       "      <td>0.000</td>\n",
       "    </tr>\n",
       "    <tr>\n",
       "      <th>810</th>\n",
       "      <td>BMP8B</td>\n",
       "      <td>ACVR2B_BMPR1A</td>\n",
       "      <td>CC</td>\n",
       "      <td>MY</td>\n",
       "      <td>0.077560</td>\n",
       "      <td>0.071429</td>\n",
       "      <td>0.074525</td>\n",
       "      <td>0.050074</td>\n",
       "      <td>1.0</td>\n",
       "      <td>0.076043</td>\n",
       "      <td>0.003</td>\n",
       "    </tr>\n",
       "    <tr>\n",
       "      <th>811</th>\n",
       "      <td>BMP8B</td>\n",
       "      <td>ACVR2B_BMPR1B</td>\n",
       "      <td>CC</td>\n",
       "      <td>MY</td>\n",
       "      <td>0.077560</td>\n",
       "      <td>0.071429</td>\n",
       "      <td>0.074525</td>\n",
       "      <td>0.050074</td>\n",
       "      <td>1.0</td>\n",
       "      <td>0.076043</td>\n",
       "      <td>0.003</td>\n",
       "    </tr>\n",
       "    <tr>\n",
       "      <th>2799</th>\n",
       "      <td>GDF7</td>\n",
       "      <td>ACVR2B_BMPR1B</td>\n",
       "      <td>CC</td>\n",
       "      <td>MY</td>\n",
       "      <td>0.078131</td>\n",
       "      <td>0.071429</td>\n",
       "      <td>0.074525</td>\n",
       "      <td>0.050074</td>\n",
       "      <td>1.0</td>\n",
       "      <td>0.076328</td>\n",
       "      <td>0.008</td>\n",
       "    </tr>\n",
       "  </tbody>\n",
       "</table>\n",
       "</div>"
      ],
      "text/plain": [
       "     ligand_complex receptor_complex source target  ligand_means  \\\n",
       "3965         LEFTY1           ACVR2B     MA     MY      0.058889   \n",
       "1360           CD14             TLR6     CM     MY      0.037528   \n",
       "4480          NODAL    ACVR1B_ACVR2B     CM     MY      0.034484   \n",
       "4478          NODAL    ACVR1B_ACVR2A     CM     MY      0.034484   \n",
       "6228            TNF            TRAF2     MA     MY      0.064632   \n",
       "2764          GDF11    ACVR1B_ACVR2B     CM     MY      0.036973   \n",
       "1116          CALM3            PDE1B     CM     MY      0.057694   \n",
       "4584            OMG          RTN4RL1     CM     MY      0.046230   \n",
       "6227            TNF            TRAF2     CC     MY      0.068497   \n",
       "5908          TGFB2    ACVR1B_TGFBR2     CM     MY      0.041605   \n",
       "983           CALCB             TSHR     CM     MY      0.049928   \n",
       "979           CALCB            GPR84     CM     MY      0.049928   \n",
       "810           BMP8B    ACVR2B_BMPR1A     CC     MY      0.077560   \n",
       "811           BMP8B    ACVR2B_BMPR1B     CC     MY      0.077560   \n",
       "2799           GDF7    ACVR2B_BMPR1B     CC     MY      0.078131   \n",
       "\n",
       "      ligand_props  receptor_means  receptor_props  lrs_to_keep  lr_means  \\\n",
       "3965      0.068966        0.074525        0.050074          1.0  0.066707   \n",
       "1360      0.054763        0.101485        0.069592          1.0  0.069507   \n",
       "4480      0.051276        0.104720        0.069219          1.0  0.069602   \n",
       "4478      0.051276        0.104720        0.069219          1.0  0.069602   \n",
       "6228      0.053571        0.074993        0.058036          1.0  0.069812   \n",
       "2764      0.055509        0.104720        0.069219          1.0  0.070846   \n",
       "1116      0.062773        0.084252        0.055325          1.0  0.070973   \n",
       "4584      0.081756        0.096655        0.059805          1.0  0.071443   \n",
       "6227      0.074074        0.074993        0.058036          1.0  0.071745   \n",
       "5908      0.057927        0.104720        0.069219          1.0  0.073162   \n",
       "983       0.084681        0.096771        0.071429          1.0  0.073349   \n",
       "979       0.084681        0.100200        0.074405          1.0  0.075064   \n",
       "810       0.071429        0.074525        0.050074          1.0  0.076043   \n",
       "811       0.071429        0.074525        0.050074          1.0  0.076043   \n",
       "2799      0.071429        0.074525        0.050074          1.0  0.076328   \n",
       "\n",
       "      cellphone_pvals  \n",
       "3965            0.015  \n",
       "1360            0.032  \n",
       "4480            0.001  \n",
       "4478            0.001  \n",
       "6228            0.014  \n",
       "2764            0.009  \n",
       "1116            0.000  \n",
       "4584            0.000  \n",
       "6227            0.037  \n",
       "5908            0.045  \n",
       "983             0.000  \n",
       "979             0.000  \n",
       "810             0.003  \n",
       "811             0.003  \n",
       "2799            0.008  "
      ]
     },
     "execution_count": 9,
     "metadata": {},
     "output_type": "execute_result"
    }
   ],
   "source": [
    "part"
   ]
  },
  {
   "cell_type": "code",
   "execution_count": 10,
   "metadata": {},
   "outputs": [
    {
     "name": "stderr",
     "output_type": "stream",
     "text": [
      "/home/dbdimitrov/miniconda3/envs/spiana/lib/python3.10/site-packages/liana/resource/_reassemble_complexes.py:124: SettingWithCopyWarning: \n",
      "A value is trying to be set on a copy of a slice from a DataFrame.\n",
      "Try using .loc[row_indexer,col_indexer] = value instead\n",
      "\n",
      "See the caveats in the documentation: https://pandas.pydata.org/pandas-docs/stable/user_guide/indexing.html#returning-a-view-versus-a-copy\n"
     ]
    }
   ],
   "source": [
    "gt = li.rs.explode_complexes(part[['ligand_complex', 'receptor_complex']], SOURCE='ligand_complex', TARGET='receptor_complex')"
   ]
  },
  {
   "cell_type": "code",
   "execution_count": 11,
   "metadata": {},
   "outputs": [
    {
     "data": {
      "text/plain": [
       "23"
      ]
     },
     "execution_count": 11,
     "metadata": {},
     "output_type": "execute_result"
    }
   ],
   "source": [
    "gt = np.union1d(gt['ligand_complex'], gt['receptor_complex'])\n",
    "len(gt)"
   ]
  },
  {
   "cell_type": "code",
   "execution_count": 12,
   "metadata": {},
   "outputs": [
    {
     "data": {
      "text/plain": [
       "array(['ACVR1B', 'ACVR2A', 'ACVR2B', 'BMP8B', 'BMPR1A', 'BMPR1B', 'CALCB',\n",
       "       'CALM3', 'CD14', 'GDF11', 'GDF7', 'GPR84', 'LEFTY1', 'NODAL',\n",
       "       'OMG', 'PDE1B', 'RTN4RL1', 'TGFB2', 'TGFBR2', 'TLR6', 'TNF',\n",
       "       'TRAF2', 'TSHR'], dtype=object)"
      ]
     },
     "execution_count": 12,
     "metadata": {},
     "output_type": "execute_result"
    }
   ],
   "source": [
    "gt"
   ]
  },
  {
   "cell_type": "code",
   "execution_count": null,
   "metadata": {},
   "outputs": [],
   "source": []
  },
  {
   "cell_type": "markdown",
   "metadata": {},
   "source": [
    "### SpatialDM"
   ]
  },
  {
   "cell_type": "code",
   "execution_count": 28,
   "metadata": {},
   "outputs": [],
   "source": [
    "import os\n",
    "import scanpy as sc\n",
    "import liana as li\n",
    "import pandas as pd"
   ]
  },
  {
   "cell_type": "code",
   "execution_count": 11,
   "metadata": {},
   "outputs": [],
   "source": [
    "data_dir = os.path.join('..', '..', 'data', 'heart_visium')\n",
    "dataset_names = [f for f in os.listdir(os.path.join('..', 'kuppe', 'results', 'processed')) if f.endswith('.h5ad')]"
   ]
  },
  {
   "cell_type": "code",
   "execution_count": null,
   "metadata": {},
   "outputs": [],
   "source": []
  },
  {
   "cell_type": "code",
   "execution_count": 34,
   "metadata": {},
   "outputs": [],
   "source": [
    "lrdatas = {}\n",
    "res = []\n",
    "\n",
    "for dataset_name in dataset_names:\n",
    "   adata = sc.read_h5ad(os.path.join('..', 'kuppe', 'results', 'processed', dataset_name))\n",
    "\n",
    "   li.mt.lr_bivar(adata,\n",
    "                  function_name='morans',\n",
    "                  expr_prop=0.1,\n",
    "                  n_perms=0,\n",
    "                  use_raw=False,\n",
    "                  add_categories=False,\n",
    "                  mask_negatives=True,\n",
    "                  )\n",
    "   lrdata = adata.obsm['local_scores']\n",
    "   df = lrdata.var\n",
    "   df['sample'] = dataset_name\n",
    "   res.append(df)\n",
    "\n",
    "   lrdatas[dataset_name] = lrdata"
   ]
  },
  {
   "cell_type": "code",
   "execution_count": 40,
   "metadata": {},
   "outputs": [],
   "source": [
    "ii = pd.concat(res)"
   ]
  },
  {
   "cell_type": "code",
   "execution_count": 42,
   "metadata": {},
   "outputs": [],
   "source": [
    "ii.to_csv(\"morans.csv\")"
   ]
  },
  {
   "cell_type": "code",
   "execution_count": null,
   "metadata": {},
   "outputs": [],
   "source": []
  }
 ],
 "metadata": {
  "kernelspec": {
   "display_name": "spiana",
   "language": "python",
   "name": "python3"
  },
  "language_info": {
   "codemirror_mode": {
    "name": "ipython",
    "version": 3
   },
   "file_extension": ".py",
   "mimetype": "text/x-python",
   "name": "python",
   "nbconvert_exporter": "python",
   "pygments_lexer": "ipython3",
   "version": "3.10.13"
  }
 },
 "nbformat": 4,
 "nbformat_minor": 2
}
