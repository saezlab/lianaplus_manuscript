{
 "cells": [
  {
   "cell_type": "markdown",
   "metadata": {},
   "source": [
    "Setup"
   ]
  },
  {
   "cell_type": "code",
   "execution_count": 1,
   "metadata": {},
   "outputs": [],
   "source": [
    "import numpy as np\n",
    "import pandas as pd\n",
    "import os\n",
    "import scanpy as sc\n",
    "import liana as li\n",
    "\n",
    "import matplotlib.pyplot as plt\n",
    "# tight layout by default\n",
    "plt.rcParams.update({'figure.autolayout': True})\n",
    "from itertools import product\n",
    "from utils import *"
   ]
  },
  {
   "cell_type": "code",
   "execution_count": 2,
   "metadata": {},
   "outputs": [
    {
     "data": {
      "text/plain": [
       "'1.0.5'"
      ]
     },
     "execution_count": 2,
     "metadata": {},
     "output_type": "execute_result"
    }
   ],
   "source": [
    "li.__version__"
   ]
  },
  {
   "cell_type": "code",
   "execution_count": 3,
   "metadata": {},
   "outputs": [],
   "source": [
    "path = os.path.join('..', '..', 'data', 'slidetags')"
   ]
  },
  {
   "cell_type": "code",
   "execution_count": 4,
   "metadata": {},
   "outputs": [
    {
     "data": {
      "text/plain": [
       "['CellPhoneDB', 'Connectome', 'log2FC', 'NATMI', 'SingleCellSignalR']"
      ]
     },
     "execution_count": 4,
     "metadata": {},
     "output_type": "execute_result"
    }
   ],
   "source": [
    "[method.method_name for method in li.mt.rank_aggregate.methods]"
   ]
  },
  {
   "cell_type": "code",
   "execution_count": 5,
   "metadata": {},
   "outputs": [],
   "source": [
    "from liana.method import cellphonedb, connectome, cellchat, scseqcomm, singlecellsignalr, natmi, logfc, rank_aggregate, geometric_mean\n",
    "methods = [cellphonedb, connectome, cellchat, scseqcomm, singlecellsignalr, natmi, logfc, rank_aggregate, geometric_mean]"
   ]
  },
  {
   "cell_type": "code",
   "execution_count": 6,
   "metadata": {},
   "outputs": [],
   "source": [
    "groupby = 'cell_type'"
   ]
  },
  {
   "cell_type": "code",
   "execution_count": 7,
   "metadata": {},
   "outputs": [],
   "source": [
    "d = {\n",
    "     # 'SCP2162': 'mousehippocampus', # NOTE barcodes between metadata and matrix do not match; also very few spatially-matched\n",
    "     'SCP2167': 'humancortex',\n",
    "     'SCP2169': 'HumanTonsil',\n",
    "     'SCP2170': 'mouseembryo',\n",
    "     'SCP2171': 'HumanMelanomaRNA',\n",
    "     'SCP2176': 'HumanMelanomaMultiome'\n",
    "     }"
   ]
  },
  {
   "cell_type": "code",
   "execution_count": null,
   "metadata": {},
   "outputs": [],
   "source": []
  },
  {
   "cell_type": "markdown",
   "metadata": {},
   "source": [
    "Prep Data & Run LIANA"
   ]
  },
  {
   "cell_type": "code",
   "execution_count": 8,
   "metadata": {},
   "outputs": [
    {
     "name": "stdout",
     "output_type": "stream",
     "text": [
      "SCP2167 humancortex (14165, 36601)\n"
     ]
    },
    {
     "name": "stderr",
     "output_type": "stream",
     "text": [
      "... storing 'X' as categorical\n",
      "... storing 'Y' as categorical\n",
      "... storing 'cell_type' as categorical\n",
      "... storing 'feature_types' as categorical\n"
     ]
    },
    {
     "name": "stdout",
     "output_type": "stream",
     "text": [
      "SCP2169 HumanTonsil (9360, 36601)\n"
     ]
    },
    {
     "name": "stderr",
     "output_type": "stream",
     "text": [
      "... storing 'X' as categorical\n",
      "... storing 'Y' as categorical\n",
      "... storing 'cell_type' as categorical\n",
      "... storing 'feature_types' as categorical\n"
     ]
    },
    {
     "name": "stdout",
     "output_type": "stream",
     "text": [
      "SCP2170 mouseembryo (9037, 32285)\n"
     ]
    },
    {
     "name": "stderr",
     "output_type": "stream",
     "text": [
      "... storing 'cell_type' as categorical\n",
      "... storing 'feature_types' as categorical\n"
     ]
    },
    {
     "name": "stdout",
     "output_type": "stream",
     "text": [
      "SCP2171 HumanMelanomaRNA (6466, 36601)\n"
     ]
    },
    {
     "name": "stderr",
     "output_type": "stream",
     "text": [
      "... storing 'X' as categorical\n",
      "... storing 'Y' as categorical\n",
      "... storing 'cell_type' as categorical\n",
      "... storing 'feature_types' as categorical\n"
     ]
    },
    {
     "name": "stdout",
     "output_type": "stream",
     "text": [
      "SCP2176 HumanMelanomaMultiome (5704, 36601)\n"
     ]
    },
    {
     "name": "stderr",
     "output_type": "stream",
     "text": [
      "... storing 'X' as categorical\n",
      "... storing 'Y' as categorical\n",
      "... storing 'cell_type' as categorical\n",
      "... storing 'feature_types' as categorical\n"
     ]
    }
   ],
   "source": [
    "for k, v in d.items():\n",
    "    adata = sc.read_10x_mtx(os.path.join(path, f'{k}/expression/counts/'))\n",
    "    spatial = pd.read_csv(os.path.join(path, f\"{k}/cluster/{v}_spatial.csv\")).iloc[1:].set_index(\"NAME\")\n",
    "    \n",
    "    print(k, v, adata.shape)\n",
    "    \n",
    "    # NOTE: keep only cells that are in the spatial data\n",
    "    adata = adata[adata.obs.index.isin(spatial.index)]\n",
    "    adata.obs = adata.obs.merge(spatial, left_index=True, right_index=True)\n",
    "    # remove _ from cell types\n",
    "    adata.obs['cell_type'] = adata.obs['cell_type'].str.replace('_', '-')\n",
    "    \n",
    "    adata.obsm = {}\n",
    "    adata.obsm['spatial'] = adata.obs[['X', 'Y']].values.astype(np.float32)\n",
    "    \n",
    "    # Filter and normalize\n",
    "    sc.pp.filter_cells(adata, min_genes=200)\n",
    "    sc.pp.filter_genes(adata, min_cells=3)\n",
    "    \n",
    "    adata.layers['raw'] = adata.X.copy()\n",
    "    sc.pp.normalize_total(adata, target_sum=1e4)\n",
    "    sc.pp.log1p(adata)\n",
    "    \n",
    "    if v.__contains__(\"mouse\"):\n",
    "        resource_name = 'mouseconsensus'\n",
    "    else:\n",
    "        resource_name = 'consensus'\n",
    "    \n",
    "    # Run Methods\n",
    "    for method in methods:\n",
    "        adata.uns[method.method_name] = method(adata,\n",
    "                                               groupby=groupby,\n",
    "                                               use_raw=False,\n",
    "                                               verbose=False,\n",
    "                                               n_perms=100,\n",
    "                                               n_jobs=10,\n",
    "                                               inplace=False,\n",
    "                                               resource_name=resource_name,\n",
    "                                               )\n",
    "    \n",
    "    adata.write_h5ad(os.path.join(path, f\"{k}adata.h5ad\"))"
   ]
  },
  {
   "cell_type": "code",
   "execution_count": null,
   "metadata": {},
   "outputs": [],
   "source": []
  },
  {
   "cell_type": "markdown",
   "metadata": {},
   "source": [
    "Generate Truth"
   ]
  },
  {
   "cell_type": "code",
   "execution_count": 8,
   "metadata": {},
   "outputs": [
    {
     "name": "stderr",
     "output_type": "stream",
     "text": [
      "Using resource `consensus`.\n",
      "Using `.X`!\n",
      "... storing 'ligand' as categorical\n",
      "... storing 'receptor' as categorical\n",
      "/home/dbdimitrov/miniconda3/envs/spiana/lib/python3.10/site-packages/anndata/_core/anndata.py:121: ImplicitModificationWarning: Transforming to str index.\n",
      "Using provided `interactions`.\n",
      "Using `.X`!\n",
      "Make sure that normalized counts are passed!\n",
      "Removing 7 self-interactions\n",
      "... storing 'ligand' as categorical\n",
      "... storing 'receptor' as categorical\n",
      "Using resource `consensus`.\n",
      "Using `.X`!\n",
      "... storing 'ligand' as categorical\n",
      "... storing 'receptor' as categorical\n",
      "/home/dbdimitrov/miniconda3/envs/spiana/lib/python3.10/site-packages/anndata/_core/anndata.py:121: ImplicitModificationWarning: Transforming to str index.\n",
      "Using provided `interactions`.\n",
      "Using `.X`!\n",
      "Make sure that normalized counts are passed!\n",
      "Removing 13 self-interactions\n",
      "... storing 'ligand' as categorical\n",
      "... storing 'receptor' as categorical\n",
      "Using resource `mouseconsensus`.\n",
      "Using `.X`!\n",
      "... storing 'ligand' as categorical\n",
      "... storing 'receptor' as categorical\n",
      "/home/dbdimitrov/miniconda3/envs/spiana/lib/python3.10/site-packages/anndata/_core/anndata.py:121: ImplicitModificationWarning: Transforming to str index.\n",
      "Using provided `interactions`.\n",
      "Using `.X`!\n",
      "Make sure that normalized counts are passed!\n",
      "Removing 21 self-interactions\n",
      "... storing 'ligand' as categorical\n",
      "... storing 'receptor' as categorical\n",
      "Using resource `consensus`.\n",
      "Using `.X`!\n",
      "... storing 'ligand' as categorical\n",
      "... storing 'receptor' as categorical\n",
      "/home/dbdimitrov/miniconda3/envs/spiana/lib/python3.10/site-packages/anndata/_core/anndata.py:121: ImplicitModificationWarning: Transforming to str index.\n",
      "Using provided `interactions`.\n",
      "Using `.X`!\n",
      "Make sure that normalized counts are passed!\n",
      "Removing 12 self-interactions\n",
      "... storing 'ligand' as categorical\n",
      "... storing 'receptor' as categorical\n",
      "Using resource `consensus`.\n",
      "Using `.X`!\n",
      "... storing 'ligand' as categorical\n",
      "... storing 'receptor' as categorical\n",
      "/home/dbdimitrov/miniconda3/envs/spiana/lib/python3.10/site-packages/anndata/_core/anndata.py:121: ImplicitModificationWarning: Transforming to str index.\n",
      "Using provided `interactions`.\n",
      "Using `.X`!\n",
      "Make sure that normalized counts are passed!\n",
      "Removing 10 self-interactions\n",
      "... storing 'ligand' as categorical\n",
      "... storing 'receptor' as categorical\n"
     ]
    }
   ],
   "source": [
    "for k, v in d.items():\n",
    "    adata = sc.read_h5ad(os.path.join(path, f\"{k}/adata.h5ad\"))\n",
    "    \n",
    "    if v.__contains__(\"mouse\"):\n",
    "        resource_name = 'mouseconsensus'\n",
    "    else:\n",
    "        resource_name = 'consensus'\n",
    "    \n",
    "    # Run LR\n",
    "    li.ut.spatial_neighbors(adata, bandwidth=150, cutoff=0.05, set_diag=True)\n",
    "    li.mt.lr_bivar(adata, \n",
    "               function_name=\"morans\",\n",
    "               inplace=True,\n",
    "               use_raw=False, \n",
    "               n_perms=0,\n",
    "               expr_prop=0.05,\n",
    "               verbose=True,\n",
    "               mask_negatives=True,\n",
    "               resource_name=resource_name\n",
    "               )\n",
    "    lrdata = adata.obsm['local_scores']\n",
    "    lrdata.write_h5ad(os.path.join(path, f\"{k}/lrdata.h5ad\"))\n",
    "    \n",
    "    # Run CP; NOTE: I'm currently discarding autocrine, and only evaluating para/ortho\n",
    "    ctdata = onehot_groupby(adata, groupby='cell_type')\n",
    "    interactions = list(product(ctdata.var.index, ctdata.var.index))\n",
    "    \n",
    "    li.mt.lr_bivar(ctdata, \n",
    "               function_name=\"morans\",\n",
    "               inplace=True,\n",
    "               use_raw=False,\n",
    "               expr_prop=0,\n",
    "               n_perms=0,\n",
    "               verbose=True,\n",
    "               mask_negatives=True,\n",
    "               interactions=interactions,\n",
    "               )\n",
    "    cpdata = ctdata.obsm['local_scores']\n",
    "    cpdata.write_h5ad(os.path.join(path, f\"{k}/cpdata.h5ad\"))"
   ]
  },
  {
   "cell_type": "markdown",
   "metadata": {},
   "source": [
    "Evaluate"
   ]
  },
  {
   "cell_type": "code",
   "execution_count": 9,
   "metadata": {},
   "outputs": [],
   "source": [
    "scores = li.mt.show_methods()\n",
    "prop_range = [0.01, 0.05, 0.1, 0.2, 0.5]\n",
    "eval_results = pd.DataFrame(columns=['Dataset', 'Method', 'Score', 'AUROC', 'Odds'])"
   ]
  },
  {
   "cell_type": "code",
   "execution_count": 10,
   "metadata": {},
   "outputs": [
    {
     "name": "stdout",
     "output_type": "stream",
     "text": [
      "ratio: 0.14100553987665934, shape:(9567, 17)\n",
      "ratio: 0.14100553987665934, shape:(9567, 17)\n",
      "ratio: 0.14100553987665934, shape:(9567, 19)\n",
      "ratio: 0.14100553987665934, shape:(9567, 19)\n",
      "ratio: 0.14100553987665934, shape:(9567, 18)\n",
      "ratio: 0.14100553987665934, shape:(9567, 18)\n",
      "ratio: 0.14100553987665934, shape:(9567, 18)\n",
      "ratio: 0.14100553987665934, shape:(9567, 17)\n",
      "ratio: 0.14100553987665934, shape:(9567, 19)\n",
      "ratio: 0.14100553987665934, shape:(9567, 19)\n",
      "ratio: 0.14100553987665934, shape:(9567, 18)\n",
      "ratio: 0.14100553987665934, shape:(9567, 20)\n",
      "ratio: 0.14100553987665934, shape:(9567, 20)\n",
      "ratio: 0.14100553987665934, shape:(9567, 17)\n",
      "ratio: 0.14100553987665934, shape:(9567, 17)\n",
      "ratio: 0.20813408236222666, shape:(21539, 17)\n",
      "ratio: 0.20813408236222666, shape:(21539, 17)\n",
      "ratio: 0.20813408236222666, shape:(21539, 19)\n",
      "ratio: 0.20813408236222666, shape:(21539, 19)\n",
      "ratio: 0.20813408236222666, shape:(21539, 18)\n",
      "ratio: 0.20813408236222666, shape:(21539, 18)\n",
      "ratio: 0.20813408236222666, shape:(21539, 18)\n",
      "ratio: 0.20813408236222666, shape:(21539, 17)\n",
      "ratio: 0.20813408236222666, shape:(21539, 19)\n",
      "ratio: 0.20813408236222666, shape:(21539, 19)\n",
      "ratio: 0.20813408236222666, shape:(21539, 18)\n",
      "ratio: 0.20813408236222666, shape:(21539, 20)\n",
      "ratio: 0.20813408236222666, shape:(21539, 20)\n",
      "ratio: 0.20813408236222666, shape:(21539, 17)\n",
      "ratio: 0.20813408236222666, shape:(21539, 17)\n",
      "ratio: 0.12291811791526819, shape:(94746, 17)\n",
      "ratio: 0.12291811791526819, shape:(94746, 17)\n",
      "ratio: 0.12291811791526819, shape:(94746, 19)\n",
      "ratio: 0.12291811791526819, shape:(94746, 19)\n",
      "ratio: 0.12291811791526819, shape:(94746, 18)\n",
      "ratio: 0.12291811791526819, shape:(94746, 18)\n",
      "ratio: 0.12291811791526819, shape:(94746, 18)\n",
      "ratio: 0.12291811791526819, shape:(94746, 17)\n",
      "ratio: 0.12291811791526819, shape:(94746, 19)\n",
      "ratio: 0.12291811791526819, shape:(94746, 19)\n",
      "ratio: 0.12291811791526819, shape:(94746, 18)\n",
      "ratio: 0.12291811791526819, shape:(94746, 20)\n",
      "ratio: 0.12291811791526819, shape:(94746, 20)\n",
      "ratio: 0.12291811791526819, shape:(94746, 17)\n",
      "ratio: 0.12291811791526819, shape:(94746, 17)\n",
      "ratio: 0.13704254686105327, shape:(16805, 17)\n",
      "ratio: 0.13704254686105327, shape:(16805, 17)\n",
      "ratio: 0.13704254686105327, shape:(16805, 19)\n",
      "ratio: 0.13704254686105327, shape:(16805, 19)\n",
      "ratio: 0.13704254686105327, shape:(16805, 18)\n",
      "ratio: 0.13704254686105327, shape:(16805, 18)\n",
      "ratio: 0.13704254686105327, shape:(16805, 18)\n",
      "ratio: 0.13704254686105327, shape:(16805, 17)\n",
      "ratio: 0.13704254686105327, shape:(16805, 19)\n",
      "ratio: 0.13704254686105327, shape:(16805, 19)\n",
      "ratio: 0.13704254686105327, shape:(16805, 18)\n",
      "ratio: 0.13704254686105327, shape:(16805, 20)\n",
      "ratio: 0.13704254686105327, shape:(16805, 20)\n",
      "ratio: 0.13704254686105327, shape:(16805, 17)\n",
      "ratio: 0.13704254686105327, shape:(16805, 17)\n",
      "ratio: 0.04694255713403336, shape:(22666, 17)\n",
      "ratio: 0.04694255713403336, shape:(22666, 17)\n",
      "ratio: 0.04694255713403336, shape:(22666, 19)\n",
      "ratio: 0.04694255713403336, shape:(22666, 19)\n",
      "ratio: 0.04694255713403336, shape:(22666, 18)\n",
      "ratio: 0.04694255713403336, shape:(22666, 18)\n",
      "ratio: 0.04694255713403336, shape:(22666, 18)\n",
      "ratio: 0.04694255713403336, shape:(22666, 17)\n",
      "ratio: 0.04694255713403336, shape:(22666, 19)\n",
      "ratio: 0.04694255713403336, shape:(22666, 19)\n",
      "ratio: 0.04694255713403336, shape:(22666, 18)\n",
      "ratio: 0.04694255713403336, shape:(22666, 20)\n",
      "ratio: 0.04694255713403336, shape:(22666, 20)\n",
      "ratio: 0.04694255713403336, shape:(22666, 17)\n",
      "ratio: 0.04694255713403336, shape:(22666, 17)\n"
     ]
    }
   ],
   "source": [
    "# Run Methods & Evaluate\n",
    "for k, v in d.items():\n",
    "    adata = sc.read_h5ad(os.path.join(path, f\"{k}/adata.h5ad\"))\n",
    "    lrdata = sc.read_h5ad(os.path.join(path, f\"{k}/lrdata.h5ad\"))\n",
    "    cpdata = sc.read_h5ad(os.path.join(path, f\"{k}/cpdata.h5ad\"))\n",
    "    \n",
    "    for method in methods:\n",
    "        method_name = method.method_name        \n",
    "        score_keys = scores[scores['Method Name'] == method.method_name]\n",
    "        lr_res = adata.uns[method_name].copy()\n",
    "\n",
    "        score_keys = score_keys[['Magnitude Score', 'Specificity Score']].values[0]\n",
    "        # if None in score_keys, remove it\n",
    "        score_keys = [s for s in score_keys if s is not None]\n",
    "\n",
    "        for score_key in score_keys:\n",
    "            lr_res = li.method.process_scores(lr_res, score_key=score_key)\n",
    "            gt = join_pred_truth(lr_res, lrdata, cpdata)\n",
    "            \n",
    "            odds = [odds_ratio(gt, score_key=score_key, top_prop=prop) for prop in prop_range]\n",
    "            auroc = calc_auroc(gt, score_key=score_key, show_plot=False)\n",
    "            \n",
    "            eval_results.loc[len(eval_results)] = [v, method_name, score_key, auroc, odds]"
   ]
  },
  {
   "cell_type": "code",
   "execution_count": 11,
   "metadata": {},
   "outputs": [],
   "source": [
    "eval_results.to_csv(\"evals_results.csv\")"
   ]
  },
  {
   "cell_type": "markdown",
   "metadata": {},
   "source": [
    "Visualize"
   ]
  },
  {
   "cell_type": "code",
   "execution_count": 12,
   "metadata": {},
   "outputs": [],
   "source": [
    "res = pd.read_csv(\"evals_results.csv\")"
   ]
  },
  {
   "cell_type": "code",
   "execution_count": 13,
   "metadata": {},
   "outputs": [],
   "source": [
    "# replace _ with ' '\n",
    "res['Score'] = res['Score'].str.replace('_', ' ')\n",
    "res['Score'] = res['Score'].str.title()\n",
    "res = res.sort_values(\"Method\")\n",
    "res['Score'] = pd.Categorical(res['Score'], categories=res['Score'].unique(), ordered=True)"
   ]
  },
  {
   "cell_type": "code",
   "execution_count": 14,
   "metadata": {},
   "outputs": [
    {
     "name": "stderr",
     "output_type": "stream",
     "text": [
      "/tmp/ipykernel_528501/2718417914.py:29: UserWarning: set_ticklabels() should only be used with a fixed number of ticks, i.e. after set_ticks() or using a FixedLocator.\n"
     ]
    },
    {
     "data": {
      "image/png": "[encoded data removed]",
      "text/plain": [
       "<Figure size 700x600 with 1 Axes>"
      ]
     },
     "metadata": {},
     "output_type": "display_data"
    }
   ],
   "source": [
    "import seaborn as sns\n",
    "import pandas as pd\n",
    "import matplotlib.patches as mpatches\n",
    "\n",
    "# Assuming 'res' is already loaded as a pandas DataFrame\n",
    "# Replace underscores with spaces and title case 'Score'\n",
    "res['Score'] = res['Score'].str.replace('_', ' ').str.title()\n",
    "\n",
    "# Convert 'Score' to a categorical type with ordered categories\n",
    "score_order = res.sort_values(\"Method\")['Score'].unique()\n",
    "res['Score'] = pd.Categorical(res['Score'], categories=score_order, ordered=True)\n",
    "\n",
    "# Set the figure size\n",
    "plt.figure(figsize=(7, 6))  # This is in inches\n",
    "\n",
    "# Create a color palette\n",
    "palette = sns.color_palette(\"Set1\", n_colors=res['Method'].nunique())\n",
    "\n",
    "# Plot each 'Method' group with a different color\n",
    "for i, method in enumerate(res['Method'].unique()):\n",
    "    subset = res[res['Method'] == method]\n",
    "    sns.boxplot(x='Score', y='AUROC', data=subset, color=palette[i], boxprops=dict(alpha=.8))\n",
    "\n",
    "# Plot the outlines without filling color\n",
    "sns.boxplot(x='Score', y='AUROC', data=res, showcaps=False, boxprops=dict(facecolor='None'),\n",
    "            showfliers=False, whiskerprops=dict(color='None'))\n",
    "\n",
    "# Set the y-axis labels to two decimals\n",
    "plt.gca().set_yticklabels(['{:.2f}'.format(x) for x in plt.gca().get_yticks()])\n",
    "\n",
    "# Draw a horizontal line at y=0.50\n",
    "plt.axhline(y=0.50, color='red', linestyle='dashed', linewidth=1.5)\n",
    "\n",
    "# Set y-axis limits\n",
    "plt.ylim(0.40, 0.60)\n",
    "\n",
    "# Rotate the x-axis labels\n",
    "plt.xticks(rotation=90)\n",
    "\n",
    "# Remove the title and subplot title\n",
    "plt.title('')\n",
    "plt.suptitle('')\n",
    "\n",
    "methods = res['Method'].unique()\n",
    "colors = plt.cm.Set1(range(len(methods)))\n",
    "\n",
    "# Create a list of patches for the legend\n",
    "legend_patches = [mpatches.Patch(color=colors[i], label=method) for i, method in enumerate(methods)]\n",
    "plt.legend(handles=legend_patches, title='Method', bbox_to_anchor=(1.05, 1), loc=2, borderaxespad=0.)\n",
    "\n",
    "# Tight layout often improves the spacing between subplots\n",
    "plt.tight_layout()\n",
    "\n",
    "# Show the plot\n",
    "plt.show()\n"
   ]
  },
  {
   "cell_type": "code",
   "execution_count": null,
   "metadata": {},
   "outputs": [],
   "source": []
  },
  {
   "cell_type": "code",
   "execution_count": null,
   "metadata": {},
   "outputs": [],
   "source": []
  }
 ],
 "metadata": {
  "kernelspec": {
   "display_name": "spiana",
   "language": "python",
   "name": "python3"
  },
  "language_info": {
   "codemirror_mode": {
    "name": "ipython",
    "version": 3
   },
   "file_extension": ".py",
   "mimetype": "text/x-python",
   "name": "python",
   "nbconvert_exporter": "python",
   "pygments_lexer": "ipython3",
   "version": "3.10.13"
  }
 },
 "nbformat": 4,
 "nbformat_minor": 2
}
