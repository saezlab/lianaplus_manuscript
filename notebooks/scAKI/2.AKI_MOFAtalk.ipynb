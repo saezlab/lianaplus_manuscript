{
 "cells": [
  {
   "attachments": {},
   "cell_type": "markdown",
   "metadata": {},
   "source": [
    "## MOFAtalk"
   ]
  },
  {
   "cell_type": "code",
   "execution_count": 1,
   "metadata": {},
   "outputs": [],
   "source": [
    "import os"
   ]
  },
  {
   "cell_type": "code",
   "execution_count": 2,
   "metadata": {},
   "outputs": [],
   "source": [
    "data_dir = os.path.join('..', '..', 'data', 'kidney_injury')"
   ]
  },
  {
   "cell_type": "code",
   "execution_count": 3,
   "metadata": {},
   "outputs": [],
   "source": [
    "# columns of interest\n",
    "sample_key = \"ident\"\n",
    "groupby = \"cell_type\"\n",
    "condition_key = \"Group\""
   ]
  },
  {
   "cell_type": "code",
   "execution_count": null,
   "metadata": {},
   "outputs": [],
   "source": []
  },
  {
   "attachments": {},
   "cell_type": "markdown",
   "metadata": {},
   "source": [
    "## Setup Environment"
   ]
  },
  {
   "cell_type": "code",
   "execution_count": 4,
   "metadata": {},
   "outputs": [],
   "source": [
    "import numpy as np\n",
    "import pandas as pd\n",
    "\n",
    "import scanpy as sc"
   ]
  },
  {
   "cell_type": "code",
   "execution_count": 5,
   "metadata": {},
   "outputs": [
    {
     "name": "stderr",
     "output_type": "stream",
     "text": [
      "/home/dbdimitrov/anaconda3/envs/spiana/lib/python3.10/site-packages/tqdm/auto.py:21: TqdmWarning: IProgress not found. Please update jupyter and ipywidgets. See https://ipywidgets.readthedocs.io/en/stable/user_install.html\n",
      "  from .autonotebook import tqdm as notebook_tqdm\n"
     ]
    }
   ],
   "source": [
    "import mofax as mofa\n",
    "import muon as mu\n",
    "import decoupler as dc"
   ]
  },
  {
   "cell_type": "code",
   "execution_count": 6,
   "metadata": {},
   "outputs": [],
   "source": [
    "import liana as li\n",
    "import plotnine as p9"
   ]
  },
  {
   "cell_type": "code",
   "execution_count": 7,
   "metadata": {},
   "outputs": [
    {
     "data": {
      "text/plain": [
       "'0.1.9'"
      ]
     },
     "execution_count": 7,
     "metadata": {},
     "output_type": "execute_result"
    }
   ],
   "source": [
    "li.__version__"
   ]
  },
  {
   "cell_type": "code",
   "execution_count": null,
   "metadata": {},
   "outputs": [],
   "source": []
  },
  {
   "attachments": {},
   "cell_type": "markdown",
   "metadata": {},
   "source": [
    "Load object"
   ]
  },
  {
   "cell_type": "code",
   "execution_count": 8,
   "metadata": {},
   "outputs": [],
   "source": [
    "adata = sc.read_h5ad(os.path.join(data_dir, \"aki_processed.h5ad\"))"
   ]
  },
  {
   "cell_type": "code",
   "execution_count": 9,
   "metadata": {},
   "outputs": [
    {
     "data": {
      "text/html": [
       "<div>\n",
       "<style scoped>\n",
       "    .dataframe tbody tr th:only-of-type {\n",
       "        vertical-align: middle;\n",
       "    }\n",
       "\n",
       "    .dataframe tbody tr th {\n",
       "        vertical-align: top;\n",
       "    }\n",
       "\n",
       "    .dataframe thead th {\n",
       "        text-align: right;\n",
       "    }\n",
       "</style>\n",
       "<table border=\"1\" class=\"dataframe\">\n",
       "  <thead>\n",
       "    <tr style=\"text-align: right;\">\n",
       "      <th></th>\n",
       "      <th>orig.ident</th>\n",
       "      <th>nCount_RNA</th>\n",
       "      <th>nFeature_RNA</th>\n",
       "      <th>Group</th>\n",
       "      <th>Replicates</th>\n",
       "      <th>cell_state</th>\n",
       "      <th>ident</th>\n",
       "      <th>cell_type</th>\n",
       "      <th>full_name</th>\n",
       "      <th>n_genes</th>\n",
       "      <th>keep_sum</th>\n",
       "      <th>keep_min</th>\n",
       "      <th>keep_celltype</th>\n",
       "    </tr>\n",
       "  </thead>\n",
       "  <tbody>\n",
       "    <tr>\n",
       "      <th>IRI12h2_CAACTAGGTTTACTCT</th>\n",
       "      <td>IRI12h2</td>\n",
       "      <td>1428.0</td>\n",
       "      <td>532</td>\n",
       "      <td>12hours</td>\n",
       "      <td>2</td>\n",
       "      <td>CNT</td>\n",
       "      <td>IRI12h2</td>\n",
       "      <td>CNT</td>\n",
       "      <td>Connecting tubule</td>\n",
       "      <td>532</td>\n",
       "      <td>24</td>\n",
       "      <td>True</td>\n",
       "      <td>True</td>\n",
       "    </tr>\n",
       "    <tr>\n",
       "      <th>IRIsham1b2_CACAGGCTCAAGGTAA</th>\n",
       "      <td>IRIsham1b2</td>\n",
       "      <td>1331.0</td>\n",
       "      <td>579</td>\n",
       "      <td>Control</td>\n",
       "      <td>1_2</td>\n",
       "      <td>CNT</td>\n",
       "      <td>IRIsham1b2</td>\n",
       "      <td>CNT</td>\n",
       "      <td>Connecting tubule</td>\n",
       "      <td>579</td>\n",
       "      <td>24</td>\n",
       "      <td>True</td>\n",
       "      <td>True</td>\n",
       "    </tr>\n",
       "    <tr>\n",
       "      <th>IRI14d1b2_ATGGGAGTCTGCGGCA</th>\n",
       "      <td>IRI14d1b2</td>\n",
       "      <td>1279.0</td>\n",
       "      <td>535</td>\n",
       "      <td>14days</td>\n",
       "      <td>1_2</td>\n",
       "      <td>CNT</td>\n",
       "      <td>IRI14d1b2</td>\n",
       "      <td>CNT</td>\n",
       "      <td>Connecting tubule</td>\n",
       "      <td>535</td>\n",
       "      <td>24</td>\n",
       "      <td>True</td>\n",
       "      <td>True</td>\n",
       "    </tr>\n",
       "    <tr>\n",
       "      <th>IRIsham2_GACAGAGTCAACCAAC</th>\n",
       "      <td>IRIsham2</td>\n",
       "      <td>1042.0</td>\n",
       "      <td>532</td>\n",
       "      <td>Control</td>\n",
       "      <td>2</td>\n",
       "      <td>CNT</td>\n",
       "      <td>IRIsham2</td>\n",
       "      <td>CNT</td>\n",
       "      <td>Connecting tubule</td>\n",
       "      <td>532</td>\n",
       "      <td>24</td>\n",
       "      <td>True</td>\n",
       "      <td>True</td>\n",
       "    </tr>\n",
       "    <tr>\n",
       "      <th>IRI4h3_AAGGTTCTCCAATGGT</th>\n",
       "      <td>IRI4h3</td>\n",
       "      <td>1446.0</td>\n",
       "      <td>553</td>\n",
       "      <td>4hours</td>\n",
       "      <td>3</td>\n",
       "      <td>CNT</td>\n",
       "      <td>IRI4h3</td>\n",
       "      <td>CNT</td>\n",
       "      <td>Connecting tubule</td>\n",
       "      <td>553</td>\n",
       "      <td>24</td>\n",
       "      <td>True</td>\n",
       "      <td>True</td>\n",
       "    </tr>\n",
       "    <tr>\n",
       "      <th>...</th>\n",
       "      <td>...</td>\n",
       "      <td>...</td>\n",
       "      <td>...</td>\n",
       "      <td>...</td>\n",
       "      <td>...</td>\n",
       "      <td>...</td>\n",
       "      <td>...</td>\n",
       "      <td>...</td>\n",
       "      <td>...</td>\n",
       "      <td>...</td>\n",
       "      <td>...</td>\n",
       "      <td>...</td>\n",
       "      <td>...</td>\n",
       "    </tr>\n",
       "    <tr>\n",
       "      <th>IRI6w3_ATCTGCCGTGGTGTAG</th>\n",
       "      <td>IRI6w3</td>\n",
       "      <td>1120.0</td>\n",
       "      <td>577</td>\n",
       "      <td>6weeks</td>\n",
       "      <td>3</td>\n",
       "      <td>Uro</td>\n",
       "      <td>IRI6w3</td>\n",
       "      <td>Uro</td>\n",
       "      <td>Urothelial cell</td>\n",
       "      <td>577</td>\n",
       "      <td>23</td>\n",
       "      <td>True</td>\n",
       "      <td>True</td>\n",
       "    </tr>\n",
       "    <tr>\n",
       "      <th>IRIsham1b1_CGTCTACAGACGCTTT</th>\n",
       "      <td>IRIsham1b1</td>\n",
       "      <td>1218.0</td>\n",
       "      <td>718</td>\n",
       "      <td>Control</td>\n",
       "      <td>1_1</td>\n",
       "      <td>Uro</td>\n",
       "      <td>IRIsham1b1</td>\n",
       "      <td>Uro</td>\n",
       "      <td>Urothelial cell</td>\n",
       "      <td>718</td>\n",
       "      <td>23</td>\n",
       "      <td>True</td>\n",
       "      <td>True</td>\n",
       "    </tr>\n",
       "    <tr>\n",
       "      <th>IRI2d1b1_CGTTAGAAGCTCCTTC</th>\n",
       "      <td>IRI2d1b1</td>\n",
       "      <td>1560.0</td>\n",
       "      <td>667</td>\n",
       "      <td>2days</td>\n",
       "      <td>1_1</td>\n",
       "      <td>Uro</td>\n",
       "      <td>IRI2d1b1</td>\n",
       "      <td>Uro</td>\n",
       "      <td>Urothelial cell</td>\n",
       "      <td>667</td>\n",
       "      <td>23</td>\n",
       "      <td>True</td>\n",
       "      <td>True</td>\n",
       "    </tr>\n",
       "    <tr>\n",
       "      <th>IRIsham1b2_CGCTTCATCCTTGACC</th>\n",
       "      <td>IRIsham1b2</td>\n",
       "      <td>1794.0</td>\n",
       "      <td>776</td>\n",
       "      <td>Control</td>\n",
       "      <td>1_2</td>\n",
       "      <td>Uro</td>\n",
       "      <td>IRIsham1b2</td>\n",
       "      <td>Uro</td>\n",
       "      <td>Urothelial cell</td>\n",
       "      <td>776</td>\n",
       "      <td>23</td>\n",
       "      <td>True</td>\n",
       "      <td>True</td>\n",
       "    </tr>\n",
       "    <tr>\n",
       "      <th>IRIsham1b1_AGAGTGGCATAGGATA</th>\n",
       "      <td>IRIsham1b1</td>\n",
       "      <td>1478.0</td>\n",
       "      <td>784</td>\n",
       "      <td>Control</td>\n",
       "      <td>1_1</td>\n",
       "      <td>Uro</td>\n",
       "      <td>IRIsham1b1</td>\n",
       "      <td>Uro</td>\n",
       "      <td>Urothelial cell</td>\n",
       "      <td>784</td>\n",
       "      <td>23</td>\n",
       "      <td>True</td>\n",
       "      <td>True</td>\n",
       "    </tr>\n",
       "  </tbody>\n",
       "</table>\n",
       "<p>126313 rows × 13 columns</p>\n",
       "</div>"
      ],
      "text/plain": [
       "                             orig.ident  nCount_RNA  nFeature_RNA    Group  \\\n",
       "IRI12h2_CAACTAGGTTTACTCT        IRI12h2      1428.0           532  12hours   \n",
       "IRIsham1b2_CACAGGCTCAAGGTAA  IRIsham1b2      1331.0           579  Control   \n",
       "IRI14d1b2_ATGGGAGTCTGCGGCA    IRI14d1b2      1279.0           535   14days   \n",
       "IRIsham2_GACAGAGTCAACCAAC      IRIsham2      1042.0           532  Control   \n",
       "IRI4h3_AAGGTTCTCCAATGGT          IRI4h3      1446.0           553   4hours   \n",
       "...                                 ...         ...           ...      ...   \n",
       "IRI6w3_ATCTGCCGTGGTGTAG          IRI6w3      1120.0           577   6weeks   \n",
       "IRIsham1b1_CGTCTACAGACGCTTT  IRIsham1b1      1218.0           718  Control   \n",
       "IRI2d1b1_CGTTAGAAGCTCCTTC      IRI2d1b1      1560.0           667    2days   \n",
       "IRIsham1b2_CGCTTCATCCTTGACC  IRIsham1b2      1794.0           776  Control   \n",
       "IRIsham1b1_AGAGTGGCATAGGATA  IRIsham1b1      1478.0           784  Control   \n",
       "\n",
       "                            Replicates cell_state       ident cell_type  \\\n",
       "IRI12h2_CAACTAGGTTTACTCT             2        CNT     IRI12h2       CNT   \n",
       "IRIsham1b2_CACAGGCTCAAGGTAA        1_2        CNT  IRIsham1b2       CNT   \n",
       "IRI14d1b2_ATGGGAGTCTGCGGCA         1_2        CNT   IRI14d1b2       CNT   \n",
       "IRIsham2_GACAGAGTCAACCAAC            2        CNT    IRIsham2       CNT   \n",
       "IRI4h3_AAGGTTCTCCAATGGT              3        CNT      IRI4h3       CNT   \n",
       "...                                ...        ...         ...       ...   \n",
       "IRI6w3_ATCTGCCGTGGTGTAG              3        Uro      IRI6w3       Uro   \n",
       "IRIsham1b1_CGTCTACAGACGCTTT        1_1        Uro  IRIsham1b1       Uro   \n",
       "IRI2d1b1_CGTTAGAAGCTCCTTC          1_1        Uro    IRI2d1b1       Uro   \n",
       "IRIsham1b2_CGCTTCATCCTTGACC        1_2        Uro  IRIsham1b2       Uro   \n",
       "IRIsham1b1_AGAGTGGCATAGGATA        1_1        Uro  IRIsham1b1       Uro   \n",
       "\n",
       "                                     full_name  n_genes  keep_sum  keep_min  \\\n",
       "IRI12h2_CAACTAGGTTTACTCT     Connecting tubule      532        24      True   \n",
       "IRIsham1b2_CACAGGCTCAAGGTAA  Connecting tubule      579        24      True   \n",
       "IRI14d1b2_ATGGGAGTCTGCGGCA   Connecting tubule      535        24      True   \n",
       "IRIsham2_GACAGAGTCAACCAAC    Connecting tubule      532        24      True   \n",
       "IRI4h3_AAGGTTCTCCAATGGT      Connecting tubule      553        24      True   \n",
       "...                                        ...      ...       ...       ...   \n",
       "IRI6w3_ATCTGCCGTGGTGTAG        Urothelial cell      577        23      True   \n",
       "IRIsham1b1_CGTCTACAGACGCTTT    Urothelial cell      718        23      True   \n",
       "IRI2d1b1_CGTTAGAAGCTCCTTC      Urothelial cell      667        23      True   \n",
       "IRIsham1b2_CGCTTCATCCTTGACC    Urothelial cell      776        23      True   \n",
       "IRIsham1b1_AGAGTGGCATAGGATA    Urothelial cell      784        23      True   \n",
       "\n",
       "                             keep_celltype  \n",
       "IRI12h2_CAACTAGGTTTACTCT              True  \n",
       "IRIsham1b2_CACAGGCTCAAGGTAA           True  \n",
       "IRI14d1b2_ATGGGAGTCTGCGGCA            True  \n",
       "IRIsham2_GACAGAGTCAACCAAC             True  \n",
       "IRI4h3_AAGGTTCTCCAATGGT               True  \n",
       "...                                    ...  \n",
       "IRI6w3_ATCTGCCGTGGTGTAG               True  \n",
       "IRIsham1b1_CGTCTACAGACGCTTT           True  \n",
       "IRI2d1b1_CGTTAGAAGCTCCTTC             True  \n",
       "IRIsham1b2_CGCTTCATCCTTGACC           True  \n",
       "IRIsham1b1_AGAGTGGCATAGGATA           True  \n",
       "\n",
       "[126313 rows x 13 columns]"
      ]
     },
     "execution_count": 9,
     "metadata": {},
     "output_type": "execute_result"
    }
   ],
   "source": [
    "adata.obs.sort_values(\"cell_type\")"
   ]
  },
  {
   "cell_type": "code",
   "execution_count": 10,
   "metadata": {},
   "outputs": [
    {
     "data": {
      "text/plain": [
       "PT         50159\n",
       "MTAL       13750\n",
       "CTAL        9904\n",
       "EC          9660\n",
       "PC          8407\n",
       "DCT         7500\n",
       "DTL-ATL     4924\n",
       "CNT         4578\n",
       "Fib         4350\n",
       "MO          3036\n",
       "ICA         2920\n",
       "ICB         1974\n",
       "DCT-CNT     1682\n",
       "Uro         1167\n",
       "Pod          771\n",
       "Tcell        617\n",
       "PEC          518\n",
       "Per          396\n",
       "Name: cell_type, dtype: int64"
      ]
     },
     "execution_count": 10,
     "metadata": {},
     "output_type": "execute_result"
    }
   ],
   "source": [
    "adata.obs[groupby].value_counts()"
   ]
  },
  {
   "cell_type": "code",
   "execution_count": 11,
   "metadata": {},
   "outputs": [
    {
     "data": {
      "text/plain": [
       "dict_keys(['X_name', 'cell_type_colors', 'liana_res', 'log1p', 'neighbors', 'pca', 'umap'])"
      ]
     },
     "execution_count": 11,
     "metadata": {},
     "output_type": "execute_result"
    }
   ],
   "source": [
    "adata.uns.keys()"
   ]
  },
  {
   "cell_type": "code",
   "execution_count": 12,
   "metadata": {},
   "outputs": [
    {
     "data": {
      "text/html": [
       "<div>\n",
       "<style scoped>\n",
       "    .dataframe tbody tr th:only-of-type {\n",
       "        vertical-align: middle;\n",
       "    }\n",
       "\n",
       "    .dataframe tbody tr th {\n",
       "        vertical-align: top;\n",
       "    }\n",
       "\n",
       "    .dataframe thead th {\n",
       "        text-align: right;\n",
       "    }\n",
       "</style>\n",
       "<table border=\"1\" class=\"dataframe\">\n",
       "  <thead>\n",
       "    <tr style=\"text-align: right;\">\n",
       "      <th></th>\n",
       "      <th>cell_type</th>\n",
       "      <th>full_name</th>\n",
       "    </tr>\n",
       "  </thead>\n",
       "  <tbody>\n",
       "    <tr>\n",
       "      <th>IRI4h1_AAATGCCTCAAACCAC</th>\n",
       "      <td>CNT</td>\n",
       "      <td>Connecting tubule</td>\n",
       "    </tr>\n",
       "    <tr>\n",
       "      <th>IRI4h1_AAACCTGAGATCTGCT</th>\n",
       "      <td>CTAL</td>\n",
       "      <td>Thick ascending limb of loop of Henle</td>\n",
       "    </tr>\n",
       "    <tr>\n",
       "      <th>IRI4h1_AAACCTGCACCAACCG</th>\n",
       "      <td>DCT</td>\n",
       "      <td>Distal convoluted tubule</td>\n",
       "    </tr>\n",
       "    <tr>\n",
       "      <th>IRI4h1_AAACCTGTCGTCGTTC</th>\n",
       "      <td>DCT-CNT</td>\n",
       "      <td>DCT-CNT</td>\n",
       "    </tr>\n",
       "    <tr>\n",
       "      <th>IRI4h1_AAAGCAACATCGGGTC</th>\n",
       "      <td>DTL-ATL</td>\n",
       "      <td>DTL-ATL (thin ascending limb of loop of Henle)</td>\n",
       "    </tr>\n",
       "    <tr>\n",
       "      <th>IRI4h1_AAACCTGAGTGTTAGA</th>\n",
       "      <td>EC</td>\n",
       "      <td>Epithelial cells</td>\n",
       "    </tr>\n",
       "    <tr>\n",
       "      <th>IRI4h1_ACACTGAAGAGAGCTC</th>\n",
       "      <td>EC</td>\n",
       "      <td>Epithelial cell</td>\n",
       "    </tr>\n",
       "    <tr>\n",
       "      <th>IRI4h1_AAACCTGGTAGCGCTC</th>\n",
       "      <td>Fib</td>\n",
       "      <td>Fibroblast</td>\n",
       "    </tr>\n",
       "    <tr>\n",
       "      <th>IRI4h1_AAACCTGCAGGGAGAG</th>\n",
       "      <td>ICA</td>\n",
       "      <td>Intercalated cell of collecting duct</td>\n",
       "    </tr>\n",
       "    <tr>\n",
       "      <th>IRI4h1_AAACGGGTCTGAGTGT</th>\n",
       "      <td>ICB</td>\n",
       "      <td>Type B intercalated cell</td>\n",
       "    </tr>\n",
       "    <tr>\n",
       "      <th>IRI4h1_AAACGGGAGCATGGCA</th>\n",
       "      <td>MO</td>\n",
       "      <td>Macrophages</td>\n",
       "    </tr>\n",
       "    <tr>\n",
       "      <th>IRI4h1_AAACCTGCAGCCTGTG</th>\n",
       "      <td>MTAL</td>\n",
       "      <td>medullary thick ascending limb</td>\n",
       "    </tr>\n",
       "    <tr>\n",
       "      <th>IRI4h1_AAACGGGGTGCAACGA</th>\n",
       "      <td>PC</td>\n",
       "      <td>Principal cells</td>\n",
       "    </tr>\n",
       "    <tr>\n",
       "      <th>IRI4h1_AAAGTAGCAAAGCGGT</th>\n",
       "      <td>PEC</td>\n",
       "      <td>PEC</td>\n",
       "    </tr>\n",
       "    <tr>\n",
       "      <th>IRI4h1_AAACCTGAGATTACCC</th>\n",
       "      <td>PT</td>\n",
       "      <td>Proximal tubule</td>\n",
       "    </tr>\n",
       "    <tr>\n",
       "      <th>IRI4h1_AAAGCAATCGTACCGG</th>\n",
       "      <td>Per</td>\n",
       "      <td>Pericyte</td>\n",
       "    </tr>\n",
       "    <tr>\n",
       "      <th>IRI4h1_AAGACCTTCCAGAAGG</th>\n",
       "      <td>Pod</td>\n",
       "      <td>Podocyte</td>\n",
       "    </tr>\n",
       "    <tr>\n",
       "      <th>IRI4h1_ACACCCTTCGGTCTAA</th>\n",
       "      <td>Tcell</td>\n",
       "      <td>Tcell</td>\n",
       "    </tr>\n",
       "    <tr>\n",
       "      <th>IRI4h1_AGGGATGGTCAATGTC</th>\n",
       "      <td>Uro</td>\n",
       "      <td>Urothelial cell</td>\n",
       "    </tr>\n",
       "  </tbody>\n",
       "</table>\n",
       "</div>"
      ],
      "text/plain": [
       "                        cell_type  \\\n",
       "IRI4h1_AAATGCCTCAAACCAC       CNT   \n",
       "IRI4h1_AAACCTGAGATCTGCT      CTAL   \n",
       "IRI4h1_AAACCTGCACCAACCG       DCT   \n",
       "IRI4h1_AAACCTGTCGTCGTTC   DCT-CNT   \n",
       "IRI4h1_AAAGCAACATCGGGTC   DTL-ATL   \n",
       "IRI4h1_AAACCTGAGTGTTAGA        EC   \n",
       "IRI4h1_ACACTGAAGAGAGCTC        EC   \n",
       "IRI4h1_AAACCTGGTAGCGCTC       Fib   \n",
       "IRI4h1_AAACCTGCAGGGAGAG       ICA   \n",
       "IRI4h1_AAACGGGTCTGAGTGT       ICB   \n",
       "IRI4h1_AAACGGGAGCATGGCA        MO   \n",
       "IRI4h1_AAACCTGCAGCCTGTG      MTAL   \n",
       "IRI4h1_AAACGGGGTGCAACGA        PC   \n",
       "IRI4h1_AAAGTAGCAAAGCGGT       PEC   \n",
       "IRI4h1_AAACCTGAGATTACCC        PT   \n",
       "IRI4h1_AAAGCAATCGTACCGG       Per   \n",
       "IRI4h1_AAGACCTTCCAGAAGG       Pod   \n",
       "IRI4h1_ACACCCTTCGGTCTAA     Tcell   \n",
       "IRI4h1_AGGGATGGTCAATGTC       Uro   \n",
       "\n",
       "                                                              full_name  \n",
       "IRI4h1_AAATGCCTCAAACCAC                               Connecting tubule  \n",
       "IRI4h1_AAACCTGAGATCTGCT           Thick ascending limb of loop of Henle  \n",
       "IRI4h1_AAACCTGCACCAACCG                        Distal convoluted tubule  \n",
       "IRI4h1_AAACCTGTCGTCGTTC                                         DCT-CNT  \n",
       "IRI4h1_AAAGCAACATCGGGTC  DTL-ATL (thin ascending limb of loop of Henle)  \n",
       "IRI4h1_AAACCTGAGTGTTAGA                                Epithelial cells  \n",
       "IRI4h1_ACACTGAAGAGAGCTC                                 Epithelial cell  \n",
       "IRI4h1_AAACCTGGTAGCGCTC                                      Fibroblast  \n",
       "IRI4h1_AAACCTGCAGGGAGAG            Intercalated cell of collecting duct  \n",
       "IRI4h1_AAACGGGTCTGAGTGT                        Type B intercalated cell  \n",
       "IRI4h1_AAACGGGAGCATGGCA                                     Macrophages  \n",
       "IRI4h1_AAACCTGCAGCCTGTG                  medullary thick ascending limb  \n",
       "IRI4h1_AAACGGGGTGCAACGA                                 Principal cells  \n",
       "IRI4h1_AAAGTAGCAAAGCGGT                                             PEC  \n",
       "IRI4h1_AAACCTGAGATTACCC                                 Proximal tubule  \n",
       "IRI4h1_AAAGCAATCGTACCGG                                        Pericyte  \n",
       "IRI4h1_AAGACCTTCCAGAAGG                                        Podocyte  \n",
       "IRI4h1_ACACCCTTCGGTCTAA                                           Tcell  \n",
       "IRI4h1_AGGGATGGTCAATGTC                                 Urothelial cell  "
      ]
     },
     "execution_count": 12,
     "metadata": {},
     "output_type": "execute_result"
    }
   ],
   "source": [
    "adata.obs[[groupby, 'full_name']].drop_duplicates().sort_values('cell_type')"
   ]
  },
  {
   "cell_type": "code",
   "execution_count": null,
   "metadata": {},
   "outputs": [],
   "source": []
  },
  {
   "cell_type": "code",
   "execution_count": null,
   "metadata": {},
   "outputs": [],
   "source": []
  },
  {
   "attachments": {},
   "cell_type": "markdown",
   "metadata": {},
   "source": [
    "## Run LIANA"
   ]
  },
  {
   "cell_type": "code",
   "execution_count": null,
   "metadata": {},
   "outputs": [],
   "source": [
    "li.method.rank_aggregate.by_sample(adata,\n",
    "                                   groupby=groupby,\n",
    "                                   sample_key=sample_key,\n",
    "                                   resource_name='mouseconsensus',\n",
    "                                   use_raw=False,\n",
    "                                   verbose=True,\n",
    "                                   n_perms=None,\n",
    "                                   return_all_lrs=False\n",
    "                                   )"
   ]
  },
  {
   "cell_type": "code",
   "execution_count": null,
   "metadata": {},
   "outputs": [],
   "source": []
  },
  {
   "cell_type": "code",
   "execution_count": null,
   "metadata": {},
   "outputs": [],
   "source": [
    "adata.write_h5ad(os.path.join(data_dir, \"aki_processed.h5ad\"))"
   ]
  },
  {
   "cell_type": "code",
   "execution_count": null,
   "metadata": {},
   "outputs": [],
   "source": [
    "adata.uns['liana_res']['ident'].nunique()"
   ]
  },
  {
   "cell_type": "code",
   "execution_count": null,
   "metadata": {},
   "outputs": [],
   "source": []
  },
  {
   "attachments": {},
   "cell_type": "markdown",
   "metadata": {},
   "source": [
    "## Run MOFA"
   ]
  },
  {
   "cell_type": "code",
   "execution_count": 13,
   "metadata": {},
   "outputs": [],
   "source": [
    "adata = sc.read_h5ad(os.path.join(data_dir, \"aki_processed.h5ad\"))"
   ]
  },
  {
   "cell_type": "code",
   "execution_count": 14,
   "metadata": {},
   "outputs": [],
   "source": [
    "score_key = 'magnitude_rank'"
   ]
  },
  {
   "cell_type": "code",
   "execution_count": 15,
   "metadata": {},
   "outputs": [
    {
     "name": "stderr",
     "output_type": "stream",
     "text": [
      "100%|██████████| 159/159 [00:01<00:00, 121.80it/s]\n"
     ]
    }
   ],
   "source": [
    "mdata = li.multi.lrs_to_views(adata,\n",
    "                              sample_key=sample_key,\n",
    "                              score_key=score_key,\n",
    "                              obs_keys=[condition_key], # add those to mdata.obs\n",
    "                              lr_prop = 0.25, # minimum required proportion of samples to keep an LR\n",
    "                              lrs_per_sample = 15, # minimum number of interactions to keep a sample in a specific view\n",
    "                              lrs_per_view = 25, # minimum number of interactions to keep a view\n",
    "                              samples_per_view = 5, # minimum number of samples to keep a view\n",
    "                              min_variance = 0, # minimum variance to keep an interaction\n",
    "                              lr_fill = np.nan, # fill missing LR values across samples with this\n",
    "                              verbose=True\n",
    "                              )"
   ]
  },
  {
   "cell_type": "code",
   "execution_count": null,
   "metadata": {},
   "outputs": [],
   "source": []
  },
  {
   "cell_type": "code",
   "execution_count": null,
   "metadata": {},
   "outputs": [],
   "source": []
  },
  {
   "cell_type": "code",
   "execution_count": null,
   "metadata": {},
   "outputs": [],
   "source": []
  },
  {
   "cell_type": "code",
   "execution_count": null,
   "metadata": {},
   "outputs": [],
   "source": []
  },
  {
   "cell_type": "code",
   "execution_count": null,
   "metadata": {},
   "outputs": [],
   "source": []
  },
  {
   "cell_type": "code",
   "execution_count": null,
   "metadata": {},
   "outputs": [],
   "source": []
  },
  {
   "cell_type": "code",
   "execution_count": null,
   "metadata": {},
   "outputs": [],
   "source": [
    "mu.tl.mofa(mdata,\n",
    "           use_obs='union',\n",
    "           convergence_mode='medium',\n",
    "           outfile='models/mofatalk.h5ad',\n",
    "           n_factors=5,\n",
    "           )"
   ]
  },
  {
   "cell_type": "code",
   "execution_count": null,
   "metadata": {},
   "outputs": [],
   "source": [
    "# obtain factor scores\n",
    "factor_scores = li.multi.get_factor_scores(mdata, obsm_key='X_mofa')\n",
    "# re-order Groups\n",
    "factor_scores['Group'] = factor_scores['Group'].astype('category')\n",
    "factor_scores['Group'] = factor_scores['Group'].cat.reorder_categories(['Control', '4hours','12hours',  '2days', '14days', '6weeks'])\n",
    "factor_scores.head()"
   ]
  },
  {
   "cell_type": "code",
   "execution_count": null,
   "metadata": {},
   "outputs": [],
   "source": []
  },
  {
   "attachments": {},
   "cell_type": "markdown",
   "metadata": {},
   "source": [
    "UMAP"
   ]
  },
  {
   "cell_type": "code",
   "execution_count": null,
   "metadata": {},
   "outputs": [],
   "source": [
    "sc.pp.neighbors(mdata, use_rep=\"X_mofa\")\n",
    "sc.tl.umap(mdata)\n",
    "\n",
    "sc.tl.umap(mdata, min_dist=.2, spread=1., random_state=10)"
   ]
  },
  {
   "cell_type": "code",
   "execution_count": null,
   "metadata": {},
   "outputs": [],
   "source": [
    "sc.pl.umap(mdata, color=\"Group\", size=150)"
   ]
  },
  {
   "cell_type": "code",
   "execution_count": null,
   "metadata": {},
   "outputs": [],
   "source": []
  },
  {
   "cell_type": "code",
   "execution_count": null,
   "metadata": {},
   "outputs": [],
   "source": [
    "# Kruskal Wallis test\n",
    "from scipy.stats import kruskal"
   ]
  },
  {
   "cell_type": "code",
   "execution_count": null,
   "metadata": {},
   "outputs": [],
   "source": [
    "# Extract the values for each group\n",
    "groups = []\n",
    "for group_name, group_data in factor_scores.groupby('Group'):\n",
    "    groups.append(group_data['Factor1'].values)\n",
    "\n",
    "# Perform the Kruskal-Wallis test\n",
    "statistic, p_value = kruskal(*groups)\n",
    "\n",
    "# Print the test results\n",
    "print(\"Kruskal-Wallis Test\")\n",
    "print(\"Statistic:\", statistic)\n",
    "print(\"P-value:\", p_value)"
   ]
  },
  {
   "cell_type": "code",
   "execution_count": null,
   "metadata": {},
   "outputs": [],
   "source": []
  },
  {
   "cell_type": "code",
   "execution_count": null,
   "metadata": {},
   "outputs": [],
   "source": [
    "# scatterplot\n",
    "(p9.ggplot(factor_scores) +\n",
    " p9.aes(x='Group', colour='Group', y='Factor1') +\n",
    " p9.geom_boxplot() +\n",
    " p9.geom_jitter(size=2, width=0.3) +\n",
    " p9.theme_bw(base_size=24) +\n",
    " p9.theme(figure_size=(6, 6)) + \n",
    " p9.labs(x='Group', y='Factor 1') +\n",
    " # rotate x-axis labels\n",
    " p9.theme(axis_text_x=p9.element_text(angle=90, hjust=1)) +\n",
    " # Dark2 set \n",
    " p9.scale_color_brewer(type='qual', palette='Dark2') +\n",
    " # add p-value to top-right\n",
    " p9.annotate('text', x=4.3, y=0.25, label=f'KW P-value < {np.ceil(p_value * 100) / 100}', size=24)\n",
    " \n",
    " )"
   ]
  },
  {
   "cell_type": "code",
   "execution_count": null,
   "metadata": {},
   "outputs": [],
   "source": []
  },
  {
   "attachments": {},
   "cell_type": "markdown",
   "metadata": {},
   "source": [
    "Plot R-sq"
   ]
  },
  {
   "cell_type": "code",
   "execution_count": null,
   "metadata": {},
   "outputs": [],
   "source": [
    "model = mofa.mofa_model(\"models/mofatalk.h5ad\")\n",
    "model"
   ]
  },
  {
   "cell_type": "code",
   "execution_count": null,
   "metadata": {},
   "outputs": [],
   "source": [
    "# get variance explained by view and factor\n",
    "rsq = model.get_r2()\n",
    "factor1_rsq = rsq[rsq['Factor']=='Factor1']\n",
    "# separate view column\n",
    "factor1_rsq[['source', 'target']] = factor1_rsq['View'].str.split('&', 1, expand=True)\n",
    "\n",
    "(p9.ggplot(factor1_rsq.reset_index()) +\n",
    " p9.aes(x='target', y='source') +\n",
    " p9.geom_tile(p9.aes(fill='R2')) +\n",
    " p9.scale_fill_gradient2(low='white', high='#c20019') +\n",
    " p9.theme_bw(base_size=24) +\n",
    " # rotate X axis\n",
    " p9.theme(axis_text_x=p9.element_text(angle=90), figure_size=(6, 6)) +\n",
    " p9.labs(x='Target', y='Source', fill='  R²')\n",
    " )"
   ]
  },
  {
   "cell_type": "code",
   "execution_count": null,
   "metadata": {},
   "outputs": [],
   "source": [
    "sources = np.unique(factor1_rsq.sort_values(\"R2\", ascending=False)['source'].head(10).values)\n",
    "sources"
   ]
  },
  {
   "cell_type": "code",
   "execution_count": null,
   "metadata": {},
   "outputs": [],
   "source": [
    "targets = np.unique(factor1_rsq.sort_values(\"R2\", ascending=False)['target'].head(10).values)\n",
    "targets"
   ]
  },
  {
   "cell_type": "code",
   "execution_count": null,
   "metadata": {},
   "outputs": [],
   "source": []
  },
  {
   "attachments": {},
   "cell_type": "markdown",
   "metadata": {},
   "source": [
    "Average R2 per source & target"
   ]
  },
  {
   "cell_type": "code",
   "execution_count": null,
   "metadata": {},
   "outputs": [],
   "source": [
    "# mean R2 and std for factor1\n",
    "factor1_rsq.groupby('target').agg({'R2': ['mean', 'std']}).sort_values(('R2', 'mean'), ascending=False).head(10)"
   ]
  },
  {
   "cell_type": "code",
   "execution_count": null,
   "metadata": {},
   "outputs": [],
   "source": [
    "# mean R2 and std for factor1\n",
    "factor1_rsq.groupby('source').agg({'R2': ['mean', 'std']}).sort_values(('R2', 'mean'), ascending=False).head(10)"
   ]
  },
  {
   "cell_type": "code",
   "execution_count": null,
   "metadata": {},
   "outputs": [],
   "source": [
    "factor1_rsq['R2'].mean()"
   ]
  },
  {
   "cell_type": "code",
   "execution_count": null,
   "metadata": {},
   "outputs": [],
   "source": []
  },
  {
   "cell_type": "code",
   "execution_count": null,
   "metadata": {},
   "outputs": [],
   "source": [
    "factor1_rsq.sort_values(\"R2\", ascending=False).head(10)"
   ]
  },
  {
   "cell_type": "code",
   "execution_count": null,
   "metadata": {},
   "outputs": [],
   "source": []
  },
  {
   "cell_type": "code",
   "execution_count": null,
   "metadata": {},
   "outputs": [],
   "source": [
    "adata.obs[[groupby, \"full_name\"]].drop_duplicates()"
   ]
  },
  {
   "cell_type": "code",
   "execution_count": null,
   "metadata": {},
   "outputs": [],
   "source": []
  },
  {
   "attachments": {},
   "cell_type": "markdown",
   "metadata": {},
   "source": []
  },
  {
   "cell_type": "code",
   "execution_count": null,
   "metadata": {},
   "outputs": [],
   "source": [
    "variable_loadings =  li.multi.get_variable_loadings(mdata,\n",
    "                                                    view_separator=':',\n",
    "                                                    pair_separator=\"&\",\n",
    "                                                    variable_separator=\"^\") # get loadings for factor 1\n",
    "variable_loadings.head()\n",
    "variable_loadings['size'] = 3"
   ]
  },
  {
   "cell_type": "code",
   "execution_count": null,
   "metadata": {},
   "outputs": [],
   "source": [
    "# convert to abs to order\n",
    "variable_loadings['abs_F1'] = np.abs(variable_loadings['Factor1'])"
   ]
  },
  {
   "cell_type": "code",
   "execution_count": null,
   "metadata": {},
   "outputs": [],
   "source": [
    "variable_loadings"
   ]
  },
  {
   "cell_type": "code",
   "execution_count": null,
   "metadata": {},
   "outputs": [],
   "source": []
  },
  {
   "cell_type": "code",
   "execution_count": null,
   "metadata": {},
   "outputs": [],
   "source": [
    "my_plot = li.pl.dotplot(liana_res = variable_loadings,\n",
    "                        size='size',\n",
    "                        colour='Factor1',\n",
    "                        orderby='abs_F1',\n",
    "                        top_n=10,\n",
    "                        source_labels=sources,\n",
    "                        target_labels=targets,\n",
    "                        orderby_ascending=False,\n",
    "                        size_range=(0.1, 5),\n",
    "                        figure_size=(6, 8)\n",
    "                        )\n",
    "# change colour, with mid as white\n",
    "(my_plot + \n",
    " p9.scale_color_gradient2(low='#1f77b4', mid='lightgray', high='#c20019') + \n",
    " p9.theme_bw(base_size=16) +\n",
    " p9.theme(figure_size=(8, 5)) +\n",
    "p9.theme(axis_text_x=p9.element_text(angle=90)) +\n",
    " # remove size from legend\n",
    " p9.guides(size=False)\n",
    ")"
   ]
  },
  {
   "cell_type": "code",
   "execution_count": null,
   "metadata": {},
   "outputs": [],
   "source": []
  },
  {
   "cell_type": "code",
   "execution_count": null,
   "metadata": {},
   "outputs": [],
   "source": []
  },
  {
   "attachments": {},
   "cell_type": "markdown",
   "metadata": {},
   "source": [
    "Pathway enrichment"
   ]
  },
  {
   "cell_type": "code",
   "execution_count": null,
   "metadata": {},
   "outputs": [],
   "source": [
    "lr_loadings =  li.multi.get_variable_loadings(mdata,\n",
    "                                              view_separator=':',\n",
    "                                              )\n",
    "lr_loadings.set_index('variable', inplace=True)"
   ]
  },
  {
   "cell_type": "code",
   "execution_count": null,
   "metadata": {},
   "outputs": [],
   "source": [
    "lr_loadings.to_csv(os.path.join(data_dir, 'lr_loadings.csv'))"
   ]
  },
  {
   "cell_type": "code",
   "execution_count": null,
   "metadata": {},
   "outputs": [],
   "source": [
    "# load PROGENy pathways\n",
    "net = dc.get_progeny(organism='Mus musculus', top=5000)\n",
    "# load full list of ligand-receptor pairs\n",
    "lr_pairs = li.resource.select_resource('mouseconsensus')\n",
    "\n",
    "# generate ligand-receptor geneset\n",
    "lr_progeny = li.fun.generate_lr_geneset(lr_pairs, net, lr_separator=\"^\")\n",
    "lr_progeny.head()"
   ]
  },
  {
   "cell_type": "code",
   "execution_count": null,
   "metadata": {},
   "outputs": [],
   "source": []
  },
  {
   "cell_type": "code",
   "execution_count": null,
   "metadata": {},
   "outputs": [],
   "source": [
    "# NOTE: should instead do enrichment for each view separately?\n",
    "# here, I'm inflating the number of targets per pathway, e.g. it could be that a line is fit between 2 interactions...\n",
    "\n",
    "# pivot views to wide\n",
    "lr_loadings = lr_loadings.pivot(columns='view', values='Factor1')\n"
   ]
  },
  {
   "cell_type": "code",
   "execution_count": null,
   "metadata": {},
   "outputs": [],
   "source": [
    "# replace NaN with 0\n",
    "lr_loadings.replace(np.nan, 0, inplace=True)"
   ]
  },
  {
   "cell_type": "code",
   "execution_count": null,
   "metadata": {},
   "outputs": [],
   "source": []
  },
  {
   "cell_type": "code",
   "execution_count": null,
   "metadata": {},
   "outputs": [],
   "source": [
    "lr_loadings.reset_index(inplace=True)"
   ]
  },
  {
   "cell_type": "code",
   "execution_count": null,
   "metadata": {},
   "outputs": [],
   "source": []
  },
  {
   "cell_type": "code",
   "execution_count": null,
   "metadata": {},
   "outputs": [],
   "source": [
    "lr_loadings['view'].unique()"
   ]
  },
  {
   "cell_type": "code",
   "execution_count": null,
   "metadata": {},
   "outputs": [],
   "source": [
    "view_enrichments = {}"
   ]
  },
  {
   "cell_type": "code",
   "execution_count": null,
   "metadata": {},
   "outputs": [],
   "source": [
    "for view in lr_loadings['view'].unique():\n",
    "    mat = lr_loadings.loc[lr_loadings['view']==view, ['variable','Factor1']].set_index(\"variable\").transpose()\n",
    "    try:\n",
    "        \n",
    "        estimate, _ = dc.run_ulm(mat, lr_progeny,\n",
    "                   source=\"source\", target=\"interaction\",\n",
    "                   use_raw=False, min_n=5)\n",
    "        view_enrichments[view] = estimate\n",
    "    except:\n",
    "        print(\"Not enough interactions:\", view)\n",
    "        continue\n"
   ]
  },
  {
   "cell_type": "code",
   "execution_count": null,
   "metadata": {},
   "outputs": [],
   "source": []
  },
  {
   "cell_type": "code",
   "execution_count": null,
   "metadata": {},
   "outputs": [],
   "source": [
    "# run pathway enrichment analysis\n",
    "estimate, pvals =  dc.run_ulm(lr_loadings.transpose(), lr_progeny,\n",
    "                              source=\"source\", target=\"interaction\",\n",
    "                              use_raw=False, min_n=5)\n",
    "# pivot columns to long\n",
    "estimate = (estimate.\n",
    "            melt(ignore_index=False, value_name='estimate', var_name='pathway').\n",
    "            reset_index().\n",
    "            rename(columns={'index':'view'})\n",
    "            )\n"
   ]
  },
  {
   "cell_type": "code",
   "execution_count": null,
   "metadata": {},
   "outputs": [],
   "source": [
    "# estimate[['source', 'target']] = estimate['view'].str.split('&', 1, expand=True)\n",
    "# # source in sources, and target in targets\n",
    "# estimate = estimate[(estimate['source'].isin(sources)) & (estimate['target'].isin(targets))]"
   ]
  },
  {
   "cell_type": "code",
   "execution_count": null,
   "metadata": {},
   "outputs": [],
   "source": [
    "estimate.loc[estimate['estimate'] > 5, \"estimate\"]=5 \n",
    "estimate.loc[estimate['estimate'] < -5, \"estimate\"]=-5"
   ]
  },
  {
   "cell_type": "code",
   "execution_count": null,
   "metadata": {},
   "outputs": [],
   "source": [
    "## p9 tile plot\n",
    "(p9.ggplot(estimate) +\n",
    " p9.aes(x='pathway', y='view') +\n",
    " p9.geom_tile(p9.aes(fill='estimate')) +\n",
    " p9.scale_fill_gradient2(low='#1f77b4', high='#c20019') +\n",
    " p9.theme_bw(base_size=14) +\n",
    " p9.theme(figure_size=(10, 20))\n",
    " # max fill value = 5\n",
    ")\n"
   ]
  },
  {
   "cell_type": "code",
   "execution_count": null,
   "metadata": {},
   "outputs": [],
   "source": []
  },
  {
   "attachments": {},
   "cell_type": "markdown",
   "metadata": {},
   "source": [
    "Explore loadings x PROGENy, for a specific view"
   ]
  },
  {
   "cell_type": "code",
   "execution_count": null,
   "metadata": {},
   "outputs": [],
   "source": [
    "factor1_rsq.sort_values(\"R2\", ascending=False).head(10)"
   ]
  },
  {
   "cell_type": "code",
   "execution_count": null,
   "metadata": {},
   "outputs": [],
   "source": [
    "# pivot to long\n",
    "lr_loadings = lr_loadings.melt(ignore_index=False, value_name='loading', var_name='view').reset_index()"
   ]
  },
  {
   "cell_type": "code",
   "execution_count": null,
   "metadata": {},
   "outputs": [],
   "source": [
    "lr_loadings.rename(columns={'variable':'interaction'}, inplace=True)"
   ]
  },
  {
   "cell_type": "code",
   "execution_count": null,
   "metadata": {},
   "outputs": [],
   "source": [
    "lr_loadings"
   ]
  },
  {
   "cell_type": "code",
   "execution_count": null,
   "metadata": {},
   "outputs": [],
   "source": [
    "lr_loadings = lr_loadings.merge(lr_progeny.rename(columns={\"source\":\"pathway\"}), left_on='interaction', right_on='interaction', how='left').dropna()"
   ]
  },
  {
   "cell_type": "code",
   "execution_count": null,
   "metadata": {},
   "outputs": [],
   "source": [
    "lr_loadings['sign'] = lr_loadings['weight'].apply(lambda x: 'positive' if x > 0 else 'negative')"
   ]
  },
  {
   "cell_type": "code",
   "execution_count": null,
   "metadata": {},
   "outputs": [],
   "source": [
    "lr_loadings['relevant_interactions'] = lr_loadings.apply(lambda x: x['interaction'] if (np.abs(x['loading']) > 0) and (np.abs(x['weight']) >= 0.5) else None, axis=1)"
   ]
  },
  {
   "cell_type": "code",
   "execution_count": null,
   "metadata": {},
   "outputs": [],
   "source": [
    "### plot fibpod, weight on x, estimate on y"
   ]
  },
  {
   "cell_type": "code",
   "execution_count": null,
   "metadata": {},
   "outputs": [],
   "source": [
    "selected_pathway = 'NFkB'\n",
    "selected_view = 'Fib&PT'\n"
   ]
  },
  {
   "cell_type": "code",
   "execution_count": null,
   "metadata": {},
   "outputs": [],
   "source": [
    "data = lr_loadings[(lr_loadings['pathway']==selected_pathway) & (lr_loadings['view']==selected_view)].copy()"
   ]
  },
  {
   "cell_type": "code",
   "execution_count": null,
   "metadata": {},
   "outputs": [],
   "source": [
    "data.sort_values('relevant_interactions', ascending=False)"
   ]
  },
  {
   "cell_type": "code",
   "execution_count": null,
   "metadata": {},
   "outputs": [],
   "source": [
    "estimate[estimate['view']==selected_view]"
   ]
  },
  {
   "cell_type": "code",
   "execution_count": null,
   "metadata": {},
   "outputs": [],
   "source": [
    "\n",
    "(\n",
    "    p9.ggplot(data) +\n",
    "    p9.aes(x='weight', y='loading') +\n",
    "    p9.geom_point(p9.aes( colour='sign')) +\n",
    "    p9.theme(legend_position='none') +\n",
    "    p9.labs(title=\"{} | {}\".format(selected_pathway, selected_view), x=\"PROGENy Weights\", y=\"Loadings\") +\n",
    "    p9.geom_smooth(method='lm') +\n",
    "    p9.theme_bw(base_size=14) +\n",
    "    p9.scale_colour_manual(values=[\"royalblue\", \"red\"]) +\n",
    "    p9.geom_label(p9.aes(label='relevant_interactions'), size=10, nudge_y=0.01, nudge_x=0.01) +\n",
    "    # p9.xlim(-2, 6.5) +\n",
    "    p9.guides(colour=False)\n",
    "    \n",
    ")"
   ]
  },
  {
   "cell_type": "code",
   "execution_count": null,
   "metadata": {},
   "outputs": [],
   "source": []
  },
  {
   "cell_type": "code",
   "execution_count": null,
   "metadata": {},
   "outputs": [],
   "source": [
    "estimate.sort_values(\"estimate\")"
   ]
  },
  {
   "cell_type": "code",
   "execution_count": null,
   "metadata": {},
   "outputs": [],
   "source": []
  },
  {
   "cell_type": "code",
   "execution_count": null,
   "metadata": {},
   "outputs": [],
   "source": []
  },
  {
   "cell_type": "code",
   "execution_count": null,
   "metadata": {},
   "outputs": [],
   "source": []
  },
  {
   "attachments": {},
   "cell_type": "markdown",
   "metadata": {},
   "source": [
    "MSigDB"
   ]
  },
  {
   "cell_type": "code",
   "execution_count": null,
   "metadata": {},
   "outputs": [],
   "source": [
    "msigdb = dc.get_resource('MSigDB')\n",
    "# Filter by hallmark\n",
    "msigdb = msigdb[msigdb['collection']=='hallmark']\n",
    "\n",
    "# Remove duplicated entries\n",
    "msigdb = msigdb[~msigdb.duplicated(['geneset', 'genesymbol'])]\n",
    "\n",
    "# Rename\n",
    "msigdb.loc[:, 'geneset'] = [name.split('HALLMARK_')[1] for name in msigdb['geneset']]"
   ]
  },
  {
   "cell_type": "code",
   "execution_count": null,
   "metadata": {},
   "outputs": [],
   "source": [
    "msigdb = dc.translate_net(msigdb, 'genesymbol')"
   ]
  },
  {
   "cell_type": "code",
   "execution_count": null,
   "metadata": {},
   "outputs": [],
   "source": [
    "msigdb.head()"
   ]
  },
  {
   "cell_type": "code",
   "execution_count": null,
   "metadata": {},
   "outputs": [],
   "source": []
  },
  {
   "cell_type": "code",
   "execution_count": null,
   "metadata": {},
   "outputs": [],
   "source": [
    "# generate ligand-receptor geneset\n",
    "lr_msigdb = li.fun.generate_lr_geneset(lr_pairs, msigdb, lr_separator=\"^\", weight=None, source='geneset', target='genesymbol')\n",
    "lr_msigdb.head()"
   ]
  },
  {
   "cell_type": "code",
   "execution_count": null,
   "metadata": {},
   "outputs": [],
   "source": []
  },
  {
   "cell_type": "code",
   "execution_count": null,
   "metadata": {},
   "outputs": [],
   "source": []
  },
  {
   "cell_type": "code",
   "execution_count": null,
   "metadata": {},
   "outputs": [],
   "source": []
  },
  {
   "cell_type": "code",
   "execution_count": null,
   "metadata": {},
   "outputs": [],
   "source": []
  },
  {
   "cell_type": "code",
   "execution_count": null,
   "metadata": {},
   "outputs": [],
   "source": [
    "# run pathway enrichment analysis\n",
    "estimate, pvals =  dc.run_ulm(lr_loadings.transpose(), lr_msigdb,\n",
    "                              source=\"geneset\", target=\"interaction\",\n",
    "                              use_raw=False, min_n=5)\n",
    "# pivot columns to long\n",
    "estimate = (estimate.\n",
    "            melt(ignore_index=False, value_name='estimate', var_name='pathway').\n",
    "            reset_index().\n",
    "            rename(columns={'index':'view'})\n",
    "            )"
   ]
  },
  {
   "cell_type": "code",
   "execution_count": null,
   "metadata": {},
   "outputs": [],
   "source": [
    "## p9 tile plot\n",
    "(p9.ggplot(estimate) +\n",
    " p9.aes(x='pathway', y='view') +\n",
    " p9.geom_tile(p9.aes(fill='estimate')) +\n",
    " p9.scale_fill_gradient2(low='#1f77b4', high='#c20019') +\n",
    " p9.theme_bw(base_size=14) +\n",
    " p9.theme(figure_size=(10, 20))\n",
    ")\n"
   ]
  },
  {
   "cell_type": "code",
   "execution_count": null,
   "metadata": {},
   "outputs": [],
   "source": []
  },
  {
   "cell_type": "code",
   "execution_count": null,
   "metadata": {},
   "outputs": [],
   "source": []
  },
  {
   "cell_type": "code",
   "execution_count": null,
   "metadata": {},
   "outputs": [],
   "source": [
    "model.close()"
   ]
  },
  {
   "cell_type": "code",
   "execution_count": null,
   "metadata": {},
   "outputs": [],
   "source": []
  }
 ],
 "metadata": {
  "kernelspec": {
   "display_name": "spiana",
   "language": "python",
   "name": "spiana"
  },
  "language_info": {
   "codemirror_mode": {
    "name": "ipython",
    "version": 3
   },
   "file_extension": ".py",
   "mimetype": "text/x-python",
   "name": "python",
   "nbconvert_exporter": "python",
   "pygments_lexer": "ipython3",
   "version": "3.10.10"
  },
  "orig_nbformat": 4,
  "vscode": {
   "interpreter": {
    "hash": "f9f85f796d01129d0dd105a088854619f454435301f6ffec2fea96ecbd9be4ac"
   }
  }
 },
 "nbformat": 4,
 "nbformat_minor": 2
}
