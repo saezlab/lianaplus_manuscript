{
 "cells": [
  {
   "cell_type": "markdown",
   "metadata": {},
   "source": [
    "# Process Full Dataset"
   ]
  },
  {
   "cell_type": "code",
   "execution_count": 1,
   "metadata": {},
   "outputs": [
    {
     "name": "stderr",
     "output_type": "stream",
     "text": [
      "/home/dbdimitrov/.local/lib/python3.10/site-packages/tqdm/auto.py:21: TqdmWarning: IProgress not found. Please update jupyter and ipywidgets. See https://ipywidgets.readthedocs.io/en/stable/user_install.html\n"
     ]
    }
   ],
   "source": [
    "import os\n",
    "import sys\n",
    "import numpy as np\n",
    "import pandas as pd\n",
    "\n",
    "import scanpy as sc\n",
    "import liana as li\n",
    "\n",
    "sys.path.insert(0, os.path.abspath(os.path.join(os.path.dirname('.'), '..')))\n",
    "sys.path.insert(0, os.path.abspath(os.path.join(os.path.dirname('.'), '..', 'classification')))\n",
    "from classification.processer import DatasetHandler\n",
    "from classification.prep_utils import filter_samples\n"
   ]
  },
  {
   "cell_type": "code",
   "execution_count": 2,
   "metadata": {},
   "outputs": [],
   "source": [
    "# Dataset params\n",
    "dataset_name = 'kuppe'\n",
    "ds = DatasetHandler('kuppe')\n",
    "dataset_info = ds.dataset_params['kuppe']\n",
    "defaults = ds.dataset_params['defaults']\n",
    "\n",
    "groupby = 'cell_type_original' # NOTE: the same cell types but readable\n",
    "sample_key = dataset_info.get('sample_key', defaults['sample_key'])\n",
    "condition_key = dataset_info.get('condition_key', defaults['condition_key'])\n",
    "min_cells_per_sample = dataset_info.get('min_cells_per_sample', defaults['min_cells_per_sample'])\n",
    "sample_zcounts_max = dataset_info.get('sample_zcounts_max', defaults['sample_zcounts_max'])\n",
    "sample_zcounts_min = dataset_info.get('sample_zcounts_min', defaults['sample_zcounts_min'])\n",
    "min_cells = dataset_info.get('min_cells', defaults['min_cells'])\n",
    "min_samples = dataset_info.get('min_samples', defaults['min_samples'])\n",
    "use_raw = dataset_info.get('use_raw', defaults['use_raw'])\n",
    "change_var_to = dataset_info.get('change_var_to', defaults['change_var_to'])\n",
    "conditions_to_keep = dataset_info.get('conditions_to_keep', defaults['conditions_to_keep'])\n",
    "n_factors = dataset_info.get('n_factors', defaults['n_factors'])"
   ]
  },
  {
   "cell_type": "code",
   "execution_count": null,
   "metadata": {},
   "outputs": [],
   "source": []
  },
  {
   "cell_type": "code",
   "execution_count": 3,
   "metadata": {},
   "outputs": [],
   "source": [
    "resource = pd.read_csv(os.path.join('results', 'lr_pairs.csv'))\n",
    "cell_pairs = pd.read_csv(os.path.join('results', 'cell_pairs.csv'))"
   ]
  },
  {
   "cell_type": "code",
   "execution_count": null,
   "metadata": {},
   "outputs": [],
   "source": []
  },
  {
   "cell_type": "markdown",
   "metadata": {},
   "source": [
    "Filter"
   ]
  },
  {
   "cell_type": "code",
   "execution_count": 4,
   "metadata": {},
   "outputs": [
    {
     "name": "stdout",
     "output_type": "stream",
     "text": [
      "               sample\n",
      "patient_group        \n",
      "fibrotic            5\n",
      "ischemic           10\n",
      "myogenic           13\n"
     ]
    }
   ],
   "source": [
    "adata = sc.read_h5ad(os.path.join('..' ,'classification', 'data', 'kuppe.h5ad'), backed='r')\n",
    "adata.obs[[condition_key, sample_key]].drop_duplicates().groupby(condition_key).count()\n",
    "# remap\n",
    "remap = {'vSMCs':'Vascular_SMCs'}\n",
    "adata.obs[groupby].replace(remap, inplace=True)\n",
    "adata.obs[groupby]\n",
    "# # keep only targets of interest\n",
    "# msk = adata.obs[groupby].isin(interactions['target'])\n",
    "# adata = adata[msk, :]\n",
    "adata = adata.to_memory().raw.to_adata()\n",
    "adata = filter_samples(adata,\n",
    "                        sample_key = sample_key,\n",
    "                        condition_key = condition_key,\n",
    "                        min_cells_per_sample= min_cells_per_sample,\n",
    "                        sample_zcounts_max = sample_zcounts_max,\n",
    "                        sample_zcounts_min = sample_zcounts_min)\n"
   ]
  },
  {
   "cell_type": "code",
   "execution_count": 5,
   "metadata": {},
   "outputs": [
    {
     "name": "stderr",
     "output_type": "stream",
     "text": [
      "/home/dbdimitrov/.local/lib/python3.10/site-packages/scanpy/preprocessing/_simple.py:250: ImplicitModificationWarning: Trying to modify attribute `.var` of view, initializing view as actual.\n"
     ]
    }
   ],
   "source": [
    "sc.pp.filter_genes(adata, min_cells=min_cells)\n",
    "adata.var.index = adata.var[change_var_to]\n",
    "adata.layers['counts'] = adata.X.copy()\n",
    "# Normalize\n",
    "sc.pp.normalize_total(adata, target_sum=1e4)\n",
    "sc.pp.log1p(adata)"
   ]
  },
  {
   "cell_type": "markdown",
   "metadata": {},
   "source": [
    "LIANA"
   ]
  },
  {
   "cell_type": "code",
   "execution_count": 6,
   "metadata": {},
   "outputs": [
    {
     "name": "stderr",
     "output_type": "stream",
     "text": [
      "Now running: CK158:   0%|          | 0/28 [00:00<?, ?it/s]/home/dbdimitrov/miniconda3/envs/spiana/lib/python3.10/site-packages/anndata/_core/anndata.py:121: ImplicitModificationWarning: Transforming to str index.\n",
      "/home/dbdimitrov/miniconda3/envs/spiana/lib/python3.10/site-packages/liana/method/_pipe_utils/_pre.py:148: ImplicitModificationWarning: Trying to modify attribute `.obs` of view, initializing view as actual.\n",
      "Now running: CK159:   4%|▎         | 1/28 [00:06<03:01,  6.72s/it]/home/dbdimitrov/miniconda3/envs/spiana/lib/python3.10/site-packages/anndata/_core/anndata.py:121: ImplicitModificationWarning: Transforming to str index.\n",
      "/home/dbdimitrov/miniconda3/envs/spiana/lib/python3.10/site-packages/liana/method/_pipe_utils/_pre.py:148: ImplicitModificationWarning: Trying to modify attribute `.obs` of view, initializing view as actual.\n",
      "Now running: CK160:   7%|▋         | 2/28 [00:11<02:23,  5.51s/it]/home/dbdimitrov/miniconda3/envs/spiana/lib/python3.10/site-packages/anndata/_core/anndata.py:121: ImplicitModificationWarning: Transforming to str index.\n",
      "/home/dbdimitrov/miniconda3/envs/spiana/lib/python3.10/site-packages/liana/method/_pipe_utils/_pre.py:148: ImplicitModificationWarning: Trying to modify attribute `.obs` of view, initializing view as actual.\n",
      "Now running: CK162:  11%|█         | 3/28 [00:17<02:24,  5.79s/it]/home/dbdimitrov/miniconda3/envs/spiana/lib/python3.10/site-packages/anndata/_core/anndata.py:121: ImplicitModificationWarning: Transforming to str index.\n",
      "/home/dbdimitrov/miniconda3/envs/spiana/lib/python3.10/site-packages/liana/method/_pipe_utils/_pre.py:148: ImplicitModificationWarning: Trying to modify attribute `.obs` of view, initializing view as actual.\n",
      "Now running: CK163:  14%|█▍        | 4/28 [00:21<01:58,  4.93s/it]/home/dbdimitrov/miniconda3/envs/spiana/lib/python3.10/site-packages/anndata/_core/anndata.py:121: ImplicitModificationWarning: Transforming to str index.\n",
      "/home/dbdimitrov/miniconda3/envs/spiana/lib/python3.10/site-packages/liana/method/_pipe_utils/_pre.py:148: ImplicitModificationWarning: Trying to modify attribute `.obs` of view, initializing view as actual.\n",
      "Now running: CK164:  18%|█▊        | 5/28 [00:26<01:57,  5.13s/it]/home/dbdimitrov/miniconda3/envs/spiana/lib/python3.10/site-packages/anndata/_core/anndata.py:121: ImplicitModificationWarning: Transforming to str index.\n",
      "/home/dbdimitrov/miniconda3/envs/spiana/lib/python3.10/site-packages/liana/method/_pipe_utils/_pre.py:148: ImplicitModificationWarning: Trying to modify attribute `.obs` of view, initializing view as actual.\n",
      "Now running: CK165:  21%|██▏       | 6/28 [00:33<02:07,  5.82s/it]/home/dbdimitrov/miniconda3/envs/spiana/lib/python3.10/site-packages/anndata/_core/anndata.py:121: ImplicitModificationWarning: Transforming to str index.\n",
      "/home/dbdimitrov/miniconda3/envs/spiana/lib/python3.10/site-packages/liana/method/_pipe_utils/_pre.py:148: ImplicitModificationWarning: Trying to modify attribute `.obs` of view, initializing view as actual.\n",
      "Now running: CK356:  25%|██▌       | 7/28 [00:37<01:50,  5.25s/it]/home/dbdimitrov/miniconda3/envs/spiana/lib/python3.10/site-packages/anndata/_core/anndata.py:121: ImplicitModificationWarning: Transforming to str index.\n",
      "/home/dbdimitrov/miniconda3/envs/spiana/lib/python3.10/site-packages/liana/method/_pipe_utils/_pre.py:148: ImplicitModificationWarning: Trying to modify attribute `.obs` of view, initializing view as actual.\n",
      "Now running: CK357:  29%|██▊       | 8/28 [00:44<01:51,  5.55s/it]/home/dbdimitrov/miniconda3/envs/spiana/lib/python3.10/site-packages/anndata/_core/anndata.py:121: ImplicitModificationWarning: Transforming to str index.\n",
      "/home/dbdimitrov/miniconda3/envs/spiana/lib/python3.10/site-packages/liana/method/_pipe_utils/_pre.py:148: ImplicitModificationWarning: Trying to modify attribute `.obs` of view, initializing view as actual.\n",
      "Now running: CK358:  32%|███▏      | 9/28 [00:49<01:47,  5.64s/it]/home/dbdimitrov/miniconda3/envs/spiana/lib/python3.10/site-packages/anndata/_core/anndata.py:121: ImplicitModificationWarning: Transforming to str index.\n",
      "/home/dbdimitrov/miniconda3/envs/spiana/lib/python3.10/site-packages/liana/method/_pipe_utils/_pre.py:148: ImplicitModificationWarning: Trying to modify attribute `.obs` of view, initializing view as actual.\n",
      "Now running: CK359:  36%|███▌      | 10/28 [00:56<01:48,  6.04s/it]/home/dbdimitrov/miniconda3/envs/spiana/lib/python3.10/site-packages/anndata/_core/anndata.py:121: ImplicitModificationWarning: Transforming to str index.\n",
      "/home/dbdimitrov/miniconda3/envs/spiana/lib/python3.10/site-packages/liana/method/_pipe_utils/_pre.py:148: ImplicitModificationWarning: Trying to modify attribute `.obs` of view, initializing view as actual.\n",
      "Now running: CK360:  39%|███▉      | 11/28 [01:02<01:41,  5.96s/it]/home/dbdimitrov/miniconda3/envs/spiana/lib/python3.10/site-packages/anndata/_core/anndata.py:121: ImplicitModificationWarning: Transforming to str index.\n",
      "/home/dbdimitrov/miniconda3/envs/spiana/lib/python3.10/site-packages/liana/method/_pipe_utils/_pre.py:148: ImplicitModificationWarning: Trying to modify attribute `.obs` of view, initializing view as actual.\n",
      "Now running: CK361:  43%|████▎     | 12/28 [01:08<01:36,  6.06s/it]/home/dbdimitrov/miniconda3/envs/spiana/lib/python3.10/site-packages/anndata/_core/anndata.py:121: ImplicitModificationWarning: Transforming to str index.\n",
      "/home/dbdimitrov/miniconda3/envs/spiana/lib/python3.10/site-packages/liana/method/_pipe_utils/_pre.py:148: ImplicitModificationWarning: Trying to modify attribute `.obs` of view, initializing view as actual.\n",
      "Now running: CK362:  46%|████▋     | 13/28 [01:12<01:20,  5.39s/it]/home/dbdimitrov/miniconda3/envs/spiana/lib/python3.10/site-packages/anndata/_core/anndata.py:121: ImplicitModificationWarning: Transforming to str index.\n",
      "/home/dbdimitrov/miniconda3/envs/spiana/lib/python3.10/site-packages/liana/method/_pipe_utils/_pre.py:148: ImplicitModificationWarning: Trying to modify attribute `.obs` of view, initializing view as actual.\n",
      "Now running: CK363:  50%|█████     | 14/28 [01:17<01:12,  5.20s/it]/home/dbdimitrov/miniconda3/envs/spiana/lib/python3.10/site-packages/anndata/_core/anndata.py:121: ImplicitModificationWarning: Transforming to str index.\n",
      "/home/dbdimitrov/miniconda3/envs/spiana/lib/python3.10/site-packages/liana/method/_pipe_utils/_pre.py:148: ImplicitModificationWarning: Trying to modify attribute `.obs` of view, initializing view as actual.\n",
      "Now running: CK364:  54%|█████▎    | 15/28 [01:24<01:14,  5.72s/it]/home/dbdimitrov/miniconda3/envs/spiana/lib/python3.10/site-packages/anndata/_core/anndata.py:121: ImplicitModificationWarning: Transforming to str index.\n",
      "/home/dbdimitrov/miniconda3/envs/spiana/lib/python3.10/site-packages/liana/method/_pipe_utils/_pre.py:148: ImplicitModificationWarning: Trying to modify attribute `.obs` of view, initializing view as actual.\n",
      "Now running: CK365:  57%|█████▋    | 16/28 [01:29<01:04,  5.40s/it]/home/dbdimitrov/miniconda3/envs/spiana/lib/python3.10/site-packages/anndata/_core/anndata.py:121: ImplicitModificationWarning: Transforming to str index.\n",
      "/home/dbdimitrov/miniconda3/envs/spiana/lib/python3.10/site-packages/liana/method/_pipe_utils/_pre.py:148: ImplicitModificationWarning: Trying to modify attribute `.obs` of view, initializing view as actual.\n",
      "Now running: CK366:  61%|██████    | 17/28 [01:34<00:58,  5.31s/it]/home/dbdimitrov/miniconda3/envs/spiana/lib/python3.10/site-packages/anndata/_core/anndata.py:121: ImplicitModificationWarning: Transforming to str index.\n",
      "/home/dbdimitrov/miniconda3/envs/spiana/lib/python3.10/site-packages/liana/method/_pipe_utils/_pre.py:148: ImplicitModificationWarning: Trying to modify attribute `.obs` of view, initializing view as actual.\n",
      "Now running: CK367:  64%|██████▍   | 18/28 [01:39<00:53,  5.35s/it]/home/dbdimitrov/miniconda3/envs/spiana/lib/python3.10/site-packages/anndata/_core/anndata.py:121: ImplicitModificationWarning: Transforming to str index.\n",
      "/home/dbdimitrov/miniconda3/envs/spiana/lib/python3.10/site-packages/liana/method/_pipe_utils/_pre.py:148: ImplicitModificationWarning: Trying to modify attribute `.obs` of view, initializing view as actual.\n",
      "Now running: CK368:  68%|██████▊   | 19/28 [01:46<00:51,  5.69s/it]/home/dbdimitrov/miniconda3/envs/spiana/lib/python3.10/site-packages/anndata/_core/anndata.py:121: ImplicitModificationWarning: Transforming to str index.\n",
      "/home/dbdimitrov/miniconda3/envs/spiana/lib/python3.10/site-packages/liana/method/_pipe_utils/_pre.py:148: ImplicitModificationWarning: Trying to modify attribute `.obs` of view, initializing view as actual.\n",
      "Now running: CK369:  71%|███████▏  | 20/28 [01:52<00:46,  5.84s/it]/home/dbdimitrov/miniconda3/envs/spiana/lib/python3.10/site-packages/anndata/_core/anndata.py:121: ImplicitModificationWarning: Transforming to str index.\n",
      "/home/dbdimitrov/miniconda3/envs/spiana/lib/python3.10/site-packages/liana/method/_pipe_utils/_pre.py:148: ImplicitModificationWarning: Trying to modify attribute `.obs` of view, initializing view as actual.\n",
      "Now running: CK370:  75%|███████▌  | 21/28 [01:53<00:31,  4.56s/it]/home/dbdimitrov/miniconda3/envs/spiana/lib/python3.10/site-packages/anndata/_core/anndata.py:121: ImplicitModificationWarning: Transforming to str index.\n",
      "/home/dbdimitrov/miniconda3/envs/spiana/lib/python3.10/site-packages/liana/method/_pipe_utils/_pre.py:148: ImplicitModificationWarning: Trying to modify attribute `.obs` of view, initializing view as actual.\n",
      "Now running: CK371:  79%|███████▊  | 22/28 [02:00<00:30,  5.16s/it]/home/dbdimitrov/miniconda3/envs/spiana/lib/python3.10/site-packages/anndata/_core/anndata.py:121: ImplicitModificationWarning: Transforming to str index.\n",
      "/home/dbdimitrov/miniconda3/envs/spiana/lib/python3.10/site-packages/liana/method/_pipe_utils/_pre.py:148: ImplicitModificationWarning: Trying to modify attribute `.obs` of view, initializing view as actual.\n",
      "Now running: CK372:  82%|████████▏ | 23/28 [02:06<00:26,  5.38s/it]/home/dbdimitrov/miniconda3/envs/spiana/lib/python3.10/site-packages/anndata/_core/anndata.py:121: ImplicitModificationWarning: Transforming to str index.\n",
      "/home/dbdimitrov/miniconda3/envs/spiana/lib/python3.10/site-packages/liana/method/_pipe_utils/_pre.py:148: ImplicitModificationWarning: Trying to modify attribute `.obs` of view, initializing view as actual.\n",
      "Now running: CK373:  86%|████████▌ | 24/28 [02:08<00:17,  4.36s/it]/home/dbdimitrov/miniconda3/envs/spiana/lib/python3.10/site-packages/anndata/_core/anndata.py:121: ImplicitModificationWarning: Transforming to str index.\n",
      "/home/dbdimitrov/miniconda3/envs/spiana/lib/python3.10/site-packages/liana/method/_pipe_utils/_pre.py:148: ImplicitModificationWarning: Trying to modify attribute `.obs` of view, initializing view as actual.\n",
      "Now running: CK374:  89%|████████▉ | 25/28 [02:14<00:14,  4.77s/it]/home/dbdimitrov/miniconda3/envs/spiana/lib/python3.10/site-packages/anndata/_core/anndata.py:121: ImplicitModificationWarning: Transforming to str index.\n",
      "/home/dbdimitrov/miniconda3/envs/spiana/lib/python3.10/site-packages/liana/method/_pipe_utils/_pre.py:148: ImplicitModificationWarning: Trying to modify attribute `.obs` of view, initializing view as actual.\n",
      "Now running: CK375:  93%|█████████▎| 26/28 [02:20<00:10,  5.30s/it]/home/dbdimitrov/miniconda3/envs/spiana/lib/python3.10/site-packages/anndata/_core/anndata.py:121: ImplicitModificationWarning: Transforming to str index.\n",
      "/home/dbdimitrov/miniconda3/envs/spiana/lib/python3.10/site-packages/liana/method/_pipe_utils/_pre.py:148: ImplicitModificationWarning: Trying to modify attribute `.obs` of view, initializing view as actual.\n",
      "Now running: CK376:  96%|█████████▋| 27/28 [02:22<00:04,  4.27s/it]/home/dbdimitrov/miniconda3/envs/spiana/lib/python3.10/site-packages/anndata/_core/anndata.py:121: ImplicitModificationWarning: Transforming to str index.\n",
      "/home/dbdimitrov/miniconda3/envs/spiana/lib/python3.10/site-packages/liana/method/_pipe_utils/_pre.py:148: ImplicitModificationWarning: Trying to modify attribute `.obs` of view, initializing view as actual.\n",
      "Now running: CK376: 100%|██████████| 28/28 [02:24<00:00,  5.17s/it]\n"
     ]
    }
   ],
   "source": [
    "# write to file\n",
    "li.mt.rank_aggregate.by_sample(adata, \n",
    "                               groupby=groupby,\n",
    "                               use_raw=False,\n",
    "                               sample_key=sample_key,\n",
    "                               verbose=True,\n",
    "                               n_perms=None,\n",
    "                               resource=resource,\n",
    "                               groupby_pairs=cell_pairs,\n",
    "                               )"
   ]
  },
  {
   "cell_type": "code",
   "execution_count": 7,
   "metadata": {},
   "outputs": [],
   "source": [
    "adata.write_h5ad(os.path.join('results', 'kuppe_processed.h5ad'))"
   ]
  },
  {
   "cell_type": "code",
   "execution_count": null,
   "metadata": {},
   "outputs": [],
   "source": []
  }
 ],
 "metadata": {
  "kernelspec": {
   "display_name": "spiana",
   "language": "python",
   "name": "python3"
  },
  "language_info": {
   "codemirror_mode": {
    "name": "ipython",
    "version": 3
   },
   "file_extension": ".py",
   "mimetype": "text/x-python",
   "name": "python",
   "nbconvert_exporter": "python",
   "pygments_lexer": "ipython3",
   "version": "3.10.13"
  }
 },
 "nbformat": 4,
 "nbformat_minor": 2
}
