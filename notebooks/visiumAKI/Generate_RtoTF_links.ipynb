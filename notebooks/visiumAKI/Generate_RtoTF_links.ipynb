{
 "cells": [
  {
   "cell_type": "markdown",
   "metadata": {},
   "source": [
    "Need to Generate PK from:\n",
    "CellCall; SignaLink; "
   ]
  },
  {
   "attachments": {},
   "cell_type": "markdown",
   "metadata": {},
   "source": [
    "Read in links from:\n",
    "\n",
    "CellCall: https://github.com/ShellyCoder/cellcall/blob/master/inst/extdata/new_ligand_receptor_TFs.txt\n",
    "\n",
    "stMLnet: https://github.com/SunXQlab/stMLnet/blob/main/data/ex_databases.rda\n",
    "\n",
    "scseqcomm: https://gitlab.com/sysbiobig/scseqcomm/-/tree/master/data"
   ]
  },
  {
   "cell_type": "markdown",
   "metadata": {},
   "source": []
  },
  {
   "attachments": {},
   "cell_type": "markdown",
   "metadata": {},
   "source": [
    "Check rough sizes for these, and make a new database from OmniPath where:\n",
    "\n",
    "source (receptor), target (TF), pathway, database, shortest_path_length (as from OmniPath)"
   ]
  },
  {
   "cell_type": "code",
   "execution_count": 27,
   "metadata": {
    "vscode": {
     "languageId": "python"
    }
   },
   "outputs": [
    {
     "name": "stderr",
     "output_type": "stream",
     "text": [
      "── \u001b[1mAttaching packages\u001b[22m ─────────────────────────────────────── tidyverse 1.3.2 ──\n",
      "\u001b[32m✔\u001b[39m \u001b[34mggplot2\u001b[39m 3.3.6     \u001b[32m✔\u001b[39m \u001b[34mpurrr  \u001b[39m 0.3.4\n",
      "\u001b[32m✔\u001b[39m \u001b[34mtibble \u001b[39m 3.1.8     \u001b[32m✔\u001b[39m \u001b[34mdplyr  \u001b[39m 1.0.9\n",
      "\u001b[32m✔\u001b[39m \u001b[34mtidyr  \u001b[39m 1.2.0     \u001b[32m✔\u001b[39m \u001b[34mstringr\u001b[39m 1.4.0\n",
      "\u001b[32m✔\u001b[39m \u001b[34mreadr  \u001b[39m 2.1.2     \u001b[32m✔\u001b[39m \u001b[34mforcats\u001b[39m 0.5.1\n",
      "── \u001b[1mConflicts\u001b[22m ────────────────────────────────────────── tidyverse_conflicts() ──\n",
      "\u001b[31m✖\u001b[39m \u001b[34mdplyr\u001b[39m::\u001b[32mfilter()\u001b[39m masks \u001b[34mstats\u001b[39m::filter()\n",
      "\u001b[31m✖\u001b[39m \u001b[34mdplyr\u001b[39m::\u001b[32mlag()\u001b[39m    masks \u001b[34mstats\u001b[39m::lag()\n"
     ]
    }
   ],
   "source": [
    "library(tidyverse)"
   ]
  },
  {
   "cell_type": "code",
   "execution_count": null,
   "metadata": {
    "vscode": {
     "languageId": "python"
    }
   },
   "outputs": [],
   "source": []
  },
  {
   "attachments": {},
   "cell_type": "markdown",
   "metadata": {},
   "source": [
    "### stmlnet"
   ]
  },
  {
   "cell_type": "code",
   "execution_count": 73,
   "metadata": {
    "vscode": {
     "languageId": "python"
    }
   },
   "outputs": [],
   "source": [
    "load(\"~/Downloads/ex_databases.rda\")\n",
    "stmlnet <- ex_databases$RecTF.DB"
   ]
  },
  {
   "cell_type": "code",
   "execution_count": 107,
   "metadata": {
    "vscode": {
     "languageId": "python"
    }
   },
   "outputs": [
    {
     "data": {
      "text/plain": [
       "    source             target              score          \n",
       " Length:872490      Length:872490      Min.   :0.0000000  \n",
       " Class :character   Class :character   1st Qu.:0.0000009  \n",
       " Mode  :character   Mode  :character   Median :0.0000031  \n",
       "                                       Mean   :0.0000380  \n",
       "                                       3rd Qu.:0.0000140  \n",
       "                                       Max.   :0.3967780  "
      ]
     },
     "metadata": {},
     "output_type": "display_data"
    }
   ],
   "source": [
    "summary(stmlnet)"
   ]
  },
  {
   "cell_type": "code",
   "execution_count": null,
   "metadata": {
    "vscode": {
     "languageId": "python"
    }
   },
   "outputs": [],
   "source": []
  },
  {
   "attachments": {},
   "cell_type": "markdown",
   "metadata": {},
   "source": [
    "### CellCall"
   ]
  },
  {
   "cell_type": "code",
   "execution_count": 93,
   "metadata": {
    "vscode": {
     "languageId": "python"
    }
   },
   "outputs": [
    {
     "data": {
      "text/html": [
       "<table class=\"dataframe\">\n",
       "<caption>A data.frame: 6 × 3</caption>\n",
       "<thead>\n",
       "\t<tr><th></th><th scope=col>source</th><th scope=col>target</th><th scope=col>pathway</th></tr>\n",
       "\t<tr><th></th><th scope=col>&lt;chr&gt;</th><th scope=col>&lt;chr&gt;</th><th scope=col>&lt;chr&gt;</th></tr>\n",
       "</thead>\n",
       "<tbody>\n",
       "\t<tr><th scope=row>1</th><td>OCLN</td><td>GATA4 </td><td>hsa04530_3,hsa04530_5</td></tr>\n",
       "\t<tr><th scope=row>2</th><td>OCLN</td><td>YBX3  </td><td>hsa04530_2           </td></tr>\n",
       "\t<tr><th scope=row>3</th><td>CCR1</td><td>FOXO3 </td><td>hsa04062_5           </td></tr>\n",
       "\t<tr><th scope=row>4</th><td>CCR1</td><td>IKBKB </td><td>hsa04062_5           </td></tr>\n",
       "\t<tr><th scope=row>5</th><td>CCR1</td><td>NFKB1 </td><td>hsa04062_7           </td></tr>\n",
       "\t<tr><th scope=row>6</th><td>CCR1</td><td>NFKBIA</td><td>hsa04062_6           </td></tr>\n",
       "</tbody>\n",
       "</table>\n"
      ],
      "text/latex": [
       "A data.frame: 6 × 3\n",
       "\\begin{tabular}{r|lll}\n",
       "  & source & target & pathway\\\\\n",
       "  & <chr> & <chr> & <chr>\\\\\n",
       "\\hline\n",
       "\t1 & OCLN & GATA4  & hsa04530\\_3,hsa04530\\_5\\\\\n",
       "\t2 & OCLN & YBX3   & hsa04530\\_2           \\\\\n",
       "\t3 & CCR1 & FOXO3  & hsa04062\\_5           \\\\\n",
       "\t4 & CCR1 & IKBKB  & hsa04062\\_5           \\\\\n",
       "\t5 & CCR1 & NFKB1  & hsa04062\\_7           \\\\\n",
       "\t6 & CCR1 & NFKBIA & hsa04062\\_6           \\\\\n",
       "\\end{tabular}\n"
      ],
      "text/markdown": [
       "\n",
       "A data.frame: 6 × 3\n",
       "\n",
       "| <!--/--> | source &lt;chr&gt; | target &lt;chr&gt; | pathway &lt;chr&gt; |\n",
       "|---|---|---|---|\n",
       "| 1 | OCLN | GATA4  | hsa04530_3,hsa04530_5 |\n",
       "| 2 | OCLN | YBX3   | hsa04530_2            |\n",
       "| 3 | CCR1 | FOXO3  | hsa04062_5            |\n",
       "| 4 | CCR1 | IKBKB  | hsa04062_5            |\n",
       "| 5 | CCR1 | NFKB1  | hsa04062_7            |\n",
       "| 6 | CCR1 | NFKBIA | hsa04062_6            |\n",
       "\n"
      ],
      "text/plain": [
       "  source target pathway              \n",
       "1 OCLN   GATA4  hsa04530_3,hsa04530_5\n",
       "2 OCLN   YBX3   hsa04530_2           \n",
       "3 CCR1   FOXO3  hsa04062_5           \n",
       "4 CCR1   IKBKB  hsa04062_5           \n",
       "5 CCR1   NFKB1  hsa04062_7           \n",
       "6 CCR1   NFKBIA hsa04062_6           "
      ]
     },
     "metadata": {},
     "output_type": "display_data"
    }
   ],
   "source": [
    "cellcall <- read.table(url('https://raw.githubusercontent.com/ShellyCoder/cellcall/master/inst/extdata/new_ligand_receptor_TFs.txt'), header = TRUE,  sep = '\t',  stringsAsFactors = FALSE)  %>%\n",
    "    select(source=Receptor_Symbol, target=TF_Symbol, pathway=Pathway) %>% \n",
    "    distinct() %>% \n",
    "    mutate(source = stringr::str_replace_all(source, ',', '_'))\n",
    "head(cellcall)"
   ]
  },
  {
   "cell_type": "code",
   "execution_count": 94,
   "metadata": {
    "vscode": {
     "languageId": "python"
    }
   },
   "outputs": [
    {
     "data": {
      "text/plain": [
       "    source             target            pathway         \n",
       " Length:3878        Length:3878        Length:3878       \n",
       " Class :character   Class :character   Class :character  \n",
       " Mode  :character   Mode  :character   Mode  :character  "
      ]
     },
     "metadata": {},
     "output_type": "display_data"
    }
   ],
   "source": [
    "summary(cellcall)"
   ]
  },
  {
   "cell_type": "code",
   "execution_count": null,
   "metadata": {
    "vscode": {
     "languageId": "python"
    }
   },
   "outputs": [],
   "source": []
  },
  {
   "attachments": {},
   "cell_type": "markdown",
   "metadata": {},
   "source": [
    "### scseqcomm"
   ]
  },
  {
   "attachments": {},
   "cell_type": "markdown",
   "metadata": {},
   "source": [
    "#### KEGG"
   ]
  },
  {
   "cell_type": "code",
   "execution_count": 97,
   "metadata": {
    "vscode": {
     "languageId": "python"
    }
   },
   "outputs": [
    {
     "data": {
      "text/html": [
       "<table class=\"dataframe\">\n",
       "<caption>A data.frame: 6 × 3</caption>\n",
       "<thead>\n",
       "\t<tr><th></th><th scope=col>source</th><th scope=col>target</th><th scope=col>pathway</th></tr>\n",
       "\t<tr><th></th><th scope=col>&lt;chr&gt;</th><th scope=col>&lt;chr&gt;</th><th scope=col>&lt;chr&gt;</th></tr>\n",
       "</thead>\n",
       "<tbody>\n",
       "\t<tr><th scope=row>1</th><td>PKM   </td><td>ENO1</td><td>Glycolysis / Gluconeogenesis</td></tr>\n",
       "\t<tr><th scope=row>2</th><td>ALDOA </td><td>ENO1</td><td>Glycolysis / Gluconeogenesis</td></tr>\n",
       "\t<tr><th scope=row>3</th><td>GPI   </td><td>ENO1</td><td>Glycolysis / Gluconeogenesis</td></tr>\n",
       "\t<tr><th scope=row>4</th><td>MINPP1</td><td>ENO1</td><td>Glycolysis / Gluconeogenesis</td></tr>\n",
       "\t<tr><th scope=row>5</th><td>NPR2  </td><td>NME2</td><td>Purine metabolism           </td></tr>\n",
       "\t<tr><th scope=row>6</th><td>PKM   </td><td>NME2</td><td>Purine metabolism           </td></tr>\n",
       "</tbody>\n",
       "</table>\n"
      ],
      "text/latex": [
       "A data.frame: 6 × 3\n",
       "\\begin{tabular}{r|lll}\n",
       "  & source & target & pathway\\\\\n",
       "  & <chr> & <chr> & <chr>\\\\\n",
       "\\hline\n",
       "\t1 & PKM    & ENO1 & Glycolysis / Gluconeogenesis\\\\\n",
       "\t2 & ALDOA  & ENO1 & Glycolysis / Gluconeogenesis\\\\\n",
       "\t3 & GPI    & ENO1 & Glycolysis / Gluconeogenesis\\\\\n",
       "\t4 & MINPP1 & ENO1 & Glycolysis / Gluconeogenesis\\\\\n",
       "\t5 & NPR2   & NME2 & Purine metabolism           \\\\\n",
       "\t6 & PKM    & NME2 & Purine metabolism           \\\\\n",
       "\\end{tabular}\n"
      ],
      "text/markdown": [
       "\n",
       "A data.frame: 6 × 3\n",
       "\n",
       "| <!--/--> | source &lt;chr&gt; | target &lt;chr&gt; | pathway &lt;chr&gt; |\n",
       "|---|---|---|---|\n",
       "| 1 | PKM    | ENO1 | Glycolysis / Gluconeogenesis |\n",
       "| 2 | ALDOA  | ENO1 | Glycolysis / Gluconeogenesis |\n",
       "| 3 | GPI    | ENO1 | Glycolysis / Gluconeogenesis |\n",
       "| 4 | MINPP1 | ENO1 | Glycolysis / Gluconeogenesis |\n",
       "| 5 | NPR2   | NME2 | Purine metabolism            |\n",
       "| 6 | PKM    | NME2 | Purine metabolism            |\n",
       "\n"
      ],
      "text/plain": [
       "  source target pathway                     \n",
       "1 PKM    ENO1   Glycolysis / Gluconeogenesis\n",
       "2 ALDOA  ENO1   Glycolysis / Gluconeogenesis\n",
       "3 GPI    ENO1   Glycolysis / Gluconeogenesis\n",
       "4 MINPP1 ENO1   Glycolysis / Gluconeogenesis\n",
       "5 NPR2   NME2   Purine metabolism           \n",
       "6 PKM    NME2   Purine metabolism           "
      ]
     },
     "metadata": {},
     "output_type": "display_data"
    }
   ],
   "source": [
    "load(\"~/Downloads/TF_PPR_KEGG_human.rda\")\n",
    "\n",
    "csc_kegg <- TF_PPR_KEGG_human  %>% \n",
    "    select(source=receptor, target=tf, pathway) %>%\n",
    "    mutate(source = stringr::str_replace_all(source, ',', '_')) %>% \n",
    "    distinct()\n",
    "head(csc_kegg)"
   ]
  },
  {
   "cell_type": "code",
   "execution_count": 98,
   "metadata": {
    "vscode": {
     "languageId": "python"
    }
   },
   "outputs": [
    {
     "data": {
      "text/plain": [
       "    source             target            pathway         \n",
       " Length:69300       Length:69300       Length:69300      \n",
       " Class :character   Class :character   Class :character  \n",
       " Mode  :character   Mode  :character   Mode  :character  "
      ]
     },
     "metadata": {},
     "output_type": "display_data"
    }
   ],
   "source": [
    "summary(csc_kegg)"
   ]
  },
  {
   "cell_type": "code",
   "execution_count": null,
   "metadata": {
    "vscode": {
     "languageId": "python"
    }
   },
   "outputs": [],
   "source": []
  },
  {
   "attachments": {},
   "cell_type": "markdown",
   "metadata": {},
   "source": [
    "#### Reactome"
   ]
  },
  {
   "cell_type": "code",
   "execution_count": 100,
   "metadata": {
    "vscode": {
     "languageId": "python"
    }
   },
   "outputs": [
    {
     "data": {
      "text/html": [
       "<table class=\"dataframe\">\n",
       "<caption>A data.frame: 6 × 3</caption>\n",
       "<thead>\n",
       "\t<tr><th></th><th scope=col>source</th><th scope=col>target</th><th scope=col>pathway</th></tr>\n",
       "\t<tr><th></th><th scope=col>&lt;chr&gt;</th><th scope=col>&lt;chr&gt;</th><th scope=col>&lt;chr&gt;</th></tr>\n",
       "</thead>\n",
       "<tbody>\n",
       "\t<tr><th scope=row>1</th><td>PKM   </td><td>ENO1</td><td>Glycolysis / Gluconeogenesis</td></tr>\n",
       "\t<tr><th scope=row>2</th><td>ALDOA </td><td>ENO1</td><td>Glycolysis / Gluconeogenesis</td></tr>\n",
       "\t<tr><th scope=row>3</th><td>GPI   </td><td>ENO1</td><td>Glycolysis / Gluconeogenesis</td></tr>\n",
       "\t<tr><th scope=row>4</th><td>MINPP1</td><td>ENO1</td><td>Glycolysis / Gluconeogenesis</td></tr>\n",
       "\t<tr><th scope=row>5</th><td>NPR2  </td><td>NME2</td><td>Purine metabolism           </td></tr>\n",
       "\t<tr><th scope=row>6</th><td>PKM   </td><td>NME2</td><td>Purine metabolism           </td></tr>\n",
       "</tbody>\n",
       "</table>\n"
      ],
      "text/latex": [
       "A data.frame: 6 × 3\n",
       "\\begin{tabular}{r|lll}\n",
       "  & source & target & pathway\\\\\n",
       "  & <chr> & <chr> & <chr>\\\\\n",
       "\\hline\n",
       "\t1 & PKM    & ENO1 & Glycolysis / Gluconeogenesis\\\\\n",
       "\t2 & ALDOA  & ENO1 & Glycolysis / Gluconeogenesis\\\\\n",
       "\t3 & GPI    & ENO1 & Glycolysis / Gluconeogenesis\\\\\n",
       "\t4 & MINPP1 & ENO1 & Glycolysis / Gluconeogenesis\\\\\n",
       "\t5 & NPR2   & NME2 & Purine metabolism           \\\\\n",
       "\t6 & PKM    & NME2 & Purine metabolism           \\\\\n",
       "\\end{tabular}\n"
      ],
      "text/markdown": [
       "\n",
       "A data.frame: 6 × 3\n",
       "\n",
       "| <!--/--> | source &lt;chr&gt; | target &lt;chr&gt; | pathway &lt;chr&gt; |\n",
       "|---|---|---|---|\n",
       "| 1 | PKM    | ENO1 | Glycolysis / Gluconeogenesis |\n",
       "| 2 | ALDOA  | ENO1 | Glycolysis / Gluconeogenesis |\n",
       "| 3 | GPI    | ENO1 | Glycolysis / Gluconeogenesis |\n",
       "| 4 | MINPP1 | ENO1 | Glycolysis / Gluconeogenesis |\n",
       "| 5 | NPR2   | NME2 | Purine metabolism            |\n",
       "| 6 | PKM    | NME2 | Purine metabolism            |\n",
       "\n"
      ],
      "text/plain": [
       "  source target pathway                     \n",
       "1 PKM    ENO1   Glycolysis / Gluconeogenesis\n",
       "2 ALDOA  ENO1   Glycolysis / Gluconeogenesis\n",
       "3 GPI    ENO1   Glycolysis / Gluconeogenesis\n",
       "4 MINPP1 ENO1   Glycolysis / Gluconeogenesis\n",
       "5 NPR2   NME2   Purine metabolism           \n",
       "6 PKM    NME2   Purine metabolism           "
      ]
     },
     "metadata": {},
     "output_type": "display_data"
    }
   ],
   "source": [
    "load(\"~/Downloads/TF_PPR_REACTOME_human.rda\")\n",
    "scs_reactome <- TF_PPR_REACTOME_human %>% \n",
    "    select(source=receptor, target=tf, pathway) %>%\n",
    "    mutate(source = stringr::str_replace_all(source, ',', '_')) %>% \n",
    "    distinct()\n",
    "head(csc_kegg)"
   ]
  },
  {
   "cell_type": "code",
   "execution_count": 102,
   "metadata": {
    "vscode": {
     "languageId": "python"
    }
   },
   "outputs": [
    {
     "data": {
      "text/plain": [
       "    source             target            pathway         \n",
       " Length:24306       Length:24306       Length:24306      \n",
       " Class :character   Class :character   Class :character  \n",
       " Mode  :character   Mode  :character   Mode  :character  "
      ]
     },
     "metadata": {},
     "output_type": "display_data"
    }
   ],
   "source": [
    "summary(scs_reactome)"
   ]
  },
  {
   "cell_type": "code",
   "execution_count": null,
   "metadata": {
    "vscode": {
     "languageId": "python"
    }
   },
   "outputs": [],
   "source": []
  },
  {
   "attachments": {},
   "cell_type": "markdown",
   "metadata": {},
   "source": [
    "## Generate Ours"
   ]
  },
  {
   "cell_type": "code",
   "execution_count": null,
   "metadata": {
    "vscode": {
     "languageId": "python"
    }
   },
   "outputs": [],
   "source": []
  }
 ],
 "metadata": {
  "kernelspec": {
   "display_name": "spiana",
   "language": "python",
   "name": "spiana"
  },
  "orig_nbformat": 4,
  "vscode": {
   "interpreter": {
    "hash": "ac97c8310efd240443b5176b1eb791e73b7693a8422028cd876be6d8a6715647"
   }
  }
 },
 "nbformat": 4,
 "nbformat_minor": 2
}
