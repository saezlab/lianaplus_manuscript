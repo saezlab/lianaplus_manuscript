{
 "cells": [
  {
   "attachments": {},
   "cell_type": "markdown",
   "metadata": {},
   "source": [
    "# Efficiency LIANA+"
   ]
  },
  {
   "cell_type": "code",
   "execution_count": 1,
   "metadata": {},
   "outputs": [],
   "source": [
    "import numpy as np\n",
    "import pandas as pd\n",
    "import anndata as ad\n",
    "from scipy.sparse import csr_matrix\n",
    "\n",
    "import scanpy as sc\n",
    "import liana as li\n",
    "\n",
    "from itertools import product\n",
    "\n",
    "import psutil\n",
    "from timeit import default_timer as timer\n",
    "\n",
    "import gc"
   ]
  },
  {
   "cell_type": "code",
   "execution_count": 2,
   "metadata": {},
   "outputs": [],
   "source": [
    "from benchmark import _benchmark, _sample_anndata, _sample_resource"
   ]
  },
  {
   "cell_type": "code",
   "execution_count": null,
   "metadata": {},
   "outputs": [],
   "source": []
  },
  {
   "attachments": {},
   "cell_type": "markdown",
   "metadata": {},
   "source": [
    "## Single-cell"
   ]
  },
  {
   "cell_type": "code",
   "execution_count": 3,
   "metadata": {},
   "outputs": [],
   "source": [
    "# Define Methods\n",
    "def cpdb_no_perms(**kwargs):\n",
    "    li.mt.cellphonedb(**kwargs, n_perms=None)\n",
    "def cellchat_no_perms(**kwargs):\n",
    "    li.mt.cellchat(**kwargs, n_perms=None)\n",
    "def magnitude_only(**kwargs):\n",
    "    li.mt.rank_aggregate(**kwargs, n_perms=None)\n",
    "def rank_aggregate(**kwargs):\n",
    "    aggregate = li.mt.AggregateClass(li.mt.aggregate_meta, methods=[li.mt.logfc,\n",
    "                                                                    li.mt.cellphonedb,\n",
    "                                                                    # TODO: get rid of CellChat all together??\n",
    "                                                                    # li.mt.cellchat,\n",
    "                                                                    li.mt.natmi,\n",
    "                                                                    li.mt.connectome,\n",
    "                                                                    li.mt.singlecellsignalr\n",
    "                                                                    ]\n",
    "                                          )\n",
    "    aggregate(**kwargs)\n",
    "\n",
    "methods = {\n",
    "    \"CellPhoneDB\": li.mt.cellphonedb,\n",
    "    # \"CellChat\": li.mt.cellchat,\n",
    "    \"CellPhoneDB_NP\": cpdb_no_perms,\n",
    "    \"CellChat_NP\": cellchat_no_perms,\n",
    "    \"Consensus\": rank_aggregate,\n",
    "    \"Magnitude\": magnitude_only,\n",
    "    \"NATMI\": li.mt.natmi,\n",
    "    \"Connectome\": li.mt.connectome,\n",
    "    \"log2FC\": li.mt.logfc,\n",
    "    }"
   ]
  },
  {
   "cell_type": "code",
   "execution_count": 4,
   "metadata": {},
   "outputs": [
    {
     "name": "stdout",
     "output_type": "stream",
     "text": [
      "50000\n",
      " NNZ fraction: 0.10000397\n",
      "CellPhoneDB\n",
      "CellPhoneDB\n",
      "CellPhoneDB\n"
     ]
    },
    {
     "ename": "KeyboardInterrupt",
     "evalue": "",
     "output_type": "error",
     "traceback": [
      "\u001b[0;31m---------------------------------------------------------------------------\u001b[0m",
      "\u001b[0;31mKeyboardInterrupt\u001b[0m                         Traceback (most recent call last)",
      "Cell \u001b[0;32mIn[4], line 13\u001b[0m\n\u001b[1;32m     11\u001b[0m     \u001b[39mfor\u001b[39;00m _ \u001b[39min\u001b[39;00m \u001b[39mrange\u001b[39m(\u001b[39m5\u001b[39m):\n\u001b[1;32m     12\u001b[0m         \u001b[39mprint\u001b[39m(method)\n\u001b[0;32m---> 13\u001b[0m         time, memory \u001b[39m=\u001b[39m _benchmark(function\u001b[39m=\u001b[39;49mmethods[method],\n\u001b[1;32m     14\u001b[0m                                   adata\u001b[39m=\u001b[39;49madata,\n\u001b[1;32m     15\u001b[0m                                   resource\u001b[39m=\u001b[39;49mresource,\n\u001b[1;32m     16\u001b[0m                                   groupby\u001b[39m=\u001b[39;49m\u001b[39m'\u001b[39;49m\u001b[39mcell_type\u001b[39;49m\u001b[39m'\u001b[39;49m,\n\u001b[1;32m     17\u001b[0m                                   use_raw\u001b[39m=\u001b[39;49m\u001b[39mFalse\u001b[39;49;00m,\n\u001b[1;32m     18\u001b[0m                                   verbose\u001b[39m=\u001b[39;49m\u001b[39mFalse\u001b[39;49;00m\n\u001b[1;32m     19\u001b[0m                                   )\n\u001b[1;32m     20\u001b[0m         benchmark_stats\u001b[39m.\u001b[39mloc[\u001b[39mlen\u001b[39m(benchmark_stats)] \u001b[39m=\u001b[39m [method, n_obs, time, memory]\n\u001b[1;32m     21\u001b[0m benchmark_stats\u001b[39m.\u001b[39mto_csv(\u001b[39m\"\u001b[39m\u001b[39msc_stats.csv\u001b[39m\u001b[39m\"\u001b[39m, index\u001b[39m=\u001b[39m\u001b[39mFalse\u001b[39;00m)\n",
      "File \u001b[0;32m/media/dbdimitrov/SSDDimitrov/Repos/liana2_manuscript/notebooks/benchmark/benchmark.py:59\u001b[0m, in \u001b[0;36m_benchmark\u001b[0;34m(function, **kwargs)\u001b[0m\n\u001b[1;32m     56\u001b[0m \u001b[39mdef\u001b[39;00m \u001b[39m_benchmark\u001b[39m(function, \u001b[39m*\u001b[39m\u001b[39m*\u001b[39mkwargs):\n\u001b[1;32m     57\u001b[0m     \u001b[39m# run function\u001b[39;00m\n\u001b[1;32m     58\u001b[0m     start \u001b[39m=\u001b[39m timer()\n\u001b[0;32m---> 59\u001b[0m     process \u001b[39m=\u001b[39m psutil\u001b[39m.\u001b[39mProcess(function(\u001b[39m*\u001b[39;49m\u001b[39m*\u001b[39;49mkwargs))\n\u001b[1;32m     60\u001b[0m     end \u001b[39m=\u001b[39m timer()\n\u001b[1;32m     61\u001b[0m     time \u001b[39m=\u001b[39m end \u001b[39m-\u001b[39m start\n",
      "File \u001b[0;32m~/anaconda3/envs/spiana/lib/python3.10/site-packages/liana/method/_Method.py:246\u001b[0m, in \u001b[0;36mMethod.__call__\u001b[0;34m(self, adata, groupby, resource_name, expr_prop, min_cells, base, supp_columns, return_all_lrs, key_added, use_raw, layer, de_method, verbose, n_perms, seed, resource, inplace)\u001b[0m\n\u001b[1;32m    243\u001b[0m \u001b[39mif\u001b[39;00m supp_columns \u001b[39mis\u001b[39;00m \u001b[39mNone\u001b[39;00m:\n\u001b[1;32m    244\u001b[0m     supp_columns \u001b[39m=\u001b[39m []\n\u001b[0;32m--> 246\u001b[0m liana_res \u001b[39m=\u001b[39m liana_pipe(adata\u001b[39m=\u001b[39;49madata,\n\u001b[1;32m    247\u001b[0m                        groupby\u001b[39m=\u001b[39;49mgroupby,\n\u001b[1;32m    248\u001b[0m                        resource_name\u001b[39m=\u001b[39;49mresource_name,\n\u001b[1;32m    249\u001b[0m                        resource\u001b[39m=\u001b[39;49mresource,\n\u001b[1;32m    250\u001b[0m                        expr_prop\u001b[39m=\u001b[39;49mexpr_prop,\n\u001b[1;32m    251\u001b[0m                        min_cells\u001b[39m=\u001b[39;49mmin_cells,\n\u001b[1;32m    252\u001b[0m                        supp_columns\u001b[39m=\u001b[39;49msupp_columns,\n\u001b[1;32m    253\u001b[0m                        return_all_lrs\u001b[39m=\u001b[39;49mreturn_all_lrs,\n\u001b[1;32m    254\u001b[0m                        base\u001b[39m=\u001b[39;49mbase,\n\u001b[1;32m    255\u001b[0m                        de_method\u001b[39m=\u001b[39;49mde_method,\n\u001b[1;32m    256\u001b[0m                        verbose\u001b[39m=\u001b[39;49mverbose,\n\u001b[1;32m    257\u001b[0m                        _score\u001b[39m=\u001b[39;49m\u001b[39mself\u001b[39;49m\u001b[39m.\u001b[39;49m_method,\n\u001b[1;32m    258\u001b[0m                        n_perms\u001b[39m=\u001b[39;49mn_perms,\n\u001b[1;32m    259\u001b[0m                        seed\u001b[39m=\u001b[39;49mseed,\n\u001b[1;32m    260\u001b[0m                        use_raw\u001b[39m=\u001b[39;49muse_raw,\n\u001b[1;32m    261\u001b[0m                        layer\u001b[39m=\u001b[39;49mlayer,\n\u001b[1;32m    262\u001b[0m                        )\n\u001b[1;32m    263\u001b[0m \u001b[39mif\u001b[39;00m inplace:\n\u001b[1;32m    264\u001b[0m     adata\u001b[39m.\u001b[39muns[key_added] \u001b[39m=\u001b[39m liana_res\n",
      "File \u001b[0;32m~/anaconda3/envs/spiana/lib/python3.10/site-packages/liana/method/_liana_pipe.py:218\u001b[0m, in \u001b[0;36mliana_pipe\u001b[0;34m(adata, groupby, resource_name, resource, expr_prop, min_cells, base, de_method, n_perms, seed, verbose, use_raw, layer, supp_columns, return_all_lrs, _key_cols, _score, _methods, _consensus_opts, _aggregate_method)\u001b[0m\n\u001b[1;32m    216\u001b[0m             \u001b[39mreturn\u001b[39;00m lrs\n\u001b[1;32m    217\u001b[0m     \u001b[39melse\u001b[39;00m:  \u001b[39m# Run the specific method in mind\u001b[39;00m\n\u001b[0;32m--> 218\u001b[0m         lr_res \u001b[39m=\u001b[39m _run_method(lr_res\u001b[39m=\u001b[39;49mlr_res,\n\u001b[1;32m    219\u001b[0m                              adata\u001b[39m=\u001b[39;49madata,\n\u001b[1;32m    220\u001b[0m                              expr_prop\u001b[39m=\u001b[39;49mexpr_prop,\n\u001b[1;32m    221\u001b[0m                              _score\u001b[39m=\u001b[39;49m_score, _key_cols\u001b[39m=\u001b[39;49m_key_cols,\n\u001b[1;32m    222\u001b[0m                              _complex_cols\u001b[39m=\u001b[39;49m_complex_cols,\n\u001b[1;32m    223\u001b[0m                              _add_cols\u001b[39m=\u001b[39;49m_add_cols,\n\u001b[1;32m    224\u001b[0m                              n_perms\u001b[39m=\u001b[39;49mn_perms,\n\u001b[1;32m    225\u001b[0m                              return_all_lrs\u001b[39m=\u001b[39;49mreturn_all_lrs,\n\u001b[1;32m    226\u001b[0m                              verbose\u001b[39m=\u001b[39;49mverbose,\n\u001b[1;32m    227\u001b[0m                              seed\u001b[39m=\u001b[39;49mseed)\n\u001b[1;32m    228\u001b[0m \u001b[39melse\u001b[39;00m:  \u001b[39m# Just return lr_res\u001b[39;00m\n\u001b[1;32m    229\u001b[0m     lr_res \u001b[39m=\u001b[39m filter_reassemble_complexes(lr_res\u001b[39m=\u001b[39mlr_res,\n\u001b[1;32m    230\u001b[0m                                          _key_cols\u001b[39m=\u001b[39m_key_cols,\n\u001b[1;32m    231\u001b[0m                                          expr_prop\u001b[39m=\u001b[39mexpr_prop,\n\u001b[1;32m    232\u001b[0m                                          complex_cols\u001b[39m=\u001b[39m_complex_cols,\n\u001b[1;32m    233\u001b[0m                                          return_all_lrs\u001b[39m=\u001b[39mreturn_all_lrs)\n",
      "File \u001b[0;32m~/anaconda3/envs/spiana/lib/python3.10/site-packages/liana/method/_liana_pipe.py:488\u001b[0m, in \u001b[0;36m_run_method\u001b[0;34m(lr_res, adata, expr_prop, _score, _key_cols, _complex_cols, _add_cols, n_perms, seed, return_all_lrs, verbose, _aggregate_flag)\u001b[0m\n\u001b[1;32m    485\u001b[0m \u001b[39mif\u001b[39;00m _score\u001b[39m.\u001b[39mpermute:\n\u001b[1;32m    486\u001b[0m     \u001b[39m# get permutations\u001b[39;00m\n\u001b[1;32m    487\u001b[0m     \u001b[39mif\u001b[39;00m n_perms \u001b[39mis\u001b[39;00m \u001b[39mnot\u001b[39;00m \u001b[39mNone\u001b[39;00m:\n\u001b[0;32m--> 488\u001b[0m         perms \u001b[39m=\u001b[39m _get_means_perms(adata\u001b[39m=\u001b[39;49madata,\n\u001b[1;32m    489\u001b[0m                                  n_perms\u001b[39m=\u001b[39;49mn_perms,\n\u001b[1;32m    490\u001b[0m                                  seed\u001b[39m=\u001b[39;49mseed,\n\u001b[1;32m    491\u001b[0m                                  agg_fun\u001b[39m=\u001b[39;49magg_fun,\n\u001b[1;32m    492\u001b[0m                                  norm_factor\u001b[39m=\u001b[39;49mnorm_factor,\n\u001b[1;32m    493\u001b[0m                                  verbose\u001b[39m=\u001b[39;49mverbose)\n\u001b[1;32m    494\u001b[0m         \u001b[39m# get tensor indexes for ligand, receptor, source, target\u001b[39;00m\n\u001b[1;32m    495\u001b[0m         ligand_idx, receptor_idx, source_idx, target_idx \u001b[39m=\u001b[39m _get_mat_idx(adata, lr_res)\n",
      "File \u001b[0;32m~/anaconda3/envs/spiana/lib/python3.10/site-packages/liana/method/_pipe_utils/_get_mean_perms.py:53\u001b[0m, in \u001b[0;36m_get_means_perms\u001b[0;34m(adata, n_perms, seed, agg_fun, norm_factor, verbose)\u001b[0m\n\u001b[1;32m     50\u001b[0m     labels_mask[:, ct_idx] \u001b[39m=\u001b[39m adata\u001b[39m.\u001b[39mobs\u001b[39m.\u001b[39mlabel \u001b[39m==\u001b[39m label\n\u001b[1;32m     52\u001b[0m \u001b[39m# Perm should be a cube /w dims: n_perms x idents x n_genes\u001b[39;00m\n\u001b[0;32m---> 53\u001b[0m perms \u001b[39m=\u001b[39m _generate_perms_cube(adata\u001b[39m.\u001b[39;49mX, n_perms, labels_mask, seed, agg_fun, verbose)\n\u001b[1;32m     55\u001b[0m \u001b[39mreturn\u001b[39;00m perms\n",
      "File \u001b[0;32m~/anaconda3/envs/spiana/lib/python3.10/site-packages/liana/method/_pipe_utils/_get_mean_perms.py:76\u001b[0m, in \u001b[0;36m_generate_perms_cube\u001b[0;34m(X, n_perms, labels_mask, seed, agg_fun, verbose)\u001b[0m\n\u001b[1;32m     74\u001b[0m     \u001b[39mfor\u001b[39;00m ct_idx \u001b[39min\u001b[39;00m \u001b[39mrange\u001b[39m(labels_mask\u001b[39m.\u001b[39mshape[\u001b[39m1\u001b[39m]):\n\u001b[1;32m     75\u001b[0m         ct_mask \u001b[39m=\u001b[39m labels_mask[:, ct_idx]\n\u001b[0;32m---> 76\u001b[0m         perms[perm, ct_idx] \u001b[39m=\u001b[39m agg_fun(perm_mat[ct_mask], axis\u001b[39m=\u001b[39;49m\u001b[39m0\u001b[39;49m)\n\u001b[1;32m     78\u001b[0m \u001b[39mreturn\u001b[39;00m perms\n",
      "File \u001b[0;32m<__array_function__ internals>:180\u001b[0m, in \u001b[0;36mmean\u001b[0;34m(*args, **kwargs)\u001b[0m\n",
      "File \u001b[0;32m~/anaconda3/envs/spiana/lib/python3.10/site-packages/numpy/core/fromnumeric.py:3472\u001b[0m, in \u001b[0;36mmean\u001b[0;34m(a, axis, dtype, out, keepdims, where)\u001b[0m\n\u001b[1;32m   3470\u001b[0m         \u001b[39mpass\u001b[39;00m\n\u001b[1;32m   3471\u001b[0m     \u001b[39melse\u001b[39;00m:\n\u001b[0;32m-> 3472\u001b[0m         \u001b[39mreturn\u001b[39;00m mean(axis\u001b[39m=\u001b[39;49maxis, dtype\u001b[39m=\u001b[39;49mdtype, out\u001b[39m=\u001b[39;49mout, \u001b[39m*\u001b[39;49m\u001b[39m*\u001b[39;49mkwargs)\n\u001b[1;32m   3474\u001b[0m \u001b[39mreturn\u001b[39;00m _methods\u001b[39m.\u001b[39m_mean(a, axis\u001b[39m=\u001b[39maxis, dtype\u001b[39m=\u001b[39mdtype,\n\u001b[1;32m   3475\u001b[0m                       out\u001b[39m=\u001b[39mout, \u001b[39m*\u001b[39m\u001b[39m*\u001b[39mkwargs)\n",
      "File \u001b[0;32m~/anaconda3/envs/spiana/lib/python3.10/site-packages/scipy/sparse/_base.py:1191\u001b[0m, in \u001b[0;36mspmatrix.mean\u001b[0;34m(self, axis, dtype, out)\u001b[0m\n\u001b[1;32m   1189\u001b[0m \u001b[39m# axis = 0 or 1 now\u001b[39;00m\n\u001b[1;32m   1190\u001b[0m \u001b[39mif\u001b[39;00m axis \u001b[39m==\u001b[39m \u001b[39m0\u001b[39m:\n\u001b[0;32m-> 1191\u001b[0m     \u001b[39mreturn\u001b[39;00m (inter_self \u001b[39m*\u001b[39;49m (\u001b[39m1.0\u001b[39;49m \u001b[39m/\u001b[39;49m \u001b[39mself\u001b[39;49m\u001b[39m.\u001b[39;49mshape[\u001b[39m0\u001b[39;49m]))\u001b[39m.\u001b[39msum(\n\u001b[1;32m   1192\u001b[0m         axis\u001b[39m=\u001b[39m\u001b[39m0\u001b[39m, dtype\u001b[39m=\u001b[39mres_dtype, out\u001b[39m=\u001b[39mout)\n\u001b[1;32m   1193\u001b[0m \u001b[39melse\u001b[39;00m:\n\u001b[1;32m   1194\u001b[0m     \u001b[39mreturn\u001b[39;00m (inter_self \u001b[39m*\u001b[39m (\u001b[39m1.0\u001b[39m \u001b[39m/\u001b[39m \u001b[39mself\u001b[39m\u001b[39m.\u001b[39mshape[\u001b[39m1\u001b[39m]))\u001b[39m.\u001b[39msum(\n\u001b[1;32m   1195\u001b[0m         axis\u001b[39m=\u001b[39m\u001b[39m1\u001b[39m, dtype\u001b[39m=\u001b[39mres_dtype, out\u001b[39m=\u001b[39mout)\n",
      "File \u001b[0;32m~/anaconda3/envs/spiana/lib/python3.10/site-packages/scipy/sparse/_base.py:590\u001b[0m, in \u001b[0;36mspmatrix.__mul__\u001b[0;34m(self, other)\u001b[0m\n\u001b[1;32m    589\u001b[0m \u001b[39mdef\u001b[39;00m \u001b[39m__mul__\u001b[39m(\u001b[39mself\u001b[39m, other):\n\u001b[0;32m--> 590\u001b[0m     \u001b[39mreturn\u001b[39;00m \u001b[39mself\u001b[39;49m\u001b[39m.\u001b[39;49m_mul_dispatch(other)\n",
      "File \u001b[0;32m~/anaconda3/envs/spiana/lib/python3.10/site-packages/scipy/sparse/_base.py:536\u001b[0m, in \u001b[0;36mspmatrix._mul_dispatch\u001b[0;34m(self, other)\u001b[0m\n\u001b[1;32m    532\u001b[0m         \u001b[39mreturn\u001b[39;00m \u001b[39mself\u001b[39m\u001b[39m.\u001b[39m_mul_multivector(other)\n\u001b[1;32m    534\u001b[0m \u001b[39mif\u001b[39;00m isscalarlike(other):\n\u001b[1;32m    535\u001b[0m     \u001b[39m# scalar value\u001b[39;00m\n\u001b[0;32m--> 536\u001b[0m     \u001b[39mreturn\u001b[39;00m \u001b[39mself\u001b[39;49m\u001b[39m.\u001b[39;49m_mul_scalar(other)\n\u001b[1;32m    538\u001b[0m \u001b[39mif\u001b[39;00m issparse(other):\n\u001b[1;32m    539\u001b[0m     \u001b[39mif\u001b[39;00m \u001b[39mself\u001b[39m\u001b[39m.\u001b[39mshape[\u001b[39m1\u001b[39m] \u001b[39m!=\u001b[39m other\u001b[39m.\u001b[39mshape[\u001b[39m0\u001b[39m]:\n",
      "File \u001b[0;32m~/anaconda3/envs/spiana/lib/python3.10/site-packages/scipy/sparse/_data.py:124\u001b[0m, in \u001b[0;36m_data_matrix._mul_scalar\u001b[0;34m(self, other)\u001b[0m\n\u001b[1;32m    123\u001b[0m \u001b[39mdef\u001b[39;00m \u001b[39m_mul_scalar\u001b[39m(\u001b[39mself\u001b[39m, other):\n\u001b[0;32m--> 124\u001b[0m     \u001b[39mreturn\u001b[39;00m \u001b[39mself\u001b[39;49m\u001b[39m.\u001b[39;49m_with_data(\u001b[39mself\u001b[39;49m\u001b[39m.\u001b[39;49mdata \u001b[39m*\u001b[39;49m other)\n",
      "File \u001b[0;32m~/anaconda3/envs/spiana/lib/python3.10/site-packages/scipy/sparse/_compressed.py:1224\u001b[0m, in \u001b[0;36m_cs_matrix._with_data\u001b[0;34m(self, data, copy)\u001b[0m\n\u001b[1;32m   1217\u001b[0m resize\u001b[39m.\u001b[39m\u001b[39m__doc__\u001b[39m \u001b[39m=\u001b[39m spmatrix\u001b[39m.\u001b[39mresize\u001b[39m.\u001b[39m\u001b[39m__doc__\u001b[39m\n\u001b[1;32m   1219\u001b[0m \u001b[39m###################\u001b[39;00m\n\u001b[1;32m   1220\u001b[0m \u001b[39m# utility methods #\u001b[39;00m\n\u001b[1;32m   1221\u001b[0m \u001b[39m###################\u001b[39;00m\n\u001b[1;32m   1222\u001b[0m \n\u001b[1;32m   1223\u001b[0m \u001b[39m# needed by _data_matrix\u001b[39;00m\n\u001b[0;32m-> 1224\u001b[0m \u001b[39mdef\u001b[39;00m \u001b[39m_with_data\u001b[39m(\u001b[39mself\u001b[39m, data, copy\u001b[39m=\u001b[39m\u001b[39mTrue\u001b[39;00m):\n\u001b[1;32m   1225\u001b[0m \u001b[39m    \u001b[39m\u001b[39m\"\"\"Returns a matrix with the same sparsity structure as self,\u001b[39;00m\n\u001b[1;32m   1226\u001b[0m \u001b[39m    but with different data.  By default the structure arrays\u001b[39;00m\n\u001b[1;32m   1227\u001b[0m \u001b[39m    (i.e. .indptr and .indices) are copied.\u001b[39;00m\n\u001b[1;32m   1228\u001b[0m \u001b[39m    \"\"\"\u001b[39;00m\n\u001b[1;32m   1229\u001b[0m     \u001b[39mif\u001b[39;00m copy:\n",
      "\u001b[0;31mKeyboardInterrupt\u001b[0m: "
     ]
    }
   ],
   "source": [
    "benchmark_stats = pd.DataFrame(columns=[\"method\", \"n_obs\", \"time\", \"memory\"])\n",
    "\n",
    "obs_range = [50000, 10000, 5000, 1000, 100000]\n",
    "\n",
    "for n_obs in obs_range:\n",
    "    print(n_obs)\n",
    "    adata = _sample_anndata(n_obs=n_obs)\n",
    "    resource = _sample_resource(adata, n_lrs=3000)\n",
    "        \n",
    "    for method in methods.keys():\n",
    "        for _ in range(5):\n",
    "            print(method)\n",
    "            time, memory = _benchmark(function=methods[method],\n",
    "                                      adata=adata,\n",
    "                                      resource=resource,\n",
    "                                      groupby='cell_type',\n",
    "                                      use_raw=False,\n",
    "                                      verbose=False\n",
    "                                      )\n",
    "            benchmark_stats.loc[len(benchmark_stats)] = [method, n_obs, time, memory]\n",
    "    benchmark_stats.to_csv(\"sc_stats.csv\", index=False)\n",
    "    \n",
    "    gc.collect()"
   ]
  },
  {
   "cell_type": "code",
   "execution_count": null,
   "metadata": {},
   "outputs": [],
   "source": []
  },
  {
   "attachments": {},
   "cell_type": "markdown",
   "metadata": {},
   "source": [
    "## Local Spatial Scores"
   ]
  },
  {
   "cell_type": "code",
   "execution_count": 5,
   "metadata": {},
   "outputs": [],
   "source": [
    "import squidpy as sq\n",
    "import scanpy as sc\n",
    "import pandas as pd\n",
    "from itertools import product"
   ]
  },
  {
   "cell_type": "code",
   "execution_count": 6,
   "metadata": {},
   "outputs": [],
   "source": [
    "# NOTE: I'm not benchmarking masked_pearson here cuz it's much less efficient than any other score\n",
    "methods = [\"cosine\", \"jaccard\", \"spearman\", \"pearson\", \"morans\"] # , \"masked_spearman\""
   ]
  },
  {
   "cell_type": "code",
   "execution_count": 7,
   "metadata": {},
   "outputs": [],
   "source": [
    "obs_list = [\"xenium\", 1000, 2500, 5000, 10000, 25000]"
   ]
  },
  {
   "cell_type": "code",
   "execution_count": 8,
   "metadata": {},
   "outputs": [
    {
     "name": "stdout",
     "output_type": "stream",
     "text": [
      "xenium\n",
      "cosine\n",
      "Using `.X`!\n",
      "Using `.X`!\n",
      "Using `.X`!\n",
      "Using `.X`!\n",
      "Using `.X`!\n",
      "jaccard\n",
      "Using `.X`!\n",
      "Using `.X`!\n",
      "Using `.X`!\n",
      "Using `.X`!\n",
      "Using `.X`!\n",
      "spearman\n",
      "Using `.X`!\n",
      "Using `.X`!\n",
      "Using `.X`!\n",
      "Using `.X`!\n",
      "Using `.X`!\n",
      "pearson\n",
      "Using `.X`!\n",
      "Using `.X`!\n",
      "Using `.X`!\n",
      "Using `.X`!\n",
      "Using `.X`!\n",
      "morans\n",
      "Using `.X`!\n"
     ]
    },
    {
     "name": "stderr",
     "output_type": "stream",
     "text": [
      "/home/dbdimitrov/anaconda3/envs/spiana/lib/python3.10/site-packages/liana/method/sp/_spatial_pipe.py:354: VisibleDeprecationWarning: Creating an ndarray from ragged nested sequences (which is a list-or-tuple of lists-or-tuples-or ndarrays with different lengths or shapes) is deprecated. If you meant to do this, you must specify 'dtype=object' when creating the ndarray.\n"
     ]
    },
    {
     "name": "stdout",
     "output_type": "stream",
     "text": [
      "Using `.X`!\n"
     ]
    },
    {
     "name": "stderr",
     "output_type": "stream",
     "text": [
      "/home/dbdimitrov/anaconda3/envs/spiana/lib/python3.10/site-packages/liana/method/sp/_spatial_pipe.py:354: VisibleDeprecationWarning: Creating an ndarray from ragged nested sequences (which is a list-or-tuple of lists-or-tuples-or ndarrays with different lengths or shapes) is deprecated. If you meant to do this, you must specify 'dtype=object' when creating the ndarray.\n"
     ]
    },
    {
     "name": "stdout",
     "output_type": "stream",
     "text": [
      "Using `.X`!\n"
     ]
    },
    {
     "name": "stderr",
     "output_type": "stream",
     "text": [
      "/home/dbdimitrov/anaconda3/envs/spiana/lib/python3.10/site-packages/liana/method/sp/_spatial_pipe.py:354: VisibleDeprecationWarning: Creating an ndarray from ragged nested sequences (which is a list-or-tuple of lists-or-tuples-or ndarrays with different lengths or shapes) is deprecated. If you meant to do this, you must specify 'dtype=object' when creating the ndarray.\n"
     ]
    },
    {
     "name": "stdout",
     "output_type": "stream",
     "text": [
      "Using `.X`!\n"
     ]
    },
    {
     "name": "stderr",
     "output_type": "stream",
     "text": [
      "/home/dbdimitrov/anaconda3/envs/spiana/lib/python3.10/site-packages/liana/method/sp/_spatial_pipe.py:354: VisibleDeprecationWarning: Creating an ndarray from ragged nested sequences (which is a list-or-tuple of lists-or-tuples-or ndarrays with different lengths or shapes) is deprecated. If you meant to do this, you must specify 'dtype=object' when creating the ndarray.\n"
     ]
    },
    {
     "name": "stdout",
     "output_type": "stream",
     "text": [
      "Using `.X`!\n"
     ]
    },
    {
     "name": "stderr",
     "output_type": "stream",
     "text": [
      "/home/dbdimitrov/anaconda3/envs/spiana/lib/python3.10/site-packages/liana/method/sp/_spatial_pipe.py:354: VisibleDeprecationWarning: Creating an ndarray from ragged nested sequences (which is a list-or-tuple of lists-or-tuples-or ndarrays with different lengths or shapes) is deprecated. If you meant to do this, you must specify 'dtype=object' when creating the ndarray.\n"
     ]
    },
    {
     "name": "stdout",
     "output_type": "stream",
     "text": [
      "1000\n",
      " NNZ fraction: 0.0998465\n",
      "cosine\n",
      "Using `.X`!\n",
      "Using `.X`!\n",
      "Using `.X`!\n",
      "Using `.X`!\n",
      "Using `.X`!\n",
      "jaccard\n",
      "Using `.X`!\n",
      "Using `.X`!\n",
      "Using `.X`!\n",
      "Using `.X`!\n",
      "Using `.X`!\n",
      "spearman\n",
      "Using `.X`!\n",
      "Using `.X`!\n",
      "Using `.X`!\n",
      "Using `.X`!\n",
      "Using `.X`!\n",
      "pearson\n",
      "Using `.X`!\n",
      "Using `.X`!\n",
      "Using `.X`!\n",
      "Using `.X`!\n",
      "Using `.X`!\n",
      "morans\n",
      "Using `.X`!\n"
     ]
    },
    {
     "name": "stderr",
     "output_type": "stream",
     "text": [
      "/home/dbdimitrov/anaconda3/envs/spiana/lib/python3.10/site-packages/liana/method/sp/_spatial_pipe.py:354: VisibleDeprecationWarning: Creating an ndarray from ragged nested sequences (which is a list-or-tuple of lists-or-tuples-or ndarrays with different lengths or shapes) is deprecated. If you meant to do this, you must specify 'dtype=object' when creating the ndarray.\n"
     ]
    },
    {
     "name": "stdout",
     "output_type": "stream",
     "text": [
      "Using `.X`!\n"
     ]
    },
    {
     "name": "stderr",
     "output_type": "stream",
     "text": [
      "/home/dbdimitrov/anaconda3/envs/spiana/lib/python3.10/site-packages/liana/method/sp/_spatial_pipe.py:354: VisibleDeprecationWarning: Creating an ndarray from ragged nested sequences (which is a list-or-tuple of lists-or-tuples-or ndarrays with different lengths or shapes) is deprecated. If you meant to do this, you must specify 'dtype=object' when creating the ndarray.\n"
     ]
    },
    {
     "name": "stdout",
     "output_type": "stream",
     "text": [
      "Using `.X`!\n"
     ]
    },
    {
     "name": "stderr",
     "output_type": "stream",
     "text": [
      "/home/dbdimitrov/anaconda3/envs/spiana/lib/python3.10/site-packages/liana/method/sp/_spatial_pipe.py:354: VisibleDeprecationWarning: Creating an ndarray from ragged nested sequences (which is a list-or-tuple of lists-or-tuples-or ndarrays with different lengths or shapes) is deprecated. If you meant to do this, you must specify 'dtype=object' when creating the ndarray.\n",
      "/home/dbdimitrov/anaconda3/envs/spiana/lib/python3.10/site-packages/liana/method/sp/_spatial_pipe.py:354: VisibleDeprecationWarning: Creating an ndarray from ragged nested sequences (which is a list-or-tuple of lists-or-tuples-or ndarrays with different lengths or shapes) is deprecated. If you meant to do this, you must specify 'dtype=object' when creating the ndarray.\n"
     ]
    },
    {
     "name": "stdout",
     "output_type": "stream",
     "text": [
      "Using `.X`!\n",
      "Using `.X`!\n"
     ]
    },
    {
     "name": "stderr",
     "output_type": "stream",
     "text": [
      "/home/dbdimitrov/anaconda3/envs/spiana/lib/python3.10/site-packages/liana/method/sp/_spatial_pipe.py:354: VisibleDeprecationWarning: Creating an ndarray from ragged nested sequences (which is a list-or-tuple of lists-or-tuples-or ndarrays with different lengths or shapes) is deprecated. If you meant to do this, you must specify 'dtype=object' when creating the ndarray.\n"
     ]
    },
    {
     "name": "stdout",
     "output_type": "stream",
     "text": [
      "2500\n",
      " NNZ fraction: 0.099789\n",
      "cosine\n",
      "Using `.X`!\n",
      "Using `.X`!\n",
      "Using `.X`!\n",
      "Using `.X`!\n",
      "Using `.X`!\n",
      "jaccard\n",
      "Using `.X`!\n",
      "Using `.X`!\n",
      "Using `.X`!\n",
      "Using `.X`!\n",
      "Using `.X`!\n",
      "spearman\n",
      "Using `.X`!\n",
      "Using `.X`!\n",
      "Using `.X`!\n",
      "Using `.X`!\n",
      "Using `.X`!\n",
      "pearson\n",
      "Using `.X`!\n",
      "Using `.X`!\n",
      "Using `.X`!\n",
      "Using `.X`!\n",
      "Using `.X`!\n",
      "morans\n",
      "Using `.X`!\n"
     ]
    },
    {
     "name": "stderr",
     "output_type": "stream",
     "text": [
      "/home/dbdimitrov/anaconda3/envs/spiana/lib/python3.10/site-packages/liana/method/sp/_spatial_pipe.py:354: VisibleDeprecationWarning: Creating an ndarray from ragged nested sequences (which is a list-or-tuple of lists-or-tuples-or ndarrays with different lengths or shapes) is deprecated. If you meant to do this, you must specify 'dtype=object' when creating the ndarray.\n"
     ]
    },
    {
     "name": "stdout",
     "output_type": "stream",
     "text": [
      "Using `.X`!\n"
     ]
    },
    {
     "name": "stderr",
     "output_type": "stream",
     "text": [
      "/home/dbdimitrov/anaconda3/envs/spiana/lib/python3.10/site-packages/liana/method/sp/_spatial_pipe.py:354: VisibleDeprecationWarning: Creating an ndarray from ragged nested sequences (which is a list-or-tuple of lists-or-tuples-or ndarrays with different lengths or shapes) is deprecated. If you meant to do this, you must specify 'dtype=object' when creating the ndarray.\n"
     ]
    },
    {
     "name": "stdout",
     "output_type": "stream",
     "text": [
      "Using `.X`!\n"
     ]
    },
    {
     "name": "stderr",
     "output_type": "stream",
     "text": [
      "/home/dbdimitrov/anaconda3/envs/spiana/lib/python3.10/site-packages/liana/method/sp/_spatial_pipe.py:354: VisibleDeprecationWarning: Creating an ndarray from ragged nested sequences (which is a list-or-tuple of lists-or-tuples-or ndarrays with different lengths or shapes) is deprecated. If you meant to do this, you must specify 'dtype=object' when creating the ndarray.\n"
     ]
    },
    {
     "name": "stdout",
     "output_type": "stream",
     "text": [
      "Using `.X`!\n"
     ]
    },
    {
     "name": "stderr",
     "output_type": "stream",
     "text": [
      "/home/dbdimitrov/anaconda3/envs/spiana/lib/python3.10/site-packages/liana/method/sp/_spatial_pipe.py:354: VisibleDeprecationWarning: Creating an ndarray from ragged nested sequences (which is a list-or-tuple of lists-or-tuples-or ndarrays with different lengths or shapes) is deprecated. If you meant to do this, you must specify 'dtype=object' when creating the ndarray.\n"
     ]
    },
    {
     "name": "stdout",
     "output_type": "stream",
     "text": [
      "Using `.X`!\n"
     ]
    },
    {
     "name": "stderr",
     "output_type": "stream",
     "text": [
      "/home/dbdimitrov/anaconda3/envs/spiana/lib/python3.10/site-packages/liana/method/sp/_spatial_pipe.py:354: VisibleDeprecationWarning: Creating an ndarray from ragged nested sequences (which is a list-or-tuple of lists-or-tuples-or ndarrays with different lengths or shapes) is deprecated. If you meant to do this, you must specify 'dtype=object' when creating the ndarray.\n"
     ]
    },
    {
     "name": "stdout",
     "output_type": "stream",
     "text": [
      "5000\n",
      " NNZ fraction: 0.0999908\n",
      "cosine\n",
      "Using `.X`!\n",
      "Using `.X`!\n",
      "Using `.X`!\n",
      "Using `.X`!\n",
      "Using `.X`!\n",
      "jaccard\n",
      "Using `.X`!\n",
      "Using `.X`!\n",
      "Using `.X`!\n",
      "Using `.X`!\n",
      "Using `.X`!\n",
      "spearman\n",
      "Using `.X`!\n",
      "Using `.X`!\n",
      "Using `.X`!\n",
      "Using `.X`!\n",
      "Using `.X`!\n",
      "pearson\n",
      "Using `.X`!\n",
      "Using `.X`!\n",
      "Using `.X`!\n",
      "Using `.X`!\n",
      "Using `.X`!\n",
      "morans\n",
      "Using `.X`!\n"
     ]
    },
    {
     "name": "stderr",
     "output_type": "stream",
     "text": [
      "/home/dbdimitrov/anaconda3/envs/spiana/lib/python3.10/site-packages/liana/method/sp/_spatial_pipe.py:354: VisibleDeprecationWarning: Creating an ndarray from ragged nested sequences (which is a list-or-tuple of lists-or-tuples-or ndarrays with different lengths or shapes) is deprecated. If you meant to do this, you must specify 'dtype=object' when creating the ndarray.\n"
     ]
    },
    {
     "name": "stdout",
     "output_type": "stream",
     "text": [
      "Using `.X`!\n"
     ]
    },
    {
     "name": "stderr",
     "output_type": "stream",
     "text": [
      "/home/dbdimitrov/anaconda3/envs/spiana/lib/python3.10/site-packages/liana/method/sp/_spatial_pipe.py:354: VisibleDeprecationWarning: Creating an ndarray from ragged nested sequences (which is a list-or-tuple of lists-or-tuples-or ndarrays with different lengths or shapes) is deprecated. If you meant to do this, you must specify 'dtype=object' when creating the ndarray.\n"
     ]
    },
    {
     "name": "stdout",
     "output_type": "stream",
     "text": [
      "Using `.X`!\n"
     ]
    },
    {
     "name": "stderr",
     "output_type": "stream",
     "text": [
      "/home/dbdimitrov/anaconda3/envs/spiana/lib/python3.10/site-packages/liana/method/sp/_spatial_pipe.py:354: VisibleDeprecationWarning: Creating an ndarray from ragged nested sequences (which is a list-or-tuple of lists-or-tuples-or ndarrays with different lengths or shapes) is deprecated. If you meant to do this, you must specify 'dtype=object' when creating the ndarray.\n"
     ]
    },
    {
     "name": "stdout",
     "output_type": "stream",
     "text": [
      "Using `.X`!\n"
     ]
    },
    {
     "name": "stderr",
     "output_type": "stream",
     "text": [
      "/home/dbdimitrov/anaconda3/envs/spiana/lib/python3.10/site-packages/liana/method/sp/_spatial_pipe.py:354: VisibleDeprecationWarning: Creating an ndarray from ragged nested sequences (which is a list-or-tuple of lists-or-tuples-or ndarrays with different lengths or shapes) is deprecated. If you meant to do this, you must specify 'dtype=object' when creating the ndarray.\n"
     ]
    },
    {
     "name": "stdout",
     "output_type": "stream",
     "text": [
      "Using `.X`!\n"
     ]
    },
    {
     "name": "stderr",
     "output_type": "stream",
     "text": [
      "/home/dbdimitrov/anaconda3/envs/spiana/lib/python3.10/site-packages/liana/method/sp/_spatial_pipe.py:354: VisibleDeprecationWarning: Creating an ndarray from ragged nested sequences (which is a list-or-tuple of lists-or-tuples-or ndarrays with different lengths or shapes) is deprecated. If you meant to do this, you must specify 'dtype=object' when creating the ndarray.\n"
     ]
    },
    {
     "name": "stdout",
     "output_type": "stream",
     "text": [
      "10000\n",
      " NNZ fraction: 0.0999469\n",
      "cosine\n",
      "Using `.X`!\n",
      "Using `.X`!\n",
      "Using `.X`!\n",
      "Using `.X`!\n",
      "Using `.X`!\n",
      "jaccard\n",
      "Using `.X`!\n",
      "Using `.X`!\n",
      "Using `.X`!\n",
      "Using `.X`!\n",
      "Using `.X`!\n",
      "spearman\n",
      "Using `.X`!\n",
      "Using `.X`!\n",
      "Using `.X`!\n",
      "Using `.X`!\n",
      "Using `.X`!\n",
      "pearson\n",
      "Using `.X`!\n",
      "Using `.X`!\n",
      "Using `.X`!\n",
      "Using `.X`!\n",
      "Using `.X`!\n",
      "morans\n",
      "Using `.X`!\n"
     ]
    },
    {
     "name": "stderr",
     "output_type": "stream",
     "text": [
      "/home/dbdimitrov/anaconda3/envs/spiana/lib/python3.10/site-packages/liana/method/sp/_spatial_pipe.py:354: VisibleDeprecationWarning: Creating an ndarray from ragged nested sequences (which is a list-or-tuple of lists-or-tuples-or ndarrays with different lengths or shapes) is deprecated. If you meant to do this, you must specify 'dtype=object' when creating the ndarray.\n"
     ]
    },
    {
     "name": "stdout",
     "output_type": "stream",
     "text": [
      "Using `.X`!\n"
     ]
    },
    {
     "name": "stderr",
     "output_type": "stream",
     "text": [
      "/home/dbdimitrov/anaconda3/envs/spiana/lib/python3.10/site-packages/liana/method/sp/_spatial_pipe.py:354: VisibleDeprecationWarning: Creating an ndarray from ragged nested sequences (which is a list-or-tuple of lists-or-tuples-or ndarrays with different lengths or shapes) is deprecated. If you meant to do this, you must specify 'dtype=object' when creating the ndarray.\n"
     ]
    },
    {
     "name": "stdout",
     "output_type": "stream",
     "text": [
      "Using `.X`!\n"
     ]
    },
    {
     "name": "stderr",
     "output_type": "stream",
     "text": [
      "/home/dbdimitrov/anaconda3/envs/spiana/lib/python3.10/site-packages/liana/method/sp/_spatial_pipe.py:354: VisibleDeprecationWarning: Creating an ndarray from ragged nested sequences (which is a list-or-tuple of lists-or-tuples-or ndarrays with different lengths or shapes) is deprecated. If you meant to do this, you must specify 'dtype=object' when creating the ndarray.\n"
     ]
    },
    {
     "name": "stdout",
     "output_type": "stream",
     "text": [
      "Using `.X`!\n"
     ]
    },
    {
     "name": "stderr",
     "output_type": "stream",
     "text": [
      "/home/dbdimitrov/anaconda3/envs/spiana/lib/python3.10/site-packages/liana/method/sp/_spatial_pipe.py:354: VisibleDeprecationWarning: Creating an ndarray from ragged nested sequences (which is a list-or-tuple of lists-or-tuples-or ndarrays with different lengths or shapes) is deprecated. If you meant to do this, you must specify 'dtype=object' when creating the ndarray.\n"
     ]
    },
    {
     "name": "stdout",
     "output_type": "stream",
     "text": [
      "Using `.X`!\n"
     ]
    },
    {
     "name": "stderr",
     "output_type": "stream",
     "text": [
      "/home/dbdimitrov/anaconda3/envs/spiana/lib/python3.10/site-packages/liana/method/sp/_spatial_pipe.py:354: VisibleDeprecationWarning: Creating an ndarray from ragged nested sequences (which is a list-or-tuple of lists-or-tuples-or ndarrays with different lengths or shapes) is deprecated. If you meant to do this, you must specify 'dtype=object' when creating the ndarray.\n"
     ]
    },
    {
     "name": "stdout",
     "output_type": "stream",
     "text": [
      "25000\n",
      " NNZ fraction: 0.10006314\n",
      "cosine\n",
      "Using `.X`!\n",
      "Using `.X`!\n",
      "Using `.X`!\n",
      "Using `.X`!\n",
      "Using `.X`!\n",
      "jaccard\n",
      "Using `.X`!\n",
      "Using `.X`!\n",
      "Using `.X`!\n",
      "Using `.X`!\n",
      "Using `.X`!\n",
      "spearman\n",
      "Using `.X`!\n",
      "Using `.X`!\n",
      "Using `.X`!\n",
      "Using `.X`!\n",
      "Using `.X`!\n",
      "pearson\n",
      "Using `.X`!\n",
      "Using `.X`!\n",
      "Using `.X`!\n",
      "Using `.X`!\n",
      "Using `.X`!\n",
      "morans\n",
      "Using `.X`!\n"
     ]
    },
    {
     "name": "stderr",
     "output_type": "stream",
     "text": [
      "/home/dbdimitrov/anaconda3/envs/spiana/lib/python3.10/site-packages/liana/method/sp/_spatial_pipe.py:354: VisibleDeprecationWarning: Creating an ndarray from ragged nested sequences (which is a list-or-tuple of lists-or-tuples-or ndarrays with different lengths or shapes) is deprecated. If you meant to do this, you must specify 'dtype=object' when creating the ndarray.\n"
     ]
    },
    {
     "name": "stdout",
     "output_type": "stream",
     "text": [
      "Using `.X`!\n"
     ]
    },
    {
     "name": "stderr",
     "output_type": "stream",
     "text": [
      "/home/dbdimitrov/anaconda3/envs/spiana/lib/python3.10/site-packages/liana/method/sp/_spatial_pipe.py:354: VisibleDeprecationWarning: Creating an ndarray from ragged nested sequences (which is a list-or-tuple of lists-or-tuples-or ndarrays with different lengths or shapes) is deprecated. If you meant to do this, you must specify 'dtype=object' when creating the ndarray.\n"
     ]
    },
    {
     "name": "stdout",
     "output_type": "stream",
     "text": [
      "Using `.X`!\n"
     ]
    },
    {
     "name": "stderr",
     "output_type": "stream",
     "text": [
      "/home/dbdimitrov/anaconda3/envs/spiana/lib/python3.10/site-packages/liana/method/sp/_spatial_pipe.py:354: VisibleDeprecationWarning: Creating an ndarray from ragged nested sequences (which is a list-or-tuple of lists-or-tuples-or ndarrays with different lengths or shapes) is deprecated. If you meant to do this, you must specify 'dtype=object' when creating the ndarray.\n"
     ]
    },
    {
     "name": "stdout",
     "output_type": "stream",
     "text": [
      "Using `.X`!\n"
     ]
    },
    {
     "name": "stderr",
     "output_type": "stream",
     "text": [
      "/home/dbdimitrov/anaconda3/envs/spiana/lib/python3.10/site-packages/liana/method/sp/_spatial_pipe.py:354: VisibleDeprecationWarning: Creating an ndarray from ragged nested sequences (which is a list-or-tuple of lists-or-tuples-or ndarrays with different lengths or shapes) is deprecated. If you meant to do this, you must specify 'dtype=object' when creating the ndarray.\n"
     ]
    },
    {
     "name": "stdout",
     "output_type": "stream",
     "text": [
      "Using `.X`!\n"
     ]
    },
    {
     "name": "stderr",
     "output_type": "stream",
     "text": [
      "/home/dbdimitrov/anaconda3/envs/spiana/lib/python3.10/site-packages/liana/method/sp/_spatial_pipe.py:354: VisibleDeprecationWarning: Creating an ndarray from ragged nested sequences (which is a list-or-tuple of lists-or-tuples-or ndarrays with different lengths or shapes) is deprecated. If you meant to do this, you must specify 'dtype=object' when creating the ndarray.\n"
     ]
    }
   ],
   "source": [
    "benchmark_stats = pd.DataFrame(columns=[\"method\", \"n_obs\", \"time\", \"memory\"])\n",
    "\n",
    "for n_obs in obs_list:\n",
    "    print(n_obs)\n",
    "    \n",
    "    if isinstance(n_obs, int):\n",
    "        adata = _sample_anndata(n_obs=n_obs)\n",
    "        resource = _sample_resource(adata, n_lrs=500)\n",
    "    elif (n_obs==\"xenium\"):\n",
    "        adata = sc.read_h5ad(\"xenium.h5ad\")\n",
    "        resource = adata.uns['resource']\n",
    "        \n",
    "    for method in methods:\n",
    "        print(method)\n",
    "        \n",
    "        for _ in range(5):\n",
    "            time, memory = _benchmark(function=li.mt.lr_bivar, \n",
    "                                      adata=adata, \n",
    "                                      function_name=method, n_perms=None,\n",
    "                                      use_raw=False,\n",
    "                                      positive_only=False, verbose=True,\n",
    "                                      resource=resource\n",
    "                                      )\n",
    "            benchmark_stats.loc[len(benchmark_stats)] = [method, n_obs, time, memory]\n",
    "    benchmark_stats.to_csv(\"sp_stats.csv\", index=False)"
   ]
  },
  {
   "cell_type": "code",
   "execution_count": null,
   "metadata": {},
   "outputs": [],
   "source": []
  },
  {
   "attachments": {},
   "cell_type": "markdown",
   "metadata": {},
   "source": [
    "### Plot Results"
   ]
  },
  {
   "cell_type": "code",
   "execution_count": 79,
   "metadata": {},
   "outputs": [],
   "source": [
    "import plotnine as p9"
   ]
  },
  {
   "cell_type": "code",
   "execution_count": 80,
   "metadata": {},
   "outputs": [],
   "source": [
    "benchmark_stats = pd.read_csv(\"sp_stats.csv\")\n"
   ]
  },
  {
   "cell_type": "code",
   "execution_count": 86,
   "metadata": {},
   "outputs": [],
   "source": [
    "# ints to name & as category\n",
    "benchmark_stats['n_obs'] = benchmark_stats['n_obs'].astype('category')\n",
    "benchmark_stats['dataset'] = benchmark_stats['n_obs'].astype(str).replace({\n",
    "    '1000': \"1k\",\n",
    "    '2500': \"2.5k\",\n",
    "    '5000': \"5k\",\n",
    "    '10000': \"10k\",\n",
    "    '25000': \"25k\",\n",
    "    \"xenium\": \"Xenium (164k)\"}).astype('category')\n"
   ]
  },
  {
   "cell_type": "code",
   "execution_count": 89,
   "metadata": {},
   "outputs": [
    {
     "name": "stderr",
     "output_type": "stream",
     "text": [
      "/tmp/ipykernel_1242819/1311216060.py:2: FutureWarning: The `inplace` parameter in pandas.Categorical.reorder_categories is deprecated and will be removed in a future version. Reordering categories will always return a new Categorical object.\n"
     ]
    }
   ],
   "source": [
    "# order\n",
    "benchmark_stats['dataset'].cat.reorder_categories(['1k', '2.5k', '5k', '10k', '25k', \"Xenium (164k)\",], inplace=True)\n",
    "\n",
    "\n",
    "benchmark_stats['method'] = benchmark_stats['method'].astype('category')"
   ]
  },
  {
   "cell_type": "code",
   "execution_count": null,
   "metadata": {},
   "outputs": [],
   "source": []
  },
  {
   "cell_type": "code",
   "execution_count": 90,
   "metadata": {},
   "outputs": [
    {
     "data": {
      "image/png": "[encoded data removed]",
      "text/plain": [
       "<Figure size 800x400 with 6 Axes>"
      ]
     },
     "metadata": {},
     "output_type": "display_data"
    },
    {
     "data": {
      "text/plain": [
       "<ggplot: (8727488545207)>"
      ]
     },
     "execution_count": 90,
     "metadata": {},
     "output_type": "execute_result"
    }
   ],
   "source": [
    "(\n",
    "    p9.ggplot(benchmark_stats, p9.aes(x=\"memory\", y=\"time\", color=\"method\")) + \n",
    "    p9.geom_point() +\n",
    "    p9.geom_line() +\n",
    "    p9.theme_bw() +\n",
    "    p9.facet_grid(\"~ dataset\" ) +\n",
    "    p9.labs(x=\"Memory (MB)\", y=\"Time (s)\") +\n",
    "    # rotate\n",
    "    p9.theme(axis_text_x = p9.element_text(angle = 90), figure_size=(8, 4)) +\n",
    "    # xlim\n",
    "    p9.scale_x_continuous(limits=(0, 7000))\n",
    ")"
   ]
  },
  {
   "cell_type": "code",
   "execution_count": null,
   "metadata": {},
   "outputs": [],
   "source": []
  },
  {
   "cell_type": "code",
   "execution_count": null,
   "metadata": {},
   "outputs": [],
   "source": [
    "# y = time in seconds, x = RAM; color = method; grid by n_obs # + add a Xenium and a Visium slide for space\n",
    "# or two plots one for time and one for RAM"
   ]
  },
  {
   "cell_type": "code",
   "execution_count": null,
   "metadata": {},
   "outputs": [],
   "source": []
  },
  {
   "cell_type": "code",
   "execution_count": null,
   "metadata": {},
   "outputs": [],
   "source": []
  },
  {
   "attachments": {},
   "cell_type": "markdown",
   "metadata": {},
   "source": [
    "Do I also do it on a single Xenium + Visium slide; add as dot to the plots; i.e. check n_obs and slap it there?"
   ]
  },
  {
   "attachments": {},
   "cell_type": "markdown",
   "metadata": {},
   "source": []
  }
 ],
 "metadata": {
  "kernelspec": {
   "display_name": "spiana",
   "language": "python",
   "name": "python3"
  },
  "language_info": {
   "codemirror_mode": {
    "name": "ipython",
    "version": 3
   },
   "file_extension": ".py",
   "mimetype": "text/x-python",
   "name": "python",
   "nbconvert_exporter": "python",
   "pygments_lexer": "ipython3",
   "version": "3.10.10"
  },
  "orig_nbformat": 4
 },
 "nbformat": 4,
 "nbformat_minor": 2
}
