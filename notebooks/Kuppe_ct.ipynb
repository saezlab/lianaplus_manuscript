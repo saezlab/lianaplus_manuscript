{
 "cells": [
  {
   "cell_type": "code",
   "execution_count": 2,
   "metadata": {},
   "outputs": [],
   "source": [
    "import os\n",
    "import numpy as np\n",
    "import pandas as pd\n",
    "\n",
    "# TODO: move such functions to a common utils folder\n",
    "from spot_calling.utils import load_prep_slide\n",
    "\n",
    "import liana as li\n",
    "\n",
    "import plotnine as p9\n",
    "\n",
    "data_dir = os.path.join('..', 'data', 'heart_visium')"
   ]
  },
  {
   "cell_type": "code",
   "execution_count": 3,
   "metadata": {},
   "outputs": [],
   "source": [
    "# Rename to more informative names\n",
    "full_names = {'Adipo': 'Adipocyte',\n",
    "              'CM': 'Cardiomyocyte',\n",
    "              'Endo': 'Endothelial',\n",
    "              'Fib': 'Fibroblast',\n",
    "              'PC': 'Pericyte',\n",
    "              'prolif': 'Proliferating',\n",
    "              'vSMCs': 'Vascular_SMCs',\n",
    "              }"
   ]
  },
  {
   "cell_type": "code",
   "execution_count": 4,
   "metadata": {},
   "outputs": [],
   "source": [
    "metadata = pd.read_csv(os.path.join(\"spot_calling\", \"visium_meta.csv\"))"
   ]
  },
  {
   "cell_type": "code",
   "execution_count": 5,
   "metadata": {},
   "outputs": [],
   "source": [
    "target_metrics = {}\n",
    "interactions = {}"
   ]
  },
  {
   "cell_type": "code",
   "execution_count": 6,
   "metadata": {},
   "outputs": [],
   "source": [
    "# scan names of all datasets\n",
    "dataset_names = [f for f in metadata.slide_name]\n"
   ]
  },
  {
   "cell_type": "code",
   "execution_count": null,
   "metadata": {},
   "outputs": [],
   "source": []
  },
  {
   "cell_type": "code",
   "execution_count": 7,
   "metadata": {},
   "outputs": [
    {
     "name": "stdout",
     "output_type": "stream",
     "text": [
      "Processing AKK001_157785\n"
     ]
    },
    {
     "name": "stderr",
     "output_type": "stream",
     "text": [
      "/home/dbdimitrov/anaconda3/envs/spiana/lib/python3.10/site-packages/mudata/_core/mudata.py:458: UserWarning: Cannot join columns with the same name because var_names are intersecting.\n",
      "view intra is not a csr_matrix. Converting to csr_matrix\n",
      "Now learning: Vascular_SMCs: 100%|██████████| 10/10 [00:02<00:00,  3.67it/s]\n"
     ]
    },
    {
     "name": "stdout",
     "output_type": "stream",
     "text": [
      "Processing AKK002_157779\n"
     ]
    },
    {
     "name": "stderr",
     "output_type": "stream",
     "text": [
      "/home/dbdimitrov/anaconda3/envs/spiana/lib/python3.10/site-packages/mudata/_core/mudata.py:458: UserWarning: Cannot join columns with the same name because var_names are intersecting.\n",
      "view intra is not a csr_matrix. Converting to csr_matrix\n",
      "Now learning: Vascular_SMCs: 100%|██████████| 10/10 [00:01<00:00,  6.92it/s]\n"
     ]
    },
    {
     "name": "stdout",
     "output_type": "stream",
     "text": [
      "Processing AKK002_157781\n"
     ]
    },
    {
     "name": "stderr",
     "output_type": "stream",
     "text": [
      "/home/dbdimitrov/anaconda3/envs/spiana/lib/python3.10/site-packages/mudata/_core/mudata.py:458: UserWarning: Cannot join columns with the same name because var_names are intersecting.\n",
      "view intra is not a csr_matrix. Converting to csr_matrix\n",
      "Now learning: Vascular_SMCs: 100%|██████████| 10/10 [00:01<00:00,  5.91it/s]\n"
     ]
    },
    {
     "name": "stdout",
     "output_type": "stream",
     "text": [
      "Processing AKK002_157782\n"
     ]
    },
    {
     "name": "stderr",
     "output_type": "stream",
     "text": [
      "/home/dbdimitrov/anaconda3/envs/spiana/lib/python3.10/site-packages/mudata/_core/mudata.py:458: UserWarning: Cannot join columns with the same name because var_names are intersecting.\n",
      "view intra is not a csr_matrix. Converting to csr_matrix\n",
      "Now learning: Vascular_SMCs: 100%|██████████| 10/10 [00:01<00:00,  8.13it/s]\n"
     ]
    },
    {
     "name": "stdout",
     "output_type": "stream",
     "text": [
      "Processing AKK003_157775\n"
     ]
    },
    {
     "name": "stderr",
     "output_type": "stream",
     "text": [
      "/home/dbdimitrov/anaconda3/envs/spiana/lib/python3.10/site-packages/mudata/_core/mudata.py:458: UserWarning: Cannot join columns with the same name because var_names are intersecting.\n",
      "view intra is not a csr_matrix. Converting to csr_matrix\n",
      "Now learning: Vascular_SMCs: 100%|██████████| 10/10 [00:01<00:00,  6.38it/s]\n"
     ]
    },
    {
     "name": "stdout",
     "output_type": "stream",
     "text": [
      "Processing AKK003_157777\n"
     ]
    },
    {
     "name": "stderr",
     "output_type": "stream",
     "text": [
      "/home/dbdimitrov/anaconda3/envs/spiana/lib/python3.10/site-packages/mudata/_core/mudata.py:458: UserWarning: Cannot join columns with the same name because var_names are intersecting.\n",
      "view intra is not a csr_matrix. Converting to csr_matrix\n",
      "Now learning: Adipocyte:   0%|          | 0/10 [00:00<?, ?it/s]/home/dbdimitrov/anaconda3/envs/spiana/lib/python3.10/site-packages/liana/method/sp/_Misty.py:342: RuntimeWarning: invalid value encountered in true_divide\n",
      "Now learning: Vascular_SMCs: 100%|██████████| 10/10 [00:01<00:00,  6.65it/s]\n"
     ]
    },
    {
     "name": "stdout",
     "output_type": "stream",
     "text": [
      "Processing AKK004_157772\n"
     ]
    },
    {
     "name": "stderr",
     "output_type": "stream",
     "text": [
      "/home/dbdimitrov/anaconda3/envs/spiana/lib/python3.10/site-packages/mudata/_core/mudata.py:458: UserWarning: Cannot join columns with the same name because var_names are intersecting.\n",
      "view intra is not a csr_matrix. Converting to csr_matrix\n",
      "Now learning: Vascular_SMCs: 100%|██████████| 10/10 [00:01<00:00,  5.68it/s]\n"
     ]
    },
    {
     "name": "stdout",
     "output_type": "stream",
     "text": [
      "Processing AKK006_157771\n"
     ]
    },
    {
     "name": "stderr",
     "output_type": "stream",
     "text": [
      "/home/dbdimitrov/anaconda3/envs/spiana/lib/python3.10/site-packages/mudata/_core/mudata.py:458: UserWarning: Cannot join columns with the same name because var_names are intersecting.\n",
      "view intra is not a csr_matrix. Converting to csr_matrix\n",
      "Now learning: Vascular_SMCs: 100%|██████████| 10/10 [00:01<00:00,  5.30it/s]\n"
     ]
    },
    {
     "name": "stdout",
     "output_type": "stream",
     "text": [
      "Processing Visium_1_CK279\n"
     ]
    },
    {
     "name": "stderr",
     "output_type": "stream",
     "text": [
      "/home/dbdimitrov/anaconda3/envs/spiana/lib/python3.10/site-packages/mudata/_core/mudata.py:458: UserWarning: Cannot join columns with the same name because var_names are intersecting.\n",
      "view intra is not a csr_matrix. Converting to csr_matrix\n",
      "Now learning: Lymphoid:  40%|████      | 4/10 [00:00<00:00,  9.17it/s]     /home/dbdimitrov/anaconda3/envs/spiana/lib/python3.10/site-packages/liana/method/sp/_Misty.py:342: RuntimeWarning: invalid value encountered in true_divide\n",
      "Now learning: Neuronal:  70%|███████   | 7/10 [00:00<00:00,  8.08it/s]/home/dbdimitrov/anaconda3/envs/spiana/lib/python3.10/site-packages/liana/method/sp/_Misty.py:342: RuntimeWarning: invalid value encountered in true_divide\n",
      "Now learning: Vascular_SMCs: 100%|██████████| 10/10 [00:01<00:00,  8.19it/s]\n"
     ]
    },
    {
     "name": "stdout",
     "output_type": "stream",
     "text": [
      "Processing Visium_10_CK288\n"
     ]
    },
    {
     "name": "stderr",
     "output_type": "stream",
     "text": [
      "/home/dbdimitrov/anaconda3/envs/spiana/lib/python3.10/site-packages/mudata/_core/mudata.py:458: UserWarning: Cannot join columns with the same name because var_names are intersecting.\n",
      "view intra is not a csr_matrix. Converting to csr_matrix\n",
      "Now learning: Vascular_SMCs: 100%|██████████| 10/10 [00:01<00:00,  6.23it/s]\n"
     ]
    },
    {
     "name": "stdout",
     "output_type": "stream",
     "text": [
      "Processing Visium_11_CK289\n"
     ]
    },
    {
     "name": "stderr",
     "output_type": "stream",
     "text": [
      "/home/dbdimitrov/anaconda3/envs/spiana/lib/python3.10/site-packages/mudata/_core/mudata.py:458: UserWarning: Cannot join columns with the same name because var_names are intersecting.\n",
      "view intra is not a csr_matrix. Converting to csr_matrix\n",
      "Now learning: Vascular_SMCs: 100%|██████████| 10/10 [00:01<00:00,  7.75it/s]\n"
     ]
    },
    {
     "name": "stdout",
     "output_type": "stream",
     "text": [
      "Processing Visium_12_CK290\n"
     ]
    },
    {
     "name": "stderr",
     "output_type": "stream",
     "text": [
      "/home/dbdimitrov/anaconda3/envs/spiana/lib/python3.10/site-packages/mudata/_core/mudata.py:458: UserWarning: Cannot join columns with the same name because var_names are intersecting.\n",
      "view intra is not a csr_matrix. Converting to csr_matrix\n",
      "Now learning: Vascular_SMCs: 100%|██████████| 10/10 [00:01<00:00,  6.14it/s]\n"
     ]
    },
    {
     "name": "stdout",
     "output_type": "stream",
     "text": [
      "Processing Visium_13_CK291\n"
     ]
    },
    {
     "name": "stderr",
     "output_type": "stream",
     "text": [
      "/home/dbdimitrov/anaconda3/envs/spiana/lib/python3.10/site-packages/mudata/_core/mudata.py:458: UserWarning: Cannot join columns with the same name because var_names are intersecting.\n",
      "view intra is not a csr_matrix. Converting to csr_matrix\n",
      "Now learning: Vascular_SMCs: 100%|██████████| 10/10 [00:01<00:00,  7.01it/s]\n"
     ]
    },
    {
     "name": "stdout",
     "output_type": "stream",
     "text": [
      "Processing Visium_14_CK292\n"
     ]
    },
    {
     "name": "stderr",
     "output_type": "stream",
     "text": [
      "/home/dbdimitrov/anaconda3/envs/spiana/lib/python3.10/site-packages/mudata/_core/mudata.py:458: UserWarning: Cannot join columns with the same name because var_names are intersecting.\n",
      "view intra is not a csr_matrix. Converting to csr_matrix\n",
      "Now learning: Vascular_SMCs: 100%|██████████| 10/10 [00:01<00:00,  6.31it/s]\n"
     ]
    },
    {
     "name": "stdout",
     "output_type": "stream",
     "text": [
      "Processing Visium_15_CK293\n"
     ]
    },
    {
     "name": "stderr",
     "output_type": "stream",
     "text": [
      "/home/dbdimitrov/anaconda3/envs/spiana/lib/python3.10/site-packages/mudata/_core/mudata.py:458: UserWarning: Cannot join columns with the same name because var_names are intersecting.\n",
      "view intra is not a csr_matrix. Converting to csr_matrix\n",
      "Now learning: Vascular_SMCs: 100%|██████████| 10/10 [00:01<00:00,  7.29it/s]\n"
     ]
    },
    {
     "name": "stdout",
     "output_type": "stream",
     "text": [
      "Processing Visium_16_CK294\n"
     ]
    },
    {
     "name": "stderr",
     "output_type": "stream",
     "text": [
      "/home/dbdimitrov/anaconda3/envs/spiana/lib/python3.10/site-packages/mudata/_core/mudata.py:458: UserWarning: Cannot join columns with the same name because var_names are intersecting.\n",
      "view intra is not a csr_matrix. Converting to csr_matrix\n",
      "Now learning: Vascular_SMCs: 100%|██████████| 10/10 [00:01<00:00,  7.32it/s]\n"
     ]
    },
    {
     "name": "stdout",
     "output_type": "stream",
     "text": [
      "Processing Visium_17_CK295\n"
     ]
    },
    {
     "name": "stderr",
     "output_type": "stream",
     "text": [
      "/home/dbdimitrov/anaconda3/envs/spiana/lib/python3.10/site-packages/mudata/_core/mudata.py:458: UserWarning: Cannot join columns with the same name because var_names are intersecting.\n",
      "view intra is not a csr_matrix. Converting to csr_matrix\n",
      "Now learning: Neuronal:  70%|███████   | 7/10 [00:01<00:00,  5.71it/s]     /home/dbdimitrov/anaconda3/envs/spiana/lib/python3.10/site-packages/liana/method/sp/_Misty.py:342: RuntimeWarning: invalid value encountered in true_divide\n",
      "Now learning: Vascular_SMCs: 100%|██████████| 10/10 [00:01<00:00,  5.88it/s]\n"
     ]
    },
    {
     "name": "stdout",
     "output_type": "stream",
     "text": [
      "Processing Visium_18_CK296\n"
     ]
    },
    {
     "name": "stderr",
     "output_type": "stream",
     "text": [
      "/home/dbdimitrov/anaconda3/envs/spiana/lib/python3.10/site-packages/mudata/_core/mudata.py:458: UserWarning: Cannot join columns with the same name because var_names are intersecting.\n",
      "view intra is not a csr_matrix. Converting to csr_matrix\n",
      "Now learning: Vascular_SMCs: 100%|██████████| 10/10 [00:01<00:00,  6.24it/s]\n"
     ]
    },
    {
     "name": "stdout",
     "output_type": "stream",
     "text": [
      "Processing Visium_19_CK297\n"
     ]
    },
    {
     "name": "stderr",
     "output_type": "stream",
     "text": [
      "/home/dbdimitrov/anaconda3/envs/spiana/lib/python3.10/site-packages/mudata/_core/mudata.py:458: UserWarning: Cannot join columns with the same name because var_names are intersecting.\n",
      "view intra is not a csr_matrix. Converting to csr_matrix\n",
      "Now learning: Vascular_SMCs: 100%|██████████| 10/10 [00:01<00:00,  5.54it/s]\n"
     ]
    },
    {
     "name": "stdout",
     "output_type": "stream",
     "text": [
      "Processing Visium_2_CK280\n"
     ]
    },
    {
     "name": "stderr",
     "output_type": "stream",
     "text": [
      "/home/dbdimitrov/anaconda3/envs/spiana/lib/python3.10/site-packages/mudata/_core/mudata.py:458: UserWarning: Cannot join columns with the same name because var_names are intersecting.\n",
      "view intra is not a csr_matrix. Converting to csr_matrix\n",
      "Now learning: Vascular_SMCs: 100%|██████████| 10/10 [00:01<00:00,  7.45it/s]\n"
     ]
    },
    {
     "name": "stdout",
     "output_type": "stream",
     "text": [
      "Processing Visium_20_CK298\n"
     ]
    },
    {
     "name": "stderr",
     "output_type": "stream",
     "text": [
      "/home/dbdimitrov/anaconda3/envs/spiana/lib/python3.10/site-packages/mudata/_core/mudata.py:458: UserWarning: Cannot join columns with the same name because var_names are intersecting.\n",
      "view intra is not a csr_matrix. Converting to csr_matrix\n",
      "Now learning: Vascular_SMCs: 100%|██████████| 10/10 [00:01<00:00,  6.33it/s]\n"
     ]
    },
    {
     "name": "stdout",
     "output_type": "stream",
     "text": [
      "Processing Visium_3_CK281\n"
     ]
    },
    {
     "name": "stderr",
     "output_type": "stream",
     "text": [
      "/home/dbdimitrov/anaconda3/envs/spiana/lib/python3.10/site-packages/mudata/_core/mudata.py:458: UserWarning: Cannot join columns with the same name because var_names are intersecting.\n",
      "view intra is not a csr_matrix. Converting to csr_matrix\n",
      "Now learning: Vascular_SMCs: 100%|██████████| 10/10 [00:01<00:00,  6.23it/s]\n"
     ]
    },
    {
     "name": "stdout",
     "output_type": "stream",
     "text": [
      "Processing Visium_4_CK282\n"
     ]
    },
    {
     "name": "stderr",
     "output_type": "stream",
     "text": [
      "/home/dbdimitrov/anaconda3/envs/spiana/lib/python3.10/site-packages/mudata/_core/mudata.py:458: UserWarning: Cannot join columns with the same name because var_names are intersecting.\n",
      "view intra is not a csr_matrix. Converting to csr_matrix\n",
      "Now learning: Vascular_SMCs: 100%|██████████| 10/10 [00:01<00:00,  7.40it/s]\n"
     ]
    },
    {
     "name": "stdout",
     "output_type": "stream",
     "text": [
      "Processing Visium_5_CK283\n"
     ]
    },
    {
     "name": "stderr",
     "output_type": "stream",
     "text": [
      "/home/dbdimitrov/anaconda3/envs/spiana/lib/python3.10/site-packages/mudata/_core/mudata.py:458: UserWarning: Cannot join columns with the same name because var_names are intersecting.\n",
      "view intra is not a csr_matrix. Converting to csr_matrix\n",
      "Now learning: Vascular_SMCs: 100%|██████████| 10/10 [00:01<00:00,  5.21it/s]\n"
     ]
    },
    {
     "name": "stdout",
     "output_type": "stream",
     "text": [
      "Processing Visium_6_CK284\n"
     ]
    },
    {
     "name": "stderr",
     "output_type": "stream",
     "text": [
      "/home/dbdimitrov/anaconda3/envs/spiana/lib/python3.10/site-packages/mudata/_core/mudata.py:458: UserWarning: Cannot join columns with the same name because var_names are intersecting.\n",
      "view intra is not a csr_matrix. Converting to csr_matrix\n",
      "Now learning: Vascular_SMCs: 100%|██████████| 10/10 [00:01<00:00,  6.11it/s]\n"
     ]
    },
    {
     "name": "stdout",
     "output_type": "stream",
     "text": [
      "Processing Visium_7_CK285\n"
     ]
    },
    {
     "name": "stderr",
     "output_type": "stream",
     "text": [
      "/home/dbdimitrov/anaconda3/envs/spiana/lib/python3.10/site-packages/mudata/_core/mudata.py:458: UserWarning: Cannot join columns with the same name because var_names are intersecting.\n",
      "view intra is not a csr_matrix. Converting to csr_matrix\n",
      "Now learning: Vascular_SMCs: 100%|██████████| 10/10 [00:01<00:00,  5.07it/s]\n"
     ]
    },
    {
     "name": "stdout",
     "output_type": "stream",
     "text": [
      "Processing Visium_8_CK286\n"
     ]
    },
    {
     "name": "stderr",
     "output_type": "stream",
     "text": [
      "/home/dbdimitrov/anaconda3/envs/spiana/lib/python3.10/site-packages/mudata/_core/mudata.py:458: UserWarning: Cannot join columns with the same name because var_names are intersecting.\n",
      "view intra is not a csr_matrix. Converting to csr_matrix\n",
      "Now learning: Lymphoid:  40%|████      | 4/10 [00:00<00:00, 10.08it/s]     /home/dbdimitrov/anaconda3/envs/spiana/lib/python3.10/site-packages/liana/method/sp/_Misty.py:342: RuntimeWarning: invalid value encountered in true_divide\n",
      "Now learning: Neuronal:  70%|███████   | 7/10 [00:00<00:00,  8.74it/s]/home/dbdimitrov/anaconda3/envs/spiana/lib/python3.10/site-packages/liana/method/sp/_Misty.py:342: RuntimeWarning: invalid value encountered in true_divide\n",
      "Now learning: Vascular_SMCs: 100%|██████████| 10/10 [00:01<00:00,  8.72it/s]\n"
     ]
    },
    {
     "name": "stdout",
     "output_type": "stream",
     "text": [
      "Processing Visium_9_CK287\n"
     ]
    },
    {
     "name": "stderr",
     "output_type": "stream",
     "text": [
      "/home/dbdimitrov/anaconda3/envs/spiana/lib/python3.10/site-packages/mudata/_core/mudata.py:458: UserWarning: Cannot join columns with the same name because var_names are intersecting.\n",
      "view intra is not a csr_matrix. Converting to csr_matrix\n",
      "Now learning: Vascular_SMCs: 100%|██████████| 10/10 [00:01<00:00,  5.95it/s]\n"
     ]
    }
   ],
   "source": [
    "for dataset in dataset_names:\n",
    "    print(f\"Processing {dataset}\")\n",
    "    \n",
    "    adata = load_prep_slide(path=data_dir, slide=dataset + '.h5ad', bandwidth=150, set_diag=False, cutoff=0.01)\n",
    "    # but only for the ones that are in the data\n",
    "    adata.obsm['compositions'].columns = [full_names.get(c, c) for c in adata.obsm['compositions'].columns]\n",
    "    \n",
    "    comps = li.ut.obsm_to_adata(adata, 'compositions')\n",
    "    comps = comps[:, comps.var.index!='Proliferating'].copy() # exclude proliferating\n",
    "\n",
    "    misty = li.mt.MistyData({\"intra\": comps, \"inter\": comps})\n",
    "    misty(model='linear', verbose=True, bypass_intra=True)\n",
    "    \n",
    "    interactions[dataset] = misty.uns['interactions'].copy()\n",
    "    interactions[dataset]['sample'] = dataset\n",
    "    target_metrics[dataset] = misty.uns['target_metrics'].copy()\n",
    "    target_metrics[dataset]['sample'] = dataset"
   ]
  },
  {
   "cell_type": "code",
   "execution_count": 8,
   "metadata": {},
   "outputs": [
    {
     "data": {
      "text/plain": [
       "17881"
      ]
     },
     "execution_count": 8,
     "metadata": {},
     "output_type": "execute_result"
    }
   ],
   "source": [
    "import gc\n",
    "gc.collect()"
   ]
  },
  {
   "cell_type": "code",
   "execution_count": null,
   "metadata": {},
   "outputs": [],
   "source": []
  },
  {
   "cell_type": "code",
   "execution_count": 9,
   "metadata": {},
   "outputs": [],
   "source": [
    "interactions = pd.concat(interactions, ignore_index=True)"
   ]
  },
  {
   "cell_type": "code",
   "execution_count": 10,
   "metadata": {},
   "outputs": [],
   "source": [
    "interactions = interactions.merge(metadata, left_on='sample', right_on='slide_name')"
   ]
  },
  {
   "cell_type": "code",
   "execution_count": 11,
   "metadata": {},
   "outputs": [],
   "source": [
    "target_metrics = pd.concat(target_metrics, ignore_index=True)\n",
    "target_metrics = target_metrics.merge(metadata, left_on='sample', right_on='slide_name')"
   ]
  },
  {
   "cell_type": "code",
   "execution_count": null,
   "metadata": {},
   "outputs": [],
   "source": []
  },
  {
   "cell_type": "code",
   "execution_count": 12,
   "metadata": {},
   "outputs": [],
   "source": [
    "def plot_target_metrics(misty=None,\n",
    "                        stat=None,\n",
    "                        target_metrics = None,\n",
    "                        top_n = None,\n",
    "                        ascending = False,\n",
    "                        key = None,\n",
    "                        filterby = None,\n",
    "                        filter_lambda: callable = None,\n",
    "                        aggregate_fun=None,\n",
    "                        figure_size: tuple = (5,5), # NOTE change this to be symmetrical\n",
    "                        return_fig: bool = True):\n",
    "    \n",
    "    if target_metrics is not None:\n",
    "        target_metrics = target_metrics.copy()\n",
    "    elif misty is not None:\n",
    "        target_metrics = misty.uns['target_metrics'].copy()\n",
    "    else:\n",
    "        raise ValueError(\"Either provide a misty object or target_metrics\")\n",
    "    \n",
    "    if stat is None:\n",
    "        raise ValueError(\"Provide a statistic to plot\")\n",
    "    \n",
    "    if filterby is not None:\n",
    "        msk = target_metrics[filterby].apply(filter_lambda)\n",
    "        target_metrics = target_metrics[msk]\n",
    "    if top_n is not None:\n",
    "        target_metrics = target_metrics.sort_values(stat, ascending=ascending, key=key).head(top_n)\n",
    "    \n",
    "    # get order of target by decreasing intra.R2\n",
    "    if aggregate_fun is not None:\n",
    "        targets = target_metrics.groupby(['target']).agg({stat: aggregate_fun}).reset_index()\n",
    "    else:\n",
    "        targets = target_metrics.copy()\n",
    "        \n",
    "    targets = targets.sort_values(by=stat, ascending=False)['target']\n",
    "    # targets as categorical variable\n",
    "    target_metrics['target'] = pd.Categorical(target_metrics['target'],\n",
    "                                              categories=targets,\n",
    "                                              ordered=True)\n",
    "        \n",
    "\n",
    "    p = (p9.ggplot(target_metrics, p9.aes(x='target', y=stat)) +\n",
    "         p9.geom_boxplot() if aggregate_fun is not None else p9.geom_point(size=3))\n",
    "    p = (p + p9.theme_bw() +\n",
    "         p9.theme(axis_text_x=p9.element_text(rotation=90),\n",
    "                  figure_size=figure_size) +\n",
    "         p9.labs(x='Target')\n",
    "         )\n",
    "\n",
    "    if return_fig:\n",
    "        return p\n",
    "    p.draw()"
   ]
  },
  {
   "cell_type": "code",
   "execution_count": 13,
   "metadata": {},
   "outputs": [],
   "source": [
    "tm_ctrl = target_metrics[target_metrics['major_labl']=='CTRL'].copy()\n",
    "tm_iz = target_metrics[target_metrics['major_labl']=='IZ'].copy()\n",
    "tm_rz = target_metrics[~target_metrics['major_labl'].isin(['CTRL', 'IZ'])].copy()\n"
   ]
  },
  {
   "cell_type": "code",
   "execution_count": 14,
   "metadata": {},
   "outputs": [
    {
     "data": {
      "image/png": "[encoded data removed]",
      "text/plain": [
       "<Figure size 500x500 with 1 Axes>"
      ]
     },
     "metadata": {},
     "output_type": "display_data"
    },
    {
     "data": {
      "text/plain": [
       "<ggplot: (8753953338402)>"
      ]
     },
     "execution_count": 14,
     "metadata": {},
     "output_type": "execute_result"
    }
   ],
   "source": [
    "# ticks at 0.1\n",
    "(plot_target_metrics(target_metrics=target_metrics, stat='gain_R2', aggregate_fun='median') +\n",
    "    p9.scale_y_continuous(breaks=np.arange(0, 1, 0.1))\n",
    ")"
   ]
  },
  {
   "cell_type": "code",
   "execution_count": null,
   "metadata": {},
   "outputs": [],
   "source": []
  },
  {
   "cell_type": "code",
   "execution_count": 15,
   "metadata": {},
   "outputs": [],
   "source": [
    "# keep targets with median gain_R2 > 0.05\n",
    "targets = target_metrics.groupby(['target']).agg({'gain_R2': 'median'}).reset_index()\n",
    "targets = targets[targets['gain_R2']>0.05]['target'].values"
   ]
  },
  {
   "cell_type": "code",
   "execution_count": 16,
   "metadata": {},
   "outputs": [
    {
     "data": {
      "text/plain": [
       "array(['Cardiomyocyte', 'Endothelial', 'Fibroblast', 'Myeloid',\n",
       "       'Pericyte', 'Vascular_SMCs'], dtype=object)"
      ]
     },
     "execution_count": 16,
     "metadata": {},
     "output_type": "execute_result"
    }
   ],
   "source": [
    "targets"
   ]
  },
  {
   "cell_type": "code",
   "execution_count": null,
   "metadata": {},
   "outputs": [],
   "source": []
  },
  {
   "cell_type": "code",
   "execution_count": 17,
   "metadata": {},
   "outputs": [],
   "source": [
    "def interactions_plot(misty= None,\n",
    "                      interactions = None,\n",
    "                      view = None,\n",
    "                      top_n = None,\n",
    "                      ascending = False,\n",
    "                      key = None,\n",
    "                      filterby = None,\n",
    "                      filter_lambda: callable = None,\n",
    "                      aggregate_fun = None,\n",
    "                      figure_size: tuple = (7,5),\n",
    "                      return_fig: bool = True):\n",
    "    \n",
    "    if target_metrics is not None:\n",
    "        interactions = interactions.copy()\n",
    "    elif misty is not None:\n",
    "        interactions = misty.uns['target_metrics'].copy()\n",
    "    else:\n",
    "        raise ValueError(\"Either provide a misty object or `interactions`\")\n",
    "    if view is None:\n",
    "        raise ValueError(\"Provide a `view` to plot\")\n",
    "\n",
    "    interactions = interactions[interactions['view'] == view]\n",
    "    grouped = interactions.groupby('predictor')['importances'].apply(lambda x: x.isna().all())\n",
    "    interactions = interactions[~interactions['predictor'].isin(grouped[grouped].index)]\n",
    "    \n",
    "    if aggregate_fun is not None:\n",
    "        interactions = interactions.groupby(['target', 'predictor']).agg({'importances': aggregate_fun}).reset_index()\n",
    "    \n",
    "    if filterby is not None:\n",
    "        top_interactions = interactions[interactions[filterby].apply(filter_lambda)]\n",
    "        top_interactions = top_interactions.drop_duplicates(['target', 'predictor'])\n",
    "    if top_n is not None:\n",
    "        interactions = interactions.sort_values(by='importances', key=key, ascending=ascending)\n",
    "        top_interactions = interactions.drop_duplicates(['target', 'predictor']).head(top_n)\n",
    "\n",
    "    if (filterby is not None) or (top_n is not None):\n",
    "        interactions = interactions[interactions['target'].isin(top_interactions['target']) &\n",
    "                            interactions['predictor'].isin(top_interactions['predictor'])]\n",
    "\n",
    "    p = (p9.ggplot(interactions,\n",
    "                   p9.aes(x='predictor',\n",
    "                          y='target',\n",
    "                          fill='importances')\n",
    "                   ) +\n",
    "    p9.geom_tile() +\n",
    "    p9.theme_minimal(base_size=12) +\n",
    "    p9.theme(axis_text_x=p9.element_text(rotation=90),\n",
    "             figure_size=figure_size) +\n",
    "    p9.labs(x='Predictor', y='Target', fill='Importance')\n",
    "    )\n",
    "\n",
    "    if return_fig:\n",
    "        return p\n",
    "    p.draw()"
   ]
  },
  {
   "cell_type": "code",
   "execution_count": 18,
   "metadata": {},
   "outputs": [
    {
     "data": {
      "image/png": "[encoded data removed]",
      "text/plain": [
       "<Figure size 500x500 with 1 Axes>"
      ]
     },
     "metadata": {
      "needs_background": "light"
     },
     "output_type": "display_data"
    },
    {
     "data": {
      "text/plain": [
       "<ggplot: (8754007922794)>"
      ]
     },
     "execution_count": 18,
     "metadata": {},
     "output_type": "execute_result"
    }
   ],
   "source": [
    "(interactions_plot(interactions=interactions, view='inter', aggregate_fun='median', figure_size=(5,5)) +\n",
    "    p9.scale_fill_gradient2(low = \"blue\", mid = \"white\", high = \"red\", midpoint = 0, limits=(-13, 13))\n",
    " )"
   ]
  },
  {
   "cell_type": "code",
   "execution_count": 19,
   "metadata": {},
   "outputs": [],
   "source": [
    "# keep only interactions with median importance > 2\n",
    "ints = interactions.groupby(['target', 'predictor']).agg({'importances': 'median'}).reset_index()\n",
    "ints = ints[ints['importances'] > 0 ]\n",
    "# keep only targets of interest\n",
    "ints = ints[ints['target'].isin(targets)]"
   ]
  },
  {
   "cell_type": "code",
   "execution_count": 20,
   "metadata": {},
   "outputs": [
    {
     "data": {
      "text/html": [
       "<div>\n",
       "<style scoped>\n",
       "    .dataframe tbody tr th:only-of-type {\n",
       "        vertical-align: middle;\n",
       "    }\n",
       "\n",
       "    .dataframe tbody tr th {\n",
       "        vertical-align: top;\n",
       "    }\n",
       "\n",
       "    .dataframe thead th {\n",
       "        text-align: right;\n",
       "    }\n",
       "</style>\n",
       "<table border=\"1\" class=\"dataframe\">\n",
       "  <thead>\n",
       "    <tr style=\"text-align: right;\">\n",
       "      <th></th>\n",
       "      <th>target</th>\n",
       "      <th>predictor</th>\n",
       "      <th>importances</th>\n",
       "    </tr>\n",
       "  </thead>\n",
       "  <tbody>\n",
       "    <tr>\n",
       "      <th>10</th>\n",
       "      <td>Cardiomyocyte</td>\n",
       "      <td>Endothelial</td>\n",
       "      <td>12.139006</td>\n",
       "    </tr>\n",
       "    <tr>\n",
       "      <th>11</th>\n",
       "      <td>Cardiomyocyte</td>\n",
       "      <td>Fibroblast</td>\n",
       "      <td>1.125898</td>\n",
       "    </tr>\n",
       "    <tr>\n",
       "      <th>12</th>\n",
       "      <td>Cardiomyocyte</td>\n",
       "      <td>Lymphoid</td>\n",
       "      <td>2.923217</td>\n",
       "    </tr>\n",
       "    <tr>\n",
       "      <th>15</th>\n",
       "      <td>Cardiomyocyte</td>\n",
       "      <td>Neuronal</td>\n",
       "      <td>4.586638</td>\n",
       "    </tr>\n",
       "    <tr>\n",
       "      <th>16</th>\n",
       "      <td>Cardiomyocyte</td>\n",
       "      <td>Pericyte</td>\n",
       "      <td>6.502392</td>\n",
       "    </tr>\n",
       "    <tr>\n",
       "      <th>18</th>\n",
       "      <td>Endothelial</td>\n",
       "      <td>Adipocyte</td>\n",
       "      <td>4.285902</td>\n",
       "    </tr>\n",
       "    <tr>\n",
       "      <th>19</th>\n",
       "      <td>Endothelial</td>\n",
       "      <td>Cardiomyocyte</td>\n",
       "      <td>8.744221</td>\n",
       "    </tr>\n",
       "    <tr>\n",
       "      <th>20</th>\n",
       "      <td>Endothelial</td>\n",
       "      <td>Fibroblast</td>\n",
       "      <td>3.557055</td>\n",
       "    </tr>\n",
       "    <tr>\n",
       "      <th>21</th>\n",
       "      <td>Endothelial</td>\n",
       "      <td>Lymphoid</td>\n",
       "      <td>1.308701</td>\n",
       "    </tr>\n",
       "    <tr>\n",
       "      <th>22</th>\n",
       "      <td>Endothelial</td>\n",
       "      <td>Mast</td>\n",
       "      <td>1.422319</td>\n",
       "    </tr>\n",
       "    <tr>\n",
       "      <th>23</th>\n",
       "      <td>Endothelial</td>\n",
       "      <td>Myeloid</td>\n",
       "      <td>1.331197</td>\n",
       "    </tr>\n",
       "    <tr>\n",
       "      <th>25</th>\n",
       "      <td>Endothelial</td>\n",
       "      <td>Pericyte</td>\n",
       "      <td>9.202198</td>\n",
       "    </tr>\n",
       "    <tr>\n",
       "      <th>26</th>\n",
       "      <td>Endothelial</td>\n",
       "      <td>Vascular_SMCs</td>\n",
       "      <td>3.464376</td>\n",
       "    </tr>\n",
       "    <tr>\n",
       "      <th>27</th>\n",
       "      <td>Fibroblast</td>\n",
       "      <td>Adipocyte</td>\n",
       "      <td>2.038242</td>\n",
       "    </tr>\n",
       "    <tr>\n",
       "      <th>28</th>\n",
       "      <td>Fibroblast</td>\n",
       "      <td>Cardiomyocyte</td>\n",
       "      <td>0.937616</td>\n",
       "    </tr>\n",
       "    <tr>\n",
       "      <th>29</th>\n",
       "      <td>Fibroblast</td>\n",
       "      <td>Endothelial</td>\n",
       "      <td>5.517696</td>\n",
       "    </tr>\n",
       "    <tr>\n",
       "      <th>31</th>\n",
       "      <td>Fibroblast</td>\n",
       "      <td>Mast</td>\n",
       "      <td>1.820314</td>\n",
       "    </tr>\n",
       "    <tr>\n",
       "      <th>32</th>\n",
       "      <td>Fibroblast</td>\n",
       "      <td>Myeloid</td>\n",
       "      <td>10.882561</td>\n",
       "    </tr>\n",
       "    <tr>\n",
       "      <th>33</th>\n",
       "      <td>Fibroblast</td>\n",
       "      <td>Neuronal</td>\n",
       "      <td>3.163955</td>\n",
       "    </tr>\n",
       "    <tr>\n",
       "      <th>34</th>\n",
       "      <td>Fibroblast</td>\n",
       "      <td>Pericyte</td>\n",
       "      <td>1.100539</td>\n",
       "    </tr>\n",
       "    <tr>\n",
       "      <th>35</th>\n",
       "      <td>Fibroblast</td>\n",
       "      <td>Vascular_SMCs</td>\n",
       "      <td>9.226281</td>\n",
       "    </tr>\n",
       "    <tr>\n",
       "      <th>54</th>\n",
       "      <td>Myeloid</td>\n",
       "      <td>Adipocyte</td>\n",
       "      <td>1.155114</td>\n",
       "    </tr>\n",
       "    <tr>\n",
       "      <th>56</th>\n",
       "      <td>Myeloid</td>\n",
       "      <td>Endothelial</td>\n",
       "      <td>1.099104</td>\n",
       "    </tr>\n",
       "    <tr>\n",
       "      <th>57</th>\n",
       "      <td>Myeloid</td>\n",
       "      <td>Fibroblast</td>\n",
       "      <td>7.338680</td>\n",
       "    </tr>\n",
       "    <tr>\n",
       "      <th>58</th>\n",
       "      <td>Myeloid</td>\n",
       "      <td>Lymphoid</td>\n",
       "      <td>5.267097</td>\n",
       "    </tr>\n",
       "    <tr>\n",
       "      <th>59</th>\n",
       "      <td>Myeloid</td>\n",
       "      <td>Mast</td>\n",
       "      <td>0.875688</td>\n",
       "    </tr>\n",
       "    <tr>\n",
       "      <th>60</th>\n",
       "      <td>Myeloid</td>\n",
       "      <td>Neuronal</td>\n",
       "      <td>1.422979</td>\n",
       "    </tr>\n",
       "    <tr>\n",
       "      <th>61</th>\n",
       "      <td>Myeloid</td>\n",
       "      <td>Pericyte</td>\n",
       "      <td>0.916645</td>\n",
       "    </tr>\n",
       "    <tr>\n",
       "      <th>73</th>\n",
       "      <td>Pericyte</td>\n",
       "      <td>Cardiomyocyte</td>\n",
       "      <td>3.867253</td>\n",
       "    </tr>\n",
       "    <tr>\n",
       "      <th>74</th>\n",
       "      <td>Pericyte</td>\n",
       "      <td>Endothelial</td>\n",
       "      <td>7.332239</td>\n",
       "    </tr>\n",
       "    <tr>\n",
       "      <th>75</th>\n",
       "      <td>Pericyte</td>\n",
       "      <td>Fibroblast</td>\n",
       "      <td>0.178279</td>\n",
       "    </tr>\n",
       "    <tr>\n",
       "      <th>76</th>\n",
       "      <td>Pericyte</td>\n",
       "      <td>Lymphoid</td>\n",
       "      <td>0.757563</td>\n",
       "    </tr>\n",
       "    <tr>\n",
       "      <th>77</th>\n",
       "      <td>Pericyte</td>\n",
       "      <td>Mast</td>\n",
       "      <td>0.312531</td>\n",
       "    </tr>\n",
       "    <tr>\n",
       "      <th>78</th>\n",
       "      <td>Pericyte</td>\n",
       "      <td>Myeloid</td>\n",
       "      <td>0.380085</td>\n",
       "    </tr>\n",
       "    <tr>\n",
       "      <th>79</th>\n",
       "      <td>Pericyte</td>\n",
       "      <td>Neuronal</td>\n",
       "      <td>1.260562</td>\n",
       "    </tr>\n",
       "    <tr>\n",
       "      <th>81</th>\n",
       "      <td>Vascular_SMCs</td>\n",
       "      <td>Adipocyte</td>\n",
       "      <td>1.944433</td>\n",
       "    </tr>\n",
       "    <tr>\n",
       "      <th>83</th>\n",
       "      <td>Vascular_SMCs</td>\n",
       "      <td>Endothelial</td>\n",
       "      <td>4.636213</td>\n",
       "    </tr>\n",
       "    <tr>\n",
       "      <th>84</th>\n",
       "      <td>Vascular_SMCs</td>\n",
       "      <td>Fibroblast</td>\n",
       "      <td>7.926809</td>\n",
       "    </tr>\n",
       "    <tr>\n",
       "      <th>86</th>\n",
       "      <td>Vascular_SMCs</td>\n",
       "      <td>Mast</td>\n",
       "      <td>0.195468</td>\n",
       "    </tr>\n",
       "    <tr>\n",
       "      <th>88</th>\n",
       "      <td>Vascular_SMCs</td>\n",
       "      <td>Neuronal</td>\n",
       "      <td>1.345462</td>\n",
       "    </tr>\n",
       "  </tbody>\n",
       "</table>\n",
       "</div>"
      ],
      "text/plain": [
       "           target      predictor  importances\n",
       "10  Cardiomyocyte    Endothelial    12.139006\n",
       "11  Cardiomyocyte     Fibroblast     1.125898\n",
       "12  Cardiomyocyte       Lymphoid     2.923217\n",
       "15  Cardiomyocyte       Neuronal     4.586638\n",
       "16  Cardiomyocyte       Pericyte     6.502392\n",
       "18    Endothelial      Adipocyte     4.285902\n",
       "19    Endothelial  Cardiomyocyte     8.744221\n",
       "20    Endothelial     Fibroblast     3.557055\n",
       "21    Endothelial       Lymphoid     1.308701\n",
       "22    Endothelial           Mast     1.422319\n",
       "23    Endothelial        Myeloid     1.331197\n",
       "25    Endothelial       Pericyte     9.202198\n",
       "26    Endothelial  Vascular_SMCs     3.464376\n",
       "27     Fibroblast      Adipocyte     2.038242\n",
       "28     Fibroblast  Cardiomyocyte     0.937616\n",
       "29     Fibroblast    Endothelial     5.517696\n",
       "31     Fibroblast           Mast     1.820314\n",
       "32     Fibroblast        Myeloid    10.882561\n",
       "33     Fibroblast       Neuronal     3.163955\n",
       "34     Fibroblast       Pericyte     1.100539\n",
       "35     Fibroblast  Vascular_SMCs     9.226281\n",
       "54        Myeloid      Adipocyte     1.155114\n",
       "56        Myeloid    Endothelial     1.099104\n",
       "57        Myeloid     Fibroblast     7.338680\n",
       "58        Myeloid       Lymphoid     5.267097\n",
       "59        Myeloid           Mast     0.875688\n",
       "60        Myeloid       Neuronal     1.422979\n",
       "61        Myeloid       Pericyte     0.916645\n",
       "73       Pericyte  Cardiomyocyte     3.867253\n",
       "74       Pericyte    Endothelial     7.332239\n",
       "75       Pericyte     Fibroblast     0.178279\n",
       "76       Pericyte       Lymphoid     0.757563\n",
       "77       Pericyte           Mast     0.312531\n",
       "78       Pericyte        Myeloid     0.380085\n",
       "79       Pericyte       Neuronal     1.260562\n",
       "81  Vascular_SMCs      Adipocyte     1.944433\n",
       "83  Vascular_SMCs    Endothelial     4.636213\n",
       "84  Vascular_SMCs     Fibroblast     7.926809\n",
       "86  Vascular_SMCs           Mast     0.195468\n",
       "88  Vascular_SMCs       Neuronal     1.345462"
      ]
     },
     "execution_count": 20,
     "metadata": {},
     "output_type": "execute_result"
    }
   ],
   "source": [
    "ints"
   ]
  },
  {
   "cell_type": "code",
   "execution_count": 20,
   "metadata": {},
   "outputs": [],
   "source": [
    "ints.to_csv('ct_interactions.csv')"
   ]
  },
  {
   "cell_type": "code",
   "execution_count": null,
   "metadata": {},
   "outputs": [],
   "source": []
  },
  {
   "attachments": {},
   "cell_type": "markdown",
   "metadata": {},
   "source": [
    "Compare importances"
   ]
  },
  {
   "cell_type": "code",
   "execution_count": 21,
   "metadata": {},
   "outputs": [],
   "source": [
    "from scipy.stats import ttest_ind"
   ]
  },
  {
   "cell_type": "code",
   "execution_count": 22,
   "metadata": {},
   "outputs": [],
   "source": [
    "interactions['group'] = interactions['major_labl'].copy()\n",
    "interactions.loc[interactions['major_labl']=='CTRL', 'group'] = 'CTRL'\n",
    "interactions.loc[interactions['major_labl']=='IZ', 'group'] = 'IZ'\n",
    "interactions.loc[~interactions['major_labl'].isin(['CTRL', 'IZ']), 'group'] = 'RZ' # this myogenic?"
   ]
  },
  {
   "cell_type": "code",
   "execution_count": 23,
   "metadata": {},
   "outputs": [],
   "source": [
    "groups = interactions['group'].unique()"
   ]
  },
  {
   "cell_type": "code",
   "execution_count": 24,
   "metadata": {},
   "outputs": [],
   "source": [
    "# Create a dictionary to store the t-test results\n",
    "t_test_results = pd.DataFrame({'target':[], 'predictor':[], 'group1': [], 'group2': [], 't_statistic': [], 'p_value': []})\n",
    "\n",
    "# Perform t-test for all combinations of groups\n",
    "for target in interactions['target'].unique():\n",
    "    for predictor in interactions['predictor'].unique():\n",
    "        msk = (interactions['target'] == target) & (interactions['predictor'] == predictor)\n",
    "        df = interactions[msk]\n",
    "        for i in range(len(groups)):\n",
    "            for j in range(i+1, len(groups)):\n",
    "                group1 = groups[i]\n",
    "                group2 = groups[j]\n",
    "\n",
    "                # Extract data for the two groups\n",
    "                data_group1 = df[df['group'] == group1]['importances']\n",
    "                data_group2 = df[df['group'] == group2]['importances']\n",
    "\n",
    "                # Perform t-test\n",
    "                t_stat, p_value = ttest_ind(data_group1, data_group2)\n",
    "\n",
    "                # Store results in the dictionary\n",
    "                # key interates the row\n",
    "                key = f\"{target}_{predictor}_{group1}_{group2}\"\n",
    "                t_test_results.loc[key, 'group1'] = group1\n",
    "                t_test_results.loc[key, 'group2'] = group2\n",
    "                t_test_results.loc[key, 't_statistic'] = t_stat\n",
    "                t_test_results.loc[key, 'p_value'] = p_value\n",
    "                t_test_results.loc[key, 'target'] = target\n",
    "                t_test_results.loc[key, 'predictor'] = predictor"
   ]
  },
  {
   "cell_type": "code",
   "execution_count": 25,
   "metadata": {},
   "outputs": [
    {
     "data": {
      "text/html": [
       "<div>\n",
       "<style scoped>\n",
       "    .dataframe tbody tr th:only-of-type {\n",
       "        vertical-align: middle;\n",
       "    }\n",
       "\n",
       "    .dataframe tbody tr th {\n",
       "        vertical-align: top;\n",
       "    }\n",
       "\n",
       "    .dataframe thead th {\n",
       "        text-align: right;\n",
       "    }\n",
       "</style>\n",
       "<table border=\"1\" class=\"dataframe\">\n",
       "  <thead>\n",
       "    <tr style=\"text-align: right;\">\n",
       "      <th></th>\n",
       "      <th>target</th>\n",
       "      <th>predictor</th>\n",
       "      <th>group1</th>\n",
       "      <th>group2</th>\n",
       "      <th>t_statistic</th>\n",
       "      <th>p_value</th>\n",
       "    </tr>\n",
       "  </thead>\n",
       "  <tbody>\n",
       "    <tr>\n",
       "      <th>Pericyte_Endothelial_IZ_CTRL</th>\n",
       "      <td>Pericyte</td>\n",
       "      <td>Endothelial</td>\n",
       "      <td>IZ</td>\n",
       "      <td>CTRL</td>\n",
       "      <td>3.139083</td>\n",
       "      <td>0.009424</td>\n",
       "    </tr>\n",
       "    <tr>\n",
       "      <th>Neuronal_Endothelial_RZ_IZ</th>\n",
       "      <td>Neuronal</td>\n",
       "      <td>Endothelial</td>\n",
       "      <td>RZ</td>\n",
       "      <td>IZ</td>\n",
       "      <td>2.993621</td>\n",
       "      <td>0.006693</td>\n",
       "    </tr>\n",
       "    <tr>\n",
       "      <th>Endothelial_Vascular_SMCs_IZ_CTRL</th>\n",
       "      <td>Endothelial</td>\n",
       "      <td>Vascular_SMCs</td>\n",
       "      <td>IZ</td>\n",
       "      <td>CTRL</td>\n",
       "      <td>2.593045</td>\n",
       "      <td>0.025002</td>\n",
       "    </tr>\n",
       "    <tr>\n",
       "      <th>Lymphoid_Myeloid_IZ_CTRL</th>\n",
       "      <td>Lymphoid</td>\n",
       "      <td>Myeloid</td>\n",
       "      <td>IZ</td>\n",
       "      <td>CTRL</td>\n",
       "      <td>2.490725</td>\n",
       "      <td>0.029997</td>\n",
       "    </tr>\n",
       "    <tr>\n",
       "      <th>Endothelial_Mast_RZ_CTRL</th>\n",
       "      <td>Endothelial</td>\n",
       "      <td>Mast</td>\n",
       "      <td>RZ</td>\n",
       "      <td>CTRL</td>\n",
       "      <td>2.470726</td>\n",
       "      <td>0.024362</td>\n",
       "    </tr>\n",
       "    <tr>\n",
       "      <th>Endothelial_Pericyte_IZ_CTRL</th>\n",
       "      <td>Endothelial</td>\n",
       "      <td>Pericyte</td>\n",
       "      <td>IZ</td>\n",
       "      <td>CTRL</td>\n",
       "      <td>2.390268</td>\n",
       "      <td>0.035844</td>\n",
       "    </tr>\n",
       "    <tr>\n",
       "      <th>Myeloid_Lymphoid_IZ_CTRL</th>\n",
       "      <td>Myeloid</td>\n",
       "      <td>Lymphoid</td>\n",
       "      <td>IZ</td>\n",
       "      <td>CTRL</td>\n",
       "      <td>2.279924</td>\n",
       "      <td>0.043542</td>\n",
       "    </tr>\n",
       "    <tr>\n",
       "      <th>Cardiomyocyte_Endothelial_RZ_IZ</th>\n",
       "      <td>Cardiomyocyte</td>\n",
       "      <td>Endothelial</td>\n",
       "      <td>RZ</td>\n",
       "      <td>IZ</td>\n",
       "      <td>2.219032</td>\n",
       "      <td>0.037108</td>\n",
       "    </tr>\n",
       "    <tr>\n",
       "      <th>Vascular_SMCs_Endothelial_IZ_CTRL</th>\n",
       "      <td>Vascular_SMCs</td>\n",
       "      <td>Endothelial</td>\n",
       "      <td>IZ</td>\n",
       "      <td>CTRL</td>\n",
       "      <td>2.188525</td>\n",
       "      <td>0.051100</td>\n",
       "    </tr>\n",
       "    <tr>\n",
       "      <th>Neuronal_Pericyte_IZ_CTRL</th>\n",
       "      <td>Neuronal</td>\n",
       "      <td>Pericyte</td>\n",
       "      <td>IZ</td>\n",
       "      <td>CTRL</td>\n",
       "      <td>2.165005</td>\n",
       "      <td>0.053238</td>\n",
       "    </tr>\n",
       "    <tr>\n",
       "      <th>Lymphoid_Myeloid_RZ_CTRL</th>\n",
       "      <td>Lymphoid</td>\n",
       "      <td>Myeloid</td>\n",
       "      <td>RZ</td>\n",
       "      <td>CTRL</td>\n",
       "      <td>2.111685</td>\n",
       "      <td>0.049819</td>\n",
       "    </tr>\n",
       "    <tr>\n",
       "      <th>Mast_Endothelial_RZ_CTRL</th>\n",
       "      <td>Mast</td>\n",
       "      <td>Endothelial</td>\n",
       "      <td>RZ</td>\n",
       "      <td>CTRL</td>\n",
       "      <td>2.000351</td>\n",
       "      <td>0.061697</td>\n",
       "    </tr>\n",
       "    <tr>\n",
       "      <th>Fibroblast_Vascular_SMCs_RZ_IZ</th>\n",
       "      <td>Fibroblast</td>\n",
       "      <td>Vascular_SMCs</td>\n",
       "      <td>RZ</td>\n",
       "      <td>IZ</td>\n",
       "      <td>1.981571</td>\n",
       "      <td>0.060160</td>\n",
       "    </tr>\n",
       "    <tr>\n",
       "      <th>Mast_Vascular_SMCs_RZ_IZ</th>\n",
       "      <td>Mast</td>\n",
       "      <td>Vascular_SMCs</td>\n",
       "      <td>RZ</td>\n",
       "      <td>IZ</td>\n",
       "      <td>1.962429</td>\n",
       "      <td>0.062483</td>\n",
       "    </tr>\n",
       "    <tr>\n",
       "      <th>Adipocyte_Vascular_SMCs_RZ_IZ</th>\n",
       "      <td>Adipocyte</td>\n",
       "      <td>Vascular_SMCs</td>\n",
       "      <td>RZ</td>\n",
       "      <td>IZ</td>\n",
       "      <td>1.927493</td>\n",
       "      <td>0.066928</td>\n",
       "    </tr>\n",
       "    <tr>\n",
       "      <th>Vascular_SMCs_Adipocyte_RZ_IZ</th>\n",
       "      <td>Vascular_SMCs</td>\n",
       "      <td>Adipocyte</td>\n",
       "      <td>RZ</td>\n",
       "      <td>IZ</td>\n",
       "      <td>1.877431</td>\n",
       "      <td>0.073782</td>\n",
       "    </tr>\n",
       "    <tr>\n",
       "      <th>Pericyte_Neuronal_IZ_CTRL</th>\n",
       "      <td>Pericyte</td>\n",
       "      <td>Neuronal</td>\n",
       "      <td>IZ</td>\n",
       "      <td>CTRL</td>\n",
       "      <td>1.846667</td>\n",
       "      <td>0.091851</td>\n",
       "    </tr>\n",
       "    <tr>\n",
       "      <th>Pericyte_Vascular_SMCs_RZ_IZ</th>\n",
       "      <td>Pericyte</td>\n",
       "      <td>Vascular_SMCs</td>\n",
       "      <td>RZ</td>\n",
       "      <td>IZ</td>\n",
       "      <td>1.831630</td>\n",
       "      <td>0.080582</td>\n",
       "    </tr>\n",
       "    <tr>\n",
       "      <th>Myeloid_Lymphoid_RZ_CTRL</th>\n",
       "      <td>Myeloid</td>\n",
       "      <td>Lymphoid</td>\n",
       "      <td>RZ</td>\n",
       "      <td>CTRL</td>\n",
       "      <td>1.807664</td>\n",
       "      <td>0.088386</td>\n",
       "    </tr>\n",
       "    <tr>\n",
       "      <th>Fibroblast_Endothelial_IZ_CTRL</th>\n",
       "      <td>Fibroblast</td>\n",
       "      <td>Endothelial</td>\n",
       "      <td>IZ</td>\n",
       "      <td>CTRL</td>\n",
       "      <td>1.777528</td>\n",
       "      <td>0.103104</td>\n",
       "    </tr>\n",
       "  </tbody>\n",
       "</table>\n",
       "</div>"
      ],
      "text/plain": [
       "                                          target      predictor group1 group2  \\\n",
       "Pericyte_Endothelial_IZ_CTRL            Pericyte    Endothelial     IZ   CTRL   \n",
       "Neuronal_Endothelial_RZ_IZ              Neuronal    Endothelial     RZ     IZ   \n",
       "Endothelial_Vascular_SMCs_IZ_CTRL    Endothelial  Vascular_SMCs     IZ   CTRL   \n",
       "Lymphoid_Myeloid_IZ_CTRL                Lymphoid        Myeloid     IZ   CTRL   \n",
       "Endothelial_Mast_RZ_CTRL             Endothelial           Mast     RZ   CTRL   \n",
       "Endothelial_Pericyte_IZ_CTRL         Endothelial       Pericyte     IZ   CTRL   \n",
       "Myeloid_Lymphoid_IZ_CTRL                 Myeloid       Lymphoid     IZ   CTRL   \n",
       "Cardiomyocyte_Endothelial_RZ_IZ    Cardiomyocyte    Endothelial     RZ     IZ   \n",
       "Vascular_SMCs_Endothelial_IZ_CTRL  Vascular_SMCs    Endothelial     IZ   CTRL   \n",
       "Neuronal_Pericyte_IZ_CTRL               Neuronal       Pericyte     IZ   CTRL   \n",
       "Lymphoid_Myeloid_RZ_CTRL                Lymphoid        Myeloid     RZ   CTRL   \n",
       "Mast_Endothelial_RZ_CTRL                    Mast    Endothelial     RZ   CTRL   \n",
       "Fibroblast_Vascular_SMCs_RZ_IZ        Fibroblast  Vascular_SMCs     RZ     IZ   \n",
       "Mast_Vascular_SMCs_RZ_IZ                    Mast  Vascular_SMCs     RZ     IZ   \n",
       "Adipocyte_Vascular_SMCs_RZ_IZ          Adipocyte  Vascular_SMCs     RZ     IZ   \n",
       "Vascular_SMCs_Adipocyte_RZ_IZ      Vascular_SMCs      Adipocyte     RZ     IZ   \n",
       "Pericyte_Neuronal_IZ_CTRL               Pericyte       Neuronal     IZ   CTRL   \n",
       "Pericyte_Vascular_SMCs_RZ_IZ            Pericyte  Vascular_SMCs     RZ     IZ   \n",
       "Myeloid_Lymphoid_RZ_CTRL                 Myeloid       Lymphoid     RZ   CTRL   \n",
       "Fibroblast_Endothelial_IZ_CTRL        Fibroblast    Endothelial     IZ   CTRL   \n",
       "\n",
       "                                   t_statistic   p_value  \n",
       "Pericyte_Endothelial_IZ_CTRL          3.139083  0.009424  \n",
       "Neuronal_Endothelial_RZ_IZ            2.993621  0.006693  \n",
       "Endothelial_Vascular_SMCs_IZ_CTRL     2.593045  0.025002  \n",
       "Lymphoid_Myeloid_IZ_CTRL              2.490725  0.029997  \n",
       "Endothelial_Mast_RZ_CTRL              2.470726  0.024362  \n",
       "Endothelial_Pericyte_IZ_CTRL          2.390268  0.035844  \n",
       "Myeloid_Lymphoid_IZ_CTRL              2.279924  0.043542  \n",
       "Cardiomyocyte_Endothelial_RZ_IZ       2.219032  0.037108  \n",
       "Vascular_SMCs_Endothelial_IZ_CTRL     2.188525  0.051100  \n",
       "Neuronal_Pericyte_IZ_CTRL             2.165005  0.053238  \n",
       "Lymphoid_Myeloid_RZ_CTRL              2.111685  0.049819  \n",
       "Mast_Endothelial_RZ_CTRL              2.000351  0.061697  \n",
       "Fibroblast_Vascular_SMCs_RZ_IZ        1.981571  0.060160  \n",
       "Mast_Vascular_SMCs_RZ_IZ              1.962429  0.062483  \n",
       "Adipocyte_Vascular_SMCs_RZ_IZ         1.927493  0.066928  \n",
       "Vascular_SMCs_Adipocyte_RZ_IZ         1.877431  0.073782  \n",
       "Pericyte_Neuronal_IZ_CTRL             1.846667  0.091851  \n",
       "Pericyte_Vascular_SMCs_RZ_IZ          1.831630  0.080582  \n",
       "Myeloid_Lymphoid_RZ_CTRL              1.807664  0.088386  \n",
       "Fibroblast_Endothelial_IZ_CTRL        1.777528  0.103104  "
      ]
     },
     "execution_count": 25,
     "metadata": {},
     "output_type": "execute_result"
    }
   ],
   "source": [
    "t_test_results.sort_values(by='p_value').sort_values(by='t_statistic', ascending=False).head(20)"
   ]
  },
  {
   "cell_type": "code",
   "execution_count": null,
   "metadata": {},
   "outputs": [],
   "source": []
  },
  {
   "attachments": {},
   "cell_type": "markdown",
   "metadata": {},
   "source": [
    "Networkx Graph"
   ]
  },
  {
   "cell_type": "code",
   "execution_count": 26,
   "metadata": {},
   "outputs": [],
   "source": [
    "import networkx as nx"
   ]
  },
  {
   "cell_type": "code",
   "execution_count": 27,
   "metadata": {},
   "outputs": [],
   "source": [
    "g = nx.from_pandas_edgelist(ints, source='predictor', target='target', edge_attr=['importances'])"
   ]
  },
  {
   "cell_type": "code",
   "execution_count": 28,
   "metadata": {},
   "outputs": [],
   "source": [
    "edges = g.edges()\n",
    "colors = ['red' if g[u][v]['importances'] > 0 else 'blue' for u,v in edges]\n",
    "weights = [abs(g[u][v]['importances']) for u,v in edges]\n",
    "weights = np.log2(weights) + 0.5"
   ]
  },
  {
   "cell_type": "code",
   "execution_count": null,
   "metadata": {},
   "outputs": [],
   "source": []
  },
  {
   "cell_type": "code",
   "execution_count": null,
   "metadata": {},
   "outputs": [],
   "source": []
  },
  {
   "cell_type": "code",
   "execution_count": null,
   "metadata": {},
   "outputs": [],
   "source": [
    "# Initialize Circos from matrix for plotting Chord Diagram\n",
    "circos = Circos.initialize_from_matrix(\n",
    "    matrix_df,\n",
    "    space=5,\n",
    "    cmap=\"tab10\",\n",
    "    label_kws=dict(size=12),\n",
    "    link_kws=dict(ec=\"black\", lw=0.5, direction=1),\n",
    ")\n"
   ]
  },
  {
   "cell_type": "code",
   "execution_count": 29,
   "metadata": {},
   "outputs": [
    {
     "data": {
      "image/png": "[encoded data removed]",
      "text/plain": [
       "<Figure size 640x480 with 1 Axes>"
      ]
     },
     "metadata": {},
     "output_type": "display_data"
    }
   ],
   "source": [
    "\n",
    "\n",
    "nx.draw(\n",
    "    g,\n",
    "    with_labels=True,\n",
    "    edge_color=colors,\n",
    "    width=weights,\n",
    "    alpha=1,\n",
    "    node_size=700,\n",
    "    node_color='white',\n",
    "    edgecolors='gray',\n",
    "    # change graph layout to circle\n",
    "    pos=nx.circular_layout(g),\n",
    ")"
   ]
  },
  {
   "cell_type": "code",
   "execution_count": null,
   "metadata": {},
   "outputs": [],
   "source": []
  }
 ],
 "metadata": {
  "kernelspec": {
   "display_name": "spiana",
   "language": "python",
   "name": "python3"
  },
  "language_info": {
   "codemirror_mode": {
    "name": "ipython",
    "version": 3
   },
   "file_extension": ".py",
   "mimetype": "text/x-python",
   "name": "python",
   "nbconvert_exporter": "python",
   "pygments_lexer": "ipython3",
   "version": "3.10.10"
  },
  "orig_nbformat": 4
 },
 "nbformat": 4,
 "nbformat_minor": 2
}
