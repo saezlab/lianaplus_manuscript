{
 "cells": [
  {
   "attachments": {},
   "cell_type": "markdown",
   "metadata": {},
   "source": [
    "# AKI MOFAcell"
   ]
  },
  {
   "cell_type": "code",
   "execution_count": 3,
   "metadata": {},
   "outputs": [],
   "source": [
    "import os"
   ]
  },
  {
   "cell_type": "code",
   "execution_count": 4,
   "metadata": {},
   "outputs": [],
   "source": [
    "data_dir = os.path.join('..', '..', 'data', 'kidney_injury')"
   ]
  },
  {
   "cell_type": "code",
   "execution_count": 5,
   "metadata": {},
   "outputs": [],
   "source": [
    "# columns of interest\n",
    "sample_key = \"ident\"\n",
    "groupby = \"cell_type\"\n",
    "condition_key = \"Group\""
   ]
  },
  {
   "attachments": {},
   "cell_type": "markdown",
   "metadata": {},
   "source": [
    "### Setup Env"
   ]
  },
  {
   "cell_type": "code",
   "execution_count": 6,
   "metadata": {},
   "outputs": [],
   "source": [
    "import numpy as np\n",
    "import pandas as pd\n",
    "\n",
    "import scanpy as sc"
   ]
  },
  {
   "cell_type": "code",
   "execution_count": 7,
   "metadata": {},
   "outputs": [
    {
     "name": "stderr",
     "output_type": "stream",
     "text": [
      "/home/dbdimitrov/anaconda3/envs/spiana/lib/python3.10/site-packages/tqdm/auto.py:21: TqdmWarning: IProgress not found. Please update jupyter and ipywidgets. See https://ipywidgets.readthedocs.io/en/stable/user_install.html\n",
      "  from .autonotebook import tqdm as notebook_tqdm\n"
     ]
    }
   ],
   "source": [
    "import mofax as mofa\n",
    "import muon as mu\n",
    "import mudata\n",
    "import decoupler as dc"
   ]
  },
  {
   "cell_type": "code",
   "execution_count": 8,
   "metadata": {},
   "outputs": [
    {
     "data": {
      "text/plain": [
       "'0.1.9'"
      ]
     },
     "execution_count": 8,
     "metadata": {},
     "output_type": "execute_result"
    }
   ],
   "source": [
    "import liana as li\n",
    "import plotnine as p9\n",
    "li.__version__"
   ]
  },
  {
   "cell_type": "code",
   "execution_count": 9,
   "metadata": {},
   "outputs": [],
   "source": [
    "adata = sc.read_h5ad(os.path.join(data_dir, \"aki_processed.h5ad\"))"
   ]
  },
  {
   "cell_type": "code",
   "execution_count": null,
   "metadata": {},
   "outputs": [],
   "source": []
  },
  {
   "cell_type": "code",
   "execution_count": null,
   "metadata": {},
   "outputs": [],
   "source": []
  },
  {
   "attachments": {},
   "cell_type": "markdown",
   "metadata": {},
   "source": [
    "## Run MOFA"
   ]
  },
  {
   "cell_type": "code",
   "execution_count": 10,
   "metadata": {},
   "outputs": [
    {
     "name": "stderr",
     "output_type": "stream",
     "text": [
      "100%|██████████| 18/18 [00:52<00:00,  2.89s/it]\n"
     ]
    }
   ],
   "source": [
    "mdata = li.multi.adata_to_views(adata,\n",
    "                                groupby=groupby,\n",
    "                                sample_key=sample_key,\n",
    "                                obs_keys=[condition_key],\n",
    "                                min_prop=0.01, # min cell prop nnz values (filter features)\n",
    "                                min_smpls=3, # min samples per view (filter features)\n",
    "                                min_cells=25, # min cells per view (filter samples)\n",
    "                                min_counts=50, # min counts per view (filter samples)\n",
    "                                large_n=5,\n",
    "                                mode='sum', # mode of aggregation\n",
    "                                verbose=True,\n",
    "                                layer='counts'\n",
    "                                )\n"
   ]
  },
  {
   "cell_type": "code",
   "execution_count": 11,
   "metadata": {},
   "outputs": [
    {
     "data": {
      "text/html": [
       "<pre>MuData object with n_obs × n_vars = 24 × 84846\n",
       "  obs:\t&#x27;Group&#x27;\n",
       "  18 modalities\n",
       "    CTAL:\t24 x 7948\n",
       "      layers:\t&#x27;psbulk_props&#x27;\n",
       "    PT:\t24 x 14903\n",
       "      layers:\t&#x27;psbulk_props&#x27;\n",
       "    EC:\t24 x 7335\n",
       "      layers:\t&#x27;psbulk_props&#x27;\n",
       "    DCT:\t24 x 7324\n",
       "      layers:\t&#x27;psbulk_props&#x27;\n",
       "    MTAL:\t24 x 9739\n",
       "      layers:\t&#x27;psbulk_props&#x27;\n",
       "    ICA:\t24 x 2950\n",
       "      layers:\t&#x27;psbulk_props&#x27;\n",
       "    Fib:\t24 x 5570\n",
       "      layers:\t&#x27;psbulk_props&#x27;\n",
       "    DCT-CNT:\t18 x 2078\n",
       "      layers:\t&#x27;psbulk_props&#x27;\n",
       "    MO:\t23 x 1997\n",
       "      layers:\t&#x27;psbulk_props&#x27;\n",
       "    PC:\t24 x 8879\n",
       "      layers:\t&#x27;psbulk_props&#x27;\n",
       "    ICB:\t22 x 2932\n",
       "      layers:\t&#x27;psbulk_props&#x27;\n",
       "    DTL-ATL:\t23 x 5092\n",
       "      layers:\t&#x27;psbulk_props&#x27;\n",
       "    Per:\t5 x 81\n",
       "      layers:\t&#x27;psbulk_props&#x27;\n",
       "    PEC:\t8 x 368\n",
       "      layers:\t&#x27;psbulk_props&#x27;\n",
       "    CNT:\t24 x 5098\n",
       "      layers:\t&#x27;psbulk_props&#x27;\n",
       "    Pod:\t15 x 643\n",
       "      layers:\t&#x27;psbulk_props&#x27;\n",
       "    Tcell:\t9 x 56\n",
       "      layers:\t&#x27;psbulk_props&#x27;\n",
       "    Uro:\t20 x 1853\n",
       "      layers:\t&#x27;psbulk_props&#x27;</pre>"
      ],
      "text/plain": [
       "MuData object with n_obs × n_vars = 24 × 84846\n",
       "  obs:\t'Group'\n",
       "  18 modalities\n",
       "    CTAL:\t24 x 7948\n",
       "      layers:\t'psbulk_props'\n",
       "    PT:\t24 x 14903\n",
       "      layers:\t'psbulk_props'\n",
       "    EC:\t24 x 7335\n",
       "      layers:\t'psbulk_props'\n",
       "    DCT:\t24 x 7324\n",
       "      layers:\t'psbulk_props'\n",
       "    MTAL:\t24 x 9739\n",
       "      layers:\t'psbulk_props'\n",
       "    ICA:\t24 x 2950\n",
       "      layers:\t'psbulk_props'\n",
       "    Fib:\t24 x 5570\n",
       "      layers:\t'psbulk_props'\n",
       "    DCT-CNT:\t18 x 2078\n",
       "      layers:\t'psbulk_props'\n",
       "    MO:\t23 x 1997\n",
       "      layers:\t'psbulk_props'\n",
       "    PC:\t24 x 8879\n",
       "      layers:\t'psbulk_props'\n",
       "    ICB:\t22 x 2932\n",
       "      layers:\t'psbulk_props'\n",
       "    DTL-ATL:\t23 x 5092\n",
       "      layers:\t'psbulk_props'\n",
       "    Per:\t5 x 81\n",
       "      layers:\t'psbulk_props'\n",
       "    PEC:\t8 x 368\n",
       "      layers:\t'psbulk_props'\n",
       "    CNT:\t24 x 5098\n",
       "      layers:\t'psbulk_props'\n",
       "    Pod:\t15 x 643\n",
       "      layers:\t'psbulk_props'\n",
       "    Tcell:\t9 x 56\n",
       "      layers:\t'psbulk_props'\n",
       "    Uro:\t20 x 1853\n",
       "      layers:\t'psbulk_props'"
      ]
     },
     "execution_count": 11,
     "metadata": {},
     "output_type": "execute_result"
    }
   ],
   "source": [
    "mdata"
   ]
  },
  {
   "cell_type": "code",
   "execution_count": null,
   "metadata": {},
   "outputs": [],
   "source": []
  },
  {
   "cell_type": "code",
   "execution_count": 12,
   "metadata": {},
   "outputs": [],
   "source": [
    "views = dict()\n",
    "for view in mdata.mod.keys():\n",
    "    # dc.plot_filter_by_expr(mdata.mod[view], min_count=10, min_total_count=200)\n",
    "    keep_genes = dc.filter_by_expr(mdata.mod[view], group=None, min_count=5, min_total_count=20, min_prop=0.1, large_n=0)\n",
    "    mdata.mod[view] = mdata.mod[view][:, keep_genes].copy()\n",
    "    \n",
    "    sc.pp.normalize_total(mdata.mod[view], target_sum=1e4)\n",
    "    sc.pp.log1p(mdata.mod[view])\n",
    "    sc.pp.highly_variable_genes(mdata.mod[view])\n",
    "    \n",
    "    views[view] = mdata.mod[view]"
   ]
  },
  {
   "cell_type": "code",
   "execution_count": 13,
   "metadata": {},
   "outputs": [],
   "source": [
    "obs = mdata.obs\n",
    "# rebuild with re-filtered features\n",
    "mdata = mudata.MuData(views)\n",
    "mdata.obs = obs"
   ]
  },
  {
   "cell_type": "code",
   "execution_count": null,
   "metadata": {},
   "outputs": [],
   "source": []
  },
  {
   "cell_type": "code",
   "execution_count": 14,
   "metadata": {},
   "outputs": [
    {
     "data": {
      "text/html": [
       "<div>\n",
       "<style scoped>\n",
       "    .dataframe tbody tr th:only-of-type {\n",
       "        vertical-align: middle;\n",
       "    }\n",
       "\n",
       "    .dataframe tbody tr th {\n",
       "        vertical-align: top;\n",
       "    }\n",
       "\n",
       "    .dataframe thead th {\n",
       "        text-align: right;\n",
       "    }\n",
       "</style>\n",
       "<table border=\"1\" class=\"dataframe\">\n",
       "  <thead>\n",
       "    <tr style=\"text-align: right;\">\n",
       "      <th></th>\n",
       "      <th>highly_variable</th>\n",
       "      <th>means</th>\n",
       "      <th>dispersions</th>\n",
       "      <th>dispersions_norm</th>\n",
       "    </tr>\n",
       "  </thead>\n",
       "  <tbody>\n",
       "    <tr>\n",
       "      <th>MTAL:0610005C13Rik</th>\n",
       "      <td>True</td>\n",
       "      <td>0.136879</td>\n",
       "      <td>-2.123738</td>\n",
       "      <td>0.756426</td>\n",
       "    </tr>\n",
       "    <tr>\n",
       "      <th>MTAL:0610009B22Rik</th>\n",
       "      <td>True</td>\n",
       "      <td>0.146145</td>\n",
       "      <td>-2.229270</td>\n",
       "      <td>0.589569</td>\n",
       "    </tr>\n",
       "    <tr>\n",
       "      <th>MTAL:0610009O20Rik</th>\n",
       "      <td>False</td>\n",
       "      <td>0.184798</td>\n",
       "      <td>-3.332340</td>\n",
       "      <td>-1.154503</td>\n",
       "    </tr>\n",
       "    <tr>\n",
       "      <th>MTAL:0610010F05Rik</th>\n",
       "      <td>False</td>\n",
       "      <td>0.518977</td>\n",
       "      <td>-2.299983</td>\n",
       "      <td>-0.662384</td>\n",
       "    </tr>\n",
       "    <tr>\n",
       "      <th>MTAL:0610030E20Rik</th>\n",
       "      <td>False</td>\n",
       "      <td>0.218354</td>\n",
       "      <td>-2.827343</td>\n",
       "      <td>-0.356048</td>\n",
       "    </tr>\n",
       "    <tr>\n",
       "      <th>...</th>\n",
       "      <td>...</td>\n",
       "      <td>...</td>\n",
       "      <td>...</td>\n",
       "      <td>...</td>\n",
       "    </tr>\n",
       "    <tr>\n",
       "      <th>MTAL:Zzz3</th>\n",
       "      <td>True</td>\n",
       "      <td>0.473432</td>\n",
       "      <td>-1.429551</td>\n",
       "      <td>0.611886</td>\n",
       "    </tr>\n",
       "    <tr>\n",
       "      <th>MTAL:a</th>\n",
       "      <td>False</td>\n",
       "      <td>0.274419</td>\n",
       "      <td>-2.584788</td>\n",
       "      <td>0.027457</td>\n",
       "    </tr>\n",
       "    <tr>\n",
       "      <th>MTAL:mt-Cytb</th>\n",
       "      <td>True</td>\n",
       "      <td>0.112776</td>\n",
       "      <td>-2.185621</td>\n",
       "      <td>0.658584</td>\n",
       "    </tr>\n",
       "    <tr>\n",
       "      <th>MTAL:mt-Nd1</th>\n",
       "      <td>True</td>\n",
       "      <td>0.155871</td>\n",
       "      <td>-1.356579</td>\n",
       "      <td>1.969388</td>\n",
       "    </tr>\n",
       "    <tr>\n",
       "      <th>MTAL:mt-Nd5</th>\n",
       "      <td>True</td>\n",
       "      <td>0.096856</td>\n",
       "      <td>-2.272435</td>\n",
       "      <td>0.521321</td>\n",
       "    </tr>\n",
       "  </tbody>\n",
       "</table>\n",
       "<p>9739 rows × 4 columns</p>\n",
       "</div>"
      ],
      "text/plain": [
       "                    highly_variable     means  dispersions  dispersions_norm\n",
       "MTAL:0610005C13Rik             True  0.136879    -2.123738          0.756426\n",
       "MTAL:0610009B22Rik             True  0.146145    -2.229270          0.589569\n",
       "MTAL:0610009O20Rik            False  0.184798    -3.332340         -1.154503\n",
       "MTAL:0610010F05Rik            False  0.518977    -2.299983         -0.662384\n",
       "MTAL:0610030E20Rik            False  0.218354    -2.827343         -0.356048\n",
       "...                             ...       ...          ...               ...\n",
       "MTAL:Zzz3                      True  0.473432    -1.429551          0.611886\n",
       "MTAL:a                        False  0.274419    -2.584788          0.027457\n",
       "MTAL:mt-Cytb                   True  0.112776    -2.185621          0.658584\n",
       "MTAL:mt-Nd1                    True  0.155871    -1.356579          1.969388\n",
       "MTAL:mt-Nd5                    True  0.096856    -2.272435          0.521321\n",
       "\n",
       "[9739 rows x 4 columns]"
      ]
     },
     "execution_count": 14,
     "metadata": {},
     "output_type": "execute_result"
    }
   ],
   "source": [
    "mdata.mod['MTAL'].var"
   ]
  },
  {
   "cell_type": "code",
   "execution_count": null,
   "metadata": {},
   "outputs": [],
   "source": []
  },
  {
   "cell_type": "code",
   "execution_count": 15,
   "metadata": {},
   "outputs": [
    {
     "name": "stdout",
     "output_type": "stream",
     "text": [
      "\n",
      "        #########################################################\n",
      "        ###           __  __  ____  ______                    ### \n",
      "        ###          |  \\/  |/ __ \\|  ____/\\    _             ### \n",
      "        ###          | \\  / | |  | | |__ /  \\ _| |_           ### \n",
      "        ###          | |\\/| | |  | |  __/ /\\ \\_   _|          ###\n",
      "        ###          | |  | | |__| | | / ____ \\|_|            ###\n",
      "        ###          |_|  |_|\\____/|_|/_/    \\_\\              ###\n",
      "        ###                                                   ### \n",
      "        ######################################################### \n",
      "       \n",
      " \n",
      "        \n",
      "Loaded view='CTAL' group='group1' with N=24 samples and D=2059 features...\n",
      "Loaded view='PT' group='group1' with N=24 samples and D=4239 features...\n",
      "Loaded view='EC' group='group1' with N=24 samples and D=2014 features...\n",
      "Loaded view='DCT' group='group1' with N=24 samples and D=1855 features...\n",
      "Loaded view='MTAL' group='group1' with N=24 samples and D=2606 features...\n",
      "Loaded view='ICA' group='group1' with N=24 samples and D=684 features...\n",
      "Loaded view='Fib' group='group1' with N=24 samples and D=1423 features...\n",
      "Loaded view='DCT-CNT' group='group1' with N=24 samples and D=534 features...\n",
      "Loaded view='MO' group='group1' with N=24 samples and D=510 features...\n",
      "Loaded view='PC' group='group1' with N=24 samples and D=2262 features...\n",
      "Loaded view='ICB' group='group1' with N=24 samples and D=696 features...\n",
      "Loaded view='DTL-ATL' group='group1' with N=24 samples and D=1237 features...\n",
      "Loaded view='Per' group='group1' with N=24 samples and D=0 features...\n",
      "Loaded view='PEC' group='group1' with N=24 samples and D=84 features...\n",
      "Loaded view='CNT' group='group1' with N=24 samples and D=1189 features...\n",
      "Loaded view='Pod' group='group1' with N=24 samples and D=141 features...\n",
      "Loaded view='Tcell' group='group1' with N=24 samples and D=0 features...\n",
      "Loaded view='Uro' group='group1' with N=24 samples and D=443 features...\n",
      "\n",
      "\n",
      "Model options:\n",
      "- Automatic Relevance Determination prior on the factors: True\n",
      "- Automatic Relevance Determination prior on the weights: True\n",
      "- Spike-and-slab prior on the factors: False\n",
      "- Spike-and-slab prior on the weights: True\n",
      "Likelihoods:\n",
      "- View 0 (CTAL): gaussian\n",
      "- View 1 (PT): gaussian\n",
      "- View 2 (EC): gaussian\n",
      "- View 3 (DCT): gaussian\n",
      "- View 4 (MTAL): gaussian\n",
      "- View 5 (ICA): gaussian\n",
      "- View 6 (Fib): gaussian\n",
      "- View 7 (DCT-CNT): gaussian\n",
      "- View 8 (MO): gaussian\n",
      "- View 9 (PC): gaussian\n",
      "- View 10 (ICB): gaussian\n",
      "- View 11 (DTL-ATL): gaussian\n",
      "- View 12 (Per): bernoulli\n",
      "- View 13 (PEC): gaussian\n",
      "- View 14 (CNT): gaussian\n",
      "- View 15 (Pod): gaussian\n",
      "- View 16 (Tcell): bernoulli\n",
      "- View 17 (Uro): gaussian\n",
      "\n",
      "\n",
      "\n",
      "Warning: some view(s) have less than 15 features, MOFA won't be able to learn meaningful factors for these view(s)...\n",
      "\n",
      "\n",
      "\n",
      "######################################\n",
      "## Training the model with seed 1 ##\n",
      "######################################\n",
      "\n",
      "\n",
      "\n",
      "Converged!\n",
      "\n",
      "\n",
      "\n",
      "#######################\n",
      "## Training finished ##\n",
      "#######################\n",
      "\n",
      "\n",
      "Warning: Output file models/mofacell.h5ad already exists, it will be replaced\n",
      "Saving model in models/mofacell.h5ad...\n",
      "Saved MOFA embeddings in .obsm['X_mofa'] slot and their loadings in .varm['LFs'].\n"
     ]
    }
   ],
   "source": [
    "mu.tl.mofa(mdata,\n",
    "           use_obs='union',\n",
    "           convergence_mode='medium',\n",
    "           n_factors=5,\n",
    "           outfile='models/mofacell.h5ad',\n",
    "           use_var='highly_variable'\n",
    "           )"
   ]
  },
  {
   "cell_type": "code",
   "execution_count": 16,
   "metadata": {},
   "outputs": [
    {
     "data": {
      "text/html": [
       "<div>\n",
       "<style scoped>\n",
       "    .dataframe tbody tr th:only-of-type {\n",
       "        vertical-align: middle;\n",
       "    }\n",
       "\n",
       "    .dataframe tbody tr th {\n",
       "        vertical-align: top;\n",
       "    }\n",
       "\n",
       "    .dataframe thead th {\n",
       "        text-align: right;\n",
       "    }\n",
       "</style>\n",
       "<table border=\"1\" class=\"dataframe\">\n",
       "  <thead>\n",
       "    <tr style=\"text-align: right;\">\n",
       "      <th></th>\n",
       "      <th>ident</th>\n",
       "      <th>Factor1</th>\n",
       "      <th>Factor2</th>\n",
       "      <th>Factor3</th>\n",
       "      <th>Factor4</th>\n",
       "      <th>Factor5</th>\n",
       "      <th>Group</th>\n",
       "    </tr>\n",
       "  </thead>\n",
       "  <tbody>\n",
       "    <tr>\n",
       "      <th>0</th>\n",
       "      <td>IRI12h1b1</td>\n",
       "      <td>0.866671</td>\n",
       "      <td>-0.095837</td>\n",
       "      <td>0.002483</td>\n",
       "      <td>-0.147651</td>\n",
       "      <td>-0.003700</td>\n",
       "      <td>12hours</td>\n",
       "    </tr>\n",
       "    <tr>\n",
       "      <th>1</th>\n",
       "      <td>IRI12h1b2</td>\n",
       "      <td>0.851058</td>\n",
       "      <td>-0.026238</td>\n",
       "      <td>0.031447</td>\n",
       "      <td>-0.131607</td>\n",
       "      <td>-0.013718</td>\n",
       "      <td>12hours</td>\n",
       "    </tr>\n",
       "    <tr>\n",
       "      <th>2</th>\n",
       "      <td>IRI12h2</td>\n",
       "      <td>0.816861</td>\n",
       "      <td>-0.065166</td>\n",
       "      <td>0.006253</td>\n",
       "      <td>-0.132024</td>\n",
       "      <td>-0.006926</td>\n",
       "      <td>12hours</td>\n",
       "    </tr>\n",
       "    <tr>\n",
       "      <th>3</th>\n",
       "      <td>IRI12h3</td>\n",
       "      <td>0.837689</td>\n",
       "      <td>-0.049877</td>\n",
       "      <td>0.019639</td>\n",
       "      <td>-0.135335</td>\n",
       "      <td>-0.010728</td>\n",
       "      <td>12hours</td>\n",
       "    </tr>\n",
       "    <tr>\n",
       "      <th>4</th>\n",
       "      <td>IRI14d1b1</td>\n",
       "      <td>-0.375176</td>\n",
       "      <td>-0.142054</td>\n",
       "      <td>-0.030455</td>\n",
       "      <td>0.027530</td>\n",
       "      <td>0.166822</td>\n",
       "      <td>14days</td>\n",
       "    </tr>\n",
       "  </tbody>\n",
       "</table>\n",
       "</div>"
      ],
      "text/plain": [
       "       ident   Factor1   Factor2   Factor3   Factor4   Factor5    Group\n",
       "0  IRI12h1b1  0.866671 -0.095837  0.002483 -0.147651 -0.003700  12hours\n",
       "1  IRI12h1b2  0.851058 -0.026238  0.031447 -0.131607 -0.013718  12hours\n",
       "2    IRI12h2  0.816861 -0.065166  0.006253 -0.132024 -0.006926  12hours\n",
       "3    IRI12h3  0.837689 -0.049877  0.019639 -0.135335 -0.010728  12hours\n",
       "4  IRI14d1b1 -0.375176 -0.142054 -0.030455  0.027530  0.166822   14days"
      ]
     },
     "execution_count": 16,
     "metadata": {},
     "output_type": "execute_result"
    }
   ],
   "source": [
    "# obtain factor scores\n",
    "factor_scores = li.multi.get_factor_scores(mdata, obsm_key='X_mofa')\n",
    "factor_scores.head()"
   ]
  },
  {
   "cell_type": "code",
   "execution_count": 17,
   "metadata": {},
   "outputs": [
    {
     "data": {
      "image/png": "[encoded data removed]",
      "text/plain": [
       "<Figure size 640x480 with 1 Axes>"
      ]
     },
     "metadata": {},
     "output_type": "display_data"
    },
    {
     "data": {
      "text/plain": [
       "<ggplot: (8735457051745)>"
      ]
     },
     "execution_count": 17,
     "metadata": {},
     "output_type": "execute_result"
    }
   ],
   "source": [
    "(p9.ggplot(factor_scores) +\n",
    " p9.aes(x=condition_key, colour=condition_key, y='Factor1') +\n",
    " p9.geom_violin() +\n",
    " p9.geom_jitter(size=4, width=0.2) +\n",
    " p9.theme_bw()\n",
    " )"
   ]
  },
  {
   "cell_type": "code",
   "execution_count": null,
   "metadata": {},
   "outputs": [],
   "source": []
  },
  {
   "cell_type": "code",
   "execution_count": 18,
   "metadata": {},
   "outputs": [
    {
     "data": {
      "image/png": "[encoded data removed]",
      "text/plain": [
       "<Figure size 640x480 with 2 Axes>"
      ]
     },
     "execution_count": 18,
     "metadata": {},
     "output_type": "execute_result"
    }
   ],
   "source": [
    "model = mofa.mofa_model(\"models/mofacell.h5ad\")\n",
    "model\n",
    "mofa.plot_r2(model, x='View')"
   ]
  },
  {
   "cell_type": "code",
   "execution_count": null,
   "metadata": {},
   "outputs": [],
   "source": []
  },
  {
   "cell_type": "code",
   "execution_count": 31,
   "metadata": {},
   "outputs": [
    {
     "data": {
      "text/html": [
       "<div>\n",
       "<style scoped>\n",
       "    .dataframe tbody tr th:only-of-type {\n",
       "        vertical-align: middle;\n",
       "    }\n",
       "\n",
       "    .dataframe tbody tr th {\n",
       "        vertical-align: top;\n",
       "    }\n",
       "\n",
       "    .dataframe thead th {\n",
       "        text-align: right;\n",
       "    }\n",
       "</style>\n",
       "<table border=\"1\" class=\"dataframe\">\n",
       "  <thead>\n",
       "    <tr style=\"text-align: right;\">\n",
       "      <th></th>\n",
       "      <th>view</th>\n",
       "      <th>variable</th>\n",
       "      <th>Factor1</th>\n",
       "      <th>Factor2</th>\n",
       "      <th>Factor3</th>\n",
       "      <th>Factor4</th>\n",
       "      <th>Factor5</th>\n",
       "    </tr>\n",
       "  </thead>\n",
       "  <tbody>\n",
       "    <tr>\n",
       "      <th>33453</th>\n",
       "      <td>DCT</td>\n",
       "      <td>Klhl3</td>\n",
       "      <td>-1.866209</td>\n",
       "      <td>-1.132292</td>\n",
       "      <td>1.434064</td>\n",
       "      <td>-0.828184</td>\n",
       "      <td>0.376741</td>\n",
       "    </tr>\n",
       "    <tr>\n",
       "      <th>35543</th>\n",
       "      <td>DCT</td>\n",
       "      <td>Rtn4</td>\n",
       "      <td>1.705231</td>\n",
       "      <td>0.398374</td>\n",
       "      <td>-1.322183</td>\n",
       "      <td>-0.333908</td>\n",
       "      <td>-0.483218</td>\n",
       "    </tr>\n",
       "    <tr>\n",
       "      <th>19822</th>\n",
       "      <td>PT</td>\n",
       "      <td>Slc22a30</td>\n",
       "      <td>-1.684517</td>\n",
       "      <td>-0.927197</td>\n",
       "      <td>1.105985</td>\n",
       "      <td>0.047949</td>\n",
       "      <td>-0.123548</td>\n",
       "    </tr>\n",
       "    <tr>\n",
       "      <th>57279</th>\n",
       "      <td>DCT-CNT</td>\n",
       "      <td>Rtn4</td>\n",
       "      <td>1.613153</td>\n",
       "      <td>-0.269931</td>\n",
       "      <td>-1.819407</td>\n",
       "      <td>-2.523644</td>\n",
       "      <td>-0.107193</td>\n",
       "    </tr>\n",
       "    <tr>\n",
       "      <th>57292</th>\n",
       "      <td>DCT-CNT</td>\n",
       "      <td>Sat1</td>\n",
       "      <td>1.606420</td>\n",
       "      <td>0.055899</td>\n",
       "      <td>-0.726868</td>\n",
       "      <td>0.326151</td>\n",
       "      <td>0.060385</td>\n",
       "    </tr>\n",
       "  </tbody>\n",
       "</table>\n",
       "</div>"
      ],
      "text/plain": [
       "          view  variable   Factor1   Factor2   Factor3   Factor4   Factor5\n",
       "33453      DCT     Klhl3 -1.866209 -1.132292  1.434064 -0.828184  0.376741\n",
       "35543      DCT      Rtn4  1.705231  0.398374 -1.322183 -0.333908 -0.483218\n",
       "19822       PT  Slc22a30 -1.684517 -0.927197  1.105985  0.047949 -0.123548\n",
       "57279  DCT-CNT      Rtn4  1.613153 -0.269931 -1.819407 -2.523644 -0.107193\n",
       "57292  DCT-CNT      Sat1  1.606420  0.055899 -0.726868  0.326151  0.060385"
      ]
     },
     "execution_count": 31,
     "metadata": {},
     "output_type": "execute_result"
    }
   ],
   "source": [
    "loadings =  li.multi.get_variable_loadings(mdata, view_separator=':') # get loadings for factor 1\n",
    "loadings.head()"
   ]
  },
  {
   "cell_type": "code",
   "execution_count": 32,
   "metadata": {},
   "outputs": [
    {
     "data": {
      "image/png": "[encoded data removed]",
      "text/plain": [
       "<Figure size 700x700 with 1 Axes>"
      ]
     },
     "metadata": {
      "needs_background": "light"
     },
     "output_type": "display_data"
    },
    {
     "data": {
      "text/plain": [
       "<ggplot: (8735447368930)>"
      ]
     },
     "execution_count": 32,
     "metadata": {},
     "output_type": "execute_result"
    }
   ],
   "source": [
    "# get 25 genes with highest loadings across all views\n",
    "top_genes = loadings.sort_values(by='Factor1', key=lambda x: abs(x), ascending=False).head(50)['variable']\n",
    "top_loadings = loadings[loadings['variable'].isin(top_genes)]\n",
    "# ^ Note that the genes with the lowest loadings are equally interesting\n",
    "\n",
    "# plot them\n",
    "# dotplot of variable, view, loadings\n",
    "(p9.ggplot(top_loadings) +\n",
    " p9.aes(x='view', y='variable', fill='Factor1') +\n",
    " p9.geom_tile() +\n",
    " p9.scale_fill_gradient2(low='#1f77b4', mid='lightgray', high='#c20019') +\n",
    " p9.theme_minimal() +\n",
    " p9.theme(axis_text_x=p9.element_text(angle=90, hjust=0.5, vjust=0.5), figure_size=(7, 7))\n",
    " )"
   ]
  },
  {
   "cell_type": "code",
   "execution_count": null,
   "metadata": {},
   "outputs": [],
   "source": []
  },
  {
   "attachments": {},
   "cell_type": "markdown",
   "metadata": {},
   "source": [
    "Enrichment analysis"
   ]
  },
  {
   "cell_type": "code",
   "execution_count": 96,
   "metadata": {},
   "outputs": [],
   "source": [
    "# load PROGENy pathways\n",
    "progeny = dc.get_progeny(organism='Mus musculus', top=500)\n",
    "\n",
    "# load dorothea TF-target interactions\n",
    "net = dc.get_dorothea(organism='mouse')"
   ]
  },
  {
   "cell_type": "code",
   "execution_count": null,
   "metadata": {},
   "outputs": [],
   "source": []
  },
  {
   "cell_type": "code",
   "execution_count": 97,
   "metadata": {},
   "outputs": [],
   "source": [
    "# Factor1 loadings to list of matrices by view\n",
    "loadings_per_view = {}\n",
    "for view in mdata.mod.keys():\n",
    "    mat = loadings[loadings['view'] == view]\n",
    "    # pivot to matrix with values from Factor1, and views as rows"
   ]
  },
  {
   "cell_type": "code",
   "execution_count": 98,
   "metadata": {},
   "outputs": [],
   "source": [
    " # pivot to matrix with values from Factor1, and views as rows\n",
    "loadings_per_view = loadings.pivot(index='view', columns='variable', values='Factor1')"
   ]
  },
  {
   "cell_type": "code",
   "execution_count": 99,
   "metadata": {},
   "outputs": [],
   "source": [
    "# fill missing values with 0\n",
    "loadings_per_view = loadings_per_view.fillna(0)"
   ]
  },
  {
   "cell_type": "code",
   "execution_count": 104,
   "metadata": {},
   "outputs": [],
   "source": [
    "estimate, pvals = dc.run_ulm(loadings_per_view, progeny)"
   ]
  },
  {
   "cell_type": "code",
   "execution_count": 105,
   "metadata": {},
   "outputs": [
    {
     "data": {
      "text/plain": [
       "<seaborn.matrix.ClusterGrid at 0x7f1daf26f640>"
      ]
     },
     "execution_count": 105,
     "metadata": {},
     "output_type": "execute_result"
    },
    {
     "data": {
      "image/png": "[encoded data removed]",
      "text/plain": [
       "<Figure size 1000x1000 with 4 Axes>"
      ]
     },
     "metadata": {},
     "output_type": "display_data"
    }
   ],
   "source": [
    "# seaborn heatmap\n",
    "import seaborn as sns\n",
    "sns.clustermap(estimate, cmap='RdBu_r',center=0, figsize=(10, 10))"
   ]
  },
  {
   "cell_type": "code",
   "execution_count": null,
   "metadata": {},
   "outputs": [],
   "source": []
  },
  {
   "attachments": {},
   "cell_type": "markdown",
   "metadata": {},
   "source": [
    "TFs"
   ]
  },
  {
   "cell_type": "code",
   "execution_count": 70,
   "metadata": {},
   "outputs": [],
   "source": [
    "estimate, pvals = dc.run_ulm(loadings_per_view, net)"
   ]
  },
  {
   "cell_type": "code",
   "execution_count": 71,
   "metadata": {},
   "outputs": [
    {
     "data": {
      "text/html": [
       "<div>\n",
       "<style scoped>\n",
       "    .dataframe tbody tr th:only-of-type {\n",
       "        vertical-align: middle;\n",
       "    }\n",
       "\n",
       "    .dataframe tbody tr th {\n",
       "        vertical-align: top;\n",
       "    }\n",
       "\n",
       "    .dataframe thead th {\n",
       "        text-align: right;\n",
       "    }\n",
       "</style>\n",
       "<table border=\"1\" class=\"dataframe\">\n",
       "  <thead>\n",
       "    <tr style=\"text-align: right;\">\n",
       "      <th></th>\n",
       "      <th>Ahr</th>\n",
       "      <th>Ar</th>\n",
       "      <th>Arid2</th>\n",
       "      <th>Arid3a</th>\n",
       "      <th>Arnt</th>\n",
       "      <th>Ascl1</th>\n",
       "      <th>Atf1</th>\n",
       "      <th>Atf2</th>\n",
       "      <th>Atf3</th>\n",
       "      <th>Atf4</th>\n",
       "      <th>...</th>\n",
       "      <th>Zeb2</th>\n",
       "      <th>Zfp644</th>\n",
       "      <th>Zfx</th>\n",
       "      <th>Zhx1</th>\n",
       "      <th>Zhx2</th>\n",
       "      <th>Zkscan1</th>\n",
       "      <th>Znf143</th>\n",
       "      <th>Znf24</th>\n",
       "      <th>Znf263</th>\n",
       "      <th>Znf639</th>\n",
       "    </tr>\n",
       "  </thead>\n",
       "  <tbody>\n",
       "    <tr>\n",
       "      <th>CNT</th>\n",
       "      <td>3.030897</td>\n",
       "      <td>0.011967</td>\n",
       "      <td>2.185561</td>\n",
       "      <td>1.065460</td>\n",
       "      <td>2.010991</td>\n",
       "      <td>0.006926</td>\n",
       "      <td>-0.740478</td>\n",
       "      <td>1.133704</td>\n",
       "      <td>3.447561</td>\n",
       "      <td>-0.569045</td>\n",
       "      <td>...</td>\n",
       "      <td>1.385502</td>\n",
       "      <td>0.115147</td>\n",
       "      <td>0.156232</td>\n",
       "      <td>3.845869</td>\n",
       "      <td>2.601478</td>\n",
       "      <td>2.470458</td>\n",
       "      <td>1.848155</td>\n",
       "      <td>0.026832</td>\n",
       "      <td>-0.473189</td>\n",
       "      <td>1.559981</td>\n",
       "    </tr>\n",
       "    <tr>\n",
       "      <th>CTAL</th>\n",
       "      <td>1.387667</td>\n",
       "      <td>0.982125</td>\n",
       "      <td>4.407882</td>\n",
       "      <td>1.345465</td>\n",
       "      <td>0.873938</td>\n",
       "      <td>1.739984</td>\n",
       "      <td>-0.756691</td>\n",
       "      <td>1.347214</td>\n",
       "      <td>-0.641483</td>\n",
       "      <td>0.721450</td>\n",
       "      <td>...</td>\n",
       "      <td>0.891856</td>\n",
       "      <td>-0.043325</td>\n",
       "      <td>-0.297065</td>\n",
       "      <td>3.436427</td>\n",
       "      <td>0.851699</td>\n",
       "      <td>2.241290</td>\n",
       "      <td>1.407212</td>\n",
       "      <td>-1.274926</td>\n",
       "      <td>1.745184</td>\n",
       "      <td>0.389052</td>\n",
       "    </tr>\n",
       "    <tr>\n",
       "      <th>DCT</th>\n",
       "      <td>3.722287</td>\n",
       "      <td>2.015836</td>\n",
       "      <td>3.893760</td>\n",
       "      <td>1.305174</td>\n",
       "      <td>1.247696</td>\n",
       "      <td>-0.817872</td>\n",
       "      <td>1.631166</td>\n",
       "      <td>2.899339</td>\n",
       "      <td>1.221663</td>\n",
       "      <td>0.702071</td>\n",
       "      <td>...</td>\n",
       "      <td>1.581107</td>\n",
       "      <td>0.148054</td>\n",
       "      <td>1.958121</td>\n",
       "      <td>5.539014</td>\n",
       "      <td>2.703143</td>\n",
       "      <td>1.844885</td>\n",
       "      <td>0.462314</td>\n",
       "      <td>-1.948092</td>\n",
       "      <td>0.689132</td>\n",
       "      <td>1.858557</td>\n",
       "    </tr>\n",
       "    <tr>\n",
       "      <th>DCT-CNT</th>\n",
       "      <td>2.945412</td>\n",
       "      <td>0.712726</td>\n",
       "      <td>2.970348</td>\n",
       "      <td>0.336522</td>\n",
       "      <td>2.706994</td>\n",
       "      <td>-0.597503</td>\n",
       "      <td>1.191005</td>\n",
       "      <td>0.993866</td>\n",
       "      <td>3.724072</td>\n",
       "      <td>0.103193</td>\n",
       "      <td>...</td>\n",
       "      <td>2.395348</td>\n",
       "      <td>1.714038</td>\n",
       "      <td>1.376453</td>\n",
       "      <td>5.837731</td>\n",
       "      <td>-0.039902</td>\n",
       "      <td>3.334881</td>\n",
       "      <td>1.576397</td>\n",
       "      <td>-0.236713</td>\n",
       "      <td>2.223492</td>\n",
       "      <td>2.377612</td>\n",
       "    </tr>\n",
       "    <tr>\n",
       "      <th>DTL-ATL</th>\n",
       "      <td>6.023470</td>\n",
       "      <td>0.982434</td>\n",
       "      <td>0.245909</td>\n",
       "      <td>0.519884</td>\n",
       "      <td>-0.060283</td>\n",
       "      <td>-0.325343</td>\n",
       "      <td>1.246767</td>\n",
       "      <td>1.067628</td>\n",
       "      <td>1.282265</td>\n",
       "      <td>-0.194044</td>\n",
       "      <td>...</td>\n",
       "      <td>-1.198094</td>\n",
       "      <td>-0.327069</td>\n",
       "      <td>0.765528</td>\n",
       "      <td>1.886347</td>\n",
       "      <td>0.944748</td>\n",
       "      <td>1.456566</td>\n",
       "      <td>-0.896885</td>\n",
       "      <td>0.422008</td>\n",
       "      <td>0.338778</td>\n",
       "      <td>0.026024</td>\n",
       "    </tr>\n",
       "    <tr>\n",
       "      <th>EC</th>\n",
       "      <td>3.860875</td>\n",
       "      <td>2.594484</td>\n",
       "      <td>1.566234</td>\n",
       "      <td>1.238001</td>\n",
       "      <td>-0.931116</td>\n",
       "      <td>1.778145</td>\n",
       "      <td>1.001152</td>\n",
       "      <td>2.444785</td>\n",
       "      <td>2.350325</td>\n",
       "      <td>0.145976</td>\n",
       "      <td>...</td>\n",
       "      <td>0.078226</td>\n",
       "      <td>-0.722909</td>\n",
       "      <td>-0.232679</td>\n",
       "      <td>0.522166</td>\n",
       "      <td>1.102316</td>\n",
       "      <td>1.106048</td>\n",
       "      <td>2.304825</td>\n",
       "      <td>-1.341057</td>\n",
       "      <td>1.921914</td>\n",
       "      <td>-0.037199</td>\n",
       "    </tr>\n",
       "    <tr>\n",
       "      <th>Fib</th>\n",
       "      <td>3.137777</td>\n",
       "      <td>1.555153</td>\n",
       "      <td>0.529373</td>\n",
       "      <td>1.901113</td>\n",
       "      <td>-1.653625</td>\n",
       "      <td>-0.769023</td>\n",
       "      <td>1.480108</td>\n",
       "      <td>0.311988</td>\n",
       "      <td>2.334767</td>\n",
       "      <td>0.620220</td>\n",
       "      <td>...</td>\n",
       "      <td>-0.050736</td>\n",
       "      <td>-0.120733</td>\n",
       "      <td>0.647550</td>\n",
       "      <td>1.087070</td>\n",
       "      <td>0.919473</td>\n",
       "      <td>1.322307</td>\n",
       "      <td>0.842320</td>\n",
       "      <td>0.106361</td>\n",
       "      <td>-0.788350</td>\n",
       "      <td>0.444065</td>\n",
       "    </tr>\n",
       "    <tr>\n",
       "      <th>ICA</th>\n",
       "      <td>1.675226</td>\n",
       "      <td>1.221747</td>\n",
       "      <td>1.767471</td>\n",
       "      <td>1.134337</td>\n",
       "      <td>0.762872</td>\n",
       "      <td>-0.519022</td>\n",
       "      <td>-0.488740</td>\n",
       "      <td>-0.061695</td>\n",
       "      <td>1.473939</td>\n",
       "      <td>-1.910105</td>\n",
       "      <td>...</td>\n",
       "      <td>1.039554</td>\n",
       "      <td>0.028090</td>\n",
       "      <td>0.388484</td>\n",
       "      <td>2.106396</td>\n",
       "      <td>0.030773</td>\n",
       "      <td>2.257378</td>\n",
       "      <td>-0.178636</td>\n",
       "      <td>0.043537</td>\n",
       "      <td>0.739184</td>\n",
       "      <td>0.764768</td>\n",
       "    </tr>\n",
       "    <tr>\n",
       "      <th>ICB</th>\n",
       "      <td>1.533755</td>\n",
       "      <td>0.232276</td>\n",
       "      <td>1.686412</td>\n",
       "      <td>1.329365</td>\n",
       "      <td>0.500329</td>\n",
       "      <td>-1.775795</td>\n",
       "      <td>0.429827</td>\n",
       "      <td>2.089956</td>\n",
       "      <td>0.376974</td>\n",
       "      <td>-1.151866</td>\n",
       "      <td>...</td>\n",
       "      <td>0.485330</td>\n",
       "      <td>0.023591</td>\n",
       "      <td>0.247168</td>\n",
       "      <td>2.571973</td>\n",
       "      <td>0.025844</td>\n",
       "      <td>2.534379</td>\n",
       "      <td>0.489966</td>\n",
       "      <td>0.036563</td>\n",
       "      <td>-1.530904</td>\n",
       "      <td>-0.111862</td>\n",
       "    </tr>\n",
       "    <tr>\n",
       "      <th>MO</th>\n",
       "      <td>2.958606</td>\n",
       "      <td>0.944689</td>\n",
       "      <td>-1.404395</td>\n",
       "      <td>0.243372</td>\n",
       "      <td>-0.722457</td>\n",
       "      <td>-1.218811</td>\n",
       "      <td>-1.688351</td>\n",
       "      <td>-0.053515</td>\n",
       "      <td>0.847134</td>\n",
       "      <td>0.560308</td>\n",
       "      <td>...</td>\n",
       "      <td>-0.394875</td>\n",
       "      <td>0.150854</td>\n",
       "      <td>-1.476299</td>\n",
       "      <td>-1.415387</td>\n",
       "      <td>2.469606</td>\n",
       "      <td>0.360940</td>\n",
       "      <td>-0.982148</td>\n",
       "      <td>-0.342254</td>\n",
       "      <td>0.630799</td>\n",
       "      <td>-1.959316</td>\n",
       "    </tr>\n",
       "    <tr>\n",
       "      <th>MTAL</th>\n",
       "      <td>2.427646</td>\n",
       "      <td>1.559967</td>\n",
       "      <td>2.180850</td>\n",
       "      <td>2.251880</td>\n",
       "      <td>0.632380</td>\n",
       "      <td>1.597817</td>\n",
       "      <td>1.691854</td>\n",
       "      <td>2.784269</td>\n",
       "      <td>0.015067</td>\n",
       "      <td>1.399720</td>\n",
       "      <td>...</td>\n",
       "      <td>-0.641882</td>\n",
       "      <td>0.299274</td>\n",
       "      <td>0.646372</td>\n",
       "      <td>1.883739</td>\n",
       "      <td>0.535938</td>\n",
       "      <td>0.523696</td>\n",
       "      <td>0.771580</td>\n",
       "      <td>-1.091166</td>\n",
       "      <td>1.961459</td>\n",
       "      <td>-0.115097</td>\n",
       "    </tr>\n",
       "    <tr>\n",
       "      <th>PC</th>\n",
       "      <td>5.816550</td>\n",
       "      <td>1.321332</td>\n",
       "      <td>-0.373785</td>\n",
       "      <td>1.371577</td>\n",
       "      <td>1.656615</td>\n",
       "      <td>0.416262</td>\n",
       "      <td>1.285231</td>\n",
       "      <td>3.634116</td>\n",
       "      <td>3.268302</td>\n",
       "      <td>0.045188</td>\n",
       "      <td>...</td>\n",
       "      <td>1.348208</td>\n",
       "      <td>0.043130</td>\n",
       "      <td>-0.188682</td>\n",
       "      <td>2.081405</td>\n",
       "      <td>0.473066</td>\n",
       "      <td>1.794618</td>\n",
       "      <td>0.778330</td>\n",
       "      <td>0.611552</td>\n",
       "      <td>-0.592974</td>\n",
       "      <td>1.112160</td>\n",
       "    </tr>\n",
       "    <tr>\n",
       "      <th>PEC</th>\n",
       "      <td>0.869302</td>\n",
       "      <td>-1.366313</td>\n",
       "      <td>-3.388072</td>\n",
       "      <td>0.188229</td>\n",
       "      <td>-4.394317</td>\n",
       "      <td>-2.891318</td>\n",
       "      <td>-1.278799</td>\n",
       "      <td>-0.535087</td>\n",
       "      <td>0.204953</td>\n",
       "      <td>0.348141</td>\n",
       "      <td>...</td>\n",
       "      <td>0.265317</td>\n",
       "      <td>0.116674</td>\n",
       "      <td>0.291008</td>\n",
       "      <td>0.147612</td>\n",
       "      <td>-3.208477</td>\n",
       "      <td>0.233576</td>\n",
       "      <td>0.286257</td>\n",
       "      <td>0.180833</td>\n",
       "      <td>0.325501</td>\n",
       "      <td>0.188229</td>\n",
       "    </tr>\n",
       "    <tr>\n",
       "      <th>PT</th>\n",
       "      <td>3.598054</td>\n",
       "      <td>0.680003</td>\n",
       "      <td>1.713539</td>\n",
       "      <td>3.155377</td>\n",
       "      <td>-1.259157</td>\n",
       "      <td>-0.546735</td>\n",
       "      <td>4.080820</td>\n",
       "      <td>5.085275</td>\n",
       "      <td>4.321537</td>\n",
       "      <td>3.006192</td>\n",
       "      <td>...</td>\n",
       "      <td>1.720672</td>\n",
       "      <td>0.237376</td>\n",
       "      <td>1.952049</td>\n",
       "      <td>1.979868</td>\n",
       "      <td>3.910800</td>\n",
       "      <td>0.970396</td>\n",
       "      <td>0.103056</td>\n",
       "      <td>-0.288168</td>\n",
       "      <td>0.476210</td>\n",
       "      <td>1.211330</td>\n",
       "    </tr>\n",
       "    <tr>\n",
       "      <th>Pod</th>\n",
       "      <td>0.334775</td>\n",
       "      <td>2.242128</td>\n",
       "      <td>3.398412</td>\n",
       "      <td>-0.014661</td>\n",
       "      <td>3.029181</td>\n",
       "      <td>-0.018833</td>\n",
       "      <td>1.532742</td>\n",
       "      <td>-0.020401</td>\n",
       "      <td>2.210681</td>\n",
       "      <td>2.860052</td>\n",
       "      <td>...</td>\n",
       "      <td>-1.385170</td>\n",
       "      <td>-0.009088</td>\n",
       "      <td>-0.094474</td>\n",
       "      <td>2.091553</td>\n",
       "      <td>-2.716577</td>\n",
       "      <td>2.804023</td>\n",
       "      <td>-1.742088</td>\n",
       "      <td>-0.014085</td>\n",
       "      <td>-0.548732</td>\n",
       "      <td>-0.014661</td>\n",
       "    </tr>\n",
       "    <tr>\n",
       "      <th>Uro</th>\n",
       "      <td>0.976374</td>\n",
       "      <td>-1.029492</td>\n",
       "      <td>-0.099468</td>\n",
       "      <td>0.122682</td>\n",
       "      <td>0.063008</td>\n",
       "      <td>-0.269208</td>\n",
       "      <td>1.092711</td>\n",
       "      <td>-0.605656</td>\n",
       "      <td>0.785956</td>\n",
       "      <td>-2.180976</td>\n",
       "      <td>...</td>\n",
       "      <td>0.242702</td>\n",
       "      <td>0.076045</td>\n",
       "      <td>0.016234</td>\n",
       "      <td>-0.193787</td>\n",
       "      <td>0.083309</td>\n",
       "      <td>1.540079</td>\n",
       "      <td>-0.566830</td>\n",
       "      <td>0.117862</td>\n",
       "      <td>-0.014149</td>\n",
       "      <td>-0.177808</td>\n",
       "    </tr>\n",
       "  </tbody>\n",
       "</table>\n",
       "<p>16 rows × 252 columns</p>\n",
       "</div>"
      ],
      "text/plain": [
       "              Ahr        Ar     Arid2    Arid3a      Arnt     Ascl1      Atf1  \\\n",
       "CNT      3.030897  0.011967  2.185561  1.065460  2.010991  0.006926 -0.740478   \n",
       "CTAL     1.387667  0.982125  4.407882  1.345465  0.873938  1.739984 -0.756691   \n",
       "DCT      3.722287  2.015836  3.893760  1.305174  1.247696 -0.817872  1.631166   \n",
       "DCT-CNT  2.945412  0.712726  2.970348  0.336522  2.706994 -0.597503  1.191005   \n",
       "DTL-ATL  6.023470  0.982434  0.245909  0.519884 -0.060283 -0.325343  1.246767   \n",
       "EC       3.860875  2.594484  1.566234  1.238001 -0.931116  1.778145  1.001152   \n",
       "Fib      3.137777  1.555153  0.529373  1.901113 -1.653625 -0.769023  1.480108   \n",
       "ICA      1.675226  1.221747  1.767471  1.134337  0.762872 -0.519022 -0.488740   \n",
       "ICB      1.533755  0.232276  1.686412  1.329365  0.500329 -1.775795  0.429827   \n",
       "MO       2.958606  0.944689 -1.404395  0.243372 -0.722457 -1.218811 -1.688351   \n",
       "MTAL     2.427646  1.559967  2.180850  2.251880  0.632380  1.597817  1.691854   \n",
       "PC       5.816550  1.321332 -0.373785  1.371577  1.656615  0.416262  1.285231   \n",
       "PEC      0.869302 -1.366313 -3.388072  0.188229 -4.394317 -2.891318 -1.278799   \n",
       "PT       3.598054  0.680003  1.713539  3.155377 -1.259157 -0.546735  4.080820   \n",
       "Pod      0.334775  2.242128  3.398412 -0.014661  3.029181 -0.018833  1.532742   \n",
       "Uro      0.976374 -1.029492 -0.099468  0.122682  0.063008 -0.269208  1.092711   \n",
       "\n",
       "             Atf2      Atf3      Atf4  ...      Zeb2    Zfp644       Zfx  \\\n",
       "CNT      1.133704  3.447561 -0.569045  ...  1.385502  0.115147  0.156232   \n",
       "CTAL     1.347214 -0.641483  0.721450  ...  0.891856 -0.043325 -0.297065   \n",
       "DCT      2.899339  1.221663  0.702071  ...  1.581107  0.148054  1.958121   \n",
       "DCT-CNT  0.993866  3.724072  0.103193  ...  2.395348  1.714038  1.376453   \n",
       "DTL-ATL  1.067628  1.282265 -0.194044  ... -1.198094 -0.327069  0.765528   \n",
       "EC       2.444785  2.350325  0.145976  ...  0.078226 -0.722909 -0.232679   \n",
       "Fib      0.311988  2.334767  0.620220  ... -0.050736 -0.120733  0.647550   \n",
       "ICA     -0.061695  1.473939 -1.910105  ...  1.039554  0.028090  0.388484   \n",
       "ICB      2.089956  0.376974 -1.151866  ...  0.485330  0.023591  0.247168   \n",
       "MO      -0.053515  0.847134  0.560308  ... -0.394875  0.150854 -1.476299   \n",
       "MTAL     2.784269  0.015067  1.399720  ... -0.641882  0.299274  0.646372   \n",
       "PC       3.634116  3.268302  0.045188  ...  1.348208  0.043130 -0.188682   \n",
       "PEC     -0.535087  0.204953  0.348141  ...  0.265317  0.116674  0.291008   \n",
       "PT       5.085275  4.321537  3.006192  ...  1.720672  0.237376  1.952049   \n",
       "Pod     -0.020401  2.210681  2.860052  ... -1.385170 -0.009088 -0.094474   \n",
       "Uro     -0.605656  0.785956 -2.180976  ...  0.242702  0.076045  0.016234   \n",
       "\n",
       "             Zhx1      Zhx2   Zkscan1    Znf143     Znf24    Znf263    Znf639  \n",
       "CNT      3.845869  2.601478  2.470458  1.848155  0.026832 -0.473189  1.559981  \n",
       "CTAL     3.436427  0.851699  2.241290  1.407212 -1.274926  1.745184  0.389052  \n",
       "DCT      5.539014  2.703143  1.844885  0.462314 -1.948092  0.689132  1.858557  \n",
       "DCT-CNT  5.837731 -0.039902  3.334881  1.576397 -0.236713  2.223492  2.377612  \n",
       "DTL-ATL  1.886347  0.944748  1.456566 -0.896885  0.422008  0.338778  0.026024  \n",
       "EC       0.522166  1.102316  1.106048  2.304825 -1.341057  1.921914 -0.037199  \n",
       "Fib      1.087070  0.919473  1.322307  0.842320  0.106361 -0.788350  0.444065  \n",
       "ICA      2.106396  0.030773  2.257378 -0.178636  0.043537  0.739184  0.764768  \n",
       "ICB      2.571973  0.025844  2.534379  0.489966  0.036563 -1.530904 -0.111862  \n",
       "MO      -1.415387  2.469606  0.360940 -0.982148 -0.342254  0.630799 -1.959316  \n",
       "MTAL     1.883739  0.535938  0.523696  0.771580 -1.091166  1.961459 -0.115097  \n",
       "PC       2.081405  0.473066  1.794618  0.778330  0.611552 -0.592974  1.112160  \n",
       "PEC      0.147612 -3.208477  0.233576  0.286257  0.180833  0.325501  0.188229  \n",
       "PT       1.979868  3.910800  0.970396  0.103056 -0.288168  0.476210  1.211330  \n",
       "Pod      2.091553 -2.716577  2.804023 -1.742088 -0.014085 -0.548732 -0.014661  \n",
       "Uro     -0.193787  0.083309  1.540079 -0.566830  0.117862 -0.014149 -0.177808  \n",
       "\n",
       "[16 rows x 252 columns]"
      ]
     },
     "execution_count": 71,
     "metadata": {},
     "output_type": "execute_result"
    }
   ],
   "source": [
    "estimate"
   ]
  },
  {
   "cell_type": "code",
   "execution_count": 72,
   "metadata": {},
   "outputs": [],
   "source": [
    "# get top 10 TFs\n",
    "top_tfs = estimate.abs().sum(axis=0).sort_values(ascending=False).head(10).index"
   ]
  },
  {
   "cell_type": "code",
   "execution_count": null,
   "metadata": {},
   "outputs": [],
   "source": []
  },
  {
   "cell_type": "code",
   "execution_count": null,
   "metadata": {},
   "outputs": [],
   "source": []
  },
  {
   "cell_type": "code",
   "execution_count": 77,
   "metadata": {},
   "outputs": [
    {
     "data": {
      "text/plain": [
       "<seaborn.matrix.ClusterGrid at 0x7f1e09f07ca0>"
      ]
     },
     "execution_count": 77,
     "metadata": {},
     "output_type": "execute_result"
    },
    {
     "data": {
      "image/png": "[encoded data removed]",
      "text/plain": [
       "<Figure size 1000x1000 with 4 Axes>"
      ]
     },
     "metadata": {},
     "output_type": "display_data"
    }
   ],
   "source": [
    "# heatmap of top TFs\n",
    "sns.clustermap(estimate[top_tfs], cmap='RdBu_r',center=0, figsize=(10, 10))"
   ]
  },
  {
   "cell_type": "code",
   "execution_count": null,
   "metadata": {},
   "outputs": [],
   "source": []
  },
  {
   "cell_type": "code",
   "execution_count": 89,
   "metadata": {},
   "outputs": [],
   "source": [
    "important_views =  model.get_r2().sort_values(\"R2\", ascending=False).head(10)['View']"
   ]
  },
  {
   "cell_type": "code",
   "execution_count": 91,
   "metadata": {},
   "outputs": [],
   "source": [
    "# Top 3 TFs per important view\n",
    "tfs = []\n",
    "for view in important_views:\n",
    "    tfs.extend(estimate.loc[view].abs().sort_values(ascending=False).head(3).index)\n",
    "    \n",
    "    "
   ]
  },
  {
   "cell_type": "code",
   "execution_count": 94,
   "metadata": {},
   "outputs": [],
   "source": [
    "tfs = np.unique(tfs)"
   ]
  },
  {
   "cell_type": "code",
   "execution_count": null,
   "metadata": {},
   "outputs": [],
   "source": []
  },
  {
   "cell_type": "code",
   "execution_count": 95,
   "metadata": {},
   "outputs": [
    {
     "data": {
      "text/plain": [
       "<seaborn.matrix.ClusterGrid at 0x7f1dea3d1b10>"
      ]
     },
     "execution_count": 95,
     "metadata": {},
     "output_type": "execute_result"
    },
    {
     "data": {
      "image/png": "[encoded data removed]",
      "text/plain": [
       "<Figure size 1000x1000 with 4 Axes>"
      ]
     },
     "metadata": {},
     "output_type": "display_data"
    }
   ],
   "source": [
    "sns.clustermap(estimate[tfs], cmap='RdBu_r',center=0, figsize=(10, 10))"
   ]
  },
  {
   "cell_type": "code",
   "execution_count": null,
   "metadata": {},
   "outputs": [],
   "source": []
  }
 ],
 "metadata": {
  "kernelspec": {
   "display_name": "spiana",
   "language": "python",
   "name": "spiana"
  },
  "language_info": {
   "codemirror_mode": {
    "name": "ipython",
    "version": 3
   },
   "file_extension": ".py",
   "mimetype": "text/x-python",
   "name": "python",
   "nbconvert_exporter": "python",
   "pygments_lexer": "ipython3",
   "version": "3.10.10"
  },
  "orig_nbformat": 4,
  "vscode": {
   "interpreter": {
    "hash": "b688e7f183144fde965166e58483e32fc6dbc6fc380ccc51d49ef608da0385a8"
   }
  }
 },
 "nbformat": 4,
 "nbformat_minor": 2
}
