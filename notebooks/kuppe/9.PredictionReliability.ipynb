{
 "cells": [
  {
   "cell_type": "code",
   "execution_count": 1,
   "metadata": {},
   "outputs": [],
   "source": [
    "import os\n",
    "import numpy as np\n",
    "\n",
    "import pandas as pd\n",
    "import scanpy as sc\n",
    "\n",
    "import decoupler as dc\n",
    "\n",
    "import matplotlib.pyplot as plt"
   ]
  },
  {
   "cell_type": "code",
   "execution_count": 2,
   "metadata": {},
   "outputs": [],
   "source": [
    "from utils import *"
   ]
  },
  {
   "cell_type": "code",
   "execution_count": 3,
   "metadata": {},
   "outputs": [
    {
     "name": "stderr",
     "output_type": "stream",
     "text": [
      "/home/dbdimitrov/miniconda3/envs/spiana/lib/python3.10/site-packages/anndata/_core/anndata.py:121: ImplicitModificationWarning: Transforming to str index.\n"
     ]
    }
   ],
   "source": [
    "datasets = {}\n",
    "datasets['Kuppe et al., 2022'] = process_kuppe()\n",
    "datasets['Reichart et al., 2022'] = process_reichart()\n",
    "datasets['Simonson et al., 2023'] = process_simonson()\n",
    "datasets['Koenig et al., 2022'] = process_koenig()\n",
    "datasets['Chaffin et al., 2022'] = process_chaffin()\n",
    "datasets['Armute et al., 2023'] = process_armute()"
   ]
  },
  {
   "cell_type": "markdown",
   "metadata": {},
   "source": [
    "### Predictions from LIANA+"
   ]
  },
  {
   "cell_type": "markdown",
   "metadata": {},
   "source": [
    "Define predictions at steps"
   ]
  },
  {
   "cell_type": "code",
   "execution_count": 4,
   "metadata": {},
   "outputs": [],
   "source": [
    "predictions = {}"
   ]
  },
  {
   "cell_type": "code",
   "execution_count": 5,
   "metadata": {},
   "outputs": [],
   "source": [
    "def get_ground_truth(df, source='ligand_complex', target='receptor_complex'):\n",
    "    gt = df[[source, target]]\n",
    "    gt = li.rs.explode_complexes(gt, SOURCE=source, TARGET=target)\n",
    "    gt = np.union1d(gt[source], gt[target])\n",
    "    \n",
    "    return gt"
   ]
  },
  {
   "cell_type": "markdown",
   "metadata": {},
   "source": [
    "(I)"
   ]
  },
  {
   "cell_type": "code",
   "execution_count": 8,
   "metadata": {},
   "outputs": [],
   "source": [
    "I = pd.read_csv(\"results/morans.csv\").drop('interaction', axis=1).set_index('sample')\n",
    "I = I.groupby([\"ligand\", 'receptor']).mean().sort_values(\"morans_r\", ascending=False).reset_index()"
   ]
  },
  {
   "cell_type": "code",
   "execution_count": 9,
   "metadata": {},
   "outputs": [
    {
     "name": "stderr",
     "output_type": "stream",
     "text": [
      "/home/dbdimitrov/miniconda3/envs/spiana/lib/python3.10/site-packages/liana/resource/_reassemble_complexes.py:124: SettingWithCopyWarning: \n",
      "A value is trying to be set on a copy of a slice from a DataFrame.\n",
      "Try using .loc[row_indexer,col_indexer] = value instead\n",
      "\n",
      "See the caveats in the documentation: https://pandas.pydata.org/pandas-docs/stable/user_guide/indexing.html#returning-a-view-versus-a-copy\n"
     ]
    }
   ],
   "source": [
    "predictions['(I)'] = get_ground_truth(I.head(15), source='ligand', target='receptor')"
   ]
  },
  {
   "cell_type": "markdown",
   "metadata": {},
   "source": [
    "(one)"
   ]
  },
  {
   "cell_type": "code",
   "execution_count": 10,
   "metadata": {},
   "outputs": [
    {
     "name": "stderr",
     "output_type": "stream",
     "text": [
      "/home/dbdimitrov/miniconda3/envs/spiana/lib/python3.10/site-packages/liana/resource/_reassemble_complexes.py:124: SettingWithCopyWarning: \n",
      "A value is trying to be set on a copy of a slice from a DataFrame.\n",
      "Try using .loc[row_indexer,col_indexer] = value instead\n",
      "\n",
      "See the caveats in the documentation: https://pandas.pydata.org/pandas-docs/stable/user_guide/indexing.html#returning-a-view-versus-a-copy\n"
     ]
    }
   ],
   "source": [
    "one = pd.read_csv(\"results/all_lrs.csv\").set_index('sample')\n",
    "one = one.groupby(['source', 'target', 'ligand_complex', 'receptor_complex']).mean().reset_index().sort_values(\"cellphone_pvals\", ascending=True)\n",
    "one = one[(one['target']=='MY')]\n",
    "\n",
    "gt = one.head(25)\n",
    "gt = get_ground_truth(gt)\n",
    "predictions['(1)'] = gt"
   ]
  },
  {
   "cell_type": "markdown",
   "metadata": {},
   "source": [
    "(two)"
   ]
  },
  {
   "cell_type": "code",
   "execution_count": 11,
   "metadata": {},
   "outputs": [
    {
     "name": "stderr",
     "output_type": "stream",
     "text": [
      "/home/dbdimitrov/miniconda3/envs/spiana/lib/python3.10/site-packages/liana/resource/_reassemble_complexes.py:124: SettingWithCopyWarning: \n",
      "A value is trying to be set on a copy of a slice from a DataFrame.\n",
      "Try using .loc[row_indexer,col_indexer] = value instead\n",
      "\n",
      "See the caveats in the documentation: https://pandas.pydata.org/pandas-docs/stable/user_guide/indexing.html#returning-a-view-versus-a-copy\n"
     ]
    }
   ],
   "source": [
    "cell_pairs = pd.read_csv(os.path.join('results', 'cell_pairs.csv'))\n",
    "two = one.merge(cell_pairs, on=['source', 'target'], how='inner')\n",
    "predictions['(2)'] = get_ground_truth(two.head(30))"
   ]
  },
  {
   "cell_type": "markdown",
   "metadata": {},
   "source": [
    "(three)\n"
   ]
  },
  {
   "cell_type": "code",
   "execution_count": 12,
   "metadata": {},
   "outputs": [],
   "source": [
    "lr_nmf = pd.read_csv(os.path.join('results', 'lr_pairs.csv'))\n",
    "lr_nmf = lr_nmf[lr_nmf['top1std']][['ligand', 'receptor']].rename(columns={'ligand': 'ligand_complex', 'receptor': 'receptor_complex'})"
   ]
  },
  {
   "cell_type": "code",
   "execution_count": 13,
   "metadata": {},
   "outputs": [
    {
     "name": "stderr",
     "output_type": "stream",
     "text": [
      "/home/dbdimitrov/miniconda3/envs/spiana/lib/python3.10/site-packages/liana/resource/_reassemble_complexes.py:124: SettingWithCopyWarning: \n",
      "A value is trying to be set on a copy of a slice from a DataFrame.\n",
      "Try using .loc[row_indexer,col_indexer] = value instead\n",
      "\n",
      "See the caveats in the documentation: https://pandas.pydata.org/pandas-docs/stable/user_guide/indexing.html#returning-a-view-versus-a-copy\n"
     ]
    }
   ],
   "source": [
    "three = two.merge(lr_nmf, on=['ligand_complex', 'receptor_complex'], how='inner')\n",
    "three = three.head(150)\n",
    "predictions['(3)'] = get_ground_truth(three)"
   ]
  },
  {
   "cell_type": "markdown",
   "metadata": {},
   "source": [
    "(four)"
   ]
  },
  {
   "cell_type": "code",
   "execution_count": 14,
   "metadata": {},
   "outputs": [],
   "source": [
    "import mofax as mofa\n",
    "model = mofa.mofa_model(os.path.join('results', \"models/mofatalk.h5ad\"))\n",
    "var = model.get_r2()\n",
    "ct = var[var['R2'] > 20][['View']]\n",
    "# seperate View by &\n",
    "ct = ct['View'].str.split('&', expand=True)\n",
    "ct = ct.rename(columns={0: 'source', 1: 'target'})"
   ]
  },
  {
   "cell_type": "code",
   "execution_count": 15,
   "metadata": {},
   "outputs": [],
   "source": [
    "four = pd.read_csv('results/kuppe_mofa_loadings.csv')\n",
    "four = four.merge(ct, how='inner')\n",
    "four = four.sort_values(\"Factor1\", ascending=False, key=abs)"
   ]
  },
  {
   "cell_type": "code",
   "execution_count": 16,
   "metadata": {},
   "outputs": [
    {
     "name": "stderr",
     "output_type": "stream",
     "text": [
      "/home/dbdimitrov/miniconda3/envs/spiana/lib/python3.10/site-packages/liana/resource/_reassemble_complexes.py:124: SettingWithCopyWarning: \n",
      "A value is trying to be set on a copy of a slice from a DataFrame.\n",
      "Try using .loc[row_indexer,col_indexer] = value instead\n",
      "\n",
      "See the caveats in the documentation: https://pandas.pydata.org/pandas-docs/stable/user_guide/indexing.html#returning-a-view-versus-a-copy\n"
     ]
    }
   ],
   "source": [
    "predictions['(4)'] = get_ground_truth(four.head(25))"
   ]
  },
  {
   "cell_type": "markdown",
   "metadata": {},
   "source": [
    "(five)"
   ]
  },
  {
   "cell_type": "code",
   "execution_count": 17,
   "metadata": {},
   "outputs": [],
   "source": [
    "five = pd.read_csv('results/gt_lrs.csv').sort_values(\"interaction_stat\", ascending=False, key=abs).head(25)"
   ]
  },
  {
   "cell_type": "code",
   "execution_count": 18,
   "metadata": {},
   "outputs": [
    {
     "name": "stderr",
     "output_type": "stream",
     "text": [
      "/home/dbdimitrov/miniconda3/envs/spiana/lib/python3.10/site-packages/liana/resource/_reassemble_complexes.py:124: SettingWithCopyWarning: \n",
      "A value is trying to be set on a copy of a slice from a DataFrame.\n",
      "Try using .loc[row_indexer,col_indexer] = value instead\n",
      "\n",
      "See the caveats in the documentation: https://pandas.pydata.org/pandas-docs/stable/user_guide/indexing.html#returning-a-view-versus-a-copy\n"
     ]
    }
   ],
   "source": [
    "predictions['(5)'] = get_ground_truth(five)"
   ]
  },
  {
   "cell_type": "markdown",
   "metadata": {},
   "source": [
    "(six)"
   ]
  },
  {
   "cell_type": "code",
   "execution_count": 19,
   "metadata": {},
   "outputs": [
    {
     "name": "stderr",
     "output_type": "stream",
     "text": [
      "/home/dbdimitrov/miniconda3/envs/spiana/lib/python3.10/site-packages/liana/resource/_reassemble_complexes.py:124: SettingWithCopyWarning: \n",
      "A value is trying to be set on a copy of a slice from a DataFrame.\n",
      "Try using .loc[row_indexer,col_indexer] = value instead\n",
      "\n",
      "See the caveats in the documentation: https://pandas.pydata.org/pandas-docs/stable/user_guide/indexing.html#returning-a-view-versus-a-copy\n"
     ]
    }
   ],
   "source": [
    "predictions['(6)'] = get_ground_truth(pd.read_csv(\"results/edges_Myeloid.csv\"), source='source', target='target')"
   ]
  },
  {
   "cell_type": "code",
   "execution_count": 20,
   "metadata": {},
   "outputs": [
    {
     "name": "stdout",
     "output_type": "stream",
     "text": [
      "(I) 23\n",
      "(1) 37\n",
      "(2) 44\n",
      "(3) 70\n",
      "(4) 26\n",
      "(5) 26\n",
      "(6) 25\n"
     ]
    }
   ],
   "source": [
    "for key in predictions.keys():\n",
    "    print(key, len(predictions[key]))"
   ]
  },
  {
   "cell_type": "markdown",
   "metadata": {},
   "source": [
    "## Evaluate"
   ]
  },
  {
   "cell_type": "code",
   "execution_count": 21,
   "metadata": {},
   "outputs": [
    {
     "name": "stderr",
     "output_type": "stream",
     "text": [
      "/tmp/ipykernel_1255186/2087195028.py:35: FutureWarning: The frame.append method is deprecated and will be removed from pandas in a future version. Use pandas.concat instead.\n",
      "/tmp/ipykernel_1255186/2087195028.py:35: FutureWarning: The frame.append method is deprecated and will be removed from pandas in a future version. Use pandas.concat instead.\n",
      "/tmp/ipykernel_1255186/2087195028.py:35: FutureWarning: The frame.append method is deprecated and will be removed from pandas in a future version. Use pandas.concat instead.\n",
      "/tmp/ipykernel_1255186/2087195028.py:35: FutureWarning: The frame.append method is deprecated and will be removed from pandas in a future version. Use pandas.concat instead.\n",
      "/tmp/ipykernel_1255186/2087195028.py:35: FutureWarning: The frame.append method is deprecated and will be removed from pandas in a future version. Use pandas.concat instead.\n",
      "/tmp/ipykernel_1255186/2087195028.py:35: FutureWarning: The frame.append method is deprecated and will be removed from pandas in a future version. Use pandas.concat instead.\n",
      "/tmp/ipykernel_1255186/2087195028.py:35: FutureWarning: The frame.append method is deprecated and will be removed from pandas in a future version. Use pandas.concat instead.\n",
      "/tmp/ipykernel_1255186/2087195028.py:35: FutureWarning: The frame.append method is deprecated and will be removed from pandas in a future version. Use pandas.concat instead.\n",
      "/tmp/ipykernel_1255186/2087195028.py:35: FutureWarning: The frame.append method is deprecated and will be removed from pandas in a future version. Use pandas.concat instead.\n",
      "/tmp/ipykernel_1255186/2087195028.py:35: FutureWarning: The frame.append method is deprecated and will be removed from pandas in a future version. Use pandas.concat instead.\n",
      "/tmp/ipykernel_1255186/2087195028.py:35: FutureWarning: The frame.append method is deprecated and will be removed from pandas in a future version. Use pandas.concat instead.\n",
      "/tmp/ipykernel_1255186/2087195028.py:35: FutureWarning: The frame.append method is deprecated and will be removed from pandas in a future version. Use pandas.concat instead.\n",
      "/tmp/ipykernel_1255186/2087195028.py:35: FutureWarning: The frame.append method is deprecated and will be removed from pandas in a future version. Use pandas.concat instead.\n",
      "/tmp/ipykernel_1255186/2087195028.py:35: FutureWarning: The frame.append method is deprecated and will be removed from pandas in a future version. Use pandas.concat instead.\n",
      "/tmp/ipykernel_1255186/2087195028.py:35: FutureWarning: The frame.append method is deprecated and will be removed from pandas in a future version. Use pandas.concat instead.\n",
      "/tmp/ipykernel_1255186/2087195028.py:35: FutureWarning: The frame.append method is deprecated and will be removed from pandas in a future version. Use pandas.concat instead.\n",
      "/tmp/ipykernel_1255186/2087195028.py:35: FutureWarning: The frame.append method is deprecated and will be removed from pandas in a future version. Use pandas.concat instead.\n",
      "/tmp/ipykernel_1255186/2087195028.py:35: FutureWarning: The frame.append method is deprecated and will be removed from pandas in a future version. Use pandas.concat instead.\n",
      "/tmp/ipykernel_1255186/2087195028.py:35: FutureWarning: The frame.append method is deprecated and will be removed from pandas in a future version. Use pandas.concat instead.\n",
      "/tmp/ipykernel_1255186/2087195028.py:35: FutureWarning: The frame.append method is deprecated and will be removed from pandas in a future version. Use pandas.concat instead.\n",
      "/tmp/ipykernel_1255186/2087195028.py:35: FutureWarning: The frame.append method is deprecated and will be removed from pandas in a future version. Use pandas.concat instead.\n",
      "/tmp/ipykernel_1255186/2087195028.py:35: FutureWarning: The frame.append method is deprecated and will be removed from pandas in a future version. Use pandas.concat instead.\n",
      "/tmp/ipykernel_1255186/2087195028.py:35: FutureWarning: The frame.append method is deprecated and will be removed from pandas in a future version. Use pandas.concat instead.\n",
      "/tmp/ipykernel_1255186/2087195028.py:35: FutureWarning: The frame.append method is deprecated and will be removed from pandas in a future version. Use pandas.concat instead.\n",
      "/tmp/ipykernel_1255186/2087195028.py:35: FutureWarning: The frame.append method is deprecated and will be removed from pandas in a future version. Use pandas.concat instead.\n",
      "/tmp/ipykernel_1255186/2087195028.py:35: FutureWarning: The frame.append method is deprecated and will be removed from pandas in a future version. Use pandas.concat instead.\n",
      "/tmp/ipykernel_1255186/2087195028.py:35: FutureWarning: The frame.append method is deprecated and will be removed from pandas in a future version. Use pandas.concat instead.\n",
      "/tmp/ipykernel_1255186/2087195028.py:35: FutureWarning: The frame.append method is deprecated and will be removed from pandas in a future version. Use pandas.concat instead.\n",
      "/tmp/ipykernel_1255186/2087195028.py:35: FutureWarning: The frame.append method is deprecated and will be removed from pandas in a future version. Use pandas.concat instead.\n",
      "/tmp/ipykernel_1255186/2087195028.py:35: FutureWarning: The frame.append method is deprecated and will be removed from pandas in a future version. Use pandas.concat instead.\n",
      "/tmp/ipykernel_1255186/2087195028.py:35: FutureWarning: The frame.append method is deprecated and will be removed from pandas in a future version. Use pandas.concat instead.\n",
      "/tmp/ipykernel_1255186/2087195028.py:35: FutureWarning: The frame.append method is deprecated and will be removed from pandas in a future version. Use pandas.concat instead.\n",
      "/tmp/ipykernel_1255186/2087195028.py:35: FutureWarning: The frame.append method is deprecated and will be removed from pandas in a future version. Use pandas.concat instead.\n",
      "/tmp/ipykernel_1255186/2087195028.py:35: FutureWarning: The frame.append method is deprecated and will be removed from pandas in a future version. Use pandas.concat instead.\n",
      "/tmp/ipykernel_1255186/2087195028.py:35: FutureWarning: The frame.append method is deprecated and will be removed from pandas in a future version. Use pandas.concat instead.\n",
      "/tmp/ipykernel_1255186/2087195028.py:35: FutureWarning: The frame.append method is deprecated and will be removed from pandas in a future version. Use pandas.concat instead.\n",
      "/tmp/ipykernel_1255186/2087195028.py:35: FutureWarning: The frame.append method is deprecated and will be removed from pandas in a future version. Use pandas.concat instead.\n",
      "/tmp/ipykernel_1255186/2087195028.py:35: FutureWarning: The frame.append method is deprecated and will be removed from pandas in a future version. Use pandas.concat instead.\n",
      "/tmp/ipykernel_1255186/2087195028.py:35: FutureWarning: The frame.append method is deprecated and will be removed from pandas in a future version. Use pandas.concat instead.\n",
      "/tmp/ipykernel_1255186/2087195028.py:35: FutureWarning: The frame.append method is deprecated and will be removed from pandas in a future version. Use pandas.concat instead.\n",
      "/tmp/ipykernel_1255186/2087195028.py:35: FutureWarning: The frame.append method is deprecated and will be removed from pandas in a future version. Use pandas.concat instead.\n",
      "/tmp/ipykernel_1255186/2087195028.py:35: FutureWarning: The frame.append method is deprecated and will be removed from pandas in a future version. Use pandas.concat instead.\n",
      "/tmp/ipykernel_1255186/2087195028.py:35: FutureWarning: The frame.append method is deprecated and will be removed from pandas in a future version. Use pandas.concat instead.\n",
      "/tmp/ipykernel_1255186/2087195028.py:35: FutureWarning: The frame.append method is deprecated and will be removed from pandas in a future version. Use pandas.concat instead.\n",
      "/tmp/ipykernel_1255186/2087195028.py:35: FutureWarning: The frame.append method is deprecated and will be removed from pandas in a future version. Use pandas.concat instead.\n",
      "/tmp/ipykernel_1255186/2087195028.py:35: FutureWarning: The frame.append method is deprecated and will be removed from pandas in a future version. Use pandas.concat instead.\n",
      "/tmp/ipykernel_1255186/2087195028.py:35: FutureWarning: The frame.append method is deprecated and will be removed from pandas in a future version. Use pandas.concat instead.\n",
      "/tmp/ipykernel_1255186/2087195028.py:35: FutureWarning: The frame.append method is deprecated and will be removed from pandas in a future version. Use pandas.concat instead.\n",
      "/tmp/ipykernel_1255186/2087195028.py:35: FutureWarning: The frame.append method is deprecated and will be removed from pandas in a future version. Use pandas.concat instead.\n",
      "/tmp/ipykernel_1255186/2087195028.py:35: FutureWarning: The frame.append method is deprecated and will be removed from pandas in a future version. Use pandas.concat instead.\n",
      "/tmp/ipykernel_1255186/2087195028.py:35: FutureWarning: The frame.append method is deprecated and will be removed from pandas in a future version. Use pandas.concat instead.\n",
      "/tmp/ipykernel_1255186/2087195028.py:35: FutureWarning: The frame.append method is deprecated and will be removed from pandas in a future version. Use pandas.concat instead.\n",
      "/tmp/ipykernel_1255186/2087195028.py:35: FutureWarning: The frame.append method is deprecated and will be removed from pandas in a future version. Use pandas.concat instead.\n",
      "/tmp/ipykernel_1255186/2087195028.py:35: FutureWarning: The frame.append method is deprecated and will be removed from pandas in a future version. Use pandas.concat instead.\n",
      "/tmp/ipykernel_1255186/2087195028.py:35: FutureWarning: The frame.append method is deprecated and will be removed from pandas in a future version. Use pandas.concat instead.\n",
      "/tmp/ipykernel_1255186/2087195028.py:35: FutureWarning: The frame.append method is deprecated and will be removed from pandas in a future version. Use pandas.concat instead.\n",
      "/tmp/ipykernel_1255186/2087195028.py:35: FutureWarning: The frame.append method is deprecated and will be removed from pandas in a future version. Use pandas.concat instead.\n",
      "/tmp/ipykernel_1255186/2087195028.py:35: FutureWarning: The frame.append method is deprecated and will be removed from pandas in a future version. Use pandas.concat instead.\n",
      "/tmp/ipykernel_1255186/2087195028.py:35: FutureWarning: The frame.append method is deprecated and will be removed from pandas in a future version. Use pandas.concat instead.\n",
      "/tmp/ipykernel_1255186/2087195028.py:35: FutureWarning: The frame.append method is deprecated and will be removed from pandas in a future version. Use pandas.concat instead.\n",
      "/tmp/ipykernel_1255186/2087195028.py:35: FutureWarning: The frame.append method is deprecated and will be removed from pandas in a future version. Use pandas.concat instead.\n",
      "/tmp/ipykernel_1255186/2087195028.py:35: FutureWarning: The frame.append method is deprecated and will be removed from pandas in a future version. Use pandas.concat instead.\n",
      "/tmp/ipykernel_1255186/2087195028.py:35: FutureWarning: The frame.append method is deprecated and will be removed from pandas in a future version. Use pandas.concat instead.\n",
      "/tmp/ipykernel_1255186/2087195028.py:35: FutureWarning: The frame.append method is deprecated and will be removed from pandas in a future version. Use pandas.concat instead.\n",
      "/tmp/ipykernel_1255186/2087195028.py:35: FutureWarning: The frame.append method is deprecated and will be removed from pandas in a future version. Use pandas.concat instead.\n",
      "/tmp/ipykernel_1255186/2087195028.py:35: FutureWarning: The frame.append method is deprecated and will be removed from pandas in a future version. Use pandas.concat instead.\n",
      "/tmp/ipykernel_1255186/2087195028.py:35: FutureWarning: The frame.append method is deprecated and will be removed from pandas in a future version. Use pandas.concat instead.\n",
      "/tmp/ipykernel_1255186/2087195028.py:35: FutureWarning: The frame.append method is deprecated and will be removed from pandas in a future version. Use pandas.concat instead.\n",
      "/tmp/ipykernel_1255186/2087195028.py:35: FutureWarning: The frame.append method is deprecated and will be removed from pandas in a future version. Use pandas.concat instead.\n",
      "/tmp/ipykernel_1255186/2087195028.py:35: FutureWarning: The frame.append method is deprecated and will be removed from pandas in a future version. Use pandas.concat instead.\n",
      "/tmp/ipykernel_1255186/2087195028.py:35: FutureWarning: The frame.append method is deprecated and will be removed from pandas in a future version. Use pandas.concat instead.\n",
      "/tmp/ipykernel_1255186/2087195028.py:35: FutureWarning: The frame.append method is deprecated and will be removed from pandas in a future version. Use pandas.concat instead.\n",
      "/tmp/ipykernel_1255186/2087195028.py:35: FutureWarning: The frame.append method is deprecated and will be removed from pandas in a future version. Use pandas.concat instead.\n",
      "/tmp/ipykernel_1255186/2087195028.py:35: FutureWarning: The frame.append method is deprecated and will be removed from pandas in a future version. Use pandas.concat instead.\n",
      "/tmp/ipykernel_1255186/2087195028.py:35: FutureWarning: The frame.append method is deprecated and will be removed from pandas in a future version. Use pandas.concat instead.\n",
      "/tmp/ipykernel_1255186/2087195028.py:35: FutureWarning: The frame.append method is deprecated and will be removed from pandas in a future version. Use pandas.concat instead.\n",
      "/tmp/ipykernel_1255186/2087195028.py:35: FutureWarning: The frame.append method is deprecated and will be removed from pandas in a future version. Use pandas.concat instead.\n",
      "/tmp/ipykernel_1255186/2087195028.py:35: FutureWarning: The frame.append method is deprecated and will be removed from pandas in a future version. Use pandas.concat instead.\n",
      "/tmp/ipykernel_1255186/2087195028.py:35: FutureWarning: The frame.append method is deprecated and will be removed from pandas in a future version. Use pandas.concat instead.\n",
      "/tmp/ipykernel_1255186/2087195028.py:35: FutureWarning: The frame.append method is deprecated and will be removed from pandas in a future version. Use pandas.concat instead.\n",
      "/tmp/ipykernel_1255186/2087195028.py:35: FutureWarning: The frame.append method is deprecated and will be removed from pandas in a future version. Use pandas.concat instead.\n",
      "/tmp/ipykernel_1255186/2087195028.py:35: FutureWarning: The frame.append method is deprecated and will be removed from pandas in a future version. Use pandas.concat instead.\n",
      "/tmp/ipykernel_1255186/2087195028.py:35: FutureWarning: The frame.append method is deprecated and will be removed from pandas in a future version. Use pandas.concat instead.\n",
      "/tmp/ipykernel_1255186/2087195028.py:35: FutureWarning: The frame.append method is deprecated and will be removed from pandas in a future version. Use pandas.concat instead.\n"
     ]
    }
   ],
   "source": [
    "results = pd.DataFrame(columns=['stage', 'dataset', 'metric', 'gt', 'p-value', 'z-score']).set_index('dataset')\n",
    "\n",
    "for stage in predictions.keys():\n",
    "    for dataset_name, (pdata, y_true) in datasets.items():\n",
    "        gt = predictions[stage].copy()\n",
    "        gt = np.intersect1d(pdata.var.index, gt)\n",
    "        \n",
    "        kmeans = KMeans(n_clusters=2, random_state=0).fit(pdata[:, gt].X)\n",
    "        gt_ari = adjusted_rand_score(y_true, kmeans.labels_)\n",
    "        \n",
    "        gt_sil = silhouette_score(pdata[:, gt].X, y_true)\n",
    "        gt_nmi = normalized_mutual_info_score(y_true, kmeans.labels_)\n",
    "\n",
    "        rng = np.random.default_rng(0)\n",
    "        subsets = [rng.choice(pdata.var.index, size=len(gt), replace=False) for _ in range(1000)]\n",
    "\n",
    "        ari = []\n",
    "        sil = []\n",
    "        nmi = []\n",
    "        # Printing subsets to verify\n",
    "        for i, subset in enumerate(subsets):\n",
    "            cdata = pdata[:,subset]\n",
    "            kmeans = KMeans(n_clusters=2, random_state=0).fit(cdata.X)\n",
    "            ari.append(adjusted_rand_score(y_true, kmeans.labels_))\n",
    "            # nmi.append(normalized_mutual_info_score(y_true, kmeans.labels_))\n",
    "            sil.append(silhouette_score(cdata.X, y_true))\n",
    "            \n",
    "        # Calculate p-values and z-scores and populate the DataFrame\n",
    "        metrics = {'ARI': (gt_ari, ari),\n",
    "                'Silhouette': (gt_sil, sil),\n",
    "                #    'NMI': (gt_nmi, nmi)\n",
    "                }\n",
    "        for metric_name, (gt_metric, metric_scores) in metrics.items():\n",
    "            pvalue, zscore = calculate_p_value(gt_metric, metric_scores)\n",
    "            results = results.append({\n",
    "                'stage' : stage,\n",
    "                'dataset': dataset_name, \n",
    "                'metric': metric_name, \n",
    "                'gt': gt_metric,\n",
    "                'random': metric_scores,\n",
    "                'p-value': pvalue,\n",
    "                'z-score': zscore\n",
    "                }, ignore_index=True)"
   ]
  },
  {
   "cell_type": "code",
   "execution_count": 22,
   "metadata": {},
   "outputs": [
    {
     "name": "stderr",
     "output_type": "stream",
     "text": [
      "/tmp/ipykernel_1255186/1291209334.py:1: FutureWarning: The default value of numeric_only in DataFrameGroupBy.mean is deprecated. In a future version, numeric_only will default to False. Either specify numeric_only or select only columns which should be valid for the function.\n"
     ]
    },
    {
     "data": {
      "text/html": [
       "<div>\n",
       "<style scoped>\n",
       "    .dataframe tbody tr th:only-of-type {\n",
       "        vertical-align: middle;\n",
       "    }\n",
       "\n",
       "    .dataframe tbody tr th {\n",
       "        vertical-align: top;\n",
       "    }\n",
       "\n",
       "    .dataframe thead th {\n",
       "        text-align: right;\n",
       "    }\n",
       "</style>\n",
       "<table border=\"1\" class=\"dataframe\">\n",
       "  <thead>\n",
       "    <tr style=\"text-align: right;\">\n",
       "      <th></th>\n",
       "      <th>gt</th>\n",
       "      <th>p-value</th>\n",
       "      <th>z-score</th>\n",
       "    </tr>\n",
       "    <tr>\n",
       "      <th>metric</th>\n",
       "      <th></th>\n",
       "      <th></th>\n",
       "      <th></th>\n",
       "    </tr>\n",
       "  </thead>\n",
       "  <tbody>\n",
       "    <tr>\n",
       "      <th>ARI</th>\n",
       "      <td>0.377954</td>\n",
       "      <td>0.241221</td>\n",
       "      <td>1.272248</td>\n",
       "    </tr>\n",
       "    <tr>\n",
       "      <th>Silhouette</th>\n",
       "      <td>0.134938</td>\n",
       "      <td>0.129831</td>\n",
       "      <td>2.607382</td>\n",
       "    </tr>\n",
       "  </tbody>\n",
       "</table>\n",
       "</div>"
      ],
      "text/plain": [
       "                  gt   p-value   z-score\n",
       "metric                                  \n",
       "ARI         0.377954  0.241221  1.272248\n",
       "Silhouette  0.134938  0.129831  2.607382"
      ]
     },
     "execution_count": 22,
     "metadata": {},
     "output_type": "execute_result"
    }
   ],
   "source": [
    "results.groupby('metric').mean()"
   ]
  },
  {
   "cell_type": "code",
   "execution_count": 23,
   "metadata": {},
   "outputs": [
    {
     "data": {
      "text/html": [
       "<div>\n",
       "<style scoped>\n",
       "    .dataframe tbody tr th:only-of-type {\n",
       "        vertical-align: middle;\n",
       "    }\n",
       "\n",
       "    .dataframe tbody tr th {\n",
       "        vertical-align: top;\n",
       "    }\n",
       "\n",
       "    .dataframe thead th {\n",
       "        text-align: right;\n",
       "    }\n",
       "</style>\n",
       "<table border=\"1\" class=\"dataframe\">\n",
       "  <thead>\n",
       "    <tr style=\"text-align: right;\">\n",
       "      <th></th>\n",
       "      <th>p-value</th>\n",
       "      <th>z-score</th>\n",
       "    </tr>\n",
       "    <tr>\n",
       "      <th>metric</th>\n",
       "      <th></th>\n",
       "      <th></th>\n",
       "    </tr>\n",
       "  </thead>\n",
       "  <tbody>\n",
       "    <tr>\n",
       "      <th>ARI</th>\n",
       "      <td>0.241221</td>\n",
       "      <td>1.272248</td>\n",
       "    </tr>\n",
       "    <tr>\n",
       "      <th>Silhouette</th>\n",
       "      <td>0.129831</td>\n",
       "      <td>2.607382</td>\n",
       "    </tr>\n",
       "  </tbody>\n",
       "</table>\n",
       "</div>"
      ],
      "text/plain": [
       "             p-value   z-score\n",
       "metric                        \n",
       "ARI         0.241221  1.272248\n",
       "Silhouette  0.129831  2.607382"
      ]
     },
     "execution_count": 23,
     "metadata": {},
     "output_type": "execute_result"
    }
   ],
   "source": [
    "results.groupby('metric')[['p-value', 'z-score']].mean()"
   ]
  },
  {
   "cell_type": "code",
   "execution_count": 24,
   "metadata": {},
   "outputs": [
    {
     "data": {
      "text/html": [
       "<div>\n",
       "<style scoped>\n",
       "    .dataframe tbody tr th:only-of-type {\n",
       "        vertical-align: middle;\n",
       "    }\n",
       "\n",
       "    .dataframe tbody tr th {\n",
       "        vertical-align: top;\n",
       "    }\n",
       "\n",
       "    .dataframe thead th {\n",
       "        text-align: right;\n",
       "    }\n",
       "</style>\n",
       "<table border=\"1\" class=\"dataframe\">\n",
       "  <thead>\n",
       "    <tr style=\"text-align: right;\">\n",
       "      <th></th>\n",
       "      <th>stage</th>\n",
       "      <th>metric</th>\n",
       "      <th>gt</th>\n",
       "      <th>p-value</th>\n",
       "      <th>z-score</th>\n",
       "      <th>dataset</th>\n",
       "      <th>random</th>\n",
       "    </tr>\n",
       "  </thead>\n",
       "  <tbody>\n",
       "    <tr>\n",
       "      <th>0</th>\n",
       "      <td>(I)</td>\n",
       "      <td>ARI</td>\n",
       "      <td>1.000000</td>\n",
       "      <td>0.004866</td>\n",
       "      <td>2.585174</td>\n",
       "      <td>Kuppe et al., 2022</td>\n",
       "      <td>[0.02620967741935484, 0.6675843083275981, 0.02...</td>\n",
       "    </tr>\n",
       "    <tr>\n",
       "      <th>1</th>\n",
       "      <td>(I)</td>\n",
       "      <td>Silhouette</td>\n",
       "      <td>0.325489</td>\n",
       "      <td>0.000034</td>\n",
       "      <td>3.985835</td>\n",
       "      <td>Kuppe et al., 2022</td>\n",
       "      <td>[0.1514702, 0.118468925, 0.17329797, 0.1374027...</td>\n",
       "    </tr>\n",
       "    <tr>\n",
       "      <th>2</th>\n",
       "      <td>(I)</td>\n",
       "      <td>ARI</td>\n",
       "      <td>0.046735</td>\n",
       "      <td>0.555336</td>\n",
       "      <td>-0.139155</td>\n",
       "      <td>Reichart et al., 2022</td>\n",
       "      <td>[0.07469094677622326, 0.1029336078229542, 8.19...</td>\n",
       "    </tr>\n",
       "    <tr>\n",
       "      <th>3</th>\n",
       "      <td>(I)</td>\n",
       "      <td>Silhouette</td>\n",
       "      <td>0.079638</td>\n",
       "      <td>0.076291</td>\n",
       "      <td>1.430471</td>\n",
       "      <td>Reichart et al., 2022</td>\n",
       "      <td>[0.08272131, 0.055401236, 0.07248095, 0.057841...</td>\n",
       "    </tr>\n",
       "    <tr>\n",
       "      <th>4</th>\n",
       "      <td>(I)</td>\n",
       "      <td>ARI</td>\n",
       "      <td>0.179104</td>\n",
       "      <td>0.355236</td>\n",
       "      <td>0.371223</td>\n",
       "      <td>Simonson et al., 2023</td>\n",
       "      <td>[0.5063291139240507, 0.04336734693877551, -0.0...</td>\n",
       "    </tr>\n",
       "    <tr>\n",
       "      <th>...</th>\n",
       "      <td>...</td>\n",
       "      <td>...</td>\n",
       "      <td>...</td>\n",
       "      <td>...</td>\n",
       "      <td>...</td>\n",
       "      <td>...</td>\n",
       "      <td>...</td>\n",
       "    </tr>\n",
       "    <tr>\n",
       "      <th>79</th>\n",
       "      <td>(6)</td>\n",
       "      <td>Silhouette</td>\n",
       "      <td>0.061386</td>\n",
       "      <td>0.656400</td>\n",
       "      <td>-0.402658</td>\n",
       "      <td>Koenig et al., 2022</td>\n",
       "      <td>[0.079881415, 0.019909529, 0.06114451, 0.04398...</td>\n",
       "    </tr>\n",
       "    <tr>\n",
       "      <th>80</th>\n",
       "      <td>(6)</td>\n",
       "      <td>ARI</td>\n",
       "      <td>0.645855</td>\n",
       "      <td>0.016814</td>\n",
       "      <td>2.124505</td>\n",
       "      <td>Chaffin et al., 2022</td>\n",
       "      <td>[-0.01825442099258414, 0.4285021497714767, -0....</td>\n",
       "    </tr>\n",
       "    <tr>\n",
       "      <th>81</th>\n",
       "      <td>(6)</td>\n",
       "      <td>Silhouette</td>\n",
       "      <td>0.122770</td>\n",
       "      <td>0.002848</td>\n",
       "      <td>2.764787</td>\n",
       "      <td>Chaffin et al., 2022</td>\n",
       "      <td>[0.07533091, 0.056624264, 0.040343337, 0.04376...</td>\n",
       "    </tr>\n",
       "    <tr>\n",
       "      <th>82</th>\n",
       "      <td>(6)</td>\n",
       "      <td>ARI</td>\n",
       "      <td>0.183308</td>\n",
       "      <td>0.187532</td>\n",
       "      <td>0.887027</td>\n",
       "      <td>Armute et al., 2023</td>\n",
       "      <td>[-0.05277329025309639, -0.048728813559322036, ...</td>\n",
       "    </tr>\n",
       "    <tr>\n",
       "      <th>83</th>\n",
       "      <td>(6)</td>\n",
       "      <td>Silhouette</td>\n",
       "      <td>0.072175</td>\n",
       "      <td>0.414132</td>\n",
       "      <td>0.216928</td>\n",
       "      <td>Armute et al., 2023</td>\n",
       "      <td>[0.100443125, 0.019436914, 0.06514994, 0.06666...</td>\n",
       "    </tr>\n",
       "  </tbody>\n",
       "</table>\n",
       "<p>84 rows × 7 columns</p>\n",
       "</div>"
      ],
      "text/plain": [
       "   stage      metric        gt   p-value   z-score                dataset  \\\n",
       "0    (I)         ARI  1.000000  0.004866  2.585174     Kuppe et al., 2022   \n",
       "1    (I)  Silhouette  0.325489  0.000034  3.985835     Kuppe et al., 2022   \n",
       "2    (I)         ARI  0.046735  0.555336 -0.139155  Reichart et al., 2022   \n",
       "3    (I)  Silhouette  0.079638  0.076291  1.430471  Reichart et al., 2022   \n",
       "4    (I)         ARI  0.179104  0.355236  0.371223  Simonson et al., 2023   \n",
       "..   ...         ...       ...       ...       ...                    ...   \n",
       "79   (6)  Silhouette  0.061386  0.656400 -0.402658    Koenig et al., 2022   \n",
       "80   (6)         ARI  0.645855  0.016814  2.124505   Chaffin et al., 2022   \n",
       "81   (6)  Silhouette  0.122770  0.002848  2.764787   Chaffin et al., 2022   \n",
       "82   (6)         ARI  0.183308  0.187532  0.887027    Armute et al., 2023   \n",
       "83   (6)  Silhouette  0.072175  0.414132  0.216928    Armute et al., 2023   \n",
       "\n",
       "                                               random  \n",
       "0   [0.02620967741935484, 0.6675843083275981, 0.02...  \n",
       "1   [0.1514702, 0.118468925, 0.17329797, 0.1374027...  \n",
       "2   [0.07469094677622326, 0.1029336078229542, 8.19...  \n",
       "3   [0.08272131, 0.055401236, 0.07248095, 0.057841...  \n",
       "4   [0.5063291139240507, 0.04336734693877551, -0.0...  \n",
       "..                                                ...  \n",
       "79  [0.079881415, 0.019909529, 0.06114451, 0.04398...  \n",
       "80  [-0.01825442099258414, 0.4285021497714767, -0....  \n",
       "81  [0.07533091, 0.056624264, 0.040343337, 0.04376...  \n",
       "82  [-0.05277329025309639, -0.048728813559322036, ...  \n",
       "83  [0.100443125, 0.019436914, 0.06514994, 0.06666...  \n",
       "\n",
       "[84 rows x 7 columns]"
      ]
     },
     "execution_count": 24,
     "metadata": {},
     "output_type": "execute_result"
    }
   ],
   "source": [
    "results"
   ]
  },
  {
   "cell_type": "code",
   "execution_count": 27,
   "metadata": {},
   "outputs": [
    {
     "data": {
      "image/png": "[encoded data removed]",
      "text/plain": [
       "<Figure size 275x250 with 1 Axes>"
      ]
     },
     "metadata": {},
     "output_type": "display_data"
    }
   ],
   "source": [
    "import seaborn as sns\n",
    "import matplotlib.pyplot as plt\n",
    "\n",
    "def plot_metric(metric, results, value='z-score', show_legend=True, baseline=1.645):\n",
    "    df = results[results['metric'] == metric].copy()\n",
    "\n",
    "    # Increase font size\n",
    "    plt.rcParams.update({'font.size': 11})\n",
    "\n",
    "    plt.figure(figsize=(2.75, 2.5))\n",
    "    ax = sns.boxplot(x='stage', y=value, data=df, fill=False, linecolor='black', color='black')\n",
    "    sns.stripplot(x='stage', y=value, data=df, hue='dataset', dodge=True, jitter=True, ax=ax)\n",
    "    if baseline:\n",
    "        plt.axhline(y=baseline, color='red', linestyle='dashed')\n",
    "    # plt.xticks(rotation=90)\n",
    "    if show_legend:\n",
    "        plt.legend(title='Dataset', bbox_to_anchor=(1.00, 0.5), loc='center left')\n",
    "    else:\n",
    "        plt.legend([],[], frameon=False)\n",
    "    plt.grid(True)\n",
    "    \n",
    "    # label y axis\n",
    "    plt.ylabel(metric)\n",
    "    plt.xlabel('')\n",
    "    \n",
    "    if not os.path.exists('figures'):\n",
    "        os.makedirs('figures')\n",
    "    plt.savefig(f'figures/{metric}_plot.pdf', format='pdf')\n",
    "\n",
    "\n",
    "    plt.show()\n",
    "\n",
    "# Call the function with 'ARI' as the metric\n",
    "plot_metric('Silhouette', results=results)"
   ]
  },
  {
   "cell_type": "code",
   "execution_count": 28,
   "metadata": {},
   "outputs": [
    {
     "data": {
      "image/png": "[encoded data removed]",
      "text/plain": [
       "<Figure size 275x250 with 1 Axes>"
      ]
     },
     "metadata": {},
     "output_type": "display_data"
    }
   ],
   "source": [
    "plot_metric('ARI', results=results, show_legend=False, value='gt', baseline=False)"
   ]
  },
  {
   "cell_type": "code",
   "execution_count": null,
   "metadata": {},
   "outputs": [],
   "source": []
  },
  {
   "cell_type": "code",
   "execution_count": 30,
   "metadata": {},
   "outputs": [
    {
     "data": {
      "image/png": "[encoded data removed]",
      "text/plain": [
       "<Figure size 750x450 with 6 Axes>"
      ]
     },
     "metadata": {},
     "output_type": "display_data"
    }
   ],
   "source": [
    "import matplotlib.pyplot as plt\n",
    "import matplotlib.patches as mpatches\n",
    "\n",
    "# Increase font size\n",
    "plt.rcParams.update({'font.size': 10})\n",
    "\n",
    "def plot_distribution(dataset_name, metric_name, stage, results, ax, xmin=None, xmax=None):\n",
    "    msk = (results['dataset'] == dataset_name) & (results['metric'] == metric_name) & (results['stage'] == stage)\n",
    "    random = results[msk]['random']\n",
    "    gt = results[msk]['gt'].values[0]\n",
    "    pval = results[msk]['p-value'].values[0]\n",
    "    \n",
    "    # Creating the histogram\n",
    "    ax.hist(random, bins=30, alpha=0.7, color='grey')\n",
    "    # Adding a vertical line for the ground truth performance\n",
    "    ax.axvline(gt, color='blue', linestyle='dashed', linewidth=2)\n",
    "\n",
    "    # Adding labels and title\n",
    "    ax.set_ylabel('Frequency')\n",
    "    ax.set_xlabel(metric_name)\n",
    "    ax.set_title(dataset_name)\n",
    "\n",
    "    # Setting x-axis limits\n",
    "    if xmin is not None and xmax is not None:\n",
    "        ax.set_xlim([xmin, xmax])\n",
    "\n",
    "    # Adding p-value and z-score as text labels\n",
    "    ax.text(0.95, 0.95, f'p-value: {pval:.3f}', \n",
    "             horizontalalignment='right', verticalalignment='top', \n",
    "             transform=ax.transAxes, fontsize=10, color='black',\n",
    "             bbox=dict(facecolor='white', edgecolor='black', boxstyle='round,pad=0.2'))\n",
    "\n",
    "# Get the unique datasets\n",
    "sets = results['dataset'].unique()\n",
    "\n",
    "# Create a 3x2 grid of subplots\n",
    "fig, axs = plt.subplots(nrows=2, ncols=3, figsize=(7.5, 4.5))\n",
    "\n",
    "# Flatten the axes array\n",
    "axs = axs.flatten()\n",
    "\n",
    "# Create a plot for each dataset\n",
    "for i, dataset in enumerate(sets):\n",
    "    plot_distribution(dataset_name=dataset, metric_name='ARI', stage='(3)',\n",
    "                      xmin=0, xmax=1,\n",
    "                      results=results, ax=axs[i])\n",
    "\n",
    "# Remove unused subplots\n",
    "for j in range(i+1, len(axs)):\n",
    "    fig.delaxes(axs[j])\n",
    "\n",
    "# Create custom legend handles\n",
    "random_patch = mpatches.Patch(color='gray', label='Random Distribution')\n",
    "actual_line = mpatches.Patch(color='blue', label='Actual Value')\n",
    "# Add the legend to the figure\n",
    "fig.legend(handles=[random_patch, actual_line], loc='upper right', bbox_to_anchor=(1, -0.0001))\n",
    "\n",
    "plt.tight_layout()\n",
    "plt.savefig('figures/ari_distributions.pdf', format='pdf')\n",
    "plt.show()"
   ]
  },
  {
   "cell_type": "code",
   "execution_count": null,
   "metadata": {},
   "outputs": [],
   "source": []
  },
  {
   "cell_type": "code",
   "execution_count": null,
   "metadata": {},
   "outputs": [],
   "source": []
  }
 ],
 "metadata": {
  "kernelspec": {
   "display_name": "spiana",
   "language": "python",
   "name": "python3"
  },
  "language_info": {
   "codemirror_mode": {
    "name": "ipython",
    "version": 3
   },
   "file_extension": ".py",
   "mimetype": "text/x-python",
   "name": "python",
   "nbconvert_exporter": "python",
   "pygments_lexer": "ipython3",
   "version": "3.10.13"
  }
 },
 "nbformat": 4,
 "nbformat_minor": 2
}
