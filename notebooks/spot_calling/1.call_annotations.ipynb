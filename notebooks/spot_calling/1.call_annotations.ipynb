{
 "cells": [
  {
   "attachments": {},
   "cell_type": "markdown",
   "metadata": {},
   "source": [
    "# Call Annotations"
   ]
  },
  {
   "cell_type": "code",
   "execution_count": 1,
   "metadata": {},
   "outputs": [],
   "source": [
    "import os\n",
    "import numpy as np\n",
    "import decoupler as dc\n",
    "import pandas as pd\n",
    "import scanpy as sc\n",
    "import squidpy as sq\n",
    "import mudata as mu\n",
    "import liana as li\n",
    "from liana.mt import lr_basis, basis"
   ]
  },
  {
   "cell_type": "code",
   "execution_count": null,
   "metadata": {},
   "outputs": [],
   "source": []
  },
  {
   "cell_type": "code",
   "execution_count": 2,
   "metadata": {},
   "outputs": [],
   "source": [
    "from utils import run_rf_auc"
   ]
  },
  {
   "cell_type": "code",
   "execution_count": null,
   "metadata": {},
   "outputs": [],
   "source": []
  },
  {
   "cell_type": "code",
   "execution_count": 3,
   "metadata": {},
   "outputs": [],
   "source": [
    "data_dir = os.path.join('..', '..', 'data', 'wu_et_al')\n",
    "dataset_name = 'CID4535'\n",
    "# slide_names = ['1142243F', '1160920F', 'CID4290', 'CID44971', 'CID4535'] # 'CID4465' really unbalanced"
   ]
  },
  {
   "cell_type": "code",
   "execution_count": 4,
   "metadata": {},
   "outputs": [],
   "source": [
    "function_names = li.mt.sp.show_functions()['name']\n",
    "function_names = list(function_names[~function_names.str.contains('masked')]) + ['masked_spearman']"
   ]
  },
  {
   "cell_type": "code",
   "execution_count": 5,
   "metadata": {},
   "outputs": [
    {
     "data": {
      "text/plain": [
       "['pearson', 'spearman', 'cosine', 'jaccard', 'morans', 'masked_spearman']"
      ]
     },
     "execution_count": 5,
     "metadata": {},
     "output_type": "execute_result"
    }
   ],
   "source": [
    "function_names"
   ]
  },
  {
   "cell_type": "code",
   "execution_count": null,
   "metadata": {},
   "outputs": [],
   "source": []
  },
  {
   "cell_type": "code",
   "execution_count": 6,
   "metadata": {},
   "outputs": [],
   "source": [
    "adata = sc.read_h5ad(os.path.join(data_dir, f\"{dataset_name}.h5ad\"))"
   ]
  },
  {
   "cell_type": "code",
   "execution_count": 7,
   "metadata": {},
   "outputs": [],
   "source": [
    "adata.uns['function_names'] = function_names"
   ]
  },
  {
   "cell_type": "code",
   "execution_count": 8,
   "metadata": {},
   "outputs": [
    {
     "name": "stdout",
     "output_type": "stream",
     "text": [
      "Invasive cancer                                   418\n",
      "Invasive cancer + lymphocytes                     361\n",
      "Stroma                                            169\n",
      "Uncertain                                          73\n",
      "Lymphocytes                                        69\n",
      "Artefact                                           23\n",
      "Adipose tissue                                      8\n",
      "Invasive cancer + adipose tissue + lymphocytes      3\n",
      "Name: Classification, dtype: int64\n"
     ]
    }
   ],
   "source": [
    "print(adata.obs['Classification'].value_counts())"
   ]
  },
  {
   "cell_type": "code",
   "execution_count": 9,
   "metadata": {},
   "outputs": [],
   "source": [
    "adata.obs['Classification'][adata.obs['Classification'].isna()] = 'Artefact'\n",
    "adata.obs['spot_label'] = adata.obs['Classification'].str.contains('cancer').astype(int)"
   ]
  },
  {
   "cell_type": "code",
   "execution_count": null,
   "metadata": {},
   "outputs": [],
   "source": []
  },
  {
   "attachments": {},
   "cell_type": "markdown",
   "metadata": {},
   "source": [
    "Preprocess"
   ]
  },
  {
   "cell_type": "code",
   "execution_count": 10,
   "metadata": {},
   "outputs": [],
   "source": [
    "sc.pp.filter_cells(adata, min_genes=400)\n",
    "sc.pp.filter_genes(adata, min_cells=20)\n",
    "\n",
    "adata.layers[\"counts\"] = adata.X.copy()\n",
    "sc.pp.normalize_total(adata, inplace=True)\n",
    "sc.pp.log1p(adata)"
   ]
  },
  {
   "cell_type": "code",
   "execution_count": 11,
   "metadata": {},
   "outputs": [],
   "source": [
    "sq.gr.spatial_neighbors(adata, n_rings=1, coord_type=\"grid\", n_neighs=6)"
   ]
  },
  {
   "cell_type": "code",
   "execution_count": 12,
   "metadata": {},
   "outputs": [
    {
     "data": {
      "text/plain": [
       "AnnData object with n_obs × n_vars = 1127 × 14185\n",
       "    obs: 'orig.ident', 'nCount_Spatial', 'nFeature_Spatial', 'ident', 'in_tissue', 'array_row', 'array_col', 'nCount_RNA', 'nFeature_RNA', 'subtype', 'patientid', 'Classification', 'spot_label', 'n_genes'\n",
       "    var: 'n_cells'\n",
       "    uns: 'X_name', 'spatial', 'function_names', 'log1p', 'spatial_neighbors'\n",
       "    obsm: 'spatial'\n",
       "    layers: 'counts'\n",
       "    obsp: 'spatial_connectivities', 'spatial_distances'"
      ]
     },
     "execution_count": 12,
     "metadata": {},
     "output_type": "execute_result"
    }
   ],
   "source": [
    "adata"
   ]
  },
  {
   "cell_type": "code",
   "execution_count": null,
   "metadata": {},
   "outputs": [],
   "source": []
  },
  {
   "attachments": {},
   "cell_type": "markdown",
   "metadata": {},
   "source": [
    "Ligand to Cytokine Signatures"
   ]
  },
  {
   "cell_type": "code",
   "execution_count": 13,
   "metadata": {},
   "outputs": [],
   "source": [
    "# load map of genes to cytosig signatures\n",
    "cytosig_map = pd.read_csv('../cytosig_map.csv')\n",
    "cytosig_map['signature'] = 'S_'+cytosig_map['signature']\n",
    "# Cytokine expr to Cytosig Siagntures interactions\n",
    "interactions = list(zip(cytosig_map['gene'], cytosig_map['signature']))"
   ]
  },
  {
   "cell_type": "code",
   "execution_count": 14,
   "metadata": {},
   "outputs": [],
   "source": [
    "cytosig = pd.read_csv(\"https://raw.githubusercontent.com/data2intelligence/CytoSig/master/CytoSig/signature.centroid\", sep=\"\\t\")\n",
    "cytosig = cytosig.unstack().reset_index().rename(columns={'level_0':'source', 'level_1':'target', 0:'weight'})\n",
    "cytosig['source'] = 'S_' + cytosig['source']"
   ]
  },
  {
   "cell_type": "code",
   "execution_count": 15,
   "metadata": {},
   "outputs": [],
   "source": [
    "dc.run_mlm(adata, cytosig, use_raw=False)\n",
    "adata.obsm['cytosig_estimate'] = adata.obsm['mlm_estimate']"
   ]
  },
  {
   "cell_type": "code",
   "execution_count": null,
   "metadata": {},
   "outputs": [],
   "source": []
  },
  {
   "attachments": {},
   "cell_type": "markdown",
   "metadata": {},
   "source": [
    "Spatial Proximties"
   ]
  },
  {
   "cell_type": "code",
   "execution_count": 16,
   "metadata": {},
   "outputs": [],
   "source": [
    "sq.gr.spatial_neighbors(adata, n_rings=1, coord_type=\"grid\", n_neighs=6, set_diag=True)"
   ]
  },
  {
   "cell_type": "code",
   "execution_count": null,
   "metadata": {},
   "outputs": [],
   "source": []
  },
  {
   "attachments": {},
   "cell_type": "markdown",
   "metadata": {},
   "source": [
    "to mudata"
   ]
  },
  {
   "cell_type": "code",
   "execution_count": 17,
   "metadata": {},
   "outputs": [],
   "source": [
    "mdata = mu.MuData({'rna': adata,\n",
    "                   \"cytosig\": li.fun.obsm_to_adata(adata, \"cytosig_estimate\")})"
   ]
  },
  {
   "cell_type": "code",
   "execution_count": 18,
   "metadata": {},
   "outputs": [],
   "source": [
    "mdata.uns = adata.uns\n",
    "mdata.obsm = adata.obsm\n",
    "mdata.obsp = adata.obsp\n",
    "mdata.obs = adata.obs"
   ]
  },
  {
   "cell_type": "code",
   "execution_count": null,
   "metadata": {},
   "outputs": [],
   "source": []
  },
  {
   "attachments": {},
   "cell_type": "markdown",
   "metadata": {},
   "source": [
    "Run all functions"
   ]
  },
  {
   "cell_type": "code",
   "execution_count": 19,
   "metadata": {},
   "outputs": [
    {
     "name": "stdout",
     "output_type": "stream",
     "text": [
      "Running pearson\n",
      "Running spearman\n",
      "Running cosine\n",
      "Running jaccard\n",
      "Running morans\n"
     ]
    },
    {
     "name": "stderr",
     "output_type": "stream",
     "text": [
      "/home/dbdimitrov/anaconda3/envs/spiana/lib/python3.10/site-packages/liana/method/sp/_spatial_pipe.py:473: VisibleDeprecationWarning: Creating an ndarray from ragged nested sequences (which is a list-or-tuple of lists-or-tuples-or ndarrays with different lengths or shapes) is deprecated. If you meant to do this, you must specify 'dtype=object' when creating the ndarray.\n",
      "/home/dbdimitrov/anaconda3/envs/spiana/lib/python3.10/site-packages/liana/method/sp/_spatial_pipe.py:473: VisibleDeprecationWarning: Creating an ndarray from ragged nested sequences (which is a list-or-tuple of lists-or-tuples-or ndarrays with different lengths or shapes) is deprecated. If you meant to do this, you must specify 'dtype=object' when creating the ndarray.\n"
     ]
    },
    {
     "name": "stdout",
     "output_type": "stream",
     "text": [
      "Running masked_spearman\n"
     ]
    }
   ],
   "source": [
    "## Run LR basis\n",
    "for function_name in function_names:\n",
    "    print(f\"Running {function_name}\")\n",
    "    \n",
    "    lr_basis(adata,\n",
    "             function_name=function_name,\n",
    "             obsm_added=function_name, \n",
    "             key_added= function_name,\n",
    "             use_raw=False, \n",
    "             proximity_key=\"spatial_connectivities\"\n",
    "             )\n",
    "    \n",
    "    basis(mdata,\n",
    "          x_mod='rna',\n",
    "          y_mod='cytosig',\n",
    "          interactions=interactions,\n",
    "          function_name=function_name, \n",
    "          mod_added=function_name,\n",
    "          key_added=function_name, \n",
    "          proximity_key=\"spatial_connectivities\"\n",
    "          )"
   ]
  },
  {
   "cell_type": "code",
   "execution_count": null,
   "metadata": {},
   "outputs": [],
   "source": []
  },
  {
   "cell_type": "code",
   "execution_count": 32,
   "metadata": {},
   "outputs": [
    {
     "name": "stdout",
     "output_type": "stream",
     "text": [
      "Fold: 0\n",
      "Running pearson\n",
      "Running spearman\n",
      "Running cosine\n",
      "Running jaccard\n",
      "Running morans\n",
      "Running masked_spearman\n",
      "Fold: 1\n",
      "Running pearson\n",
      "Running spearman\n",
      "Running cosine\n",
      "Running jaccard\n",
      "Running morans\n",
      "Running masked_spearman\n",
      "Fold: 2\n",
      "Running pearson\n",
      "Running spearman\n",
      "Running cosine\n",
      "Running jaccard\n",
      "Running morans\n",
      "Running masked_spearman\n",
      "Fold: 3\n",
      "Running pearson\n",
      "Running spearman\n",
      "Running cosine\n",
      "Running jaccard\n",
      "Running morans\n",
      "Running masked_spearman\n",
      "Fold: 4\n",
      "Running pearson\n",
      "Running spearman\n",
      "Running cosine\n",
      "Running jaccard\n",
      "Running morans\n",
      "Running masked_spearman\n",
      "Fold: 5\n",
      "Running pearson\n",
      "Running spearman\n",
      "Running cosine\n",
      "Running jaccard\n",
      "Running morans\n",
      "Running masked_spearman\n",
      "Fold: 6\n",
      "Running pearson\n",
      "Running spearman\n",
      "Running cosine\n",
      "Running jaccard\n",
      "Running morans\n",
      "Running masked_spearman\n",
      "Fold: 7\n",
      "Running pearson\n",
      "Running spearman\n",
      "Running cosine\n",
      "Running jaccard\n",
      "Running morans\n",
      "Running masked_spearman\n",
      "Fold: 8\n",
      "Running pearson\n",
      "Running spearman\n",
      "Running cosine\n",
      "Running jaccard\n",
      "Running morans\n",
      "Running masked_spearman\n",
      "Fold: 9\n",
      "Running pearson\n",
      "Running spearman\n",
      "Running cosine\n",
      "Running jaccard\n",
      "Running morans\n",
      "Running masked_spearman\n"
     ]
    }
   ],
   "source": [
    "run_rf_auc(mdata.mod['rna'], dataset_name)"
   ]
  },
  {
   "cell_type": "code",
   "execution_count": 33,
   "metadata": {},
   "outputs": [],
   "source": [
    "import plotnine as p9"
   ]
  },
  {
   "cell_type": "code",
   "execution_count": 34,
   "metadata": {},
   "outputs": [],
   "source": [
    "performance = adata.uns['performance']"
   ]
  },
  {
   "cell_type": "code",
   "execution_count": 35,
   "metadata": {},
   "outputs": [],
   "source": [
    "os.makedirs(os.path.join(data_dir, 'results'), exist_ok=True)\n",
    "adata.uns['performance'].to_csv(os.path.join(data_dir, 'results', f\"{dataset_name}_performance.csv\"))"
   ]
  },
  {
   "cell_type": "code",
   "execution_count": 36,
   "metadata": {},
   "outputs": [
    {
     "data": {
      "image/png": "[encoded data removed]",
      "text/plain": [
       "<Figure size 640x480 with 1 Axes>"
      ]
     },
     "metadata": {},
     "output_type": "display_data"
    },
    {
     "data": {
      "text/plain": [
       "<ggplot: (8748338709871)>"
      ]
     },
     "execution_count": 36,
     "metadata": {},
     "output_type": "execute_result"
    }
   ],
   "source": [
    "# scatter plot of function_name, x roc_auc, y f1\n",
    "p9.ggplot(performance, p9.aes(x='roc_auc', y='f1', colour='function_name')) + p9.geom_point()"
   ]
  },
  {
   "cell_type": "code",
   "execution_count": null,
   "metadata": {},
   "outputs": [],
   "source": []
  },
  {
   "attachments": {},
   "cell_type": "markdown",
   "metadata": {},
   "source": [
    "mdata"
   ]
  },
  {
   "cell_type": "code",
   "execution_count": 20,
   "metadata": {},
   "outputs": [
    {
     "name": "stdout",
     "output_type": "stream",
     "text": [
      "Fold: 0\n",
      "Running pearson\n",
      "Running spearman\n",
      "Running cosine\n",
      "Running jaccard\n",
      "Running morans\n",
      "Running masked_spearman\n",
      "Fold: 1\n",
      "Running pearson\n",
      "Running spearman\n",
      "Running cosine\n",
      "Running jaccard\n",
      "Running morans\n",
      "Running masked_spearman\n",
      "Fold: 2\n",
      "Running pearson\n",
      "Running spearman\n",
      "Running cosine\n",
      "Running jaccard\n",
      "Running morans\n",
      "Running masked_spearman\n",
      "Fold: 3\n",
      "Running pearson\n",
      "Running spearman\n",
      "Running cosine\n",
      "Running jaccard\n",
      "Running morans\n",
      "Running masked_spearman\n",
      "Fold: 4\n",
      "Running pearson\n",
      "Running spearman\n",
      "Running cosine\n",
      "Running jaccard\n",
      "Running morans\n",
      "Running masked_spearman\n",
      "Fold: 5\n",
      "Running pearson\n",
      "Running spearman\n",
      "Running cosine\n",
      "Running jaccard\n",
      "Running morans\n",
      "Running masked_spearman\n",
      "Fold: 6\n",
      "Running pearson\n",
      "Running spearman\n",
      "Running cosine\n",
      "Running jaccard\n",
      "Running morans\n",
      "Running masked_spearman\n",
      "Fold: 7\n",
      "Running pearson\n",
      "Running spearman\n",
      "Running cosine\n",
      "Running jaccard\n",
      "Running morans\n",
      "Running masked_spearman\n",
      "Fold: 8\n",
      "Running pearson\n",
      "Running spearman\n",
      "Running cosine\n",
      "Running jaccard\n",
      "Running morans\n",
      "Running masked_spearman\n",
      "Fold: 9\n",
      "Running pearson\n",
      "Running spearman\n",
      "Running cosine\n",
      "Running jaccard\n",
      "Running morans\n",
      "Running masked_spearman\n"
     ]
    }
   ],
   "source": [
    "run_rf_auc(mdata, dataset_name)"
   ]
  },
  {
   "cell_type": "code",
   "execution_count": 22,
   "metadata": {},
   "outputs": [],
   "source": [
    "performance = mdata.uns['performance']"
   ]
  },
  {
   "cell_type": "code",
   "execution_count": 25,
   "metadata": {},
   "outputs": [
    {
     "data": {
      "image/png": "[encoded data removed]",
      "text/plain": [
       "<Figure size 640x480 with 1 Axes>"
      ]
     },
     "metadata": {},
     "output_type": "display_data"
    },
    {
     "data": {
      "text/plain": [
       "<ggplot: (8748339072934)>"
      ]
     },
     "execution_count": 25,
     "metadata": {},
     "output_type": "execute_result"
    }
   ],
   "source": [
    "# scatter plot of function_name, x roc_auc, y f1\n",
    "p9.ggplot(performance, p9.aes(x='roc_auc', y='f1', colour='function_name')) + p9.geom_point()"
   ]
  },
  {
   "cell_type": "code",
   "execution_count": null,
   "metadata": {},
   "outputs": [],
   "source": []
  }
 ],
 "metadata": {
  "kernelspec": {
   "display_name": "spiana",
   "language": "python",
   "name": "spiana"
  },
  "language_info": {
   "codemirror_mode": {
    "name": "ipython",
    "version": 3
   },
   "file_extension": ".py",
   "mimetype": "text/x-python",
   "name": "python",
   "nbconvert_exporter": "python",
   "pygments_lexer": "ipython3",
   "version": "3.10.10"
  },
  "orig_nbformat": 4,
  "vscode": {
   "interpreter": {
    "hash": "b688e7f183144fde965166e58483e32fc6dbc6fc380ccc51d49ef608da0385a8"
   }
  }
 },
 "nbformat": 4,
 "nbformat_minor": 2
}
