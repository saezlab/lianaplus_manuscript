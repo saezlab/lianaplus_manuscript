{
 "cells": [
  {
   "attachments": {},
   "cell_type": "markdown",
   "metadata": {},
   "source": [
    "## MOFAtalk"
   ]
  },
  {
   "cell_type": "code",
   "execution_count": 1,
   "metadata": {},
   "outputs": [],
   "source": [
    "import os"
   ]
  },
  {
   "cell_type": "code",
   "execution_count": 2,
   "metadata": {},
   "outputs": [],
   "source": [
    "data_dir = os.path.join('..', '..', 'data', 'kidney_injury')"
   ]
  },
  {
   "cell_type": "code",
   "execution_count": 3,
   "metadata": {},
   "outputs": [],
   "source": [
    "# columns of interest\n",
    "sample_key = \"ident\"\n",
    "groupby = \"cell_type\"\n",
    "condition_key = \"Group\""
   ]
  },
  {
   "cell_type": "code",
   "execution_count": null,
   "metadata": {},
   "outputs": [],
   "source": []
  },
  {
   "attachments": {},
   "cell_type": "markdown",
   "metadata": {},
   "source": [
    "## Setup Environment"
   ]
  },
  {
   "cell_type": "code",
   "execution_count": 4,
   "metadata": {},
   "outputs": [],
   "source": [
    "import numpy as np\n",
    "import pandas as pd\n",
    "\n",
    "import scanpy as sc"
   ]
  },
  {
   "cell_type": "code",
   "execution_count": 5,
   "metadata": {},
   "outputs": [
    {
     "name": "stderr",
     "output_type": "stream",
     "text": [
      "/home/dbdimitrov/anaconda3/envs/spiana/lib/python3.10/site-packages/tqdm/auto.py:21: TqdmWarning: IProgress not found. Please update jupyter and ipywidgets. See https://ipywidgets.readthedocs.io/en/stable/user_install.html\n",
      "  from .autonotebook import tqdm as notebook_tqdm\n"
     ]
    }
   ],
   "source": [
    "import mofax as mofa\n",
    "import muon as mu\n",
    "import decoupler as dc"
   ]
  },
  {
   "cell_type": "code",
   "execution_count": 6,
   "metadata": {},
   "outputs": [],
   "source": [
    "import liana as li\n",
    "import plotnine as p9"
   ]
  },
  {
   "cell_type": "code",
   "execution_count": 7,
   "metadata": {},
   "outputs": [
    {
     "data": {
      "text/plain": [
       "'0.1.9'"
      ]
     },
     "execution_count": 7,
     "metadata": {},
     "output_type": "execute_result"
    }
   ],
   "source": [
    "li.__version__"
   ]
  },
  {
   "cell_type": "code",
   "execution_count": null,
   "metadata": {},
   "outputs": [],
   "source": []
  },
  {
   "attachments": {},
   "cell_type": "markdown",
   "metadata": {},
   "source": [
    "Load object"
   ]
  },
  {
   "cell_type": "code",
   "execution_count": null,
   "metadata": {},
   "outputs": [],
   "source": [
    "adata = sc.read_h5ad(os.path.join(data_dir, \"aki_processed.h5ad\"))"
   ]
  },
  {
   "cell_type": "code",
   "execution_count": null,
   "metadata": {},
   "outputs": [],
   "source": [
    "adata.obs.sort_values(\"cell_type\")"
   ]
  },
  {
   "cell_type": "code",
   "execution_count": null,
   "metadata": {},
   "outputs": [],
   "source": [
    "adata.obs[groupby].value_counts()"
   ]
  },
  {
   "cell_type": "code",
   "execution_count": null,
   "metadata": {},
   "outputs": [],
   "source": [
    "adata.uns.keys()"
   ]
  },
  {
   "cell_type": "code",
   "execution_count": null,
   "metadata": {},
   "outputs": [],
   "source": []
  },
  {
   "attachments": {},
   "cell_type": "markdown",
   "metadata": {},
   "source": [
    "## Run LIANA"
   ]
  },
  {
   "cell_type": "code",
   "execution_count": null,
   "metadata": {},
   "outputs": [],
   "source": [
    "li.method.rank_aggregate.by_sample(adata,\n",
    "                                   groupby=groupby,\n",
    "                                   sample_key=sample_key,\n",
    "                                   resource_name='mouseconsensus',\n",
    "                                   use_raw=False,\n",
    "                                   verbose=True,\n",
    "                                   n_perms=None,\n",
    "                                   return_all_lrs=False\n",
    "                                   )"
   ]
  },
  {
   "cell_type": "code",
   "execution_count": null,
   "metadata": {},
   "outputs": [],
   "source": []
  },
  {
   "cell_type": "code",
   "execution_count": null,
   "metadata": {},
   "outputs": [],
   "source": [
    "adata.write_h5ad(os.path.join(data_dir, \"aki_processed.h5ad\"))"
   ]
  },
  {
   "cell_type": "code",
   "execution_count": null,
   "metadata": {},
   "outputs": [],
   "source": [
    "adata.uns['liana_res']['ident'].nunique()"
   ]
  },
  {
   "cell_type": "code",
   "execution_count": null,
   "metadata": {},
   "outputs": [],
   "source": []
  },
  {
   "attachments": {},
   "cell_type": "markdown",
   "metadata": {},
   "source": [
    "## Run MOFA"
   ]
  },
  {
   "cell_type": "code",
   "execution_count": 8,
   "metadata": {},
   "outputs": [],
   "source": [
    "adata = sc.read_h5ad(os.path.join(data_dir, \"aki_processed.h5ad\"))"
   ]
  },
  {
   "cell_type": "code",
   "execution_count": 9,
   "metadata": {},
   "outputs": [],
   "source": [
    "score_key = 'magnitude_rank'"
   ]
  },
  {
   "cell_type": "code",
   "execution_count": 10,
   "metadata": {},
   "outputs": [
    {
     "name": "stderr",
     "output_type": "stream",
     "text": [
      "100%|██████████| 159/159 [00:01<00:00, 137.87it/s]\n"
     ]
    }
   ],
   "source": [
    "mdata = li.multi.lrs_to_views(adata,\n",
    "                              sample_key=sample_key,\n",
    "                              score_key=score_key,\n",
    "                              obs_keys=[condition_key], # add those to mdata.obs\n",
    "                              lr_prop = 0.25, # minimum required proportion of samples to keep an LR\n",
    "                              lrs_per_sample = 15, # minimum number of interactions to keep a sample in a specific view\n",
    "                              lrs_per_view = 25, # minimum number of interactions to keep a view\n",
    "                              samples_per_view = 5, # minimum number of samples to keep a view\n",
    "                              min_variance = 0, # minimum variance to keep an interaction\n",
    "                              lr_fill = np.nan, # fill missing LR values across samples with this\n",
    "                              verbose=True\n",
    "                              )"
   ]
  },
  {
   "cell_type": "code",
   "execution_count": null,
   "metadata": {},
   "outputs": [],
   "source": []
  },
  {
   "cell_type": "code",
   "execution_count": 11,
   "metadata": {},
   "outputs": [
    {
     "name": "stdout",
     "output_type": "stream",
     "text": [
      "\n",
      "        #########################################################\n",
      "        ###           __  __  ____  ______                    ### \n",
      "        ###          |  \\/  |/ __ \\|  ____/\\    _             ### \n",
      "        ###          | \\  / | |  | | |__ /  \\ _| |_           ### \n",
      "        ###          | |\\/| | |  | |  __/ /\\ \\_   _|          ###\n",
      "        ###          | |  | | |__| | | / ____ \\|_|            ###\n",
      "        ###          |_|  |_|\\____/|_|/_/    \\_\\              ###\n",
      "        ###                                                   ### \n",
      "        ######################################################### \n",
      "       \n",
      " \n",
      "        \n",
      "Loaded view='PEC&CTAL' group='group1' with N=24 samples and D=17 features...\n",
      "Loaded view='PEC&MTAL' group='group1' with N=24 samples and D=29 features...\n",
      "Loaded view='PEC&Per' group='group1' with N=24 samples and D=47 features...\n",
      "Loaded view='PEC&PC' group='group1' with N=24 samples and D=22 features...\n",
      "Loaded view='PEC&ICB' group='group1' with N=24 samples and D=18 features...\n",
      "Loaded view='PEC&CNT' group='group1' with N=24 samples and D=16 features...\n",
      "Loaded view='PEC&DCT-CNT' group='group1' with N=24 samples and D=22 features...\n",
      "Loaded view='PEC&PT' group='group1' with N=24 samples and D=30 features...\n",
      "Loaded view='PEC&Uro' group='group1' with N=24 samples and D=58 features...\n",
      "Loaded view='Per&Pod' group='group1' with N=24 samples and D=25 features...\n",
      "Loaded view='PEC&Fib' group='group1' with N=24 samples and D=57 features...\n",
      "Loaded view='PEC&DTL-ATL' group='group1' with N=24 samples and D=33 features...\n",
      "Loaded view='PEC&ICA' group='group1' with N=24 samples and D=14 features...\n",
      "Loaded view='PEC&DCT' group='group1' with N=24 samples and D=18 features...\n",
      "Loaded view='CTAL&Pod' group='group1' with N=24 samples and D=17 features...\n",
      "Loaded view='ICA&Pod' group='group1' with N=24 samples and D=15 features...\n",
      "Loaded view='MTAL&Uro' group='group1' with N=24 samples and D=23 features...\n",
      "Loaded view='CTAL&Uro' group='group1' with N=24 samples and D=25 features...\n",
      "Loaded view='MTAL&PT' group='group1' with N=24 samples and D=17 features...\n",
      "Loaded view='CTAL&PT' group='group1' with N=24 samples and D=16 features...\n",
      "Loaded view='ICB&Pod' group='group1' with N=24 samples and D=15 features...\n",
      "Loaded view='MTAL&DTL-ATL' group='group1' with N=24 samples and D=15 features...\n",
      "Loaded view='PC&DTL-ATL' group='group1' with N=24 samples and D=23 features...\n",
      "Loaded view='Uro&DTL-ATL' group='group1' with N=24 samples and D=27 features...\n",
      "Loaded view='DCT&DTL-ATL' group='group1' with N=24 samples and D=21 features...\n",
      "Loaded view='Pod&Per' group='group1' with N=24 samples and D=22 features...\n",
      "Loaded view='PEC&Pod' group='group1' with N=24 samples and D=49 features...\n",
      "Loaded view='PEC&PEC' group='group1' with N=24 samples and D=56 features...\n",
      "Loaded view='EC&Pod' group='group1' with N=24 samples and D=15 features...\n",
      "Loaded view='DCT&Pod' group='group1' with N=24 samples and D=21 features...\n",
      "Loaded view='Pod&Uro' group='group1' with N=24 samples and D=28 features...\n",
      "Loaded view='ICA&Uro' group='group1' with N=24 samples and D=17 features...\n",
      "Loaded view='CTAL&DTL-ATL' group='group1' with N=24 samples and D=18 features...\n",
      "Loaded view='EC&Uro' group='group1' with N=24 samples and D=15 features...\n",
      "Loaded view='DCT&Uro' group='group1' with N=24 samples and D=24 features...\n",
      "Loaded view='ICA&Fib' group='group1' with N=24 samples and D=15 features...\n",
      "Loaded view='DCT-CNT&Pod' group='group1' with N=24 samples and D=17 features...\n",
      "Loaded view='DCT&PT' group='group1' with N=24 samples and D=14 features...\n",
      "Loaded view='Fib&MTAL' group='group1' with N=24 samples and D=17 features...\n",
      "Loaded view='Fib&Pod' group='group1' with N=24 samples and D=40 features...\n",
      "Loaded view='DCT-CNT&Uro' group='group1' with N=24 samples and D=32 features...\n",
      "Loaded view='Fib&Uro' group='group1' with N=24 samples and D=49 features...\n",
      "Loaded view='MTAL&Fib' group='group1' with N=24 samples and D=26 features...\n",
      "Loaded view='Fib&PT' group='group1' with N=24 samples and D=25 features...\n",
      "Loaded view='ICB&Uro' group='group1' with N=24 samples and D=24 features...\n",
      "Loaded view='CTAL&Fib' group='group1' with N=24 samples and D=22 features...\n",
      "Loaded view='Per&Per' group='group1' with N=24 samples and D=20 features...\n",
      "Loaded view='ICB&Fib' group='group1' with N=24 samples and D=21 features...\n",
      "Loaded view='Fib&Per' group='group1' with N=24 samples and D=33 features...\n",
      "Loaded view='PC&PT' group='group1' with N=24 samples and D=23 features...\n",
      "Loaded view='PC&Per' group='group1' with N=24 samples and D=22 features...\n",
      "Loaded view='CNT&Per' group='group1' with N=24 samples and D=17 features...\n",
      "Loaded view='Pod&MTAL' group='group1' with N=24 samples and D=15 features...\n",
      "Loaded view='Pod&Pod' group='group1' with N=24 samples and D=17 features...\n",
      "Loaded view='CNT&Pod' group='group1' with N=24 samples and D=24 features...\n",
      "Loaded view='PC&Pod' group='group1' with N=24 samples and D=24 features...\n",
      "Loaded view='Per&Uro' group='group1' with N=24 samples and D=24 features...\n",
      "Loaded view='MTAL&Per' group='group1' with N=24 samples and D=15 features...\n",
      "Loaded view='Fib&Fib' group='group1' with N=24 samples and D=42 features...\n",
      "Loaded view='Uro&Per' group='group1' with N=24 samples and D=30 features...\n",
      "Loaded view='CNT&Uro' group='group1' with N=24 samples and D=29 features...\n",
      "Loaded view='Fib&DTL-ATL' group='group1' with N=24 samples and D=27 features...\n",
      "Loaded view='PC&Uro' group='group1' with N=24 samples and D=43 features...\n",
      "Loaded view='DTL-ATL&Per' group='group1' with N=24 samples and D=23 features...\n",
      "Loaded view='Pod&CTAL' group='group1' with N=24 samples and D=14 features...\n",
      "Loaded view='DCT&Per' group='group1' with N=24 samples and D=12 features...\n",
      "Loaded view='Uro&EC' group='group1' with N=24 samples and D=15 features...\n",
      "Loaded view='CNT&PEC' group='group1' with N=24 samples and D=34 features...\n",
      "Loaded view='PC&Fib' group='group1' with N=24 samples and D=28 features...\n",
      "Loaded view='Pod&PEC' group='group1' with N=24 samples and D=32 features...\n",
      "Loaded view='Uro&CTAL' group='group1' with N=24 samples and D=12 features...\n",
      "Loaded view='DCT-CNT&Fib' group='group1' with N=24 samples and D=25 features...\n",
      "Loaded view='CNT&PT' group='group1' with N=24 samples and D=18 features...\n",
      "Loaded view='CNT&Fib' group='group1' with N=24 samples and D=26 features...\n",
      "Loaded view='Uro&Pod' group='group1' with N=24 samples and D=30 features...\n",
      "Loaded view='Per&PEC' group='group1' with N=24 samples and D=26 features...\n",
      "Loaded view='Pod&Fib' group='group1' with N=24 samples and D=27 features...\n",
      "Loaded view='DTL-ATL&Pod' group='group1' with N=24 samples and D=23 features...\n",
      "Loaded view='CNT&DTL-ATL' group='group1' with N=24 samples and D=20 features...\n",
      "Loaded view='Pod&PT' group='group1' with N=24 samples and D=15 features...\n",
      "Loaded view='Fib&PEC' group='group1' with N=24 samples and D=44 features...\n",
      "Loaded view='DTL-ATL&DTL-ATL' group='group1' with N=24 samples and D=18 features...\n",
      "Loaded view='CTAL&PEC' group='group1' with N=24 samples and D=27 features...\n",
      "Loaded view='Uro&Uro' group='group1' with N=24 samples and D=37 features...\n",
      "Loaded view='Fib&DCT-CNT' group='group1' with N=24 samples and D=14 features...\n",
      "Loaded view='DTL-ATL&Uro' group='group1' with N=24 samples and D=31 features...\n",
      "Loaded view='CTAL&Per' group='group1' with N=24 samples and D=15 features...\n",
      "Loaded view='EC&Fib' group='group1' with N=24 samples and D=13 features...\n",
      "Loaded view='DCT&Fib' group='group1' with N=24 samples and D=22 features...\n",
      "Loaded view='Uro&Fib' group='group1' with N=24 samples and D=30 features...\n",
      "Loaded view='Uro&MTAL' group='group1' with N=24 samples and D=17 features...\n",
      "Loaded view='Uro&PEC' group='group1' with N=24 samples and D=37 features...\n",
      "Loaded view='DTL-ATL&Fib' group='group1' with N=24 samples and D=23 features...\n",
      "Loaded view='PEC&EC' group='group1' with N=24 samples and D=17 features...\n",
      "Loaded view='ICB&PEC' group='group1' with N=24 samples and D=24 features...\n",
      "Loaded view='DCT-CNT&PEC' group='group1' with N=24 samples and D=28 features...\n",
      "Loaded view='MTAL&PEC' group='group1' with N=24 samples and D=19 features...\n",
      "Loaded view='Uro&PT' group='group1' with N=24 samples and D=24 features...\n",
      "Loaded view='PT&Uro' group='group1' with N=24 samples and D=23 features...\n",
      "Loaded view='PC&PEC' group='group1' with N=24 samples and D=31 features...\n",
      "Loaded view='DCT&PEC' group='group1' with N=24 samples and D=25 features...\n",
      "Loaded view='EC&Per' group='group1' with N=24 samples and D=6 features...\n",
      "Loaded view='DTL-ATL&PT' group='group1' with N=24 samples and D=17 features...\n",
      "Loaded view='PT&Fib' group='group1' with N=24 samples and D=18 features...\n",
      "Loaded view='Uro&PC' group='group1' with N=24 samples and D=19 features...\n",
      "Loaded view='EC&PEC' group='group1' with N=24 samples and D=9 features...\n",
      "Loaded view='Per&Fib' group='group1' with N=24 samples and D=26 features...\n",
      "Loaded view='PT&PT' group='group1' with N=24 samples and D=13 features...\n",
      "Loaded view='Pod&EC' group='group1' with N=24 samples and D=13 features...\n",
      "Loaded view='Pod&DTL-ATL' group='group1' with N=24 samples and D=15 features...\n",
      "Loaded view='DTL-ATL&PEC' group='group1' with N=24 samples and D=32 features...\n",
      "Loaded view='PT&PEC' group='group1' with N=24 samples and D=15 features...\n",
      "Loaded view='Per&PT' group='group1' with N=24 samples and D=7 features...\n",
      "Loaded view='Per&DTL-ATL' group='group1' with N=24 samples and D=18 features...\n",
      "\n",
      "\n",
      "Model options:\n",
      "- Automatic Relevance Determination prior on the factors: True\n",
      "- Automatic Relevance Determination prior on the weights: True\n",
      "- Spike-and-slab prior on the factors: False\n",
      "- Spike-and-slab prior on the weights: True\n",
      "Likelihoods:\n",
      "- View 0 (PEC&CTAL): gaussian\n",
      "- View 1 (PEC&MTAL): gaussian\n",
      "- View 2 (PEC&Per): gaussian\n",
      "- View 3 (PEC&PC): gaussian\n",
      "- View 4 (PEC&ICB): gaussian\n",
      "- View 5 (PEC&CNT): gaussian\n",
      "- View 6 (PEC&DCT-CNT): gaussian\n",
      "- View 7 (PEC&PT): gaussian\n",
      "- View 8 (PEC&Uro): gaussian\n",
      "- View 9 (Per&Pod): gaussian\n",
      "- View 10 (PEC&Fib): gaussian\n",
      "- View 11 (PEC&DTL-ATL): gaussian\n",
      "- View 12 (PEC&ICA): gaussian\n",
      "- View 13 (PEC&DCT): gaussian\n",
      "- View 14 (CTAL&Pod): gaussian\n",
      "- View 15 (ICA&Pod): gaussian\n",
      "- View 16 (MTAL&Uro): gaussian\n",
      "- View 17 (CTAL&Uro): gaussian\n",
      "- View 18 (MTAL&PT): gaussian\n",
      "- View 19 (CTAL&PT): gaussian\n",
      "- View 20 (ICB&Pod): gaussian\n",
      "- View 21 (MTAL&DTL-ATL): gaussian\n",
      "- View 22 (PC&DTL-ATL): gaussian\n",
      "- View 23 (Uro&DTL-ATL): gaussian\n",
      "- View 24 (DCT&DTL-ATL): gaussian\n",
      "- View 25 (Pod&Per): gaussian\n",
      "- View 26 (PEC&Pod): gaussian\n",
      "- View 27 (PEC&PEC): gaussian\n",
      "- View 28 (EC&Pod): gaussian\n",
      "- View 29 (DCT&Pod): gaussian\n",
      "- View 30 (Pod&Uro): gaussian\n",
      "- View 31 (ICA&Uro): gaussian\n",
      "- View 32 (CTAL&DTL-ATL): gaussian\n",
      "- View 33 (EC&Uro): gaussian\n",
      "- View 34 (DCT&Uro): gaussian\n",
      "- View 35 (ICA&Fib): gaussian\n",
      "- View 36 (DCT-CNT&Pod): gaussian\n",
      "- View 37 (DCT&PT): gaussian\n",
      "- View 38 (Fib&MTAL): gaussian\n",
      "- View 39 (Fib&Pod): gaussian\n",
      "- View 40 (DCT-CNT&Uro): gaussian\n",
      "- View 41 (Fib&Uro): gaussian\n",
      "- View 42 (MTAL&Fib): gaussian\n",
      "- View 43 (Fib&PT): gaussian\n",
      "- View 44 (ICB&Uro): gaussian\n",
      "- View 45 (CTAL&Fib): gaussian\n",
      "- View 46 (Per&Per): gaussian\n",
      "- View 47 (ICB&Fib): gaussian\n",
      "- View 48 (Fib&Per): gaussian\n",
      "- View 49 (PC&PT): gaussian\n",
      "- View 50 (PC&Per): gaussian\n",
      "- View 51 (CNT&Per): gaussian\n",
      "- View 52 (Pod&MTAL): gaussian\n",
      "- View 53 (Pod&Pod): gaussian\n",
      "- View 54 (CNT&Pod): gaussian\n",
      "- View 55 (PC&Pod): gaussian\n",
      "- View 56 (Per&Uro): gaussian\n",
      "- View 57 (MTAL&Per): gaussian\n",
      "- View 58 (Fib&Fib): gaussian\n",
      "- View 59 (Uro&Per): gaussian\n",
      "- View 60 (CNT&Uro): gaussian\n",
      "- View 61 (Fib&DTL-ATL): gaussian\n",
      "- View 62 (PC&Uro): gaussian\n",
      "- View 63 (DTL-ATL&Per): gaussian\n",
      "- View 64 (Pod&CTAL): gaussian\n",
      "- View 65 (DCT&Per): gaussian\n",
      "- View 66 (Uro&EC): gaussian\n",
      "- View 67 (CNT&PEC): gaussian\n",
      "- View 68 (PC&Fib): gaussian\n",
      "- View 69 (Pod&PEC): gaussian\n",
      "- View 70 (Uro&CTAL): gaussian\n",
      "- View 71 (DCT-CNT&Fib): gaussian\n",
      "- View 72 (CNT&PT): gaussian\n",
      "- View 73 (CNT&Fib): gaussian\n",
      "- View 74 (Uro&Pod): gaussian\n",
      "- View 75 (Per&PEC): gaussian\n",
      "- View 76 (Pod&Fib): gaussian\n",
      "- View 77 (DTL-ATL&Pod): gaussian\n",
      "- View 78 (CNT&DTL-ATL): gaussian\n",
      "- View 79 (Pod&PT): gaussian\n",
      "- View 80 (Fib&PEC): gaussian\n",
      "- View 81 (DTL-ATL&DTL-ATL): gaussian\n",
      "- View 82 (CTAL&PEC): gaussian\n",
      "- View 83 (Uro&Uro): gaussian\n",
      "- View 84 (Fib&DCT-CNT): gaussian\n",
      "- View 85 (DTL-ATL&Uro): gaussian\n",
      "- View 86 (CTAL&Per): gaussian\n",
      "- View 87 (EC&Fib): gaussian\n",
      "- View 88 (DCT&Fib): gaussian\n",
      "- View 89 (Uro&Fib): gaussian\n",
      "- View 90 (Uro&MTAL): gaussian\n",
      "- View 91 (Uro&PEC): gaussian\n",
      "- View 92 (DTL-ATL&Fib): gaussian\n",
      "- View 93 (PEC&EC): gaussian\n",
      "- View 94 (ICB&PEC): gaussian\n",
      "- View 95 (DCT-CNT&PEC): gaussian\n",
      "- View 96 (MTAL&PEC): gaussian\n",
      "- View 97 (Uro&PT): gaussian\n",
      "- View 98 (PT&Uro): gaussian\n",
      "- View 99 (PC&PEC): gaussian\n",
      "- View 100 (DCT&PEC): gaussian\n",
      "- View 101 (EC&Per): gaussian\n",
      "- View 102 (DTL-ATL&PT): gaussian\n",
      "- View 103 (PT&Fib): gaussian\n",
      "- View 104 (Uro&PC): gaussian\n",
      "- View 105 (EC&PEC): gaussian\n",
      "- View 106 (Per&Fib): gaussian\n",
      "- View 107 (PT&PT): gaussian\n",
      "- View 108 (Pod&EC): gaussian\n",
      "- View 109 (Pod&DTL-ATL): gaussian\n",
      "- View 110 (DTL-ATL&PEC): gaussian\n",
      "- View 111 (PT&PEC): gaussian\n",
      "- View 112 (Per&PT): gaussian\n",
      "- View 113 (Per&DTL-ATL): gaussian\n",
      "\n",
      "\n",
      "\n",
      "Warning: some view(s) have less than 15 features, MOFA won't be able to learn meaningful factors for these view(s)...\n",
      "\n",
      "\n",
      "\n",
      "######################################\n",
      "## Training the model with seed 1 ##\n",
      "######################################\n",
      "\n",
      "\n",
      "\n",
      "Converged!\n",
      "\n",
      "\n",
      "\n",
      "#######################\n",
      "## Training finished ##\n",
      "#######################\n",
      "\n",
      "\n",
      "Warning: Output file models/mofatalk.h5ad already exists, it will be replaced\n",
      "Saving model in models/mofatalk.h5ad...\n",
      "Saved MOFA embeddings in .obsm['X_mofa'] slot and their loadings in .varm['LFs'].\n"
     ]
    }
   ],
   "source": [
    "mu.tl.mofa(mdata,\n",
    "           use_obs='union',\n",
    "           convergence_mode='medium',\n",
    "           outfile='models/mofatalk.h5ad',\n",
    "           n_factors=5,\n",
    "           )"
   ]
  },
  {
   "cell_type": "code",
   "execution_count": 12,
   "metadata": {},
   "outputs": [
    {
     "data": {
      "text/html": [
       "<div>\n",
       "<style scoped>\n",
       "    .dataframe tbody tr th:only-of-type {\n",
       "        vertical-align: middle;\n",
       "    }\n",
       "\n",
       "    .dataframe tbody tr th {\n",
       "        vertical-align: top;\n",
       "    }\n",
       "\n",
       "    .dataframe thead th {\n",
       "        text-align: right;\n",
       "    }\n",
       "</style>\n",
       "<table border=\"1\" class=\"dataframe\">\n",
       "  <thead>\n",
       "    <tr style=\"text-align: right;\">\n",
       "      <th></th>\n",
       "      <th>ident</th>\n",
       "      <th>Factor1</th>\n",
       "      <th>Factor2</th>\n",
       "      <th>Factor3</th>\n",
       "      <th>Factor4</th>\n",
       "      <th>Factor5</th>\n",
       "      <th>Group</th>\n",
       "    </tr>\n",
       "  </thead>\n",
       "  <tbody>\n",
       "    <tr>\n",
       "      <th>0</th>\n",
       "      <td>IRI12h1b1</td>\n",
       "      <td>0.212758</td>\n",
       "      <td>-0.018611</td>\n",
       "      <td>-0.015426</td>\n",
       "      <td>-0.009003</td>\n",
       "      <td>0.002567</td>\n",
       "      <td>12hours</td>\n",
       "    </tr>\n",
       "    <tr>\n",
       "      <th>1</th>\n",
       "      <td>IRI12h1b2</td>\n",
       "      <td>0.205543</td>\n",
       "      <td>-0.019785</td>\n",
       "      <td>-0.014341</td>\n",
       "      <td>-0.009589</td>\n",
       "      <td>0.002848</td>\n",
       "      <td>12hours</td>\n",
       "    </tr>\n",
       "    <tr>\n",
       "      <th>2</th>\n",
       "      <td>IRI12h2</td>\n",
       "      <td>0.212398</td>\n",
       "      <td>-0.017152</td>\n",
       "      <td>-0.013336</td>\n",
       "      <td>-0.009206</td>\n",
       "      <td>0.002272</td>\n",
       "      <td>12hours</td>\n",
       "    </tr>\n",
       "    <tr>\n",
       "      <th>3</th>\n",
       "      <td>IRI12h3</td>\n",
       "      <td>0.199433</td>\n",
       "      <td>-0.019083</td>\n",
       "      <td>-0.015480</td>\n",
       "      <td>-0.008798</td>\n",
       "      <td>0.002676</td>\n",
       "      <td>12hours</td>\n",
       "    </tr>\n",
       "    <tr>\n",
       "      <th>4</th>\n",
       "      <td>IRI14d1b1</td>\n",
       "      <td>-0.106828</td>\n",
       "      <td>-0.020529</td>\n",
       "      <td>-0.014913</td>\n",
       "      <td>-0.010607</td>\n",
       "      <td>0.001289</td>\n",
       "      <td>14days</td>\n",
       "    </tr>\n",
       "  </tbody>\n",
       "</table>\n",
       "</div>"
      ],
      "text/plain": [
       "       ident   Factor1   Factor2   Factor3   Factor4   Factor5    Group\n",
       "0  IRI12h1b1  0.212758 -0.018611 -0.015426 -0.009003  0.002567  12hours\n",
       "1  IRI12h1b2  0.205543 -0.019785 -0.014341 -0.009589  0.002848  12hours\n",
       "2    IRI12h2  0.212398 -0.017152 -0.013336 -0.009206  0.002272  12hours\n",
       "3    IRI12h3  0.199433 -0.019083 -0.015480 -0.008798  0.002676  12hours\n",
       "4  IRI14d1b1 -0.106828 -0.020529 -0.014913 -0.010607  0.001289   14days"
      ]
     },
     "execution_count": 12,
     "metadata": {},
     "output_type": "execute_result"
    }
   ],
   "source": [
    "# obtain factor scores\n",
    "factor_scores = li.multi.get_factor_scores(mdata, obsm_key='X_mofa')\n",
    "# re-order Groups\n",
    "factor_scores['Group'] = factor_scores['Group'].astype('category')\n",
    "factor_scores['Group'] = factor_scores['Group'].cat.reorder_categories(['Control', '4hours','12hours',  '2days', '14days', '6weeks'])\n",
    "factor_scores.head()"
   ]
  },
  {
   "cell_type": "code",
   "execution_count": null,
   "metadata": {},
   "outputs": [],
   "source": []
  },
  {
   "attachments": {},
   "cell_type": "markdown",
   "metadata": {},
   "source": [
    "UMAP"
   ]
  },
  {
   "cell_type": "code",
   "execution_count": 13,
   "metadata": {},
   "outputs": [],
   "source": [
    "sc.pp.neighbors(mdata, use_rep=\"X_mofa\")\n",
    "sc.tl.umap(mdata)\n",
    "\n",
    "sc.tl.umap(mdata, min_dist=.2, spread=1., random_state=10)"
   ]
  },
  {
   "cell_type": "code",
   "execution_count": 14,
   "metadata": {},
   "outputs": [
    {
     "data": {
      "image/png": "[encoded data removed]",
      "text/plain": [
       "<Figure size 640x480 with 1 Axes>"
      ]
     },
     "metadata": {},
     "output_type": "display_data"
    }
   ],
   "source": [
    "sc.pl.umap(mdata, color=\"Group\", size=150)"
   ]
  },
  {
   "cell_type": "code",
   "execution_count": null,
   "metadata": {},
   "outputs": [],
   "source": []
  },
  {
   "cell_type": "code",
   "execution_count": 15,
   "metadata": {},
   "outputs": [],
   "source": [
    "# Kruskal Wallis test\n",
    "from scipy.stats import kruskal"
   ]
  },
  {
   "cell_type": "code",
   "execution_count": 16,
   "metadata": {},
   "outputs": [
    {
     "name": "stdout",
     "output_type": "stream",
     "text": [
      "Kruskal-Wallis Test\n",
      "Statistic: 17.310000000000002\n",
      "P-value: 0.00394789398713399\n"
     ]
    }
   ],
   "source": [
    "# Extract the values for each group\n",
    "groups = []\n",
    "for group_name, group_data in factor_scores.groupby('Group'):\n",
    "    groups.append(group_data['Factor1'].values)\n",
    "\n",
    "# Perform the Kruskal-Wallis test\n",
    "statistic, p_value = kruskal(*groups)\n",
    "\n",
    "# Print the test results\n",
    "print(\"Kruskal-Wallis Test\")\n",
    "print(\"Statistic:\", statistic)\n",
    "print(\"P-value:\", p_value)"
   ]
  },
  {
   "cell_type": "code",
   "execution_count": null,
   "metadata": {},
   "outputs": [],
   "source": []
  },
  {
   "cell_type": "code",
   "execution_count": 17,
   "metadata": {},
   "outputs": [
    {
     "data": {
      "image/png": "[encoded data removed]",
      "text/plain": [
       "<Figure size 600x600 with 1 Axes>"
      ]
     },
     "metadata": {},
     "output_type": "display_data"
    },
    {
     "data": {
      "text/plain": [
       "<ggplot: (8742949373628)>"
      ]
     },
     "execution_count": 17,
     "metadata": {},
     "output_type": "execute_result"
    }
   ],
   "source": [
    "# scatterplot\n",
    "(p9.ggplot(factor_scores) +\n",
    " p9.aes(x='Group', colour='Group', y='Factor1') +\n",
    " p9.geom_boxplot() +\n",
    " p9.geom_jitter(size=2, width=0.3) +\n",
    " p9.theme_bw(base_size=24) +\n",
    " p9.theme(figure_size=(6, 6)) + \n",
    " p9.labs(x='Group', y='Factor 1') +\n",
    " # rotate x-axis labels\n",
    " p9.theme(axis_text_x=p9.element_text(angle=90, hjust=1)) +\n",
    " # Dark2 set \n",
    " p9.scale_color_brewer(type='qual', palette='Dark2') +\n",
    " # add p-value to top-right\n",
    " p9.annotate('text', x=4.3, y=0.25, label=f'KW P-value < {np.ceil(p_value * 100) / 100}', size=24)\n",
    " \n",
    " )"
   ]
  },
  {
   "cell_type": "code",
   "execution_count": null,
   "metadata": {},
   "outputs": [],
   "source": []
  },
  {
   "attachments": {},
   "cell_type": "markdown",
   "metadata": {},
   "source": [
    "Plot R-sq"
   ]
  },
  {
   "cell_type": "code",
   "execution_count": 18,
   "metadata": {},
   "outputs": [
    {
     "data": {
      "text/plain": [
       "MOFA+ model: mofatalk.h5ad\n",
       "Samples (cells): 24\n",
       "Features: 2699\n",
       "Groups: group1 (24)\n",
       "Views: CNT&DTL-ATL (20), CNT&Fib (26), CNT&PEC (34), CNT&PT (18), CNT&Per (17), CNT&Pod (24), CNT&Uro (29), CTAL&DTL-ATL (18), CTAL&Fib (22), CTAL&PEC (27), CTAL&PT (16), CTAL&Per (15), CTAL&Pod (17), CTAL&Uro (25), DCT&DTL-ATL (21), DCT&Fib (22), DCT&PEC (25), DCT&PT (14), DCT&Per (12), DCT&Pod (21), DCT&Uro (24), DCT-CNT&Fib (25), DCT-CNT&PEC (28), DCT-CNT&Pod (17), DCT-CNT&Uro (32), DTL-ATL&DTL-ATL (18), DTL-ATL&Fib (23), DTL-ATL&PEC (32), DTL-ATL&PT (17), DTL-ATL&Per (23), DTL-ATL&Pod (23), DTL-ATL&Uro (31), EC&Fib (13), EC&PEC (9), EC&Per (6), EC&Pod (15), EC&Uro (15), Fib&DCT-CNT (14), Fib&DTL-ATL (27), Fib&Fib (42), Fib&MTAL (17), Fib&PEC (44), Fib&PT (25), Fib&Per (33), Fib&Pod (40), Fib&Uro (49), ICA&Fib (15), ICA&Pod (15), ICA&Uro (17), ICB&Fib (21), ICB&PEC (24), ICB&Pod (15), ICB&Uro (24), MTAL&DTL-ATL (15), MTAL&Fib (26), MTAL&PEC (19), MTAL&PT (17), MTAL&Per (15), MTAL&Uro (23), PC&DTL-ATL (23), PC&Fib (28), PC&PEC (31), PC&PT (23), PC&Per (22), PC&Pod (24), PC&Uro (43), PEC&CNT (16), PEC&CTAL (17), PEC&DCT (18), PEC&DCT-CNT (22), PEC&DTL-ATL (33), PEC&EC (17), PEC&Fib (57), PEC&ICA (14), PEC&ICB (18), PEC&MTAL (29), PEC&PC (22), PEC&PEC (56), PEC&PT (30), PEC&Per (47), PEC&Pod (49), PEC&Uro (58), PT&Fib (18), PT&PEC (15), PT&PT (13), PT&Uro (23), Per&DTL-ATL (18), Per&Fib (26), Per&PEC (26), Per&PT (7), Per&Per (20), Per&Pod (25), Per&Uro (24), Pod&CTAL (14), Pod&DTL-ATL (15), Pod&EC (13), Pod&Fib (27), Pod&MTAL (15), Pod&PEC (32), Pod&PT (15), Pod&Per (22), Pod&Pod (17), Pod&Uro (28), Uro&CTAL (12), Uro&DTL-ATL (27), Uro&EC (15), Uro&Fib (30), Uro&MTAL (17), Uro&PC (19), Uro&PEC (37), Uro&PT (24), Uro&Per (30), Uro&Pod (30), Uro&Uro (37)\n",
       "Factors: 5\n",
       "Expectations: W, Z"
      ]
     },
     "execution_count": 18,
     "metadata": {},
     "output_type": "execute_result"
    }
   ],
   "source": [
    "model = mofa.mofa_model(\"models/mofatalk.h5ad\")\n",
    "model"
   ]
  },
  {
   "cell_type": "code",
   "execution_count": 19,
   "metadata": {},
   "outputs": [
    {
     "data": {
      "image/png": "[encoded data removed]",
      "text/plain": [
       "<Figure size 600x600 with 1 Axes>"
      ]
     },
     "metadata": {},
     "output_type": "display_data"
    },
    {
     "data": {
      "text/plain": [
       "<ggplot: (8742948587638)>"
      ]
     },
     "execution_count": 19,
     "metadata": {},
     "output_type": "execute_result"
    }
   ],
   "source": [
    "# get variance explained by view and factor\n",
    "rsq = model.get_r2()\n",
    "factor1_rsq = rsq[rsq['Factor']=='Factor1']\n",
    "# separate view column\n",
    "factor1_rsq[['source', 'target']] = factor1_rsq['View'].str.split('&', 1, expand=True)\n",
    "\n",
    "(p9.ggplot(factor1_rsq.reset_index()) +\n",
    " p9.aes(x='target', y='source') +\n",
    " p9.geom_tile(p9.aes(fill='R2')) +\n",
    " p9.scale_fill_gradient2(low='white', high='#c20019') +\n",
    " p9.theme_bw(base_size=24) +\n",
    " # rotate X axis\n",
    " p9.theme(axis_text_x=p9.element_text(angle=90), figure_size=(6, 6)) +\n",
    " p9.labs(x='Target', y='Source', fill='  R²')\n",
    " )"
   ]
  },
  {
   "cell_type": "code",
   "execution_count": 20,
   "metadata": {},
   "outputs": [
    {
     "data": {
      "text/plain": [
       "array(['CNT', 'CTAL', 'DCT', 'DCT-CNT', 'EC', 'Fib', 'ICA'], dtype=object)"
      ]
     },
     "execution_count": 20,
     "metadata": {},
     "output_type": "execute_result"
    }
   ],
   "source": [
    "sources = np.unique(factor1_rsq.sort_values(\"R2\", ascending=False)['source'].head(10).values)\n",
    "sources"
   ]
  },
  {
   "cell_type": "code",
   "execution_count": 21,
   "metadata": {},
   "outputs": [
    {
     "data": {
      "text/plain": [
       "array(['Fib', 'PEC', 'PT', 'Pod', 'Uro'], dtype=object)"
      ]
     },
     "execution_count": 21,
     "metadata": {},
     "output_type": "execute_result"
    }
   ],
   "source": [
    "targets = np.unique(factor1_rsq.sort_values(\"R2\", ascending=False)['target'].head(10).values)\n",
    "targets"
   ]
  },
  {
   "cell_type": "code",
   "execution_count": null,
   "metadata": {},
   "outputs": [],
   "source": []
  },
  {
   "attachments": {},
   "cell_type": "markdown",
   "metadata": {},
   "source": [
    "Average R2 per source & target"
   ]
  },
  {
   "cell_type": "code",
   "execution_count": 22,
   "metadata": {},
   "outputs": [
    {
     "data": {
      "text/html": [
       "<div>\n",
       "<style scoped>\n",
       "    .dataframe tbody tr th:only-of-type {\n",
       "        vertical-align: middle;\n",
       "    }\n",
       "\n",
       "    .dataframe tbody tr th {\n",
       "        vertical-align: top;\n",
       "    }\n",
       "\n",
       "    .dataframe thead tr th {\n",
       "        text-align: left;\n",
       "    }\n",
       "\n",
       "    .dataframe thead tr:last-of-type th {\n",
       "        text-align: right;\n",
       "    }\n",
       "</style>\n",
       "<table border=\"1\" class=\"dataframe\">\n",
       "  <thead>\n",
       "    <tr>\n",
       "      <th></th>\n",
       "      <th colspan=\"2\" halign=\"left\">R2</th>\n",
       "    </tr>\n",
       "    <tr>\n",
       "      <th></th>\n",
       "      <th>mean</th>\n",
       "      <th>std</th>\n",
       "    </tr>\n",
       "    <tr>\n",
       "      <th>target</th>\n",
       "      <th></th>\n",
       "      <th></th>\n",
       "    </tr>\n",
       "  </thead>\n",
       "  <tbody>\n",
       "    <tr>\n",
       "      <th>Fib</th>\n",
       "      <td>23.996381</td>\n",
       "      <td>13.808916</td>\n",
       "    </tr>\n",
       "    <tr>\n",
       "      <th>Uro</th>\n",
       "      <td>22.183097</td>\n",
       "      <td>12.946500</td>\n",
       "    </tr>\n",
       "    <tr>\n",
       "      <th>ICB</th>\n",
       "      <td>17.107415</td>\n",
       "      <td>NaN</td>\n",
       "    </tr>\n",
       "    <tr>\n",
       "      <th>MTAL</th>\n",
       "      <td>16.630942</td>\n",
       "      <td>11.757348</td>\n",
       "    </tr>\n",
       "    <tr>\n",
       "      <th>PT</th>\n",
       "      <td>15.584820</td>\n",
       "      <td>18.597953</td>\n",
       "    </tr>\n",
       "    <tr>\n",
       "      <th>CTAL</th>\n",
       "      <td>13.667581</td>\n",
       "      <td>12.502867</td>\n",
       "    </tr>\n",
       "    <tr>\n",
       "      <th>DTL-ATL</th>\n",
       "      <td>13.531879</td>\n",
       "      <td>11.188478</td>\n",
       "    </tr>\n",
       "    <tr>\n",
       "      <th>PC</th>\n",
       "      <td>12.933593</td>\n",
       "      <td>1.650043</td>\n",
       "    </tr>\n",
       "    <tr>\n",
       "      <th>Per</th>\n",
       "      <td>11.331436</td>\n",
       "      <td>11.278984</td>\n",
       "    </tr>\n",
       "    <tr>\n",
       "      <th>Pod</th>\n",
       "      <td>10.949058</td>\n",
       "      <td>11.568095</td>\n",
       "    </tr>\n",
       "  </tbody>\n",
       "</table>\n",
       "</div>"
      ],
      "text/plain": [
       "                R2           \n",
       "              mean        std\n",
       "target                       \n",
       "Fib      23.996381  13.808916\n",
       "Uro      22.183097  12.946500\n",
       "ICB      17.107415        NaN\n",
       "MTAL     16.630942  11.757348\n",
       "PT       15.584820  18.597953\n",
       "CTAL     13.667581  12.502867\n",
       "DTL-ATL  13.531879  11.188478\n",
       "PC       12.933593   1.650043\n",
       "Per      11.331436  11.278984\n",
       "Pod      10.949058  11.568095"
      ]
     },
     "execution_count": 22,
     "metadata": {},
     "output_type": "execute_result"
    }
   ],
   "source": [
    "# mean R2 and std for factor1\n",
    "factor1_rsq.groupby('target').agg({'R2': ['mean', 'std']}).sort_values(('R2', 'mean'), ascending=False).head(10)"
   ]
  },
  {
   "cell_type": "code",
   "execution_count": 23,
   "metadata": {},
   "outputs": [
    {
     "data": {
      "text/html": [
       "<div>\n",
       "<style scoped>\n",
       "    .dataframe tbody tr th:only-of-type {\n",
       "        vertical-align: middle;\n",
       "    }\n",
       "\n",
       "    .dataframe tbody tr th {\n",
       "        vertical-align: top;\n",
       "    }\n",
       "\n",
       "    .dataframe thead tr th {\n",
       "        text-align: left;\n",
       "    }\n",
       "\n",
       "    .dataframe thead tr:last-of-type th {\n",
       "        text-align: right;\n",
       "    }\n",
       "</style>\n",
       "<table border=\"1\" class=\"dataframe\">\n",
       "  <thead>\n",
       "    <tr>\n",
       "      <th></th>\n",
       "      <th colspan=\"2\" halign=\"left\">R2</th>\n",
       "    </tr>\n",
       "    <tr>\n",
       "      <th></th>\n",
       "      <th>mean</th>\n",
       "      <th>std</th>\n",
       "    </tr>\n",
       "    <tr>\n",
       "      <th>source</th>\n",
       "      <th></th>\n",
       "      <th></th>\n",
       "    </tr>\n",
       "  </thead>\n",
       "  <tbody>\n",
       "    <tr>\n",
       "      <th>EC</th>\n",
       "      <td>30.080890</td>\n",
       "      <td>22.852060</td>\n",
       "    </tr>\n",
       "    <tr>\n",
       "      <th>ICA</th>\n",
       "      <td>25.527268</td>\n",
       "      <td>17.924832</td>\n",
       "    </tr>\n",
       "    <tr>\n",
       "      <th>DCT-CNT</th>\n",
       "      <td>24.857433</td>\n",
       "      <td>13.816847</td>\n",
       "    </tr>\n",
       "    <tr>\n",
       "      <th>CNT</th>\n",
       "      <td>24.767081</td>\n",
       "      <td>10.019861</td>\n",
       "    </tr>\n",
       "    <tr>\n",
       "      <th>Fib</th>\n",
       "      <td>23.189205</td>\n",
       "      <td>14.110177</td>\n",
       "    </tr>\n",
       "    <tr>\n",
       "      <th>CTAL</th>\n",
       "      <td>20.555778</td>\n",
       "      <td>15.498901</td>\n",
       "    </tr>\n",
       "    <tr>\n",
       "      <th>DTL-ATL</th>\n",
       "      <td>16.793770</td>\n",
       "      <td>12.276723</td>\n",
       "    </tr>\n",
       "    <tr>\n",
       "      <th>DCT</th>\n",
       "      <td>15.011266</td>\n",
       "      <td>19.759644</td>\n",
       "    </tr>\n",
       "    <tr>\n",
       "      <th>MTAL</th>\n",
       "      <td>14.486484</td>\n",
       "      <td>15.934848</td>\n",
       "    </tr>\n",
       "    <tr>\n",
       "      <th>ICB</th>\n",
       "      <td>12.231689</td>\n",
       "      <td>13.179260</td>\n",
       "    </tr>\n",
       "  </tbody>\n",
       "</table>\n",
       "</div>"
      ],
      "text/plain": [
       "                R2           \n",
       "              mean        std\n",
       "source                       \n",
       "EC       30.080890  22.852060\n",
       "ICA      25.527268  17.924832\n",
       "DCT-CNT  24.857433  13.816847\n",
       "CNT      24.767081  10.019861\n",
       "Fib      23.189205  14.110177\n",
       "CTAL     20.555778  15.498901\n",
       "DTL-ATL  16.793770  12.276723\n",
       "DCT      15.011266  19.759644\n",
       "MTAL     14.486484  15.934848\n",
       "ICB      12.231689  13.179260"
      ]
     },
     "execution_count": 23,
     "metadata": {},
     "output_type": "execute_result"
    }
   ],
   "source": [
    "# mean R2 and std for factor1\n",
    "factor1_rsq.groupby('source').agg({'R2': ['mean', 'std']}).sort_values(('R2', 'mean'), ascending=False).head(10)"
   ]
  },
  {
   "cell_type": "code",
   "execution_count": 24,
   "metadata": {},
   "outputs": [
    {
     "data": {
      "text/plain": [
       "14.964781224364726"
      ]
     },
     "execution_count": 24,
     "metadata": {},
     "output_type": "execute_result"
    }
   ],
   "source": [
    "factor1_rsq['R2'].mean()"
   ]
  },
  {
   "cell_type": "code",
   "execution_count": null,
   "metadata": {},
   "outputs": [],
   "source": []
  },
  {
   "cell_type": "code",
   "execution_count": 25,
   "metadata": {},
   "outputs": [
    {
     "data": {
      "text/html": [
       "<div>\n",
       "<style scoped>\n",
       "    .dataframe tbody tr th:only-of-type {\n",
       "        vertical-align: middle;\n",
       "    }\n",
       "\n",
       "    .dataframe tbody tr th {\n",
       "        vertical-align: top;\n",
       "    }\n",
       "\n",
       "    .dataframe thead th {\n",
       "        text-align: right;\n",
       "    }\n",
       "</style>\n",
       "<table border=\"1\" class=\"dataframe\">\n",
       "  <thead>\n",
       "    <tr style=\"text-align: right;\">\n",
       "      <th></th>\n",
       "      <th>Factor</th>\n",
       "      <th>View</th>\n",
       "      <th>Group</th>\n",
       "      <th>R2</th>\n",
       "      <th>source</th>\n",
       "      <th>target</th>\n",
       "    </tr>\n",
       "  </thead>\n",
       "  <tbody>\n",
       "    <tr>\n",
       "      <th>105</th>\n",
       "      <td>Factor1</td>\n",
       "      <td>EC&amp;PEC</td>\n",
       "      <td>group1</td>\n",
       "      <td>65.830353</td>\n",
       "      <td>EC</td>\n",
       "      <td>PEC</td>\n",
       "    </tr>\n",
       "    <tr>\n",
       "      <th>43</th>\n",
       "      <td>Factor1</td>\n",
       "      <td>Fib&amp;PT</td>\n",
       "      <td>group1</td>\n",
       "      <td>52.517755</td>\n",
       "      <td>Fib</td>\n",
       "      <td>PT</td>\n",
       "    </tr>\n",
       "    <tr>\n",
       "      <th>35</th>\n",
       "      <td>Factor1</td>\n",
       "      <td>ICA&amp;Fib</td>\n",
       "      <td>group1</td>\n",
       "      <td>43.223214</td>\n",
       "      <td>ICA</td>\n",
       "      <td>Fib</td>\n",
       "    </tr>\n",
       "    <tr>\n",
       "      <th>34</th>\n",
       "      <td>Factor1</td>\n",
       "      <td>DCT&amp;Uro</td>\n",
       "      <td>group1</td>\n",
       "      <td>41.600140</td>\n",
       "      <td>DCT</td>\n",
       "      <td>Uro</td>\n",
       "    </tr>\n",
       "    <tr>\n",
       "      <th>88</th>\n",
       "      <td>Factor1</td>\n",
       "      <td>DCT&amp;Fib</td>\n",
       "      <td>group1</td>\n",
       "      <td>41.113374</td>\n",
       "      <td>DCT</td>\n",
       "      <td>Fib</td>\n",
       "    </tr>\n",
       "    <tr>\n",
       "      <th>60</th>\n",
       "      <td>Factor1</td>\n",
       "      <td>CNT&amp;Uro</td>\n",
       "      <td>group1</td>\n",
       "      <td>37.973097</td>\n",
       "      <td>CNT</td>\n",
       "      <td>Uro</td>\n",
       "    </tr>\n",
       "    <tr>\n",
       "      <th>40</th>\n",
       "      <td>Factor1</td>\n",
       "      <td>DCT-CNT&amp;Uro</td>\n",
       "      <td>group1</td>\n",
       "      <td>37.876830</td>\n",
       "      <td>DCT-CNT</td>\n",
       "      <td>Uro</td>\n",
       "    </tr>\n",
       "    <tr>\n",
       "      <th>73</th>\n",
       "      <td>Factor1</td>\n",
       "      <td>CNT&amp;Fib</td>\n",
       "      <td>group1</td>\n",
       "      <td>37.323708</td>\n",
       "      <td>CNT</td>\n",
       "      <td>Fib</td>\n",
       "    </tr>\n",
       "    <tr>\n",
       "      <th>45</th>\n",
       "      <td>Factor1</td>\n",
       "      <td>CTAL&amp;Fib</td>\n",
       "      <td>group1</td>\n",
       "      <td>36.225895</td>\n",
       "      <td>CTAL</td>\n",
       "      <td>Fib</td>\n",
       "    </tr>\n",
       "    <tr>\n",
       "      <th>14</th>\n",
       "      <td>Factor1</td>\n",
       "      <td>CTAL&amp;Pod</td>\n",
       "      <td>group1</td>\n",
       "      <td>35.635192</td>\n",
       "      <td>CTAL</td>\n",
       "      <td>Pod</td>\n",
       "    </tr>\n",
       "  </tbody>\n",
       "</table>\n",
       "</div>"
      ],
      "text/plain": [
       "      Factor         View   Group         R2   source target\n",
       "105  Factor1       EC&PEC  group1  65.830353       EC    PEC\n",
       "43   Factor1       Fib&PT  group1  52.517755      Fib     PT\n",
       "35   Factor1      ICA&Fib  group1  43.223214      ICA    Fib\n",
       "34   Factor1      DCT&Uro  group1  41.600140      DCT    Uro\n",
       "88   Factor1      DCT&Fib  group1  41.113374      DCT    Fib\n",
       "60   Factor1      CNT&Uro  group1  37.973097      CNT    Uro\n",
       "40   Factor1  DCT-CNT&Uro  group1  37.876830  DCT-CNT    Uro\n",
       "73   Factor1      CNT&Fib  group1  37.323708      CNT    Fib\n",
       "45   Factor1     CTAL&Fib  group1  36.225895     CTAL    Fib\n",
       "14   Factor1     CTAL&Pod  group1  35.635192     CTAL    Pod"
      ]
     },
     "execution_count": 25,
     "metadata": {},
     "output_type": "execute_result"
    }
   ],
   "source": [
    "factor1_rsq.sort_values(\"R2\", ascending=False).head(10)"
   ]
  },
  {
   "cell_type": "code",
   "execution_count": null,
   "metadata": {},
   "outputs": [],
   "source": []
  },
  {
   "cell_type": "code",
   "execution_count": 26,
   "metadata": {},
   "outputs": [
    {
     "data": {
      "text/html": [
       "<div>\n",
       "<style scoped>\n",
       "    .dataframe tbody tr th:only-of-type {\n",
       "        vertical-align: middle;\n",
       "    }\n",
       "\n",
       "    .dataframe tbody tr th {\n",
       "        vertical-align: top;\n",
       "    }\n",
       "\n",
       "    .dataframe thead th {\n",
       "        text-align: right;\n",
       "    }\n",
       "</style>\n",
       "<table border=\"1\" class=\"dataframe\">\n",
       "  <thead>\n",
       "    <tr style=\"text-align: right;\">\n",
       "      <th></th>\n",
       "      <th>cell_type</th>\n",
       "      <th>full_name</th>\n",
       "    </tr>\n",
       "  </thead>\n",
       "  <tbody>\n",
       "    <tr>\n",
       "      <th>IRI4h1_AAACCTGAGATCTGCT</th>\n",
       "      <td>CTAL</td>\n",
       "      <td>Thick ascending limb of loop of Henle</td>\n",
       "    </tr>\n",
       "    <tr>\n",
       "      <th>IRI4h1_AAACCTGAGATTACCC</th>\n",
       "      <td>PT</td>\n",
       "      <td>Proximal tubule</td>\n",
       "    </tr>\n",
       "    <tr>\n",
       "      <th>IRI4h1_AAACCTGAGTGTTAGA</th>\n",
       "      <td>EC</td>\n",
       "      <td>Epithelial cells</td>\n",
       "    </tr>\n",
       "    <tr>\n",
       "      <th>IRI4h1_AAACCTGCACCAACCG</th>\n",
       "      <td>DCT</td>\n",
       "      <td>Distal convoluted tubule</td>\n",
       "    </tr>\n",
       "    <tr>\n",
       "      <th>IRI4h1_AAACCTGCAGCCTGTG</th>\n",
       "      <td>MTAL</td>\n",
       "      <td>medullary thick ascending limb</td>\n",
       "    </tr>\n",
       "    <tr>\n",
       "      <th>IRI4h1_AAACCTGCAGGGAGAG</th>\n",
       "      <td>ICA</td>\n",
       "      <td>Intercalated cell of collecting duct</td>\n",
       "    </tr>\n",
       "    <tr>\n",
       "      <th>IRI4h1_AAACCTGGTAGCGCTC</th>\n",
       "      <td>Fib</td>\n",
       "      <td>Fibroblast</td>\n",
       "    </tr>\n",
       "    <tr>\n",
       "      <th>IRI4h1_AAACCTGTCGTCGTTC</th>\n",
       "      <td>DCT-CNT</td>\n",
       "      <td>DCT-CNT</td>\n",
       "    </tr>\n",
       "    <tr>\n",
       "      <th>IRI4h1_AAACGGGAGCATGGCA</th>\n",
       "      <td>MO</td>\n",
       "      <td>Macrophages</td>\n",
       "    </tr>\n",
       "    <tr>\n",
       "      <th>IRI4h1_AAACGGGGTGCAACGA</th>\n",
       "      <td>PC</td>\n",
       "      <td>Principal cells</td>\n",
       "    </tr>\n",
       "    <tr>\n",
       "      <th>IRI4h1_AAACGGGTCTGAGTGT</th>\n",
       "      <td>ICB</td>\n",
       "      <td>Type B intercalated cell</td>\n",
       "    </tr>\n",
       "    <tr>\n",
       "      <th>IRI4h1_AAAGCAACATCGGGTC</th>\n",
       "      <td>DTL-ATL</td>\n",
       "      <td>DTL-ATL (thin ascending limb of loop of Henle)</td>\n",
       "    </tr>\n",
       "    <tr>\n",
       "      <th>IRI4h1_AAAGCAATCGTACCGG</th>\n",
       "      <td>Per</td>\n",
       "      <td>Pericyte</td>\n",
       "    </tr>\n",
       "    <tr>\n",
       "      <th>IRI4h1_AAAGTAGCAAAGCGGT</th>\n",
       "      <td>PEC</td>\n",
       "      <td>PEC</td>\n",
       "    </tr>\n",
       "    <tr>\n",
       "      <th>IRI4h1_AAATGCCTCAAACCAC</th>\n",
       "      <td>CNT</td>\n",
       "      <td>Connecting tubule</td>\n",
       "    </tr>\n",
       "    <tr>\n",
       "      <th>IRI4h1_AAGACCTTCCAGAAGG</th>\n",
       "      <td>Pod</td>\n",
       "      <td>Podocyte</td>\n",
       "    </tr>\n",
       "    <tr>\n",
       "      <th>IRI4h1_ACACCCTTCGGTCTAA</th>\n",
       "      <td>Tcell</td>\n",
       "      <td>Tcell</td>\n",
       "    </tr>\n",
       "    <tr>\n",
       "      <th>IRI4h1_ACACTGAAGAGAGCTC</th>\n",
       "      <td>EC</td>\n",
       "      <td>Epithelial cell</td>\n",
       "    </tr>\n",
       "    <tr>\n",
       "      <th>IRI4h1_AGGGATGGTCAATGTC</th>\n",
       "      <td>Uro</td>\n",
       "      <td>Urothelial cell</td>\n",
       "    </tr>\n",
       "  </tbody>\n",
       "</table>\n",
       "</div>"
      ],
      "text/plain": [
       "                        cell_type  \\\n",
       "IRI4h1_AAACCTGAGATCTGCT      CTAL   \n",
       "IRI4h1_AAACCTGAGATTACCC        PT   \n",
       "IRI4h1_AAACCTGAGTGTTAGA        EC   \n",
       "IRI4h1_AAACCTGCACCAACCG       DCT   \n",
       "IRI4h1_AAACCTGCAGCCTGTG      MTAL   \n",
       "IRI4h1_AAACCTGCAGGGAGAG       ICA   \n",
       "IRI4h1_AAACCTGGTAGCGCTC       Fib   \n",
       "IRI4h1_AAACCTGTCGTCGTTC   DCT-CNT   \n",
       "IRI4h1_AAACGGGAGCATGGCA        MO   \n",
       "IRI4h1_AAACGGGGTGCAACGA        PC   \n",
       "IRI4h1_AAACGGGTCTGAGTGT       ICB   \n",
       "IRI4h1_AAAGCAACATCGGGTC   DTL-ATL   \n",
       "IRI4h1_AAAGCAATCGTACCGG       Per   \n",
       "IRI4h1_AAAGTAGCAAAGCGGT       PEC   \n",
       "IRI4h1_AAATGCCTCAAACCAC       CNT   \n",
       "IRI4h1_AAGACCTTCCAGAAGG       Pod   \n",
       "IRI4h1_ACACCCTTCGGTCTAA     Tcell   \n",
       "IRI4h1_ACACTGAAGAGAGCTC        EC   \n",
       "IRI4h1_AGGGATGGTCAATGTC       Uro   \n",
       "\n",
       "                                                              full_name  \n",
       "IRI4h1_AAACCTGAGATCTGCT           Thick ascending limb of loop of Henle  \n",
       "IRI4h1_AAACCTGAGATTACCC                                 Proximal tubule  \n",
       "IRI4h1_AAACCTGAGTGTTAGA                                Epithelial cells  \n",
       "IRI4h1_AAACCTGCACCAACCG                        Distal convoluted tubule  \n",
       "IRI4h1_AAACCTGCAGCCTGTG                  medullary thick ascending limb  \n",
       "IRI4h1_AAACCTGCAGGGAGAG            Intercalated cell of collecting duct  \n",
       "IRI4h1_AAACCTGGTAGCGCTC                                      Fibroblast  \n",
       "IRI4h1_AAACCTGTCGTCGTTC                                         DCT-CNT  \n",
       "IRI4h1_AAACGGGAGCATGGCA                                     Macrophages  \n",
       "IRI4h1_AAACGGGGTGCAACGA                                 Principal cells  \n",
       "IRI4h1_AAACGGGTCTGAGTGT                        Type B intercalated cell  \n",
       "IRI4h1_AAAGCAACATCGGGTC  DTL-ATL (thin ascending limb of loop of Henle)  \n",
       "IRI4h1_AAAGCAATCGTACCGG                                        Pericyte  \n",
       "IRI4h1_AAAGTAGCAAAGCGGT                                             PEC  \n",
       "IRI4h1_AAATGCCTCAAACCAC                               Connecting tubule  \n",
       "IRI4h1_AAGACCTTCCAGAAGG                                        Podocyte  \n",
       "IRI4h1_ACACCCTTCGGTCTAA                                           Tcell  \n",
       "IRI4h1_ACACTGAAGAGAGCTC                                 Epithelial cell  \n",
       "IRI4h1_AGGGATGGTCAATGTC                                 Urothelial cell  "
      ]
     },
     "execution_count": 26,
     "metadata": {},
     "output_type": "execute_result"
    }
   ],
   "source": [
    "adata.obs[[groupby, \"full_name\"]].drop_duplicates()"
   ]
  },
  {
   "cell_type": "code",
   "execution_count": null,
   "metadata": {},
   "outputs": [],
   "source": []
  },
  {
   "attachments": {},
   "cell_type": "markdown",
   "metadata": {},
   "source": []
  },
  {
   "cell_type": "code",
   "execution_count": 27,
   "metadata": {},
   "outputs": [],
   "source": [
    "variable_loadings =  li.multi.get_variable_loadings(mdata,\n",
    "                                                    view_separator=':',\n",
    "                                                    pair_separator=\"&\",\n",
    "                                                    variable_separator=\"^\") # get loadings for factor 1\n",
    "variable_loadings.head()\n",
    "variable_loadings['size'] = 3"
   ]
  },
  {
   "cell_type": "code",
   "execution_count": 28,
   "metadata": {},
   "outputs": [],
   "source": [
    "# convert to abs to order\n",
    "variable_loadings['abs_F1'] = np.abs(variable_loadings['Factor1'])"
   ]
  },
  {
   "cell_type": "code",
   "execution_count": 29,
   "metadata": {},
   "outputs": [
    {
     "data": {
      "text/html": [
       "<div>\n",
       "<style scoped>\n",
       "    .dataframe tbody tr th:only-of-type {\n",
       "        vertical-align: middle;\n",
       "    }\n",
       "\n",
       "    .dataframe tbody tr th {\n",
       "        vertical-align: top;\n",
       "    }\n",
       "\n",
       "    .dataframe thead th {\n",
       "        text-align: right;\n",
       "    }\n",
       "</style>\n",
       "<table border=\"1\" class=\"dataframe\">\n",
       "  <thead>\n",
       "    <tr style=\"text-align: right;\">\n",
       "      <th></th>\n",
       "      <th>ligand_complex</th>\n",
       "      <th>receptor_complex</th>\n",
       "      <th>source</th>\n",
       "      <th>target</th>\n",
       "      <th>Factor1</th>\n",
       "      <th>Factor2</th>\n",
       "      <th>Factor3</th>\n",
       "      <th>Factor4</th>\n",
       "      <th>Factor5</th>\n",
       "      <th>size</th>\n",
       "      <th>abs_F1</th>\n",
       "    </tr>\n",
       "  </thead>\n",
       "  <tbody>\n",
       "    <tr>\n",
       "      <th>1827</th>\n",
       "      <td>Slit2</td>\n",
       "      <td>Robo2</td>\n",
       "      <td>CNT</td>\n",
       "      <td>Fib</td>\n",
       "      <td>-3.171660e+00</td>\n",
       "      <td>2.232469e-01</td>\n",
       "      <td>2.771807e-02</td>\n",
       "      <td>2.575472e-01</td>\n",
       "      <td>5.480457e-03</td>\n",
       "      <td>3</td>\n",
       "      <td>3.171660e+00</td>\n",
       "    </tr>\n",
       "    <tr>\n",
       "      <th>2189</th>\n",
       "      <td>Slit2</td>\n",
       "      <td>Robo2</td>\n",
       "      <td>DCT</td>\n",
       "      <td>Fib</td>\n",
       "      <td>-3.145700e+00</td>\n",
       "      <td>9.944637e-01</td>\n",
       "      <td>2.801997e-02</td>\n",
       "      <td>3.552442e-01</td>\n",
       "      <td>-3.127553e-03</td>\n",
       "      <td>3</td>\n",
       "      <td>3.145700e+00</td>\n",
       "    </tr>\n",
       "    <tr>\n",
       "      <th>1015</th>\n",
       "      <td>Slit2</td>\n",
       "      <td>Robo1</td>\n",
       "      <td>DCT-CNT</td>\n",
       "      <td>Uro</td>\n",
       "      <td>-3.137715e+00</td>\n",
       "      <td>-1.707674e+00</td>\n",
       "      <td>2.484156e-02</td>\n",
       "      <td>1.329919e-01</td>\n",
       "      <td>-2.035385e-02</td>\n",
       "      <td>3</td>\n",
       "      <td>3.137715e+00</td>\n",
       "    </tr>\n",
       "    <tr>\n",
       "      <th>880</th>\n",
       "      <td>Slit2</td>\n",
       "      <td>Robo1</td>\n",
       "      <td>DCT</td>\n",
       "      <td>Uro</td>\n",
       "      <td>-3.065370e+00</td>\n",
       "      <td>-3.426198e+00</td>\n",
       "      <td>5.316154e-02</td>\n",
       "      <td>-1.544281e-01</td>\n",
       "      <td>-4.007918e-01</td>\n",
       "      <td>3</td>\n",
       "      <td>3.065370e+00</td>\n",
       "    </tr>\n",
       "    <tr>\n",
       "      <th>1517</th>\n",
       "      <td>Slit2</td>\n",
       "      <td>Robo1</td>\n",
       "      <td>CNT</td>\n",
       "      <td>Uro</td>\n",
       "      <td>-3.063561e+00</td>\n",
       "      <td>-2.986251e+00</td>\n",
       "      <td>1.262222e-01</td>\n",
       "      <td>-2.157707e-02</td>\n",
       "      <td>-2.040984e-03</td>\n",
       "      <td>3</td>\n",
       "      <td>3.063561e+00</td>\n",
       "    </tr>\n",
       "    <tr>\n",
       "      <th>...</th>\n",
       "      <td>...</td>\n",
       "      <td>...</td>\n",
       "      <td>...</td>\n",
       "      <td>...</td>\n",
       "      <td>...</td>\n",
       "      <td>...</td>\n",
       "      <td>...</td>\n",
       "      <td>...</td>\n",
       "      <td>...</td>\n",
       "      <td>...</td>\n",
       "      <td>...</td>\n",
       "    </tr>\n",
       "    <tr>\n",
       "      <th>105</th>\n",
       "      <td>Ncam1</td>\n",
       "      <td>Fgfr2</td>\n",
       "      <td>PEC</td>\n",
       "      <td>PC</td>\n",
       "      <td>1.760351e-08</td>\n",
       "      <td>-7.865487e-07</td>\n",
       "      <td>4.785977e-07</td>\n",
       "      <td>2.283598e-06</td>\n",
       "      <td>2.165554e-04</td>\n",
       "      <td>3</td>\n",
       "      <td>1.760351e-08</td>\n",
       "    </tr>\n",
       "    <tr>\n",
       "      <th>34</th>\n",
       "      <td>Ncam1</td>\n",
       "      <td>Fgfr2</td>\n",
       "      <td>PEC</td>\n",
       "      <td>MTAL</td>\n",
       "      <td>1.297025e-08</td>\n",
       "      <td>5.434666e-08</td>\n",
       "      <td>4.216069e-07</td>\n",
       "      <td>1.393479e-07</td>\n",
       "      <td>2.281348e-06</td>\n",
       "      <td>3</td>\n",
       "      <td>1.297025e-08</td>\n",
       "    </tr>\n",
       "    <tr>\n",
       "      <th>142</th>\n",
       "      <td>Ncam1</td>\n",
       "      <td>Fgfr2</td>\n",
       "      <td>PEC</td>\n",
       "      <td>CNT</td>\n",
       "      <td>-5.904578e-09</td>\n",
       "      <td>2.390934e-09</td>\n",
       "      <td>-3.833425e-10</td>\n",
       "      <td>-1.726687e-09</td>\n",
       "      <td>3.687514e-09</td>\n",
       "      <td>3</td>\n",
       "      <td>5.904578e-09</td>\n",
       "    </tr>\n",
       "    <tr>\n",
       "      <th>380</th>\n",
       "      <td>Ncam1</td>\n",
       "      <td>Fgfr2</td>\n",
       "      <td>PEC</td>\n",
       "      <td>ICA</td>\n",
       "      <td>-3.824532e-09</td>\n",
       "      <td>3.803731e-09</td>\n",
       "      <td>4.252819e-09</td>\n",
       "      <td>-6.738662e-09</td>\n",
       "      <td>1.073922e-07</td>\n",
       "      <td>3</td>\n",
       "      <td>3.824532e-09</td>\n",
       "    </tr>\n",
       "    <tr>\n",
       "      <th>124</th>\n",
       "      <td>Ncam1</td>\n",
       "      <td>Fgfr2</td>\n",
       "      <td>PEC</td>\n",
       "      <td>ICB</td>\n",
       "      <td>-1.857064e-09</td>\n",
       "      <td>5.575137e-09</td>\n",
       "      <td>4.715942e-08</td>\n",
       "      <td>-8.973446e-08</td>\n",
       "      <td>6.721783e-09</td>\n",
       "      <td>3</td>\n",
       "      <td>1.857064e-09</td>\n",
       "    </tr>\n",
       "  </tbody>\n",
       "</table>\n",
       "<p>2699 rows × 11 columns</p>\n",
       "</div>"
      ],
      "text/plain": [
       "     ligand_complex receptor_complex   source target       Factor1  \\\n",
       "1827          Slit2            Robo2      CNT    Fib -3.171660e+00   \n",
       "2189          Slit2            Robo2      DCT    Fib -3.145700e+00   \n",
       "1015          Slit2            Robo1  DCT-CNT    Uro -3.137715e+00   \n",
       "880           Slit2            Robo1      DCT    Uro -3.065370e+00   \n",
       "1517          Slit2            Robo1      CNT    Uro -3.063561e+00   \n",
       "...             ...              ...      ...    ...           ...   \n",
       "105           Ncam1            Fgfr2      PEC     PC  1.760351e-08   \n",
       "34            Ncam1            Fgfr2      PEC   MTAL  1.297025e-08   \n",
       "142           Ncam1            Fgfr2      PEC    CNT -5.904578e-09   \n",
       "380           Ncam1            Fgfr2      PEC    ICA -3.824532e-09   \n",
       "124           Ncam1            Fgfr2      PEC    ICB -1.857064e-09   \n",
       "\n",
       "           Factor2       Factor3       Factor4       Factor5  size  \\\n",
       "1827  2.232469e-01  2.771807e-02  2.575472e-01  5.480457e-03     3   \n",
       "2189  9.944637e-01  2.801997e-02  3.552442e-01 -3.127553e-03     3   \n",
       "1015 -1.707674e+00  2.484156e-02  1.329919e-01 -2.035385e-02     3   \n",
       "880  -3.426198e+00  5.316154e-02 -1.544281e-01 -4.007918e-01     3   \n",
       "1517 -2.986251e+00  1.262222e-01 -2.157707e-02 -2.040984e-03     3   \n",
       "...            ...           ...           ...           ...   ...   \n",
       "105  -7.865487e-07  4.785977e-07  2.283598e-06  2.165554e-04     3   \n",
       "34    5.434666e-08  4.216069e-07  1.393479e-07  2.281348e-06     3   \n",
       "142   2.390934e-09 -3.833425e-10 -1.726687e-09  3.687514e-09     3   \n",
       "380   3.803731e-09  4.252819e-09 -6.738662e-09  1.073922e-07     3   \n",
       "124   5.575137e-09  4.715942e-08 -8.973446e-08  6.721783e-09     3   \n",
       "\n",
       "            abs_F1  \n",
       "1827  3.171660e+00  \n",
       "2189  3.145700e+00  \n",
       "1015  3.137715e+00  \n",
       "880   3.065370e+00  \n",
       "1517  3.063561e+00  \n",
       "...            ...  \n",
       "105   1.760351e-08  \n",
       "34    1.297025e-08  \n",
       "142   5.904578e-09  \n",
       "380   3.824532e-09  \n",
       "124   1.857064e-09  \n",
       "\n",
       "[2699 rows x 11 columns]"
      ]
     },
     "execution_count": 29,
     "metadata": {},
     "output_type": "execute_result"
    }
   ],
   "source": [
    "variable_loadings"
   ]
  },
  {
   "cell_type": "code",
   "execution_count": null,
   "metadata": {},
   "outputs": [],
   "source": []
  },
  {
   "cell_type": "code",
   "execution_count": 30,
   "metadata": {},
   "outputs": [
    {
     "data": {
      "image/png": "[encoded data removed]",
      "text/plain": [
       "<Figure size 800x500 with 7 Axes>"
      ]
     },
     "metadata": {},
     "output_type": "display_data"
    },
    {
     "data": {
      "text/plain": [
       "<ggplot: (8742948821761)>"
      ]
     },
     "execution_count": 30,
     "metadata": {},
     "output_type": "execute_result"
    }
   ],
   "source": [
    "my_plot = li.pl.dotplot(liana_res = variable_loadings,\n",
    "                        size='size',\n",
    "                        colour='Factor1',\n",
    "                        orderby='abs_F1',\n",
    "                        top_n=10,\n",
    "                        source_labels=sources,\n",
    "                        target_labels=targets,\n",
    "                        orderby_ascending=False,\n",
    "                        size_range=(0.1, 5),\n",
    "                        figure_size=(6, 8)\n",
    "                        )\n",
    "# change colour, with mid as white\n",
    "(my_plot + \n",
    " p9.scale_color_gradient2(low='#1f77b4', mid='lightgray', high='#c20019') + \n",
    " p9.theme_bw(base_size=16) +\n",
    " p9.theme(figure_size=(8, 5)) +\n",
    "p9.theme(axis_text_x=p9.element_text(angle=90)) +\n",
    " # remove size from legend\n",
    " p9.guides(size=False)\n",
    ")"
   ]
  },
  {
   "cell_type": "code",
   "execution_count": null,
   "metadata": {},
   "outputs": [],
   "source": []
  },
  {
   "cell_type": "code",
   "execution_count": null,
   "metadata": {},
   "outputs": [],
   "source": []
  },
  {
   "attachments": {},
   "cell_type": "markdown",
   "metadata": {},
   "source": [
    "Pathway enrichment"
   ]
  },
  {
   "cell_type": "code",
   "execution_count": 35,
   "metadata": {},
   "outputs": [],
   "source": [
    "lr_loadings =  li.multi.get_variable_loadings(mdata,\n",
    "                                              view_separator=':',\n",
    "                                              )\n",
    "lr_loadings.set_index('variable', inplace=True)"
   ]
  },
  {
   "cell_type": "code",
   "execution_count": 36,
   "metadata": {},
   "outputs": [],
   "source": [
    "lr_loadings.to_csv(os.path.join(data_dir, 'lr_loadings.csv'))"
   ]
  },
  {
   "cell_type": "code",
   "execution_count": 37,
   "metadata": {},
   "outputs": [
    {
     "data": {
      "text/html": [
       "<div>\n",
       "<style scoped>\n",
       "    .dataframe tbody tr th:only-of-type {\n",
       "        vertical-align: middle;\n",
       "    }\n",
       "\n",
       "    .dataframe tbody tr th {\n",
       "        vertical-align: top;\n",
       "    }\n",
       "\n",
       "    .dataframe thead th {\n",
       "        text-align: right;\n",
       "    }\n",
       "</style>\n",
       "<table border=\"1\" class=\"dataframe\">\n",
       "  <thead>\n",
       "    <tr style=\"text-align: right;\">\n",
       "      <th></th>\n",
       "      <th>source</th>\n",
       "      <th>interaction</th>\n",
       "      <th>weight</th>\n",
       "    </tr>\n",
       "  </thead>\n",
       "  <tbody>\n",
       "    <tr>\n",
       "      <th>1</th>\n",
       "      <td>EGFR</td>\n",
       "      <td>Dll1^Notch1</td>\n",
       "      <td>-1.000584</td>\n",
       "    </tr>\n",
       "    <tr>\n",
       "      <th>31</th>\n",
       "      <td>EGFR</td>\n",
       "      <td>Adam10^Notch1</td>\n",
       "      <td>-0.924934</td>\n",
       "    </tr>\n",
       "    <tr>\n",
       "      <th>37</th>\n",
       "      <td>MAPK</td>\n",
       "      <td>Adam10^Notch1</td>\n",
       "      <td>-0.925038</td>\n",
       "    </tr>\n",
       "    <tr>\n",
       "      <th>58</th>\n",
       "      <td>WNT</td>\n",
       "      <td>Tnf^Notch1</td>\n",
       "      <td>-1.513049</td>\n",
       "    </tr>\n",
       "    <tr>\n",
       "      <th>98</th>\n",
       "      <td>WNT</td>\n",
       "      <td>Adam17^Notch1</td>\n",
       "      <td>-0.951469</td>\n",
       "    </tr>\n",
       "  </tbody>\n",
       "</table>\n",
       "</div>"
      ],
      "text/plain": [
       "   source    interaction    weight\n",
       "1    EGFR    Dll1^Notch1 -1.000584\n",
       "31   EGFR  Adam10^Notch1 -0.924934\n",
       "37   MAPK  Adam10^Notch1 -0.925038\n",
       "58    WNT     Tnf^Notch1 -1.513049\n",
       "98    WNT  Adam17^Notch1 -0.951469"
      ]
     },
     "execution_count": 37,
     "metadata": {},
     "output_type": "execute_result"
    }
   ],
   "source": [
    "# load PROGENy pathways\n",
    "net = dc.get_progeny(organism='Mus musculus', top=5000)\n",
    "# load full list of ligand-receptor pairs\n",
    "lr_pairs = li.resource.select_resource('mouseconsensus')\n",
    "\n",
    "# generate ligand-receptor geneset\n",
    "lr_progeny = li.fun.generate_lr_geneset(lr_pairs, net, lr_separator=\"^\")\n",
    "lr_progeny.head()"
   ]
  },
  {
   "cell_type": "code",
   "execution_count": null,
   "metadata": {},
   "outputs": [],
   "source": []
  },
  {
   "cell_type": "code",
   "execution_count": 34,
   "metadata": {},
   "outputs": [],
   "source": [
    "# NOTE: should instead do enrichment for each view separately?\n",
    "# here, I'm inflating the number of targets per pathway, e.g. it could be that a line is fit between 2 interactions...\n",
    "\n",
    "# pivot views to wide\n",
    "lr_loadings = lr_loadings.pivot(columns='view', values='Factor1')\n"
   ]
  },
  {
   "cell_type": "code",
   "execution_count": null,
   "metadata": {},
   "outputs": [],
   "source": [
    "# replace NaN with 0\n",
    "lr_loadings.replace(np.nan, 0, inplace=True)"
   ]
  },
  {
   "cell_type": "code",
   "execution_count": null,
   "metadata": {},
   "outputs": [],
   "source": []
  },
  {
   "cell_type": "code",
   "execution_count": 38,
   "metadata": {},
   "outputs": [],
   "source": [
    "lr_loadings.reset_index(inplace=True)"
   ]
  },
  {
   "cell_type": "code",
   "execution_count": null,
   "metadata": {},
   "outputs": [],
   "source": []
  },
  {
   "cell_type": "code",
   "execution_count": 43,
   "metadata": {},
   "outputs": [
    {
     "data": {
      "text/plain": [
       "array(['CNT&Fib', 'DCT&Fib', 'DCT-CNT&Uro', 'DCT&Uro', 'CNT&Uro',\n",
       "       'DCT-CNT&Fib', 'CTAL&PEC', 'CNT&Per', 'Pod&Pod', 'ICB&Uro',\n",
       "       'Fib&PEC', 'CTAL&DTL-ATL', 'ICA&Uro', 'Fib&PT', 'EC&PEC', 'PC&PT',\n",
       "       'DTL-ATL&Per', 'Pod&Fib', 'Per&Fib', 'Fib&DTL-ATL', 'Per&Uro',\n",
       "       'PEC&MTAL', 'Fib&Uro', 'PEC&PC', 'MTAL&Uro', 'CTAL&Pod',\n",
       "       'CTAL&Uro', 'CNT&Pod', 'Uro&Pod', 'Fib&Fib', 'DCT&Pod', 'CTAL&Fib',\n",
       "       'DTL-ATL&DTL-ATL', 'PEC&PT', 'Per&Per', 'Fib&Pod', 'DTL-ATL&Uro',\n",
       "       'PEC&CTAL', 'Per&DTL-ATL', 'Uro&DTL-ATL', 'ICA&Fib', 'ICB&Fib',\n",
       "       'PEC&Uro', 'CNT&DTL-ATL', 'PEC&DTL-ATL', 'MTAL&Fib', 'EC&Per',\n",
       "       'DTL-ATL&PEC', 'Uro&PC', 'PEC&ICB', 'DTL-ATL&Fib', 'Pod&Per',\n",
       "       'PEC&Fib', 'Uro&EC', 'DCT-CNT&Pod', 'Uro&Uro', 'CNT&PT',\n",
       "       'DCT-CNT&PEC', 'EC&Fib', 'CNT&PEC', 'Uro&PEC', 'Pod&PT', 'PC&Fib',\n",
       "       'MTAL&Per', 'PC&Uro', 'Fib&Per', 'Uro&MTAL', 'Fib&MTAL', 'Uro&PT',\n",
       "       'PEC&DCT-CNT', 'EC&Uro', 'Uro&CTAL', 'ICA&Pod', 'EC&Pod', 'Pod&EC',\n",
       "       'MTAL&PEC', 'DTL-ATL&PT', 'ICB&PEC', 'Per&PEC', 'PT&Uro',\n",
       "       'PC&DTL-ATL', 'CTAL&Per', 'Pod&PEC', 'Pod&MTAL', 'Uro&Per',\n",
       "       'PEC&Per', 'PEC&Pod', 'PC&PEC', 'MTAL&DTL-ATL', 'DCT&Per',\n",
       "       'PEC&PEC', 'PC&Per', 'Pod&Uro', 'Pod&CTAL', 'Per&Pod', 'PC&Pod',\n",
       "       'PT&PT', 'DCT&DTL-ATL', 'PEC&DCT', 'Per&PT', 'DTL-ATL&Pod',\n",
       "       'DCT&PEC', 'PT&Fib', 'Uro&Fib', 'Fib&DCT-CNT', 'Pod&DTL-ATL',\n",
       "       'PEC&CNT', 'PEC&EC', 'PT&PEC', 'ICB&Pod', 'DCT&PT', 'PEC&ICA',\n",
       "       'MTAL&PT', 'CTAL&PT'], dtype=object)"
      ]
     },
     "execution_count": 43,
     "metadata": {},
     "output_type": "execute_result"
    }
   ],
   "source": [
    "lr_loadings['view'].unique()"
   ]
  },
  {
   "cell_type": "code",
   "execution_count": 65,
   "metadata": {},
   "outputs": [],
   "source": [
    "view_enrichments = {}"
   ]
  },
  {
   "cell_type": "code",
   "execution_count": 66,
   "metadata": {},
   "outputs": [
    {
     "name": "stdout",
     "output_type": "stream",
     "text": [
      "Not enough interactions: CNT&Fib\n",
      "Not enough interactions: DCT&Fib\n",
      "Not enough interactions: DCT&Uro\n",
      "Not enough interactions: DCT-CNT&Fib\n",
      "Not enough interactions: CTAL&PEC\n",
      "Not enough interactions: CNT&Per\n",
      "Not enough interactions: Pod&Pod\n",
      "Not enough interactions: CTAL&DTL-ATL\n",
      "Not enough interactions: ICA&Uro\n",
      "Not enough interactions: Fib&PT\n",
      "Not enough interactions: EC&PEC\n",
      "Not enough interactions: PC&PT\n",
      "Not enough interactions: DTL-ATL&Per\n",
      "Not enough interactions: Pod&Fib\n",
      "Not enough interactions: Per&Uro\n",
      "Not enough interactions: PEC&PC\n",
      "Not enough interactions: CTAL&Pod\n",
      "Not enough interactions: CNT&Pod\n",
      "Not enough interactions: Uro&Pod\n",
      "Not enough interactions: DCT&Pod\n",
      "Not enough interactions: CTAL&Fib\n",
      "Not enough interactions: DTL-ATL&DTL-ATL\n",
      "Not enough interactions: PEC&PT\n",
      "Not enough interactions: PEC&CTAL\n",
      "Not enough interactions: Per&DTL-ATL\n",
      "Not enough interactions: Uro&DTL-ATL\n",
      "Not enough interactions: CNT&DTL-ATL\n",
      "Not enough interactions: MTAL&Fib\n",
      "Not enough interactions: EC&Per\n",
      "Not enough interactions: DTL-ATL&PEC\n",
      "Not enough interactions: Uro&PC\n",
      "Not enough interactions: PEC&ICB\n",
      "Not enough interactions: DTL-ATL&Fib\n",
      "Not enough interactions: Pod&Per\n",
      "Not enough interactions: Uro&EC\n",
      "Not enough interactions: DCT-CNT&Pod\n",
      "Not enough interactions: CNT&PT\n",
      "Not enough interactions: EC&Fib\n",
      "Not enough interactions: CNT&PEC\n",
      "Not enough interactions: Pod&PT\n",
      "Not enough interactions: PC&Fib\n",
      "Not enough interactions: MTAL&Per\n",
      "Not enough interactions: Uro&MTAL\n",
      "Not enough interactions: Fib&MTAL\n",
      "Not enough interactions: Uro&PT\n",
      "Not enough interactions: PEC&DCT-CNT\n",
      "Not enough interactions: EC&Uro\n",
      "Not enough interactions: Uro&CTAL\n",
      "Not enough interactions: ICA&Pod\n",
      "Not enough interactions: EC&Pod\n",
      "Not enough interactions: Pod&EC\n",
      "Not enough interactions: MTAL&PEC\n",
      "Not enough interactions: DTL-ATL&PT\n",
      "Not enough interactions: ICB&PEC\n",
      "Not enough interactions: Per&PEC\n",
      "Not enough interactions: PC&DTL-ATL\n",
      "Not enough interactions: CTAL&Per\n",
      "Not enough interactions: Pod&MTAL\n",
      "Not enough interactions: Uro&Per\n",
      "Not enough interactions: PC&PEC\n",
      "Not enough interactions: MTAL&DTL-ATL\n",
      "Not enough interactions: DCT&Per\n",
      "Not enough interactions: PC&Per\n",
      "Not enough interactions: Pod&CTAL\n",
      "Not enough interactions: Per&Pod\n",
      "Not enough interactions: PC&Pod\n",
      "Not enough interactions: PT&PT\n",
      "Not enough interactions: DCT&DTL-ATL\n",
      "Not enough interactions: PEC&DCT\n",
      "Not enough interactions: Per&PT\n",
      "Not enough interactions: DTL-ATL&Pod\n",
      "Not enough interactions: DCT&PEC\n",
      "Not enough interactions: PT&Fib\n",
      "Not enough interactions: Uro&Fib\n",
      "Not enough interactions: Fib&DCT-CNT\n",
      "Not enough interactions: Pod&DTL-ATL\n",
      "Not enough interactions: PEC&CNT\n",
      "Not enough interactions: PEC&EC\n",
      "Not enough interactions: ICB&Pod\n",
      "Not enough interactions: DCT&PT\n",
      "Not enough interactions: PEC&ICA\n",
      "Not enough interactions: MTAL&PT\n",
      "Not enough interactions: CTAL&PT\n"
     ]
    }
   ],
   "source": [
    "for view in lr_loadings['view'].unique():\n",
    "    mat = lr_loadings.loc[lr_loadings['view']==view, ['variable','Factor1']].set_index(\"variable\").transpose()\n",
    "    try:\n",
    "        \n",
    "        estimate, _ = dc.run_ulm(mat, lr_progeny,\n",
    "                   source=\"source\", target=\"interaction\",\n",
    "                   use_raw=False, min_n=5)\n",
    "        view_enrichments[view] = estimate\n",
    "    except:\n",
    "        print(\"Not enough interactions:\", view)\n",
    "        continue\n"
   ]
  },
  {
   "cell_type": "code",
   "execution_count": null,
   "metadata": {},
   "outputs": [],
   "source": []
  },
  {
   "cell_type": "code",
   "execution_count": null,
   "metadata": {},
   "outputs": [],
   "source": [
    "# run pathway enrichment analysis\n",
    "estimate, pvals =  dc.run_ulm(lr_loadings.transpose(), lr_progeny,\n",
    "                              source=\"source\", target=\"interaction\",\n",
    "                              use_raw=False, min_n=5)\n",
    "# pivot columns to long\n",
    "estimate = (estimate.\n",
    "            melt(ignore_index=False, value_name='estimate', var_name='pathway').\n",
    "            reset_index().\n",
    "            rename(columns={'index':'view'})\n",
    "            )\n"
   ]
  },
  {
   "cell_type": "code",
   "execution_count": null,
   "metadata": {},
   "outputs": [],
   "source": [
    "# estimate[['source', 'target']] = estimate['view'].str.split('&', 1, expand=True)\n",
    "# # source in sources, and target in targets\n",
    "# estimate = estimate[(estimate['source'].isin(sources)) & (estimate['target'].isin(targets))]"
   ]
  },
  {
   "cell_type": "code",
   "execution_count": null,
   "metadata": {},
   "outputs": [],
   "source": [
    "estimate.loc[estimate['estimate'] > 5, \"estimate\"]=5 \n",
    "estimate.loc[estimate['estimate'] < -5, \"estimate\"]=-5"
   ]
  },
  {
   "cell_type": "code",
   "execution_count": null,
   "metadata": {},
   "outputs": [],
   "source": [
    "## p9 tile plot\n",
    "(p9.ggplot(estimate) +\n",
    " p9.aes(x='pathway', y='view') +\n",
    " p9.geom_tile(p9.aes(fill='estimate')) +\n",
    " p9.scale_fill_gradient2(low='#1f77b4', high='#c20019') +\n",
    " p9.theme_bw(base_size=14) +\n",
    " p9.theme(figure_size=(10, 20))\n",
    " # max fill value = 5\n",
    ")\n"
   ]
  },
  {
   "cell_type": "code",
   "execution_count": null,
   "metadata": {},
   "outputs": [],
   "source": []
  },
  {
   "attachments": {},
   "cell_type": "markdown",
   "metadata": {},
   "source": [
    "Explore loadings x PROGENy, for a specific view"
   ]
  },
  {
   "cell_type": "code",
   "execution_count": null,
   "metadata": {},
   "outputs": [],
   "source": [
    "factor1_rsq.sort_values(\"R2\", ascending=False).head(10)"
   ]
  },
  {
   "cell_type": "code",
   "execution_count": null,
   "metadata": {},
   "outputs": [],
   "source": [
    "# pivot to long\n",
    "lr_loadings = lr_loadings.melt(ignore_index=False, value_name='loading', var_name='view').reset_index()"
   ]
  },
  {
   "cell_type": "code",
   "execution_count": null,
   "metadata": {},
   "outputs": [],
   "source": [
    "lr_loadings.rename(columns={'variable':'interaction'}, inplace=True)"
   ]
  },
  {
   "cell_type": "code",
   "execution_count": null,
   "metadata": {},
   "outputs": [],
   "source": [
    "lr_loadings"
   ]
  },
  {
   "cell_type": "code",
   "execution_count": null,
   "metadata": {},
   "outputs": [],
   "source": [
    "lr_loadings = lr_loadings.merge(lr_progeny.rename(columns={\"source\":\"pathway\"}), left_on='interaction', right_on='interaction', how='left').dropna()"
   ]
  },
  {
   "cell_type": "code",
   "execution_count": null,
   "metadata": {},
   "outputs": [],
   "source": [
    "lr_loadings['sign'] = lr_loadings['weight'].apply(lambda x: 'positive' if x > 0 else 'negative')"
   ]
  },
  {
   "cell_type": "code",
   "execution_count": null,
   "metadata": {},
   "outputs": [],
   "source": [
    "lr_loadings['relevant_interactions'] = lr_loadings.apply(lambda x: x['interaction'] if (np.abs(x['loading']) > 0) and (np.abs(x['weight']) >= 0.5) else None, axis=1)"
   ]
  },
  {
   "cell_type": "code",
   "execution_count": null,
   "metadata": {},
   "outputs": [],
   "source": [
    "### plot fibpod, weight on x, estimate on y"
   ]
  },
  {
   "cell_type": "code",
   "execution_count": null,
   "metadata": {},
   "outputs": [],
   "source": [
    "selected_pathway = 'NFkB'\n",
    "selected_view = 'Fib&PT'\n"
   ]
  },
  {
   "cell_type": "code",
   "execution_count": null,
   "metadata": {},
   "outputs": [],
   "source": [
    "data = lr_loadings[(lr_loadings['pathway']==selected_pathway) & (lr_loadings['view']==selected_view)].copy()"
   ]
  },
  {
   "cell_type": "code",
   "execution_count": null,
   "metadata": {},
   "outputs": [],
   "source": [
    "data.sort_values('relevant_interactions', ascending=False)"
   ]
  },
  {
   "cell_type": "code",
   "execution_count": null,
   "metadata": {},
   "outputs": [],
   "source": [
    "estimate[estimate['view']==selected_view]"
   ]
  },
  {
   "cell_type": "code",
   "execution_count": null,
   "metadata": {},
   "outputs": [],
   "source": [
    "\n",
    "(\n",
    "    p9.ggplot(data) +\n",
    "    p9.aes(x='weight', y='loading') +\n",
    "    p9.geom_point(p9.aes( colour='sign')) +\n",
    "    p9.theme(legend_position='none') +\n",
    "    p9.labs(title=\"{} | {}\".format(selected_pathway, selected_view), x=\"PROGENy Weights\", y=\"Loadings\") +\n",
    "    p9.geom_smooth(method='lm') +\n",
    "    p9.theme_bw(base_size=14) +\n",
    "    p9.scale_colour_manual(values=[\"royalblue\", \"red\"]) +\n",
    "    p9.geom_label(p9.aes(label='relevant_interactions'), size=10, nudge_y=0.01, nudge_x=0.01) +\n",
    "    # p9.xlim(-2, 6.5) +\n",
    "    p9.guides(colour=False)\n",
    "    \n",
    ")"
   ]
  },
  {
   "cell_type": "code",
   "execution_count": null,
   "metadata": {},
   "outputs": [],
   "source": []
  },
  {
   "cell_type": "code",
   "execution_count": null,
   "metadata": {},
   "outputs": [],
   "source": [
    "estimate.sort_values(\"estimate\")"
   ]
  },
  {
   "cell_type": "code",
   "execution_count": null,
   "metadata": {},
   "outputs": [],
   "source": []
  },
  {
   "cell_type": "code",
   "execution_count": null,
   "metadata": {},
   "outputs": [],
   "source": []
  },
  {
   "cell_type": "code",
   "execution_count": null,
   "metadata": {},
   "outputs": [],
   "source": []
  },
  {
   "attachments": {},
   "cell_type": "markdown",
   "metadata": {},
   "source": [
    "MSigDB"
   ]
  },
  {
   "cell_type": "code",
   "execution_count": null,
   "metadata": {},
   "outputs": [],
   "source": [
    "msigdb = dc.get_resource('MSigDB')\n",
    "# Filter by hallmark\n",
    "msigdb = msigdb[msigdb['collection']=='hallmark']\n",
    "\n",
    "# Remove duplicated entries\n",
    "msigdb = msigdb[~msigdb.duplicated(['geneset', 'genesymbol'])]\n",
    "\n",
    "# Rename\n",
    "msigdb.loc[:, 'geneset'] = [name.split('HALLMARK_')[1] for name in msigdb['geneset']]"
   ]
  },
  {
   "cell_type": "code",
   "execution_count": null,
   "metadata": {},
   "outputs": [],
   "source": [
    "msigdb = dc.translate_net(msigdb, 'genesymbol')"
   ]
  },
  {
   "cell_type": "code",
   "execution_count": null,
   "metadata": {},
   "outputs": [],
   "source": [
    "msigdb.head()"
   ]
  },
  {
   "cell_type": "code",
   "execution_count": null,
   "metadata": {},
   "outputs": [],
   "source": []
  },
  {
   "cell_type": "code",
   "execution_count": null,
   "metadata": {},
   "outputs": [],
   "source": [
    "# generate ligand-receptor geneset\n",
    "lr_msigdb = li.fun.generate_lr_geneset(lr_pairs, msigdb, lr_separator=\"^\", weight=None, source='geneset', target='genesymbol')\n",
    "lr_msigdb.head()"
   ]
  },
  {
   "cell_type": "code",
   "execution_count": null,
   "metadata": {},
   "outputs": [],
   "source": []
  },
  {
   "cell_type": "code",
   "execution_count": null,
   "metadata": {},
   "outputs": [],
   "source": []
  },
  {
   "cell_type": "code",
   "execution_count": null,
   "metadata": {},
   "outputs": [],
   "source": []
  },
  {
   "cell_type": "code",
   "execution_count": null,
   "metadata": {},
   "outputs": [],
   "source": []
  },
  {
   "cell_type": "code",
   "execution_count": null,
   "metadata": {},
   "outputs": [],
   "source": [
    "# run pathway enrichment analysis\n",
    "estimate, pvals =  dc.run_ulm(lr_loadings.transpose(), lr_msigdb,\n",
    "                              source=\"geneset\", target=\"interaction\",\n",
    "                              use_raw=False, min_n=5)\n",
    "# pivot columns to long\n",
    "estimate = (estimate.\n",
    "            melt(ignore_index=False, value_name='estimate', var_name='pathway').\n",
    "            reset_index().\n",
    "            rename(columns={'index':'view'})\n",
    "            )"
   ]
  },
  {
   "cell_type": "code",
   "execution_count": null,
   "metadata": {},
   "outputs": [],
   "source": [
    "## p9 tile plot\n",
    "(p9.ggplot(estimate) +\n",
    " p9.aes(x='pathway', y='view') +\n",
    " p9.geom_tile(p9.aes(fill='estimate')) +\n",
    " p9.scale_fill_gradient2(low='#1f77b4', high='#c20019') +\n",
    " p9.theme_bw(base_size=14) +\n",
    " p9.theme(figure_size=(10, 20))\n",
    ")\n"
   ]
  },
  {
   "cell_type": "code",
   "execution_count": null,
   "metadata": {},
   "outputs": [],
   "source": []
  },
  {
   "cell_type": "code",
   "execution_count": null,
   "metadata": {},
   "outputs": [],
   "source": []
  },
  {
   "cell_type": "code",
   "execution_count": null,
   "metadata": {},
   "outputs": [],
   "source": [
    "model.close()"
   ]
  },
  {
   "cell_type": "code",
   "execution_count": null,
   "metadata": {},
   "outputs": [],
   "source": []
  }
 ],
 "metadata": {
  "kernelspec": {
   "display_name": "spiana",
   "language": "python",
   "name": "spiana"
  },
  "language_info": {
   "codemirror_mode": {
    "name": "ipython",
    "version": 3
   },
   "file_extension": ".py",
   "mimetype": "text/x-python",
   "name": "python",
   "nbconvert_exporter": "python",
   "pygments_lexer": "ipython3",
   "version": "3.10.10"
  },
  "orig_nbformat": 4,
  "vscode": {
   "interpreter": {
    "hash": "f9f85f796d01129d0dd105a088854619f454435301f6ffec2fea96ecbd9be4ac"
   }
  }
 },
 "nbformat": 4,
 "nbformat_minor": 2
}
