{
 "cells": [
  {
   "attachments": {},
   "cell_type": "markdown",
   "metadata": {},
   "source": [
    "# Process Velmeshev et al."
   ]
  },
  {
   "attachments": {},
   "cell_type": "markdown",
   "metadata": {},
   "source": [
    "## Set up Env"
   ]
  },
  {
   "cell_type": "code",
   "execution_count": 2,
   "metadata": {},
   "outputs": [],
   "source": [
    "import os\n",
    "import pandas as pd\n",
    "import numpy as np\n",
    "import scanpy as sc\n",
    "from scipy.sparse import csr_matrix"
   ]
  },
  {
   "cell_type": "code",
   "execution_count": 3,
   "metadata": {},
   "outputs": [],
   "source": [
    "import liana as li"
   ]
  },
  {
   "cell_type": "code",
   "execution_count": 4,
   "metadata": {},
   "outputs": [],
   "source": [
    "from prep_utils import filter_samples, filter_celltypes"
   ]
  },
  {
   "cell_type": "code",
   "execution_count": 5,
   "metadata": {},
   "outputs": [],
   "source": [
    "dataset = 'velmeshev'\n",
    "groupby = 'cluster'\n",
    "sample_key = 'sample'\n",
    "condition_key = 'diagnosis'\n",
    "batch_key = 'sex'\n",
    "\n",
    "min_cells_per_sample = 700\n",
    "sample_zcounts_max = 3\n",
    "sample_zcounts_min = -2\n",
    "\n",
    "# set filtering parameters\n",
    "min_cells = 10 # min number of cells per cell type\n",
    "min_samples = 5 # min number of samples that pass the threshold per cell type"
   ]
  },
  {
   "cell_type": "code",
   "execution_count": null,
   "metadata": {},
   "outputs": [],
   "source": []
  },
  {
   "attachments": {},
   "cell_type": "markdown",
   "metadata": {},
   "source": [
    "## Preprocess"
   ]
  },
  {
   "attachments": {},
   "cell_type": "markdown",
   "metadata": {},
   "source": [
    "### Load data"
   ]
  },
  {
   "cell_type": "code",
   "execution_count": null,
   "metadata": {},
   "outputs": [],
   "source": [
    "adata = sc.read_h5ad(os.path.join('data', f\"{dataset}.h5ad\"))\n",
    "adata"
   ]
  },
  {
   "cell_type": "code",
   "execution_count": null,
   "metadata": {},
   "outputs": [],
   "source": [
    "adata.obs[['sample', 'individual', 'diagnosis']].drop_duplicates().nunique()"
   ]
  },
  {
   "cell_type": "code",
   "execution_count": null,
   "metadata": {},
   "outputs": [],
   "source": []
  },
  {
   "cell_type": "code",
   "execution_count": null,
   "metadata": {},
   "outputs": [],
   "source": [
    "## subsample\n",
    "adata = sc.pp.subsample(adata, fraction=0.1, copy=True)"
   ]
  },
  {
   "cell_type": "code",
   "execution_count": null,
   "metadata": {},
   "outputs": [],
   "source": []
  },
  {
   "attachments": {},
   "cell_type": "markdown",
   "metadata": {},
   "source": [
    "### Convert to Genesymbols"
   ]
  },
  {
   "cell_type": "code",
   "execution_count": null,
   "metadata": {},
   "outputs": [],
   "source": [
    "def map_gene_symbols(adata, map_df):\n",
    "    \"\"\"Maps gene symbols from aliases to standard symbols\n",
    "    Genes that map many-to-one are summed.\n",
    "    Genes that map one-to-many are duplicated.\n",
    "    Parameters\n",
    "    ----------\n",
    "    adata : anndata.AnnData\n",
    "    map_df :\n",
    "        dataframe containing gene symbol map with two columns, `gene` and `alias`\n",
    "    Returns\n",
    "    -------\n",
    "    adata : anndata.AnnData\n",
    "    \"\"\"\n",
    "    \n",
    "    import collections\n",
    "    import anndata\n",
    "    import scipy\n",
    "    \n",
    "    var = adata.var.rename_axis(\"alias\", axis=0)[[]]\n",
    "    gene_match_idx = np.isin(var.index, map_df[\"gene\"])\n",
    "    var_gene_match, var = var.loc[gene_match_idx].copy(), var.loc[~gene_match_idx]\n",
    "    alias_match_idx = np.isin(var.index, map_df[\"alias\"])\n",
    "    var_alias_match, var_no_map = (\n",
    "        var.loc[alias_match_idx].copy(),\n",
    "        var.loc[~alias_match_idx].copy(),\n",
    "    )\n",
    "\n",
    "    # fill 'gene' column\n",
    "    var_alias_match = var_alias_match.reset_index().merge(\n",
    "        map_df, on=\"alias\", how=\"left\"\n",
    "    )\n",
    "    var_gene_match[\"gene\"] = var_gene_match.index\n",
    "    var_no_map[\"gene\"] = var_no_map.index\n",
    "\n",
    "    var_dealiased = pd.concat(\n",
    "        [var_gene_match.reset_index(), var_no_map.reset_index(), var_alias_match]\n",
    "    )\n",
    "    duplicate_idx = var_dealiased[\"gene\"].duplicated(keep=False)\n",
    "    var_dealiased_many_to_one, var_dealiased_one_to_any = (\n",
    "        var_dealiased.loc[duplicate_idx],\n",
    "        var_dealiased.loc[~duplicate_idx],\n",
    "    )\n",
    "\n",
    "    adata_one_to_any = adata[:, var_dealiased_one_to_any[\"alias\"]]\n",
    "    adata_one_to_any.var.index = var_dealiased_one_to_any[\"gene\"]\n",
    "\n",
    "    many_to_one_genes = var_dealiased_many_to_one[\"gene\"].unique()\n",
    "    many_to_one_X = []\n",
    "    many_to_one_layers = collections.defaultdict(list)\n",
    "    for gene in var_dealiased_many_to_one[\"gene\"].unique():\n",
    "        gene_aliases = var_dealiased_many_to_one.loc[\n",
    "            var_dealiased_many_to_one[\"gene\"] == gene, \"alias\"\n",
    "        ]\n",
    "        adata_gene = adata[:, gene_aliases]\n",
    "        many_to_one_X.append(scipy.sparse.coo_matrix(adata_gene.X.sum(axis=1)))\n",
    "        for layer_name, layer in adata_gene.layers.items():\n",
    "            many_to_one_layers[layer_name].append(\n",
    "                scipy.sparse.coo_matrix(adata_gene.X.sum(axis=1))\n",
    "            )\n",
    "\n",
    "    return anndata.AnnData(\n",
    "        X=scipy.sparse.hstack([adata_one_to_any.X] + many_to_one_X).tocsr(),\n",
    "        obs=adata.obs,\n",
    "        var=pd.DataFrame(\n",
    "            index=np.concatenate([adata_one_to_any.var.index, many_to_one_genes])\n",
    "        ),\n",
    "        layers={\n",
    "            layer_name: scipy.sparse.hstack(\n",
    "                [adata_one_to_any.layers[layer_name]] + many_to_one_layers[layer_name]\n",
    "            ).tocsr()\n",
    "            for layer_name in adata.layers\n",
    "        },\n",
    "        uns=adata.uns,\n",
    "        obsm=adata.obsm,\n",
    "    )"
   ]
  },
  {
   "cell_type": "code",
   "execution_count": null,
   "metadata": {},
   "outputs": [],
   "source": [
    "def map_gene_symbols(adata, map_df):\n",
    "    \"\"\"Maps gene symbols from aliases to standard symbols\n",
    "    Genes that map many-to-one are summed.\n",
    "    Genes that map one-to-many are duplicated.\n",
    "    Parameters\n",
    "    ----------\n",
    "    adata : anndata.AnnData\n",
    "    map_df :\n",
    "        dataframe containing gene symbol map with two columns, `gene` and `alias`\n",
    "    Returns\n",
    "    -------\n",
    "    adata : anndata.AnnData\n",
    "    \"\"\"\n",
    "    \n",
    "    import collections\n",
    "    import anndata\n",
    "    import scipy\n",
    "    \n",
    "    var = adata.var.rename_axis(\"alias\", axis=0)[[]]\n",
    "    gene_match_idx = np.isin(var.index, map_df[\"gene\"])\n",
    "    var_gene_match, var = var.loc[gene_match_idx].copy(), var.loc[~gene_match_idx]\n",
    "    alias_match_idx = np.isin(var.index, map_df[\"alias\"])\n",
    "    var_alias_match, var_no_map = (\n",
    "        var.loc[alias_match_idx].copy(),\n",
    "        var.loc[~alias_match_idx].copy(),\n",
    "    )\n",
    "\n",
    "    # fill 'gene' column\n",
    "    var_alias_match = var_alias_match.reset_index().merge(\n",
    "        map_df, on=\"alias\", how=\"left\"\n",
    "    )\n",
    "    var_gene_match[\"gene\"] = var_gene_match.index\n",
    "    var_no_map[\"gene\"] = var_no_map.index\n",
    "\n",
    "    var_dealiased = pd.concat(\n",
    "        [var_gene_match.reset_index(), var_no_map.reset_index(), var_alias_match]\n",
    "    )\n",
    "    duplicate_idx = var_dealiased[\"gene\"].duplicated(keep=False)\n",
    "    var_dealiased_many_to_one, var_dealiased_one_to_any = (\n",
    "        var_dealiased.loc[duplicate_idx],\n",
    "        var_dealiased.loc[~duplicate_idx],\n",
    "    )\n",
    "\n",
    "    adata_one_to_any = adata[:, var_dealiased_one_to_any[\"alias\"]]\n",
    "    adata_one_to_any.var.index = var_dealiased_one_to_any[\"gene\"]\n",
    "\n",
    "    many_to_one_genes = var_dealiased_many_to_one[\"gene\"].unique()\n",
    "    many_to_one_X = []\n",
    "    many_to_one_layers = collections.defaultdict(list)\n",
    "    for gene in var_dealiased_many_to_one[\"gene\"].unique():\n",
    "        gene_aliases = var_dealiased_many_to_one.loc[\n",
    "            var_dealiased_many_to_one[\"gene\"] == gene, \"alias\"\n",
    "        ]\n",
    "        adata_gene = adata[:, gene_aliases]\n",
    "        many_to_one_X.append(scipy.sparse.coo_matrix(adata_gene.X.sum(axis=1)))\n",
    "        for layer_name, layer in adata_gene.layers.items():\n",
    "            many_to_one_layers[layer_name].append(\n",
    "                scipy.sparse.coo_matrix(adata_gene.X.sum(axis=1))\n",
    "            )\n",
    "\n",
    "    return anndata.AnnData(\n",
    "        X=scipy.sparse.hstack([adata_one_to_any.X] + many_to_one_X).tocsr(),\n",
    "        obs=adata.obs,\n",
    "        var=pd.DataFrame(\n",
    "            index=np.concatenate([adata_one_to_any.var.index, many_to_one_genes])\n",
    "        ),\n",
    "        layers={\n",
    "            layer_name: scipy.sparse.hstack(\n",
    "                [adata_one_to_any.layers[layer_name]] + many_to_one_layers[layer_name]\n",
    "            ).tocsr()\n",
    "            for layer_name in adata.layers\n",
    "        },\n",
    "        uns=adata.uns,\n",
    "        obsm=adata.obsm,\n",
    "    )"
   ]
  },
  {
   "cell_type": "code",
   "execution_count": null,
   "metadata": {},
   "outputs": [],
   "source": [
    "df = adata.var.reset_index()['index'].str.split('\\\\|', expand=True).rename(columns={0:'ensembl', 1:'genesymbol'})\n",
    "adata.var = df.set_index('ensembl')\n",
    "map_df = df.rename(columns={'ensembl':'alias', 'genesymbol':'gene'})\n",
    "map_df"
   ]
  },
  {
   "cell_type": "code",
   "execution_count": null,
   "metadata": {},
   "outputs": [],
   "source": [
    "adata = map_gene_symbols(adata, map_df)"
   ]
  },
  {
   "cell_type": "code",
   "execution_count": null,
   "metadata": {},
   "outputs": [],
   "source": [
    "adata"
   ]
  },
  {
   "cell_type": "code",
   "execution_count": null,
   "metadata": {},
   "outputs": [],
   "source": []
  },
  {
   "attachments": {},
   "cell_type": "markdown",
   "metadata": {},
   "source": [
    "Filter samples, cell types, and genes"
   ]
  },
  {
   "cell_type": "code",
   "execution_count": null,
   "metadata": {},
   "outputs": [],
   "source": [
    "adata = filter_samples(adata, sample_key, condition_key, min_cells_per_sample, sample_zcounts_max, sample_zcounts_min)"
   ]
  },
  {
   "cell_type": "code",
   "execution_count": null,
   "metadata": {},
   "outputs": [],
   "source": [
    "adata = filter_celltypes(adata=adata, groupby=groupby, sample_key=sample_key, min_cells=min_cells, min_samples=min_samples)"
   ]
  },
  {
   "cell_type": "code",
   "execution_count": null,
   "metadata": {},
   "outputs": [],
   "source": [
    "# Remove genes expressed in few cells, normalize\n",
    "sc.pp.filter_genes(adata, min_cells=30)"
   ]
  },
  {
   "cell_type": "code",
   "execution_count": null,
   "metadata": {},
   "outputs": [],
   "source": []
  },
  {
   "attachments": {},
   "cell_type": "markdown",
   "metadata": {},
   "source": [
    "### Normalize"
   ]
  },
  {
   "cell_type": "code",
   "execution_count": null,
   "metadata": {},
   "outputs": [],
   "source": [
    "sc.pp.normalize_total(adata, target_sum=1e4)\n",
    "sc.pp.log1p(adata)"
   ]
  },
  {
   "cell_type": "code",
   "execution_count": null,
   "metadata": {},
   "outputs": [],
   "source": []
  },
  {
   "attachments": {},
   "cell_type": "markdown",
   "metadata": {},
   "source": [
    "## Run LIANA"
   ]
  },
  {
   "cell_type": "code",
   "execution_count": null,
   "metadata": {},
   "outputs": [],
   "source": [
    "li.mt.rank_aggregate.by_sample(adata, groupby=groupby, use_raw=False, sample_key=sample_key, verbose=True, n_perms=None)"
   ]
  },
  {
   "cell_type": "code",
   "execution_count": null,
   "metadata": {},
   "outputs": [],
   "source": []
  },
  {
   "attachments": {},
   "cell_type": "markdown",
   "metadata": {},
   "source": [
    "### Add Metadata & Write"
   ]
  },
  {
   "cell_type": "code",
   "execution_count": null,
   "metadata": {},
   "outputs": [],
   "source": [
    "adata.uns['sample_key'] = sample_key\n",
    "adata.uns['batch_key'] = batch_key\n",
    "adata.uns['condition_key'] = condition_key"
   ]
  },
  {
   "cell_type": "code",
   "execution_count": null,
   "metadata": {},
   "outputs": [],
   "source": [
    "assert np.isin(['sample_key', 'batch_key', 'condition_key'], adata.uns_keys()).all()"
   ]
  },
  {
   "cell_type": "code",
   "execution_count": null,
   "metadata": {},
   "outputs": [],
   "source": [
    "adata.write_h5ad(os.path.join('data', f\"{dataset}_processed.h5ad\"))"
   ]
  },
  {
   "cell_type": "code",
   "execution_count": null,
   "metadata": {},
   "outputs": [],
   "source": []
  },
  {
   "attachments": {},
   "cell_type": "markdown",
   "metadata": {},
   "source": [
    "## Classify"
   ]
  },
  {
   "cell_type": "code",
   "execution_count": null,
   "metadata": {},
   "outputs": [],
   "source": [
    "from classify_utils import classifier_pipe"
   ]
  },
  {
   "cell_type": "code",
   "execution_count": null,
   "metadata": {},
   "outputs": [],
   "source": [
    "adata = sc.read_h5ad(os.path.join('data', f\"{dataset}_processed.h5ad\"), backed='r')"
   ]
  },
  {
   "cell_type": "code",
   "execution_count": null,
   "metadata": {},
   "outputs": [],
   "source": [
    "classifier_pipe(adata, dataset)"
   ]
  },
  {
   "cell_type": "code",
   "execution_count": null,
   "metadata": {},
   "outputs": [],
   "source": [
    "adata.uns['auc']"
   ]
  },
  {
   "cell_type": "code",
   "execution_count": null,
   "metadata": {},
   "outputs": [],
   "source": []
  }
 ],
 "metadata": {
  "kernelspec": {
   "display_name": "spiana",
   "language": "python",
   "name": "python3"
  },
  "language_info": {
   "codemirror_mode": {
    "name": "ipython",
    "version": 3
   },
   "file_extension": ".py",
   "mimetype": "text/x-python",
   "name": "python",
   "nbconvert_exporter": "python",
   "pygments_lexer": "ipython3",
   "version": "3.10.10"
  },
  "orig_nbformat": 4,
  "vscode": {
   "interpreter": {
    "hash": "b688e7f183144fde965166e58483e32fc6dbc6fc380ccc51d49ef608da0385a8"
   }
  }
 },
 "nbformat": 4,
 "nbformat_minor": 2
}
