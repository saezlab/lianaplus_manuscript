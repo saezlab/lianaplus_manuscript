{
 "cells": [
  {
   "cell_type": "markdown",
   "metadata": {},
   "source": [
    "Need to Generate PK from:\n",
    "CellCall; SignaLink; "
   ]
  },
  {
   "attachments": {},
   "cell_type": "markdown",
   "metadata": {},
   "source": [
    "Read in links from:\n",
    "\n",
    "CellCall: https://github.com/ShellyCoder/cellcall/blob/master/inst/extdata/new_ligand_receptor_TFs.txt\n",
    "\n",
    "stMLnet: https://github.com/SunXQlab/stMLnet/blob/main/data/ex_databases.rda\n",
    "\n",
    "scseqcomm: https://gitlab.com/sysbiobig/scseqcomm/-/tree/master/data"
   ]
  },
  {
   "cell_type": "markdown",
   "metadata": {},
   "source": []
  },
  {
   "attachments": {},
   "cell_type": "markdown",
   "metadata": {},
   "source": [
    "Check rough sizes for these, and make a new database from OmniPath where:\n",
    "\n",
    "source (receptor), target (TF), pathway, database, shortest_path_length (as from OmniPath)"
   ]
  },
  {
   "cell_type": "code",
   "execution_count": 1,
   "metadata": {},
   "outputs": [
    {
     "name": "stderr",
     "output_type": "stream",
     "text": [
      "── \u001b[1mAttaching packages\u001b[22m ─────────────────────────────────────── tidyverse 1.3.2 ──\n",
      "\u001b[32m✔\u001b[39m \u001b[34mggplot2\u001b[39m 3.3.6     \u001b[32m✔\u001b[39m \u001b[34mpurrr  \u001b[39m 0.3.4\n",
      "\u001b[32m✔\u001b[39m \u001b[34mtibble \u001b[39m 3.1.8     \u001b[32m✔\u001b[39m \u001b[34mdplyr  \u001b[39m 1.0.9\n",
      "\u001b[32m✔\u001b[39m \u001b[34mtidyr  \u001b[39m 1.2.0     \u001b[32m✔\u001b[39m \u001b[34mstringr\u001b[39m 1.4.0\n",
      "\u001b[32m✔\u001b[39m \u001b[34mreadr  \u001b[39m 2.1.2     \u001b[32m✔\u001b[39m \u001b[34mforcats\u001b[39m 0.5.1\n",
      "── \u001b[1mConflicts\u001b[22m ────────────────────────────────────────── tidyverse_conflicts() ──\n",
      "\u001b[31m✖\u001b[39m \u001b[34mdplyr\u001b[39m::\u001b[32mfilter()\u001b[39m masks \u001b[34mstats\u001b[39m::filter()\n",
      "\u001b[31m✖\u001b[39m \u001b[34mdplyr\u001b[39m::\u001b[32mlag()\u001b[39m    masks \u001b[34mstats\u001b[39m::lag()\n"
     ]
    }
   ],
   "source": [
    "library(tidyverse)"
   ]
  },
  {
   "cell_type": "code",
   "execution_count": null,
   "metadata": {},
   "outputs": [],
   "source": []
  },
  {
   "attachments": {},
   "cell_type": "markdown",
   "metadata": {},
   "source": [
    "### stmlnet"
   ]
  },
  {
   "cell_type": "code",
   "execution_count": 7,
   "metadata": {},
   "outputs": [],
   "source": [
    "load(\"~/Downloads/ex_databases.rda\")\n",
    "stmlnet <- ex_databases$RecTF.DB"
   ]
  },
  {
   "cell_type": "code",
   "execution_count": 12,
   "metadata": {},
   "outputs": [],
   "source": [
    "stmlnet <- stmlnet %>% select(source, target) %>%\n",
    "    mutate(database='STMLNet')"
   ]
  },
  {
   "cell_type": "code",
   "execution_count": 8,
   "metadata": {},
   "outputs": [
    {
     "data": {
      "text/plain": [
       "    source             target              score          \n",
       " Length:872490      Length:872490      Min.   :0.0000000  \n",
       " Class :character   Class :character   1st Qu.:0.0000009  \n",
       " Mode  :character   Mode  :character   Median :0.0000031  \n",
       "                                       Mean   :0.0000380  \n",
       "                                       3rd Qu.:0.0000140  \n",
       "                                       Max.   :0.3967780  "
      ]
     },
     "metadata": {},
     "output_type": "display_data"
    }
   ],
   "source": [
    "summary(stmlnet)"
   ]
  },
  {
   "cell_type": "code",
   "execution_count": null,
   "metadata": {},
   "outputs": [],
   "source": []
  },
  {
   "attachments": {},
   "cell_type": "markdown",
   "metadata": {},
   "source": [
    "### CellCall"
   ]
  },
  {
   "cell_type": "code",
   "execution_count": 4,
   "metadata": {},
   "outputs": [
    {
     "data": {
      "text/html": [
       "<table class=\"dataframe\">\n",
       "<caption>A data.frame: 6 × 4</caption>\n",
       "<thead>\n",
       "\t<tr><th></th><th scope=col>source</th><th scope=col>target</th><th scope=col>pathway</th><th scope=col>database</th></tr>\n",
       "\t<tr><th></th><th scope=col>&lt;chr&gt;</th><th scope=col>&lt;chr&gt;</th><th scope=col>&lt;chr&gt;</th><th scope=col>&lt;chr&gt;</th></tr>\n",
       "</thead>\n",
       "<tbody>\n",
       "\t<tr><th scope=row>1</th><td>OCLN</td><td>GATA4 </td><td>hsa04530_3,hsa04530_5</td><td>cellcall</td></tr>\n",
       "\t<tr><th scope=row>2</th><td>OCLN</td><td>YBX3  </td><td>hsa04530_2           </td><td>cellcall</td></tr>\n",
       "\t<tr><th scope=row>3</th><td>CCR1</td><td>FOXO3 </td><td>hsa04062_5           </td><td>cellcall</td></tr>\n",
       "\t<tr><th scope=row>4</th><td>CCR1</td><td>IKBKB </td><td>hsa04062_5           </td><td>cellcall</td></tr>\n",
       "\t<tr><th scope=row>5</th><td>CCR1</td><td>NFKB1 </td><td>hsa04062_7           </td><td>cellcall</td></tr>\n",
       "\t<tr><th scope=row>6</th><td>CCR1</td><td>NFKBIA</td><td>hsa04062_6           </td><td>cellcall</td></tr>\n",
       "</tbody>\n",
       "</table>\n"
      ],
      "text/latex": [
       "A data.frame: 6 × 4\n",
       "\\begin{tabular}{r|llll}\n",
       "  & source & target & pathway & database\\\\\n",
       "  & <chr> & <chr> & <chr> & <chr>\\\\\n",
       "\\hline\n",
       "\t1 & OCLN & GATA4  & hsa04530\\_3,hsa04530\\_5 & cellcall\\\\\n",
       "\t2 & OCLN & YBX3   & hsa04530\\_2            & cellcall\\\\\n",
       "\t3 & CCR1 & FOXO3  & hsa04062\\_5            & cellcall\\\\\n",
       "\t4 & CCR1 & IKBKB  & hsa04062\\_5            & cellcall\\\\\n",
       "\t5 & CCR1 & NFKB1  & hsa04062\\_7            & cellcall\\\\\n",
       "\t6 & CCR1 & NFKBIA & hsa04062\\_6            & cellcall\\\\\n",
       "\\end{tabular}\n"
      ],
      "text/markdown": [
       "\n",
       "A data.frame: 6 × 4\n",
       "\n",
       "| <!--/--> | source &lt;chr&gt; | target &lt;chr&gt; | pathway &lt;chr&gt; | database &lt;chr&gt; |\n",
       "|---|---|---|---|---|\n",
       "| 1 | OCLN | GATA4  | hsa04530_3,hsa04530_5 | cellcall |\n",
       "| 2 | OCLN | YBX3   | hsa04530_2            | cellcall |\n",
       "| 3 | CCR1 | FOXO3  | hsa04062_5            | cellcall |\n",
       "| 4 | CCR1 | IKBKB  | hsa04062_5            | cellcall |\n",
       "| 5 | CCR1 | NFKB1  | hsa04062_7            | cellcall |\n",
       "| 6 | CCR1 | NFKBIA | hsa04062_6            | cellcall |\n",
       "\n"
      ],
      "text/plain": [
       "  source target pathway               database\n",
       "1 OCLN   GATA4  hsa04530_3,hsa04530_5 cellcall\n",
       "2 OCLN   YBX3   hsa04530_2            cellcall\n",
       "3 CCR1   FOXO3  hsa04062_5            cellcall\n",
       "4 CCR1   IKBKB  hsa04062_5            cellcall\n",
       "5 CCR1   NFKB1  hsa04062_7            cellcall\n",
       "6 CCR1   NFKBIA hsa04062_6            cellcall"
      ]
     },
     "metadata": {},
     "output_type": "display_data"
    }
   ],
   "source": [
    "cellcall <- read.table(url('https://raw.githubusercontent.com/ShellyCoder/cellcall/master/inst/extdata/new_ligand_receptor_TFs.txt'), header = TRUE,  sep = '\t',  stringsAsFactors = FALSE)  %>%\n",
    "    select(source=Receptor_Symbol, target=TF_Symbol, pathway=Pathway) %>% \n",
    "    distinct() %>% \n",
    "    mutate(source = stringr::str_replace_all(source, ',', '_')) %>%\n",
    "    mutate(database='cellcall')\n",
    "head(cellcall)"
   ]
  },
  {
   "cell_type": "code",
   "execution_count": 94,
   "metadata": {},
   "outputs": [
    {
     "data": {
      "text/plain": [
       "    source             target            pathway         \n",
       " Length:3878        Length:3878        Length:3878       \n",
       " Class :character   Class :character   Class :character  \n",
       " Mode  :character   Mode  :character   Mode  :character  "
      ]
     },
     "metadata": {},
     "output_type": "display_data"
    }
   ],
   "source": [
    "summary(cellcall)"
   ]
  },
  {
   "cell_type": "code",
   "execution_count": null,
   "metadata": {},
   "outputs": [],
   "source": []
  },
  {
   "attachments": {},
   "cell_type": "markdown",
   "metadata": {},
   "source": [
    "### scseqcomm"
   ]
  },
  {
   "attachments": {},
   "cell_type": "markdown",
   "metadata": {},
   "source": [
    "#### KEGG"
   ]
  },
  {
   "cell_type": "code",
   "execution_count": 5,
   "metadata": {},
   "outputs": [
    {
     "data": {
      "text/html": [
       "<table class=\"dataframe\">\n",
       "<caption>A data.frame: 6 × 4</caption>\n",
       "<thead>\n",
       "\t<tr><th></th><th scope=col>source</th><th scope=col>target</th><th scope=col>pathway</th><th scope=col>database</th></tr>\n",
       "\t<tr><th></th><th scope=col>&lt;chr&gt;</th><th scope=col>&lt;chr&gt;</th><th scope=col>&lt;chr&gt;</th><th scope=col>&lt;chr&gt;</th></tr>\n",
       "</thead>\n",
       "<tbody>\n",
       "\t<tr><th scope=row>1</th><td>PKM   </td><td>ENO1</td><td>Glycolysis / Gluconeogenesis</td><td>scseqcomm_KEGG</td></tr>\n",
       "\t<tr><th scope=row>2</th><td>ALDOA </td><td>ENO1</td><td>Glycolysis / Gluconeogenesis</td><td>scseqcomm_KEGG</td></tr>\n",
       "\t<tr><th scope=row>3</th><td>GPI   </td><td>ENO1</td><td>Glycolysis / Gluconeogenesis</td><td>scseqcomm_KEGG</td></tr>\n",
       "\t<tr><th scope=row>4</th><td>MINPP1</td><td>ENO1</td><td>Glycolysis / Gluconeogenesis</td><td>scseqcomm_KEGG</td></tr>\n",
       "\t<tr><th scope=row>5</th><td>NPR2  </td><td>NME2</td><td>Purine metabolism           </td><td>scseqcomm_KEGG</td></tr>\n",
       "\t<tr><th scope=row>6</th><td>PKM   </td><td>NME2</td><td>Purine metabolism           </td><td>scseqcomm_KEGG</td></tr>\n",
       "</tbody>\n",
       "</table>\n"
      ],
      "text/latex": [
       "A data.frame: 6 × 4\n",
       "\\begin{tabular}{r|llll}\n",
       "  & source & target & pathway & database\\\\\n",
       "  & <chr> & <chr> & <chr> & <chr>\\\\\n",
       "\\hline\n",
       "\t1 & PKM    & ENO1 & Glycolysis / Gluconeogenesis & scseqcomm\\_KEGG\\\\\n",
       "\t2 & ALDOA  & ENO1 & Glycolysis / Gluconeogenesis & scseqcomm\\_KEGG\\\\\n",
       "\t3 & GPI    & ENO1 & Glycolysis / Gluconeogenesis & scseqcomm\\_KEGG\\\\\n",
       "\t4 & MINPP1 & ENO1 & Glycolysis / Gluconeogenesis & scseqcomm\\_KEGG\\\\\n",
       "\t5 & NPR2   & NME2 & Purine metabolism            & scseqcomm\\_KEGG\\\\\n",
       "\t6 & PKM    & NME2 & Purine metabolism            & scseqcomm\\_KEGG\\\\\n",
       "\\end{tabular}\n"
      ],
      "text/markdown": [
       "\n",
       "A data.frame: 6 × 4\n",
       "\n",
       "| <!--/--> | source &lt;chr&gt; | target &lt;chr&gt; | pathway &lt;chr&gt; | database &lt;chr&gt; |\n",
       "|---|---|---|---|---|\n",
       "| 1 | PKM    | ENO1 | Glycolysis / Gluconeogenesis | scseqcomm_KEGG |\n",
       "| 2 | ALDOA  | ENO1 | Glycolysis / Gluconeogenesis | scseqcomm_KEGG |\n",
       "| 3 | GPI    | ENO1 | Glycolysis / Gluconeogenesis | scseqcomm_KEGG |\n",
       "| 4 | MINPP1 | ENO1 | Glycolysis / Gluconeogenesis | scseqcomm_KEGG |\n",
       "| 5 | NPR2   | NME2 | Purine metabolism            | scseqcomm_KEGG |\n",
       "| 6 | PKM    | NME2 | Purine metabolism            | scseqcomm_KEGG |\n",
       "\n"
      ],
      "text/plain": [
       "  source target pathway                      database      \n",
       "1 PKM    ENO1   Glycolysis / Gluconeogenesis scseqcomm_KEGG\n",
       "2 ALDOA  ENO1   Glycolysis / Gluconeogenesis scseqcomm_KEGG\n",
       "3 GPI    ENO1   Glycolysis / Gluconeogenesis scseqcomm_KEGG\n",
       "4 MINPP1 ENO1   Glycolysis / Gluconeogenesis scseqcomm_KEGG\n",
       "5 NPR2   NME2   Purine metabolism            scseqcomm_KEGG\n",
       "6 PKM    NME2   Purine metabolism            scseqcomm_KEGG"
      ]
     },
     "metadata": {},
     "output_type": "display_data"
    }
   ],
   "source": [
    "load(\"~/Downloads/TF_PPR_KEGG_human.rda\")\n",
    "\n",
    "csc_kegg <- TF_PPR_KEGG_human  %>% \n",
    "    select(source=receptor, target=tf, pathway) %>%\n",
    "    mutate(source = stringr::str_replace_all(source, ',', '_')) %>% \n",
    "    distinct() %>%\n",
    "    mutate(database='scseqcomm_KEGG')\n",
    "head(csc_kegg)"
   ]
  },
  {
   "cell_type": "code",
   "execution_count": 98,
   "metadata": {},
   "outputs": [
    {
     "data": {
      "text/plain": [
       "    source             target            pathway         \n",
       " Length:69300       Length:69300       Length:69300      \n",
       " Class :character   Class :character   Class :character  \n",
       " Mode  :character   Mode  :character   Mode  :character  "
      ]
     },
     "metadata": {},
     "output_type": "display_data"
    }
   ],
   "source": [
    "summary(csc_kegg)"
   ]
  },
  {
   "cell_type": "code",
   "execution_count": null,
   "metadata": {},
   "outputs": [],
   "source": []
  },
  {
   "attachments": {},
   "cell_type": "markdown",
   "metadata": {},
   "source": [
    "#### Reactome"
   ]
  },
  {
   "cell_type": "code",
   "execution_count": 6,
   "metadata": {},
   "outputs": [
    {
     "data": {
      "text/html": [
       "<table class=\"dataframe\">\n",
       "<caption>A data.frame: 6 × 4</caption>\n",
       "<thead>\n",
       "\t<tr><th></th><th scope=col>source</th><th scope=col>target</th><th scope=col>pathway</th><th scope=col>database</th></tr>\n",
       "\t<tr><th></th><th scope=col>&lt;chr&gt;</th><th scope=col>&lt;chr&gt;</th><th scope=col>&lt;chr&gt;</th><th scope=col>&lt;chr&gt;</th></tr>\n",
       "</thead>\n",
       "<tbody>\n",
       "\t<tr><th scope=row>1</th><td>PKM   </td><td>ENO1</td><td>Glycolysis / Gluconeogenesis</td><td>scseqcomm_KEGG</td></tr>\n",
       "\t<tr><th scope=row>2</th><td>ALDOA </td><td>ENO1</td><td>Glycolysis / Gluconeogenesis</td><td>scseqcomm_KEGG</td></tr>\n",
       "\t<tr><th scope=row>3</th><td>GPI   </td><td>ENO1</td><td>Glycolysis / Gluconeogenesis</td><td>scseqcomm_KEGG</td></tr>\n",
       "\t<tr><th scope=row>4</th><td>MINPP1</td><td>ENO1</td><td>Glycolysis / Gluconeogenesis</td><td>scseqcomm_KEGG</td></tr>\n",
       "\t<tr><th scope=row>5</th><td>NPR2  </td><td>NME2</td><td>Purine metabolism           </td><td>scseqcomm_KEGG</td></tr>\n",
       "\t<tr><th scope=row>6</th><td>PKM   </td><td>NME2</td><td>Purine metabolism           </td><td>scseqcomm_KEGG</td></tr>\n",
       "</tbody>\n",
       "</table>\n"
      ],
      "text/latex": [
       "A data.frame: 6 × 4\n",
       "\\begin{tabular}{r|llll}\n",
       "  & source & target & pathway & database\\\\\n",
       "  & <chr> & <chr> & <chr> & <chr>\\\\\n",
       "\\hline\n",
       "\t1 & PKM    & ENO1 & Glycolysis / Gluconeogenesis & scseqcomm\\_KEGG\\\\\n",
       "\t2 & ALDOA  & ENO1 & Glycolysis / Gluconeogenesis & scseqcomm\\_KEGG\\\\\n",
       "\t3 & GPI    & ENO1 & Glycolysis / Gluconeogenesis & scseqcomm\\_KEGG\\\\\n",
       "\t4 & MINPP1 & ENO1 & Glycolysis / Gluconeogenesis & scseqcomm\\_KEGG\\\\\n",
       "\t5 & NPR2   & NME2 & Purine metabolism            & scseqcomm\\_KEGG\\\\\n",
       "\t6 & PKM    & NME2 & Purine metabolism            & scseqcomm\\_KEGG\\\\\n",
       "\\end{tabular}\n"
      ],
      "text/markdown": [
       "\n",
       "A data.frame: 6 × 4\n",
       "\n",
       "| <!--/--> | source &lt;chr&gt; | target &lt;chr&gt; | pathway &lt;chr&gt; | database &lt;chr&gt; |\n",
       "|---|---|---|---|---|\n",
       "| 1 | PKM    | ENO1 | Glycolysis / Gluconeogenesis | scseqcomm_KEGG |\n",
       "| 2 | ALDOA  | ENO1 | Glycolysis / Gluconeogenesis | scseqcomm_KEGG |\n",
       "| 3 | GPI    | ENO1 | Glycolysis / Gluconeogenesis | scseqcomm_KEGG |\n",
       "| 4 | MINPP1 | ENO1 | Glycolysis / Gluconeogenesis | scseqcomm_KEGG |\n",
       "| 5 | NPR2   | NME2 | Purine metabolism            | scseqcomm_KEGG |\n",
       "| 6 | PKM    | NME2 | Purine metabolism            | scseqcomm_KEGG |\n",
       "\n"
      ],
      "text/plain": [
       "  source target pathway                      database      \n",
       "1 PKM    ENO1   Glycolysis / Gluconeogenesis scseqcomm_KEGG\n",
       "2 ALDOA  ENO1   Glycolysis / Gluconeogenesis scseqcomm_KEGG\n",
       "3 GPI    ENO1   Glycolysis / Gluconeogenesis scseqcomm_KEGG\n",
       "4 MINPP1 ENO1   Glycolysis / Gluconeogenesis scseqcomm_KEGG\n",
       "5 NPR2   NME2   Purine metabolism            scseqcomm_KEGG\n",
       "6 PKM    NME2   Purine metabolism            scseqcomm_KEGG"
      ]
     },
     "metadata": {},
     "output_type": "display_data"
    }
   ],
   "source": [
    "load(\"~/Downloads/TF_PPR_REACTOME_human.rda\")\n",
    "scs_reactome <- TF_PPR_REACTOME_human %>% \n",
    "    select(source=receptor, target=tf, pathway) %>%\n",
    "    mutate(source = stringr::str_replace_all(source, ',', '_')) %>% \n",
    "    distinct() %>%\n",
    "    mutate(database='scseqcomm_REACTOME')\n",
    "head(csc_kegg)"
   ]
  },
  {
   "cell_type": "code",
   "execution_count": 102,
   "metadata": {},
   "outputs": [
    {
     "data": {
      "text/plain": [
       "    source             target            pathway         \n",
       " Length:24306       Length:24306       Length:24306      \n",
       " Class :character   Class :character   Class :character  \n",
       " Mode  :character   Mode  :character   Mode  :character  "
      ]
     },
     "metadata": {},
     "output_type": "display_data"
    }
   ],
   "source": [
    "summary(scs_reactome)"
   ]
  },
  {
   "cell_type": "code",
   "execution_count": null,
   "metadata": {},
   "outputs": [],
   "source": []
  },
  {
   "attachments": {},
   "cell_type": "markdown",
   "metadata": {},
   "source": [
    "## Generate Ours"
   ]
  },
  {
   "cell_type": "code",
   "execution_count": 28,
   "metadata": {},
   "outputs": [],
   "source": [
    "import omnipath\n",
    "import liana as li\n",
    "import decoupler as dc"
   ]
  },
  {
   "cell_type": "code",
   "execution_count": 2,
   "metadata": {},
   "outputs": [],
   "source": [
    "pathways = omnipath.requests.Annotations.get(resources=['SignaLink_pathway', 'KEGG-PC', 'SIGNOR', 'NetPath'])"
   ]
  },
  {
   "cell_type": "code",
   "execution_count": 3,
   "metadata": {},
   "outputs": [],
   "source": [
    "pathways['genesymbol'] = pathways['genesymbol'].str.replace('COMPLEX:', '')"
   ]
  },
  {
   "cell_type": "code",
   "execution_count": 4,
   "metadata": {},
   "outputs": [],
   "source": [
    "pathways = pathways[['genesymbol', 'value', 'source']]\n",
    "pathways.rename(columns={'genesymbol': 'target', 'value': 'pathway', 'source': 'database'}, inplace=True)"
   ]
  },
  {
   "cell_type": "code",
   "execution_count": 5,
   "metadata": {},
   "outputs": [
    {
     "data": {
      "text/html": [
       "<div>\n",
       "<style scoped>\n",
       "    .dataframe tbody tr th:only-of-type {\n",
       "        vertical-align: middle;\n",
       "    }\n",
       "\n",
       "    .dataframe tbody tr th {\n",
       "        vertical-align: top;\n",
       "    }\n",
       "\n",
       "    .dataframe thead th {\n",
       "        text-align: right;\n",
       "    }\n",
       "</style>\n",
       "<table border=\"1\" class=\"dataframe\">\n",
       "  <thead>\n",
       "    <tr style=\"text-align: right;\">\n",
       "      <th></th>\n",
       "      <th>target</th>\n",
       "      <th>pathway</th>\n",
       "      <th>database</th>\n",
       "    </tr>\n",
       "  </thead>\n",
       "  <tbody>\n",
       "    <tr>\n",
       "      <th>0</th>\n",
       "      <td>AGER</td>\n",
       "      <td>Advanced glycation end-products (AGE/RAGE)</td>\n",
       "      <td>NetPath</td>\n",
       "    </tr>\n",
       "    <tr>\n",
       "      <th>1</th>\n",
       "      <td>AIFM1</td>\n",
       "      <td>Advanced glycation end-products (AGE/RAGE)</td>\n",
       "      <td>NetPath</td>\n",
       "    </tr>\n",
       "    <tr>\n",
       "      <th>2</th>\n",
       "      <td>AK2</td>\n",
       "      <td>Advanced glycation end-products (AGE/RAGE)</td>\n",
       "      <td>NetPath</td>\n",
       "    </tr>\n",
       "    <tr>\n",
       "      <th>3</th>\n",
       "      <td>AKT1</td>\n",
       "      <td>Interleukin-2 (IL-2)</td>\n",
       "      <td>NetPath</td>\n",
       "    </tr>\n",
       "    <tr>\n",
       "      <th>4</th>\n",
       "      <td>AKT1</td>\n",
       "      <td>Thymic stromal lymphopoietin (TSLP)</td>\n",
       "      <td>NetPath</td>\n",
       "    </tr>\n",
       "    <tr>\n",
       "      <th>...</th>\n",
       "      <td>...</td>\n",
       "      <td>...</td>\n",
       "      <td>...</td>\n",
       "    </tr>\n",
       "    <tr>\n",
       "      <th>17204</th>\n",
       "      <td>ECHS1_HADH</td>\n",
       "      <td>Fatty acid degradation</td>\n",
       "      <td>KEGG-PC</td>\n",
       "    </tr>\n",
       "    <tr>\n",
       "      <th>17205</th>\n",
       "      <td>ECHS1_HADH</td>\n",
       "      <td>Fatty acid elongation</td>\n",
       "      <td>KEGG-PC</td>\n",
       "    </tr>\n",
       "    <tr>\n",
       "      <th>17206</th>\n",
       "      <td>ECHS1_HADH</td>\n",
       "      <td>Metabolic pathways</td>\n",
       "      <td>KEGG-PC</td>\n",
       "    </tr>\n",
       "    <tr>\n",
       "      <th>17207</th>\n",
       "      <td>ECHS1_HADH</td>\n",
       "      <td>Valine, leucine and isoleucine degradation</td>\n",
       "      <td>KEGG-PC</td>\n",
       "    </tr>\n",
       "    <tr>\n",
       "      <th>17208</th>\n",
       "      <td>ECHS1_HADH</td>\n",
       "      <td>Tryptophan metabolism</td>\n",
       "      <td>KEGG-PC</td>\n",
       "    </tr>\n",
       "  </tbody>\n",
       "</table>\n",
       "<p>17209 rows × 3 columns</p>\n",
       "</div>"
      ],
      "text/plain": [
       "           target                                     pathway database\n",
       "0            AGER  Advanced glycation end-products (AGE/RAGE)  NetPath\n",
       "1           AIFM1  Advanced glycation end-products (AGE/RAGE)  NetPath\n",
       "2             AK2  Advanced glycation end-products (AGE/RAGE)  NetPath\n",
       "3            AKT1                        Interleukin-2 (IL-2)  NetPath\n",
       "4            AKT1         Thymic stromal lymphopoietin (TSLP)  NetPath\n",
       "...           ...                                         ...      ...\n",
       "17204  ECHS1_HADH                      Fatty acid degradation  KEGG-PC\n",
       "17205  ECHS1_HADH                       Fatty acid elongation  KEGG-PC\n",
       "17206  ECHS1_HADH                          Metabolic pathways  KEGG-PC\n",
       "17207  ECHS1_HADH  Valine, leucine and isoleucine degradation  KEGG-PC\n",
       "17208  ECHS1_HADH                       Tryptophan metabolism  KEGG-PC\n",
       "\n",
       "[17209 rows x 3 columns]"
      ]
     },
     "execution_count": 5,
     "metadata": {},
     "output_type": "execute_result"
    }
   ],
   "source": [
    "pathways"
   ]
  },
  {
   "cell_type": "code",
   "execution_count": 6,
   "metadata": {},
   "outputs": [
    {
     "name": "stderr",
     "output_type": "stream",
     "text": [
      "/home/dbdimitrov/anaconda3/envs/spiana/lib/python3.10/site-packages/liana/method/sp/_bivariate_funs.py:8: NumbaPerformanceWarning: np.dot() is faster on contiguous arrays, called on (array(float32, 1d, C), array(float32, 1d, A))\n",
      "  dot = np.dot(x * w, y)\n"
     ]
    }
   ],
   "source": [
    "resource = li.resource.select_resource('consensus')"
   ]
  },
  {
   "cell_type": "code",
   "execution_count": 7,
   "metadata": {},
   "outputs": [
    {
     "data": {
      "text/html": [
       "<div>\n",
       "<style scoped>\n",
       "    .dataframe tbody tr th:only-of-type {\n",
       "        vertical-align: middle;\n",
       "    }\n",
       "\n",
       "    .dataframe tbody tr th {\n",
       "        vertical-align: top;\n",
       "    }\n",
       "\n",
       "    .dataframe thead th {\n",
       "        text-align: right;\n",
       "    }\n",
       "</style>\n",
       "<table border=\"1\" class=\"dataframe\">\n",
       "  <thead>\n",
       "    <tr style=\"text-align: right;\">\n",
       "      <th></th>\n",
       "      <th>ligand</th>\n",
       "      <th>receptor</th>\n",
       "    </tr>\n",
       "  </thead>\n",
       "  <tbody>\n",
       "    <tr>\n",
       "      <th>0</th>\n",
       "      <td>LGALS9</td>\n",
       "      <td>PTPRC</td>\n",
       "    </tr>\n",
       "    <tr>\n",
       "      <th>1</th>\n",
       "      <td>LGALS9</td>\n",
       "      <td>MET</td>\n",
       "    </tr>\n",
       "    <tr>\n",
       "      <th>2</th>\n",
       "      <td>LGALS9</td>\n",
       "      <td>CD44</td>\n",
       "    </tr>\n",
       "    <tr>\n",
       "      <th>3</th>\n",
       "      <td>LGALS9</td>\n",
       "      <td>LRP1</td>\n",
       "    </tr>\n",
       "    <tr>\n",
       "      <th>4</th>\n",
       "      <td>LGALS9</td>\n",
       "      <td>CD47</td>\n",
       "    </tr>\n",
       "    <tr>\n",
       "      <th>...</th>\n",
       "      <td>...</td>\n",
       "      <td>...</td>\n",
       "    </tr>\n",
       "    <tr>\n",
       "      <th>4696</th>\n",
       "      <td>BMP2</td>\n",
       "      <td>ACTR2</td>\n",
       "    </tr>\n",
       "    <tr>\n",
       "      <th>4697</th>\n",
       "      <td>BMP15</td>\n",
       "      <td>ACTR2</td>\n",
       "    </tr>\n",
       "    <tr>\n",
       "      <th>4698</th>\n",
       "      <td>CSF1</td>\n",
       "      <td>CSF3R</td>\n",
       "    </tr>\n",
       "    <tr>\n",
       "      <th>4699</th>\n",
       "      <td>IL36G</td>\n",
       "      <td>IFNAR1</td>\n",
       "    </tr>\n",
       "    <tr>\n",
       "      <th>4700</th>\n",
       "      <td>IL36G</td>\n",
       "      <td>IFNAR2</td>\n",
       "    </tr>\n",
       "  </tbody>\n",
       "</table>\n",
       "<p>4701 rows × 2 columns</p>\n",
       "</div>"
      ],
      "text/plain": [
       "      ligand receptor\n",
       "0     LGALS9    PTPRC\n",
       "1     LGALS9      MET\n",
       "2     LGALS9     CD44\n",
       "3     LGALS9     LRP1\n",
       "4     LGALS9     CD47\n",
       "...      ...      ...\n",
       "4696    BMP2    ACTR2\n",
       "4697   BMP15    ACTR2\n",
       "4698    CSF1    CSF3R\n",
       "4699   IL36G   IFNAR1\n",
       "4700   IL36G   IFNAR2\n",
       "\n",
       "[4701 rows x 2 columns]"
      ]
     },
     "execution_count": 7,
     "metadata": {},
     "output_type": "execute_result"
    }
   ],
   "source": [
    "resource"
   ]
  },
  {
   "cell_type": "code",
   "execution_count": 8,
   "metadata": {},
   "outputs": [
    {
     "data": {
      "text/html": [
       "<div>\n",
       "<style scoped>\n",
       "    .dataframe tbody tr th:only-of-type {\n",
       "        vertical-align: middle;\n",
       "    }\n",
       "\n",
       "    .dataframe tbody tr th {\n",
       "        vertical-align: top;\n",
       "    }\n",
       "\n",
       "    .dataframe thead th {\n",
       "        text-align: right;\n",
       "    }\n",
       "</style>\n",
       "<table border=\"1\" class=\"dataframe\">\n",
       "  <thead>\n",
       "    <tr style=\"text-align: right;\">\n",
       "      <th></th>\n",
       "      <th>target</th>\n",
       "      <th>pathway</th>\n",
       "      <th>database</th>\n",
       "    </tr>\n",
       "  </thead>\n",
       "  <tbody>\n",
       "    <tr>\n",
       "      <th>0</th>\n",
       "      <td>AGER</td>\n",
       "      <td>Advanced glycation end-products (AGE/RAGE)</td>\n",
       "      <td>NetPath</td>\n",
       "    </tr>\n",
       "    <tr>\n",
       "      <th>1</th>\n",
       "      <td>AIFM1</td>\n",
       "      <td>Advanced glycation end-products (AGE/RAGE)</td>\n",
       "      <td>NetPath</td>\n",
       "    </tr>\n",
       "    <tr>\n",
       "      <th>2</th>\n",
       "      <td>AK2</td>\n",
       "      <td>Advanced glycation end-products (AGE/RAGE)</td>\n",
       "      <td>NetPath</td>\n",
       "    </tr>\n",
       "    <tr>\n",
       "      <th>3</th>\n",
       "      <td>AKT1</td>\n",
       "      <td>Interleukin-2 (IL-2)</td>\n",
       "      <td>NetPath</td>\n",
       "    </tr>\n",
       "    <tr>\n",
       "      <th>4</th>\n",
       "      <td>AKT1</td>\n",
       "      <td>Thymic stromal lymphopoietin (TSLP)</td>\n",
       "      <td>NetPath</td>\n",
       "    </tr>\n",
       "    <tr>\n",
       "      <th>...</th>\n",
       "      <td>...</td>\n",
       "      <td>...</td>\n",
       "      <td>...</td>\n",
       "    </tr>\n",
       "    <tr>\n",
       "      <th>17204</th>\n",
       "      <td>ECHS1_HADH</td>\n",
       "      <td>Fatty acid degradation</td>\n",
       "      <td>KEGG-PC</td>\n",
       "    </tr>\n",
       "    <tr>\n",
       "      <th>17205</th>\n",
       "      <td>ECHS1_HADH</td>\n",
       "      <td>Fatty acid elongation</td>\n",
       "      <td>KEGG-PC</td>\n",
       "    </tr>\n",
       "    <tr>\n",
       "      <th>17206</th>\n",
       "      <td>ECHS1_HADH</td>\n",
       "      <td>Metabolic pathways</td>\n",
       "      <td>KEGG-PC</td>\n",
       "    </tr>\n",
       "    <tr>\n",
       "      <th>17207</th>\n",
       "      <td>ECHS1_HADH</td>\n",
       "      <td>Valine, leucine and isoleucine degradation</td>\n",
       "      <td>KEGG-PC</td>\n",
       "    </tr>\n",
       "    <tr>\n",
       "      <th>17208</th>\n",
       "      <td>ECHS1_HADH</td>\n",
       "      <td>Tryptophan metabolism</td>\n",
       "      <td>KEGG-PC</td>\n",
       "    </tr>\n",
       "  </tbody>\n",
       "</table>\n",
       "<p>17209 rows × 3 columns</p>\n",
       "</div>"
      ],
      "text/plain": [
       "           target                                     pathway database\n",
       "0            AGER  Advanced glycation end-products (AGE/RAGE)  NetPath\n",
       "1           AIFM1  Advanced glycation end-products (AGE/RAGE)  NetPath\n",
       "2             AK2  Advanced glycation end-products (AGE/RAGE)  NetPath\n",
       "3            AKT1                        Interleukin-2 (IL-2)  NetPath\n",
       "4            AKT1         Thymic stromal lymphopoietin (TSLP)  NetPath\n",
       "...           ...                                         ...      ...\n",
       "17204  ECHS1_HADH                      Fatty acid degradation  KEGG-PC\n",
       "17205  ECHS1_HADH                       Fatty acid elongation  KEGG-PC\n",
       "17206  ECHS1_HADH                          Metabolic pathways  KEGG-PC\n",
       "17207  ECHS1_HADH  Valine, leucine and isoleucine degradation  KEGG-PC\n",
       "17208  ECHS1_HADH                       Tryptophan metabolism  KEGG-PC\n",
       "\n",
       "[17209 rows x 3 columns]"
      ]
     },
     "execution_count": 8,
     "metadata": {},
     "output_type": "execute_result"
    }
   ],
   "source": [
    "pathways"
   ]
  },
  {
   "cell_type": "code",
   "execution_count": 32,
   "metadata": {},
   "outputs": [],
   "source": [
    "# generate an lr geneset\n",
    "lr_net = li.fun.generate_lr_geneset(resource, net=pathways, source='pathway', weight=None)\n",
    "lr_net[['ligand', 'receptor']] = lr_net['interaction'].str.split('^', expand=True)"
   ]
  },
  {
   "cell_type": "code",
   "execution_count": 34,
   "metadata": {},
   "outputs": [
    {
     "data": {
      "text/html": [
       "<div>\n",
       "<style scoped>\n",
       "    .dataframe tbody tr th:only-of-type {\n",
       "        vertical-align: middle;\n",
       "    }\n",
       "\n",
       "    .dataframe tbody tr th {\n",
       "        vertical-align: top;\n",
       "    }\n",
       "\n",
       "    .dataframe thead th {\n",
       "        text-align: right;\n",
       "    }\n",
       "</style>\n",
       "<table border=\"1\" class=\"dataframe\">\n",
       "  <thead>\n",
       "    <tr style=\"text-align: right;\">\n",
       "      <th></th>\n",
       "      <th>pathway</th>\n",
       "      <th>interaction</th>\n",
       "      <th>weight</th>\n",
       "      <th>ligand</th>\n",
       "      <th>receptor</th>\n",
       "    </tr>\n",
       "  </thead>\n",
       "  <tbody>\n",
       "    <tr>\n",
       "      <th>56</th>\n",
       "      <td>Receptor activator of nuclear factor kappa-B l...</td>\n",
       "      <td>TNFSF11^TNFRSF11A</td>\n",
       "      <td>1.0</td>\n",
       "      <td>TNFSF11</td>\n",
       "      <td>TNFRSF11A</td>\n",
       "    </tr>\n",
       "    <tr>\n",
       "      <th>59</th>\n",
       "      <td>TNF-related weak inducer of apoptosis (TWEAK)</td>\n",
       "      <td>TNFSF12^CD163</td>\n",
       "      <td>1.0</td>\n",
       "      <td>TNFSF12</td>\n",
       "      <td>CD163</td>\n",
       "    </tr>\n",
       "    <tr>\n",
       "      <th>63</th>\n",
       "      <td>TNF-related weak inducer of apoptosis (TWEAK)</td>\n",
       "      <td>TNFSF12^TNFRSF12A</td>\n",
       "      <td>1.0</td>\n",
       "      <td>TNFSF12</td>\n",
       "      <td>TNFRSF12A</td>\n",
       "    </tr>\n",
       "    <tr>\n",
       "      <th>67</th>\n",
       "      <td>TGF</td>\n",
       "      <td>BMP7^ACVR1B</td>\n",
       "      <td>1.0</td>\n",
       "      <td>BMP7</td>\n",
       "      <td>ACVR1B</td>\n",
       "    </tr>\n",
       "    <tr>\n",
       "      <th>71</th>\n",
       "      <td>Receptor tyrosine kinase</td>\n",
       "      <td>EFNA1^EPHA3</td>\n",
       "      <td>1.0</td>\n",
       "      <td>EFNA1</td>\n",
       "      <td>EPHA3</td>\n",
       "    </tr>\n",
       "    <tr>\n",
       "      <th>...</th>\n",
       "      <td>...</td>\n",
       "      <td>...</td>\n",
       "      <td>...</td>\n",
       "      <td>...</td>\n",
       "      <td>...</td>\n",
       "    </tr>\n",
       "    <tr>\n",
       "      <th>1440</th>\n",
       "      <td>Mitochondrial Control of Apoptosis</td>\n",
       "      <td>FADD^TRADD</td>\n",
       "      <td>1.0</td>\n",
       "      <td>FADD</td>\n",
       "      <td>TRADD</td>\n",
       "    </tr>\n",
       "    <tr>\n",
       "      <th>1451</th>\n",
       "      <td>NF-KB Canonical</td>\n",
       "      <td>FADD^TRADD</td>\n",
       "      <td>1.0</td>\n",
       "      <td>FADD</td>\n",
       "      <td>TRADD</td>\n",
       "    </tr>\n",
       "    <tr>\n",
       "      <th>1463</th>\n",
       "      <td>SARS-COV APOPTOSIS</td>\n",
       "      <td>FADD^TRADD</td>\n",
       "      <td>1.0</td>\n",
       "      <td>FADD</td>\n",
       "      <td>TRADD</td>\n",
       "    </tr>\n",
       "    <tr>\n",
       "      <th>1474</th>\n",
       "      <td>TNF-alpha Signaling</td>\n",
       "      <td>FADD^TRADD</td>\n",
       "      <td>1.0</td>\n",
       "      <td>FADD</td>\n",
       "      <td>TRADD</td>\n",
       "    </tr>\n",
       "    <tr>\n",
       "      <th>1495</th>\n",
       "      <td>Tumor necrosis factor (TNF) alpha</td>\n",
       "      <td>FADD^TRADD</td>\n",
       "      <td>1.0</td>\n",
       "      <td>FADD</td>\n",
       "      <td>TRADD</td>\n",
       "    </tr>\n",
       "  </tbody>\n",
       "</table>\n",
       "<p>249 rows × 5 columns</p>\n",
       "</div>"
      ],
      "text/plain": [
       "                                                pathway        interaction  \\\n",
       "56    Receptor activator of nuclear factor kappa-B l...  TNFSF11^TNFRSF11A   \n",
       "59        TNF-related weak inducer of apoptosis (TWEAK)      TNFSF12^CD163   \n",
       "63        TNF-related weak inducer of apoptosis (TWEAK)  TNFSF12^TNFRSF12A   \n",
       "67                                                  TGF        BMP7^ACVR1B   \n",
       "71                             Receptor tyrosine kinase        EFNA1^EPHA3   \n",
       "...                                                 ...                ...   \n",
       "1440                 Mitochondrial Control of Apoptosis         FADD^TRADD   \n",
       "1451                                    NF-KB Canonical         FADD^TRADD   \n",
       "1463                                 SARS-COV APOPTOSIS         FADD^TRADD   \n",
       "1474                                TNF-alpha Signaling         FADD^TRADD   \n",
       "1495                  Tumor necrosis factor (TNF) alpha         FADD^TRADD   \n",
       "\n",
       "      weight   ligand   receptor  \n",
       "56       1.0  TNFSF11  TNFRSF11A  \n",
       "59       1.0  TNFSF12      CD163  \n",
       "63       1.0  TNFSF12  TNFRSF12A  \n",
       "67       1.0     BMP7     ACVR1B  \n",
       "71       1.0    EFNA1      EPHA3  \n",
       "...      ...      ...        ...  \n",
       "1440     1.0     FADD      TRADD  \n",
       "1451     1.0     FADD      TRADD  \n",
       "1463     1.0     FADD      TRADD  \n",
       "1474     1.0     FADD      TRADD  \n",
       "1495     1.0     FADD      TRADD  \n",
       "\n",
       "[249 rows x 5 columns]"
      ]
     },
     "execution_count": 34,
     "metadata": {},
     "output_type": "execute_result"
    }
   ],
   "source": [
    "lr_net"
   ]
  },
  {
   "cell_type": "code",
   "execution_count": 30,
   "metadata": {},
   "outputs": [],
   "source": [
    "# import dorothea\n",
    "dorothea = dc.get_dorothea()"
   ]
  },
  {
   "cell_type": "code",
   "execution_count": 35,
   "metadata": {},
   "outputs": [
    {
     "data": {
      "text/html": [
       "<div>\n",
       "<style scoped>\n",
       "    .dataframe tbody tr th:only-of-type {\n",
       "        vertical-align: middle;\n",
       "    }\n",
       "\n",
       "    .dataframe tbody tr th {\n",
       "        vertical-align: top;\n",
       "    }\n",
       "\n",
       "    .dataframe thead th {\n",
       "        text-align: right;\n",
       "    }\n",
       "</style>\n",
       "<table border=\"1\" class=\"dataframe\">\n",
       "  <thead>\n",
       "    <tr style=\"text-align: right;\">\n",
       "      <th></th>\n",
       "      <th>source</th>\n",
       "      <th>confidence</th>\n",
       "      <th>target</th>\n",
       "      <th>weight</th>\n",
       "    </tr>\n",
       "  </thead>\n",
       "  <tbody>\n",
       "    <tr>\n",
       "      <th>0</th>\n",
       "      <td>MYC</td>\n",
       "      <td>A</td>\n",
       "      <td>TERT</td>\n",
       "      <td>1.000000</td>\n",
       "    </tr>\n",
       "    <tr>\n",
       "      <th>1</th>\n",
       "      <td>ETV4</td>\n",
       "      <td>A</td>\n",
       "      <td>TNF</td>\n",
       "      <td>1.000000</td>\n",
       "    </tr>\n",
       "    <tr>\n",
       "      <th>2</th>\n",
       "      <td>ETV4</td>\n",
       "      <td>A</td>\n",
       "      <td>TIMP2</td>\n",
       "      <td>1.000000</td>\n",
       "    </tr>\n",
       "    <tr>\n",
       "      <th>3</th>\n",
       "      <td>ETV4</td>\n",
       "      <td>A</td>\n",
       "      <td>BDKRB1</td>\n",
       "      <td>1.000000</td>\n",
       "    </tr>\n",
       "    <tr>\n",
       "      <th>4</th>\n",
       "      <td>ETV3</td>\n",
       "      <td>A</td>\n",
       "      <td>NFKB1</td>\n",
       "      <td>-1.000000</td>\n",
       "    </tr>\n",
       "    <tr>\n",
       "      <th>...</th>\n",
       "      <td>...</td>\n",
       "      <td>...</td>\n",
       "      <td>...</td>\n",
       "      <td>...</td>\n",
       "    </tr>\n",
       "    <tr>\n",
       "      <th>32270</th>\n",
       "      <td>GATA6</td>\n",
       "      <td>C</td>\n",
       "      <td>BHLHE40</td>\n",
       "      <td>0.333333</td>\n",
       "    </tr>\n",
       "    <tr>\n",
       "      <th>32271</th>\n",
       "      <td>GATA6</td>\n",
       "      <td>C</td>\n",
       "      <td>BCAS3</td>\n",
       "      <td>0.333333</td>\n",
       "    </tr>\n",
       "    <tr>\n",
       "      <th>32272</th>\n",
       "      <td>GATA6</td>\n",
       "      <td>C</td>\n",
       "      <td>BCAR3</td>\n",
       "      <td>0.333333</td>\n",
       "    </tr>\n",
       "    <tr>\n",
       "      <th>32273</th>\n",
       "      <td>GFI1B</td>\n",
       "      <td>C</td>\n",
       "      <td>NEDD4L</td>\n",
       "      <td>0.333333</td>\n",
       "    </tr>\n",
       "    <tr>\n",
       "      <th>32274</th>\n",
       "      <td>ZNF83</td>\n",
       "      <td>C</td>\n",
       "      <td>ZNF331</td>\n",
       "      <td>0.333333</td>\n",
       "    </tr>\n",
       "  </tbody>\n",
       "</table>\n",
       "<p>32275 rows × 4 columns</p>\n",
       "</div>"
      ],
      "text/plain": [
       "      source confidence   target    weight\n",
       "0        MYC          A     TERT  1.000000\n",
       "1       ETV4          A      TNF  1.000000\n",
       "2       ETV4          A    TIMP2  1.000000\n",
       "3       ETV4          A   BDKRB1  1.000000\n",
       "4       ETV3          A    NFKB1 -1.000000\n",
       "...      ...        ...      ...       ...\n",
       "32270  GATA6          C  BHLHE40  0.333333\n",
       "32271  GATA6          C    BCAS3  0.333333\n",
       "32272  GATA6          C    BCAR3  0.333333\n",
       "32273  GFI1B          C   NEDD4L  0.333333\n",
       "32274  ZNF83          C   ZNF331  0.333333\n",
       "\n",
       "[32275 rows x 4 columns]"
      ]
     },
     "execution_count": 35,
     "metadata": {},
     "output_type": "execute_result"
    }
   ],
   "source": [
    "dorothea"
   ]
  },
  {
   "cell_type": "code",
   "execution_count": 37,
   "metadata": {},
   "outputs": [],
   "source": [
    "# check for TF links within each pathway for which we have a ligand-receptor interaction"
   ]
  },
  {
   "cell_type": "code",
   "execution_count": 42,
   "metadata": {},
   "outputs": [],
   "source": [
    "pathway_msk = pathways['pathway'].isin(lr_net['pathway'])\n",
    "tf_msk = pathways['target'].isin(dorothea['source'])\n"
   ]
  },
  {
   "cell_type": "code",
   "execution_count": 44,
   "metadata": {},
   "outputs": [],
   "source": [
    "pathways = pathways[pathway_msk & tf_msk]"
   ]
  },
  {
   "cell_type": "code",
   "execution_count": 48,
   "metadata": {},
   "outputs": [],
   "source": [
    "receptor_tf = lr_net.merge(pathways, on=['pathway'], how='inner')\n",
    "receptor_tf.drop(columns=['interaction', 'weight_y', 'weight_x'], inplace=True)"
   ]
  },
  {
   "cell_type": "code",
   "execution_count": 54,
   "metadata": {},
   "outputs": [
    {
     "data": {
      "text/plain": [
       "array(['Receptor activator of nuclear factor kappa-B ligand (RANKL)',\n",
       "       'TNF-related weak inducer of apoptosis (TWEAK)', 'TGF',\n",
       "       'Receptor tyrosine kinase',\n",
       "       'Epidermal growth factor receptor (EGFR)', 'Hedgehog',\n",
       "       'Alpha6 Beta4 Integrin', 'Multiple sclerosis', 'JAK/STAT',\n",
       "       'SARS-CoV CYTOKINE STORM', 'Leptin Signaling', 'WNT', 'Wnt',\n",
       "       'WNT Signaling', 'Thyroid Hormone Metabolism',\n",
       "       'Thyroid-stimulating hormone (TSH)',\n",
       "       'Follicle-stimulating hormone (FSH)', 'Gastrin',\n",
       "       'Interleukin-1 (IL-1)', 'Brain-derived neurotrophic factor (BDNF)',\n",
       "       'Dopaminergic Synapse', 'Interleukin-2 (IL-2)', 'Sonic Hedgehog',\n",
       "       'COVID-19 Causal Network', 'Mitochondrial Control of Apoptosis',\n",
       "       'TNF-alpha Signaling', 'Tumor necrosis factor (TNF) alpha'],\n",
       "      dtype=object)"
      ]
     },
     "execution_count": 54,
     "metadata": {},
     "output_type": "execute_result"
    }
   ],
   "source": [
    "receptor_tf['pathway'].unique()"
   ]
  },
  {
   "cell_type": "code",
   "execution_count": 57,
   "metadata": {},
   "outputs": [],
   "source": [
    "receptor_tf.to_csv('../../data/receptor_tf.csv', index=False)"
   ]
  },
  {
   "cell_type": "code",
   "execution_count": null,
   "metadata": {},
   "outputs": [],
   "source": []
  }
 ],
 "metadata": {
  "kernelspec": {
   "display_name": "spiana",
   "language": "python",
   "name": "python3"
  },
  "language_info": {
   "codemirror_mode": {
    "name": "ipython",
    "version": 3
   },
   "file_extension": ".py",
   "mimetype": "text/x-python",
   "name": "python",
   "nbconvert_exporter": "python",
   "pygments_lexer": "ipython3",
   "version": "3.10.10"
  },
  "orig_nbformat": 4,
  "vscode": {
   "interpreter": {
    "hash": "b688e7f183144fde965166e58483e32fc6dbc6fc380ccc51d49ef608da0385a8"
   }
  }
 },
 "nbformat": 4,
 "nbformat_minor": 2
}
