{
 "cells": [
  {
   "attachments": {},
   "cell_type": "markdown",
   "metadata": {},
   "source": [
    "# AKI MOFAcell"
   ]
  },
  {
   "cell_type": "code",
   "execution_count": 6,
   "metadata": {},
   "outputs": [],
   "source": [
    "data_dir = \"/home/dbdimitrov/Repos/liana2_manuscript/data/kidney_injury/\""
   ]
  },
  {
   "cell_type": "code",
   "execution_count": 7,
   "metadata": {},
   "outputs": [],
   "source": [
    "# columns of interest\n",
    "sample_key = \"ident\"\n",
    "groupby = \"cell_type\"\n",
    "condition_key = \"Group\""
   ]
  },
  {
   "attachments": {},
   "cell_type": "markdown",
   "metadata": {},
   "source": [
    "### Setup Env"
   ]
  },
  {
   "cell_type": "code",
   "execution_count": 8,
   "metadata": {},
   "outputs": [],
   "source": [
    "import numpy as np\n",
    "import pandas as pd\n",
    "\n",
    "import scanpy as sc"
   ]
  },
  {
   "cell_type": "code",
   "execution_count": 9,
   "metadata": {},
   "outputs": [],
   "source": [
    "import mofax as mofa\n",
    "import muon as mu\n",
    "import mudata\n",
    "import decoupler as dc"
   ]
  },
  {
   "cell_type": "code",
   "execution_count": 23,
   "metadata": {},
   "outputs": [
    {
     "data": {
      "text/plain": [
       "'0.1.9'"
      ]
     },
     "execution_count": 23,
     "metadata": {},
     "output_type": "execute_result"
    }
   ],
   "source": [
    "import liana as li\n",
    "import plotnine as p9\n",
    "li.__version__"
   ]
  },
  {
   "cell_type": "code",
   "execution_count": null,
   "metadata": {},
   "outputs": [],
   "source": []
  },
  {
   "cell_type": "code",
   "execution_count": 14,
   "metadata": {},
   "outputs": [],
   "source": [
    "adata = sc.read_h5ad(data_dir + \"aki_processed.h5ad\")"
   ]
  },
  {
   "cell_type": "code",
   "execution_count": null,
   "metadata": {},
   "outputs": [],
   "source": []
  },
  {
   "attachments": {},
   "cell_type": "markdown",
   "metadata": {},
   "source": [
    "## Run MOFA"
   ]
  },
  {
   "cell_type": "code",
   "execution_count": 15,
   "metadata": {},
   "outputs": [
    {
     "name": "stderr",
     "output_type": "stream",
     "text": [
      "100%|██████████| 18/18 [00:25<00:00,  1.41s/it]\n"
     ]
    }
   ],
   "source": [
    "mdata = li.multi.adata_to_views(adata,\n",
    "                                groupby=groupby,\n",
    "                                sample_key=sample_key,\n",
    "                                obs_keys=[condition_key],\n",
    "                                min_prop=0.05, # min cell prop nnz values (filter features)\n",
    "                                min_smpls=3, # min samples per view (filter features)\n",
    "                                min_cells=25, # min cells per view (filter samples)\n",
    "                                min_counts=100, # min counts per view (filter samples)\n",
    "                                mode='sum', # mode of aggregation\n",
    "                                verbose=True,\n",
    "                                layer='counts'\n",
    "                                )\n"
   ]
  },
  {
   "cell_type": "code",
   "execution_count": 16,
   "metadata": {},
   "outputs": [
    {
     "data": {
      "text/html": [
       "<pre>MuData object with n_obs × n_vars = 24 × 101672\n",
       "  obs:\t&#x27;Group&#x27;\n",
       "  18 modalities\n",
       "    CTAL:\t24 x 5511\n",
       "      layers:\t&#x27;psbulk_props&#x27;\n",
       "    PT:\t24 x 6201\n",
       "      layers:\t&#x27;psbulk_props&#x27;\n",
       "    EC:\t24 x 4479\n",
       "      layers:\t&#x27;psbulk_props&#x27;\n",
       "    DCT:\t24 x 5725\n",
       "      layers:\t&#x27;psbulk_props&#x27;\n",
       "    MTAL:\t24 x 5500\n",
       "      layers:\t&#x27;psbulk_props&#x27;\n",
       "    ICA:\t24 x 6551\n",
       "      layers:\t&#x27;psbulk_props&#x27;\n",
       "    Fib:\t24 x 5959\n",
       "      layers:\t&#x27;psbulk_props&#x27;\n",
       "    DCT-CNT:\t18 x 6337\n",
       "      layers:\t&#x27;psbulk_props&#x27;\n",
       "    MO:\t23 x 5398\n",
       "      layers:\t&#x27;psbulk_props&#x27;\n",
       "    PC:\t24 x 5793\n",
       "      layers:\t&#x27;psbulk_props&#x27;\n",
       "    ICB:\t22 x 6992\n",
       "      layers:\t&#x27;psbulk_props&#x27;\n",
       "    DTL-ATL:\t23 x 6073\n",
       "      layers:\t&#x27;psbulk_props&#x27;\n",
       "    Per:\t5 x 2270\n",
       "      layers:\t&#x27;psbulk_props&#x27;\n",
       "    PEC:\t8 x 5638\n",
       "      layers:\t&#x27;psbulk_props&#x27;\n",
       "    CNT:\t24 x 6023\n",
       "      layers:\t&#x27;psbulk_props&#x27;\n",
       "    Pod:\t15 x 6094\n",
       "      layers:\t&#x27;psbulk_props&#x27;\n",
       "    Tcell:\t9 x 3115\n",
       "      layers:\t&#x27;psbulk_props&#x27;\n",
       "    Uro:\t20 x 8013\n",
       "      layers:\t&#x27;psbulk_props&#x27;</pre>"
      ],
      "text/plain": [
       "MuData object with n_obs × n_vars = 24 × 101672\n",
       "  obs:\t'Group'\n",
       "  18 modalities\n",
       "    CTAL:\t24 x 5511\n",
       "      layers:\t'psbulk_props'\n",
       "    PT:\t24 x 6201\n",
       "      layers:\t'psbulk_props'\n",
       "    EC:\t24 x 4479\n",
       "      layers:\t'psbulk_props'\n",
       "    DCT:\t24 x 5725\n",
       "      layers:\t'psbulk_props'\n",
       "    MTAL:\t24 x 5500\n",
       "      layers:\t'psbulk_props'\n",
       "    ICA:\t24 x 6551\n",
       "      layers:\t'psbulk_props'\n",
       "    Fib:\t24 x 5959\n",
       "      layers:\t'psbulk_props'\n",
       "    DCT-CNT:\t18 x 6337\n",
       "      layers:\t'psbulk_props'\n",
       "    MO:\t23 x 5398\n",
       "      layers:\t'psbulk_props'\n",
       "    PC:\t24 x 5793\n",
       "      layers:\t'psbulk_props'\n",
       "    ICB:\t22 x 6992\n",
       "      layers:\t'psbulk_props'\n",
       "    DTL-ATL:\t23 x 6073\n",
       "      layers:\t'psbulk_props'\n",
       "    Per:\t5 x 2270\n",
       "      layers:\t'psbulk_props'\n",
       "    PEC:\t8 x 5638\n",
       "      layers:\t'psbulk_props'\n",
       "    CNT:\t24 x 6023\n",
       "      layers:\t'psbulk_props'\n",
       "    Pod:\t15 x 6094\n",
       "      layers:\t'psbulk_props'\n",
       "    Tcell:\t9 x 3115\n",
       "      layers:\t'psbulk_props'\n",
       "    Uro:\t20 x 8013\n",
       "      layers:\t'psbulk_props'"
      ]
     },
     "execution_count": 16,
     "metadata": {},
     "output_type": "execute_result"
    }
   ],
   "source": [
    "mdata"
   ]
  },
  {
   "cell_type": "code",
   "execution_count": 17,
   "metadata": {},
   "outputs": [],
   "source": [
    "views = dict()\n",
    "for view in mdata.mod.keys():\n",
    "    # dc.plot_filter_by_expr(mdata.mod[view], min_count=10, min_total_count=200)\n",
    "    keep_genes = dc.filter_by_expr(mdata.mod[view], group=None, min_count=5, min_total_count=20, min_prop=0.1, large_n=0)\n",
    "    mdata.mod[view] = mdata.mod[view][:, keep_genes].copy()\n",
    "    \n",
    "    sc.pp.normalize_total(mdata.mod[view], target_sum=1e4)\n",
    "    sc.pp.log1p(mdata.mod[view])\n",
    "    sc.pp.highly_variable_genes(mdata.mod[view])\n",
    "    \n",
    "    views[view] = mdata.mod[view]"
   ]
  },
  {
   "cell_type": "code",
   "execution_count": 18,
   "metadata": {},
   "outputs": [],
   "source": [
    "obs = mdata.obs\n",
    "# rebuild with re-filtered features\n",
    "mdata = mudata.MuData(views)\n",
    "mdata.obs = obs"
   ]
  },
  {
   "cell_type": "code",
   "execution_count": 19,
   "metadata": {},
   "outputs": [
    {
     "data": {
      "text/html": [
       "<pre>MuData object with n_obs × n_vars = 24 × 91093\n",
       "  obs:\t&#x27;Group&#x27;\n",
       "  var:\t&#x27;highly_variable&#x27;, &#x27;means&#x27;, &#x27;dispersions&#x27;, &#x27;dispersions_norm&#x27;\n",
       "  18 modalities\n",
       "    CTAL:\t24 x 5511\n",
       "      var:\t&#x27;highly_variable&#x27;, &#x27;means&#x27;, &#x27;dispersions&#x27;, &#x27;dispersions_norm&#x27;\n",
       "      uns:\t&#x27;log1p&#x27;, &#x27;hvg&#x27;\n",
       "      layers:\t&#x27;psbulk_props&#x27;\n",
       "    PT:\t24 x 6201\n",
       "      var:\t&#x27;highly_variable&#x27;, &#x27;means&#x27;, &#x27;dispersions&#x27;, &#x27;dispersions_norm&#x27;\n",
       "      uns:\t&#x27;log1p&#x27;, &#x27;hvg&#x27;\n",
       "      layers:\t&#x27;psbulk_props&#x27;\n",
       "    EC:\t24 x 4479\n",
       "      var:\t&#x27;highly_variable&#x27;, &#x27;means&#x27;, &#x27;dispersions&#x27;, &#x27;dispersions_norm&#x27;\n",
       "      uns:\t&#x27;log1p&#x27;, &#x27;hvg&#x27;\n",
       "      layers:\t&#x27;psbulk_props&#x27;\n",
       "    DCT:\t24 x 5725\n",
       "      var:\t&#x27;highly_variable&#x27;, &#x27;means&#x27;, &#x27;dispersions&#x27;, &#x27;dispersions_norm&#x27;\n",
       "      uns:\t&#x27;log1p&#x27;, &#x27;hvg&#x27;\n",
       "      layers:\t&#x27;psbulk_props&#x27;\n",
       "    MTAL:\t24 x 5500\n",
       "      var:\t&#x27;highly_variable&#x27;, &#x27;means&#x27;, &#x27;dispersions&#x27;, &#x27;dispersions_norm&#x27;\n",
       "      uns:\t&#x27;log1p&#x27;, &#x27;hvg&#x27;\n",
       "      layers:\t&#x27;psbulk_props&#x27;\n",
       "    ICA:\t24 x 6328\n",
       "      var:\t&#x27;highly_variable&#x27;, &#x27;means&#x27;, &#x27;dispersions&#x27;, &#x27;dispersions_norm&#x27;\n",
       "      uns:\t&#x27;log1p&#x27;, &#x27;hvg&#x27;\n",
       "      layers:\t&#x27;psbulk_props&#x27;\n",
       "    Fib:\t24 x 5959\n",
       "      var:\t&#x27;highly_variable&#x27;, &#x27;means&#x27;, &#x27;dispersions&#x27;, &#x27;dispersions_norm&#x27;\n",
       "      uns:\t&#x27;log1p&#x27;, &#x27;hvg&#x27;\n",
       "      layers:\t&#x27;psbulk_props&#x27;\n",
       "    DCT-CNT:\t18 x 5964\n",
       "      var:\t&#x27;highly_variable&#x27;, &#x27;means&#x27;, &#x27;dispersions&#x27;, &#x27;dispersions_norm&#x27;\n",
       "      uns:\t&#x27;log1p&#x27;, &#x27;hvg&#x27;\n",
       "      layers:\t&#x27;psbulk_props&#x27;\n",
       "    MO:\t23 x 5210\n",
       "      var:\t&#x27;highly_variable&#x27;, &#x27;means&#x27;, &#x27;dispersions&#x27;, &#x27;dispersions_norm&#x27;\n",
       "      uns:\t&#x27;log1p&#x27;, &#x27;hvg&#x27;\n",
       "      layers:\t&#x27;psbulk_props&#x27;\n",
       "    PC:\t24 x 5793\n",
       "      var:\t&#x27;highly_variable&#x27;, &#x27;means&#x27;, &#x27;dispersions&#x27;, &#x27;dispersions_norm&#x27;\n",
       "      uns:\t&#x27;log1p&#x27;, &#x27;hvg&#x27;\n",
       "      layers:\t&#x27;psbulk_props&#x27;\n",
       "    ICB:\t22 x 6647\n",
       "      var:\t&#x27;highly_variable&#x27;, &#x27;means&#x27;, &#x27;dispersions&#x27;, &#x27;dispersions_norm&#x27;\n",
       "      uns:\t&#x27;log1p&#x27;, &#x27;hvg&#x27;\n",
       "      layers:\t&#x27;psbulk_props&#x27;\n",
       "    DTL-ATL:\t23 x 6073\n",
       "      var:\t&#x27;highly_variable&#x27;, &#x27;means&#x27;, &#x27;dispersions&#x27;, &#x27;dispersions_norm&#x27;\n",
       "      uns:\t&#x27;log1p&#x27;, &#x27;hvg&#x27;\n",
       "      layers:\t&#x27;psbulk_props&#x27;\n",
       "    Per:\t5 x 988\n",
       "      var:\t&#x27;highly_variable&#x27;, &#x27;means&#x27;, &#x27;dispersions&#x27;, &#x27;dispersions_norm&#x27;\n",
       "      uns:\t&#x27;log1p&#x27;, &#x27;hvg&#x27;\n",
       "      layers:\t&#x27;psbulk_props&#x27;\n",
       "    PEC:\t8 x 3326\n",
       "      var:\t&#x27;highly_variable&#x27;, &#x27;means&#x27;, &#x27;dispersions&#x27;, &#x27;dispersions_norm&#x27;\n",
       "      uns:\t&#x27;log1p&#x27;, &#x27;hvg&#x27;\n",
       "      layers:\t&#x27;psbulk_props&#x27;\n",
       "    CNT:\t24 x 6023\n",
       "      var:\t&#x27;highly_variable&#x27;, &#x27;means&#x27;, &#x27;dispersions&#x27;, &#x27;dispersions_norm&#x27;\n",
       "      uns:\t&#x27;log1p&#x27;, &#x27;hvg&#x27;\n",
       "      layers:\t&#x27;psbulk_props&#x27;\n",
       "    Pod:\t15 x 3337\n",
       "      var:\t&#x27;highly_variable&#x27;, &#x27;means&#x27;, &#x27;dispersions&#x27;, &#x27;dispersions_norm&#x27;\n",
       "      uns:\t&#x27;log1p&#x27;, &#x27;hvg&#x27;\n",
       "      layers:\t&#x27;psbulk_props&#x27;\n",
       "    Tcell:\t9 x 1804\n",
       "      var:\t&#x27;highly_variable&#x27;, &#x27;means&#x27;, &#x27;dispersions&#x27;, &#x27;dispersions_norm&#x27;\n",
       "      uns:\t&#x27;log1p&#x27;, &#x27;hvg&#x27;\n",
       "      layers:\t&#x27;psbulk_props&#x27;\n",
       "    Uro:\t20 x 6225\n",
       "      var:\t&#x27;highly_variable&#x27;, &#x27;means&#x27;, &#x27;dispersions&#x27;, &#x27;dispersions_norm&#x27;\n",
       "      uns:\t&#x27;log1p&#x27;, &#x27;hvg&#x27;\n",
       "      layers:\t&#x27;psbulk_props&#x27;</pre>"
      ],
      "text/plain": [
       "MuData object with n_obs × n_vars = 24 × 91093\n",
       "  obs:\t'Group'\n",
       "  var:\t'highly_variable', 'means', 'dispersions', 'dispersions_norm'\n",
       "  18 modalities\n",
       "    CTAL:\t24 x 5511\n",
       "      var:\t'highly_variable', 'means', 'dispersions', 'dispersions_norm'\n",
       "      uns:\t'log1p', 'hvg'\n",
       "      layers:\t'psbulk_props'\n",
       "    PT:\t24 x 6201\n",
       "      var:\t'highly_variable', 'means', 'dispersions', 'dispersions_norm'\n",
       "      uns:\t'log1p', 'hvg'\n",
       "      layers:\t'psbulk_props'\n",
       "    EC:\t24 x 4479\n",
       "      var:\t'highly_variable', 'means', 'dispersions', 'dispersions_norm'\n",
       "      uns:\t'log1p', 'hvg'\n",
       "      layers:\t'psbulk_props'\n",
       "    DCT:\t24 x 5725\n",
       "      var:\t'highly_variable', 'means', 'dispersions', 'dispersions_norm'\n",
       "      uns:\t'log1p', 'hvg'\n",
       "      layers:\t'psbulk_props'\n",
       "    MTAL:\t24 x 5500\n",
       "      var:\t'highly_variable', 'means', 'dispersions', 'dispersions_norm'\n",
       "      uns:\t'log1p', 'hvg'\n",
       "      layers:\t'psbulk_props'\n",
       "    ICA:\t24 x 6328\n",
       "      var:\t'highly_variable', 'means', 'dispersions', 'dispersions_norm'\n",
       "      uns:\t'log1p', 'hvg'\n",
       "      layers:\t'psbulk_props'\n",
       "    Fib:\t24 x 5959\n",
       "      var:\t'highly_variable', 'means', 'dispersions', 'dispersions_norm'\n",
       "      uns:\t'log1p', 'hvg'\n",
       "      layers:\t'psbulk_props'\n",
       "    DCT-CNT:\t18 x 5964\n",
       "      var:\t'highly_variable', 'means', 'dispersions', 'dispersions_norm'\n",
       "      uns:\t'log1p', 'hvg'\n",
       "      layers:\t'psbulk_props'\n",
       "    MO:\t23 x 5210\n",
       "      var:\t'highly_variable', 'means', 'dispersions', 'dispersions_norm'\n",
       "      uns:\t'log1p', 'hvg'\n",
       "      layers:\t'psbulk_props'\n",
       "    PC:\t24 x 5793\n",
       "      var:\t'highly_variable', 'means', 'dispersions', 'dispersions_norm'\n",
       "      uns:\t'log1p', 'hvg'\n",
       "      layers:\t'psbulk_props'\n",
       "    ICB:\t22 x 6647\n",
       "      var:\t'highly_variable', 'means', 'dispersions', 'dispersions_norm'\n",
       "      uns:\t'log1p', 'hvg'\n",
       "      layers:\t'psbulk_props'\n",
       "    DTL-ATL:\t23 x 6073\n",
       "      var:\t'highly_variable', 'means', 'dispersions', 'dispersions_norm'\n",
       "      uns:\t'log1p', 'hvg'\n",
       "      layers:\t'psbulk_props'\n",
       "    Per:\t5 x 988\n",
       "      var:\t'highly_variable', 'means', 'dispersions', 'dispersions_norm'\n",
       "      uns:\t'log1p', 'hvg'\n",
       "      layers:\t'psbulk_props'\n",
       "    PEC:\t8 x 3326\n",
       "      var:\t'highly_variable', 'means', 'dispersions', 'dispersions_norm'\n",
       "      uns:\t'log1p', 'hvg'\n",
       "      layers:\t'psbulk_props'\n",
       "    CNT:\t24 x 6023\n",
       "      var:\t'highly_variable', 'means', 'dispersions', 'dispersions_norm'\n",
       "      uns:\t'log1p', 'hvg'\n",
       "      layers:\t'psbulk_props'\n",
       "    Pod:\t15 x 3337\n",
       "      var:\t'highly_variable', 'means', 'dispersions', 'dispersions_norm'\n",
       "      uns:\t'log1p', 'hvg'\n",
       "      layers:\t'psbulk_props'\n",
       "    Tcell:\t9 x 1804\n",
       "      var:\t'highly_variable', 'means', 'dispersions', 'dispersions_norm'\n",
       "      uns:\t'log1p', 'hvg'\n",
       "      layers:\t'psbulk_props'\n",
       "    Uro:\t20 x 6225\n",
       "      var:\t'highly_variable', 'means', 'dispersions', 'dispersions_norm'\n",
       "      uns:\t'log1p', 'hvg'\n",
       "      layers:\t'psbulk_props'"
      ]
     },
     "execution_count": 19,
     "metadata": {},
     "output_type": "execute_result"
    }
   ],
   "source": [
    "mdata"
   ]
  },
  {
   "cell_type": "code",
   "execution_count": null,
   "metadata": {},
   "outputs": [],
   "source": []
  },
  {
   "cell_type": "code",
   "execution_count": 20,
   "metadata": {},
   "outputs": [
    {
     "name": "stdout",
     "output_type": "stream",
     "text": [
      "\n",
      "        #########################################################\n",
      "        ###           __  __  ____  ______                    ### \n",
      "        ###          |  \\/  |/ __ \\|  ____/\\    _             ### \n",
      "        ###          | \\  / | |  | | |__ /  \\ _| |_           ### \n",
      "        ###          | |\\/| | |  | |  __/ /\\ \\_   _|          ###\n",
      "        ###          | |  | | |__| | | / ____ \\|_|            ###\n",
      "        ###          |_|  |_|\\____/|_|/_/    \\_\\              ###\n",
      "        ###                                                   ### \n",
      "        ######################################################### \n",
      "       \n",
      " \n",
      "        \n",
      "Loaded view='CTAL' group='group1' with N=24 samples and D=1386 features...\n",
      "Loaded view='PT' group='group1' with N=24 samples and D=1537 features...\n",
      "Loaded view='EC' group='group1' with N=24 samples and D=1152 features...\n",
      "Loaded view='DCT' group='group1' with N=24 samples and D=1428 features...\n",
      "Loaded view='MTAL' group='group1' with N=24 samples and D=1406 features...\n",
      "Loaded view='ICA' group='group1' with N=24 samples and D=1535 features...\n",
      "Loaded view='Fib' group='group1' with N=24 samples and D=1543 features...\n",
      "Loaded view='DCT-CNT' group='group1' with N=24 samples and D=1565 features...\n",
      "Loaded view='MO' group='group1' with N=24 samples and D=1416 features...\n",
      "Loaded view='PC' group='group1' with N=24 samples and D=1402 features...\n",
      "Loaded view='ICB' group='group1' with N=24 samples and D=1639 features...\n",
      "Loaded view='DTL-ATL' group='group1' with N=24 samples and D=1469 features...\n",
      "Loaded view='Per' group='group1' with N=24 samples and D=305 features...\n",
      "Loaded view='PEC' group='group1' with N=24 samples and D=944 features...\n",
      "Loaded view='CNT' group='group1' with N=24 samples and D=1429 features...\n",
      "Loaded view='Pod' group='group1' with N=24 samples and D=886 features...\n",
      "Loaded view='Tcell' group='group1' with N=24 samples and D=494 features...\n",
      "Loaded view='Uro' group='group1' with N=24 samples and D=1566 features...\n",
      "\n",
      "\n",
      "Model options:\n",
      "- Automatic Relevance Determination prior on the factors: True\n",
      "- Automatic Relevance Determination prior on the weights: True\n",
      "- Spike-and-slab prior on the factors: False\n",
      "- Spike-and-slab prior on the weights: True\n",
      "Likelihoods:\n",
      "- View 0 (CTAL): gaussian\n",
      "- View 1 (PT): gaussian\n",
      "- View 2 (EC): gaussian\n",
      "- View 3 (DCT): gaussian\n",
      "- View 4 (MTAL): gaussian\n",
      "- View 5 (ICA): gaussian\n",
      "- View 6 (Fib): gaussian\n",
      "- View 7 (DCT-CNT): gaussian\n",
      "- View 8 (MO): gaussian\n",
      "- View 9 (PC): gaussian\n",
      "- View 10 (ICB): gaussian\n",
      "- View 11 (DTL-ATL): gaussian\n",
      "- View 12 (Per): gaussian\n",
      "- View 13 (PEC): gaussian\n",
      "- View 14 (CNT): gaussian\n",
      "- View 15 (Pod): gaussian\n",
      "- View 16 (Tcell): gaussian\n",
      "- View 17 (Uro): gaussian\n",
      "\n",
      "\n",
      "\n",
      "\n",
      "######################################\n",
      "## Training the model with seed 1 ##\n",
      "######################################\n",
      "\n",
      "\n",
      "\n",
      "Converged!\n",
      "\n",
      "\n",
      "\n",
      "#######################\n",
      "## Training finished ##\n",
      "#######################\n",
      "\n",
      "\n",
      "Saving model in models/mofacell.h5ad...\n",
      "Saved MOFA embeddings in .obsm['X_mofa'] slot and their loadings in .varm['LFs'].\n"
     ]
    }
   ],
   "source": [
    "mu.tl.mofa(mdata,\n",
    "           use_obs='union',\n",
    "           convergence_mode='medium',\n",
    "           n_factors=5,\n",
    "           outfile='models/mofacell.h5ad',\n",
    "           use_var='highly_variable'\n",
    "           )"
   ]
  },
  {
   "cell_type": "code",
   "execution_count": 21,
   "metadata": {},
   "outputs": [
    {
     "data": {
      "text/html": [
       "<div>\n",
       "<style scoped>\n",
       "    .dataframe tbody tr th:only-of-type {\n",
       "        vertical-align: middle;\n",
       "    }\n",
       "\n",
       "    .dataframe tbody tr th {\n",
       "        vertical-align: top;\n",
       "    }\n",
       "\n",
       "    .dataframe thead th {\n",
       "        text-align: right;\n",
       "    }\n",
       "</style>\n",
       "<table border=\"1\" class=\"dataframe\">\n",
       "  <thead>\n",
       "    <tr style=\"text-align: right;\">\n",
       "      <th></th>\n",
       "      <th>ident</th>\n",
       "      <th>Factor_1</th>\n",
       "      <th>Factor_2</th>\n",
       "      <th>Factor_3</th>\n",
       "      <th>Factor_4</th>\n",
       "      <th>Factor_5</th>\n",
       "      <th>Group</th>\n",
       "    </tr>\n",
       "  </thead>\n",
       "  <tbody>\n",
       "    <tr>\n",
       "      <th>0</th>\n",
       "      <td>IRI12h1b1</td>\n",
       "      <td>0.821267</td>\n",
       "      <td>-0.094196</td>\n",
       "      <td>-0.150675</td>\n",
       "      <td>0.037851</td>\n",
       "      <td>-0.015987</td>\n",
       "      <td>12hours</td>\n",
       "    </tr>\n",
       "    <tr>\n",
       "      <th>1</th>\n",
       "      <td>IRI12h1b2</td>\n",
       "      <td>0.811562</td>\n",
       "      <td>-0.035932</td>\n",
       "      <td>-0.139970</td>\n",
       "      <td>0.058585</td>\n",
       "      <td>-0.015721</td>\n",
       "      <td>12hours</td>\n",
       "    </tr>\n",
       "    <tr>\n",
       "      <th>2</th>\n",
       "      <td>IRI12h2</td>\n",
       "      <td>0.786404</td>\n",
       "      <td>-0.077459</td>\n",
       "      <td>-0.147200</td>\n",
       "      <td>0.029725</td>\n",
       "      <td>-0.014386</td>\n",
       "      <td>12hours</td>\n",
       "    </tr>\n",
       "    <tr>\n",
       "      <th>3</th>\n",
       "      <td>IRI12h3</td>\n",
       "      <td>0.797746</td>\n",
       "      <td>-0.059443</td>\n",
       "      <td>-0.143645</td>\n",
       "      <td>0.049769</td>\n",
       "      <td>-0.013308</td>\n",
       "      <td>12hours</td>\n",
       "    </tr>\n",
       "    <tr>\n",
       "      <th>4</th>\n",
       "      <td>IRI14d1b1</td>\n",
       "      <td>-0.369062</td>\n",
       "      <td>-0.120921</td>\n",
       "      <td>0.009139</td>\n",
       "      <td>-0.002079</td>\n",
       "      <td>0.071772</td>\n",
       "      <td>14days</td>\n",
       "    </tr>\n",
       "  </tbody>\n",
       "</table>\n",
       "</div>"
      ],
      "text/plain": [
       "       ident  Factor_1  Factor_2  Factor_3  Factor_4  Factor_5    Group\n",
       "0  IRI12h1b1  0.821267 -0.094196 -0.150675  0.037851 -0.015987  12hours\n",
       "1  IRI12h1b2  0.811562 -0.035932 -0.139970  0.058585 -0.015721  12hours\n",
       "2    IRI12h2  0.786404 -0.077459 -0.147200  0.029725 -0.014386  12hours\n",
       "3    IRI12h3  0.797746 -0.059443 -0.143645  0.049769 -0.013308  12hours\n",
       "4  IRI14d1b1 -0.369062 -0.120921  0.009139 -0.002079  0.071772   14days"
      ]
     },
     "execution_count": 21,
     "metadata": {},
     "output_type": "execute_result"
    }
   ],
   "source": [
    "# obtain factor scores\n",
    "factor_scores = li.multi.get_factor_scores(mdata, obsm_key='X_mofa')\n",
    "factor_scores.head()"
   ]
  },
  {
   "cell_type": "code",
   "execution_count": 24,
   "metadata": {},
   "outputs": [
    {
     "data": {
      "image/png": "[encoded data removed]",
      "text/plain": [
       "<Figure size 640x480 with 1 Axes>"
      ]
     },
     "metadata": {},
     "output_type": "display_data"
    },
    {
     "data": {
      "text/plain": [
       "<ggplot: (8775596803751)>"
      ]
     },
     "execution_count": 24,
     "metadata": {},
     "output_type": "execute_result"
    }
   ],
   "source": [
    "(p9.ggplot(factor_scores) +\n",
    " p9.aes(x=condition_key, colour=condition_key, y='Factor_1') +\n",
    " p9.geom_violin() +\n",
    " p9.geom_jitter(size=4, width=0.2) +\n",
    " p9.theme_bw()\n",
    " )"
   ]
  },
  {
   "cell_type": "code",
   "execution_count": null,
   "metadata": {},
   "outputs": [],
   "source": []
  },
  {
   "cell_type": "code",
   "execution_count": 25,
   "metadata": {},
   "outputs": [
    {
     "data": {
      "image/png": "[encoded data removed]",
      "text/plain": [
       "<Figure size 640x480 with 2 Axes>"
      ]
     },
     "execution_count": 25,
     "metadata": {},
     "output_type": "execute_result"
    }
   ],
   "source": [
    "model = mofa.mofa_model(\"models/mofacell.h5ad\")\n",
    "model\n",
    "mofa.plot_r2(model, x='View')"
   ]
  },
  {
   "cell_type": "code",
   "execution_count": null,
   "metadata": {},
   "outputs": [],
   "source": []
  },
  {
   "cell_type": "code",
   "execution_count": 26,
   "metadata": {},
   "outputs": [
    {
     "data": {
      "text/html": [
       "<div>\n",
       "<style scoped>\n",
       "    .dataframe tbody tr th:only-of-type {\n",
       "        vertical-align: middle;\n",
       "    }\n",
       "\n",
       "    .dataframe tbody tr th {\n",
       "        vertical-align: top;\n",
       "    }\n",
       "\n",
       "    .dataframe thead th {\n",
       "        text-align: right;\n",
       "    }\n",
       "</style>\n",
       "<table border=\"1\" class=\"dataframe\">\n",
       "  <thead>\n",
       "    <tr style=\"text-align: right;\">\n",
       "      <th></th>\n",
       "      <th>loadings</th>\n",
       "      <th>view</th>\n",
       "      <th>variable</th>\n",
       "    </tr>\n",
       "  </thead>\n",
       "  <tbody>\n",
       "    <tr>\n",
       "      <th>10457</th>\n",
       "      <td>-2.150282</td>\n",
       "      <td>PT</td>\n",
       "      <td>Slc7a13</td>\n",
       "    </tr>\n",
       "    <tr>\n",
       "      <th>17630</th>\n",
       "      <td>-2.102517</td>\n",
       "      <td>DCT</td>\n",
       "      <td>Egf</td>\n",
       "    </tr>\n",
       "    <tr>\n",
       "      <th>18811</th>\n",
       "      <td>-2.009091</td>\n",
       "      <td>DCT</td>\n",
       "      <td>Klhl3</td>\n",
       "    </tr>\n",
       "    <tr>\n",
       "      <th>10356</th>\n",
       "      <td>-1.881984</td>\n",
       "      <td>PT</td>\n",
       "      <td>Slc22a30</td>\n",
       "    </tr>\n",
       "    <tr>\n",
       "      <th>17127</th>\n",
       "      <td>1.857280</td>\n",
       "      <td>DCT</td>\n",
       "      <td>Chd9</td>\n",
       "    </tr>\n",
       "  </tbody>\n",
       "</table>\n",
       "</div>"
      ],
      "text/plain": [
       "       loadings view  variable\n",
       "10457 -2.150282   PT   Slc7a13\n",
       "17630 -2.102517  DCT       Egf\n",
       "18811 -2.009091  DCT     Klhl3\n",
       "10356 -1.881984   PT  Slc22a30\n",
       "17127  1.857280  DCT      Chd9"
      ]
     },
     "execution_count": 26,
     "metadata": {},
     "output_type": "execute_result"
    }
   ],
   "source": [
    "factor1_loadings =  li.multi.get_variable_loadings(mdata, 0, view_separator=':') # get loadings for factor 1\n",
    "factor1_loadings.head()"
   ]
  },
  {
   "cell_type": "code",
   "execution_count": 27,
   "metadata": {},
   "outputs": [
    {
     "data": {
      "image/png": "[encoded data removed]",
      "text/plain": [
       "<Figure size 500x500 with 1 Axes>"
      ]
     },
     "metadata": {
      "needs_background": "light"
     },
     "output_type": "display_data"
    },
    {
     "data": {
      "text/plain": [
       "<ggplot: (8775597523740)>"
      ]
     },
     "execution_count": 27,
     "metadata": {},
     "output_type": "execute_result"
    }
   ],
   "source": [
    "# get 25 genes with highest loadings across all views\n",
    "top_genes = factor1_loadings['variable'].head(25)\n",
    "top_loadings = factor1_loadings[factor1_loadings['variable'].isin(top_genes)]\n",
    "# ^ Note that the genes with the lowest loadings are equally interesting\n",
    "\n",
    "# plot them\n",
    "# dotplot of variable, view, loadings\n",
    "(p9.ggplot(top_loadings) +\n",
    " p9.aes(x='view', y='variable', fill='loadings') +\n",
    " p9.geom_tile() +\n",
    " p9.scale_fill_gradient2(low='#1f77b4', mid='lightgray', high='#c20019') +\n",
    " p9.theme_minimal() +\n",
    " p9.theme(axis_text_x=p9.element_text(angle=90, hjust=0.5, vjust=0.5), figure_size=(5, 5))\n",
    " )"
   ]
  },
  {
   "cell_type": "code",
   "execution_count": null,
   "metadata": {},
   "outputs": [],
   "source": []
  }
 ],
 "metadata": {
  "kernelspec": {
   "display_name": "spiana",
   "language": "python",
   "name": "spiana"
  },
  "language_info": {
   "codemirror_mode": {
    "name": "ipython",
    "version": 3
   },
   "file_extension": ".py",
   "mimetype": "text/x-python",
   "name": "python",
   "nbconvert_exporter": "python",
   "pygments_lexer": "ipython3",
   "version": "3.10.10"
  },
  "orig_nbformat": 4,
  "vscode": {
   "interpreter": {
    "hash": "f9f85f796d01129d0dd105a088854619f454435301f6ffec2fea96ecbd9be4ac"
   }
  }
 },
 "nbformat": 4,
 "nbformat_minor": 2
}
