{
 "cells": [
  {
   "cell_type": "code",
   "execution_count": 57,
   "metadata": {},
   "outputs": [],
   "source": [
    "import os\n",
    "import pandas as pd\n",
    "import numpy as np\n",
    "import plotnine as p9"
   ]
  },
  {
   "attachments": {},
   "cell_type": "markdown",
   "metadata": {},
   "source": []
  },
  {
   "cell_type": "code",
   "execution_count": 58,
   "metadata": {},
   "outputs": [],
   "source": [
    "# list output files\n",
    "file_paths = os.listdir(os.path.join('data', 'results'))\n",
    "# keep only .csv files\n",
    "results = [pd.read_csv(os.path.join('data', 'results', p)) for p in file_paths if p.endswith('.csv')]"
   ]
  },
  {
   "cell_type": "code",
   "execution_count": 59,
   "metadata": {},
   "outputs": [],
   "source": [
    "results = pd.concat(results)"
   ]
  },
  {
   "cell_type": "code",
   "execution_count": 60,
   "metadata": {},
   "outputs": [],
   "source": [
    "results['mean_auc'] = results.groupby(['reduction_name', 'dataset', 'score_key'])['auroc'].transform('mean')\n",
    "results['mean_f1'] = results.groupby(['reduction_name', 'dataset', 'score_key'])['f1_score'].transform('mean')"
   ]
  },
  {
   "cell_type": "code",
   "execution_count": 68,
   "metadata": {},
   "outputs": [
    {
     "data": {
      "text/html": [
       "<div>\n",
       "<style scoped>\n",
       "    .dataframe tbody tr th:only-of-type {\n",
       "        vertical-align: middle;\n",
       "    }\n",
       "\n",
       "    .dataframe tbody tr th {\n",
       "        vertical-align: top;\n",
       "    }\n",
       "\n",
       "    .dataframe thead th {\n",
       "        text-align: right;\n",
       "    }\n",
       "</style>\n",
       "<table border=\"1\" class=\"dataframe\">\n",
       "  <thead>\n",
       "    <tr style=\"text-align: right;\">\n",
       "      <th></th>\n",
       "      <th>reduction_name</th>\n",
       "      <th>score_key</th>\n",
       "      <th>state</th>\n",
       "      <th>fold</th>\n",
       "      <th>auroc</th>\n",
       "      <th>tpr</th>\n",
       "      <th>fpr</th>\n",
       "      <th>f1_score</th>\n",
       "      <th>oob_score</th>\n",
       "      <th>train_split</th>\n",
       "      <th>test_split</th>\n",
       "      <th>test_classes</th>\n",
       "      <th>dataset</th>\n",
       "      <th>mean_auc</th>\n",
       "      <th>mean_f1</th>\n",
       "    </tr>\n",
       "  </thead>\n",
       "  <tbody>\n",
       "    <tr>\n",
       "      <th>2</th>\n",
       "      <td>mofa</td>\n",
       "      <td>expr_prod</td>\n",
       "      <td>0</td>\n",
       "      <td>0</td>\n",
       "      <td>0.888889</td>\n",
       "      <td>[0.         0.66666667 0.66666667 1.         1...</td>\n",
       "      <td>[0.         0.         0.33333333 0.33333333 1...</td>\n",
       "      <td>0.828571</td>\n",
       "      <td>0.400000</td>\n",
       "      <td>[ 1  2  3  4  7  8  9 10 11 15]</td>\n",
       "      <td>[ 0  5  6 12 13 14]</td>\n",
       "      <td>[0 0 0 1 1 1]</td>\n",
       "      <td>carraro</td>\n",
       "      <td>0.703426</td>\n",
       "      <td>0.596984</td>\n",
       "    </tr>\n",
       "    <tr>\n",
       "      <th>14</th>\n",
       "      <td>mofa</td>\n",
       "      <td>expr_prod</td>\n",
       "      <td>0</td>\n",
       "      <td>1</td>\n",
       "      <td>0.666667</td>\n",
       "      <td>[0.         0.33333333 0.66666667 0.66666667 1...</td>\n",
       "      <td>[0. 0. 0. 1. 1.]</td>\n",
       "      <td>0.566667</td>\n",
       "      <td>0.727273</td>\n",
       "      <td>[ 0  4  5  6  7 10 11 12 13 14 15]</td>\n",
       "      <td>[1 2 3 8 9]</td>\n",
       "      <td>[0 0 1 1 1]</td>\n",
       "      <td>carraro</td>\n",
       "      <td>0.703426</td>\n",
       "      <td>0.596984</td>\n",
       "    </tr>\n",
       "    <tr>\n",
       "      <th>26</th>\n",
       "      <td>mofa</td>\n",
       "      <td>expr_prod</td>\n",
       "      <td>0</td>\n",
       "      <td>2</td>\n",
       "      <td>1.000000</td>\n",
       "      <td>[0.  0.5 1.  1. ]</td>\n",
       "      <td>[0. 0. 0. 1.]</td>\n",
       "      <td>0.800000</td>\n",
       "      <td>0.454545</td>\n",
       "      <td>[ 0  1  2  3  5  6  8  9 12 13 14]</td>\n",
       "      <td>[ 4  7 10 11 15]</td>\n",
       "      <td>[0 1 0 1 0]</td>\n",
       "      <td>carraro</td>\n",
       "      <td>0.703426</td>\n",
       "      <td>0.596984</td>\n",
       "    </tr>\n",
       "    <tr>\n",
       "      <th>38</th>\n",
       "      <td>mofa</td>\n",
       "      <td>expr_prod</td>\n",
       "      <td>1</td>\n",
       "      <td>0</td>\n",
       "      <td>0.666667</td>\n",
       "      <td>[0.         0.33333333 0.33333333 0.66666667 1...</td>\n",
       "      <td>[0.         0.         0.33333333 0.33333333 1...</td>\n",
       "      <td>0.485714</td>\n",
       "      <td>0.500000</td>\n",
       "      <td>[ 1  2  4  5  8 10 11 12 13 14]</td>\n",
       "      <td>[ 0  3  6  7  9 15]</td>\n",
       "      <td>[0 1 0 1 1 0]</td>\n",
       "      <td>carraro</td>\n",
       "      <td>0.703426</td>\n",
       "      <td>0.596984</td>\n",
       "    </tr>\n",
       "    <tr>\n",
       "      <th>50</th>\n",
       "      <td>mofa</td>\n",
       "      <td>expr_prod</td>\n",
       "      <td>1</td>\n",
       "      <td>1</td>\n",
       "      <td>0.333333</td>\n",
       "      <td>[0.  0.  0.5 0.5 1. ]</td>\n",
       "      <td>[0.         0.33333333 0.33333333 1.         1...</td>\n",
       "      <td>0.342857</td>\n",
       "      <td>0.636364</td>\n",
       "      <td>[ 0  1  3  6  7  8  9 10 13 14 15]</td>\n",
       "      <td>[ 2  4  5 11 12]</td>\n",
       "      <td>[0 0 0 1 1]</td>\n",
       "      <td>carraro</td>\n",
       "      <td>0.703426</td>\n",
       "      <td>0.596984</td>\n",
       "    </tr>\n",
       "    <tr>\n",
       "      <th>...</th>\n",
       "      <td>...</td>\n",
       "      <td>...</td>\n",
       "      <td>...</td>\n",
       "      <td>...</td>\n",
       "      <td>...</td>\n",
       "      <td>...</td>\n",
       "      <td>...</td>\n",
       "      <td>...</td>\n",
       "      <td>...</td>\n",
       "      <td>...</td>\n",
       "      <td>...</td>\n",
       "      <td>...</td>\n",
       "      <td>...</td>\n",
       "      <td>...</td>\n",
       "      <td>...</td>\n",
       "    </tr>\n",
       "    <tr>\n",
       "      <th>131</th>\n",
       "      <td>tensor</td>\n",
       "      <td>magnitude_rank</td>\n",
       "      <td>3</td>\n",
       "      <td>1</td>\n",
       "      <td>0.612500</td>\n",
       "      <td>[0.  0.  0.4 0.4 0.6 0.6 0.8 0.8 1.  1. ]</td>\n",
       "      <td>[0.    0.125 0.125 0.25  0.25  0.5   0.625 0.8...</td>\n",
       "      <td>0.620047</td>\n",
       "      <td>0.560000</td>\n",
       "      <td>[ 0  1  3  4  5  7  9 10 11 12 13 14 17 20 21 ...</td>\n",
       "      <td>[ 2  6  8 15 16 18 19 22 25 29 32 33 37]</td>\n",
       "      <td>[0 1 0 0 0 1 0 0 1 0 1 1 0]</td>\n",
       "      <td>velmeshev</td>\n",
       "      <td>0.616601</td>\n",
       "      <td>0.545720</td>\n",
       "    </tr>\n",
       "    <tr>\n",
       "      <th>143</th>\n",
       "      <td>tensor</td>\n",
       "      <td>magnitude_rank</td>\n",
       "      <td>3</td>\n",
       "      <td>2</td>\n",
       "      <td>0.485714</td>\n",
       "      <td>[0.  0.  0.  0.4 0.4 1.  1.  1. ]</td>\n",
       "      <td>[0.         0.14285714 0.42857143 0.42857143 0...</td>\n",
       "      <td>0.388889</td>\n",
       "      <td>0.615385</td>\n",
       "      <td>[ 0  2  6  8 10 13 15 16 17 18 19 20 21 22 24 ...</td>\n",
       "      <td>[ 1  3  4  5  7  9 11 12 14 23 26 27]</td>\n",
       "      <td>[1 0 0 1 0 0 1 0 0 0 1 1]</td>\n",
       "      <td>velmeshev</td>\n",
       "      <td>0.616601</td>\n",
       "      <td>0.545720</td>\n",
       "    </tr>\n",
       "    <tr>\n",
       "      <th>155</th>\n",
       "      <td>tensor</td>\n",
       "      <td>magnitude_rank</td>\n",
       "      <td>4</td>\n",
       "      <td>0</td>\n",
       "      <td>0.607143</td>\n",
       "      <td>[0.         0.16666667 0.16666667 0.33333333 0...</td>\n",
       "      <td>[0.         0.         0.14285714 0.14285714 0...</td>\n",
       "      <td>0.474359</td>\n",
       "      <td>0.560000</td>\n",
       "      <td>[ 0  1  2  3  4  6  7  8 10 11 12 13 14 15 17 ...</td>\n",
       "      <td>[ 5  9 16 20 21 23 24 25 27 33 34 36 37]</td>\n",
       "      <td>[1 0 0 0 1 0 1 1 1 1 0 0 0]</td>\n",
       "      <td>velmeshev</td>\n",
       "      <td>0.616601</td>\n",
       "      <td>0.545720</td>\n",
       "    </tr>\n",
       "    <tr>\n",
       "      <th>167</th>\n",
       "      <td>tensor</td>\n",
       "      <td>magnitude_rank</td>\n",
       "      <td>4</td>\n",
       "      <td>1</td>\n",
       "      <td>0.547619</td>\n",
       "      <td>[0.         0.16666667 0.33333333 0.33333333 0...</td>\n",
       "      <td>[0.         0.14285714 0.14285714 0.28571429 0...</td>\n",
       "      <td>0.532967</td>\n",
       "      <td>0.600000</td>\n",
       "      <td>[ 1  4  5  9 10 12 13 14 16 17 19 20 21 23 24 ...</td>\n",
       "      <td>[ 0  2  3  6  7  8 11 15 18 22 26 29 35]</td>\n",
       "      <td>[1 0 0 1 0 0 1 0 1 0 1 0 1]</td>\n",
       "      <td>velmeshev</td>\n",
       "      <td>0.616601</td>\n",
       "      <td>0.545720</td>\n",
       "    </tr>\n",
       "    <tr>\n",
       "      <th>179</th>\n",
       "      <td>tensor</td>\n",
       "      <td>magnitude_rank</td>\n",
       "      <td>4</td>\n",
       "      <td>2</td>\n",
       "      <td>0.700000</td>\n",
       "      <td>[0.  0.  0.6 0.6 0.8 1.  1. ]</td>\n",
       "      <td>[0.         0.14285714 0.14285714 0.42857143 0...</td>\n",
       "      <td>0.744444</td>\n",
       "      <td>0.461538</td>\n",
       "      <td>[ 0  2  3  5  6  7  8  9 11 15 16 18 20 21 22 ...</td>\n",
       "      <td>[ 1  4 10 12 13 14 17 19 28 30 31 32]</td>\n",
       "      <td>[1 0 0 0 1 0 1 0 0 0 1 1]</td>\n",
       "      <td>velmeshev</td>\n",
       "      <td>0.616601</td>\n",
       "      <td>0.545720</td>\n",
       "    </tr>\n",
       "  </tbody>\n",
       "</table>\n",
       "<p>900 rows × 15 columns</p>\n",
       "</div>"
      ],
      "text/plain": [
       "    reduction_name       score_key  state  fold     auroc  \\\n",
       "2             mofa       expr_prod      0     0  0.888889   \n",
       "14            mofa       expr_prod      0     1  0.666667   \n",
       "26            mofa       expr_prod      0     2  1.000000   \n",
       "38            mofa       expr_prod      1     0  0.666667   \n",
       "50            mofa       expr_prod      1     1  0.333333   \n",
       "..             ...             ...    ...   ...       ...   \n",
       "131         tensor  magnitude_rank      3     1  0.612500   \n",
       "143         tensor  magnitude_rank      3     2  0.485714   \n",
       "155         tensor  magnitude_rank      4     0  0.607143   \n",
       "167         tensor  magnitude_rank      4     1  0.547619   \n",
       "179         tensor  magnitude_rank      4     2  0.700000   \n",
       "\n",
       "                                                   tpr  \\\n",
       "2    [0.         0.66666667 0.66666667 1.         1...   \n",
       "14   [0.         0.33333333 0.66666667 0.66666667 1...   \n",
       "26                                   [0.  0.5 1.  1. ]   \n",
       "38   [0.         0.33333333 0.33333333 0.66666667 1...   \n",
       "50                               [0.  0.  0.5 0.5 1. ]   \n",
       "..                                                 ...   \n",
       "131          [0.  0.  0.4 0.4 0.6 0.6 0.8 0.8 1.  1. ]   \n",
       "143                  [0.  0.  0.  0.4 0.4 1.  1.  1. ]   \n",
       "155  [0.         0.16666667 0.16666667 0.33333333 0...   \n",
       "167  [0.         0.16666667 0.33333333 0.33333333 0...   \n",
       "179                      [0.  0.  0.6 0.6 0.8 1.  1. ]   \n",
       "\n",
       "                                                   fpr  f1_score  oob_score  \\\n",
       "2    [0.         0.         0.33333333 0.33333333 1...  0.828571   0.400000   \n",
       "14                                    [0. 0. 0. 1. 1.]  0.566667   0.727273   \n",
       "26                                       [0. 0. 0. 1.]  0.800000   0.454545   \n",
       "38   [0.         0.         0.33333333 0.33333333 1...  0.485714   0.500000   \n",
       "50   [0.         0.33333333 0.33333333 1.         1...  0.342857   0.636364   \n",
       "..                                                 ...       ...        ...   \n",
       "131  [0.    0.125 0.125 0.25  0.25  0.5   0.625 0.8...  0.620047   0.560000   \n",
       "143  [0.         0.14285714 0.42857143 0.42857143 0...  0.388889   0.615385   \n",
       "155  [0.         0.         0.14285714 0.14285714 0...  0.474359   0.560000   \n",
       "167  [0.         0.14285714 0.14285714 0.28571429 0...  0.532967   0.600000   \n",
       "179  [0.         0.14285714 0.14285714 0.42857143 0...  0.744444   0.461538   \n",
       "\n",
       "                                           train_split  \\\n",
       "2                      [ 1  2  3  4  7  8  9 10 11 15]   \n",
       "14                  [ 0  4  5  6  7 10 11 12 13 14 15]   \n",
       "26                  [ 0  1  2  3  5  6  8  9 12 13 14]   \n",
       "38                     [ 1  2  4  5  8 10 11 12 13 14]   \n",
       "50                  [ 0  1  3  6  7  8  9 10 13 14 15]   \n",
       "..                                                 ...   \n",
       "131  [ 0  1  3  4  5  7  9 10 11 12 13 14 17 20 21 ...   \n",
       "143  [ 0  2  6  8 10 13 15 16 17 18 19 20 21 22 24 ...   \n",
       "155  [ 0  1  2  3  4  6  7  8 10 11 12 13 14 15 17 ...   \n",
       "167  [ 1  4  5  9 10 12 13 14 16 17 19 20 21 23 24 ...   \n",
       "179  [ 0  2  3  5  6  7  8  9 11 15 16 18 20 21 22 ...   \n",
       "\n",
       "                                   test_split                 test_classes  \\\n",
       "2                         [ 0  5  6 12 13 14]                [0 0 0 1 1 1]   \n",
       "14                                [1 2 3 8 9]                  [0 0 1 1 1]   \n",
       "26                           [ 4  7 10 11 15]                  [0 1 0 1 0]   \n",
       "38                        [ 0  3  6  7  9 15]                [0 1 0 1 1 0]   \n",
       "50                           [ 2  4  5 11 12]                  [0 0 0 1 1]   \n",
       "..                                        ...                          ...   \n",
       "131  [ 2  6  8 15 16 18 19 22 25 29 32 33 37]  [0 1 0 0 0 1 0 0 1 0 1 1 0]   \n",
       "143     [ 1  3  4  5  7  9 11 12 14 23 26 27]    [1 0 0 1 0 0 1 0 0 0 1 1]   \n",
       "155  [ 5  9 16 20 21 23 24 25 27 33 34 36 37]  [1 0 0 0 1 0 1 1 1 1 0 0 0]   \n",
       "167  [ 0  2  3  6  7  8 11 15 18 22 26 29 35]  [1 0 0 1 0 0 1 0 1 0 1 0 1]   \n",
       "179     [ 1  4 10 12 13 14 17 19 28 30 31 32]    [1 0 0 0 1 0 1 0 0 0 1 1]   \n",
       "\n",
       "       dataset  mean_auc   mean_f1  \n",
       "2      carraro  0.703426  0.596984  \n",
       "14     carraro  0.703426  0.596984  \n",
       "26     carraro  0.703426  0.596984  \n",
       "38     carraro  0.703426  0.596984  \n",
       "50     carraro  0.703426  0.596984  \n",
       "..         ...       ...       ...  \n",
       "131  velmeshev  0.616601  0.545720  \n",
       "143  velmeshev  0.616601  0.545720  \n",
       "155  velmeshev  0.616601  0.545720  \n",
       "167  velmeshev  0.616601  0.545720  \n",
       "179  velmeshev  0.616601  0.545720  \n",
       "\n",
       "[900 rows x 15 columns]"
      ]
     },
     "execution_count": 68,
     "metadata": {},
     "output_type": "execute_result"
    }
   ],
   "source": [
    "results.sort_values(['reduction_name', 'dataset', 'score_key'])"
   ]
  },
  {
   "cell_type": "code",
   "execution_count": null,
   "metadata": {},
   "outputs": [],
   "source": []
  },
  {
   "cell_type": "code",
   "execution_count": 28,
   "metadata": {},
   "outputs": [],
   "source": [
    "results['score_key'].unique()\n",
    "\n",
    "remap_dict = {'lr_means':'CellPhoneDB',\n",
    "              'expr_prod':'Product',\n",
    "              'lr_logfc': 'logFC',\n",
    "              'lrscore': 'SingleCellSignalR',\n",
    "              'lr_probs': 'CellChat',\n",
    "              'magnitude_rank':'Consensus'}\n",
    "results['score_key'] = results['score_key'].map(remap_dict)"
   ]
  },
  {
   "cell_type": "code",
   "execution_count": null,
   "metadata": {},
   "outputs": [],
   "source": []
  },
  {
   "cell_type": "code",
   "execution_count": 29,
   "metadata": {},
   "outputs": [
    {
     "data": {
      "image/png": "[encoded data removed]",
      "text/plain": [
       "<Figure size 640x480 with 5 Axes>"
      ]
     },
     "metadata": {},
     "output_type": "display_data"
    },
    {
     "data": {
      "text/plain": [
       "<ggplot: (8764228688990)>"
      ]
     },
     "execution_count": 29,
     "metadata": {},
     "output_type": "execute_result"
    }
   ],
   "source": [
    "## plot results as boxplots by reduction_name & score_key\n",
    "p9.ggplot(results, p9.aes(x='reduction_name', y='auroc', color='score_key')) + \\\n",
    "    p9.geom_boxplot() + \\\n",
    "    p9.theme_bw() + p9.facet_grid(' ~ dataset')"
   ]
  },
  {
   "cell_type": "code",
   "execution_count": null,
   "metadata": {},
   "outputs": [],
   "source": []
  },
  {
   "cell_type": "code",
   "execution_count": 30,
   "metadata": {},
   "outputs": [],
   "source": [
    "metric = 'mean_auc'"
   ]
  },
  {
   "cell_type": "code",
   "execution_count": 31,
   "metadata": {},
   "outputs": [],
   "source": [
    "results = results[['reduction_name', 'score_key', 'mean_auc', 'mean_f1', 'dataset']].drop_duplicates()"
   ]
  },
  {
   "cell_type": "code",
   "execution_count": 32,
   "metadata": {},
   "outputs": [],
   "source": [
    "results['rank'] = results.groupby(['dataset', 'reduction_name'])[metric].rank(ascending=False, method='average').astype('int')"
   ]
  },
  {
   "cell_type": "code",
   "execution_count": 33,
   "metadata": {},
   "outputs": [
    {
     "data": {
      "text/html": [
       "<div>\n",
       "<style scoped>\n",
       "    .dataframe tbody tr th:only-of-type {\n",
       "        vertical-align: middle;\n",
       "    }\n",
       "\n",
       "    .dataframe tbody tr th {\n",
       "        vertical-align: top;\n",
       "    }\n",
       "\n",
       "    .dataframe thead th {\n",
       "        text-align: right;\n",
       "    }\n",
       "</style>\n",
       "<table border=\"1\" class=\"dataframe\">\n",
       "  <thead>\n",
       "    <tr style=\"text-align: right;\">\n",
       "      <th></th>\n",
       "      <th>reduction_name</th>\n",
       "      <th>score_key</th>\n",
       "      <th>mean_auc</th>\n",
       "      <th>mean_f1</th>\n",
       "      <th>dataset</th>\n",
       "      <th>rank</th>\n",
       "    </tr>\n",
       "  </thead>\n",
       "  <tbody>\n",
       "    <tr>\n",
       "      <th>0</th>\n",
       "      <td>mofa</td>\n",
       "      <td>CellPhoneDB</td>\n",
       "      <td>0.672870</td>\n",
       "      <td>0.620291</td>\n",
       "      <td>carraro</td>\n",
       "      <td>4</td>\n",
       "    </tr>\n",
       "    <tr>\n",
       "      <th>1</th>\n",
       "      <td>tensor</td>\n",
       "      <td>CellPhoneDB</td>\n",
       "      <td>0.904630</td>\n",
       "      <td>0.642540</td>\n",
       "      <td>carraro</td>\n",
       "      <td>1</td>\n",
       "    </tr>\n",
       "    <tr>\n",
       "      <th>2</th>\n",
       "      <td>mofa</td>\n",
       "      <td>Product</td>\n",
       "      <td>0.703426</td>\n",
       "      <td>0.596984</td>\n",
       "      <td>carraro</td>\n",
       "      <td>2</td>\n",
       "    </tr>\n",
       "    <tr>\n",
       "      <th>3</th>\n",
       "      <td>tensor</td>\n",
       "      <td>Product</td>\n",
       "      <td>0.629167</td>\n",
       "      <td>0.550265</td>\n",
       "      <td>carraro</td>\n",
       "      <td>5</td>\n",
       "    </tr>\n",
       "    <tr>\n",
       "      <th>4</th>\n",
       "      <td>mofa</td>\n",
       "      <td>logFC</td>\n",
       "      <td>0.752407</td>\n",
       "      <td>0.543492</td>\n",
       "      <td>carraro</td>\n",
       "      <td>1</td>\n",
       "    </tr>\n",
       "  </tbody>\n",
       "</table>\n",
       "</div>"
      ],
      "text/plain": [
       "  reduction_name    score_key  mean_auc   mean_f1  dataset  rank\n",
       "0           mofa  CellPhoneDB  0.672870  0.620291  carraro     4\n",
       "1         tensor  CellPhoneDB  0.904630  0.642540  carraro     1\n",
       "2           mofa      Product  0.703426  0.596984  carraro     2\n",
       "3         tensor      Product  0.629167  0.550265  carraro     5\n",
       "4           mofa        logFC  0.752407  0.543492  carraro     1"
      ]
     },
     "execution_count": 33,
     "metadata": {},
     "output_type": "execute_result"
    }
   ],
   "source": [
    "results.head()"
   ]
  },
  {
   "cell_type": "code",
   "execution_count": 34,
   "metadata": {},
   "outputs": [],
   "source": [
    "# mean rank per score\n",
    "score_avg = results.groupby(['score_key', 'reduction_name'])[['rank', 'mean_auc', 'mean_f1']].mean()"
   ]
  },
  {
   "cell_type": "code",
   "execution_count": 35,
   "metadata": {},
   "outputs": [
    {
     "data": {
      "text/html": [
       "<div>\n",
       "<style scoped>\n",
       "    .dataframe tbody tr th:only-of-type {\n",
       "        vertical-align: middle;\n",
       "    }\n",
       "\n",
       "    .dataframe tbody tr th {\n",
       "        vertical-align: top;\n",
       "    }\n",
       "\n",
       "    .dataframe thead th {\n",
       "        text-align: right;\n",
       "    }\n",
       "</style>\n",
       "<table border=\"1\" class=\"dataframe\">\n",
       "  <thead>\n",
       "    <tr style=\"text-align: right;\">\n",
       "      <th></th>\n",
       "      <th></th>\n",
       "      <th>rank</th>\n",
       "      <th>mean_auc</th>\n",
       "      <th>mean_f1</th>\n",
       "    </tr>\n",
       "    <tr>\n",
       "      <th>score_key</th>\n",
       "      <th>reduction_name</th>\n",
       "      <th></th>\n",
       "      <th></th>\n",
       "      <th></th>\n",
       "    </tr>\n",
       "  </thead>\n",
       "  <tbody>\n",
       "    <tr>\n",
       "      <th rowspan=\"2\" valign=\"top\">CellChat</th>\n",
       "      <th>mofa</th>\n",
       "      <td>5.8</td>\n",
       "      <td>0.620945</td>\n",
       "      <td>0.443462</td>\n",
       "    </tr>\n",
       "    <tr>\n",
       "      <th>tensor</th>\n",
       "      <td>3.6</td>\n",
       "      <td>0.720448</td>\n",
       "      <td>0.653086</td>\n",
       "    </tr>\n",
       "    <tr>\n",
       "      <th rowspan=\"2\" valign=\"top\">CellPhoneDB</th>\n",
       "      <th>mofa</th>\n",
       "      <td>3.2</td>\n",
       "      <td>0.833350</td>\n",
       "      <td>0.778263</td>\n",
       "    </tr>\n",
       "    <tr>\n",
       "      <th>tensor</th>\n",
       "      <td>3.6</td>\n",
       "      <td>0.735326</td>\n",
       "      <td>0.614909</td>\n",
       "    </tr>\n",
       "    <tr>\n",
       "      <th rowspan=\"2\" valign=\"top\">Consensus</th>\n",
       "      <th>mofa</th>\n",
       "      <td>3.6</td>\n",
       "      <td>0.837470</td>\n",
       "      <td>0.712348</td>\n",
       "    </tr>\n",
       "    <tr>\n",
       "      <th>tensor</th>\n",
       "      <td>2.6</td>\n",
       "      <td>0.783739</td>\n",
       "      <td>0.734833</td>\n",
       "    </tr>\n",
       "    <tr>\n",
       "      <th rowspan=\"2\" valign=\"top\">Product</th>\n",
       "      <th>mofa</th>\n",
       "      <td>2.2</td>\n",
       "      <td>0.850617</td>\n",
       "      <td>0.748368</td>\n",
       "    </tr>\n",
       "    <tr>\n",
       "      <th>tensor</th>\n",
       "      <td>2.0</td>\n",
       "      <td>0.807544</td>\n",
       "      <td>0.706877</td>\n",
       "    </tr>\n",
       "    <tr>\n",
       "      <th rowspan=\"2\" valign=\"top\">SingleCellSignalR</th>\n",
       "      <th>mofa</th>\n",
       "      <td>3.8</td>\n",
       "      <td>0.833188</td>\n",
       "      <td>0.738190</td>\n",
       "    </tr>\n",
       "    <tr>\n",
       "      <th>tensor</th>\n",
       "      <td>5.2</td>\n",
       "      <td>0.611810</td>\n",
       "      <td>0.562380</td>\n",
       "    </tr>\n",
       "    <tr>\n",
       "      <th rowspan=\"2\" valign=\"top\">logFC</th>\n",
       "      <th>mofa</th>\n",
       "      <td>2.2</td>\n",
       "      <td>0.846573</td>\n",
       "      <td>0.768447</td>\n",
       "    </tr>\n",
       "    <tr>\n",
       "      <th>tensor</th>\n",
       "      <td>3.8</td>\n",
       "      <td>0.716946</td>\n",
       "      <td>0.617341</td>\n",
       "    </tr>\n",
       "  </tbody>\n",
       "</table>\n",
       "</div>"
      ],
      "text/plain": [
       "                                  rank  mean_auc   mean_f1\n",
       "score_key         reduction_name                          \n",
       "CellChat          mofa             5.8  0.620945  0.443462\n",
       "                  tensor           3.6  0.720448  0.653086\n",
       "CellPhoneDB       mofa             3.2  0.833350  0.778263\n",
       "                  tensor           3.6  0.735326  0.614909\n",
       "Consensus         mofa             3.6  0.837470  0.712348\n",
       "                  tensor           2.6  0.783739  0.734833\n",
       "Product           mofa             2.2  0.850617  0.748368\n",
       "                  tensor           2.0  0.807544  0.706877\n",
       "SingleCellSignalR mofa             3.8  0.833188  0.738190\n",
       "                  tensor           5.2  0.611810  0.562380\n",
       "logFC             mofa             2.2  0.846573  0.768447\n",
       "                  tensor           3.8  0.716946  0.617341"
      ]
     },
     "execution_count": 35,
     "metadata": {},
     "output_type": "execute_result"
    }
   ],
   "source": [
    "score_avg"
   ]
  },
  {
   "cell_type": "code",
   "execution_count": 36,
   "metadata": {},
   "outputs": [],
   "source": [
    "score_avg['dataset'] = \"Score Average\""
   ]
  },
  {
   "cell_type": "code",
   "execution_count": 37,
   "metadata": {},
   "outputs": [],
   "source": [
    "## bind to results\n",
    "results = pd.concat([results, score_avg.reset_index()])"
   ]
  },
  {
   "cell_type": "code",
   "execution_count": 38,
   "metadata": {},
   "outputs": [],
   "source": [
    "# if dataset != 'Score Average', then None\n",
    "results['rank'] = results['rank'].where(results['dataset'] == 'Score Average', None)"
   ]
  },
  {
   "cell_type": "code",
   "execution_count": 39,
   "metadata": {},
   "outputs": [],
   "source": [
    "results['mean_auc'] = results['mean_auc'].round(2)"
   ]
  },
  {
   "cell_type": "code",
   "execution_count": 40,
   "metadata": {},
   "outputs": [],
   "source": [
    "# to title\n",
    "\n",
    "results['dataset'] = results['dataset'].replace({'Score Average': 'Average'})\n",
    "results['dataset'] = pd.Categorical(results['dataset'], categories=['carraro', 'habermann', 'kuppe', 'velmeshev', 'reichart', 'Average'])\n",
    "results['dataset'] = results['dataset'].str.title()"
   ]
  },
  {
   "cell_type": "code",
   "execution_count": 48,
   "metadata": {},
   "outputs": [],
   "source": [
    "results['reduction_name'] = results['reduction_name'].replace({\"mofa\":\"MOFA+\", 'tensor':\"Tensor-cell2cell\"})"
   ]
  },
  {
   "cell_type": "code",
   "execution_count": 55,
   "metadata": {},
   "outputs": [
    {
     "data": {
      "image/png": "[encoded data removed]",
      "text/plain": [
       "<Figure size 800x500 with 6 Axes>"
      ]
     },
     "metadata": {},
     "output_type": "display_data"
    },
    {
     "data": {
      "text/plain": [
       "<ggplot: (8764225741692)>"
      ]
     },
     "execution_count": 55,
     "metadata": {},
     "output_type": "execute_result"
    }
   ],
   "source": [
    "## mosaic plot\n",
    "# order alphabetically\n",
    "p9.ggplot(results, p9.aes(x='reduction_name', y='score_key', fill='mean_auc')) + \\\n",
    "    p9.geom_tile() + \\\n",
    "    p9.theme_bw(base_size=11) + \\\n",
    "    p9.facet_grid(' ~ dataset') + \\\n",
    "    p9.scale_fill_cmap(limits=(0.5, 1), cmap_name='viridis') + \\\n",
    "    p9.geom_text(p9.aes(label='mean_auc'), size=11, color='white', fontweight='bold') + \\\n",
    "    p9.theme(figure_size=(8, 5), axis_text_x=p9.element_text(angle=90, size=11),\n",
    "             strip_text_x=p9.element_text(size=11),\n",
    "            strip_background=p9.element_rect(colour=\"black\", fill=\"#fdfff4\"),\n",
    "            legend_text=p9.element_text(size=11),\n",
    "            axis_text_y=p9.element_text(size=11),\n",
    "             ) + \\\n",
    "    p9.labs(x='', y='', fill='AUROC\\n(mean)\\n')"
   ]
  },
  {
   "cell_type": "code",
   "execution_count": null,
   "metadata": {},
   "outputs": [],
   "source": []
  },
  {
   "cell_type": "code",
   "execution_count": null,
   "metadata": {},
   "outputs": [],
   "source": []
  },
  {
   "cell_type": "code",
   "execution_count": 20,
   "metadata": {},
   "outputs": [
    {
     "name": "stderr",
     "output_type": "stream",
     "text": [
      "/tmp/ipykernel_601042/2054308315.py:1: FutureWarning: The default value of numeric_only in DataFrameGroupBy.mean is deprecated. In a future version, numeric_only will default to False. Either specify numeric_only or select only columns which should be valid for the function.\n"
     ]
    }
   ],
   "source": [
    "dimred_results = results.groupby(['reduction_name', 'score_key']).mean().reset_index()"
   ]
  },
  {
   "cell_type": "code",
   "execution_count": 21,
   "metadata": {},
   "outputs": [
    {
     "data": {
      "image/png": "[encoded data removed]",
      "text/plain": [
       "<Figure size 600x600 with 1 Axes>"
      ]
     },
     "metadata": {},
     "output_type": "display_data"
    },
    {
     "data": {
      "text/plain": [
       "<ggplot: (8764228386429)>"
      ]
     },
     "execution_count": 21,
     "metadata": {},
     "output_type": "execute_result"
    }
   ],
   "source": [
    "## scatter plot by reduction_name\n",
    "p9.ggplot(dimred_results, p9.aes(x='mean_auc', y='mean_f1', color='score_key', shape='reduction_name')) + \\\n",
    "    p9.geom_point(size=5) + \\\n",
    "        p9.theme_bw() + \\\n",
    "        p9.scale_x_continuous(limits=(0, 1)) + \\\n",
    "        p9.scale_y_continuous(limits=(0, 1)) + \\\n",
    "        p9.theme(figure_size=(6, 6))"
   ]
  },
  {
   "cell_type": "code",
   "execution_count": null,
   "metadata": {},
   "outputs": [],
   "source": []
  },
  {
   "cell_type": "code",
   "execution_count": null,
   "metadata": {},
   "outputs": [],
   "source": []
  },
  {
   "cell_type": "code",
   "execution_count": null,
   "metadata": {},
   "outputs": [],
   "source": []
  },
  {
   "attachments": {},
   "cell_type": "markdown",
   "metadata": {},
   "source": [
    "Reichart Model - Does not look like something I want to include"
   ]
  },
  {
   "cell_type": "code",
   "execution_count": null,
   "metadata": {},
   "outputs": [],
   "source": [
    "import numpy as np\n",
    "import pandas as pd\n",
    "\n",
    "import scanpy as sc\n",
    "\n",
    "import plotnine as p9\n",
    "\n",
    "import liana as li\n",
    "\n",
    "# load muon and mofax\n",
    "import muon as mu\n",
    "import mofax as mofa\n",
    "\n",
    "import decoupler as dc"
   ]
  },
  {
   "cell_type": "code",
   "execution_count": null,
   "metadata": {},
   "outputs": [],
   "source": [
    "adata = sc.read_h5ad(os.path.join('data', 'results', 'reichart_dimred.h5ad'), backed='r')"
   ]
  },
  {
   "cell_type": "code",
   "execution_count": null,
   "metadata": {},
   "outputs": [],
   "source": [
    "meta_features = ['Sample','Region_x', 'Primary.Genetic.Diagnosis', 'tissue', 'sex', 'assay', 'development_stage', 'disease']"
   ]
  },
  {
   "cell_type": "code",
   "execution_count": null,
   "metadata": {},
   "outputs": [],
   "source": [
    "model = mofa.mofa_model(os.path.join(\"data\", \"results\", \"models\", \"reichart\", \"expr_prod.hdf5\"))\n",
    "metadata = adata.obs[meta_features].drop_duplicates().rename(columns={'Sample':'sample', 'disease':'condition'})\n",
    "model.metadata = model.metadata.merge(metadata, on='sample')"
   ]
  },
  {
   "cell_type": "code",
   "execution_count": null,
   "metadata": {},
   "outputs": [],
   "source": [
    "metadata.groupby([\"condition\",'Primary.Genetic.Diagnosis']).count()"
   ]
  },
  {
   "cell_type": "code",
   "execution_count": null,
   "metadata": {},
   "outputs": [],
   "source": [
    "model.get_weights().shape"
   ]
  },
  {
   "cell_type": "code",
   "execution_count": null,
   "metadata": {},
   "outputs": [],
   "source": []
  },
  {
   "attachments": {},
   "cell_type": "markdown",
   "metadata": {},
   "source": [
    "TODO save mdata"
   ]
  },
  {
   "cell_type": "code",
   "execution_count": null,
   "metadata": {},
   "outputs": [],
   "source": [
    "mdata = li.multi.lrs_to_views(adata,\n",
    "                              sample_key=\"Sample\",\n",
    "                              score_key=\"expr_prod\",\n",
    "                              inverse_fun=lambda x: -np.log2(x),\n",
    "                              lr_prop = 0.33, # minimum required proportion of samples to keep an LR\n",
    "                              lrs_per_sample = 5, # minimum number of interactions to keep a sample in a specific view\n",
    "                              lrs_per_view = 15, # minimum number of interactions to keep a view\n",
    "                              samples_per_view = 5, # minimum number of samples to keep a view\n",
    "                              min_variance = 0, # minimum variance to keep an interaction\n",
    "                              lr_fill = 0, # fill missing LR values across samples with this\n",
    "                              verbose=True\n",
    "                              )\n"
   ]
  },
  {
   "cell_type": "code",
   "execution_count": null,
   "metadata": {},
   "outputs": [],
   "source": [
    "mdata.varm[\"LFs\"] = model.get_weights()\n",
    "mdata.obsm[\"X_mofa\"] = model.get_factors()"
   ]
  },
  {
   "cell_type": "code",
   "execution_count": null,
   "metadata": {},
   "outputs": [],
   "source": [
    "mdata.obs = model.metadata.set_index('sample')"
   ]
  },
  {
   "cell_type": "code",
   "execution_count": null,
   "metadata": {},
   "outputs": [],
   "source": []
  },
  {
   "attachments": {},
   "cell_type": "markdown",
   "metadata": {},
   "source": [
    "Check Factors"
   ]
  },
  {
   "cell_type": "code",
   "execution_count": null,
   "metadata": {},
   "outputs": [],
   "source": [
    "factor_scores = li.multi.get_factor_scores(mdata, obsm_key='X_mofa')\n",
    "factor_scores.head()"
   ]
  },
  {
   "cell_type": "code",
   "execution_count": null,
   "metadata": {},
   "outputs": [],
   "source": [
    "factor_scores"
   ]
  },
  {
   "cell_type": "code",
   "execution_count": null,
   "metadata": {},
   "outputs": [],
   "source": [
    "# scatterplot\n",
    "(p9.ggplot(factor_scores) +\n",
    " p9.aes(x='condition', colour='condition', y='Factor1') +\n",
    " p9.geom_violin() +\n",
    " p9.geom_jitter(size=4, width=0.2) +\n",
    " p9.theme_bw() +\n",
    " p9.scale_colour_manual(values=['#1f77b4', '#c20019'])\n",
    " )\n",
    "\n"
   ]
  },
  {
   "cell_type": "code",
   "execution_count": null,
   "metadata": {},
   "outputs": [],
   "source": []
  },
  {
   "attachments": {},
   "cell_type": "markdown",
   "metadata": {},
   "source": [
    "UMAP"
   ]
  },
  {
   "cell_type": "code",
   "execution_count": null,
   "metadata": {},
   "outputs": [],
   "source": [
    "sc.pp.neighbors(mdata, use_rep=\"X_mofa\")\n",
    "sc.tl.umap(mdata)"
   ]
  },
  {
   "cell_type": "code",
   "execution_count": null,
   "metadata": {},
   "outputs": [],
   "source": [
    "sc.tl.umap(mdata, min_dist=.2, spread=1., random_state=10)"
   ]
  },
  {
   "cell_type": "code",
   "execution_count": null,
   "metadata": {},
   "outputs": [],
   "source": []
  },
  {
   "cell_type": "code",
   "execution_count": null,
   "metadata": {},
   "outputs": [],
   "source": [
    "# scatter plot between Factor 1 and Factor 2\n",
    "(p9.ggplot(factor_scores) +\n",
    " p9.aes(x='Factor1', y='Factor2', colour='condition', shape='tissue') +\n",
    " p9.geom_point(size=4) +\n",
    " p9.theme_bw()\n",
    " )"
   ]
  },
  {
   "cell_type": "code",
   "execution_count": null,
   "metadata": {},
   "outputs": [],
   "source": []
  },
  {
   "cell_type": "code",
   "execution_count": null,
   "metadata": {},
   "outputs": [],
   "source": [
    "mofa.plot_weights_correlation(model)"
   ]
  },
  {
   "cell_type": "code",
   "execution_count": null,
   "metadata": {},
   "outputs": [],
   "source": []
  },
  {
   "cell_type": "code",
   "execution_count": null,
   "metadata": {},
   "outputs": [],
   "source": [
    "mofa.plot_factors_covariates_correlation(model, covariates=pd.get_dummies(model.metadata['sex']), pvalues=True)"
   ]
  },
  {
   "cell_type": "code",
   "execution_count": null,
   "metadata": {},
   "outputs": [],
   "source": [
    "mofa.plot_factors_covariates_correlation(model, covariates=pd.get_dummies(model.metadata['development_stage']), pvalues=True)"
   ]
  },
  {
   "cell_type": "code",
   "execution_count": null,
   "metadata": {},
   "outputs": [],
   "source": [
    "mofa.plot_factors_covariates_correlation(model, covariates=pd.get_dummies(model.metadata['Primary.Genetic.Diagnosis']), pvalues=True)"
   ]
  },
  {
   "cell_type": "code",
   "execution_count": null,
   "metadata": {},
   "outputs": [],
   "source": []
  },
  {
   "cell_type": "code",
   "execution_count": null,
   "metadata": {},
   "outputs": [],
   "source": [
    "# get variance explained by view and factor\n",
    "rsq = model.get_r2()\n",
    "rsq[\"R2\"] = rsq[\"R2\"] / 100"
   ]
  },
  {
   "cell_type": "code",
   "execution_count": null,
   "metadata": {},
   "outputs": [],
   "source": [
    "## tile plot\n",
    "(p9.ggplot(rsq, p9.aes(x='Factor', y='View', fill='R2')) + \n",
    "    p9.geom_tile() + \n",
    "    p9.theme_bw() + \n",
    "    p9.theme(figure_size=(10, 10)) +\n",
    "    p9.labs(x='Factor', y='View', fill='R2') +\n",
    "    p9.theme(axis_text_x=p9.element_text(angle=90, hjust=1)) + \n",
    "    # change colour\n",
    "    p9.scale_fill_cmap(limits=(0, 1), cmap_name='magma')\n",
    "    \n",
    ")"
   ]
  },
  {
   "cell_type": "code",
   "execution_count": null,
   "metadata": {},
   "outputs": [],
   "source": []
  },
  {
   "cell_type": "code",
   "execution_count": null,
   "metadata": {},
   "outputs": [],
   "source": []
  },
  {
   "cell_type": "code",
   "execution_count": null,
   "metadata": {},
   "outputs": [],
   "source": []
  },
  {
   "cell_type": "code",
   "execution_count": null,
   "metadata": {},
   "outputs": [],
   "source": [
    "# Factor 1\n",
    "factor1_rsq = rsq[rsq['Factor']=='Factor1']\n",
    "# separate view column\n",
    "factor1_rsq[['source', 'target']] = factor1_rsq['View'].str.split('&', 1, expand=True)"
   ]
  },
  {
   "cell_type": "code",
   "execution_count": null,
   "metadata": {},
   "outputs": [],
   "source": [
    "(p9.ggplot(factor1_rsq.reset_index()) +\n",
    " p9.aes(x='target', y='source') +\n",
    " p9.geom_tile(p9.aes(fill='R2')) +\n",
    " p9.scale_fill_cmap(limits=(0, 0.5), cmap_name='magma') +\n",
    " p9.theme_bw() +\n",
    "    p9.theme(figure_size=(5, 5)) +\n",
    "    p9.labs(x='Target groups', y='Source groups', fill='R2') +\n",
    "    p9.theme(axis_text_x=p9.element_text(rotation=90, hjust=0.5))\n",
    " )\n",
    "\n"
   ]
  },
  {
   "cell_type": "code",
   "execution_count": null,
   "metadata": {},
   "outputs": [],
   "source": []
  },
  {
   "cell_type": "code",
   "execution_count": null,
   "metadata": {},
   "outputs": [],
   "source": [
    "variable_loadings =  li.multi.get_variable_loadings(mdata,\n",
    "                                                    view_separator=':',\n",
    "                                                    pair_separator=\"&\",\n",
    "                                                    variable_separator=\"^\") # get loadings for factor 1\n",
    "variable_loadings.head()\n",
    "\n"
   ]
  },
  {
   "cell_type": "code",
   "execution_count": null,
   "metadata": {},
   "outputs": [],
   "source": [
    "variable_loadings['size'] = 4.5\n",
    "\n",
    "my_plot = li.pl.dotplot(liana_res = variable_loadings,\n",
    "                        size='Factor2',\n",
    "                        colour='Factor1',\n",
    "                        orderby='Factor1',\n",
    "                        top_n=20,\n",
    "                        source_labels=['myeloid cell', 'fibroblast of cardiac tissue', 'endothelial cell'],\n",
    "                        orderby_ascending=False,\n",
    "                        size_range=(0.1, 8),\n",
    "                        figure_size=(14, 10)\n",
    "                        )\n",
    "# change colour, with mid as white\n",
    "my_plot + p9.scale_color_gradient2(low='#1f77b4', mid='lightgray', high='#c20019')\n",
    "\n"
   ]
  },
  {
   "cell_type": "code",
   "execution_count": null,
   "metadata": {},
   "outputs": [],
   "source": []
  }
 ],
 "metadata": {
  "kernelspec": {
   "display_name": "spiana",
   "language": "python",
   "name": "python3"
  },
  "language_info": {
   "codemirror_mode": {
    "name": "ipython",
    "version": 3
   },
   "file_extension": ".py",
   "mimetype": "text/x-python",
   "name": "python",
   "nbconvert_exporter": "python",
   "pygments_lexer": "ipython3",
   "version": "3.10.10"
  },
  "orig_nbformat": 4,
  "vscode": {
   "interpreter": {
    "hash": "b688e7f183144fde965166e58483e32fc6dbc6fc380ccc51d49ef608da0385a8"
   }
  }
 },
 "nbformat": 4,
 "nbformat_minor": 2
}
