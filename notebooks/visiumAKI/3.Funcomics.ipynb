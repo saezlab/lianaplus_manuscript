{
 "cells": [
  {
   "cell_type": "markdown",
   "metadata": {},
   "source": [
    "# Funcomics"
   ]
  },
  {
   "attachments": {},
   "cell_type": "markdown",
   "metadata": {},
   "source": [
    "Here, I should run all the fun stuff & save as mudata for next chapter"
   ]
  },
  {
   "attachments": {},
   "cell_type": "markdown",
   "metadata": {},
   "source": [
    "## Setup Env"
   ]
  },
  {
   "cell_type": "code",
   "execution_count": 3,
   "metadata": {},
   "outputs": [],
   "source": [
    "import os, fnmatch\n",
    "\n",
    "import numpy as np\n",
    "import pandas as pd\n",
    "\n",
    "import scanpy as sc\n",
    "import squidpy as sq"
   ]
  },
  {
   "cell_type": "code",
   "execution_count": 4,
   "metadata": {},
   "outputs": [],
   "source": [
    "import liana as li\n",
    "from liana.method.sp import lr_basis, basis"
   ]
  },
  {
   "cell_type": "code",
   "execution_count": 5,
   "metadata": {},
   "outputs": [],
   "source": [
    "import decoupler as dc\n",
    "import seaborn as sns"
   ]
  },
  {
   "cell_type": "code",
   "execution_count": 23,
   "metadata": {},
   "outputs": [],
   "source": [
    "data_dir = \"/home/dbdimitrov/Repos/liana2_manuscript/data/kidney_injury/visium/\"\n",
    "slides = fnmatch.filter(os.listdir(data_dir + \"deconv/\"), '*.h5ad')"
   ]
  },
  {
   "cell_type": "code",
   "execution_count": 29,
   "metadata": {},
   "outputs": [],
   "source": [
    "adatas = dict()\n",
    "\n",
    "for slide in slides:\n",
    "    sample = slide[:-5].split(\"_\")[0]\n",
    "    adatas[sample] = sc.read_h5ad(os.path.join(data_dir, \"deconv\", slide))"
   ]
  },
  {
   "cell_type": "code",
   "execution_count": 30,
   "metadata": {},
   "outputs": [
    {
     "data": {
      "text/plain": [
       "{'f6wks': AnnData object with n_obs × n_vars = 1514 × 16050\n",
       "     obs: 'in_tissue', 'array_row', 'array_col', 'sample', 'n_genes', 'n_genes_by_counts', 'total_counts', 'total_counts_mt', 'pct_counts_mt', 'total_counts_ribo', 'pct_counts_ribo', 'total_counts_hb', 'pct_counts_hb', 'leiden'\n",
       "     var: 'gene_ids', 'feature_types', 'genome', 'n_cells', 'mt', 'ribo', 'hb', 'n_cells_by_counts', 'mean_counts', 'pct_dropout_by_counts', 'total_counts'\n",
       "     uns: 'log1p', 'spatial'\n",
       "     obsm: 'spatial', 'tangram_ct_pred'\n",
       "     layers: 'counts',\n",
       " 'f4hr': AnnData object with n_obs × n_vars = 1847 × 13911\n",
       "     obs: 'in_tissue', 'array_row', 'array_col', 'sample', 'n_genes', 'n_genes_by_counts', 'total_counts', 'total_counts_mt', 'pct_counts_mt', 'total_counts_ribo', 'pct_counts_ribo', 'total_counts_hb', 'pct_counts_hb', 'leiden'\n",
       "     var: 'gene_ids', 'feature_types', 'genome', 'n_cells', 'mt', 'ribo', 'hb', 'n_cells_by_counts', 'mean_counts', 'pct_dropout_by_counts', 'total_counts'\n",
       "     uns: 'log1p', 'spatial'\n",
       "     obsm: 'spatial', 'tangram_ct_pred'\n",
       "     layers: 'counts',\n",
       " 'f12hr': AnnData object with n_obs × n_vars = 1816 × 14640\n",
       "     obs: 'in_tissue', 'array_row', 'array_col', 'sample', 'n_genes', 'n_genes_by_counts', 'total_counts', 'total_counts_mt', 'pct_counts_mt', 'total_counts_ribo', 'pct_counts_ribo', 'total_counts_hb', 'pct_counts_hb', 'leiden'\n",
       "     var: 'gene_ids', 'feature_types', 'genome', 'n_cells', 'mt', 'ribo', 'hb', 'n_cells_by_counts', 'mean_counts', 'pct_dropout_by_counts', 'total_counts'\n",
       "     uns: 'log1p', 'spatial'\n",
       "     obsm: 'spatial', 'tangram_ct_pred'\n",
       "     layers: 'counts',\n",
       " 'fsham': AnnData object with n_obs × n_vars = 1466 × 14855\n",
       "     obs: 'in_tissue', 'array_row', 'array_col', 'sample', 'n_genes', 'n_genes_by_counts', 'total_counts', 'total_counts_mt', 'pct_counts_mt', 'total_counts_ribo', 'pct_counts_ribo', 'total_counts_hb', 'pct_counts_hb', 'leiden'\n",
       "     var: 'gene_ids', 'feature_types', 'genome', 'n_cells', 'mt', 'ribo', 'hb', 'n_cells_by_counts', 'mean_counts', 'pct_dropout_by_counts', 'total_counts'\n",
       "     uns: 'log1p', 'spatial'\n",
       "     obsm: 'spatial', 'tangram_ct_pred'\n",
       "     layers: 'counts',\n",
       " 'f2dps': AnnData object with n_obs × n_vars = 2110 × 15894\n",
       "     obs: 'in_tissue', 'array_row', 'array_col', 'sample', 'n_genes', 'n_genes_by_counts', 'total_counts', 'total_counts_mt', 'pct_counts_mt', 'total_counts_ribo', 'pct_counts_ribo', 'total_counts_hb', 'pct_counts_hb', 'leiden'\n",
       "     var: 'gene_ids', 'feature_types', 'genome', 'n_cells', 'mt', 'ribo', 'hb', 'n_cells_by_counts', 'mean_counts', 'pct_dropout_by_counts', 'total_counts'\n",
       "     uns: 'log1p', 'spatial'\n",
       "     obsm: 'spatial', 'tangram_ct_pred'\n",
       "     layers: 'counts'}"
      ]
     },
     "execution_count": 30,
     "metadata": {},
     "output_type": "execute_result"
    }
   ],
   "source": [
    "adatas"
   ]
  },
  {
   "cell_type": "code",
   "execution_count": null,
   "metadata": {},
   "outputs": [],
   "source": []
  },
  {
   "attachments": {},
   "cell_type": "markdown",
   "metadata": {},
   "source": [
    "#### CytoSig"
   ]
  },
  {
   "cell_type": "code",
   "execution_count": 62,
   "metadata": {},
   "outputs": [],
   "source": [
    "# load cytosig signatures\n",
    "cytosig = pd.read_csv(\"https://raw.githubusercontent.com/data2intelligence/CytoSig/master/CytoSig/signature.centroid\", sep=\"\\t\")\n",
    "cytosig = cytosig.unstack().reset_index().rename(columns={'level_0':'source', 'level_1':'target', 0:'weight'})\n",
    "# translate to murine\n",
    "cytosig = dc.translate_net(net=cytosig, target_organism=\"mouse\", columns=[\"target\"])"
   ]
  },
  {
   "attachments": {},
   "cell_type": "markdown",
   "metadata": {},
   "source": [
    "#### PROGENy"
   ]
  },
  {
   "cell_type": "code",
   "execution_count": 65,
   "metadata": {},
   "outputs": [],
   "source": [
    "progeny = dc.get_progeny(organism='Mus musculus', top=500)"
   ]
  },
  {
   "attachments": {},
   "cell_type": "markdown",
   "metadata": {},
   "source": [
    "#### Dorothea"
   ]
  },
  {
   "cell_type": "code",
   "execution_count": 68,
   "metadata": {},
   "outputs": [],
   "source": [
    "dorothea = dc.get_dorothea(organism='mouse')"
   ]
  },
  {
   "cell_type": "code",
   "execution_count": null,
   "metadata": {},
   "outputs": [],
   "source": []
  },
  {
   "attachments": {},
   "cell_type": "markdown",
   "metadata": {},
   "source": [
    "## Run on all samples"
   ]
  },
  {
   "cell_type": "code",
   "execution_count": 72,
   "metadata": {},
   "outputs": [],
   "source": [
    "for sample in adatas.keys():\n",
    "    adata = adatas[sample]\n",
    "    \n",
    "    # Run CytoSig\n",
    "    dc.run_mlm(adata, cytosig, use_raw=False)\n",
    "    adata.obsm['cytosig_estimate'] = adata.obsm['mlm_estimate']\n",
    "    \n",
    "    # Run PROGENy\n",
    "    dc.run_mlm(adata, progeny, use_raw=False)\n",
    "    adata.obsm['progeny_estimate'] = adata.obsm['mlm_estimate']\n",
    "    \n",
    "    # Run Dorothea\n",
    "    dc.run_mlm(adata, progeny, use_raw=False)\n",
    "    adata.obsm['dorothea_estimate'] = adata.obsm['mlm_estimate']\n",
    "    \n",
    "    del adata.obsm['mlm_estimate']\n",
    "    del adata.obsm['mlm_pvals']"
   ]
  },
  {
   "cell_type": "code",
   "execution_count": null,
   "metadata": {},
   "outputs": [],
   "source": []
  },
  {
   "attachments": {},
   "cell_type": "markdown",
   "metadata": {},
   "source": [
    "## Convert to mdatas & save"
   ]
  },
  {
   "cell_type": "code",
   "execution_count": 73,
   "metadata": {},
   "outputs": [
    {
     "data": {
      "text/plain": [
       "{'f6wks': AnnData object with n_obs × n_vars = 1514 × 16050\n",
       "     obs: 'in_tissue', 'array_row', 'array_col', 'sample', 'n_genes', 'n_genes_by_counts', 'total_counts', 'total_counts_mt', 'pct_counts_mt', 'total_counts_ribo', 'pct_counts_ribo', 'total_counts_hb', 'pct_counts_hb', 'leiden'\n",
       "     var: 'gene_ids', 'feature_types', 'genome', 'n_cells', 'mt', 'ribo', 'hb', 'n_cells_by_counts', 'mean_counts', 'pct_dropout_by_counts', 'total_counts'\n",
       "     uns: 'log1p', 'spatial'\n",
       "     obsm: 'spatial', 'tangram_ct_pred', 'progeny_estimate', 'cytosig_estimate', 'dorothea_estimate'\n",
       "     layers: 'counts',\n",
       " 'f4hr': AnnData object with n_obs × n_vars = 1847 × 13911\n",
       "     obs: 'in_tissue', 'array_row', 'array_col', 'sample', 'n_genes', 'n_genes_by_counts', 'total_counts', 'total_counts_mt', 'pct_counts_mt', 'total_counts_ribo', 'pct_counts_ribo', 'total_counts_hb', 'pct_counts_hb', 'leiden'\n",
       "     var: 'gene_ids', 'feature_types', 'genome', 'n_cells', 'mt', 'ribo', 'hb', 'n_cells_by_counts', 'mean_counts', 'pct_dropout_by_counts', 'total_counts'\n",
       "     uns: 'log1p', 'spatial'\n",
       "     obsm: 'spatial', 'tangram_ct_pred', 'progeny_estimate', 'cytosig_estimate', 'dorothea_estimate'\n",
       "     layers: 'counts',\n",
       " 'f12hr': AnnData object with n_obs × n_vars = 1816 × 14640\n",
       "     obs: 'in_tissue', 'array_row', 'array_col', 'sample', 'n_genes', 'n_genes_by_counts', 'total_counts', 'total_counts_mt', 'pct_counts_mt', 'total_counts_ribo', 'pct_counts_ribo', 'total_counts_hb', 'pct_counts_hb', 'leiden'\n",
       "     var: 'gene_ids', 'feature_types', 'genome', 'n_cells', 'mt', 'ribo', 'hb', 'n_cells_by_counts', 'mean_counts', 'pct_dropout_by_counts', 'total_counts'\n",
       "     uns: 'log1p', 'spatial'\n",
       "     obsm: 'spatial', 'tangram_ct_pred', 'progeny_estimate', 'cytosig_estimate', 'dorothea_estimate'\n",
       "     layers: 'counts',\n",
       " 'fsham': AnnData object with n_obs × n_vars = 1466 × 14855\n",
       "     obs: 'in_tissue', 'array_row', 'array_col', 'sample', 'n_genes', 'n_genes_by_counts', 'total_counts', 'total_counts_mt', 'pct_counts_mt', 'total_counts_ribo', 'pct_counts_ribo', 'total_counts_hb', 'pct_counts_hb', 'leiden'\n",
       "     var: 'gene_ids', 'feature_types', 'genome', 'n_cells', 'mt', 'ribo', 'hb', 'n_cells_by_counts', 'mean_counts', 'pct_dropout_by_counts', 'total_counts'\n",
       "     uns: 'log1p', 'spatial'\n",
       "     obsm: 'spatial', 'tangram_ct_pred', 'progeny_estimate', 'cytosig_estimate', 'dorothea_estimate'\n",
       "     layers: 'counts',\n",
       " 'f2dps': AnnData object with n_obs × n_vars = 2110 × 15894\n",
       "     obs: 'in_tissue', 'array_row', 'array_col', 'sample', 'n_genes', 'n_genes_by_counts', 'total_counts', 'total_counts_mt', 'pct_counts_mt', 'total_counts_ribo', 'pct_counts_ribo', 'total_counts_hb', 'pct_counts_hb', 'leiden'\n",
       "     var: 'gene_ids', 'feature_types', 'genome', 'n_cells', 'mt', 'ribo', 'hb', 'n_cells_by_counts', 'mean_counts', 'pct_dropout_by_counts', 'total_counts'\n",
       "     uns: 'log1p', 'spatial'\n",
       "     obsm: 'spatial', 'tangram_ct_pred', 'progeny_estimate', 'cytosig_estimate', 'dorothea_estimate'\n",
       "     layers: 'counts'}"
      ]
     },
     "execution_count": 73,
     "metadata": {},
     "output_type": "execute_result"
    }
   ],
   "source": [
    "adatas"
   ]
  },
  {
   "cell_type": "markdown",
   "metadata": {},
   "source": []
  }
 ],
 "metadata": {
  "kernelspec": {
   "display_name": "spiana",
   "language": "python",
   "name": "spiana"
  },
  "language_info": {
   "codemirror_mode": {
    "name": "ipython",
    "version": 3
   },
   "file_extension": ".py",
   "mimetype": "text/x-python",
   "name": "python",
   "nbconvert_exporter": "python",
   "pygments_lexer": "ipython3",
   "version": "3.10.10"
  },
  "orig_nbformat": 4,
  "vscode": {
   "interpreter": {
    "hash": "f9f85f796d01129d0dd105a088854619f454435301f6ffec2fea96ecbd9be4ac"
   }
  }
 },
 "nbformat": 4,
 "nbformat_minor": 2
}
