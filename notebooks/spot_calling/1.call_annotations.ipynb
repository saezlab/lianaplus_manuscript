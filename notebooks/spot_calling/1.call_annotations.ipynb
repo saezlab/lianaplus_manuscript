{
 "cells": [
  {
   "attachments": {},
   "cell_type": "markdown",
   "metadata": {},
   "source": [
    "# Call Annotations"
   ]
  },
  {
   "cell_type": "code",
   "execution_count": 1,
   "metadata": {},
   "outputs": [],
   "source": [
    "import os\n",
    "import numpy as np\n",
    "import decoupler as dc\n",
    "import pandas as pd\n",
    "import scanpy as sc\n",
    "import squidpy as sq\n",
    "import mudata as mu\n",
    "import liana as li\n",
    "from liana.mt import lr_basis, basis"
   ]
  },
  {
   "cell_type": "code",
   "execution_count": null,
   "metadata": {},
   "outputs": [],
   "source": []
  },
  {
   "cell_type": "code",
   "execution_count": 2,
   "metadata": {},
   "outputs": [],
   "source": [
    "from utils import run_rf_auc"
   ]
  },
  {
   "cell_type": "code",
   "execution_count": null,
   "metadata": {},
   "outputs": [],
   "source": []
  },
  {
   "cell_type": "code",
   "execution_count": 3,
   "metadata": {},
   "outputs": [],
   "source": [
    "data_dir = os.path.join('..', '..', 'data', 'wu_et_al')\n",
    "dataset_names = ['1142243F', '1160920F', 'CID4290', 'CID44971', 'CID4535'] # 'CID4465' really unbalanced"
   ]
  },
  {
   "cell_type": "code",
   "execution_count": 4,
   "metadata": {},
   "outputs": [],
   "source": [
    "function_names = li.mt.sp.show_functions()['name']\n",
    "function_names = list(function_names[~function_names.str.contains('masked')]) + ['masked_spearman']"
   ]
  },
  {
   "cell_type": "code",
   "execution_count": 5,
   "metadata": {},
   "outputs": [
    {
     "data": {
      "text/plain": [
       "['pearson', 'spearman', 'cosine', 'jaccard', 'morans', 'masked_spearman']"
      ]
     },
     "execution_count": 5,
     "metadata": {},
     "output_type": "execute_result"
    }
   ],
   "source": [
    "function_names"
   ]
  },
  {
   "cell_type": "code",
   "execution_count": null,
   "metadata": {},
   "outputs": [],
   "source": []
  },
  {
   "cell_type": "code",
   "execution_count": 6,
   "metadata": {},
   "outputs": [],
   "source": [
    "# load map of genes to cytosig signatures\n",
    "cytosig_map = pd.read_csv('../cytosig_map.csv')\n",
    "cytosig_map['signature'] = 'S_'+cytosig_map['signature']\n",
    "# Cytokine expr to Cytosig Siagntures interactions\n",
    "interactions = list(zip(cytosig_map['gene'], cytosig_map['signature']))\n",
    "\n",
    "cytosig = pd.read_csv(\"https://raw.githubusercontent.com/data2intelligence/CytoSig/master/CytoSig/signature.centroid\", sep=\"\\t\")\n",
    "cytosig = cytosig.unstack().reset_index().rename(columns={'level_0':'source', 'level_1':'target', 0:'weight'})\n",
    "cytosig['source'] = 'S_' + cytosig['source']"
   ]
  },
  {
   "cell_type": "code",
   "execution_count": null,
   "metadata": {},
   "outputs": [],
   "source": []
  },
  {
   "attachments": {},
   "cell_type": "markdown",
   "metadata": {},
   "source": [
    "Run on all data"
   ]
  },
  {
   "cell_type": "code",
   "execution_count": 7,
   "metadata": {},
   "outputs": [
    {
     "name": "stdout",
     "output_type": "stream",
     "text": [
      "Invasive cancer + stroma + lymphocytes    3627\n",
      "Necrosis                                   568\n",
      "Stroma                                     445\n",
      "Artefact                                   119\n",
      "Lymphocytes                                 15\n",
      "TLS                                         10\n",
      "Name: Classification, dtype: int64\n",
      "Running pearson\n",
      "Running spearman\n",
      "Running cosine\n",
      "Running jaccard\n",
      "Running morans\n"
     ]
    },
    {
     "name": "stderr",
     "output_type": "stream",
     "text": [
      "/home/dbdimitrov/anaconda3/envs/spiana/lib/python3.10/site-packages/liana/method/sp/_spatial_pipe.py:473: VisibleDeprecationWarning: Creating an ndarray from ragged nested sequences (which is a list-or-tuple of lists-or-tuples-or ndarrays with different lengths or shapes) is deprecated. If you meant to do this, you must specify 'dtype=object' when creating the ndarray.\n",
      "/home/dbdimitrov/anaconda3/envs/spiana/lib/python3.10/site-packages/liana/method/sp/_spatial_pipe.py:473: VisibleDeprecationWarning: Creating an ndarray from ragged nested sequences (which is a list-or-tuple of lists-or-tuples-or ndarrays with different lengths or shapes) is deprecated. If you meant to do this, you must specify 'dtype=object' when creating the ndarray.\n"
     ]
    },
    {
     "name": "stdout",
     "output_type": "stream",
     "text": [
      "Running masked_spearman\n",
      "Evaluating 1142243F; Fold: 0\n",
      "Evaluating 1142243F; Fold: 1\n",
      "Evaluating 1142243F; Fold: 2\n",
      "Evaluating 1142243F; Fold: 3\n",
      "Evaluating 1142243F; Fold: 4\n",
      "Evaluating 1142243F; Fold: 5\n",
      "Evaluating 1142243F; Fold: 6\n",
      "Evaluating 1142243F; Fold: 7\n",
      "Evaluating 1142243F; Fold: 8\n",
      "Evaluating 1142243F; Fold: 9\n",
      "Evaluating 1142243F; Fold: 0\n",
      "Evaluating 1142243F; Fold: 1\n",
      "Evaluating 1142243F; Fold: 2\n",
      "Evaluating 1142243F; Fold: 3\n",
      "Evaluating 1142243F; Fold: 4\n",
      "Evaluating 1142243F; Fold: 5\n",
      "Evaluating 1142243F; Fold: 6\n",
      "Evaluating 1142243F; Fold: 7\n",
      "Evaluating 1142243F; Fold: 8\n",
      "Evaluating 1142243F; Fold: 9\n",
      "Invasive cancer + stroma + lymphocytes      3146\n",
      "Stroma                                      1132\n",
      "Normal glands + lymphocytes                  278\n",
      "Lymphocytes                                  186\n",
      "Adipose tissue                                83\n",
      "Artefact                                      48\n",
      "DCIS                                          12\n",
      "Cancer trapped in lymphocyte aggregation       9\n",
      "Name: Classification, dtype: int64\n",
      "Running pearson\n",
      "Running spearman\n",
      "Running cosine\n",
      "Running jaccard\n",
      "Running morans\n"
     ]
    },
    {
     "name": "stderr",
     "output_type": "stream",
     "text": [
      "/home/dbdimitrov/anaconda3/envs/spiana/lib/python3.10/site-packages/liana/method/sp/_spatial_pipe.py:473: VisibleDeprecationWarning: Creating an ndarray from ragged nested sequences (which is a list-or-tuple of lists-or-tuples-or ndarrays with different lengths or shapes) is deprecated. If you meant to do this, you must specify 'dtype=object' when creating the ndarray.\n",
      "/home/dbdimitrov/anaconda3/envs/spiana/lib/python3.10/site-packages/liana/method/sp/_spatial_pipe.py:473: VisibleDeprecationWarning: Creating an ndarray from ragged nested sequences (which is a list-or-tuple of lists-or-tuples-or ndarrays with different lengths or shapes) is deprecated. If you meant to do this, you must specify 'dtype=object' when creating the ndarray.\n"
     ]
    },
    {
     "name": "stdout",
     "output_type": "stream",
     "text": [
      "Running masked_spearman\n",
      "Evaluating 1160920F; Fold: 0\n",
      "Evaluating 1160920F; Fold: 1\n",
      "Evaluating 1160920F; Fold: 2\n",
      "Evaluating 1160920F; Fold: 3\n",
      "Evaluating 1160920F; Fold: 4\n",
      "Evaluating 1160920F; Fold: 5\n",
      "Evaluating 1160920F; Fold: 6\n",
      "Evaluating 1160920F; Fold: 7\n",
      "Evaluating 1160920F; Fold: 8\n",
      "Evaluating 1160920F; Fold: 9\n",
      "Evaluating 1160920F; Fold: 0\n",
      "Evaluating 1160920F; Fold: 1\n",
      "Evaluating 1160920F; Fold: 2\n",
      "Evaluating 1160920F; Fold: 3\n",
      "Evaluating 1160920F; Fold: 4\n",
      "Evaluating 1160920F; Fold: 5\n",
      "Evaluating 1160920F; Fold: 6\n",
      "Evaluating 1160920F; Fold: 7\n",
      "Evaluating 1160920F; Fold: 8\n",
      "Evaluating 1160920F; Fold: 9\n",
      "Invasive cancer + stroma                  2082\n",
      "Invasive cancer + stroma + lymphocytes     215\n",
      "Stroma                                     122\n",
      "Artefact                                     7\n",
      "Name: Classification, dtype: int64\n",
      "Running pearson\n",
      "Running spearman\n",
      "Running cosine\n",
      "Running jaccard\n",
      "Running morans\n"
     ]
    },
    {
     "name": "stderr",
     "output_type": "stream",
     "text": [
      "/home/dbdimitrov/anaconda3/envs/spiana/lib/python3.10/site-packages/liana/method/sp/_spatial_pipe.py:473: VisibleDeprecationWarning: Creating an ndarray from ragged nested sequences (which is a list-or-tuple of lists-or-tuples-or ndarrays with different lengths or shapes) is deprecated. If you meant to do this, you must specify 'dtype=object' when creating the ndarray.\n",
      "/home/dbdimitrov/anaconda3/envs/spiana/lib/python3.10/site-packages/liana/method/sp/_spatial_pipe.py:473: VisibleDeprecationWarning: Creating an ndarray from ragged nested sequences (which is a list-or-tuple of lists-or-tuples-or ndarrays with different lengths or shapes) is deprecated. If you meant to do this, you must specify 'dtype=object' when creating the ndarray.\n"
     ]
    },
    {
     "name": "stdout",
     "output_type": "stream",
     "text": [
      "Running masked_spearman\n",
      "Evaluating CID4290; Fold: 0\n",
      "Evaluating CID4290; Fold: 1\n",
      "Evaluating CID4290; Fold: 2\n",
      "Evaluating CID4290; Fold: 3\n",
      "Evaluating CID4290; Fold: 4\n",
      "Evaluating CID4290; Fold: 5\n",
      "Evaluating CID4290; Fold: 6\n",
      "Evaluating CID4290; Fold: 7\n",
      "Evaluating CID4290; Fold: 8\n",
      "Evaluating CID4290; Fold: 9\n",
      "Evaluating CID4290; Fold: 0\n",
      "Evaluating CID4290; Fold: 1\n",
      "Evaluating CID4290; Fold: 2\n",
      "Evaluating CID4290; Fold: 3\n",
      "Evaluating CID4290; Fold: 4\n",
      "Evaluating CID4290; Fold: 5\n",
      "Evaluating CID4290; Fold: 6\n",
      "Evaluating CID4290; Fold: 7\n",
      "Evaluating CID4290; Fold: 8\n",
      "Evaluating CID4290; Fold: 9\n",
      "Invasive cancer + lymphocytes    317\n",
      "DCIS                             273\n",
      "Normal + stroma + lymphocytes    240\n",
      "Stroma                           134\n",
      "Stroma + adipose tissue          114\n",
      "Lymphocytes                       81\n",
      "Artefact                           1\n",
      "Name: Classification, dtype: int64\n",
      "Running pearson\n",
      "Running spearman\n",
      "Running cosine\n",
      "Running jaccard\n",
      "Running morans\n"
     ]
    },
    {
     "name": "stderr",
     "output_type": "stream",
     "text": [
      "/home/dbdimitrov/anaconda3/envs/spiana/lib/python3.10/site-packages/liana/method/sp/_spatial_pipe.py:473: VisibleDeprecationWarning: Creating an ndarray from ragged nested sequences (which is a list-or-tuple of lists-or-tuples-or ndarrays with different lengths or shapes) is deprecated. If you meant to do this, you must specify 'dtype=object' when creating the ndarray.\n",
      "/home/dbdimitrov/anaconda3/envs/spiana/lib/python3.10/site-packages/liana/method/sp/_spatial_pipe.py:473: VisibleDeprecationWarning: Creating an ndarray from ragged nested sequences (which is a list-or-tuple of lists-or-tuples-or ndarrays with different lengths or shapes) is deprecated. If you meant to do this, you must specify 'dtype=object' when creating the ndarray.\n"
     ]
    },
    {
     "name": "stdout",
     "output_type": "stream",
     "text": [
      "Running masked_spearman\n",
      "Evaluating CID44971; Fold: 0\n",
      "Evaluating CID44971; Fold: 1\n",
      "Evaluating CID44971; Fold: 2\n",
      "Evaluating CID44971; Fold: 3\n",
      "Evaluating CID44971; Fold: 4\n",
      "Evaluating CID44971; Fold: 5\n",
      "Evaluating CID44971; Fold: 6\n",
      "Evaluating CID44971; Fold: 7\n",
      "Evaluating CID44971; Fold: 8\n",
      "Evaluating CID44971; Fold: 9\n",
      "Evaluating CID44971; Fold: 0\n",
      "Evaluating CID44971; Fold: 1\n",
      "Evaluating CID44971; Fold: 2\n",
      "Evaluating CID44971; Fold: 3\n",
      "Evaluating CID44971; Fold: 4\n",
      "Evaluating CID44971; Fold: 5\n",
      "Evaluating CID44971; Fold: 6\n",
      "Evaluating CID44971; Fold: 7\n",
      "Evaluating CID44971; Fold: 8\n",
      "Evaluating CID44971; Fold: 9\n",
      "Invasive cancer                                   418\n",
      "Invasive cancer + lymphocytes                     361\n",
      "Stroma                                            169\n",
      "Uncertain                                          73\n",
      "Lymphocytes                                        69\n",
      "Artefact                                           23\n",
      "Adipose tissue                                      8\n",
      "Invasive cancer + adipose tissue + lymphocytes      3\n",
      "Name: Classification, dtype: int64\n",
      "Running pearson\n",
      "Running spearman\n",
      "Running cosine\n",
      "Running jaccard\n",
      "Running morans\n"
     ]
    },
    {
     "name": "stderr",
     "output_type": "stream",
     "text": [
      "/home/dbdimitrov/anaconda3/envs/spiana/lib/python3.10/site-packages/liana/method/sp/_spatial_pipe.py:473: VisibleDeprecationWarning: Creating an ndarray from ragged nested sequences (which is a list-or-tuple of lists-or-tuples-or ndarrays with different lengths or shapes) is deprecated. If you meant to do this, you must specify 'dtype=object' when creating the ndarray.\n",
      "/home/dbdimitrov/anaconda3/envs/spiana/lib/python3.10/site-packages/liana/method/sp/_spatial_pipe.py:473: VisibleDeprecationWarning: Creating an ndarray from ragged nested sequences (which is a list-or-tuple of lists-or-tuples-or ndarrays with different lengths or shapes) is deprecated. If you meant to do this, you must specify 'dtype=object' when creating the ndarray.\n"
     ]
    },
    {
     "name": "stdout",
     "output_type": "stream",
     "text": [
      "Running masked_spearman\n",
      "Evaluating CID4535; Fold: 0\n",
      "Evaluating CID4535; Fold: 1\n",
      "Evaluating CID4535; Fold: 2\n",
      "Evaluating CID4535; Fold: 3\n",
      "Evaluating CID4535; Fold: 4\n",
      "Evaluating CID4535; Fold: 5\n",
      "Evaluating CID4535; Fold: 6\n",
      "Evaluating CID4535; Fold: 7\n",
      "Evaluating CID4535; Fold: 8\n",
      "Evaluating CID4535; Fold: 9\n",
      "Evaluating CID4535; Fold: 0\n",
      "Evaluating CID4535; Fold: 1\n",
      "Evaluating CID4535; Fold: 2\n",
      "Evaluating CID4535; Fold: 3\n",
      "Evaluating CID4535; Fold: 4\n",
      "Evaluating CID4535; Fold: 5\n",
      "Evaluating CID4535; Fold: 6\n",
      "Evaluating CID4535; Fold: 7\n",
      "Evaluating CID4535; Fold: 8\n",
      "Evaluating CID4535; Fold: 9\n"
     ]
    }
   ],
   "source": [
    "for dataset_name in dataset_names:\n",
    "    adata = sc.read_h5ad(os.path.join(data_dir, f\"{dataset_name}.h5ad\"))\n",
    "    \n",
    "    print(adata.obs['Classification'].value_counts())\n",
    "    \n",
    "    adata.uns['function_names'] = function_names\n",
    "    \n",
    "    # to binary\n",
    "    adata.obs['Classification'][adata.obs['Classification'].isna()] = 'Artefact'\n",
    "    adata.obs['spot_label'] = adata.obs['Classification'].str.contains('cancer').astype(int)\n",
    "    \n",
    "    # Preprocess\n",
    "    sc.pp.filter_cells(adata, min_genes=400)\n",
    "    sc.pp.filter_genes(adata, min_cells=20)\n",
    "\n",
    "    adata.layers[\"counts\"] = adata.X.copy()\n",
    "    sc.pp.normalize_total(adata, inplace=True)\n",
    "    \n",
    "    sc.pp.log1p(adata)\n",
    "    # spatial weights\n",
    "    sq.gr.spatial_neighbors(adata, n_rings=1, coord_type=\"grid\", n_neighs=6)\n",
    "    \n",
    "    # Cytokine activities\n",
    "    dc.run_mlm(adata, cytosig, use_raw=False)\n",
    "    \n",
    "    mdata = mu.MuData({'rna': adata,\n",
    "                   \"cytosig\": li.fun.obsm_to_adata(adata, \"mlm_estimate\")})\n",
    "    mdata.uns = adata.uns\n",
    "    mdata.obsm = adata.obsm\n",
    "    mdata.obsp = adata.obsp\n",
    "    mdata.obs = adata.obs\n",
    "    \n",
    "    # Run all functions\n",
    "    for function_name in function_names:\n",
    "        print(f\"Running {function_name}\")\n",
    "        \n",
    "        lr_basis(adata,\n",
    "                function_name=function_name,\n",
    "                obsm_added=function_name, \n",
    "                key_added= function_name,\n",
    "                use_raw=False, \n",
    "                proximity_key=\"spatial_connectivities\"\n",
    "                )\n",
    "        \n",
    "        basis(mdata,\n",
    "            x_mod='rna',\n",
    "            y_mod='cytosig',\n",
    "            interactions=interactions,\n",
    "            function_name=function_name, \n",
    "            mod_added=function_name,\n",
    "            key_added=function_name, \n",
    "            proximity_key=\"spatial_connectivities\"\n",
    "            )\n",
    "        \n",
    "        \n",
    "    # eval LR basis\n",
    "    run_rf_auc(mdata.mod['rna'], dataset_name)\n",
    "    os.makedirs(os.path.join(data_dir, 'results'), exist_ok=True)\n",
    "    performance = adata.uns['performance']\n",
    "    performance.to_csv(os.path.join(data_dir, 'results', f\"{dataset_name}_performance.csv\"))\n",
    "    \n",
    "    # eval ligand - cytokine interactions\n",
    "    run_rf_auc(mdata, dataset_name)\n",
    "    os.makedirs(os.path.join(data_dir, 'results'), exist_ok=True)\n",
    "    performance = mdata.uns['performance']\n",
    "    performance.to_csv(os.path.join(data_dir, 'results', f\"{dataset_name}_lig_performance.csv\"))\n"
   ]
  },
  {
   "cell_type": "code",
   "execution_count": null,
   "metadata": {},
   "outputs": [],
   "source": []
  },
  {
   "cell_type": "code",
   "execution_count": null,
   "metadata": {},
   "outputs": [],
   "source": []
  },
  {
   "attachments": {},
   "cell_type": "markdown",
   "metadata": {},
   "source": [
    "Plot Results"
   ]
  },
  {
   "cell_type": "code",
   "execution_count": 96,
   "metadata": {},
   "outputs": [],
   "source": [
    "import plotnine as p9"
   ]
  },
  {
   "cell_type": "code",
   "execution_count": 115,
   "metadata": {},
   "outputs": [],
   "source": [
    "## read results\n",
    "results = os.listdir(os.path.join(data_dir, 'results'))\n",
    "results = [result for result in results if not result.__contains__('lig')]\n",
    "results_df = []\n",
    "for result in results:\n",
    "    results_df.append(pd.read_csv(os.path.join(data_dir, 'results', result)))\n",
    "results_df = pd.concat(results_df)"
   ]
  },
  {
   "cell_type": "code",
   "execution_count": 117,
   "metadata": {},
   "outputs": [],
   "source": [
    "performance = results_df.groupby(['dataset_name', 'function_name']).mean().reset_index()"
   ]
  },
  {
   "cell_type": "code",
   "execution_count": 118,
   "metadata": {},
   "outputs": [],
   "source": [
    "# rank by dataset_name\n",
    "performance['rank'] = performance.groupby('dataset_name')['f1'].rank(ascending=False).astype('int')"
   ]
  },
  {
   "cell_type": "code",
   "execution_count": 119,
   "metadata": {},
   "outputs": [
    {
     "data": {
      "image/png": "[encoded data removed]",
      "text/plain": [
       "<Figure size 640x480 with 1 Axes>"
      ]
     },
     "metadata": {},
     "output_type": "display_data"
    },
    {
     "data": {
      "text/plain": [
       "<ggplot: (8755470406134)>"
      ]
     },
     "execution_count": 119,
     "metadata": {},
     "output_type": "execute_result"
    }
   ],
   "source": [
    "# heatmap plot of function_name, x roc_auc, y f1\n",
    "(p9.ggplot(performance, p9.aes(x='dataset_name', y='function_name', fill='f1')) + \n",
    " p9.geom_tile() + \n",
    " p9.geom_text(p9.aes(label='rank'), size=12, color='white') +\n",
    " p9.theme(axis_text_x=p9.element_text(rotation=90)) + \n",
    " p9.scale_fill_cmap(limits=(0.5, 1), cmap_name='cividis') +\n",
    " p9.labs(fill='F1 (weighted)')\n",
    " )"
   ]
  },
  {
   "cell_type": "code",
   "execution_count": null,
   "metadata": {},
   "outputs": [],
   "source": []
  },
  {
   "cell_type": "code",
   "execution_count": null,
   "metadata": {},
   "outputs": [],
   "source": []
  },
  {
   "cell_type": "code",
   "execution_count": null,
   "metadata": {},
   "outputs": [],
   "source": []
  },
  {
   "cell_type": "code",
   "execution_count": null,
   "metadata": {},
   "outputs": [],
   "source": []
  },
  {
   "attachments": {},
   "cell_type": "markdown",
   "metadata": {},
   "source": [
    "mdata"
   ]
  },
  {
   "cell_type": "code",
   "execution_count": null,
   "metadata": {},
   "outputs": [],
   "source": []
  },
  {
   "cell_type": "code",
   "execution_count": null,
   "metadata": {},
   "outputs": [],
   "source": []
  },
  {
   "cell_type": "code",
   "execution_count": null,
   "metadata": {},
   "outputs": [],
   "source": []
  },
  {
   "cell_type": "code",
   "execution_count": null,
   "metadata": {},
   "outputs": [],
   "source": []
  },
  {
   "cell_type": "code",
   "execution_count": null,
   "metadata": {},
   "outputs": [],
   "source": [
    "# scatter plot of function_name, x roc_auc, y f1\n",
    "p9.ggplot(performance, p9.aes(x='roc_auc', y='f1', colour='function_name')) + p9.geom_point()"
   ]
  },
  {
   "cell_type": "code",
   "execution_count": null,
   "metadata": {},
   "outputs": [],
   "source": []
  },
  {
   "cell_type": "code",
   "execution_count": null,
   "metadata": {},
   "outputs": [],
   "source": []
  },
  {
   "cell_type": "code",
   "execution_count": null,
   "metadata": {},
   "outputs": [],
   "source": []
  },
  {
   "cell_type": "code",
   "execution_count": null,
   "metadata": {},
   "outputs": [],
   "source": []
  },
  {
   "cell_type": "code",
   "execution_count": null,
   "metadata": {},
   "outputs": [],
   "source": []
  }
 ],
 "metadata": {
  "kernelspec": {
   "display_name": "spiana",
   "language": "python",
   "name": "spiana"
  },
  "language_info": {
   "codemirror_mode": {
    "name": "ipython",
    "version": 3
   },
   "file_extension": ".py",
   "mimetype": "text/x-python",
   "name": "python",
   "nbconvert_exporter": "python",
   "pygments_lexer": "ipython3",
   "version": "3.10.10"
  },
  "orig_nbformat": 4,
  "vscode": {
   "interpreter": {
    "hash": "b688e7f183144fde965166e58483e32fc6dbc6fc380ccc51d49ef608da0385a8"
   }
  }
 },
 "nbformat": 4,
 "nbformat_minor": 2
}
