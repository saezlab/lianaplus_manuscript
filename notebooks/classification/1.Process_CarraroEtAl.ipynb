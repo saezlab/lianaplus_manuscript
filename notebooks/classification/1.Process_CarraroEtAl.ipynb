{
 "cells": [
  {
   "attachments": {},
   "cell_type": "markdown",
   "metadata": {},
   "source": [
    "# Process Carraro et al."
   ]
  },
  {
   "attachments": {},
   "cell_type": "markdown",
   "metadata": {},
   "source": [
    "## Set up Env"
   ]
  },
  {
   "cell_type": "code",
   "execution_count": 1,
   "metadata": {},
   "outputs": [],
   "source": [
    "import os\n",
    "import pandas as pd\n",
    "import numpy as np\n",
    "import scanpy as sc\n",
    "from scipy.sparse import csr_matrix"
   ]
  },
  {
   "cell_type": "code",
   "execution_count": 2,
   "metadata": {},
   "outputs": [],
   "source": [
    "import liana as li"
   ]
  },
  {
   "cell_type": "code",
   "execution_count": 3,
   "metadata": {},
   "outputs": [],
   "source": [
    "from prep_utils import filter_samples, filter_celltypes"
   ]
  },
  {
   "cell_type": "code",
   "execution_count": 4,
   "metadata": {},
   "outputs": [],
   "source": [
    "dataset = 'carraro'\n",
    "groupby = 'major'\n",
    "sample_key = 'orig.ident'\n",
    "condition_key = 'type'\n",
    "batch_key = 'lab'\n",
    "\n",
    "min_cells_per_sample = 700\n",
    "sample_zcounts_max = 3\n",
    "sample_zcounts_min = -2\n",
    "\n",
    "# set filtering parameters\n",
    "min_cells = 10 # min number of cells per cell type\n",
    "min_samples = 5 # min number of samples that pass the threshold per cell type"
   ]
  },
  {
   "cell_type": "code",
   "execution_count": null,
   "metadata": {},
   "outputs": [],
   "source": []
  },
  {
   "attachments": {},
   "cell_type": "markdown",
   "metadata": {},
   "source": [
    "### Load data"
   ]
  },
  {
   "cell_type": "code",
   "execution_count": null,
   "metadata": {},
   "outputs": [],
   "source": [
    "adata = sc.read_h5ad(os.path.join('data', \"carraro.h5ad\"))\n",
    "adata"
   ]
  },
  {
   "attachments": {},
   "cell_type": "markdown",
   "metadata": {},
   "source": [
    "Filter samples, cell types, and genes"
   ]
  },
  {
   "cell_type": "code",
   "execution_count": null,
   "metadata": {},
   "outputs": [],
   "source": [
    "adata = filter_samples(adata, sample_key, condition_key, min_cells_per_sample, sample_zcounts_max, sample_zcounts_min)"
   ]
  },
  {
   "cell_type": "code",
   "execution_count": null,
   "metadata": {},
   "outputs": [],
   "source": [
    "adata = filter_celltypes(adata=adata, groupby=groupby, sample_key=sample_key, min_cells=min_cells, min_samples=min_samples)"
   ]
  },
  {
   "cell_type": "code",
   "execution_count": null,
   "metadata": {},
   "outputs": [],
   "source": [
    "# Remove genes expressed in few cells, normalize\n",
    "sc.pp.filter_genes(adata, min_cells=30)\n",
    "adata"
   ]
  },
  {
   "cell_type": "code",
   "execution_count": null,
   "metadata": {},
   "outputs": [],
   "source": []
  },
  {
   "cell_type": "code",
   "execution_count": null,
   "metadata": {},
   "outputs": [],
   "source": [
    "# adata.X = sc.pp.combat(adata, key=batch_key)"
   ]
  },
  {
   "cell_type": "code",
   "execution_count": null,
   "metadata": {},
   "outputs": [],
   "source": []
  },
  {
   "attachments": {},
   "cell_type": "markdown",
   "metadata": {},
   "source": [
    "### Normalize"
   ]
  },
  {
   "cell_type": "code",
   "execution_count": null,
   "metadata": {},
   "outputs": [],
   "source": [
    "sc.pp.normalize_total(adata, target_sum=1e4)\n",
    "sc.pp.log1p(adata)"
   ]
  },
  {
   "cell_type": "code",
   "execution_count": null,
   "metadata": {},
   "outputs": [],
   "source": []
  },
  {
   "cell_type": "code",
   "execution_count": null,
   "metadata": {},
   "outputs": [],
   "source": [
    "li.mt.rank_aggregate.by_sample(adata, groupby=groupby, use_raw=False, sample_key=sample_key, verbose=True, n_perms=None)"
   ]
  },
  {
   "cell_type": "code",
   "execution_count": null,
   "metadata": {},
   "outputs": [],
   "source": []
  },
  {
   "cell_type": "code",
   "execution_count": null,
   "metadata": {},
   "outputs": [],
   "source": [
    "adata.write_h5ad(os.path.join('data', \"carraro_processed.h5ad\"))"
   ]
  },
  {
   "cell_type": "code",
   "execution_count": null,
   "metadata": {},
   "outputs": [],
   "source": []
  },
  {
   "attachments": {},
   "cell_type": "markdown",
   "metadata": {},
   "source": [
    "## Classify"
   ]
  },
  {
   "cell_type": "code",
   "execution_count": 5,
   "metadata": {},
   "outputs": [
    {
     "name": "stderr",
     "output_type": "stream",
     "text": [
      "/home/dbdimitrov/anaconda3/envs/spiana/lib/python3.10/site-packages/tqdm/auto.py:21: TqdmWarning: IProgress not found. Please update jupyter and ipywidgets. See https://ipywidgets.readthedocs.io/en/stable/user_install.html\n"
     ]
    }
   ],
   "source": [
    "from classify_utils import run_classifier, run_mofatalk, run_tensor_c2c, NestedDict\n",
    "from sklearn.model_selection import StratifiedKFold"
   ]
  },
  {
   "cell_type": "code",
   "execution_count": null,
   "metadata": {},
   "outputs": [],
   "source": []
  },
  {
   "cell_type": "code",
   "execution_count": 6,
   "metadata": {},
   "outputs": [],
   "source": [
    "adata = sc.read_h5ad(os.path.join('data', f\"{dataset}_processed.h5ad\"), backed='r')"
   ]
  },
  {
   "cell_type": "code",
   "execution_count": null,
   "metadata": {},
   "outputs": [],
   "source": []
  },
  {
   "cell_type": "code",
   "execution_count": 7,
   "metadata": {},
   "outputs": [],
   "source": [
    "methods = li.mt.show_methods()\n",
    "# in case a method is missing Magnitude Score, use Specificity Score\n",
    "methods['score_key'] = methods[\"Magnitude Score\"].fillna(methods[\"Specificity Score\"])\n",
    "# remove Geometric Mean\tmethod\n",
    "methods = methods[methods['Method Name'] != 'Geometric Mean']\n",
    "# drop duplicated scores (expr_prod for NATMI & Connectome)\n",
    "methods = methods.drop_duplicates(subset=['Method Name', 'score_key'])\n",
    "methods = methods[['Method Name', 'score_key']]"
   ]
  },
  {
   "cell_type": "code",
   "execution_count": null,
   "metadata": {},
   "outputs": [],
   "source": []
  },
  {
   "cell_type": "code",
   "execution_count": 8,
   "metadata": {},
   "outputs": [],
   "source": [
    "adata.uns['mofa_res'] = NestedDict()\n",
    "adata.uns['tensor_res'] = NestedDict()\n",
    "adata.uns['auc'] = pd.DataFrame(columns=['reduction_name', 'score_key', 'fold', 'auc', 'tpr', 'fpr', 'train_split', 'test_split'])\n",
    "skf = StratifiedKFold(n_splits=5, shuffle=True, random_state=0)"
   ]
  },
  {
   "cell_type": "code",
   "execution_count": null,
   "metadata": {},
   "outputs": [],
   "source": []
  },
  {
   "cell_type": "code",
   "execution_count": 9,
   "metadata": {},
   "outputs": [
    {
     "name": "stdout",
     "output_type": "stream",
     "text": [
      "Creating views with: lr_means\n"
     ]
    },
    {
     "name": "stderr",
     "output_type": "stream",
     "text": [
      "100%|██████████| 16/16 [00:00<00:00, 184.99it/s]\n"
     ]
    },
    {
     "name": "stdout",
     "output_type": "stream",
     "text": [
      "\n",
      "        #########################################################\n",
      "        ###           __  __  ____  ______                    ### \n",
      "        ###          |  \\/  |/ __ \\|  ____/\\    _             ### \n",
      "        ###          | \\  / | |  | | |__ /  \\ _| |_           ### \n",
      "        ###          | |\\/| | |  | |  __/ /\\ \\_   _|          ###\n",
      "        ###          | |  | | |__| | | / ____ \\|_|            ###\n",
      "        ###          |_|  |_|\\____/|_|/_/    \\_\\              ###\n",
      "        ###                                                   ### \n",
      "        ######################################################### \n",
      "       \n",
      " \n",
      "        \n",
      "Loaded view='Secretory&Ciliated' group='group1' with N=22 samples and D=199 features...\n",
      "Loaded view='Secretory&Secretory' group='group1' with N=22 samples and D=253 features...\n",
      "Loaded view='Secretory&Basal' group='group1' with N=22 samples and D=290 features...\n",
      "Loaded view='Basal&Basal' group='group1' with N=22 samples and D=387 features...\n",
      "Loaded view='Basal&Secretory' group='group1' with N=22 samples and D=332 features...\n",
      "Loaded view='Ciliated&Ciliated' group='group1' with N=22 samples and D=157 features...\n",
      "Loaded view='Ciliated&Secretory' group='group1' with N=22 samples and D=190 features...\n",
      "Loaded view='Basal&Ciliated' group='group1' with N=22 samples and D=240 features...\n",
      "Loaded view='Ciliated&Basal' group='group1' with N=22 samples and D=221 features...\n",
      "Loaded view='FOXN4+&FOXN4+' group='group1' with N=22 samples and D=151 features...\n",
      "Loaded view='Ciliated&FOXN4+' group='group1' with N=22 samples and D=138 features...\n",
      "Loaded view='Secretory&FOXN4+' group='group1' with N=22 samples and D=163 features...\n",
      "Loaded view='FOXN4+&Basal' group='group1' with N=22 samples and D=185 features...\n",
      "Loaded view='FOXN4+&Ciliated' group='group1' with N=22 samples and D=131 features...\n",
      "Loaded view='FOXN4+&Secretory' group='group1' with N=22 samples and D=151 features...\n",
      "Loaded view='Basal&FOXN4+' group='group1' with N=22 samples and D=213 features...\n",
      "\n",
      "\n",
      "Model options:\n",
      "- Automatic Relevance Determination prior on the factors: True\n",
      "- Automatic Relevance Determination prior on the weights: True\n",
      "- Spike-and-slab prior on the factors: False\n",
      "- Spike-and-slab prior on the weights: True\n",
      "Likelihoods:\n",
      "- View 0 (Secretory&Ciliated): gaussian\n",
      "- View 1 (Secretory&Secretory): gaussian\n",
      "- View 2 (Secretory&Basal): gaussian\n",
      "- View 3 (Basal&Basal): gaussian\n",
      "- View 4 (Basal&Secretory): gaussian\n",
      "- View 5 (Ciliated&Ciliated): gaussian\n",
      "- View 6 (Ciliated&Secretory): gaussian\n",
      "- View 7 (Basal&Ciliated): gaussian\n",
      "- View 8 (Ciliated&Basal): gaussian\n",
      "- View 9 (FOXN4+&FOXN4+): gaussian\n",
      "- View 10 (Ciliated&FOXN4+): gaussian\n",
      "- View 11 (Secretory&FOXN4+): gaussian\n",
      "- View 12 (FOXN4+&Basal): gaussian\n",
      "- View 13 (FOXN4+&Ciliated): gaussian\n",
      "- View 14 (FOXN4+&Secretory): gaussian\n",
      "- View 15 (Basal&FOXN4+): gaussian\n",
      "\n",
      "\n",
      "\n",
      "\n",
      "######################################\n",
      "## Training the model with seed 1337 ##\n",
      "######################################\n",
      "\n",
      "\n",
      "\n",
      "Converged!\n",
      "\n",
      "\n",
      "\n",
      "#######################\n",
      "## Training finished ##\n",
      "#######################\n",
      "\n",
      "\n",
      "Saving model in /tmp/mofa_20230421-100630.hdf5...\n",
      "Saved MOFA embeddings in .obsm['X_mofa'] slot and their loadings in .varm['LFs'].\n"
     ]
    },
    {
     "name": "stderr",
     "output_type": "stream",
     "text": [
      "100%|██████████| 22/22 [00:21<00:00,  1.04it/s]\n"
     ]
    },
    {
     "name": "stdout",
     "output_type": "stream",
     "text": [
      "Running Tensor Factorization\n",
      "Creating views with: expr_prod\n"
     ]
    },
    {
     "name": "stderr",
     "output_type": "stream",
     "text": [
      "100%|██████████| 16/16 [00:00<00:00, 208.53it/s]\n"
     ]
    },
    {
     "name": "stdout",
     "output_type": "stream",
     "text": [
      "\n",
      "        #########################################################\n",
      "        ###           __  __  ____  ______                    ### \n",
      "        ###          |  \\/  |/ __ \\|  ____/\\    _             ### \n",
      "        ###          | \\  / | |  | | |__ /  \\ _| |_           ### \n",
      "        ###          | |\\/| | |  | |  __/ /\\ \\_   _|          ###\n",
      "        ###          | |  | | |__| | | / ____ \\|_|            ###\n",
      "        ###          |_|  |_|\\____/|_|/_/    \\_\\              ###\n",
      "        ###                                                   ### \n",
      "        ######################################################### \n",
      "       \n",
      " \n",
      "        \n",
      "Loaded view='Secretory&Ciliated' group='group1' with N=22 samples and D=199 features...\n",
      "Loaded view='Secretory&Secretory' group='group1' with N=22 samples and D=253 features...\n",
      "Loaded view='Secretory&Basal' group='group1' with N=22 samples and D=290 features...\n",
      "Loaded view='Basal&Basal' group='group1' with N=22 samples and D=387 features...\n",
      "Loaded view='Basal&Secretory' group='group1' with N=22 samples and D=332 features...\n",
      "Loaded view='Ciliated&Ciliated' group='group1' with N=22 samples and D=157 features...\n",
      "Loaded view='Ciliated&Secretory' group='group1' with N=22 samples and D=190 features...\n",
      "Loaded view='Basal&Ciliated' group='group1' with N=22 samples and D=240 features...\n",
      "Loaded view='Ciliated&Basal' group='group1' with N=22 samples and D=221 features...\n",
      "Loaded view='FOXN4+&FOXN4+' group='group1' with N=22 samples and D=151 features...\n",
      "Loaded view='Ciliated&FOXN4+' group='group1' with N=22 samples and D=138 features...\n",
      "Loaded view='Secretory&FOXN4+' group='group1' with N=22 samples and D=163 features...\n",
      "Loaded view='FOXN4+&Basal' group='group1' with N=22 samples and D=185 features...\n",
      "Loaded view='FOXN4+&Ciliated' group='group1' with N=22 samples and D=131 features...\n",
      "Loaded view='FOXN4+&Secretory' group='group1' with N=22 samples and D=151 features...\n",
      "Loaded view='Basal&FOXN4+' group='group1' with N=22 samples and D=213 features...\n",
      "\n",
      "\n",
      "Model options:\n",
      "- Automatic Relevance Determination prior on the factors: True\n",
      "- Automatic Relevance Determination prior on the weights: True\n",
      "- Spike-and-slab prior on the factors: False\n",
      "- Spike-and-slab prior on the weights: True\n",
      "Likelihoods:\n",
      "- View 0 (Secretory&Ciliated): gaussian\n",
      "- View 1 (Secretory&Secretory): gaussian\n",
      "- View 2 (Secretory&Basal): gaussian\n",
      "- View 3 (Basal&Basal): gaussian\n",
      "- View 4 (Basal&Secretory): gaussian\n",
      "- View 5 (Ciliated&Ciliated): gaussian\n",
      "- View 6 (Ciliated&Secretory): gaussian\n",
      "- View 7 (Basal&Ciliated): gaussian\n",
      "- View 8 (Ciliated&Basal): gaussian\n",
      "- View 9 (FOXN4+&FOXN4+): gaussian\n",
      "- View 10 (Ciliated&FOXN4+): gaussian\n",
      "- View 11 (Secretory&FOXN4+): gaussian\n",
      "- View 12 (FOXN4+&Basal): gaussian\n",
      "- View 13 (FOXN4+&Ciliated): gaussian\n",
      "- View 14 (FOXN4+&Secretory): gaussian\n",
      "- View 15 (Basal&FOXN4+): gaussian\n",
      "\n",
      "\n",
      "\n",
      "\n",
      "######################################\n",
      "## Training the model with seed 1337 ##\n",
      "######################################\n",
      "\n",
      "\n",
      "\n",
      "Converged!\n",
      "\n",
      "\n",
      "\n",
      "#######################\n",
      "## Training finished ##\n",
      "#######################\n",
      "\n",
      "\n",
      "Saving model in /tmp/mofa_20230421-100745.hdf5...\n",
      "Saved MOFA embeddings in .obsm['X_mofa'] slot and their loadings in .varm['LFs'].\n"
     ]
    },
    {
     "name": "stderr",
     "output_type": "stream",
     "text": [
      "100%|██████████| 22/22 [00:22<00:00,  1.01s/it]\n"
     ]
    },
    {
     "name": "stdout",
     "output_type": "stream",
     "text": [
      "Running Tensor Factorization\n"
     ]
    }
   ],
   "source": [
    "for score_key in methods['score_key'][:2]:\n",
    "    print(f\"Creating views with: {score_key}\")\n",
    "\n",
    "    run_mofatalk(adata=adata, score_key=score_key, sample_key=sample_key, condition_key=condition_key, batch_key=batch_key)\n",
    "    \n",
    "    run_tensor_c2c(adata=adata, score_key=score_key, sample_key=sample_key, condition_key=condition_key)\n",
    "    \n",
    "    run_classifier(adata=adata, skf=skf, score_key=score_key)\n"
   ]
  },
  {
   "cell_type": "code",
   "execution_count": 11,
   "metadata": {},
   "outputs": [],
   "source": [
    "adata.uns['auc']['dataset'] = dataset"
   ]
  },
  {
   "cell_type": "code",
   "execution_count": 12,
   "metadata": {},
   "outputs": [
    {
     "data": {
      "text/html": [
       "<div>\n",
       "<style scoped>\n",
       "    .dataframe tbody tr th:only-of-type {\n",
       "        vertical-align: middle;\n",
       "    }\n",
       "\n",
       "    .dataframe tbody tr th {\n",
       "        vertical-align: top;\n",
       "    }\n",
       "\n",
       "    .dataframe thead th {\n",
       "        text-align: right;\n",
       "    }\n",
       "</style>\n",
       "<table border=\"1\" class=\"dataframe\">\n",
       "  <thead>\n",
       "    <tr style=\"text-align: right;\">\n",
       "      <th></th>\n",
       "      <th>reduction_name</th>\n",
       "      <th>score_key</th>\n",
       "      <th>fold</th>\n",
       "      <th>auc</th>\n",
       "      <th>tpr</th>\n",
       "      <th>fpr</th>\n",
       "      <th>train_split</th>\n",
       "      <th>test_split</th>\n",
       "      <th>dataset</th>\n",
       "    </tr>\n",
       "  </thead>\n",
       "  <tbody>\n",
       "    <tr>\n",
       "      <th>10</th>\n",
       "      <td>mofa</td>\n",
       "      <td>expr_prod</td>\n",
       "      <td>0</td>\n",
       "      <td>1.000000</td>\n",
       "      <td>[0.0, 0.3333333333333333, 1.0, 1.0]</td>\n",
       "      <td>[0.0, 0.0, 0.0, 1.0]</td>\n",
       "      <td>[0, 1, 2, 3, 4, 6, 8, 9, 10, 12, 14, 15, 16, 1...</td>\n",
       "      <td>[5, 7, 11, 13, 19]</td>\n",
       "      <td>carraro</td>\n",
       "    </tr>\n",
       "    <tr>\n",
       "      <th>11</th>\n",
       "      <td>tensor</td>\n",
       "      <td>expr_prod</td>\n",
       "      <td>0</td>\n",
       "      <td>1.000000</td>\n",
       "      <td>[0.0, 0.3333333333333333, 1.0, 1.0]</td>\n",
       "      <td>[0.0, 0.0, 0.0, 1.0]</td>\n",
       "      <td>[0, 1, 2, 3, 4, 6, 8, 9, 10, 12, 14, 15, 16, 1...</td>\n",
       "      <td>[5, 7, 11, 13, 19]</td>\n",
       "      <td>carraro</td>\n",
       "    </tr>\n",
       "    <tr>\n",
       "      <th>2</th>\n",
       "      <td>mofa</td>\n",
       "      <td>lr_means</td>\n",
       "      <td>1</td>\n",
       "      <td>1.000000</td>\n",
       "      <td>[0.0, 0.3333333333333333, 1.0, 1.0]</td>\n",
       "      <td>[0.0, 0.0, 0.0, 1.0]</td>\n",
       "      <td>[0, 1, 3, 5, 6, 7, 8, 9, 11, 12, 13, 14, 15, 1...</td>\n",
       "      <td>[2, 4, 10, 18, 20]</td>\n",
       "      <td>carraro</td>\n",
       "    </tr>\n",
       "    <tr>\n",
       "      <th>3</th>\n",
       "      <td>tensor</td>\n",
       "      <td>lr_means</td>\n",
       "      <td>1</td>\n",
       "      <td>1.000000</td>\n",
       "      <td>[0.0, 0.3333333333333333, 1.0, 1.0]</td>\n",
       "      <td>[0.0, 0.0, 0.0, 1.0]</td>\n",
       "      <td>[0, 1, 3, 5, 6, 7, 8, 9, 11, 12, 13, 14, 15, 1...</td>\n",
       "      <td>[2, 4, 10, 18, 20]</td>\n",
       "      <td>carraro</td>\n",
       "    </tr>\n",
       "    <tr>\n",
       "      <th>4</th>\n",
       "      <td>mofa</td>\n",
       "      <td>lr_means</td>\n",
       "      <td>2</td>\n",
       "      <td>1.000000</td>\n",
       "      <td>[0.0, 0.5, 1.0, 1.0]</td>\n",
       "      <td>[0.0, 0.0, 0.0, 1.0]</td>\n",
       "      <td>[0, 1, 2, 3, 4, 5, 6, 7, 8, 9, 10, 11, 12, 13,...</td>\n",
       "      <td>[15, 16, 17, 21]</td>\n",
       "      <td>carraro</td>\n",
       "    </tr>\n",
       "    <tr>\n",
       "      <th>5</th>\n",
       "      <td>tensor</td>\n",
       "      <td>lr_means</td>\n",
       "      <td>2</td>\n",
       "      <td>1.000000</td>\n",
       "      <td>[0.0, 0.5, 1.0, 1.0]</td>\n",
       "      <td>[0.0, 0.0, 0.0, 1.0]</td>\n",
       "      <td>[0, 1, 2, 3, 4, 5, 6, 7, 8, 9, 10, 11, 12, 13,...</td>\n",
       "      <td>[15, 16, 17, 21]</td>\n",
       "      <td>carraro</td>\n",
       "    </tr>\n",
       "    <tr>\n",
       "      <th>13</th>\n",
       "      <td>tensor</td>\n",
       "      <td>expr_prod</td>\n",
       "      <td>1</td>\n",
       "      <td>1.000000</td>\n",
       "      <td>[0.0, 0.3333333333333333, 1.0, 1.0]</td>\n",
       "      <td>[0.0, 0.0, 0.0, 1.0]</td>\n",
       "      <td>[0, 1, 3, 5, 6, 7, 8, 9, 11, 12, 13, 14, 15, 1...</td>\n",
       "      <td>[2, 4, 10, 18, 20]</td>\n",
       "      <td>carraro</td>\n",
       "    </tr>\n",
       "    <tr>\n",
       "      <th>8</th>\n",
       "      <td>mofa</td>\n",
       "      <td>lr_means</td>\n",
       "      <td>4</td>\n",
       "      <td>1.000000</td>\n",
       "      <td>[0.0, 0.3333333333333333, 1.0, 1.0]</td>\n",
       "      <td>[0.0, 0.0, 0.0, 1.0]</td>\n",
       "      <td>[0, 1, 2, 3, 4, 5, 7, 10, 11, 13, 14, 15, 16, ...</td>\n",
       "      <td>[6, 8, 9, 12]</td>\n",
       "      <td>carraro</td>\n",
       "    </tr>\n",
       "    <tr>\n",
       "      <th>9</th>\n",
       "      <td>tensor</td>\n",
       "      <td>lr_means</td>\n",
       "      <td>4</td>\n",
       "      <td>1.000000</td>\n",
       "      <td>[0.0, 0.3333333333333333, 1.0, 1.0]</td>\n",
       "      <td>[0.0, 0.0, 0.0, 1.0]</td>\n",
       "      <td>[0, 1, 2, 3, 4, 5, 7, 10, 11, 13, 14, 15, 16, ...</td>\n",
       "      <td>[6, 8, 9, 12]</td>\n",
       "      <td>carraro</td>\n",
       "    </tr>\n",
       "    <tr>\n",
       "      <th>12</th>\n",
       "      <td>mofa</td>\n",
       "      <td>expr_prod</td>\n",
       "      <td>1</td>\n",
       "      <td>1.000000</td>\n",
       "      <td>[0.0, 0.3333333333333333, 1.0, 1.0]</td>\n",
       "      <td>[0.0, 0.0, 0.0, 1.0]</td>\n",
       "      <td>[0, 1, 3, 5, 6, 7, 8, 9, 11, 12, 13, 14, 15, 1...</td>\n",
       "      <td>[2, 4, 10, 18, 20]</td>\n",
       "      <td>carraro</td>\n",
       "    </tr>\n",
       "    <tr>\n",
       "      <th>18</th>\n",
       "      <td>mofa</td>\n",
       "      <td>expr_prod</td>\n",
       "      <td>4</td>\n",
       "      <td>0.666667</td>\n",
       "      <td>[0.0, 0.3333333333333333, 0.6666666666666666, ...</td>\n",
       "      <td>[0.0, 0.0, 0.0, 1.0, 1.0]</td>\n",
       "      <td>[0, 1, 2, 3, 4, 5, 7, 10, 11, 13, 14, 15, 16, ...</td>\n",
       "      <td>[6, 8, 9, 12]</td>\n",
       "      <td>carraro</td>\n",
       "    </tr>\n",
       "    <tr>\n",
       "      <th>0</th>\n",
       "      <td>mofa</td>\n",
       "      <td>lr_means</td>\n",
       "      <td>0</td>\n",
       "      <td>0.666667</td>\n",
       "      <td>[0.0, 0.3333333333333333, 0.6666666666666666, ...</td>\n",
       "      <td>[0.0, 0.0, 0.0, 1.0, 1.0]</td>\n",
       "      <td>[0, 1, 2, 3, 4, 6, 8, 9, 10, 12, 14, 15, 16, 1...</td>\n",
       "      <td>[5, 7, 11, 13, 19]</td>\n",
       "      <td>carraro</td>\n",
       "    </tr>\n",
       "    <tr>\n",
       "      <th>1</th>\n",
       "      <td>tensor</td>\n",
       "      <td>lr_means</td>\n",
       "      <td>0</td>\n",
       "      <td>0.666667</td>\n",
       "      <td>[0.0, 0.3333333333333333, 0.6666666666666666, ...</td>\n",
       "      <td>[0.0, 0.0, 0.0, 1.0, 1.0]</td>\n",
       "      <td>[0, 1, 2, 3, 4, 6, 8, 9, 10, 12, 14, 15, 16, 1...</td>\n",
       "      <td>[5, 7, 11, 13, 19]</td>\n",
       "      <td>carraro</td>\n",
       "    </tr>\n",
       "    <tr>\n",
       "      <th>19</th>\n",
       "      <td>tensor</td>\n",
       "      <td>expr_prod</td>\n",
       "      <td>4</td>\n",
       "      <td>0.666667</td>\n",
       "      <td>[0.0, 0.3333333333333333, 0.6666666666666666, ...</td>\n",
       "      <td>[0.0, 0.0, 0.0, 1.0, 1.0]</td>\n",
       "      <td>[0, 1, 2, 3, 4, 5, 7, 10, 11, 13, 14, 15, 16, ...</td>\n",
       "      <td>[6, 8, 9, 12]</td>\n",
       "      <td>carraro</td>\n",
       "    </tr>\n",
       "    <tr>\n",
       "      <th>14</th>\n",
       "      <td>mofa</td>\n",
       "      <td>expr_prod</td>\n",
       "      <td>2</td>\n",
       "      <td>0.500000</td>\n",
       "      <td>[0.0, 0.5, 0.5, 1.0]</td>\n",
       "      <td>[0.0, 0.0, 1.0, 1.0]</td>\n",
       "      <td>[0, 1, 2, 3, 4, 5, 6, 7, 8, 9, 10, 11, 12, 13,...</td>\n",
       "      <td>[15, 16, 17, 21]</td>\n",
       "      <td>carraro</td>\n",
       "    </tr>\n",
       "    <tr>\n",
       "      <th>15</th>\n",
       "      <td>tensor</td>\n",
       "      <td>expr_prod</td>\n",
       "      <td>2</td>\n",
       "      <td>0.500000</td>\n",
       "      <td>[0.0, 0.5, 0.5, 1.0]</td>\n",
       "      <td>[0.0, 0.0, 1.0, 1.0]</td>\n",
       "      <td>[0, 1, 2, 3, 4, 5, 6, 7, 8, 9, 10, 11, 12, 13,...</td>\n",
       "      <td>[15, 16, 17, 21]</td>\n",
       "      <td>carraro</td>\n",
       "    </tr>\n",
       "    <tr>\n",
       "      <th>7</th>\n",
       "      <td>tensor</td>\n",
       "      <td>lr_means</td>\n",
       "      <td>3</td>\n",
       "      <td>0.333333</td>\n",
       "      <td>[0.0, 0.3333333333333333, 0.3333333333333333, ...</td>\n",
       "      <td>[0.0, 0.0, 1.0, 1.0]</td>\n",
       "      <td>[2, 4, 5, 6, 7, 8, 9, 10, 11, 12, 13, 15, 16, ...</td>\n",
       "      <td>[0, 1, 3, 14]</td>\n",
       "      <td>carraro</td>\n",
       "    </tr>\n",
       "    <tr>\n",
       "      <th>16</th>\n",
       "      <td>mofa</td>\n",
       "      <td>expr_prod</td>\n",
       "      <td>3</td>\n",
       "      <td>0.333333</td>\n",
       "      <td>[0.0, 0.3333333333333333, 0.3333333333333333, ...</td>\n",
       "      <td>[0.0, 0.0, 1.0, 1.0]</td>\n",
       "      <td>[2, 4, 5, 6, 7, 8, 9, 10, 11, 12, 13, 15, 16, ...</td>\n",
       "      <td>[0, 1, 3, 14]</td>\n",
       "      <td>carraro</td>\n",
       "    </tr>\n",
       "    <tr>\n",
       "      <th>17</th>\n",
       "      <td>tensor</td>\n",
       "      <td>expr_prod</td>\n",
       "      <td>3</td>\n",
       "      <td>0.333333</td>\n",
       "      <td>[0.0, 0.3333333333333333, 0.3333333333333333, ...</td>\n",
       "      <td>[0.0, 0.0, 1.0, 1.0]</td>\n",
       "      <td>[2, 4, 5, 6, 7, 8, 9, 10, 11, 12, 13, 15, 16, ...</td>\n",
       "      <td>[0, 1, 3, 14]</td>\n",
       "      <td>carraro</td>\n",
       "    </tr>\n",
       "    <tr>\n",
       "      <th>6</th>\n",
       "      <td>mofa</td>\n",
       "      <td>lr_means</td>\n",
       "      <td>3</td>\n",
       "      <td>0.333333</td>\n",
       "      <td>[0.0, 0.3333333333333333, 0.3333333333333333, ...</td>\n",
       "      <td>[0.0, 0.0, 1.0, 1.0]</td>\n",
       "      <td>[2, 4, 5, 6, 7, 8, 9, 10, 11, 12, 13, 15, 16, ...</td>\n",
       "      <td>[0, 1, 3, 14]</td>\n",
       "      <td>carraro</td>\n",
       "    </tr>\n",
       "  </tbody>\n",
       "</table>\n",
       "</div>"
      ],
      "text/plain": [
       "   reduction_name  score_key  fold       auc  \\\n",
       "10           mofa  expr_prod     0  1.000000   \n",
       "11         tensor  expr_prod     0  1.000000   \n",
       "2            mofa   lr_means     1  1.000000   \n",
       "3          tensor   lr_means     1  1.000000   \n",
       "4            mofa   lr_means     2  1.000000   \n",
       "5          tensor   lr_means     2  1.000000   \n",
       "13         tensor  expr_prod     1  1.000000   \n",
       "8            mofa   lr_means     4  1.000000   \n",
       "9          tensor   lr_means     4  1.000000   \n",
       "12           mofa  expr_prod     1  1.000000   \n",
       "18           mofa  expr_prod     4  0.666667   \n",
       "0            mofa   lr_means     0  0.666667   \n",
       "1          tensor   lr_means     0  0.666667   \n",
       "19         tensor  expr_prod     4  0.666667   \n",
       "14           mofa  expr_prod     2  0.500000   \n",
       "15         tensor  expr_prod     2  0.500000   \n",
       "7          tensor   lr_means     3  0.333333   \n",
       "16           mofa  expr_prod     3  0.333333   \n",
       "17         tensor  expr_prod     3  0.333333   \n",
       "6            mofa   lr_means     3  0.333333   \n",
       "\n",
       "                                                  tpr  \\\n",
       "10                [0.0, 0.3333333333333333, 1.0, 1.0]   \n",
       "11                [0.0, 0.3333333333333333, 1.0, 1.0]   \n",
       "2                 [0.0, 0.3333333333333333, 1.0, 1.0]   \n",
       "3                 [0.0, 0.3333333333333333, 1.0, 1.0]   \n",
       "4                                [0.0, 0.5, 1.0, 1.0]   \n",
       "5                                [0.0, 0.5, 1.0, 1.0]   \n",
       "13                [0.0, 0.3333333333333333, 1.0, 1.0]   \n",
       "8                 [0.0, 0.3333333333333333, 1.0, 1.0]   \n",
       "9                 [0.0, 0.3333333333333333, 1.0, 1.0]   \n",
       "12                [0.0, 0.3333333333333333, 1.0, 1.0]   \n",
       "18  [0.0, 0.3333333333333333, 0.6666666666666666, ...   \n",
       "0   [0.0, 0.3333333333333333, 0.6666666666666666, ...   \n",
       "1   [0.0, 0.3333333333333333, 0.6666666666666666, ...   \n",
       "19  [0.0, 0.3333333333333333, 0.6666666666666666, ...   \n",
       "14                               [0.0, 0.5, 0.5, 1.0]   \n",
       "15                               [0.0, 0.5, 0.5, 1.0]   \n",
       "7   [0.0, 0.3333333333333333, 0.3333333333333333, ...   \n",
       "16  [0.0, 0.3333333333333333, 0.3333333333333333, ...   \n",
       "17  [0.0, 0.3333333333333333, 0.3333333333333333, ...   \n",
       "6   [0.0, 0.3333333333333333, 0.3333333333333333, ...   \n",
       "\n",
       "                          fpr  \\\n",
       "10       [0.0, 0.0, 0.0, 1.0]   \n",
       "11       [0.0, 0.0, 0.0, 1.0]   \n",
       "2        [0.0, 0.0, 0.0, 1.0]   \n",
       "3        [0.0, 0.0, 0.0, 1.0]   \n",
       "4        [0.0, 0.0, 0.0, 1.0]   \n",
       "5        [0.0, 0.0, 0.0, 1.0]   \n",
       "13       [0.0, 0.0, 0.0, 1.0]   \n",
       "8        [0.0, 0.0, 0.0, 1.0]   \n",
       "9        [0.0, 0.0, 0.0, 1.0]   \n",
       "12       [0.0, 0.0, 0.0, 1.0]   \n",
       "18  [0.0, 0.0, 0.0, 1.0, 1.0]   \n",
       "0   [0.0, 0.0, 0.0, 1.0, 1.0]   \n",
       "1   [0.0, 0.0, 0.0, 1.0, 1.0]   \n",
       "19  [0.0, 0.0, 0.0, 1.0, 1.0]   \n",
       "14       [0.0, 0.0, 1.0, 1.0]   \n",
       "15       [0.0, 0.0, 1.0, 1.0]   \n",
       "7        [0.0, 0.0, 1.0, 1.0]   \n",
       "16       [0.0, 0.0, 1.0, 1.0]   \n",
       "17       [0.0, 0.0, 1.0, 1.0]   \n",
       "6        [0.0, 0.0, 1.0, 1.0]   \n",
       "\n",
       "                                          train_split          test_split  \\\n",
       "10  [0, 1, 2, 3, 4, 6, 8, 9, 10, 12, 14, 15, 16, 1...  [5, 7, 11, 13, 19]   \n",
       "11  [0, 1, 2, 3, 4, 6, 8, 9, 10, 12, 14, 15, 16, 1...  [5, 7, 11, 13, 19]   \n",
       "2   [0, 1, 3, 5, 6, 7, 8, 9, 11, 12, 13, 14, 15, 1...  [2, 4, 10, 18, 20]   \n",
       "3   [0, 1, 3, 5, 6, 7, 8, 9, 11, 12, 13, 14, 15, 1...  [2, 4, 10, 18, 20]   \n",
       "4   [0, 1, 2, 3, 4, 5, 6, 7, 8, 9, 10, 11, 12, 13,...    [15, 16, 17, 21]   \n",
       "5   [0, 1, 2, 3, 4, 5, 6, 7, 8, 9, 10, 11, 12, 13,...    [15, 16, 17, 21]   \n",
       "13  [0, 1, 3, 5, 6, 7, 8, 9, 11, 12, 13, 14, 15, 1...  [2, 4, 10, 18, 20]   \n",
       "8   [0, 1, 2, 3, 4, 5, 7, 10, 11, 13, 14, 15, 16, ...       [6, 8, 9, 12]   \n",
       "9   [0, 1, 2, 3, 4, 5, 7, 10, 11, 13, 14, 15, 16, ...       [6, 8, 9, 12]   \n",
       "12  [0, 1, 3, 5, 6, 7, 8, 9, 11, 12, 13, 14, 15, 1...  [2, 4, 10, 18, 20]   \n",
       "18  [0, 1, 2, 3, 4, 5, 7, 10, 11, 13, 14, 15, 16, ...       [6, 8, 9, 12]   \n",
       "0   [0, 1, 2, 3, 4, 6, 8, 9, 10, 12, 14, 15, 16, 1...  [5, 7, 11, 13, 19]   \n",
       "1   [0, 1, 2, 3, 4, 6, 8, 9, 10, 12, 14, 15, 16, 1...  [5, 7, 11, 13, 19]   \n",
       "19  [0, 1, 2, 3, 4, 5, 7, 10, 11, 13, 14, 15, 16, ...       [6, 8, 9, 12]   \n",
       "14  [0, 1, 2, 3, 4, 5, 6, 7, 8, 9, 10, 11, 12, 13,...    [15, 16, 17, 21]   \n",
       "15  [0, 1, 2, 3, 4, 5, 6, 7, 8, 9, 10, 11, 12, 13,...    [15, 16, 17, 21]   \n",
       "7   [2, 4, 5, 6, 7, 8, 9, 10, 11, 12, 13, 15, 16, ...       [0, 1, 3, 14]   \n",
       "16  [2, 4, 5, 6, 7, 8, 9, 10, 11, 12, 13, 15, 16, ...       [0, 1, 3, 14]   \n",
       "17  [2, 4, 5, 6, 7, 8, 9, 10, 11, 12, 13, 15, 16, ...       [0, 1, 3, 14]   \n",
       "6   [2, 4, 5, 6, 7, 8, 9, 10, 11, 12, 13, 15, 16, ...       [0, 1, 3, 14]   \n",
       "\n",
       "    dataset  \n",
       "10  carraro  \n",
       "11  carraro  \n",
       "2   carraro  \n",
       "3   carraro  \n",
       "4   carraro  \n",
       "5   carraro  \n",
       "13  carraro  \n",
       "8   carraro  \n",
       "9   carraro  \n",
       "12  carraro  \n",
       "18  carraro  \n",
       "0   carraro  \n",
       "1   carraro  \n",
       "19  carraro  \n",
       "14  carraro  \n",
       "15  carraro  \n",
       "7   carraro  \n",
       "16  carraro  \n",
       "17  carraro  \n",
       "6   carraro  "
      ]
     },
     "execution_count": 12,
     "metadata": {},
     "output_type": "execute_result"
    }
   ],
   "source": [
    "adata.uns['auc'].sort_values('auc', ascending=False)"
   ]
  },
  {
   "cell_type": "code",
   "execution_count": null,
   "metadata": {},
   "outputs": [],
   "source": []
  },
  {
   "cell_type": "code",
   "execution_count": 14,
   "metadata": {},
   "outputs": [],
   "source": [
    "adata.uns['auc'].to_csv(os.path.join('data', 'results', f'{dataset}.csv'), index=False)"
   ]
  },
  {
   "cell_type": "code",
   "execution_count": null,
   "metadata": {},
   "outputs": [],
   "source": []
  },
  {
   "cell_type": "code",
   "execution_count": null,
   "metadata": {},
   "outputs": [],
   "source": []
  },
  {
   "cell_type": "markdown",
   "metadata": {},
   "source": []
  }
 ],
 "metadata": {
  "kernelspec": {
   "display_name": "spiana",
   "language": "python",
   "name": "python3"
  },
  "language_info": {
   "codemirror_mode": {
    "name": "ipython",
    "version": 3
   },
   "file_extension": ".py",
   "mimetype": "text/x-python",
   "name": "python",
   "nbconvert_exporter": "python",
   "pygments_lexer": "ipython3",
   "version": "3.10.10"
  },
  "orig_nbformat": 4,
  "vscode": {
   "interpreter": {
    "hash": "b688e7f183144fde965166e58483e32fc6dbc6fc380ccc51d49ef608da0385a8"
   }
  }
 },
 "nbformat": 4,
 "nbformat_minor": 2
}
