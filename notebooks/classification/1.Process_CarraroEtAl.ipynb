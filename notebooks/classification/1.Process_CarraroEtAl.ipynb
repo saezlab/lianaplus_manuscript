{
 "cells": [
  {
   "attachments": {},
   "cell_type": "markdown",
   "metadata": {},
   "source": [
    "# Process Carraro et al."
   ]
  },
  {
   "attachments": {},
   "cell_type": "markdown",
   "metadata": {},
   "source": [
    "## Set up Env"
   ]
  },
  {
   "cell_type": "code",
   "execution_count": 2,
   "metadata": {
    "vscode": {
     "languageId": "python"
    }
   },
   "outputs": [],
   "source": [
    "import numpy as np\n",
    "import scanpy as sc\n",
    "from scipy.sparse import csr_matrix"
   ]
  },
  {
   "cell_type": "code",
   "execution_count": 3,
   "metadata": {
    "vscode": {
     "languageId": "python"
    }
   },
   "outputs": [],
   "source": [
    "import liana as li"
   ]
  },
  {
   "cell_type": "code",
   "execution_count": null,
   "metadata": {
    "vscode": {
     "languageId": "python"
    }
   },
   "outputs": [],
   "source": []
  },
  {
   "attachments": {},
   "cell_type": "markdown",
   "metadata": {},
   "source": [
    "### Get data"
   ]
  },
  {
   "attachments": {},
   "cell_type": "markdown",
   "metadata": {},
   "source": [
    "curl -o local.h5ad https://ftp.ncbi.nlm.nih.gov/geo/series/GSE150nnn/GSE150674/suppl/GSE150674%5FSeurat%5FObject%2Erds%2Egz\n",
    "Then converted to h5ad"
   ]
  },
  {
   "cell_type": "code",
   "execution_count": 4,
   "metadata": {
    "vscode": {
     "languageId": "python"
    }
   },
   "outputs": [],
   "source": [
    "data_dir = \"/media/dbdimitrov/SSDDimitrov/data/lung/\"\n",
    "adata = sc.read_h5ad(data_dir + \"GSE150674.h5ad\")"
   ]
  },
  {
   "cell_type": "code",
   "execution_count": null,
   "metadata": {
    "vscode": {
     "languageId": "python"
    }
   },
   "outputs": [],
   "source": []
  },
  {
   "attachments": {},
   "cell_type": "markdown",
   "metadata": {},
   "source": [
    "Remove genes expressed in few cells, normalize"
   ]
  },
  {
   "cell_type": "code",
   "execution_count": 16,
   "metadata": {
    "vscode": {
     "languageId": "python"
    }
   },
   "outputs": [],
   "source": [
    "sc.pp.filter_genes(adata, min_cells=30)\n",
    "sc.pp.normalize_total(adata, target_sum=1e4)\n",
    "sc.pp.log1p(adata)"
   ]
  },
  {
   "cell_type": "code",
   "execution_count": 17,
   "metadata": {
    "vscode": {
     "languageId": "python"
    }
   },
   "outputs": [
    {
     "data": {
      "text/plain": [
       "AnnData object with n_obs × n_vars = 40709 × 21226\n",
       "    obs: 'orig.ident', 'nCount_RNA', 'nFeature_RNA', 'lab', 'type', 'mutation', 'percent.mt', 'percent.rp', 'major', 'minor', 'ident'\n",
       "    var: 'n_cells'\n",
       "    uns: 'X_name', 'log1p'"
      ]
     },
     "execution_count": 17,
     "metadata": {},
     "output_type": "execute_result"
    }
   ],
   "source": [
    "adata"
   ]
  },
  {
   "cell_type": "code",
   "execution_count": 35,
   "metadata": {
    "vscode": {
     "languageId": "python"
    }
   },
   "outputs": [
    {
     "data": {
      "text/plain": [
       "ND15656       True\n",
       "BG9_34        True\n",
       "BG9_20        True\n",
       "BG9_12        True\n",
       "dd10p         True\n",
       "ND15989       True\n",
       "BG9_31        True\n",
       "cc05p         True\n",
       "BG9_33        True\n",
       "BG9_37        True\n",
       "dd09p         True\n",
       "BG9_22        True\n",
       "cc01p         True\n",
       "BG9_19        True\n",
       "cc04p         True\n",
       "dd49p         True\n",
       "cf019         True\n",
       "dd39p         True\n",
       "BG9_21        True\n",
       "BG9_23        True\n",
       "KKD019N       True\n",
       "CF301018      True\n",
       "h18           True\n",
       "KKD022N       True\n",
       "ND17494       True\n",
       "cc02p         True\n",
       "BG9_2         True\n",
       "KKD020N       True\n",
       "BG9_3        False\n",
       "KKCFFT32N    False\n",
       "BG9_30       False\n",
       "ND16737      False\n",
       "BG9_26       False\n",
       "BG9_18       False\n",
       "BG9_36       False\n",
       "BG9_27       False\n",
       "BG9_7        False\n",
       "BG9_35       False\n",
       "KKD024N      False\n",
       "KKD023N      False\n",
       "BG9_24       False\n",
       "BG9_25       False\n",
       "Name: orig.ident, dtype: bool"
      ]
     },
     "execution_count": 35,
     "metadata": {},
     "output_type": "execute_result"
    }
   ],
   "source": [
    "adata.obs['orig.ident'].value_counts() > 500"
   ]
  },
  {
   "cell_type": "code",
   "execution_count": null,
   "metadata": {
    "vscode": {
     "languageId": "python"
    }
   },
   "outputs": [],
   "source": []
  },
  {
   "cell_type": "markdown",
   "metadata": {},
   "source": []
  }
 ],
 "metadata": {
  "kernelspec": {
   "display_name": "spiana",
   "language": "python",
   "name": "spiana"
  },
  "orig_nbformat": 4,
  "vscode": {
   "interpreter": {
    "hash": "f9f85f796d01129d0dd105a088854619f454435301f6ffec2fea96ecbd9be4ac"
   }
  }
 },
 "nbformat": 4,
 "nbformat_minor": 2
}
