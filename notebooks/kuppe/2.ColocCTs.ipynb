{
 "cells": [
  {
   "cell_type": "code",
   "execution_count": 12,
   "metadata": {},
   "outputs": [],
   "source": [
    "import os\n",
    "import sys\n",
    "import numpy as np\n",
    "import pandas as pd\n",
    "\n",
    "# TODO: move such functions to a common utils folder\n",
    "sys.path.append(os.path.join('..', 'spot_calling'))\n",
    "from utils import load_prep_slide\n",
    "\n",
    "import liana as li\n",
    "\n",
    "import plotnine as p9\n",
    "\n",
    "data_dir = os.path.join('..' ,'..', 'data', 'heart_visium')"
   ]
  },
  {
   "cell_type": "code",
   "execution_count": 13,
   "metadata": {},
   "outputs": [],
   "source": [
    "# Rename to more informative names\n",
    "full_names = {'Adipo': 'Adipocyte',\n",
    "              'CM': 'Cardiomyocyte',\n",
    "              'Endo': 'Endothelial',\n",
    "              'Fib': 'Fibroblast',\n",
    "              'PC': 'Pericyte',\n",
    "              'prolif': 'Proliferating',\n",
    "              'vSMCs': 'Vascular_SMCs',\n",
    "              }"
   ]
  },
  {
   "cell_type": "code",
   "execution_count": 14,
   "metadata": {},
   "outputs": [],
   "source": [
    "metadata = pd.read_csv(os.path.join(\"..\", \"spot_calling\", \"visium_meta.csv\"))"
   ]
  },
  {
   "cell_type": "code",
   "execution_count": 15,
   "metadata": {},
   "outputs": [],
   "source": [
    "target_metrics = {}\n",
    "interactions = {}"
   ]
  },
  {
   "cell_type": "code",
   "execution_count": 16,
   "metadata": {},
   "outputs": [],
   "source": [
    "# scan names of all datasets\n",
    "dataset_names = [f for f in metadata.slide_name]\n"
   ]
  },
  {
   "cell_type": "code",
   "execution_count": null,
   "metadata": {},
   "outputs": [],
   "source": []
  },
  {
   "cell_type": "code",
   "execution_count": 17,
   "metadata": {},
   "outputs": [
    {
     "name": "stdout",
     "output_type": "stream",
     "text": [
      "Processing AKK001_157785\n"
     ]
    },
    {
     "name": "stderr",
     "output_type": "stream",
     "text": [
      "/home/dbdimitrov/.local/lib/python3.10/site-packages/mudata/_core/mudata.py:491: UserWarning: Cannot join columns with the same name because var_names are intersecting.\n",
      "view intra is not a csr_matrix. Converting to csr_matrix\n",
      "Now learning: Vascular_SMCs: 100%|██████████| 10/10 [00:05<00:00,  1.95it/s]\n"
     ]
    },
    {
     "name": "stdout",
     "output_type": "stream",
     "text": [
      "Processing AKK002_157779\n"
     ]
    },
    {
     "name": "stderr",
     "output_type": "stream",
     "text": [
      "/home/dbdimitrov/.local/lib/python3.10/site-packages/mudata/_core/mudata.py:491: UserWarning: Cannot join columns with the same name because var_names are intersecting.\n",
      "view intra is not a csr_matrix. Converting to csr_matrix\n",
      "Now learning: Vascular_SMCs: 100%|██████████| 10/10 [00:01<00:00,  7.31it/s]\n"
     ]
    },
    {
     "name": "stdout",
     "output_type": "stream",
     "text": [
      "Processing AKK002_157781\n"
     ]
    },
    {
     "name": "stderr",
     "output_type": "stream",
     "text": [
      "/home/dbdimitrov/.local/lib/python3.10/site-packages/mudata/_core/mudata.py:491: UserWarning: Cannot join columns with the same name because var_names are intersecting.\n",
      "view intra is not a csr_matrix. Converting to csr_matrix\n",
      "Now learning: Vascular_SMCs: 100%|██████████| 10/10 [00:00<00:00, 15.59it/s]\n"
     ]
    },
    {
     "name": "stdout",
     "output_type": "stream",
     "text": [
      "Processing AKK002_157782\n"
     ]
    },
    {
     "name": "stderr",
     "output_type": "stream",
     "text": [
      "/home/dbdimitrov/.local/lib/python3.10/site-packages/mudata/_core/mudata.py:491: UserWarning: Cannot join columns with the same name because var_names are intersecting.\n",
      "view intra is not a csr_matrix. Converting to csr_matrix\n",
      "Now learning: Vascular_SMCs: 100%|██████████| 10/10 [00:00<00:00, 24.43it/s]\n"
     ]
    },
    {
     "name": "stdout",
     "output_type": "stream",
     "text": [
      "Processing AKK003_157775\n"
     ]
    },
    {
     "name": "stderr",
     "output_type": "stream",
     "text": [
      "/home/dbdimitrov/.local/lib/python3.10/site-packages/mudata/_core/mudata.py:491: UserWarning: Cannot join columns with the same name because var_names are intersecting.\n",
      "view intra is not a csr_matrix. Converting to csr_matrix\n",
      "Now learning: Vascular_SMCs: 100%|██████████| 10/10 [00:00<00:00, 17.70it/s]\n"
     ]
    },
    {
     "name": "stdout",
     "output_type": "stream",
     "text": [
      "Processing AKK003_157777\n"
     ]
    },
    {
     "name": "stderr",
     "output_type": "stream",
     "text": [
      "/home/dbdimitrov/.local/lib/python3.10/site-packages/mudata/_core/mudata.py:491: UserWarning: Cannot join columns with the same name because var_names are intersecting.\n",
      "view intra is not a csr_matrix. Converting to csr_matrix\n",
      "Now learning: Adipocyte:   0%|          | 0/10 [00:00<?, ?it/s]/home/dbdimitrov/miniconda3/envs/spiana/lib/python3.10/site-packages/liana/method/sp/_Misty.py:342: RuntimeWarning: invalid value encountered in divide\n",
      "Now learning: Vascular_SMCs: 100%|██████████| 10/10 [00:00<00:00, 21.55it/s]\n"
     ]
    },
    {
     "name": "stdout",
     "output_type": "stream",
     "text": [
      "Processing AKK004_157772\n"
     ]
    },
    {
     "name": "stderr",
     "output_type": "stream",
     "text": [
      "/home/dbdimitrov/.local/lib/python3.10/site-packages/mudata/_core/mudata.py:491: UserWarning: Cannot join columns with the same name because var_names are intersecting.\n",
      "view intra is not a csr_matrix. Converting to csr_matrix\n",
      "Now learning: Vascular_SMCs: 100%|██████████| 10/10 [00:00<00:00, 18.23it/s]\n"
     ]
    },
    {
     "name": "stdout",
     "output_type": "stream",
     "text": [
      "Processing AKK006_157771\n"
     ]
    },
    {
     "name": "stderr",
     "output_type": "stream",
     "text": [
      "/home/dbdimitrov/.local/lib/python3.10/site-packages/mudata/_core/mudata.py:491: UserWarning: Cannot join columns with the same name because var_names are intersecting.\n",
      "view intra is not a csr_matrix. Converting to csr_matrix\n",
      "Now learning: Vascular_SMCs: 100%|██████████| 10/10 [00:00<00:00, 17.28it/s]\n"
     ]
    },
    {
     "name": "stdout",
     "output_type": "stream",
     "text": [
      "Processing Visium_1_CK279\n"
     ]
    },
    {
     "name": "stderr",
     "output_type": "stream",
     "text": [
      "/home/dbdimitrov/.local/lib/python3.10/site-packages/mudata/_core/mudata.py:491: UserWarning: Cannot join columns with the same name because var_names are intersecting.\n",
      "view intra is not a csr_matrix. Converting to csr_matrix\n",
      "Now learning: Lymphoid:  40%|████      | 4/10 [00:00<00:00, 31.45it/s]  /home/dbdimitrov/miniconda3/envs/spiana/lib/python3.10/site-packages/liana/method/sp/_Misty.py:342: RuntimeWarning: invalid value encountered in divide\n",
      "Now learning: Neuronal:  40%|████      | 4/10 [00:00<00:00, 31.45it/s]/home/dbdimitrov/miniconda3/envs/spiana/lib/python3.10/site-packages/liana/method/sp/_Misty.py:342: RuntimeWarning: invalid value encountered in divide\n",
      "Now learning: Vascular_SMCs: 100%|██████████| 10/10 [00:00<00:00, 31.26it/s]\n"
     ]
    },
    {
     "name": "stdout",
     "output_type": "stream",
     "text": [
      "Processing Visium_10_CK288\n"
     ]
    },
    {
     "name": "stderr",
     "output_type": "stream",
     "text": [
      "/home/dbdimitrov/.local/lib/python3.10/site-packages/mudata/_core/mudata.py:491: UserWarning: Cannot join columns with the same name because var_names are intersecting.\n",
      "view intra is not a csr_matrix. Converting to csr_matrix\n",
      "Now learning: Vascular_SMCs: 100%|██████████| 10/10 [00:00<00:00, 22.01it/s]\n"
     ]
    },
    {
     "name": "stdout",
     "output_type": "stream",
     "text": [
      "Processing Visium_11_CK289\n"
     ]
    },
    {
     "name": "stderr",
     "output_type": "stream",
     "text": [
      "/home/dbdimitrov/.local/lib/python3.10/site-packages/mudata/_core/mudata.py:491: UserWarning: Cannot join columns with the same name because var_names are intersecting.\n",
      "view intra is not a csr_matrix. Converting to csr_matrix\n",
      "Now learning: Vascular_SMCs: 100%|██████████| 10/10 [00:00<00:00, 31.98it/s]\n"
     ]
    },
    {
     "name": "stdout",
     "output_type": "stream",
     "text": [
      "Processing Visium_12_CK290\n"
     ]
    },
    {
     "name": "stderr",
     "output_type": "stream",
     "text": [
      "/home/dbdimitrov/.local/lib/python3.10/site-packages/mudata/_core/mudata.py:491: UserWarning: Cannot join columns with the same name because var_names are intersecting.\n",
      "view intra is not a csr_matrix. Converting to csr_matrix\n",
      "Now learning: Vascular_SMCs: 100%|██████████| 10/10 [00:00<00:00, 23.50it/s]\n"
     ]
    },
    {
     "name": "stdout",
     "output_type": "stream",
     "text": [
      "Processing Visium_13_CK291\n"
     ]
    },
    {
     "name": "stderr",
     "output_type": "stream",
     "text": [
      "/home/dbdimitrov/.local/lib/python3.10/site-packages/mudata/_core/mudata.py:491: UserWarning: Cannot join columns with the same name because var_names are intersecting.\n",
      "view intra is not a csr_matrix. Converting to csr_matrix\n",
      "Now learning: Vascular_SMCs: 100%|██████████| 10/10 [00:00<00:00, 27.85it/s]\n"
     ]
    },
    {
     "name": "stdout",
     "output_type": "stream",
     "text": [
      "Processing Visium_14_CK292\n"
     ]
    },
    {
     "name": "stderr",
     "output_type": "stream",
     "text": [
      "/home/dbdimitrov/.local/lib/python3.10/site-packages/mudata/_core/mudata.py:491: UserWarning: Cannot join columns with the same name because var_names are intersecting.\n",
      "view intra is not a csr_matrix. Converting to csr_matrix\n",
      "Now learning: Vascular_SMCs: 100%|██████████| 10/10 [00:00<00:00, 23.88it/s]\n"
     ]
    },
    {
     "name": "stdout",
     "output_type": "stream",
     "text": [
      "Processing Visium_15_CK293\n"
     ]
    },
    {
     "name": "stderr",
     "output_type": "stream",
     "text": [
      "/home/dbdimitrov/.local/lib/python3.10/site-packages/mudata/_core/mudata.py:491: UserWarning: Cannot join columns with the same name because var_names are intersecting.\n",
      "view intra is not a csr_matrix. Converting to csr_matrix\n",
      "Now learning: Vascular_SMCs: 100%|██████████| 10/10 [00:00<00:00, 26.73it/s]\n"
     ]
    },
    {
     "name": "stdout",
     "output_type": "stream",
     "text": [
      "Processing Visium_16_CK294\n"
     ]
    },
    {
     "name": "stderr",
     "output_type": "stream",
     "text": [
      "/home/dbdimitrov/.local/lib/python3.10/site-packages/mudata/_core/mudata.py:491: UserWarning: Cannot join columns with the same name because var_names are intersecting.\n",
      "view intra is not a csr_matrix. Converting to csr_matrix\n",
      "Now learning: Vascular_SMCs: 100%|██████████| 10/10 [00:00<00:00, 28.53it/s]\n"
     ]
    },
    {
     "name": "stdout",
     "output_type": "stream",
     "text": [
      "Processing Visium_17_CK295\n"
     ]
    },
    {
     "name": "stderr",
     "output_type": "stream",
     "text": [
      "/home/dbdimitrov/.local/lib/python3.10/site-packages/mudata/_core/mudata.py:491: UserWarning: Cannot join columns with the same name because var_names are intersecting.\n",
      "view intra is not a csr_matrix. Converting to csr_matrix\n",
      "Now learning: Neuronal:  60%|██████    | 6/10 [00:00<00:00, 21.70it/s]   /home/dbdimitrov/miniconda3/envs/spiana/lib/python3.10/site-packages/liana/method/sp/_Misty.py:342: RuntimeWarning: invalid value encountered in divide\n",
      "Now learning: Vascular_SMCs: 100%|██████████| 10/10 [00:00<00:00, 21.57it/s]\n"
     ]
    },
    {
     "name": "stdout",
     "output_type": "stream",
     "text": [
      "Processing Visium_18_CK296\n"
     ]
    },
    {
     "name": "stderr",
     "output_type": "stream",
     "text": [
      "/home/dbdimitrov/.local/lib/python3.10/site-packages/mudata/_core/mudata.py:491: UserWarning: Cannot join columns with the same name because var_names are intersecting.\n",
      "view intra is not a csr_matrix. Converting to csr_matrix\n",
      "Now learning: Vascular_SMCs: 100%|██████████| 10/10 [00:00<00:00, 21.04it/s]\n"
     ]
    },
    {
     "name": "stdout",
     "output_type": "stream",
     "text": [
      "Processing Visium_19_CK297\n"
     ]
    },
    {
     "name": "stderr",
     "output_type": "stream",
     "text": [
      "/home/dbdimitrov/.local/lib/python3.10/site-packages/mudata/_core/mudata.py:491: UserWarning: Cannot join columns with the same name because var_names are intersecting.\n",
      "view intra is not a csr_matrix. Converting to csr_matrix\n",
      "Now learning: Vascular_SMCs: 100%|██████████| 10/10 [00:00<00:00, 17.48it/s]\n"
     ]
    },
    {
     "name": "stdout",
     "output_type": "stream",
     "text": [
      "Processing Visium_2_CK280\n"
     ]
    },
    {
     "name": "stderr",
     "output_type": "stream",
     "text": [
      "/home/dbdimitrov/.local/lib/python3.10/site-packages/mudata/_core/mudata.py:491: UserWarning: Cannot join columns with the same name because var_names are intersecting.\n",
      "view intra is not a csr_matrix. Converting to csr_matrix\n",
      "Now learning: Vascular_SMCs: 100%|██████████| 10/10 [00:00<00:00, 25.81it/s]\n"
     ]
    },
    {
     "name": "stdout",
     "output_type": "stream",
     "text": [
      "Processing Visium_20_CK298\n"
     ]
    },
    {
     "name": "stderr",
     "output_type": "stream",
     "text": [
      "/home/dbdimitrov/.local/lib/python3.10/site-packages/mudata/_core/mudata.py:491: UserWarning: Cannot join columns with the same name because var_names are intersecting.\n",
      "view intra is not a csr_matrix. Converting to csr_matrix\n",
      "Now learning: Vascular_SMCs: 100%|██████████| 10/10 [00:00<00:00, 24.08it/s]\n"
     ]
    },
    {
     "name": "stdout",
     "output_type": "stream",
     "text": [
      "Processing Visium_3_CK281\n"
     ]
    },
    {
     "name": "stderr",
     "output_type": "stream",
     "text": [
      "/home/dbdimitrov/.local/lib/python3.10/site-packages/mudata/_core/mudata.py:491: UserWarning: Cannot join columns with the same name because var_names are intersecting.\n",
      "view intra is not a csr_matrix. Converting to csr_matrix\n",
      "Now learning: Vascular_SMCs: 100%|██████████| 10/10 [00:00<00:00, 25.08it/s]\n"
     ]
    },
    {
     "name": "stdout",
     "output_type": "stream",
     "text": [
      "Processing Visium_4_CK282\n"
     ]
    },
    {
     "name": "stderr",
     "output_type": "stream",
     "text": [
      "/home/dbdimitrov/.local/lib/python3.10/site-packages/mudata/_core/mudata.py:491: UserWarning: Cannot join columns with the same name because var_names are intersecting.\n",
      "view intra is not a csr_matrix. Converting to csr_matrix\n",
      "Now learning: Vascular_SMCs: 100%|██████████| 10/10 [00:00<00:00, 28.32it/s]\n"
     ]
    },
    {
     "name": "stdout",
     "output_type": "stream",
     "text": [
      "Processing Visium_5_CK283\n"
     ]
    },
    {
     "name": "stderr",
     "output_type": "stream",
     "text": [
      "/home/dbdimitrov/.local/lib/python3.10/site-packages/mudata/_core/mudata.py:491: UserWarning: Cannot join columns with the same name because var_names are intersecting.\n",
      "view intra is not a csr_matrix. Converting to csr_matrix\n",
      "Now learning: Vascular_SMCs: 100%|██████████| 10/10 [00:00<00:00, 21.29it/s]\n"
     ]
    },
    {
     "name": "stdout",
     "output_type": "stream",
     "text": [
      "Processing Visium_6_CK284\n"
     ]
    },
    {
     "name": "stderr",
     "output_type": "stream",
     "text": [
      "/home/dbdimitrov/.local/lib/python3.10/site-packages/mudata/_core/mudata.py:491: UserWarning: Cannot join columns with the same name because var_names are intersecting.\n",
      "view intra is not a csr_matrix. Converting to csr_matrix\n",
      "Now learning: Vascular_SMCs: 100%|██████████| 10/10 [00:00<00:00, 20.81it/s]\n"
     ]
    },
    {
     "name": "stdout",
     "output_type": "stream",
     "text": [
      "Processing Visium_7_CK285\n"
     ]
    },
    {
     "name": "stderr",
     "output_type": "stream",
     "text": [
      "/home/dbdimitrov/.local/lib/python3.10/site-packages/mudata/_core/mudata.py:491: UserWarning: Cannot join columns with the same name because var_names are intersecting.\n",
      "view intra is not a csr_matrix. Converting to csr_matrix\n",
      "Now learning: Vascular_SMCs: 100%|██████████| 10/10 [00:00<00:00, 20.71it/s]\n"
     ]
    },
    {
     "name": "stdout",
     "output_type": "stream",
     "text": [
      "Processing Visium_8_CK286\n"
     ]
    },
    {
     "name": "stderr",
     "output_type": "stream",
     "text": [
      "/home/dbdimitrov/.local/lib/python3.10/site-packages/mudata/_core/mudata.py:491: UserWarning: Cannot join columns with the same name because var_names are intersecting.\n",
      "view intra is not a csr_matrix. Converting to csr_matrix\n",
      "Now learning: Lymphoid:  40%|████      | 4/10 [00:00<00:00, 31.50it/s]  /home/dbdimitrov/miniconda3/envs/spiana/lib/python3.10/site-packages/liana/method/sp/_Misty.py:342: RuntimeWarning: invalid value encountered in divide\n",
      "Now learning: Neuronal:  40%|████      | 4/10 [00:00<00:00, 31.50it/s]/home/dbdimitrov/miniconda3/envs/spiana/lib/python3.10/site-packages/liana/method/sp/_Misty.py:342: RuntimeWarning: invalid value encountered in divide\n",
      "Now learning: Vascular_SMCs: 100%|██████████| 10/10 [00:00<00:00, 31.49it/s]\n"
     ]
    },
    {
     "name": "stdout",
     "output_type": "stream",
     "text": [
      "Processing Visium_9_CK287\n"
     ]
    },
    {
     "name": "stderr",
     "output_type": "stream",
     "text": [
      "/home/dbdimitrov/.local/lib/python3.10/site-packages/mudata/_core/mudata.py:491: UserWarning: Cannot join columns with the same name because var_names are intersecting.\n",
      "view intra is not a csr_matrix. Converting to csr_matrix\n",
      "Now learning: Vascular_SMCs: 100%|██████████| 10/10 [00:00<00:00, 17.05it/s]\n"
     ]
    }
   ],
   "source": [
    "for dataset in dataset_names:\n",
    "    print(f\"Processing {dataset}\")\n",
    "    \n",
    "    adata = load_prep_slide(path=data_dir, slide=dataset + '.h5ad', bandwidth=150, set_diag=False, cutoff=0.01)\n",
    "    # but only for the ones that are in the data\n",
    "    adata.obsm['compositions'].columns = [full_names.get(c, c) for c in adata.obsm['compositions'].columns]\n",
    "    \n",
    "    comps = li.ut.obsm_to_adata(adata, 'compositions')\n",
    "    comps = comps[:, comps.var.index!='Proliferating'].copy() # exclude proliferating\n",
    "\n",
    "    misty = li.mt.MistyData({\"intra\": comps, \"inter\": comps})\n",
    "    misty(model='linear', verbose=True, bypass_intra=True)\n",
    "    \n",
    "    interactions[dataset] = misty.uns['interactions'].copy()\n",
    "    interactions[dataset]['sample'] = dataset\n",
    "    target_metrics[dataset] = misty.uns['target_metrics'].copy()\n",
    "    target_metrics[dataset]['sample'] = dataset"
   ]
  },
  {
   "cell_type": "code",
   "execution_count": 18,
   "metadata": {},
   "outputs": [
    {
     "data": {
      "text/plain": [
       "20352"
      ]
     },
     "execution_count": 18,
     "metadata": {},
     "output_type": "execute_result"
    }
   ],
   "source": [
    "import gc\n",
    "gc.collect()"
   ]
  },
  {
   "cell_type": "code",
   "execution_count": null,
   "metadata": {},
   "outputs": [],
   "source": []
  },
  {
   "cell_type": "code",
   "execution_count": 19,
   "metadata": {},
   "outputs": [],
   "source": [
    "interactions = pd.concat(interactions, ignore_index=True)"
   ]
  },
  {
   "cell_type": "code",
   "execution_count": 20,
   "metadata": {},
   "outputs": [],
   "source": [
    "interactions = interactions.merge(metadata, left_on='sample', right_on='slide_name')"
   ]
  },
  {
   "cell_type": "code",
   "execution_count": 21,
   "metadata": {},
   "outputs": [],
   "source": [
    "target_metrics = pd.concat(target_metrics, ignore_index=True)\n",
    "target_metrics = target_metrics.merge(metadata, left_on='sample', right_on='slide_name')"
   ]
  },
  {
   "cell_type": "code",
   "execution_count": null,
   "metadata": {},
   "outputs": [],
   "source": []
  },
  {
   "cell_type": "code",
   "execution_count": 22,
   "metadata": {},
   "outputs": [],
   "source": [
    "def plot_target_metrics(misty=None,\n",
    "                        stat=None,\n",
    "                        target_metrics = None,\n",
    "                        top_n = None,\n",
    "                        ascending = False,\n",
    "                        key = None,\n",
    "                        filterby = None,\n",
    "                        filter_lambda: callable = None,\n",
    "                        aggregate_fun = None,\n",
    "                        figure_size: tuple = (5,5), # NOTE change this to be symmetrical\n",
    "                        return_fig: bool = True):\n",
    "    \n",
    "    if target_metrics is not None:\n",
    "        target_metrics = target_metrics.copy()\n",
    "    elif misty is not None:\n",
    "        target_metrics = misty.uns['target_metrics'].copy()\n",
    "    else:\n",
    "        raise ValueError(\"Either provide a misty object or target_metrics\")\n",
    "    \n",
    "    if stat is None:\n",
    "        raise ValueError(\"Provide a statistic to plot\")\n",
    "    \n",
    "    if filterby is not None:\n",
    "        msk = target_metrics[filterby].apply(filter_lambda)\n",
    "        target_metrics = target_metrics[msk]\n",
    "    if top_n is not None:\n",
    "        target_metrics = target_metrics.sort_values(stat, ascending=ascending, key=key).head(top_n)\n",
    "    \n",
    "    # get order of target by decreasing intra.R2\n",
    "    if aggregate_fun is not None:\n",
    "        targets = target_metrics.groupby(['target']).agg({stat: aggregate_fun}).reset_index()\n",
    "    else:\n",
    "        targets = target_metrics.copy()\n",
    "        \n",
    "    targets = targets.sort_values(by=stat, ascending=False)['target']\n",
    "    # targets as categorical variable\n",
    "    target_metrics['target'] = pd.Categorical(target_metrics['target'],\n",
    "                                              categories=targets,\n",
    "                                              ordered=True)\n",
    "        \n",
    "\n",
    "    p = (p9.ggplot(target_metrics, p9.aes(x='target', y=stat)) +\n",
    "         p9.geom_boxplot() if aggregate_fun is not None else p9.geom_point(size=3))\n",
    "    p = (p + p9.theme_bw() +\n",
    "         p9.theme(axis_text_x=p9.element_text(rotation=90),\n",
    "                  figure_size=figure_size) +\n",
    "         p9.labs(x='Target')\n",
    "         )\n",
    "\n",
    "    if return_fig:\n",
    "        return p\n",
    "    p.draw()"
   ]
  },
  {
   "cell_type": "code",
   "execution_count": 23,
   "metadata": {},
   "outputs": [],
   "source": [
    "tm_ctrl = target_metrics[target_metrics['major_labl']=='CTRL'].copy()\n",
    "tm_iz = target_metrics[target_metrics['major_labl']=='IZ'].copy()\n",
    "tm_rz = target_metrics[~target_metrics['major_labl'].isin(['CTRL', 'IZ'])].copy()\n"
   ]
  },
  {
   "cell_type": "code",
   "execution_count": 24,
   "metadata": {},
   "outputs": [
    {
     "data": {
      "image/png": "[encoded data removed]",
      "text/plain": [
       "<Figure size 500x500 with 1 Axes>"
      ]
     },
     "metadata": {
      "image/png": {
       "height": 500,
       "width": 500
      }
     },
     "output_type": "display_data"
    },
    {
     "data": {
      "text/plain": [
       "<Figure Size: (500 x 500)>"
      ]
     },
     "execution_count": 24,
     "metadata": {},
     "output_type": "execute_result"
    }
   ],
   "source": [
    "# ticks at 0.1\n",
    "(li.pl.target_metrics(target_metrics=target_metrics, stat='gain_R2', aggregate_fun='median') +\n",
    "    p9.scale_y_continuous(breaks=np.arange(0, 1, 0.1))\n",
    ")"
   ]
  },
  {
   "cell_type": "code",
   "execution_count": null,
   "metadata": {},
   "outputs": [],
   "source": []
  },
  {
   "cell_type": "code",
   "execution_count": 25,
   "metadata": {},
   "outputs": [],
   "source": [
    "# keep targets with median gain_R2 > 0.05\n",
    "targets = target_metrics.groupby(['target']).agg({'gain_R2': 'median'}).reset_index()\n",
    "targets = targets[targets['gain_R2']>0.05]['target'].values"
   ]
  },
  {
   "cell_type": "code",
   "execution_count": 26,
   "metadata": {},
   "outputs": [
    {
     "data": {
      "text/plain": [
       "array(['Cardiomyocyte', 'Endothelial', 'Fibroblast', 'Myeloid',\n",
       "       'Pericyte', 'Vascular_SMCs'], dtype=object)"
      ]
     },
     "execution_count": 26,
     "metadata": {},
     "output_type": "execute_result"
    }
   ],
   "source": [
    "targets"
   ]
  },
  {
   "cell_type": "code",
   "execution_count": null,
   "metadata": {},
   "outputs": [],
   "source": []
  },
  {
   "cell_type": "code",
   "execution_count": 27,
   "metadata": {},
   "outputs": [
    {
     "name": "stderr",
     "output_type": "stream",
     "text": [
      "Fontsize 0.00 < 1.0 pt not allowed by FreeType. Setting fontsize = 1 pt\n"
     ]
    },
    {
     "data": {
      "image/png": "[encoded data removed]",
      "text/plain": [
       "<Figure size 600x500 with 1 Axes>"
      ]
     },
     "metadata": {
      "image/png": {
       "height": 500,
       "width": 600
      },
      "needs_background": "light"
     },
     "output_type": "display_data"
    },
    {
     "data": {
      "text/plain": [
       "<Figure Size: (600 x 500)>"
      ]
     },
     "execution_count": 27,
     "metadata": {},
     "output_type": "execute_result"
    }
   ],
   "source": [
    "(li.pl.interactions(interactions=interactions, view='inter', aggregate_fun='median', figure_size=(6,5)) +\n",
    "    p9.scale_fill_gradient2(low = \"blue\", mid = \"white\", high = \"red\", midpoint = 0, limits=(-13, 13))\n",
    " )"
   ]
  },
  {
   "cell_type": "code",
   "execution_count": 28,
   "metadata": {},
   "outputs": [],
   "source": [
    "# keep only interactions with median importance > 2\n",
    "ints = interactions.groupby(['target', 'predictor']).agg({'importances': 'median'}).reset_index()\n",
    "ints = ints[ints['importances'] > 1.645 ] # NOTE: 1.645 is the 95% quantile of a standard normal distribution\n",
    "# keep only targets of interest\n",
    "ints = ints[ints['target'].isin(targets)]"
   ]
  },
  {
   "cell_type": "code",
   "execution_count": 29,
   "metadata": {},
   "outputs": [],
   "source": [
    "ints.to_csv('ct_interactions.csv')"
   ]
  },
  {
   "cell_type": "code",
   "execution_count": null,
   "metadata": {},
   "outputs": [],
   "source": []
  },
  {
   "attachments": {},
   "cell_type": "markdown",
   "metadata": {},
   "source": [
    "Compare importances"
   ]
  },
  {
   "cell_type": "code",
   "execution_count": 30,
   "metadata": {},
   "outputs": [],
   "source": [
    "from scipy.stats import ttest_ind"
   ]
  },
  {
   "cell_type": "code",
   "execution_count": 31,
   "metadata": {},
   "outputs": [],
   "source": [
    "interactions['group'] = interactions['major_labl'].copy()\n",
    "interactions.loc[interactions['major_labl']=='CTRL', 'group'] = 'CTRL'\n",
    "interactions.loc[interactions['major_labl']=='IZ', 'group'] = 'IZ'\n",
    "interactions.loc[~interactions['major_labl'].isin(['CTRL', 'IZ']), 'group'] = 'RZ' # this myogenic?"
   ]
  },
  {
   "cell_type": "code",
   "execution_count": 32,
   "metadata": {},
   "outputs": [],
   "source": [
    "groups = interactions['group'].unique()"
   ]
  },
  {
   "cell_type": "code",
   "execution_count": 33,
   "metadata": {},
   "outputs": [],
   "source": [
    "# Create a dictionary to store the t-test results\n",
    "t_test_results = pd.DataFrame({'target':[], 'predictor':[], 'group1': [], 'group2': [], 't_statistic': [], 'p_value': []})\n",
    "\n",
    "# Perform t-test for all combinations of groups\n",
    "for target in interactions['target'].unique():\n",
    "    for predictor in interactions['predictor'].unique():\n",
    "        msk = (interactions['target'] == target) & (interactions['predictor'] == predictor)\n",
    "        df = interactions[msk]\n",
    "        for i in range(len(groups)):\n",
    "            for j in range(i+1, len(groups)):\n",
    "                group1 = groups[i]\n",
    "                group2 = groups[j]\n",
    "\n",
    "                # Extract data for the two groups\n",
    "                data_group1 = df[df['group'] == group1]['importances']\n",
    "                data_group2 = df[df['group'] == group2]['importances']\n",
    "\n",
    "                # Perform t-test\n",
    "                t_stat, p_value = ttest_ind(data_group1, data_group2)\n",
    "\n",
    "                # Store results in the dictionary\n",
    "                # key interates the row\n",
    "                key = f\"{target}_{predictor}_{group1}_{group2}\"\n",
    "                t_test_results.loc[key, 'group1'] = group1\n",
    "                t_test_results.loc[key, 'group2'] = group2\n",
    "                t_test_results.loc[key, 't_statistic'] = t_stat\n",
    "                t_test_results.loc[key, 'p_value'] = p_value\n",
    "                t_test_results.loc[key, 'target'] = target\n",
    "                t_test_results.loc[key, 'predictor'] = predictor"
   ]
  },
  {
   "cell_type": "code",
   "execution_count": 34,
   "metadata": {},
   "outputs": [
    {
     "data": {
      "text/html": [
       "<div>\n",
       "<style scoped>\n",
       "    .dataframe tbody tr th:only-of-type {\n",
       "        vertical-align: middle;\n",
       "    }\n",
       "\n",
       "    .dataframe tbody tr th {\n",
       "        vertical-align: top;\n",
       "    }\n",
       "\n",
       "    .dataframe thead th {\n",
       "        text-align: right;\n",
       "    }\n",
       "</style>\n",
       "<table border=\"1\" class=\"dataframe\">\n",
       "  <thead>\n",
       "    <tr style=\"text-align: right;\">\n",
       "      <th></th>\n",
       "      <th>target</th>\n",
       "      <th>predictor</th>\n",
       "      <th>group1</th>\n",
       "      <th>group2</th>\n",
       "      <th>t_statistic</th>\n",
       "      <th>p_value</th>\n",
       "    </tr>\n",
       "  </thead>\n",
       "  <tbody>\n",
       "    <tr>\n",
       "      <th>Pericyte_Endothelial_IZ_CTRL</th>\n",
       "      <td>Pericyte</td>\n",
       "      <td>Endothelial</td>\n",
       "      <td>IZ</td>\n",
       "      <td>CTRL</td>\n",
       "      <td>3.139083</td>\n",
       "      <td>0.009424</td>\n",
       "    </tr>\n",
       "    <tr>\n",
       "      <th>Neuronal_Endothelial_RZ_IZ</th>\n",
       "      <td>Neuronal</td>\n",
       "      <td>Endothelial</td>\n",
       "      <td>RZ</td>\n",
       "      <td>IZ</td>\n",
       "      <td>2.993621</td>\n",
       "      <td>0.006693</td>\n",
       "    </tr>\n",
       "    <tr>\n",
       "      <th>Endothelial_Vascular_SMCs_IZ_CTRL</th>\n",
       "      <td>Endothelial</td>\n",
       "      <td>Vascular_SMCs</td>\n",
       "      <td>IZ</td>\n",
       "      <td>CTRL</td>\n",
       "      <td>2.593045</td>\n",
       "      <td>0.025002</td>\n",
       "    </tr>\n",
       "    <tr>\n",
       "      <th>Lymphoid_Myeloid_IZ_CTRL</th>\n",
       "      <td>Lymphoid</td>\n",
       "      <td>Myeloid</td>\n",
       "      <td>IZ</td>\n",
       "      <td>CTRL</td>\n",
       "      <td>2.490725</td>\n",
       "      <td>0.029997</td>\n",
       "    </tr>\n",
       "    <tr>\n",
       "      <th>Endothelial_Mast_RZ_CTRL</th>\n",
       "      <td>Endothelial</td>\n",
       "      <td>Mast</td>\n",
       "      <td>RZ</td>\n",
       "      <td>CTRL</td>\n",
       "      <td>2.470726</td>\n",
       "      <td>0.024362</td>\n",
       "    </tr>\n",
       "    <tr>\n",
       "      <th>Endothelial_Pericyte_IZ_CTRL</th>\n",
       "      <td>Endothelial</td>\n",
       "      <td>Pericyte</td>\n",
       "      <td>IZ</td>\n",
       "      <td>CTRL</td>\n",
       "      <td>2.390268</td>\n",
       "      <td>0.035844</td>\n",
       "    </tr>\n",
       "    <tr>\n",
       "      <th>Myeloid_Lymphoid_IZ_CTRL</th>\n",
       "      <td>Myeloid</td>\n",
       "      <td>Lymphoid</td>\n",
       "      <td>IZ</td>\n",
       "      <td>CTRL</td>\n",
       "      <td>2.279924</td>\n",
       "      <td>0.043542</td>\n",
       "    </tr>\n",
       "    <tr>\n",
       "      <th>Cardiomyocyte_Endothelial_RZ_IZ</th>\n",
       "      <td>Cardiomyocyte</td>\n",
       "      <td>Endothelial</td>\n",
       "      <td>RZ</td>\n",
       "      <td>IZ</td>\n",
       "      <td>2.219032</td>\n",
       "      <td>0.037108</td>\n",
       "    </tr>\n",
       "    <tr>\n",
       "      <th>Vascular_SMCs_Endothelial_IZ_CTRL</th>\n",
       "      <td>Vascular_SMCs</td>\n",
       "      <td>Endothelial</td>\n",
       "      <td>IZ</td>\n",
       "      <td>CTRL</td>\n",
       "      <td>2.188526</td>\n",
       "      <td>0.051100</td>\n",
       "    </tr>\n",
       "    <tr>\n",
       "      <th>Neuronal_Pericyte_IZ_CTRL</th>\n",
       "      <td>Neuronal</td>\n",
       "      <td>Pericyte</td>\n",
       "      <td>IZ</td>\n",
       "      <td>CTRL</td>\n",
       "      <td>2.165005</td>\n",
       "      <td>0.053238</td>\n",
       "    </tr>\n",
       "    <tr>\n",
       "      <th>Lymphoid_Myeloid_RZ_CTRL</th>\n",
       "      <td>Lymphoid</td>\n",
       "      <td>Myeloid</td>\n",
       "      <td>RZ</td>\n",
       "      <td>CTRL</td>\n",
       "      <td>2.111685</td>\n",
       "      <td>0.049819</td>\n",
       "    </tr>\n",
       "    <tr>\n",
       "      <th>Mast_Endothelial_RZ_CTRL</th>\n",
       "      <td>Mast</td>\n",
       "      <td>Endothelial</td>\n",
       "      <td>RZ</td>\n",
       "      <td>CTRL</td>\n",
       "      <td>2.000350</td>\n",
       "      <td>0.061697</td>\n",
       "    </tr>\n",
       "    <tr>\n",
       "      <th>Fibroblast_Vascular_SMCs_RZ_IZ</th>\n",
       "      <td>Fibroblast</td>\n",
       "      <td>Vascular_SMCs</td>\n",
       "      <td>RZ</td>\n",
       "      <td>IZ</td>\n",
       "      <td>1.981571</td>\n",
       "      <td>0.060160</td>\n",
       "    </tr>\n",
       "    <tr>\n",
       "      <th>Mast_Vascular_SMCs_RZ_IZ</th>\n",
       "      <td>Mast</td>\n",
       "      <td>Vascular_SMCs</td>\n",
       "      <td>RZ</td>\n",
       "      <td>IZ</td>\n",
       "      <td>1.962429</td>\n",
       "      <td>0.062483</td>\n",
       "    </tr>\n",
       "    <tr>\n",
       "      <th>Adipocyte_Vascular_SMCs_RZ_IZ</th>\n",
       "      <td>Adipocyte</td>\n",
       "      <td>Vascular_SMCs</td>\n",
       "      <td>RZ</td>\n",
       "      <td>IZ</td>\n",
       "      <td>1.927493</td>\n",
       "      <td>0.066928</td>\n",
       "    </tr>\n",
       "    <tr>\n",
       "      <th>Vascular_SMCs_Adipocyte_RZ_IZ</th>\n",
       "      <td>Vascular_SMCs</td>\n",
       "      <td>Adipocyte</td>\n",
       "      <td>RZ</td>\n",
       "      <td>IZ</td>\n",
       "      <td>1.877431</td>\n",
       "      <td>0.073782</td>\n",
       "    </tr>\n",
       "    <tr>\n",
       "      <th>Pericyte_Neuronal_IZ_CTRL</th>\n",
       "      <td>Pericyte</td>\n",
       "      <td>Neuronal</td>\n",
       "      <td>IZ</td>\n",
       "      <td>CTRL</td>\n",
       "      <td>1.846667</td>\n",
       "      <td>0.091851</td>\n",
       "    </tr>\n",
       "    <tr>\n",
       "      <th>Pericyte_Vascular_SMCs_RZ_IZ</th>\n",
       "      <td>Pericyte</td>\n",
       "      <td>Vascular_SMCs</td>\n",
       "      <td>RZ</td>\n",
       "      <td>IZ</td>\n",
       "      <td>1.831630</td>\n",
       "      <td>0.080582</td>\n",
       "    </tr>\n",
       "    <tr>\n",
       "      <th>Myeloid_Lymphoid_RZ_CTRL</th>\n",
       "      <td>Myeloid</td>\n",
       "      <td>Lymphoid</td>\n",
       "      <td>RZ</td>\n",
       "      <td>CTRL</td>\n",
       "      <td>1.807664</td>\n",
       "      <td>0.088386</td>\n",
       "    </tr>\n",
       "    <tr>\n",
       "      <th>Fibroblast_Endothelial_IZ_CTRL</th>\n",
       "      <td>Fibroblast</td>\n",
       "      <td>Endothelial</td>\n",
       "      <td>IZ</td>\n",
       "      <td>CTRL</td>\n",
       "      <td>1.777528</td>\n",
       "      <td>0.103104</td>\n",
       "    </tr>\n",
       "  </tbody>\n",
       "</table>\n",
       "</div>"
      ],
      "text/plain": [
       "                                          target      predictor group1 group2  \\\n",
       "Pericyte_Endothelial_IZ_CTRL            Pericyte    Endothelial     IZ   CTRL   \n",
       "Neuronal_Endothelial_RZ_IZ              Neuronal    Endothelial     RZ     IZ   \n",
       "Endothelial_Vascular_SMCs_IZ_CTRL    Endothelial  Vascular_SMCs     IZ   CTRL   \n",
       "Lymphoid_Myeloid_IZ_CTRL                Lymphoid        Myeloid     IZ   CTRL   \n",
       "Endothelial_Mast_RZ_CTRL             Endothelial           Mast     RZ   CTRL   \n",
       "Endothelial_Pericyte_IZ_CTRL         Endothelial       Pericyte     IZ   CTRL   \n",
       "Myeloid_Lymphoid_IZ_CTRL                 Myeloid       Lymphoid     IZ   CTRL   \n",
       "Cardiomyocyte_Endothelial_RZ_IZ    Cardiomyocyte    Endothelial     RZ     IZ   \n",
       "Vascular_SMCs_Endothelial_IZ_CTRL  Vascular_SMCs    Endothelial     IZ   CTRL   \n",
       "Neuronal_Pericyte_IZ_CTRL               Neuronal       Pericyte     IZ   CTRL   \n",
       "Lymphoid_Myeloid_RZ_CTRL                Lymphoid        Myeloid     RZ   CTRL   \n",
       "Mast_Endothelial_RZ_CTRL                    Mast    Endothelial     RZ   CTRL   \n",
       "Fibroblast_Vascular_SMCs_RZ_IZ        Fibroblast  Vascular_SMCs     RZ     IZ   \n",
       "Mast_Vascular_SMCs_RZ_IZ                    Mast  Vascular_SMCs     RZ     IZ   \n",
       "Adipocyte_Vascular_SMCs_RZ_IZ          Adipocyte  Vascular_SMCs     RZ     IZ   \n",
       "Vascular_SMCs_Adipocyte_RZ_IZ      Vascular_SMCs      Adipocyte     RZ     IZ   \n",
       "Pericyte_Neuronal_IZ_CTRL               Pericyte       Neuronal     IZ   CTRL   \n",
       "Pericyte_Vascular_SMCs_RZ_IZ            Pericyte  Vascular_SMCs     RZ     IZ   \n",
       "Myeloid_Lymphoid_RZ_CTRL                 Myeloid       Lymphoid     RZ   CTRL   \n",
       "Fibroblast_Endothelial_IZ_CTRL        Fibroblast    Endothelial     IZ   CTRL   \n",
       "\n",
       "                                   t_statistic   p_value  \n",
       "Pericyte_Endothelial_IZ_CTRL          3.139083  0.009424  \n",
       "Neuronal_Endothelial_RZ_IZ            2.993621  0.006693  \n",
       "Endothelial_Vascular_SMCs_IZ_CTRL     2.593045  0.025002  \n",
       "Lymphoid_Myeloid_IZ_CTRL              2.490725  0.029997  \n",
       "Endothelial_Mast_RZ_CTRL              2.470726  0.024362  \n",
       "Endothelial_Pericyte_IZ_CTRL          2.390268  0.035844  \n",
       "Myeloid_Lymphoid_IZ_CTRL              2.279924  0.043542  \n",
       "Cardiomyocyte_Endothelial_RZ_IZ       2.219032  0.037108  \n",
       "Vascular_SMCs_Endothelial_IZ_CTRL     2.188526  0.051100  \n",
       "Neuronal_Pericyte_IZ_CTRL             2.165005  0.053238  \n",
       "Lymphoid_Myeloid_RZ_CTRL              2.111685  0.049819  \n",
       "Mast_Endothelial_RZ_CTRL              2.000350  0.061697  \n",
       "Fibroblast_Vascular_SMCs_RZ_IZ        1.981571  0.060160  \n",
       "Mast_Vascular_SMCs_RZ_IZ              1.962429  0.062483  \n",
       "Adipocyte_Vascular_SMCs_RZ_IZ         1.927493  0.066928  \n",
       "Vascular_SMCs_Adipocyte_RZ_IZ         1.877431  0.073782  \n",
       "Pericyte_Neuronal_IZ_CTRL             1.846667  0.091851  \n",
       "Pericyte_Vascular_SMCs_RZ_IZ          1.831630  0.080582  \n",
       "Myeloid_Lymphoid_RZ_CTRL              1.807664  0.088386  \n",
       "Fibroblast_Endothelial_IZ_CTRL        1.777528  0.103104  "
      ]
     },
     "execution_count": 34,
     "metadata": {},
     "output_type": "execute_result"
    }
   ],
   "source": [
    "t_test_results.sort_values(by='p_value').sort_values(by='t_statistic', ascending=False).head(20)"
   ]
  }
 ],
 "metadata": {
  "kernelspec": {
   "display_name": "spiana",
   "language": "python",
   "name": "python3"
  },
  "language_info": {
   "codemirror_mode": {
    "name": "ipython",
    "version": 3
   },
   "file_extension": ".py",
   "mimetype": "text/x-python",
   "name": "python",
   "nbconvert_exporter": "python",
   "pygments_lexer": "ipython3",
   "version": "3.10.13"
  },
  "orig_nbformat": 4
 },
 "nbformat": 4,
 "nbformat_minor": 2
}
