{
 "cells": [
  {
   "attachments": {},
   "cell_type": "markdown",
   "metadata": {},
   "source": [
    "# Call Annotations"
   ]
  },
  {
   "cell_type": "code",
   "execution_count": 1,
   "metadata": {},
   "outputs": [],
   "source": [
    "import os\n",
    "import numpy as np\n",
    "import pandas as pd\n",
    "import scanpy as sc\n",
    "import liana as li"
   ]
  },
  {
   "cell_type": "code",
   "execution_count": 2,
   "metadata": {},
   "outputs": [],
   "source": [
    "from utils import run_rf_auc, run_stlearn, convert_scanpy, run_local, efficiency_wrapper"
   ]
  },
  {
   "cell_type": "code",
   "execution_count": 3,
   "metadata": {},
   "outputs": [],
   "source": [
    "data_dir = os.path.join('..', '..', 'data', 'wu_et_al')\n",
    "dataset_names = ['1160920F', 'CID44971', 'CID4535', '1142243F'] # 'CID4465', 'CID4290 are both basically cancer only"
   ]
  },
  {
   "cell_type": "code",
   "execution_count": 4,
   "metadata": {},
   "outputs": [],
   "source": [
    "function_names = li.mt.bivar.show_functions()['name'].values"
   ]
  },
  {
   "cell_type": "code",
   "execution_count": 5,
   "metadata": {},
   "outputs": [],
   "source": [
    "# function_names = function_names[0:1]\n",
    "# insert stLearn\n",
    "# dataset_names = [dataset_names[0]]\n",
    "function_names = np.insert(function_names, 0, 'stLearn')"
   ]
  },
  {
   "cell_type": "code",
   "execution_count": null,
   "metadata": {},
   "outputs": [],
   "source": []
  },
  {
   "cell_type": "code",
   "execution_count": 6,
   "metadata": {},
   "outputs": [],
   "source": [
    "import time"
   ]
  },
  {
   "attachments": {},
   "cell_type": "markdown",
   "metadata": {},
   "source": [
    "Run on all data"
   ]
  },
  {
   "cell_type": "code",
   "execution_count": 7,
   "metadata": {},
   "outputs": [
    {
     "name": "stdout",
     "output_type": "stream",
     "text": [
      "Running 1160920F\n",
      "Running stLearn\n",
      "Calculating neighbours...\n",
      "0 spots with no neighbours, 6 median spot neighbours.\n",
      "Spot neighbour indices stored in adata.obsm['spot_neighbours'] & adata.obsm['spot_neigh_bcs'].\n",
      "Altogether 2510 valid L-R pairs\n"
     ]
    },
    {
     "name": "stderr",
     "output_type": "stream",
     "text": [
      "Generating backgrounds & testing each LR pair...: 100%|██████████ [ time left: 00:00 ]  \n"
     ]
    },
    {
     "name": "stdout",
     "output_type": "stream",
     "text": [
      "\n",
      "Storing results:\n",
      "\n",
      "lr_scores stored in adata.obsm['lr_scores'].\n",
      "p_vals stored in adata.obsm['p_vals'].\n",
      "p_adjs stored in adata.obsm['p_adjs'].\n",
      "-log10(p_adjs) stored in adata.obsm['-log10(p_adjs)'].\n",
      "lr_sig_scores stored in adata.obsm['lr_sig_scores'].\n",
      "\n",
      "Per-spot results in adata.obsm have columns in same order as rows in adata.uns['lr_summary'].\n",
      "Summary of LR results in adata.uns['lr_summary'].\n",
      "Running pearson\n"
     ]
    },
    {
     "name": "stderr",
     "output_type": "stream",
     "text": [
      "/tmp/ipykernel_1483006/559592751.py:44: FutureWarning: The frame.append method is deprecated and will be removed from pandas in a future version. Use pandas.concat instead.\n",
      "Using resource `consensus`.\n",
      "Using `.X`!\n",
      "Converting to sparse csr matrix!\n",
      "100%|██████████| 100/100 [00:41<00:00,  2.42it/s]\n",
      "/tmp/ipykernel_1483006/559592751.py:44: FutureWarning: The frame.append method is deprecated and will be removed from pandas in a future version. Use pandas.concat instead.\n"
     ]
    },
    {
     "name": "stdout",
     "output_type": "stream",
     "text": [
      "Running spearman\n"
     ]
    },
    {
     "name": "stderr",
     "output_type": "stream",
     "text": [
      "Using resource `consensus`.\n",
      "Using `.X`!\n",
      "Converting to sparse csr matrix!\n",
      "100%|██████████| 100/100 [02:49<00:00,  1.69s/it]\n",
      "/tmp/ipykernel_1483006/559592751.py:44: FutureWarning: The frame.append method is deprecated and will be removed from pandas in a future version. Use pandas.concat instead.\n"
     ]
    },
    {
     "name": "stdout",
     "output_type": "stream",
     "text": [
      "Running cosine\n"
     ]
    },
    {
     "name": "stderr",
     "output_type": "stream",
     "text": [
      "Using resource `consensus`.\n",
      "Using `.X`!\n",
      "Converting to sparse csr matrix!\n",
      "100%|██████████| 100/100 [00:08<00:00, 11.81it/s]\n",
      "/tmp/ipykernel_1483006/559592751.py:44: FutureWarning: The frame.append method is deprecated and will be removed from pandas in a future version. Use pandas.concat instead.\n"
     ]
    },
    {
     "name": "stdout",
     "output_type": "stream",
     "text": [
      "Running jaccard\n"
     ]
    },
    {
     "name": "stderr",
     "output_type": "stream",
     "text": [
      "Using resource `consensus`.\n",
      "Using `.X`!\n",
      "Converting to sparse csr matrix!\n",
      "100%|██████████| 100/100 [00:10<00:00,  9.60it/s]\n",
      "/tmp/ipykernel_1483006/559592751.py:44: FutureWarning: The frame.append method is deprecated and will be removed from pandas in a future version. Use pandas.concat instead.\n"
     ]
    },
    {
     "name": "stdout",
     "output_type": "stream",
     "text": [
      "Running product\n"
     ]
    },
    {
     "name": "stderr",
     "output_type": "stream",
     "text": [
      "Using resource `consensus`.\n",
      "Using `.X`!\n",
      "Converting to sparse csr matrix!\n",
      "100%|██████████| 100/100 [00:08<00:00, 11.67it/s]\n",
      "/tmp/ipykernel_1483006/559592751.py:44: FutureWarning: The frame.append method is deprecated and will be removed from pandas in a future version. Use pandas.concat instead.\n"
     ]
    },
    {
     "name": "stdout",
     "output_type": "stream",
     "text": [
      "Running norm_product\n"
     ]
    },
    {
     "name": "stderr",
     "output_type": "stream",
     "text": [
      "Using resource `consensus`.\n",
      "Using `.X`!\n",
      "Converting to sparse csr matrix!\n",
      "100%|██████████| 100/100 [00:10<00:00,  9.40it/s]\n",
      "/tmp/ipykernel_1483006/559592751.py:44: FutureWarning: The frame.append method is deprecated and will be removed from pandas in a future version. Use pandas.concat instead.\n"
     ]
    },
    {
     "name": "stdout",
     "output_type": "stream",
     "text": [
      "Running morans\n"
     ]
    },
    {
     "name": "stderr",
     "output_type": "stream",
     "text": [
      "Using resource `consensus`.\n",
      "Using `.X`!\n",
      "Converting to sparse csr matrix!\n",
      "100%|██████████| 100/100 [00:09<00:00, 10.08it/s]\n",
      "100%|██████████| 100/100 [00:03<00:00, 25.82it/s]\n",
      "/tmp/ipykernel_1483006/559592751.py:44: FutureWarning: The frame.append method is deprecated and will be removed from pandas in a future version. Use pandas.concat instead.\n"
     ]
    },
    {
     "name": "stdout",
     "output_type": "stream",
     "text": [
      "Running masked_spearman\n"
     ]
    },
    {
     "name": "stderr",
     "output_type": "stream",
     "text": [
      "Using resource `consensus`.\n",
      "Using `.X`!\n",
      "Converting to sparse csr matrix!\n",
      "100%|██████████| 100/100 [24:53<00:00, 14.94s/it]\n",
      "/tmp/ipykernel_1483006/559592751.py:44: FutureWarning: The frame.append method is deprecated and will be removed from pandas in a future version. Use pandas.concat instead.\n"
     ]
    },
    {
     "name": "stdout",
     "output_type": "stream",
     "text": [
      "Evaluating 1160920F; Fold: 0\n",
      "Evaluating 1160920F; Fold: 1\n",
      "Evaluating 1160920F; Fold: 2\n",
      "Evaluating 1160920F; Fold: 3\n",
      "Evaluating 1160920F; Fold: 4\n",
      "Evaluating 1160920F; Fold: 5\n",
      "Evaluating 1160920F; Fold: 6\n",
      "Evaluating 1160920F; Fold: 7\n",
      "Evaluating 1160920F; Fold: 8\n",
      "Evaluating 1160920F; Fold: 9\n",
      "Running CID44971\n",
      "Running stLearn\n",
      "Calculating neighbours...\n",
      "1 spots with no neighbours, 6 median spot neighbours.\n",
      "Spot neighbour indices stored in adata.obsm['spot_neighbours'] & adata.obsm['spot_neigh_bcs'].\n",
      "Altogether 2273 valid L-R pairs\n"
     ]
    },
    {
     "name": "stderr",
     "output_type": "stream",
     "text": [
      "Generating backgrounds & testing each LR pair...: 100%|██████████ [ time left: 00:00 ]\n",
      "/tmp/ipykernel_1483006/559592751.py:44: FutureWarning: The frame.append method is deprecated and will be removed from pandas in a future version. Use pandas.concat instead.\n",
      "Using resource `consensus`.\n",
      "Using `.X`!\n",
      "Converting to sparse csr matrix!\n"
     ]
    },
    {
     "name": "stdout",
     "output_type": "stream",
     "text": [
      "\n",
      "Storing results:\n",
      "\n",
      "lr_scores stored in adata.obsm['lr_scores'].\n",
      "p_vals stored in adata.obsm['p_vals'].\n",
      "p_adjs stored in adata.obsm['p_adjs'].\n",
      "-log10(p_adjs) stored in adata.obsm['-log10(p_adjs)'].\n",
      "lr_sig_scores stored in adata.obsm['lr_sig_scores'].\n",
      "\n",
      "Per-spot results in adata.obsm have columns in same order as rows in adata.uns['lr_summary'].\n",
      "Summary of LR results in adata.uns['lr_summary'].\n",
      "Running pearson\n"
     ]
    },
    {
     "name": "stderr",
     "output_type": "stream",
     "text": [
      "100%|██████████| 100/100 [00:05<00:00, 18.08it/s]\n",
      "/tmp/ipykernel_1483006/559592751.py:44: FutureWarning: The frame.append method is deprecated and will be removed from pandas in a future version. Use pandas.concat instead.\n",
      "Using resource `consensus`.\n",
      "Using `.X`!\n",
      "Converting to sparse csr matrix!\n"
     ]
    },
    {
     "name": "stdout",
     "output_type": "stream",
     "text": [
      "Running spearman\n"
     ]
    },
    {
     "name": "stderr",
     "output_type": "stream",
     "text": [
      "100%|██████████| 100/100 [00:31<00:00,  3.14it/s]\n",
      "/tmp/ipykernel_1483006/559592751.py:44: FutureWarning: The frame.append method is deprecated and will be removed from pandas in a future version. Use pandas.concat instead.\n",
      "Using resource `consensus`.\n"
     ]
    },
    {
     "name": "stdout",
     "output_type": "stream",
     "text": [
      "Running cosine\n"
     ]
    },
    {
     "name": "stderr",
     "output_type": "stream",
     "text": [
      "Using `.X`!\n",
      "Converting to sparse csr matrix!\n",
      "100%|██████████| 100/100 [00:02<00:00, 46.57it/s]\n",
      "/tmp/ipykernel_1483006/559592751.py:44: FutureWarning: The frame.append method is deprecated and will be removed from pandas in a future version. Use pandas.concat instead.\n",
      "Using resource `consensus`.\n",
      "Using `.X`!\n",
      "Converting to sparse csr matrix!\n"
     ]
    },
    {
     "name": "stdout",
     "output_type": "stream",
     "text": [
      "Running jaccard\n"
     ]
    },
    {
     "name": "stderr",
     "output_type": "stream",
     "text": [
      "100%|██████████| 100/100 [00:02<00:00, 41.10it/s]\n",
      "/tmp/ipykernel_1483006/559592751.py:44: FutureWarning: The frame.append method is deprecated and will be removed from pandas in a future version. Use pandas.concat instead.\n",
      "Using resource `consensus`.\n"
     ]
    },
    {
     "name": "stdout",
     "output_type": "stream",
     "text": [
      "Running product\n"
     ]
    },
    {
     "name": "stderr",
     "output_type": "stream",
     "text": [
      "Using `.X`!\n",
      "Converting to sparse csr matrix!\n",
      "100%|██████████| 100/100 [00:01<00:00, 58.50it/s]\n",
      "/tmp/ipykernel_1483006/559592751.py:44: FutureWarning: The frame.append method is deprecated and will be removed from pandas in a future version. Use pandas.concat instead.\n",
      "Using resource `consensus`.\n"
     ]
    },
    {
     "name": "stdout",
     "output_type": "stream",
     "text": [
      "Running norm_product\n"
     ]
    },
    {
     "name": "stderr",
     "output_type": "stream",
     "text": [
      "Using `.X`!\n",
      "Converting to sparse csr matrix!\n",
      "100%|██████████| 100/100 [00:02<00:00, 41.48it/s]\n",
      "/tmp/ipykernel_1483006/559592751.py:44: FutureWarning: The frame.append method is deprecated and will be removed from pandas in a future version. Use pandas.concat instead.\n",
      "Using resource `consensus`.\n"
     ]
    },
    {
     "name": "stdout",
     "output_type": "stream",
     "text": [
      "Running morans\n"
     ]
    },
    {
     "name": "stderr",
     "output_type": "stream",
     "text": [
      "Using `.X`!\n",
      "Converting to sparse csr matrix!\n",
      "100%|██████████| 100/100 [00:01<00:00, 50.45it/s]\n",
      "100%|██████████| 100/100 [00:00<00:00, 118.73it/s]\n",
      "/tmp/ipykernel_1483006/559592751.py:44: FutureWarning: The frame.append method is deprecated and will be removed from pandas in a future version. Use pandas.concat instead.\n",
      "Using resource `consensus`.\n"
     ]
    },
    {
     "name": "stdout",
     "output_type": "stream",
     "text": [
      "Running masked_spearman\n"
     ]
    },
    {
     "name": "stderr",
     "output_type": "stream",
     "text": [
      "Using `.X`!\n",
      "Converting to sparse csr matrix!\n",
      "100%|██████████| 100/100 [08:49<00:00,  5.29s/it]\n",
      "/tmp/ipykernel_1483006/559592751.py:44: FutureWarning: The frame.append method is deprecated and will be removed from pandas in a future version. Use pandas.concat instead.\n"
     ]
    },
    {
     "name": "stdout",
     "output_type": "stream",
     "text": [
      "Evaluating CID44971; Fold: 0\n",
      "Evaluating CID44971; Fold: 1\n",
      "Evaluating CID44971; Fold: 2\n",
      "Evaluating CID44971; Fold: 3\n",
      "Evaluating CID44971; Fold: 4\n",
      "Evaluating CID44971; Fold: 5\n",
      "Evaluating CID44971; Fold: 6\n",
      "Evaluating CID44971; Fold: 7\n",
      "Evaluating CID44971; Fold: 8\n",
      "Evaluating CID44971; Fold: 9\n",
      "Running CID4535\n",
      "Running stLearn\n",
      "Calculating neighbours...\n",
      "2 spots with no neighbours, 6 median spot neighbours.\n",
      "Spot neighbour indices stored in adata.obsm['spot_neighbours'] & adata.obsm['spot_neigh_bcs'].\n",
      "Altogether 1970 valid L-R pairs\n"
     ]
    },
    {
     "name": "stderr",
     "output_type": "stream",
     "text": [
      "Generating backgrounds & testing each LR pair...: 100%|██████████ [ time left: 00:00 ]\n",
      "/tmp/ipykernel_1483006/559592751.py:44: FutureWarning: The frame.append method is deprecated and will be removed from pandas in a future version. Use pandas.concat instead.\n",
      "Using resource `consensus`.\n",
      "Using `.X`!\n",
      "Converting to sparse csr matrix!\n"
     ]
    },
    {
     "name": "stdout",
     "output_type": "stream",
     "text": [
      "\n",
      "Storing results:\n",
      "\n",
      "lr_scores stored in adata.obsm['lr_scores'].\n",
      "p_vals stored in adata.obsm['p_vals'].\n",
      "p_adjs stored in adata.obsm['p_adjs'].\n",
      "-log10(p_adjs) stored in adata.obsm['-log10(p_adjs)'].\n",
      "lr_sig_scores stored in adata.obsm['lr_sig_scores'].\n",
      "\n",
      "Per-spot results in adata.obsm have columns in same order as rows in adata.uns['lr_summary'].\n",
      "Summary of LR results in adata.uns['lr_summary'].\n",
      "Running pearson\n"
     ]
    },
    {
     "name": "stderr",
     "output_type": "stream",
     "text": [
      "100%|██████████| 100/100 [00:04<00:00, 23.95it/s]\n",
      "/tmp/ipykernel_1483006/559592751.py:44: FutureWarning: The frame.append method is deprecated and will be removed from pandas in a future version. Use pandas.concat instead.\n",
      "Using resource `consensus`.\n",
      "Using `.X`!\n",
      "Converting to sparse csr matrix!\n"
     ]
    },
    {
     "name": "stdout",
     "output_type": "stream",
     "text": [
      "Running spearman\n"
     ]
    },
    {
     "name": "stderr",
     "output_type": "stream",
     "text": [
      "100%|██████████| 100/100 [00:25<00:00,  3.85it/s]\n",
      "/tmp/ipykernel_1483006/559592751.py:44: FutureWarning: The frame.append method is deprecated and will be removed from pandas in a future version. Use pandas.concat instead.\n",
      "Using resource `consensus`.\n",
      "Using `.X`!\n",
      "Converting to sparse csr matrix!\n"
     ]
    },
    {
     "name": "stdout",
     "output_type": "stream",
     "text": [
      "Running cosine\n"
     ]
    },
    {
     "name": "stderr",
     "output_type": "stream",
     "text": [
      "100%|██████████| 100/100 [00:01<00:00, 65.97it/s]\n",
      "/tmp/ipykernel_1483006/559592751.py:44: FutureWarning: The frame.append method is deprecated and will be removed from pandas in a future version. Use pandas.concat instead.\n",
      "Using resource `consensus`.\n",
      "Using `.X`!\n",
      "Converting to sparse csr matrix!\n"
     ]
    },
    {
     "name": "stdout",
     "output_type": "stream",
     "text": [
      "Running jaccard\n"
     ]
    },
    {
     "name": "stderr",
     "output_type": "stream",
     "text": [
      "100%|██████████| 100/100 [00:01<00:00, 58.16it/s]\n",
      "/tmp/ipykernel_1483006/559592751.py:44: FutureWarning: The frame.append method is deprecated and will be removed from pandas in a future version. Use pandas.concat instead.\n",
      "Using resource `consensus`.\n",
      "Using `.X`!\n",
      "Converting to sparse csr matrix!\n"
     ]
    },
    {
     "name": "stdout",
     "output_type": "stream",
     "text": [
      "Running product\n"
     ]
    },
    {
     "name": "stderr",
     "output_type": "stream",
     "text": [
      "100%|██████████| 100/100 [00:01<00:00, 77.33it/s]\n",
      "/tmp/ipykernel_1483006/559592751.py:44: FutureWarning: The frame.append method is deprecated and will be removed from pandas in a future version. Use pandas.concat instead.\n",
      "Using resource `consensus`.\n",
      "Using `.X`!\n",
      "Converting to sparse csr matrix!\n"
     ]
    },
    {
     "name": "stdout",
     "output_type": "stream",
     "text": [
      "Running norm_product\n"
     ]
    },
    {
     "name": "stderr",
     "output_type": "stream",
     "text": [
      "100%|██████████| 100/100 [00:01<00:00, 51.83it/s]\n",
      "/tmp/ipykernel_1483006/559592751.py:44: FutureWarning: The frame.append method is deprecated and will be removed from pandas in a future version. Use pandas.concat instead.\n",
      "Using resource `consensus`.\n"
     ]
    },
    {
     "name": "stdout",
     "output_type": "stream",
     "text": [
      "Running morans\n"
     ]
    },
    {
     "name": "stderr",
     "output_type": "stream",
     "text": [
      "Using `.X`!\n",
      "Converting to sparse csr matrix!\n",
      "100%|██████████| 100/100 [00:01<00:00, 62.15it/s]\n",
      "100%|██████████| 100/100 [00:00<00:00, 146.07it/s]\n",
      "/tmp/ipykernel_1483006/559592751.py:44: FutureWarning: The frame.append method is deprecated and will be removed from pandas in a future version. Use pandas.concat instead.\n",
      "Using resource `consensus`.\n"
     ]
    },
    {
     "name": "stdout",
     "output_type": "stream",
     "text": [
      "Running masked_spearman\n"
     ]
    },
    {
     "name": "stderr",
     "output_type": "stream",
     "text": [
      "Using `.X`!\n",
      "Converting to sparse csr matrix!\n",
      "100%|██████████| 100/100 [06:28<00:00,  3.88s/it]\n",
      "/tmp/ipykernel_1483006/559592751.py:44: FutureWarning: The frame.append method is deprecated and will be removed from pandas in a future version. Use pandas.concat instead.\n"
     ]
    },
    {
     "name": "stdout",
     "output_type": "stream",
     "text": [
      "Evaluating CID4535; Fold: 0\n",
      "Evaluating CID4535; Fold: 1\n",
      "Evaluating CID4535; Fold: 2\n",
      "Evaluating CID4535; Fold: 3\n",
      "Evaluating CID4535; Fold: 4\n",
      "Evaluating CID4535; Fold: 5\n",
      "Evaluating CID4535; Fold: 6\n",
      "Evaluating CID4535; Fold: 7\n",
      "Evaluating CID4535; Fold: 8\n",
      "Evaluating CID4535; Fold: 9\n",
      "Running 1142243F\n",
      "Running stLearn\n",
      "Calculating neighbours...\n",
      "0 spots with no neighbours, 6 median spot neighbours.\n",
      "Spot neighbour indices stored in adata.obsm['spot_neighbours'] & adata.obsm['spot_neigh_bcs'].\n",
      "Altogether 2354 valid L-R pairs\n"
     ]
    },
    {
     "name": "stderr",
     "output_type": "stream",
     "text": [
      "Generating backgrounds & testing each LR pair...: 100%|██████████ [ time left: 00:00 ]\n",
      "/tmp/ipykernel_1483006/559592751.py:44: FutureWarning: The frame.append method is deprecated and will be removed from pandas in a future version. Use pandas.concat instead.\n"
     ]
    },
    {
     "name": "stdout",
     "output_type": "stream",
     "text": [
      "\n",
      "Storing results:\n",
      "\n",
      "lr_scores stored in adata.obsm['lr_scores'].\n",
      "p_vals stored in adata.obsm['p_vals'].\n",
      "p_adjs stored in adata.obsm['p_adjs'].\n",
      "-log10(p_adjs) stored in adata.obsm['-log10(p_adjs)'].\n",
      "lr_sig_scores stored in adata.obsm['lr_sig_scores'].\n",
      "\n",
      "Per-spot results in adata.obsm have columns in same order as rows in adata.uns['lr_summary'].\n",
      "Summary of LR results in adata.uns['lr_summary'].\n",
      "Running pearson\n"
     ]
    },
    {
     "name": "stderr",
     "output_type": "stream",
     "text": [
      "Using resource `consensus`.\n",
      "Using `.X`!\n",
      "Converting to sparse csr matrix!\n",
      "100%|██████████| 100/100 [00:23<00:00,  4.17it/s]\n",
      "/tmp/ipykernel_1483006/559592751.py:44: FutureWarning: The frame.append method is deprecated and will be removed from pandas in a future version. Use pandas.concat instead.\n"
     ]
    },
    {
     "name": "stdout",
     "output_type": "stream",
     "text": [
      "Running spearman\n"
     ]
    },
    {
     "name": "stderr",
     "output_type": "stream",
     "text": [
      "Using resource `consensus`.\n",
      "Using `.X`!\n",
      "Converting to sparse csr matrix!\n",
      "100%|██████████| 100/100 [02:15<00:00,  1.35s/it]\n",
      "/tmp/ipykernel_1483006/559592751.py:44: FutureWarning: The frame.append method is deprecated and will be removed from pandas in a future version. Use pandas.concat instead.\n"
     ]
    },
    {
     "name": "stdout",
     "output_type": "stream",
     "text": [
      "Running cosine\n"
     ]
    },
    {
     "name": "stderr",
     "output_type": "stream",
     "text": [
      "Using resource `consensus`.\n",
      "Using `.X`!\n",
      "Converting to sparse csr matrix!\n",
      "100%|██████████| 100/100 [00:08<00:00, 11.21it/s]\n",
      "/tmp/ipykernel_1483006/559592751.py:44: FutureWarning: The frame.append method is deprecated and will be removed from pandas in a future version. Use pandas.concat instead.\n"
     ]
    },
    {
     "name": "stdout",
     "output_type": "stream",
     "text": [
      "Running jaccard\n"
     ]
    },
    {
     "name": "stderr",
     "output_type": "stream",
     "text": [
      "Using resource `consensus`.\n",
      "Using `.X`!\n",
      "Converting to sparse csr matrix!\n",
      "100%|██████████| 100/100 [00:08<00:00, 12.41it/s]\n",
      "/tmp/ipykernel_1483006/559592751.py:44: FutureWarning: The frame.append method is deprecated and will be removed from pandas in a future version. Use pandas.concat instead.\n"
     ]
    },
    {
     "name": "stdout",
     "output_type": "stream",
     "text": [
      "Running product\n"
     ]
    },
    {
     "name": "stderr",
     "output_type": "stream",
     "text": [
      "Using resource `consensus`.\n",
      "Using `.X`!\n",
      "Converting to sparse csr matrix!\n",
      "100%|██████████| 100/100 [00:07<00:00, 13.37it/s]\n",
      "/tmp/ipykernel_1483006/559592751.py:44: FutureWarning: The frame.append method is deprecated and will be removed from pandas in a future version. Use pandas.concat instead.\n"
     ]
    },
    {
     "name": "stdout",
     "output_type": "stream",
     "text": [
      "Running norm_product\n"
     ]
    },
    {
     "name": "stderr",
     "output_type": "stream",
     "text": [
      "Using resource `consensus`.\n",
      "Using `.X`!\n",
      "Converting to sparse csr matrix!\n",
      "100%|██████████| 100/100 [00:09<00:00, 10.55it/s]\n",
      "/tmp/ipykernel_1483006/559592751.py:44: FutureWarning: The frame.append method is deprecated and will be removed from pandas in a future version. Use pandas.concat instead.\n"
     ]
    },
    {
     "name": "stdout",
     "output_type": "stream",
     "text": [
      "Running morans\n"
     ]
    },
    {
     "name": "stderr",
     "output_type": "stream",
     "text": [
      "Using resource `consensus`.\n",
      "Using `.X`!\n",
      "Converting to sparse csr matrix!\n",
      "100%|██████████| 100/100 [00:09<00:00, 11.10it/s]\n",
      "100%|██████████| 100/100 [00:03<00:00, 28.51it/s]\n",
      "/tmp/ipykernel_1483006/559592751.py:44: FutureWarning: The frame.append method is deprecated and will be removed from pandas in a future version. Use pandas.concat instead.\n"
     ]
    },
    {
     "name": "stdout",
     "output_type": "stream",
     "text": [
      "Running masked_spearman\n"
     ]
    },
    {
     "name": "stderr",
     "output_type": "stream",
     "text": [
      "Using resource `consensus`.\n",
      "Using `.X`!\n",
      "Converting to sparse csr matrix!\n",
      "100%|██████████| 100/100 [23:17<00:00, 13.97s/it]\n",
      "/tmp/ipykernel_1483006/559592751.py:44: FutureWarning: The frame.append method is deprecated and will be removed from pandas in a future version. Use pandas.concat instead.\n"
     ]
    },
    {
     "name": "stdout",
     "output_type": "stream",
     "text": [
      "Evaluating 1142243F; Fold: 0\n",
      "Evaluating 1142243F; Fold: 1\n",
      "Evaluating 1142243F; Fold: 2\n",
      "Evaluating 1142243F; Fold: 3\n",
      "Evaluating 1142243F; Fold: 4\n",
      "Evaluating 1142243F; Fold: 5\n",
      "Evaluating 1142243F; Fold: 6\n",
      "Evaluating 1142243F; Fold: 7\n",
      "Evaluating 1142243F; Fold: 8\n",
      "Evaluating 1142243F; Fold: 9\n"
     ]
    }
   ],
   "source": [
    "performances = {}\n",
    "# Initialize an empty DataFrame\n",
    "efficiency = pd.DataFrame(columns=['dataset_name', 'function_name', 'time'])\n",
    "\n",
    "for dataset_name in dataset_names:\n",
    "    print(f\"Running {dataset_name}\")\n",
    "    adata = sc.read_h5ad(os.path.join(data_dir, f\"{dataset_name}.h5ad\"))\n",
    "    \n",
    "    adata.uns['function_names'] = function_names\n",
    "    \n",
    "    # to binary\n",
    "    adata.obs['Classification'][adata.obs['Classification'].isna()] = 'Artefact'\n",
    "    adata.obs['spot_label'] = adata.obs['Classification'].str.contains('cancer').astype(int)\n",
    "    \n",
    "    # Preprocess\n",
    "    sc.pp.filter_cells(adata, min_genes=400)\n",
    "    sc.pp.filter_genes(adata, min_cells=20)\n",
    "\n",
    "    adata.layers[\"counts\"] = adata.X.copy()\n",
    "    \n",
    "    sc.pp.normalize_total(adata, inplace=True)\n",
    "    sc.pp.log1p(adata)\n",
    "    \n",
    "    # NOTE: stLearn specific\n",
    "    adata = convert_scanpy(adata)\n",
    "    \n",
    "    # Run all functions\n",
    "    for function_name in function_names:\n",
    "        print(f\"Running {function_name}\")\n",
    "        \n",
    "        start_time = time.time()\n",
    "        \n",
    "        if function_name == 'stLearn':\n",
    "            run_stlearn(adata)\n",
    "        else:\n",
    "            if function_name not in ['product', 'norm_product']:\n",
    "                standardize = False\n",
    "            else:\n",
    "                standardize = True\n",
    "            \n",
    "            run_local(adata, function_name, standardize=standardize)\n",
    "            \n",
    "        end_time = time.time()\n",
    "        efficiency = efficiency.append({'dataset_name': dataset_name,\n",
    "                                        'function_name': function_name,\n",
    "                                        'time': end_time - start_time},\n",
    "                                       ignore_index=True)\n",
    "        \n",
    "    # eval LR basis\n",
    "    run_rf_auc(adata, dataset_name)\n",
    "    os.makedirs(os.path.join(data_dir, 'results'), exist_ok=True)\n",
    "    performance = adata.uns['performance']\n",
    "    performances[dataset_name] = performance\n"
   ]
  },
  {
   "cell_type": "code",
   "execution_count": 8,
   "metadata": {},
   "outputs": [],
   "source": [
    "efficiency.to_csv(os.path.join('efficiency.csv'), index=False)"
   ]
  },
  {
   "cell_type": "code",
   "execution_count": 11,
   "metadata": {},
   "outputs": [],
   "source": [
    "# save results\n",
    "performance = pd.concat(performances, names=['dataset_name', None])\n",
    "performance.to_csv(\"annotation_results.csv\")"
   ]
  },
  {
   "cell_type": "code",
   "execution_count": null,
   "metadata": {},
   "outputs": [],
   "source": []
  },
  {
   "cell_type": "code",
   "execution_count": null,
   "metadata": {},
   "outputs": [],
   "source": []
  },
  {
   "cell_type": "code",
   "execution_count": 23,
   "metadata": {},
   "outputs": [],
   "source": [
    "performance = pd.read_csv(\"annotation_results.csv\")\n",
    "efficiency = pd.read_csv(\"efficiency.csv\")"
   ]
  },
  {
   "cell_type": "code",
   "execution_count": 24,
   "metadata": {},
   "outputs": [
    {
     "data": {
      "text/html": [
       "<div>\n",
       "<style scoped>\n",
       "    .dataframe tbody tr th:only-of-type {\n",
       "        vertical-align: middle;\n",
       "    }\n",
       "\n",
       "    .dataframe tbody tr th {\n",
       "        vertical-align: top;\n",
       "    }\n",
       "\n",
       "    .dataframe thead th {\n",
       "        text-align: right;\n",
       "    }\n",
       "</style>\n",
       "<table border=\"1\" class=\"dataframe\">\n",
       "  <thead>\n",
       "    <tr style=\"text-align: right;\">\n",
       "      <th></th>\n",
       "      <th>dataset_name</th>\n",
       "      <th>function_name</th>\n",
       "      <th>time</th>\n",
       "    </tr>\n",
       "  </thead>\n",
       "  <tbody>\n",
       "    <tr>\n",
       "      <th>23</th>\n",
       "      <td>CID4535</td>\n",
       "      <td>product</td>\n",
       "      <td>3.788131</td>\n",
       "    </tr>\n",
       "    <tr>\n",
       "      <th>21</th>\n",
       "      <td>CID4535</td>\n",
       "      <td>cosine</td>\n",
       "      <td>4.023909</td>\n",
       "    </tr>\n",
       "    <tr>\n",
       "      <th>22</th>\n",
       "      <td>CID4535</td>\n",
       "      <td>jaccard</td>\n",
       "      <td>4.278966</td>\n",
       "    </tr>\n",
       "    <tr>\n",
       "      <th>14</th>\n",
       "      <td>CID44971</td>\n",
       "      <td>product</td>\n",
       "      <td>4.342767</td>\n",
       "    </tr>\n",
       "    <tr>\n",
       "      <th>24</th>\n",
       "      <td>CID4535</td>\n",
       "      <td>norm_product</td>\n",
       "      <td>4.516056</td>\n",
       "    </tr>\n",
       "  </tbody>\n",
       "</table>\n",
       "</div>"
      ],
      "text/plain": [
       "   dataset_name function_name      time\n",
       "23      CID4535       product  3.788131\n",
       "21      CID4535        cosine  4.023909\n",
       "22      CID4535       jaccard  4.278966\n",
       "14     CID44971       product  4.342767\n",
       "24      CID4535  norm_product  4.516056"
      ]
     },
     "execution_count": 24,
     "metadata": {},
     "output_type": "execute_result"
    }
   ],
   "source": [
    "efficiency.sort_values(\"time\").head()"
   ]
  },
  {
   "cell_type": "code",
   "execution_count": 25,
   "metadata": {},
   "outputs": [
    {
     "data": {
      "image/png": "[encoded data removed]",
      "text/plain": [
       "<Figure size 1000x500 with 1 Axes>"
      ]
     },
     "metadata": {},
     "output_type": "display_data"
    }
   ],
   "source": [
    "### boxplot by time\n",
    "import seaborn as sns\n",
    "import matplotlib.pyplot as plt\n",
    "sns.set(style=\"whitegrid\")\n",
    "plt.figure(figsize=(10, 5))\n",
    "ax = sns.boxplot(x=\"function_name\", y=\"time\", data=efficiency)\n",
    "plt.xticks(rotation=90)\n",
    "# axis labels\n",
    "plt.xlabel('Function')\n",
    "plt.ylabel('Time (s)')\n",
    "plt.show()"
   ]
  },
  {
   "cell_type": "code",
   "execution_count": null,
   "metadata": {},
   "outputs": [],
   "source": []
  }
 ],
 "metadata": {
  "kernelspec": {
   "display_name": "spiana",
   "language": "python",
   "name": "python3"
  },
  "language_info": {
   "codemirror_mode": {
    "name": "ipython",
    "version": 3
   },
   "file_extension": ".py",
   "mimetype": "text/x-python",
   "name": "python",
   "nbconvert_exporter": "python",
   "pygments_lexer": "ipython3",
   "version": "3.8.18"
  },
  "orig_nbformat": 4,
  "vscode": {
   "interpreter": {
    "hash": "b688e7f183144fde965166e58483e32fc6dbc6fc380ccc51d49ef608da0385a8"
   }
  }
 },
 "nbformat": 4,
 "nbformat_minor": 2
}
