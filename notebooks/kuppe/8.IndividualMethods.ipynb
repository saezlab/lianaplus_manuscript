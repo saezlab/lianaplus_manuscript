{
 "cells": [
  {
   "cell_type": "code",
   "execution_count": 1,
   "metadata": {},
   "outputs": [],
   "source": [
    "import numpy as np\n",
    "import pandas as pd\n",
    "import scanpy as sc\n",
    "import liana as li"
   ]
  },
  {
   "cell_type": "markdown",
   "metadata": {},
   "source": [
    "### SpatialDM"
   ]
  },
  {
   "cell_type": "code",
   "execution_count": 2,
   "metadata": {},
   "outputs": [],
   "source": [
    "import os\n",
    "import scanpy as sc\n",
    "import liana as li\n",
    "import pandas as pd"
   ]
  },
  {
   "cell_type": "code",
   "execution_count": 3,
   "metadata": {},
   "outputs": [],
   "source": [
    "data_dir = os.path.join('..', '..', 'data', 'heart_visium')\n",
    "dataset_names = [f for f in os.listdir(os.path.join('..', 'kuppe', 'results', 'processed')) if f.endswith('.h5ad')]"
   ]
  },
  {
   "cell_type": "code",
   "execution_count": null,
   "metadata": {},
   "outputs": [],
   "source": []
  },
  {
   "cell_type": "code",
   "execution_count": 4,
   "metadata": {},
   "outputs": [],
   "source": [
    "lrdatas = {}\n",
    "res = []\n",
    "\n",
    "for dataset_name in dataset_names:\n",
    "   adata = sc.read_h5ad(os.path.join('..', 'kuppe', 'results', 'processed', dataset_name))\n",
    "\n",
    "   li.mt.lr_bivar(adata,\n",
    "                  function_name='morans',\n",
    "                  expr_prop=0.1,\n",
    "                  n_perms=0,\n",
    "                  use_raw=False,\n",
    "                  add_categories=False,\n",
    "                  mask_negatives=True,\n",
    "                  )\n",
    "   lrdata = adata.obsm['local_scores']\n",
    "   df = lrdata.var\n",
    "   df['sample'] = dataset_name\n",
    "   res.append(df)\n",
    "\n",
    "   lrdatas[dataset_name] = lrdata"
   ]
  },
  {
   "cell_type": "code",
   "execution_count": 5,
   "metadata": {},
   "outputs": [],
   "source": [
    "ii = pd.concat(res)"
   ]
  },
  {
   "cell_type": "code",
   "execution_count": 6,
   "metadata": {},
   "outputs": [],
   "source": [
    "ii.to_csv(\"results/morans.csv\")"
   ]
  },
  {
   "cell_type": "code",
   "execution_count": null,
   "metadata": {},
   "outputs": [],
   "source": []
  },
  {
   "cell_type": "code",
   "execution_count": null,
   "metadata": {},
   "outputs": [],
   "source": []
  },
  {
   "cell_type": "markdown",
   "metadata": {},
   "source": [
    "(1)"
   ]
  },
  {
   "cell_type": "code",
   "execution_count": null,
   "metadata": {},
   "outputs": [],
   "source": [
    "#### No filtering (Needed for Prediction Reliability)\n",
    "lrs = li.mt.cellphonedb.by_sample(adata,\n",
    "                                  groupby='cell_type_original',\n",
    "                                  use_raw=False,\n",
    "                                  sample_key='sample',\n",
    "                                  expr_prop=0.05,\n",
    "                                  return_all_lrs=False,\n",
    "                                  verbose=True,\n",
    "                                  n_perms=1000,\n",
    "                                  resource_name='consensus',\n",
    "                                  inplace=False\n",
    "                                  #    groupby_pairs=cell_pairs,\n",
    "                                     )\n",
    "lrs.to_csv(os.path.join('results', 'all_lrs.csv'))\n",
    "lrs.shape[0]"
   ]
  },
  {
   "cell_type": "code",
   "execution_count": null,
   "metadata": {},
   "outputs": [],
   "source": []
  }
 ],
 "metadata": {
  "kernelspec": {
   "display_name": "spiana",
   "language": "python",
   "name": "python3"
  },
  "language_info": {
   "codemirror_mode": {
    "name": "ipython",
    "version": 3
   },
   "file_extension": ".py",
   "mimetype": "text/x-python",
   "name": "python",
   "nbconvert_exporter": "python",
   "pygments_lexer": "ipython3",
   "version": "3.10.13"
  }
 },
 "nbformat": 4,
 "nbformat_minor": 2
}
