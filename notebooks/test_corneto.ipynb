{
 "cells": [
  {
   "cell_type": "code",
   "execution_count": 1,
   "metadata": {},
   "outputs": [
    {
     "name": "stderr",
     "output_type": "stream",
     "text": [
      "/home/dbdimitrov/anaconda3/envs/spiana/lib/python3.10/site-packages/tqdm/auto.py:21: TqdmWarning: IProgress not found. Please update jupyter and ipywidgets. See https://ipywidgets.readthedocs.io/en/stable/user_install.html\n",
      "  from .autonotebook import tqdm as notebook_tqdm\n"
     ]
    },
    {
     "name": "stdout",
     "output_type": "stream",
     "text": [
      "CORNETO v0.9.1-alpha.0 (latest: v0.9.1-alpha.1)\n",
      "Available backends:  CVXPY v1.3.1\n",
      "Default backend (corneto.K): CVXPY\n",
      "Available solvers for CVXPY: CBC, ECOS, ECOS_BB, OSQP, SCIPY, SCS\n",
      "Graphviz available: v0.20.1.\n",
      "https://github.com/saezlab/corneto\n"
     ]
    }
   ],
   "source": [
    "import omnipath\n",
    "import pandas as pd\n",
    "import corneto as cn\n",
    "import decoupler as dc\n",
    "\n",
    "cn.info()"
   ]
  },
  {
   "cell_type": "code",
   "execution_count": 2,
   "metadata": {},
   "outputs": [],
   "source": [
    "pkn = omnipath.interactions.OmniPath.get(genesymbols=True, signed=True).drop_duplicates(['source_genesymbol', 'target_genesymbol'])"
   ]
  },
  {
   "cell_type": "code",
   "execution_count": 3,
   "metadata": {},
   "outputs": [],
   "source": [
    "pkn = dc.translate_net(pkn, columns=['source_genesymbol', 'target_genesymbol'])"
   ]
  },
  {
   "cell_type": "code",
   "execution_count": 4,
   "metadata": {},
   "outputs": [],
   "source": [
    "# Assign mode of regulation\n",
    "mor = []\n",
    "\n",
    "for i in pkn.itertuples():\n",
    "\n",
    "    if i.is_stimulation and i.is_inhibition:\n",
    "        if i.consensus_stimulation:\n",
    "            mor.append(1)\n",
    "        else:\n",
    "            mor.append(-1)\n",
    "    elif i.is_stimulation:\n",
    "        mor.append(1)\n",
    "    elif i.is_inhibition:\n",
    "        mor.append(-1)\n",
    "    else:\n",
    "        mor.append(1)\n",
    "\n",
    "pkn['mor'] = mor"
   ]
  },
  {
   "cell_type": "code",
   "execution_count": 6,
   "metadata": {},
   "outputs": [],
   "source": [
    "pkn_df = pkn[['source_genesymbol', 'mor', 'target_genesymbol']]"
   ]
  },
  {
   "cell_type": "code",
   "execution_count": 10,
   "metadata": {},
   "outputs": [
    {
     "data": {
      "text/plain": [
       " 1    14951\n",
       "-1     5798\n",
       "Name: mor, dtype: int64"
      ]
     },
     "execution_count": 10,
     "metadata": {},
     "output_type": "execute_result"
    }
   ],
   "source": [
    "pkn_df['mor'].value_counts()"
   ]
  },
  {
   "cell_type": "code",
   "execution_count": null,
   "metadata": {},
   "outputs": [],
   "source": []
  },
  {
   "cell_type": "code",
   "execution_count": 7,
   "metadata": {},
   "outputs": [],
   "source": [
    "# convert to graph\n",
    "G = cn.Graph.from_sif_tuples([(r[1][0], r[1][1], r[1][2]) for r in pkn_df.iterrows()])"
   ]
  },
  {
   "cell_type": "code",
   "execution_count": null,
   "metadata": {},
   "outputs": [],
   "source": []
  },
  {
   "cell_type": "code",
   "execution_count": 16,
   "metadata": {},
   "outputs": [
    {
     "data": {
      "text/plain": [
       "array([0.])"
      ]
     },
     "execution_count": 16,
     "metadata": {},
     "output_type": "execute_result"
    }
   ],
   "source": [
    "P, Gc = cn.methods.carnival.runVanillaCarnival({'Itgb1': 1}, {'Hnf4a': 1}, G, betaWeight=0.5)\n",
    "P.solve(solver='CBC')\n",
    "P.objectives[0].value"
   ]
  },
  {
   "cell_type": "code",
   "execution_count": null,
   "metadata": {},
   "outputs": [],
   "source": []
  },
  {
   "cell_type": "code",
   "execution_count": 17,
   "metadata": {},
   "outputs": [
    {
     "data": {
      "text/plain": [
       "array([0., 0., 0., ..., 1., 1., 1.])"
      ]
     },
     "execution_count": 17,
     "metadata": {},
     "output_type": "execute_result"
    }
   ],
   "source": [
    "selected_vertices = P.symbols['species_activated_c0'].value + P.symbols['species_inhibited_c0'].value\n",
    "selected_vertices"
   ]
  },
  {
   "cell_type": "code",
   "execution_count": 18,
   "metadata": {},
   "outputs": [
    {
     "name": "stderr",
     "output_type": "stream",
     "text": [
      "Warning: node 'Prkaca', graph '%3' size too small for label\n",
      "Warning: node 'Itgb1', graph '%3' size too small for label\n",
      "Warning: node 'Prkaa1', graph '%3' size too small for label\n",
      "Warning: node 'Hnf4a', graph '%3' size too small for label\n",
      "Warning: node '_meas_c0', graph '%3' size too small for label\n",
      "Warning: node '_pert_c0', graph '%3' size too small for label\n"
     ]
    },
    {
     "data": {
      "image/svg+xml": "<?xml version=\"1.0\" encoding=\"UTF-8\" standalone=\"no\"?>\n<!DOCTYPE svg PUBLIC \"-//W3C//DTD SVG 1.1//EN\"\n \"http://www.w3.org/Graphics/SVG/1.1/DTD/svg11.dtd\">\n<!-- Generated by graphviz version 2.43.0 (0)\n -->\n<!-- Title: %3 Pages: 1 -->\n<svg width=\"125pt\" height=\"404pt\"\n viewBox=\"0.00 0.00 125.00 404.00\" xmlns=\"http://www.w3.org/2000/svg\" xmlns:xlink=\"http://www.w3.org/1999/xlink\">\n<g id=\"graph0\" class=\"graph\" transform=\"scale(1 1) rotate(0) translate(4 400)\">\n<title>%3</title>\n<polygon fill=\"white\" stroke=\"transparent\" points=\"-4,4 -4,-400 121,-400 121,4 -4,4\"/>\n<!-- Prkaca -->\n<g id=\"node1\" class=\"node\">\n<title>Prkaca</title>\n<ellipse fill=\"none\" stroke=\"black\" cx=\"72\" cy=\"-306\" rx=\"18\" ry=\"18\"/>\n<text text-anchor=\"middle\" x=\"72\" y=\"-302.3\" font-family=\"Times,serif\" font-size=\"14.00\">Prkaca</text>\n</g>\n<!-- Itgb1 -->\n<g id=\"node2\" class=\"node\">\n<title>Itgb1</title>\n<ellipse fill=\"none\" stroke=\"black\" cx=\"45\" cy=\"-234\" rx=\"18\" ry=\"18\"/>\n<text text-anchor=\"middle\" x=\"45\" y=\"-230.3\" font-family=\"Times,serif\" font-size=\"14.00\">Itgb1</text>\n</g>\n<!-- Prkaca&#45;&gt;Itgb1 -->\n<g id=\"edge1\" class=\"edge\">\n<title>Prkaca&#45;&gt;Itgb1</title>\n<path fill=\"none\" stroke=\"black\" d=\"M61.16,-291.17C56.77,-282.74 52.15,-271.69 48.69,-261.63\"/>\n<polygon fill=\"black\" stroke=\"black\" points=\"52.01,-260.51 45.68,-252.02 45.33,-262.61 52.01,-260.51\"/>\n</g>\n<!-- Prkaa1 -->\n<g id=\"node3\" class=\"node\">\n<title>Prkaa1</title>\n<ellipse fill=\"none\" stroke=\"black\" cx=\"99\" cy=\"-234\" rx=\"18\" ry=\"18\"/>\n<text text-anchor=\"middle\" x=\"99\" y=\"-230.3\" font-family=\"Times,serif\" font-size=\"14.00\">Prkaa1</text>\n</g>\n<!-- Prkaca&#45;&gt;Prkaa1 -->\n<g id=\"edge7\" class=\"edge\">\n<title>Prkaca&#45;&gt;Prkaa1</title>\n<path fill=\"none\" stroke=\"black\" d=\"M78.26,-288.76C82.04,-278.96 86.9,-266.36 90.97,-255.83\"/>\n<polygon fill=\"black\" stroke=\"black\" points=\"87.75,-250.28 97.08,-253.88 96.36,-255.75 87.03,-252.15 87.75,-250.28\"/>\n<polyline fill=\"none\" stroke=\"black\" points=\"92.77,-251.15 90.97,-255.81 \"/>\n</g>\n<!-- Itgb1&#45;&gt;Prkaca -->\n<g id=\"edge6\" class=\"edge\">\n<title>Itgb1&#45;&gt;Prkaca</title>\n<path fill=\"none\" stroke=\"black\" d=\"M55.84,-248.82C60.19,-257.19 64.78,-268.13 68.22,-278.13\"/>\n<polygon fill=\"black\" stroke=\"black\" points=\"64.89,-279.21 71.24,-287.7 71.57,-277.11 64.89,-279.21\"/>\n</g>\n<!-- Hnf4a -->\n<g id=\"node4\" class=\"node\">\n<title>Hnf4a</title>\n<ellipse fill=\"none\" stroke=\"black\" cx=\"99\" cy=\"-162\" rx=\"18\" ry=\"18\"/>\n<text text-anchor=\"middle\" x=\"99\" y=\"-158.3\" font-family=\"Times,serif\" font-size=\"14.00\">Hnf4a</text>\n</g>\n<!-- Prkaa1&#45;&gt;Hnf4a -->\n<g id=\"edge2\" class=\"edge\">\n<title>Prkaa1&#45;&gt;Hnf4a</title>\n<path fill=\"none\" stroke=\"black\" d=\"M99,-215.7C99,-206.46 99,-194.98 99,-185.11\"/>\n<polygon fill=\"black\" stroke=\"black\" points=\"94,-181.1 104,-181.1 104,-183.1 94,-183.1 94,-181.1\"/>\n<polyline fill=\"none\" stroke=\"black\" points=\"99,-180.1 99,-185.1 \"/>\n</g>\n<!-- _meas_c0 -->\n<g id=\"node5\" class=\"node\">\n<title>_meas_c0</title>\n<ellipse fill=\"none\" stroke=\"black\" cx=\"99\" cy=\"-90\" rx=\"18\" ry=\"18\"/>\n<text text-anchor=\"middle\" x=\"99\" y=\"-86.3\" font-family=\"Times,serif\" font-size=\"14.00\">_meas_c0</text>\n</g>\n<!-- Hnf4a&#45;&gt;_meas_c0 -->\n<g id=\"edge8\" class=\"edge\">\n<title>Hnf4a&#45;&gt;_meas_c0</title>\n<path fill=\"none\" stroke=\"black\" d=\"M99,-143.7C99,-135.98 99,-126.71 99,-118.11\"/>\n<polygon fill=\"black\" stroke=\"black\" points=\"102.5,-118.1 99,-108.1 95.5,-118.1 102.5,-118.1\"/>\n</g>\n<!-- _t -->\n<g id=\"node6\" class=\"node\">\n<title>_t</title>\n<ellipse fill=\"none\" stroke=\"black\" cx=\"99\" cy=\"-18\" rx=\"18\" ry=\"18\"/>\n<text text-anchor=\"middle\" x=\"99\" y=\"-14.3\" font-family=\"Times,serif\" font-size=\"14.00\">_t</text>\n</g>\n<!-- _meas_c0&#45;&gt;_t -->\n<g id=\"edge3\" class=\"edge\">\n<title>_meas_c0&#45;&gt;_t</title>\n<path fill=\"none\" stroke=\"black\" d=\"M99,-71.7C99,-63.98 99,-54.71 99,-46.11\"/>\n<polygon fill=\"black\" stroke=\"black\" points=\"102.5,-46.1 99,-36.1 95.5,-46.1 102.5,-46.1\"/>\n</g>\n<!-- _pert_c0 -->\n<g id=\"node7\" class=\"node\">\n<title>_pert_c0</title>\n<ellipse fill=\"none\" stroke=\"black\" cx=\"18\" cy=\"-306\" rx=\"18\" ry=\"18\"/>\n<text text-anchor=\"middle\" x=\"18\" y=\"-302.3\" font-family=\"Times,serif\" font-size=\"14.00\">_pert_c0</text>\n</g>\n<!-- _pert_c0&#45;&gt;Itgb1 -->\n<g id=\"edge4\" class=\"edge\">\n<title>_pert_c0&#45;&gt;Itgb1</title>\n<path fill=\"none\" stroke=\"black\" d=\"M24.26,-288.76C27.5,-280.37 31.53,-269.93 35.17,-260.5\"/>\n<polygon fill=\"black\" stroke=\"black\" points=\"38.44,-261.74 38.77,-251.15 31.91,-259.22 38.44,-261.74\"/>\n</g>\n<!-- _s -->\n<g id=\"node8\" class=\"node\">\n<title>_s</title>\n<ellipse fill=\"none\" stroke=\"black\" cx=\"18\" cy=\"-378\" rx=\"18\" ry=\"18\"/>\n<text text-anchor=\"middle\" x=\"18\" y=\"-374.3\" font-family=\"Times,serif\" font-size=\"14.00\">_s</text>\n</g>\n<!-- _s&#45;&gt;_pert_c0 -->\n<g id=\"edge5\" class=\"edge\">\n<title>_s&#45;&gt;_pert_c0</title>\n<path fill=\"none\" stroke=\"black\" d=\"M18,-359.7C18,-351.98 18,-342.71 18,-334.11\"/>\n<polygon fill=\"black\" stroke=\"black\" points=\"21.5,-334.1 18,-324.1 14.5,-334.1 21.5,-334.1\"/>\n</g>\n</g>\n</svg>\n",
      "text/plain": [
       "<graphviz.graphs.Digraph at 0x7f0a41169db0>"
      ]
     },
     "execution_count": 18,
     "metadata": {},
     "output_type": "execute_result"
    }
   ],
   "source": [
    "v = Gc.vertices\n",
    "Gc.subgraph([v[i] for i, s in enumerate(selected_vertices) if s > 0]).plot()"
   ]
  },
  {
   "cell_type": "code",
   "execution_count": null,
   "metadata": {},
   "outputs": [],
   "source": []
  }
 ],
 "metadata": {
  "kernelspec": {
   "display_name": "spiana",
   "language": "python",
   "name": "python3"
  },
  "language_info": {
   "codemirror_mode": {
    "name": "ipython",
    "version": 3
   },
   "file_extension": ".py",
   "mimetype": "text/x-python",
   "name": "python",
   "nbconvert_exporter": "python",
   "pygments_lexer": "ipython3",
   "version": "3.10.10 | packaged by conda-forge | (main, Mar 24 2023, 20:08:06) [GCC 11.3.0]"
  },
  "orig_nbformat": 4,
  "vscode": {
   "interpreter": {
    "hash": "b688e7f183144fde965166e58483e32fc6dbc6fc380ccc51d49ef608da0385a8"
   }
  }
 },
 "nbformat": 4,
 "nbformat_minor": 2
}
