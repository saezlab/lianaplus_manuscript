{
 "cells": [
  {
   "cell_type": "code",
   "execution_count": 1,
   "metadata": {},
   "outputs": [],
   "source": [
    "import os\n",
    "import pandas as pd\n",
    "import numpy as np\n",
    "import plotnine as p9"
   ]
  },
  {
   "attachments": {},
   "cell_type": "markdown",
   "metadata": {},
   "source": []
  },
  {
   "cell_type": "code",
   "execution_count": null,
   "metadata": {},
   "outputs": [],
   "source": [
    "# list output files\n",
    "file_paths = os.listdir(os.path.join('data', 'results'))\n",
    "# keep only .csv files\n",
    "results = [pd.read_csv(os.path.join('data', 'results', p)) for p in file_paths if p.endswith('.csv')]"
   ]
  },
  {
   "cell_type": "code",
   "execution_count": null,
   "metadata": {},
   "outputs": [],
   "source": [
    "results = pd.concat(results)"
   ]
  },
  {
   "cell_type": "code",
   "execution_count": null,
   "metadata": {},
   "outputs": [],
   "source": [
    "results['mean_auc'] = results.groupby(['reduction_name', 'dataset', 'score_key'])['auroc'].transform('mean')\n",
    "results['mean_f1'] = results.groupby(['reduction_name', 'dataset', 'score_key'])['f1_score'].transform('mean')"
   ]
  },
  {
   "cell_type": "code",
   "execution_count": null,
   "metadata": {},
   "outputs": [],
   "source": [
    "results.sort_values(['reduction_name', 'dataset', 'score_key'])"
   ]
  },
  {
   "cell_type": "code",
   "execution_count": null,
   "metadata": {},
   "outputs": [],
   "source": []
  },
  {
   "cell_type": "code",
   "execution_count": null,
   "metadata": {},
   "outputs": [],
   "source": [
    "results['score_key'].unique()\n",
    "\n",
    "remap_dict = {'lr_means':'CellPhoneDB',\n",
    "              'expr_prod':'Product',\n",
    "              'lr_logfc': 'logFC',\n",
    "              'lrscore': 'SingleCellSignalR',\n",
    "              'lr_probs': 'CellChat',\n",
    "              'magnitude_rank':'Consensus'}\n",
    "results['score_key'] = results['score_key'].map(remap_dict)"
   ]
  },
  {
   "cell_type": "code",
   "execution_count": null,
   "metadata": {},
   "outputs": [],
   "source": []
  },
  {
   "cell_type": "code",
   "execution_count": null,
   "metadata": {},
   "outputs": [],
   "source": [
    "## plot results as boxplots by reduction_name & score_key\n",
    "p9.ggplot(results, p9.aes(x='reduction_name', y='auroc', color='score_key')) + \\\n",
    "    p9.geom_boxplot() + \\\n",
    "    p9.theme_bw() + p9.facet_grid(' ~ dataset')"
   ]
  },
  {
   "cell_type": "code",
   "execution_count": null,
   "metadata": {},
   "outputs": [],
   "source": []
  },
  {
   "cell_type": "code",
   "execution_count": null,
   "metadata": {},
   "outputs": [],
   "source": [
    "metric = 'mean_auc'"
   ]
  },
  {
   "cell_type": "code",
   "execution_count": null,
   "metadata": {},
   "outputs": [],
   "source": [
    "results = results[['reduction_name', 'score_key', 'mean_auc', 'mean_f1', 'dataset']].drop_duplicates()"
   ]
  },
  {
   "cell_type": "code",
   "execution_count": null,
   "metadata": {},
   "outputs": [],
   "source": [
    "results['rank'] = results.groupby(['dataset', 'reduction_name'])[metric].rank(ascending=False, method='average').astype('int')"
   ]
  },
  {
   "cell_type": "code",
   "execution_count": null,
   "metadata": {},
   "outputs": [],
   "source": [
    "results.head()"
   ]
  },
  {
   "cell_type": "code",
   "execution_count": null,
   "metadata": {},
   "outputs": [],
   "source": [
    "# mean rank per score\n",
    "score_avg = results.groupby(['score_key', 'reduction_name'])[['rank', 'mean_auc', 'mean_f1']].mean()"
   ]
  },
  {
   "cell_type": "code",
   "execution_count": null,
   "metadata": {},
   "outputs": [],
   "source": [
    "score_avg"
   ]
  },
  {
   "cell_type": "code",
   "execution_count": null,
   "metadata": {},
   "outputs": [],
   "source": [
    "score_avg['dataset'] = \"Score Average\""
   ]
  },
  {
   "cell_type": "code",
   "execution_count": null,
   "metadata": {},
   "outputs": [],
   "source": [
    "## bind to results\n",
    "results = pd.concat([results, score_avg.reset_index()])"
   ]
  },
  {
   "cell_type": "code",
   "execution_count": null,
   "metadata": {},
   "outputs": [],
   "source": [
    "# if dataset != 'Score Average', then None\n",
    "results['rank'] = results['rank'].where(results['dataset'] == 'Score Average', None)"
   ]
  },
  {
   "cell_type": "code",
   "execution_count": null,
   "metadata": {},
   "outputs": [],
   "source": [
    "results['mean_auc'] = results['mean_auc'].round(2)"
   ]
  },
  {
   "cell_type": "code",
   "execution_count": null,
   "metadata": {},
   "outputs": [],
   "source": [
    "# to title\n",
    "\n",
    "results['dataset'] = results['dataset'].replace({'Score Average': 'Average'})\n",
    "results['dataset'] = pd.Categorical(results['dataset'], categories=['carraro', 'habermann', 'kuppe', 'velmeshev', 'reichart', 'Average'])\n",
    "results['dataset'] = results['dataset'].str.title()"
   ]
  },
  {
   "cell_type": "code",
   "execution_count": null,
   "metadata": {},
   "outputs": [],
   "source": [
    "results['reduction_name'] = results['reduction_name'].replace({\"mofa\":\"MOFA+\", 'tensor':\"Tensor-cell2cell\"})"
   ]
  },
  {
   "cell_type": "code",
   "execution_count": null,
   "metadata": {},
   "outputs": [],
   "source": [
    "## mosaic plot\n",
    "# order alphabetically\n",
    "p9.ggplot(results, p9.aes(x='reduction_name', y='score_key', fill='mean_auc')) + \\\n",
    "    p9.geom_tile() + \\\n",
    "    p9.theme_bw(base_size=11) + \\\n",
    "    p9.facet_grid(' ~ dataset') + \\\n",
    "    p9.scale_fill_cmap(limits=(0.5, 1), cmap_name='viridis') + \\\n",
    "    p9.geom_text(p9.aes(label='mean_auc'), size=11, color='white', fontweight='bold') + \\\n",
    "    p9.theme(figure_size=(8, 5), axis_text_x=p9.element_text(angle=90, size=11),\n",
    "             strip_text_x=p9.element_text(size=11),\n",
    "            strip_background=p9.element_rect(colour=\"black\", fill=\"#fdfff4\"),\n",
    "            legend_text=p9.element_text(size=11),\n",
    "            axis_text_y=p9.element_text(size=11),\n",
    "             ) + \\\n",
    "    p9.labs(x='', y='', fill='AUROC\\n(mean)\\n')"
   ]
  },
  {
   "cell_type": "code",
   "execution_count": null,
   "metadata": {},
   "outputs": [],
   "source": []
  },
  {
   "cell_type": "code",
   "execution_count": null,
   "metadata": {},
   "outputs": [],
   "source": []
  },
  {
   "cell_type": "code",
   "execution_count": null,
   "metadata": {},
   "outputs": [],
   "source": [
    "dimred_results = results.groupby(['reduction_name', 'score_key']).mean().reset_index()"
   ]
  },
  {
   "cell_type": "code",
   "execution_count": null,
   "metadata": {},
   "outputs": [],
   "source": [
    "## scatter plot by reduction_name\n",
    "p9.ggplot(dimred_results, p9.aes(x='mean_auc', y='mean_f1', color='score_key', shape='reduction_name')) + \\\n",
    "    p9.geom_point(size=5) + \\\n",
    "        p9.theme_bw() + \\\n",
    "        p9.scale_x_continuous(limits=(0, 1)) + \\\n",
    "        p9.scale_y_continuous(limits=(0, 1)) + \\\n",
    "        p9.theme(figure_size=(6, 6))"
   ]
  },
  {
   "cell_type": "code",
   "execution_count": null,
   "metadata": {},
   "outputs": [],
   "source": []
  },
  {
   "cell_type": "code",
   "execution_count": null,
   "metadata": {},
   "outputs": [],
   "source": []
  },
  {
   "cell_type": "code",
   "execution_count": null,
   "metadata": {},
   "outputs": [],
   "source": []
  },
  {
   "attachments": {},
   "cell_type": "markdown",
   "metadata": {},
   "source": [
    "Reichart Model - Does not look like something I want to include"
   ]
  },
  {
   "cell_type": "code",
   "execution_count": null,
   "metadata": {},
   "outputs": [],
   "source": [
    "import numpy as np\n",
    "import pandas as pd\n",
    "\n",
    "import scanpy as sc\n",
    "\n",
    "import plotnine as p9\n",
    "\n",
    "import liana as li\n",
    "\n",
    "# load muon and mofax\n",
    "import muon as mu\n",
    "import mofax as mofa\n",
    "\n",
    "import decoupler as dc"
   ]
  },
  {
   "cell_type": "code",
   "execution_count": null,
   "metadata": {},
   "outputs": [],
   "source": [
    "adata = sc.read_h5ad(os.path.join('data', 'results', 'reichart_dimred.h5ad'), backed='r')"
   ]
  },
  {
   "cell_type": "code",
   "execution_count": null,
   "metadata": {},
   "outputs": [],
   "source": [
    "meta_features = ['Sample','Region_x', 'Primary.Genetic.Diagnosis', 'tissue', 'sex', 'assay', 'development_stage', 'disease']"
   ]
  },
  {
   "cell_type": "code",
   "execution_count": null,
   "metadata": {},
   "outputs": [],
   "source": [
    "model = mofa.mofa_model(os.path.join(\"data\", \"results\", \"models\", \"reichart\", \"expr_prod.hdf5\"))\n",
    "metadata = adata.obs[meta_features].drop_duplicates().rename(columns={'Sample':'sample', 'disease':'condition'})\n",
    "model.metadata = model.metadata.merge(metadata, on='sample')"
   ]
  },
  {
   "cell_type": "code",
   "execution_count": null,
   "metadata": {},
   "outputs": [],
   "source": [
    "metadata.groupby([\"condition\",'Primary.Genetic.Diagnosis']).count()"
   ]
  },
  {
   "cell_type": "code",
   "execution_count": null,
   "metadata": {},
   "outputs": [],
   "source": [
    "model.get_weights().shape"
   ]
  },
  {
   "cell_type": "code",
   "execution_count": null,
   "metadata": {},
   "outputs": [],
   "source": []
  },
  {
   "attachments": {},
   "cell_type": "markdown",
   "metadata": {},
   "source": [
    "TODO save mdata"
   ]
  },
  {
   "cell_type": "code",
   "execution_count": null,
   "metadata": {},
   "outputs": [],
   "source": [
    "mdata = li.multi.lrs_to_views(adata,\n",
    "                              sample_key=\"Sample\",\n",
    "                              score_key=\"expr_prod\",\n",
    "                              inverse_fun=lambda x: -np.log2(x),\n",
    "                              lr_prop = 0.33, # minimum required proportion of samples to keep an LR\n",
    "                              lrs_per_sample = 5, # minimum number of interactions to keep a sample in a specific view\n",
    "                              lrs_per_view = 15, # minimum number of interactions to keep a view\n",
    "                              samples_per_view = 5, # minimum number of samples to keep a view\n",
    "                              min_variance = 0, # minimum variance to keep an interaction\n",
    "                              lr_fill = 0, # fill missing LR values across samples with this\n",
    "                              verbose=True\n",
    "                              )\n"
   ]
  },
  {
   "cell_type": "code",
   "execution_count": null,
   "metadata": {},
   "outputs": [],
   "source": [
    "mdata.varm[\"LFs\"] = model.get_weights()\n",
    "mdata.obsm[\"X_mofa\"] = model.get_factors()"
   ]
  },
  {
   "cell_type": "code",
   "execution_count": null,
   "metadata": {},
   "outputs": [],
   "source": [
    "mdata.obs = model.metadata.set_index('sample')"
   ]
  },
  {
   "cell_type": "code",
   "execution_count": null,
   "metadata": {},
   "outputs": [],
   "source": []
  },
  {
   "attachments": {},
   "cell_type": "markdown",
   "metadata": {},
   "source": [
    "Check Factors"
   ]
  },
  {
   "cell_type": "code",
   "execution_count": null,
   "metadata": {},
   "outputs": [],
   "source": [
    "factor_scores = li.multi.get_factor_scores(mdata, obsm_key='X_mofa')\n",
    "factor_scores.head()"
   ]
  },
  {
   "cell_type": "code",
   "execution_count": null,
   "metadata": {},
   "outputs": [],
   "source": [
    "factor_scores"
   ]
  },
  {
   "cell_type": "code",
   "execution_count": null,
   "metadata": {},
   "outputs": [],
   "source": [
    "# scatterplot\n",
    "(p9.ggplot(factor_scores) +\n",
    " p9.aes(x='condition', colour='condition', y='Factor1') +\n",
    " p9.geom_violin() +\n",
    " p9.geom_jitter(size=4, width=0.2) +\n",
    " p9.theme_bw() +\n",
    " p9.scale_colour_manual(values=['#1f77b4', '#c20019'])\n",
    " )\n",
    "\n"
   ]
  },
  {
   "cell_type": "code",
   "execution_count": null,
   "metadata": {},
   "outputs": [],
   "source": []
  },
  {
   "attachments": {},
   "cell_type": "markdown",
   "metadata": {},
   "source": [
    "UMAP"
   ]
  },
  {
   "cell_type": "code",
   "execution_count": null,
   "metadata": {},
   "outputs": [],
   "source": [
    "sc.pp.neighbors(mdata, use_rep=\"X_mofa\")\n",
    "sc.tl.umap(mdata)"
   ]
  },
  {
   "cell_type": "code",
   "execution_count": null,
   "metadata": {},
   "outputs": [],
   "source": [
    "sc.tl.umap(mdata, min_dist=.2, spread=1., random_state=10)"
   ]
  },
  {
   "cell_type": "code",
   "execution_count": null,
   "metadata": {},
   "outputs": [],
   "source": []
  },
  {
   "cell_type": "code",
   "execution_count": null,
   "metadata": {},
   "outputs": [],
   "source": [
    "# scatter plot between Factor 1 and Factor 2\n",
    "(p9.ggplot(factor_scores) +\n",
    " p9.aes(x='Factor1', y='Factor2', colour='condition', shape='tissue') +\n",
    " p9.geom_point(size=4) +\n",
    " p9.theme_bw()\n",
    " )"
   ]
  },
  {
   "cell_type": "code",
   "execution_count": null,
   "metadata": {},
   "outputs": [],
   "source": []
  },
  {
   "cell_type": "code",
   "execution_count": null,
   "metadata": {},
   "outputs": [],
   "source": [
    "mofa.plot_weights_correlation(model)"
   ]
  },
  {
   "cell_type": "code",
   "execution_count": null,
   "metadata": {},
   "outputs": [],
   "source": []
  },
  {
   "cell_type": "code",
   "execution_count": null,
   "metadata": {},
   "outputs": [],
   "source": [
    "mofa.plot_factors_covariates_correlation(model, covariates=pd.get_dummies(model.metadata['sex']), pvalues=True)"
   ]
  },
  {
   "cell_type": "code",
   "execution_count": null,
   "metadata": {},
   "outputs": [],
   "source": [
    "mofa.plot_factors_covariates_correlation(model, covariates=pd.get_dummies(model.metadata['development_stage']), pvalues=True)"
   ]
  },
  {
   "cell_type": "code",
   "execution_count": null,
   "metadata": {},
   "outputs": [],
   "source": [
    "mofa.plot_factors_covariates_correlation(model, covariates=pd.get_dummies(model.metadata['Primary.Genetic.Diagnosis']), pvalues=True)"
   ]
  },
  {
   "cell_type": "code",
   "execution_count": null,
   "metadata": {},
   "outputs": [],
   "source": []
  },
  {
   "cell_type": "code",
   "execution_count": null,
   "metadata": {},
   "outputs": [],
   "source": [
    "# get variance explained by view and factor\n",
    "rsq = model.get_r2()\n",
    "rsq[\"R2\"] = rsq[\"R2\"] / 100"
   ]
  },
  {
   "cell_type": "code",
   "execution_count": null,
   "metadata": {},
   "outputs": [],
   "source": [
    "## tile plot\n",
    "(p9.ggplot(rsq, p9.aes(x='Factor', y='View', fill='R2')) + \n",
    "    p9.geom_tile() + \n",
    "    p9.theme_bw() + \n",
    "    p9.theme(figure_size=(10, 10)) +\n",
    "    p9.labs(x='Factor', y='View', fill='R2') +\n",
    "    p9.theme(axis_text_x=p9.element_text(angle=90, hjust=1)) + \n",
    "    # change colour\n",
    "    p9.scale_fill_cmap(limits=(0, 1), cmap_name='magma')\n",
    "    \n",
    ")"
   ]
  },
  {
   "cell_type": "code",
   "execution_count": null,
   "metadata": {},
   "outputs": [],
   "source": []
  },
  {
   "cell_type": "code",
   "execution_count": null,
   "metadata": {},
   "outputs": [],
   "source": []
  },
  {
   "cell_type": "code",
   "execution_count": null,
   "metadata": {},
   "outputs": [],
   "source": []
  },
  {
   "cell_type": "code",
   "execution_count": null,
   "metadata": {},
   "outputs": [],
   "source": [
    "# Factor 1\n",
    "factor1_rsq = rsq[rsq['Factor']=='Factor1']\n",
    "# separate view column\n",
    "factor1_rsq[['source', 'target']] = factor1_rsq['View'].str.split('&', 1, expand=True)"
   ]
  },
  {
   "cell_type": "code",
   "execution_count": null,
   "metadata": {},
   "outputs": [],
   "source": [
    "(p9.ggplot(factor1_rsq.reset_index()) +\n",
    " p9.aes(x='target', y='source') +\n",
    " p9.geom_tile(p9.aes(fill='R2')) +\n",
    " p9.scale_fill_cmap(limits=(0, 0.5), cmap_name='magma') +\n",
    " p9.theme_bw() +\n",
    "    p9.theme(figure_size=(5, 5)) +\n",
    "    p9.labs(x='Target groups', y='Source groups', fill='R2') +\n",
    "    p9.theme(axis_text_x=p9.element_text(rotation=90, hjust=0.5))\n",
    " )\n",
    "\n"
   ]
  },
  {
   "cell_type": "code",
   "execution_count": null,
   "metadata": {},
   "outputs": [],
   "source": []
  },
  {
   "cell_type": "code",
   "execution_count": null,
   "metadata": {},
   "outputs": [],
   "source": [
    "variable_loadings =  li.multi.get_variable_loadings(mdata,\n",
    "                                                    view_separator=':',\n",
    "                                                    pair_separator=\"&\",\n",
    "                                                    variable_separator=\"^\") # get loadings for factor 1\n",
    "variable_loadings.head()\n",
    "\n"
   ]
  },
  {
   "cell_type": "code",
   "execution_count": null,
   "metadata": {},
   "outputs": [],
   "source": [
    "variable_loadings['size'] = 4.5\n",
    "\n",
    "my_plot = li.pl.dotplot(liana_res = variable_loadings,\n",
    "                        size='Factor2',\n",
    "                        colour='Factor1',\n",
    "                        orderby='Factor1',\n",
    "                        top_n=20,\n",
    "                        source_labels=['myeloid cell', 'fibroblast of cardiac tissue', 'endothelial cell'],\n",
    "                        orderby_ascending=False,\n",
    "                        size_range=(0.1, 8),\n",
    "                        figure_size=(14, 10)\n",
    "                        )\n",
    "# change colour, with mid as white\n",
    "my_plot + p9.scale_color_gradient2(low='#1f77b4', mid='lightgray', high='#c20019')\n",
    "\n"
   ]
  },
  {
   "cell_type": "code",
   "execution_count": null,
   "metadata": {},
   "outputs": [],
   "source": []
  },
  {
   "cell_type": "code",
   "execution_count": null,
   "metadata": {},
   "outputs": [],
   "source": []
  }
 ],
 "metadata": {
  "kernelspec": {
   "display_name": "spiana",
   "language": "python",
   "name": "python3"
  },
  "language_info": {
   "codemirror_mode": {
    "name": "ipython",
    "version": 3
   },
   "file_extension": ".py",
   "mimetype": "text/x-python",
   "name": "python",
   "nbconvert_exporter": "python",
   "pygments_lexer": "ipython3",
   "version": "3.10.10"
  },
  "orig_nbformat": 4,
  "vscode": {
   "interpreter": {
    "hash": "b688e7f183144fde965166e58483e32fc6dbc6fc380ccc51d49ef608da0385a8"
   }
  }
 },
 "nbformat": 4,
 "nbformat_minor": 2
}
