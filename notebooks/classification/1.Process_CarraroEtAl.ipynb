{
 "cells": [
  {
   "attachments": {},
   "cell_type": "markdown",
   "metadata": {},
   "source": [
    "# Process Carraro et al."
   ]
  },
  {
   "attachments": {},
   "cell_type": "markdown",
   "metadata": {},
   "source": [
    "Note: This one has brutal batch effect (by lab); should just discard this one"
   ]
  },
  {
   "attachments": {},
   "cell_type": "markdown",
   "metadata": {},
   "source": [
    "## Set up Env"
   ]
  },
  {
   "cell_type": "code",
   "execution_count": 1,
   "metadata": {},
   "outputs": [],
   "source": [
    "import os\n",
    "import pandas as pd\n",
    "import numpy as np\n",
    "import scanpy as sc\n",
    "from scipy.sparse import csr_matrix"
   ]
  },
  {
   "cell_type": "code",
   "execution_count": 2,
   "metadata": {},
   "outputs": [],
   "source": [
    "from prep_utils import filter_samples, filter_celltypes, check_group_balance"
   ]
  },
  {
   "cell_type": "code",
   "execution_count": 3,
   "metadata": {},
   "outputs": [],
   "source": [
    "dataset = 'carraro'\n",
    "groupby = 'major'\n",
    "sample_key = 'orig.ident'\n",
    "condition_key = 'type'\n",
    "batch_key = 'lab'\n",
    "\n",
    "min_cells_per_sample = 700\n",
    "sample_zcounts_max = 3\n",
    "sample_zcounts_min = -2\n",
    "\n",
    "# set filtering parameters\n",
    "min_cells = 20 # min number of cells per cell type\n",
    "min_samples = 5 # min number of samples that pass the threshold per cell type"
   ]
  },
  {
   "cell_type": "code",
   "execution_count": null,
   "metadata": {},
   "outputs": [],
   "source": []
  },
  {
   "attachments": {},
   "cell_type": "markdown",
   "metadata": {},
   "source": [
    "## Preprocess"
   ]
  },
  {
   "attachments": {},
   "cell_type": "markdown",
   "metadata": {},
   "source": [
    "### Load data"
   ]
  },
  {
   "cell_type": "code",
   "execution_count": 4,
   "metadata": {},
   "outputs": [
    {
     "data": {
      "text/plain": [
       "AnnData object with n_obs × n_vars = 40709 × 31229\n",
       "    obs: 'orig.ident', 'nCount_RNA', 'nFeature_RNA', 'lab', 'type', 'mutation', 'percent.mt', 'percent.rp', 'major', 'minor', 'ident'\n",
       "    uns: 'X_name'"
      ]
     },
     "execution_count": 4,
     "metadata": {},
     "output_type": "execute_result"
    }
   ],
   "source": [
    "adata = sc.read_h5ad(os.path.join('data', f\"{dataset}.h5ad\"))\n",
    "adata"
   ]
  },
  {
   "cell_type": "code",
   "execution_count": null,
   "metadata": {},
   "outputs": [],
   "source": [
    "adata.obs[[sample_key, condition_key]].drop_duplicates().nunique()"
   ]
  },
  {
   "cell_type": "code",
   "execution_count": null,
   "metadata": {},
   "outputs": [],
   "source": []
  },
  {
   "attachments": {},
   "cell_type": "markdown",
   "metadata": {},
   "source": [
    "Filter samples, cell types, and genes"
   ]
  },
  {
   "cell_type": "code",
   "execution_count": null,
   "metadata": {},
   "outputs": [],
   "source": [
    "adata = filter_samples(adata, sample_key, condition_key, min_cells_per_sample, sample_zcounts_max, sample_zcounts_min)"
   ]
  },
  {
   "cell_type": "code",
   "execution_count": null,
   "metadata": {},
   "outputs": [],
   "source": []
  },
  {
   "attachments": {},
   "cell_type": "markdown",
   "metadata": {},
   "source": [
    "### Check Group balance"
   ]
  },
  {
   "cell_type": "code",
   "execution_count": null,
   "metadata": {},
   "outputs": [
    {
     "name": "stdout",
     "output_type": "stream",
     "text": [
      "Groups are imbalanced!\n",
      "Status\n",
      "Control    10\n",
      "ILD        18\n",
      "Name: Status, dtype: int64\n",
      "Balancing groups...\n"
     ]
    }
   ],
   "source": [
    "adata = check_group_balance(adata, condition_key, sample_key)"
   ]
  },
  {
   "cell_type": "code",
   "execution_count": null,
   "metadata": {},
   "outputs": [],
   "source": []
  },
  {
   "cell_type": "code",
   "execution_count": null,
   "metadata": {},
   "outputs": [],
   "source": [
    "adata = filter_celltypes(adata=adata, groupby=groupby, sample_key=sample_key, min_cells=min_cells, min_samples=min_samples)"
   ]
  },
  {
   "cell_type": "code",
   "execution_count": null,
   "metadata": {},
   "outputs": [],
   "source": [
    "# Remove genes expressed in few cells\n",
    "sc.pp.filter_genes(adata, min_cells=min_cells)\n",
    "adata"
   ]
  },
  {
   "cell_type": "code",
   "execution_count": null,
   "metadata": {},
   "outputs": [],
   "source": []
  },
  {
   "attachments": {},
   "cell_type": "markdown",
   "metadata": {},
   "source": [
    "### Normalize"
   ]
  },
  {
   "cell_type": "code",
   "execution_count": null,
   "metadata": {},
   "outputs": [],
   "source": [
    "adata.layers['counts'] = adata.X.copy()\n",
    "sc.pp.normalize_total(adata, target_sum=1e4)\n",
    "sc.pp.log1p(adata)"
   ]
  },
  {
   "cell_type": "code",
   "execution_count": null,
   "metadata": {},
   "outputs": [],
   "source": []
  },
  {
   "attachments": {},
   "cell_type": "markdown",
   "metadata": {},
   "source": [
    "### Add Metadata"
   ]
  },
  {
   "cell_type": "code",
   "execution_count": null,
   "metadata": {},
   "outputs": [],
   "source": [
    "adata.uns['sample_key'] = sample_key\n",
    "adata.uns['batch_key'] = batch_key\n",
    "adata.uns['condition_key'] = condition_key\n",
    "adata.uns['groupby'] = groupby\n"
   ]
  },
  {
   "cell_type": "code",
   "execution_count": null,
   "metadata": {},
   "outputs": [],
   "source": [
    "assert np.isin(['sample_key', 'batch_key', 'condition_key', 'groupby'], adata.uns_keys()).all()"
   ]
  },
  {
   "cell_type": "code",
   "execution_count": null,
   "metadata": {},
   "outputs": [],
   "source": []
  },
  {
   "attachments": {},
   "cell_type": "markdown",
   "metadata": {},
   "source": [
    "## Run LIANA"
   ]
  },
  {
   "cell_type": "code",
   "execution_count": null,
   "metadata": {},
   "outputs": [],
   "source": [
    "import liana as li"
   ]
  },
  {
   "cell_type": "code",
   "execution_count": null,
   "metadata": {},
   "outputs": [],
   "source": [
    "li.mt.rank_aggregate.by_sample(adata, groupby=groupby, use_raw=False, sample_key=sample_key, verbose=True, n_perms=None)"
   ]
  },
  {
   "attachments": {},
   "cell_type": "markdown",
   "metadata": {},
   "source": [
    "### Write"
   ]
  },
  {
   "cell_type": "code",
   "execution_count": null,
   "metadata": {},
   "outputs": [],
   "source": [
    "adata.write_h5ad(os.path.join('data', 'interim', f\"{dataset}_processed.h5ad\"))"
   ]
  },
  {
   "cell_type": "code",
   "execution_count": null,
   "metadata": {},
   "outputs": [],
   "source": []
  },
  {
   "attachments": {},
   "cell_type": "markdown",
   "metadata": {},
   "source": [
    "## Run Dimensionality Reductions"
   ]
  },
  {
   "cell_type": "code",
   "execution_count": null,
   "metadata": {},
   "outputs": [],
   "source": [
    "import os\n",
    "import scanpy as sc\n",
    "from classify_utils import dim_reduction_pipe"
   ]
  },
  {
   "cell_type": "code",
   "execution_count": null,
   "metadata": {},
   "outputs": [],
   "source": [
    "adata = sc.read_h5ad(os.path.join('data', 'interim', f\"{dataset}_processed.h5ad\"), backed='r')"
   ]
  },
  {
   "cell_type": "code",
   "execution_count": null,
   "metadata": {},
   "outputs": [],
   "source": [
    "dim_reduction_pipe(adata, dataset)"
   ]
  },
  {
   "cell_type": "code",
   "execution_count": null,
   "metadata": {},
   "outputs": [],
   "source": []
  },
  {
   "attachments": {},
   "cell_type": "markdown",
   "metadata": {},
   "source": [
    "## Run Classifier"
   ]
  },
  {
   "cell_type": "code",
   "execution_count": 5,
   "metadata": {},
   "outputs": [
    {
     "name": "stderr",
     "output_type": "stream",
     "text": [
      "/home/dbdimitrov/anaconda3/envs/spiana/lib/python3.10/site-packages/tqdm/auto.py:21: TqdmWarning: IProgress not found. Please update jupyter and ipywidgets. See https://ipywidgets.readthedocs.io/en/stable/user_install.html\n",
      "  from .autonotebook import tqdm as notebook_tqdm\n"
     ]
    }
   ],
   "source": [
    "import os\n",
    "import scanpy as sc\n",
    "from classify_utils import run_classifier"
   ]
  },
  {
   "cell_type": "code",
   "execution_count": 6,
   "metadata": {},
   "outputs": [],
   "source": [
    "adata = sc.read_h5ad(os.path.join('data', 'results', f\"{dataset}_dimred.h5ad\"), backed='r')"
   ]
  },
  {
   "cell_type": "code",
   "execution_count": 7,
   "metadata": {},
   "outputs": [
    {
     "name": "stdout",
     "output_type": "stream",
     "text": [
      "0: [ 0  1  2  3  5  6  7  8 10 14 15 17 20 21], [ 4  9 11 12 13 16 18 19]\n",
      "1: [ 0  4  5  7  9 10 11 12 13 14 16 17 18 19 20], [ 1  2  3  6  8 15 21]\n",
      "2: [ 1  2  3  4  6  8  9 11 12 13 15 16 18 19 21], [ 0  5  7 10 14 17 20]\n",
      "0: [ 0  1  3  4  5  6  9 13 15 16 17 18 19 20], [ 2  7  8 10 11 12 14 21]\n",
      "1: [ 0  1  2  4  5  7  8  9 10 11 12 14 15 16 21], [ 3  6 13 17 18 19 20]\n",
      "2: [ 2  3  6  7  8 10 11 12 13 14 17 18 19 20 21], [ 0  1  4  5  9 15 16]\n"
     ]
    },
    {
     "name": "stderr",
     "output_type": "stream",
     "text": [
      "/home/dbdimitrov/anaconda3/envs/spiana/lib/python3.10/site-packages/sklearn/metrics/_ranking.py:1020: UndefinedMetricWarning: No negative samples in y_true, false positive value should be meaningless\n",
      "/home/dbdimitrov/anaconda3/envs/spiana/lib/python3.10/site-packages/sklearn/metrics/_ranking.py:1020: UndefinedMetricWarning: No negative samples in y_true, false positive value should be meaningless\n",
      "/home/dbdimitrov/anaconda3/envs/spiana/lib/python3.10/site-packages/sklearn/metrics/_ranking.py:1020: UndefinedMetricWarning: No negative samples in y_true, false positive value should be meaningless\n",
      "/home/dbdimitrov/anaconda3/envs/spiana/lib/python3.10/site-packages/sklearn/metrics/_ranking.py:1020: UndefinedMetricWarning: No negative samples in y_true, false positive value should be meaningless\n",
      "/home/dbdimitrov/anaconda3/envs/spiana/lib/python3.10/site-packages/sklearn/metrics/_ranking.py:1020: UndefinedMetricWarning: No negative samples in y_true, false positive value should be meaningless\n",
      "/home/dbdimitrov/anaconda3/envs/spiana/lib/python3.10/site-packages/sklearn/metrics/_ranking.py:1020: UndefinedMetricWarning: No negative samples in y_true, false positive value should be meaningless\n"
     ]
    },
    {
     "name": "stdout",
     "output_type": "stream",
     "text": [
      "0: [ 0  2  4  5  7  8 11 15 16 17 18 19 20 21], [ 1  3  6  9 10 12 13 14]\n",
      "1: [ 1  3  4  5  6  9 10 11 12 13 14 15 16 18 20], [ 0  2  7  8 17 19 21]\n",
      "2: [ 0  1  2  3  6  7  8  9 10 12 13 14 17 19 21], [ 4  5 11 15 16 18 20]\n",
      "0: [ 0  1  2  5  6  7  9 13 14 15 16 17 19 21], [ 3  4  8 10 11 12 18 20]\n",
      "1: [ 0  2  3  4  7  8  9 10 11 12 13 14 17 18 20], [ 1  5  6 15 16 19 21]\n",
      "2: [ 1  3  4  5  6  8 10 11 12 15 16 18 19 20 21], [ 0  2  7  9 13 14 17]\n",
      "0: [ 0  1  5  6  9 10 11 12 14 15 16 17 18 21], [ 2  3  4  7  8 13 19 20]\n",
      "1: [ 0  1  2  3  4  6  7  8  9 10 11 13 17 19 20], [ 5 12 14 15 16 18 21]\n",
      "2: [ 2  3  4  5  7  8 12 13 14 15 16 18 19 20 21], [ 0  1  6  9 10 11 17]\n"
     ]
    }
   ],
   "source": [
    "run_classifier(adata, dataset)"
   ]
  },
  {
   "cell_type": "code",
   "execution_count": 8,
   "metadata": {},
   "outputs": [
    {
     "data": {
      "text/html": [
       "<div>\n",
       "<style scoped>\n",
       "    .dataframe tbody tr th:only-of-type {\n",
       "        vertical-align: middle;\n",
       "    }\n",
       "\n",
       "    .dataframe tbody tr th {\n",
       "        vertical-align: top;\n",
       "    }\n",
       "\n",
       "    .dataframe thead th {\n",
       "        text-align: right;\n",
       "    }\n",
       "</style>\n",
       "<table border=\"1\" class=\"dataframe\">\n",
       "  <thead>\n",
       "    <tr style=\"text-align: right;\">\n",
       "      <th></th>\n",
       "      <th>reduction_name</th>\n",
       "      <th>score_key</th>\n",
       "      <th>state</th>\n",
       "      <th>fold</th>\n",
       "      <th>auroc</th>\n",
       "      <th>tpr</th>\n",
       "      <th>fpr</th>\n",
       "      <th>f1_score</th>\n",
       "      <th>oob_score</th>\n",
       "      <th>train_split</th>\n",
       "      <th>test_split</th>\n",
       "      <th>test_classes</th>\n",
       "      <th>dataset</th>\n",
       "    </tr>\n",
       "  </thead>\n",
       "  <tbody>\n",
       "    <tr>\n",
       "      <th>0</th>\n",
       "      <td>mofa</td>\n",
       "      <td>expr_prod</td>\n",
       "      <td>0</td>\n",
       "      <td>0</td>\n",
       "      <td>0.666667</td>\n",
       "      <td>[0.0, 0.0, 1.0, 1.0]</td>\n",
       "      <td>[0.0, 0.3333333333333333, 0.3333333333333333, ...</td>\n",
       "      <td>0.708333</td>\n",
       "      <td>0.571429</td>\n",
       "      <td>[0, 1, 2, 3, 5, 6, 7, 8, 10, 14, 15, 17, 20, 21]</td>\n",
       "      <td>[4, 9, 11, 12, 13, 16, 18, 19]</td>\n",
       "      <td>[1, 0, 0, 1, 1, 0, 1, 1]</td>\n",
       "      <td>carraro</td>\n",
       "    </tr>\n",
       "    <tr>\n",
       "      <th>1</th>\n",
       "      <td>tensor</td>\n",
       "      <td>expr_prod</td>\n",
       "      <td>0</td>\n",
       "      <td>0</td>\n",
       "      <td>0.666667</td>\n",
       "      <td>[0.0, 0.16666666666666666, 0.3333333333333333,...</td>\n",
       "      <td>[0.0, 0.0, 0.0, 0.5, 0.5, 1.0]</td>\n",
       "      <td>0.642857</td>\n",
       "      <td>0.357143</td>\n",
       "      <td>[0, 1, 2, 3, 5, 6, 7, 8, 10, 14, 15, 17, 20, 21]</td>\n",
       "      <td>[4, 9, 11, 12, 13, 16, 18, 19]</td>\n",
       "      <td>[1, 0, 0, 1, 1, 0, 1, 1]</td>\n",
       "      <td>carraro</td>\n",
       "    </tr>\n",
       "    <tr>\n",
       "      <th>2</th>\n",
       "      <td>mofa</td>\n",
       "      <td>lr_logfc</td>\n",
       "      <td>0</td>\n",
       "      <td>0</td>\n",
       "      <td>0.600000</td>\n",
       "      <td>[0.0, 0.2, 0.4, 0.4, 0.6, 0.6, 0.8, 0.8, 1.0]</td>\n",
       "      <td>[0.0, 0.0, 0.0, 0.3333333333333333, 0.33333333...</td>\n",
       "      <td>0.480769</td>\n",
       "      <td>0.357143</td>\n",
       "      <td>[0, 1, 2, 3, 5, 6, 7, 8, 10, 14, 15, 17, 20, 21]</td>\n",
       "      <td>[4, 9, 11, 12, 13, 16, 18, 19]</td>\n",
       "      <td>[1, 0, 0, 1, 1, 0, 1, 1]</td>\n",
       "      <td>carraro</td>\n",
       "    </tr>\n",
       "    <tr>\n",
       "      <th>3</th>\n",
       "      <td>tensor</td>\n",
       "      <td>lr_logfc</td>\n",
       "      <td>0</td>\n",
       "      <td>0</td>\n",
       "      <td>0.916667</td>\n",
       "      <td>[0.0, 0.16666666666666666, 0.8333333333333334,...</td>\n",
       "      <td>[0.0, 0.0, 0.0, 0.5, 0.5, 1.0]</td>\n",
       "      <td>0.642857</td>\n",
       "      <td>0.642857</td>\n",
       "      <td>[0, 1, 2, 3, 5, 6, 7, 8, 10, 14, 15, 17, 20, 21]</td>\n",
       "      <td>[4, 9, 11, 12, 13, 16, 18, 19]</td>\n",
       "      <td>[1, 0, 0, 1, 1, 0, 1, 1]</td>\n",
       "      <td>carraro</td>\n",
       "    </tr>\n",
       "    <tr>\n",
       "      <th>4</th>\n",
       "      <td>mofa</td>\n",
       "      <td>lr_means</td>\n",
       "      <td>0</td>\n",
       "      <td>0</td>\n",
       "      <td>0.466667</td>\n",
       "      <td>[0.0, 0.0, 0.6, 0.6, 0.8, 0.8, 1.0]</td>\n",
       "      <td>[0.0, 0.3333333333333333, 0.3333333333333333, ...</td>\n",
       "      <td>0.416667</td>\n",
       "      <td>0.714286</td>\n",
       "      <td>[0, 1, 2, 3, 5, 6, 7, 8, 10, 14, 15, 17, 20, 21]</td>\n",
       "      <td>[4, 9, 11, 12, 13, 16, 18, 19]</td>\n",
       "      <td>[1, 0, 0, 1, 1, 0, 1, 1]</td>\n",
       "      <td>carraro</td>\n",
       "    </tr>\n",
       "    <tr>\n",
       "      <th>...</th>\n",
       "      <td>...</td>\n",
       "      <td>...</td>\n",
       "      <td>...</td>\n",
       "      <td>...</td>\n",
       "      <td>...</td>\n",
       "      <td>...</td>\n",
       "      <td>...</td>\n",
       "      <td>...</td>\n",
       "      <td>...</td>\n",
       "      <td>...</td>\n",
       "      <td>...</td>\n",
       "      <td>...</td>\n",
       "      <td>...</td>\n",
       "    </tr>\n",
       "    <tr>\n",
       "      <th>175</th>\n",
       "      <td>tensor</td>\n",
       "      <td>lr_probs</td>\n",
       "      <td>4</td>\n",
       "      <td>2</td>\n",
       "      <td>0.125000</td>\n",
       "      <td>[0.0, 0.0, 0.0, 0.3333333333333333, 0.66666666...</td>\n",
       "      <td>[0.0, 0.25, 0.75, 0.75, 1.0, 1.0]</td>\n",
       "      <td>0.285714</td>\n",
       "      <td>0.733333</td>\n",
       "      <td>[2, 3, 4, 5, 7, 8, 12, 13, 14, 15, 16, 18, 19,...</td>\n",
       "      <td>[0, 1, 6, 9, 10, 11, 17]</td>\n",
       "      <td>[0, 1, 1, 0, 0, 0, 1]</td>\n",
       "      <td>carraro</td>\n",
       "    </tr>\n",
       "    <tr>\n",
       "      <th>176</th>\n",
       "      <td>mofa</td>\n",
       "      <td>lrscore</td>\n",
       "      <td>4</td>\n",
       "      <td>2</td>\n",
       "      <td>0.250000</td>\n",
       "      <td>[0.0, 0.0, 0.0, 1.0, 1.0]</td>\n",
       "      <td>[0.0, 0.5, 0.75, 0.75, 1.0]</td>\n",
       "      <td>0.257143</td>\n",
       "      <td>0.533333</td>\n",
       "      <td>[2, 3, 4, 5, 7, 8, 12, 13, 14, 15, 16, 18, 19,...</td>\n",
       "      <td>[0, 1, 6, 9, 10, 11, 17]</td>\n",
       "      <td>[0, 1, 1, 0, 0, 0, 1]</td>\n",
       "      <td>carraro</td>\n",
       "    </tr>\n",
       "    <tr>\n",
       "      <th>177</th>\n",
       "      <td>tensor</td>\n",
       "      <td>lrscore</td>\n",
       "      <td>4</td>\n",
       "      <td>2</td>\n",
       "      <td>0.166667</td>\n",
       "      <td>[0.0, 0.0, 0.0, 0.3333333333333333, 0.33333333...</td>\n",
       "      <td>[0.0, 0.25, 0.5, 0.5, 1.0, 1.0]</td>\n",
       "      <td>0.257143</td>\n",
       "      <td>0.600000</td>\n",
       "      <td>[2, 3, 4, 5, 7, 8, 12, 13, 14, 15, 16, 18, 19,...</td>\n",
       "      <td>[0, 1, 6, 9, 10, 11, 17]</td>\n",
       "      <td>[0, 1, 1, 0, 0, 0, 1]</td>\n",
       "      <td>carraro</td>\n",
       "    </tr>\n",
       "    <tr>\n",
       "      <th>178</th>\n",
       "      <td>mofa</td>\n",
       "      <td>magnitude_rank</td>\n",
       "      <td>4</td>\n",
       "      <td>2</td>\n",
       "      <td>0.833333</td>\n",
       "      <td>[0.0, 0.3333333333333333, 0.6666666666666666, ...</td>\n",
       "      <td>[0.0, 0.0, 0.0, 0.5, 0.5, 1.0]</td>\n",
       "      <td>0.514286</td>\n",
       "      <td>0.533333</td>\n",
       "      <td>[2, 3, 4, 5, 7, 8, 12, 13, 14, 15, 16, 18, 19,...</td>\n",
       "      <td>[0, 1, 6, 9, 10, 11, 17]</td>\n",
       "      <td>[0, 1, 1, 0, 0, 0, 1]</td>\n",
       "      <td>carraro</td>\n",
       "    </tr>\n",
       "    <tr>\n",
       "      <th>179</th>\n",
       "      <td>tensor</td>\n",
       "      <td>magnitude_rank</td>\n",
       "      <td>4</td>\n",
       "      <td>2</td>\n",
       "      <td>0.250000</td>\n",
       "      <td>[0.0, 0.0, 0.3333333333333333, 0.3333333333333...</td>\n",
       "      <td>[0.0, 0.25, 0.25, 1.0, 1.0]</td>\n",
       "      <td>0.107143</td>\n",
       "      <td>0.733333</td>\n",
       "      <td>[2, 3, 4, 5, 7, 8, 12, 13, 14, 15, 16, 18, 19,...</td>\n",
       "      <td>[0, 1, 6, 9, 10, 11, 17]</td>\n",
       "      <td>[0, 1, 1, 0, 0, 0, 1]</td>\n",
       "      <td>carraro</td>\n",
       "    </tr>\n",
       "  </tbody>\n",
       "</table>\n",
       "<p>180 rows × 13 columns</p>\n",
       "</div>"
      ],
      "text/plain": [
       "    reduction_name       score_key  state  fold     auroc  \\\n",
       "0             mofa       expr_prod      0     0  0.666667   \n",
       "1           tensor       expr_prod      0     0  0.666667   \n",
       "2             mofa        lr_logfc      0     0  0.600000   \n",
       "3           tensor        lr_logfc      0     0  0.916667   \n",
       "4             mofa        lr_means      0     0  0.466667   \n",
       "..             ...             ...    ...   ...       ...   \n",
       "175         tensor        lr_probs      4     2  0.125000   \n",
       "176           mofa         lrscore      4     2  0.250000   \n",
       "177         tensor         lrscore      4     2  0.166667   \n",
       "178           mofa  magnitude_rank      4     2  0.833333   \n",
       "179         tensor  magnitude_rank      4     2  0.250000   \n",
       "\n",
       "                                                   tpr  \\\n",
       "0                                 [0.0, 0.0, 1.0, 1.0]   \n",
       "1    [0.0, 0.16666666666666666, 0.3333333333333333,...   \n",
       "2        [0.0, 0.2, 0.4, 0.4, 0.6, 0.6, 0.8, 0.8, 1.0]   \n",
       "3    [0.0, 0.16666666666666666, 0.8333333333333334,...   \n",
       "4                  [0.0, 0.0, 0.6, 0.6, 0.8, 0.8, 1.0]   \n",
       "..                                                 ...   \n",
       "175  [0.0, 0.0, 0.0, 0.3333333333333333, 0.66666666...   \n",
       "176                          [0.0, 0.0, 0.0, 1.0, 1.0]   \n",
       "177  [0.0, 0.0, 0.0, 0.3333333333333333, 0.33333333...   \n",
       "178  [0.0, 0.3333333333333333, 0.6666666666666666, ...   \n",
       "179  [0.0, 0.0, 0.3333333333333333, 0.3333333333333...   \n",
       "\n",
       "                                                   fpr  f1_score  oob_score  \\\n",
       "0    [0.0, 0.3333333333333333, 0.3333333333333333, ...  0.708333   0.571429   \n",
       "1                       [0.0, 0.0, 0.0, 0.5, 0.5, 1.0]  0.642857   0.357143   \n",
       "2    [0.0, 0.0, 0.0, 0.3333333333333333, 0.33333333...  0.480769   0.357143   \n",
       "3                       [0.0, 0.0, 0.0, 0.5, 0.5, 1.0]  0.642857   0.642857   \n",
       "4    [0.0, 0.3333333333333333, 0.3333333333333333, ...  0.416667   0.714286   \n",
       "..                                                 ...       ...        ...   \n",
       "175                  [0.0, 0.25, 0.75, 0.75, 1.0, 1.0]  0.285714   0.733333   \n",
       "176                        [0.0, 0.5, 0.75, 0.75, 1.0]  0.257143   0.533333   \n",
       "177                    [0.0, 0.25, 0.5, 0.5, 1.0, 1.0]  0.257143   0.600000   \n",
       "178                     [0.0, 0.0, 0.0, 0.5, 0.5, 1.0]  0.514286   0.533333   \n",
       "179                        [0.0, 0.25, 0.25, 1.0, 1.0]  0.107143   0.733333   \n",
       "\n",
       "                                           train_split  \\\n",
       "0     [0, 1, 2, 3, 5, 6, 7, 8, 10, 14, 15, 17, 20, 21]   \n",
       "1     [0, 1, 2, 3, 5, 6, 7, 8, 10, 14, 15, 17, 20, 21]   \n",
       "2     [0, 1, 2, 3, 5, 6, 7, 8, 10, 14, 15, 17, 20, 21]   \n",
       "3     [0, 1, 2, 3, 5, 6, 7, 8, 10, 14, 15, 17, 20, 21]   \n",
       "4     [0, 1, 2, 3, 5, 6, 7, 8, 10, 14, 15, 17, 20, 21]   \n",
       "..                                                 ...   \n",
       "175  [2, 3, 4, 5, 7, 8, 12, 13, 14, 15, 16, 18, 19,...   \n",
       "176  [2, 3, 4, 5, 7, 8, 12, 13, 14, 15, 16, 18, 19,...   \n",
       "177  [2, 3, 4, 5, 7, 8, 12, 13, 14, 15, 16, 18, 19,...   \n",
       "178  [2, 3, 4, 5, 7, 8, 12, 13, 14, 15, 16, 18, 19,...   \n",
       "179  [2, 3, 4, 5, 7, 8, 12, 13, 14, 15, 16, 18, 19,...   \n",
       "\n",
       "                         test_split              test_classes  dataset  \n",
       "0    [4, 9, 11, 12, 13, 16, 18, 19]  [1, 0, 0, 1, 1, 0, 1, 1]  carraro  \n",
       "1    [4, 9, 11, 12, 13, 16, 18, 19]  [1, 0, 0, 1, 1, 0, 1, 1]  carraro  \n",
       "2    [4, 9, 11, 12, 13, 16, 18, 19]  [1, 0, 0, 1, 1, 0, 1, 1]  carraro  \n",
       "3    [4, 9, 11, 12, 13, 16, 18, 19]  [1, 0, 0, 1, 1, 0, 1, 1]  carraro  \n",
       "4    [4, 9, 11, 12, 13, 16, 18, 19]  [1, 0, 0, 1, 1, 0, 1, 1]  carraro  \n",
       "..                              ...                       ...      ...  \n",
       "175        [0, 1, 6, 9, 10, 11, 17]     [0, 1, 1, 0, 0, 0, 1]  carraro  \n",
       "176        [0, 1, 6, 9, 10, 11, 17]     [0, 1, 1, 0, 0, 0, 1]  carraro  \n",
       "177        [0, 1, 6, 9, 10, 11, 17]     [0, 1, 1, 0, 0, 0, 1]  carraro  \n",
       "178        [0, 1, 6, 9, 10, 11, 17]     [0, 1, 1, 0, 0, 0, 1]  carraro  \n",
       "179        [0, 1, 6, 9, 10, 11, 17]     [0, 1, 1, 0, 0, 0, 1]  carraro  \n",
       "\n",
       "[180 rows x 13 columns]"
      ]
     },
     "execution_count": 8,
     "metadata": {},
     "output_type": "execute_result"
    }
   ],
   "source": [
    "adata.uns['evaluate']"
   ]
  },
  {
   "cell_type": "code",
   "execution_count": null,
   "metadata": {},
   "outputs": [],
   "source": [
    "adata.uns['auc'].sort_values(by=['score_key', 'reduction_name', 'fold'])"
   ]
  },
  {
   "cell_type": "code",
   "execution_count": null,
   "metadata": {},
   "outputs": [],
   "source": []
  }
 ],
 "metadata": {
  "kernelspec": {
   "display_name": "spiana",
   "language": "python",
   "name": "python3"
  },
  "language_info": {
   "codemirror_mode": {
    "name": "ipython",
    "version": 3
   },
   "file_extension": ".py",
   "mimetype": "text/x-python",
   "name": "python",
   "nbconvert_exporter": "python",
   "pygments_lexer": "ipython3",
   "version": "3.10.10"
  },
  "orig_nbformat": 4,
  "vscode": {
   "interpreter": {
    "hash": "b688e7f183144fde965166e58483e32fc6dbc6fc380ccc51d49ef608da0385a8"
   }
  }
 },
 "nbformat": 4,
 "nbformat_minor": 2
}
