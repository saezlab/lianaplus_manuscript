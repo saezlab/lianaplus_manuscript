{
 "cells": [
  {
   "attachments": {},
   "cell_type": "markdown",
   "metadata": {},
   "source": [
    "# Prepare Dissociated AnnData object"
   ]
  },
  {
   "attachments": {},
   "cell_type": "markdown",
   "metadata": {},
   "source": [
    "## Load environment"
   ]
  },
  {
   "cell_type": "code",
   "execution_count": 5,
   "metadata": {},
   "outputs": [],
   "source": [
    "import numpy as np\n",
    "import pandas as pd\n",
    "\n",
    "import scanpy as sc"
   ]
  },
  {
   "cell_type": "code",
   "execution_count": 6,
   "metadata": {},
   "outputs": [],
   "source": [
    "import mofax as mofa\n",
    "import muon as mu\n",
    "import decoupler as dc"
   ]
  },
  {
   "cell_type": "code",
   "execution_count": 7,
   "metadata": {},
   "outputs": [],
   "source": [
    "import liana as li\n",
    "import plotnine as p9"
   ]
  },
  {
   "cell_type": "code",
   "execution_count": 8,
   "metadata": {},
   "outputs": [
    {
     "data": {
      "text/plain": [
       "'0.1.8'"
      ]
     },
     "execution_count": 8,
     "metadata": {},
     "output_type": "execute_result"
    }
   ],
   "source": [
    "li.__version__"
   ]
  },
  {
   "cell_type": "code",
   "execution_count": null,
   "metadata": {},
   "outputs": [],
   "source": []
  },
  {
   "attachments": {},
   "cell_type": "markdown",
   "metadata": {},
   "source": [
    "### Load Data"
   ]
  },
  {
   "cell_type": "code",
   "execution_count": 9,
   "metadata": {},
   "outputs": [
    {
     "data": {
      "text/plain": [
       "AnnData object with n_obs × n_vars = 126578 × 27133\n",
       "    obs: 'orig.ident', 'nCount_RNA', 'nFeature_RNA', 'Group', 'Replicates', 'celltype', 'ident'\n",
       "    uns: 'X_name'"
      ]
     },
     "execution_count": 9,
     "metadata": {},
     "output_type": "execute_result"
    }
   ],
   "source": [
    "adata = sc.read_h5ad(\"/home/dbdimitrov/Repos/liana2_manuscript/data/kidney_injury/GSE139107_MouseIRI.h5ad\")\n",
    "adata"
   ]
  },
  {
   "cell_type": "code",
   "execution_count": 10,
   "metadata": {},
   "outputs": [
    {
     "data": {
      "text/plain": [
       "Index(['IRI12h1b1', 'IRI12h1b2', 'IRI12h2', 'IRI12h3', 'IRI14d1b1',\n",
       "       'IRI14d1b2', 'IRI14d2', 'IRI14d3', 'IRI2d1b1', 'IRI2d1b2', 'IRI2d2b1',\n",
       "       'IRI2d2b2', 'IRI2d3', 'IRI4h1', 'IRI4h2', 'IRI4h3', 'IRI6w1b1',\n",
       "       'IRI6w1b2', 'IRI6w2', 'IRI6w3', 'IRIsham1b1', 'IRIsham1b2', 'IRIsham2',\n",
       "       'IRIsham3'],\n",
       "      dtype='object')"
      ]
     },
     "execution_count": 10,
     "metadata": {},
     "output_type": "execute_result"
    }
   ],
   "source": [
    "adata.obs['ident'].cat.categories"
   ]
  },
  {
   "cell_type": "code",
   "execution_count": 11,
   "metadata": {},
   "outputs": [
    {
     "data": {
      "text/plain": [
       "['CTAL2',\n",
       " 'NewPT1',\n",
       " 'EC1',\n",
       " 'DCT',\n",
       " 'MTAL',\n",
       " 'ICA',\n",
       " 'Fib',\n",
       " 'PTS3',\n",
       " 'PTS2',\n",
       " 'PTS1',\n",
       " 'DCT-CNT',\n",
       " 'Mø',\n",
       " 'PC2',\n",
       " 'ICB',\n",
       " 'PC1',\n",
       " 'CTAL1',\n",
       " 'DTL-ATL',\n",
       " 'Per',\n",
       " 'PEC',\n",
       " 'CNT',\n",
       " 'NewPT2',\n",
       " 'Pod',\n",
       " 'Tcell',\n",
       " 'EC2',\n",
       " 'MD',\n",
       " 'Uro']"
      ]
     },
     "execution_count": 11,
     "metadata": {},
     "output_type": "execute_result"
    }
   ],
   "source": [
    "list(adata.obs['celltype'].unique()) \n",
    "# should aggregate those into cell types (get rid off cell states)"
   ]
  },
  {
   "cell_type": "code",
   "execution_count": 20,
   "metadata": {},
   "outputs": [],
   "source": [
    "adata.obs.rename(columns={'celltype': 'cell_state'}, inplace=True)"
   ]
  },
  {
   "cell_type": "code",
   "execution_count": 21,
   "metadata": {},
   "outputs": [],
   "source": [
    "ct_dict = {\n",
    "    # PT\n",
    "    \"NewPT1\":\"PT\",\n",
    "    \"NewPT2\":\"PT\",\n",
    "    \"PTS1\":\"PT\", # Segment 1\n",
    "    \"PTS2\":\"PT\", # Segment 2\n",
    "    \"PTS3\":\"PT\", # Segment 3\n",
    "    # CTAL\n",
    "    \"CTAL1\":\"CTAL\",\n",
    "    \"CTAL2\":\"CTAL\",\n",
    "    # EC\n",
    "    \"EC1\":\"EC\",\n",
    "    \"EC2\":\"EC\",\n",
    "    \"PC1\": \"PC\",\n",
    "    \"PC2\": \"PC\",\n",
    "    \n",
    "    # Rename Macrophages\n",
    "    \"Mø\": \"MO\",\n",
    "    }\n",
    "abbr_dict = {\n",
    "    \"ATL\": \"Ascending tubule of loop of Henle\",\n",
    "    \"Bil\": \"Bilateral\",\n",
    "    \"CNT\": \"Connecting tubule\",\n",
    "    \"CPC\": \"Collecting duct principal cell (in cortex)\",\n",
    "    \"CTAL\": \"Thick ascending limb of loop of Henle\",\n",
    "    \"DCT\": \"Distal convoluted tubule\",\n",
    "    \"DTL\": \"Descending tubule of loop of Henle\",\n",
    "    \"EC\": \"Epithelial cell\",\n",
    "    \"Fib\": \"Fibroblast\",\n",
    "    \"ICA\": \"Intercalated cell of collecting duct\",\n",
    "    \"ICB\": \"Type B intercalated cell\",\n",
    "    \"MD\": \"Mucula densa\",\n",
    "    \"MO\": \"Macrophages\",\n",
    "    \"Pod\": \"Podocyte\",\n",
    "    \"Uro\": \"Urothelium\",\n",
    "    \"PT\":\"Proximal tubule\",\n",
    "}\n",
    "\n",
    "adata.obs['cell_type'] = adata.obs['cell_state'].replace(ct_dict)\n",
    "adata.obs['ct_full'] = adata.obs['cell_type'].replace(abbr_dict)"
   ]
  },
  {
   "cell_type": "code",
   "execution_count": null,
   "metadata": {},
   "outputs": [],
   "source": []
  },
  {
   "cell_type": "code",
   "execution_count": 22,
   "metadata": {},
   "outputs": [
    {
     "data": {
      "text/plain": [
       "['CTAL',\n",
       " 'PT',\n",
       " 'EC',\n",
       " 'DCT',\n",
       " 'MTAL',\n",
       " 'ICA',\n",
       " 'Fib',\n",
       " 'DCT-CNT',\n",
       " 'MO',\n",
       " 'PC',\n",
       " 'ICB',\n",
       " 'DTL-ATL',\n",
       " 'Per',\n",
       " 'PEC',\n",
       " 'CNT',\n",
       " 'Pod',\n",
       " 'Tcell',\n",
       " 'MD',\n",
       " 'Uro']"
      ]
     },
     "execution_count": 22,
     "metadata": {},
     "output_type": "execute_result"
    }
   ],
   "source": [
    "list(adata.obs['cell_type'].unique())"
   ]
  },
  {
   "cell_type": "code",
   "execution_count": null,
   "metadata": {},
   "outputs": [],
   "source": []
  },
  {
   "cell_type": "code",
   "execution_count": 23,
   "metadata": {},
   "outputs": [],
   "source": [
    "# columns of interest\n",
    "sample_key = \"ident\"\n",
    "groupby = \"cell_type\"\n",
    "condition_key = \"Group\""
   ]
  },
  {
   "cell_type": "code",
   "execution_count": null,
   "metadata": {},
   "outputs": [],
   "source": []
  },
  {
   "attachments": {},
   "cell_type": "markdown",
   "metadata": {},
   "source": [
    "## QC"
   ]
  },
  {
   "cell_type": "code",
   "execution_count": 24,
   "metadata": {},
   "outputs": [],
   "source": [
    "# set filtering parameters\n",
    "min_cells = 15 # min number of cells per cell type\n",
    "min_samples = 10 # min number of samples that pass the threshold per cell type\n",
    "\n",
    "# get cell num per sample per cluster\n",
    "celltype_qc = adata.obs.groupby([sample_key, groupby]).size().reset_index(name='counts')\n",
    "# check which rows (sample-cell type combo) pass threshold\n",
    "celltype_qc['keep_min'] = celltype_qc['counts'] >= min_cells\n",
    "# how many samples passed the threshold\n",
    "celltype_qc['keep_sum'] = celltype_qc.groupby(groupby)['keep_min'].transform('sum')\n",
    "# identify which cell types don't pass sample threshold\n",
    "celltype_qc['keep_celltype'] = celltype_qc['keep_sum'] >= min_samples\n",
    "celltype_qc = celltype_qc[[sample_key, groupby, \"keep_sum\", 'keep_min', 'keep_celltype']]\n",
    "# drop duplicates\n",
    "celltype_qc = celltype_qc.drop_duplicates()"
   ]
  },
  {
   "cell_type": "code",
   "execution_count": 25,
   "metadata": {},
   "outputs": [
    {
     "data": {
      "text/html": [
       "<div>\n",
       "<style scoped>\n",
       "    .dataframe tbody tr th:only-of-type {\n",
       "        vertical-align: middle;\n",
       "    }\n",
       "\n",
       "    .dataframe tbody tr th {\n",
       "        vertical-align: top;\n",
       "    }\n",
       "\n",
       "    .dataframe thead th {\n",
       "        text-align: right;\n",
       "    }\n",
       "</style>\n",
       "<table border=\"1\" class=\"dataframe\">\n",
       "  <thead>\n",
       "    <tr style=\"text-align: right;\">\n",
       "      <th></th>\n",
       "      <th>ident</th>\n",
       "      <th>cell_type</th>\n",
       "      <th>keep_sum</th>\n",
       "      <th>keep_min</th>\n",
       "      <th>keep_celltype</th>\n",
       "    </tr>\n",
       "  </thead>\n",
       "  <tbody>\n",
       "    <tr>\n",
       "      <th>0</th>\n",
       "      <td>IRI12h1b1</td>\n",
       "      <td>CNT</td>\n",
       "      <td>24</td>\n",
       "      <td>True</td>\n",
       "      <td>True</td>\n",
       "    </tr>\n",
       "    <tr>\n",
       "      <th>1</th>\n",
       "      <td>IRI12h1b1</td>\n",
       "      <td>CTAL</td>\n",
       "      <td>24</td>\n",
       "      <td>True</td>\n",
       "      <td>True</td>\n",
       "    </tr>\n",
       "    <tr>\n",
       "      <th>2</th>\n",
       "      <td>IRI12h1b1</td>\n",
       "      <td>DCT</td>\n",
       "      <td>24</td>\n",
       "      <td>True</td>\n",
       "      <td>True</td>\n",
       "    </tr>\n",
       "    <tr>\n",
       "      <th>3</th>\n",
       "      <td>IRI12h1b1</td>\n",
       "      <td>DCT-CNT</td>\n",
       "      <td>22</td>\n",
       "      <td>True</td>\n",
       "      <td>True</td>\n",
       "    </tr>\n",
       "    <tr>\n",
       "      <th>4</th>\n",
       "      <td>IRI12h1b1</td>\n",
       "      <td>DTL-ATL</td>\n",
       "      <td>24</td>\n",
       "      <td>True</td>\n",
       "      <td>True</td>\n",
       "    </tr>\n",
       "    <tr>\n",
       "      <th>5</th>\n",
       "      <td>IRI12h1b1</td>\n",
       "      <td>EC</td>\n",
       "      <td>24</td>\n",
       "      <td>True</td>\n",
       "      <td>True</td>\n",
       "    </tr>\n",
       "    <tr>\n",
       "      <th>6</th>\n",
       "      <td>IRI12h1b1</td>\n",
       "      <td>Fib</td>\n",
       "      <td>24</td>\n",
       "      <td>True</td>\n",
       "      <td>True</td>\n",
       "    </tr>\n",
       "    <tr>\n",
       "      <th>7</th>\n",
       "      <td>IRI12h1b1</td>\n",
       "      <td>ICA</td>\n",
       "      <td>24</td>\n",
       "      <td>True</td>\n",
       "      <td>True</td>\n",
       "    </tr>\n",
       "    <tr>\n",
       "      <th>8</th>\n",
       "      <td>IRI12h1b1</td>\n",
       "      <td>ICB</td>\n",
       "      <td>24</td>\n",
       "      <td>True</td>\n",
       "      <td>True</td>\n",
       "    </tr>\n",
       "    <tr>\n",
       "      <th>9</th>\n",
       "      <td>IRI12h1b1</td>\n",
       "      <td>MD</td>\n",
       "      <td>2</td>\n",
       "      <td>False</td>\n",
       "      <td>False</td>\n",
       "    </tr>\n",
       "    <tr>\n",
       "      <th>10</th>\n",
       "      <td>IRI12h1b1</td>\n",
       "      <td>MTAL</td>\n",
       "      <td>24</td>\n",
       "      <td>True</td>\n",
       "      <td>True</td>\n",
       "    </tr>\n",
       "    <tr>\n",
       "      <th>11</th>\n",
       "      <td>IRI12h1b1</td>\n",
       "      <td>MO</td>\n",
       "      <td>23</td>\n",
       "      <td>True</td>\n",
       "      <td>True</td>\n",
       "    </tr>\n",
       "    <tr>\n",
       "      <th>12</th>\n",
       "      <td>IRI12h1b1</td>\n",
       "      <td>PT</td>\n",
       "      <td>24</td>\n",
       "      <td>True</td>\n",
       "      <td>True</td>\n",
       "    </tr>\n",
       "    <tr>\n",
       "      <th>13</th>\n",
       "      <td>IRI12h1b1</td>\n",
       "      <td>PC</td>\n",
       "      <td>24</td>\n",
       "      <td>True</td>\n",
       "      <td>True</td>\n",
       "    </tr>\n",
       "    <tr>\n",
       "      <th>14</th>\n",
       "      <td>IRI12h1b1</td>\n",
       "      <td>PEC</td>\n",
       "      <td>18</td>\n",
       "      <td>True</td>\n",
       "      <td>True</td>\n",
       "    </tr>\n",
       "    <tr>\n",
       "      <th>15</th>\n",
       "      <td>IRI12h1b1</td>\n",
       "      <td>Per</td>\n",
       "      <td>14</td>\n",
       "      <td>False</td>\n",
       "      <td>True</td>\n",
       "    </tr>\n",
       "    <tr>\n",
       "      <th>16</th>\n",
       "      <td>IRI12h1b1</td>\n",
       "      <td>Pod</td>\n",
       "      <td>22</td>\n",
       "      <td>True</td>\n",
       "      <td>True</td>\n",
       "    </tr>\n",
       "    <tr>\n",
       "      <th>17</th>\n",
       "      <td>IRI12h1b1</td>\n",
       "      <td>Tcell</td>\n",
       "      <td>17</td>\n",
       "      <td>True</td>\n",
       "      <td>True</td>\n",
       "    </tr>\n",
       "    <tr>\n",
       "      <th>18</th>\n",
       "      <td>IRI12h1b1</td>\n",
       "      <td>Uro</td>\n",
       "      <td>23</td>\n",
       "      <td>True</td>\n",
       "      <td>True</td>\n",
       "    </tr>\n",
       "  </tbody>\n",
       "</table>\n",
       "</div>"
      ],
      "text/plain": [
       "        ident cell_type  keep_sum  keep_min  keep_celltype\n",
       "0   IRI12h1b1       CNT        24      True           True\n",
       "1   IRI12h1b1      CTAL        24      True           True\n",
       "2   IRI12h1b1       DCT        24      True           True\n",
       "3   IRI12h1b1   DCT-CNT        22      True           True\n",
       "4   IRI12h1b1   DTL-ATL        24      True           True\n",
       "5   IRI12h1b1        EC        24      True           True\n",
       "6   IRI12h1b1       Fib        24      True           True\n",
       "7   IRI12h1b1       ICA        24      True           True\n",
       "8   IRI12h1b1       ICB        24      True           True\n",
       "9   IRI12h1b1        MD         2     False          False\n",
       "10  IRI12h1b1      MTAL        24      True           True\n",
       "11  IRI12h1b1        MO        23      True           True\n",
       "12  IRI12h1b1        PT        24      True           True\n",
       "13  IRI12h1b1        PC        24      True           True\n",
       "14  IRI12h1b1       PEC        18      True           True\n",
       "15  IRI12h1b1       Per        14     False           True\n",
       "16  IRI12h1b1       Pod        22      True           True\n",
       "17  IRI12h1b1     Tcell        17      True           True\n",
       "18  IRI12h1b1       Uro        23      True           True"
      ]
     },
     "execution_count": 25,
     "metadata": {},
     "output_type": "execute_result"
    }
   ],
   "source": [
    "celltype_qc.drop_duplicates([groupby, \"keep_celltype\"])"
   ]
  },
  {
   "cell_type": "code",
   "execution_count": 26,
   "metadata": {},
   "outputs": [],
   "source": [
    "adata.obs = adata.obs.reset_index().merge(celltype_qc, how='left').set_index('index')\n",
    "adata.obs.index.name = None"
   ]
  },
  {
   "cell_type": "code",
   "execution_count": 27,
   "metadata": {},
   "outputs": [],
   "source": [
    "adata = adata[(adata.obs['keep_min']) & (adata.obs['keep_celltype']), :]"
   ]
  },
  {
   "cell_type": "code",
   "execution_count": 28,
   "metadata": {},
   "outputs": [
    {
     "data": {
      "text/plain": [
       "IRI4h1_AAACCTGAGATCTGCT      CTAL\n",
       "IRI4h1_AAACCTGAGATTACCC        PT\n",
       "IRI4h1_AAACCTGAGTGTTAGA        EC\n",
       "IRI4h1_AAACCTGCACCAACCG       DCT\n",
       "IRI4h1_AAACCTGCAGCCTGTG      MTAL\n",
       "                             ... \n",
       "IRIsham3_TTTGTCATCAGGTTCA      EC\n",
       "IRIsham3_TTTGTCATCATAACCG      PC\n",
       "IRIsham3_TTTGTCATCCGTCATC      PT\n",
       "IRIsham3_TTTGTCATCCTTCAAT      PT\n",
       "IRIsham3_TTTGTCATCGTCCGTT      PT\n",
       "Name: cell_type, Length: 126158, dtype: category\n",
       "Categories (18, object): ['CNT', 'CTAL', 'DCT', 'DCT-CNT', ..., 'Per', 'Pod', 'Tcell', 'Uro']"
      ]
     },
     "execution_count": 28,
     "metadata": {},
     "output_type": "execute_result"
    }
   ],
   "source": [
    "adata.obs[groupby]"
   ]
  },
  {
   "cell_type": "code",
   "execution_count": null,
   "metadata": {},
   "outputs": [],
   "source": []
  },
  {
   "cell_type": "code",
   "execution_count": null,
   "metadata": {},
   "outputs": [],
   "source": []
  },
  {
   "attachments": {},
   "cell_type": "markdown",
   "metadata": {},
   "source": [
    "### Normalize"
   ]
  },
  {
   "cell_type": "code",
   "execution_count": 29,
   "metadata": {},
   "outputs": [
    {
     "name": "stderr",
     "output_type": "stream",
     "text": [
      "/tmp/ipykernel_15205/1155977868.py:1: FutureWarning: X.dtype being converted to np.float32 from float64. In the next version of anndata (0.9) conversion will not be automatic. Pass dtype explicitly to avoid this warning. Pass `AnnData(X, dtype=X.dtype, ...)` to get the future behavour.\n"
     ]
    }
   ],
   "source": [
    "adata.layers['counts'] = adata.X.copy()"
   ]
  },
  {
   "cell_type": "code",
   "execution_count": 30,
   "metadata": {},
   "outputs": [],
   "source": [
    "sc.pp.normalize_total(adata, target_sum=1e4)\n",
    "sc.pp.log1p(adata)"
   ]
  },
  {
   "cell_type": "code",
   "execution_count": null,
   "metadata": {},
   "outputs": [],
   "source": []
  },
  {
   "attachments": {},
   "cell_type": "markdown",
   "metadata": {},
   "source": [
    "## MOFAcell"
   ]
  },
  {
   "cell_type": "code",
   "execution_count": 31,
   "metadata": {},
   "outputs": [
    {
     "name": "stderr",
     "output_type": "stream",
     "text": [
      "100%|██████████| 18/18 [00:35<00:00,  1.97s/it]\n"
     ]
    }
   ],
   "source": [
    "mdata = li.multi.adata_to_views(adata,\n",
    "                                groupby=groupby,\n",
    "                                sample_key=sample_key,\n",
    "                                obs_keys=[condition_key],\n",
    "                                min_prop=0.05, # min cell prop nnz values (filter features)\n",
    "                                min_smpls=3, # min samples per view (filter features)\n",
    "                                min_cells=25, # min cells per view (filter samples)\n",
    "                                min_counts=100, # min counts per view (filter samples)\n",
    "                                mode='sum', # mode of aggregation\n",
    "                                verbose=True,\n",
    "                                layer='counts'\n",
    "                                )\n"
   ]
  },
  {
   "cell_type": "code",
   "execution_count": 32,
   "metadata": {},
   "outputs": [
    {
     "data": {
      "text/html": [
       "<pre>MuData object with n_obs × n_vars = 24 × 101633\n",
       "  obs:\t&#x27;Group&#x27;\n",
       "  18 modalities\n",
       "    CTAL:\t24 x 5511\n",
       "      layers:\t&#x27;psbulk_props&#x27;\n",
       "    PT:\t24 x 6201\n",
       "      layers:\t&#x27;psbulk_props&#x27;\n",
       "    EC:\t24 x 4482\n",
       "      layers:\t&#x27;psbulk_props&#x27;\n",
       "    DCT:\t24 x 5727\n",
       "      layers:\t&#x27;psbulk_props&#x27;\n",
       "    MTAL:\t24 x 5487\n",
       "      layers:\t&#x27;psbulk_props&#x27;\n",
       "    ICA:\t24 x 6554\n",
       "      layers:\t&#x27;psbulk_props&#x27;\n",
       "    Fib:\t24 x 5962\n",
       "      layers:\t&#x27;psbulk_props&#x27;\n",
       "    DCT-CNT:\t18 x 6337\n",
       "      layers:\t&#x27;psbulk_props&#x27;\n",
       "    MO:\t23 x 5330\n",
       "      layers:\t&#x27;psbulk_props&#x27;\n",
       "    PC:\t24 x 5794\n",
       "      layers:\t&#x27;psbulk_props&#x27;\n",
       "    ICB:\t22 x 6999\n",
       "      layers:\t&#x27;psbulk_props&#x27;\n",
       "    DTL-ATL:\t23 x 6074\n",
       "      layers:\t&#x27;psbulk_props&#x27;\n",
       "    Per:\t5 x 2282\n",
       "      layers:\t&#x27;psbulk_props&#x27;\n",
       "    PEC:\t8 x 5638\n",
       "      layers:\t&#x27;psbulk_props&#x27;\n",
       "    CNT:\t24 x 6026\n",
       "      layers:\t&#x27;psbulk_props&#x27;\n",
       "    Pod:\t15 x 6098\n",
       "      layers:\t&#x27;psbulk_props&#x27;\n",
       "    Tcell:\t9 x 3118\n",
       "      layers:\t&#x27;psbulk_props&#x27;\n",
       "    Uro:\t20 x 8013\n",
       "      layers:\t&#x27;psbulk_props&#x27;</pre>"
      ],
      "text/plain": [
       "MuData object with n_obs × n_vars = 24 × 101633\n",
       "  obs:\t'Group'\n",
       "  18 modalities\n",
       "    CTAL:\t24 x 5511\n",
       "      layers:\t'psbulk_props'\n",
       "    PT:\t24 x 6201\n",
       "      layers:\t'psbulk_props'\n",
       "    EC:\t24 x 4482\n",
       "      layers:\t'psbulk_props'\n",
       "    DCT:\t24 x 5727\n",
       "      layers:\t'psbulk_props'\n",
       "    MTAL:\t24 x 5487\n",
       "      layers:\t'psbulk_props'\n",
       "    ICA:\t24 x 6554\n",
       "      layers:\t'psbulk_props'\n",
       "    Fib:\t24 x 5962\n",
       "      layers:\t'psbulk_props'\n",
       "    DCT-CNT:\t18 x 6337\n",
       "      layers:\t'psbulk_props'\n",
       "    MO:\t23 x 5330\n",
       "      layers:\t'psbulk_props'\n",
       "    PC:\t24 x 5794\n",
       "      layers:\t'psbulk_props'\n",
       "    ICB:\t22 x 6999\n",
       "      layers:\t'psbulk_props'\n",
       "    DTL-ATL:\t23 x 6074\n",
       "      layers:\t'psbulk_props'\n",
       "    Per:\t5 x 2282\n",
       "      layers:\t'psbulk_props'\n",
       "    PEC:\t8 x 5638\n",
       "      layers:\t'psbulk_props'\n",
       "    CNT:\t24 x 6026\n",
       "      layers:\t'psbulk_props'\n",
       "    Pod:\t15 x 6098\n",
       "      layers:\t'psbulk_props'\n",
       "    Tcell:\t9 x 3118\n",
       "      layers:\t'psbulk_props'\n",
       "    Uro:\t20 x 8013\n",
       "      layers:\t'psbulk_props'"
      ]
     },
     "execution_count": 32,
     "metadata": {},
     "output_type": "execute_result"
    }
   ],
   "source": [
    "mdata"
   ]
  },
  {
   "cell_type": "code",
   "execution_count": 33,
   "metadata": {},
   "outputs": [],
   "source": [
    "views = dict()\n",
    "for view in mdata.mod.keys():\n",
    "    # dc.plot_filter_by_expr(mdata.mod[view], min_count=10, min_total_count=200)\n",
    "    keep_genes = dc.filter_by_expr(mdata.mod[view], group=None, min_count=5, min_total_count=20, min_prop=0.1, large_n=0)\n",
    "    mdata.mod[view] = mdata.mod[view][:, keep_genes].copy()\n",
    "    \n",
    "    sc.pp.normalize_total(mdata.mod[view], target_sum=1e4)\n",
    "    sc.pp.log1p(mdata.mod[view])\n",
    "    sc.pp.highly_variable_genes(mdata.mod[view])\n",
    "    \n",
    "    views[view] = mdata.mod[view]"
   ]
  },
  {
   "cell_type": "code",
   "execution_count": 34,
   "metadata": {},
   "outputs": [],
   "source": [
    "import mudata"
   ]
  },
  {
   "cell_type": "code",
   "execution_count": 35,
   "metadata": {},
   "outputs": [],
   "source": [
    "obs = mdata.obs\n",
    "# rebuild with re-filtered features\n",
    "mdata = mudata.MuData(views)\n",
    "mdata.obs = obs"
   ]
  },
  {
   "cell_type": "code",
   "execution_count": 36,
   "metadata": {},
   "outputs": [
    {
     "data": {
      "text/html": [
       "<pre>MuData object with n_obs × n_vars = 24 × 91009\n",
       "  obs:\t&#x27;Group&#x27;\n",
       "  var:\t&#x27;highly_variable&#x27;, &#x27;means&#x27;, &#x27;dispersions&#x27;, &#x27;dispersions_norm&#x27;\n",
       "  18 modalities\n",
       "    CTAL:\t24 x 5511\n",
       "      var:\t&#x27;highly_variable&#x27;, &#x27;means&#x27;, &#x27;dispersions&#x27;, &#x27;dispersions_norm&#x27;\n",
       "      uns:\t&#x27;log1p&#x27;, &#x27;hvg&#x27;\n",
       "      layers:\t&#x27;psbulk_props&#x27;\n",
       "    PT:\t24 x 6201\n",
       "      var:\t&#x27;highly_variable&#x27;, &#x27;means&#x27;, &#x27;dispersions&#x27;, &#x27;dispersions_norm&#x27;\n",
       "      uns:\t&#x27;log1p&#x27;, &#x27;hvg&#x27;\n",
       "      layers:\t&#x27;psbulk_props&#x27;\n",
       "    EC:\t24 x 4482\n",
       "      var:\t&#x27;highly_variable&#x27;, &#x27;means&#x27;, &#x27;dispersions&#x27;, &#x27;dispersions_norm&#x27;\n",
       "      uns:\t&#x27;log1p&#x27;, &#x27;hvg&#x27;\n",
       "      layers:\t&#x27;psbulk_props&#x27;\n",
       "    DCT:\t24 x 5727\n",
       "      var:\t&#x27;highly_variable&#x27;, &#x27;means&#x27;, &#x27;dispersions&#x27;, &#x27;dispersions_norm&#x27;\n",
       "      uns:\t&#x27;log1p&#x27;, &#x27;hvg&#x27;\n",
       "      layers:\t&#x27;psbulk_props&#x27;\n",
       "    MTAL:\t24 x 5487\n",
       "      var:\t&#x27;highly_variable&#x27;, &#x27;means&#x27;, &#x27;dispersions&#x27;, &#x27;dispersions_norm&#x27;\n",
       "      uns:\t&#x27;log1p&#x27;, &#x27;hvg&#x27;\n",
       "      layers:\t&#x27;psbulk_props&#x27;\n",
       "    ICA:\t24 x 6331\n",
       "      var:\t&#x27;highly_variable&#x27;, &#x27;means&#x27;, &#x27;dispersions&#x27;, &#x27;dispersions_norm&#x27;\n",
       "      uns:\t&#x27;log1p&#x27;, &#x27;hvg&#x27;\n",
       "      layers:\t&#x27;psbulk_props&#x27;\n",
       "    Fib:\t24 x 5962\n",
       "      var:\t&#x27;highly_variable&#x27;, &#x27;means&#x27;, &#x27;dispersions&#x27;, &#x27;dispersions_norm&#x27;\n",
       "      uns:\t&#x27;log1p&#x27;, &#x27;hvg&#x27;\n",
       "      layers:\t&#x27;psbulk_props&#x27;\n",
       "    DCT-CNT:\t18 x 5964\n",
       "      var:\t&#x27;highly_variable&#x27;, &#x27;means&#x27;, &#x27;dispersions&#x27;, &#x27;dispersions_norm&#x27;\n",
       "      uns:\t&#x27;log1p&#x27;, &#x27;hvg&#x27;\n",
       "      layers:\t&#x27;psbulk_props&#x27;\n",
       "    MO:\t23 x 5157\n",
       "      var:\t&#x27;highly_variable&#x27;, &#x27;means&#x27;, &#x27;dispersions&#x27;, &#x27;dispersions_norm&#x27;\n",
       "      uns:\t&#x27;log1p&#x27;, &#x27;hvg&#x27;\n",
       "      layers:\t&#x27;psbulk_props&#x27;\n",
       "    PC:\t24 x 5794\n",
       "      var:\t&#x27;highly_variable&#x27;, &#x27;means&#x27;, &#x27;dispersions&#x27;, &#x27;dispersions_norm&#x27;\n",
       "      uns:\t&#x27;log1p&#x27;, &#x27;hvg&#x27;\n",
       "      layers:\t&#x27;psbulk_props&#x27;\n",
       "    ICB:\t22 x 6651\n",
       "      var:\t&#x27;highly_variable&#x27;, &#x27;means&#x27;, &#x27;dispersions&#x27;, &#x27;dispersions_norm&#x27;\n",
       "      uns:\t&#x27;log1p&#x27;, &#x27;hvg&#x27;\n",
       "      layers:\t&#x27;psbulk_props&#x27;\n",
       "    DTL-ATL:\t23 x 6074\n",
       "      var:\t&#x27;highly_variable&#x27;, &#x27;means&#x27;, &#x27;dispersions&#x27;, &#x27;dispersions_norm&#x27;\n",
       "      uns:\t&#x27;log1p&#x27;, &#x27;hvg&#x27;\n",
       "      layers:\t&#x27;psbulk_props&#x27;\n",
       "    Per:\t5 x 993\n",
       "      var:\t&#x27;highly_variable&#x27;, &#x27;means&#x27;, &#x27;dispersions&#x27;, &#x27;dispersions_norm&#x27;\n",
       "      uns:\t&#x27;log1p&#x27;, &#x27;hvg&#x27;\n",
       "      layers:\t&#x27;psbulk_props&#x27;\n",
       "    PEC:\t8 x 3326\n",
       "      var:\t&#x27;highly_variable&#x27;, &#x27;means&#x27;, &#x27;dispersions&#x27;, &#x27;dispersions_norm&#x27;\n",
       "      uns:\t&#x27;log1p&#x27;, &#x27;hvg&#x27;\n",
       "      layers:\t&#x27;psbulk_props&#x27;\n",
       "    CNT:\t24 x 6026\n",
       "      var:\t&#x27;highly_variable&#x27;, &#x27;means&#x27;, &#x27;dispersions&#x27;, &#x27;dispersions_norm&#x27;\n",
       "      uns:\t&#x27;log1p&#x27;, &#x27;hvg&#x27;\n",
       "      layers:\t&#x27;psbulk_props&#x27;\n",
       "    Pod:\t15 x 3337\n",
       "      var:\t&#x27;highly_variable&#x27;, &#x27;means&#x27;, &#x27;dispersions&#x27;, &#x27;dispersions_norm&#x27;\n",
       "      uns:\t&#x27;log1p&#x27;, &#x27;hvg&#x27;\n",
       "      layers:\t&#x27;psbulk_props&#x27;\n",
       "    Tcell:\t9 x 1761\n",
       "      var:\t&#x27;highly_variable&#x27;, &#x27;means&#x27;, &#x27;dispersions&#x27;, &#x27;dispersions_norm&#x27;\n",
       "      uns:\t&#x27;log1p&#x27;, &#x27;hvg&#x27;\n",
       "      layers:\t&#x27;psbulk_props&#x27;\n",
       "    Uro:\t20 x 6225\n",
       "      var:\t&#x27;highly_variable&#x27;, &#x27;means&#x27;, &#x27;dispersions&#x27;, &#x27;dispersions_norm&#x27;\n",
       "      uns:\t&#x27;log1p&#x27;, &#x27;hvg&#x27;\n",
       "      layers:\t&#x27;psbulk_props&#x27;</pre>"
      ],
      "text/plain": [
       "MuData object with n_obs × n_vars = 24 × 91009\n",
       "  obs:\t'Group'\n",
       "  var:\t'highly_variable', 'means', 'dispersions', 'dispersions_norm'\n",
       "  18 modalities\n",
       "    CTAL:\t24 x 5511\n",
       "      var:\t'highly_variable', 'means', 'dispersions', 'dispersions_norm'\n",
       "      uns:\t'log1p', 'hvg'\n",
       "      layers:\t'psbulk_props'\n",
       "    PT:\t24 x 6201\n",
       "      var:\t'highly_variable', 'means', 'dispersions', 'dispersions_norm'\n",
       "      uns:\t'log1p', 'hvg'\n",
       "      layers:\t'psbulk_props'\n",
       "    EC:\t24 x 4482\n",
       "      var:\t'highly_variable', 'means', 'dispersions', 'dispersions_norm'\n",
       "      uns:\t'log1p', 'hvg'\n",
       "      layers:\t'psbulk_props'\n",
       "    DCT:\t24 x 5727\n",
       "      var:\t'highly_variable', 'means', 'dispersions', 'dispersions_norm'\n",
       "      uns:\t'log1p', 'hvg'\n",
       "      layers:\t'psbulk_props'\n",
       "    MTAL:\t24 x 5487\n",
       "      var:\t'highly_variable', 'means', 'dispersions', 'dispersions_norm'\n",
       "      uns:\t'log1p', 'hvg'\n",
       "      layers:\t'psbulk_props'\n",
       "    ICA:\t24 x 6331\n",
       "      var:\t'highly_variable', 'means', 'dispersions', 'dispersions_norm'\n",
       "      uns:\t'log1p', 'hvg'\n",
       "      layers:\t'psbulk_props'\n",
       "    Fib:\t24 x 5962\n",
       "      var:\t'highly_variable', 'means', 'dispersions', 'dispersions_norm'\n",
       "      uns:\t'log1p', 'hvg'\n",
       "      layers:\t'psbulk_props'\n",
       "    DCT-CNT:\t18 x 5964\n",
       "      var:\t'highly_variable', 'means', 'dispersions', 'dispersions_norm'\n",
       "      uns:\t'log1p', 'hvg'\n",
       "      layers:\t'psbulk_props'\n",
       "    MO:\t23 x 5157\n",
       "      var:\t'highly_variable', 'means', 'dispersions', 'dispersions_norm'\n",
       "      uns:\t'log1p', 'hvg'\n",
       "      layers:\t'psbulk_props'\n",
       "    PC:\t24 x 5794\n",
       "      var:\t'highly_variable', 'means', 'dispersions', 'dispersions_norm'\n",
       "      uns:\t'log1p', 'hvg'\n",
       "      layers:\t'psbulk_props'\n",
       "    ICB:\t22 x 6651\n",
       "      var:\t'highly_variable', 'means', 'dispersions', 'dispersions_norm'\n",
       "      uns:\t'log1p', 'hvg'\n",
       "      layers:\t'psbulk_props'\n",
       "    DTL-ATL:\t23 x 6074\n",
       "      var:\t'highly_variable', 'means', 'dispersions', 'dispersions_norm'\n",
       "      uns:\t'log1p', 'hvg'\n",
       "      layers:\t'psbulk_props'\n",
       "    Per:\t5 x 993\n",
       "      var:\t'highly_variable', 'means', 'dispersions', 'dispersions_norm'\n",
       "      uns:\t'log1p', 'hvg'\n",
       "      layers:\t'psbulk_props'\n",
       "    PEC:\t8 x 3326\n",
       "      var:\t'highly_variable', 'means', 'dispersions', 'dispersions_norm'\n",
       "      uns:\t'log1p', 'hvg'\n",
       "      layers:\t'psbulk_props'\n",
       "    CNT:\t24 x 6026\n",
       "      var:\t'highly_variable', 'means', 'dispersions', 'dispersions_norm'\n",
       "      uns:\t'log1p', 'hvg'\n",
       "      layers:\t'psbulk_props'\n",
       "    Pod:\t15 x 3337\n",
       "      var:\t'highly_variable', 'means', 'dispersions', 'dispersions_norm'\n",
       "      uns:\t'log1p', 'hvg'\n",
       "      layers:\t'psbulk_props'\n",
       "    Tcell:\t9 x 1761\n",
       "      var:\t'highly_variable', 'means', 'dispersions', 'dispersions_norm'\n",
       "      uns:\t'log1p', 'hvg'\n",
       "      layers:\t'psbulk_props'\n",
       "    Uro:\t20 x 6225\n",
       "      var:\t'highly_variable', 'means', 'dispersions', 'dispersions_norm'\n",
       "      uns:\t'log1p', 'hvg'\n",
       "      layers:\t'psbulk_props'"
      ]
     },
     "execution_count": 36,
     "metadata": {},
     "output_type": "execute_result"
    }
   ],
   "source": [
    "mdata"
   ]
  },
  {
   "cell_type": "code",
   "execution_count": null,
   "metadata": {},
   "outputs": [],
   "source": []
  },
  {
   "cell_type": "code",
   "execution_count": 37,
   "metadata": {},
   "outputs": [
    {
     "name": "stdout",
     "output_type": "stream",
     "text": [
      "\n",
      "        #########################################################\n",
      "        ###           __  __  ____  ______                    ### \n",
      "        ###          |  \\/  |/ __ \\|  ____/\\    _             ### \n",
      "        ###          | \\  / | |  | | |__ /  \\ _| |_           ### \n",
      "        ###          | |\\/| | |  | |  __/ /\\ \\_   _|          ###\n",
      "        ###          | |  | | |__| | | / ____ \\|_|            ###\n",
      "        ###          |_|  |_|\\____/|_|/_/    \\_\\              ###\n",
      "        ###                                                   ### \n",
      "        ######################################################### \n",
      "       \n",
      " \n",
      "        \n",
      "Loaded view='CTAL' group='group1' with N=24 samples and D=1386 features...\n",
      "Loaded view='PT' group='group1' with N=24 samples and D=1537 features...\n",
      "Loaded view='EC' group='group1' with N=24 samples and D=1149 features...\n",
      "Loaded view='DCT' group='group1' with N=24 samples and D=1431 features...\n",
      "Loaded view='MTAL' group='group1' with N=24 samples and D=1400 features...\n",
      "Loaded view='ICA' group='group1' with N=24 samples and D=1533 features...\n",
      "Loaded view='Fib' group='group1' with N=24 samples and D=1545 features...\n",
      "Loaded view='DCT-CNT' group='group1' with N=24 samples and D=1565 features...\n",
      "Loaded view='MO' group='group1' with N=24 samples and D=1399 features...\n",
      "Loaded view='PC' group='group1' with N=24 samples and D=1403 features...\n",
      "Loaded view='ICB' group='group1' with N=24 samples and D=1644 features...\n",
      "Loaded view='DTL-ATL' group='group1' with N=24 samples and D=1467 features...\n",
      "Loaded view='Per' group='group1' with N=24 samples and D=303 features...\n",
      "Loaded view='PEC' group='group1' with N=24 samples and D=944 features...\n",
      "Loaded view='CNT' group='group1' with N=24 samples and D=1431 features...\n",
      "Loaded view='Pod' group='group1' with N=24 samples and D=886 features...\n",
      "Loaded view='Tcell' group='group1' with N=24 samples and D=484 features...\n",
      "Loaded view='Uro' group='group1' with N=24 samples and D=1566 features...\n",
      "\n",
      "\n",
      "Model options:\n",
      "- Automatic Relevance Determination prior on the factors: True\n",
      "- Automatic Relevance Determination prior on the weights: True\n",
      "- Spike-and-slab prior on the factors: False\n",
      "- Spike-and-slab prior on the weights: True\n",
      "Likelihoods:\n",
      "- View 0 (CTAL): gaussian\n",
      "- View 1 (PT): gaussian\n",
      "- View 2 (EC): gaussian\n",
      "- View 3 (DCT): gaussian\n",
      "- View 4 (MTAL): gaussian\n",
      "- View 5 (ICA): gaussian\n",
      "- View 6 (Fib): gaussian\n",
      "- View 7 (DCT-CNT): gaussian\n",
      "- View 8 (MO): gaussian\n",
      "- View 9 (PC): gaussian\n",
      "- View 10 (ICB): gaussian\n",
      "- View 11 (DTL-ATL): gaussian\n",
      "- View 12 (Per): gaussian\n",
      "- View 13 (PEC): gaussian\n",
      "- View 14 (CNT): gaussian\n",
      "- View 15 (Pod): gaussian\n",
      "- View 16 (Tcell): gaussian\n",
      "- View 17 (Uro): gaussian\n",
      "\n",
      "\n",
      "\n",
      "\n",
      "######################################\n",
      "## Training the model with seed 1 ##\n",
      "######################################\n",
      "\n",
      "\n",
      "\n",
      "Converged!\n",
      "\n",
      "\n",
      "\n",
      "#######################\n",
      "## Training finished ##\n",
      "#######################\n",
      "\n",
      "\n",
      "Warning: Output file models/mofacell.h5ad already exists, it will be replaced\n",
      "Saving model in models/mofacell.h5ad...\n",
      "Saved MOFA embeddings in .obsm['X_mofa'] slot and their loadings in .varm['LFs'].\n"
     ]
    }
   ],
   "source": [
    "mu.tl.mofa(mdata,\n",
    "           use_obs='union',\n",
    "           convergence_mode='medium',\n",
    "           n_factors=5,\n",
    "           outfile='models/mofacell.h5ad',\n",
    "           use_var='highly_variable'\n",
    "           )"
   ]
  },
  {
   "cell_type": "code",
   "execution_count": 38,
   "metadata": {},
   "outputs": [
    {
     "data": {
      "text/html": [
       "<div>\n",
       "<style scoped>\n",
       "    .dataframe tbody tr th:only-of-type {\n",
       "        vertical-align: middle;\n",
       "    }\n",
       "\n",
       "    .dataframe tbody tr th {\n",
       "        vertical-align: top;\n",
       "    }\n",
       "\n",
       "    .dataframe thead th {\n",
       "        text-align: right;\n",
       "    }\n",
       "</style>\n",
       "<table border=\"1\" class=\"dataframe\">\n",
       "  <thead>\n",
       "    <tr style=\"text-align: right;\">\n",
       "      <th></th>\n",
       "      <th>ident</th>\n",
       "      <th>Factor_1</th>\n",
       "      <th>Factor_2</th>\n",
       "      <th>Factor_3</th>\n",
       "      <th>Factor_4</th>\n",
       "      <th>Factor_5</th>\n",
       "      <th>Group</th>\n",
       "    </tr>\n",
       "  </thead>\n",
       "  <tbody>\n",
       "    <tr>\n",
       "      <th>0</th>\n",
       "      <td>IRI12h1b1</td>\n",
       "      <td>0.821762</td>\n",
       "      <td>-0.093489</td>\n",
       "      <td>-0.150936</td>\n",
       "      <td>0.037851</td>\n",
       "      <td>-0.016032</td>\n",
       "      <td>12hours</td>\n",
       "    </tr>\n",
       "    <tr>\n",
       "      <th>1</th>\n",
       "      <td>IRI12h1b2</td>\n",
       "      <td>0.811791</td>\n",
       "      <td>-0.035442</td>\n",
       "      <td>-0.140246</td>\n",
       "      <td>0.058600</td>\n",
       "      <td>-0.015732</td>\n",
       "      <td>12hours</td>\n",
       "    </tr>\n",
       "    <tr>\n",
       "      <th>2</th>\n",
       "      <td>IRI12h2</td>\n",
       "      <td>0.786622</td>\n",
       "      <td>-0.076981</td>\n",
       "      <td>-0.147285</td>\n",
       "      <td>0.029764</td>\n",
       "      <td>-0.014254</td>\n",
       "      <td>12hours</td>\n",
       "    </tr>\n",
       "    <tr>\n",
       "      <th>3</th>\n",
       "      <td>IRI12h3</td>\n",
       "      <td>0.798339</td>\n",
       "      <td>-0.058759</td>\n",
       "      <td>-0.143811</td>\n",
       "      <td>0.049447</td>\n",
       "      <td>-0.013502</td>\n",
       "      <td>12hours</td>\n",
       "    </tr>\n",
       "    <tr>\n",
       "      <th>4</th>\n",
       "      <td>IRI14d1b1</td>\n",
       "      <td>-0.369209</td>\n",
       "      <td>-0.120413</td>\n",
       "      <td>0.009520</td>\n",
       "      <td>-0.001651</td>\n",
       "      <td>0.072180</td>\n",
       "      <td>14days</td>\n",
       "    </tr>\n",
       "  </tbody>\n",
       "</table>\n",
       "</div>"
      ],
      "text/plain": [
       "       ident  Factor_1  Factor_2  Factor_3  Factor_4  Factor_5    Group\n",
       "0  IRI12h1b1  0.821762 -0.093489 -0.150936  0.037851 -0.016032  12hours\n",
       "1  IRI12h1b2  0.811791 -0.035442 -0.140246  0.058600 -0.015732  12hours\n",
       "2    IRI12h2  0.786622 -0.076981 -0.147285  0.029764 -0.014254  12hours\n",
       "3    IRI12h3  0.798339 -0.058759 -0.143811  0.049447 -0.013502  12hours\n",
       "4  IRI14d1b1 -0.369209 -0.120413  0.009520 -0.001651  0.072180   14days"
      ]
     },
     "execution_count": 38,
     "metadata": {},
     "output_type": "execute_result"
    }
   ],
   "source": [
    "# obtain factor scores\n",
    "factor_scores = li.multi.get_factor_scores(mdata, obsm_key='X_mofa')\n",
    "factor_scores.head()"
   ]
  },
  {
   "cell_type": "code",
   "execution_count": 39,
   "metadata": {},
   "outputs": [
    {
     "data": {
      "image/png": "[encoded data removed]",
      "text/plain": [
       "<Figure size 640x480 with 1 Axes>"
      ]
     },
     "metadata": {},
     "output_type": "display_data"
    },
    {
     "data": {
      "text/plain": [
       "<ggplot: (8735743367090)>"
      ]
     },
     "execution_count": 39,
     "metadata": {},
     "output_type": "execute_result"
    }
   ],
   "source": [
    "(p9.ggplot(factor_scores) +\n",
    " p9.aes(x=condition_key, colour=condition_key, y='Factor_1') +\n",
    " p9.geom_violin() +\n",
    " p9.geom_jitter(size=4, width=0.2) +\n",
    " p9.theme_bw()\n",
    " )"
   ]
  },
  {
   "cell_type": "code",
   "execution_count": null,
   "metadata": {},
   "outputs": [],
   "source": []
  },
  {
   "cell_type": "code",
   "execution_count": 44,
   "metadata": {},
   "outputs": [
    {
     "data": {
      "image/png": "[encoded data removed]",
      "text/plain": [
       "<Figure size 640x480 with 2 Axes>"
      ]
     },
     "execution_count": 44,
     "metadata": {},
     "output_type": "execute_result"
    }
   ],
   "source": [
    "model = mofa.mofa_model(\"models/mofacell.h5ad\")\n",
    "model\n",
    "mofa.plot_r2(model, x='View')"
   ]
  },
  {
   "cell_type": "code",
   "execution_count": null,
   "metadata": {},
   "outputs": [],
   "source": []
  },
  {
   "cell_type": "code",
   "execution_count": 41,
   "metadata": {},
   "outputs": [
    {
     "data": {
      "text/html": [
       "<div>\n",
       "<style scoped>\n",
       "    .dataframe tbody tr th:only-of-type {\n",
       "        vertical-align: middle;\n",
       "    }\n",
       "\n",
       "    .dataframe tbody tr th {\n",
       "        vertical-align: top;\n",
       "    }\n",
       "\n",
       "    .dataframe thead th {\n",
       "        text-align: right;\n",
       "    }\n",
       "</style>\n",
       "<table border=\"1\" class=\"dataframe\">\n",
       "  <thead>\n",
       "    <tr style=\"text-align: right;\">\n",
       "      <th></th>\n",
       "      <th>loadings</th>\n",
       "      <th>view</th>\n",
       "      <th>variable</th>\n",
       "    </tr>\n",
       "  </thead>\n",
       "  <tbody>\n",
       "    <tr>\n",
       "      <th>10457</th>\n",
       "      <td>-2.147949</td>\n",
       "      <td>PT</td>\n",
       "      <td>Slc7a13</td>\n",
       "    </tr>\n",
       "    <tr>\n",
       "      <th>17634</th>\n",
       "      <td>-2.094414</td>\n",
       "      <td>DCT</td>\n",
       "      <td>Egf</td>\n",
       "    </tr>\n",
       "    <tr>\n",
       "      <th>18815</th>\n",
       "      <td>-2.007379</td>\n",
       "      <td>DCT</td>\n",
       "      <td>Klhl3</td>\n",
       "    </tr>\n",
       "    <tr>\n",
       "      <th>10356</th>\n",
       "      <td>-1.879177</td>\n",
       "      <td>PT</td>\n",
       "      <td>Slc22a30</td>\n",
       "    </tr>\n",
       "    <tr>\n",
       "      <th>17131</th>\n",
       "      <td>1.854527</td>\n",
       "      <td>DCT</td>\n",
       "      <td>Chd9</td>\n",
       "    </tr>\n",
       "  </tbody>\n",
       "</table>\n",
       "</div>"
      ],
      "text/plain": [
       "       loadings view  variable\n",
       "10457 -2.147949   PT   Slc7a13\n",
       "17634 -2.094414  DCT       Egf\n",
       "18815 -2.007379  DCT     Klhl3\n",
       "10356 -1.879177   PT  Slc22a30\n",
       "17131  1.854527  DCT      Chd9"
      ]
     },
     "execution_count": 41,
     "metadata": {},
     "output_type": "execute_result"
    }
   ],
   "source": [
    "factor1_loadings =  li.multi.get_variable_loadings(mdata, 0, view_separator=':') # get loadings for factor 1\n",
    "factor1_loadings.head()"
   ]
  },
  {
   "cell_type": "code",
   "execution_count": 42,
   "metadata": {},
   "outputs": [
    {
     "data": {
      "image/png": "[encoded data removed]",
      "text/plain": [
       "<Figure size 500x500 with 1 Axes>"
      ]
     },
     "metadata": {
      "needs_background": "light"
     },
     "output_type": "display_data"
    },
    {
     "data": {
      "text/plain": [
       "<ggplot: (8735838093081)>"
      ]
     },
     "execution_count": 42,
     "metadata": {},
     "output_type": "execute_result"
    }
   ],
   "source": [
    "# get 25 genes with highest loadings across all views\n",
    "top_genes = factor1_loadings['variable'].head(25)\n",
    "top_loadings = factor1_loadings[factor1_loadings['variable'].isin(top_genes)]\n",
    "# ^ Note that the genes with the lowest loadings are equally interesting\n",
    "\n",
    "# plot them\n",
    "# dotplot of variable, view, loadings\n",
    "(p9.ggplot(top_loadings) +\n",
    " p9.aes(x='view', y='variable', fill='loadings') +\n",
    " p9.geom_tile() +\n",
    " p9.scale_fill_gradient2(low='#1f77b4', mid='lightgray', high='#c20019') +\n",
    " p9.theme_minimal() +\n",
    " p9.theme(axis_text_x=p9.element_text(angle=90, hjust=0.5, vjust=0.5), figure_size=(5, 5))\n",
    " )"
   ]
  },
  {
   "cell_type": "code",
   "execution_count": null,
   "metadata": {},
   "outputs": [],
   "source": []
  },
  {
   "cell_type": "code",
   "execution_count": null,
   "metadata": {},
   "outputs": [],
   "source": []
  },
  {
   "cell_type": "code",
   "execution_count": null,
   "metadata": {},
   "outputs": [],
   "source": []
  },
  {
   "attachments": {},
   "cell_type": "markdown",
   "metadata": {},
   "source": [
    "## MOFAtalk"
   ]
  },
  {
   "attachments": {},
   "cell_type": "markdown",
   "metadata": {},
   "source": [
    "## Run LIANA"
   ]
  },
  {
   "cell_type": "code",
   "execution_count": 43,
   "metadata": {},
   "outputs": [],
   "source": [
    "score_key = 'lrscore'"
   ]
  },
  {
   "cell_type": "code",
   "execution_count": null,
   "metadata": {},
   "outputs": [],
   "source": [
    "li.method.singlecellsignalr.by_sample(adata,\n",
    "                                      groupby=groupby,\n",
    "                                      sample_key=sample_key,\n",
    "                                      resource_name='mouseconsensus',\n",
    "                                      use_raw=False,\n",
    "                                      verbose=True,\n",
    "                                      n_perms=None,\n",
    "                                      return_all_lrs=False\n",
    "                                      )"
   ]
  },
  {
   "cell_type": "code",
   "execution_count": null,
   "metadata": {},
   "outputs": [],
   "source": [
    "adata.uns['liana_full'] = adata.uns['liana_res'].copy()"
   ]
  },
  {
   "cell_type": "code",
   "execution_count": null,
   "metadata": {},
   "outputs": [],
   "source": [
    "adata.uns['liana_res'] = adata.uns['liana_res'][adata.uns['liana_res']['lrs_to_keep']]"
   ]
  },
  {
   "cell_type": "code",
   "execution_count": null,
   "metadata": {},
   "outputs": [],
   "source": []
  },
  {
   "cell_type": "code",
   "execution_count": null,
   "metadata": {},
   "outputs": [],
   "source": []
  },
  {
   "cell_type": "code",
   "execution_count": null,
   "metadata": {},
   "outputs": [],
   "source": [
    "mdata = li.multi.lrs_to_views(adata,\n",
    "                              sample_key=sample_key,\n",
    "                              score_key=score_key,\n",
    "                              obs_keys=[condition_key], # add those to mdata.obs\n",
    "                              lr_prop = 0.2, # minimum required proportion of samples to keep an LR\n",
    "                              lrs_per_sample = 20, # minimum number of interactions to keep a sample in a specific view\n",
    "                              lrs_per_view = 20, # minimum number of interactions to keep a view\n",
    "                              samples_per_view = 5, # minimum number of samples to keep a view\n",
    "                              min_variance = 0, # minimum variance to keep an interaction\n",
    "                              lr_fill = 0.5, # fill missing LR values across samples with this\n",
    "                              verbose=True\n",
    "                              )"
   ]
  },
  {
   "cell_type": "code",
   "execution_count": null,
   "metadata": {},
   "outputs": [],
   "source": []
  },
  {
   "cell_type": "code",
   "execution_count": null,
   "metadata": {},
   "outputs": [],
   "source": []
  },
  {
   "cell_type": "code",
   "execution_count": null,
   "metadata": {},
   "outputs": [],
   "source": [
    "mu.tl.mofa(mdata,\n",
    "           use_obs='union',\n",
    "           convergence_mode='medium',\n",
    "           outfile='models/mofatalk.h5ad',\n",
    "           n_factors=4,\n",
    "           )"
   ]
  },
  {
   "cell_type": "code",
   "execution_count": null,
   "metadata": {},
   "outputs": [],
   "source": [
    "# obtain factor scores\n",
    "factor_scores = li.multi.get_factor_scores(mdata, obsm_key='X_mofa')\n",
    "factor_scores.head()"
   ]
  },
  {
   "cell_type": "code",
   "execution_count": null,
   "metadata": {},
   "outputs": [],
   "source": [
    "# scatterplot\n",
    "(p9.ggplot(factor_scores) +\n",
    " p9.aes(x='Group', colour='Group', y='Factor_1') +\n",
    " p9.geom_violin() +\n",
    " p9.geom_jitter(size=4, width=0.2) +\n",
    " p9.theme_bw()\n",
    " )"
   ]
  },
  {
   "cell_type": "code",
   "execution_count": null,
   "metadata": {},
   "outputs": [],
   "source": []
  },
  {
   "cell_type": "code",
   "execution_count": null,
   "metadata": {},
   "outputs": [],
   "source": [
    "model = mofa.mofa_model(\"models/mofatalk.h5ad\")\n",
    "model"
   ]
  },
  {
   "cell_type": "code",
   "execution_count": null,
   "metadata": {},
   "outputs": [],
   "source": [
    "# get variance explained by view and factor\n",
    "rsq = model.get_r2()\n",
    "factor1_rsq = rsq[rsq['Factor']=='Factor1']\n",
    "# separate view column\n",
    "factor1_rsq[['source', 'target']] = factor1_rsq['View'].str.split('&', 1, expand=True)\n",
    "\n",
    "(p9.ggplot(factor1_rsq.reset_index()) +\n",
    " p9.aes(x='target', y='source') +\n",
    " p9.geom_tile(p9.aes(fill='R2')) +\n",
    " p9.scale_fill_gradient2(low='white', high='#c20019') +\n",
    " p9.theme_bw()\n",
    " )"
   ]
  },
  {
   "cell_type": "code",
   "execution_count": null,
   "metadata": {},
   "outputs": [],
   "source": [
    "# load PROGENy pathways\n",
    "net = dc.get_progeny(organism='Mus musculus', top=5000)\n",
    "# load full list of ligand-receptor pairs\n",
    "lr_pairs = li.resource.select_resource('mouseconsensus')\n",
    "\n",
    "# generate ligand-receptor geneset\n",
    "lr_progeny = li.fun.generate_lr_geneset(lr_pairs, net, lr_separator=\"^\")\n",
    "lr_progeny.head()"
   ]
  },
  {
   "cell_type": "code",
   "execution_count": null,
   "metadata": {},
   "outputs": [],
   "source": [
    "lr_loadings =  li.multi.get_variable_loadings(mdata,\n",
    "                                              0, # get loadings for factor 1\n",
    "                                              view_separator=':',\n",
    "                                              )\n",
    "lr_loadings.set_index('variable', inplace=True)"
   ]
  },
  {
   "cell_type": "code",
   "execution_count": null,
   "metadata": {},
   "outputs": [],
   "source": [
    "lr_loadings[lr_loadings['view'].str.contains('PT')].sort_values('loadings', ascending=False).tail()"
   ]
  },
  {
   "cell_type": "code",
   "execution_count": null,
   "metadata": {},
   "outputs": [],
   "source": []
  },
  {
   "cell_type": "code",
   "execution_count": null,
   "metadata": {},
   "outputs": [],
   "source": []
  },
  {
   "cell_type": "code",
   "execution_count": null,
   "metadata": {},
   "outputs": [],
   "source": [
    "# pivot views to wide\n",
    "lr_loadings = lr_loadings.pivot(columns='view', values='loadings')\n",
    "# replace NaN with 0\n",
    "lr_loadings.replace(np.nan, 0, inplace=True)\n",
    "lr_loadings.head()"
   ]
  },
  {
   "cell_type": "code",
   "execution_count": null,
   "metadata": {},
   "outputs": [],
   "source": []
  },
  {
   "cell_type": "code",
   "execution_count": null,
   "metadata": {},
   "outputs": [],
   "source": [
    "# run pathway enrichment analysis\n",
    "estimate, pvals =  dc.run_mlm(lr_loadings.transpose(), lr_progeny,\n",
    "                              source=\"source\", target=\"interaction\",\n",
    "                              use_raw=False, min_n=5)\n",
    "# pivot columns to long\n",
    "estimate = (estimate.\n",
    "            melt(ignore_index=False, value_name='estimate', var_name='pathway').\n",
    "            reset_index().\n",
    "            rename(columns={'index':'view'})\n",
    "            )\n",
    "\n",
    "## p9 tile plot\n",
    "(p9.ggplot(estimate) +\n",
    " p9.aes(x='pathway', y='view') +\n",
    " p9.geom_tile(p9.aes(fill='estimate')) +\n",
    " p9.scale_fill_gradient2(low='#1f77b4', high='#c20019') +\n",
    " p9.theme_bw(base_size=14) +\n",
    " p9.theme(figure_size=(10, 20))\n",
    ")\n"
   ]
  },
  {
   "cell_type": "code",
   "execution_count": null,
   "metadata": {},
   "outputs": [],
   "source": []
  },
  {
   "cell_type": "code",
   "execution_count": null,
   "metadata": {},
   "outputs": [],
   "source": []
  },
  {
   "cell_type": "code",
   "execution_count": null,
   "metadata": {},
   "outputs": [],
   "source": []
  },
  {
   "cell_type": "code",
   "execution_count": null,
   "metadata": {},
   "outputs": [],
   "source": [
    "import cell2cell as c2c\n",
    "from collections import defaultdict"
   ]
  },
  {
   "cell_type": "code",
   "execution_count": null,
   "metadata": {},
   "outputs": [],
   "source": [
    "tensor = li.multi.to_tensor_c2c(adata,\n",
    "                                uns_key='liana_full',\n",
    "                                sample_key=sample_key,\n",
    "                                score_key=score_key, # can be any score from liana\n",
    "                                how='outer_cells' # how to join the samples\n",
    "                                )"
   ]
  },
  {
   "cell_type": "code",
   "execution_count": null,
   "metadata": {},
   "outputs": [],
   "source": [
    "c2c.io.export_variable_with_pickle(tensor, \"tensor_aki.pkl\")"
   ]
  },
  {
   "cell_type": "code",
   "execution_count": null,
   "metadata": {},
   "outputs": [],
   "source": [
    "tensor.shape"
   ]
  },
  {
   "cell_type": "code",
   "execution_count": null,
   "metadata": {},
   "outputs": [],
   "source": []
  },
  {
   "cell_type": "code",
   "execution_count": null,
   "metadata": {},
   "outputs": [],
   "source": []
  },
  {
   "cell_type": "code",
   "execution_count": null,
   "metadata": {},
   "outputs": [],
   "source": [
    "context_dict = adata.obs[[sample_key, condition_key]].drop_duplicates()\n",
    "context_dict = dict(zip(context_dict[sample_key], context_dict[condition_key]))\n",
    "context_dict = defaultdict(lambda: 'Unknown', context_dict)\n",
    "\n",
    "tensor_meta = c2c.tensor.generate_tensor_metadata(interaction_tensor=tensor,\n",
    "                                                  metadata_dicts=[context_dict, None, None, None],\n",
    "                                                  fill_with_order_elements=True\n",
    "                                                  )"
   ]
  },
  {
   "cell_type": "code",
   "execution_count": null,
   "metadata": {},
   "outputs": [],
   "source": [
    "import gc\n",
    "gc.collect()"
   ]
  },
  {
   "cell_type": "code",
   "execution_count": null,
   "metadata": {},
   "outputs": [],
   "source": [
    "tensor = c2c.analysis.run_tensor_cell2cell_pipeline(tensor,\n",
    "                                                    tensor_meta,\n",
    "                                                    copy_tensor=True, # Whether to output a new tensor or modifying the original\n",
    "                                                    rank=10, # Number of factors to perform the factorization. If None, it is automatically determined by an elbow analysis. Here, it was precomuputed.\n",
    "                                                    tf_optimization='regular', # To define how robust we want the analysis to be.\n",
    "                                                    random_state=0, # Random seed for reproducibility\n",
    "                                                    device='cpu', # Device to use. If using GPU and PyTorch, use 'cuda'. For CPU use 'cpu'\n",
    "                                                    elbow_metric='error', # Metric to use in the elbow analysis.\n",
    "                                                    smooth_elbow=False, # Whether smoothing the metric of the elbow analysis.\n",
    "                                                    upper_rank=20, # Max number of factors to try in the elbow analysis\n",
    "                                                    tf_init='random', # Initialization method of the tensor factorization\n",
    "                                                    tf_svd='numpy_svd', # Type of SVD to use if the initialization is 'svd'\n",
    "                                                    cmaps=None, # Color palettes to use in color each of the dimensions. Must be a list of palettes.\n",
    "                                                    sample_col='Element', # Columns containing the elements in the tensor metadata\n",
    "                                                    group_col='Category', # Columns containing the major groups in the tensor metadata\n",
    "                                                    output_fig=False, # Whether to output the figures. If False, figures won't be saved a files if a folder was passed in output_folder.\n",
    "                                                    )\n",
    "\n"
   ]
  },
  {
   "cell_type": "code",
   "execution_count": null,
   "metadata": {},
   "outputs": [],
   "source": [
    "factors, axes = c2c.plotting.tensor_factors_plot(interaction_tensor=tensor,\n",
    "                                                 metadata = tensor_meta, # This is the metadata for each dimension\n",
    "                                                 sample_col='Element',\n",
    "                                                 group_col='Category',\n",
    "                                                 meta_cmaps = ['Dark2_r', None, 'tab20', 'tab20'],\n",
    "                                                 fontsize=10, # Font size of the figures generated\n",
    "                                                 )"
   ]
  },
  {
   "cell_type": "code",
   "execution_count": null,
   "metadata": {},
   "outputs": [],
   "source": []
  }
 ],
 "metadata": {
  "kernelspec": {
   "display_name": "spiana",
   "language": "python",
   "name": "python3"
  },
  "language_info": {
   "codemirror_mode": {
    "name": "ipython",
    "version": 3
   },
   "file_extension": ".py",
   "mimetype": "text/x-python",
   "name": "python",
   "nbconvert_exporter": "python",
   "pygments_lexer": "ipython3",
   "version": "3.10.10"
  },
  "orig_nbformat": 4,
  "vscode": {
   "interpreter": {
    "hash": "b688e7f183144fde965166e58483e32fc6dbc6fc380ccc51d49ef608da0385a8"
   }
  }
 },
 "nbformat": 4,
 "nbformat_minor": 2
}
